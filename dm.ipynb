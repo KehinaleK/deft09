{
 "cells": [
  {
   "cell_type": "code",
   "execution_count": 93,
   "metadata": {},
   "outputs": [],
   "source": [
    "# === Parsing des fichiers XML ===\n",
    "from bs4 import BeautifulSoup\n",
    "\n",
    "# === Préparation de données ===\n",
    "import pandas as pd\n",
    "import numpy as np\n",
    "\n",
    "# === Visualisation ===\n",
    "import matplotlib.pyplot as plt\n",
    "\n",
    "# === Traitement de texte ===\n",
    "import spacy\n",
    "import re\n",
    "import nltk\n",
    "from nltk.corpus import stopwords\n",
    "from nltk.tokenize import word_tokenize\n",
    "from sklearn.feature_extraction.text import TfidfVectorizer, CountVectorizer, HashingVectorizer\n",
    "\n",
    "# === Classification et machine learning ===\n",
    "from sklearn.linear_model import LogisticRegression, RidgeClassifier, SGDClassifier, Perceptron\n",
    "from sklearn.naive_bayes import MultinomialNB, ComplementNB\n",
    "from sklearn.neighbors import KNeighborsClassifier\n",
    "from sklearn.svm import LinearSVC, SVC\n",
    "from sklearn.ensemble import RandomForestClassifier, VotingClassifier\n",
    "from lightgbm import LGBMClassifier\n",
    "\n",
    "# === Évaluation des modèles ===\n",
    "from sklearn.model_selection import cross_val_score\n",
    "from sklearn.metrics import accuracy_score, classification_report\n",
    "\n",
    "# === Autre ===\n",
    "import prettytable\n",
    "from prettytable.colortable import ColorTable, Themes\n",
    "from itertools import product\n",
    "import time"
   ]
  },
  {
   "cell_type": "markdown",
   "metadata": {},
   "source": [
    "# Explications des données"
   ]
  },
  {
   "cell_type": "markdown",
   "metadata": {},
   "source": [
    "On a installé sur le site du [DEFT 2009](https://deft.lisn.upsaclay.fr/) les données pour réaliser la tâche 3 qui est la suivante :\n",
    "- entraîner un modèle qui détermine automatiquement le parti politique d’appartenance de chaque intervenant dans le corpus parlementaire."
   ]
  },
  {
   "cell_type": "markdown",
   "metadata": {},
   "source": [
    "Il y a en tout 5 classes qui correspondent aux différents partis politiques : \n",
    "| Classe (groupe)      | Orientation politique       | Thématiques principales                                   |\n",
    "|--------------|-----------------------------|----------------------------------------------------------|\n",
    "| **Verts-ALE** | Écologistes et régionalistes | Environnement, droits des minorités, économie durable    |\n",
    "| **GUE/NGL**   | Gauche radicale             | Justice sociale, opposition à l'austérité, droits des travailleurs |\n",
    "| **PSE**       | Social-démocrates           | Réduction des inégalités, protection sociale, intégration européenne |\n",
    "| **ELDR**      | Libéraux                   | Libre marché, libertés individuelles, droits de l'homme  |\n",
    "| **PPE-DE**    | Conservateurs              | Économie sociale de marché, valeurs chrétiennes, sécurité |\n"
   ]
  },
  {
   "cell_type": "markdown",
   "metadata": {},
   "source": [
    "Notre corpus est multilingue, c'est-à-dire qu'il contient plusieurs langues différentes telles que le français, l'anglais et l'italien. C'est donc un corpus parallèle et comparable auquel nous avons affaire. "
   ]
  },
  {
   "cell_type": "markdown",
   "metadata": {},
   "source": [
    "# Extraction des données"
   ]
  },
  {
   "cell_type": "markdown",
   "metadata": {},
   "source": [
    "Les données que nous avons téléchargé sur le site sont en format xml, il va donc nous falloir les parser pour les récolter. Pour cela, nous allons utilisé la librairie BeautifulSoup. Après avoir ouvert les fichiers et analysé les différentes balises pour pouvoir les extraire : texte, id, valeur (label) et confiance et nombre (demandez à K moi non plus je sais pas)."
   ]
  },
  {
   "cell_type": "code",
   "execution_count": 94,
   "metadata": {},
   "outputs": [],
   "source": [
    "def get_xml_content(file):\n",
    "    \"\"\" On se préparer à parser les fichiers xml\"\"\"\n",
    "    with open(file, \"r\") as f:\n",
    "        soup = BeautifulSoup(f, \"xml\")\n",
    "        \n",
    "    return soup"
   ]
  },
  {
   "cell_type": "code",
   "execution_count": 95,
   "metadata": {},
   "outputs": [],
   "source": [
    "def extract_train_info(doc):\n",
    "    \"\"\" On extrait les différentes balises\"\"\"\n",
    "    doc_dico = {}\n",
    "\n",
    "    # Extraire l'id\n",
    "    doc_id = doc.get(\"id\")\n",
    "    doc_dico[\"id\"] = doc_id\n",
    "\n",
    "   # Extraire l'évaluation : nombre, valeur (label) et confiance\n",
    "    evaluation = doc.find(\"EVALUATION\")\n",
    "    evaluation_parti = evaluation.find(\"EVAL_PARTI\")\n",
    "    doc_dico[\"nombre\"] = evaluation_parti.get(\"nombre\")\n",
    "\n",
    "    parti = evaluation_parti.find(\"PARTI\")\n",
    "    doc_dico[\"valeur\"] = parti.get(\"valeur\")\n",
    "    doc_dico[\"confiance\"] = parti.get(\"confiance\")\n",
    "\n",
    "    # Extraire le texte\n",
    "    texte = doc.find(\"p\")\n",
    "    doc_dico[\"texte\"] = texte.text\n",
    "\n",
    "    return doc_dico"
   ]
  },
  {
   "cell_type": "code",
   "execution_count": 96,
   "metadata": {},
   "outputs": [],
   "source": [
    "def get_test_labels(file):\n",
    "    \n",
    "    with open(file, \"r\") as f:\n",
    "        lines = f.readlines()\n",
    "\n",
    "    lines = [line.split(\"\\t\") for line in lines]\n",
    "    labels = {line[0]: line[1].strip() for line in lines}\n",
    "\n",
    "    return labels"
   ]
  },
  {
   "cell_type": "markdown",
   "metadata": {},
   "source": [
    "J'ai remarqué plus tard que deux textes de l'ensemble de test n'avaient pas de labels"
   ]
  },
  {
   "cell_type": "code",
   "execution_count": 97,
   "metadata": {},
   "outputs": [
    {
     "name": "stdout",
     "output_type": "stream",
     "text": [
      "1175\n",
      "4574\n"
     ]
    }
   ],
   "source": [
    "labels = get_test_labels(\"data/ref/deft09_parlement_ref_fr.txt\")\n",
    "for key, value in labels.items():\n",
    "    if value == \"\":\n",
    "        print(key)"
   ]
  },
  {
   "cell_type": "markdown",
   "metadata": {},
   "source": [
    "Je fais donc en sorte lorsque j'obtiens la df que si la valeur est égale à \"\" alors je ne prends pas le texte en compte."
   ]
  },
  {
   "cell_type": "code",
   "execution_count": 98,
   "metadata": {},
   "outputs": [],
   "source": [
    "def extract_test_info(doc):\n",
    "\n",
    "    doc_dico = {}\n",
    "\n",
    "    doc_id = doc.get(\"id\")\n",
    "    doc_dico[\"id\"] = doc_id\n",
    "\n",
    "    texte = doc.find(\"p\")\n",
    "    doc_dico[\"texte\"] = texte.text\n",
    "\n",
    "    return doc_dico"
   ]
  },
  {
   "cell_type": "code",
   "execution_count": 99,
   "metadata": {},
   "outputs": [],
   "source": [
    "def get_train_and_test_df(train_file, test_file, ref_file):\n",
    "\n",
    "    soup_train = get_xml_content(train_file)\n",
    "    soup_test = get_xml_content(test_file)\n",
    "\n",
    "    test_labels = get_test_labels(ref_file)\n",
    "\n",
    "    all_docs = []\n",
    "    for doc in soup_train.find_all(\"doc\"):\n",
    "        doc_dico = extract_train_info(doc)\n",
    "        all_docs.append(doc_dico)\n",
    "    \n",
    "    df_train = pd.DataFrame(all_docs)\n",
    "\n",
    "    all_docs = []\n",
    "    for doc in soup_test.find_all(\"doc\"):\n",
    "        doc_dico = extract_test_info(doc)\n",
    "        if test_labels[doc_dico[\"id\"]] == \"\": # pour les deux textes sans label dans le fichier de référence\n",
    "            continue\n",
    "        doc_dico[\"valeur\"] = test_labels[doc_dico[\"id\"]]\n",
    "        all_docs.append(doc_dico)\n",
    "\n",
    "    df_test = pd.DataFrame(all_docs)\n",
    "    \n",
    "    return df_train, df_test"
   ]
  },
  {
   "cell_type": "code",
   "execution_count": 100,
   "metadata": {},
   "outputs": [],
   "source": [
    "df_train, df_test = get_train_and_test_df(\"data/train/deft09_parlement_appr_fr.xml\", \"data/test/deft09_parlement_test_fr.xml\", \"data/ref/deft09_parlement_ref_fr.txt\")"
   ]
  },
  {
   "cell_type": "markdown",
   "metadata": {},
   "source": [
    "### Test pour la visu"
   ]
  },
  {
   "cell_type": "code",
   "execution_count": 101,
   "metadata": {},
   "outputs": [],
   "source": [
    "def preparer_distributions_classes(df_train, df_test):\n",
    "    \"\"\" Fonction pour préparer les données et pas les répéter 2 fois \"\"\"\n",
    "    train_counts = df_train[\"valeur\"].value_counts()\n",
    "    test_counts = df_test[\"valeur\"].value_counts()\n",
    "\n",
    "    ################################################\n",
    "    #  changer valeur par label pour la cohérence  #\n",
    "    ################################################\n",
    "\n",
    "    classes = list(set(train_counts.index).union(set(test_counts.index)))\n",
    "\n",
    "    # on met 0 si y'a pas de classe\n",
    "    train_values = np.array([train_counts.get(cls, 0) for cls in classes])\n",
    "    test_values = np.array([test_counts.get(cls, 0) for cls in classes])\n",
    "\n",
    "    return classes, train_values, test_values"
   ]
  },
  {
   "cell_type": "code",
   "execution_count": 102,
   "metadata": {},
   "outputs": [
    {
     "data": {
      "image/png": "[encoded data removed]",
      "text/plain": [
       "<Figure size 1000x600 with 1 Axes>"
      ]
     },
     "metadata": {},
     "output_type": "display_data"
    }
   ],
   "source": [
    "def distribution_des_classes(df_train, df_test):\n",
    "    \"\"\" On affiche le plot des distributions des classes\"\"\"\n",
    "    classes, train_values, test_values = preparer_distributions_classes(df_train, df_test)\n",
    "\n",
    "    x = np.arange(len(classes))\n",
    "    width = 0.40\n",
    "\n",
    "    fig, ax = plt.subplots(figsize=(10, 6))\n",
    "    ax.bar(x - width/2, train_values, width, label=\"Données train\", color=\"orchid\")\n",
    "    ax.bar(x + width/2, test_values, width, label=\"Données test\", color=\"pink\")\n",
    "\n",
    "    ax.set_xlabel(\"Classes (noms des partis politiques)\")\n",
    "    ax.set_ylabel(\"Nombre d'exemples\")\n",
    "    ax.set_title(\"Distribution des classes dans train et test\")\n",
    "    ax.set_xticks(x)\n",
    "    ax.set_xticklabels(classes, rotation=45)\n",
    "    ax.legend()\n",
    "\n",
    "    plt.tight_layout()\n",
    "    plt.show()\n",
    "\n",
    "distribution_des_classes(df_train, df_test)"
   ]
  },
  {
   "cell_type": "code",
   "execution_count": 103,
   "metadata": {},
   "outputs": [
    {
     "name": "stdout",
     "output_type": "stream",
     "text": [
      "Pourcentage de la part du test\n",
      "==============================\n",
      "\u001b[38;5;219m+\u001b[0m\u001b[38;5;183m\u001b[38;5;147m-\u001b[0m\u001b[38;5;183m\u001b[38;5;147m-\u001b[0m\u001b[38;5;183m\u001b[38;5;147m-\u001b[0m\u001b[38;5;183m\u001b[38;5;147m-\u001b[0m\u001b[38;5;183m\u001b[38;5;147m-\u001b[0m\u001b[38;5;183m\u001b[38;5;147m-\u001b[0m\u001b[38;5;183m\u001b[38;5;147m-\u001b[0m\u001b[38;5;183m\u001b[38;5;147m-\u001b[0m\u001b[38;5;183m\u001b[38;5;147m-\u001b[0m\u001b[38;5;183m\u001b[38;5;147m-\u001b[0m\u001b[38;5;183m\u001b[38;5;147m-\u001b[0m\u001b[38;5;183m\u001b[38;5;219m+\u001b[0m\u001b[38;5;183m\u001b[38;5;147m-\u001b[0m\u001b[38;5;183m\u001b[38;5;147m-\u001b[0m\u001b[38;5;183m\u001b[38;5;147m-\u001b[0m\u001b[38;5;183m\u001b[38;5;147m-\u001b[0m\u001b[38;5;183m\u001b[38;5;147m-\u001b[0m\u001b[38;5;183m\u001b[38;5;147m-\u001b[0m\u001b[38;5;183m\u001b[38;5;147m-\u001b[0m\u001b[38;5;183m\u001b[38;5;219m+\u001b[0m\u001b[38;5;183m\u001b[38;5;147m-\u001b[0m\u001b[38;5;183m\u001b[38;5;147m-\u001b[0m\u001b[38;5;183m\u001b[38;5;147m-\u001b[0m\u001b[38;5;183m\u001b[38;5;147m-\u001b[0m\u001b[38;5;183m\u001b[38;5;147m-\u001b[0m\u001b[38;5;183m\u001b[38;5;147m-\u001b[0m\u001b[38;5;183m\u001b[38;5;219m+\u001b[0m\u001b[38;5;183m\u001b[38;5;147m-\u001b[0m\u001b[38;5;183m\u001b[38;5;147m-\u001b[0m\u001b[38;5;183m\u001b[38;5;147m-\u001b[0m\u001b[38;5;183m\u001b[38;5;147m-\u001b[0m\u001b[38;5;183m\u001b[38;5;147m-\u001b[0m\u001b[38;5;183m\u001b[38;5;147m-\u001b[0m\u001b[38;5;183m\u001b[38;5;147m-\u001b[0m\u001b[38;5;183m\u001b[38;5;147m-\u001b[0m\u001b[38;5;183m\u001b[38;5;147m-\u001b[0m\u001b[38;5;183m\u001b[38;5;147m-\u001b[0m\u001b[38;5;183m\u001b[38;5;147m-\u001b[0m\u001b[38;5;183m\u001b[38;5;147m-\u001b[0m\u001b[38;5;183m\u001b[38;5;147m-\u001b[0m\u001b[38;5;183m\u001b[38;5;219m+\u001b[0m\u001b[38;5;183m\n",
      "\u001b[35m|\u001b[0m\u001b[38;5;183m   Classe  \u001b[35m|\u001b[0m\u001b[38;5;183m Train \u001b[35m|\u001b[0m\u001b[38;5;183m Test \u001b[35m|\u001b[0m\u001b[38;5;183m Pourcentage \u001b[35m|\u001b[0m\u001b[38;5;183m\n",
      "\u001b[38;5;219m+\u001b[0m\u001b[38;5;183m\u001b[38;5;147m-\u001b[0m\u001b[38;5;183m\u001b[38;5;147m-\u001b[0m\u001b[38;5;183m\u001b[38;5;147m-\u001b[0m\u001b[38;5;183m\u001b[38;5;147m-\u001b[0m\u001b[38;5;183m\u001b[38;5;147m-\u001b[0m\u001b[38;5;183m\u001b[38;5;147m-\u001b[0m\u001b[38;5;183m\u001b[38;5;147m-\u001b[0m\u001b[38;5;183m\u001b[38;5;147m-\u001b[0m\u001b[38;5;183m\u001b[38;5;147m-\u001b[0m\u001b[38;5;183m\u001b[38;5;147m-\u001b[0m\u001b[38;5;183m\u001b[38;5;147m-\u001b[0m\u001b[38;5;183m\u001b[38;5;219m+\u001b[0m\u001b[38;5;183m\u001b[38;5;147m-\u001b[0m\u001b[38;5;183m\u001b[38;5;147m-\u001b[0m\u001b[38;5;183m\u001b[38;5;147m-\u001b[0m\u001b[38;5;183m\u001b[38;5;147m-\u001b[0m\u001b[38;5;183m\u001b[38;5;147m-\u001b[0m\u001b[38;5;183m\u001b[38;5;147m-\u001b[0m\u001b[38;5;183m\u001b[38;5;147m-\u001b[0m\u001b[38;5;183m\u001b[38;5;219m+\u001b[0m\u001b[38;5;183m\u001b[38;5;147m-\u001b[0m\u001b[38;5;183m\u001b[38;5;147m-\u001b[0m\u001b[38;5;183m\u001b[38;5;147m-\u001b[0m\u001b[38;5;183m\u001b[38;5;147m-\u001b[0m\u001b[38;5;183m\u001b[38;5;147m-\u001b[0m\u001b[38;5;183m\u001b[38;5;147m-\u001b[0m\u001b[38;5;183m\u001b[38;5;219m+\u001b[0m\u001b[38;5;183m\u001b[38;5;147m-\u001b[0m\u001b[38;5;183m\u001b[38;5;147m-\u001b[0m\u001b[38;5;183m\u001b[38;5;147m-\u001b[0m\u001b[38;5;183m\u001b[38;5;147m-\u001b[0m\u001b[38;5;183m\u001b[38;5;147m-\u001b[0m\u001b[38;5;183m\u001b[38;5;147m-\u001b[0m\u001b[38;5;183m\u001b[38;5;147m-\u001b[0m\u001b[38;5;183m\u001b[38;5;147m-\u001b[0m\u001b[38;5;183m\u001b[38;5;147m-\u001b[0m\u001b[38;5;183m\u001b[38;5;147m-\u001b[0m\u001b[38;5;183m\u001b[38;5;147m-\u001b[0m\u001b[38;5;183m\u001b[38;5;147m-\u001b[0m\u001b[38;5;183m\u001b[38;5;147m-\u001b[0m\u001b[38;5;183m\u001b[38;5;219m+\u001b[0m\u001b[38;5;183m\n",
      "\u001b[35m|\u001b[0m\u001b[38;5;183m Verts-ALE \u001b[35m|\u001b[0m\u001b[38;5;183m  2376 \u001b[35m|\u001b[0m\u001b[38;5;183m 1585 \u001b[35m|\u001b[0m\u001b[38;5;183m    40.02%   \u001b[35m|\u001b[0m\u001b[38;5;183m\n",
      "\u001b[35m|\u001b[0m\u001b[38;5;183m    PSE    \u001b[35m|\u001b[0m\u001b[38;5;183m  5440 \u001b[35m|\u001b[0m\u001b[38;5;183m 3627 \u001b[35m|\u001b[0m\u001b[38;5;183m    40.00%   \u001b[35m|\u001b[0m\u001b[38;5;183m\n",
      "\u001b[35m|\u001b[0m\u001b[38;5;183m    ELDR   \u001b[35m|\u001b[0m\u001b[38;5;183m  2008 \u001b[35m|\u001b[0m\u001b[38;5;183m 1339 \u001b[35m|\u001b[0m\u001b[38;5;183m    40.01%   \u001b[35m|\u001b[0m\u001b[38;5;183m\n",
      "\u001b[35m|\u001b[0m\u001b[38;5;183m   PPE-DE  \u001b[35m|\u001b[0m\u001b[38;5;183m  6858 \u001b[35m|\u001b[0m\u001b[38;5;183m 4571 \u001b[35m|\u001b[0m\u001b[38;5;183m    39.99%   \u001b[35m|\u001b[0m\u001b[38;5;183m\n",
      "\u001b[35m|\u001b[0m\u001b[38;5;183m  GUE-NGL  \u001b[35m|\u001b[0m\u001b[38;5;183m  2688 \u001b[35m|\u001b[0m\u001b[38;5;183m 1793 \u001b[35m|\u001b[0m\u001b[38;5;183m    40.01%   \u001b[35m|\u001b[0m\u001b[38;5;183m\n",
      "\u001b[38;5;219m+\u001b[0m\u001b[38;5;183m\u001b[38;5;147m-\u001b[0m\u001b[38;5;183m\u001b[38;5;147m-\u001b[0m\u001b[38;5;183m\u001b[38;5;147m-\u001b[0m\u001b[38;5;183m\u001b[38;5;147m-\u001b[0m\u001b[38;5;183m\u001b[38;5;147m-\u001b[0m\u001b[38;5;183m\u001b[38;5;147m-\u001b[0m\u001b[38;5;183m\u001b[38;5;147m-\u001b[0m\u001b[38;5;183m\u001b[38;5;147m-\u001b[0m\u001b[38;5;183m\u001b[38;5;147m-\u001b[0m\u001b[38;5;183m\u001b[38;5;147m-\u001b[0m\u001b[38;5;183m\u001b[38;5;147m-\u001b[0m\u001b[38;5;183m\u001b[38;5;219m+\u001b[0m\u001b[38;5;183m\u001b[38;5;147m-\u001b[0m\u001b[38;5;183m\u001b[38;5;147m-\u001b[0m\u001b[38;5;183m\u001b[38;5;147m-\u001b[0m\u001b[38;5;183m\u001b[38;5;147m-\u001b[0m\u001b[38;5;183m\u001b[38;5;147m-\u001b[0m\u001b[38;5;183m\u001b[38;5;147m-\u001b[0m\u001b[38;5;183m\u001b[38;5;147m-\u001b[0m\u001b[38;5;183m\u001b[38;5;219m+\u001b[0m\u001b[38;5;183m\u001b[38;5;147m-\u001b[0m\u001b[38;5;183m\u001b[38;5;147m-\u001b[0m\u001b[38;5;183m\u001b[38;5;147m-\u001b[0m\u001b[38;5;183m\u001b[38;5;147m-\u001b[0m\u001b[38;5;183m\u001b[38;5;147m-\u001b[0m\u001b[38;5;183m\u001b[38;5;147m-\u001b[0m\u001b[38;5;183m\u001b[38;5;219m+\u001b[0m\u001b[38;5;183m\u001b[38;5;147m-\u001b[0m\u001b[38;5;183m\u001b[38;5;147m-\u001b[0m\u001b[38;5;183m\u001b[38;5;147m-\u001b[0m\u001b[38;5;183m\u001b[38;5;147m-\u001b[0m\u001b[38;5;183m\u001b[38;5;147m-\u001b[0m\u001b[38;5;183m\u001b[38;5;147m-\u001b[0m\u001b[38;5;183m\u001b[38;5;147m-\u001b[0m\u001b[38;5;183m\u001b[38;5;147m-\u001b[0m\u001b[38;5;183m\u001b[38;5;147m-\u001b[0m\u001b[38;5;183m\u001b[38;5;147m-\u001b[0m\u001b[38;5;183m\u001b[38;5;147m-\u001b[0m\u001b[38;5;183m\u001b[38;5;147m-\u001b[0m\u001b[38;5;183m\u001b[38;5;147m-\u001b[0m\u001b[38;5;183m\u001b[38;5;219m+\u001b[0m\u001b[38;5;183m\u001b[0m\n",
      "\n",
      "Résumé des totaux\n",
      "=================\n",
      "Total Train : 19370\n",
      "Total Test  : 12915\n",
      "Pourcentage Global Test : 40.00%\n"
     ]
    }
   ],
   "source": [
    "prettytable_test_pourcentage = ColorTable(theme=Themes.LAVENDER)\n",
    "prettytable_test_pourcentage.field_names = [\"Classe\", \"Train\", \"Test\", \"Pourcentage\"]\n",
    "\n",
    "def tableau_test_pourcentage(df_train, df_test):\n",
    "    classes, train_values, test_values = preparer_distributions_classes(df_train, df_test)\n",
    "\n",
    "    # on met des 0 à la place des NaN pour éviter les divisions par zéro\n",
    "    pourcentage_test = ((test_values / (test_values + train_values)) * 100)\n",
    "    pourcentage_test = np.nan_to_num(pourcentage_test) \n",
    "\n",
    "    for cls, train, test, pourcentage in zip(classes, train_values, test_values, pourcentage_test):\n",
    "        prettytable_test_pourcentage.add_row([cls, train, test, f\"{pourcentage:.2f}%\"])\n",
    "    \n",
    "    total_train = np.sum(train_values)\n",
    "    total_test = np.sum(test_values)\n",
    "    pourcentage_global = (total_test / (total_train + total_test)) * 100\n",
    "\n",
    "    title = \"Pourcentage de la part du test\"\n",
    "    print(f\"{title}\\n\" + \"=\" * len(title))\n",
    "    print(prettytable_test_pourcentage)\n",
    "    print(\"\\nRésumé des totaux\\n\" + \"=\" * len(\"Résumé des totaux\"))\n",
    "    print(f\"Total Train : {total_train}\")\n",
    "    print(f\"Total Test  : {total_test}\")\n",
    "    print(f\"Pourcentage Global Test : {pourcentage_global:.2f}%\")\n",
    "    \n",
    "tableau_test_pourcentage(df_train, df_test)"
   ]
  },
  {
   "cell_type": "code",
   "execution_count": 104,
   "metadata": {},
   "outputs": [
    {
     "data": {
      "text/html": [
       "<div>\n",
       "<style scoped>\n",
       "    .dataframe tbody tr th:only-of-type {\n",
       "        vertical-align: middle;\n",
       "    }\n",
       "\n",
       "    .dataframe tbody tr th {\n",
       "        vertical-align: top;\n",
       "    }\n",
       "\n",
       "    .dataframe thead th {\n",
       "        text-align: right;\n",
       "    }\n",
       "</style>\n",
       "<table border=\"1\" class=\"dataframe\">\n",
       "  <thead>\n",
       "    <tr style=\"text-align: right;\">\n",
       "      <th></th>\n",
       "      <th>id</th>\n",
       "      <th>nombre</th>\n",
       "      <th>valeur</th>\n",
       "      <th>confiance</th>\n",
       "      <th>texte</th>\n",
       "    </tr>\n",
       "  </thead>\n",
       "  <tbody>\n",
       "    <tr>\n",
       "      <th>0</th>\n",
       "      <td>2_fr:1</td>\n",
       "      <td>1</td>\n",
       "      <td>Verts-ALE</td>\n",
       "      <td>1.00</td>\n",
       "      <td>Monsieur le Président, j'ai toujours fait preu...</td>\n",
       "    </tr>\n",
       "    <tr>\n",
       "      <th>1</th>\n",
       "      <td>2_fr:2</td>\n",
       "      <td>1</td>\n",
       "      <td>PPE-DE</td>\n",
       "      <td>1.00</td>\n",
       "      <td>Madame la Présidente, chers collègues, à l'app...</td>\n",
       "    </tr>\n",
       "    <tr>\n",
       "      <th>2</th>\n",
       "      <td>2_fr:3</td>\n",
       "      <td>1</td>\n",
       "      <td>Verts-ALE</td>\n",
       "      <td>1.00</td>\n",
       "      <td>Je voudrais savoir si l'Union européenne, à la...</td>\n",
       "    </tr>\n",
       "    <tr>\n",
       "      <th>3</th>\n",
       "      <td>2_fr:4</td>\n",
       "      <td>1</td>\n",
       "      <td>PSE</td>\n",
       "      <td>1.00</td>\n",
       "      <td>Madame la Présidente, au nom des  de la commis...</td>\n",
       "    </tr>\n",
       "    <tr>\n",
       "      <th>4</th>\n",
       "      <td>2_fr:5</td>\n",
       "      <td>1</td>\n",
       "      <td>PSE</td>\n",
       "      <td>1.00</td>\n",
       "      <td>Monsieur le Président, chers collègues, Monsie...</td>\n",
       "    </tr>\n",
       "    <tr>\n",
       "      <th>...</th>\n",
       "      <td>...</td>\n",
       "      <td>...</td>\n",
       "      <td>...</td>\n",
       "      <td>...</td>\n",
       "      <td>...</td>\n",
       "    </tr>\n",
       "    <tr>\n",
       "      <th>19365</th>\n",
       "      <td>2_fr:19366</td>\n",
       "      <td>1</td>\n",
       "      <td>PSE</td>\n",
       "      <td>1.00</td>\n",
       "      <td>Monsieur le Président, je voudrais tout d’abor...</td>\n",
       "    </tr>\n",
       "    <tr>\n",
       "      <th>19366</th>\n",
       "      <td>2_fr:19367</td>\n",
       "      <td>1</td>\n",
       "      <td>PPE-DE</td>\n",
       "      <td>1.00</td>\n",
       "      <td>Monsieur le Président, Monsieur le Commissaire...</td>\n",
       "    </tr>\n",
       "    <tr>\n",
       "      <th>19367</th>\n",
       "      <td>2_fr:19368</td>\n",
       "      <td>1</td>\n",
       "      <td>PPE-DE</td>\n",
       "      <td>1.00</td>\n",
       "      <td>Monsieur le Président, je tiens à déclarer, au...</td>\n",
       "    </tr>\n",
       "    <tr>\n",
       "      <th>19368</th>\n",
       "      <td>2_fr:19369</td>\n",
       "      <td>1</td>\n",
       "      <td>PPE-DE</td>\n",
       "      <td>1.00</td>\n",
       "      <td>Monsieur le Président, l’aide à l’Albanie et à...</td>\n",
       "    </tr>\n",
       "    <tr>\n",
       "      <th>19369</th>\n",
       "      <td>2_fr:19370</td>\n",
       "      <td>1</td>\n",
       "      <td>PPE-DE</td>\n",
       "      <td>1.00</td>\n",
       "      <td>Monsieur le Président, le rapport de Mme Zorba...</td>\n",
       "    </tr>\n",
       "  </tbody>\n",
       "</table>\n",
       "<p>19370 rows × 5 columns</p>\n",
       "</div>"
      ],
      "text/plain": [
       "               id nombre     valeur confiance  \\\n",
       "0          2_fr:1      1  Verts-ALE      1.00   \n",
       "1          2_fr:2      1     PPE-DE      1.00   \n",
       "2          2_fr:3      1  Verts-ALE      1.00   \n",
       "3          2_fr:4      1        PSE      1.00   \n",
       "4          2_fr:5      1        PSE      1.00   \n",
       "...           ...    ...        ...       ...   \n",
       "19365  2_fr:19366      1        PSE      1.00   \n",
       "19366  2_fr:19367      1     PPE-DE      1.00   \n",
       "19367  2_fr:19368      1     PPE-DE      1.00   \n",
       "19368  2_fr:19369      1     PPE-DE      1.00   \n",
       "19369  2_fr:19370      1     PPE-DE      1.00   \n",
       "\n",
       "                                                   texte  \n",
       "0      Monsieur le Président, j'ai toujours fait preu...  \n",
       "1      Madame la Présidente, chers collègues, à l'app...  \n",
       "2      Je voudrais savoir si l'Union européenne, à la...  \n",
       "3      Madame la Présidente, au nom des  de la commis...  \n",
       "4      Monsieur le Président, chers collègues, Monsie...  \n",
       "...                                                  ...  \n",
       "19365  Monsieur le Président, je voudrais tout d’abor...  \n",
       "19366  Monsieur le Président, Monsieur le Commissaire...  \n",
       "19367  Monsieur le Président, je tiens à déclarer, au...  \n",
       "19368  Monsieur le Président, l’aide à l’Albanie et à...  \n",
       "19369  Monsieur le Président, le rapport de Mme Zorba...  \n",
       "\n",
       "[19370 rows x 5 columns]"
      ]
     },
     "execution_count": 104,
     "metadata": {},
     "output_type": "execute_result"
    }
   ],
   "source": [
    "df_train"
   ]
  },
  {
   "cell_type": "code",
   "execution_count": 105,
   "metadata": {},
   "outputs": [
    {
     "data": {
      "text/html": [
       "<div>\n",
       "<style scoped>\n",
       "    .dataframe tbody tr th:only-of-type {\n",
       "        vertical-align: middle;\n",
       "    }\n",
       "\n",
       "    .dataframe tbody tr th {\n",
       "        vertical-align: top;\n",
       "    }\n",
       "\n",
       "    .dataframe thead th {\n",
       "        text-align: right;\n",
       "    }\n",
       "</style>\n",
       "<table border=\"1\" class=\"dataframe\">\n",
       "  <thead>\n",
       "    <tr style=\"text-align: right;\">\n",
       "      <th></th>\n",
       "      <th>id</th>\n",
       "      <th>texte</th>\n",
       "      <th>valeur</th>\n",
       "    </tr>\n",
       "  </thead>\n",
       "  <tbody>\n",
       "    <tr>\n",
       "      <th>0</th>\n",
       "      <td>1</td>\n",
       "      <td>Monsieur le Président, l'accès à des médias li...</td>\n",
       "      <td>ELDR</td>\n",
       "    </tr>\n",
       "    <tr>\n",
       "      <th>1</th>\n",
       "      <td>2</td>\n",
       "      <td>Monsieur le Président, j'ai un point de vue di...</td>\n",
       "      <td>GUE-NGL</td>\n",
       "    </tr>\n",
       "    <tr>\n",
       "      <th>2</th>\n",
       "      <td>3</td>\n",
       "      <td>Monsieur le Président, Monsieur le Commissaire...</td>\n",
       "      <td>PPE-DE</td>\n",
       "    </tr>\n",
       "    <tr>\n",
       "      <th>3</th>\n",
       "      <td>4</td>\n",
       "      <td>Nous ne pouvons soutenir cette tentative d’éri...</td>\n",
       "      <td>GUE-NGL</td>\n",
       "    </tr>\n",
       "    <tr>\n",
       "      <th>4</th>\n",
       "      <td>5</td>\n",
       "      <td>Monsieur le Président, ce court débat se dérou...</td>\n",
       "      <td>PPE-DE</td>\n",
       "    </tr>\n",
       "    <tr>\n",
       "      <th>...</th>\n",
       "      <td>...</td>\n",
       "      <td>...</td>\n",
       "      <td>...</td>\n",
       "    </tr>\n",
       "    <tr>\n",
       "      <th>12910</th>\n",
       "      <td>12913</td>\n",
       "      <td>Monsieur le Président, Madame la Commissaire, ...</td>\n",
       "      <td>PPE-DE</td>\n",
       "    </tr>\n",
       "    <tr>\n",
       "      <th>12911</th>\n",
       "      <td>12914</td>\n",
       "      <td>Monsieur le Président, Monsieur le Commissaire...</td>\n",
       "      <td>PPE-DE</td>\n",
       "    </tr>\n",
       "    <tr>\n",
       "      <th>12912</th>\n",
       "      <td>12915</td>\n",
       "      <td>Madame la Présidente, permettez-moi de m'adres...</td>\n",
       "      <td>ELDR</td>\n",
       "    </tr>\n",
       "    <tr>\n",
       "      <th>12913</th>\n",
       "      <td>12916</td>\n",
       "      <td>Grâce à la proposition de directive dont trait...</td>\n",
       "      <td>GUE-NGL</td>\n",
       "    </tr>\n",
       "    <tr>\n",
       "      <th>12914</th>\n",
       "      <td>12917</td>\n",
       "      <td>Monsieur le Président, après le Timor oriental...</td>\n",
       "      <td>PSE</td>\n",
       "    </tr>\n",
       "  </tbody>\n",
       "</table>\n",
       "<p>12915 rows × 3 columns</p>\n",
       "</div>"
      ],
      "text/plain": [
       "          id                                              texte   valeur\n",
       "0          1  Monsieur le Président, l'accès à des médias li...     ELDR\n",
       "1          2  Monsieur le Président, j'ai un point de vue di...  GUE-NGL\n",
       "2          3  Monsieur le Président, Monsieur le Commissaire...   PPE-DE\n",
       "3          4  Nous ne pouvons soutenir cette tentative d’éri...  GUE-NGL\n",
       "4          5  Monsieur le Président, ce court débat se dérou...   PPE-DE\n",
       "...      ...                                                ...      ...\n",
       "12910  12913  Monsieur le Président, Madame la Commissaire, ...   PPE-DE\n",
       "12911  12914  Monsieur le Président, Monsieur le Commissaire...   PPE-DE\n",
       "12912  12915  Madame la Présidente, permettez-moi de m'adres...     ELDR\n",
       "12913  12916  Grâce à la proposition de directive dont trait...  GUE-NGL\n",
       "12914  12917  Monsieur le Président, après le Timor oriental...      PSE\n",
       "\n",
       "[12915 rows x 3 columns]"
      ]
     },
     "execution_count": 105,
     "metadata": {},
     "output_type": "execute_result"
    }
   ],
   "source": [
    "df_test"
   ]
  },
  {
   "cell_type": "markdown",
   "metadata": {},
   "source": [
    "# Présentation des données"
   ]
  },
  {
   "cell_type": "markdown",
   "metadata": {},
   "source": [
    "## Doublons"
   ]
  },
  {
   "cell_type": "markdown",
   "metadata": {},
   "source": [
    "### Combien de doublons ?"
   ]
  },
  {
   "cell_type": "code",
   "execution_count": 106,
   "metadata": {},
   "outputs": [],
   "source": [
    "train_texts = df_train[\"texte\"].to_list()\n",
    "test_texts = df_test[\"texte\"].to_list()"
   ]
  },
  {
   "cell_type": "code",
   "execution_count": 107,
   "metadata": {},
   "outputs": [],
   "source": [
    "def check_copy(train_texts, test_texts):\n",
    "\n",
    "    num_copy = 0\n",
    "\n",
    "    for text in train_texts:\n",
    "        if text in test_texts:\n",
    "            num_copy += 1\n",
    "\n",
    "    return num_copy"
   ]
  },
  {
   "cell_type": "code",
   "execution_count": 108,
   "metadata": {},
   "outputs": [
    {
     "name": "stdout",
     "output_type": "stream",
     "text": [
      "Il y a 7813 textes en commun entre les données d'entraînement et de test.\n"
     ]
    }
   ],
   "source": [
    "num_copy = check_copy(train_texts, test_texts)\n",
    "print(f\"Il y a {num_copy} textes en commun entre les données d'entraînement et de test.\")"
   ]
  },
  {
   "cell_type": "markdown",
   "metadata": {},
   "source": [
    "### On veut atteindre une distribution"
   ]
  },
  {
   "cell_type": "markdown",
   "metadata": {},
   "source": [
    "Répartition des sets = 60 et 40"
   ]
  },
  {
   "cell_type": "code",
   "execution_count": 109,
   "metadata": {},
   "outputs": [],
   "source": [
    "def get_distribution(df_train, df_test):\n",
    "\n",
    "    total_texts = len(df_train) + len(df_test)\n",
    "    percentage_train = len(df_train) / total_texts * 100\n",
    "    percentage_test = len(df_test) / total_texts * 100\n",
    "\n",
    "    return percentage_train, percentage_test"
   ]
  },
  {
   "cell_type": "code",
   "execution_count": 110,
   "metadata": {},
   "outputs": [
    {
     "name": "stdout",
     "output_type": "stream",
     "text": [
      "Pourcentage de textes d'entraînement : 60.00%\n",
      "Pourcentage de textes de test : 40.00%\n"
     ]
    }
   ],
   "source": [
    "percentage_train, percentage_test = get_distribution(df_train, df_test)\n",
    "print(f\"Pourcentage de textes d'entraînement : {percentage_train:.2f}%\")\n",
    "print(f\"Pourcentage de textes de test : {percentage_test:.2f}%\")"
   ]
  },
  {
   "cell_type": "markdown",
   "metadata": {},
   "source": [
    "On veut enlever les doublons tout en essayant de conserver cette distribution."
   ]
  },
  {
   "cell_type": "code",
   "execution_count": 111,
   "metadata": {},
   "outputs": [],
   "source": [
    "def balance_distribution(df_train, df_test):\n",
    "\n",
    "    train_texts = df_train[\"texte\"].to_list()\n",
    "    test_texts = df_test[\"texte\"].to_list()\n",
    "\n",
    "    for text in train_texts:\n",
    "        if text in test_texts:\n",
    "            percentage_train, percentage_test = get_distribution(df_train, df_test)\n",
    "            difference_train = abs(percentage_train - 60)\n",
    "            difference_test = abs(percentage_test - 40)\n",
    "\n",
    "            if difference_train > difference_test:\n",
    "                df_test = df_test[df_test[\"texte\"] != text]\n",
    "            else:\n",
    "                df_train = df_train[df_train[\"texte\"] != text]\n",
    "\n",
    "    return df_train, df_test"
   ]
  },
  {
   "cell_type": "code",
   "execution_count": 112,
   "metadata": {},
   "outputs": [
    {
     "name": "stdout",
     "output_type": "stream",
     "text": [
      "Pourcentage de textes d'entraînement : 53.40%\n",
      "Pourcentage de textes de test : 46.60%\n"
     ]
    }
   ],
   "source": [
    "df_train, df_test = balance_distribution(df_train, df_test)\n",
    "percentage_train, percentage_test = get_distribution(df_train, df_test)\n",
    "print(f\"Pourcentage de textes d'entraînement : {percentage_train:.2f}%\")\n",
    "print(f\"Pourcentage de textes de test : {percentage_test:.2f}%\")"
   ]
  },
  {
   "cell_type": "code",
   "execution_count": 113,
   "metadata": {},
   "outputs": [
    {
     "name": "stdout",
     "output_type": "stream",
     "text": [
      "Il y a 0 textes en commun entre les données d'entraînement et de test.\n"
     ]
    }
   ],
   "source": [
    "train_texts = df_train[\"texte\"].to_list()\n",
    "test_texts = df_test[\"texte\"].to_list()\n",
    "num_copy = check_copy(train_texts, test_texts)\n",
    "print(f\"Il y a {num_copy} textes en commun entre les données d'entraînement et de test.\")"
   ]
  },
  {
   "cell_type": "markdown",
   "metadata": {},
   "source": [
    "### Retirer jusqu'à 60"
   ]
  },
  {
   "cell_type": "markdown",
   "metadata": {},
   "source": [
    "Nous n'avons plus de doublons mais nous restons quelque peu éloignés de la distribution 60/40. On va donc retirer des textes de l'ensemble de test pour arriver à la distribution souhaitée."
   ]
  },
  {
   "cell_type": "code",
   "execution_count": 114,
   "metadata": {},
   "outputs": [],
   "source": [
    "def reach_desired_distribution(df_train, df_test):\n",
    "\n",
    "    while True:\n",
    "        percentage_train, percentage_test = get_distribution(df_train, df_test)\n",
    "\n",
    "        if percentage_train >= 60:\n",
    "            break\n",
    "        else:\n",
    "            df_test = df_test.drop(df_test.index[0])\n",
    "\n",
    "    \n",
    "    return df_train, df_test"
   ]
  },
  {
   "cell_type": "code",
   "execution_count": 115,
   "metadata": {},
   "outputs": [
    {
     "name": "stdout",
     "output_type": "stream",
     "text": [
      "Pourcentage de textes d'entraînement : 60.00%\n",
      "Pourcentage de textes de test : 40.00%\n",
      "Il y a 0 textes en commun entre les données d'entraînement et de test.\n"
     ]
    }
   ],
   "source": [
    "df_train, df_test = reach_desired_distribution(df_train, df_test)\n",
    "percentage_train, percentage_test = get_distribution(df_train, df_test)\n",
    "print(f\"Pourcentage de textes d'entraînement : {percentage_train:.2f}%\")\n",
    "print(f\"Pourcentage de textes de test : {percentage_test:.2f}%\")\n",
    "num_copy = check_copy(train_texts, test_texts)\n",
    "print(f\"Il y a {num_copy} textes en commun entre les données d'entraînement et de test.\")"
   ]
  },
  {
   "cell_type": "code",
   "execution_count": 116,
   "metadata": {},
   "outputs": [],
   "source": [
    "df_train.to_csv(\"data/train.csv\", index=False)\n",
    "df_test.to_csv(\"data/test.csv\", index=False)"
   ]
  },
  {
   "cell_type": "markdown",
   "metadata": {},
   "source": [
    "## Visualisation des données"
   ]
  },
  {
   "cell_type": "markdown",
   "metadata": {},
   "source": [
    "Est-ce que les classes sont représentées de manière égale entre les deux ensembles ?"
   ]
  },
  {
   "cell_type": "code",
   "execution_count": 117,
   "metadata": {},
   "outputs": [
    {
     "data": {
      "image/png": "[encoded data removed]",
      "text/plain": [
       "<Figure size 640x480 with 1 Axes>"
      ]
     },
     "metadata": {},
     "output_type": "display_data"
    }
   ],
   "source": [
    "def compare_class_distribution(df_train, df_test):\n",
    "\n",
    "    total_train = len(df_train)\n",
    "    total_test = len(df_test)\n",
    "\n",
    "    train_distribution = {source: count / total_train * 100 for source, count in df_train.groupby(\"valeur\").size().to_dict().items()}\n",
    "    test_distribution = {source: count / total_test * 100 for source, count in df_test.groupby(\"valeur\").size().to_dict().items()}\n",
    "\n",
    "    x = np.arange(len(train_distribution))\n",
    "    width = 0.4\n",
    "    train_bars = plt.bar(x - 0.2, train_distribution.values(), width, label=\"Ensemble de train\", color=\"orchid\")\n",
    "    test_bars = plt.bar(x + 0.2, test_distribution.values(), width, label=\"Ensemble de test\", color=\"pink\")\n",
    "\n",
    "    for bar in train_bars:\n",
    "        height = bar.get_height()\n",
    "        plt.text(bar.get_x() + bar.get_width() / 2, height, f'{round(height, 2)}', ha='center', va='bottom')\n",
    "\n",
    "    for bar in test_bars:\n",
    "        height = bar.get_height()\n",
    "        plt.text(bar.get_x() + bar.get_width() / 2, height, f'{round(height, 2)}', ha='center', va='bottom')\n",
    "\n",
    "    plt.xticks(x, train_distribution.keys(), rotation=45)\n",
    "    plt.xlabel(\"Parti politique\")\n",
    "    plt.ylabel(\"Pourcentage de documents\")\n",
    "    plt.legend()\n",
    "    plt.show()\n",
    "\n",
    "compare_class_distribution(df_train, df_test)\n"
   ]
  },
  {
   "cell_type": "markdown",
   "metadata": {},
   "source": [
    "Les répartitions sont assez égalitaires ! "
   ]
  },
  {
   "cell_type": "markdown",
   "metadata": {},
   "source": [
    "\n",
    "||   ELDR    | GUE/NGL | PPE-DE     | PSE | Verts/ALE\n",
    "|:---| :---        |    :----   |          :--- | :--- | :--- |\n",
    "|Nombre de documents| 3 346 | 4 482   |  11 429 | 9 066 | 3 961 |\n",
    "|Pourcentage de documents|10.33%|13.84%|35.29%|27.99%|12.23%|\n",
    "\n",
    "On a donc un corpus sans doublons mais avec une répartition et une distribution des classes et des documents fidèle au corpus originel !"
   ]
  },
  {
   "cell_type": "markdown",
   "metadata": {},
   "source": [
    "# Pé-traitement des données"
   ]
  },
  {
   "cell_type": "markdown",
   "metadata": {},
   "source": [
    "## Normalisation"
   ]
  },
  {
   "cell_type": "code",
   "execution_count": 118,
   "metadata": {},
   "outputs": [
    {
     "name": "stdout",
     "output_type": "stream",
     "text": [
      "Collecting en-core-web-sm==3.8.0\n",
      "  Downloading https://github.com/explosion/spacy-models/releases/download/en_core_web_sm-3.8.0/en_core_web_sm-3.8.0-py3-none-any.whl (12.8 MB)\n",
      "\u001b[2K     \u001b[38;2;114;156;31m━━━━━━━━━━━━━━━━━━━━━━━━━━━━━━━━━━━━━━━━\u001b[0m \u001b[32m12.8/12.8 MB\u001b[0m \u001b[31m9.0 MB/s\u001b[0m eta \u001b[36m0:00:00\u001b[0m0m eta \u001b[36m0:00:01\u001b[0m[36m0:00:01\u001b[0m\n",
      "\u001b[?25h\u001b[38;5;2m✔ Download and installation successful\u001b[0m\n",
      "You can now load the package via spacy.load('en_core_web_sm')\n"
     ]
    }
   ],
   "source": [
    "!python -m spacy download en_core_web_sm"
   ]
  },
  {
   "cell_type": "code",
   "execution_count": 119,
   "metadata": {},
   "outputs": [],
   "source": [
    "import re\n",
    "from nltk.corpus import stopwords\n",
    "from nltk.tokenize import word_tokenize\n",
    "import spacy\n",
    "nlp = spacy.load(\"en_core_web_sm\")"
   ]
  },
  {
   "cell_type": "code",
   "execution_count": 120,
   "metadata": {},
   "outputs": [],
   "source": [
    "def lemmatisation(text):\n",
    "    doc = nlp(text)\n",
    "    return \" \".join([token.lemma_ for token in doc])"
   ]
  },
  {
   "cell_type": "code",
   "execution_count": 121,
   "metadata": {},
   "outputs": [],
   "source": [
    "def i_love_lowercase(text):\n",
    "\n",
    "    return text.lower()"
   ]
  },
  {
   "cell_type": "code",
   "execution_count": 122,
   "metadata": {},
   "outputs": [],
   "source": [
    "def remove_stop_words(text):\n",
    "    \n",
    "    stop_words = set(stopwords.words(\"english\"))\n",
    "    word_tokens = word_tokenize(text)\n",
    "    filtered_text = [word for word in word_tokens if word not in stop_words]\n",
    "\n",
    "    return \" \".join(filtered_text)"
   ]
  },
  {
   "cell_type": "code",
   "execution_count": 123,
   "metadata": {},
   "outputs": [],
   "source": [
    "def remove_punctuation(text):\n",
    "\n",
    "    text = re.sub(r\"[^\\w\\s]\", \"\", text)\n",
    "    \n",
    "    return text"
   ]
  },
  {
   "cell_type": "code",
   "execution_count": 124,
   "metadata": {},
   "outputs": [],
   "source": [
    "def get_beautiful_clean_text(text):\n",
    "\n",
    "    text = i_love_lowercase(text)\n",
    "    text = remove_punctuation(text)\n",
    "    #text = remove_stop_words(text)\n",
    "    text = lemmatisation(text)\n",
    "\n",
    "    return text\n",
    "\n",
    "df_train[\"texte_nettoyé\"] = df_train[\"texte\"].map(get_beautiful_clean_text)\n",
    "df_test[\"texte_nettoyé\"] = df_test[\"texte\"].map(get_beautiful_clean_text)"
   ]
  },
  {
   "cell_type": "code",
   "execution_count": 125,
   "metadata": {},
   "outputs": [],
   "source": [
    "df_train.to_csv(\"data/train.csv\", index=False)\n",
    "df_test.to_csv(\"data/test.csv\", index=False)\n"
   ]
  },
  {
   "cell_type": "code",
   "execution_count": 126,
   "metadata": {},
   "outputs": [],
   "source": [
    "df_train = pd.read_csv(\"data/train.csv\")\n",
    "df_test = pd.read_csv(\"data/test.csv\")"
   ]
  },
  {
   "cell_type": "code",
   "execution_count": 127,
   "metadata": {},
   "outputs": [
    {
     "data": {
      "text/html": [
       "<div>\n",
       "<style scoped>\n",
       "    .dataframe tbody tr th:only-of-type {\n",
       "        vertical-align: middle;\n",
       "    }\n",
       "\n",
       "    .dataframe tbody tr th {\n",
       "        vertical-align: top;\n",
       "    }\n",
       "\n",
       "    .dataframe thead th {\n",
       "        text-align: right;\n",
       "    }\n",
       "</style>\n",
       "<table border=\"1\" class=\"dataframe\">\n",
       "  <thead>\n",
       "    <tr style=\"text-align: right;\">\n",
       "      <th></th>\n",
       "      <th>id</th>\n",
       "      <th>nombre</th>\n",
       "      <th>valeur</th>\n",
       "      <th>confiance</th>\n",
       "      <th>texte</th>\n",
       "      <th>texte_nettoyé</th>\n",
       "    </tr>\n",
       "  </thead>\n",
       "  <tbody>\n",
       "    <tr>\n",
       "      <th>0</th>\n",
       "      <td>2_fr:2</td>\n",
       "      <td>1</td>\n",
       "      <td>PPE-DE</td>\n",
       "      <td>1.0</td>\n",
       "      <td>Madame la Présidente, chers collègues, à l'app...</td>\n",
       "      <td>madame la présidente cher collègue à lapproche...</td>\n",
       "    </tr>\n",
       "    <tr>\n",
       "      <th>1</th>\n",
       "      <td>2_fr:5</td>\n",
       "      <td>1</td>\n",
       "      <td>PSE</td>\n",
       "      <td>1.0</td>\n",
       "      <td>Monsieur le Président, chers collègues, Monsie...</td>\n",
       "      <td>monsieur le président cher collègue monsieur l...</td>\n",
       "    </tr>\n",
       "    <tr>\n",
       "      <th>2</th>\n",
       "      <td>2_fr:6</td>\n",
       "      <td>1</td>\n",
       "      <td>Verts-ALE</td>\n",
       "      <td>1.0</td>\n",
       "      <td>C'est une motion de procédure, la question 67 ...</td>\n",
       "      <td>cest une motion de procédure la question 67 de...</td>\n",
       "    </tr>\n",
       "    <tr>\n",
       "      <th>3</th>\n",
       "      <td>2_fr:7</td>\n",
       "      <td>1</td>\n",
       "      <td>PPE-DE</td>\n",
       "      <td>1.0</td>\n",
       "      <td>Monsieur le Président, nous sommes favorables ...</td>\n",
       "      <td>monsieur le président nous somme favorable à c...</td>\n",
       "    </tr>\n",
       "    <tr>\n",
       "      <th>4</th>\n",
       "      <td>2_fr:9</td>\n",
       "      <td>1</td>\n",
       "      <td>PSE</td>\n",
       "      <td>1.0</td>\n",
       "      <td>Madame la Présidente, je ne vois rien de discr...</td>\n",
       "      <td>madame la présidente je ne vois rien de discri...</td>\n",
       "    </tr>\n",
       "  </tbody>\n",
       "</table>\n",
       "</div>"
      ],
      "text/plain": [
       "       id  nombre     valeur  confiance  \\\n",
       "0  2_fr:2       1     PPE-DE        1.0   \n",
       "1  2_fr:5       1        PSE        1.0   \n",
       "2  2_fr:6       1  Verts-ALE        1.0   \n",
       "3  2_fr:7       1     PPE-DE        1.0   \n",
       "4  2_fr:9       1        PSE        1.0   \n",
       "\n",
       "                                               texte  \\\n",
       "0  Madame la Présidente, chers collègues, à l'app...   \n",
       "1  Monsieur le Président, chers collègues, Monsie...   \n",
       "2  C'est une motion de procédure, la question 67 ...   \n",
       "3  Monsieur le Président, nous sommes favorables ...   \n",
       "4  Madame la Présidente, je ne vois rien de discr...   \n",
       "\n",
       "                                       texte_nettoyé  \n",
       "0  madame la présidente cher collègue à lapproche...  \n",
       "1  monsieur le président cher collègue monsieur l...  \n",
       "2  cest une motion de procédure la question 67 de...  \n",
       "3  monsieur le président nous somme favorable à c...  \n",
       "4  madame la présidente je ne vois rien de discri...  "
      ]
     },
     "execution_count": 127,
     "metadata": {},
     "output_type": "execute_result"
    }
   ],
   "source": [
    "df_train.head()"
   ]
  },
  {
   "cell_type": "markdown",
   "metadata": {},
   "source": [
    "## Vectorisation"
   ]
  },
  {
   "cell_type": "markdown",
   "metadata": {},
   "source": [
    "Dans l'article, on voit que les paramètres de la vectorisation jouent un rôle assez important.\n",
    "Nous allons donc essayer de tester cela avec le tfidf et le count vectorizer sur le KNN, l'algorithme utilisé dans l'article. \n",
    "Nous allons vectorisser de manière différentes nos données et stocker le tout dans une df assez grande. Nous allons ensuite tester le tout sur le KNN pour voir comment cela impacte nos données et jusqu'où on peut aller !"
   ]
  },
  {
   "cell_type": "markdown",
   "metadata": {},
   "source": [
    "## Organisation"
   ]
  },
  {
   "cell_type": "code",
   "execution_count": 128,
   "metadata": {},
   "outputs": [],
   "source": [
    "vectorizers = {\n",
    "    \"TfidfVectorizer\": {\n",
    "        \"model\": TfidfVectorizer(),\n",
    "        \"hyperparameters\": {\n",
    "            \"max_df\": [0.5, 0.9, 1], # ça c'est pour ignorer les mots qui appraîssent dans 0.5 ou 0.9 des documents #defaut = 1\n",
    "            \"max_features\": [1000, 5000, 10000, 15000], # ça c'est pour limiter le nombre de mots à 1000 ou 2000 #defaut = None\n",
    "            \"ngram_range\": [(1, 1), (1, 2)], # ça c'est pour prendre en compte les unigrammes ou les bigrammes #defaut = (1, 1)\n",
    "        }\n",
    "    }\n",
    "}"
   ]
  },
  {
   "cell_type": "code",
   "execution_count": 132,
   "metadata": {},
   "outputs": [
    {
     "ename": "IndentationError",
     "evalue": "unindent does not match any outer indentation level (<string>, line 3)",
     "output_type": "error",
     "traceback": [
      "\u001b[0;36m  File \u001b[0;32m<string>:3\u001b[0;36m\u001b[0m\n\u001b[0;31m    param_grid = vectorizers[\"hyperparameters\"]\u001b[0m\n\u001b[0m                                               ^\u001b[0m\n\u001b[0;31mIndentationError\u001b[0m\u001b[0;31m:\u001b[0m unindent does not match any outer indentation level\n"
     ]
    }
   ],
   "source": [
    "def hyperparameter_vectorizer(vectorizers):\n",
    "\t\"\"\" crée une liste des fonctions de vectorisations \"\"\"\n",
    "    param_grid = vectorizers[\"hyperparameters\"]\n",
    "    list_vectorizers = []\n",
    "\n",
    "\n",
    "    if len(param_grid) == 1:\n",
    "        param_name, param_values = list(param_grid.items())[0]\n",
    "        for i, value in enumerate(param_values, start=1):\n",
    "            params = {param_name: value}\n",
    "            vectorizer = vectorizers[\"model\"].__class__(**params) \n",
    "            list_vectorizers.append(vectorizer)\n",
    "\n",
    "    else:\n",
    "        param_grid_combinations = list(product(*param_grid.values()))\n",
    "        for i, combination in enumerate(param_grid_combinations, start=1):\n",
    "            params = {param_name: value for param_name, value in zip(param_grid.keys(), combination)}\n",
    "            vectorizer = vectorizers[\"model\"].__class__(**params) \n",
    "            list_vectorizers.append(vectorizer)\n",
    "\n",
    "    return list_vectorizers"
   ]
  },
  {
   "cell_type": "code",
   "execution_count": 78,
   "metadata": {},
   "outputs": [
    {
     "data": {
      "text/plain": [
       "[TfidfVectorizer(max_df=0.5, max_features=1000),\n",
       " TfidfVectorizer(max_df=0.5, max_features=1000, ngram_range=(1, 2)),\n",
       " TfidfVectorizer(max_df=0.5, max_features=5000),\n",
       " TfidfVectorizer(max_df=0.5, max_features=5000, ngram_range=(1, 2)),\n",
       " TfidfVectorizer(max_df=0.5, max_features=10000),\n",
       " TfidfVectorizer(max_df=0.5, max_features=10000, ngram_range=(1, 2)),\n",
       " TfidfVectorizer(max_df=0.5, max_features=15000),\n",
       " TfidfVectorizer(max_df=0.5, max_features=15000, ngram_range=(1, 2)),\n",
       " TfidfVectorizer(max_df=0.9, max_features=1000),\n",
       " TfidfVectorizer(max_df=0.9, max_features=1000, ngram_range=(1, 2)),\n",
       " TfidfVectorizer(max_df=0.9, max_features=5000),\n",
       " TfidfVectorizer(max_df=0.9, max_features=5000, ngram_range=(1, 2)),\n",
       " TfidfVectorizer(max_df=0.9, max_features=10000),\n",
       " TfidfVectorizer(max_df=0.9, max_features=10000, ngram_range=(1, 2)),\n",
       " TfidfVectorizer(max_df=0.9, max_features=15000),\n",
       " TfidfVectorizer(max_df=0.9, max_features=15000, ngram_range=(1, 2)),\n",
       " TfidfVectorizer(max_df=1, max_features=1000),\n",
       " TfidfVectorizer(max_df=1, max_features=1000, ngram_range=(1, 2)),\n",
       " TfidfVectorizer(max_df=1, max_features=5000),\n",
       " TfidfVectorizer(max_df=1, max_features=5000, ngram_range=(1, 2)),\n",
       " TfidfVectorizer(max_df=1, max_features=10000),\n",
       " TfidfVectorizer(max_df=1, max_features=10000, ngram_range=(1, 2)),\n",
       " TfidfVectorizer(max_df=1, max_features=15000),\n",
       " TfidfVectorizer(max_df=1, max_features=15000, ngram_range=(1, 2))]"
      ]
     },
     "execution_count": 78,
     "metadata": {},
     "output_type": "execute_result"
    }
   ],
   "source": [
    "list_vectorizers = hyperparameter_vectorizer(vectorizers[\"TfidfVectorizer\"])\n",
    "list_vectorizers"
   ]
  },
  {
   "cell_type": "markdown",
   "metadata": {},
   "source": [
    "## Vectorisation des données"
   ]
  },
  {
   "cell_type": "code",
   "execution_count": 79,
   "metadata": {},
   "outputs": [],
   "source": [
    "def store_vectorisations(list_vectorizers, x_train, x_test):\n",
    "\n",
    "    all_vectorisations = []\n",
    "\n",
    "    for i, vectorizer in enumerate(list_vectorizers):\n",
    "        x_train_vectorized = vectorizer.fit_transform(x_train)\n",
    "        x_test_vectorized = vectorizer.transform(x_test)\n",
    "        all_vectorisations.append({\"vectorizer_id\": vectorizer.__class__.__name__ + str(i),\n",
    "                                   \"vectorizer\": vectorizer, \n",
    "                                   \"x_train\": x_train_vectorized, \n",
    "                                   \"x_test\": x_test_vectorized})\n",
    "    \n",
    "    df_vectorisations = pd.DataFrame(all_vectorisations)\n",
    "\n",
    "    return df_vectorisations"
   ]
  },
  {
   "cell_type": "code",
   "execution_count": null,
   "metadata": {},
   "outputs": [],
   "source": [
    "df_vectorisations = store_vectorisations(list_vectorizers, df_train[\"texte_nettoyé\"], df_test[\"texte_nettoyé\"])"
   ]
  },
  {
   "cell_type": "markdown",
   "metadata": {},
   "source": [
    "## Test avec nos algos"
   ]
  },
  {
   "cell_type": "markdown",
   "metadata": {},
   "source": [
    "### KNN"
   ]
  },
  {
   "cell_type": "code",
   "execution_count": 81,
   "metadata": {},
   "outputs": [],
   "source": [
    "def im_counting_on_you_knn(df_vectorisations, y_train, y_test):\n",
    "\n",
    "    model = KNeighborsClassifier(n_neighbors=1)\n",
    "    scores = []\n",
    "\n",
    "    for i, row in df_vectorisations.iterrows():\n",
    "        vectorizer = row[\"vectorizer\"]\n",
    "        x_train = row[\"x_train\"]\n",
    "        x_test = row[\"x_test\"]\n",
    "        model.fit(x_train, y_train)\n",
    "        y_pred = model.predict(x_test)\n",
    "        report = classification_report(y_test, y_pred, output_dict=True)\n",
    "        scores.append({\"vectorizer\": vectorizer, \"scores\": report})\n",
    "                      \n",
    "    return scores\n"
   ]
  },
  {
   "cell_type": "code",
   "execution_count": 82,
   "metadata": {},
   "outputs": [],
   "source": [
    "scores = im_counting_on_you_knn(df_vectorisations, df_train[\"valeur\"], df_test[\"valeur\"])"
   ]
  },
  {
   "cell_type": "code",
   "execution_count": 83,
   "metadata": {},
   "outputs": [],
   "source": [
    "sorted_scores = sorted(scores, key=lambda x: x[\"scores\"][\"accuracy\"], reverse=True)"
   ]
  },
  {
   "cell_type": "code",
   "execution_count": null,
   "metadata": {},
   "outputs": [
    {
     "name": "stdout",
     "output_type": "stream",
     "text": [
      "Vectorizer: TfidfVectorizer\n",
      "\tELDR: {'precision': 0.19626168224299065, 'recall': 0.023127753303964757, 'f1-score': 0.041379310344827586, 'support': 908.0}\n",
      "\tGUE-NGL: {'precision': 0.24193548387096775, 'recall': 0.02508361204013378, 'f1-score': 0.045454545454545456, 'support': 1196.0}\n",
      "\tPPE-DE: {'precision': 0.35369934316520013, 'recall': 0.9366590088611749, 'f1-score': 0.5134940626124506, 'support': 3047.0}\n",
      "\tPSE: {'precision': 0.35815602836879434, 'recall': 0.04057854560064283, 'f1-score': 0.07289787080476362, 'support': 2489.0}\n",
      "\tVerts-ALE: {'precision': 0.11538461538461539, 'recall': 0.013992537313432836, 'f1-score': 0.024958402662229616, 'support': 1072.0}\n",
      "\taccuracy: 0.34676308539944906\n",
      "\tmacro avg: {'precision': 0.2530874306065137, 'recall': 0.20788829142386983, 'f1-score': 0.13963683837576338, 'support': 8712.0}\n",
      "\tweighted avg: {'precision': 0.2938963506787092, 'recall': 0.34676308539944906, 'f1-score': 0.2140439241303769, 'support': 8712.0}\n",
      "Vectorizer: TfidfVectorizer\n",
      "\tELDR: {'precision': 0.10204081632653061, 'recall': 0.011013215859030838, 'f1-score': 0.019880715705765408, 'support': 908.0}\n",
      "\tGUE-NGL: {'precision': 0.19083969465648856, 'recall': 0.020903010033444816, 'f1-score': 0.037678975131876416, 'support': 1196.0}\n",
      "\tPPE-DE: {'precision': 0.35138476755687437, 'recall': 0.932720708893994, 'f1-score': 0.5104625056129322, 'support': 3047.0}\n",
      "\tPSE: {'precision': 0.30327868852459017, 'recall': 0.029730815588589796, 'f1-score': 0.05415294548115624, 'support': 2489.0}\n",
      "\tVerts-ALE: {'precision': 0.17218543046357615, 'recall': 0.024253731343283583, 'f1-score': 0.04251839738348324, 'support': 1072.0}\n",
      "\taccuracy: 0.341712580348944\n",
      "\tmacro avg: {'precision': 0.22394587950561196, 'recall': 0.20372429634366865, 'f1-score': 0.13293870786304268, 'support': 8712.0}\n",
      "\tweighted avg: {'precision': 0.26756314967563183, 'recall': 0.341712580348944, 'f1-score': 0.2064808771830642, 'support': 8712.0}\n",
      "Vectorizer: TfidfVectorizer\n",
      "\tELDR: {'precision': 0.10326086956521739, 'recall': 0.02092511013215859, 'f1-score': 0.0347985347985348, 'support': 908.0}\n",
      "\tGUE-NGL: {'precision': 0.20454545454545456, 'recall': 0.0451505016722408, 'f1-score': 0.07397260273972603, 'support': 1196.0}\n",
      "\tPPE-DE: {'precision': 0.35394066135145735, 'recall': 0.8887430259271415, 'f1-score': 0.5062628528696953, 'support': 3047.0}\n",
      "\tPSE: {'precision': 0.26405867970660146, 'recall': 0.043390920048212135, 'f1-score': 0.07453416149068323, 'support': 2489.0}\n",
      "\tVerts-ALE: {'precision': 0.16666666666666666, 'recall': 0.03171641791044776, 'f1-score': 0.05329153605015674, 'support': 1072.0}\n",
      "\taccuracy: 0.335514233241506\n",
      "\tmacro avg: {'precision': 0.2184944663670795, 'recall': 0.20598519513804012, 'f1-score': 0.14857193758975923, 'support': 8712.0}\n",
      "\tweighted avg: {'precision': 0.2585816286496636, 'recall': 0.335514233241506, 'f1-score': 0.2186978041510356, 'support': 8712.0}\n",
      "Vectorizer: TfidfVectorizer\n",
      "\tELDR: {'precision': 0.12162162162162163, 'recall': 0.019823788546255508, 'f1-score': 0.03409090909090909, 'support': 908.0}\n",
      "\tGUE-NGL: {'precision': 0.19487179487179487, 'recall': 0.03177257525083612, 'f1-score': 0.054636951833213515, 'support': 1196.0}\n",
      "\tPPE-DE: {'precision': 0.35027954752307894, 'recall': 0.8841483426320972, 'f1-score': 0.5017694170236543, 'support': 3047.0}\n",
      "\tPSE: {'precision': 0.2955032119914347, 'recall': 0.055443953394937726, 'f1-score': 0.09336941813261164, 'support': 2489.0}\n",
      "\tVerts-ALE: {'precision': 0.13744075829383887, 'recall': 0.027052238805970148, 'f1-score': 0.04520654715510522, 'support': 1072.0}\n",
      "\taccuracy: 0.33482552800734616\n",
      "\tmacro avg: {'precision': 0.2199433868603538, 'recall': 0.2036481797260193, 'f1-score': 0.14581464864709875, 'support': 8712.0}\n",
      "\tweighted avg: {'precision': 0.2632742043089528, 'recall': 0.33482552800734616, 'f1-score': 0.21878439552347184, 'support': 8712.0}\n",
      "Vectorizer: TfidfVectorizer\n",
      "\tELDR: {'precision': 0.15302491103202848, 'recall': 0.0473568281938326, 'f1-score': 0.07232968881412952, 'support': 908.0}\n",
      "\tGUE-NGL: {'precision': 0.20157068062827224, 'recall': 0.06438127090301003, 'f1-score': 0.09759188846641319, 'support': 1196.0}\n",
      "\tPPE-DE: {'precision': 0.3561811505507956, 'recall': 0.7640301936330817, 'f1-score': 0.48586037775226965, 'support': 3047.0}\n",
      "\tPSE: {'precision': 0.28225806451612906, 'recall': 0.14061872237846526, 'f1-score': 0.18771788683293109, 'support': 2489.0}\n",
      "\tVerts-ALE: {'precision': 0.15384615384615385, 'recall': 0.03917910447761194, 'f1-score': 0.06245353159851301, 'support': 1072.0}\n",
      "\taccuracy: 0.32598714416896235\n",
      "\tmacro avg: {'precision': 0.2293761921146759, 'recall': 0.2111132239172003, 'f1-score': 0.18119067469285127, 'support': 8712.0}\n",
      "\tweighted avg: {'precision': 0.26776544059693436, 'recall': 0.32598714416896235, 'f1-score': 0.25217996249552305, 'support': 8712.0}\n",
      "Vectorizer: TfidfVectorizer\n",
      "\tELDR: {'precision': 0.15783664459161148, 'recall': 0.15748898678414097, 'f1-score': 0.15766262403528114, 'support': 908.0}\n",
      "\tGUE-NGL: {'precision': 0.2649350649350649, 'recall': 0.25585284280936454, 'f1-score': 0.2603147596767333, 'support': 1196.0}\n",
      "\tPPE-DE: {'precision': 0.4135483870967742, 'recall': 0.4207417131604857, 'f1-score': 0.41711403936879776, 'support': 3047.0}\n",
      "\tPSE: {'precision': 0.34418978689183755, 'recall': 0.34391321815990356, 'f1-score': 0.3440514469453376, 'support': 2489.0}\n",
      "\tVerts-ALE: {'precision': 0.18139097744360902, 'recall': 0.18003731343283583, 'f1-score': 0.18071161048689138, 'support': 1072.0}\n",
      "\taccuracy: 0.31910009182736454\n",
      "\tmacro avg: {'precision': 0.27238017219177946, 'recall': 0.2716068148693461, 'f1-score': 0.2719708961026083, 'support': 8712.0}\n",
      "\tweighted avg: {'precision': 0.31811288496656615, 'recall': 0.31910009182736454, 'f1-score': 0.3185844227551685, 'support': 8712.0}\n",
      "Vectorizer: TfidfVectorizer\n",
      "\tELDR: {'precision': 0.15489989462592202, 'recall': 0.1618942731277533, 'f1-score': 0.1583198707592892, 'support': 908.0}\n",
      "\tGUE-NGL: {'precision': 0.26534140017286084, 'recall': 0.25668896321070234, 'f1-score': 0.2609434764130897, 'support': 1196.0}\n",
      "\tPPE-DE: {'precision': 0.4067140090380891, 'recall': 0.4135214965539875, 'f1-score': 0.4100895036615134, 'support': 3047.0}\n",
      "\tPSE: {'precision': 0.3393719806763285, 'recall': 0.3386902370429892, 'f1-score': 0.33903076613714056, 'support': 2489.0}\n",
      "\tVerts-ALE: {'precision': 0.197265625, 'recall': 0.1884328358208955, 'f1-score': 0.19274809160305342, 'support': 1072.0}\n",
      "\taccuracy: 0.31668962350780533\n",
      "\tmacro avg: {'precision': 0.2727185819026401, 'recall': 0.27184556115126557, 'f1-score': 0.2722263417148173, 'support': 8712.0}\n",
      "\tweighted avg: {'precision': 0.31604919815995386, 'recall': 0.31668962350780533, 'f1-score': 0.3163290965576145, 'support': 8712.0}\n",
      "Vectorizer: TfidfVectorizer\n",
      "\tELDR: {'precision': 0.1543778801843318, 'recall': 0.14757709251101322, 'f1-score': 0.15090090090090091, 'support': 908.0}\n",
      "\tGUE-NGL: {'precision': 0.2535087719298246, 'recall': 0.24163879598662208, 'f1-score': 0.24743150684931506, 'support': 1196.0}\n",
      "\tPPE-DE: {'precision': 0.4076086956521739, 'recall': 0.4184443715129636, 'f1-score': 0.41295546558704455, 'support': 3047.0}\n",
      "\tPSE: {'precision': 0.3397745571658615, 'recall': 0.3390920048212133, 'f1-score': 0.33943293786446815, 'support': 2489.0}\n",
      "\tVerts-ALE: {'precision': 0.19597069597069597, 'recall': 0.19962686567164178, 'f1-score': 0.1977818853974122, 'support': 1072.0}\n",
      "\taccuracy: 0.31634527089072545\n",
      "\tmacro avg: {'precision': 0.27024812018057753, 'recall': 0.2692758261006908, 'f1-score': 0.2697005393198282, 'support': 8712.0}\n",
      "\tweighted avg: {'precision': 0.31463897623439313, 'recall': 0.31634527089072545, 'f1-score': 0.31543757660057514, 'support': 8712.0}\n",
      "Vectorizer: TfidfVectorizer\n",
      "\tELDR: {'precision': 0.24, 'recall': 0.019823788546255508, 'f1-score': 0.03662258392675483, 'support': 908.0}\n",
      "\tGUE-NGL: {'precision': 0.21333333333333335, 'recall': 0.013377926421404682, 'f1-score': 0.025177025963808025, 'support': 1196.0}\n",
      "\tPPE-DE: {'precision': 0.37043245055313445, 'recall': 0.36265178864456843, 'f1-score': 0.36650082918739635, 'support': 3047.0}\n",
      "\tPSE: {'precision': 0.2925628873496172, 'recall': 0.6448372840498192, 'f1-score': 0.4025078369905956, 'support': 2489.0}\n",
      "\tVerts-ALE: {'precision': 0.11827956989247312, 'recall': 0.010261194029850746, 'f1-score': 0.01888412017167382, 'support': 1072.0}\n",
      "\taccuracy: 0.3162304866850321\n",
      "\tmacro avg: {'precision': 0.24692164822571164, 'recall': 0.2101903963383797, 'f1-score': 0.16993847924804575, 'support': 8712.0}\n",
      "\tweighted avg: {'precision': 0.28199713831955875, 'recall': 0.3162304866850321, 'f1-score': 0.2527753488160963, 'support': 8712.0}\n",
      "Vectorizer: TfidfVectorizer\n",
      "\tELDR: {'precision': 0.16122004357298475, 'recall': 0.16299559471365638, 'f1-score': 0.16210295728368018, 'support': 908.0}\n",
      "\tGUE-NGL: {'precision': 0.25683512841756423, 'recall': 0.2591973244147157, 'f1-score': 0.2580108198085726, 'support': 1196.0}\n",
      "\tPPE-DE: {'precision': 0.40551053484602917, 'recall': 0.4105677715786019, 'f1-score': 0.4080234833659491, 'support': 3047.0}\n",
      "\tPSE: {'precision': 0.3372564935064935, 'recall': 0.33386902370429894, 'f1-score': 0.33555420956995763, 'support': 2489.0}\n",
      "\tVerts-ALE: {'precision': 0.2023121387283237, 'recall': 0.1958955223880597, 'f1-score': 0.1990521327014218, 'support': 1072.0}\n",
      "\taccuracy: 0.31565656565656564\n",
      "\tmacro avg: {'precision': 0.2726268678142791, 'recall': 0.2725050473598665, 'f1-score': 0.2725487205459163, 'support': 8712.0}\n",
      "\tweighted avg: {'precision': 0.31513581702042626, 'recall': 0.31565656565656564, 'f1-score': 0.3153806581033322, 'support': 8712.0}\n",
      "Vectorizer: TfidfVectorizer\n",
      "\tELDR: {'precision': 0.16009280742459397, 'recall': 0.15198237885462554, 'f1-score': 0.15593220338983052, 'support': 908.0}\n",
      "\tGUE-NGL: {'precision': 0.2596732588134136, 'recall': 0.2525083612040134, 'f1-score': 0.2560406952098347, 'support': 1196.0}\n",
      "\tPPE-DE: {'precision': 0.4067796610169492, 'recall': 0.4174597965211684, 'f1-score': 0.41205053449951407, 'support': 3047.0}\n",
      "\tPSE: {'precision': 0.33969930922389274, 'recall': 0.33587786259541985, 'f1-score': 0.3377777777777778, 'support': 2489.0}\n",
      "\tVerts-ALE: {'precision': 0.18198362147406733, 'recall': 0.1865671641791045, 'f1-score': 0.18424689083371718, 'support': 1072.0}\n",
      "\taccuracy: 0.3154269972451791\n",
      "\tmacro avg: {'precision': 0.26964573159058336, 'recall': 0.26887911267086634, 'f1-score': 0.26920962034213486, 'support': 8712.0}\n",
      "\tweighted avg: {'precision': 0.31404833983924324, 'recall': 0.3154269972451791, 'f1-score': 0.3146890090256636, 'support': 8712.0}\n",
      "Vectorizer: TfidfVectorizer\n",
      "\tELDR: {'precision': 0.15121412803532008, 'recall': 0.15088105726872247, 'f1-score': 0.15104740904079383, 'support': 908.0}\n",
      "\tGUE-NGL: {'precision': 0.25549915397631134, 'recall': 0.2525083612040134, 'f1-score': 0.25399495374264086, 'support': 1196.0}\n",
      "\tPPE-DE: {'precision': 0.4113452188006483, 'recall': 0.41647522152937316, 'f1-score': 0.41389432485322897, 'support': 3047.0}\n",
      "\tPSE: {'precision': 0.33930024410089504, 'recall': 0.3350743270389715, 'f1-score': 0.33717404487568226, 'support': 2489.0}\n",
      "\tVerts-ALE: {'precision': 0.17206290471785385, 'recall': 0.17350746268656717, 'f1-score': 0.1727821644217371, 'support': 1072.0}\n",
      "\taccuracy: 0.31313131313131315\n",
      "\tmacro avg: {'precision': 0.26588432992620575, 'recall': 0.26568928594552954, 'f1-score': 0.2657785793868166, 'support': 8712.0}\n",
      "\tweighted avg: {'precision': 0.3128119880075736, 'recall': 0.31313131313131315, 'f1-score': 0.312960709121752, 'support': 8712.0}\n",
      "Vectorizer: TfidfVectorizer\n",
      "\tELDR: {'precision': 0.16823406478578892, 'recall': 0.17731277533039647, 'f1-score': 0.17265415549597854, 'support': 908.0}\n",
      "\tGUE-NGL: {'precision': 0.25416666666666665, 'recall': 0.25501672240802675, 'f1-score': 0.25459098497495825, 'support': 1196.0}\n",
      "\tPPE-DE: {'precision': 0.415880247315327, 'recall': 0.41942894650475876, 'f1-score': 0.4176470588235294, 'support': 3047.0}\n",
      "\tPSE: {'precision': 0.32300163132137033, 'recall': 0.3182000803535556, 'f1-score': 0.3205828779599271, 'support': 2489.0}\n",
      "\tVerts-ALE: {'precision': 0.18543689320388348, 'recall': 0.17817164179104478, 'f1-score': 0.18173168411037108, 'support': 1072.0}\n",
      "\taccuracy: 0.3130165289256198\n",
      "\tmacro avg: {'precision': 0.26934390065860725, 'recall': 0.2696260332775565, 'f1-score': 0.2694413522729529, 'support': 8712.0}\n",
      "\tweighted avg: {'precision': 0.31297823549151566, 'recall': 0.3130165289256198, 'f1-score': 0.3129681506042549, 'support': 8712.0}\n",
      "Vectorizer: TfidfVectorizer\n",
      "\tELDR: {'precision': 0.16200466200466201, 'recall': 0.15308370044052863, 'f1-score': 0.15741789354473387, 'support': 908.0}\n",
      "\tGUE-NGL: {'precision': 0.25065047701647875, 'recall': 0.24163879598662208, 'f1-score': 0.24606215410813112, 'support': 1196.0}\n",
      "\tPPE-DE: {'precision': 0.4099157485418017, 'recall': 0.4151624548736462, 'f1-score': 0.41252241969672265, 'support': 3047.0}\n",
      "\tPSE: {'precision': 0.3327974276527331, 'recall': 0.3326637203696264, 'f1-score': 0.33273056057866185, 'support': 2489.0}\n",
      "\tVerts-ALE: {'precision': 0.18101153504880213, 'recall': 0.19029850746268656, 'f1-score': 0.1855388813096862, 'support': 1072.0}\n",
      "\taccuracy: 0.3127869605142332\n",
      "\tmacro avg: {'precision': 0.26727597005289555, 'recall': 0.266569435826622, 'f1-score': 0.26685438184758714, 'support': 8712.0}\n",
      "\tweighted avg: {'precision': 0.3120143081288774, 'recall': 0.3127869605142332, 'f1-score': 0.31235601957209946, 'support': 8712.0}\n",
      "Vectorizer: TfidfVectorizer\n",
      "\tELDR: {'precision': 0.15226781857451405, 'recall': 0.15528634361233482, 'f1-score': 0.15376226826608505, 'support': 908.0}\n",
      "\tGUE-NGL: {'precision': 0.25820016820857866, 'recall': 0.25668896321070234, 'f1-score': 0.2574423480083857, 'support': 1196.0}\n",
      "\tPPE-DE: {'precision': 0.4061788617886179, 'recall': 0.4099113882507384, 'f1-score': 0.4080365893498857, 'support': 3047.0}\n",
      "\tPSE: {'precision': 0.3305152979066023, 'recall': 0.32985134592205706, 'f1-score': 0.33018298813593405, 'support': 2489.0}\n",
      "\tVerts-ALE: {'precision': 0.1926782273603083, 'recall': 0.1865671641791045, 'f1-score': 0.1895734597156398, 'support': 1072.0}\n",
      "\taccuracy: 0.3119834710743802\n",
      "\tmacro avg: {'precision': 0.2679680747677242, 'recall': 0.26766104103498745, 'f1-score': 0.2677995306951861, 'support': 8712.0}\n",
      "\tweighted avg: {'precision': 0.3115125354146948, 'recall': 0.3119834710743802, 'f1-score': 0.31173701582165314, 'support': 8712.0}\n",
      "Vectorizer: TfidfVectorizer\n",
      "\tELDR: {'precision': 0.155011655011655, 'recall': 0.14647577092511013, 'f1-score': 0.1506228765571914, 'support': 908.0}\n",
      "\tGUE-NGL: {'precision': 0.25687285223367695, 'recall': 0.25, 'f1-score': 0.2533898305084746, 'support': 1196.0}\n",
      "\tPPE-DE: {'precision': 0.39548387096774196, 'recall': 0.4023629799803085, 'f1-score': 0.3988937693183667, 'support': 3047.0}\n",
      "\tPSE: {'precision': 0.33954779849266165, 'recall': 0.34391321815990356, 'f1-score': 0.34171656686626745, 'support': 2489.0}\n",
      "\tVerts-ALE: {'precision': 0.18709073900841908, 'recall': 0.1865671641791045, 'f1-score': 0.18682858477347034, 'support': 1072.0}\n",
      "\taccuracy: 0.31152433425160697\n",
      "\tmacro avg: {'precision': 0.266801383142831, 'recall': 0.26586382664888536, 'f1-score': 0.2662903256047541, 'support': 8712.0}\n",
      "\tweighted avg: {'precision': 0.30976878001905767, 'recall': 0.31152433425160697, 'f1-score': 0.3106131659920143, 'support': 8712.0}\n",
      "Vectorizer: TfidfVectorizer\n",
      "\tELDR: {'precision': 0.14942528735632185, 'recall': 0.14317180616740088, 'f1-score': 0.14623172103487064, 'support': 908.0}\n",
      "\tGUE-NGL: {'precision': 0.25471698113207547, 'recall': 0.24832775919732442, 'f1-score': 0.2514817950889077, 'support': 1196.0}\n",
      "\tPPE-DE: {'precision': 0.4007149821254469, 'recall': 0.40466032162783067, 'f1-score': 0.40267798824297846, 'support': 3047.0}\n",
      "\tPSE: {'precision': 0.33518445061483537, 'recall': 0.3394937725994375, 'f1-score': 0.3373253493013972, 'support': 2489.0}\n",
      "\tVerts-ALE: {'precision': 0.18923933209647495, 'recall': 0.19029850746268656, 'f1-score': 0.18976744186046512, 'support': 1072.0}\n",
      "\taccuracy: 0.3109504132231405\n",
      "\tmacro avg: {'precision': 0.2658562066650309, 'recall': 0.265190433410936, 'f1-score': 0.26549685910572385, 'support': 8712.0}\n",
      "\tweighted avg: {'precision': 0.3097379341686737, 'recall': 0.3109504132231405, 'f1-score': 0.31032414507437417, 'support': 8712.0}\n",
      "Vectorizer: TfidfVectorizer\n",
      "\tELDR: {'precision': 0.16593886462882096, 'recall': 0.16740088105726872, 'f1-score': 0.16666666666666666, 'support': 908.0}\n",
      "\tGUE-NGL: {'precision': 0.2471812662619254, 'recall': 0.2382943143812709, 'f1-score': 0.24265644955300128, 'support': 1196.0}\n",
      "\tPPE-DE: {'precision': 0.4068987543915682, 'recall': 0.4181161798490318, 'f1-score': 0.4124312075105212, 'support': 3047.0}\n",
      "\tPSE: {'precision': 0.3190552441953563, 'recall': 0.3202089192446766, 'f1-score': 0.31963104070583515, 'support': 2489.0}\n",
      "\tVerts-ALE: {'precision': 0.1755424063116371, 'recall': 0.166044776119403, 'f1-score': 0.17066155321188878, 'support': 1072.0}\n",
      "\taccuracy: 0.30831037649219467\n",
      "\tmacro avg: {'precision': 0.2629233071578616, 'recall': 0.2620130141303302, 'f1-score': 0.2624093835295826, 'support': 8712.0}\n",
      "\tweighted avg: {'precision': 0.3062938189315493, 'recall': 0.30831037649219467, 'f1-score': 0.30724738081304526, 'support': 8712.0}\n",
      "Vectorizer: TfidfVectorizer\n",
      "\tELDR: {'precision': 0.16358325219084713, 'recall': 0.18502202643171806, 'f1-score': 0.17364341085271318, 'support': 908.0}\n",
      "\tGUE-NGL: {'precision': 0.2329945269741986, 'recall': 0.2491638795986622, 'f1-score': 0.2408080808080808, 'support': 1196.0}\n",
      "\tPPE-DE: {'precision': 0.3914332784184514, 'recall': 0.3898916967509025, 'f1-score': 0.39066096678724105, 'support': 3047.0}\n",
      "\tPSE: {'precision': 0.32505263157894737, 'recall': 0.3101647247890719, 'f1-score': 0.31743421052631576, 'support': 2489.0}\n",
      "\tVerts-ALE: {'precision': 0.13855421686746988, 'recall': 0.1287313432835821, 'f1-score': 0.13346228239845262, 'support': 1072.0}\n",
      "\taccuracy: 0.2943067033976125\n",
      "\tmacro avg: {'precision': 0.25032358120598286, 'recall': 0.25259473417078737, 'f1-score': 0.2512017902745607, 'support': 8712.0}\n",
      "\tweighted avg: {'precision': 0.29585380705617303, 'recall': 0.2943067033976125, 'f1-score': 0.2949017406143931, 'support': 8712.0}\n",
      "Vectorizer: TfidfVectorizer\n",
      "\tELDR: {'precision': 0.15217391304347827, 'recall': 0.007709251101321586, 'f1-score': 0.014675052410901468, 'support': 908.0}\n",
      "\tGUE-NGL: {'precision': 0.2826086956521739, 'recall': 0.010869565217391304, 'f1-score': 0.020933977455716585, 'support': 1196.0}\n",
      "\tPPE-DE: {'precision': 0.47761194029850745, 'recall': 0.03150639973744667, 'f1-score': 0.059113300492610835, 'support': 3047.0}\n",
      "\tPSE: {'precision': 0.2866036154674967, 'recall': 0.9618320610687023, 'f1-score': 0.4416159380188157, 'support': 2489.0}\n",
      "\tVerts-ALE: {'precision': 0.16666666666666666, 'recall': 0.010261194029850746, 'f1-score': 0.019332161687170474, 'support': 1072.0}\n",
      "\taccuracy: 0.28937098255280075\n",
      "\tmacro avg: {'precision': 0.27313296622566463, 'recall': 0.20443569423094252, 'f1-score': 0.11113408601304302, 'support': 8712.0}\n",
      "\tweighted avg: {'precision': 0.32409097345021765, 'recall': 0.28937098255280075, 'f1-score': 0.15362561504644165, 'support': 8712.0}\n",
      "Vectorizer: TfidfVectorizer\n",
      "\tELDR: {'precision': 0.2, 'recall': 0.007709251101321586, 'f1-score': 0.014846235418875928, 'support': 908.0}\n",
      "\tGUE-NGL: {'precision': 0.14285714285714285, 'recall': 0.0033444816053511705, 'f1-score': 0.006535947712418301, 'support': 1196.0}\n",
      "\tPPE-DE: {'precision': 0.42, 'recall': 0.013784049885132918, 'f1-score': 0.02669208770257388, 'support': 3047.0}\n",
      "\tPSE: {'precision': 0.28701084394153703, 'recall': 0.978304539975894, 'f1-score': 0.4438166408457122, 'support': 2489.0}\n",
      "\tVerts-ALE: {'precision': 0.09230769230769231, 'recall': 0.005597014925373134, 'f1-score': 0.010554089709762533, 'support': 1072.0}\n",
      "\taccuracy: 0.2862718089990817\n",
      "\tmacro avg: {'precision': 0.22843513582127448, 'recall': 0.20174786749861456, 'f1-score': 0.10048900027786858, 'support': 8712.0}\n",
      "\tweighted avg: {'precision': 0.2807071831475522, 'recall': 0.2862718089990817, 'f1-score': 0.13987623619008008, 'support': 8712.0}\n",
      "Vectorizer: TfidfVectorizer\n",
      "\tELDR: {'precision': 0.12643678160919541, 'recall': 0.03634361233480176, 'f1-score': 0.05645851154833191, 'support': 908.0}\n",
      "\tGUE-NGL: {'precision': 0.20711297071129708, 'recall': 0.08277591973244147, 'f1-score': 0.11827956989247312, 'support': 1196.0}\n",
      "\tPPE-DE: {'precision': 0.3577586206896552, 'recall': 0.10895963242533639, 'f1-score': 0.1670440251572327, 'support': 3047.0}\n",
      "\tPSE: {'precision': 0.26824817518248173, 'recall': 0.17717959019686622, 'f1-score': 0.2134043067989354, 'support': 2489.0}\n",
      "\tVerts-ALE: {'precision': 0.12256989446398815, 'recall': 0.6175373134328358, 'f1-score': 0.2045419434574386, 'support': 1072.0}\n",
      "\taccuracy: 0.17986685032139577\n",
      "\tmacro avg: {'precision': 0.2164252885313235, 'recall': 0.20455921362445634, 'f1-score': 0.15194567137088236, 'support': 8712.0}\n",
      "\tweighted avg: {'precision': 0.25845579233331406, 'recall': 0.17986685032139577, 'f1-score': 0.16668297999773826, 'support': 8712.0}\n",
      "Vectorizer: TfidfVectorizer\n",
      "\tELDR: {'precision': 0.10124416796267496, 'recall': 0.7169603524229075, 'f1-score': 0.17743254292722813, 'support': 908.0}\n",
      "\tGUE-NGL: {'precision': 0.16, 'recall': 0.06688963210702341, 'f1-score': 0.09433962264150944, 'support': 1196.0}\n",
      "\tPPE-DE: {'precision': 0.36538461538461536, 'recall': 0.0935346242205448, 'f1-score': 0.1489417298144761, 'support': 3047.0}\n",
      "\tPSE: {'precision': 0.30013106159895153, 'recall': 0.0920048212133387, 'f1-score': 0.14083640836408365, 'support': 2489.0}\n",
      "\tVerts-ALE: {'precision': 0.11715481171548117, 'recall': 0.026119402985074626, 'f1-score': 0.04271548436308162, 'support': 1072.0}\n",
      "\taccuracy: 0.14612029384756658\n",
      "\tmacro avg: {'precision': 0.2087829313323446, 'recall': 0.1991017665897778, 'f1-score': 0.12085315762207578, 'support': 8712.0}\n",
      "\tweighted avg: {'precision': 0.26047208425916185, 'recall': 0.14612029384756658, 'f1-score': 0.12902860514891012, 'support': 8712.0}\n",
      "Vectorizer: TfidfVectorizer\n",
      "\tELDR: {'precision': 0.02702702702702703, 'recall': 0.0011013215859030838, 'f1-score': 0.0021164021164021165, 'support': 908.0}\n",
      "\tGUE-NGL: {'precision': 0.1365045302813543, 'recall': 0.9573578595317725, 'f1-score': 0.23893989983305508, 'support': 1196.0}\n",
      "\tPPE-DE: {'precision': 0.3333333333333333, 'recall': 0.015425008204791599, 'f1-score': 0.029485570890840654, 'support': 3047.0}\n",
      "\tPSE: {'precision': 0.3218390804597701, 'recall': 0.01124949779027722, 'f1-score': 0.021739130434782608, 'support': 2489.0}\n",
      "\tVerts-ALE: {'precision': 0.15254237288135594, 'recall': 0.008395522388059701, 'f1-score': 0.015915119363395226, 'support': 1072.0}\n",
      "\taccuracy: 0.14118457300275483\n",
      "\tmacro avg: {'precision': 0.19424926879656815, 'recall': 0.19870584190016083, 'f1-score': 0.06163922452769514, 'support': 8712.0}\n",
      "\tweighted avg: {'precision': 0.24885784210478515, 'recall': 0.14118457300275483, 'f1-score': 0.05150436770387421, 'support': 8712.0}\n"
     ]
    }
   ],
   "source": [
    "for score in sorted_scores:\n",
    "    print(f\"Vectorizer: {score['vectorizer'].__class__.__name__}\")\n",
    "    for key, value in score[\"scores\"].items():\n",
    "        print(f\"\\t{key}: {value}\")\n",
    "\n",
    "        # support = le nombre d'échantillons (genre ELDR apprait 908 fois)"
   ]
  },
  {
   "cell_type": "markdown",
   "metadata": {},
   "source": [
    "### Passive Aggressive"
   ]
  },
  {
   "cell_type": "markdown",
   "metadata": {},
   "source": [
    "Résultats médiocres et le model avec la meilleure accuracy a des fscores désastreuses. PLutôt utiliser ces dernières pour l'évaluation."
   ]
  },
  {
   "cell_type": "markdown",
   "metadata": {},
   "source": [
    "### MultiNomial Naive Bayes"
   ]
  },
  {
   "cell_type": "markdown",
   "metadata": {},
   "source": [
    "### Complement Naive Bayes"
   ]
  },
  {
   "cell_type": "markdown",
   "metadata": {},
   "source": [
    "### Linear SVC"
   ]
  },
  {
   "cell_type": "markdown",
   "metadata": {},
   "source": [
    "# Comparaison"
   ]
  },
  {
   "cell_type": "code",
   "execution_count": 85,
   "metadata": {},
   "outputs": [],
   "source": [
    "def time_function(func):\n",
    "    def wrapper(*args, **kwargs):\n",
    "        start = time.time()\n",
    "        result = func(*args, **kwargs)\n",
    "        end = time.time()\n",
    "        return result, end - start\n",
    "    return wrapper"
   ]
  },
  {
   "cell_type": "code",
   "execution_count": 86,
   "metadata": {},
   "outputs": [],
   "source": [
    "class Model:\n",
    "\n",
    "    # Contient tous les modèles entrainés ! \n",
    "    all_models = []\n",
    "\n",
    "    def __init__(self, name: str, model=None, vectorisation=None, scores={}, running_time=None, performance=None):\n",
    "        self.name = name\n",
    "        self.model = model\n",
    "        self.vectorisation = vectorisation\n",
    "        self.scores = scores\n",
    "        self.running_time = running_time\n",
    "        self.performance = performance\n",
    "\n",
    "        Model.all_models.append(self)\n",
    "        # Pour chaque modèle entraîné, on garde son nom (algo + num), le modèle et ses \n",
    "        # hyperparamètres pour cet entraînement, les métriques obtenues, et son temps d'execution !\n",
    "\n",
    "    # Pour vider la liste si nécessaire ! \n",
    "    @classmethod\n",
    "    def reset(cls):\n",
    "        cls.all_models = []\n",
    "\n",
    "    # Entraîne le modèle\n",
    "    @time_function\n",
    "    def fit_model(self, x_train, y_train):\n",
    "        self.model.fit(x_train, y_train)\n",
    "    \n",
    "    # Prédictions et scores\n",
    "    @time_function\n",
    "    def predict(self, x_test, y_test):\n",
    "        y_pred = self.model.predict(x_test)\n",
    "        report = classification_report(y_test, y_pred, output_dict=True)\n",
    "        accuracy = accuracy_score(y_test, y_pred)\n",
    "        accuracy_dict =  {\"accuracy\": accuracy, **report}\n",
    "        self.scores = accuracy_dict\n",
    "        return y_pred\n",
    "\n",
    "    # Lance les fonctions d'entraînement et de prédiction\n",
    "    # Stock les temps d'execution\n",
    "    def test_model(self, x_train, y_train, x_test, y_test):\n",
    "        _, fit_execution_time = self.fit_model(x_train, y_train)\n",
    "        y_pred, predict_execution_time = self.predict(x_test, y_test)\n",
    "        self.running_time = fit_execution_time + predict_execution_time"
   ]
  },
  {
   "cell_type": "code",
   "execution_count": 87,
   "metadata": {},
   "outputs": [],
   "source": [
    "Model.reset()"
   ]
  },
  {
   "cell_type": "markdown",
   "metadata": {},
   "source": []
  },
  {
   "cell_type": "code",
   "execution_count": 88,
   "metadata": {},
   "outputs": [],
   "source": [
    "from sklearn.linear_model import PassiveAggressiveClassifier\n",
    "\n",
    "# on met les hyperparamètres par défaut\n",
    "models_dict = {\n",
    "    \"LinearSVC\": {\"model\": LinearSVC(), \"hyperparameters\": {\"C\": [0.5, 1.0], \"dual\":[True, False]}},\n",
    "    \"RandomForestClassifier\": {\"model\": RandomForestClassifier(), \"hyperparameters\": {\"max_depth\": [100]}},\n",
    "    \"KNeighborsClassifier\": {\"model\": KNeighborsClassifier(), \"hyperparameters\": {\"algorithm\": \"auto\", \"leaf_size\": 30, \"metric\": \"minkowski\", \"metric_params\": None, \"n_jobs\": None, \"n_neighbors\": 5,\" p\": 2, \"weights\": \"uniform\"}},\n",
    "    \"PassiveAggressiveClassifier\": {\"model\": PassiveAggressiveClassifier(), \"hyperparameters\": {\"max_iter\": 1000, \"validation_fraction\": 0.1, \"n_iter_no_change\": 5, \"shuffle\": True, \"verbose\": 0, \"loss\": \"hinge\", \"n_jobs\": None, \"random_state\": None, \"warm_start\": False, \"class_weight\": None}},\n",
    "    \"MultinomialNB\": {\"model\": MultinomialNB(), \"hyperparameters\": {\"alpha\":1.0, \"class_prior\": None, \"fit_prior\": True,}},\n",
    "    \"ComplementNB\": {\"model\": ComplementNB(), \"hyperparameters\": {\"alpha\": 1.0, \"class_prior\": None, \"fit_prior\": True, \"norm\": False}},\n",
    "    \"SVC\": {\"model\": SVC(), \"hyperparameters\": {\"kernel\": [\"poly\", \"sigmoid\"]}},\n",
    "    \"RidgeClassifier\": {\"model\": RidgeClassifier(), \"hyperparameters\": { \"alpha\": [1.0, 1.5, 2]}},\n",
    "    \"LGBMClassifier\": {\"model\": LGBMClassifier(), \"hyperparameters\": {\"max_depth\": [1000], \"n_estimators\": [1000]}},\n",
    "    \"LogisticRegression\": {\"model\": LogisticRegression(), \"hyperparameters\": {\"C\": [0.5, 1.0]}},\n",
    "    \"SGDClassifier\": {\"model\": SGDClassifier(), \"hyperparameters\": {\"alpha\": [0.0001, 0.001, 0.01], \"loss\": [\"hinge\", \"squared_hinge\"]}},\n",
    "\t}"
   ]
  },
  {
   "cell_type": "code",
   "execution_count": 89,
   "metadata": {},
   "outputs": [],
   "source": [
    "def hyperparameters_training(model_name, model_dict, x_train, y_train, x_test, y_test):\n",
    "    param_grid = model_dict[\"hyperparameters\"]\n",
    "\n",
    "    if len(param_grid) == 1:\n",
    "        param_name, param_values = list(param_grid.items())[0]\n",
    "        for i, value in enumerate(param_values, start=1):\n",
    "            params = {param_name: value}\n",
    "            model = model_dict[\"model\"].__class__(**params)  \n",
    "            model_obj = Model(name=f\"{model_name}_{i}\", model=model)\n",
    "            model_obj.test_model(x_train, y_train, x_test, y_test)\n",
    "    else:\n",
    "        param_grid_combinations = list(product(*param_grid.values()))\n",
    "        for i, combination in enumerate(param_grid_combinations, start=1):\n",
    "            params = {param_name: value for param_name, value in zip(param_grid.keys(), combination)}\n",
    "            model = model_dict[\"model\"].__class__(**params) \n",
    "            model_obj = Model(name=f\"{model_name}_{i}\", model=model)\n",
    "            model_obj.test_model(x_train, y_train, x_test, y_test)"
   ]
  },
  {
   "cell_type": "code",
   "execution_count": 90,
   "metadata": {},
   "outputs": [],
   "source": [
    "@time_function\n",
    "def test_models(models, x_train, y_train, x_test, y_test):\n",
    "                                 \n",
    "    for model_name, model_dict in models.items():\n",
    "        print(f\"On teste le modèle {model_name} !\")\n",
    "        hyperparameters_training(model_name, model_dict, x_train, y_train, x_test, y_test)"
   ]
  },
  {
   "cell_type": "code",
   "execution_count": 91,
   "metadata": {},
   "outputs": [],
   "source": [
    "def test_models_and_vectorisations(models, vectorisations, df_train, df_test):\n",
    "    \n",
    "    for i, row in vectorisations.iterrows():\n",
    "        print(f\"Vectorisation {row['vectorizer'].__class__.__name__} en cours !\")\n",
    "        x_train = row[\"x_train\"]\n",
    "        x_test = row[\"x_test\"]\n",
    "        test_models(models, x_train, df_train[\"valeur\"], x_test, df_test[\"valeur\"])"
   ]
  },
  {
   "cell_type": "code",
   "execution_count": null,
   "metadata": {},
   "outputs": [
    {
     "name": "stdout",
     "output_type": "stream",
     "text": [
      "Vectorisation TfidfVectorizer en cours !\n",
      "On teste le modèle LogisticRegression !\n",
      "On teste le modèle LinearSVC !\n",
      "On teste le modèle RidgeClassifier !\n",
      "On teste le modèle LGBMClassifier !\n"
     ]
    },
    {
     "name": "stderr",
     "output_type": "stream",
     "text": [
      "/home/debora/Documents/scripts/.venv/deft09/lib/python3.12/site-packages/sklearn/utils/deprecation.py:151: FutureWarning: 'force_all_finite' was renamed to 'ensure_all_finite' in 1.6 and will be removed in 1.8.\n",
      "  warnings.warn(\n"
     ]
    },
    {
     "name": "stdout",
     "output_type": "stream",
     "text": [
      "[LightGBM] [Info] Auto-choosing row-wise multi-threading, the overhead of testing was 0.060213 seconds.\n",
      "You can set `force_row_wise=true` to remove the overhead.\n",
      "And if memory is not enough, you can set `force_col_wise=true`.\n",
      "[LightGBM] [Info] Total Bins 108482\n",
      "[LightGBM] [Info] Number of data points in the train set: 13068, number of used features: 1000\n",
      "[LightGBM] [Info] Start training from score -2.269321\n",
      "[LightGBM] [Info] Start training from score -1.969683\n",
      "[LightGBM] [Info] Start training from score -1.036530\n",
      "[LightGBM] [Info] Start training from score -1.275439\n",
      "[LightGBM] [Info] Start training from score -2.094554\n"
     ]
    },
    {
     "name": "stderr",
     "output_type": "stream",
     "text": [
      "/home/debora/Documents/scripts/.venv/deft09/lib/python3.12/site-packages/sklearn/utils/deprecation.py:151: FutureWarning: 'force_all_finite' was renamed to 'ensure_all_finite' in 1.6 and will be removed in 1.8.\n",
      "  warnings.warn(\n"
     ]
    },
    {
     "name": "stdout",
     "output_type": "stream",
     "text": [
      "On teste le modèle RandomForestClassifier !\n",
      "Vectorisation TfidfVectorizer en cours !\n",
      "On teste le modèle LogisticRegression !\n",
      "On teste le modèle LinearSVC !\n",
      "On teste le modèle RidgeClassifier !\n",
      "On teste le modèle LGBMClassifier !\n"
     ]
    },
    {
     "name": "stderr",
     "output_type": "stream",
     "text": [
      "/home/debora/Documents/scripts/.venv/deft09/lib/python3.12/site-packages/sklearn/utils/deprecation.py:151: FutureWarning: 'force_all_finite' was renamed to 'ensure_all_finite' in 1.6 and will be removed in 1.8.\n",
      "  warnings.warn(\n"
     ]
    },
    {
     "name": "stdout",
     "output_type": "stream",
     "text": [
      "[LightGBM] [Info] Auto-choosing col-wise multi-threading, the overhead of testing was 0.083685 seconds.\n",
      "You can set `force_col_wise=true` to remove the overhead.\n",
      "[LightGBM] [Info] Total Bins 140611\n",
      "[LightGBM] [Info] Number of data points in the train set: 13068, number of used features: 1000\n",
      "[LightGBM] [Info] Start training from score -2.269321\n",
      "[LightGBM] [Info] Start training from score -1.969683\n",
      "[LightGBM] [Info] Start training from score -1.036530\n",
      "[LightGBM] [Info] Start training from score -1.275439\n",
      "[LightGBM] [Info] Start training from score -2.094554\n"
     ]
    },
    {
     "name": "stderr",
     "output_type": "stream",
     "text": [
      "/home/debora/Documents/scripts/.venv/deft09/lib/python3.12/site-packages/sklearn/utils/deprecation.py:151: FutureWarning: 'force_all_finite' was renamed to 'ensure_all_finite' in 1.6 and will be removed in 1.8.\n",
      "  warnings.warn(\n"
     ]
    },
    {
     "name": "stdout",
     "output_type": "stream",
     "text": [
      "On teste le modèle RandomForestClassifier !\n",
      "Vectorisation TfidfVectorizer en cours !\n",
      "On teste le modèle LogisticRegression !\n"
     ]
    },
    {
     "name": "stderr",
     "output_type": "stream",
     "text": [
      "/home/debora/Documents/scripts/.venv/deft09/lib/python3.12/site-packages/sklearn/linear_model/_logistic.py:465: ConvergenceWarning: lbfgs failed to converge (status=1):\n",
      "STOP: TOTAL NO. of ITERATIONS REACHED LIMIT.\n",
      "\n",
      "Increase the number of iterations (max_iter) or scale the data as shown in:\n",
      "    https://scikit-learn.org/stable/modules/preprocessing.html\n",
      "Please also refer to the documentation for alternative solver options:\n",
      "    https://scikit-learn.org/stable/modules/linear_model.html#logistic-regression\n",
      "  n_iter_i = _check_optimize_result(\n"
     ]
    },
    {
     "name": "stdout",
     "output_type": "stream",
     "text": [
      "On teste le modèle LinearSVC !\n",
      "On teste le modèle RidgeClassifier !\n",
      "On teste le modèle LGBMClassifier !\n"
     ]
    },
    {
     "name": "stderr",
     "output_type": "stream",
     "text": [
      "/home/debora/Documents/scripts/.venv/deft09/lib/python3.12/site-packages/sklearn/utils/deprecation.py:151: FutureWarning: 'force_all_finite' was renamed to 'ensure_all_finite' in 1.6 and will be removed in 1.8.\n",
      "  warnings.warn(\n"
     ]
    },
    {
     "name": "stdout",
     "output_type": "stream",
     "text": [
      "[LightGBM] [Info] Auto-choosing col-wise multi-threading, the overhead of testing was 0.262366 seconds.\n",
      "You can set `force_col_wise=true` to remove the overhead.\n",
      "[LightGBM] [Info] Total Bins 158643\n",
      "[LightGBM] [Info] Number of data points in the train set: 13068, number of used features: 4105\n",
      "[LightGBM] [Info] Start training from score -2.269321\n",
      "[LightGBM] [Info] Start training from score -1.969683\n",
      "[LightGBM] [Info] Start training from score -1.036530\n",
      "[LightGBM] [Info] Start training from score -1.275439\n",
      "[LightGBM] [Info] Start training from score -2.094554\n"
     ]
    },
    {
     "name": "stderr",
     "output_type": "stream",
     "text": [
      "/home/debora/Documents/scripts/.venv/deft09/lib/python3.12/site-packages/sklearn/utils/deprecation.py:151: FutureWarning: 'force_all_finite' was renamed to 'ensure_all_finite' in 1.6 and will be removed in 1.8.\n",
      "  warnings.warn(\n"
     ]
    },
    {
     "name": "stdout",
     "output_type": "stream",
     "text": [
      "On teste le modèle RandomForestClassifier !\n",
      "Vectorisation TfidfVectorizer en cours !\n",
      "On teste le modèle LogisticRegression !\n",
      "On teste le modèle LinearSVC !\n",
      "On teste le modèle RidgeClassifier !\n",
      "On teste le modèle LGBMClassifier !\n"
     ]
    },
    {
     "name": "stderr",
     "output_type": "stream",
     "text": [
      "/home/debora/Documents/scripts/.venv/deft09/lib/python3.12/site-packages/sklearn/utils/deprecation.py:151: FutureWarning: 'force_all_finite' was renamed to 'ensure_all_finite' in 1.6 and will be removed in 1.8.\n",
      "  warnings.warn(\n"
     ]
    },
    {
     "name": "stdout",
     "output_type": "stream",
     "text": [
      "[LightGBM] [Info] Auto-choosing col-wise multi-threading, the overhead of testing was 0.547810 seconds.\n",
      "You can set `force_col_wise=true` to remove the overhead.\n",
      "[LightGBM] [Info] Total Bins 253268\n",
      "[LightGBM] [Info] Number of data points in the train set: 13068, number of used features: 5000\n",
      "[LightGBM] [Info] Start training from score -2.269321\n",
      "[LightGBM] [Info] Start training from score -1.969683\n",
      "[LightGBM] [Info] Start training from score -1.036530\n",
      "[LightGBM] [Info] Start training from score -1.275439\n",
      "[LightGBM] [Info] Start training from score -2.094554\n"
     ]
    },
    {
     "name": "stderr",
     "output_type": "stream",
     "text": [
      "/home/debora/Documents/scripts/.venv/deft09/lib/python3.12/site-packages/sklearn/utils/deprecation.py:151: FutureWarning: 'force_all_finite' was renamed to 'ensure_all_finite' in 1.6 and will be removed in 1.8.\n",
      "  warnings.warn(\n"
     ]
    },
    {
     "name": "stdout",
     "output_type": "stream",
     "text": [
      "On teste le modèle RandomForestClassifier !\n",
      "Vectorisation TfidfVectorizer en cours !\n",
      "On teste le modèle LogisticRegression !\n",
      "On teste le modèle LinearSVC !\n",
      "On teste le modèle RidgeClassifier !\n",
      "On teste le modèle LGBMClassifier !\n"
     ]
    },
    {
     "name": "stderr",
     "output_type": "stream",
     "text": [
      "/home/debora/Documents/scripts/.venv/deft09/lib/python3.12/site-packages/sklearn/utils/deprecation.py:151: FutureWarning: 'force_all_finite' was renamed to 'ensure_all_finite' in 1.6 and will be removed in 1.8.\n",
      "  warnings.warn(\n"
     ]
    },
    {
     "name": "stdout",
     "output_type": "stream",
     "text": [
      "[LightGBM] [Info] Auto-choosing col-wise multi-threading, the overhead of testing was 0.352477 seconds.\n",
      "You can set `force_col_wise=true` to remove the overhead.\n",
      "[LightGBM] [Info] Total Bins 158639\n",
      "[LightGBM] [Info] Number of data points in the train set: 13068, number of used features: 4105\n",
      "[LightGBM] [Info] Start training from score -2.269321\n",
      "[LightGBM] [Info] Start training from score -1.969683\n",
      "[LightGBM] [Info] Start training from score -1.036530\n",
      "[LightGBM] [Info] Start training from score -1.275439\n",
      "[LightGBM] [Info] Start training from score -2.094554\n"
     ]
    },
    {
     "name": "stderr",
     "output_type": "stream",
     "text": [
      "/home/debora/Documents/scripts/.venv/deft09/lib/python3.12/site-packages/sklearn/utils/deprecation.py:151: FutureWarning: 'force_all_finite' was renamed to 'ensure_all_finite' in 1.6 and will be removed in 1.8.\n",
      "  warnings.warn(\n"
     ]
    },
    {
     "name": "stdout",
     "output_type": "stream",
     "text": [
      "On teste le modèle RandomForestClassifier !\n",
      "Vectorisation TfidfVectorizer en cours !\n",
      "On teste le modèle LogisticRegression !\n",
      "On teste le modèle LinearSVC !\n",
      "On teste le modèle RidgeClassifier !\n",
      "On teste le modèle LGBMClassifier !\n"
     ]
    },
    {
     "name": "stderr",
     "output_type": "stream",
     "text": [
      "/home/debora/Documents/scripts/.venv/deft09/lib/python3.12/site-packages/sklearn/utils/deprecation.py:151: FutureWarning: 'force_all_finite' was renamed to 'ensure_all_finite' in 1.6 and will be removed in 1.8.\n",
      "  warnings.warn(\n"
     ]
    },
    {
     "name": "stdout",
     "output_type": "stream",
     "text": [
      "[LightGBM] [Info] Auto-choosing col-wise multi-threading, the overhead of testing was 1.599881 seconds.\n",
      "You can set `force_col_wise=true` to remove the overhead.\n",
      "[LightGBM] [Info] Total Bins 306119\n",
      "[LightGBM] [Info] Number of data points in the train set: 13068, number of used features: 9839\n",
      "[LightGBM] [Info] Start training from score -2.269321\n",
      "[LightGBM] [Info] Start training from score -1.969683\n",
      "[LightGBM] [Info] Start training from score -1.036530\n",
      "[LightGBM] [Info] Start training from score -1.275439\n",
      "[LightGBM] [Info] Start training from score -2.094554\n"
     ]
    },
    {
     "name": "stderr",
     "output_type": "stream",
     "text": [
      "/home/debora/Documents/scripts/.venv/deft09/lib/python3.12/site-packages/sklearn/utils/deprecation.py:151: FutureWarning: 'force_all_finite' was renamed to 'ensure_all_finite' in 1.6 and will be removed in 1.8.\n",
      "  warnings.warn(\n"
     ]
    },
    {
     "name": "stdout",
     "output_type": "stream",
     "text": [
      "On teste le modèle RandomForestClassifier !\n",
      "Vectorisation TfidfVectorizer en cours !\n",
      "On teste le modèle LogisticRegression !\n"
     ]
    },
    {
     "name": "stderr",
     "output_type": "stream",
     "text": [
      "/home/debora/Documents/scripts/.venv/deft09/lib/python3.12/site-packages/sklearn/linear_model/_logistic.py:465: ConvergenceWarning: lbfgs failed to converge (status=1):\n",
      "STOP: TOTAL NO. of ITERATIONS REACHED LIMIT.\n",
      "\n",
      "Increase the number of iterations (max_iter) or scale the data as shown in:\n",
      "    https://scikit-learn.org/stable/modules/preprocessing.html\n",
      "Please also refer to the documentation for alternative solver options:\n",
      "    https://scikit-learn.org/stable/modules/linear_model.html#logistic-regression\n",
      "  n_iter_i = _check_optimize_result(\n"
     ]
    },
    {
     "name": "stdout",
     "output_type": "stream",
     "text": [
      "On teste le modèle LinearSVC !\n",
      "On teste le modèle RidgeClassifier !\n",
      "On teste le modèle LGBMClassifier !\n"
     ]
    },
    {
     "name": "stderr",
     "output_type": "stream",
     "text": [
      "/home/debora/Documents/scripts/.venv/deft09/lib/python3.12/site-packages/sklearn/utils/deprecation.py:151: FutureWarning: 'force_all_finite' was renamed to 'ensure_all_finite' in 1.6 and will be removed in 1.8.\n",
      "  warnings.warn(\n"
     ]
    },
    {
     "name": "stdout",
     "output_type": "stream",
     "text": [
      "[LightGBM] [Info] Auto-choosing col-wise multi-threading, the overhead of testing was 0.192758 seconds.\n",
      "You can set `force_col_wise=true` to remove the overhead.\n",
      "[LightGBM] [Info] Total Bins 158642\n",
      "[LightGBM] [Info] Number of data points in the train set: 13068, number of used features: 4105\n",
      "[LightGBM] [Info] Start training from score -2.269321\n",
      "[LightGBM] [Info] Start training from score -1.969683\n",
      "[LightGBM] [Info] Start training from score -1.036530\n",
      "[LightGBM] [Info] Start training from score -1.275439\n",
      "[LightGBM] [Info] Start training from score -2.094554\n"
     ]
    },
    {
     "name": "stderr",
     "output_type": "stream",
     "text": [
      "/home/debora/Documents/scripts/.venv/deft09/lib/python3.12/site-packages/sklearn/utils/deprecation.py:151: FutureWarning: 'force_all_finite' was renamed to 'ensure_all_finite' in 1.6 and will be removed in 1.8.\n",
      "  warnings.warn(\n"
     ]
    },
    {
     "name": "stdout",
     "output_type": "stream",
     "text": [
      "On teste le modèle RandomForestClassifier !\n"
     ]
    },
    {
     "name": "stderr",
     "output_type": "stream",
     "text": [
      "/home/debora/Documents/scripts/.venv/deft09/lib/python3.12/site-packages/sklearn/metrics/_classification.py:1565: UndefinedMetricWarning: Precision is ill-defined and being set to 0.0 in labels with no predicted samples. Use `zero_division` parameter to control this behavior.\n",
      "  _warn_prf(average, modifier, f\"{metric.capitalize()} is\", len(result))\n",
      "/home/debora/Documents/scripts/.venv/deft09/lib/python3.12/site-packages/sklearn/metrics/_classification.py:1565: UndefinedMetricWarning: Precision is ill-defined and being set to 0.0 in labels with no predicted samples. Use `zero_division` parameter to control this behavior.\n",
      "  _warn_prf(average, modifier, f\"{metric.capitalize()} is\", len(result))\n",
      "/home/debora/Documents/scripts/.venv/deft09/lib/python3.12/site-packages/sklearn/metrics/_classification.py:1565: UndefinedMetricWarning: Precision is ill-defined and being set to 0.0 in labels with no predicted samples. Use `zero_division` parameter to control this behavior.\n",
      "  _warn_prf(average, modifier, f\"{metric.capitalize()} is\", len(result))\n"
     ]
    },
    {
     "name": "stdout",
     "output_type": "stream",
     "text": [
      "Vectorisation TfidfVectorizer en cours !\n",
      "On teste le modèle LogisticRegression !\n",
      "On teste le modèle LinearSVC !\n",
      "On teste le modèle RidgeClassifier !\n",
      "On teste le modèle LGBMClassifier !\n"
     ]
    },
    {
     "name": "stderr",
     "output_type": "stream",
     "text": [
      "/home/debora/Documents/scripts/.venv/deft09/lib/python3.12/site-packages/sklearn/utils/deprecation.py:151: FutureWarning: 'force_all_finite' was renamed to 'ensure_all_finite' in 1.6 and will be removed in 1.8.\n",
      "  warnings.warn(\n"
     ]
    },
    {
     "name": "stdout",
     "output_type": "stream",
     "text": [
      "[LightGBM] [Info] Auto-choosing col-wise multi-threading, the overhead of testing was 1.213759 seconds.\n",
      "You can set `force_col_wise=true` to remove the overhead.\n",
      "[LightGBM] [Info] Total Bins 309615\n",
      "[LightGBM] [Info] Number of data points in the train set: 13068, number of used features: 10276\n",
      "[LightGBM] [Info] Start training from score -2.269321\n",
      "[LightGBM] [Info] Start training from score -1.969683\n",
      "[LightGBM] [Info] Start training from score -1.036530\n",
      "[LightGBM] [Info] Start training from score -1.275439\n",
      "[LightGBM] [Info] Start training from score -2.094554\n"
     ]
    },
    {
     "name": "stderr",
     "output_type": "stream",
     "text": [
      "/home/debora/Documents/scripts/.venv/deft09/lib/python3.12/site-packages/sklearn/utils/deprecation.py:151: FutureWarning: 'force_all_finite' was renamed to 'ensure_all_finite' in 1.6 and will be removed in 1.8.\n",
      "  warnings.warn(\n"
     ]
    },
    {
     "name": "stdout",
     "output_type": "stream",
     "text": [
      "On teste le modèle RandomForestClassifier !\n",
      "Vectorisation TfidfVectorizer en cours !\n",
      "On teste le modèle LogisticRegression !\n",
      "On teste le modèle LinearSVC !\n",
      "On teste le modèle RidgeClassifier !\n",
      "On teste le modèle LGBMClassifier !\n"
     ]
    },
    {
     "name": "stderr",
     "output_type": "stream",
     "text": [
      "/home/debora/Documents/scripts/.venv/deft09/lib/python3.12/site-packages/sklearn/utils/deprecation.py:151: FutureWarning: 'force_all_finite' was renamed to 'ensure_all_finite' in 1.6 and will be removed in 1.8.\n",
      "  warnings.warn(\n"
     ]
    },
    {
     "name": "stdout",
     "output_type": "stream",
     "text": [
      "[LightGBM] [Info] Auto-choosing col-wise multi-threading, the overhead of testing was 0.069629 seconds.\n",
      "You can set `force_col_wise=true` to remove the overhead.\n",
      "[LightGBM] [Info] Total Bins 111322\n",
      "[LightGBM] [Info] Number of data points in the train set: 13068, number of used features: 1000\n",
      "[LightGBM] [Info] Start training from score -2.269321\n",
      "[LightGBM] [Info] Start training from score -1.969683\n",
      "[LightGBM] [Info] Start training from score -1.036530\n",
      "[LightGBM] [Info] Start training from score -1.275439\n",
      "[LightGBM] [Info] Start training from score -2.094554\n"
     ]
    },
    {
     "name": "stderr",
     "output_type": "stream",
     "text": [
      "/home/debora/Documents/scripts/.venv/deft09/lib/python3.12/site-packages/sklearn/utils/deprecation.py:151: FutureWarning: 'force_all_finite' was renamed to 'ensure_all_finite' in 1.6 and will be removed in 1.8.\n",
      "  warnings.warn(\n"
     ]
    },
    {
     "name": "stdout",
     "output_type": "stream",
     "text": [
      "On teste le modèle RandomForestClassifier !\n"
     ]
    },
    {
     "name": "stderr",
     "output_type": "stream",
     "text": [
      "/home/debora/Documents/scripts/.venv/deft09/lib/python3.12/site-packages/sklearn/metrics/_classification.py:1565: UndefinedMetricWarning: Precision is ill-defined and being set to 0.0 in labels with no predicted samples. Use `zero_division` parameter to control this behavior.\n",
      "  _warn_prf(average, modifier, f\"{metric.capitalize()} is\", len(result))\n",
      "/home/debora/Documents/scripts/.venv/deft09/lib/python3.12/site-packages/sklearn/metrics/_classification.py:1565: UndefinedMetricWarning: Precision is ill-defined and being set to 0.0 in labels with no predicted samples. Use `zero_division` parameter to control this behavior.\n",
      "  _warn_prf(average, modifier, f\"{metric.capitalize()} is\", len(result))\n",
      "/home/debora/Documents/scripts/.venv/deft09/lib/python3.12/site-packages/sklearn/metrics/_classification.py:1565: UndefinedMetricWarning: Precision is ill-defined and being set to 0.0 in labels with no predicted samples. Use `zero_division` parameter to control this behavior.\n",
      "  _warn_prf(average, modifier, f\"{metric.capitalize()} is\", len(result))\n"
     ]
    },
    {
     "name": "stdout",
     "output_type": "stream",
     "text": [
      "Vectorisation TfidfVectorizer en cours !\n",
      "On teste le modèle LogisticRegression !\n"
     ]
    },
    {
     "name": "stderr",
     "output_type": "stream",
     "text": [
      "/home/debora/Documents/scripts/.venv/deft09/lib/python3.12/site-packages/sklearn/linear_model/_logistic.py:465: ConvergenceWarning: lbfgs failed to converge (status=1):\n",
      "STOP: TOTAL NO. of ITERATIONS REACHED LIMIT.\n",
      "\n",
      "Increase the number of iterations (max_iter) or scale the data as shown in:\n",
      "    https://scikit-learn.org/stable/modules/preprocessing.html\n",
      "Please also refer to the documentation for alternative solver options:\n",
      "    https://scikit-learn.org/stable/modules/linear_model.html#logistic-regression\n",
      "  n_iter_i = _check_optimize_result(\n"
     ]
    },
    {
     "name": "stdout",
     "output_type": "stream",
     "text": [
      "On teste le modèle LinearSVC !\n",
      "On teste le modèle RidgeClassifier !\n",
      "On teste le modèle LGBMClassifier !\n"
     ]
    },
    {
     "name": "stderr",
     "output_type": "stream",
     "text": [
      "/home/debora/Documents/scripts/.venv/deft09/lib/python3.12/site-packages/sklearn/utils/deprecation.py:151: FutureWarning: 'force_all_finite' was renamed to 'ensure_all_finite' in 1.6 and will be removed in 1.8.\n",
      "  warnings.warn(\n"
     ]
    },
    {
     "name": "stdout",
     "output_type": "stream",
     "text": [
      "[LightGBM] [Info] Auto-choosing col-wise multi-threading, the overhead of testing was 0.121925 seconds.\n",
      "You can set `force_col_wise=true` to remove the overhead.\n",
      "[LightGBM] [Info] Total Bins 143647\n",
      "[LightGBM] [Info] Number of data points in the train set: 13068, number of used features: 1000\n",
      "[LightGBM] [Info] Start training from score -2.269321\n",
      "[LightGBM] [Info] Start training from score -1.969683\n",
      "[LightGBM] [Info] Start training from score -1.036530\n",
      "[LightGBM] [Info] Start training from score -1.275439\n",
      "[LightGBM] [Info] Start training from score -2.094554\n"
     ]
    },
    {
     "name": "stderr",
     "output_type": "stream",
     "text": [
      "/home/debora/Documents/scripts/.venv/deft09/lib/python3.12/site-packages/sklearn/utils/deprecation.py:151: FutureWarning: 'force_all_finite' was renamed to 'ensure_all_finite' in 1.6 and will be removed in 1.8.\n",
      "  warnings.warn(\n"
     ]
    },
    {
     "name": "stdout",
     "output_type": "stream",
     "text": [
      "On teste le modèle RandomForestClassifier !\n",
      "Vectorisation TfidfVectorizer en cours !\n",
      "On teste le modèle LogisticRegression !\n"
     ]
    },
    {
     "name": "stderr",
     "output_type": "stream",
     "text": [
      "/home/debora/Documents/scripts/.venv/deft09/lib/python3.12/site-packages/sklearn/linear_model/_logistic.py:465: ConvergenceWarning: lbfgs failed to converge (status=1):\n",
      "STOP: TOTAL NO. of ITERATIONS REACHED LIMIT.\n",
      "\n",
      "Increase the number of iterations (max_iter) or scale the data as shown in:\n",
      "    https://scikit-learn.org/stable/modules/preprocessing.html\n",
      "Please also refer to the documentation for alternative solver options:\n",
      "    https://scikit-learn.org/stable/modules/linear_model.html#logistic-regression\n",
      "  n_iter_i = _check_optimize_result(\n"
     ]
    },
    {
     "name": "stdout",
     "output_type": "stream",
     "text": [
      "On teste le modèle LinearSVC !\n",
      "On teste le modèle RidgeClassifier !\n",
      "On teste le modèle LGBMClassifier !\n"
     ]
    },
    {
     "name": "stderr",
     "output_type": "stream",
     "text": [
      "/home/debora/Documents/scripts/.venv/deft09/lib/python3.12/site-packages/sklearn/utils/deprecation.py:151: FutureWarning: 'force_all_finite' was renamed to 'ensure_all_finite' in 1.6 and will be removed in 1.8.\n",
      "  warnings.warn(\n"
     ]
    },
    {
     "name": "stdout",
     "output_type": "stream",
     "text": [
      "[LightGBM] [Info] Auto-choosing col-wise multi-threading, the overhead of testing was 0.488540 seconds.\n",
      "You can set `force_col_wise=true` to remove the overhead.\n",
      "[LightGBM] [Info] Total Bins 161957\n",
      "[LightGBM] [Info] Number of data points in the train set: 13068, number of used features: 4118\n",
      "[LightGBM] [Info] Start training from score -2.269321\n",
      "[LightGBM] [Info] Start training from score -1.969683\n",
      "[LightGBM] [Info] Start training from score -1.036530\n",
      "[LightGBM] [Info] Start training from score -1.275439\n",
      "[LightGBM] [Info] Start training from score -2.094554\n"
     ]
    },
    {
     "name": "stderr",
     "output_type": "stream",
     "text": [
      "/home/debora/Documents/scripts/.venv/deft09/lib/python3.12/site-packages/sklearn/utils/deprecation.py:151: FutureWarning: 'force_all_finite' was renamed to 'ensure_all_finite' in 1.6 and will be removed in 1.8.\n",
      "  warnings.warn(\n"
     ]
    },
    {
     "name": "stdout",
     "output_type": "stream",
     "text": [
      "On teste le modèle RandomForestClassifier !\n",
      "Vectorisation TfidfVectorizer en cours !\n",
      "On teste le modèle LogisticRegression !\n",
      "On teste le modèle LinearSVC !\n",
      "On teste le modèle RidgeClassifier !\n",
      "On teste le modèle LGBMClassifier !\n"
     ]
    },
    {
     "name": "stderr",
     "output_type": "stream",
     "text": [
      "/home/debora/Documents/scripts/.venv/deft09/lib/python3.12/site-packages/sklearn/utils/deprecation.py:151: FutureWarning: 'force_all_finite' was renamed to 'ensure_all_finite' in 1.6 and will be removed in 1.8.\n",
      "  warnings.warn(\n"
     ]
    },
    {
     "name": "stdout",
     "output_type": "stream",
     "text": [
      "[LightGBM] [Info] Auto-choosing col-wise multi-threading, the overhead of testing was 0.801142 seconds.\n",
      "You can set `force_col_wise=true` to remove the overhead.\n",
      "[LightGBM] [Info] Total Bins 257109\n",
      "[LightGBM] [Info] Number of data points in the train set: 13068, number of used features: 5000\n",
      "[LightGBM] [Info] Start training from score -2.269321\n",
      "[LightGBM] [Info] Start training from score -1.969683\n",
      "[LightGBM] [Info] Start training from score -1.036530\n",
      "[LightGBM] [Info] Start training from score -1.275439\n",
      "[LightGBM] [Info] Start training from score -2.094554\n"
     ]
    },
    {
     "name": "stderr",
     "output_type": "stream",
     "text": [
      "/home/debora/Documents/scripts/.venv/deft09/lib/python3.12/site-packages/sklearn/utils/deprecation.py:151: FutureWarning: 'force_all_finite' was renamed to 'ensure_all_finite' in 1.6 and will be removed in 1.8.\n",
      "  warnings.warn(\n"
     ]
    },
    {
     "name": "stdout",
     "output_type": "stream",
     "text": [
      "On teste le modèle RandomForestClassifier !\n",
      "Vectorisation TfidfVectorizer en cours !\n",
      "On teste le modèle LogisticRegression !\n",
      "On teste le modèle LinearSVC !\n",
      "On teste le modèle RidgeClassifier !\n",
      "On teste le modèle LGBMClassifier !\n"
     ]
    },
    {
     "name": "stderr",
     "output_type": "stream",
     "text": [
      "/home/debora/Documents/scripts/.venv/deft09/lib/python3.12/site-packages/sklearn/utils/deprecation.py:151: FutureWarning: 'force_all_finite' was renamed to 'ensure_all_finite' in 1.6 and will be removed in 1.8.\n",
      "  warnings.warn(\n"
     ]
    },
    {
     "name": "stdout",
     "output_type": "stream",
     "text": [
      "[LightGBM] [Info] Auto-choosing col-wise multi-threading, the overhead of testing was 0.464728 seconds.\n",
      "You can set `force_col_wise=true` to remove the overhead.\n",
      "[LightGBM] [Info] Total Bins 161958\n",
      "[LightGBM] [Info] Number of data points in the train set: 13068, number of used features: 4118\n",
      "[LightGBM] [Info] Start training from score -2.269321\n",
      "[LightGBM] [Info] Start training from score -1.969683\n",
      "[LightGBM] [Info] Start training from score -1.036530\n",
      "[LightGBM] [Info] Start training from score -1.275439\n",
      "[LightGBM] [Info] Start training from score -2.094554\n"
     ]
    },
    {
     "ename": "KeyboardInterrupt",
     "evalue": "",
     "output_type": "error",
     "traceback": [
      "\u001b[0;31m---------------------------------------------------------------------------\u001b[0m",
      "\u001b[0;31mKeyboardInterrupt\u001b[0m                         Traceback (most recent call last)",
      "Cell \u001b[0;32mIn[92], line 1\u001b[0m\n\u001b[0;32m----> 1\u001b[0m \u001b[43mtest_models_and_vectorisations\u001b[49m\u001b[43m(\u001b[49m\u001b[43mmodels_dict\u001b[49m\u001b[43m,\u001b[49m\u001b[43m \u001b[49m\u001b[43mdf_vectorisations\u001b[49m\u001b[43m,\u001b[49m\u001b[43m \u001b[49m\u001b[43mdf_train\u001b[49m\u001b[43m,\u001b[49m\u001b[43m \u001b[49m\u001b[43mdf_test\u001b[49m\u001b[43m)\u001b[49m\n",
      "Cell \u001b[0;32mIn[91], line 7\u001b[0m, in \u001b[0;36mtest_models_and_vectorisations\u001b[0;34m(models, vectorisations, df_train, df_test)\u001b[0m\n\u001b[1;32m      5\u001b[0m x_train \u001b[38;5;241m=\u001b[39m row[\u001b[38;5;124m\"\u001b[39m\u001b[38;5;124mx_train\u001b[39m\u001b[38;5;124m\"\u001b[39m]\n\u001b[1;32m      6\u001b[0m x_test \u001b[38;5;241m=\u001b[39m row[\u001b[38;5;124m\"\u001b[39m\u001b[38;5;124mx_test\u001b[39m\u001b[38;5;124m\"\u001b[39m]\n\u001b[0;32m----> 7\u001b[0m \u001b[43mtest_models\u001b[49m\u001b[43m(\u001b[49m\u001b[43mmodels\u001b[49m\u001b[43m,\u001b[49m\u001b[43m \u001b[49m\u001b[43mx_train\u001b[49m\u001b[43m,\u001b[49m\u001b[43m \u001b[49m\u001b[43mdf_train\u001b[49m\u001b[43m[\u001b[49m\u001b[38;5;124;43m\"\u001b[39;49m\u001b[38;5;124;43mvaleur\u001b[39;49m\u001b[38;5;124;43m\"\u001b[39;49m\u001b[43m]\u001b[49m\u001b[43m,\u001b[49m\u001b[43m \u001b[49m\u001b[43mx_test\u001b[49m\u001b[43m,\u001b[49m\u001b[43m \u001b[49m\u001b[43mdf_test\u001b[49m\u001b[43m[\u001b[49m\u001b[38;5;124;43m\"\u001b[39;49m\u001b[38;5;124;43mvaleur\u001b[39;49m\u001b[38;5;124;43m\"\u001b[39;49m\u001b[43m]\u001b[49m\u001b[43m)\u001b[49m\n",
      "Cell \u001b[0;32mIn[85], line 4\u001b[0m, in \u001b[0;36mtime_function.<locals>.wrapper\u001b[0;34m(*args, **kwargs)\u001b[0m\n\u001b[1;32m      2\u001b[0m \u001b[38;5;28;01mdef\u001b[39;00m \u001b[38;5;21mwrapper\u001b[39m(\u001b[38;5;241m*\u001b[39margs, \u001b[38;5;241m*\u001b[39m\u001b[38;5;241m*\u001b[39mkwargs):\n\u001b[1;32m      3\u001b[0m     start \u001b[38;5;241m=\u001b[39m time\u001b[38;5;241m.\u001b[39mtime()\n\u001b[0;32m----> 4\u001b[0m     result \u001b[38;5;241m=\u001b[39m \u001b[43mfunc\u001b[49m\u001b[43m(\u001b[49m\u001b[38;5;241;43m*\u001b[39;49m\u001b[43margs\u001b[49m\u001b[43m,\u001b[49m\u001b[43m \u001b[49m\u001b[38;5;241;43m*\u001b[39;49m\u001b[38;5;241;43m*\u001b[39;49m\u001b[43mkwargs\u001b[49m\u001b[43m)\u001b[49m\n\u001b[1;32m      5\u001b[0m     end \u001b[38;5;241m=\u001b[39m time\u001b[38;5;241m.\u001b[39mtime()\n\u001b[1;32m      6\u001b[0m     \u001b[38;5;28;01mreturn\u001b[39;00m result, end \u001b[38;5;241m-\u001b[39m start\n",
      "Cell \u001b[0;32mIn[90], line 6\u001b[0m, in \u001b[0;36mtest_models\u001b[0;34m(models, x_train, y_train, x_test, y_test)\u001b[0m\n\u001b[1;32m      4\u001b[0m \u001b[38;5;28;01mfor\u001b[39;00m model_name, model_dict \u001b[38;5;129;01min\u001b[39;00m models\u001b[38;5;241m.\u001b[39mitems():\n\u001b[1;32m      5\u001b[0m     \u001b[38;5;28mprint\u001b[39m(\u001b[38;5;124mf\u001b[39m\u001b[38;5;124m\"\u001b[39m\u001b[38;5;124mOn teste le modèle \u001b[39m\u001b[38;5;132;01m{\u001b[39;00mmodel_name\u001b[38;5;132;01m}\u001b[39;00m\u001b[38;5;124m !\u001b[39m\u001b[38;5;124m\"\u001b[39m)\n\u001b[0;32m----> 6\u001b[0m     \u001b[43mhyperparameters_training\u001b[49m\u001b[43m(\u001b[49m\u001b[43mmodel_name\u001b[49m\u001b[43m,\u001b[49m\u001b[43m \u001b[49m\u001b[43mmodel_dict\u001b[49m\u001b[43m,\u001b[49m\u001b[43m \u001b[49m\u001b[43mx_train\u001b[49m\u001b[43m,\u001b[49m\u001b[43m \u001b[49m\u001b[43my_train\u001b[49m\u001b[43m,\u001b[49m\u001b[43m \u001b[49m\u001b[43mx_test\u001b[49m\u001b[43m,\u001b[49m\u001b[43m \u001b[49m\u001b[43my_test\u001b[49m\u001b[43m)\u001b[49m\n",
      "Cell \u001b[0;32mIn[89], line 17\u001b[0m, in \u001b[0;36mhyperparameters_training\u001b[0;34m(model_name, model_dict, x_train, y_train, x_test, y_test)\u001b[0m\n\u001b[1;32m     15\u001b[0m model \u001b[38;5;241m=\u001b[39m model_dict[\u001b[38;5;124m\"\u001b[39m\u001b[38;5;124mmodel\u001b[39m\u001b[38;5;124m\"\u001b[39m]\u001b[38;5;241m.\u001b[39m\u001b[38;5;18m__class__\u001b[39m(\u001b[38;5;241m*\u001b[39m\u001b[38;5;241m*\u001b[39mparams) \n\u001b[1;32m     16\u001b[0m model_obj \u001b[38;5;241m=\u001b[39m Model(name\u001b[38;5;241m=\u001b[39m\u001b[38;5;124mf\u001b[39m\u001b[38;5;124m\"\u001b[39m\u001b[38;5;132;01m{\u001b[39;00mmodel_name\u001b[38;5;132;01m}\u001b[39;00m\u001b[38;5;124m_\u001b[39m\u001b[38;5;132;01m{\u001b[39;00mi\u001b[38;5;132;01m}\u001b[39;00m\u001b[38;5;124m\"\u001b[39m, model\u001b[38;5;241m=\u001b[39mmodel)\n\u001b[0;32m---> 17\u001b[0m \u001b[43mmodel_obj\u001b[49m\u001b[38;5;241;43m.\u001b[39;49m\u001b[43mtest_model\u001b[49m\u001b[43m(\u001b[49m\u001b[43mx_train\u001b[49m\u001b[43m,\u001b[49m\u001b[43m \u001b[49m\u001b[43my_train\u001b[49m\u001b[43m,\u001b[49m\u001b[43m \u001b[49m\u001b[43mx_test\u001b[49m\u001b[43m,\u001b[49m\u001b[43m \u001b[49m\u001b[43my_test\u001b[49m\u001b[43m)\u001b[49m\n",
      "Cell \u001b[0;32mIn[86], line 41\u001b[0m, in \u001b[0;36mModel.test_model\u001b[0;34m(self, x_train, y_train, x_test, y_test)\u001b[0m\n\u001b[1;32m     40\u001b[0m \u001b[38;5;28;01mdef\u001b[39;00m \u001b[38;5;21mtest_model\u001b[39m(\u001b[38;5;28mself\u001b[39m, x_train, y_train, x_test, y_test):\n\u001b[0;32m---> 41\u001b[0m     _, fit_execution_time \u001b[38;5;241m=\u001b[39m \u001b[38;5;28;43mself\u001b[39;49m\u001b[38;5;241;43m.\u001b[39;49m\u001b[43mfit_model\u001b[49m\u001b[43m(\u001b[49m\u001b[43mx_train\u001b[49m\u001b[43m,\u001b[49m\u001b[43m \u001b[49m\u001b[43my_train\u001b[49m\u001b[43m)\u001b[49m\n\u001b[1;32m     42\u001b[0m     y_pred, predict_execution_time \u001b[38;5;241m=\u001b[39m \u001b[38;5;28mself\u001b[39m\u001b[38;5;241m.\u001b[39mpredict(x_test, y_test)\n\u001b[1;32m     43\u001b[0m     \u001b[38;5;28mself\u001b[39m\u001b[38;5;241m.\u001b[39mrunning_time \u001b[38;5;241m=\u001b[39m fit_execution_time \u001b[38;5;241m+\u001b[39m predict_execution_time\n",
      "Cell \u001b[0;32mIn[85], line 4\u001b[0m, in \u001b[0;36mtime_function.<locals>.wrapper\u001b[0;34m(*args, **kwargs)\u001b[0m\n\u001b[1;32m      2\u001b[0m \u001b[38;5;28;01mdef\u001b[39;00m \u001b[38;5;21mwrapper\u001b[39m(\u001b[38;5;241m*\u001b[39margs, \u001b[38;5;241m*\u001b[39m\u001b[38;5;241m*\u001b[39mkwargs):\n\u001b[1;32m      3\u001b[0m     start \u001b[38;5;241m=\u001b[39m time\u001b[38;5;241m.\u001b[39mtime()\n\u001b[0;32m----> 4\u001b[0m     result \u001b[38;5;241m=\u001b[39m \u001b[43mfunc\u001b[49m\u001b[43m(\u001b[49m\u001b[38;5;241;43m*\u001b[39;49m\u001b[43margs\u001b[49m\u001b[43m,\u001b[49m\u001b[43m \u001b[49m\u001b[38;5;241;43m*\u001b[39;49m\u001b[38;5;241;43m*\u001b[39;49m\u001b[43mkwargs\u001b[49m\u001b[43m)\u001b[49m\n\u001b[1;32m      5\u001b[0m     end \u001b[38;5;241m=\u001b[39m time\u001b[38;5;241m.\u001b[39mtime()\n\u001b[1;32m      6\u001b[0m     \u001b[38;5;28;01mreturn\u001b[39;00m result, end \u001b[38;5;241m-\u001b[39m start\n",
      "Cell \u001b[0;32mIn[86], line 26\u001b[0m, in \u001b[0;36mModel.fit_model\u001b[0;34m(self, x_train, y_train)\u001b[0m\n\u001b[1;32m     24\u001b[0m \u001b[38;5;129m@time_function\u001b[39m\n\u001b[1;32m     25\u001b[0m \u001b[38;5;28;01mdef\u001b[39;00m \u001b[38;5;21mfit_model\u001b[39m(\u001b[38;5;28mself\u001b[39m, x_train, y_train):\n\u001b[0;32m---> 26\u001b[0m     \u001b[38;5;28;43mself\u001b[39;49m\u001b[38;5;241;43m.\u001b[39;49m\u001b[43mmodel\u001b[49m\u001b[38;5;241;43m.\u001b[39;49m\u001b[43mfit\u001b[49m\u001b[43m(\u001b[49m\u001b[43mx_train\u001b[49m\u001b[43m,\u001b[49m\u001b[43m \u001b[49m\u001b[43my_train\u001b[49m\u001b[43m)\u001b[49m\n",
      "File \u001b[0;32m~/Documents/scripts/.venv/deft09/lib/python3.12/site-packages/lightgbm/sklearn.py:1284\u001b[0m, in \u001b[0;36mLGBMClassifier.fit\u001b[0;34m(self, X, y, sample_weight, init_score, eval_set, eval_names, eval_sample_weight, eval_class_weight, eval_init_score, eval_metric, feature_name, categorical_feature, callbacks, init_model)\u001b[0m\n\u001b[1;32m   1281\u001b[0m         \u001b[38;5;28;01melse\u001b[39;00m:\n\u001b[1;32m   1282\u001b[0m             valid_sets\u001b[38;5;241m.\u001b[39mappend((valid_x, \u001b[38;5;28mself\u001b[39m\u001b[38;5;241m.\u001b[39m_le\u001b[38;5;241m.\u001b[39mtransform(valid_y)))\n\u001b[0;32m-> 1284\u001b[0m \u001b[38;5;28;43msuper\u001b[39;49m\u001b[43m(\u001b[49m\u001b[43m)\u001b[49m\u001b[38;5;241;43m.\u001b[39;49m\u001b[43mfit\u001b[49m\u001b[43m(\u001b[49m\n\u001b[1;32m   1285\u001b[0m \u001b[43m    \u001b[49m\u001b[43mX\u001b[49m\u001b[43m,\u001b[49m\n\u001b[1;32m   1286\u001b[0m \u001b[43m    \u001b[49m\u001b[43m_y\u001b[49m\u001b[43m,\u001b[49m\n\u001b[1;32m   1287\u001b[0m \u001b[43m    \u001b[49m\u001b[43msample_weight\u001b[49m\u001b[38;5;241;43m=\u001b[39;49m\u001b[43msample_weight\u001b[49m\u001b[43m,\u001b[49m\n\u001b[1;32m   1288\u001b[0m \u001b[43m    \u001b[49m\u001b[43minit_score\u001b[49m\u001b[38;5;241;43m=\u001b[39;49m\u001b[43minit_score\u001b[49m\u001b[43m,\u001b[49m\n\u001b[1;32m   1289\u001b[0m \u001b[43m    \u001b[49m\u001b[43meval_set\u001b[49m\u001b[38;5;241;43m=\u001b[39;49m\u001b[43mvalid_sets\u001b[49m\u001b[43m,\u001b[49m\n\u001b[1;32m   1290\u001b[0m \u001b[43m    \u001b[49m\u001b[43meval_names\u001b[49m\u001b[38;5;241;43m=\u001b[39;49m\u001b[43meval_names\u001b[49m\u001b[43m,\u001b[49m\n\u001b[1;32m   1291\u001b[0m \u001b[43m    \u001b[49m\u001b[43meval_sample_weight\u001b[49m\u001b[38;5;241;43m=\u001b[39;49m\u001b[43meval_sample_weight\u001b[49m\u001b[43m,\u001b[49m\n\u001b[1;32m   1292\u001b[0m \u001b[43m    \u001b[49m\u001b[43meval_class_weight\u001b[49m\u001b[38;5;241;43m=\u001b[39;49m\u001b[43meval_class_weight\u001b[49m\u001b[43m,\u001b[49m\n\u001b[1;32m   1293\u001b[0m \u001b[43m    \u001b[49m\u001b[43meval_init_score\u001b[49m\u001b[38;5;241;43m=\u001b[39;49m\u001b[43meval_init_score\u001b[49m\u001b[43m,\u001b[49m\n\u001b[1;32m   1294\u001b[0m \u001b[43m    \u001b[49m\u001b[43meval_metric\u001b[49m\u001b[38;5;241;43m=\u001b[39;49m\u001b[43meval_metric\u001b[49m\u001b[43m,\u001b[49m\n\u001b[1;32m   1295\u001b[0m \u001b[43m    \u001b[49m\u001b[43mfeature_name\u001b[49m\u001b[38;5;241;43m=\u001b[39;49m\u001b[43mfeature_name\u001b[49m\u001b[43m,\u001b[49m\n\u001b[1;32m   1296\u001b[0m \u001b[43m    \u001b[49m\u001b[43mcategorical_feature\u001b[49m\u001b[38;5;241;43m=\u001b[39;49m\u001b[43mcategorical_feature\u001b[49m\u001b[43m,\u001b[49m\n\u001b[1;32m   1297\u001b[0m \u001b[43m    \u001b[49m\u001b[43mcallbacks\u001b[49m\u001b[38;5;241;43m=\u001b[39;49m\u001b[43mcallbacks\u001b[49m\u001b[43m,\u001b[49m\n\u001b[1;32m   1298\u001b[0m \u001b[43m    \u001b[49m\u001b[43minit_model\u001b[49m\u001b[38;5;241;43m=\u001b[39;49m\u001b[43minit_model\u001b[49m\u001b[43m,\u001b[49m\n\u001b[1;32m   1299\u001b[0m \u001b[43m\u001b[49m\u001b[43m)\u001b[49m\n\u001b[1;32m   1300\u001b[0m \u001b[38;5;28;01mreturn\u001b[39;00m \u001b[38;5;28mself\u001b[39m\n",
      "File \u001b[0;32m~/Documents/scripts/.venv/deft09/lib/python3.12/site-packages/lightgbm/sklearn.py:955\u001b[0m, in \u001b[0;36mLGBMModel.fit\u001b[0;34m(self, X, y, sample_weight, init_score, group, eval_set, eval_names, eval_sample_weight, eval_class_weight, eval_init_score, eval_group, eval_metric, feature_name, categorical_feature, callbacks, init_model)\u001b[0m\n\u001b[1;32m    952\u001b[0m evals_result: _EvalResultDict \u001b[38;5;241m=\u001b[39m {}\n\u001b[1;32m    953\u001b[0m callbacks\u001b[38;5;241m.\u001b[39mappend(record_evaluation(evals_result))\n\u001b[0;32m--> 955\u001b[0m \u001b[38;5;28mself\u001b[39m\u001b[38;5;241m.\u001b[39m_Booster \u001b[38;5;241m=\u001b[39m \u001b[43mtrain\u001b[49m\u001b[43m(\u001b[49m\n\u001b[1;32m    956\u001b[0m \u001b[43m    \u001b[49m\u001b[43mparams\u001b[49m\u001b[38;5;241;43m=\u001b[39;49m\u001b[43mparams\u001b[49m\u001b[43m,\u001b[49m\n\u001b[1;32m    957\u001b[0m \u001b[43m    \u001b[49m\u001b[43mtrain_set\u001b[49m\u001b[38;5;241;43m=\u001b[39;49m\u001b[43mtrain_set\u001b[49m\u001b[43m,\u001b[49m\n\u001b[1;32m    958\u001b[0m \u001b[43m    \u001b[49m\u001b[43mnum_boost_round\u001b[49m\u001b[38;5;241;43m=\u001b[39;49m\u001b[38;5;28;43mself\u001b[39;49m\u001b[38;5;241;43m.\u001b[39;49m\u001b[43mn_estimators\u001b[49m\u001b[43m,\u001b[49m\n\u001b[1;32m    959\u001b[0m \u001b[43m    \u001b[49m\u001b[43mvalid_sets\u001b[49m\u001b[38;5;241;43m=\u001b[39;49m\u001b[43mvalid_sets\u001b[49m\u001b[43m,\u001b[49m\n\u001b[1;32m    960\u001b[0m \u001b[43m    \u001b[49m\u001b[43mvalid_names\u001b[49m\u001b[38;5;241;43m=\u001b[39;49m\u001b[43meval_names\u001b[49m\u001b[43m,\u001b[49m\n\u001b[1;32m    961\u001b[0m \u001b[43m    \u001b[49m\u001b[43mfeval\u001b[49m\u001b[38;5;241;43m=\u001b[39;49m\u001b[43meval_metrics_callable\u001b[49m\u001b[43m,\u001b[49m\u001b[43m  \u001b[49m\u001b[38;5;66;43;03m# type: ignore[arg-type]\u001b[39;49;00m\n\u001b[1;32m    962\u001b[0m \u001b[43m    \u001b[49m\u001b[43minit_model\u001b[49m\u001b[38;5;241;43m=\u001b[39;49m\u001b[43minit_model\u001b[49m\u001b[43m,\u001b[49m\n\u001b[1;32m    963\u001b[0m \u001b[43m    \u001b[49m\u001b[43mcallbacks\u001b[49m\u001b[38;5;241;43m=\u001b[39;49m\u001b[43mcallbacks\u001b[49m\u001b[43m,\u001b[49m\n\u001b[1;32m    964\u001b[0m \u001b[43m\u001b[49m\u001b[43m)\u001b[49m\n\u001b[1;32m    966\u001b[0m \u001b[38;5;28mself\u001b[39m\u001b[38;5;241m.\u001b[39m_evals_result \u001b[38;5;241m=\u001b[39m evals_result\n\u001b[1;32m    967\u001b[0m \u001b[38;5;28mself\u001b[39m\u001b[38;5;241m.\u001b[39m_best_iteration \u001b[38;5;241m=\u001b[39m \u001b[38;5;28mself\u001b[39m\u001b[38;5;241m.\u001b[39m_Booster\u001b[38;5;241m.\u001b[39mbest_iteration\n",
      "File \u001b[0;32m~/Documents/scripts/.venv/deft09/lib/python3.12/site-packages/lightgbm/engine.py:307\u001b[0m, in \u001b[0;36mtrain\u001b[0;34m(params, train_set, num_boost_round, valid_sets, valid_names, feval, init_model, feature_name, categorical_feature, keep_training_booster, callbacks)\u001b[0m\n\u001b[1;32m    295\u001b[0m \u001b[38;5;28;01mfor\u001b[39;00m cb \u001b[38;5;129;01min\u001b[39;00m callbacks_before_iter:\n\u001b[1;32m    296\u001b[0m     cb(\n\u001b[1;32m    297\u001b[0m         callback\u001b[38;5;241m.\u001b[39mCallbackEnv(\n\u001b[1;32m    298\u001b[0m             model\u001b[38;5;241m=\u001b[39mbooster,\n\u001b[0;32m   (...)\u001b[0m\n\u001b[1;32m    304\u001b[0m         )\n\u001b[1;32m    305\u001b[0m     )\n\u001b[0;32m--> 307\u001b[0m \u001b[43mbooster\u001b[49m\u001b[38;5;241;43m.\u001b[39;49m\u001b[43mupdate\u001b[49m\u001b[43m(\u001b[49m\u001b[43mfobj\u001b[49m\u001b[38;5;241;43m=\u001b[39;49m\u001b[43mfobj\u001b[49m\u001b[43m)\u001b[49m\n\u001b[1;32m    309\u001b[0m evaluation_result_list: List[_LGBM_BoosterEvalMethodResultType] \u001b[38;5;241m=\u001b[39m []\n\u001b[1;32m    310\u001b[0m \u001b[38;5;66;03m# check evaluation result.\u001b[39;00m\n",
      "File \u001b[0;32m~/Documents/scripts/.venv/deft09/lib/python3.12/site-packages/lightgbm/basic.py:4136\u001b[0m, in \u001b[0;36mBooster.update\u001b[0;34m(self, train_set, fobj)\u001b[0m\n\u001b[1;32m   4133\u001b[0m \u001b[38;5;28;01mif\u001b[39;00m \u001b[38;5;28mself\u001b[39m\u001b[38;5;241m.\u001b[39m__set_objective_to_none:\n\u001b[1;32m   4134\u001b[0m     \u001b[38;5;28;01mraise\u001b[39;00m LightGBMError(\u001b[38;5;124m\"\u001b[39m\u001b[38;5;124mCannot update due to null objective function.\u001b[39m\u001b[38;5;124m\"\u001b[39m)\n\u001b[1;32m   4135\u001b[0m _safe_call(\n\u001b[0;32m-> 4136\u001b[0m     \u001b[43m_LIB\u001b[49m\u001b[38;5;241;43m.\u001b[39;49m\u001b[43mLGBM_BoosterUpdateOneIter\u001b[49m\u001b[43m(\u001b[49m\n\u001b[1;32m   4137\u001b[0m \u001b[43m        \u001b[49m\u001b[38;5;28;43mself\u001b[39;49m\u001b[38;5;241;43m.\u001b[39;49m\u001b[43m_handle\u001b[49m\u001b[43m,\u001b[49m\n\u001b[1;32m   4138\u001b[0m \u001b[43m        \u001b[49m\u001b[43mctypes\u001b[49m\u001b[38;5;241;43m.\u001b[39;49m\u001b[43mbyref\u001b[49m\u001b[43m(\u001b[49m\u001b[43mis_finished\u001b[49m\u001b[43m)\u001b[49m\u001b[43m,\u001b[49m\n\u001b[1;32m   4139\u001b[0m \u001b[43m    \u001b[49m\u001b[43m)\u001b[49m\n\u001b[1;32m   4140\u001b[0m )\n\u001b[1;32m   4141\u001b[0m \u001b[38;5;28mself\u001b[39m\u001b[38;5;241m.\u001b[39m__is_predicted_cur_iter \u001b[38;5;241m=\u001b[39m [\u001b[38;5;28;01mFalse\u001b[39;00m \u001b[38;5;28;01mfor\u001b[39;00m _ \u001b[38;5;129;01min\u001b[39;00m \u001b[38;5;28mrange\u001b[39m(\u001b[38;5;28mself\u001b[39m\u001b[38;5;241m.\u001b[39m__num_dataset)]\n\u001b[1;32m   4142\u001b[0m \u001b[38;5;28;01mreturn\u001b[39;00m is_finished\u001b[38;5;241m.\u001b[39mvalue \u001b[38;5;241m==\u001b[39m \u001b[38;5;241m1\u001b[39m\n",
      "\u001b[0;31mKeyboardInterrupt\u001b[0m: "
     ]
    }
   ],
   "source": [
    "test_models_and_vectorisations(models_dict, df_vectorisations, df_train, df_test)"
   ]
  },
  {
   "cell_type": "code",
   "execution_count": 75,
   "metadata": {},
   "outputs": [
    {
     "ename": "NameError",
     "evalue": "name 'Model' is not defined",
     "output_type": "error",
     "traceback": [
      "\u001b[0;31m---------------------------------------------------------------------------\u001b[0m",
      "\u001b[0;31mNameError\u001b[0m                                 Traceback (most recent call last)",
      "Cell \u001b[0;32mIn[75], line 13\u001b[0m\n\u001b[1;32m      9\u001b[0m             bests_of_the_bests\u001b[38;5;241m.\u001b[39madd_row([model_obj\u001b[38;5;241m.\u001b[39mname, model_obj\u001b[38;5;241m.\u001b[39mmodel, model_obj\u001b[38;5;241m.\u001b[39mscores[\u001b[38;5;124m\"\u001b[39m\u001b[38;5;124maccuracy\u001b[39m\u001b[38;5;124m\"\u001b[39m], model_obj\u001b[38;5;241m.\u001b[39mscores[\u001b[38;5;124m\"\u001b[39m\u001b[38;5;124mmacro avg\u001b[39m\u001b[38;5;124m\"\u001b[39m][\u001b[38;5;124m\"\u001b[39m\u001b[38;5;124mprecision\u001b[39m\u001b[38;5;124m\"\u001b[39m], model_obj\u001b[38;5;241m.\u001b[39mscores[\u001b[38;5;124m\"\u001b[39m\u001b[38;5;124mmacro avg\u001b[39m\u001b[38;5;124m\"\u001b[39m][\u001b[38;5;124m\"\u001b[39m\u001b[38;5;124mrecall\u001b[39m\u001b[38;5;124m\"\u001b[39m], model_obj\u001b[38;5;241m.\u001b[39mscores[\u001b[38;5;124m\"\u001b[39m\u001b[38;5;124mmacro avg\u001b[39m\u001b[38;5;124m\"\u001b[39m][\u001b[38;5;124m\"\u001b[39m\u001b[38;5;124mf1-score\u001b[39m\u001b[38;5;124m\"\u001b[39m], model_obj\u001b[38;5;241m.\u001b[39mrunning_time])\n\u001b[1;32m     11\u001b[0m     \u001b[38;5;28;01mreturn\u001b[39;00m bests_of_the_bests\n\u001b[0;32m---> 13\u001b[0m table_results(\u001b[43mModel\u001b[49m\u001b[38;5;241m.\u001b[39mall_models)\n",
      "\u001b[0;31mNameError\u001b[0m: name 'Model' is not defined"
     ]
    }
   ],
   "source": [
    "##### POUR VISUALISER TOUS LES RÉSULTADOS ! #####\n",
    "def table_results(models):\n",
    "\n",
    "    bests_of_the_bests = PrettyTable([\"Model\", \"hyperparametres\", \"Accuracy\", \"Precision\", \"Recall\", \"F1-Score\", \"Running Time\"], theme=Themes.LAVENDER)\n",
    "    bests_of_the_bests = ColorTable(theme=Themes.LAVENDER)\n",
    "    \n",
    "    for model_obj in models:\n",
    "        if \"accuracy\" in model_obj.scores.keys():\n",
    "            bests_of_the_bests.add_row([model_obj.name, model_obj.model, model_obj.scores[\"accuracy\"], model_obj.scores[\"macro avg\"][\"precision\"], model_obj.scores[\"macro avg\"][\"recall\"], model_obj.scores[\"macro avg\"][\"f1-score\"], model_obj.running_time])\n",
    "\n",
    "    return bests_of_the_bests\n",
    "\n",
    "table_results(Model.all_models)"
   ]
  }
 ],
 "metadata": {
  "kernelspec": {
   "display_name": "deft09",
   "language": "python",
   "name": "python3"
  },
  "language_info": {
   "codemirror_mode": {
    "name": "ipython",
    "version": 3
   },
   "file_extension": ".py",
   "mimetype": "text/x-python",
   "name": "python",
   "nbconvert_exporter": "python",
   "pygments_lexer": "ipython3",
   "version": "3.12.3"
  }
 },
 "nbformat": 4,
 "nbformat_minor": 2
}
