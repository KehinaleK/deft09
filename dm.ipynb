{
 "cells": [
  {
   "cell_type": "code",
   "execution_count": 44,
   "metadata": {},
   "outputs": [],
   "source": [
    "# === Parsing des fichiers XML ===\n",
    "from bs4 import BeautifulSoup\n",
    "\n",
    "# === Préparation de données ===\n",
    "import pandas as pd\n",
    "import numpy as np\n",
    "\n",
    "# === Visualisation ===\n",
    "import matplotlib.pyplot as plt\n",
    "\n",
    "# === Traitement de texte ===\n",
    "import spacy\n",
    "import re\n",
    "import nltk\n",
    "from nltk.corpus import stopwords\n",
    "from nltk.tokenize import word_tokenize\n",
    "from sklearn.feature_extraction.text import TfidfVectorizer, CountVectorizer, HashingVectorizer\n",
    "\n",
    "# === Classification et machine learning ===\n",
    "from sklearn.linear_model import LogisticRegression, RidgeClassifier, SGDClassifier, Perceptron\n",
    "from sklearn.naive_bayes import MultinomialNB, ComplementNB\n",
    "from sklearn.neighbors import KNeighborsClassifier\n",
    "from sklearn.svm import LinearSVC, SVC\n",
    "from sklearn.ensemble import RandomForestClassifier, VotingClassifier\n",
    "from lightgbm import LGBMClassifier\n",
    "\n",
    "# === Évaluation des modèles ===\n",
    "from sklearn.model_selection import cross_val_score\n",
    "from sklearn.metrics import accuracy_score, classification_report\n",
    "\n",
    "# === Autre ===\n",
    "import prettytable\n",
    "from prettytable.colortable import ColorTable, Themes\n",
    "from itertools import product\n",
    "import time"
   ]
  },
  {
   "cell_type": "markdown",
   "metadata": {},
   "source": [
    "# TO DO LIST DANS LE NOTEBOOK !\n",
    "\n",
    "- [x] Finir les codes/graphes et explications de la partie données\n",
    "- [X] Faire les liens du sommaire\n",
    "- [x] Finir partie sur les tests de vectorisation\n",
    "- [ ] Commenter la classe\n",
    "- [ ] Faire le test\n",
    "- [ ] Faire le test avec stratégies d'équillibrage\n",
    "- [ ] Refaire les trois meilleurs modèles avec les données non traitées\n",
    "- [ ] Faire voting classifier et entrainement trilingue/bilingue\n",
    "- [ ] Partie évaluation\n",
    "- [ ] Conclusion"
   ]
  },
  {
   "cell_type": "markdown",
   "metadata": {},
   "source": [
    "# **Sommaire**\n",
    "\n",
    "- [1. Présentation des données](#1-présentation-des-données)\n",
    "    - [A. Extraction des données](#a-extraction-des-données)\n",
    "    - [B. Suppression des doublons](#b-suppression-des-doublons)\n",
    "    - [C. Distribution des classes](#c-distribution-des-classes)\n",
    "\n",
    "- [2. Pré-traitement des données](#2-pré-traitement-des-données)\n",
    "    - [A. Normalisation des données](#a-normalisation-des-données)\n",
    "    - [B. Vectorisation des données](#b-vectorisation-des-données)\n",
    "\n",
    "- [3. Comparaison des modèles](#3-comparaison-des-modèles)\n",
    "    - [A. Choix des algorithmes](#a-choix-des-algorithmes)\n",
    "    - [B. Organisation de la comparaison](#b-organisation-de-la-comparaison)\n",
    "\n",
    "- [4. Stratégies d'amélioration](#4-stratégies-damélioration)\n",
    "\n",
    "- [5. Évaluation des modèles](#5-évaluation-des-modèles)\n",
    "    - [A. Métriques d'évaluation](#a-métriques-dévaluation)\n",
    "    - [B. Analyse des résultats](#b-analyse-des-résultats)"
   ]
  },
  {
   "cell_type": "markdown",
   "metadata": {},
   "source": [
    "<a id=\"1-présentation-des-données\"></a>\n",
    "# **1. Présentation des données**"
   ]
  },
  {
   "cell_type": "markdown",
   "metadata": {},
   "source": [
    "On a installé sur le site du [DEFT 2009](https://deft.lisn.upsaclay.fr/) les données pour réaliser la tâche 3 qui est la suivante :\n",
    "- **Entraîner un modèle qui détermine automatiquement le parti politique d’appartenance de chaque intervenant dans le corpus parlementaire.**"
   ]
  },
  {
   "cell_type": "markdown",
   "metadata": {},
   "source": [
    "**Il y a en tout 5 classes qui correspondent aux différents partis politiques :**\n",
    "| Classe (groupe)      | Orientation politique       | Thématiques principales                                   |\n",
    "|--------------|-----------------------------|----------------------------------------------------------|\n",
    "| **Verts-ALE** | Écologistes et régionalistes | Environnement, droits des minorités, économie durable    |\n",
    "| **GUE/NGL**   | Gauche radicale             | Justice sociale, opposition à l'austérité, droits des travailleurs |\n",
    "| **PSE**       | Social-démocrates           | Réduction des inégalités, protection sociale, intégration européenne |\n",
    "| **ELDR**      | Libéraux                   | Libre marché, libertés individuelles, droits de l'homme  |\n",
    "| **PPE-DE**    | Conservateurs              | Économie sociale de marché, valeurs chrétiennes, sécurité |\n"
   ]
  },
  {
   "cell_type": "markdown",
   "metadata": {},
   "source": [
    "Notre corpus est multilingue, c'est-à-dire qu'il contient plusieurs ensembles dans des langues différentes telles que le français, l'anglais et l'italien. C'est donc un corpus parallèle et comparable auquel nous avons affaire. "
   ]
  },
  {
   "cell_type": "markdown",
   "metadata": {},
   "source": [
    "<a id=\"a-extraction-des-données\"></a>\n",
    "## **A. Extraction des données**"
   ]
  },
  {
   "cell_type": "markdown",
   "metadata": {},
   "source": [
    "Les données que nous avons téléchargées sur le site sont en format **xml**, il va donc nous falloir les parser pour les récolter. Pour cela, nous allons utilisé la librairie **BeautifulSoup**. \n",
    "Après avoir ouvert les fichiers et analysé les différentes balises pour pouvoir les extraire : \n",
    "- texte \n",
    "- id \n",
    "- valeur (label)\n",
    "- confiance (indice de confiance de la catégorisation)"
   ]
  },
  {
   "cell_type": "code",
   "execution_count": 45,
   "metadata": {},
   "outputs": [],
   "source": [
    "def get_xml_content(file):\n",
    "    \"\"\"Cette fonction permet d'extraire le contenu du fichier xml.\"\"\"\n",
    "\n",
    "    with open(file, \"r\") as f:\n",
    "        soup = BeautifulSoup(f, \"xml\")\n",
    "        \n",
    "    return soup"
   ]
  },
  {
   "cell_type": "code",
   "execution_count": 46,
   "metadata": {},
   "outputs": [],
   "source": [
    "def extract_train_info(doc):\n",
    "    \"\"\"Cette fonction permet d'extraire les données : texte, id, label.\"\"\"\n",
    "\n",
    "    doc_dico = {}\n",
    "\n",
    "    # Extraire l'id\n",
    "    doc_id = doc.get(\"id\")\n",
    "    doc_dico[\"id\"] = doc_id\n",
    "\n",
    "   # Extraire l'évaluation : nombre, valeur (label) et confiance\n",
    "    evaluation = doc.find(\"EVALUATION\")\n",
    "    evaluation_parti = evaluation.find(\"EVAL_PARTI\")\n",
    "    doc_dico[\"nombre\"] = evaluation_parti.get(\"nombre\")\n",
    "\n",
    "    parti = evaluation_parti.find(\"PARTI\")\n",
    "    doc_dico[\"label\"] = parti.get(\"valeur\")\n",
    "    doc_dico[\"confiance\"] = parti.get(\"confiance\")\n",
    "\n",
    "    # Extraire le texte\n",
    "    texte = doc.find(\"p\")\n",
    "    doc_dico[\"texte\"] = texte.text\n",
    "\n",
    "    return doc_dico"
   ]
  },
  {
   "cell_type": "code",
   "execution_count": 47,
   "metadata": {},
   "outputs": [],
   "source": [
    "def get_test_labels(file):\n",
    "    \"\"\"Cette fonction permet d'extraire les labels de l'ensemble de test à partir des fichiers référence.\"\"\"\n",
    "    \n",
    "    with open(file, \"r\") as f:\n",
    "        lines = f.readlines()\n",
    "\n",
    "    lines = [line.split(\"\\t\") for line in lines]\n",
    "    labels = {line[0]: line[1].strip() for line in lines}\n",
    "\n",
    "    return labels"
   ]
  },
  {
   "cell_type": "markdown",
   "metadata": {},
   "source": [
    "En comparant la longueur de la liste de labels et les id des échantillons de test, nous avons pu remarquer que deux interventions ne disposaient pas de label."
   ]
  },
  {
   "cell_type": "code",
   "execution_count": 48,
   "metadata": {},
   "outputs": [
    {
     "name": "stdout",
     "output_type": "stream",
     "text": [
      "1175\n",
      "4574\n"
     ]
    }
   ],
   "source": [
    "labels = get_test_labels(\"data/ref/deft09_parlement_ref_fr.txt\")\n",
    "for key, value in labels.items():\n",
    "    if value == \"\":\n",
    "        print(key)"
   ]
  },
  {
   "cell_type": "markdown",
   "metadata": {},
   "source": [
    "Ces deux échantillons ne sont ensuite pas stockés dans la dataframe utilisée pour le reste du TP."
   ]
  },
  {
   "cell_type": "code",
   "execution_count": 49,
   "metadata": {},
   "outputs": [],
   "source": [
    "def extract_test_info(doc):\n",
    "    \"\"\"Cette fonction permet d'extraire les informations de l'ensemble de test: texte et id.\"\"\"\n",
    "\n",
    "    doc_dico = {}\n",
    "\n",
    "    doc_id = doc.get(\"id\")\n",
    "    doc_dico[\"id\"] = doc_id\n",
    "\n",
    "    texte = doc.find(\"p\")\n",
    "    doc_dico[\"texte\"] = texte.text\n",
    "\n",
    "    return doc_dico"
   ]
  },
  {
   "cell_type": "code",
   "execution_count": 50,
   "metadata": {},
   "outputs": [],
   "source": [
    "def get_train_and_test_df(train_file, test_file, ref_file):\n",
    "    \"\"\"Cette fonction regroupe les autres ci-dessus et permet d'obtenir nos dataframes train et test.\"\"\"\n",
    "\n",
    "    soup_train = get_xml_content(train_file)\n",
    "    soup_test = get_xml_content(test_file)\n",
    "\n",
    "    test_labels = get_test_labels(ref_file)\n",
    "\n",
    "    all_docs = []\n",
    "    for doc in soup_train.find_all(\"doc\"):\n",
    "        doc_dico = extract_train_info(doc)\n",
    "        all_docs.append(doc_dico)\n",
    "    \n",
    "    df_train = pd.DataFrame(all_docs)\n",
    "\n",
    "    all_docs = []\n",
    "    for doc in soup_test.find_all(\"doc\"):\n",
    "        doc_dico = extract_test_info(doc)\n",
    "        if test_labels[doc_dico[\"id\"]] == \"\": # pour les deux textes sans label dans le fichier de référence\n",
    "            continue\n",
    "        doc_dico[\"label\"] = test_labels[doc_dico[\"id\"]]\n",
    "        all_docs.append(doc_dico)\n",
    "\n",
    "    df_test = pd.DataFrame(all_docs)\n",
    "    \n",
    "    return df_train, df_test"
   ]
  },
  {
   "cell_type": "code",
   "execution_count": 51,
   "metadata": {},
   "outputs": [],
   "source": [
    "df_train, df_test = get_train_and_test_df(\"data/train/deft09_parlement_appr_fr.xml\", \"data/test/deft09_parlement_test_fr.xml\", \"data/ref/deft09_parlement_ref_fr.txt\")"
   ]
  },
  {
   "cell_type": "code",
   "execution_count": 52,
   "metadata": {},
   "outputs": [
    {
     "data": {
      "text/html": [
       "<div>\n",
       "<style scoped>\n",
       "    .dataframe tbody tr th:only-of-type {\n",
       "        vertical-align: middle;\n",
       "    }\n",
       "\n",
       "    .dataframe tbody tr th {\n",
       "        vertical-align: top;\n",
       "    }\n",
       "\n",
       "    .dataframe thead th {\n",
       "        text-align: right;\n",
       "    }\n",
       "</style>\n",
       "<table border=\"1\" class=\"dataframe\">\n",
       "  <thead>\n",
       "    <tr style=\"text-align: right;\">\n",
       "      <th></th>\n",
       "      <th>id</th>\n",
       "      <th>nombre</th>\n",
       "      <th>label</th>\n",
       "      <th>confiance</th>\n",
       "      <th>texte</th>\n",
       "    </tr>\n",
       "  </thead>\n",
       "  <tbody>\n",
       "    <tr>\n",
       "      <th>0</th>\n",
       "      <td>2_fr:1</td>\n",
       "      <td>1</td>\n",
       "      <td>Verts-ALE</td>\n",
       "      <td>1.00</td>\n",
       "      <td>Monsieur le Président, j'ai toujours fait preu...</td>\n",
       "    </tr>\n",
       "    <tr>\n",
       "      <th>1</th>\n",
       "      <td>2_fr:2</td>\n",
       "      <td>1</td>\n",
       "      <td>PPE-DE</td>\n",
       "      <td>1.00</td>\n",
       "      <td>Madame la Présidente, chers collègues, à l'app...</td>\n",
       "    </tr>\n",
       "    <tr>\n",
       "      <th>2</th>\n",
       "      <td>2_fr:3</td>\n",
       "      <td>1</td>\n",
       "      <td>Verts-ALE</td>\n",
       "      <td>1.00</td>\n",
       "      <td>Je voudrais savoir si l'Union européenne, à la...</td>\n",
       "    </tr>\n",
       "    <tr>\n",
       "      <th>3</th>\n",
       "      <td>2_fr:4</td>\n",
       "      <td>1</td>\n",
       "      <td>PSE</td>\n",
       "      <td>1.00</td>\n",
       "      <td>Madame la Présidente, au nom des  de la commis...</td>\n",
       "    </tr>\n",
       "    <tr>\n",
       "      <th>4</th>\n",
       "      <td>2_fr:5</td>\n",
       "      <td>1</td>\n",
       "      <td>PSE</td>\n",
       "      <td>1.00</td>\n",
       "      <td>Monsieur le Président, chers collègues, Monsie...</td>\n",
       "    </tr>\n",
       "    <tr>\n",
       "      <th>...</th>\n",
       "      <td>...</td>\n",
       "      <td>...</td>\n",
       "      <td>...</td>\n",
       "      <td>...</td>\n",
       "      <td>...</td>\n",
       "    </tr>\n",
       "    <tr>\n",
       "      <th>19365</th>\n",
       "      <td>2_fr:19366</td>\n",
       "      <td>1</td>\n",
       "      <td>PSE</td>\n",
       "      <td>1.00</td>\n",
       "      <td>Monsieur le Président, je voudrais tout d’abor...</td>\n",
       "    </tr>\n",
       "    <tr>\n",
       "      <th>19366</th>\n",
       "      <td>2_fr:19367</td>\n",
       "      <td>1</td>\n",
       "      <td>PPE-DE</td>\n",
       "      <td>1.00</td>\n",
       "      <td>Monsieur le Président, Monsieur le Commissaire...</td>\n",
       "    </tr>\n",
       "    <tr>\n",
       "      <th>19367</th>\n",
       "      <td>2_fr:19368</td>\n",
       "      <td>1</td>\n",
       "      <td>PPE-DE</td>\n",
       "      <td>1.00</td>\n",
       "      <td>Monsieur le Président, je tiens à déclarer, au...</td>\n",
       "    </tr>\n",
       "    <tr>\n",
       "      <th>19368</th>\n",
       "      <td>2_fr:19369</td>\n",
       "      <td>1</td>\n",
       "      <td>PPE-DE</td>\n",
       "      <td>1.00</td>\n",
       "      <td>Monsieur le Président, l’aide à l’Albanie et à...</td>\n",
       "    </tr>\n",
       "    <tr>\n",
       "      <th>19369</th>\n",
       "      <td>2_fr:19370</td>\n",
       "      <td>1</td>\n",
       "      <td>PPE-DE</td>\n",
       "      <td>1.00</td>\n",
       "      <td>Monsieur le Président, le rapport de Mme Zorba...</td>\n",
       "    </tr>\n",
       "  </tbody>\n",
       "</table>\n",
       "<p>19370 rows × 5 columns</p>\n",
       "</div>"
      ],
      "text/plain": [
       "               id nombre      label confiance  \\\n",
       "0          2_fr:1      1  Verts-ALE      1.00   \n",
       "1          2_fr:2      1     PPE-DE      1.00   \n",
       "2          2_fr:3      1  Verts-ALE      1.00   \n",
       "3          2_fr:4      1        PSE      1.00   \n",
       "4          2_fr:5      1        PSE      1.00   \n",
       "...           ...    ...        ...       ...   \n",
       "19365  2_fr:19366      1        PSE      1.00   \n",
       "19366  2_fr:19367      1     PPE-DE      1.00   \n",
       "19367  2_fr:19368      1     PPE-DE      1.00   \n",
       "19368  2_fr:19369      1     PPE-DE      1.00   \n",
       "19369  2_fr:19370      1     PPE-DE      1.00   \n",
       "\n",
       "                                                   texte  \n",
       "0      Monsieur le Président, j'ai toujours fait preu...  \n",
       "1      Madame la Présidente, chers collègues, à l'app...  \n",
       "2      Je voudrais savoir si l'Union européenne, à la...  \n",
       "3      Madame la Présidente, au nom des  de la commis...  \n",
       "4      Monsieur le Président, chers collègues, Monsie...  \n",
       "...                                                  ...  \n",
       "19365  Monsieur le Président, je voudrais tout d’abor...  \n",
       "19366  Monsieur le Président, Monsieur le Commissaire...  \n",
       "19367  Monsieur le Président, je tiens à déclarer, au...  \n",
       "19368  Monsieur le Président, l’aide à l’Albanie et à...  \n",
       "19369  Monsieur le Président, le rapport de Mme Zorba...  \n",
       "\n",
       "[19370 rows x 5 columns]"
      ]
     },
     "execution_count": 52,
     "metadata": {},
     "output_type": "execute_result"
    }
   ],
   "source": [
    "df_train"
   ]
  },
  {
   "cell_type": "code",
   "execution_count": 53,
   "metadata": {},
   "outputs": [
    {
     "data": {
      "text/html": [
       "<div>\n",
       "<style scoped>\n",
       "    .dataframe tbody tr th:only-of-type {\n",
       "        vertical-align: middle;\n",
       "    }\n",
       "\n",
       "    .dataframe tbody tr th {\n",
       "        vertical-align: top;\n",
       "    }\n",
       "\n",
       "    .dataframe thead th {\n",
       "        text-align: right;\n",
       "    }\n",
       "</style>\n",
       "<table border=\"1\" class=\"dataframe\">\n",
       "  <thead>\n",
       "    <tr style=\"text-align: right;\">\n",
       "      <th></th>\n",
       "      <th>id</th>\n",
       "      <th>texte</th>\n",
       "      <th>label</th>\n",
       "    </tr>\n",
       "  </thead>\n",
       "  <tbody>\n",
       "    <tr>\n",
       "      <th>0</th>\n",
       "      <td>1</td>\n",
       "      <td>Monsieur le Président, l'accès à des médias li...</td>\n",
       "      <td>ELDR</td>\n",
       "    </tr>\n",
       "    <tr>\n",
       "      <th>1</th>\n",
       "      <td>2</td>\n",
       "      <td>Monsieur le Président, j'ai un point de vue di...</td>\n",
       "      <td>GUE-NGL</td>\n",
       "    </tr>\n",
       "    <tr>\n",
       "      <th>2</th>\n",
       "      <td>3</td>\n",
       "      <td>Monsieur le Président, Monsieur le Commissaire...</td>\n",
       "      <td>PPE-DE</td>\n",
       "    </tr>\n",
       "    <tr>\n",
       "      <th>3</th>\n",
       "      <td>4</td>\n",
       "      <td>Nous ne pouvons soutenir cette tentative d’éri...</td>\n",
       "      <td>GUE-NGL</td>\n",
       "    </tr>\n",
       "    <tr>\n",
       "      <th>4</th>\n",
       "      <td>5</td>\n",
       "      <td>Monsieur le Président, ce court débat se dérou...</td>\n",
       "      <td>PPE-DE</td>\n",
       "    </tr>\n",
       "    <tr>\n",
       "      <th>...</th>\n",
       "      <td>...</td>\n",
       "      <td>...</td>\n",
       "      <td>...</td>\n",
       "    </tr>\n",
       "    <tr>\n",
       "      <th>12910</th>\n",
       "      <td>12913</td>\n",
       "      <td>Monsieur le Président, Madame la Commissaire, ...</td>\n",
       "      <td>PPE-DE</td>\n",
       "    </tr>\n",
       "    <tr>\n",
       "      <th>12911</th>\n",
       "      <td>12914</td>\n",
       "      <td>Monsieur le Président, Monsieur le Commissaire...</td>\n",
       "      <td>PPE-DE</td>\n",
       "    </tr>\n",
       "    <tr>\n",
       "      <th>12912</th>\n",
       "      <td>12915</td>\n",
       "      <td>Madame la Présidente, permettez-moi de m'adres...</td>\n",
       "      <td>ELDR</td>\n",
       "    </tr>\n",
       "    <tr>\n",
       "      <th>12913</th>\n",
       "      <td>12916</td>\n",
       "      <td>Grâce à la proposition de directive dont trait...</td>\n",
       "      <td>GUE-NGL</td>\n",
       "    </tr>\n",
       "    <tr>\n",
       "      <th>12914</th>\n",
       "      <td>12917</td>\n",
       "      <td>Monsieur le Président, après le Timor oriental...</td>\n",
       "      <td>PSE</td>\n",
       "    </tr>\n",
       "  </tbody>\n",
       "</table>\n",
       "<p>12915 rows × 3 columns</p>\n",
       "</div>"
      ],
      "text/plain": [
       "          id                                              texte    label\n",
       "0          1  Monsieur le Président, l'accès à des médias li...     ELDR\n",
       "1          2  Monsieur le Président, j'ai un point de vue di...  GUE-NGL\n",
       "2          3  Monsieur le Président, Monsieur le Commissaire...   PPE-DE\n",
       "3          4  Nous ne pouvons soutenir cette tentative d’éri...  GUE-NGL\n",
       "4          5  Monsieur le Président, ce court débat se dérou...   PPE-DE\n",
       "...      ...                                                ...      ...\n",
       "12910  12913  Monsieur le Président, Madame la Commissaire, ...   PPE-DE\n",
       "12911  12914  Monsieur le Président, Monsieur le Commissaire...   PPE-DE\n",
       "12912  12915  Madame la Présidente, permettez-moi de m'adres...     ELDR\n",
       "12913  12916  Grâce à la proposition de directive dont trait...  GUE-NGL\n",
       "12914  12917  Monsieur le Président, après le Timor oriental...      PSE\n",
       "\n",
       "[12915 rows x 3 columns]"
      ]
     },
     "execution_count": 53,
     "metadata": {},
     "output_type": "execute_result"
    }
   ],
   "source": [
    "df_test"
   ]
  },
  {
   "cell_type": "markdown",
   "metadata": {},
   "source": [
    "<a id=\"b-suppression-des-doublons\"></a>\n",
    "## **B. Suppression des doublons**"
   ]
  },
  {
   "cell_type": "markdown",
   "metadata": {},
   "source": [
    "**Après concertation avec les autres étudiants, nous avons été informées qu'il y avait des doublons entre les ensembles de train et de test.**"
   ]
  },
  {
   "cell_type": "code",
   "execution_count": 54,
   "metadata": {},
   "outputs": [],
   "source": [
    "train_texts = df_train[\"texte\"].to_list()\n",
    "test_texts = df_test[\"texte\"].to_list()"
   ]
  },
  {
   "cell_type": "code",
   "execution_count": 55,
   "metadata": {},
   "outputs": [],
   "source": [
    "def check_copy(train_texts, test_texts):\n",
    "\n",
    "    num_copy = 0\n",
    "\n",
    "    for text in train_texts:\n",
    "        if text in test_texts:\n",
    "            num_copy += 1\n",
    "\n",
    "    return num_copy"
   ]
  },
  {
   "cell_type": "code",
   "execution_count": 56,
   "metadata": {},
   "outputs": [
    {
     "name": "stdout",
     "output_type": "stream",
     "text": [
      "Il y a 7813 textes en commun entre les données d'entraînement et de test.\n"
     ]
    }
   ],
   "source": [
    "num_copy = check_copy(train_texts, test_texts)\n",
    "print(f\"Il y a {num_copy} textes en commun entre les données d'entraînement et de test.\")"
   ]
  },
  {
   "cell_type": "markdown",
   "metadata": {},
   "source": [
    "**Après vérification, nous trouvions 7813 doublons entre les deux ensembles, soit plus d'un tiers de l'ensemble de train.**"
   ]
  },
  {
   "cell_type": "markdown",
   "metadata": {},
   "source": [
    "Nous voulions donc retirer ces doublons tout en essayant de respecter le split originel du corpus de 60% des échantillons pour le train et 40% pour le test."
   ]
  },
  {
   "cell_type": "markdown",
   "metadata": {},
   "source": [
    "En effet, lorsque qu'on calcule les pourcentages du split :"
   ]
  },
  {
   "cell_type": "code",
   "execution_count": 57,
   "metadata": {},
   "outputs": [],
   "source": [
    "def get_distribution(df_train, df_test):\n",
    "\n",
    "    total_texts = len(df_train) + len(df_test)\n",
    "    percentage_train = len(df_train) / total_texts * 100\n",
    "    percentage_test = len(df_test) / total_texts * 100\n",
    "\n",
    "    return percentage_train, percentage_test"
   ]
  },
  {
   "cell_type": "code",
   "execution_count": 58,
   "metadata": {},
   "outputs": [
    {
     "name": "stdout",
     "output_type": "stream",
     "text": [
      "Pourcentage de textes d'entraînement : 60.00%\n",
      "Pourcentage de textes de test : 40.00%\n"
     ]
    }
   ],
   "source": [
    "percentage_train, percentage_test = get_distribution(df_train, df_test)\n",
    "print(f\"Pourcentage de textes d'entraînement : {percentage_train:.2f}%\")\n",
    "print(f\"Pourcentage de textes de test : {percentage_test:.2f}%\")"
   ]
  },
  {
   "cell_type": "markdown",
   "metadata": {},
   "source": [
    "**Nous voulions donc pouvoir enlever les doublons des deux ensembles de manière à rester proches de ce split originel.**\n",
    "En effet; retirer tous les doublons de l'ensemble de train nous donnerait un split bien trop proche."
   ]
  },
  {
   "cell_type": "code",
   "execution_count": 59,
   "metadata": {},
   "outputs": [],
   "source": [
    "def balance_distribution(df_train, df_test):\n",
    "    \"\"\"Cette fonction permet de retirer des doublons soit de l'ensemble de train soit de celui de test\n",
    "    de manière alternée afin de rester le plus proche d'une distribution 60/40.\"\"\"\n",
    "\n",
    "    train_texts = df_train[\"texte\"].to_list()\n",
    "    test_texts = df_test[\"texte\"].to_list()\n",
    "\n",
    "    for text in train_texts:\n",
    "        if text in test_texts:\n",
    "            percentage_train, percentage_test = get_distribution(df_train, df_test)\n",
    "            difference_train = abs(percentage_train - 60)\n",
    "            difference_test = abs(percentage_test - 40)\n",
    "\n",
    "            if difference_train > difference_test:\n",
    "                df_test = df_test[df_test[\"texte\"] != text]\n",
    "            else:\n",
    "                df_train = df_train[df_train[\"texte\"] != text]\n",
    "\n",
    "    return df_train, df_test"
   ]
  },
  {
   "cell_type": "code",
   "execution_count": 60,
   "metadata": {},
   "outputs": [
    {
     "name": "stdout",
     "output_type": "stream",
     "text": [
      "Pourcentage de textes d'entraînement : 53.40%\n",
      "Pourcentage de textes de test : 46.60%\n"
     ]
    }
   ],
   "source": [
    "df_train, df_test = balance_distribution(df_train, df_test)\n",
    "percentage_train, percentage_test = get_distribution(df_train, df_test)\n",
    "print(f\"Pourcentage de textes d'entraînement : {percentage_train:.2f}%\")\n",
    "print(f\"Pourcentage de textes de test : {percentage_test:.2f}%\")"
   ]
  },
  {
   "cell_type": "markdown",
   "metadata": {},
   "source": [
    "**Après avoir retirer les doublons, nous nous retrouvons avec un split de 53 pour letrain et 46 pour le test.**"
   ]
  },
  {
   "cell_type": "code",
   "execution_count": 61,
   "metadata": {},
   "outputs": [
    {
     "name": "stdout",
     "output_type": "stream",
     "text": [
      "Il y a 0 textes en commun entre les données d'entraînement et de test.\n"
     ]
    }
   ],
   "source": [
    "train_texts = df_train[\"texte\"].to_list()\n",
    "test_texts = df_test[\"texte\"].to_list()\n",
    "num_copy = check_copy(train_texts, test_texts)\n",
    "print(f\"Il y a {num_copy} textes en commun entre les données d'entraînement et de test.\")"
   ]
  },
  {
   "cell_type": "markdown",
   "metadata": {},
   "source": [
    "Après vérification, nous avons bien retiré tous les doublons !"
   ]
  },
  {
   "cell_type": "markdown",
   "metadata": {},
   "source": [
    "Nous n'avons plus de doublons mais nous restons quelque peu éloignés de la distribution 60/40. **On va donc retirer des textes de l'ensemble de test pour arriver à la distribution souhaitée.**"
   ]
  },
  {
   "cell_type": "code",
   "execution_count": 62,
   "metadata": {},
   "outputs": [],
   "source": [
    "def reach_desired_distribution(df_train, df_test):\n",
    "\n",
    "    while True:\n",
    "        percentage_train, percentage_test = get_distribution(df_train, df_test)\n",
    "\n",
    "        if percentage_train >= 60:\n",
    "            break\n",
    "        else:\n",
    "            df_test = df_test.drop(df_test.index[0])\n",
    "\n",
    "    \n",
    "    return df_train, df_test"
   ]
  },
  {
   "cell_type": "code",
   "execution_count": 63,
   "metadata": {},
   "outputs": [
    {
     "name": "stdout",
     "output_type": "stream",
     "text": [
      "Pourcentage de textes d'entraînement : 60.00%\n",
      "Pourcentage de textes de test : 40.00%\n",
      "Il y a 0 textes en commun entre les données d'entraînement et de test.\n"
     ]
    }
   ],
   "source": [
    "df_train, df_test = reach_desired_distribution(df_train, df_test)\n",
    "percentage_train, percentage_test = get_distribution(df_train, df_test)\n",
    "print(f\"Pourcentage de textes d'entraînement : {percentage_train:.2f}%\")\n",
    "print(f\"Pourcentage de textes de test : {percentage_test:.2f}%\")\n",
    "num_copy = check_copy(train_texts, test_texts)\n",
    "print(f\"Il y a {num_copy} textes en commun entre les données d'entraînement et de test.\")"
   ]
  },
  {
   "cell_type": "markdown",
   "metadata": {},
   "source": [
    "**Nous arrivons ici à un split fidèle à celui d'origine et à un corpus sans doublon entre les ensembles de train et de test !**"
   ]
  },
  {
   "cell_type": "code",
   "execution_count": 64,
   "metadata": {},
   "outputs": [],
   "source": [
    "# df_train.to_csv(\"data/train.csv\", index=False)\n",
    "# df_test.to_csv(\"data/test.csv\", index=False)"
   ]
  },
  {
   "cell_type": "markdown",
   "metadata": {},
   "source": [
    "<a id=\"c-distribution-des-classes\"></a>\n",
    "## **C. Distribution des classes**"
   ]
  },
  {
   "cell_type": "markdown",
   "metadata": {},
   "source": [
    "Nous voulons ici nous intéresser aux distributions de nos classes dans le corpus."
   ]
  },
  {
   "cell_type": "code",
   "execution_count": 65,
   "metadata": {},
   "outputs": [],
   "source": [
    "def preparer_distributions_classes(df_train, df_test):\n",
    "    \"\"\"Cette fonction permet d'isoler les comptes de chaque classe pour chaque ensemble\"\"\"\n",
    "\n",
    "    train_counts = df_train[\"label\"].value_counts()\n",
    "    test_counts = df_test[\"label\"].value_counts()\n",
    "\n",
    "    classes = list(set(train_counts.index).union(set(test_counts.index)))\n",
    "    train_values = np.array([train_counts.get(cls, 0) for cls in classes])\n",
    "    test_values = np.array([test_counts.get(cls, 0) for cls in classes])\n",
    "\n",
    "    return classes, train_values, test_values"
   ]
  },
  {
   "cell_type": "code",
   "execution_count": 66,
   "metadata": {},
   "outputs": [
    {
     "name": "stdout",
     "output_type": "stream",
     "text": [
      "Pourcentage de la part du test\n",
      "==============================\n",
      "+-----------+-------+------+-------------+\n",
      "|   Classe  | Train | Test | Pourcentage |\n",
      "+-----------+-------+------+-------------+\n",
      "|    PSE    |  3650 | 2489 |    40.54%   |\n",
      "|    ELDR   |  1351 | 908  |    40.19%   |\n",
      "| Verts-ALE |  1609 | 1072 |    39.99%   |\n",
      "|   PPE-DE  |  4635 | 3047 |    39.66%   |\n",
      "|  GUE-NGL  |  1823 | 1196 |    39.62%   |\n",
      "+-----------+-------+------+-------------+\n",
      "\n",
      "Résumé des totaux\n",
      "=================\n",
      "Total Train : 13068\n",
      "Total Test  : 8712\n",
      "Pourcentage Global Test : 40.00%\n"
     ]
    }
   ],
   "source": [
    "prettytable_test_pourcentage = ColorTable(theme=Themes.LAVENDER)\n",
    "prettytable_test_pourcentage.field_names = [\"Classe\", \"Train\", \"Test\", \"Pourcentage\"]\n",
    "\n",
    "def tableau_test_pourcentage(df_train, df_test):\n",
    "    \"\"\"Cette fonction permet d'obtenir la répartition de chaque classe entre les deux ensembles.\n",
    "    Donc de voir combien de pourcentages de chaque classe se retrouve dans l'ensemble de test.\"\"\"\n",
    "\n",
    "    classes, train_values, test_values = preparer_distributions_classes(df_train, df_test)\n",
    "\n",
    "    pourcentage_test = ((test_values / (test_values + train_values)) * 100)\n",
    "    pourcentage_test = np.nan_to_num(pourcentage_test) \n",
    "\n",
    "    for cls, train, test, pourcentage in zip(classes, train_values, test_values, pourcentage_test):\n",
    "        prettytable_test_pourcentage.add_row([cls, train, test, f\"{pourcentage:.2f}%\"])\n",
    "    \n",
    "    total_train = np.sum(train_values)\n",
    "    total_test = np.sum(test_values)\n",
    "    pourcentage_global = (total_test / (total_train + total_test)) * 100\n",
    "\n",
    "    title = \"Pourcentage de la part du test\"\n",
    "    print(f\"{title}\\n\" + \"=\" * len(title))\n",
    "    print(prettytable_test_pourcentage)\n",
    "    print(\"\\nRésumé des totaux\\n\" + \"=\" * len(\"Résumé des totaux\"))\n",
    "    print(f\"Total Train : {total_train}\")\n",
    "    print(f\"Total Test  : {total_test}\")\n",
    "    print(f\"Pourcentage Global Test : {pourcentage_global:.2f}%\")\n",
    "    \n",
    "tableau_test_pourcentage(df_train, df_test)"
   ]
  },
  {
   "cell_type": "markdown",
   "metadata": {},
   "source": [
    "**Ci-dessus, nous pouvons premièrement voir que chaque classe est splité en 60/40 entre les deux ensembles !**"
   ]
  },
  {
   "cell_type": "code",
   "execution_count": 67,
   "metadata": {},
   "outputs": [
    {
     "data": {
      "image/png": "[encoded data removed]",
      "text/plain": [
       "<Figure size 700x500 with 1 Axes>"
      ]
     },
     "metadata": {},
     "output_type": "display_data"
    }
   ],
   "source": [
    "def distribution_des_classes(df_train, df_test):\n",
    "    \"\"\"Cette fonction permet d'afficher le nombre d'échantillons de chaque classe dans les deux ensembles.\"\"\"\n",
    "\n",
    "    classes, train_values, test_values = preparer_distributions_classes(df_train, df_test)\n",
    "\n",
    "    x = np.arange(len(classes))\n",
    "    width = 0.4\n",
    "\n",
    "    fig, ax = plt.subplots(figsize=(7, 5))\n",
    "    ax.bar(x - width/2, train_values, width, label=\"Données train\", color=\"orchid\")\n",
    "    ax.bar(x + width/2, test_values, width, label=\"Données test\", color=\"pink\")\n",
    "\n",
    "    ax.set_xlabel(\"Classes (noms des partis politiques)\")\n",
    "    ax.set_ylabel(\"Nombre d'exemples\")\n",
    "    ax.set_xticks(x)\n",
    "    ax.set_xticklabels(classes, rotation=45)\n",
    "    ax.legend()\n",
    "\n",
    "    plt.tight_layout()\n",
    "    plt.savefig(\"article/graphique_avant.png\", dpi=300, bbox_inches=\"tight\")\n",
    "    plt.show()\n",
    "\n",
    "distribution_des_classes(df_train, df_test)"
   ]
  },
  {
   "cell_type": "markdown",
   "metadata": {},
   "source": [
    "**Nous pouvons ici voir comment les classes sont distribuées dans les deux ensembles les unes par rapport aux autres !**\n",
    "Nous avons des classes clairement majoritaires."
   ]
  },
  {
   "cell_type": "code",
   "execution_count": 68,
   "metadata": {},
   "outputs": [
    {
     "data": {
      "image/png": "[encoded data removed]",
      "text/plain": [
       "<Figure size 700x500 with 1 Axes>"
      ]
     },
     "metadata": {},
     "output_type": "display_data"
    }
   ],
   "source": [
    "def compare_class_distribution(df_train, df_test):\n",
    "\n",
    "    total_train = len(df_train)\n",
    "    total_test = len(df_test)\n",
    "\n",
    "    train_distribution = {source: count / total_train * 100 for source, count in df_train.groupby(\"label\").size().to_dict().items()}\n",
    "    test_distribution = {source: count / total_test * 100 for source, count in df_test.groupby(\"label\").size().to_dict().items()}\n",
    "\n",
    "    x = np.arange(len(train_distribution))\n",
    "    width = 0.4\n",
    "    plt.figure(figsize=(7, 5))\n",
    "    train_bars = plt.bar(x - 0.2, train_distribution.values(), width, label=\"Ensemble de train\", color=\"orchid\")\n",
    "    test_bars = plt.bar(x + 0.2, test_distribution.values(), width, label=\"Ensemble de test\", color=\"pink\")\n",
    "\n",
    "    for bar in train_bars:\n",
    "        height = bar.get_height()\n",
    "        plt.text(bar.get_x() + bar.get_width() / 2, height, f'{round(height, 2)}', ha=\"center\", va=\"bottom\")\n",
    "\n",
    "    for bar in test_bars:\n",
    "        height = bar.get_height()\n",
    "        plt.text(bar.get_x() + bar.get_width() / 2, height, f'{round(height, 2)}', ha=\"center\", va=\"bottom\")\n",
    "\n",
    "    plt.xticks(x, train_distribution.keys(), rotation=45)\n",
    "    plt.xlabel(\"Partis politiques\")\n",
    "    plt.ylabel(\"Pourcentage de documents\")\n",
    "    plt.legend()\n",
    "    plt.savefig(\"article/graphique_apres.png\", dpi=300, bbox_inches=\"tight\")\n",
    "    plt.show()\n",
    "\n",
    "compare_class_distribution(df_train, df_test)\n"
   ]
  },
  {
   "cell_type": "markdown",
   "metadata": {},
   "source": [
    "**Nous pouvons obtenir les mêmes chiffres mais sous forme de pourcentage afin de voir si la répartition des classes est identique entre les deux ensembles et c'est le cas, notamment car les classes sont splitées en 60/40 de manière égalitaire.**"
   ]
  },
  {
   "cell_type": "markdown",
   "metadata": {},
   "source": [
    "Dans la description de la tâche, les nombres d'échantillons sont explicités comme étant les suivants :"
   ]
  },
  {
   "cell_type": "markdown",
   "metadata": {},
   "source": [
    "\n",
    "||   ELDR    | GUE/NGL | PPE-DE     | PSE | Verts/ALE\n",
    "|:---| :---        |    :----   |          :--- | :--- | :--- |\n",
    "|Nombre de documents| 3 346 | 4 482   |  11 429 | 9 066 | 3 961 |\n",
    "|Pourcentage de documents|10.33%|13.84%|35.29%|27.99%|12.23%|\n",
    "\n",
    "**Lorsqu'ils sont convertis en pourcentage, nous pouvons voir qu'ils semblent correspondre à ceux obtenus après notre équillibrage. Nous avons donc un corpus plus petit que celui original mais semblant disposer des mêmes \"conditions\" que ce dernier !**"
   ]
  },
  {
   "cell_type": "markdown",
   "metadata": {},
   "source": [
    "<a id=\"2-pré-traitement-des-données\"></a>\n",
    "# **2. Pré-traitement des données**"
   ]
  },
  {
   "cell_type": "markdown",
   "metadata": {},
   "source": [
    "<a id=\"a-normalisation-des-données\"></a>\n",
    "## **A. Normalisation des données**"
   ]
  },
  {
   "cell_type": "markdown",
   "metadata": {},
   "source": [
    "Nous allons normaliser nos données en enlevant les ponctuations, stopwords, majuscules et en lemmatisant les textes."
   ]
  },
  {
   "cell_type": "code",
   "execution_count": 69,
   "metadata": {},
   "outputs": [
    {
     "name": "stdout",
     "output_type": "stream",
     "text": [
      "Collecting en-core-web-sm==3.8.0\n",
      "  Downloading https://github.com/explosion/spacy-models/releases/download/en_core_web_sm-3.8.0/en_core_web_sm-3.8.0-py3-none-any.whl (12.8 MB)\n",
      "     l     ━━━━━━━━━━━━━━━━━━━━━━━━━━━━━━━━━━━━━━━━ 0.0/12.8 MB ? eta -:--:--━━━━━━━━━━━━━━━━━━━━━━━━━━━━━━━━━━━━━━━━ 0.1/12.8 MB 2.6 MB/s eta 0:00:05━╸━━━━━━━━━━━━━━━━━━━━━━━━━━━━━━━━━━━━━━ 0.5/12.8 MB 7.7 MB/s eta 0:00:02━━━╸━━━━━━━━━━━━━━━━━━━━━━━━━━━━━━━━━━━━ 1.2/12.8 MB 11.2 MB/s eta 0:00:02━━━━╸━━━━━━━━━━━━━━━━━━━━━━━━━━━━━━━━━━━ 1.6/12.8 MB 11.3 MB/s eta 0:00:01━━━━╸━━━━━━━━━━━━━━━━━━━━━━━━━━━━━━━━━━━ 1.6/12.8 MB 11.3 MB/s eta 0:00:01━━━━━╸━━━━━━━━━━━━━━━━━━━━━━━━━━━━━━━━━━ 1.9/12.8 MB 9.4 MB/s eta 0:00:02━━━━━━━╸━━━━━━━━━━━━━━━━━━━━━━━━━━━━━━━━ 2.5/12.8 MB 10.3 MB/s eta 0:00:02━━━━━━━━━╸━━━━━━━━━━━━━━━━━━━━━━━━━━━━━━ 3.1/12.8 MB 11.1 MB/s eta 0:00:01━━━━━━━━━━━╸━━━━━━━━━━━━━━━━━━━━━━━━━━━━ 3.7/12.8 MB 11.8 MB/s eta 0:00:01━━━━━━━━━━━━━╺━━━━━━━━━━━━━━━━━━━━━━━━━━ 4.2/12.8 MB 11.9 MB/s eta 0:00:01━━━━━━━━━━━━━━╸━━━━━━━━━━━━━━━━━━━━━━━━━ 4.7/12.8 MB 12.1 MB/s eta 0:00:01━━━━━━━━━━━━━━━╸━━━━━━━━━━━━━━━━━━━━━━━━ 5.1/12.8 MB 12.1 MB/s eta 0:00:01━━━━━━━━━━━━━━━━━╸━━━━━━━━━━━━━━━━━━━━━━ 5.7/12.8 MB 12.4 MB/s eta 0:00:01━━━━━━━━━━━━━━━━━━━╸━━━━━━━━━━━━━━━━━━━━ 6.3/12.8 MB 12.8 MB/s eta 0:00:01━━━━━━━━━━━━━━━━━━━━━╸━━━━━━━━━━━━━━━━━━ 6.9/12.8 MB 13.1 MB/s eta 0:00:01━━━━━━━━━━━━━━━━━━━━━━━╸━━━━━━━━━━━━━━━━ 7.6/12.8 MB 13.3 MB/s eta 0:00:01━━━━━━━━━━━━━━━━━━━━━━━━━╸━━━━━━━━━━━━━━ 8.2/12.8 MB 13.6 MB/s eta 0:00:01━━━━━━━━━━━━━━━━━━━━━━━━━━━╺━━━━━━━━━━━━ 8.8/12.8 MB 13.7 MB/s eta 0:00:01━━━━━━━━━━━━━━━━━━━━━━━━━━━━━╺━━━━━━━━━━ 9.4/12.8 MB 13.5 MB/s eta 0:00:01━━━━━━━━━━━━━━━━━━━━━━━━━━━━━━━╺━━━━━━━━ 10.0/12.8 MB 13.6 MB/s eta 0:00:01━━━━━━━━━━━━━━━━━━━━━━━━━━━━━━━━╸━━━━━━━ 10.5/12.8 MB 14.3 MB/s eta 0:00:01━━━━━━━━━━━━━━━━━━━━━━━━━━━━━━━━━━╺━━━━━ 10.9/12.8 MB 14.1 MB/s eta 0:00:01━━━━━━━━━━━━━━━━━━━━━━━━━━━━━━━━━━━━╺━━━ 11.5/12.8 MB 14.2 MB/s eta 0:00:01━━━━━━━━━━━━━━━━━━━━━━━━━━━━━━━━━━━━━╸━━ 12.1/12.8 MB 15.6 MB/s eta 0:00:01━━━━━━━━━━━━━━━━━━━━━━━━━━━━━━━━━━━━━━━╸ 12.7/12.8 MB 15.3 MB/s eta 0:00:01━━━━━━━━━━━━━━━━━━━━━━━━━━━━━━━━━━━━━━━╸ 12.8/12.8 MB 15.3 MB/s eta 0:00:01━━━━━━━━━━━━━━━━━━━━━━━━━━━━━━━━━━━━━━━╸ 12.8/12.8 MB 15.3 MB/s eta 0:00:01━━━━━━━━━━━━━━━━━━━━━━━━━━━━━━━━━━━━━━━╸ 12.8/12.8 MB 15.3 MB/s eta 0:00:01━━━━━━━━━━━━━━━━━━━━━━━━━━━━━━━━━━━━━━━╸ 12.8/12.8 MB 15.3 MB/s eta 0:00:01━━━━━━━━━━━━━━━━━━━━━━━━━━━━━━━━━━━━━━━╸ 12.8/12.8 MB 15.3 MB/s eta 0:00:01━━━━━━━━━━━━━━━━━━━━━━━━━━━━━━━━━━━━━━━╸ 12.8/12.8 MB 15.3 MB/s eta 0:00:01━━━━━━━━━━━━━━━━━━━━━━━━━━━━━━━━━━━━━━━╸ 12.8/12.8 MB 15.3 MB/s eta 0:00:01━━━━━━━━━━━━━━━━━━━━━━━━━━━━━━━━━━━━━━━╸ 12.8/12.8 MB 15.3 MB/s eta 0:00:01━━━━━━━━━━━━━━━━━━━━━━━━━━━━━━━━━━━━━━━╸ 12.8/12.8 MB 15.3 MB/s eta 0:00:01━━━━━━━━━━━━━━━━━━━━━━━━━━━━━━━━━━━━━━━╸ 12.8/12.8 MB 15.3 MB/s eta 0:00:01━━━━━━━━━━━━━━━━━━━━━━━━━━━━━━━━━━━━━━━╸ 12.8/12.8 MB 15.3 MB/s eta 0:00:01━━━━━━━━━━━━━━━━━━━━━━━━━━━━━━━━━━━━━━━━ 12.8/12.8 MB 9.4 MB/s eta 0:00:00\n",
      "\u001b[?25h✔ Download and installation successful\n",
      "You can now load the package via spacy.load('en_core_web_sm')\n"
     ]
    }
   ],
   "source": [
    "!python -m spacy download en_core_web_sm"
   ]
  },
  {
   "cell_type": "code",
   "execution_count": 70,
   "metadata": {},
   "outputs": [],
   "source": [
    "nlp = spacy.load(\"en_core_web_sm\")"
   ]
  },
  {
   "cell_type": "code",
   "execution_count": 71,
   "metadata": {},
   "outputs": [],
   "source": [
    "def tokenize(text):\n",
    "\n",
    "    doc = nlp(text)\n",
    "    return doc"
   ]
  },
  {
   "cell_type": "code",
   "execution_count": 72,
   "metadata": {},
   "outputs": [],
   "source": [
    "def lemmatisation(doc):\n",
    "    \n",
    "    return \" \".join([token.lemma_ for token in doc])"
   ]
  },
  {
   "cell_type": "code",
   "execution_count": 73,
   "metadata": {},
   "outputs": [],
   "source": [
    "def i_love_lowercase(text):\n",
    "    \n",
    "    return text.lower()"
   ]
  },
  {
   "cell_type": "code",
   "execution_count": 74,
   "metadata": {},
   "outputs": [],
   "source": [
    "def remove_stop_words(doc):\n",
    "    \n",
    "    stop_words = [\n",
    "    'au', 'aux', 'avec', 'ce', 'ces', 'dans', 'de', 'des', 'du', 'elle', 'en',\n",
    "    'et', 'eux', 'il', 'je', 'la', 'le', 'leur', 'lui', 'ma', 'mais', 'me',\n",
    "    'même', 'mes', 'moi', 'mon', 'ne', 'nos', 'notre', 'nous', 'on', 'ou',\n",
    "    'par', 'pas', 'pour', 'qu', 'que', 'qui', 'sa', 'se', 'ses', 'son', 'sur',\n",
    "    'ta', 'te', 'tes', 'toi', 'ton', 'tu', 'un', 'une', 'vos', 'votre', 'vous',\n",
    "    'c', 'd', 'j', 'l', 'à', 'm', 'n', 's', 't', 'y', 'été', 'étée', 'étées',\n",
    "    'étés', 'étant', 'étante', 'étants', 'étantes', 'suis', 'es', 'est',\n",
    "    'sommes', 'êtes', 'sont', 'serai', 'seras', 'sera', 'serons', 'serez',\n",
    "    'seront', 'serais', 'serait', 'serions', 'seriez', 'seraient', 'étais',\n",
    "    'était', 'étions', 'étiez', 'étaient', 'fus', 'fut', 'fûmes', 'fûtes',\n",
    "    'furent', 'sois', 'soit', 'soyons', 'soyez', 'soient', 'fusse', 'fusses',\n",
    "    'fût', 'fussions', 'fussiez', 'fussent', 'ayant', 'ayante', 'ayantes',\n",
    "    'ayants', 'aie', 'aies', 'ait', 'ayons', 'ayez', 'aient', 'eut', 'eue',\n",
    "    'eues', 'eus', 'avons', 'avez', 'ont', 'aurai', 'auras', 'aura', 'aurons',\n",
    "    'aurez', 'auront', 'aurais', 'aurait', 'aurions', 'auriez', 'auraient',\n",
    "    'avais', 'avait', 'avions', 'aviez', 'avaient', 'eut', 'eûmes', 'eûtes',\n",
    "    'eurent', 'aie', 'aies', 'ait', 'ayons', 'ayez', 'aient', 'eusse',\n",
    "    'eusses', 'eût', 'eussions', 'eussiez', 'eussent'\n",
    "    ]\n",
    "\n",
    "    \n",
    "    filtered_text = [token for token in doc if token.text not in stop_words]\n",
    "\n",
    "    return filtered_text"
   ]
  },
  {
   "cell_type": "code",
   "execution_count": 75,
   "metadata": {},
   "outputs": [],
   "source": [
    "def remove_punctuation(text):\n",
    "\n",
    "    text = re.sub(r\"[^\\w\\s]\", \"\", text)\n",
    "    \n",
    "    return text"
   ]
  },
  {
   "cell_type": "code",
   "execution_count": 33,
   "metadata": {},
   "outputs": [],
   "source": [
    "def get_beautiful_clean_text(text):\n",
    "\n",
    "    text = i_love_lowercase(text)\n",
    "    doc = tokenize(text)\n",
    "    doc = remove_stop_words(doc)\n",
    "    text = lemmatisation(doc)\n",
    "    text = remove_punctuation(text)\n",
    "   \n",
    "    return text\n",
    "\n",
    "df_train[\"texte_nettoyé\"] = df_train[\"texte\"].map(get_beautiful_clean_text)\n",
    "df_test[\"texte_nettoyé\"] = df_test[\"texte\"].map(get_beautiful_clean_text)"
   ]
  },
  {
   "cell_type": "code",
   "execution_count": 34,
   "metadata": {},
   "outputs": [],
   "source": [
    "# df_train.to_csv(\"data/train.csv\", index=False)\n",
    "# df_test.to_csv(\"data/test.csv\", index=False)\n"
   ]
  },
  {
   "cell_type": "code",
   "execution_count": 35,
   "metadata": {},
   "outputs": [],
   "source": [
    "# df_train = pd.read_csv(\"data/train.csv\")\n",
    "# df_test = pd.read_csv(\"data/test.csv\")"
   ]
  },
  {
   "cell_type": "code",
   "execution_count": null,
   "metadata": {},
   "outputs": [
    {
     "data": {
      "text/plain": [
       "'madame présidente  cher collègue  lapproche moment plus sombre lannée  réjouissant dévoquer lété lheure dété  voudrais cependant attirer lattention rituel réglage montre répète chaque printemp chaque automne do not lutilité divise le opinion  jai contacté éleveurs bétail soulignent quil important dassurer bien  être vaches laitière   déjà production laitière  sérénité ruminants troublée maladie vache folle  faudrait accroître stress perturbant rythme habituel  les vaches  changement rythme prend jour deux  autre difficulté existe agriculture  automne  pendant les battage  lheure indique lhumidité matinale devrait avoir disparu  or surprise  nature conforme directive  outre rythme naturel animaux  dynamisme hommes  dépend partiellement luminosité  également perturbé  cause problème supplémentaire '"
      ]
     },
     "execution_count": 36,
     "metadata": {},
     "output_type": "execute_result"
    }
   ],
   "source": [
    "df_train[\"texte_nettoyé\"][1]"
   ]
  },
  {
   "cell_type": "markdown",
   "metadata": {},
   "source": [
    "<a id=\"b-vectorisation-des-données\"></a>\n",
    "## **B. Vectorisation des données**"
   ]
  },
  {
   "cell_type": "markdown",
   "metadata": {},
   "source": [
    "**Dans l'article [Forest, D. (2009)](https://www.crihn.org/publications/impacts-de-la-variation-du-nombre-de-traits-discriminants-sur-la-categorisation-des-documents/), on voit que les paramètres de la vectorisation jouent un rôle assez important dans les performances d'une modèle.**\n",
    "\n",
    "En nous basant sur cet article et sur le TP1, nous allons tester le TFIDF Vectorizer avec différents hyperparamètres sur trois classifieurs différents afin de voir si nous obtenons des résultats significativement mieux. Les classifieurs utilisés seront :\n",
    "- **KNN** (car utilisé dans l'article)\n",
    "- **SVC Lineaire** (modèle linéaire)\n",
    "- **Complement NB** (modèle probabilistique)\n",
    "\n",
    "Si pour tous ces algorithmes, une vectorisation donne de meilleurs résultats, alors nous utiliserons cette dernières pour le reste de nos tests."
   ]
  },
  {
   "cell_type": "markdown",
   "metadata": {},
   "source": [
    "### **Nous commençons par stocker plusieurs vectorizers tfidf avec des hyperparamètres différents.**"
   ]
  },
  {
   "cell_type": "code",
   "execution_count": 37,
   "metadata": {},
   "outputs": [],
   "source": [
    "vectorizers = {\n",
    "    \"TfidfVectorizer\": {\n",
    "        \"model\": TfidfVectorizer(),\n",
    "        \"hyperparameters\": {\n",
    "            \"max_df\": [0.5, 0.9], # ça c'est pour ignorer les mots qui appraîssent dans 0.5 ou 0.9 des documents #defaut = 1\n",
    "            \"max_features\": [1000, 15000], # ça c'est pour limiter le nombre de mots à 1000 ou 2000 #defaut = None\n",
    "            \"ngram_range\": [(1, 1), (1, 2)], # ça c'est pour prendre en compte les unigrammes ou les bigrammes #defaut = (1, 1)\n",
    "        }\n",
    "    }\n",
    "}"
   ]
  },
  {
   "cell_type": "code",
   "execution_count": 38,
   "metadata": {},
   "outputs": [
    {
     "ename": "IndentationError",
     "evalue": "unindent does not match any outer indentation level (<string>, line 3)",
     "output_type": "error",
     "traceback": [
      "\u001b[0;36m  File \u001b[0;32m<string>:3\u001b[0;36m\u001b[0m\n\u001b[0;31m    param_grid = vectorizers[\"hyperparameters\"]\u001b[0m\n\u001b[0m                                               ^\u001b[0m\n\u001b[0;31mIndentationError\u001b[0m\u001b[0;31m:\u001b[0m unindent does not match any outer indentation level\n"
     ]
    }
   ],
   "source": [
    "def hyperparameter_vectorizer(vectorizers):\n",
    "    \"\"\"Cette fonction permet de lister tous les vectorizes obtenus en combinant tous \n",
    "    les hyperparamètres donnés dans le dictionnaire de vectorizers.\"\"\"\n",
    "\n",
    "    param_grid = vectorizers[\"hyperparameters\"]\n",
    "    list_vectorizers = []\n",
    "\n",
    "\n",
    "    if len(param_grid) == 1:\n",
    "        param_name, param_values = list(param_grid.items())[0]\n",
    "        for i, value in enumerate(param_values, start=1):\n",
    "            params = {param_name: value}\n",
    "            vectorizer = vectorizers[\"model\"].__class__(**params) \n",
    "            list_vectorizers.append(vectorizer)\n",
    "\n",
    "    else:\n",
    "        param_grid_combinations = list(product(*param_grid.values()))\n",
    "        for i, combination in enumerate(param_grid_combinations, start=1):\n",
    "            params = {param_name: value for param_name, value in zip(param_grid.keys(), combination)}\n",
    "            vectorizer = vectorizers[\"model\"].__class__(**params) \n",
    "            list_vectorizers.append(vectorizer)\n",
    "\n",
    "    return list_vectorizers"
   ]
  },
  {
   "cell_type": "code",
   "execution_count": 39,
   "metadata": {},
   "outputs": [
    {
     "data": {
      "text/plain": [
       "[TfidfVectorizer(max_df=0.5, max_features=1000),\n",
       " TfidfVectorizer(max_df=0.5, max_features=1000, ngram_range=(1, 2)),\n",
       " TfidfVectorizer(max_df=0.5, max_features=15000),\n",
       " TfidfVectorizer(max_df=0.5, max_features=15000, ngram_range=(1, 2)),\n",
       " TfidfVectorizer(max_df=0.9, max_features=1000),\n",
       " TfidfVectorizer(max_df=0.9, max_features=1000, ngram_range=(1, 2)),\n",
       " TfidfVectorizer(max_df=0.9, max_features=15000),\n",
       " TfidfVectorizer(max_df=0.9, max_features=15000, ngram_range=(1, 2))]"
      ]
     },
     "execution_count": 39,
     "metadata": {},
     "output_type": "execute_result"
    }
   ],
   "source": [
    "list_vectorizers = hyperparameter_vectorizer(vectorizers[\"TfidfVectorizer\"])\n",
    "list_vectorizers"
   ]
  },
  {
   "cell_type": "markdown",
   "metadata": {},
   "source": [
    "**Nous testons donc 8 vectorisers.**"
   ]
  },
  {
   "cell_type": "markdown",
   "metadata": {},
   "source": [
    "### **Nous vectorisons nos données et stockons ces dernières dans une dataframe pour faciliter les tests sur nos trois algorithmes.**"
   ]
  },
  {
   "cell_type": "code",
   "execution_count": 40,
   "metadata": {},
   "outputs": [],
   "source": [
    "def store_vectorisations(list_vectorizers, x_train, x_test):\n",
    "    \"\"\"Cette fonction permet d'itérer une liste de vectorizers et de vectoriser les données pour ensuite les stocker \n",
    "    dans une dataframe.\"\"\"\n",
    "\n",
    "    all_vectorisations = []\n",
    "\n",
    "    for i, vectorizer in enumerate(list_vectorizers):\n",
    "        x_train_vectorized = vectorizer.fit_transform(x_train)\n",
    "        x_test_vectorized = vectorizer.transform(x_test)\n",
    "        all_vectorisations.append({\"vectorizer_id\": vectorizer.__class__.__name__ + str(i),\n",
    "                                   \"vectorizer\": vectorizer, \n",
    "                                   \"x_train\": x_train_vectorized, \n",
    "                                   \"x_test\": x_test_vectorized})\n",
    "    \n",
    "    df_vectorisations = pd.DataFrame(all_vectorisations)\n",
    "\n",
    "    return df_vectorisations"
   ]
  },
  {
   "cell_type": "code",
   "execution_count": 41,
   "metadata": {},
   "outputs": [],
   "source": [
    "df_vectorisations = store_vectorisations(list_vectorizers, df_train[\"texte_nettoyé\"], df_test[\"texte_nettoyé\"])"
   ]
  },
  {
   "cell_type": "code",
   "execution_count": 42,
   "metadata": {},
   "outputs": [
    {
     "data": {
      "text/html": [
       "<div>\n",
       "<style scoped>\n",
       "    .dataframe tbody tr th:only-of-type {\n",
       "        vertical-align: middle;\n",
       "    }\n",
       "\n",
       "    .dataframe tbody tr th {\n",
       "        vertical-align: top;\n",
       "    }\n",
       "\n",
       "    .dataframe thead th {\n",
       "        text-align: right;\n",
       "    }\n",
       "</style>\n",
       "<table border=\"1\" class=\"dataframe\">\n",
       "  <thead>\n",
       "    <tr style=\"text-align: right;\">\n",
       "      <th></th>\n",
       "      <th>vectorizer_id</th>\n",
       "      <th>vectorizer</th>\n",
       "      <th>x_train</th>\n",
       "      <th>x_test</th>\n",
       "    </tr>\n",
       "  </thead>\n",
       "  <tbody>\n",
       "    <tr>\n",
       "      <th>0</th>\n",
       "      <td>TfidfVectorizer0</td>\n",
       "      <td>TfidfVectorizer(max_df=0.5, max_features=1000)</td>\n",
       "      <td>&lt;Compressed Sparse Row sparse matrix of dtype ...</td>\n",
       "      <td>&lt;Compressed Sparse Row sparse matrix of dtype ...</td>\n",
       "    </tr>\n",
       "    <tr>\n",
       "      <th>1</th>\n",
       "      <td>TfidfVectorizer1</td>\n",
       "      <td>TfidfVectorizer(max_df=0.5, max_features=1000,...</td>\n",
       "      <td>&lt;Compressed Sparse Row sparse matrix of dtype ...</td>\n",
       "      <td>&lt;Compressed Sparse Row sparse matrix of dtype ...</td>\n",
       "    </tr>\n",
       "    <tr>\n",
       "      <th>2</th>\n",
       "      <td>TfidfVectorizer2</td>\n",
       "      <td>TfidfVectorizer(max_df=0.5, max_features=15000)</td>\n",
       "      <td>&lt;Compressed Sparse Row sparse matrix of dtype ...</td>\n",
       "      <td>&lt;Compressed Sparse Row sparse matrix of dtype ...</td>\n",
       "    </tr>\n",
       "    <tr>\n",
       "      <th>3</th>\n",
       "      <td>TfidfVectorizer3</td>\n",
       "      <td>TfidfVectorizer(max_df=0.5, max_features=15000...</td>\n",
       "      <td>&lt;Compressed Sparse Row sparse matrix of dtype ...</td>\n",
       "      <td>&lt;Compressed Sparse Row sparse matrix of dtype ...</td>\n",
       "    </tr>\n",
       "    <tr>\n",
       "      <th>4</th>\n",
       "      <td>TfidfVectorizer4</td>\n",
       "      <td>TfidfVectorizer(max_df=0.9, max_features=1000)</td>\n",
       "      <td>&lt;Compressed Sparse Row sparse matrix of dtype ...</td>\n",
       "      <td>&lt;Compressed Sparse Row sparse matrix of dtype ...</td>\n",
       "    </tr>\n",
       "  </tbody>\n",
       "</table>\n",
       "</div>"
      ],
      "text/plain": [
       "      vectorizer_id                                         vectorizer  \\\n",
       "0  TfidfVectorizer0     TfidfVectorizer(max_df=0.5, max_features=1000)   \n",
       "1  TfidfVectorizer1  TfidfVectorizer(max_df=0.5, max_features=1000,...   \n",
       "2  TfidfVectorizer2    TfidfVectorizer(max_df=0.5, max_features=15000)   \n",
       "3  TfidfVectorizer3  TfidfVectorizer(max_df=0.5, max_features=15000...   \n",
       "4  TfidfVectorizer4     TfidfVectorizer(max_df=0.9, max_features=1000)   \n",
       "\n",
       "                                             x_train  \\\n",
       "0  <Compressed Sparse Row sparse matrix of dtype ...   \n",
       "1  <Compressed Sparse Row sparse matrix of dtype ...   \n",
       "2  <Compressed Sparse Row sparse matrix of dtype ...   \n",
       "3  <Compressed Sparse Row sparse matrix of dtype ...   \n",
       "4  <Compressed Sparse Row sparse matrix of dtype ...   \n",
       "\n",
       "                                              x_test  \n",
       "0  <Compressed Sparse Row sparse matrix of dtype ...  \n",
       "1  <Compressed Sparse Row sparse matrix of dtype ...  \n",
       "2  <Compressed Sparse Row sparse matrix of dtype ...  \n",
       "3  <Compressed Sparse Row sparse matrix of dtype ...  \n",
       "4  <Compressed Sparse Row sparse matrix of dtype ...  "
      ]
     },
     "execution_count": 42,
     "metadata": {},
     "output_type": "execute_result"
    }
   ],
   "source": [
    "df_vectorisations.head()"
   ]
  },
  {
   "cell_type": "code",
   "execution_count": 43,
   "metadata": {},
   "outputs": [],
   "source": [
    "# df_vectorisaions_raw_text = store_vectorisations(list_vectorizers, df_train[\"texte\"], df_test[\"texte\"])"
   ]
  },
  {
   "cell_type": "markdown",
   "metadata": {},
   "source": [
    "### On peut ensuite itérer à travers ces colonnes et utiliser chaque vectorisation pour entraîner nos classifieurs !"
   ]
  },
  {
   "cell_type": "code",
   "execution_count": 44,
   "metadata": {},
   "outputs": [],
   "source": [
    "def classic_classifier_function(classifier, df_vectorisations, y_train, y_test):\n",
    "\n",
    "    model = classifier\n",
    "    scores = []\n",
    "\n",
    "    for i, row in df_vectorisations.iterrows():\n",
    "        vectorizer_id = row[\"vectorizer_id\"]\n",
    "        vectorizer = row[\"vectorizer\"]\n",
    "        x_train = row[\"x_train\"]\n",
    "        x_test = row[\"x_test\"]\n",
    "        model.fit(x_train, y_train)\n",
    "        y_pred = model.predict(x_test)\n",
    "        report = classification_report(y_test, y_pred, output_dict=True)\n",
    "        scores.append({\"vectorizer\": vectorizer, \"vectorizer_id\" : vectorizer_id, \"scores\": report})\n",
    "                      \n",
    "    return scores\n"
   ]
  },
  {
   "cell_type": "code",
   "execution_count": 45,
   "metadata": {},
   "outputs": [],
   "source": [
    "def comparison_vectorisation(df_vectorisations, y_train, y_test):\n",
    "\n",
    "    print(\"Test avec knn...\")\n",
    "    scores_knn = classic_classifier_function(KNeighborsClassifier(), df_vectorisations, y_train, y_test)\n",
    "    print(\"Test avec cnb...\")\n",
    "    scores_cnb = classic_classifier_function(ComplementNB(), df_vectorisations, y_train, y_test)\n",
    "    print(\"Test avec svc...\")\n",
    "    scores_svc = classic_classifier_function(LinearSVC(), df_vectorisations, y_train, y_test)\n",
    "\n",
    "\n",
    "    sorted_scores_knn = sorted(scores_knn, key=lambda x: x[\"scores\"][\"macro avg\"][\"f1-score\"], reverse=True)\n",
    "    sorted_scores_cnb = sorted(scores_cnb, key=lambda x: x[\"scores\"][\"macro avg\"][\"f1-score\"], reverse=True)\n",
    "    sorted_scores_svc = sorted(scores_svc, key=lambda x: x[\"scores\"][\"macro avg\"][\"f1-score\"], reverse=True)\n",
    "\n",
    "    return sorted_scores_knn, sorted_scores_cnb, sorted_scores_svc"
   ]
  },
  {
   "cell_type": "code",
   "execution_count": 46,
   "metadata": {},
   "outputs": [
    {
     "name": "stdout",
     "output_type": "stream",
     "text": [
      "Test avec knn...\n",
      "Test avec cnb...\n",
      "Test avec svc...\n",
      "[{'vectorizer': TfidfVectorizer(max_df=0.9, max_features=15000, ngram_range=(1, 2)), 'vectorizer_id': 'TfidfVectorizer7', 'scores': {'ELDR': {'precision': 0.15621301775147928, 'recall': 0.14537444933920704, 'f1-score': 0.15059897318881918, 'support': 908.0}, 'GUE-NGL': {'precision': 0.2858354537743851, 'recall': 0.2817725752508361, 'f1-score': 0.28378947368421054, 'support': 1196.0}, 'PPE-DE': {'precision': 0.4075227599425012, 'recall': 0.5582540203478832, 'f1-score': 0.4711258828417117, 'support': 3047.0}, 'PSE': {'precision': 0.35707456978967494, 'recall': 0.30012053033346725, 'f1-score': 0.32612966601178783, 'support': 2489.0}, 'Verts-ALE': {'precision': 0.1966824644549763, 'recall': 0.07742537313432836, 'f1-score': 0.1111111111111111, 'support': 1072.0}, 'accuracy': 0.3443526170798898, 'macro avg': {'precision': 0.2806656531426034, 'recall': 0.2725893896811444, 'f1-score': 0.26855102136752806, 'support': 8712.0}, 'weighted avg': {'precision': 0.3242682137832351, 'recall': 0.3443526170798898, 'f1-score': 0.32627691609445714, 'support': 8712.0}}}, {'vectorizer': TfidfVectorizer(max_df=0.5, max_features=15000, ngram_range=(1, 2)), 'vectorizer_id': 'TfidfVectorizer3', 'scores': {'ELDR': {'precision': 0.1529126213592233, 'recall': 0.13876651982378854, 'f1-score': 0.14549653579676675, 'support': 908.0}, 'GUE-NGL': {'precision': 0.27976190476190477, 'recall': 0.27508361204013376, 'f1-score': 0.2774030354131535, 'support': 1196.0}, 'PPE-DE': {'precision': 0.404830224772836, 'recall': 0.5556284870364293, 'f1-score': 0.4683912021026421, 'support': 3047.0}, 'PSE': {'precision': 0.35173726796763444, 'recall': 0.2969063881076738, 'f1-score': 0.32200435729847493, 'support': 2489.0}, 'Verts-ALE': {'precision': 0.1958041958041958, 'recall': 0.07835820895522388, 'f1-score': 0.11192538307794804, 'support': 1072.0}, 'accuracy': 0.3410238751147842, 'macro avg': {'precision': 0.2770092429331589, 'recall': 0.2689486431926499, 'f1-score': 0.2650441027377971, 'support': 8712.0}, 'weighted avg': {'precision': 0.32051581164437376, 'recall': 0.3410238751147842, 'f1-score': 0.322833532327802, 'support': 8712.0}}}, {'vectorizer': TfidfVectorizer(max_df=0.5, max_features=15000), 'vectorizer_id': 'TfidfVectorizer2', 'scores': {'ELDR': {'precision': 0.13408521303258145, 'recall': 0.11784140969162996, 'f1-score': 0.1254396248534584, 'support': 908.0}, 'GUE-NGL': {'precision': 0.29328621908127206, 'recall': 0.27759197324414714, 'f1-score': 0.2852233676975945, 'support': 1196.0}, 'PPE-DE': {'precision': 0.4020495710200191, 'recall': 0.5536593370528389, 'f1-score': 0.46582907634957893, 'support': 3047.0}, 'PSE': {'precision': 0.34629629629629627, 'recall': 0.30052229811169145, 'f1-score': 0.3217896321789632, 'support': 2489.0}, 'Verts-ALE': {'precision': 0.1807511737089202, 'recall': 0.07182835820895522, 'f1-score': 0.102803738317757, 'support': 1072.0}, 'accuracy': 0.3387281910009183, 'macro avg': {'precision': 0.2712936946278178, 'recall': 0.2642886752618525, 'f1-score': 0.2602170878794704, 'support': 8712.0}, 'weighted avg': {'precision': 0.31603093136481036, 'recall': 0.3387281910009183, 'f1-score': 0.31973686004826735, 'support': 8712.0}}}, {'vectorizer': TfidfVectorizer(max_df=0.9, max_features=15000), 'vectorizer_id': 'TfidfVectorizer6', 'scores': {'ELDR': {'precision': 0.12980769230769232, 'recall': 0.11894273127753303, 'f1-score': 0.12413793103448276, 'support': 908.0}, 'GUE-NGL': {'precision': 0.2979842243645925, 'recall': 0.2842809364548495, 'f1-score': 0.29097133076593923, 'support': 1196.0}, 'PPE-DE': {'precision': 0.40072376357056694, 'recall': 0.5451263537906137, 'f1-score': 0.46190211345939935, 'support': 3047.0}, 'PSE': {'precision': 0.3455713630105553, 'recall': 0.30253113700281237, 'f1-score': 0.3226221079691517, 'support': 2489.0}, 'Verts-ALE': {'precision': 0.18072289156626506, 'recall': 0.06996268656716417, 'f1-score': 0.10087424344317418, 'support': 1072.0}, 'accuracy': 0.3371212121212121, 'macro avg': {'precision': 0.2709619869639344, 'recall': 0.26416876901859454, 'f1-score': 0.2601015453344294, 'support': 8712.0}, 'weighted avg': {'precision': 0.31555577213581987, 'recall': 0.3371212121212121, 'f1-score': 0.3190172530294381, 'support': 8712.0}}}, {'vectorizer': TfidfVectorizer(max_df=0.9, max_features=1000), 'vectorizer_id': 'TfidfVectorizer4', 'scores': {'ELDR': {'precision': 0.16506717850287908, 'recall': 0.0947136563876652, 'f1-score': 0.12036389083275018, 'support': 908.0}, 'GUE-NGL': {'precision': 0.26171428571428573, 'recall': 0.19147157190635453, 'f1-score': 0.22114920328343796, 'support': 1196.0}, 'PPE-DE': {'precision': 0.3916640152720331, 'recall': 0.40400393829996717, 'f1-score': 0.3977382875605816, 'support': 3047.0}, 'PSE': {'precision': 0.3155893536121673, 'recall': 0.5002008838891121, 'f1-score': 0.3870065278209512, 'support': 2489.0}, 'Verts-ALE': {'precision': 0.21929824561403508, 'recall': 0.04664179104477612, 'f1-score': 0.07692307692307693, 'support': 1072.0}, 'accuracy': 0.3261019283746556, 'macro avg': {'precision': 0.27066661574308004, 'recall': 0.247406368305575, 'f1-score': 0.24063619728415958, 'support': 8712.0}, 'weighted avg': {'precision': 0.30726367754450357, 'recall': 0.3261019283746556, 'f1-score': 0.3020447897621794, 'support': 8712.0}}}, {'vectorizer': TfidfVectorizer(max_df=0.5, max_features=1000, ngram_range=(1, 2)), 'vectorizer_id': 'TfidfVectorizer1', 'scores': {'ELDR': {'precision': 0.1411530815109344, 'recall': 0.07819383259911894, 'f1-score': 0.10063784549964565, 'support': 908.0}, 'GUE-NGL': {'precision': 0.2750301568154403, 'recall': 0.19063545150501673, 'f1-score': 0.22518518518518518, 'support': 1196.0}, 'PPE-DE': {'precision': 0.3984819734345351, 'recall': 0.4135214965539875, 'f1-score': 0.40586245772266066, 'support': 3047.0}, 'PSE': {'precision': 0.31262626262626264, 'recall': 0.4973885094415428, 'f1-score': 0.3839354938750194, 'support': 2489.0}, 'Verts-ALE': {'precision': 0.2054263565891473, 'recall': 0.049440298507462684, 'f1-score': 0.07969924812030076, 'support': 1072.0}, 'accuracy': 0.3271349862258953, 'macro avg': {'precision': 0.2665435661952639, 'recall': 0.2458359177214257, 'f1-score': 0.23906404608056234, 'support': 8712.0}, 'weighted avg': {'precision': 0.30643037885199237, 'recall': 0.3271349862258953, 'f1-score': 0.3028485528140487, 'support': 8712.0}}}, {'vectorizer': TfidfVectorizer(max_df=0.9, max_features=1000, ngram_range=(1, 2)), 'vectorizer_id': 'TfidfVectorizer5', 'scores': {'ELDR': {'precision': 0.15705765407554673, 'recall': 0.08700440528634361, 'f1-score': 0.11197732104890148, 'support': 908.0}, 'GUE-NGL': {'precision': 0.2680901542111507, 'recall': 0.18896321070234115, 'f1-score': 0.22167729279058362, 'support': 1196.0}, 'PPE-DE': {'precision': 0.40090380890897354, 'recall': 0.40761404660321626, 'f1-score': 0.40423108218063464, 'support': 3047.0}, 'PSE': {'precision': 0.31153270094857716, 'recall': 0.5014061872237846, 'f1-score': 0.3842956120092379, 'support': 2489.0}, 'Verts-ALE': {'precision': 0.17557251908396945, 'recall': 0.04291044776119403, 'f1-score': 0.06896551724137931, 'support': 1072.0}, 'accuracy': 0.3261019283746556, 'macro avg': {'precision': 0.26263136744564347, 'recall': 0.24557965951537594, 'f1-score': 0.23822936505414738, 'support': 8712.0}, 'weighted avg': {'precision': 0.3039964087697198, 'recall': 0.3261019283746556, 'f1-score': 0.3017603730335268, 'support': 8712.0}}}, {'vectorizer': TfidfVectorizer(max_df=0.5, max_features=1000), 'vectorizer_id': 'TfidfVectorizer0', 'scores': {'ELDR': {'precision': 0.16435643564356436, 'recall': 0.09140969162995595, 'f1-score': 0.11748053786270347, 'support': 908.0}, 'GUE-NGL': {'precision': 0.2605548854041013, 'recall': 0.1806020066889632, 'f1-score': 0.21333333333333335, 'support': 1196.0}, 'PPE-DE': {'precision': 0.3908918406072106, 'recall': 0.4056448966196259, 'f1-score': 0.398131744242229, 'support': 3047.0}, 'PSE': {'precision': 0.3124373119358074, 'recall': 0.5006026516673363, 'f1-score': 0.38474602439400957, 'support': 2489.0}, 'Verts-ALE': {'precision': 0.17982456140350878, 'recall': 0.03824626865671642, 'f1-score': 0.06307692307692307, 'support': 1072.0}, 'accuracy': 0.323921028466483, 'macro avg': {'precision': 0.2616130069988385, 'recall': 0.24330110305251954, 'f1-score': 0.23535371258183968, 'support': 8712.0}, 'weighted avg': {'precision': 0.3010026542780783, 'recall': 0.323921028466483, 'f1-score': 0.29845933608898356, 'support': 8712.0}}}]\n",
      "[{'vectorizer': TfidfVectorizer(max_df=0.5, max_features=15000, ngram_range=(1, 2)), 'vectorizer_id': 'TfidfVectorizer3', 'scores': {'ELDR': {'precision': 0.2695417789757412, 'recall': 0.11013215859030837, 'f1-score': 0.1563721657544957, 'support': 908.0}, 'GUE-NGL': {'precision': 0.34945705824284307, 'recall': 0.5919732441471572, 'f1-score': 0.43947858472998136, 'support': 1196.0}, 'PPE-DE': {'precision': 0.451295799821269, 'recall': 0.49721037085658026, 'f1-score': 0.4731417863835103, 'support': 3047.0}, 'PSE': {'precision': 0.37170773152081565, 'recall': 0.3515468059461631, 'f1-score': 0.3613462729712988, 'support': 2489.0}, 'Verts-ALE': {'precision': 0.23509933774834438, 'recall': 0.13246268656716417, 'f1-score': 0.16945107398568018, 'support': 1072.0}, 'accuracy': 0.38337924701561066, 'macro avg': {'precision': 0.3354203412618027, 'recall': 0.3366650532214746, 'f1-score': 0.31995797676499327, 'support': 8712.0}, 'weighted avg': {'precision': 0.3690312112999719, 'recall': 0.38337924701561066, 'f1-score': 0.3661969423428498, 'support': 8712.0}}}, {'vectorizer': TfidfVectorizer(max_df=0.9, max_features=15000, ngram_range=(1, 2)), 'vectorizer_id': 'TfidfVectorizer7', 'scores': {'ELDR': {'precision': 0.27605633802816903, 'recall': 0.10792951541850221, 'f1-score': 0.15518606492478226, 'support': 908.0}, 'GUE-NGL': {'precision': 0.3507646768623582, 'recall': 0.5944816053511706, 'f1-score': 0.44120384734719204, 'support': 1196.0}, 'PPE-DE': {'precision': 0.45084645084645086, 'recall': 0.4981949458483754, 'f1-score': 0.47333956969130025, 'support': 3047.0}, 'PSE': {'precision': 0.3716101694915254, 'recall': 0.35235034150261146, 'f1-score': 0.3617240668179006, 'support': 2489.0}, 'Verts-ALE': {'precision': 0.23217247097844113, 'recall': 0.13059701492537312, 'f1-score': 0.16716417910447762, 'support': 1072.0}, 'accuracy': 0.3838383838383838, 'macro avg': {'precision': 0.33629002124138896, 'recall': 0.33671068460920656, 'f1-score': 0.3197235455771305, 'support': 8712.0}, 'weighted avg': {'precision': 0.36934451847329997, 'recall': 0.3838383838383838, 'f1-score': 0.36620587919399566, 'support': 8712.0}}}, {'vectorizer': TfidfVectorizer(max_df=0.9, max_features=15000), 'vectorizer_id': 'TfidfVectorizer6', 'scores': {'ELDR': {'precision': 0.25092250922509224, 'recall': 0.07488986784140969, 'f1-score': 0.11535199321458864, 'support': 908.0}, 'GUE-NGL': {'precision': 0.383248730964467, 'recall': 0.5050167224080268, 'f1-score': 0.4357864357864358, 'support': 1196.0}, 'PPE-DE': {'precision': 0.4329326923076923, 'recall': 0.5910731867410568, 'f1-score': 0.49979186901623424, 'support': 3047.0}, 'PSE': {'precision': 0.3622741295724989, 'recall': 0.33025311370028126, 'f1-score': 0.3455233291298865, 'support': 2489.0}, 'Verts-ALE': {'precision': 0.22477064220183487, 'recall': 0.0914179104477612, 'f1-score': 0.129973474801061, 'support': 1072.0}, 'accuracy': 0.3894628099173554, 'macro avg': {'precision': 0.3308297408543171, 'recall': 0.3185301602277072, 'f1-score': 0.30528542038964124, 'support': 8712.0}, 'weighted avg': {'precision': 0.3613410779405121, 'recall': 0.3894628099173554, 'f1-score': 0.3613573396605732, 'support': 8712.0}}}, {'vectorizer': TfidfVectorizer(max_df=0.5, max_features=15000), 'vectorizer_id': 'TfidfVectorizer2', 'scores': {'ELDR': {'precision': 0.2323943661971831, 'recall': 0.07268722466960352, 'f1-score': 0.11073825503355705, 'support': 908.0}, 'GUE-NGL': {'precision': 0.37666455294863666, 'recall': 0.49665551839464883, 'f1-score': 0.428416877028489, 'support': 1196.0}, 'PPE-DE': {'precision': 0.4327598740004846, 'recall': 0.5861503117820808, 'f1-score': 0.49790911625313633, 'support': 3047.0}, 'PSE': {'precision': 0.36435124508519, 'recall': 0.3350743270389715, 'f1-score': 0.34910004185851823, 'support': 2489.0}, 'Verts-ALE': {'precision': 0.22528735632183908, 'recall': 0.0914179104477612, 'f1-score': 0.1300597213005972, 'support': 1072.0}, 'accuracy': 0.3877410468319559, 'macro avg': {'precision': 0.3262914789106667, 'recall': 0.3163970584666132, 'f1-score': 0.30324480229485956, 'support': 8712.0}, 'weighted avg': {'precision': 0.35910267687180186, 'recall': 0.3877410468319559, 'f1-score': 0.3602387538039418, 'support': 8712.0}}}, {'vectorizer': TfidfVectorizer(max_df=0.5, max_features=1000), 'vectorizer_id': 'TfidfVectorizer0', 'scores': {'ELDR': {'precision': 0.23163841807909605, 'recall': 0.1354625550660793, 'f1-score': 0.17095205003474634, 'support': 908.0}, 'GUE-NGL': {'precision': 0.2633863965267728, 'recall': 0.6086956521739131, 'f1-score': 0.36767676767676766, 'support': 1196.0}, 'PPE-DE': {'precision': 0.46625, 'recall': 0.36724647193961274, 'f1-score': 0.4108683679089407, 'support': 3047.0}, 'PSE': {'precision': 0.36445647271087056, 'recall': 0.3246283648051426, 'f1-score': 0.34339141521461963, 'support': 2489.0}, 'Verts-ALE': {'precision': 0.1925, 'recall': 0.14365671641791045, 'f1-score': 0.16452991452991453, 'support': 1072.0}, 'accuracy': 0.3365472910927456, 'macro avg': {'precision': 0.3036462574633479, 'recall': 0.31593795208053166, 'f1-score': 0.29148370307299776, 'support': 8712.0}, 'weighted avg': {'precision': 0.35118155698337883, 'recall': 0.3365472910927456, 'f1-score': 0.3303442485579388, 'support': 8712.0}}}, {'vectorizer': TfidfVectorizer(max_df=0.9, max_features=1000), 'vectorizer_id': 'TfidfVectorizer4', 'scores': {'ELDR': {'precision': 0.22957198443579765, 'recall': 0.1299559471365639, 'f1-score': 0.1659634317862166, 'support': 908.0}, 'GUE-NGL': {'precision': 0.2628388017118402, 'recall': 0.6162207357859532, 'f1-score': 0.3685, 'support': 1196.0}, 'PPE-DE': {'precision': 0.46541666666666665, 'recall': 0.36659008861174924, 'f1-score': 0.41013401872590416, 'support': 3047.0}, 'PSE': {'precision': 0.36153846153846153, 'recall': 0.32101245480112495, 'f1-score': 0.3400723558203873, 'support': 2489.0}, 'Verts-ALE': {'precision': 0.19387755102040816, 'recall': 0.1417910447761194, 'f1-score': 0.16379310344827586, 'support': 1072.0}, 'accuracy': 0.335514233241506, 'macro avg': {'precision': 0.3026486930746349, 'recall': 0.31511405422230215, 'f1-score': 0.28969258195615677, 'support': 8712.0}, 'weighted avg': {'precision': 0.34993538998065965, 'recall': 0.335514233241506, 'f1-score': 0.3286415807682748, 'support': 8712.0}}}, {'vectorizer': TfidfVectorizer(max_df=0.5, max_features=1000, ngram_range=(1, 2)), 'vectorizer_id': 'TfidfVectorizer1', 'scores': {'ELDR': {'precision': 0.1963927855711423, 'recall': 0.10792951541850221, 'f1-score': 0.13930348258706468, 'support': 908.0}, 'GUE-NGL': {'precision': 0.2611464968152866, 'recall': 0.617056856187291, 'f1-score': 0.3669816011934361, 'support': 1196.0}, 'PPE-DE': {'precision': 0.4807017543859649, 'recall': 0.3596980636691828, 'f1-score': 0.4114886427632814, 'support': 3047.0}, 'PSE': {'precision': 0.3574858140549978, 'recall': 0.32904781036560865, 'f1-score': 0.3426778242677824, 'support': 2489.0}, 'Verts-ALE': {'precision': 0.21568627450980393, 'recall': 0.16417910447761194, 'f1-score': 0.1864406779661017, 'support': 1072.0}, 'accuracy': 0.33597337006427913, 'macro avg': {'precision': 0.3022826250674392, 'recall': 0.3155822700236393, 'f1-score': 0.28937844575553323, 'support': 8712.0}, 'weighted avg': {'precision': 0.35311661875127576, 'recall': 0.33597337006427913, 'f1-score': 0.329659431025975, 'support': 8712.0}}}, {'vectorizer': TfidfVectorizer(max_df=0.9, max_features=1000, ngram_range=(1, 2)), 'vectorizer_id': 'TfidfVectorizer5', 'scores': {'ELDR': {'precision': 0.19873150105708245, 'recall': 0.10352422907488987, 'f1-score': 0.13613323678493844, 'support': 908.0}, 'GUE-NGL': {'precision': 0.25986727209221094, 'recall': 0.6220735785953178, 'f1-score': 0.36659275683665926, 'support': 1196.0}, 'PPE-DE': {'precision': 0.47894051237516283, 'recall': 0.36199540531670493, 'f1-score': 0.41233644859813084, 'support': 3047.0}, 'PSE': {'precision': 0.35556537102473496, 'recall': 0.32342306147047006, 'f1-score': 0.3387334315169367, 'support': 2489.0}, 'Verts-ALE': {'precision': 0.21508034610630408, 'recall': 0.1623134328358209, 'f1-score': 0.1850079744816587, 'support': 1072.0}, 'accuracy': 0.3351698806244261, 'macro avg': {'precision': 0.301637000531099, 'recall': 0.3146659414586407, 'f1-score': 0.2877607696436648, 'support': 8712.0}, 'weighted avg': {'precision': 0.3519455396115426, 'recall': 0.3351698806244261, 'f1-score': 0.32826895486063673, 'support': 8712.0}}}]\n",
      "[{'vectorizer': TfidfVectorizer(max_df=0.9, max_features=15000, ngram_range=(1, 2)), 'vectorizer_id': 'TfidfVectorizer7', 'scores': {'ELDR': {'precision': 0.26997840172786175, 'recall': 0.13766519823788545, 'f1-score': 0.18234865061998543, 'support': 908.0}, 'GUE-NGL': {'precision': 0.43315508021390375, 'recall': 0.40635451505016723, 'f1-score': 0.41932700603968937, 'support': 1196.0}, 'PPE-DE': {'precision': 0.44129235618597323, 'recall': 0.5513619954053167, 'f1-score': 0.49022468631456084, 'support': 3047.0}, 'PSE': {'precision': 0.3594169543536632, 'recall': 0.3764564081960627, 'f1-score': 0.36773940345368916, 'support': 2489.0}, 'Verts-ALE': {'precision': 0.2482468443197756, 'recall': 0.16511194029850745, 'f1-score': 0.19831932773109243, 'support': 1072.0}, 'accuracy': 0.39084022038567495, 'macro avg': {'precision': 0.3504179273602355, 'recall': 0.32739001143758795, 'f1-score': 0.33159181483180344, 'support': 8712.0}, 'weighted avg': {'precision': 0.3751745971648824, 'recall': 0.39084022038567495, 'f1-score': 0.3774912749897664, 'support': 8712.0}}}, {'vectorizer': TfidfVectorizer(max_df=0.5, max_features=15000, ngram_range=(1, 2)), 'vectorizer_id': 'TfidfVectorizer3', 'scores': {'ELDR': {'precision': 0.26535087719298245, 'recall': 0.13325991189427314, 'f1-score': 0.1774193548387097, 'support': 908.0}, 'GUE-NGL': {'precision': 0.42987249544626593, 'recall': 0.39464882943143814, 'f1-score': 0.4115082824760244, 'support': 1196.0}, 'PPE-DE': {'precision': 0.43861959957850366, 'recall': 0.5464391204463407, 'f1-score': 0.4866286716352477, 'support': 3047.0}, 'PSE': {'precision': 0.35467980295566504, 'recall': 0.3760546404178385, 'f1-score': 0.36505460218408736, 'support': 2489.0}, 'Verts-ALE': {'precision': 0.24204702627939143, 'recall': 0.16324626865671643, 'f1-score': 0.19498607242339833, 'support': 1072.0}, 'accuracy': 0.38670798898071623, 'macro avg': {'precision': 0.34611396029056174, 'recall': 0.32272975416932137, 'f1-score': 0.3271193967114935, 'support': 8712.0}, 'weighted avg': {'precision': 0.3711905948908196, 'recall': 0.38670798898071623, 'f1-score': 0.37346926273892905, 'support': 8712.0}}}, {'vectorizer': TfidfVectorizer(max_df=0.9, max_features=15000), 'vectorizer_id': 'TfidfVectorizer6', 'scores': {'ELDR': {'precision': 0.24796747967479674, 'recall': 0.1343612334801762, 'f1-score': 0.1742857142857143, 'support': 908.0}, 'GUE-NGL': {'precision': 0.42171945701357466, 'recall': 0.3896321070234114, 'f1-score': 0.4050412863972186, 'support': 1196.0}, 'PPE-DE': {'precision': 0.43366126030311086, 'recall': 0.5352806038726616, 'f1-score': 0.4791421856639248, 'support': 3047.0}, 'PSE': {'precision': 0.34390152928011936, 'recall': 0.3704298915226999, 'f1-score': 0.35667311411992264, 'support': 2489.0}, 'Verts-ALE': {'precision': 0.23476968796433878, 'recall': 0.14738805970149255, 'f1-score': 0.18108882521489972, 'support': 1072.0}, 'accuracy': 0.3786730945821855, 'macro avg': {'precision': 0.3364038828471881, 'recall': 0.3154183791200883, 'f1-score': 0.319246225136336, 'support': 8712.0}, 'weighted avg': {'precision': 0.3625505985023551, 'recall': 0.3786730945821855, 'f1-score': 0.36553186966199963, 'support': 8712.0}}}, {'vectorizer': TfidfVectorizer(max_df=0.5, max_features=15000), 'vectorizer_id': 'TfidfVectorizer2', 'scores': {'ELDR': {'precision': 0.2545090180360721, 'recall': 0.13986784140969163, 'f1-score': 0.18052594171997158, 'support': 908.0}, 'GUE-NGL': {'precision': 0.4209090909090909, 'recall': 0.387123745819398, 'f1-score': 0.40331010452961674, 'support': 1196.0}, 'PPE-DE': {'precision': 0.43492147990417884, 'recall': 0.5362651788644568, 'f1-score': 0.48030570252792476, 'support': 3047.0}, 'PSE': {'precision': 0.3414269704893538, 'recall': 0.36721574929690637, 'f1-score': 0.3538521099496709, 'support': 2489.0}, 'Verts-ALE': {'precision': 0.22827687776141384, 'recall': 0.14458955223880596, 'f1-score': 0.1770416904625928, 'support': 1072.0}, 'accuracy': 0.3779843893480257, 'macro avg': {'precision': 0.33600868742002193, 'recall': 0.31501241352585174, 'f1-score': 0.3190071098379554, 'support': 8712.0}, 'weighted avg': {'precision': 0.3620559863269394, 'recall': 0.3779843893480257, 'f1-score': 0.36504757914857355, 'support': 8712.0}}}, {'vectorizer': TfidfVectorizer(max_df=0.9, max_features=1000), 'vectorizer_id': 'TfidfVectorizer4', 'scores': {'ELDR': {'precision': 0.28846153846153844, 'recall': 0.08259911894273128, 'f1-score': 0.1284246575342466, 'support': 908.0}, 'GUE-NGL': {'precision': 0.38064516129032255, 'recall': 0.39464882943143814, 'f1-score': 0.38752052545155996, 'support': 1196.0}, 'PPE-DE': {'precision': 0.42229014813073124, 'recall': 0.5894322284213981, 'f1-score': 0.49205479452054796, 'support': 3047.0}, 'PSE': {'precision': 0.3367108339828527, 'recall': 0.3471273603856971, 'f1-score': 0.34183976261127597, 'support': 2489.0}, 'Verts-ALE': {'precision': 0.21628498727735368, 'recall': 0.07929104477611941, 'f1-score': 0.11604095563139932, 'support': 1072.0}, 'accuracy': 0.3778696051423324, 'macro avg': {'precision': 0.3288785338285597, 'recall': 0.2986197163914768, 'f1-score': 0.29317613914980595, 'support': 8712.0}, 'weighted avg': {'precision': 0.3528263938619472, 'recall': 0.3778696051423324, 'f1-score': 0.3506210020617077, 'support': 8712.0}}}, {'vectorizer': TfidfVectorizer(max_df=0.5, max_features=1000), 'vectorizer_id': 'TfidfVectorizer0', 'scores': {'ELDR': {'precision': 0.29961089494163423, 'recall': 0.08480176211453745, 'f1-score': 0.13218884120171673, 'support': 908.0}, 'GUE-NGL': {'precision': 0.3793103448275862, 'recall': 0.3770903010033445, 'f1-score': 0.37819706498951783, 'support': 1196.0}, 'PPE-DE': {'precision': 0.41895030190431953, 'recall': 0.592057761732852, 'f1-score': 0.49068407452740376, 'support': 3047.0}, 'PSE': {'precision': 0.3337250293772033, 'recall': 0.34230614704700685, 'f1-score': 0.33796112653708843, 'support': 2489.0}, 'Verts-ALE': {'precision': 0.22113022113022113, 'recall': 0.08395522388059702, 'f1-score': 0.12170385395537525, 'support': 1072.0}, 'accuracy': 0.3758034894398531, 'macro avg': {'precision': 0.3305453584361928, 'recall': 0.2960422391556675, 'f1-score': 0.2921469922422204, 'support': 8712.0}, 'weighted avg': {'precision': 0.3523802376141775, 'recall': 0.3758034894398531, 'f1-score': 0.34884266620920534, 'support': 8712.0}}}, {'vectorizer': TfidfVectorizer(max_df=0.9, max_features=1000, ngram_range=(1, 2)), 'vectorizer_id': 'TfidfVectorizer5', 'scores': {'ELDR': {'precision': 0.212, 'recall': 0.05837004405286344, 'f1-score': 0.09153713298791019, 'support': 908.0}, 'GUE-NGL': {'precision': 0.3877874702616971, 'recall': 0.4088628762541806, 'f1-score': 0.398046398046398, 'support': 1196.0}, 'PPE-DE': {'precision': 0.422438330170778, 'recall': 0.584509353462422, 'f1-score': 0.49043095139749415, 'support': 3047.0}, 'PSE': {'precision': 0.33346213292117466, 'recall': 0.3467255926074729, 'f1-score': 0.3399645459917274, 'support': 2489.0}, 'Verts-ALE': {'precision': 0.24181360201511334, 'recall': 0.08955223880597014, 'f1-score': 0.1307011572498298, 'support': 1072.0}, 'accuracy': 0.37672176308539945, 'macro avg': {'precision': 0.31950030707375265, 'recall': 0.29760402103658185, 'f1-score': 0.2901360371346719, 'support': 8712.0}, 'weighted avg': {'precision': 0.34810271311574326, 'recall': 0.37672176308539945, 'f1-score': 0.34892168425963105, 'support': 8712.0}}}, {'vectorizer': TfidfVectorizer(max_df=0.5, max_features=1000, ngram_range=(1, 2)), 'vectorizer_id': 'TfidfVectorizer1', 'scores': {'ELDR': {'precision': 0.21052631578947367, 'recall': 0.05726872246696035, 'f1-score': 0.09004329004329005, 'support': 908.0}, 'GUE-NGL': {'precision': 0.3839137645107794, 'recall': 0.387123745819398, 'f1-score': 0.3855120732722731, 'support': 1196.0}, 'PPE-DE': {'precision': 0.42303144951525185, 'recall': 0.5871348867738759, 'f1-score': 0.4917537108301264, 'support': 3047.0}, 'PSE': {'precision': 0.33396728794218333, 'recall': 0.35275210928083567, 'f1-score': 0.3431027745212974, 'support': 2489.0}, 'Verts-ALE': {'precision': 0.23192019950124687, 'recall': 0.08675373134328358, 'f1-score': 0.12627291242362526, 'support': 1072.0}, 'accuracy': 0.37591827364554636, 'macro avg': {'precision': 0.31667180345178697, 'recall': 0.2942066391368707, 'f1-score': 0.28733695221812244, 'support': 8712.0}, 'weighted avg': {'precision': 0.346551723750934, 'recall': 0.37591827364554636, 'f1-score': 0.3478595812435694, 'support': 8712.0}}}]\n"
     ]
    }
   ],
   "source": [
    "sorted_scores_knn, sorted_scores_cnb, sorted_scores_svc = comparison_vectorisation(df_vectorisations, df_train[\"label\"], df_test[\"label\"])\n",
    "print(sorted_scores_knn)\n",
    "print(sorted_scores_cnb)\n",
    "print(sorted_scores_svc)"
   ]
  },
  {
   "cell_type": "code",
   "execution_count": 47,
   "metadata": {},
   "outputs": [],
   "source": [
    "def fill_vect_table(best_scores, algo, table):\n",
    "\n",
    "    for score in best_scores:\n",
    "        vectorizer = score[\"vectorizer\"]\n",
    "        vectorizer_id = score[\"vectorizer_id\"]\n",
    "        for metric, value in score[\"scores\"].items():\n",
    "            if metric == \"accuracy\":\n",
    "                accuracy = value\n",
    "            elif metric == \"macro avg\":\n",
    "                macro_f1 = value[\"f1-score\"]\n",
    "                precision = value[\"precision\"]\n",
    "                recall = value[\"recall\"]\n",
    "            \n",
    "        table.add_row([algo, vectorizer, vectorizer_id, macro_f1, accuracy, precision, recall])\n",
    "\n",
    "    print(table)\n",
    "    return table\n"
   ]
  },
  {
   "cell_type": "code",
   "execution_count": 48,
   "metadata": {},
   "outputs": [
    {
     "name": "stdout",
     "output_type": "stream",
     "text": [
      "\u001b[38;5;219m+\u001b[0m\u001b[38;5;183m\u001b[38;5;147m-\u001b[0m\u001b[38;5;183m\u001b[38;5;147m-\u001b[0m\u001b[38;5;183m\u001b[38;5;147m-\u001b[0m\u001b[38;5;183m\u001b[38;5;147m-\u001b[0m\u001b[38;5;183m\u001b[38;5;147m-\u001b[0m\u001b[38;5;183m\u001b[38;5;147m-\u001b[0m\u001b[38;5;183m\u001b[38;5;219m+\u001b[0m\u001b[38;5;183m\u001b[38;5;147m-\u001b[0m\u001b[38;5;183m\u001b[38;5;147m-\u001b[0m\u001b[38;5;183m\u001b[38;5;147m-\u001b[0m\u001b[38;5;183m\u001b[38;5;147m-\u001b[0m\u001b[38;5;183m\u001b[38;5;147m-\u001b[0m\u001b[38;5;183m\u001b[38;5;147m-\u001b[0m\u001b[38;5;183m\u001b[38;5;147m-\u001b[0m\u001b[38;5;183m\u001b[38;5;147m-\u001b[0m\u001b[38;5;183m\u001b[38;5;147m-\u001b[0m\u001b[38;5;183m\u001b[38;5;147m-\u001b[0m\u001b[38;5;183m\u001b[38;5;147m-\u001b[0m\u001b[38;5;183m\u001b[38;5;147m-\u001b[0m\u001b[38;5;183m\u001b[38;5;147m-\u001b[0m\u001b[38;5;183m\u001b[38;5;147m-\u001b[0m\u001b[38;5;183m\u001b[38;5;147m-\u001b[0m\u001b[38;5;183m\u001b[38;5;147m-\u001b[0m\u001b[38;5;183m\u001b[38;5;147m-\u001b[0m\u001b[38;5;183m\u001b[38;5;147m-\u001b[0m\u001b[38;5;183m\u001b[38;5;147m-\u001b[0m\u001b[38;5;183m\u001b[38;5;147m-\u001b[0m\u001b[38;5;183m\u001b[38;5;147m-\u001b[0m\u001b[38;5;183m\u001b[38;5;147m-\u001b[0m\u001b[38;5;183m\u001b[38;5;147m-\u001b[0m\u001b[38;5;183m\u001b[38;5;147m-\u001b[0m\u001b[38;5;183m\u001b[38;5;147m-\u001b[0m\u001b[38;5;183m\u001b[38;5;147m-\u001b[0m\u001b[38;5;183m\u001b[38;5;147m-\u001b[0m\u001b[38;5;183m\u001b[38;5;147m-\u001b[0m\u001b[38;5;183m\u001b[38;5;147m-\u001b[0m\u001b[38;5;183m\u001b[38;5;147m-\u001b[0m\u001b[38;5;183m\u001b[38;5;147m-\u001b[0m\u001b[38;5;183m\u001b[38;5;147m-\u001b[0m\u001b[38;5;183m\u001b[38;5;147m-\u001b[0m\u001b[38;5;183m\u001b[38;5;147m-\u001b[0m\u001b[38;5;183m\u001b[38;5;147m-\u001b[0m\u001b[38;5;183m\u001b[38;5;147m-\u001b[0m\u001b[38;5;183m\u001b[38;5;147m-\u001b[0m\u001b[38;5;183m\u001b[38;5;147m-\u001b[0m\u001b[38;5;183m\u001b[38;5;147m-\u001b[0m\u001b[38;5;183m\u001b[38;5;147m-\u001b[0m\u001b[38;5;183m\u001b[38;5;147m-\u001b[0m\u001b[38;5;183m\u001b[38;5;147m-\u001b[0m\u001b[38;5;183m\u001b[38;5;147m-\u001b[0m\u001b[38;5;183m\u001b[38;5;147m-\u001b[0m\u001b[38;5;183m\u001b[38;5;147m-\u001b[0m\u001b[38;5;183m\u001b[38;5;147m-\u001b[0m\u001b[38;5;183m\u001b[38;5;147m-\u001b[0m\u001b[38;5;183m\u001b[38;5;147m-\u001b[0m\u001b[38;5;183m\u001b[38;5;147m-\u001b[0m\u001b[38;5;183m\u001b[38;5;147m-\u001b[0m\u001b[38;5;183m\u001b[38;5;147m-\u001b[0m\u001b[38;5;183m\u001b[38;5;147m-\u001b[0m\u001b[38;5;183m\u001b[38;5;147m-\u001b[0m\u001b[38;5;183m\u001b[38;5;147m-\u001b[0m\u001b[38;5;183m\u001b[38;5;147m-\u001b[0m\u001b[38;5;183m\u001b[38;5;147m-\u001b[0m\u001b[38;5;183m\u001b[38;5;147m-\u001b[0m\u001b[38;5;183m\u001b[38;5;147m-\u001b[0m\u001b[38;5;183m\u001b[38;5;147m-\u001b[0m\u001b[38;5;183m\u001b[38;5;147m-\u001b[0m\u001b[38;5;183m\u001b[38;5;147m-\u001b[0m\u001b[38;5;183m\u001b[38;5;147m-\u001b[0m\u001b[38;5;183m\u001b[38;5;147m-\u001b[0m\u001b[38;5;183m\u001b[38;5;147m-\u001b[0m\u001b[38;5;183m\u001b[38;5;147m-\u001b[0m\u001b[38;5;183m\u001b[38;5;147m-\u001b[0m\u001b[38;5;183m\u001b[38;5;147m-\u001b[0m\u001b[38;5;183m\u001b[38;5;147m-\u001b[0m\u001b[38;5;183m\u001b[38;5;147m-\u001b[0m\u001b[38;5;183m\u001b[38;5;219m+\u001b[0m\u001b[38;5;183m\u001b[38;5;147m-\u001b[0m\u001b[38;5;183m\u001b[38;5;147m-\u001b[0m\u001b[38;5;183m\u001b[38;5;147m-\u001b[0m\u001b[38;5;183m\u001b[38;5;147m-\u001b[0m\u001b[38;5;183m\u001b[38;5;147m-\u001b[0m\u001b[38;5;183m\u001b[38;5;147m-\u001b[0m\u001b[38;5;183m\u001b[38;5;147m-\u001b[0m\u001b[38;5;183m\u001b[38;5;147m-\u001b[0m\u001b[38;5;183m\u001b[38;5;147m-\u001b[0m\u001b[38;5;183m\u001b[38;5;147m-\u001b[0m\u001b[38;5;183m\u001b[38;5;147m-\u001b[0m\u001b[38;5;183m\u001b[38;5;147m-\u001b[0m\u001b[38;5;183m\u001b[38;5;147m-\u001b[0m\u001b[38;5;183m\u001b[38;5;147m-\u001b[0m\u001b[38;5;183m\u001b[38;5;147m-\u001b[0m\u001b[38;5;183m\u001b[38;5;147m-\u001b[0m\u001b[38;5;183m\u001b[38;5;147m-\u001b[0m\u001b[38;5;183m\u001b[38;5;147m-\u001b[0m\u001b[38;5;183m\u001b[38;5;219m+\u001b[0m\u001b[38;5;183m\u001b[38;5;147m-\u001b[0m\u001b[38;5;183m\u001b[38;5;147m-\u001b[0m\u001b[38;5;183m\u001b[38;5;147m-\u001b[0m\u001b[38;5;183m\u001b[38;5;147m-\u001b[0m\u001b[38;5;183m\u001b[38;5;147m-\u001b[0m\u001b[38;5;183m\u001b[38;5;147m-\u001b[0m\u001b[38;5;183m\u001b[38;5;147m-\u001b[0m\u001b[38;5;183m\u001b[38;5;147m-\u001b[0m\u001b[38;5;183m\u001b[38;5;147m-\u001b[0m\u001b[38;5;183m\u001b[38;5;147m-\u001b[0m\u001b[38;5;183m\u001b[38;5;147m-\u001b[0m\u001b[38;5;183m\u001b[38;5;147m-\u001b[0m\u001b[38;5;183m\u001b[38;5;147m-\u001b[0m\u001b[38;5;183m\u001b[38;5;147m-\u001b[0m\u001b[38;5;183m\u001b[38;5;147m-\u001b[0m\u001b[38;5;183m\u001b[38;5;147m-\u001b[0m\u001b[38;5;183m\u001b[38;5;147m-\u001b[0m\u001b[38;5;183m\u001b[38;5;147m-\u001b[0m\u001b[38;5;183m\u001b[38;5;147m-\u001b[0m\u001b[38;5;183m\u001b[38;5;147m-\u001b[0m\u001b[38;5;183m\u001b[38;5;147m-\u001b[0m\u001b[38;5;183m\u001b[38;5;219m+\u001b[0m\u001b[38;5;183m\u001b[38;5;147m-\u001b[0m\u001b[38;5;183m\u001b[38;5;147m-\u001b[0m\u001b[38;5;183m\u001b[38;5;147m-\u001b[0m\u001b[38;5;183m\u001b[38;5;147m-\u001b[0m\u001b[38;5;183m\u001b[38;5;147m-\u001b[0m\u001b[38;5;183m\u001b[38;5;147m-\u001b[0m\u001b[38;5;183m\u001b[38;5;147m-\u001b[0m\u001b[38;5;183m\u001b[38;5;147m-\u001b[0m\u001b[38;5;183m\u001b[38;5;147m-\u001b[0m\u001b[38;5;183m\u001b[38;5;147m-\u001b[0m\u001b[38;5;183m\u001b[38;5;147m-\u001b[0m\u001b[38;5;183m\u001b[38;5;147m-\u001b[0m\u001b[38;5;183m\u001b[38;5;147m-\u001b[0m\u001b[38;5;183m\u001b[38;5;147m-\u001b[0m\u001b[38;5;183m\u001b[38;5;147m-\u001b[0m\u001b[38;5;183m\u001b[38;5;147m-\u001b[0m\u001b[38;5;183m\u001b[38;5;147m-\u001b[0m\u001b[38;5;183m\u001b[38;5;147m-\u001b[0m\u001b[38;5;183m\u001b[38;5;147m-\u001b[0m\u001b[38;5;183m\u001b[38;5;147m-\u001b[0m\u001b[38;5;183m\u001b[38;5;219m+\u001b[0m\u001b[38;5;183m\u001b[38;5;147m-\u001b[0m\u001b[38;5;183m\u001b[38;5;147m-\u001b[0m\u001b[38;5;183m\u001b[38;5;147m-\u001b[0m\u001b[38;5;183m\u001b[38;5;147m-\u001b[0m\u001b[38;5;183m\u001b[38;5;147m-\u001b[0m\u001b[38;5;183m\u001b[38;5;147m-\u001b[0m\u001b[38;5;183m\u001b[38;5;147m-\u001b[0m\u001b[38;5;183m\u001b[38;5;147m-\u001b[0m\u001b[38;5;183m\u001b[38;5;147m-\u001b[0m\u001b[38;5;183m\u001b[38;5;147m-\u001b[0m\u001b[38;5;183m\u001b[38;5;147m-\u001b[0m\u001b[38;5;183m\u001b[38;5;147m-\u001b[0m\u001b[38;5;183m\u001b[38;5;147m-\u001b[0m\u001b[38;5;183m\u001b[38;5;147m-\u001b[0m\u001b[38;5;183m\u001b[38;5;147m-\u001b[0m\u001b[38;5;183m\u001b[38;5;147m-\u001b[0m\u001b[38;5;183m\u001b[38;5;147m-\u001b[0m\u001b[38;5;183m\u001b[38;5;147m-\u001b[0m\u001b[38;5;183m\u001b[38;5;147m-\u001b[0m\u001b[38;5;183m\u001b[38;5;147m-\u001b[0m\u001b[38;5;183m\u001b[38;5;219m+\u001b[0m\u001b[38;5;183m\u001b[38;5;147m-\u001b[0m\u001b[38;5;183m\u001b[38;5;147m-\u001b[0m\u001b[38;5;183m\u001b[38;5;147m-\u001b[0m\u001b[38;5;183m\u001b[38;5;147m-\u001b[0m\u001b[38;5;183m\u001b[38;5;147m-\u001b[0m\u001b[38;5;183m\u001b[38;5;147m-\u001b[0m\u001b[38;5;183m\u001b[38;5;147m-\u001b[0m\u001b[38;5;183m\u001b[38;5;147m-\u001b[0m\u001b[38;5;183m\u001b[38;5;147m-\u001b[0m\u001b[38;5;183m\u001b[38;5;147m-\u001b[0m\u001b[38;5;183m\u001b[38;5;147m-\u001b[0m\u001b[38;5;183m\u001b[38;5;147m-\u001b[0m\u001b[38;5;183m\u001b[38;5;147m-\u001b[0m\u001b[38;5;183m\u001b[38;5;147m-\u001b[0m\u001b[38;5;183m\u001b[38;5;147m-\u001b[0m\u001b[38;5;183m\u001b[38;5;147m-\u001b[0m\u001b[38;5;183m\u001b[38;5;147m-\u001b[0m\u001b[38;5;183m\u001b[38;5;147m-\u001b[0m\u001b[38;5;183m\u001b[38;5;147m-\u001b[0m\u001b[38;5;183m\u001b[38;5;147m-\u001b[0m\u001b[38;5;183m\u001b[38;5;219m+\u001b[0m\u001b[38;5;183m\n",
      "\u001b[35m|\u001b[0m\u001b[38;5;183m Algo \u001b[35m|\u001b[0m\u001b[38;5;183m                              Vectorizer                             \u001b[35m|\u001b[0m\u001b[38;5;183m  Vectorizer ID   \u001b[35m|\u001b[0m\u001b[38;5;183m       Macro f1      \u001b[35m|\u001b[0m\u001b[38;5;183m      Accuracy      \u001b[35m|\u001b[0m\u001b[38;5;183m     Precision      \u001b[35m|\u001b[0m\u001b[38;5;183m       Rappel       \u001b[35m|\u001b[0m\u001b[38;5;183m\n",
      "\u001b[38;5;219m+\u001b[0m\u001b[38;5;183m\u001b[38;5;147m-\u001b[0m\u001b[38;5;183m\u001b[38;5;147m-\u001b[0m\u001b[38;5;183m\u001b[38;5;147m-\u001b[0m\u001b[38;5;183m\u001b[38;5;147m-\u001b[0m\u001b[38;5;183m\u001b[38;5;147m-\u001b[0m\u001b[38;5;183m\u001b[38;5;147m-\u001b[0m\u001b[38;5;183m\u001b[38;5;219m+\u001b[0m\u001b[38;5;183m\u001b[38;5;147m-\u001b[0m\u001b[38;5;183m\u001b[38;5;147m-\u001b[0m\u001b[38;5;183m\u001b[38;5;147m-\u001b[0m\u001b[38;5;183m\u001b[38;5;147m-\u001b[0m\u001b[38;5;183m\u001b[38;5;147m-\u001b[0m\u001b[38;5;183m\u001b[38;5;147m-\u001b[0m\u001b[38;5;183m\u001b[38;5;147m-\u001b[0m\u001b[38;5;183m\u001b[38;5;147m-\u001b[0m\u001b[38;5;183m\u001b[38;5;147m-\u001b[0m\u001b[38;5;183m\u001b[38;5;147m-\u001b[0m\u001b[38;5;183m\u001b[38;5;147m-\u001b[0m\u001b[38;5;183m\u001b[38;5;147m-\u001b[0m\u001b[38;5;183m\u001b[38;5;147m-\u001b[0m\u001b[38;5;183m\u001b[38;5;147m-\u001b[0m\u001b[38;5;183m\u001b[38;5;147m-\u001b[0m\u001b[38;5;183m\u001b[38;5;147m-\u001b[0m\u001b[38;5;183m\u001b[38;5;147m-\u001b[0m\u001b[38;5;183m\u001b[38;5;147m-\u001b[0m\u001b[38;5;183m\u001b[38;5;147m-\u001b[0m\u001b[38;5;183m\u001b[38;5;147m-\u001b[0m\u001b[38;5;183m\u001b[38;5;147m-\u001b[0m\u001b[38;5;183m\u001b[38;5;147m-\u001b[0m\u001b[38;5;183m\u001b[38;5;147m-\u001b[0m\u001b[38;5;183m\u001b[38;5;147m-\u001b[0m\u001b[38;5;183m\u001b[38;5;147m-\u001b[0m\u001b[38;5;183m\u001b[38;5;147m-\u001b[0m\u001b[38;5;183m\u001b[38;5;147m-\u001b[0m\u001b[38;5;183m\u001b[38;5;147m-\u001b[0m\u001b[38;5;183m\u001b[38;5;147m-\u001b[0m\u001b[38;5;183m\u001b[38;5;147m-\u001b[0m\u001b[38;5;183m\u001b[38;5;147m-\u001b[0m\u001b[38;5;183m\u001b[38;5;147m-\u001b[0m\u001b[38;5;183m\u001b[38;5;147m-\u001b[0m\u001b[38;5;183m\u001b[38;5;147m-\u001b[0m\u001b[38;5;183m\u001b[38;5;147m-\u001b[0m\u001b[38;5;183m\u001b[38;5;147m-\u001b[0m\u001b[38;5;183m\u001b[38;5;147m-\u001b[0m\u001b[38;5;183m\u001b[38;5;147m-\u001b[0m\u001b[38;5;183m\u001b[38;5;147m-\u001b[0m\u001b[38;5;183m\u001b[38;5;147m-\u001b[0m\u001b[38;5;183m\u001b[38;5;147m-\u001b[0m\u001b[38;5;183m\u001b[38;5;147m-\u001b[0m\u001b[38;5;183m\u001b[38;5;147m-\u001b[0m\u001b[38;5;183m\u001b[38;5;147m-\u001b[0m\u001b[38;5;183m\u001b[38;5;147m-\u001b[0m\u001b[38;5;183m\u001b[38;5;147m-\u001b[0m\u001b[38;5;183m\u001b[38;5;147m-\u001b[0m\u001b[38;5;183m\u001b[38;5;147m-\u001b[0m\u001b[38;5;183m\u001b[38;5;147m-\u001b[0m\u001b[38;5;183m\u001b[38;5;147m-\u001b[0m\u001b[38;5;183m\u001b[38;5;147m-\u001b[0m\u001b[38;5;183m\u001b[38;5;147m-\u001b[0m\u001b[38;5;183m\u001b[38;5;147m-\u001b[0m\u001b[38;5;183m\u001b[38;5;147m-\u001b[0m\u001b[38;5;183m\u001b[38;5;147m-\u001b[0m\u001b[38;5;183m\u001b[38;5;147m-\u001b[0m\u001b[38;5;183m\u001b[38;5;147m-\u001b[0m\u001b[38;5;183m\u001b[38;5;147m-\u001b[0m\u001b[38;5;183m\u001b[38;5;147m-\u001b[0m\u001b[38;5;183m\u001b[38;5;147m-\u001b[0m\u001b[38;5;183m\u001b[38;5;147m-\u001b[0m\u001b[38;5;183m\u001b[38;5;147m-\u001b[0m\u001b[38;5;183m\u001b[38;5;147m-\u001b[0m\u001b[38;5;183m\u001b[38;5;147m-\u001b[0m\u001b[38;5;183m\u001b[38;5;147m-\u001b[0m\u001b[38;5;183m\u001b[38;5;147m-\u001b[0m\u001b[38;5;183m\u001b[38;5;147m-\u001b[0m\u001b[38;5;183m\u001b[38;5;147m-\u001b[0m\u001b[38;5;183m\u001b[38;5;147m-\u001b[0m\u001b[38;5;183m\u001b[38;5;219m+\u001b[0m\u001b[38;5;183m\u001b[38;5;147m-\u001b[0m\u001b[38;5;183m\u001b[38;5;147m-\u001b[0m\u001b[38;5;183m\u001b[38;5;147m-\u001b[0m\u001b[38;5;183m\u001b[38;5;147m-\u001b[0m\u001b[38;5;183m\u001b[38;5;147m-\u001b[0m\u001b[38;5;183m\u001b[38;5;147m-\u001b[0m\u001b[38;5;183m\u001b[38;5;147m-\u001b[0m\u001b[38;5;183m\u001b[38;5;147m-\u001b[0m\u001b[38;5;183m\u001b[38;5;147m-\u001b[0m\u001b[38;5;183m\u001b[38;5;147m-\u001b[0m\u001b[38;5;183m\u001b[38;5;147m-\u001b[0m\u001b[38;5;183m\u001b[38;5;147m-\u001b[0m\u001b[38;5;183m\u001b[38;5;147m-\u001b[0m\u001b[38;5;183m\u001b[38;5;147m-\u001b[0m\u001b[38;5;183m\u001b[38;5;147m-\u001b[0m\u001b[38;5;183m\u001b[38;5;147m-\u001b[0m\u001b[38;5;183m\u001b[38;5;147m-\u001b[0m\u001b[38;5;183m\u001b[38;5;147m-\u001b[0m\u001b[38;5;183m\u001b[38;5;219m+\u001b[0m\u001b[38;5;183m\u001b[38;5;147m-\u001b[0m\u001b[38;5;183m\u001b[38;5;147m-\u001b[0m\u001b[38;5;183m\u001b[38;5;147m-\u001b[0m\u001b[38;5;183m\u001b[38;5;147m-\u001b[0m\u001b[38;5;183m\u001b[38;5;147m-\u001b[0m\u001b[38;5;183m\u001b[38;5;147m-\u001b[0m\u001b[38;5;183m\u001b[38;5;147m-\u001b[0m\u001b[38;5;183m\u001b[38;5;147m-\u001b[0m\u001b[38;5;183m\u001b[38;5;147m-\u001b[0m\u001b[38;5;183m\u001b[38;5;147m-\u001b[0m\u001b[38;5;183m\u001b[38;5;147m-\u001b[0m\u001b[38;5;183m\u001b[38;5;147m-\u001b[0m\u001b[38;5;183m\u001b[38;5;147m-\u001b[0m\u001b[38;5;183m\u001b[38;5;147m-\u001b[0m\u001b[38;5;183m\u001b[38;5;147m-\u001b[0m\u001b[38;5;183m\u001b[38;5;147m-\u001b[0m\u001b[38;5;183m\u001b[38;5;147m-\u001b[0m\u001b[38;5;183m\u001b[38;5;147m-\u001b[0m\u001b[38;5;183m\u001b[38;5;147m-\u001b[0m\u001b[38;5;183m\u001b[38;5;147m-\u001b[0m\u001b[38;5;183m\u001b[38;5;147m-\u001b[0m\u001b[38;5;183m\u001b[38;5;219m+\u001b[0m\u001b[38;5;183m\u001b[38;5;147m-\u001b[0m\u001b[38;5;183m\u001b[38;5;147m-\u001b[0m\u001b[38;5;183m\u001b[38;5;147m-\u001b[0m\u001b[38;5;183m\u001b[38;5;147m-\u001b[0m\u001b[38;5;183m\u001b[38;5;147m-\u001b[0m\u001b[38;5;183m\u001b[38;5;147m-\u001b[0m\u001b[38;5;183m\u001b[38;5;147m-\u001b[0m\u001b[38;5;183m\u001b[38;5;147m-\u001b[0m\u001b[38;5;183m\u001b[38;5;147m-\u001b[0m\u001b[38;5;183m\u001b[38;5;147m-\u001b[0m\u001b[38;5;183m\u001b[38;5;147m-\u001b[0m\u001b[38;5;183m\u001b[38;5;147m-\u001b[0m\u001b[38;5;183m\u001b[38;5;147m-\u001b[0m\u001b[38;5;183m\u001b[38;5;147m-\u001b[0m\u001b[38;5;183m\u001b[38;5;147m-\u001b[0m\u001b[38;5;183m\u001b[38;5;147m-\u001b[0m\u001b[38;5;183m\u001b[38;5;147m-\u001b[0m\u001b[38;5;183m\u001b[38;5;147m-\u001b[0m\u001b[38;5;183m\u001b[38;5;147m-\u001b[0m\u001b[38;5;183m\u001b[38;5;147m-\u001b[0m\u001b[38;5;183m\u001b[38;5;219m+\u001b[0m\u001b[38;5;183m\u001b[38;5;147m-\u001b[0m\u001b[38;5;183m\u001b[38;5;147m-\u001b[0m\u001b[38;5;183m\u001b[38;5;147m-\u001b[0m\u001b[38;5;183m\u001b[38;5;147m-\u001b[0m\u001b[38;5;183m\u001b[38;5;147m-\u001b[0m\u001b[38;5;183m\u001b[38;5;147m-\u001b[0m\u001b[38;5;183m\u001b[38;5;147m-\u001b[0m\u001b[38;5;183m\u001b[38;5;147m-\u001b[0m\u001b[38;5;183m\u001b[38;5;147m-\u001b[0m\u001b[38;5;183m\u001b[38;5;147m-\u001b[0m\u001b[38;5;183m\u001b[38;5;147m-\u001b[0m\u001b[38;5;183m\u001b[38;5;147m-\u001b[0m\u001b[38;5;183m\u001b[38;5;147m-\u001b[0m\u001b[38;5;183m\u001b[38;5;147m-\u001b[0m\u001b[38;5;183m\u001b[38;5;147m-\u001b[0m\u001b[38;5;183m\u001b[38;5;147m-\u001b[0m\u001b[38;5;183m\u001b[38;5;147m-\u001b[0m\u001b[38;5;183m\u001b[38;5;147m-\u001b[0m\u001b[38;5;183m\u001b[38;5;147m-\u001b[0m\u001b[38;5;183m\u001b[38;5;147m-\u001b[0m\u001b[38;5;183m\u001b[38;5;219m+\u001b[0m\u001b[38;5;183m\u001b[38;5;147m-\u001b[0m\u001b[38;5;183m\u001b[38;5;147m-\u001b[0m\u001b[38;5;183m\u001b[38;5;147m-\u001b[0m\u001b[38;5;183m\u001b[38;5;147m-\u001b[0m\u001b[38;5;183m\u001b[38;5;147m-\u001b[0m\u001b[38;5;183m\u001b[38;5;147m-\u001b[0m\u001b[38;5;183m\u001b[38;5;147m-\u001b[0m\u001b[38;5;183m\u001b[38;5;147m-\u001b[0m\u001b[38;5;183m\u001b[38;5;147m-\u001b[0m\u001b[38;5;183m\u001b[38;5;147m-\u001b[0m\u001b[38;5;183m\u001b[38;5;147m-\u001b[0m\u001b[38;5;183m\u001b[38;5;147m-\u001b[0m\u001b[38;5;183m\u001b[38;5;147m-\u001b[0m\u001b[38;5;183m\u001b[38;5;147m-\u001b[0m\u001b[38;5;183m\u001b[38;5;147m-\u001b[0m\u001b[38;5;183m\u001b[38;5;147m-\u001b[0m\u001b[38;5;183m\u001b[38;5;147m-\u001b[0m\u001b[38;5;183m\u001b[38;5;147m-\u001b[0m\u001b[38;5;183m\u001b[38;5;147m-\u001b[0m\u001b[38;5;183m\u001b[38;5;147m-\u001b[0m\u001b[38;5;183m\u001b[38;5;219m+\u001b[0m\u001b[38;5;183m\n",
      "\u001b[35m|\u001b[0m\u001b[38;5;183m knn  \u001b[35m|\u001b[0m\u001b[38;5;183m TfidfVectorizer(max_df=0.9, max_features=15000, ngram_range=(1, 2)) \u001b[35m|\u001b[0m\u001b[38;5;183m TfidfVectorizer7 \u001b[35m|\u001b[0m\u001b[38;5;183m 0.26855102136752806 \u001b[35m|\u001b[0m\u001b[38;5;183m 0.3443526170798898 \u001b[35m|\u001b[0m\u001b[38;5;183m 0.2806656531426034 \u001b[35m|\u001b[0m\u001b[38;5;183m 0.2725893896811444 \u001b[35m|\u001b[0m\u001b[38;5;183m\n",
      "\u001b[35m|\u001b[0m\u001b[38;5;183m knn  \u001b[35m|\u001b[0m\u001b[38;5;183m TfidfVectorizer(max_df=0.5, max_features=15000, ngram_range=(1, 2)) \u001b[35m|\u001b[0m\u001b[38;5;183m TfidfVectorizer3 \u001b[35m|\u001b[0m\u001b[38;5;183m  0.2650441027377971 \u001b[35m|\u001b[0m\u001b[38;5;183m 0.3410238751147842 \u001b[35m|\u001b[0m\u001b[38;5;183m 0.2770092429331589 \u001b[35m|\u001b[0m\u001b[38;5;183m 0.2689486431926499 \u001b[35m|\u001b[0m\u001b[38;5;183m\n",
      "\u001b[35m|\u001b[0m\u001b[38;5;183m knn  \u001b[35m|\u001b[0m\u001b[38;5;183m           TfidfVectorizer(max_df=0.5, max_features=15000)           \u001b[35m|\u001b[0m\u001b[38;5;183m TfidfVectorizer2 \u001b[35m|\u001b[0m\u001b[38;5;183m  0.2602170878794704 \u001b[35m|\u001b[0m\u001b[38;5;183m 0.3387281910009183 \u001b[35m|\u001b[0m\u001b[38;5;183m 0.2712936946278178 \u001b[35m|\u001b[0m\u001b[38;5;183m 0.2642886752618525 \u001b[35m|\u001b[0m\u001b[38;5;183m\n",
      "\u001b[38;5;219m+\u001b[0m\u001b[38;5;183m\u001b[38;5;147m-\u001b[0m\u001b[38;5;183m\u001b[38;5;147m-\u001b[0m\u001b[38;5;183m\u001b[38;5;147m-\u001b[0m\u001b[38;5;183m\u001b[38;5;147m-\u001b[0m\u001b[38;5;183m\u001b[38;5;147m-\u001b[0m\u001b[38;5;183m\u001b[38;5;147m-\u001b[0m\u001b[38;5;183m\u001b[38;5;219m+\u001b[0m\u001b[38;5;183m\u001b[38;5;147m-\u001b[0m\u001b[38;5;183m\u001b[38;5;147m-\u001b[0m\u001b[38;5;183m\u001b[38;5;147m-\u001b[0m\u001b[38;5;183m\u001b[38;5;147m-\u001b[0m\u001b[38;5;183m\u001b[38;5;147m-\u001b[0m\u001b[38;5;183m\u001b[38;5;147m-\u001b[0m\u001b[38;5;183m\u001b[38;5;147m-\u001b[0m\u001b[38;5;183m\u001b[38;5;147m-\u001b[0m\u001b[38;5;183m\u001b[38;5;147m-\u001b[0m\u001b[38;5;183m\u001b[38;5;147m-\u001b[0m\u001b[38;5;183m\u001b[38;5;147m-\u001b[0m\u001b[38;5;183m\u001b[38;5;147m-\u001b[0m\u001b[38;5;183m\u001b[38;5;147m-\u001b[0m\u001b[38;5;183m\u001b[38;5;147m-\u001b[0m\u001b[38;5;183m\u001b[38;5;147m-\u001b[0m\u001b[38;5;183m\u001b[38;5;147m-\u001b[0m\u001b[38;5;183m\u001b[38;5;147m-\u001b[0m\u001b[38;5;183m\u001b[38;5;147m-\u001b[0m\u001b[38;5;183m\u001b[38;5;147m-\u001b[0m\u001b[38;5;183m\u001b[38;5;147m-\u001b[0m\u001b[38;5;183m\u001b[38;5;147m-\u001b[0m\u001b[38;5;183m\u001b[38;5;147m-\u001b[0m\u001b[38;5;183m\u001b[38;5;147m-\u001b[0m\u001b[38;5;183m\u001b[38;5;147m-\u001b[0m\u001b[38;5;183m\u001b[38;5;147m-\u001b[0m\u001b[38;5;183m\u001b[38;5;147m-\u001b[0m\u001b[38;5;183m\u001b[38;5;147m-\u001b[0m\u001b[38;5;183m\u001b[38;5;147m-\u001b[0m\u001b[38;5;183m\u001b[38;5;147m-\u001b[0m\u001b[38;5;183m\u001b[38;5;147m-\u001b[0m\u001b[38;5;183m\u001b[38;5;147m-\u001b[0m\u001b[38;5;183m\u001b[38;5;147m-\u001b[0m\u001b[38;5;183m\u001b[38;5;147m-\u001b[0m\u001b[38;5;183m\u001b[38;5;147m-\u001b[0m\u001b[38;5;183m\u001b[38;5;147m-\u001b[0m\u001b[38;5;183m\u001b[38;5;147m-\u001b[0m\u001b[38;5;183m\u001b[38;5;147m-\u001b[0m\u001b[38;5;183m\u001b[38;5;147m-\u001b[0m\u001b[38;5;183m\u001b[38;5;147m-\u001b[0m\u001b[38;5;183m\u001b[38;5;147m-\u001b[0m\u001b[38;5;183m\u001b[38;5;147m-\u001b[0m\u001b[38;5;183m\u001b[38;5;147m-\u001b[0m\u001b[38;5;183m\u001b[38;5;147m-\u001b[0m\u001b[38;5;183m\u001b[38;5;147m-\u001b[0m\u001b[38;5;183m\u001b[38;5;147m-\u001b[0m\u001b[38;5;183m\u001b[38;5;147m-\u001b[0m\u001b[38;5;183m\u001b[38;5;147m-\u001b[0m\u001b[38;5;183m\u001b[38;5;147m-\u001b[0m\u001b[38;5;183m\u001b[38;5;147m-\u001b[0m\u001b[38;5;183m\u001b[38;5;147m-\u001b[0m\u001b[38;5;183m\u001b[38;5;147m-\u001b[0m\u001b[38;5;183m\u001b[38;5;147m-\u001b[0m\u001b[38;5;183m\u001b[38;5;147m-\u001b[0m\u001b[38;5;183m\u001b[38;5;147m-\u001b[0m\u001b[38;5;183m\u001b[38;5;147m-\u001b[0m\u001b[38;5;183m\u001b[38;5;147m-\u001b[0m\u001b[38;5;183m\u001b[38;5;147m-\u001b[0m\u001b[38;5;183m\u001b[38;5;147m-\u001b[0m\u001b[38;5;183m\u001b[38;5;147m-\u001b[0m\u001b[38;5;183m\u001b[38;5;147m-\u001b[0m\u001b[38;5;183m\u001b[38;5;147m-\u001b[0m\u001b[38;5;183m\u001b[38;5;147m-\u001b[0m\u001b[38;5;183m\u001b[38;5;147m-\u001b[0m\u001b[38;5;183m\u001b[38;5;147m-\u001b[0m\u001b[38;5;183m\u001b[38;5;147m-\u001b[0m\u001b[38;5;183m\u001b[38;5;147m-\u001b[0m\u001b[38;5;183m\u001b[38;5;147m-\u001b[0m\u001b[38;5;183m\u001b[38;5;147m-\u001b[0m\u001b[38;5;183m\u001b[38;5;147m-\u001b[0m\u001b[38;5;183m\u001b[38;5;219m+\u001b[0m\u001b[38;5;183m\u001b[38;5;147m-\u001b[0m\u001b[38;5;183m\u001b[38;5;147m-\u001b[0m\u001b[38;5;183m\u001b[38;5;147m-\u001b[0m\u001b[38;5;183m\u001b[38;5;147m-\u001b[0m\u001b[38;5;183m\u001b[38;5;147m-\u001b[0m\u001b[38;5;183m\u001b[38;5;147m-\u001b[0m\u001b[38;5;183m\u001b[38;5;147m-\u001b[0m\u001b[38;5;183m\u001b[38;5;147m-\u001b[0m\u001b[38;5;183m\u001b[38;5;147m-\u001b[0m\u001b[38;5;183m\u001b[38;5;147m-\u001b[0m\u001b[38;5;183m\u001b[38;5;147m-\u001b[0m\u001b[38;5;183m\u001b[38;5;147m-\u001b[0m\u001b[38;5;183m\u001b[38;5;147m-\u001b[0m\u001b[38;5;183m\u001b[38;5;147m-\u001b[0m\u001b[38;5;183m\u001b[38;5;147m-\u001b[0m\u001b[38;5;183m\u001b[38;5;147m-\u001b[0m\u001b[38;5;183m\u001b[38;5;147m-\u001b[0m\u001b[38;5;183m\u001b[38;5;147m-\u001b[0m\u001b[38;5;183m\u001b[38;5;219m+\u001b[0m\u001b[38;5;183m\u001b[38;5;147m-\u001b[0m\u001b[38;5;183m\u001b[38;5;147m-\u001b[0m\u001b[38;5;183m\u001b[38;5;147m-\u001b[0m\u001b[38;5;183m\u001b[38;5;147m-\u001b[0m\u001b[38;5;183m\u001b[38;5;147m-\u001b[0m\u001b[38;5;183m\u001b[38;5;147m-\u001b[0m\u001b[38;5;183m\u001b[38;5;147m-\u001b[0m\u001b[38;5;183m\u001b[38;5;147m-\u001b[0m\u001b[38;5;183m\u001b[38;5;147m-\u001b[0m\u001b[38;5;183m\u001b[38;5;147m-\u001b[0m\u001b[38;5;183m\u001b[38;5;147m-\u001b[0m\u001b[38;5;183m\u001b[38;5;147m-\u001b[0m\u001b[38;5;183m\u001b[38;5;147m-\u001b[0m\u001b[38;5;183m\u001b[38;5;147m-\u001b[0m\u001b[38;5;183m\u001b[38;5;147m-\u001b[0m\u001b[38;5;183m\u001b[38;5;147m-\u001b[0m\u001b[38;5;183m\u001b[38;5;147m-\u001b[0m\u001b[38;5;183m\u001b[38;5;147m-\u001b[0m\u001b[38;5;183m\u001b[38;5;147m-\u001b[0m\u001b[38;5;183m\u001b[38;5;147m-\u001b[0m\u001b[38;5;183m\u001b[38;5;147m-\u001b[0m\u001b[38;5;183m\u001b[38;5;219m+\u001b[0m\u001b[38;5;183m\u001b[38;5;147m-\u001b[0m\u001b[38;5;183m\u001b[38;5;147m-\u001b[0m\u001b[38;5;183m\u001b[38;5;147m-\u001b[0m\u001b[38;5;183m\u001b[38;5;147m-\u001b[0m\u001b[38;5;183m\u001b[38;5;147m-\u001b[0m\u001b[38;5;183m\u001b[38;5;147m-\u001b[0m\u001b[38;5;183m\u001b[38;5;147m-\u001b[0m\u001b[38;5;183m\u001b[38;5;147m-\u001b[0m\u001b[38;5;183m\u001b[38;5;147m-\u001b[0m\u001b[38;5;183m\u001b[38;5;147m-\u001b[0m\u001b[38;5;183m\u001b[38;5;147m-\u001b[0m\u001b[38;5;183m\u001b[38;5;147m-\u001b[0m\u001b[38;5;183m\u001b[38;5;147m-\u001b[0m\u001b[38;5;183m\u001b[38;5;147m-\u001b[0m\u001b[38;5;183m\u001b[38;5;147m-\u001b[0m\u001b[38;5;183m\u001b[38;5;147m-\u001b[0m\u001b[38;5;183m\u001b[38;5;147m-\u001b[0m\u001b[38;5;183m\u001b[38;5;147m-\u001b[0m\u001b[38;5;183m\u001b[38;5;147m-\u001b[0m\u001b[38;5;183m\u001b[38;5;147m-\u001b[0m\u001b[38;5;183m\u001b[38;5;219m+\u001b[0m\u001b[38;5;183m\u001b[38;5;147m-\u001b[0m\u001b[38;5;183m\u001b[38;5;147m-\u001b[0m\u001b[38;5;183m\u001b[38;5;147m-\u001b[0m\u001b[38;5;183m\u001b[38;5;147m-\u001b[0m\u001b[38;5;183m\u001b[38;5;147m-\u001b[0m\u001b[38;5;183m\u001b[38;5;147m-\u001b[0m\u001b[38;5;183m\u001b[38;5;147m-\u001b[0m\u001b[38;5;183m\u001b[38;5;147m-\u001b[0m\u001b[38;5;183m\u001b[38;5;147m-\u001b[0m\u001b[38;5;183m\u001b[38;5;147m-\u001b[0m\u001b[38;5;183m\u001b[38;5;147m-\u001b[0m\u001b[38;5;183m\u001b[38;5;147m-\u001b[0m\u001b[38;5;183m\u001b[38;5;147m-\u001b[0m\u001b[38;5;183m\u001b[38;5;147m-\u001b[0m\u001b[38;5;183m\u001b[38;5;147m-\u001b[0m\u001b[38;5;183m\u001b[38;5;147m-\u001b[0m\u001b[38;5;183m\u001b[38;5;147m-\u001b[0m\u001b[38;5;183m\u001b[38;5;147m-\u001b[0m\u001b[38;5;183m\u001b[38;5;147m-\u001b[0m\u001b[38;5;183m\u001b[38;5;147m-\u001b[0m\u001b[38;5;183m\u001b[38;5;219m+\u001b[0m\u001b[38;5;183m\u001b[38;5;147m-\u001b[0m\u001b[38;5;183m\u001b[38;5;147m-\u001b[0m\u001b[38;5;183m\u001b[38;5;147m-\u001b[0m\u001b[38;5;183m\u001b[38;5;147m-\u001b[0m\u001b[38;5;183m\u001b[38;5;147m-\u001b[0m\u001b[38;5;183m\u001b[38;5;147m-\u001b[0m\u001b[38;5;183m\u001b[38;5;147m-\u001b[0m\u001b[38;5;183m\u001b[38;5;147m-\u001b[0m\u001b[38;5;183m\u001b[38;5;147m-\u001b[0m\u001b[38;5;183m\u001b[38;5;147m-\u001b[0m\u001b[38;5;183m\u001b[38;5;147m-\u001b[0m\u001b[38;5;183m\u001b[38;5;147m-\u001b[0m\u001b[38;5;183m\u001b[38;5;147m-\u001b[0m\u001b[38;5;183m\u001b[38;5;147m-\u001b[0m\u001b[38;5;183m\u001b[38;5;147m-\u001b[0m\u001b[38;5;183m\u001b[38;5;147m-\u001b[0m\u001b[38;5;183m\u001b[38;5;147m-\u001b[0m\u001b[38;5;183m\u001b[38;5;147m-\u001b[0m\u001b[38;5;183m\u001b[38;5;147m-\u001b[0m\u001b[38;5;183m\u001b[38;5;147m-\u001b[0m\u001b[38;5;183m\u001b[38;5;219m+\u001b[0m\u001b[38;5;183m\u001b[0m\n",
      "\u001b[38;5;219m+\u001b[0m\u001b[38;5;183m\u001b[38;5;147m-\u001b[0m\u001b[38;5;183m\u001b[38;5;147m-\u001b[0m\u001b[38;5;183m\u001b[38;5;147m-\u001b[0m\u001b[38;5;183m\u001b[38;5;147m-\u001b[0m\u001b[38;5;183m\u001b[38;5;147m-\u001b[0m\u001b[38;5;183m\u001b[38;5;147m-\u001b[0m\u001b[38;5;183m\u001b[38;5;219m+\u001b[0m\u001b[38;5;183m\u001b[38;5;147m-\u001b[0m\u001b[38;5;183m\u001b[38;5;147m-\u001b[0m\u001b[38;5;183m\u001b[38;5;147m-\u001b[0m\u001b[38;5;183m\u001b[38;5;147m-\u001b[0m\u001b[38;5;183m\u001b[38;5;147m-\u001b[0m\u001b[38;5;183m\u001b[38;5;147m-\u001b[0m\u001b[38;5;183m\u001b[38;5;147m-\u001b[0m\u001b[38;5;183m\u001b[38;5;147m-\u001b[0m\u001b[38;5;183m\u001b[38;5;147m-\u001b[0m\u001b[38;5;183m\u001b[38;5;147m-\u001b[0m\u001b[38;5;183m\u001b[38;5;147m-\u001b[0m\u001b[38;5;183m\u001b[38;5;147m-\u001b[0m\u001b[38;5;183m\u001b[38;5;147m-\u001b[0m\u001b[38;5;183m\u001b[38;5;147m-\u001b[0m\u001b[38;5;183m\u001b[38;5;147m-\u001b[0m\u001b[38;5;183m\u001b[38;5;147m-\u001b[0m\u001b[38;5;183m\u001b[38;5;147m-\u001b[0m\u001b[38;5;183m\u001b[38;5;147m-\u001b[0m\u001b[38;5;183m\u001b[38;5;147m-\u001b[0m\u001b[38;5;183m\u001b[38;5;147m-\u001b[0m\u001b[38;5;183m\u001b[38;5;147m-\u001b[0m\u001b[38;5;183m\u001b[38;5;147m-\u001b[0m\u001b[38;5;183m\u001b[38;5;147m-\u001b[0m\u001b[38;5;183m\u001b[38;5;147m-\u001b[0m\u001b[38;5;183m\u001b[38;5;147m-\u001b[0m\u001b[38;5;183m\u001b[38;5;147m-\u001b[0m\u001b[38;5;183m\u001b[38;5;147m-\u001b[0m\u001b[38;5;183m\u001b[38;5;147m-\u001b[0m\u001b[38;5;183m\u001b[38;5;147m-\u001b[0m\u001b[38;5;183m\u001b[38;5;147m-\u001b[0m\u001b[38;5;183m\u001b[38;5;147m-\u001b[0m\u001b[38;5;183m\u001b[38;5;147m-\u001b[0m\u001b[38;5;183m\u001b[38;5;147m-\u001b[0m\u001b[38;5;183m\u001b[38;5;147m-\u001b[0m\u001b[38;5;183m\u001b[38;5;147m-\u001b[0m\u001b[38;5;183m\u001b[38;5;147m-\u001b[0m\u001b[38;5;183m\u001b[38;5;147m-\u001b[0m\u001b[38;5;183m\u001b[38;5;147m-\u001b[0m\u001b[38;5;183m\u001b[38;5;147m-\u001b[0m\u001b[38;5;183m\u001b[38;5;147m-\u001b[0m\u001b[38;5;183m\u001b[38;5;147m-\u001b[0m\u001b[38;5;183m\u001b[38;5;147m-\u001b[0m\u001b[38;5;183m\u001b[38;5;147m-\u001b[0m\u001b[38;5;183m\u001b[38;5;147m-\u001b[0m\u001b[38;5;183m\u001b[38;5;147m-\u001b[0m\u001b[38;5;183m\u001b[38;5;147m-\u001b[0m\u001b[38;5;183m\u001b[38;5;147m-\u001b[0m\u001b[38;5;183m\u001b[38;5;147m-\u001b[0m\u001b[38;5;183m\u001b[38;5;147m-\u001b[0m\u001b[38;5;183m\u001b[38;5;147m-\u001b[0m\u001b[38;5;183m\u001b[38;5;147m-\u001b[0m\u001b[38;5;183m\u001b[38;5;147m-\u001b[0m\u001b[38;5;183m\u001b[38;5;147m-\u001b[0m\u001b[38;5;183m\u001b[38;5;147m-\u001b[0m\u001b[38;5;183m\u001b[38;5;147m-\u001b[0m\u001b[38;5;183m\u001b[38;5;147m-\u001b[0m\u001b[38;5;183m\u001b[38;5;147m-\u001b[0m\u001b[38;5;183m\u001b[38;5;147m-\u001b[0m\u001b[38;5;183m\u001b[38;5;147m-\u001b[0m\u001b[38;5;183m\u001b[38;5;147m-\u001b[0m\u001b[38;5;183m\u001b[38;5;147m-\u001b[0m\u001b[38;5;183m\u001b[38;5;147m-\u001b[0m\u001b[38;5;183m\u001b[38;5;147m-\u001b[0m\u001b[38;5;183m\u001b[38;5;147m-\u001b[0m\u001b[38;5;183m\u001b[38;5;147m-\u001b[0m\u001b[38;5;183m\u001b[38;5;147m-\u001b[0m\u001b[38;5;183m\u001b[38;5;147m-\u001b[0m\u001b[38;5;183m\u001b[38;5;147m-\u001b[0m\u001b[38;5;183m\u001b[38;5;147m-\u001b[0m\u001b[38;5;183m\u001b[38;5;219m+\u001b[0m\u001b[38;5;183m\u001b[38;5;147m-\u001b[0m\u001b[38;5;183m\u001b[38;5;147m-\u001b[0m\u001b[38;5;183m\u001b[38;5;147m-\u001b[0m\u001b[38;5;183m\u001b[38;5;147m-\u001b[0m\u001b[38;5;183m\u001b[38;5;147m-\u001b[0m\u001b[38;5;183m\u001b[38;5;147m-\u001b[0m\u001b[38;5;183m\u001b[38;5;147m-\u001b[0m\u001b[38;5;183m\u001b[38;5;147m-\u001b[0m\u001b[38;5;183m\u001b[38;5;147m-\u001b[0m\u001b[38;5;183m\u001b[38;5;147m-\u001b[0m\u001b[38;5;183m\u001b[38;5;147m-\u001b[0m\u001b[38;5;183m\u001b[38;5;147m-\u001b[0m\u001b[38;5;183m\u001b[38;5;147m-\u001b[0m\u001b[38;5;183m\u001b[38;5;147m-\u001b[0m\u001b[38;5;183m\u001b[38;5;147m-\u001b[0m\u001b[38;5;183m\u001b[38;5;147m-\u001b[0m\u001b[38;5;183m\u001b[38;5;147m-\u001b[0m\u001b[38;5;183m\u001b[38;5;147m-\u001b[0m\u001b[38;5;183m\u001b[38;5;219m+\u001b[0m\u001b[38;5;183m\u001b[38;5;147m-\u001b[0m\u001b[38;5;183m\u001b[38;5;147m-\u001b[0m\u001b[38;5;183m\u001b[38;5;147m-\u001b[0m\u001b[38;5;183m\u001b[38;5;147m-\u001b[0m\u001b[38;5;183m\u001b[38;5;147m-\u001b[0m\u001b[38;5;183m\u001b[38;5;147m-\u001b[0m\u001b[38;5;183m\u001b[38;5;147m-\u001b[0m\u001b[38;5;183m\u001b[38;5;147m-\u001b[0m\u001b[38;5;183m\u001b[38;5;147m-\u001b[0m\u001b[38;5;183m\u001b[38;5;147m-\u001b[0m\u001b[38;5;183m\u001b[38;5;147m-\u001b[0m\u001b[38;5;183m\u001b[38;5;147m-\u001b[0m\u001b[38;5;183m\u001b[38;5;147m-\u001b[0m\u001b[38;5;183m\u001b[38;5;147m-\u001b[0m\u001b[38;5;183m\u001b[38;5;147m-\u001b[0m\u001b[38;5;183m\u001b[38;5;147m-\u001b[0m\u001b[38;5;183m\u001b[38;5;147m-\u001b[0m\u001b[38;5;183m\u001b[38;5;147m-\u001b[0m\u001b[38;5;183m\u001b[38;5;147m-\u001b[0m\u001b[38;5;183m\u001b[38;5;147m-\u001b[0m\u001b[38;5;183m\u001b[38;5;147m-\u001b[0m\u001b[38;5;183m\u001b[38;5;219m+\u001b[0m\u001b[38;5;183m\u001b[38;5;147m-\u001b[0m\u001b[38;5;183m\u001b[38;5;147m-\u001b[0m\u001b[38;5;183m\u001b[38;5;147m-\u001b[0m\u001b[38;5;183m\u001b[38;5;147m-\u001b[0m\u001b[38;5;183m\u001b[38;5;147m-\u001b[0m\u001b[38;5;183m\u001b[38;5;147m-\u001b[0m\u001b[38;5;183m\u001b[38;5;147m-\u001b[0m\u001b[38;5;183m\u001b[38;5;147m-\u001b[0m\u001b[38;5;183m\u001b[38;5;147m-\u001b[0m\u001b[38;5;183m\u001b[38;5;147m-\u001b[0m\u001b[38;5;183m\u001b[38;5;147m-\u001b[0m\u001b[38;5;183m\u001b[38;5;147m-\u001b[0m\u001b[38;5;183m\u001b[38;5;147m-\u001b[0m\u001b[38;5;183m\u001b[38;5;147m-\u001b[0m\u001b[38;5;183m\u001b[38;5;147m-\u001b[0m\u001b[38;5;183m\u001b[38;5;147m-\u001b[0m\u001b[38;5;183m\u001b[38;5;147m-\u001b[0m\u001b[38;5;183m\u001b[38;5;147m-\u001b[0m\u001b[38;5;183m\u001b[38;5;147m-\u001b[0m\u001b[38;5;183m\u001b[38;5;147m-\u001b[0m\u001b[38;5;183m\u001b[38;5;147m-\u001b[0m\u001b[38;5;183m\u001b[38;5;219m+\u001b[0m\u001b[38;5;183m\u001b[38;5;147m-\u001b[0m\u001b[38;5;183m\u001b[38;5;147m-\u001b[0m\u001b[38;5;183m\u001b[38;5;147m-\u001b[0m\u001b[38;5;183m\u001b[38;5;147m-\u001b[0m\u001b[38;5;183m\u001b[38;5;147m-\u001b[0m\u001b[38;5;183m\u001b[38;5;147m-\u001b[0m\u001b[38;5;183m\u001b[38;5;147m-\u001b[0m\u001b[38;5;183m\u001b[38;5;147m-\u001b[0m\u001b[38;5;183m\u001b[38;5;147m-\u001b[0m\u001b[38;5;183m\u001b[38;5;147m-\u001b[0m\u001b[38;5;183m\u001b[38;5;147m-\u001b[0m\u001b[38;5;183m\u001b[38;5;147m-\u001b[0m\u001b[38;5;183m\u001b[38;5;147m-\u001b[0m\u001b[38;5;183m\u001b[38;5;147m-\u001b[0m\u001b[38;5;183m\u001b[38;5;147m-\u001b[0m\u001b[38;5;183m\u001b[38;5;147m-\u001b[0m\u001b[38;5;183m\u001b[38;5;147m-\u001b[0m\u001b[38;5;183m\u001b[38;5;147m-\u001b[0m\u001b[38;5;183m\u001b[38;5;147m-\u001b[0m\u001b[38;5;183m\u001b[38;5;147m-\u001b[0m\u001b[38;5;183m\u001b[38;5;147m-\u001b[0m\u001b[38;5;183m\u001b[38;5;219m+\u001b[0m\u001b[38;5;183m\u001b[38;5;147m-\u001b[0m\u001b[38;5;183m\u001b[38;5;147m-\u001b[0m\u001b[38;5;183m\u001b[38;5;147m-\u001b[0m\u001b[38;5;183m\u001b[38;5;147m-\u001b[0m\u001b[38;5;183m\u001b[38;5;147m-\u001b[0m\u001b[38;5;183m\u001b[38;5;147m-\u001b[0m\u001b[38;5;183m\u001b[38;5;147m-\u001b[0m\u001b[38;5;183m\u001b[38;5;147m-\u001b[0m\u001b[38;5;183m\u001b[38;5;147m-\u001b[0m\u001b[38;5;183m\u001b[38;5;147m-\u001b[0m\u001b[38;5;183m\u001b[38;5;147m-\u001b[0m\u001b[38;5;183m\u001b[38;5;147m-\u001b[0m\u001b[38;5;183m\u001b[38;5;147m-\u001b[0m\u001b[38;5;183m\u001b[38;5;147m-\u001b[0m\u001b[38;5;183m\u001b[38;5;147m-\u001b[0m\u001b[38;5;183m\u001b[38;5;147m-\u001b[0m\u001b[38;5;183m\u001b[38;5;147m-\u001b[0m\u001b[38;5;183m\u001b[38;5;147m-\u001b[0m\u001b[38;5;183m\u001b[38;5;147m-\u001b[0m\u001b[38;5;183m\u001b[38;5;147m-\u001b[0m\u001b[38;5;183m\u001b[38;5;147m-\u001b[0m\u001b[38;5;183m\u001b[38;5;219m+\u001b[0m\u001b[38;5;183m\n",
      "\u001b[35m|\u001b[0m\u001b[38;5;183m Algo \u001b[35m|\u001b[0m\u001b[38;5;183m                              Vectorizer                             \u001b[35m|\u001b[0m\u001b[38;5;183m  Vectorizer ID   \u001b[35m|\u001b[0m\u001b[38;5;183m       Macro f1      \u001b[35m|\u001b[0m\u001b[38;5;183m       Accuracy      \u001b[35m|\u001b[0m\u001b[38;5;183m      Precision      \u001b[35m|\u001b[0m\u001b[38;5;183m        Rappel       \u001b[35m|\u001b[0m\u001b[38;5;183m\n",
      "\u001b[38;5;219m+\u001b[0m\u001b[38;5;183m\u001b[38;5;147m-\u001b[0m\u001b[38;5;183m\u001b[38;5;147m-\u001b[0m\u001b[38;5;183m\u001b[38;5;147m-\u001b[0m\u001b[38;5;183m\u001b[38;5;147m-\u001b[0m\u001b[38;5;183m\u001b[38;5;147m-\u001b[0m\u001b[38;5;183m\u001b[38;5;147m-\u001b[0m\u001b[38;5;183m\u001b[38;5;219m+\u001b[0m\u001b[38;5;183m\u001b[38;5;147m-\u001b[0m\u001b[38;5;183m\u001b[38;5;147m-\u001b[0m\u001b[38;5;183m\u001b[38;5;147m-\u001b[0m\u001b[38;5;183m\u001b[38;5;147m-\u001b[0m\u001b[38;5;183m\u001b[38;5;147m-\u001b[0m\u001b[38;5;183m\u001b[38;5;147m-\u001b[0m\u001b[38;5;183m\u001b[38;5;147m-\u001b[0m\u001b[38;5;183m\u001b[38;5;147m-\u001b[0m\u001b[38;5;183m\u001b[38;5;147m-\u001b[0m\u001b[38;5;183m\u001b[38;5;147m-\u001b[0m\u001b[38;5;183m\u001b[38;5;147m-\u001b[0m\u001b[38;5;183m\u001b[38;5;147m-\u001b[0m\u001b[38;5;183m\u001b[38;5;147m-\u001b[0m\u001b[38;5;183m\u001b[38;5;147m-\u001b[0m\u001b[38;5;183m\u001b[38;5;147m-\u001b[0m\u001b[38;5;183m\u001b[38;5;147m-\u001b[0m\u001b[38;5;183m\u001b[38;5;147m-\u001b[0m\u001b[38;5;183m\u001b[38;5;147m-\u001b[0m\u001b[38;5;183m\u001b[38;5;147m-\u001b[0m\u001b[38;5;183m\u001b[38;5;147m-\u001b[0m\u001b[38;5;183m\u001b[38;5;147m-\u001b[0m\u001b[38;5;183m\u001b[38;5;147m-\u001b[0m\u001b[38;5;183m\u001b[38;5;147m-\u001b[0m\u001b[38;5;183m\u001b[38;5;147m-\u001b[0m\u001b[38;5;183m\u001b[38;5;147m-\u001b[0m\u001b[38;5;183m\u001b[38;5;147m-\u001b[0m\u001b[38;5;183m\u001b[38;5;147m-\u001b[0m\u001b[38;5;183m\u001b[38;5;147m-\u001b[0m\u001b[38;5;183m\u001b[38;5;147m-\u001b[0m\u001b[38;5;183m\u001b[38;5;147m-\u001b[0m\u001b[38;5;183m\u001b[38;5;147m-\u001b[0m\u001b[38;5;183m\u001b[38;5;147m-\u001b[0m\u001b[38;5;183m\u001b[38;5;147m-\u001b[0m\u001b[38;5;183m\u001b[38;5;147m-\u001b[0m\u001b[38;5;183m\u001b[38;5;147m-\u001b[0m\u001b[38;5;183m\u001b[38;5;147m-\u001b[0m\u001b[38;5;183m\u001b[38;5;147m-\u001b[0m\u001b[38;5;183m\u001b[38;5;147m-\u001b[0m\u001b[38;5;183m\u001b[38;5;147m-\u001b[0m\u001b[38;5;183m\u001b[38;5;147m-\u001b[0m\u001b[38;5;183m\u001b[38;5;147m-\u001b[0m\u001b[38;5;183m\u001b[38;5;147m-\u001b[0m\u001b[38;5;183m\u001b[38;5;147m-\u001b[0m\u001b[38;5;183m\u001b[38;5;147m-\u001b[0m\u001b[38;5;183m\u001b[38;5;147m-\u001b[0m\u001b[38;5;183m\u001b[38;5;147m-\u001b[0m\u001b[38;5;183m\u001b[38;5;147m-\u001b[0m\u001b[38;5;183m\u001b[38;5;147m-\u001b[0m\u001b[38;5;183m\u001b[38;5;147m-\u001b[0m\u001b[38;5;183m\u001b[38;5;147m-\u001b[0m\u001b[38;5;183m\u001b[38;5;147m-\u001b[0m\u001b[38;5;183m\u001b[38;5;147m-\u001b[0m\u001b[38;5;183m\u001b[38;5;147m-\u001b[0m\u001b[38;5;183m\u001b[38;5;147m-\u001b[0m\u001b[38;5;183m\u001b[38;5;147m-\u001b[0m\u001b[38;5;183m\u001b[38;5;147m-\u001b[0m\u001b[38;5;183m\u001b[38;5;147m-\u001b[0m\u001b[38;5;183m\u001b[38;5;147m-\u001b[0m\u001b[38;5;183m\u001b[38;5;147m-\u001b[0m\u001b[38;5;183m\u001b[38;5;147m-\u001b[0m\u001b[38;5;183m\u001b[38;5;147m-\u001b[0m\u001b[38;5;183m\u001b[38;5;147m-\u001b[0m\u001b[38;5;183m\u001b[38;5;147m-\u001b[0m\u001b[38;5;183m\u001b[38;5;147m-\u001b[0m\u001b[38;5;183m\u001b[38;5;147m-\u001b[0m\u001b[38;5;183m\u001b[38;5;147m-\u001b[0m\u001b[38;5;183m\u001b[38;5;147m-\u001b[0m\u001b[38;5;183m\u001b[38;5;147m-\u001b[0m\u001b[38;5;183m\u001b[38;5;147m-\u001b[0m\u001b[38;5;183m\u001b[38;5;219m+\u001b[0m\u001b[38;5;183m\u001b[38;5;147m-\u001b[0m\u001b[38;5;183m\u001b[38;5;147m-\u001b[0m\u001b[38;5;183m\u001b[38;5;147m-\u001b[0m\u001b[38;5;183m\u001b[38;5;147m-\u001b[0m\u001b[38;5;183m\u001b[38;5;147m-\u001b[0m\u001b[38;5;183m\u001b[38;5;147m-\u001b[0m\u001b[38;5;183m\u001b[38;5;147m-\u001b[0m\u001b[38;5;183m\u001b[38;5;147m-\u001b[0m\u001b[38;5;183m\u001b[38;5;147m-\u001b[0m\u001b[38;5;183m\u001b[38;5;147m-\u001b[0m\u001b[38;5;183m\u001b[38;5;147m-\u001b[0m\u001b[38;5;183m\u001b[38;5;147m-\u001b[0m\u001b[38;5;183m\u001b[38;5;147m-\u001b[0m\u001b[38;5;183m\u001b[38;5;147m-\u001b[0m\u001b[38;5;183m\u001b[38;5;147m-\u001b[0m\u001b[38;5;183m\u001b[38;5;147m-\u001b[0m\u001b[38;5;183m\u001b[38;5;147m-\u001b[0m\u001b[38;5;183m\u001b[38;5;147m-\u001b[0m\u001b[38;5;183m\u001b[38;5;219m+\u001b[0m\u001b[38;5;183m\u001b[38;5;147m-\u001b[0m\u001b[38;5;183m\u001b[38;5;147m-\u001b[0m\u001b[38;5;183m\u001b[38;5;147m-\u001b[0m\u001b[38;5;183m\u001b[38;5;147m-\u001b[0m\u001b[38;5;183m\u001b[38;5;147m-\u001b[0m\u001b[38;5;183m\u001b[38;5;147m-\u001b[0m\u001b[38;5;183m\u001b[38;5;147m-\u001b[0m\u001b[38;5;183m\u001b[38;5;147m-\u001b[0m\u001b[38;5;183m\u001b[38;5;147m-\u001b[0m\u001b[38;5;183m\u001b[38;5;147m-\u001b[0m\u001b[38;5;183m\u001b[38;5;147m-\u001b[0m\u001b[38;5;183m\u001b[38;5;147m-\u001b[0m\u001b[38;5;183m\u001b[38;5;147m-\u001b[0m\u001b[38;5;183m\u001b[38;5;147m-\u001b[0m\u001b[38;5;183m\u001b[38;5;147m-\u001b[0m\u001b[38;5;183m\u001b[38;5;147m-\u001b[0m\u001b[38;5;183m\u001b[38;5;147m-\u001b[0m\u001b[38;5;183m\u001b[38;5;147m-\u001b[0m\u001b[38;5;183m\u001b[38;5;147m-\u001b[0m\u001b[38;5;183m\u001b[38;5;147m-\u001b[0m\u001b[38;5;183m\u001b[38;5;147m-\u001b[0m\u001b[38;5;183m\u001b[38;5;219m+\u001b[0m\u001b[38;5;183m\u001b[38;5;147m-\u001b[0m\u001b[38;5;183m\u001b[38;5;147m-\u001b[0m\u001b[38;5;183m\u001b[38;5;147m-\u001b[0m\u001b[38;5;183m\u001b[38;5;147m-\u001b[0m\u001b[38;5;183m\u001b[38;5;147m-\u001b[0m\u001b[38;5;183m\u001b[38;5;147m-\u001b[0m\u001b[38;5;183m\u001b[38;5;147m-\u001b[0m\u001b[38;5;183m\u001b[38;5;147m-\u001b[0m\u001b[38;5;183m\u001b[38;5;147m-\u001b[0m\u001b[38;5;183m\u001b[38;5;147m-\u001b[0m\u001b[38;5;183m\u001b[38;5;147m-\u001b[0m\u001b[38;5;183m\u001b[38;5;147m-\u001b[0m\u001b[38;5;183m\u001b[38;5;147m-\u001b[0m\u001b[38;5;183m\u001b[38;5;147m-\u001b[0m\u001b[38;5;183m\u001b[38;5;147m-\u001b[0m\u001b[38;5;183m\u001b[38;5;147m-\u001b[0m\u001b[38;5;183m\u001b[38;5;147m-\u001b[0m\u001b[38;5;183m\u001b[38;5;147m-\u001b[0m\u001b[38;5;183m\u001b[38;5;147m-\u001b[0m\u001b[38;5;183m\u001b[38;5;147m-\u001b[0m\u001b[38;5;183m\u001b[38;5;147m-\u001b[0m\u001b[38;5;183m\u001b[38;5;219m+\u001b[0m\u001b[38;5;183m\u001b[38;5;147m-\u001b[0m\u001b[38;5;183m\u001b[38;5;147m-\u001b[0m\u001b[38;5;183m\u001b[38;5;147m-\u001b[0m\u001b[38;5;183m\u001b[38;5;147m-\u001b[0m\u001b[38;5;183m\u001b[38;5;147m-\u001b[0m\u001b[38;5;183m\u001b[38;5;147m-\u001b[0m\u001b[38;5;183m\u001b[38;5;147m-\u001b[0m\u001b[38;5;183m\u001b[38;5;147m-\u001b[0m\u001b[38;5;183m\u001b[38;5;147m-\u001b[0m\u001b[38;5;183m\u001b[38;5;147m-\u001b[0m\u001b[38;5;183m\u001b[38;5;147m-\u001b[0m\u001b[38;5;183m\u001b[38;5;147m-\u001b[0m\u001b[38;5;183m\u001b[38;5;147m-\u001b[0m\u001b[38;5;183m\u001b[38;5;147m-\u001b[0m\u001b[38;5;183m\u001b[38;5;147m-\u001b[0m\u001b[38;5;183m\u001b[38;5;147m-\u001b[0m\u001b[38;5;183m\u001b[38;5;147m-\u001b[0m\u001b[38;5;183m\u001b[38;5;147m-\u001b[0m\u001b[38;5;183m\u001b[38;5;147m-\u001b[0m\u001b[38;5;183m\u001b[38;5;147m-\u001b[0m\u001b[38;5;183m\u001b[38;5;147m-\u001b[0m\u001b[38;5;183m\u001b[38;5;219m+\u001b[0m\u001b[38;5;183m\u001b[38;5;147m-\u001b[0m\u001b[38;5;183m\u001b[38;5;147m-\u001b[0m\u001b[38;5;183m\u001b[38;5;147m-\u001b[0m\u001b[38;5;183m\u001b[38;5;147m-\u001b[0m\u001b[38;5;183m\u001b[38;5;147m-\u001b[0m\u001b[38;5;183m\u001b[38;5;147m-\u001b[0m\u001b[38;5;183m\u001b[38;5;147m-\u001b[0m\u001b[38;5;183m\u001b[38;5;147m-\u001b[0m\u001b[38;5;183m\u001b[38;5;147m-\u001b[0m\u001b[38;5;183m\u001b[38;5;147m-\u001b[0m\u001b[38;5;183m\u001b[38;5;147m-\u001b[0m\u001b[38;5;183m\u001b[38;5;147m-\u001b[0m\u001b[38;5;183m\u001b[38;5;147m-\u001b[0m\u001b[38;5;183m\u001b[38;5;147m-\u001b[0m\u001b[38;5;183m\u001b[38;5;147m-\u001b[0m\u001b[38;5;183m\u001b[38;5;147m-\u001b[0m\u001b[38;5;183m\u001b[38;5;147m-\u001b[0m\u001b[38;5;183m\u001b[38;5;147m-\u001b[0m\u001b[38;5;183m\u001b[38;5;147m-\u001b[0m\u001b[38;5;183m\u001b[38;5;147m-\u001b[0m\u001b[38;5;183m\u001b[38;5;147m-\u001b[0m\u001b[38;5;183m\u001b[38;5;219m+\u001b[0m\u001b[38;5;183m\n",
      "\u001b[35m|\u001b[0m\u001b[38;5;183m cnb  \u001b[35m|\u001b[0m\u001b[38;5;183m TfidfVectorizer(max_df=0.5, max_features=15000, ngram_range=(1, 2)) \u001b[35m|\u001b[0m\u001b[38;5;183m TfidfVectorizer3 \u001b[35m|\u001b[0m\u001b[38;5;183m 0.31995797676499327 \u001b[35m|\u001b[0m\u001b[38;5;183m 0.38337924701561066 \u001b[35m|\u001b[0m\u001b[38;5;183m  0.3354203412618027 \u001b[35m|\u001b[0m\u001b[38;5;183m  0.3366650532214746 \u001b[35m|\u001b[0m\u001b[38;5;183m\n",
      "\u001b[35m|\u001b[0m\u001b[38;5;183m cnb  \u001b[35m|\u001b[0m\u001b[38;5;183m TfidfVectorizer(max_df=0.9, max_features=15000, ngram_range=(1, 2)) \u001b[35m|\u001b[0m\u001b[38;5;183m TfidfVectorizer7 \u001b[35m|\u001b[0m\u001b[38;5;183m  0.3197235455771305 \u001b[35m|\u001b[0m\u001b[38;5;183m  0.3838383838383838 \u001b[35m|\u001b[0m\u001b[38;5;183m 0.33629002124138896 \u001b[35m|\u001b[0m\u001b[38;5;183m 0.33671068460920656 \u001b[35m|\u001b[0m\u001b[38;5;183m\n",
      "\u001b[35m|\u001b[0m\u001b[38;5;183m cnb  \u001b[35m|\u001b[0m\u001b[38;5;183m           TfidfVectorizer(max_df=0.9, max_features=15000)           \u001b[35m|\u001b[0m\u001b[38;5;183m TfidfVectorizer6 \u001b[35m|\u001b[0m\u001b[38;5;183m 0.30528542038964124 \u001b[35m|\u001b[0m\u001b[38;5;183m  0.3894628099173554 \u001b[35m|\u001b[0m\u001b[38;5;183m  0.3308297408543171 \u001b[35m|\u001b[0m\u001b[38;5;183m  0.3185301602277072 \u001b[35m|\u001b[0m\u001b[38;5;183m\n",
      "\u001b[38;5;219m+\u001b[0m\u001b[38;5;183m\u001b[38;5;147m-\u001b[0m\u001b[38;5;183m\u001b[38;5;147m-\u001b[0m\u001b[38;5;183m\u001b[38;5;147m-\u001b[0m\u001b[38;5;183m\u001b[38;5;147m-\u001b[0m\u001b[38;5;183m\u001b[38;5;147m-\u001b[0m\u001b[38;5;183m\u001b[38;5;147m-\u001b[0m\u001b[38;5;183m\u001b[38;5;219m+\u001b[0m\u001b[38;5;183m\u001b[38;5;147m-\u001b[0m\u001b[38;5;183m\u001b[38;5;147m-\u001b[0m\u001b[38;5;183m\u001b[38;5;147m-\u001b[0m\u001b[38;5;183m\u001b[38;5;147m-\u001b[0m\u001b[38;5;183m\u001b[38;5;147m-\u001b[0m\u001b[38;5;183m\u001b[38;5;147m-\u001b[0m\u001b[38;5;183m\u001b[38;5;147m-\u001b[0m\u001b[38;5;183m\u001b[38;5;147m-\u001b[0m\u001b[38;5;183m\u001b[38;5;147m-\u001b[0m\u001b[38;5;183m\u001b[38;5;147m-\u001b[0m\u001b[38;5;183m\u001b[38;5;147m-\u001b[0m\u001b[38;5;183m\u001b[38;5;147m-\u001b[0m\u001b[38;5;183m\u001b[38;5;147m-\u001b[0m\u001b[38;5;183m\u001b[38;5;147m-\u001b[0m\u001b[38;5;183m\u001b[38;5;147m-\u001b[0m\u001b[38;5;183m\u001b[38;5;147m-\u001b[0m\u001b[38;5;183m\u001b[38;5;147m-\u001b[0m\u001b[38;5;183m\u001b[38;5;147m-\u001b[0m\u001b[38;5;183m\u001b[38;5;147m-\u001b[0m\u001b[38;5;183m\u001b[38;5;147m-\u001b[0m\u001b[38;5;183m\u001b[38;5;147m-\u001b[0m\u001b[38;5;183m\u001b[38;5;147m-\u001b[0m\u001b[38;5;183m\u001b[38;5;147m-\u001b[0m\u001b[38;5;183m\u001b[38;5;147m-\u001b[0m\u001b[38;5;183m\u001b[38;5;147m-\u001b[0m\u001b[38;5;183m\u001b[38;5;147m-\u001b[0m\u001b[38;5;183m\u001b[38;5;147m-\u001b[0m\u001b[38;5;183m\u001b[38;5;147m-\u001b[0m\u001b[38;5;183m\u001b[38;5;147m-\u001b[0m\u001b[38;5;183m\u001b[38;5;147m-\u001b[0m\u001b[38;5;183m\u001b[38;5;147m-\u001b[0m\u001b[38;5;183m\u001b[38;5;147m-\u001b[0m\u001b[38;5;183m\u001b[38;5;147m-\u001b[0m\u001b[38;5;183m\u001b[38;5;147m-\u001b[0m\u001b[38;5;183m\u001b[38;5;147m-\u001b[0m\u001b[38;5;183m\u001b[38;5;147m-\u001b[0m\u001b[38;5;183m\u001b[38;5;147m-\u001b[0m\u001b[38;5;183m\u001b[38;5;147m-\u001b[0m\u001b[38;5;183m\u001b[38;5;147m-\u001b[0m\u001b[38;5;183m\u001b[38;5;147m-\u001b[0m\u001b[38;5;183m\u001b[38;5;147m-\u001b[0m\u001b[38;5;183m\u001b[38;5;147m-\u001b[0m\u001b[38;5;183m\u001b[38;5;147m-\u001b[0m\u001b[38;5;183m\u001b[38;5;147m-\u001b[0m\u001b[38;5;183m\u001b[38;5;147m-\u001b[0m\u001b[38;5;183m\u001b[38;5;147m-\u001b[0m\u001b[38;5;183m\u001b[38;5;147m-\u001b[0m\u001b[38;5;183m\u001b[38;5;147m-\u001b[0m\u001b[38;5;183m\u001b[38;5;147m-\u001b[0m\u001b[38;5;183m\u001b[38;5;147m-\u001b[0m\u001b[38;5;183m\u001b[38;5;147m-\u001b[0m\u001b[38;5;183m\u001b[38;5;147m-\u001b[0m\u001b[38;5;183m\u001b[38;5;147m-\u001b[0m\u001b[38;5;183m\u001b[38;5;147m-\u001b[0m\u001b[38;5;183m\u001b[38;5;147m-\u001b[0m\u001b[38;5;183m\u001b[38;5;147m-\u001b[0m\u001b[38;5;183m\u001b[38;5;147m-\u001b[0m\u001b[38;5;183m\u001b[38;5;147m-\u001b[0m\u001b[38;5;183m\u001b[38;5;147m-\u001b[0m\u001b[38;5;183m\u001b[38;5;147m-\u001b[0m\u001b[38;5;183m\u001b[38;5;147m-\u001b[0m\u001b[38;5;183m\u001b[38;5;147m-\u001b[0m\u001b[38;5;183m\u001b[38;5;147m-\u001b[0m\u001b[38;5;183m\u001b[38;5;147m-\u001b[0m\u001b[38;5;183m\u001b[38;5;147m-\u001b[0m\u001b[38;5;183m\u001b[38;5;147m-\u001b[0m\u001b[38;5;183m\u001b[38;5;147m-\u001b[0m\u001b[38;5;183m\u001b[38;5;147m-\u001b[0m\u001b[38;5;183m\u001b[38;5;147m-\u001b[0m\u001b[38;5;183m\u001b[38;5;219m+\u001b[0m\u001b[38;5;183m\u001b[38;5;147m-\u001b[0m\u001b[38;5;183m\u001b[38;5;147m-\u001b[0m\u001b[38;5;183m\u001b[38;5;147m-\u001b[0m\u001b[38;5;183m\u001b[38;5;147m-\u001b[0m\u001b[38;5;183m\u001b[38;5;147m-\u001b[0m\u001b[38;5;183m\u001b[38;5;147m-\u001b[0m\u001b[38;5;183m\u001b[38;5;147m-\u001b[0m\u001b[38;5;183m\u001b[38;5;147m-\u001b[0m\u001b[38;5;183m\u001b[38;5;147m-\u001b[0m\u001b[38;5;183m\u001b[38;5;147m-\u001b[0m\u001b[38;5;183m\u001b[38;5;147m-\u001b[0m\u001b[38;5;183m\u001b[38;5;147m-\u001b[0m\u001b[38;5;183m\u001b[38;5;147m-\u001b[0m\u001b[38;5;183m\u001b[38;5;147m-\u001b[0m\u001b[38;5;183m\u001b[38;5;147m-\u001b[0m\u001b[38;5;183m\u001b[38;5;147m-\u001b[0m\u001b[38;5;183m\u001b[38;5;147m-\u001b[0m\u001b[38;5;183m\u001b[38;5;147m-\u001b[0m\u001b[38;5;183m\u001b[38;5;219m+\u001b[0m\u001b[38;5;183m\u001b[38;5;147m-\u001b[0m\u001b[38;5;183m\u001b[38;5;147m-\u001b[0m\u001b[38;5;183m\u001b[38;5;147m-\u001b[0m\u001b[38;5;183m\u001b[38;5;147m-\u001b[0m\u001b[38;5;183m\u001b[38;5;147m-\u001b[0m\u001b[38;5;183m\u001b[38;5;147m-\u001b[0m\u001b[38;5;183m\u001b[38;5;147m-\u001b[0m\u001b[38;5;183m\u001b[38;5;147m-\u001b[0m\u001b[38;5;183m\u001b[38;5;147m-\u001b[0m\u001b[38;5;183m\u001b[38;5;147m-\u001b[0m\u001b[38;5;183m\u001b[38;5;147m-\u001b[0m\u001b[38;5;183m\u001b[38;5;147m-\u001b[0m\u001b[38;5;183m\u001b[38;5;147m-\u001b[0m\u001b[38;5;183m\u001b[38;5;147m-\u001b[0m\u001b[38;5;183m\u001b[38;5;147m-\u001b[0m\u001b[38;5;183m\u001b[38;5;147m-\u001b[0m\u001b[38;5;183m\u001b[38;5;147m-\u001b[0m\u001b[38;5;183m\u001b[38;5;147m-\u001b[0m\u001b[38;5;183m\u001b[38;5;147m-\u001b[0m\u001b[38;5;183m\u001b[38;5;147m-\u001b[0m\u001b[38;5;183m\u001b[38;5;147m-\u001b[0m\u001b[38;5;183m\u001b[38;5;219m+\u001b[0m\u001b[38;5;183m\u001b[38;5;147m-\u001b[0m\u001b[38;5;183m\u001b[38;5;147m-\u001b[0m\u001b[38;5;183m\u001b[38;5;147m-\u001b[0m\u001b[38;5;183m\u001b[38;5;147m-\u001b[0m\u001b[38;5;183m\u001b[38;5;147m-\u001b[0m\u001b[38;5;183m\u001b[38;5;147m-\u001b[0m\u001b[38;5;183m\u001b[38;5;147m-\u001b[0m\u001b[38;5;183m\u001b[38;5;147m-\u001b[0m\u001b[38;5;183m\u001b[38;5;147m-\u001b[0m\u001b[38;5;183m\u001b[38;5;147m-\u001b[0m\u001b[38;5;183m\u001b[38;5;147m-\u001b[0m\u001b[38;5;183m\u001b[38;5;147m-\u001b[0m\u001b[38;5;183m\u001b[38;5;147m-\u001b[0m\u001b[38;5;183m\u001b[38;5;147m-\u001b[0m\u001b[38;5;183m\u001b[38;5;147m-\u001b[0m\u001b[38;5;183m\u001b[38;5;147m-\u001b[0m\u001b[38;5;183m\u001b[38;5;147m-\u001b[0m\u001b[38;5;183m\u001b[38;5;147m-\u001b[0m\u001b[38;5;183m\u001b[38;5;147m-\u001b[0m\u001b[38;5;183m\u001b[38;5;147m-\u001b[0m\u001b[38;5;183m\u001b[38;5;147m-\u001b[0m\u001b[38;5;183m\u001b[38;5;219m+\u001b[0m\u001b[38;5;183m\u001b[38;5;147m-\u001b[0m\u001b[38;5;183m\u001b[38;5;147m-\u001b[0m\u001b[38;5;183m\u001b[38;5;147m-\u001b[0m\u001b[38;5;183m\u001b[38;5;147m-\u001b[0m\u001b[38;5;183m\u001b[38;5;147m-\u001b[0m\u001b[38;5;183m\u001b[38;5;147m-\u001b[0m\u001b[38;5;183m\u001b[38;5;147m-\u001b[0m\u001b[38;5;183m\u001b[38;5;147m-\u001b[0m\u001b[38;5;183m\u001b[38;5;147m-\u001b[0m\u001b[38;5;183m\u001b[38;5;147m-\u001b[0m\u001b[38;5;183m\u001b[38;5;147m-\u001b[0m\u001b[38;5;183m\u001b[38;5;147m-\u001b[0m\u001b[38;5;183m\u001b[38;5;147m-\u001b[0m\u001b[38;5;183m\u001b[38;5;147m-\u001b[0m\u001b[38;5;183m\u001b[38;5;147m-\u001b[0m\u001b[38;5;183m\u001b[38;5;147m-\u001b[0m\u001b[38;5;183m\u001b[38;5;147m-\u001b[0m\u001b[38;5;183m\u001b[38;5;147m-\u001b[0m\u001b[38;5;183m\u001b[38;5;147m-\u001b[0m\u001b[38;5;183m\u001b[38;5;147m-\u001b[0m\u001b[38;5;183m\u001b[38;5;147m-\u001b[0m\u001b[38;5;183m\u001b[38;5;219m+\u001b[0m\u001b[38;5;183m\u001b[38;5;147m-\u001b[0m\u001b[38;5;183m\u001b[38;5;147m-\u001b[0m\u001b[38;5;183m\u001b[38;5;147m-\u001b[0m\u001b[38;5;183m\u001b[38;5;147m-\u001b[0m\u001b[38;5;183m\u001b[38;5;147m-\u001b[0m\u001b[38;5;183m\u001b[38;5;147m-\u001b[0m\u001b[38;5;183m\u001b[38;5;147m-\u001b[0m\u001b[38;5;183m\u001b[38;5;147m-\u001b[0m\u001b[38;5;183m\u001b[38;5;147m-\u001b[0m\u001b[38;5;183m\u001b[38;5;147m-\u001b[0m\u001b[38;5;183m\u001b[38;5;147m-\u001b[0m\u001b[38;5;183m\u001b[38;5;147m-\u001b[0m\u001b[38;5;183m\u001b[38;5;147m-\u001b[0m\u001b[38;5;183m\u001b[38;5;147m-\u001b[0m\u001b[38;5;183m\u001b[38;5;147m-\u001b[0m\u001b[38;5;183m\u001b[38;5;147m-\u001b[0m\u001b[38;5;183m\u001b[38;5;147m-\u001b[0m\u001b[38;5;183m\u001b[38;5;147m-\u001b[0m\u001b[38;5;183m\u001b[38;5;147m-\u001b[0m\u001b[38;5;183m\u001b[38;5;147m-\u001b[0m\u001b[38;5;183m\u001b[38;5;147m-\u001b[0m\u001b[38;5;183m\u001b[38;5;219m+\u001b[0m\u001b[38;5;183m\u001b[0m\n",
      "\u001b[38;5;219m+\u001b[0m\u001b[38;5;183m\u001b[38;5;147m-\u001b[0m\u001b[38;5;183m\u001b[38;5;147m-\u001b[0m\u001b[38;5;183m\u001b[38;5;147m-\u001b[0m\u001b[38;5;183m\u001b[38;5;147m-\u001b[0m\u001b[38;5;183m\u001b[38;5;147m-\u001b[0m\u001b[38;5;183m\u001b[38;5;147m-\u001b[0m\u001b[38;5;183m\u001b[38;5;219m+\u001b[0m\u001b[38;5;183m\u001b[38;5;147m-\u001b[0m\u001b[38;5;183m\u001b[38;5;147m-\u001b[0m\u001b[38;5;183m\u001b[38;5;147m-\u001b[0m\u001b[38;5;183m\u001b[38;5;147m-\u001b[0m\u001b[38;5;183m\u001b[38;5;147m-\u001b[0m\u001b[38;5;183m\u001b[38;5;147m-\u001b[0m\u001b[38;5;183m\u001b[38;5;147m-\u001b[0m\u001b[38;5;183m\u001b[38;5;147m-\u001b[0m\u001b[38;5;183m\u001b[38;5;147m-\u001b[0m\u001b[38;5;183m\u001b[38;5;147m-\u001b[0m\u001b[38;5;183m\u001b[38;5;147m-\u001b[0m\u001b[38;5;183m\u001b[38;5;147m-\u001b[0m\u001b[38;5;183m\u001b[38;5;147m-\u001b[0m\u001b[38;5;183m\u001b[38;5;147m-\u001b[0m\u001b[38;5;183m\u001b[38;5;147m-\u001b[0m\u001b[38;5;183m\u001b[38;5;147m-\u001b[0m\u001b[38;5;183m\u001b[38;5;147m-\u001b[0m\u001b[38;5;183m\u001b[38;5;147m-\u001b[0m\u001b[38;5;183m\u001b[38;5;147m-\u001b[0m\u001b[38;5;183m\u001b[38;5;147m-\u001b[0m\u001b[38;5;183m\u001b[38;5;147m-\u001b[0m\u001b[38;5;183m\u001b[38;5;147m-\u001b[0m\u001b[38;5;183m\u001b[38;5;147m-\u001b[0m\u001b[38;5;183m\u001b[38;5;147m-\u001b[0m\u001b[38;5;183m\u001b[38;5;147m-\u001b[0m\u001b[38;5;183m\u001b[38;5;147m-\u001b[0m\u001b[38;5;183m\u001b[38;5;147m-\u001b[0m\u001b[38;5;183m\u001b[38;5;147m-\u001b[0m\u001b[38;5;183m\u001b[38;5;147m-\u001b[0m\u001b[38;5;183m\u001b[38;5;147m-\u001b[0m\u001b[38;5;183m\u001b[38;5;147m-\u001b[0m\u001b[38;5;183m\u001b[38;5;147m-\u001b[0m\u001b[38;5;183m\u001b[38;5;147m-\u001b[0m\u001b[38;5;183m\u001b[38;5;147m-\u001b[0m\u001b[38;5;183m\u001b[38;5;147m-\u001b[0m\u001b[38;5;183m\u001b[38;5;147m-\u001b[0m\u001b[38;5;183m\u001b[38;5;147m-\u001b[0m\u001b[38;5;183m\u001b[38;5;147m-\u001b[0m\u001b[38;5;183m\u001b[38;5;147m-\u001b[0m\u001b[38;5;183m\u001b[38;5;147m-\u001b[0m\u001b[38;5;183m\u001b[38;5;147m-\u001b[0m\u001b[38;5;183m\u001b[38;5;147m-\u001b[0m\u001b[38;5;183m\u001b[38;5;147m-\u001b[0m\u001b[38;5;183m\u001b[38;5;147m-\u001b[0m\u001b[38;5;183m\u001b[38;5;147m-\u001b[0m\u001b[38;5;183m\u001b[38;5;147m-\u001b[0m\u001b[38;5;183m\u001b[38;5;147m-\u001b[0m\u001b[38;5;183m\u001b[38;5;147m-\u001b[0m\u001b[38;5;183m\u001b[38;5;147m-\u001b[0m\u001b[38;5;183m\u001b[38;5;147m-\u001b[0m\u001b[38;5;183m\u001b[38;5;147m-\u001b[0m\u001b[38;5;183m\u001b[38;5;147m-\u001b[0m\u001b[38;5;183m\u001b[38;5;147m-\u001b[0m\u001b[38;5;183m\u001b[38;5;147m-\u001b[0m\u001b[38;5;183m\u001b[38;5;147m-\u001b[0m\u001b[38;5;183m\u001b[38;5;147m-\u001b[0m\u001b[38;5;183m\u001b[38;5;147m-\u001b[0m\u001b[38;5;183m\u001b[38;5;147m-\u001b[0m\u001b[38;5;183m\u001b[38;5;147m-\u001b[0m\u001b[38;5;183m\u001b[38;5;147m-\u001b[0m\u001b[38;5;183m\u001b[38;5;147m-\u001b[0m\u001b[38;5;183m\u001b[38;5;147m-\u001b[0m\u001b[38;5;183m\u001b[38;5;147m-\u001b[0m\u001b[38;5;183m\u001b[38;5;147m-\u001b[0m\u001b[38;5;183m\u001b[38;5;147m-\u001b[0m\u001b[38;5;183m\u001b[38;5;147m-\u001b[0m\u001b[38;5;183m\u001b[38;5;147m-\u001b[0m\u001b[38;5;183m\u001b[38;5;147m-\u001b[0m\u001b[38;5;183m\u001b[38;5;147m-\u001b[0m\u001b[38;5;183m\u001b[38;5;219m+\u001b[0m\u001b[38;5;183m\u001b[38;5;147m-\u001b[0m\u001b[38;5;183m\u001b[38;5;147m-\u001b[0m\u001b[38;5;183m\u001b[38;5;147m-\u001b[0m\u001b[38;5;183m\u001b[38;5;147m-\u001b[0m\u001b[38;5;183m\u001b[38;5;147m-\u001b[0m\u001b[38;5;183m\u001b[38;5;147m-\u001b[0m\u001b[38;5;183m\u001b[38;5;147m-\u001b[0m\u001b[38;5;183m\u001b[38;5;147m-\u001b[0m\u001b[38;5;183m\u001b[38;5;147m-\u001b[0m\u001b[38;5;183m\u001b[38;5;147m-\u001b[0m\u001b[38;5;183m\u001b[38;5;147m-\u001b[0m\u001b[38;5;183m\u001b[38;5;147m-\u001b[0m\u001b[38;5;183m\u001b[38;5;147m-\u001b[0m\u001b[38;5;183m\u001b[38;5;147m-\u001b[0m\u001b[38;5;183m\u001b[38;5;147m-\u001b[0m\u001b[38;5;183m\u001b[38;5;147m-\u001b[0m\u001b[38;5;183m\u001b[38;5;147m-\u001b[0m\u001b[38;5;183m\u001b[38;5;147m-\u001b[0m\u001b[38;5;183m\u001b[38;5;219m+\u001b[0m\u001b[38;5;183m\u001b[38;5;147m-\u001b[0m\u001b[38;5;183m\u001b[38;5;147m-\u001b[0m\u001b[38;5;183m\u001b[38;5;147m-\u001b[0m\u001b[38;5;183m\u001b[38;5;147m-\u001b[0m\u001b[38;5;183m\u001b[38;5;147m-\u001b[0m\u001b[38;5;183m\u001b[38;5;147m-\u001b[0m\u001b[38;5;183m\u001b[38;5;147m-\u001b[0m\u001b[38;5;183m\u001b[38;5;147m-\u001b[0m\u001b[38;5;183m\u001b[38;5;147m-\u001b[0m\u001b[38;5;183m\u001b[38;5;147m-\u001b[0m\u001b[38;5;183m\u001b[38;5;147m-\u001b[0m\u001b[38;5;183m\u001b[38;5;147m-\u001b[0m\u001b[38;5;183m\u001b[38;5;147m-\u001b[0m\u001b[38;5;183m\u001b[38;5;147m-\u001b[0m\u001b[38;5;183m\u001b[38;5;147m-\u001b[0m\u001b[38;5;183m\u001b[38;5;147m-\u001b[0m\u001b[38;5;183m\u001b[38;5;147m-\u001b[0m\u001b[38;5;183m\u001b[38;5;147m-\u001b[0m\u001b[38;5;183m\u001b[38;5;147m-\u001b[0m\u001b[38;5;183m\u001b[38;5;147m-\u001b[0m\u001b[38;5;183m\u001b[38;5;147m-\u001b[0m\u001b[38;5;183m\u001b[38;5;219m+\u001b[0m\u001b[38;5;183m\u001b[38;5;147m-\u001b[0m\u001b[38;5;183m\u001b[38;5;147m-\u001b[0m\u001b[38;5;183m\u001b[38;5;147m-\u001b[0m\u001b[38;5;183m\u001b[38;5;147m-\u001b[0m\u001b[38;5;183m\u001b[38;5;147m-\u001b[0m\u001b[38;5;183m\u001b[38;5;147m-\u001b[0m\u001b[38;5;183m\u001b[38;5;147m-\u001b[0m\u001b[38;5;183m\u001b[38;5;147m-\u001b[0m\u001b[38;5;183m\u001b[38;5;147m-\u001b[0m\u001b[38;5;183m\u001b[38;5;147m-\u001b[0m\u001b[38;5;183m\u001b[38;5;147m-\u001b[0m\u001b[38;5;183m\u001b[38;5;147m-\u001b[0m\u001b[38;5;183m\u001b[38;5;147m-\u001b[0m\u001b[38;5;183m\u001b[38;5;147m-\u001b[0m\u001b[38;5;183m\u001b[38;5;147m-\u001b[0m\u001b[38;5;183m\u001b[38;5;147m-\u001b[0m\u001b[38;5;183m\u001b[38;5;147m-\u001b[0m\u001b[38;5;183m\u001b[38;5;147m-\u001b[0m\u001b[38;5;183m\u001b[38;5;147m-\u001b[0m\u001b[38;5;183m\u001b[38;5;147m-\u001b[0m\u001b[38;5;183m\u001b[38;5;147m-\u001b[0m\u001b[38;5;183m\u001b[38;5;219m+\u001b[0m\u001b[38;5;183m\u001b[38;5;147m-\u001b[0m\u001b[38;5;183m\u001b[38;5;147m-\u001b[0m\u001b[38;5;183m\u001b[38;5;147m-\u001b[0m\u001b[38;5;183m\u001b[38;5;147m-\u001b[0m\u001b[38;5;183m\u001b[38;5;147m-\u001b[0m\u001b[38;5;183m\u001b[38;5;147m-\u001b[0m\u001b[38;5;183m\u001b[38;5;147m-\u001b[0m\u001b[38;5;183m\u001b[38;5;147m-\u001b[0m\u001b[38;5;183m\u001b[38;5;147m-\u001b[0m\u001b[38;5;183m\u001b[38;5;147m-\u001b[0m\u001b[38;5;183m\u001b[38;5;147m-\u001b[0m\u001b[38;5;183m\u001b[38;5;147m-\u001b[0m\u001b[38;5;183m\u001b[38;5;147m-\u001b[0m\u001b[38;5;183m\u001b[38;5;147m-\u001b[0m\u001b[38;5;183m\u001b[38;5;147m-\u001b[0m\u001b[38;5;183m\u001b[38;5;147m-\u001b[0m\u001b[38;5;183m\u001b[38;5;147m-\u001b[0m\u001b[38;5;183m\u001b[38;5;147m-\u001b[0m\u001b[38;5;183m\u001b[38;5;147m-\u001b[0m\u001b[38;5;183m\u001b[38;5;147m-\u001b[0m\u001b[38;5;183m\u001b[38;5;147m-\u001b[0m\u001b[38;5;183m\u001b[38;5;219m+\u001b[0m\u001b[38;5;183m\u001b[38;5;147m-\u001b[0m\u001b[38;5;183m\u001b[38;5;147m-\u001b[0m\u001b[38;5;183m\u001b[38;5;147m-\u001b[0m\u001b[38;5;183m\u001b[38;5;147m-\u001b[0m\u001b[38;5;183m\u001b[38;5;147m-\u001b[0m\u001b[38;5;183m\u001b[38;5;147m-\u001b[0m\u001b[38;5;183m\u001b[38;5;147m-\u001b[0m\u001b[38;5;183m\u001b[38;5;147m-\u001b[0m\u001b[38;5;183m\u001b[38;5;147m-\u001b[0m\u001b[38;5;183m\u001b[38;5;147m-\u001b[0m\u001b[38;5;183m\u001b[38;5;147m-\u001b[0m\u001b[38;5;183m\u001b[38;5;147m-\u001b[0m\u001b[38;5;183m\u001b[38;5;147m-\u001b[0m\u001b[38;5;183m\u001b[38;5;147m-\u001b[0m\u001b[38;5;183m\u001b[38;5;147m-\u001b[0m\u001b[38;5;183m\u001b[38;5;147m-\u001b[0m\u001b[38;5;183m\u001b[38;5;147m-\u001b[0m\u001b[38;5;183m\u001b[38;5;147m-\u001b[0m\u001b[38;5;183m\u001b[38;5;147m-\u001b[0m\u001b[38;5;183m\u001b[38;5;147m-\u001b[0m\u001b[38;5;183m\u001b[38;5;147m-\u001b[0m\u001b[38;5;183m\u001b[38;5;219m+\u001b[0m\u001b[38;5;183m\n",
      "\u001b[35m|\u001b[0m\u001b[38;5;183m Algo \u001b[35m|\u001b[0m\u001b[38;5;183m                              Vectorizer                             \u001b[35m|\u001b[0m\u001b[38;5;183m  Vectorizer ID   \u001b[35m|\u001b[0m\u001b[38;5;183m       Macro f1      \u001b[35m|\u001b[0m\u001b[38;5;183m       Accuracy      \u001b[35m|\u001b[0m\u001b[38;5;183m      Precision      \u001b[35m|\u001b[0m\u001b[38;5;183m        Rappel       \u001b[35m|\u001b[0m\u001b[38;5;183m\n",
      "\u001b[38;5;219m+\u001b[0m\u001b[38;5;183m\u001b[38;5;147m-\u001b[0m\u001b[38;5;183m\u001b[38;5;147m-\u001b[0m\u001b[38;5;183m\u001b[38;5;147m-\u001b[0m\u001b[38;5;183m\u001b[38;5;147m-\u001b[0m\u001b[38;5;183m\u001b[38;5;147m-\u001b[0m\u001b[38;5;183m\u001b[38;5;147m-\u001b[0m\u001b[38;5;183m\u001b[38;5;219m+\u001b[0m\u001b[38;5;183m\u001b[38;5;147m-\u001b[0m\u001b[38;5;183m\u001b[38;5;147m-\u001b[0m\u001b[38;5;183m\u001b[38;5;147m-\u001b[0m\u001b[38;5;183m\u001b[38;5;147m-\u001b[0m\u001b[38;5;183m\u001b[38;5;147m-\u001b[0m\u001b[38;5;183m\u001b[38;5;147m-\u001b[0m\u001b[38;5;183m\u001b[38;5;147m-\u001b[0m\u001b[38;5;183m\u001b[38;5;147m-\u001b[0m\u001b[38;5;183m\u001b[38;5;147m-\u001b[0m\u001b[38;5;183m\u001b[38;5;147m-\u001b[0m\u001b[38;5;183m\u001b[38;5;147m-\u001b[0m\u001b[38;5;183m\u001b[38;5;147m-\u001b[0m\u001b[38;5;183m\u001b[38;5;147m-\u001b[0m\u001b[38;5;183m\u001b[38;5;147m-\u001b[0m\u001b[38;5;183m\u001b[38;5;147m-\u001b[0m\u001b[38;5;183m\u001b[38;5;147m-\u001b[0m\u001b[38;5;183m\u001b[38;5;147m-\u001b[0m\u001b[38;5;183m\u001b[38;5;147m-\u001b[0m\u001b[38;5;183m\u001b[38;5;147m-\u001b[0m\u001b[38;5;183m\u001b[38;5;147m-\u001b[0m\u001b[38;5;183m\u001b[38;5;147m-\u001b[0m\u001b[38;5;183m\u001b[38;5;147m-\u001b[0m\u001b[38;5;183m\u001b[38;5;147m-\u001b[0m\u001b[38;5;183m\u001b[38;5;147m-\u001b[0m\u001b[38;5;183m\u001b[38;5;147m-\u001b[0m\u001b[38;5;183m\u001b[38;5;147m-\u001b[0m\u001b[38;5;183m\u001b[38;5;147m-\u001b[0m\u001b[38;5;183m\u001b[38;5;147m-\u001b[0m\u001b[38;5;183m\u001b[38;5;147m-\u001b[0m\u001b[38;5;183m\u001b[38;5;147m-\u001b[0m\u001b[38;5;183m\u001b[38;5;147m-\u001b[0m\u001b[38;5;183m\u001b[38;5;147m-\u001b[0m\u001b[38;5;183m\u001b[38;5;147m-\u001b[0m\u001b[38;5;183m\u001b[38;5;147m-\u001b[0m\u001b[38;5;183m\u001b[38;5;147m-\u001b[0m\u001b[38;5;183m\u001b[38;5;147m-\u001b[0m\u001b[38;5;183m\u001b[38;5;147m-\u001b[0m\u001b[38;5;183m\u001b[38;5;147m-\u001b[0m\u001b[38;5;183m\u001b[38;5;147m-\u001b[0m\u001b[38;5;183m\u001b[38;5;147m-\u001b[0m\u001b[38;5;183m\u001b[38;5;147m-\u001b[0m\u001b[38;5;183m\u001b[38;5;147m-\u001b[0m\u001b[38;5;183m\u001b[38;5;147m-\u001b[0m\u001b[38;5;183m\u001b[38;5;147m-\u001b[0m\u001b[38;5;183m\u001b[38;5;147m-\u001b[0m\u001b[38;5;183m\u001b[38;5;147m-\u001b[0m\u001b[38;5;183m\u001b[38;5;147m-\u001b[0m\u001b[38;5;183m\u001b[38;5;147m-\u001b[0m\u001b[38;5;183m\u001b[38;5;147m-\u001b[0m\u001b[38;5;183m\u001b[38;5;147m-\u001b[0m\u001b[38;5;183m\u001b[38;5;147m-\u001b[0m\u001b[38;5;183m\u001b[38;5;147m-\u001b[0m\u001b[38;5;183m\u001b[38;5;147m-\u001b[0m\u001b[38;5;183m\u001b[38;5;147m-\u001b[0m\u001b[38;5;183m\u001b[38;5;147m-\u001b[0m\u001b[38;5;183m\u001b[38;5;147m-\u001b[0m\u001b[38;5;183m\u001b[38;5;147m-\u001b[0m\u001b[38;5;183m\u001b[38;5;147m-\u001b[0m\u001b[38;5;183m\u001b[38;5;147m-\u001b[0m\u001b[38;5;183m\u001b[38;5;147m-\u001b[0m\u001b[38;5;183m\u001b[38;5;147m-\u001b[0m\u001b[38;5;183m\u001b[38;5;147m-\u001b[0m\u001b[38;5;183m\u001b[38;5;147m-\u001b[0m\u001b[38;5;183m\u001b[38;5;147m-\u001b[0m\u001b[38;5;183m\u001b[38;5;147m-\u001b[0m\u001b[38;5;183m\u001b[38;5;147m-\u001b[0m\u001b[38;5;183m\u001b[38;5;147m-\u001b[0m\u001b[38;5;183m\u001b[38;5;147m-\u001b[0m\u001b[38;5;183m\u001b[38;5;147m-\u001b[0m\u001b[38;5;183m\u001b[38;5;219m+\u001b[0m\u001b[38;5;183m\u001b[38;5;147m-\u001b[0m\u001b[38;5;183m\u001b[38;5;147m-\u001b[0m\u001b[38;5;183m\u001b[38;5;147m-\u001b[0m\u001b[38;5;183m\u001b[38;5;147m-\u001b[0m\u001b[38;5;183m\u001b[38;5;147m-\u001b[0m\u001b[38;5;183m\u001b[38;5;147m-\u001b[0m\u001b[38;5;183m\u001b[38;5;147m-\u001b[0m\u001b[38;5;183m\u001b[38;5;147m-\u001b[0m\u001b[38;5;183m\u001b[38;5;147m-\u001b[0m\u001b[38;5;183m\u001b[38;5;147m-\u001b[0m\u001b[38;5;183m\u001b[38;5;147m-\u001b[0m\u001b[38;5;183m\u001b[38;5;147m-\u001b[0m\u001b[38;5;183m\u001b[38;5;147m-\u001b[0m\u001b[38;5;183m\u001b[38;5;147m-\u001b[0m\u001b[38;5;183m\u001b[38;5;147m-\u001b[0m\u001b[38;5;183m\u001b[38;5;147m-\u001b[0m\u001b[38;5;183m\u001b[38;5;147m-\u001b[0m\u001b[38;5;183m\u001b[38;5;147m-\u001b[0m\u001b[38;5;183m\u001b[38;5;219m+\u001b[0m\u001b[38;5;183m\u001b[38;5;147m-\u001b[0m\u001b[38;5;183m\u001b[38;5;147m-\u001b[0m\u001b[38;5;183m\u001b[38;5;147m-\u001b[0m\u001b[38;5;183m\u001b[38;5;147m-\u001b[0m\u001b[38;5;183m\u001b[38;5;147m-\u001b[0m\u001b[38;5;183m\u001b[38;5;147m-\u001b[0m\u001b[38;5;183m\u001b[38;5;147m-\u001b[0m\u001b[38;5;183m\u001b[38;5;147m-\u001b[0m\u001b[38;5;183m\u001b[38;5;147m-\u001b[0m\u001b[38;5;183m\u001b[38;5;147m-\u001b[0m\u001b[38;5;183m\u001b[38;5;147m-\u001b[0m\u001b[38;5;183m\u001b[38;5;147m-\u001b[0m\u001b[38;5;183m\u001b[38;5;147m-\u001b[0m\u001b[38;5;183m\u001b[38;5;147m-\u001b[0m\u001b[38;5;183m\u001b[38;5;147m-\u001b[0m\u001b[38;5;183m\u001b[38;5;147m-\u001b[0m\u001b[38;5;183m\u001b[38;5;147m-\u001b[0m\u001b[38;5;183m\u001b[38;5;147m-\u001b[0m\u001b[38;5;183m\u001b[38;5;147m-\u001b[0m\u001b[38;5;183m\u001b[38;5;147m-\u001b[0m\u001b[38;5;183m\u001b[38;5;147m-\u001b[0m\u001b[38;5;183m\u001b[38;5;219m+\u001b[0m\u001b[38;5;183m\u001b[38;5;147m-\u001b[0m\u001b[38;5;183m\u001b[38;5;147m-\u001b[0m\u001b[38;5;183m\u001b[38;5;147m-\u001b[0m\u001b[38;5;183m\u001b[38;5;147m-\u001b[0m\u001b[38;5;183m\u001b[38;5;147m-\u001b[0m\u001b[38;5;183m\u001b[38;5;147m-\u001b[0m\u001b[38;5;183m\u001b[38;5;147m-\u001b[0m\u001b[38;5;183m\u001b[38;5;147m-\u001b[0m\u001b[38;5;183m\u001b[38;5;147m-\u001b[0m\u001b[38;5;183m\u001b[38;5;147m-\u001b[0m\u001b[38;5;183m\u001b[38;5;147m-\u001b[0m\u001b[38;5;183m\u001b[38;5;147m-\u001b[0m\u001b[38;5;183m\u001b[38;5;147m-\u001b[0m\u001b[38;5;183m\u001b[38;5;147m-\u001b[0m\u001b[38;5;183m\u001b[38;5;147m-\u001b[0m\u001b[38;5;183m\u001b[38;5;147m-\u001b[0m\u001b[38;5;183m\u001b[38;5;147m-\u001b[0m\u001b[38;5;183m\u001b[38;5;147m-\u001b[0m\u001b[38;5;183m\u001b[38;5;147m-\u001b[0m\u001b[38;5;183m\u001b[38;5;147m-\u001b[0m\u001b[38;5;183m\u001b[38;5;147m-\u001b[0m\u001b[38;5;183m\u001b[38;5;219m+\u001b[0m\u001b[38;5;183m\u001b[38;5;147m-\u001b[0m\u001b[38;5;183m\u001b[38;5;147m-\u001b[0m\u001b[38;5;183m\u001b[38;5;147m-\u001b[0m\u001b[38;5;183m\u001b[38;5;147m-\u001b[0m\u001b[38;5;183m\u001b[38;5;147m-\u001b[0m\u001b[38;5;183m\u001b[38;5;147m-\u001b[0m\u001b[38;5;183m\u001b[38;5;147m-\u001b[0m\u001b[38;5;183m\u001b[38;5;147m-\u001b[0m\u001b[38;5;183m\u001b[38;5;147m-\u001b[0m\u001b[38;5;183m\u001b[38;5;147m-\u001b[0m\u001b[38;5;183m\u001b[38;5;147m-\u001b[0m\u001b[38;5;183m\u001b[38;5;147m-\u001b[0m\u001b[38;5;183m\u001b[38;5;147m-\u001b[0m\u001b[38;5;183m\u001b[38;5;147m-\u001b[0m\u001b[38;5;183m\u001b[38;5;147m-\u001b[0m\u001b[38;5;183m\u001b[38;5;147m-\u001b[0m\u001b[38;5;183m\u001b[38;5;147m-\u001b[0m\u001b[38;5;183m\u001b[38;5;147m-\u001b[0m\u001b[38;5;183m\u001b[38;5;147m-\u001b[0m\u001b[38;5;183m\u001b[38;5;147m-\u001b[0m\u001b[38;5;183m\u001b[38;5;147m-\u001b[0m\u001b[38;5;183m\u001b[38;5;219m+\u001b[0m\u001b[38;5;183m\u001b[38;5;147m-\u001b[0m\u001b[38;5;183m\u001b[38;5;147m-\u001b[0m\u001b[38;5;183m\u001b[38;5;147m-\u001b[0m\u001b[38;5;183m\u001b[38;5;147m-\u001b[0m\u001b[38;5;183m\u001b[38;5;147m-\u001b[0m\u001b[38;5;183m\u001b[38;5;147m-\u001b[0m\u001b[38;5;183m\u001b[38;5;147m-\u001b[0m\u001b[38;5;183m\u001b[38;5;147m-\u001b[0m\u001b[38;5;183m\u001b[38;5;147m-\u001b[0m\u001b[38;5;183m\u001b[38;5;147m-\u001b[0m\u001b[38;5;183m\u001b[38;5;147m-\u001b[0m\u001b[38;5;183m\u001b[38;5;147m-\u001b[0m\u001b[38;5;183m\u001b[38;5;147m-\u001b[0m\u001b[38;5;183m\u001b[38;5;147m-\u001b[0m\u001b[38;5;183m\u001b[38;5;147m-\u001b[0m\u001b[38;5;183m\u001b[38;5;147m-\u001b[0m\u001b[38;5;183m\u001b[38;5;147m-\u001b[0m\u001b[38;5;183m\u001b[38;5;147m-\u001b[0m\u001b[38;5;183m\u001b[38;5;147m-\u001b[0m\u001b[38;5;183m\u001b[38;5;147m-\u001b[0m\u001b[38;5;183m\u001b[38;5;147m-\u001b[0m\u001b[38;5;183m\u001b[38;5;219m+\u001b[0m\u001b[38;5;183m\n",
      "\u001b[35m|\u001b[0m\u001b[38;5;183m svc  \u001b[35m|\u001b[0m\u001b[38;5;183m TfidfVectorizer(max_df=0.9, max_features=15000, ngram_range=(1, 2)) \u001b[35m|\u001b[0m\u001b[38;5;183m TfidfVectorizer7 \u001b[35m|\u001b[0m\u001b[38;5;183m 0.33159181483180344 \u001b[35m|\u001b[0m\u001b[38;5;183m 0.39084022038567495 \u001b[35m|\u001b[0m\u001b[38;5;183m  0.3504179273602355 \u001b[35m|\u001b[0m\u001b[38;5;183m 0.32739001143758795 \u001b[35m|\u001b[0m\u001b[38;5;183m\n",
      "\u001b[35m|\u001b[0m\u001b[38;5;183m svc  \u001b[35m|\u001b[0m\u001b[38;5;183m TfidfVectorizer(max_df=0.5, max_features=15000, ngram_range=(1, 2)) \u001b[35m|\u001b[0m\u001b[38;5;183m TfidfVectorizer3 \u001b[35m|\u001b[0m\u001b[38;5;183m  0.3271193967114935 \u001b[35m|\u001b[0m\u001b[38;5;183m 0.38670798898071623 \u001b[35m|\u001b[0m\u001b[38;5;183m 0.34611396029056174 \u001b[35m|\u001b[0m\u001b[38;5;183m 0.32272975416932137 \u001b[35m|\u001b[0m\u001b[38;5;183m\n",
      "\u001b[35m|\u001b[0m\u001b[38;5;183m svc  \u001b[35m|\u001b[0m\u001b[38;5;183m           TfidfVectorizer(max_df=0.9, max_features=15000)           \u001b[35m|\u001b[0m\u001b[38;5;183m TfidfVectorizer6 \u001b[35m|\u001b[0m\u001b[38;5;183m  0.319246225136336  \u001b[35m|\u001b[0m\u001b[38;5;183m  0.3786730945821855 \u001b[35m|\u001b[0m\u001b[38;5;183m  0.3364038828471881 \u001b[35m|\u001b[0m\u001b[38;5;183m  0.3154183791200883 \u001b[35m|\u001b[0m\u001b[38;5;183m\n",
      "\u001b[38;5;219m+\u001b[0m\u001b[38;5;183m\u001b[38;5;147m-\u001b[0m\u001b[38;5;183m\u001b[38;5;147m-\u001b[0m\u001b[38;5;183m\u001b[38;5;147m-\u001b[0m\u001b[38;5;183m\u001b[38;5;147m-\u001b[0m\u001b[38;5;183m\u001b[38;5;147m-\u001b[0m\u001b[38;5;183m\u001b[38;5;147m-\u001b[0m\u001b[38;5;183m\u001b[38;5;219m+\u001b[0m\u001b[38;5;183m\u001b[38;5;147m-\u001b[0m\u001b[38;5;183m\u001b[38;5;147m-\u001b[0m\u001b[38;5;183m\u001b[38;5;147m-\u001b[0m\u001b[38;5;183m\u001b[38;5;147m-\u001b[0m\u001b[38;5;183m\u001b[38;5;147m-\u001b[0m\u001b[38;5;183m\u001b[38;5;147m-\u001b[0m\u001b[38;5;183m\u001b[38;5;147m-\u001b[0m\u001b[38;5;183m\u001b[38;5;147m-\u001b[0m\u001b[38;5;183m\u001b[38;5;147m-\u001b[0m\u001b[38;5;183m\u001b[38;5;147m-\u001b[0m\u001b[38;5;183m\u001b[38;5;147m-\u001b[0m\u001b[38;5;183m\u001b[38;5;147m-\u001b[0m\u001b[38;5;183m\u001b[38;5;147m-\u001b[0m\u001b[38;5;183m\u001b[38;5;147m-\u001b[0m\u001b[38;5;183m\u001b[38;5;147m-\u001b[0m\u001b[38;5;183m\u001b[38;5;147m-\u001b[0m\u001b[38;5;183m\u001b[38;5;147m-\u001b[0m\u001b[38;5;183m\u001b[38;5;147m-\u001b[0m\u001b[38;5;183m\u001b[38;5;147m-\u001b[0m\u001b[38;5;183m\u001b[38;5;147m-\u001b[0m\u001b[38;5;183m\u001b[38;5;147m-\u001b[0m\u001b[38;5;183m\u001b[38;5;147m-\u001b[0m\u001b[38;5;183m\u001b[38;5;147m-\u001b[0m\u001b[38;5;183m\u001b[38;5;147m-\u001b[0m\u001b[38;5;183m\u001b[38;5;147m-\u001b[0m\u001b[38;5;183m\u001b[38;5;147m-\u001b[0m\u001b[38;5;183m\u001b[38;5;147m-\u001b[0m\u001b[38;5;183m\u001b[38;5;147m-\u001b[0m\u001b[38;5;183m\u001b[38;5;147m-\u001b[0m\u001b[38;5;183m\u001b[38;5;147m-\u001b[0m\u001b[38;5;183m\u001b[38;5;147m-\u001b[0m\u001b[38;5;183m\u001b[38;5;147m-\u001b[0m\u001b[38;5;183m\u001b[38;5;147m-\u001b[0m\u001b[38;5;183m\u001b[38;5;147m-\u001b[0m\u001b[38;5;183m\u001b[38;5;147m-\u001b[0m\u001b[38;5;183m\u001b[38;5;147m-\u001b[0m\u001b[38;5;183m\u001b[38;5;147m-\u001b[0m\u001b[38;5;183m\u001b[38;5;147m-\u001b[0m\u001b[38;5;183m\u001b[38;5;147m-\u001b[0m\u001b[38;5;183m\u001b[38;5;147m-\u001b[0m\u001b[38;5;183m\u001b[38;5;147m-\u001b[0m\u001b[38;5;183m\u001b[38;5;147m-\u001b[0m\u001b[38;5;183m\u001b[38;5;147m-\u001b[0m\u001b[38;5;183m\u001b[38;5;147m-\u001b[0m\u001b[38;5;183m\u001b[38;5;147m-\u001b[0m\u001b[38;5;183m\u001b[38;5;147m-\u001b[0m\u001b[38;5;183m\u001b[38;5;147m-\u001b[0m\u001b[38;5;183m\u001b[38;5;147m-\u001b[0m\u001b[38;5;183m\u001b[38;5;147m-\u001b[0m\u001b[38;5;183m\u001b[38;5;147m-\u001b[0m\u001b[38;5;183m\u001b[38;5;147m-\u001b[0m\u001b[38;5;183m\u001b[38;5;147m-\u001b[0m\u001b[38;5;183m\u001b[38;5;147m-\u001b[0m\u001b[38;5;183m\u001b[38;5;147m-\u001b[0m\u001b[38;5;183m\u001b[38;5;147m-\u001b[0m\u001b[38;5;183m\u001b[38;5;147m-\u001b[0m\u001b[38;5;183m\u001b[38;5;147m-\u001b[0m\u001b[38;5;183m\u001b[38;5;147m-\u001b[0m\u001b[38;5;183m\u001b[38;5;147m-\u001b[0m\u001b[38;5;183m\u001b[38;5;147m-\u001b[0m\u001b[38;5;183m\u001b[38;5;147m-\u001b[0m\u001b[38;5;183m\u001b[38;5;147m-\u001b[0m\u001b[38;5;183m\u001b[38;5;147m-\u001b[0m\u001b[38;5;183m\u001b[38;5;147m-\u001b[0m\u001b[38;5;183m\u001b[38;5;147m-\u001b[0m\u001b[38;5;183m\u001b[38;5;147m-\u001b[0m\u001b[38;5;183m\u001b[38;5;147m-\u001b[0m\u001b[38;5;183m\u001b[38;5;147m-\u001b[0m\u001b[38;5;183m\u001b[38;5;147m-\u001b[0m\u001b[38;5;183m\u001b[38;5;219m+\u001b[0m\u001b[38;5;183m\u001b[38;5;147m-\u001b[0m\u001b[38;5;183m\u001b[38;5;147m-\u001b[0m\u001b[38;5;183m\u001b[38;5;147m-\u001b[0m\u001b[38;5;183m\u001b[38;5;147m-\u001b[0m\u001b[38;5;183m\u001b[38;5;147m-\u001b[0m\u001b[38;5;183m\u001b[38;5;147m-\u001b[0m\u001b[38;5;183m\u001b[38;5;147m-\u001b[0m\u001b[38;5;183m\u001b[38;5;147m-\u001b[0m\u001b[38;5;183m\u001b[38;5;147m-\u001b[0m\u001b[38;5;183m\u001b[38;5;147m-\u001b[0m\u001b[38;5;183m\u001b[38;5;147m-\u001b[0m\u001b[38;5;183m\u001b[38;5;147m-\u001b[0m\u001b[38;5;183m\u001b[38;5;147m-\u001b[0m\u001b[38;5;183m\u001b[38;5;147m-\u001b[0m\u001b[38;5;183m\u001b[38;5;147m-\u001b[0m\u001b[38;5;183m\u001b[38;5;147m-\u001b[0m\u001b[38;5;183m\u001b[38;5;147m-\u001b[0m\u001b[38;5;183m\u001b[38;5;147m-\u001b[0m\u001b[38;5;183m\u001b[38;5;219m+\u001b[0m\u001b[38;5;183m\u001b[38;5;147m-\u001b[0m\u001b[38;5;183m\u001b[38;5;147m-\u001b[0m\u001b[38;5;183m\u001b[38;5;147m-\u001b[0m\u001b[38;5;183m\u001b[38;5;147m-\u001b[0m\u001b[38;5;183m\u001b[38;5;147m-\u001b[0m\u001b[38;5;183m\u001b[38;5;147m-\u001b[0m\u001b[38;5;183m\u001b[38;5;147m-\u001b[0m\u001b[38;5;183m\u001b[38;5;147m-\u001b[0m\u001b[38;5;183m\u001b[38;5;147m-\u001b[0m\u001b[38;5;183m\u001b[38;5;147m-\u001b[0m\u001b[38;5;183m\u001b[38;5;147m-\u001b[0m\u001b[38;5;183m\u001b[38;5;147m-\u001b[0m\u001b[38;5;183m\u001b[38;5;147m-\u001b[0m\u001b[38;5;183m\u001b[38;5;147m-\u001b[0m\u001b[38;5;183m\u001b[38;5;147m-\u001b[0m\u001b[38;5;183m\u001b[38;5;147m-\u001b[0m\u001b[38;5;183m\u001b[38;5;147m-\u001b[0m\u001b[38;5;183m\u001b[38;5;147m-\u001b[0m\u001b[38;5;183m\u001b[38;5;147m-\u001b[0m\u001b[38;5;183m\u001b[38;5;147m-\u001b[0m\u001b[38;5;183m\u001b[38;5;147m-\u001b[0m\u001b[38;5;183m\u001b[38;5;219m+\u001b[0m\u001b[38;5;183m\u001b[38;5;147m-\u001b[0m\u001b[38;5;183m\u001b[38;5;147m-\u001b[0m\u001b[38;5;183m\u001b[38;5;147m-\u001b[0m\u001b[38;5;183m\u001b[38;5;147m-\u001b[0m\u001b[38;5;183m\u001b[38;5;147m-\u001b[0m\u001b[38;5;183m\u001b[38;5;147m-\u001b[0m\u001b[38;5;183m\u001b[38;5;147m-\u001b[0m\u001b[38;5;183m\u001b[38;5;147m-\u001b[0m\u001b[38;5;183m\u001b[38;5;147m-\u001b[0m\u001b[38;5;183m\u001b[38;5;147m-\u001b[0m\u001b[38;5;183m\u001b[38;5;147m-\u001b[0m\u001b[38;5;183m\u001b[38;5;147m-\u001b[0m\u001b[38;5;183m\u001b[38;5;147m-\u001b[0m\u001b[38;5;183m\u001b[38;5;147m-\u001b[0m\u001b[38;5;183m\u001b[38;5;147m-\u001b[0m\u001b[38;5;183m\u001b[38;5;147m-\u001b[0m\u001b[38;5;183m\u001b[38;5;147m-\u001b[0m\u001b[38;5;183m\u001b[38;5;147m-\u001b[0m\u001b[38;5;183m\u001b[38;5;147m-\u001b[0m\u001b[38;5;183m\u001b[38;5;147m-\u001b[0m\u001b[38;5;183m\u001b[38;5;147m-\u001b[0m\u001b[38;5;183m\u001b[38;5;219m+\u001b[0m\u001b[38;5;183m\u001b[38;5;147m-\u001b[0m\u001b[38;5;183m\u001b[38;5;147m-\u001b[0m\u001b[38;5;183m\u001b[38;5;147m-\u001b[0m\u001b[38;5;183m\u001b[38;5;147m-\u001b[0m\u001b[38;5;183m\u001b[38;5;147m-\u001b[0m\u001b[38;5;183m\u001b[38;5;147m-\u001b[0m\u001b[38;5;183m\u001b[38;5;147m-\u001b[0m\u001b[38;5;183m\u001b[38;5;147m-\u001b[0m\u001b[38;5;183m\u001b[38;5;147m-\u001b[0m\u001b[38;5;183m\u001b[38;5;147m-\u001b[0m\u001b[38;5;183m\u001b[38;5;147m-\u001b[0m\u001b[38;5;183m\u001b[38;5;147m-\u001b[0m\u001b[38;5;183m\u001b[38;5;147m-\u001b[0m\u001b[38;5;183m\u001b[38;5;147m-\u001b[0m\u001b[38;5;183m\u001b[38;5;147m-\u001b[0m\u001b[38;5;183m\u001b[38;5;147m-\u001b[0m\u001b[38;5;183m\u001b[38;5;147m-\u001b[0m\u001b[38;5;183m\u001b[38;5;147m-\u001b[0m\u001b[38;5;183m\u001b[38;5;147m-\u001b[0m\u001b[38;5;183m\u001b[38;5;147m-\u001b[0m\u001b[38;5;183m\u001b[38;5;147m-\u001b[0m\u001b[38;5;183m\u001b[38;5;219m+\u001b[0m\u001b[38;5;183m\u001b[38;5;147m-\u001b[0m\u001b[38;5;183m\u001b[38;5;147m-\u001b[0m\u001b[38;5;183m\u001b[38;5;147m-\u001b[0m\u001b[38;5;183m\u001b[38;5;147m-\u001b[0m\u001b[38;5;183m\u001b[38;5;147m-\u001b[0m\u001b[38;5;183m\u001b[38;5;147m-\u001b[0m\u001b[38;5;183m\u001b[38;5;147m-\u001b[0m\u001b[38;5;183m\u001b[38;5;147m-\u001b[0m\u001b[38;5;183m\u001b[38;5;147m-\u001b[0m\u001b[38;5;183m\u001b[38;5;147m-\u001b[0m\u001b[38;5;183m\u001b[38;5;147m-\u001b[0m\u001b[38;5;183m\u001b[38;5;147m-\u001b[0m\u001b[38;5;183m\u001b[38;5;147m-\u001b[0m\u001b[38;5;183m\u001b[38;5;147m-\u001b[0m\u001b[38;5;183m\u001b[38;5;147m-\u001b[0m\u001b[38;5;183m\u001b[38;5;147m-\u001b[0m\u001b[38;5;183m\u001b[38;5;147m-\u001b[0m\u001b[38;5;183m\u001b[38;5;147m-\u001b[0m\u001b[38;5;183m\u001b[38;5;147m-\u001b[0m\u001b[38;5;183m\u001b[38;5;147m-\u001b[0m\u001b[38;5;183m\u001b[38;5;147m-\u001b[0m\u001b[38;5;183m\u001b[38;5;219m+\u001b[0m\u001b[38;5;183m\u001b[0m\n"
     ]
    }
   ],
   "source": [
    "def visualise_vect_comparison(scores_knn, scores_cnb, scores_svc):\n",
    "\n",
    "    field_names = [\"Algo\", \"Vectorizer\", \"Vectorizer ID\", \"Macro f1\", \"Accuracy\", \"Precision\", \"Rappel\"]\n",
    "\n",
    "    prettytable_knn = ColorTable(theme=Themes.LAVENDER)\n",
    "    prettytable_knn.field_names = field_names\n",
    "    prettytable_cnb = ColorTable(theme=Themes.LAVENDER)\n",
    "    prettytable_cnb.field_names = field_names\n",
    "    prettytable_svc = ColorTable(theme=Themes.LAVENDER)\n",
    "    prettytable_svc.field_names = field_names\n",
    "\n",
    "    three_best_knn = scores_knn[:3]\n",
    "    three_best_cnb = scores_cnb[:3]\n",
    "    three_best_svc = scores_svc[:3]\n",
    "\n",
    "    fill_vect_table(three_best_knn, \"knn\", prettytable_knn)\n",
    "    fill_vect_table(three_best_cnb, \"cnb\", prettytable_cnb)\n",
    "    fill_vect_table(three_best_svc, \"svc\", prettytable_svc)\n",
    "\n",
    "\n",
    "visualise_vect_comparison(sorted_scores_knn, sorted_scores_cnb, sorted_scores_svc)\n",
    "    "
   ]
  },
  {
   "cell_type": "markdown",
   "metadata": {},
   "source": [
    "**Au vu de nos résultats**, on peut admettre que c'est un tfidf avec une max df de 0.9, des max_features de 15 000 et un ngram range de (1, 2) qui donne les meilleurs résultats.\n",
    "**Nous utiliserons ainsi cette combinaison d'hyperparamètres et donc cette vectorisation pour nos essais suivants.**"
   ]
  },
  {
   "cell_type": "markdown",
   "metadata": {},
   "source": [
    "**On peut donc créer les variables que nous utiliserons lors de la suite du TP :**"
   ]
  },
  {
   "cell_type": "markdown",
   "metadata": {},
   "source": [
    "# ON UTILISE CELLES LÀ"
   ]
  },
  {
   "cell_type": "code",
   "execution_count": 49,
   "metadata": {},
   "outputs": [],
   "source": [
    "# df_vectorisations[\"vectorizer\"] = df_vectorisations[\"vectorizer\"].str.strip()\n",
    "\n",
    "best_data = df_vectorisations[df_vectorisations[\"vectorizer_id\"] == \"TfidfVectorizer7\"]\n",
    "x_train = best_data.iloc[0][\"x_train\"]\n",
    "y_train = df_train[\"label\"]\n",
    "\n",
    "x_test = best_data.iloc[0][\"x_test\"]\n",
    "y_test = df_test[\"label\"]\n"
   ]
  },
  {
   "cell_type": "markdown",
   "metadata": {},
   "source": [
    "- x_train\n",
    "- y_train\n",
    "- x_test\n",
    "- y_test"
   ]
  },
  {
   "cell_type": "markdown",
   "metadata": {},
   "source": [
    "<a id=\"3-comparaison-des-modèles\"></a>\n",
    "# **3. Comparaison des modèles**\n",
    "\n",
    "# OK LES GURLIES À FAIRE !\n",
    "\n",
    "On a le code pour entrainer nos modèles et obtenir des informations (les attributs de la classe) !\n",
    "\n",
    "\n",
    "Je pense que le mieux right now c'est de garder genre 10 algorithmes dans le dico, commentez les arbres et le LGBM et le SVC de base.\n",
    "\n",
    "Comme ça vous pouvez modifier la classe ou tester des trucs (si vous voulez) rapidos et sans attendre 20min.\n",
    "\n",
    "Bref vu que c'est rapidos. On s'en fout un peu des résultats.\n",
    "Juste obtenir les résultats permet ensuite de passer à la partie 4 qu'il faut finir aujourd'hui !!!\n",
    "\n",
    "Testez les codes sur les meilleurs algo obtenus avec cette partie comme ça tout va bien."
   ]
  },
  {
   "cell_type": "code",
   "execution_count": 50,
   "metadata": {},
   "outputs": [],
   "source": [
    "def time_function(func):\n",
    "    def wrapper(*args, **kwargs):\n",
    "        start = time.time()\n",
    "        result = func(*args, **kwargs)\n",
    "        end = time.time()\n",
    "        return result, end - start\n",
    "    return wrapper"
   ]
  },
  {
   "cell_type": "markdown",
   "metadata": {},
   "source": [
    "# ALIX METS MACRO AVG DANS LES ATTRIBUTS !!! VOILA ON A CLASSIFICATION MAIS GO METTRE MACRO AVG"
   ]
  },
  {
   "cell_type": "code",
   "execution_count": 51,
   "metadata": {},
   "outputs": [],
   "source": [
    "class Model:\n",
    "\n",
    "    # Contient tous les modèles entrainés ! \n",
    "    all_models = []\n",
    "\n",
    "    def __init__(self, name: str, model=None, scores={}, running_time=None):\n",
    "        self.name = name\n",
    "        self.model = model\n",
    "        self.scores = scores\n",
    "        self.running_time = running_time\n",
    "\n",
    "        Model.all_models.append(self)\n",
    "        # Pour chaque modèle entraîné, on garde son nom (algo + num), le modèle et ses \n",
    "        # hyperparamètres pour cet entraînement, les métriques obtenues, et son temps d'execution !\n",
    "\n",
    "    # Pour vider la liste si nécessaire ! \n",
    "    @classmethod\n",
    "    def reset(cls):\n",
    "        cls.all_models = []\n",
    "\n",
    "    # Entraîne le modèle\n",
    "    @time_function\n",
    "    def fit_model(self, x_train, y_train):\n",
    "        self.model.fit(x_train, y_train)\n",
    "    \n",
    "    # Prédictions et scores\n",
    "    @time_function\n",
    "    def predict(self, x_test, y_test):\n",
    "        y_pred = self.model.predict(x_test)\n",
    "        report = classification_report(y_test, y_pred, output_dict=True)\n",
    "        accuracy = accuracy_score(y_test, y_pred)\n",
    "        accuracy_dict =  {\"accuracy\": accuracy, **report}\n",
    "        self.scores = accuracy_dict\n",
    "        return y_pred\n",
    "\n",
    "    # Lance les fonctions d'entraînement et de prédiction\n",
    "    # Stock les temps d'execution\n",
    "    def test_model(self, x_train, y_train, x_test, y_test):\n",
    "        _, fit_execution_time = self.fit_model(x_train, y_train)\n",
    "        y_pred, predict_execution_time = self.predict(x_test, y_test)\n",
    "        self.running_time = fit_execution_time + predict_execution_time"
   ]
  },
  {
   "cell_type": "code",
   "execution_count": 62,
   "metadata": {},
   "outputs": [],
   "source": [
    "Model.reset()"
   ]
  },
  {
   "cell_type": "code",
   "execution_count": 61,
   "metadata": {},
   "outputs": [],
   "source": [
    "from sklearn.linear_model import PassiveAggressiveClassifier\n",
    "\n",
    "# on met les hyperparamètres par défaut\n",
    "models_dict = {\n",
    "    # \"LogisticRegression\": {\"model\": LogisticRegression(), \"hyperparameters\": {\"C\": [0.5, 1.0]}},\n",
    "    # # \"SGDClassifier\": {\"model\": SGDClassifier(), \"hyperparameters\": {\"alpha\": [0.0001, 0.001, 0.01], \"loss\": [\"hinge\", \"squared_hinge\"]}},\n",
    "    \"LinearSVC\": {\"model\": LinearSVC(), \"hyperparameters\": {\"C\": [0.5, 1.0], \"dual\":[True, False]}},\n",
    "    \"RandomForestClassifier\": {\"model\": RandomForestClassifier(), \"hyperparameters\": {\"max_depth\": [100]}},\n",
    "    \"KNeighborsClassifier\": {\"model\": KNeighborsClassifier(), \"hyperparameters\": {\"algorithm\": \"auto\", \"leaf_size\": 30, \"metric\": \"minkowski\", \"metric_params\": None, \"n_jobs\": None, \"n_neighbors\": 5,\" p\": 2, \"weights\": \"uniform\"}},\n",
    "    \"PassiveAggressiveClassifier\": {\"model\": PassiveAggressiveClassifier(), \"hyperparameters\": {\"max_iter\": 1000, \"validation_fraction\": 0.1, \"n_iter_no_change\": 5, \"shuffle\": True, \"verbose\": 0, \"loss\": \"hinge\", \"n_jobs\": None, \"random_state\": None, \"warm_start\": False, \"class_weight\": None}},\n",
    "    \"MultinomialNB\": {\"model\": MultinomialNB(), \"hyperparameters\": {\"alpha\":1.0, \"class_prior\": None, \"fit_prior\": True,}},\n",
    "    \"ComplementNB\": {\"model\": ComplementNB(), \"hyperparameters\": {\"alpha\": 1.0, \"class_prior\": None, \"fit_prior\": True, \"norm\": False}},\n",
    "    \"SVC\": {\"model\": SVC(), \"hyperparameters\": {\"kernel\": [\"poly\", \"sigmoid\"]}},\n",
    "    \"RidgeClassifier\": {\"model\": RidgeClassifier(), \"hyperparameters\": { \"alpha\": [1.0, 1.5, 2]}},\n",
    "    # \"LGBMClassifier\": {\"model\": LGBMClassifier(), \"hyperparameters\": {\"max_depth\": [1000], \"n_estimators\": [1000]}},\n",
    "    # \"RandomForestClassifier\": {\"model\": RandomForestClassifier(), \"hyperparameters\": {\"max_depth\": [100]}}\n",
    " }"
   ]
  },
  {
   "cell_type": "code",
   "execution_count": 54,
   "metadata": {},
   "outputs": [],
   "source": [
    "def hyperparameters_training(model_name, model_dict, x_train, y_train, x_test, y_test):\n",
    "    param_grid = model_dict[\"hyperparameters\"]\n",
    "\n",
    "    if len(param_grid) == 1:\n",
    "        param_name, param_values = list(param_grid.items())[0]\n",
    "        for i, value in enumerate(param_values, start=1):\n",
    "            params = {param_name: value}\n",
    "            model = model_dict[\"model\"].__class__(**params)  \n",
    "            model_obj = Model(name=f\"{model_name}_{i}\", model=model)\n",
    "            model_obj.test_model(x_train, y_train, x_test, y_test)\n",
    "    else:\n",
    "        param_grid_combinations = list(product(*param_grid.values()))\n",
    "        for i, combination in enumerate(param_grid_combinations, start=1):\n",
    "            params = {param_name: value for param_name, value in zip(param_grid.keys(), combination)}\n",
    "            model = model_dict[\"model\"].__class__(**params) \n",
    "            model_obj = Model(name=f\"{model_name}_{i}\", model=model)\n",
    "            model_obj.test_model(x_train, y_train, x_test, y_test)"
   ]
  },
  {
   "cell_type": "code",
   "execution_count": 63,
   "metadata": {},
   "outputs": [
    {
     "name": "stdout",
     "output_type": "stream",
     "text": [
      "On teste le modèle LinearSVC !\n",
      "On teste le modèle RidgeClassifier !\n"
     ]
    },
    {
     "data": {
      "text/plain": [
       "(None, 51.31061792373657)"
      ]
     },
     "execution_count": 63,
     "metadata": {},
     "output_type": "execute_result"
    }
   ],
   "source": [
    "@time_function\n",
    "def test_models(models, x_train, y_train, x_test, y_test):\n",
    "                                 \n",
    "    for model_name, model_dict in models.items():\n",
    "        print(f\"On teste le modèle {model_name} !\")\n",
    "        hyperparameters_training(model_name, model_dict, x_train, y_train, x_test, y_test)\n",
    "\n",
    "test_models(models_dict, x_train, y_train, x_test, y_test)"
   ]
  },
  {
   "cell_type": "code",
   "execution_count": 64,
   "metadata": {},
   "outputs": [
    {
     "name": "stdout",
     "output_type": "stream",
     "text": [
      "\u001b[38;5;219m+\u001b[0m\u001b[38;5;183m\u001b[38;5;147m-\u001b[0m\u001b[38;5;183m\u001b[38;5;147m-\u001b[0m\u001b[38;5;183m\u001b[38;5;147m-\u001b[0m\u001b[38;5;183m\u001b[38;5;147m-\u001b[0m\u001b[38;5;183m\u001b[38;5;147m-\u001b[0m\u001b[38;5;183m\u001b[38;5;147m-\u001b[0m\u001b[38;5;183m\u001b[38;5;147m-\u001b[0m\u001b[38;5;183m\u001b[38;5;147m-\u001b[0m\u001b[38;5;183m\u001b[38;5;147m-\u001b[0m\u001b[38;5;183m\u001b[38;5;147m-\u001b[0m\u001b[38;5;183m\u001b[38;5;147m-\u001b[0m\u001b[38;5;183m\u001b[38;5;147m-\u001b[0m\u001b[38;5;183m\u001b[38;5;147m-\u001b[0m\u001b[38;5;183m\u001b[38;5;147m-\u001b[0m\u001b[38;5;183m\u001b[38;5;147m-\u001b[0m\u001b[38;5;183m\u001b[38;5;147m-\u001b[0m\u001b[38;5;183m\u001b[38;5;147m-\u001b[0m\u001b[38;5;183m\u001b[38;5;147m-\u001b[0m\u001b[38;5;183m\u001b[38;5;147m-\u001b[0m\u001b[38;5;183m\u001b[38;5;219m+\u001b[0m\u001b[38;5;183m\u001b[38;5;147m-\u001b[0m\u001b[38;5;183m\u001b[38;5;147m-\u001b[0m\u001b[38;5;183m\u001b[38;5;147m-\u001b[0m\u001b[38;5;183m\u001b[38;5;147m-\u001b[0m\u001b[38;5;183m\u001b[38;5;147m-\u001b[0m\u001b[38;5;183m\u001b[38;5;147m-\u001b[0m\u001b[38;5;183m\u001b[38;5;147m-\u001b[0m\u001b[38;5;183m\u001b[38;5;147m-\u001b[0m\u001b[38;5;183m\u001b[38;5;147m-\u001b[0m\u001b[38;5;183m\u001b[38;5;147m-\u001b[0m\u001b[38;5;183m\u001b[38;5;147m-\u001b[0m\u001b[38;5;183m\u001b[38;5;147m-\u001b[0m\u001b[38;5;183m\u001b[38;5;147m-\u001b[0m\u001b[38;5;183m\u001b[38;5;147m-\u001b[0m\u001b[38;5;183m\u001b[38;5;147m-\u001b[0m\u001b[38;5;183m\u001b[38;5;147m-\u001b[0m\u001b[38;5;183m\u001b[38;5;147m-\u001b[0m\u001b[38;5;183m\u001b[38;5;147m-\u001b[0m\u001b[38;5;183m\u001b[38;5;147m-\u001b[0m\u001b[38;5;183m\u001b[38;5;147m-\u001b[0m\u001b[38;5;183m\u001b[38;5;147m-\u001b[0m\u001b[38;5;183m\u001b[38;5;147m-\u001b[0m\u001b[38;5;183m\u001b[38;5;147m-\u001b[0m\u001b[38;5;183m\u001b[38;5;147m-\u001b[0m\u001b[38;5;183m\u001b[38;5;147m-\u001b[0m\u001b[38;5;183m\u001b[38;5;147m-\u001b[0m\u001b[38;5;183m\u001b[38;5;147m-\u001b[0m\u001b[38;5;183m\u001b[38;5;147m-\u001b[0m\u001b[38;5;183m\u001b[38;5;147m-\u001b[0m\u001b[38;5;183m\u001b[38;5;147m-\u001b[0m\u001b[38;5;183m\u001b[38;5;219m+\u001b[0m\u001b[38;5;183m\u001b[38;5;147m-\u001b[0m\u001b[38;5;183m\u001b[38;5;147m-\u001b[0m\u001b[38;5;183m\u001b[38;5;147m-\u001b[0m\u001b[38;5;183m\u001b[38;5;147m-\u001b[0m\u001b[38;5;183m\u001b[38;5;147m-\u001b[0m\u001b[38;5;183m\u001b[38;5;147m-\u001b[0m\u001b[38;5;183m\u001b[38;5;147m-\u001b[0m\u001b[38;5;183m\u001b[38;5;147m-\u001b[0m\u001b[38;5;183m\u001b[38;5;147m-\u001b[0m\u001b[38;5;183m\u001b[38;5;147m-\u001b[0m\u001b[38;5;183m\u001b[38;5;147m-\u001b[0m\u001b[38;5;183m\u001b[38;5;147m-\u001b[0m\u001b[38;5;183m\u001b[38;5;147m-\u001b[0m\u001b[38;5;183m\u001b[38;5;147m-\u001b[0m\u001b[38;5;183m\u001b[38;5;147m-\u001b[0m\u001b[38;5;183m\u001b[38;5;147m-\u001b[0m\u001b[38;5;183m\u001b[38;5;147m-\u001b[0m\u001b[38;5;183m\u001b[38;5;147m-\u001b[0m\u001b[38;5;183m\u001b[38;5;147m-\u001b[0m\u001b[38;5;183m\u001b[38;5;147m-\u001b[0m\u001b[38;5;183m\u001b[38;5;147m-\u001b[0m\u001b[38;5;183m\u001b[38;5;219m+\u001b[0m\u001b[38;5;183m\u001b[38;5;147m-\u001b[0m\u001b[38;5;183m\u001b[38;5;147m-\u001b[0m\u001b[38;5;183m\u001b[38;5;147m-\u001b[0m\u001b[38;5;183m\u001b[38;5;147m-\u001b[0m\u001b[38;5;183m\u001b[38;5;147m-\u001b[0m\u001b[38;5;183m\u001b[38;5;147m-\u001b[0m\u001b[38;5;183m\u001b[38;5;147m-\u001b[0m\u001b[38;5;183m\u001b[38;5;147m-\u001b[0m\u001b[38;5;183m\u001b[38;5;147m-\u001b[0m\u001b[38;5;183m\u001b[38;5;147m-\u001b[0m\u001b[38;5;183m\u001b[38;5;147m-\u001b[0m\u001b[38;5;183m\u001b[38;5;147m-\u001b[0m\u001b[38;5;183m\u001b[38;5;147m-\u001b[0m\u001b[38;5;183m\u001b[38;5;147m-\u001b[0m\u001b[38;5;183m\u001b[38;5;147m-\u001b[0m\u001b[38;5;183m\u001b[38;5;147m-\u001b[0m\u001b[38;5;183m\u001b[38;5;147m-\u001b[0m\u001b[38;5;183m\u001b[38;5;147m-\u001b[0m\u001b[38;5;183m\u001b[38;5;147m-\u001b[0m\u001b[38;5;183m\u001b[38;5;147m-\u001b[0m\u001b[38;5;183m\u001b[38;5;147m-\u001b[0m\u001b[38;5;183m\u001b[38;5;219m+\u001b[0m\u001b[38;5;183m\u001b[38;5;147m-\u001b[0m\u001b[38;5;183m\u001b[38;5;147m-\u001b[0m\u001b[38;5;183m\u001b[38;5;147m-\u001b[0m\u001b[38;5;183m\u001b[38;5;147m-\u001b[0m\u001b[38;5;183m\u001b[38;5;147m-\u001b[0m\u001b[38;5;183m\u001b[38;5;147m-\u001b[0m\u001b[38;5;183m\u001b[38;5;147m-\u001b[0m\u001b[38;5;183m\u001b[38;5;147m-\u001b[0m\u001b[38;5;183m\u001b[38;5;147m-\u001b[0m\u001b[38;5;183m\u001b[38;5;147m-\u001b[0m\u001b[38;5;183m\u001b[38;5;147m-\u001b[0m\u001b[38;5;183m\u001b[38;5;147m-\u001b[0m\u001b[38;5;183m\u001b[38;5;147m-\u001b[0m\u001b[38;5;183m\u001b[38;5;147m-\u001b[0m\u001b[38;5;183m\u001b[38;5;147m-\u001b[0m\u001b[38;5;183m\u001b[38;5;147m-\u001b[0m\u001b[38;5;183m\u001b[38;5;147m-\u001b[0m\u001b[38;5;183m\u001b[38;5;147m-\u001b[0m\u001b[38;5;183m\u001b[38;5;147m-\u001b[0m\u001b[38;5;183m\u001b[38;5;147m-\u001b[0m\u001b[38;5;183m\u001b[38;5;147m-\u001b[0m\u001b[38;5;183m\u001b[38;5;219m+\u001b[0m\u001b[38;5;183m\u001b[38;5;147m-\u001b[0m\u001b[38;5;183m\u001b[38;5;147m-\u001b[0m\u001b[38;5;183m\u001b[38;5;147m-\u001b[0m\u001b[38;5;183m\u001b[38;5;147m-\u001b[0m\u001b[38;5;183m\u001b[38;5;147m-\u001b[0m\u001b[38;5;183m\u001b[38;5;147m-\u001b[0m\u001b[38;5;183m\u001b[38;5;147m-\u001b[0m\u001b[38;5;183m\u001b[38;5;147m-\u001b[0m\u001b[38;5;183m\u001b[38;5;147m-\u001b[0m\u001b[38;5;183m\u001b[38;5;147m-\u001b[0m\u001b[38;5;183m\u001b[38;5;147m-\u001b[0m\u001b[38;5;183m\u001b[38;5;147m-\u001b[0m\u001b[38;5;183m\u001b[38;5;147m-\u001b[0m\u001b[38;5;183m\u001b[38;5;147m-\u001b[0m\u001b[38;5;183m\u001b[38;5;147m-\u001b[0m\u001b[38;5;183m\u001b[38;5;147m-\u001b[0m\u001b[38;5;183m\u001b[38;5;147m-\u001b[0m\u001b[38;5;183m\u001b[38;5;147m-\u001b[0m\u001b[38;5;183m\u001b[38;5;147m-\u001b[0m\u001b[38;5;183m\u001b[38;5;147m-\u001b[0m\u001b[38;5;183m\u001b[38;5;147m-\u001b[0m\u001b[38;5;183m\u001b[38;5;219m+\u001b[0m\u001b[38;5;183m\u001b[38;5;147m-\u001b[0m\u001b[38;5;183m\u001b[38;5;147m-\u001b[0m\u001b[38;5;183m\u001b[38;5;147m-\u001b[0m\u001b[38;5;183m\u001b[38;5;147m-\u001b[0m\u001b[38;5;183m\u001b[38;5;147m-\u001b[0m\u001b[38;5;183m\u001b[38;5;147m-\u001b[0m\u001b[38;5;183m\u001b[38;5;147m-\u001b[0m\u001b[38;5;183m\u001b[38;5;147m-\u001b[0m\u001b[38;5;183m\u001b[38;5;147m-\u001b[0m\u001b[38;5;183m\u001b[38;5;147m-\u001b[0m\u001b[38;5;183m\u001b[38;5;147m-\u001b[0m\u001b[38;5;183m\u001b[38;5;147m-\u001b[0m\u001b[38;5;183m\u001b[38;5;147m-\u001b[0m\u001b[38;5;183m\u001b[38;5;147m-\u001b[0m\u001b[38;5;183m\u001b[38;5;147m-\u001b[0m\u001b[38;5;183m\u001b[38;5;147m-\u001b[0m\u001b[38;5;183m\u001b[38;5;147m-\u001b[0m\u001b[38;5;183m\u001b[38;5;147m-\u001b[0m\u001b[38;5;183m\u001b[38;5;147m-\u001b[0m\u001b[38;5;183m\u001b[38;5;147m-\u001b[0m\u001b[38;5;183m\u001b[38;5;219m+\u001b[0m\u001b[38;5;183m\n",
      "\u001b[35m|\u001b[0m\u001b[38;5;183m      Field 1      \u001b[35m|\u001b[0m\u001b[38;5;183m           Field 2            \u001b[35m|\u001b[0m\u001b[38;5;183m       Field 3       \u001b[35m|\u001b[0m\u001b[38;5;183m       Field 4       \u001b[35m|\u001b[0m\u001b[38;5;183m       Field 5       \u001b[35m|\u001b[0m\u001b[38;5;183m       Field 6       \u001b[35m|\u001b[0m\u001b[38;5;183m      Field 7       \u001b[35m|\u001b[0m\u001b[38;5;183m\n",
      "\u001b[38;5;219m+\u001b[0m\u001b[38;5;183m\u001b[38;5;147m-\u001b[0m\u001b[38;5;183m\u001b[38;5;147m-\u001b[0m\u001b[38;5;183m\u001b[38;5;147m-\u001b[0m\u001b[38;5;183m\u001b[38;5;147m-\u001b[0m\u001b[38;5;183m\u001b[38;5;147m-\u001b[0m\u001b[38;5;183m\u001b[38;5;147m-\u001b[0m\u001b[38;5;183m\u001b[38;5;147m-\u001b[0m\u001b[38;5;183m\u001b[38;5;147m-\u001b[0m\u001b[38;5;183m\u001b[38;5;147m-\u001b[0m\u001b[38;5;183m\u001b[38;5;147m-\u001b[0m\u001b[38;5;183m\u001b[38;5;147m-\u001b[0m\u001b[38;5;183m\u001b[38;5;147m-\u001b[0m\u001b[38;5;183m\u001b[38;5;147m-\u001b[0m\u001b[38;5;183m\u001b[38;5;147m-\u001b[0m\u001b[38;5;183m\u001b[38;5;147m-\u001b[0m\u001b[38;5;183m\u001b[38;5;147m-\u001b[0m\u001b[38;5;183m\u001b[38;5;147m-\u001b[0m\u001b[38;5;183m\u001b[38;5;147m-\u001b[0m\u001b[38;5;183m\u001b[38;5;147m-\u001b[0m\u001b[38;5;183m\u001b[38;5;219m+\u001b[0m\u001b[38;5;183m\u001b[38;5;147m-\u001b[0m\u001b[38;5;183m\u001b[38;5;147m-\u001b[0m\u001b[38;5;183m\u001b[38;5;147m-\u001b[0m\u001b[38;5;183m\u001b[38;5;147m-\u001b[0m\u001b[38;5;183m\u001b[38;5;147m-\u001b[0m\u001b[38;5;183m\u001b[38;5;147m-\u001b[0m\u001b[38;5;183m\u001b[38;5;147m-\u001b[0m\u001b[38;5;183m\u001b[38;5;147m-\u001b[0m\u001b[38;5;183m\u001b[38;5;147m-\u001b[0m\u001b[38;5;183m\u001b[38;5;147m-\u001b[0m\u001b[38;5;183m\u001b[38;5;147m-\u001b[0m\u001b[38;5;183m\u001b[38;5;147m-\u001b[0m\u001b[38;5;183m\u001b[38;5;147m-\u001b[0m\u001b[38;5;183m\u001b[38;5;147m-\u001b[0m\u001b[38;5;183m\u001b[38;5;147m-\u001b[0m\u001b[38;5;183m\u001b[38;5;147m-\u001b[0m\u001b[38;5;183m\u001b[38;5;147m-\u001b[0m\u001b[38;5;183m\u001b[38;5;147m-\u001b[0m\u001b[38;5;183m\u001b[38;5;147m-\u001b[0m\u001b[38;5;183m\u001b[38;5;147m-\u001b[0m\u001b[38;5;183m\u001b[38;5;147m-\u001b[0m\u001b[38;5;183m\u001b[38;5;147m-\u001b[0m\u001b[38;5;183m\u001b[38;5;147m-\u001b[0m\u001b[38;5;183m\u001b[38;5;147m-\u001b[0m\u001b[38;5;183m\u001b[38;5;147m-\u001b[0m\u001b[38;5;183m\u001b[38;5;147m-\u001b[0m\u001b[38;5;183m\u001b[38;5;147m-\u001b[0m\u001b[38;5;183m\u001b[38;5;147m-\u001b[0m\u001b[38;5;183m\u001b[38;5;147m-\u001b[0m\u001b[38;5;183m\u001b[38;5;147m-\u001b[0m\u001b[38;5;183m\u001b[38;5;219m+\u001b[0m\u001b[38;5;183m\u001b[38;5;147m-\u001b[0m\u001b[38;5;183m\u001b[38;5;147m-\u001b[0m\u001b[38;5;183m\u001b[38;5;147m-\u001b[0m\u001b[38;5;183m\u001b[38;5;147m-\u001b[0m\u001b[38;5;183m\u001b[38;5;147m-\u001b[0m\u001b[38;5;183m\u001b[38;5;147m-\u001b[0m\u001b[38;5;183m\u001b[38;5;147m-\u001b[0m\u001b[38;5;183m\u001b[38;5;147m-\u001b[0m\u001b[38;5;183m\u001b[38;5;147m-\u001b[0m\u001b[38;5;183m\u001b[38;5;147m-\u001b[0m\u001b[38;5;183m\u001b[38;5;147m-\u001b[0m\u001b[38;5;183m\u001b[38;5;147m-\u001b[0m\u001b[38;5;183m\u001b[38;5;147m-\u001b[0m\u001b[38;5;183m\u001b[38;5;147m-\u001b[0m\u001b[38;5;183m\u001b[38;5;147m-\u001b[0m\u001b[38;5;183m\u001b[38;5;147m-\u001b[0m\u001b[38;5;183m\u001b[38;5;147m-\u001b[0m\u001b[38;5;183m\u001b[38;5;147m-\u001b[0m\u001b[38;5;183m\u001b[38;5;147m-\u001b[0m\u001b[38;5;183m\u001b[38;5;147m-\u001b[0m\u001b[38;5;183m\u001b[38;5;147m-\u001b[0m\u001b[38;5;183m\u001b[38;5;219m+\u001b[0m\u001b[38;5;183m\u001b[38;5;147m-\u001b[0m\u001b[38;5;183m\u001b[38;5;147m-\u001b[0m\u001b[38;5;183m\u001b[38;5;147m-\u001b[0m\u001b[38;5;183m\u001b[38;5;147m-\u001b[0m\u001b[38;5;183m\u001b[38;5;147m-\u001b[0m\u001b[38;5;183m\u001b[38;5;147m-\u001b[0m\u001b[38;5;183m\u001b[38;5;147m-\u001b[0m\u001b[38;5;183m\u001b[38;5;147m-\u001b[0m\u001b[38;5;183m\u001b[38;5;147m-\u001b[0m\u001b[38;5;183m\u001b[38;5;147m-\u001b[0m\u001b[38;5;183m\u001b[38;5;147m-\u001b[0m\u001b[38;5;183m\u001b[38;5;147m-\u001b[0m\u001b[38;5;183m\u001b[38;5;147m-\u001b[0m\u001b[38;5;183m\u001b[38;5;147m-\u001b[0m\u001b[38;5;183m\u001b[38;5;147m-\u001b[0m\u001b[38;5;183m\u001b[38;5;147m-\u001b[0m\u001b[38;5;183m\u001b[38;5;147m-\u001b[0m\u001b[38;5;183m\u001b[38;5;147m-\u001b[0m\u001b[38;5;183m\u001b[38;5;147m-\u001b[0m\u001b[38;5;183m\u001b[38;5;147m-\u001b[0m\u001b[38;5;183m\u001b[38;5;147m-\u001b[0m\u001b[38;5;183m\u001b[38;5;219m+\u001b[0m\u001b[38;5;183m\u001b[38;5;147m-\u001b[0m\u001b[38;5;183m\u001b[38;5;147m-\u001b[0m\u001b[38;5;183m\u001b[38;5;147m-\u001b[0m\u001b[38;5;183m\u001b[38;5;147m-\u001b[0m\u001b[38;5;183m\u001b[38;5;147m-\u001b[0m\u001b[38;5;183m\u001b[38;5;147m-\u001b[0m\u001b[38;5;183m\u001b[38;5;147m-\u001b[0m\u001b[38;5;183m\u001b[38;5;147m-\u001b[0m\u001b[38;5;183m\u001b[38;5;147m-\u001b[0m\u001b[38;5;183m\u001b[38;5;147m-\u001b[0m\u001b[38;5;183m\u001b[38;5;147m-\u001b[0m\u001b[38;5;183m\u001b[38;5;147m-\u001b[0m\u001b[38;5;183m\u001b[38;5;147m-\u001b[0m\u001b[38;5;183m\u001b[38;5;147m-\u001b[0m\u001b[38;5;183m\u001b[38;5;147m-\u001b[0m\u001b[38;5;183m\u001b[38;5;147m-\u001b[0m\u001b[38;5;183m\u001b[38;5;147m-\u001b[0m\u001b[38;5;183m\u001b[38;5;147m-\u001b[0m\u001b[38;5;183m\u001b[38;5;147m-\u001b[0m\u001b[38;5;183m\u001b[38;5;147m-\u001b[0m\u001b[38;5;183m\u001b[38;5;147m-\u001b[0m\u001b[38;5;183m\u001b[38;5;219m+\u001b[0m\u001b[38;5;183m\u001b[38;5;147m-\u001b[0m\u001b[38;5;183m\u001b[38;5;147m-\u001b[0m\u001b[38;5;183m\u001b[38;5;147m-\u001b[0m\u001b[38;5;183m\u001b[38;5;147m-\u001b[0m\u001b[38;5;183m\u001b[38;5;147m-\u001b[0m\u001b[38;5;183m\u001b[38;5;147m-\u001b[0m\u001b[38;5;183m\u001b[38;5;147m-\u001b[0m\u001b[38;5;183m\u001b[38;5;147m-\u001b[0m\u001b[38;5;183m\u001b[38;5;147m-\u001b[0m\u001b[38;5;183m\u001b[38;5;147m-\u001b[0m\u001b[38;5;183m\u001b[38;5;147m-\u001b[0m\u001b[38;5;183m\u001b[38;5;147m-\u001b[0m\u001b[38;5;183m\u001b[38;5;147m-\u001b[0m\u001b[38;5;183m\u001b[38;5;147m-\u001b[0m\u001b[38;5;183m\u001b[38;5;147m-\u001b[0m\u001b[38;5;183m\u001b[38;5;147m-\u001b[0m\u001b[38;5;183m\u001b[38;5;147m-\u001b[0m\u001b[38;5;183m\u001b[38;5;147m-\u001b[0m\u001b[38;5;183m\u001b[38;5;147m-\u001b[0m\u001b[38;5;183m\u001b[38;5;147m-\u001b[0m\u001b[38;5;183m\u001b[38;5;147m-\u001b[0m\u001b[38;5;183m\u001b[38;5;219m+\u001b[0m\u001b[38;5;183m\u001b[38;5;147m-\u001b[0m\u001b[38;5;183m\u001b[38;5;147m-\u001b[0m\u001b[38;5;183m\u001b[38;5;147m-\u001b[0m\u001b[38;5;183m\u001b[38;5;147m-\u001b[0m\u001b[38;5;183m\u001b[38;5;147m-\u001b[0m\u001b[38;5;183m\u001b[38;5;147m-\u001b[0m\u001b[38;5;183m\u001b[38;5;147m-\u001b[0m\u001b[38;5;183m\u001b[38;5;147m-\u001b[0m\u001b[38;5;183m\u001b[38;5;147m-\u001b[0m\u001b[38;5;183m\u001b[38;5;147m-\u001b[0m\u001b[38;5;183m\u001b[38;5;147m-\u001b[0m\u001b[38;5;183m\u001b[38;5;147m-\u001b[0m\u001b[38;5;183m\u001b[38;5;147m-\u001b[0m\u001b[38;5;183m\u001b[38;5;147m-\u001b[0m\u001b[38;5;183m\u001b[38;5;147m-\u001b[0m\u001b[38;5;183m\u001b[38;5;147m-\u001b[0m\u001b[38;5;183m\u001b[38;5;147m-\u001b[0m\u001b[38;5;183m\u001b[38;5;147m-\u001b[0m\u001b[38;5;183m\u001b[38;5;147m-\u001b[0m\u001b[38;5;183m\u001b[38;5;147m-\u001b[0m\u001b[38;5;183m\u001b[38;5;219m+\u001b[0m\u001b[38;5;183m\n",
      "\u001b[35m|\u001b[0m\u001b[38;5;183m    LinearSVC_1    \u001b[35m|\u001b[0m\u001b[38;5;183m LinearSVC(C=0.5, dual=True)  \u001b[35m|\u001b[0m\u001b[38;5;183m  0.4015151515151515 \u001b[35m|\u001b[0m\u001b[38;5;183m  0.3675282375878585 \u001b[35m|\u001b[0m\u001b[38;5;183m 0.32678266848443743 \u001b[35m|\u001b[0m\u001b[38;5;183m 0.33041791592244285 \u001b[35m|\u001b[0m\u001b[38;5;183m 0.5837767124176025 \u001b[35m|\u001b[0m\u001b[38;5;183m\n",
      "\u001b[35m|\u001b[0m\u001b[38;5;183m    LinearSVC_2    \u001b[35m|\u001b[0m\u001b[38;5;183m LinearSVC(C=0.5, dual=False) \u001b[35m|\u001b[0m\u001b[38;5;183m  0.4016299357208448 \u001b[35m|\u001b[0m\u001b[38;5;183m  0.367597736130905  \u001b[35m|\u001b[0m\u001b[38;5;183m  0.3268630220400823 \u001b[35m|\u001b[0m\u001b[38;5;183m 0.33049526494391757 \u001b[35m|\u001b[0m\u001b[38;5;183m 13.850376605987549 \u001b[35m|\u001b[0m\u001b[38;5;183m\n",
      "\u001b[35m|\u001b[0m\u001b[38;5;183m    LinearSVC_3    \u001b[35m|\u001b[0m\u001b[38;5;183m     LinearSVC(dual=True)     \u001b[35m|\u001b[0m\u001b[38;5;183m 0.39084022038567495 \u001b[35m|\u001b[0m\u001b[38;5;183m 0.35037128961913117 \u001b[35m|\u001b[0m\u001b[38;5;183m 0.32739001143758795 \u001b[35m|\u001b[0m\u001b[38;5;183m 0.33158746650434306 \u001b[35m|\u001b[0m\u001b[38;5;183m 0.7393407821655273 \u001b[35m|\u001b[0m\u001b[38;5;183m\n",
      "\u001b[35m|\u001b[0m\u001b[38;5;183m    LinearSVC_4    \u001b[35m|\u001b[0m\u001b[38;5;183m    LinearSVC(dual=False)     \u001b[35m|\u001b[0m\u001b[38;5;183m 0.39084022038567495 \u001b[35m|\u001b[0m\u001b[38;5;183m 0.35037128961913117 \u001b[35m|\u001b[0m\u001b[38;5;183m 0.32739001143758795 \u001b[35m|\u001b[0m\u001b[38;5;183m 0.33158746650434306 \u001b[35m|\u001b[0m\u001b[38;5;183m 17.417688846588135 \u001b[35m|\u001b[0m\u001b[38;5;183m\n",
      "\u001b[35m|\u001b[0m\u001b[38;5;183m RidgeClassifier_1 \u001b[35m|\u001b[0m\u001b[38;5;183m      RidgeClassifier()       \u001b[35m|\u001b[0m\u001b[38;5;183m 0.40071166207529846 \u001b[35m|\u001b[0m\u001b[38;5;183m 0.36712988894680765 \u001b[35m|\u001b[0m\u001b[38;5;183m  0.3226741441661717 \u001b[35m|\u001b[0m\u001b[38;5;183m 0.32533608555420584 \u001b[35m|\u001b[0m\u001b[38;5;183m 7.651734828948975  \u001b[35m|\u001b[0m\u001b[38;5;183m\n",
      "\u001b[35m|\u001b[0m\u001b[38;5;183m RidgeClassifier_2 \u001b[35m|\u001b[0m\u001b[38;5;183m  RidgeClassifier(alpha=1.5)  \u001b[35m|\u001b[0m\u001b[38;5;183m 0.40415518824609736 \u001b[35m|\u001b[0m\u001b[38;5;183m 0.37666582053305897 \u001b[35m|\u001b[0m\u001b[38;5;183m  0.3182983868039636 \u001b[35m|\u001b[0m\u001b[38;5;183m 0.31864023227092353 \u001b[35m|\u001b[0m\u001b[38;5;183m 4.488845109939575  \u001b[35m|\u001b[0m\u001b[38;5;183m\n",
      "\u001b[35m|\u001b[0m\u001b[38;5;183m RidgeClassifier_3 \u001b[35m|\u001b[0m\u001b[38;5;183m   RidgeClassifier(alpha=2)   \u001b[35m|\u001b[0m\u001b[38;5;183m 0.40955004591368227 \u001b[35m|\u001b[0m\u001b[38;5;183m 0.38708959290273703 \u001b[35m|\u001b[0m\u001b[38;5;183m 0.31762231264091534 \u001b[35m|\u001b[0m\u001b[38;5;183m 0.31575875963581923 \u001b[35m|\u001b[0m\u001b[38;5;183m  6.57845664024353  \u001b[35m|\u001b[0m\u001b[38;5;183m\n",
      "\u001b[38;5;219m+\u001b[0m\u001b[38;5;183m\u001b[38;5;147m-\u001b[0m\u001b[38;5;183m\u001b[38;5;147m-\u001b[0m\u001b[38;5;183m\u001b[38;5;147m-\u001b[0m\u001b[38;5;183m\u001b[38;5;147m-\u001b[0m\u001b[38;5;183m\u001b[38;5;147m-\u001b[0m\u001b[38;5;183m\u001b[38;5;147m-\u001b[0m\u001b[38;5;183m\u001b[38;5;147m-\u001b[0m\u001b[38;5;183m\u001b[38;5;147m-\u001b[0m\u001b[38;5;183m\u001b[38;5;147m-\u001b[0m\u001b[38;5;183m\u001b[38;5;147m-\u001b[0m\u001b[38;5;183m\u001b[38;5;147m-\u001b[0m\u001b[38;5;183m\u001b[38;5;147m-\u001b[0m\u001b[38;5;183m\u001b[38;5;147m-\u001b[0m\u001b[38;5;183m\u001b[38;5;147m-\u001b[0m\u001b[38;5;183m\u001b[38;5;147m-\u001b[0m\u001b[38;5;183m\u001b[38;5;147m-\u001b[0m\u001b[38;5;183m\u001b[38;5;147m-\u001b[0m\u001b[38;5;183m\u001b[38;5;147m-\u001b[0m\u001b[38;5;183m\u001b[38;5;147m-\u001b[0m\u001b[38;5;183m\u001b[38;5;219m+\u001b[0m\u001b[38;5;183m\u001b[38;5;147m-\u001b[0m\u001b[38;5;183m\u001b[38;5;147m-\u001b[0m\u001b[38;5;183m\u001b[38;5;147m-\u001b[0m\u001b[38;5;183m\u001b[38;5;147m-\u001b[0m\u001b[38;5;183m\u001b[38;5;147m-\u001b[0m\u001b[38;5;183m\u001b[38;5;147m-\u001b[0m\u001b[38;5;183m\u001b[38;5;147m-\u001b[0m\u001b[38;5;183m\u001b[38;5;147m-\u001b[0m\u001b[38;5;183m\u001b[38;5;147m-\u001b[0m\u001b[38;5;183m\u001b[38;5;147m-\u001b[0m\u001b[38;5;183m\u001b[38;5;147m-\u001b[0m\u001b[38;5;183m\u001b[38;5;147m-\u001b[0m\u001b[38;5;183m\u001b[38;5;147m-\u001b[0m\u001b[38;5;183m\u001b[38;5;147m-\u001b[0m\u001b[38;5;183m\u001b[38;5;147m-\u001b[0m\u001b[38;5;183m\u001b[38;5;147m-\u001b[0m\u001b[38;5;183m\u001b[38;5;147m-\u001b[0m\u001b[38;5;183m\u001b[38;5;147m-\u001b[0m\u001b[38;5;183m\u001b[38;5;147m-\u001b[0m\u001b[38;5;183m\u001b[38;5;147m-\u001b[0m\u001b[38;5;183m\u001b[38;5;147m-\u001b[0m\u001b[38;5;183m\u001b[38;5;147m-\u001b[0m\u001b[38;5;183m\u001b[38;5;147m-\u001b[0m\u001b[38;5;183m\u001b[38;5;147m-\u001b[0m\u001b[38;5;183m\u001b[38;5;147m-\u001b[0m\u001b[38;5;183m\u001b[38;5;147m-\u001b[0m\u001b[38;5;183m\u001b[38;5;147m-\u001b[0m\u001b[38;5;183m\u001b[38;5;147m-\u001b[0m\u001b[38;5;183m\u001b[38;5;147m-\u001b[0m\u001b[38;5;183m\u001b[38;5;147m-\u001b[0m\u001b[38;5;183m\u001b[38;5;219m+\u001b[0m\u001b[38;5;183m\u001b[38;5;147m-\u001b[0m\u001b[38;5;183m\u001b[38;5;147m-\u001b[0m\u001b[38;5;183m\u001b[38;5;147m-\u001b[0m\u001b[38;5;183m\u001b[38;5;147m-\u001b[0m\u001b[38;5;183m\u001b[38;5;147m-\u001b[0m\u001b[38;5;183m\u001b[38;5;147m-\u001b[0m\u001b[38;5;183m\u001b[38;5;147m-\u001b[0m\u001b[38;5;183m\u001b[38;5;147m-\u001b[0m\u001b[38;5;183m\u001b[38;5;147m-\u001b[0m\u001b[38;5;183m\u001b[38;5;147m-\u001b[0m\u001b[38;5;183m\u001b[38;5;147m-\u001b[0m\u001b[38;5;183m\u001b[38;5;147m-\u001b[0m\u001b[38;5;183m\u001b[38;5;147m-\u001b[0m\u001b[38;5;183m\u001b[38;5;147m-\u001b[0m\u001b[38;5;183m\u001b[38;5;147m-\u001b[0m\u001b[38;5;183m\u001b[38;5;147m-\u001b[0m\u001b[38;5;183m\u001b[38;5;147m-\u001b[0m\u001b[38;5;183m\u001b[38;5;147m-\u001b[0m\u001b[38;5;183m\u001b[38;5;147m-\u001b[0m\u001b[38;5;183m\u001b[38;5;147m-\u001b[0m\u001b[38;5;183m\u001b[38;5;147m-\u001b[0m\u001b[38;5;183m\u001b[38;5;219m+\u001b[0m\u001b[38;5;183m\u001b[38;5;147m-\u001b[0m\u001b[38;5;183m\u001b[38;5;147m-\u001b[0m\u001b[38;5;183m\u001b[38;5;147m-\u001b[0m\u001b[38;5;183m\u001b[38;5;147m-\u001b[0m\u001b[38;5;183m\u001b[38;5;147m-\u001b[0m\u001b[38;5;183m\u001b[38;5;147m-\u001b[0m\u001b[38;5;183m\u001b[38;5;147m-\u001b[0m\u001b[38;5;183m\u001b[38;5;147m-\u001b[0m\u001b[38;5;183m\u001b[38;5;147m-\u001b[0m\u001b[38;5;183m\u001b[38;5;147m-\u001b[0m\u001b[38;5;183m\u001b[38;5;147m-\u001b[0m\u001b[38;5;183m\u001b[38;5;147m-\u001b[0m\u001b[38;5;183m\u001b[38;5;147m-\u001b[0m\u001b[38;5;183m\u001b[38;5;147m-\u001b[0m\u001b[38;5;183m\u001b[38;5;147m-\u001b[0m\u001b[38;5;183m\u001b[38;5;147m-\u001b[0m\u001b[38;5;183m\u001b[38;5;147m-\u001b[0m\u001b[38;5;183m\u001b[38;5;147m-\u001b[0m\u001b[38;5;183m\u001b[38;5;147m-\u001b[0m\u001b[38;5;183m\u001b[38;5;147m-\u001b[0m\u001b[38;5;183m\u001b[38;5;147m-\u001b[0m\u001b[38;5;183m\u001b[38;5;219m+\u001b[0m\u001b[38;5;183m\u001b[38;5;147m-\u001b[0m\u001b[38;5;183m\u001b[38;5;147m-\u001b[0m\u001b[38;5;183m\u001b[38;5;147m-\u001b[0m\u001b[38;5;183m\u001b[38;5;147m-\u001b[0m\u001b[38;5;183m\u001b[38;5;147m-\u001b[0m\u001b[38;5;183m\u001b[38;5;147m-\u001b[0m\u001b[38;5;183m\u001b[38;5;147m-\u001b[0m\u001b[38;5;183m\u001b[38;5;147m-\u001b[0m\u001b[38;5;183m\u001b[38;5;147m-\u001b[0m\u001b[38;5;183m\u001b[38;5;147m-\u001b[0m\u001b[38;5;183m\u001b[38;5;147m-\u001b[0m\u001b[38;5;183m\u001b[38;5;147m-\u001b[0m\u001b[38;5;183m\u001b[38;5;147m-\u001b[0m\u001b[38;5;183m\u001b[38;5;147m-\u001b[0m\u001b[38;5;183m\u001b[38;5;147m-\u001b[0m\u001b[38;5;183m\u001b[38;5;147m-\u001b[0m\u001b[38;5;183m\u001b[38;5;147m-\u001b[0m\u001b[38;5;183m\u001b[38;5;147m-\u001b[0m\u001b[38;5;183m\u001b[38;5;147m-\u001b[0m\u001b[38;5;183m\u001b[38;5;147m-\u001b[0m\u001b[38;5;183m\u001b[38;5;147m-\u001b[0m\u001b[38;5;183m\u001b[38;5;219m+\u001b[0m\u001b[38;5;183m\u001b[38;5;147m-\u001b[0m\u001b[38;5;183m\u001b[38;5;147m-\u001b[0m\u001b[38;5;183m\u001b[38;5;147m-\u001b[0m\u001b[38;5;183m\u001b[38;5;147m-\u001b[0m\u001b[38;5;183m\u001b[38;5;147m-\u001b[0m\u001b[38;5;183m\u001b[38;5;147m-\u001b[0m\u001b[38;5;183m\u001b[38;5;147m-\u001b[0m\u001b[38;5;183m\u001b[38;5;147m-\u001b[0m\u001b[38;5;183m\u001b[38;5;147m-\u001b[0m\u001b[38;5;183m\u001b[38;5;147m-\u001b[0m\u001b[38;5;183m\u001b[38;5;147m-\u001b[0m\u001b[38;5;183m\u001b[38;5;147m-\u001b[0m\u001b[38;5;183m\u001b[38;5;147m-\u001b[0m\u001b[38;5;183m\u001b[38;5;147m-\u001b[0m\u001b[38;5;183m\u001b[38;5;147m-\u001b[0m\u001b[38;5;183m\u001b[38;5;147m-\u001b[0m\u001b[38;5;183m\u001b[38;5;147m-\u001b[0m\u001b[38;5;183m\u001b[38;5;147m-\u001b[0m\u001b[38;5;183m\u001b[38;5;147m-\u001b[0m\u001b[38;5;183m\u001b[38;5;147m-\u001b[0m\u001b[38;5;183m\u001b[38;5;147m-\u001b[0m\u001b[38;5;183m\u001b[38;5;219m+\u001b[0m\u001b[38;5;183m\u001b[38;5;147m-\u001b[0m\u001b[38;5;183m\u001b[38;5;147m-\u001b[0m\u001b[38;5;183m\u001b[38;5;147m-\u001b[0m\u001b[38;5;183m\u001b[38;5;147m-\u001b[0m\u001b[38;5;183m\u001b[38;5;147m-\u001b[0m\u001b[38;5;183m\u001b[38;5;147m-\u001b[0m\u001b[38;5;183m\u001b[38;5;147m-\u001b[0m\u001b[38;5;183m\u001b[38;5;147m-\u001b[0m\u001b[38;5;183m\u001b[38;5;147m-\u001b[0m\u001b[38;5;183m\u001b[38;5;147m-\u001b[0m\u001b[38;5;183m\u001b[38;5;147m-\u001b[0m\u001b[38;5;183m\u001b[38;5;147m-\u001b[0m\u001b[38;5;183m\u001b[38;5;147m-\u001b[0m\u001b[38;5;183m\u001b[38;5;147m-\u001b[0m\u001b[38;5;183m\u001b[38;5;147m-\u001b[0m\u001b[38;5;183m\u001b[38;5;147m-\u001b[0m\u001b[38;5;183m\u001b[38;5;147m-\u001b[0m\u001b[38;5;183m\u001b[38;5;147m-\u001b[0m\u001b[38;5;183m\u001b[38;5;147m-\u001b[0m\u001b[38;5;183m\u001b[38;5;147m-\u001b[0m\u001b[38;5;183m\u001b[38;5;219m+\u001b[0m\u001b[38;5;183m\u001b[0m\n"
     ]
    }
   ],
   "source": [
    "##### POUR VISUALISER TOUS LES RÉSULTADOS ! #####\n",
    "from prettytable import PrettyTable\n",
    "def table_results(models):\n",
    "\n",
    "    bests_of_the_bests = PrettyTable([\"Model\", \"hyperparametres\", \"Accuracy\", \"Precision\", \"Recall\", \"F1-Score\", \"Running Time\"], theme=Themes.LAVENDER)\n",
    "    bests_of_the_bests = ColorTable(theme=Themes.LAVENDER)\n",
    "    \n",
    "    for model_obj in models:\n",
    "        if \"accuracy\" in model_obj.scores.keys():\n",
    "            bests_of_the_bests.add_row([model_obj.name, model_obj.model, model_obj.scores[\"accuracy\"], model_obj.scores[\"macro avg\"][\"precision\"], model_obj.scores[\"macro avg\"][\"recall\"], model_obj.scores[\"macro avg\"][\"f1-score\"], model_obj.running_time])\n",
    "\n",
    "    return bests_of_the_bests\n",
    "\n",
    "print(table_results(Model.all_models))"
   ]
  },
  {
   "cell_type": "markdown",
   "metadata": {},
   "source": [
    "<a id=\"a-choix-des-algorithmes\"></a>\n",
    "## **A. Choix des algorithmes**"
   ]
  },
  {
   "cell_type": "markdown",
   "metadata": {},
   "source": [
    "<a id=\"b-organisation-de-la-comparaison\"></a>\n",
    "## **B. Organisation de la comparaison**"
   ]
  },
  {
   "cell_type": "markdown",
   "metadata": {},
   "source": [
    "# ICI FAIRE LES STARTÉGIE\n",
    "# POUR FRRANAÇSI4\n",
    "# VOTING CLASSIFIER ET LES LANGUES"
   ]
  },
  {
   "cell_type": "markdown",
   "metadata": {},
   "source": [
    "<a id=\"4-stratégies-damélioration\"></a>\n",
    "# **4 - Stratégies d'amélioration**"
   ]
  },
  {
   "cell_type": "markdown",
   "metadata": {},
   "source": []
  },
  {
   "cell_type": "markdown",
   "metadata": {},
   "source": [
    "<a id=\"5-évaluation-des-modèles\"></a>\n",
    "# **5 - Évaluation des modèles**"
   ]
  },
  {
   "cell_type": "markdown",
   "metadata": {},
   "source": [
    "<a id=\"a-métriques-dévaluation\"></a>\n",
    "## **A. Métriques d'évaluation**"
   ]
  },
  {
   "cell_type": "markdown",
   "metadata": {},
   "source": []
  },
  {
   "cell_type": "markdown",
   "metadata": {},
   "source": [
    "<a id=\"b-analyse-des-résultats\"></a>\n",
    "## **B. Analyse des résultats**"
   ]
  },
  {
   "cell_type": "markdown",
   "metadata": {},
   "source": []
  }
 ],
 "metadata": {
  "kernelspec": {
   "display_name": "deft09",
   "language": "python",
   "name": "python3"
  },
  "language_info": {
   "codemirror_mode": {
    "name": "ipython",
    "version": 3
   },
   "file_extension": ".py",
   "mimetype": "text/x-python",
   "name": "python",
   "nbconvert_exporter": "python",
   "pygments_lexer": "ipython3",
   "version": "3.12.3"
  }
 },
 "nbformat": 4,
 "nbformat_minor": 2
}
