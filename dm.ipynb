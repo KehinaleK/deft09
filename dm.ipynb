{
 "cells": [
  {
   "cell_type": "code",
   "execution_count": 1,
   "metadata": {},
   "outputs": [],
   "source": [
    "# === Parsing des fichiers XML ===\n",
    "from bs4 import BeautifulSoup\n",
    "\n",
    "# === Préparation de données ===\n",
    "import pandas as pd\n",
    "import numpy as np\n",
    "\n",
    "# === Visualisation ===\n",
    "import matplotlib.pyplot as plt\n",
    "\n",
    "# === Traitement de texte ===\n",
    "import spacy\n",
    "import re\n",
    "import nltk\n",
    "from nltk.corpus import stopwords\n",
    "from nltk.tokenize import word_tokenize\n",
    "from sklearn.feature_extraction.text import TfidfVectorizer, CountVectorizer, HashingVectorizer\n",
    "\n",
    "# === Classification et machine learning ===\n",
    "from sklearn.linear_model import LogisticRegression, RidgeClassifier, SGDClassifier, Perceptron\n",
    "from sklearn.naive_bayes import MultinomialNB, ComplementNB\n",
    "from sklearn.neighbors import KNeighborsClassifier\n",
    "from sklearn.svm import LinearSVC, SVC\n",
    "from sklearn.ensemble import RandomForestClassifier, VotingClassifier\n",
    "from lightgbm import LGBMClassifier\n",
    "\n",
    "# === Évaluation des modèles ===\n",
    "from sklearn.model_selection import cross_val_score\n",
    "from sklearn.metrics import accuracy_score, classification_report\n",
    "\n",
    "# === Autre ===\n",
    "import prettytable\n",
    "from prettytable.colortable import ColorTable, Themes\n",
    "from itertools import product\n",
    "import time"
   ]
  },
  {
   "cell_type": "markdown",
   "metadata": {},
   "source": [
    "# Explications des données"
   ]
  },
  {
   "cell_type": "markdown",
   "metadata": {},
   "source": [
    "On a installé sur le site du [DEFT 2009](https://deft.lisn.upsaclay.fr/) les données pour réaliser la tâche 3 qui est la suivante :\n",
    "- entraîner un modèle qui détermine automatiquement le parti politique d’appartenance de chaque intervenant dans le corpus parlementaire."
   ]
  },
  {
   "cell_type": "markdown",
   "metadata": {},
   "source": [
    "Il y a en tout 5 classes qui correspondent aux différents partis politiques : \n",
    "| Classe (groupe)      | Orientation politique       | Thématiques principales                                   |\n",
    "|--------------|-----------------------------|----------------------------------------------------------|\n",
    "| **Verts-ALE** | Écologistes et régionalistes | Environnement, droits des minorités, économie durable    |\n",
    "| **GUE/NGL**   | Gauche radicale             | Justice sociale, opposition à l'austérité, droits des travailleurs |\n",
    "| **PSE**       | Social-démocrates           | Réduction des inégalités, protection sociale, intégration européenne |\n",
    "| **ELDR**      | Libéraux                   | Libre marché, libertés individuelles, droits de l'homme  |\n",
    "| **PPE-DE**    | Conservateurs              | Économie sociale de marché, valeurs chrétiennes, sécurité |\n"
   ]
  },
  {
   "cell_type": "markdown",
   "metadata": {},
   "source": [
    "Notre corpus est multilingue, c'est-à-dire qu'il contient plusieurs langues différentes telles que le français, l'anglais et l'italien. C'est donc un corpus parallèle et comparable auquel nous avons affaire. "
   ]
  },
  {
   "cell_type": "markdown",
   "metadata": {},
   "source": [
    "# Extraction des données"
   ]
  },
  {
   "cell_type": "markdown",
   "metadata": {},
   "source": [
    "Les données que nous avons téléchargé sur le site sont en format xml, il va donc nous falloir les parser pour les récolter. Pour cela, nous allons utilisé la librairie BeautifulSoup. Après avoir ouvert les fichiers et analysé les différentes balises pour pouvoir les extraire : texte, id, valeur (label) et confiance et nombre (demandez à K moi non plus je sais pas)."
   ]
  },
  {
   "cell_type": "code",
   "execution_count": 2,
   "metadata": {},
   "outputs": [],
   "source": [
    "def get_xml_content(file):\n",
    "    \"\"\" On se préparer à parser les fichiers xml\"\"\"\n",
    "    with open(file, \"r\") as f:\n",
    "        soup = BeautifulSoup(f, \"xml\")\n",
    "        \n",
    "    return soup"
   ]
  },
  {
   "cell_type": "code",
   "execution_count": 3,
   "metadata": {},
   "outputs": [],
   "source": [
    "def extract_train_info(doc):\n",
    "    \"\"\" On extrait les différentes balises\"\"\"\n",
    "    doc_dico = {}\n",
    "\n",
    "    # Extraire l'id\n",
    "    doc_id = doc.get(\"id\")\n",
    "    doc_dico[\"id\"] = doc_id\n",
    "\n",
    "    # Extraire les label (ou valeur)\n",
    "    parti = evaluation_parti.find(\"PARTI\")\n",
    "    doc_dico[\"valeur\"] = parti.get(\"valeur\")\n",
    "\n",
    "   # Extraire le nombre et la confiance\n",
    "    evaluation = doc.find(\"EVALUATION\")\n",
    "    evaluation_parti = evaluation.find(\"EVAL_PARTI\")\n",
    "    doc_dico[\"nombre\"] = evaluation_parti.get(\"nombre\")\n",
    "    doc_dico[\"confiance\"] = parti.get(\"confiance\")\n",
    "\n",
    "    # Extraire le texte\n",
    "    texte = doc.find(\"p\")\n",
    "    doc_dico[\"texte\"] = texte.text\n",
    "\n",
    "    return doc_dico"
   ]
  },
  {
   "cell_type": "code",
   "execution_count": 4,
   "metadata": {},
   "outputs": [],
   "source": [
    "def get_test_labels(file):\n",
    "    \n",
    "    with open(file, \"r\") as f:\n",
    "        lines = f.readlines()\n",
    "\n",
    "    lines = [line.split(\"\\t\") for line in lines]\n",
    "    labels = {line[0]: line[1].strip() for line in lines}\n",
    "\n",
    "    return labels"
   ]
  },
  {
   "cell_type": "markdown",
   "metadata": {},
   "source": [
    "J'ai remarqué plus tard que deux textes de l'ensemble de test n'avaient pas de labels"
   ]
  },
  {
   "cell_type": "code",
   "execution_count": 5,
   "metadata": {},
   "outputs": [
    {
     "name": "stdout",
     "output_type": "stream",
     "text": [
      "1175\n",
      "4574\n"
     ]
    }
   ],
   "source": [
    "labels = get_test_labels(\"data/ref/deft09_parlement_ref_fr.txt\")\n",
    "for key, value in labels.items():\n",
    "    if value == \"\":\n",
    "        print(key)"
   ]
  },
  {
   "cell_type": "markdown",
   "metadata": {},
   "source": [
    "Je fais donc en sorte lorsque j'obtiens la df que si la valeur est égale à \"\" alors je ne prends pas le texte en compte."
   ]
  },
  {
   "cell_type": "code",
   "execution_count": 6,
   "metadata": {},
   "outputs": [],
   "source": [
    "def extract_test_info(doc):\n",
    "\n",
    "    doc_dico = {}\n",
    "\n",
    "    doc_id = doc.get(\"id\")\n",
    "    doc_dico[\"id\"] = doc_id\n",
    "\n",
    "    texte = doc.find(\"p\")\n",
    "    doc_dico[\"texte\"] = texte.text\n",
    "\n",
    "    return doc_dico"
   ]
  },
  {
   "cell_type": "code",
   "execution_count": 7,
   "metadata": {},
   "outputs": [],
   "source": [
    "def get_train_and_test_df(train_file, test_file, ref_file):\n",
    "\n",
    "    soup_train = get_xml_content(train_file)\n",
    "    soup_test = get_xml_content(test_file)\n",
    "\n",
    "    test_labels = get_test_labels(ref_file)\n",
    "\n",
    "    all_docs = []\n",
    "    for doc in soup_train.find_all(\"doc\"):\n",
    "        doc_dico = extract_train_info(doc)\n",
    "        all_docs.append(doc_dico)\n",
    "    \n",
    "    df_train = pd.DataFrame(all_docs)\n",
    "\n",
    "    all_docs = []\n",
    "    for doc in soup_test.find_all(\"doc\"):\n",
    "        doc_dico = extract_test_info(doc)\n",
    "        if test_labels[doc_dico[\"id\"]] == \"\": # pour les deux textes sans label dans le fichier de référence\n",
    "            continue\n",
    "        doc_dico[\"valeur\"] = test_labels[doc_dico[\"id\"]]\n",
    "        all_docs.append(doc_dico)\n",
    "\n",
    "    df_test = pd.DataFrame(all_docs)\n",
    "    \n",
    "    return df_train, df_test"
   ]
  },
  {
   "cell_type": "code",
   "execution_count": 8,
   "metadata": {},
   "outputs": [
    {
     "ename": "UnboundLocalError",
     "evalue": "cannot access local variable 'evaluation_parti' where it is not associated with a value",
     "output_type": "error",
     "traceback": [
      "\u001b[0;31m---------------------------------------------------------------------------\u001b[0m",
      "\u001b[0;31mUnboundLocalError\u001b[0m                         Traceback (most recent call last)",
      "Cell \u001b[0;32mIn[8], line 1\u001b[0m\n\u001b[0;32m----> 1\u001b[0m df_train, df_test \u001b[38;5;241m=\u001b[39m \u001b[43mget_train_and_test_df\u001b[49m\u001b[43m(\u001b[49m\u001b[38;5;124;43m\"\u001b[39;49m\u001b[38;5;124;43mdata/train/deft09_parlement_appr_fr.xml\u001b[39;49m\u001b[38;5;124;43m\"\u001b[39;49m\u001b[43m,\u001b[49m\u001b[43m \u001b[49m\u001b[38;5;124;43m\"\u001b[39;49m\u001b[38;5;124;43mdata/test/deft09_parlement_test_fr.xml\u001b[39;49m\u001b[38;5;124;43m\"\u001b[39;49m\u001b[43m,\u001b[49m\u001b[43m \u001b[49m\u001b[38;5;124;43m\"\u001b[39;49m\u001b[38;5;124;43mdata/ref/deft09_parlement_ref_fr.txt\u001b[39;49m\u001b[38;5;124;43m\"\u001b[39;49m\u001b[43m)\u001b[49m\n",
      "Cell \u001b[0;32mIn[7], line 10\u001b[0m, in \u001b[0;36mget_train_and_test_df\u001b[0;34m(train_file, test_file, ref_file)\u001b[0m\n\u001b[1;32m      8\u001b[0m all_docs \u001b[38;5;241m=\u001b[39m []\n\u001b[1;32m      9\u001b[0m \u001b[38;5;28;01mfor\u001b[39;00m doc \u001b[38;5;129;01min\u001b[39;00m soup_train\u001b[38;5;241m.\u001b[39mfind_all(\u001b[38;5;124m\"\u001b[39m\u001b[38;5;124mdoc\u001b[39m\u001b[38;5;124m\"\u001b[39m):\n\u001b[0;32m---> 10\u001b[0m     doc_dico \u001b[38;5;241m=\u001b[39m \u001b[43mextract_train_info\u001b[49m\u001b[43m(\u001b[49m\u001b[43mdoc\u001b[49m\u001b[43m)\u001b[49m\n\u001b[1;32m     11\u001b[0m     all_docs\u001b[38;5;241m.\u001b[39mappend(doc_dico)\n\u001b[1;32m     13\u001b[0m df_train \u001b[38;5;241m=\u001b[39m pd\u001b[38;5;241m.\u001b[39mDataFrame(all_docs)\n",
      "Cell \u001b[0;32mIn[3], line 10\u001b[0m, in \u001b[0;36mextract_train_info\u001b[0;34m(doc)\u001b[0m\n\u001b[1;32m      7\u001b[0m  doc_dico[\u001b[38;5;124m\"\u001b[39m\u001b[38;5;124mid\u001b[39m\u001b[38;5;124m\"\u001b[39m] \u001b[38;5;241m=\u001b[39m doc_id\n\u001b[1;32m      9\u001b[0m  \u001b[38;5;66;03m# Extraire les label (ou valeur)\u001b[39;00m\n\u001b[0;32m---> 10\u001b[0m  parti \u001b[38;5;241m=\u001b[39m \u001b[43mevaluation_parti\u001b[49m\u001b[38;5;241m.\u001b[39mfind(\u001b[38;5;124m\"\u001b[39m\u001b[38;5;124mPARTI\u001b[39m\u001b[38;5;124m\"\u001b[39m)\n\u001b[1;32m     11\u001b[0m  doc_dico[\u001b[38;5;124m\"\u001b[39m\u001b[38;5;124mvaleur\u001b[39m\u001b[38;5;124m\"\u001b[39m] \u001b[38;5;241m=\u001b[39m parti\u001b[38;5;241m.\u001b[39mget(\u001b[38;5;124m\"\u001b[39m\u001b[38;5;124mvaleur\u001b[39m\u001b[38;5;124m\"\u001b[39m)\n\u001b[1;32m     13\u001b[0m \u001b[38;5;66;03m# Extraire le nombre et la confiance\u001b[39;00m\n",
      "\u001b[0;31mUnboundLocalError\u001b[0m: cannot access local variable 'evaluation_parti' where it is not associated with a value"
     ]
    }
   ],
   "source": [
    "df_train, df_test = get_train_and_test_df(\"data/train/deft09_parlement_appr_fr.xml\", \"data/test/deft09_parlement_test_fr.xml\", \"data/ref/deft09_parlement_ref_fr.txt\")"
   ]
  },
  {
   "cell_type": "markdown",
   "metadata": {},
   "source": [
    "### Test pour la visu"
   ]
  },
  {
   "cell_type": "code",
   "execution_count": 51,
   "metadata": {},
   "outputs": [],
   "source": [
    "def preparer_distributions_classes(df_train, df_test):\n",
    "    \"\"\" Fonction pour préparer les données et pas les répéter 2 fois \"\"\"\n",
    "    train_counts = df_train[\"valeur\"].value_counts()\n",
    "    test_counts = df_test[\"valeur\"].value_counts()\n",
    "\n",
    "    ################################################\n",
    "    #  changer valeur par label pour la cohérence  #\n",
    "    ################################################\n",
    "\n",
    "    classes = list(set(train_counts.index).union(set(test_counts.index)))\n",
    "\n",
    "    # on met 0 si y'a pas de classe\n",
    "    train_values = np.array([train_counts.get(cls, 0) for cls in classes])\n",
    "    test_values = np.array([test_counts.get(cls, 0) for cls in classes])\n",
    "\n",
    "    return classes, train_values, test_values"
   ]
  },
  {
   "cell_type": "code",
   "execution_count": 52,
   "metadata": {},
   "outputs": [
    {
     "data": {
      "image/png": "[encoded data removed]",
      "text/plain": [
       "<Figure size 1000x600 with 1 Axes>"
      ]
     },
     "metadata": {},
     "output_type": "display_data"
    }
   ],
   "source": [
    "def distribution_des_classes(df_train, df_test):\n",
    "    \"\"\" On affiche le plot des distributions des classes\"\"\"\n",
    "    classes, train_values, test_values = preparer_distributions_classes(df_train, df_test)\n",
    "\n",
    "    x = np.arange(len(classes))\n",
    "    width = 0.40\n",
    "\n",
    "    fig, ax = plt.subplots(figsize=(10, 6))\n",
    "    ax.bar(x - width/2, train_values, width, label=\"Données train\", color=\"orchid\")\n",
    "    ax.bar(x + width/2, test_values, width, label=\"Données test\", color=\"pink\")\n",
    "\n",
    "    ax.set_xlabel(\"Classes (noms des partis politiques)\")\n",
    "    ax.set_ylabel(\"Nombre d'exemples\")\n",
    "    ax.set_title(\"Distribution des classes dans train et test\")\n",
    "    ax.set_xticks(x)\n",
    "    ax.set_xticklabels(classes, rotation=45)\n",
    "    ax.legend()\n",
    "\n",
    "    plt.tight_layout()\n",
    "    plt.show()\n",
    "\n",
    "distribution_des_classes(df_train, df_test)"
   ]
  },
  {
   "cell_type": "code",
   "execution_count": null,
   "metadata": {},
   "outputs": [
    {
     "name": "stdout",
     "output_type": "stream",
     "text": [
      "Pourcentage de la part du test\n",
      "==============================\n",
      "\u001b[38;5;219m+\u001b[0m\u001b[38;5;183m\u001b[38;5;147m-\u001b[0m\u001b[38;5;183m\u001b[38;5;147m-\u001b[0m\u001b[38;5;183m\u001b[38;5;147m-\u001b[0m\u001b[38;5;183m\u001b[38;5;147m-\u001b[0m\u001b[38;5;183m\u001b[38;5;147m-\u001b[0m\u001b[38;5;183m\u001b[38;5;147m-\u001b[0m\u001b[38;5;183m\u001b[38;5;147m-\u001b[0m\u001b[38;5;183m\u001b[38;5;147m-\u001b[0m\u001b[38;5;183m\u001b[38;5;147m-\u001b[0m\u001b[38;5;183m\u001b[38;5;147m-\u001b[0m\u001b[38;5;183m\u001b[38;5;147m-\u001b[0m\u001b[38;5;183m\u001b[38;5;219m+\u001b[0m\u001b[38;5;183m\u001b[38;5;147m-\u001b[0m\u001b[38;5;183m\u001b[38;5;147m-\u001b[0m\u001b[38;5;183m\u001b[38;5;147m-\u001b[0m\u001b[38;5;183m\u001b[38;5;147m-\u001b[0m\u001b[38;5;183m\u001b[38;5;147m-\u001b[0m\u001b[38;5;183m\u001b[38;5;147m-\u001b[0m\u001b[38;5;183m\u001b[38;5;147m-\u001b[0m\u001b[38;5;183m\u001b[38;5;219m+\u001b[0m\u001b[38;5;183m\u001b[38;5;147m-\u001b[0m\u001b[38;5;183m\u001b[38;5;147m-\u001b[0m\u001b[38;5;183m\u001b[38;5;147m-\u001b[0m\u001b[38;5;183m\u001b[38;5;147m-\u001b[0m\u001b[38;5;183m\u001b[38;5;147m-\u001b[0m\u001b[38;5;183m\u001b[38;5;147m-\u001b[0m\u001b[38;5;183m\u001b[38;5;219m+\u001b[0m\u001b[38;5;183m\u001b[38;5;147m-\u001b[0m\u001b[38;5;183m\u001b[38;5;147m-\u001b[0m\u001b[38;5;183m\u001b[38;5;147m-\u001b[0m\u001b[38;5;183m\u001b[38;5;147m-\u001b[0m\u001b[38;5;183m\u001b[38;5;147m-\u001b[0m\u001b[38;5;183m\u001b[38;5;147m-\u001b[0m\u001b[38;5;183m\u001b[38;5;147m-\u001b[0m\u001b[38;5;183m\u001b[38;5;147m-\u001b[0m\u001b[38;5;183m\u001b[38;5;147m-\u001b[0m\u001b[38;5;183m\u001b[38;5;147m-\u001b[0m\u001b[38;5;183m\u001b[38;5;147m-\u001b[0m\u001b[38;5;183m\u001b[38;5;147m-\u001b[0m\u001b[38;5;183m\u001b[38;5;147m-\u001b[0m\u001b[38;5;183m\u001b[38;5;219m+\u001b[0m\u001b[38;5;183m\n",
      "\u001b[35m|\u001b[0m\u001b[38;5;183m   Classe  \u001b[35m|\u001b[0m\u001b[38;5;183m Train \u001b[35m|\u001b[0m\u001b[38;5;183m Test \u001b[35m|\u001b[0m\u001b[38;5;183m Pourcentage \u001b[35m|\u001b[0m\u001b[38;5;183m\n",
      "\u001b[38;5;219m+\u001b[0m\u001b[38;5;183m\u001b[38;5;147m-\u001b[0m\u001b[38;5;183m\u001b[38;5;147m-\u001b[0m\u001b[38;5;183m\u001b[38;5;147m-\u001b[0m\u001b[38;5;183m\u001b[38;5;147m-\u001b[0m\u001b[38;5;183m\u001b[38;5;147m-\u001b[0m\u001b[38;5;183m\u001b[38;5;147m-\u001b[0m\u001b[38;5;183m\u001b[38;5;147m-\u001b[0m\u001b[38;5;183m\u001b[38;5;147m-\u001b[0m\u001b[38;5;183m\u001b[38;5;147m-\u001b[0m\u001b[38;5;183m\u001b[38;5;147m-\u001b[0m\u001b[38;5;183m\u001b[38;5;147m-\u001b[0m\u001b[38;5;183m\u001b[38;5;219m+\u001b[0m\u001b[38;5;183m\u001b[38;5;147m-\u001b[0m\u001b[38;5;183m\u001b[38;5;147m-\u001b[0m\u001b[38;5;183m\u001b[38;5;147m-\u001b[0m\u001b[38;5;183m\u001b[38;5;147m-\u001b[0m\u001b[38;5;183m\u001b[38;5;147m-\u001b[0m\u001b[38;5;183m\u001b[38;5;147m-\u001b[0m\u001b[38;5;183m\u001b[38;5;147m-\u001b[0m\u001b[38;5;183m\u001b[38;5;219m+\u001b[0m\u001b[38;5;183m\u001b[38;5;147m-\u001b[0m\u001b[38;5;183m\u001b[38;5;147m-\u001b[0m\u001b[38;5;183m\u001b[38;5;147m-\u001b[0m\u001b[38;5;183m\u001b[38;5;147m-\u001b[0m\u001b[38;5;183m\u001b[38;5;147m-\u001b[0m\u001b[38;5;183m\u001b[38;5;147m-\u001b[0m\u001b[38;5;183m\u001b[38;5;219m+\u001b[0m\u001b[38;5;183m\u001b[38;5;147m-\u001b[0m\u001b[38;5;183m\u001b[38;5;147m-\u001b[0m\u001b[38;5;183m\u001b[38;5;147m-\u001b[0m\u001b[38;5;183m\u001b[38;5;147m-\u001b[0m\u001b[38;5;183m\u001b[38;5;147m-\u001b[0m\u001b[38;5;183m\u001b[38;5;147m-\u001b[0m\u001b[38;5;183m\u001b[38;5;147m-\u001b[0m\u001b[38;5;183m\u001b[38;5;147m-\u001b[0m\u001b[38;5;183m\u001b[38;5;147m-\u001b[0m\u001b[38;5;183m\u001b[38;5;147m-\u001b[0m\u001b[38;5;183m\u001b[38;5;147m-\u001b[0m\u001b[38;5;183m\u001b[38;5;147m-\u001b[0m\u001b[38;5;183m\u001b[38;5;147m-\u001b[0m\u001b[38;5;183m\u001b[38;5;219m+\u001b[0m\u001b[38;5;183m\n",
      "\u001b[35m|\u001b[0m\u001b[38;5;183m    PSE    \u001b[35m|\u001b[0m\u001b[38;5;183m  5440 \u001b[35m|\u001b[0m\u001b[38;5;183m 3627 \u001b[35m|\u001b[0m\u001b[38;5;183m    40.00%   \u001b[35m|\u001b[0m\u001b[38;5;183m\n",
      "\u001b[35m|\u001b[0m\u001b[38;5;183m Verts-ALE \u001b[35m|\u001b[0m\u001b[38;5;183m  2376 \u001b[35m|\u001b[0m\u001b[38;5;183m 1585 \u001b[35m|\u001b[0m\u001b[38;5;183m    40.02%   \u001b[35m|\u001b[0m\u001b[38;5;183m\n",
      "\u001b[35m|\u001b[0m\u001b[38;5;183m   PPE-DE  \u001b[35m|\u001b[0m\u001b[38;5;183m  6858 \u001b[35m|\u001b[0m\u001b[38;5;183m 4571 \u001b[35m|\u001b[0m\u001b[38;5;183m    39.99%   \u001b[35m|\u001b[0m\u001b[38;5;183m\n",
      "\u001b[35m|\u001b[0m\u001b[38;5;183m  GUE-NGL  \u001b[35m|\u001b[0m\u001b[38;5;183m  2688 \u001b[35m|\u001b[0m\u001b[38;5;183m 1793 \u001b[35m|\u001b[0m\u001b[38;5;183m    40.01%   \u001b[35m|\u001b[0m\u001b[38;5;183m\n",
      "\u001b[35m|\u001b[0m\u001b[38;5;183m    ELDR   \u001b[35m|\u001b[0m\u001b[38;5;183m  2008 \u001b[35m|\u001b[0m\u001b[38;5;183m 1339 \u001b[35m|\u001b[0m\u001b[38;5;183m    40.01%   \u001b[35m|\u001b[0m\u001b[38;5;183m\n",
      "\u001b[38;5;219m+\u001b[0m\u001b[38;5;183m\u001b[38;5;147m-\u001b[0m\u001b[38;5;183m\u001b[38;5;147m-\u001b[0m\u001b[38;5;183m\u001b[38;5;147m-\u001b[0m\u001b[38;5;183m\u001b[38;5;147m-\u001b[0m\u001b[38;5;183m\u001b[38;5;147m-\u001b[0m\u001b[38;5;183m\u001b[38;5;147m-\u001b[0m\u001b[38;5;183m\u001b[38;5;147m-\u001b[0m\u001b[38;5;183m\u001b[38;5;147m-\u001b[0m\u001b[38;5;183m\u001b[38;5;147m-\u001b[0m\u001b[38;5;183m\u001b[38;5;147m-\u001b[0m\u001b[38;5;183m\u001b[38;5;147m-\u001b[0m\u001b[38;5;183m\u001b[38;5;219m+\u001b[0m\u001b[38;5;183m\u001b[38;5;147m-\u001b[0m\u001b[38;5;183m\u001b[38;5;147m-\u001b[0m\u001b[38;5;183m\u001b[38;5;147m-\u001b[0m\u001b[38;5;183m\u001b[38;5;147m-\u001b[0m\u001b[38;5;183m\u001b[38;5;147m-\u001b[0m\u001b[38;5;183m\u001b[38;5;147m-\u001b[0m\u001b[38;5;183m\u001b[38;5;147m-\u001b[0m\u001b[38;5;183m\u001b[38;5;219m+\u001b[0m\u001b[38;5;183m\u001b[38;5;147m-\u001b[0m\u001b[38;5;183m\u001b[38;5;147m-\u001b[0m\u001b[38;5;183m\u001b[38;5;147m-\u001b[0m\u001b[38;5;183m\u001b[38;5;147m-\u001b[0m\u001b[38;5;183m\u001b[38;5;147m-\u001b[0m\u001b[38;5;183m\u001b[38;5;147m-\u001b[0m\u001b[38;5;183m\u001b[38;5;219m+\u001b[0m\u001b[38;5;183m\u001b[38;5;147m-\u001b[0m\u001b[38;5;183m\u001b[38;5;147m-\u001b[0m\u001b[38;5;183m\u001b[38;5;147m-\u001b[0m\u001b[38;5;183m\u001b[38;5;147m-\u001b[0m\u001b[38;5;183m\u001b[38;5;147m-\u001b[0m\u001b[38;5;183m\u001b[38;5;147m-\u001b[0m\u001b[38;5;183m\u001b[38;5;147m-\u001b[0m\u001b[38;5;183m\u001b[38;5;147m-\u001b[0m\u001b[38;5;183m\u001b[38;5;147m-\u001b[0m\u001b[38;5;183m\u001b[38;5;147m-\u001b[0m\u001b[38;5;183m\u001b[38;5;147m-\u001b[0m\u001b[38;5;183m\u001b[38;5;147m-\u001b[0m\u001b[38;5;183m\u001b[38;5;147m-\u001b[0m\u001b[38;5;183m\u001b[38;5;219m+\u001b[0m\u001b[38;5;183m\u001b[0m\n",
      "\n",
      "Résumé des totaux\n",
      "=================\n",
      "Total Train : 19370\n",
      "Total Test  : 12915\n",
      "Pourcentage Global Test : 40.00%\n"
     ]
    }
   ],
   "source": [
    "prettytable_test_pourcentage = ColorTable(theme=Themes.LAVENDER)\n",
    "prettytable_test_pourcentage.field_names = [\"Classe\", \"Train\", \"Test\", \"Pourcentage\"]\n",
    "\n",
    "def tableau_test_pourcentage(df_train, df_test):\n",
    "    classes, train_values, test_values = preparer_distributions_classes(df_train, df_test)\n",
    "\n",
    "    # on met des 0 à la place des NaN pour éviter les divisions par zéro\n",
    "    pourcentage_test = ((test_values / (test_values + train_values)) * 100)\n",
    "    pourcentage_test = np.nan_to_num(pourcentage_test) \n",
    "\n",
    "    for cls, train, test, pourcentage in zip(classes, train_values, test_values, pourcentage_test):\n",
    "        prettytable_test_pourcentage.add_row([cls, train, test, f\"{pourcentage:.2f}%\"])\n",
    "    \n",
    "    total_train = np.sum(train_values)\n",
    "    total_test = np.sum(test_values)\n",
    "    pourcentage_global = (total_test / (total_train + total_test)) * 100\n",
    "\n",
    "    title = \"Pourcentage de la part du test\"\n",
    "    print(f\"{title}\\n\" + \"=\" * len(title))\n",
    "    print(prettytable_test_pourcentage)\n",
    "    print(\"\\nRésumé des totaux\\n\" + \"=\" * len(\"Résumé des totaux\"))\n",
    "    print(f\"Total Train : {total_train}\")\n",
    "    print(f\"Total Test  : {total_test}\")\n",
    "    print(f\"Pourcentage Global Test : {pourcentage_global:.2f}%\")\n",
    "    \n",
    "tableau_test_pourcentage(df_train, df_test)"
   ]
  },
  {
   "cell_type": "code",
   "execution_count": null,
   "metadata": {},
   "outputs": [
    {
     "data": {
      "text/html": [
       "<div>\n",
       "<style scoped>\n",
       "    .dataframe tbody tr th:only-of-type {\n",
       "        vertical-align: middle;\n",
       "    }\n",
       "\n",
       "    .dataframe tbody tr th {\n",
       "        vertical-align: top;\n",
       "    }\n",
       "\n",
       "    .dataframe thead th {\n",
       "        text-align: right;\n",
       "    }\n",
       "</style>\n",
       "<table border=\"1\" class=\"dataframe\">\n",
       "  <thead>\n",
       "    <tr style=\"text-align: right;\">\n",
       "      <th></th>\n",
       "      <th>id</th>\n",
       "      <th>nombre</th>\n",
       "      <th>valeur</th>\n",
       "      <th>confiance</th>\n",
       "      <th>texte</th>\n",
       "    </tr>\n",
       "  </thead>\n",
       "  <tbody>\n",
       "    <tr>\n",
       "      <th>0</th>\n",
       "      <td>2_fr:1</td>\n",
       "      <td>1</td>\n",
       "      <td>Verts-ALE</td>\n",
       "      <td>1.00</td>\n",
       "      <td>Monsieur le Président, j'ai toujours fait preu...</td>\n",
       "    </tr>\n",
       "    <tr>\n",
       "      <th>1</th>\n",
       "      <td>2_fr:2</td>\n",
       "      <td>1</td>\n",
       "      <td>PPE-DE</td>\n",
       "      <td>1.00</td>\n",
       "      <td>Madame la Présidente, chers collègues, à l'app...</td>\n",
       "    </tr>\n",
       "    <tr>\n",
       "      <th>2</th>\n",
       "      <td>2_fr:3</td>\n",
       "      <td>1</td>\n",
       "      <td>Verts-ALE</td>\n",
       "      <td>1.00</td>\n",
       "      <td>Je voudrais savoir si l'Union européenne, à la...</td>\n",
       "    </tr>\n",
       "    <tr>\n",
       "      <th>3</th>\n",
       "      <td>2_fr:4</td>\n",
       "      <td>1</td>\n",
       "      <td>PSE</td>\n",
       "      <td>1.00</td>\n",
       "      <td>Madame la Présidente, au nom des  de la commis...</td>\n",
       "    </tr>\n",
       "    <tr>\n",
       "      <th>4</th>\n",
       "      <td>2_fr:5</td>\n",
       "      <td>1</td>\n",
       "      <td>PSE</td>\n",
       "      <td>1.00</td>\n",
       "      <td>Monsieur le Président, chers collègues, Monsie...</td>\n",
       "    </tr>\n",
       "    <tr>\n",
       "      <th>...</th>\n",
       "      <td>...</td>\n",
       "      <td>...</td>\n",
       "      <td>...</td>\n",
       "      <td>...</td>\n",
       "      <td>...</td>\n",
       "    </tr>\n",
       "    <tr>\n",
       "      <th>19365</th>\n",
       "      <td>2_fr:19366</td>\n",
       "      <td>1</td>\n",
       "      <td>PSE</td>\n",
       "      <td>1.00</td>\n",
       "      <td>Monsieur le Président, je voudrais tout d’abor...</td>\n",
       "    </tr>\n",
       "    <tr>\n",
       "      <th>19366</th>\n",
       "      <td>2_fr:19367</td>\n",
       "      <td>1</td>\n",
       "      <td>PPE-DE</td>\n",
       "      <td>1.00</td>\n",
       "      <td>Monsieur le Président, Monsieur le Commissaire...</td>\n",
       "    </tr>\n",
       "    <tr>\n",
       "      <th>19367</th>\n",
       "      <td>2_fr:19368</td>\n",
       "      <td>1</td>\n",
       "      <td>PPE-DE</td>\n",
       "      <td>1.00</td>\n",
       "      <td>Monsieur le Président, je tiens à déclarer, au...</td>\n",
       "    </tr>\n",
       "    <tr>\n",
       "      <th>19368</th>\n",
       "      <td>2_fr:19369</td>\n",
       "      <td>1</td>\n",
       "      <td>PPE-DE</td>\n",
       "      <td>1.00</td>\n",
       "      <td>Monsieur le Président, l’aide à l’Albanie et à...</td>\n",
       "    </tr>\n",
       "    <tr>\n",
       "      <th>19369</th>\n",
       "      <td>2_fr:19370</td>\n",
       "      <td>1</td>\n",
       "      <td>PPE-DE</td>\n",
       "      <td>1.00</td>\n",
       "      <td>Monsieur le Président, le rapport de Mme Zorba...</td>\n",
       "    </tr>\n",
       "  </tbody>\n",
       "</table>\n",
       "<p>19370 rows × 5 columns</p>\n",
       "</div>"
      ],
      "text/plain": [
       "               id nombre     valeur confiance  \\\n",
       "0          2_fr:1      1  Verts-ALE      1.00   \n",
       "1          2_fr:2      1     PPE-DE      1.00   \n",
       "2          2_fr:3      1  Verts-ALE      1.00   \n",
       "3          2_fr:4      1        PSE      1.00   \n",
       "4          2_fr:5      1        PSE      1.00   \n",
       "...           ...    ...        ...       ...   \n",
       "19365  2_fr:19366      1        PSE      1.00   \n",
       "19366  2_fr:19367      1     PPE-DE      1.00   \n",
       "19367  2_fr:19368      1     PPE-DE      1.00   \n",
       "19368  2_fr:19369      1     PPE-DE      1.00   \n",
       "19369  2_fr:19370      1     PPE-DE      1.00   \n",
       "\n",
       "                                                   texte  \n",
       "0      Monsieur le Président, j'ai toujours fait preu...  \n",
       "1      Madame la Présidente, chers collègues, à l'app...  \n",
       "2      Je voudrais savoir si l'Union européenne, à la...  \n",
       "3      Madame la Présidente, au nom des  de la commis...  \n",
       "4      Monsieur le Président, chers collègues, Monsie...  \n",
       "...                                                  ...  \n",
       "19365  Monsieur le Président, je voudrais tout d’abor...  \n",
       "19366  Monsieur le Président, Monsieur le Commissaire...  \n",
       "19367  Monsieur le Président, je tiens à déclarer, au...  \n",
       "19368  Monsieur le Président, l’aide à l’Albanie et à...  \n",
       "19369  Monsieur le Président, le rapport de Mme Zorba...  \n",
       "\n",
       "[19370 rows x 5 columns]"
      ]
     },
     "execution_count": 54,
     "metadata": {},
     "output_type": "execute_result"
    }
   ],
   "source": [
    "df_train"
   ]
  },
  {
   "cell_type": "code",
   "execution_count": null,
   "metadata": {},
   "outputs": [
    {
     "data": {
      "text/html": [
       "<div>\n",
       "<style scoped>\n",
       "    .dataframe tbody tr th:only-of-type {\n",
       "        vertical-align: middle;\n",
       "    }\n",
       "\n",
       "    .dataframe tbody tr th {\n",
       "        vertical-align: top;\n",
       "    }\n",
       "\n",
       "    .dataframe thead th {\n",
       "        text-align: right;\n",
       "    }\n",
       "</style>\n",
       "<table border=\"1\" class=\"dataframe\">\n",
       "  <thead>\n",
       "    <tr style=\"text-align: right;\">\n",
       "      <th></th>\n",
       "      <th>id</th>\n",
       "      <th>texte</th>\n",
       "      <th>valeur</th>\n",
       "    </tr>\n",
       "  </thead>\n",
       "  <tbody>\n",
       "    <tr>\n",
       "      <th>0</th>\n",
       "      <td>1</td>\n",
       "      <td>Monsieur le Président, l'accès à des médias li...</td>\n",
       "      <td>ELDR</td>\n",
       "    </tr>\n",
       "    <tr>\n",
       "      <th>1</th>\n",
       "      <td>2</td>\n",
       "      <td>Monsieur le Président, j'ai un point de vue di...</td>\n",
       "      <td>GUE-NGL</td>\n",
       "    </tr>\n",
       "    <tr>\n",
       "      <th>2</th>\n",
       "      <td>3</td>\n",
       "      <td>Monsieur le Président, Monsieur le Commissaire...</td>\n",
       "      <td>PPE-DE</td>\n",
       "    </tr>\n",
       "    <tr>\n",
       "      <th>3</th>\n",
       "      <td>4</td>\n",
       "      <td>Nous ne pouvons soutenir cette tentative d’éri...</td>\n",
       "      <td>GUE-NGL</td>\n",
       "    </tr>\n",
       "    <tr>\n",
       "      <th>4</th>\n",
       "      <td>5</td>\n",
       "      <td>Monsieur le Président, ce court débat se dérou...</td>\n",
       "      <td>PPE-DE</td>\n",
       "    </tr>\n",
       "    <tr>\n",
       "      <th>...</th>\n",
       "      <td>...</td>\n",
       "      <td>...</td>\n",
       "      <td>...</td>\n",
       "    </tr>\n",
       "    <tr>\n",
       "      <th>12910</th>\n",
       "      <td>12913</td>\n",
       "      <td>Monsieur le Président, Madame la Commissaire, ...</td>\n",
       "      <td>PPE-DE</td>\n",
       "    </tr>\n",
       "    <tr>\n",
       "      <th>12911</th>\n",
       "      <td>12914</td>\n",
       "      <td>Monsieur le Président, Monsieur le Commissaire...</td>\n",
       "      <td>PPE-DE</td>\n",
       "    </tr>\n",
       "    <tr>\n",
       "      <th>12912</th>\n",
       "      <td>12915</td>\n",
       "      <td>Madame la Présidente, permettez-moi de m'adres...</td>\n",
       "      <td>ELDR</td>\n",
       "    </tr>\n",
       "    <tr>\n",
       "      <th>12913</th>\n",
       "      <td>12916</td>\n",
       "      <td>Grâce à la proposition de directive dont trait...</td>\n",
       "      <td>GUE-NGL</td>\n",
       "    </tr>\n",
       "    <tr>\n",
       "      <th>12914</th>\n",
       "      <td>12917</td>\n",
       "      <td>Monsieur le Président, après le Timor oriental...</td>\n",
       "      <td>PSE</td>\n",
       "    </tr>\n",
       "  </tbody>\n",
       "</table>\n",
       "<p>12915 rows × 3 columns</p>\n",
       "</div>"
      ],
      "text/plain": [
       "          id                                              texte   valeur\n",
       "0          1  Monsieur le Président, l'accès à des médias li...     ELDR\n",
       "1          2  Monsieur le Président, j'ai un point de vue di...  GUE-NGL\n",
       "2          3  Monsieur le Président, Monsieur le Commissaire...   PPE-DE\n",
       "3          4  Nous ne pouvons soutenir cette tentative d’éri...  GUE-NGL\n",
       "4          5  Monsieur le Président, ce court débat se dérou...   PPE-DE\n",
       "...      ...                                                ...      ...\n",
       "12910  12913  Monsieur le Président, Madame la Commissaire, ...   PPE-DE\n",
       "12911  12914  Monsieur le Président, Monsieur le Commissaire...   PPE-DE\n",
       "12912  12915  Madame la Présidente, permettez-moi de m'adres...     ELDR\n",
       "12913  12916  Grâce à la proposition de directive dont trait...  GUE-NGL\n",
       "12914  12917  Monsieur le Président, après le Timor oriental...      PSE\n",
       "\n",
       "[12915 rows x 3 columns]"
      ]
     },
     "execution_count": 55,
     "metadata": {},
     "output_type": "execute_result"
    }
   ],
   "source": [
    "df_test"
   ]
  },
  {
   "cell_type": "markdown",
   "metadata": {},
   "source": [
    "# Présentation des données"
   ]
  },
  {
   "cell_type": "markdown",
   "metadata": {},
   "source": [
    "## Doublons"
   ]
  },
  {
   "cell_type": "markdown",
   "metadata": {},
   "source": [
    "### Combien de doublons ?"
   ]
  },
  {
   "cell_type": "code",
   "execution_count": 56,
   "metadata": {},
   "outputs": [],
   "source": [
    "train_texts = df_train[\"texte\"].to_list()\n",
    "test_texts = df_test[\"texte\"].to_list()"
   ]
  },
  {
   "cell_type": "code",
   "execution_count": 57,
   "metadata": {},
   "outputs": [],
   "source": [
    "def check_copy(train_texts, test_texts):\n",
    "\n",
    "    num_copy = 0\n",
    "\n",
    "    for text in train_texts:\n",
    "        if text in test_texts:\n",
    "            num_copy += 1\n",
    "\n",
    "    return num_copy"
   ]
  },
  {
   "cell_type": "code",
   "execution_count": null,
   "metadata": {},
   "outputs": [
    {
     "name": "stdout",
     "output_type": "stream",
     "text": [
      "Il y a 7813 textes en commun entre les données d'entraînement et de test.\n"
     ]
    }
   ],
   "source": [
    "num_copy = check_copy(train_texts, test_texts)\n",
    "print(f\"Il y a {num_copy} textes en commun entre les données d'entraînement et de test.\")"
   ]
  },
  {
   "cell_type": "markdown",
   "metadata": {},
   "source": [
    "### On veut atteindre une distribution"
   ]
  },
  {
   "cell_type": "markdown",
   "metadata": {},
   "source": [
    "Répartition des sets = 60 et 40"
   ]
  },
  {
   "cell_type": "code",
   "execution_count": 59,
   "metadata": {},
   "outputs": [],
   "source": [
    "def get_distribution(df_train, df_test):\n",
    "\n",
    "    total_texts = len(df_train) + len(df_test)\n",
    "    percentage_train = len(df_train) / total_texts * 100\n",
    "    percentage_test = len(df_test) / total_texts * 100\n",
    "\n",
    "    return percentage_train, percentage_test"
   ]
  },
  {
   "cell_type": "code",
   "execution_count": null,
   "metadata": {},
   "outputs": [
    {
     "name": "stdout",
     "output_type": "stream",
     "text": [
      "Pourcentage de textes d'entraînement : 60.00%\n",
      "Pourcentage de textes de test : 40.00%\n"
     ]
    }
   ],
   "source": [
    "percentage_train, percentage_test = get_distribution(df_train, df_test)\n",
    "print(f\"Pourcentage de textes d'entraînement : {percentage_train:.2f}%\")\n",
    "print(f\"Pourcentage de textes de test : {percentage_test:.2f}%\")"
   ]
  },
  {
   "cell_type": "markdown",
   "metadata": {},
   "source": [
    "On veut enlever les doublons tout en essayant de conserver cette distribution."
   ]
  },
  {
   "cell_type": "code",
   "execution_count": 61,
   "metadata": {},
   "outputs": [],
   "source": [
    "def balance_distribution(df_train, df_test):\n",
    "\n",
    "    train_texts = df_train[\"texte\"].to_list()\n",
    "    test_texts = df_test[\"texte\"].to_list()\n",
    "\n",
    "    for text in train_texts:\n",
    "        if text in test_texts:\n",
    "            percentage_train, percentage_test = get_distribution(df_train, df_test)\n",
    "            difference_train = abs(percentage_train - 60)\n",
    "            difference_test = abs(percentage_test - 40)\n",
    "\n",
    "            if difference_train > difference_test:\n",
    "                df_test = df_test[df_test[\"texte\"] != text]\n",
    "            else:\n",
    "                df_train = df_train[df_train[\"texte\"] != text]\n",
    "\n",
    "    return df_train, df_test"
   ]
  },
  {
   "cell_type": "code",
   "execution_count": null,
   "metadata": {},
   "outputs": [
    {
     "name": "stdout",
     "output_type": "stream",
     "text": [
      "Pourcentage de textes d'entraînement : 53.40%\n",
      "Pourcentage de textes de test : 46.60%\n"
     ]
    }
   ],
   "source": [
    "df_train, df_test = balance_distribution(df_train, df_test)\n",
    "percentage_train, percentage_test = get_distribution(df_train, df_test)\n",
    "print(f\"Pourcentage de textes d'entraînement : {percentage_train:.2f}%\")\n",
    "print(f\"Pourcentage de textes de test : {percentage_test:.2f}%\")"
   ]
  },
  {
   "cell_type": "code",
   "execution_count": null,
   "metadata": {},
   "outputs": [
    {
     "name": "stdout",
     "output_type": "stream",
     "text": [
      "Il y a 0 textes en commun entre les données d'entraînement et de test.\n"
     ]
    }
   ],
   "source": [
    "train_texts = df_train[\"texte\"].to_list()\n",
    "test_texts = df_test[\"texte\"].to_list()\n",
    "num_copy = check_copy(train_texts, test_texts)\n",
    "print(f\"Il y a {num_copy} textes en commun entre les données d'entraînement et de test.\")"
   ]
  },
  {
   "cell_type": "markdown",
   "metadata": {},
   "source": [
    "### Retirer jusqu'à 60"
   ]
  },
  {
   "cell_type": "markdown",
   "metadata": {},
   "source": [
    "Nous n'avons plus de doublons mais nous restons quelque peu éloignés de la distribution 60/40. On va donc retirer des textes de l'ensemble de test pour arriver à la distribution souhaitée."
   ]
  },
  {
   "cell_type": "code",
   "execution_count": 64,
   "metadata": {},
   "outputs": [],
   "source": [
    "def reach_desired_distribution(df_train, df_test):\n",
    "\n",
    "    while True:\n",
    "        percentage_train, percentage_test = get_distribution(df_train, df_test)\n",
    "\n",
    "        if percentage_train >= 60:\n",
    "            break\n",
    "        else:\n",
    "            df_test = df_test.drop(df_test.index[0])\n",
    "\n",
    "    \n",
    "    return df_train, df_test"
   ]
  },
  {
   "cell_type": "code",
   "execution_count": null,
   "metadata": {},
   "outputs": [
    {
     "name": "stdout",
     "output_type": "stream",
     "text": [
      "Pourcentage de textes d'entraînement : 60.00%\n",
      "Pourcentage de textes de test : 40.00%\n",
      "Il y a 0 textes en commun entre les données d'entraînement et de test.\n"
     ]
    }
   ],
   "source": [
    "df_train, df_test = reach_desired_distribution(df_train, df_test)\n",
    "percentage_train, percentage_test = get_distribution(df_train, df_test)\n",
    "print(f\"Pourcentage de textes d'entraînement : {percentage_train:.2f}%\")\n",
    "print(f\"Pourcentage de textes de test : {percentage_test:.2f}%\")\n",
    "num_copy = check_copy(train_texts, test_texts)\n",
    "print(f\"Il y a {num_copy} textes en commun entre les données d'entraînement et de test.\")"
   ]
  },
  {
   "cell_type": "code",
   "execution_count": 66,
   "metadata": {},
   "outputs": [],
   "source": [
    "df_train.to_csv(\"data/train.csv\", index=False)\n",
    "df_test.to_csv(\"data/test.csv\", index=False)"
   ]
  },
  {
   "cell_type": "markdown",
   "metadata": {},
   "source": [
    "## Visualisation des données"
   ]
  },
  {
   "cell_type": "markdown",
   "metadata": {},
   "source": [
    "Est-ce que les classes sont représentées de manière égale entre les deux ensembles ?"
   ]
  },
  {
   "cell_type": "code",
   "execution_count": 67,
   "metadata": {},
   "outputs": [
    {
     "data": {
      "image/png": "[encoded data removed]",
      "text/plain": [
       "<Figure size 640x480 with 1 Axes>"
      ]
     },
     "metadata": {},
     "output_type": "display_data"
    }
   ],
   "source": [
    "def compare_class_distribution(df_train, df_test):\n",
    "\n",
    "    total_train = len(df_train)\n",
    "    total_test = len(df_test)\n",
    "\n",
    "    train_distribution = {source: count / total_train * 100 for source, count in df_train.groupby(\"valeur\").size().to_dict().items()}\n",
    "    test_distribution = {source: count / total_test * 100 for source, count in df_test.groupby(\"valeur\").size().to_dict().items()}\n",
    "\n",
    "    x = np.arange(len(train_distribution))\n",
    "    width = 0.4\n",
    "    train_bars = plt.bar(x - 0.2, train_distribution.values(), width, label=\"Ensemble de train\", color=\"orchid\")\n",
    "    test_bars = plt.bar(x + 0.2, test_distribution.values(), width, label=\"Ensemble de test\", color=\"pink\")\n",
    "\n",
    "    for bar in train_bars:\n",
    "        height = bar.get_height()\n",
    "        plt.text(bar.get_x() + bar.get_width() / 2, height, f'{round(height, 2)}', ha='center', va='bottom')\n",
    "\n",
    "    for bar in test_bars:\n",
    "        height = bar.get_height()\n",
    "        plt.text(bar.get_x() + bar.get_width() / 2, height, f'{round(height, 2)}', ha='center', va='bottom')\n",
    "\n",
    "    plt.xticks(x, train_distribution.keys(), rotation=45)\n",
    "    plt.xlabel(\"Parti politique\")\n",
    "    plt.ylabel(\"Pourcentage de documents\")\n",
    "    plt.legend()\n",
    "    plt.show()\n",
    "\n",
    "compare_class_distribution(df_train, df_test)\n"
   ]
  },
  {
   "cell_type": "markdown",
   "metadata": {},
   "source": [
    "Les répartitions sont assez égalitaires ! "
   ]
  },
  {
   "cell_type": "markdown",
   "metadata": {},
   "source": [
    "\n",
    "||   ELDR    | GUE/NGL | PPE-DE     | PSE | Verts/ALE\n",
    "|:---| :---        |    :----   |          :--- | :--- | :--- |\n",
    "|Nombre de documents| 3 346 | 4 482   |  11 429 | 9 066 | 3 961 |\n",
    "|Pourcentage de documents|10.33%|13.84%|35.29%|27.99%|12.23%|\n",
    "\n",
    "On a donc un corpus sans doublons mais avec une répartition et une distribution des classes et des documents fidèle au corpus originel !"
   ]
  },
  {
   "cell_type": "markdown",
   "metadata": {},
   "source": [
    "# Pé-traitement des données"
   ]
  },
  {
   "cell_type": "markdown",
   "metadata": {},
   "source": [
    "## Normalisation"
   ]
  },
  {
   "cell_type": "code",
   "execution_count": null,
   "metadata": {},
   "outputs": [
    {
     "name": "stdout",
     "output_type": "stream",
     "text": [
      "Collecting en-core-web-sm==3.8.0\n",
      "  Downloading https://github.com/explosion/spacy-models/releases/download/en_core_web_sm-3.8.0/en_core_web_sm-3.8.0-py3-none-any.whl (12.8 MB)\n",
      "\u001b[2K     \u001b[38;2;114;156;31m━━━━━━━━━━━━━━━━━━━━━━━━━━━━━━━━━━━━━━━━\u001b[0m \u001b[32m12.8/12.8 MB\u001b[0m \u001b[31m7.0 MB/s\u001b[0m eta \u001b[36m0:00:00\u001b[0mm eta \u001b[36m0:00:01\u001b[0m0:01\u001b[0m:01\u001b[0m\n",
      "\u001b[?25h\u001b[38;5;2m✔ Download and installation successful\u001b[0m\n",
      "You can now load the package via spacy.load('en_core_web_sm')\n"
     ]
    }
   ],
   "source": [
    "!python -m spacy download en_core_web_sm"
   ]
  },
  {
   "cell_type": "code",
   "execution_count": 69,
   "metadata": {},
   "outputs": [],
   "source": [
    "import re\n",
    "from nltk.corpus import stopwords\n",
    "from nltk.tokenize import word_tokenize\n",
    "import spacy\n",
    "nlp = spacy.load(\"en_core_web_sm\")"
   ]
  },
  {
   "cell_type": "code",
   "execution_count": 70,
   "metadata": {},
   "outputs": [],
   "source": [
    "def lemmatisation(text):\n",
    "    doc = nlp(text)\n",
    "    return \" \".join([token.lemma_ for token in doc])"
   ]
  },
  {
   "cell_type": "code",
   "execution_count": 71,
   "metadata": {},
   "outputs": [],
   "source": [
    "def i_love_lowercase(text):\n",
    "\n",
    "    return text.lower()"
   ]
  },
  {
   "cell_type": "code",
   "execution_count": 72,
   "metadata": {},
   "outputs": [],
   "source": [
    "def remove_stop_words(text):\n",
    "    \n",
    "    stop_words = set(stopwords.words(\"english\"))\n",
    "    word_tokens = word_tokenize(text)\n",
    "    filtered_text = [word for word in word_tokens if word not in stop_words]\n",
    "\n",
    "    return \" \".join(filtered_text)"
   ]
  },
  {
   "cell_type": "code",
   "execution_count": 73,
   "metadata": {},
   "outputs": [],
   "source": [
    "def remove_punctuation(text):\n",
    "\n",
    "    text = re.sub(r\"[^\\w\\s]\", \"\", text)\n",
    "    \n",
    "    return text"
   ]
  },
  {
   "cell_type": "code",
   "execution_count": null,
   "metadata": {},
   "outputs": [
    {
     "ename": "LookupError",
     "evalue": "\n**********************************************************************\n  Resource \u001b[93mpunkt_tab\u001b[0m not found.\n  Please use the NLTK Downloader to obtain the resource:\n\n  \u001b[31m>>> import nltk\n  >>> nltk.download('punkt_tab')\n  \u001b[0m\n  For more information see: https://www.nltk.org/data.html\n\n  Attempted to load \u001b[93mtokenizers/punkt_tab/english/\u001b[0m\n\n  Searched in:\n    - '/home/debora/nltk_data'\n    - '/home/debora/Documents/scripts/.venv/deft09/nltk_data'\n    - '/home/debora/Documents/scripts/.venv/deft09/share/nltk_data'\n    - '/home/debora/Documents/scripts/.venv/deft09/lib/nltk_data'\n    - '/usr/share/nltk_data'\n    - '/usr/local/share/nltk_data'\n    - '/usr/lib/nltk_data'\n    - '/usr/local/lib/nltk_data'\n**********************************************************************\n",
     "output_type": "error",
     "traceback": [
      "\u001b[0;31m---------------------------------------------------------------------------\u001b[0m",
      "\u001b[0;31mLookupError\u001b[0m                               Traceback (most recent call last)",
      "Cell \u001b[0;32mIn[74], line 10\u001b[0m\n\u001b[1;32m      6\u001b[0m     text \u001b[38;5;241m=\u001b[39m lemmatisation(text)\n\u001b[1;32m      8\u001b[0m     \u001b[38;5;28;01mreturn\u001b[39;00m text\n\u001b[0;32m---> 10\u001b[0m df_train[\u001b[38;5;124m\"\u001b[39m\u001b[38;5;124mtexte_nettoyé\u001b[39m\u001b[38;5;124m\"\u001b[39m] \u001b[38;5;241m=\u001b[39m \u001b[43mdf_train\u001b[49m\u001b[43m[\u001b[49m\u001b[38;5;124;43m\"\u001b[39;49m\u001b[38;5;124;43mtexte\u001b[39;49m\u001b[38;5;124;43m\"\u001b[39;49m\u001b[43m]\u001b[49m\u001b[38;5;241;43m.\u001b[39;49m\u001b[43mmap\u001b[49m\u001b[43m(\u001b[49m\u001b[43mget_beautiful_clean_text\u001b[49m\u001b[43m)\u001b[49m\n\u001b[1;32m     11\u001b[0m df_test[\u001b[38;5;124m\"\u001b[39m\u001b[38;5;124mtexte_nettoyé\u001b[39m\u001b[38;5;124m\"\u001b[39m] \u001b[38;5;241m=\u001b[39m df_test[\u001b[38;5;124m\"\u001b[39m\u001b[38;5;124mtexte\u001b[39m\u001b[38;5;124m\"\u001b[39m]\u001b[38;5;241m.\u001b[39mmap(get_beautiful_clean_text)\n",
      "File \u001b[0;32m~/Documents/scripts/.venv/deft09/lib/python3.12/site-packages/pandas/core/series.py:4700\u001b[0m, in \u001b[0;36mSeries.map\u001b[0;34m(self, arg, na_action)\u001b[0m\n\u001b[1;32m   4620\u001b[0m \u001b[38;5;28;01mdef\u001b[39;00m \u001b[38;5;21mmap\u001b[39m(\n\u001b[1;32m   4621\u001b[0m     \u001b[38;5;28mself\u001b[39m,\n\u001b[1;32m   4622\u001b[0m     arg: Callable \u001b[38;5;241m|\u001b[39m Mapping \u001b[38;5;241m|\u001b[39m Series,\n\u001b[1;32m   4623\u001b[0m     na_action: Literal[\u001b[38;5;124m\"\u001b[39m\u001b[38;5;124mignore\u001b[39m\u001b[38;5;124m\"\u001b[39m] \u001b[38;5;241m|\u001b[39m \u001b[38;5;28;01mNone\u001b[39;00m \u001b[38;5;241m=\u001b[39m \u001b[38;5;28;01mNone\u001b[39;00m,\n\u001b[1;32m   4624\u001b[0m ) \u001b[38;5;241m-\u001b[39m\u001b[38;5;241m>\u001b[39m Series:\n\u001b[1;32m   4625\u001b[0m \u001b[38;5;250m    \u001b[39m\u001b[38;5;124;03m\"\"\"\u001b[39;00m\n\u001b[1;32m   4626\u001b[0m \u001b[38;5;124;03m    Map values of Series according to an input mapping or function.\u001b[39;00m\n\u001b[1;32m   4627\u001b[0m \n\u001b[0;32m   (...)\u001b[0m\n\u001b[1;32m   4698\u001b[0m \u001b[38;5;124;03m    dtype: object\u001b[39;00m\n\u001b[1;32m   4699\u001b[0m \u001b[38;5;124;03m    \"\"\"\u001b[39;00m\n\u001b[0;32m-> 4700\u001b[0m     new_values \u001b[38;5;241m=\u001b[39m \u001b[38;5;28;43mself\u001b[39;49m\u001b[38;5;241;43m.\u001b[39;49m\u001b[43m_map_values\u001b[49m\u001b[43m(\u001b[49m\u001b[43marg\u001b[49m\u001b[43m,\u001b[49m\u001b[43m \u001b[49m\u001b[43mna_action\u001b[49m\u001b[38;5;241;43m=\u001b[39;49m\u001b[43mna_action\u001b[49m\u001b[43m)\u001b[49m\n\u001b[1;32m   4701\u001b[0m     \u001b[38;5;28;01mreturn\u001b[39;00m \u001b[38;5;28mself\u001b[39m\u001b[38;5;241m.\u001b[39m_constructor(new_values, index\u001b[38;5;241m=\u001b[39m\u001b[38;5;28mself\u001b[39m\u001b[38;5;241m.\u001b[39mindex, copy\u001b[38;5;241m=\u001b[39m\u001b[38;5;28;01mFalse\u001b[39;00m)\u001b[38;5;241m.\u001b[39m__finalize__(\n\u001b[1;32m   4702\u001b[0m         \u001b[38;5;28mself\u001b[39m, method\u001b[38;5;241m=\u001b[39m\u001b[38;5;124m\"\u001b[39m\u001b[38;5;124mmap\u001b[39m\u001b[38;5;124m\"\u001b[39m\n\u001b[1;32m   4703\u001b[0m     )\n",
      "File \u001b[0;32m~/Documents/scripts/.venv/deft09/lib/python3.12/site-packages/pandas/core/base.py:921\u001b[0m, in \u001b[0;36mIndexOpsMixin._map_values\u001b[0;34m(self, mapper, na_action, convert)\u001b[0m\n\u001b[1;32m    918\u001b[0m \u001b[38;5;28;01mif\u001b[39;00m \u001b[38;5;28misinstance\u001b[39m(arr, ExtensionArray):\n\u001b[1;32m    919\u001b[0m     \u001b[38;5;28;01mreturn\u001b[39;00m arr\u001b[38;5;241m.\u001b[39mmap(mapper, na_action\u001b[38;5;241m=\u001b[39mna_action)\n\u001b[0;32m--> 921\u001b[0m \u001b[38;5;28;01mreturn\u001b[39;00m \u001b[43malgorithms\u001b[49m\u001b[38;5;241;43m.\u001b[39;49m\u001b[43mmap_array\u001b[49m\u001b[43m(\u001b[49m\u001b[43marr\u001b[49m\u001b[43m,\u001b[49m\u001b[43m \u001b[49m\u001b[43mmapper\u001b[49m\u001b[43m,\u001b[49m\u001b[43m \u001b[49m\u001b[43mna_action\u001b[49m\u001b[38;5;241;43m=\u001b[39;49m\u001b[43mna_action\u001b[49m\u001b[43m,\u001b[49m\u001b[43m \u001b[49m\u001b[43mconvert\u001b[49m\u001b[38;5;241;43m=\u001b[39;49m\u001b[43mconvert\u001b[49m\u001b[43m)\u001b[49m\n",
      "File \u001b[0;32m~/Documents/scripts/.venv/deft09/lib/python3.12/site-packages/pandas/core/algorithms.py:1743\u001b[0m, in \u001b[0;36mmap_array\u001b[0;34m(arr, mapper, na_action, convert)\u001b[0m\n\u001b[1;32m   1741\u001b[0m values \u001b[38;5;241m=\u001b[39m arr\u001b[38;5;241m.\u001b[39mastype(\u001b[38;5;28mobject\u001b[39m, copy\u001b[38;5;241m=\u001b[39m\u001b[38;5;28;01mFalse\u001b[39;00m)\n\u001b[1;32m   1742\u001b[0m \u001b[38;5;28;01mif\u001b[39;00m na_action \u001b[38;5;129;01mis\u001b[39;00m \u001b[38;5;28;01mNone\u001b[39;00m:\n\u001b[0;32m-> 1743\u001b[0m     \u001b[38;5;28;01mreturn\u001b[39;00m \u001b[43mlib\u001b[49m\u001b[38;5;241;43m.\u001b[39;49m\u001b[43mmap_infer\u001b[49m\u001b[43m(\u001b[49m\u001b[43mvalues\u001b[49m\u001b[43m,\u001b[49m\u001b[43m \u001b[49m\u001b[43mmapper\u001b[49m\u001b[43m,\u001b[49m\u001b[43m \u001b[49m\u001b[43mconvert\u001b[49m\u001b[38;5;241;43m=\u001b[39;49m\u001b[43mconvert\u001b[49m\u001b[43m)\u001b[49m\n\u001b[1;32m   1744\u001b[0m \u001b[38;5;28;01melse\u001b[39;00m:\n\u001b[1;32m   1745\u001b[0m     \u001b[38;5;28;01mreturn\u001b[39;00m lib\u001b[38;5;241m.\u001b[39mmap_infer_mask(\n\u001b[1;32m   1746\u001b[0m         values, mapper, mask\u001b[38;5;241m=\u001b[39misna(values)\u001b[38;5;241m.\u001b[39mview(np\u001b[38;5;241m.\u001b[39muint8), convert\u001b[38;5;241m=\u001b[39mconvert\n\u001b[1;32m   1747\u001b[0m     )\n",
      "File \u001b[0;32mlib.pyx:2972\u001b[0m, in \u001b[0;36mpandas._libs.lib.map_infer\u001b[0;34m()\u001b[0m\n",
      "Cell \u001b[0;32mIn[74], line 5\u001b[0m, in \u001b[0;36mget_beautiful_clean_text\u001b[0;34m(text)\u001b[0m\n\u001b[1;32m      3\u001b[0m text \u001b[38;5;241m=\u001b[39m i_love_lowercase(text)\n\u001b[1;32m      4\u001b[0m text \u001b[38;5;241m=\u001b[39m remove_punctuation(text)\n\u001b[0;32m----> 5\u001b[0m text \u001b[38;5;241m=\u001b[39m \u001b[43mremove_stop_words\u001b[49m\u001b[43m(\u001b[49m\u001b[43mtext\u001b[49m\u001b[43m)\u001b[49m\n\u001b[1;32m      6\u001b[0m text \u001b[38;5;241m=\u001b[39m lemmatisation(text)\n\u001b[1;32m      8\u001b[0m \u001b[38;5;28;01mreturn\u001b[39;00m text\n",
      "Cell \u001b[0;32mIn[72], line 4\u001b[0m, in \u001b[0;36mremove_stop_words\u001b[0;34m(text)\u001b[0m\n\u001b[1;32m      1\u001b[0m \u001b[38;5;28;01mdef\u001b[39;00m \u001b[38;5;21mremove_stop_words\u001b[39m(text):\n\u001b[1;32m      3\u001b[0m     stop_words \u001b[38;5;241m=\u001b[39m \u001b[38;5;28mset\u001b[39m(stopwords\u001b[38;5;241m.\u001b[39mwords(\u001b[38;5;124m\"\u001b[39m\u001b[38;5;124menglish\u001b[39m\u001b[38;5;124m\"\u001b[39m))\n\u001b[0;32m----> 4\u001b[0m     word_tokens \u001b[38;5;241m=\u001b[39m \u001b[43mword_tokenize\u001b[49m\u001b[43m(\u001b[49m\u001b[43mtext\u001b[49m\u001b[43m)\u001b[49m\n\u001b[1;32m      5\u001b[0m     filtered_text \u001b[38;5;241m=\u001b[39m [word \u001b[38;5;28;01mfor\u001b[39;00m word \u001b[38;5;129;01min\u001b[39;00m word_tokens \u001b[38;5;28;01mif\u001b[39;00m word \u001b[38;5;129;01mnot\u001b[39;00m \u001b[38;5;129;01min\u001b[39;00m stop_words]\n\u001b[1;32m      7\u001b[0m     \u001b[38;5;28;01mreturn\u001b[39;00m \u001b[38;5;124m\"\u001b[39m\u001b[38;5;124m \u001b[39m\u001b[38;5;124m\"\u001b[39m\u001b[38;5;241m.\u001b[39mjoin(filtered_text)\n",
      "File \u001b[0;32m~/Documents/scripts/.venv/deft09/lib/python3.12/site-packages/nltk/tokenize/__init__.py:142\u001b[0m, in \u001b[0;36mword_tokenize\u001b[0;34m(text, language, preserve_line)\u001b[0m\n\u001b[1;32m    127\u001b[0m \u001b[38;5;28;01mdef\u001b[39;00m \u001b[38;5;21mword_tokenize\u001b[39m(text, language\u001b[38;5;241m=\u001b[39m\u001b[38;5;124m\"\u001b[39m\u001b[38;5;124menglish\u001b[39m\u001b[38;5;124m\"\u001b[39m, preserve_line\u001b[38;5;241m=\u001b[39m\u001b[38;5;28;01mFalse\u001b[39;00m):\n\u001b[1;32m    128\u001b[0m \u001b[38;5;250m    \u001b[39m\u001b[38;5;124;03m\"\"\"\u001b[39;00m\n\u001b[1;32m    129\u001b[0m \u001b[38;5;124;03m    Return a tokenized copy of *text*,\u001b[39;00m\n\u001b[1;32m    130\u001b[0m \u001b[38;5;124;03m    using NLTK's recommended word tokenizer\u001b[39;00m\n\u001b[0;32m   (...)\u001b[0m\n\u001b[1;32m    140\u001b[0m \u001b[38;5;124;03m    :type preserve_line: bool\u001b[39;00m\n\u001b[1;32m    141\u001b[0m \u001b[38;5;124;03m    \"\"\"\u001b[39;00m\n\u001b[0;32m--> 142\u001b[0m     sentences \u001b[38;5;241m=\u001b[39m [text] \u001b[38;5;28;01mif\u001b[39;00m preserve_line \u001b[38;5;28;01melse\u001b[39;00m \u001b[43msent_tokenize\u001b[49m\u001b[43m(\u001b[49m\u001b[43mtext\u001b[49m\u001b[43m,\u001b[49m\u001b[43m \u001b[49m\u001b[43mlanguage\u001b[49m\u001b[43m)\u001b[49m\n\u001b[1;32m    143\u001b[0m     \u001b[38;5;28;01mreturn\u001b[39;00m [\n\u001b[1;32m    144\u001b[0m         token \u001b[38;5;28;01mfor\u001b[39;00m sent \u001b[38;5;129;01min\u001b[39;00m sentences \u001b[38;5;28;01mfor\u001b[39;00m token \u001b[38;5;129;01min\u001b[39;00m _treebank_word_tokenizer\u001b[38;5;241m.\u001b[39mtokenize(sent)\n\u001b[1;32m    145\u001b[0m     ]\n",
      "File \u001b[0;32m~/Documents/scripts/.venv/deft09/lib/python3.12/site-packages/nltk/tokenize/__init__.py:119\u001b[0m, in \u001b[0;36msent_tokenize\u001b[0;34m(text, language)\u001b[0m\n\u001b[1;32m    109\u001b[0m \u001b[38;5;28;01mdef\u001b[39;00m \u001b[38;5;21msent_tokenize\u001b[39m(text, language\u001b[38;5;241m=\u001b[39m\u001b[38;5;124m\"\u001b[39m\u001b[38;5;124menglish\u001b[39m\u001b[38;5;124m\"\u001b[39m):\n\u001b[1;32m    110\u001b[0m \u001b[38;5;250m    \u001b[39m\u001b[38;5;124;03m\"\"\"\u001b[39;00m\n\u001b[1;32m    111\u001b[0m \u001b[38;5;124;03m    Return a sentence-tokenized copy of *text*,\u001b[39;00m\n\u001b[1;32m    112\u001b[0m \u001b[38;5;124;03m    using NLTK's recommended sentence tokenizer\u001b[39;00m\n\u001b[0;32m   (...)\u001b[0m\n\u001b[1;32m    117\u001b[0m \u001b[38;5;124;03m    :param language: the model name in the Punkt corpus\u001b[39;00m\n\u001b[1;32m    118\u001b[0m \u001b[38;5;124;03m    \"\"\"\u001b[39;00m\n\u001b[0;32m--> 119\u001b[0m     tokenizer \u001b[38;5;241m=\u001b[39m \u001b[43m_get_punkt_tokenizer\u001b[49m\u001b[43m(\u001b[49m\u001b[43mlanguage\u001b[49m\u001b[43m)\u001b[49m\n\u001b[1;32m    120\u001b[0m     \u001b[38;5;28;01mreturn\u001b[39;00m tokenizer\u001b[38;5;241m.\u001b[39mtokenize(text)\n",
      "File \u001b[0;32m~/Documents/scripts/.venv/deft09/lib/python3.12/site-packages/nltk/tokenize/__init__.py:105\u001b[0m, in \u001b[0;36m_get_punkt_tokenizer\u001b[0;34m(language)\u001b[0m\n\u001b[1;32m     96\u001b[0m \u001b[38;5;129m@functools\u001b[39m\u001b[38;5;241m.\u001b[39mlru_cache\n\u001b[1;32m     97\u001b[0m \u001b[38;5;28;01mdef\u001b[39;00m \u001b[38;5;21m_get_punkt_tokenizer\u001b[39m(language\u001b[38;5;241m=\u001b[39m\u001b[38;5;124m\"\u001b[39m\u001b[38;5;124menglish\u001b[39m\u001b[38;5;124m\"\u001b[39m):\n\u001b[1;32m     98\u001b[0m \u001b[38;5;250m    \u001b[39m\u001b[38;5;124;03m\"\"\"\u001b[39;00m\n\u001b[1;32m     99\u001b[0m \u001b[38;5;124;03m    A constructor for the PunktTokenizer that utilizes\u001b[39;00m\n\u001b[1;32m    100\u001b[0m \u001b[38;5;124;03m    a lru cache for performance.\u001b[39;00m\n\u001b[0;32m   (...)\u001b[0m\n\u001b[1;32m    103\u001b[0m \u001b[38;5;124;03m    :type language: str\u001b[39;00m\n\u001b[1;32m    104\u001b[0m \u001b[38;5;124;03m    \"\"\"\u001b[39;00m\n\u001b[0;32m--> 105\u001b[0m     \u001b[38;5;28;01mreturn\u001b[39;00m \u001b[43mPunktTokenizer\u001b[49m\u001b[43m(\u001b[49m\u001b[43mlanguage\u001b[49m\u001b[43m)\u001b[49m\n",
      "File \u001b[0;32m~/Documents/scripts/.venv/deft09/lib/python3.12/site-packages/nltk/tokenize/punkt.py:1744\u001b[0m, in \u001b[0;36mPunktTokenizer.__init__\u001b[0;34m(self, lang)\u001b[0m\n\u001b[1;32m   1742\u001b[0m \u001b[38;5;28;01mdef\u001b[39;00m \u001b[38;5;21m__init__\u001b[39m(\u001b[38;5;28mself\u001b[39m, lang\u001b[38;5;241m=\u001b[39m\u001b[38;5;124m\"\u001b[39m\u001b[38;5;124menglish\u001b[39m\u001b[38;5;124m\"\u001b[39m):\n\u001b[1;32m   1743\u001b[0m     PunktSentenceTokenizer\u001b[38;5;241m.\u001b[39m\u001b[38;5;21m__init__\u001b[39m(\u001b[38;5;28mself\u001b[39m)\n\u001b[0;32m-> 1744\u001b[0m     \u001b[38;5;28;43mself\u001b[39;49m\u001b[38;5;241;43m.\u001b[39;49m\u001b[43mload_lang\u001b[49m\u001b[43m(\u001b[49m\u001b[43mlang\u001b[49m\u001b[43m)\u001b[49m\n",
      "File \u001b[0;32m~/Documents/scripts/.venv/deft09/lib/python3.12/site-packages/nltk/tokenize/punkt.py:1749\u001b[0m, in \u001b[0;36mPunktTokenizer.load_lang\u001b[0;34m(self, lang)\u001b[0m\n\u001b[1;32m   1746\u001b[0m \u001b[38;5;28;01mdef\u001b[39;00m \u001b[38;5;21mload_lang\u001b[39m(\u001b[38;5;28mself\u001b[39m, lang\u001b[38;5;241m=\u001b[39m\u001b[38;5;124m\"\u001b[39m\u001b[38;5;124menglish\u001b[39m\u001b[38;5;124m\"\u001b[39m):\n\u001b[1;32m   1747\u001b[0m     \u001b[38;5;28;01mfrom\u001b[39;00m \u001b[38;5;21;01mnltk\u001b[39;00m\u001b[38;5;21;01m.\u001b[39;00m\u001b[38;5;21;01mdata\u001b[39;00m \u001b[38;5;28;01mimport\u001b[39;00m find\n\u001b[0;32m-> 1749\u001b[0m     lang_dir \u001b[38;5;241m=\u001b[39m \u001b[43mfind\u001b[49m\u001b[43m(\u001b[49m\u001b[38;5;124;43mf\u001b[39;49m\u001b[38;5;124;43m\"\u001b[39;49m\u001b[38;5;124;43mtokenizers/punkt_tab/\u001b[39;49m\u001b[38;5;132;43;01m{\u001b[39;49;00m\u001b[43mlang\u001b[49m\u001b[38;5;132;43;01m}\u001b[39;49;00m\u001b[38;5;124;43m/\u001b[39;49m\u001b[38;5;124;43m\"\u001b[39;49m\u001b[43m)\u001b[49m\n\u001b[1;32m   1750\u001b[0m     \u001b[38;5;28mself\u001b[39m\u001b[38;5;241m.\u001b[39m_params \u001b[38;5;241m=\u001b[39m load_punkt_params(lang_dir)\n\u001b[1;32m   1751\u001b[0m     \u001b[38;5;28mself\u001b[39m\u001b[38;5;241m.\u001b[39m_lang \u001b[38;5;241m=\u001b[39m lang\n",
      "File \u001b[0;32m~/Documents/scripts/.venv/deft09/lib/python3.12/site-packages/nltk/data.py:579\u001b[0m, in \u001b[0;36mfind\u001b[0;34m(resource_name, paths)\u001b[0m\n\u001b[1;32m    577\u001b[0m sep \u001b[38;5;241m=\u001b[39m \u001b[38;5;124m\"\u001b[39m\u001b[38;5;124m*\u001b[39m\u001b[38;5;124m\"\u001b[39m \u001b[38;5;241m*\u001b[39m \u001b[38;5;241m70\u001b[39m\n\u001b[1;32m    578\u001b[0m resource_not_found \u001b[38;5;241m=\u001b[39m \u001b[38;5;124mf\u001b[39m\u001b[38;5;124m\"\u001b[39m\u001b[38;5;130;01m\\n\u001b[39;00m\u001b[38;5;132;01m{\u001b[39;00msep\u001b[38;5;132;01m}\u001b[39;00m\u001b[38;5;130;01m\\n\u001b[39;00m\u001b[38;5;132;01m{\u001b[39;00mmsg\u001b[38;5;132;01m}\u001b[39;00m\u001b[38;5;130;01m\\n\u001b[39;00m\u001b[38;5;132;01m{\u001b[39;00msep\u001b[38;5;132;01m}\u001b[39;00m\u001b[38;5;130;01m\\n\u001b[39;00m\u001b[38;5;124m\"\u001b[39m\n\u001b[0;32m--> 579\u001b[0m \u001b[38;5;28;01mraise\u001b[39;00m \u001b[38;5;167;01mLookupError\u001b[39;00m(resource_not_found)\n",
      "\u001b[0;31mLookupError\u001b[0m: \n**********************************************************************\n  Resource \u001b[93mpunkt_tab\u001b[0m not found.\n  Please use the NLTK Downloader to obtain the resource:\n\n  \u001b[31m>>> import nltk\n  >>> nltk.download('punkt_tab')\n  \u001b[0m\n  For more information see: https://www.nltk.org/data.html\n\n  Attempted to load \u001b[93mtokenizers/punkt_tab/english/\u001b[0m\n\n  Searched in:\n    - '/home/debora/nltk_data'\n    - '/home/debora/Documents/scripts/.venv/deft09/nltk_data'\n    - '/home/debora/Documents/scripts/.venv/deft09/share/nltk_data'\n    - '/home/debora/Documents/scripts/.venv/deft09/lib/nltk_data'\n    - '/usr/share/nltk_data'\n    - '/usr/local/share/nltk_data'\n    - '/usr/lib/nltk_data'\n    - '/usr/local/lib/nltk_data'\n**********************************************************************\n"
     ]
    }
   ],
   "source": [
    "def get_beautiful_clean_text(text):\n",
    "\n",
    "    text = i_love_lowercase(text)\n",
    "    text = remove_punctuation(text)\n",
    "    text = remove_stop_words(text)\n",
    "    text = lemmatisation(text)\n",
    "\n",
    "    return text\n",
    "\n",
    "df_train[\"texte_nettoyé\"] = df_train[\"texte\"].map(get_beautiful_clean_text)\n",
    "df_test[\"texte_nettoyé\"] = df_test[\"texte\"].map(get_beautiful_clean_text)"
   ]
  },
  {
   "cell_type": "code",
   "execution_count": 92,
   "metadata": {},
   "outputs": [],
   "source": [
    "df_train.to_csv(\"data/train.csv\", index=False)\n",
    "df_test.to_csv(\"data/test.csv\", index=False)\n"
   ]
  },
  {
   "cell_type": "code",
   "execution_count": 3,
   "metadata": {},
   "outputs": [],
   "source": [
    "df_train = pd.read_csv(\"data/train.csv\")\n",
    "df_test = pd.read_csv(\"data/test.csv\")"
   ]
  },
  {
   "cell_type": "code",
   "execution_count": 4,
   "metadata": {},
   "outputs": [
    {
     "data": {
      "text/html": [
       "<div>\n",
       "<style scoped>\n",
       "    .dataframe tbody tr th:only-of-type {\n",
       "        vertical-align: middle;\n",
       "    }\n",
       "\n",
       "    .dataframe tbody tr th {\n",
       "        vertical-align: top;\n",
       "    }\n",
       "\n",
       "    .dataframe thead th {\n",
       "        text-align: right;\n",
       "    }\n",
       "</style>\n",
       "<table border=\"1\" class=\"dataframe\">\n",
       "  <thead>\n",
       "    <tr style=\"text-align: right;\">\n",
       "      <th></th>\n",
       "      <th>id</th>\n",
       "      <th>nombre</th>\n",
       "      <th>valeur</th>\n",
       "      <th>confiance</th>\n",
       "      <th>texte</th>\n",
       "      <th>texte_nettoyé</th>\n",
       "    </tr>\n",
       "  </thead>\n",
       "  <tbody>\n",
       "    <tr>\n",
       "      <th>0</th>\n",
       "      <td>2_fr:2</td>\n",
       "      <td>1</td>\n",
       "      <td>PPE-DE</td>\n",
       "      <td>1.0</td>\n",
       "      <td>Madame la Présidente, chers collègues, à l'app...</td>\n",
       "      <td>madame la présidente cher collègue à lapproche...</td>\n",
       "    </tr>\n",
       "    <tr>\n",
       "      <th>1</th>\n",
       "      <td>2_fr:5</td>\n",
       "      <td>1</td>\n",
       "      <td>PSE</td>\n",
       "      <td>1.0</td>\n",
       "      <td>Monsieur le Président, chers collègues, Monsie...</td>\n",
       "      <td>monsieur le président cher collègue monsieur l...</td>\n",
       "    </tr>\n",
       "    <tr>\n",
       "      <th>2</th>\n",
       "      <td>2_fr:6</td>\n",
       "      <td>1</td>\n",
       "      <td>Verts-ALE</td>\n",
       "      <td>1.0</td>\n",
       "      <td>C'est une motion de procédure, la question 67 ...</td>\n",
       "      <td>cest une motion de procédure la question 67 de...</td>\n",
       "    </tr>\n",
       "    <tr>\n",
       "      <th>3</th>\n",
       "      <td>2_fr:7</td>\n",
       "      <td>1</td>\n",
       "      <td>PPE-DE</td>\n",
       "      <td>1.0</td>\n",
       "      <td>Monsieur le Président, nous sommes favorables ...</td>\n",
       "      <td>monsieur le président nous somme favorable à c...</td>\n",
       "    </tr>\n",
       "    <tr>\n",
       "      <th>4</th>\n",
       "      <td>2_fr:9</td>\n",
       "      <td>1</td>\n",
       "      <td>PSE</td>\n",
       "      <td>1.0</td>\n",
       "      <td>Madame la Présidente, je ne vois rien de discr...</td>\n",
       "      <td>madame la présidente je ne vois rien de discri...</td>\n",
       "    </tr>\n",
       "  </tbody>\n",
       "</table>\n",
       "</div>"
      ],
      "text/plain": [
       "       id  nombre     valeur  confiance  \\\n",
       "0  2_fr:2       1     PPE-DE        1.0   \n",
       "1  2_fr:5       1        PSE        1.0   \n",
       "2  2_fr:6       1  Verts-ALE        1.0   \n",
       "3  2_fr:7       1     PPE-DE        1.0   \n",
       "4  2_fr:9       1        PSE        1.0   \n",
       "\n",
       "                                               texte  \\\n",
       "0  Madame la Présidente, chers collègues, à l'app...   \n",
       "1  Monsieur le Président, chers collègues, Monsie...   \n",
       "2  C'est une motion de procédure, la question 67 ...   \n",
       "3  Monsieur le Président, nous sommes favorables ...   \n",
       "4  Madame la Présidente, je ne vois rien de discr...   \n",
       "\n",
       "                                       texte_nettoyé  \n",
       "0  madame la présidente cher collègue à lapproche...  \n",
       "1  monsieur le président cher collègue monsieur l...  \n",
       "2  cest une motion de procédure la question 67 de...  \n",
       "3  monsieur le président nous somme favorable à c...  \n",
       "4  madame la présidente je ne vois rien de discri...  "
      ]
     },
     "execution_count": 4,
     "metadata": {},
     "output_type": "execute_result"
    }
   ],
   "source": [
    "df_train.head()"
   ]
  },
  {
   "cell_type": "markdown",
   "metadata": {},
   "source": [
    "## Vectorisation"
   ]
  },
  {
   "cell_type": "markdown",
   "metadata": {},
   "source": [
    "Dans l'article, on voit que les paramètres de la vectorisation jouent un rôle assez important.\n",
    "Nous allons donc essayer de tester cela avec le tfidf et le count vectorizer sur le KNN, l'algorithme utilisé dans l'article. \n",
    "Nous allons vectorisser de manière différentes nos données et stocker le tout dans une df assez grande. Nous allons ensuite tester le tout sur le KNN pour voir comment cela impacte nos données et jusqu'où on peut aller !"
   ]
  },
  {
   "cell_type": "markdown",
   "metadata": {},
   "source": [
    "## Organisation"
   ]
  },
  {
   "cell_type": "code",
   "execution_count": 6,
   "metadata": {},
   "outputs": [],
   "source": [
    "vectorizers = {\n",
    "    \"TfidfVectorizer\": {\n",
    "        \"model\": TfidfVectorizer(),\n",
    "        \"hyperparameters\": {\n",
    "            \"max_df\": [0.5, 0.9, 1], # ça c'est pour ignorer les mots qui appraîssent dans 0.5 ou 0.9 des documents #defaut = 1\n",
    "            \"max_features\": [1000, 5000, 10000, 15000], # ça c'est pour limiter le nombre de mots à 1000 ou 2000 #defaut = None\n",
    "            \"ngram_range\": [(1, 1), (1, 2)], # ça c'est pour prendre en compte les unigrammes ou les bigrammes #defaut = (1, 1)\n",
    "        }\n",
    "    },\n",
    "    \"CountVectorizer\": {\n",
    "        \"model\": CountVectorizer(),\n",
    "        \"hyperparameters\": {\n",
    "            \"max_df\": [0.8, 0.9],\n",
    "            \"max_features\": [1000, 5000, 10000, 15000],\n",
    "            \"ngram_range\": [(1, 1), (1, 2)],\n",
    "        }\n",
    "    }\n",
    "}"
   ]
  },
  {
   "cell_type": "code",
   "execution_count": 7,
   "metadata": {},
   "outputs": [],
   "source": [
    "def hyperparameter_vectorizer(vectorizers):\n",
    "\n",
    "    param_grid = vectorizers[\"hyperparameters\"]\n",
    "    list_vectorizers = []\n",
    "\n",
    "\n",
    "    if len(param_grid) == 1:\n",
    "        param_name, param_values = list(param_grid.items())[0]\n",
    "        for i, value in enumerate(param_values, start=1):\n",
    "            params = {param_name: value}\n",
    "            vectorizer = vectorizers[\"model\"].__class__(**params) \n",
    "            list_vectorizers.append(vectorizer)\n",
    "\n",
    "    else:\n",
    "        param_grid_combinations = list(product(*param_grid.values()))\n",
    "        for i, combination in enumerate(param_grid_combinations, start=1):\n",
    "            params = {param_name: value for param_name, value in zip(param_grid.keys(), combination)}\n",
    "            vectorizer = vectorizers[\"model\"].__class__(**params) \n",
    "            list_vectorizers.append(vectorizer)\n",
    "\n",
    "    return list_vectorizers"
   ]
  },
  {
   "cell_type": "code",
   "execution_count": 8,
   "metadata": {},
   "outputs": [
    {
     "data": {
      "text/plain": [
       "[TfidfVectorizer(max_df=0.5, max_features=1000),\n",
       " TfidfVectorizer(max_df=0.5, max_features=1000, ngram_range=(1, 2)),\n",
       " TfidfVectorizer(max_df=0.5, max_features=5000),\n",
       " TfidfVectorizer(max_df=0.5, max_features=5000, ngram_range=(1, 2)),\n",
       " TfidfVectorizer(max_df=0.5, max_features=10000),\n",
       " TfidfVectorizer(max_df=0.5, max_features=10000, ngram_range=(1, 2)),\n",
       " TfidfVectorizer(max_df=0.5, max_features=15000),\n",
       " TfidfVectorizer(max_df=0.5, max_features=15000, ngram_range=(1, 2)),\n",
       " TfidfVectorizer(max_df=0.9, max_features=1000),\n",
       " TfidfVectorizer(max_df=0.9, max_features=1000, ngram_range=(1, 2)),\n",
       " TfidfVectorizer(max_df=0.9, max_features=5000),\n",
       " TfidfVectorizer(max_df=0.9, max_features=5000, ngram_range=(1, 2)),\n",
       " TfidfVectorizer(max_df=0.9, max_features=10000),\n",
       " TfidfVectorizer(max_df=0.9, max_features=10000, ngram_range=(1, 2)),\n",
       " TfidfVectorizer(max_df=0.9, max_features=15000),\n",
       " TfidfVectorizer(max_df=0.9, max_features=15000, ngram_range=(1, 2)),\n",
       " TfidfVectorizer(max_df=1, max_features=1000),\n",
       " TfidfVectorizer(max_df=1, max_features=1000, ngram_range=(1, 2)),\n",
       " TfidfVectorizer(max_df=1, max_features=5000),\n",
       " TfidfVectorizer(max_df=1, max_features=5000, ngram_range=(1, 2)),\n",
       " TfidfVectorizer(max_df=1, max_features=10000),\n",
       " TfidfVectorizer(max_df=1, max_features=10000, ngram_range=(1, 2)),\n",
       " TfidfVectorizer(max_df=1, max_features=15000),\n",
       " TfidfVectorizer(max_df=1, max_features=15000, ngram_range=(1, 2))]"
      ]
     },
     "execution_count": 8,
     "metadata": {},
     "output_type": "execute_result"
    }
   ],
   "source": [
    "list_vectorizers = hyperparameter_vectorizer(vectorizers[\"TfidfVectorizer\"])\n",
    "list_vectorizers"
   ]
  },
  {
   "cell_type": "markdown",
   "metadata": {},
   "source": [
    "## Vectorisation des données"
   ]
  },
  {
   "cell_type": "code",
   "execution_count": 9,
   "metadata": {},
   "outputs": [],
   "source": [
    "def store_vectorisations(list_vectorizers, x_train, x_test):\n",
    "\n",
    "    all_vectorisations = []\n",
    "\n",
    "    for i, vectorizer in enumerate(list_vectorizers):\n",
    "        x_train_vectorized = vectorizer.fit_transform(x_train)\n",
    "        x_test_vectorized = vectorizer.transform(x_test)\n",
    "        all_vectorisations.append({\"vectorizer_id\": vectorizer.__class__.__name__ + str(i),\n",
    "                                   \"vectorizer\": vectorizer, \n",
    "                                   \"x_train\": x_train_vectorized, \n",
    "                                   \"x_test\": x_test_vectorized})\n",
    "    \n",
    "    df_vectorisations = pd.DataFrame(all_vectorisations)\n",
    "\n",
    "    return df_vectorisations"
   ]
  },
  {
   "cell_type": "code",
   "execution_count": 10,
   "metadata": {},
   "outputs": [],
   "source": [
    "df_vectorisations = store_vectorisations(list_vectorizers, df_train[\"texte_nettoyé\"], df_test[\"texte_nettoyé\"])"
   ]
  },
  {
   "cell_type": "markdown",
   "metadata": {},
   "source": [
    "## Test avec KNN"
   ]
  },
  {
   "cell_type": "code",
   "execution_count": 11,
   "metadata": {},
   "outputs": [],
   "source": [
    "def im_counting_on_you_knn(df_vectorisations, y_train, y_test):\n",
    "\n",
    "    model = KNeighborsClassifier(n_neighbors=1)\n",
    "    scores = []\n",
    "\n",
    "    for i, row in df_vectorisations.iterrows():\n",
    "        vectorizer = row[\"vectorizer\"]\n",
    "        x_train = row[\"x_train\"]\n",
    "        x_test = row[\"x_test\"]\n",
    "        model.fit(x_train, y_train)\n",
    "        y_pred = model.predict(x_test)\n",
    "        report = classification_report(y_test, y_pred, output_dict=True)\n",
    "        scores.append({\"vectorizer\": vectorizer, \"scores\": report})\n",
    "                      \n",
    "    return scores\n"
   ]
  },
  {
   "cell_type": "code",
   "execution_count": 12,
   "metadata": {},
   "outputs": [],
   "source": [
    "scores = im_counting_on_you_knn(df_vectorisations, df_train[\"valeur\"], df_test[\"valeur\"])"
   ]
  },
  {
   "cell_type": "code",
   "execution_count": 15,
   "metadata": {},
   "outputs": [],
   "source": [
    "sorted_scores = sorted(scores, key=lambda x: x[\"scores\"][\"accuracy\"], reverse=True)"
   ]
  },
  {
   "cell_type": "code",
   "execution_count": 16,
   "metadata": {},
   "outputs": [
    {
     "name": "stdout",
     "output_type": "stream",
     "text": [
      "Vectorizer: TfidfVectorizer\n",
      "\tELDR: {'precision': 0.18181818181818182, 'recall': 0.006607929515418502, 'f1-score': 0.012752391073326248, 'support': 908.0}\n",
      "\tGUE-NGL: {'precision': 0.13793103448275862, 'recall': 0.0033444816053511705, 'f1-score': 0.006530612244897959, 'support': 1196.0}\n",
      "\tPPE-DE: {'precision': 0.3506981109937815, 'recall': 0.9809648834919593, 'f1-score': 0.5166810717372515, 'support': 3047.0}\n",
      "\tPSE: {'precision': 0.3382352941176471, 'recall': 0.009240658899156288, 'f1-score': 0.01798983183418068, 'support': 2489.0}\n",
      "\tVerts-ALE: {'precision': 0.0847457627118644, 'recall': 0.0046641791044776115, 'f1-score': 0.008841732979664015, 'support': 1072.0}\n",
      "\taccuracy: 0.3474517906336088\n",
      "\tmacro avg: {'precision': 0.2186856768248467, 'recall': 0.20096442652327262, 'f1-score': 0.1125591279738641, 'support': 8712.0}\n",
      "\tweighted avg: {'precision': 0.2676020058788204, 'recall': 0.3474517906336088, 'f1-score': 0.18916116139949027, 'support': 8712.0}\n",
      "Vectorizer: TfidfVectorizer\n",
      "\tELDR: {'precision': 0.1981981981981982, 'recall': 0.024229074889867842, 'f1-score': 0.04317958783120707, 'support': 908.0}\n",
      "\tGUE-NGL: {'precision': 0.224, 'recall': 0.023411371237458192, 'f1-score': 0.04239212717638153, 'support': 1196.0}\n",
      "\tPPE-DE: {'precision': 0.3540426587301587, 'recall': 0.9369872005251066, 'f1-score': 0.5139051390513906, 'support': 3047.0}\n",
      "\tPSE: {'precision': 0.3594306049822064, 'recall': 0.04057854560064283, 'f1-score': 0.07292418772563176, 'support': 2489.0}\n",
      "\tVerts-ALE: {'precision': 0.1297709923664122, 'recall': 0.01585820895522388, 'f1-score': 0.02826267664172901, 'support': 1072.0}\n",
      "\taccuracy: 0.3469926538108356\n",
      "\tmacro avg: {'precision': 0.25308849085539514, 'recall': 0.2082128802416599, 'f1-score': 0.140132743685268, 'support': 8712.0}\n",
      "\tweighted avg: {'precision': 0.29389040687927726, 'recall': 0.3469926538108356, 'f1-score': 0.21436901987514995, 'support': 8712.0}\n",
      "Vectorizer: TfidfVectorizer\n",
      "\tELDR: {'precision': 0.09183673469387756, 'recall': 0.009911894273127754, 'f1-score': 0.017892644135188866, 'support': 908.0}\n",
      "\tGUE-NGL: {'precision': 0.19083969465648856, 'recall': 0.020903010033444816, 'f1-score': 0.037678975131876416, 'support': 1196.0}\n",
      "\tPPE-DE: {'precision': 0.35152865453645255, 'recall': 0.9320643255661306, 'f1-score': 0.5105159086823656, 'support': 3047.0}\n",
      "\tPSE: {'precision': 0.2874015748031496, 'recall': 0.02932904781036561, 'f1-score': 0.05322639445862195, 'support': 2489.0}\n",
      "\tVerts-ALE: {'precision': 0.17333333333333334, 'recall': 0.024253731343283583, 'f1-score': 0.0425531914893617, 'support': 1072.0}\n",
      "\taccuracy: 0.3412534435261708\n",
      "\tmacro avg: {'precision': 0.21898799840466032, 'recall': 0.20329240180527047, 'f1-score': 0.1323734227794829, 'support': 8712.0}\n",
      "\tweighted avg: {'precision': 0.2621551530420277, 'recall': 0.3412534435261708, 'f1-score': 0.20603191758169762, 'support': 8712.0}\n",
      "Vectorizer: TfidfVectorizer\n",
      "\tELDR: {'precision': 0.1322314049586777, 'recall': 0.03524229074889868, 'f1-score': 0.05565217391304348, 'support': 908.0}\n",
      "\tGUE-NGL: {'precision': 0.1958762886597938, 'recall': 0.06354515050167224, 'f1-score': 0.09595959595959595, 'support': 1196.0}\n",
      "\tPPE-DE: {'precision': 0.3571945046999277, 'recall': 0.8106334099113882, 'f1-score': 0.49588436057016666, 'support': 3047.0}\n",
      "\tPSE: {'precision': 0.28587830080367393, 'recall': 0.10004017677782241, 'f1-score': 0.14821428571428572, 'support': 2489.0}\n",
      "\tVerts-ALE: {'precision': 0.16891891891891891, 'recall': 0.04664179104477612, 'f1-score': 0.07309941520467836, 'support': 1072.0}\n",
      "\taccuracy: 0.33023415977961434\n",
      "\tmacro avg: {'precision': 0.22801988360819841, 'recall': 0.2112205637969115, 'f1-score': 0.17376196627235402, 'support': 8712.0}\n",
      "\tweighted avg: {'precision': 0.268059915581003, 'recall': 0.33023415977961434, 'f1-score': 0.24374740904273307, 'support': 8712.0}\n",
      "Vectorizer: TfidfVectorizer\n",
      "\tELDR: {'precision': 0.1568627450980392, 'recall': 0.15859030837004406, 'f1-score': 0.15772179627601315, 'support': 908.0}\n",
      "\tGUE-NGL: {'precision': 0.2628475147430497, 'recall': 0.2608695652173913, 'f1-score': 0.2618548048678137, 'support': 1196.0}\n",
      "\tPPE-DE: {'precision': 0.4135240572171652, 'recall': 0.4174597965211684, 'f1-score': 0.41548260656540914, 'support': 3047.0}\n",
      "\tPSE: {'precision': 0.3452332657200811, 'recall': 0.34190437926878264, 'f1-score': 0.34356075898264027, 'support': 2489.0}\n",
      "\tVerts-ALE: {'precision': 0.18574108818011256, 'recall': 0.18470149253731344, 'f1-score': 0.18521983161833488, 'support': 1072.0}\n",
      "\taccuracy: 0.31875573921028466\n",
      "\tmacro avg: {'precision': 0.27284173419168956, 'recall': 0.27270510838293993, 'f1-score': 0.2727679596620422, 'support': 8712.0}\n",
      "\tweighted avg: {'precision': 0.318549684048298, 'recall': 0.31875573921028466, 'f1-score': 0.3186459628613376, 'support': 8712.0}\n",
      "Vectorizer: TfidfVectorizer\n",
      "\tELDR: {'precision': 0.155299055613851, 'recall': 0.16299559471365638, 'f1-score': 0.15905427189682966, 'support': 908.0}\n",
      "\tGUE-NGL: {'precision': 0.2667814113597246, 'recall': 0.2591973244147157, 'f1-score': 0.26293469041560646, 'support': 1196.0}\n",
      "\tPPE-DE: {'precision': 0.40716822731675817, 'recall': 0.4138496882179193, 'f1-score': 0.4104817708333333, 'support': 3047.0}\n",
      "\tPSE: {'precision': 0.3417976622329706, 'recall': 0.3406990759341101, 'f1-score': 0.3412474849094567, 'support': 2489.0}\n",
      "\tVerts-ALE: {'precision': 0.19332679097154074, 'recall': 0.1837686567164179, 'f1-score': 0.1884265901482544, 'support': 1072.0}\n",
      "\taccuracy: 0.3172635445362718\n",
      "\tmacro avg: {'precision': 0.272874629498969, 'recall': 0.2721020679993639, 'f1-score': 0.27242896164069613, 'support': 8712.0}\n",
      "\tweighted avg: {'precision': 0.31665569333529897, 'recall': 0.3172635445362718, 'f1-score': 0.31691774781073456, 'support': 8712.0}\n",
      "Vectorizer: TfidfVectorizer\n",
      "\tELDR: {'precision': 0.1565017261219793, 'recall': 0.14977973568281938, 'f1-score': 0.1530669667979741, 'support': 908.0}\n",
      "\tGUE-NGL: {'precision': 0.2593220338983051, 'recall': 0.25585284280936454, 'f1-score': 0.25757575757575757, 'support': 1196.0}\n",
      "\tPPE-DE: {'precision': 0.40618955512572535, 'recall': 0.4135214965539875, 'f1-score': 0.4098227354041308, 'support': 3047.0}\n",
      "\tPSE: {'precision': 0.34182847896440127, 'recall': 0.3394937725994375, 'f1-score': 0.34065712557952027, 'support': 2489.0}\n",
      "\tVerts-ALE: {'precision': 0.1854912764003673, 'recall': 0.1884328358208955, 'f1-score': 0.1869504858861638, 'support': 1072.0}\n",
      "\taccuracy: 0.31554178145087236\n",
      "\tmacro avg: {'precision': 0.2698666141021557, 'recall': 0.2694161366933009, 'f1-score': 0.2696146142487093, 'support': 8712.0}\n",
      "\tweighted avg: {'precision': 0.3144593694642796, 'recall': 0.31554178145087236, 'f1-score': 0.31497724898151364, 'support': 8712.0}\n",
      "Vectorizer: TfidfVectorizer\n",
      "\tELDR: {'precision': 0.162891046386192, 'recall': 0.16629955947136563, 'f1-score': 0.1645776566757493, 'support': 908.0}\n",
      "\tGUE-NGL: {'precision': 0.25426482534524775, 'recall': 0.2617056856187291, 'f1-score': 0.25793160280181293, 'support': 1196.0}\n",
      "\tPPE-DE: {'precision': 0.40679611650485437, 'recall': 0.4125369215621923, 'f1-score': 0.40964640703927, 'support': 3047.0}\n",
      "\tPSE: {'precision': 0.33524590163934426, 'recall': 0.3286460425873845, 'f1-score': 0.33191316697098805, 'support': 2489.0}\n",
      "\tVerts-ALE: {'precision': 0.201171875, 'recall': 0.1921641791044776, 'f1-score': 0.1965648854961832, 'support': 1072.0}\n",
      "\taccuracy: 0.31508264462809915\n",
      "\tmacro avg: {'precision': 0.27207395297512765, 'recall': 0.27227047766882984, 'f1-score': 0.27212674379680074, 'support': 8712.0}\n",
      "\tweighted avg: {'precision': 0.31469201875599145, 'recall': 0.31508264462809915, 'f1-score': 0.3148490290752872, 'support': 8712.0}\n",
      "Vectorizer: TfidfVectorizer\n",
      "\tELDR: {'precision': 0.15098468271334792, 'recall': 0.15198237885462554, 'f1-score': 0.15148188803512624, 'support': 908.0}\n",
      "\tGUE-NGL: {'precision': 0.25, 'recall': 0.24749163879598662, 'f1-score': 0.24873949579831933, 'support': 1196.0}\n",
      "\tPPE-DE: {'precision': 0.4160679294578707, 'recall': 0.4181161798490318, 'f1-score': 0.417089540022917, 'support': 3047.0}\n",
      "\tPSE: {'precision': 0.340210355987055, 'recall': 0.33788670148654076, 'f1-score': 0.3390445474702681, 'support': 2489.0}\n",
      "\tVerts-ALE: {'precision': 0.17777777777777778, 'recall': 0.1791044776119403, 'f1-score': 0.17843866171003717, 'support': 1072.0}\n",
      "\taccuracy: 0.314623507805326\n",
      "\tmacro avg: {'precision': 0.2670081491872103, 'recall': 0.26691627531962503, 'f1-score': 0.26695882660733355, 'support': 8712.0}\n",
      "\tweighted avg: {'precision': 0.31464812061425734, 'recall': 0.314623507805326, 'f1-score': 0.3146324545187293, 'support': 8712.0}\n",
      "Vectorizer: TfidfVectorizer\n",
      "\tELDR: {'precision': 0.15151515151515152, 'recall': 0.1486784140969163, 'f1-score': 0.15008337965536409, 'support': 908.0}\n",
      "\tGUE-NGL: {'precision': 0.25196163905841323, 'recall': 0.24163879598662208, 'f1-score': 0.24669227486128895, 'support': 1196.0}\n",
      "\tPPE-DE: {'precision': 0.4045016077170418, 'recall': 0.41286511322612407, 'f1-score': 0.4086405717070002, 'support': 3047.0}\n",
      "\tPSE: {'precision': 0.3368083400160385, 'recall': 0.3374849337083166, 'f1-score': 0.33714629741119806, 'support': 2489.0}\n",
      "\tVerts-ALE: {'precision': 0.19626168224299065, 'recall': 0.1958955223880597, 'f1-score': 0.19607843137254902, 'support': 1072.0}\n",
      "\taccuracy: 0.3135904499540863\n",
      "\tmacro avg: {'precision': 0.2682096841099271, 'recall': 0.2673125558812077, 'f1-score': 0.26772819100148004, 'support': 8712.0}\n",
      "\tweighted avg: {'precision': 0.3122298850169711, 'recall': 0.3135904499540863, 'f1-score': 0.3128788687029667, 'support': 8712.0}\n",
      "Vectorizer: TfidfVectorizer\n",
      "\tELDR: {'precision': 0.16065192083818394, 'recall': 0.15198237885462554, 'f1-score': 0.15619694397283532, 'support': 908.0}\n",
      "\tGUE-NGL: {'precision': 0.2566752799310939, 'recall': 0.2491638795986622, 'f1-score': 0.25286380992787444, 'support': 1196.0}\n",
      "\tPPE-DE: {'precision': 0.4074675324675325, 'recall': 0.41188053823432885, 'f1-score': 0.40966215113432347, 'support': 3047.0}\n",
      "\tPSE: {'precision': 0.334136546184739, 'recall': 0.3342707914825231, 'f1-score': 0.3342036553524804, 'support': 2489.0}\n",
      "\tVerts-ALE: {'precision': 0.18092691622103388, 'recall': 0.18936567164179105, 'f1-score': 0.18505013673655424, 'support': 1072.0}\n",
      "\taccuracy: 0.31290174471992654\n",
      "\tmacro avg: {'precision': 0.2679716391285166, 'recall': 0.26733265196238615, 'f1-score': 0.26759533942481356, 'support': 8712.0}\n",
      "\tweighted avg: {'precision': 0.31221633011822714, 'recall': 0.31290174471992654, 'f1-score': 0.31252286054422246, 'support': 8712.0}\n",
      "Vectorizer: TfidfVectorizer\n",
      "\tELDR: {'precision': 0.1511879049676026, 'recall': 0.15418502202643172, 'f1-score': 0.15267175572519084, 'support': 908.0}\n",
      "\tGUE-NGL: {'precision': 0.26134453781512607, 'recall': 0.2600334448160535, 'f1-score': 0.2606873428331936, 'support': 1196.0}\n",
      "\tPPE-DE: {'precision': 0.4070710347064547, 'recall': 0.41188053823432885, 'f1-score': 0.4094616639477977, 'support': 3047.0}\n",
      "\tPSE: {'precision': 0.3315853166599435, 'recall': 0.33025311370028126, 'f1-score': 0.3309178743961353, 'support': 2489.0}\n",
      "\tVerts-ALE: {'precision': 0.18665377176015474, 'recall': 0.18003731343283583, 'f1-score': 0.18328584995251662, 'support': 1072.0}\n",
      "\taccuracy: 0.31232782369146006\n",
      "\tmacro avg: {'precision': 0.26756851318185626, 'recall': 0.26727788644198625, 'f1-score': 0.26740489737096684, 'support': 8712.0}\n",
      "\tweighted avg: {'precision': 0.3117080835837382, 'recall': 0.31232782369146006, 'f1-score': 0.31200352695098615, 'support': 8712.0}\n",
      "Vectorizer: TfidfVectorizer\n",
      "\tELDR: {'precision': 0.17121848739495799, 'recall': 0.17951541850220265, 'f1-score': 0.17526881720430107, 'support': 908.0}\n",
      "\tGUE-NGL: {'precision': 0.25585284280936454, 'recall': 0.25585284280936454, 'f1-score': 0.25585284280936454, 'support': 1196.0}\n",
      "\tPPE-DE: {'precision': 0.4127190136275146, 'recall': 0.4174597965211684, 'f1-score': 0.41507586882036224, 'support': 3047.0}\n",
      "\tPSE: {'precision': 0.3228442991418063, 'recall': 0.31739654479710727, 'f1-score': 0.320097244732577, 'support': 2489.0}\n",
      "\tVerts-ALE: {'precision': 0.1826086956521739, 'recall': 0.17630597014925373, 'f1-score': 0.17940199335548174, 'support': 1072.0}\n",
      "\taccuracy: 0.3122130394857668\n",
      "\tmacro avg: {'precision': 0.26904866772516345, 'recall': 0.2693061145558193, 'f1-score': 0.2691393533844173, 'support': 8712.0}\n",
      "\tweighted avg: {'precision': 0.3120221766965961, 'recall': 0.3122130394857668, 'f1-score': 0.3120892145699735, 'support': 8712.0}\n",
      "Vectorizer: TfidfVectorizer\n",
      "\tELDR: {'precision': 0.15523059617547807, 'recall': 0.15198237885462554, 'f1-score': 0.15358931552587646, 'support': 908.0}\n",
      "\tGUE-NGL: {'precision': 0.2577054794520548, 'recall': 0.2516722408026756, 'f1-score': 0.2546531302876481, 'support': 1196.0}\n",
      "\tPPE-DE: {'precision': 0.4023361453601557, 'recall': 0.4069576632753528, 'f1-score': 0.4046337085984663, 'support': 3047.0}\n",
      "\tPSE: {'precision': 0.33466453674121405, 'recall': 0.3366813981518682, 'f1-score': 0.3356699379130783, 'support': 2489.0}\n",
      "\tVerts-ALE: {'precision': 0.1824134705332086, 'recall': 0.18190298507462688, 'f1-score': 0.1821578701541336, 'support': 1072.0}\n",
      "\taccuracy: 0.31129476584022037\n",
      "\tmacro avg: {'precision': 0.2664700456524222, 'recall': 0.26583933323182973, 'f1-score': 0.26614079249584055, 'support': 8712.0}\n",
      "\tweighted avg: {'precision': 0.3103318000487681, 'recall': 0.31129476584022037, 'f1-score': 0.3108010634403045, 'support': 8712.0}\n",
      "Vectorizer: TfidfVectorizer\n",
      "\tELDR: {'precision': 0.15614236509758897, 'recall': 0.14977973568281938, 'f1-score': 0.1528948847667229, 'support': 908.0}\n",
      "\tGUE-NGL: {'precision': 0.2555746140651801, 'recall': 0.2491638795986622, 'f1-score': 0.2523285351397121, 'support': 1196.0}\n",
      "\tPPE-DE: {'precision': 0.3951534733441034, 'recall': 0.4013784049885133, 'f1-score': 0.398241615109085, 'support': 3047.0}\n",
      "\tPSE: {'precision': 0.33425852498017444, 'recall': 0.3386902370429892, 'f1-score': 0.33645978846537616, 'support': 2489.0}\n",
      "\tVerts-ALE: {'precision': 0.18620037807183365, 'recall': 0.1837686567164179, 'f1-score': 0.18497652582159624, 'support': 1072.0}\n",
      "\taccuracy: 0.3095730027548209\n",
      "\tmacro avg: {'precision': 0.26546587111177605, 'recall': 0.26455618280588034, 'f1-score': 0.2649802698604985, 'support': 8712.0}\n",
      "\tweighted avg: {'precision': 0.30797215486440643, 'recall': 0.3095730027548209, 'f1-score': 0.3087464340913378, 'support': 8712.0}\n",
      "Vectorizer: TfidfVectorizer\n",
      "\tELDR: {'precision': 0.16993464052287582, 'recall': 0.17180616740088106, 'f1-score': 0.17086527929901424, 'support': 908.0}\n",
      "\tGUE-NGL: {'precision': 0.24890829694323144, 'recall': 0.2382943143812709, 'f1-score': 0.24348568987612132, 'support': 1196.0}\n",
      "\tPPE-DE: {'precision': 0.40399239543726234, 'recall': 0.4184443715129636, 'f1-score': 0.4110914073835241, 'support': 3047.0}\n",
      "\tPSE: {'precision': 0.3184221228141521, 'recall': 0.31458417034953795, 'f1-score': 0.3164915117219078, 'support': 2489.0}\n",
      "\tVerts-ALE: {'precision': 0.17988394584139264, 'recall': 0.17350746268656717, 'f1-score': 0.17663817663817663, 'support': 1072.0}\n",
      "\taccuracy: 0.3081955922865014\n",
      "\tmacro avg: {'precision': 0.26422828031178286, 'recall': 0.26332729726624415, 'f1-score': 0.26371441298374887, 'support': 8712.0}\n",
      "\tweighted avg: {'precision': 0.3062842124957084, 'recall': 0.3081955922865014, 'f1-score': 0.3071686840019396, 'support': 8712.0}\n",
      "Vectorizer: TfidfVectorizer\n",
      "\tELDR: {'precision': 0.24705882352941178, 'recall': 0.023127753303964757, 'f1-score': 0.04229607250755287, 'support': 908.0}\n",
      "\tGUE-NGL: {'precision': 0.19480519480519481, 'recall': 0.01254180602006689, 'f1-score': 0.02356637863315004, 'support': 1196.0}\n",
      "\tPPE-DE: {'precision': 0.3636666666666667, 'recall': 0.3580571053495241, 'f1-score': 0.3608400859930544, 'support': 3047.0}\n",
      "\tPSE: {'precision': 0.2830707218761451, 'recall': 0.620731217356368, 'f1-score': 0.38882597206493014, 'support': 2489.0}\n",
      "\tVerts-ALE: {'precision': 0.10869565217391304, 'recall': 0.009328358208955223, 'f1-score': 0.01718213058419244, 'support': 1072.0}\n",
      "\taccuracy: 0.30785123966942146\n",
      "\tmacro avg: {'precision': 0.23945941181026634, 'recall': 0.20475724804777581, 'f1-score': 0.166542127956576, 'support': 8712.0}\n",
      "\tweighted avg: {'precision': 0.2739317635405432, 'recall': 0.30785123966942146, 'f1-score': 0.24704741197874283, 'support': 8712.0}\n",
      "Vectorizer: TfidfVectorizer\n",
      "\tELDR: {'precision': 0.1645813282001925, 'recall': 0.1883259911894273, 'f1-score': 0.17565485362095531, 'support': 908.0}\n",
      "\tGUE-NGL: {'precision': 0.23895899053627762, 'recall': 0.25334448160535117, 'f1-score': 0.24594155844155843, 'support': 1196.0}\n",
      "\tPPE-DE: {'precision': 0.39459639759839893, 'recall': 0.38825073843124386, 'f1-score': 0.3913978494623656, 'support': 3047.0}\n",
      "\tPSE: {'precision': 0.3200503355704698, 'recall': 0.30654881478505425, 'f1-score': 0.3131541145085163, 'support': 2489.0}\n",
      "\tVerts-ALE: {'precision': 0.15347018572825025, 'recall': 0.146455223880597, 'f1-score': 0.14988066825775656, 'support': 1072.0}\n",
      "\taccuracy: 0.29579889807162535\n",
      "\tmacro avg: {'precision': 0.2543314475267179, 'recall': 0.2565850499783347, 'f1-score': 0.2552058088582304, 'support': 8712.0}\n",
      "\tweighted avg: {'precision': 0.2982891811874504, 'recall': 0.29579889807162535, 'f1-score': 0.29687128393936774, 'support': 8712.0}\n",
      "Vectorizer: TfidfVectorizer\n",
      "\tELDR: {'precision': 0.1836734693877551, 'recall': 0.009911894273127754, 'f1-score': 0.018808777429467086, 'support': 908.0}\n",
      "\tGUE-NGL: {'precision': 0.2765957446808511, 'recall': 0.010869565217391304, 'f1-score': 0.02091713596138375, 'support': 1196.0}\n",
      "\tPPE-DE: {'precision': 0.46766169154228854, 'recall': 0.030850016409583198, 'f1-score': 0.05788177339901478, 'support': 3047.0}\n",
      "\tPSE: {'precision': 0.2867065868263473, 'recall': 0.9618320610687023, 'f1-score': 0.4417381677276502, 'support': 2489.0}\n",
      "\tVerts-ALE: {'precision': 0.16923076923076924, 'recall': 0.010261194029850746, 'f1-score': 0.019349164467897976, 'support': 1072.0}\n",
      "\taccuracy: 0.28937098255280075\n",
      "\tmacro avg: {'precision': 0.2767736523336023, 'recall': 0.20474494619973105, 'f1-score': 0.11173900379708276, 'support': 8712.0}\n",
      "\tweighted avg: {'precision': 0.32341336939828924, 'recall': 0.28937098255280075, 'f1-score': 0.15366042606132657, 'support': 8712.0}\n",
      "Vectorizer: TfidfVectorizer\n",
      "\tELDR: {'precision': 0.09820426487093153, 'recall': 0.5781938325991189, 'f1-score': 0.16789254876878798, 'support': 908.0}\n",
      "\tGUE-NGL: {'precision': 0.1843065693430657, 'recall': 0.1688963210702341, 'f1-score': 0.1762652705061082, 'support': 1196.0}\n",
      "\tPPE-DE: {'precision': 0.359, 'recall': 0.11782080735149328, 'f1-score': 0.17741536940943908, 'support': 3047.0}\n",
      "\tPSE: {'precision': 0.2807646356033453, 'recall': 0.09441542788268381, 'f1-score': 0.1413108839446783, 'support': 2489.0}\n",
      "\tVerts-ALE: {'precision': 0.14780600461893764, 'recall': 0.05970149253731343, 'f1-score': 0.0850498338870432, 'support': 1072.0}\n",
      "\taccuracy: 0.15897612488521579\n",
      "\tmacro avg: {'precision': 0.21401629488725601, 'recall': 0.2038055762881687, 'f1-score': 0.14958678130321137, 'support': 8712.0}\n",
      "\tweighted avg: {'precision': 0.25949774384817953, 'recall': 0.15897612488521579, 'f1-score': 0.15458454321202256, 'support': 8712.0}\n",
      "Vectorizer: TfidfVectorizer\n",
      "\tELDR: {'precision': 0.1187214611872146, 'recall': 0.08590308370044053, 'f1-score': 0.09968051118210862, 'support': 908.0}\n",
      "\tGUE-NGL: {'precision': 0.13392312385600977, 'recall': 0.7341137123745819, 'f1-score': 0.22652218782249742, 'support': 1196.0}\n",
      "\tPPE-DE: {'precision': 0.3557993730407524, 'recall': 0.0744995077125041, 'f1-score': 0.123202170963365, 'support': 3047.0}\n",
      "\tPSE: {'precision': 0.27768860353130015, 'recall': 0.06950582563278425, 'f1-score': 0.11118251928020566, 'support': 2489.0}\n",
      "\tVerts-ALE: {'precision': 0.11764705882352941, 'recall': 0.026119402985074626, 'f1-score': 0.042748091603053436, 'support': 1072.0}\n",
      "\taccuracy: 0.1588613406795225\n",
      "\tmacro avg: {'precision': 0.20075592408776127, 'recall': 0.1980283064810771, 'f1-score': 0.12066709617024603, 'support': 8712.0}\n",
      "\tweighted avg: {'precision': 0.24901014850702258, 'recall': 0.1588613406795225, 'f1-score': 0.12160086092761017, 'support': 8712.0}\n",
      "Vectorizer: TfidfVectorizer\n",
      "\tELDR: {'precision': 0.0935672514619883, 'recall': 0.01762114537444934, 'f1-score': 0.029657089898053754, 'support': 908.0}\n",
      "\tGUE-NGL: {'precision': 0.2054263565891473, 'recall': 0.04431438127090301, 'f1-score': 0.07290233837689133, 'support': 1196.0}\n",
      "\tPPE-DE: {'precision': 0.342143906020558, 'recall': 0.07646865769609452, 'f1-score': 0.125, 'support': 3047.0}\n",
      "\tPSE: {'precision': 0.2695214105793451, 'recall': 0.042989152269987944, 'f1-score': 0.07415107415107415, 'support': 2489.0}\n",
      "\tVerts-ALE: {'precision': 0.12102706453851492, 'recall': 0.8134328358208955, 'f1-score': 0.21070436148362934, 'support': 1072.0}\n",
      "\taccuracy: 0.14703856749311295\n",
      "\tmacro avg: {'precision': 0.2063371978379107, 'recall': 0.19896523448646608, 'f1-score': 0.10248297278192971, 'support': 8712.0}\n",
      "\tweighted avg: {'precision': 0.24951116535468593, 'recall': 0.14703856749311295, 'f1-score': 0.10392928528451206, 'support': 8712.0}\n",
      "Vectorizer: TfidfVectorizer\n",
      "\tELDR: {'precision': 0.02631578947368421, 'recall': 0.0011013215859030838, 'f1-score': 0.0021141649048625794, 'support': 908.0}\n",
      "\tGUE-NGL: {'precision': 0.13615751789976133, 'recall': 0.9540133779264214, 'f1-score': 0.23830409356725146, 'support': 1196.0}\n",
      "\tPPE-DE: {'precision': 0.3356643356643357, 'recall': 0.015753199868723335, 'f1-score': 0.030094043887147336, 'support': 3047.0}\n",
      "\tPSE: {'precision': 0.33695652173913043, 'recall': 0.01245480112494978, 'f1-score': 0.02402169701666021, 'support': 2489.0}\n",
      "\tVerts-ALE: {'precision': 0.15254237288135594, 'recall': 0.008395522388059701, 'f1-score': 0.015915119363395226, 'support': 1072.0}\n",
      "\taccuracy: 0.14118457300275483\n",
      "\tmacro avg: {'precision': 0.19752730753165354, 'recall': 0.19834364457881146, 'f1-score': 0.06208982374786337, 'support': 8712.0}\n",
      "\tweighted avg: {'precision': 0.2538703587416162, 'recall': 0.14118457300275483, 'f1-score': 0.05228178617954692, 'support': 8712.0}\n",
      "Vectorizer: TfidfVectorizer\n",
      "\tELDR: {'precision': 0.10164679159568427, 'recall': 0.788546255506608, 'f1-score': 0.18008048289738432, 'support': 908.0}\n",
      "\tGUE-NGL: {'precision': 0.17058823529411765, 'recall': 0.07274247491638795, 'f1-score': 0.10199296600234467, 'support': 1196.0}\n",
      "\tPPE-DE: {'precision': 0.3333333333333333, 'recall': 0.054479816212668196, 'f1-score': 0.09365303244005642, 'support': 3047.0}\n",
      "\tPSE: {'precision': 0.2997711670480549, 'recall': 0.05263157894736842, 'f1-score': 0.08954203691045796, 'support': 2489.0}\n",
      "\tVerts-ALE: {'precision': 0.13901345291479822, 'recall': 0.028917910447761194, 'f1-score': 0.047876447876447875, 'support': 1072.0}\n",
      "\taccuracy: 0.12982093663911845\n",
      "\tmacro avg: {'precision': 0.20887059603719765, 'recall': 0.19946360720615874, 'f1-score': 0.10262899322533825, 'support': 8712.0}\n",
      "\tweighted avg: {'precision': 0.2533446211150809, 'recall': 0.12982093663911845, 'f1-score': 0.09699852360516105, 'support': 8712.0}\n"
     ]
    }
   ],
   "source": [
    "for score in sorted_scores:\n",
    "    print(f\"Vectorizer: {score['vectorizer'].__class__.__name__}\")\n",
    "    for key, value in score[\"scores\"].items():\n",
    "        print(f\"\\t{key}: {value}\")"
   ]
  },
  {
   "cell_type": "markdown",
   "metadata": {},
   "source": [
    "Résultats médiocres et le model avec la meilleure accuracy a des fscores désastreuses. PLutôt utiliser ces dernières pour l'évaluation."
   ]
  },
  {
   "cell_type": "markdown",
   "metadata": {},
   "source": [
    "# Comparaison"
   ]
  },
  {
   "cell_type": "code",
   "execution_count": 17,
   "metadata": {},
   "outputs": [],
   "source": [
    "def time_function(func):\n",
    "    def wrapper(*args, **kwargs):\n",
    "        start = time.time()\n",
    "        result = func(*args, **kwargs)\n",
    "        end = time.time()\n",
    "        return result, end - start\n",
    "    return wrapper"
   ]
  },
  {
   "cell_type": "code",
   "execution_count": 18,
   "metadata": {},
   "outputs": [],
   "source": [
    "class Model:\n",
    "\n",
    "    # Contient tous les modèles entrainés ! \n",
    "    all_models = []\n",
    "\n",
    "    def __init__(self, name: str, model=None, vectorisation=None, scores={}, running_time=None, performance=None):\n",
    "        self.name = name\n",
    "        self.model = model\n",
    "        self.vectorisation = vectorisation\n",
    "        self.scores = scores\n",
    "        self.running_time = running_time\n",
    "        self.performance = performance\n",
    "\n",
    "        Model.all_models.append(self)\n",
    "        # Pour chaque modèle entraîné, on garde son nom (algo + num), le modèle et ses \n",
    "        # hyperparamètres pour cet entraînement, les métriques obtenues, et son temps d'execution !\n",
    "\n",
    "    # Pour vider la liste si nécessaire ! \n",
    "    @classmethod\n",
    "    def reset(cls):\n",
    "        cls.all_models = []\n",
    "\n",
    "    # Entraîne le modèle\n",
    "    @time_function\n",
    "    def fit_model(self, x_train, y_train):\n",
    "        self.model.fit(x_train, y_train)\n",
    "    \n",
    "    # Prédictions et scores\n",
    "    @time_function\n",
    "    def predict(self, x_test, y_test):\n",
    "        y_pred = self.model.predict(x_test)\n",
    "        report = classification_report(y_test, y_pred, output_dict=True)\n",
    "        accuracy = accuracy_score(y_test, y_pred)\n",
    "        accuracy_dict =  {\"accuracy\": accuracy, **report}\n",
    "        self.scores = accuracy_dict\n",
    "        return y_pred\n",
    "\n",
    "      # Lance les fonctions d'entraînement et de prédiction\n",
    "    # Stock les temps d'execution\n",
    "    def test_model(self, x_train, y_train, x_test, y_test):\n",
    "        _, fit_execution_time = self.fit_model(x_train, y_train)\n",
    "        y_pred, predict_execution_time = self.predict(x_test, y_test)\n",
    "        self.running_time = fit_execution_time + predict_execution_time"
   ]
  },
  {
   "cell_type": "code",
   "execution_count": 19,
   "metadata": {},
   "outputs": [],
   "source": [
    "Model.reset()"
   ]
  },
  {
   "cell_type": "code",
   "execution_count": 25,
   "metadata": {},
   "outputs": [],
   "source": [
    "models_dict = {\n",
    "    \"LogisticRegression\": {\"model\": LogisticRegression(), \"hyperparameters\": {\"C\": [0.5, 1.0]}},\n",
    "    # \"SGDClassifier\": {\"model\": SGDClassifier(), \"hyperparameters\": {\"alpha\": [0.0001, 0.001, 0.01], \"loss\": [\"hinge\", \"squared_hinge\"]}},\n",
    "    \"LinearSVC\": {\"model\": LinearSVC(), \"hyperparameters\": {\"C\": [0.5, 1.0], \"dual\":[True, False]}},\n",
    "    # \"SVC\": {\"model\": SVC(), \"hyperparameters\": {\"kernel\": [\"poly\", \"sigmoid\"]}},\n",
    "    \"RidgeClassifier\": {\"model\": RidgeClassifier(), \"hyperparameters\": { \"alpha\": [1.0, 1.5, 2]}},\n",
    "    \"LGBMClassifier\": {\"model\": LGBMClassifier(), \"hyperparameters\": {\"max_depth\": [1000], \"n_estimators\": [1000]}},\n",
    "    \"RandomForestClassifier\": {\"model\": RandomForestClassifier(), \"hyperparameters\": {\"max_depth\": [100]}}\n",
    " }"
   ]
  },
  {
   "cell_type": "code",
   "execution_count": 21,
   "metadata": {},
   "outputs": [],
   "source": [
    "def hyperparameters_training(model_name, model_dict, x_train, y_train, x_test, y_test):\n",
    "    param_grid = model_dict[\"hyperparameters\"]\n",
    "\n",
    "    if len(param_grid) == 1:\n",
    "        param_name, param_values = list(param_grid.items())[0]\n",
    "        for i, value in enumerate(param_values, start=1):\n",
    "            params = {param_name: value}\n",
    "            model = model_dict[\"model\"].__class__(**params)  \n",
    "            model_obj = Model(name=f\"{model_name}_{i}\", model=model)\n",
    "            model_obj.test_model(x_train, y_train, x_test, y_test)\n",
    "    else:\n",
    "        param_grid_combinations = list(product(*param_grid.values()))\n",
    "        for i, combination in enumerate(param_grid_combinations, start=1):\n",
    "            params = {param_name: value for param_name, value in zip(param_grid.keys(), combination)}\n",
    "            model = model_dict[\"model\"].__class__(**params) \n",
    "            model_obj = Model(name=f\"{model_name}_{i}\", model=model)\n",
    "            model_obj.test_model(x_train, y_train, x_test, y_test)"
   ]
  },
  {
   "cell_type": "code",
   "execution_count": 22,
   "metadata": {},
   "outputs": [],
   "source": [
    "@time_function\n",
    "def test_models(models, x_train, y_train, x_test, y_test):\n",
    "                                 \n",
    "    for model_name, model_dict in models.items():\n",
    "        print(f\"On teste le modèle {model_name} !\")\n",
    "        hyperparameters_training(model_name, model_dict, x_train, y_train, x_test, y_test)"
   ]
  },
  {
   "cell_type": "code",
   "execution_count": 26,
   "metadata": {},
   "outputs": [],
   "source": [
    "def test_models_and_vectorisations(models, vectorisations, df_train, df_test):\n",
    "    \n",
    "    for i, row in vectorisations.iterrows():\n",
    "        print(f\"Vectorisation {row['vectorizer'].__class__.__name__} en cours !\")\n",
    "        x_train = row[\"x_train\"]\n",
    "        x_test = row[\"x_test\"]\n",
    "        test_models(models, x_train, df_train[\"valeur\"], x_test, df_test[\"valeur\"])"
   ]
  },
  {
   "cell_type": "code",
   "execution_count": 183,
   "metadata": {},
   "outputs": [
    {
     "ename": "NameError",
     "evalue": "name 'test_models_and_vectorisations' is not defined",
     "output_type": "error",
     "traceback": [
      "\u001b[0;31m---------------------------------------------------------------------------\u001b[0m",
      "\u001b[0;31mNameError\u001b[0m                                 Traceback (most recent call last)",
      "Cell \u001b[0;32mIn[183], line 1\u001b[0m\n\u001b[0;32m----> 1\u001b[0m \u001b[43mtest_models_and_vectorisations\u001b[49m(models_dict, df_vectorisations, df_train, df_test)\n",
      "\u001b[0;31mNameError\u001b[0m: name 'test_models_and_vectorisations' is not defined"
     ]
    }
   ],
   "source": [
    "test_models_and_vectorisations(models_dict, df_vectorisations, df_train, df_test)"
   ]
  },
  {
   "cell_type": "code",
   "execution_count": 75,
   "metadata": {},
   "outputs": [
    {
     "ename": "NameError",
     "evalue": "name 'Model' is not defined",
     "output_type": "error",
     "traceback": [
      "\u001b[0;31m---------------------------------------------------------------------------\u001b[0m",
      "\u001b[0;31mNameError\u001b[0m                                 Traceback (most recent call last)",
      "Cell \u001b[0;32mIn[75], line 13\u001b[0m\n\u001b[1;32m      9\u001b[0m             bests_of_the_bests\u001b[38;5;241m.\u001b[39madd_row([model_obj\u001b[38;5;241m.\u001b[39mname, model_obj\u001b[38;5;241m.\u001b[39mmodel, model_obj\u001b[38;5;241m.\u001b[39mscores[\u001b[38;5;124m\"\u001b[39m\u001b[38;5;124maccuracy\u001b[39m\u001b[38;5;124m\"\u001b[39m], model_obj\u001b[38;5;241m.\u001b[39mscores[\u001b[38;5;124m\"\u001b[39m\u001b[38;5;124mmacro avg\u001b[39m\u001b[38;5;124m\"\u001b[39m][\u001b[38;5;124m\"\u001b[39m\u001b[38;5;124mprecision\u001b[39m\u001b[38;5;124m\"\u001b[39m], model_obj\u001b[38;5;241m.\u001b[39mscores[\u001b[38;5;124m\"\u001b[39m\u001b[38;5;124mmacro avg\u001b[39m\u001b[38;5;124m\"\u001b[39m][\u001b[38;5;124m\"\u001b[39m\u001b[38;5;124mrecall\u001b[39m\u001b[38;5;124m\"\u001b[39m], model_obj\u001b[38;5;241m.\u001b[39mscores[\u001b[38;5;124m\"\u001b[39m\u001b[38;5;124mmacro avg\u001b[39m\u001b[38;5;124m\"\u001b[39m][\u001b[38;5;124m\"\u001b[39m\u001b[38;5;124mf1-score\u001b[39m\u001b[38;5;124m\"\u001b[39m], model_obj\u001b[38;5;241m.\u001b[39mrunning_time])\n\u001b[1;32m     11\u001b[0m     \u001b[38;5;28;01mreturn\u001b[39;00m bests_of_the_bests\n\u001b[0;32m---> 13\u001b[0m table_results(\u001b[43mModel\u001b[49m\u001b[38;5;241m.\u001b[39mall_models)\n",
      "\u001b[0;31mNameError\u001b[0m: name 'Model' is not defined"
     ]
    }
   ],
   "source": [
    "##### POUR VISUALISER TOUS LES RÉSULTADOS ! #####\n",
    "def table_results(models):\n",
    "\n",
    "    bests_of_the_bests = PrettyTable([\"Model\", \"hyperparametres\", \"Accuracy\", \"Precision\", \"Recall\", \"F1-Score\", \"Running Time\"], theme=Themes.LAVENDER)\n",
    "    bests_of_the_bests = ColorTable(theme=Themes.LAVENDER)\n",
    "    \n",
    "    for model_obj in models:\n",
    "        if \"accuracy\" in model_obj.scores.keys():\n",
    "            bests_of_the_bests.add_row([model_obj.name, model_obj.model, model_obj.scores[\"accuracy\"], model_obj.scores[\"macro avg\"][\"precision\"], model_obj.scores[\"macro avg\"][\"recall\"], model_obj.scores[\"macro avg\"][\"f1-score\"], model_obj.running_time])\n",
    "\n",
    "    return bests_of_the_bests\n",
    "\n",
    "table_results(Model.all_models)"
   ]
  }
 ],
 "metadata": {
  "kernelspec": {
   "display_name": "deft09",
   "language": "python",
   "name": "python3"
  },
  "language_info": {
   "codemirror_mode": {
    "name": "ipython",
    "version": 3
   },
   "file_extension": ".py",
   "mimetype": "text/x-python",
   "name": "python",
   "nbconvert_exporter": "python",
   "pygments_lexer": "ipython3",
   "version": "3.12.3"
  }
 },
 "nbformat": 4,
 "nbformat_minor": 2
}
