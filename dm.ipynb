{
 "cells": [
  {
   "cell_type": "code",
   "execution_count": 2,
   "metadata": {},
   "outputs": [],
   "source": [
    "# === Parsing des fichiers XML ===\n",
    "from bs4 import BeautifulSoup\n",
    "\n",
    "# === Préparation de données ===\n",
    "import pandas as pd\n",
    "import numpy as np\n",
    "\n",
    "# === Visualisation ===\n",
    "import matplotlib.pyplot as plt\n",
    "\n",
    "# === Traitement de texte ===\n",
    "import spacy\n",
    "import re\n",
    "from sklearn.feature_extraction.text import TfidfVectorizer\n",
    "\n",
    "# === Classification et machine learning ===\n",
    "from sklearn.linear_model import LogisticRegression, RidgeClassifier, SGDClassifier, PassiveAggressiveClassifier\n",
    "from sklearn.naive_bayes import MultinomialNB, ComplementNB\n",
    "from sklearn.neighbors import KNeighborsClassifier\n",
    "from sklearn.svm import LinearSVC, SVC\n",
    "from sklearn.ensemble import RandomForestClassifier\n",
    "from sklearn.utils import resample\n",
    "from sklearn.model_selection import train_test_split\n",
    "from lightgbm import LGBMClassifier\n",
    "\n",
    "# === Évaluation des modèles ===\n",
    "from sklearn.metrics import accuracy_score, classification_report\n",
    "\n",
    "# === Autre ===\n",
    "from prettytable.colortable import ColorTable, Themes\n",
    "from itertools import product\n",
    "import time"
   ]
  },
  {
   "cell_type": "markdown",
   "metadata": {},
   "source": [
    "# TO DO LIST DANS LE NOTEBOOK !\n",
    "\n",
    "- [x] Finir les codes/graphes et explications de la partie données\n",
    "- [x] Faire les liens du sommaire\n",
    "- [x] Finir partie sur les tests de vectorisation\n",
    "- [ ] Commenter la classe\n",
    "- [ ] Faire le test\n",
    "- [x] Faire le test avec stratégies d'équillibrage\n",
    "- [x] Refaire les trois meilleurs modèles avec les données non traitées\n",
    "- [x] Faire voting classifier et entrainement trilingue/bilingue\n",
    "- [x] Partie évaluation\n",
    "- [ ] Conclusion"
   ]
  },
  {
   "cell_type": "markdown",
   "metadata": {},
   "source": [
    "# **Sommaire**\n",
    "\n",
    "- [1. Présentation des données](#1-présentation-des-données)\n",
    "    - [A. Extraction des données](#a-extraction-des-données)\n",
    "    - [B. Suppression des doublons](#b-suppression-des-doublons)\n",
    "    - [C. Distribution des classes](#c-distribution-des-classes)\n",
    "\n",
    "- [2. Pré-traitement des données](#2-pré-traitement-des-données)\n",
    "    - [A. Normalisation des données](#a-normalisation-des-données)\n",
    "    - [B. Vectorisation des données](#b-vectorisation-des-données)\n",
    "\n",
    "- [3. Comparaison des modèles](#3-comparaison-des-modèles)\n",
    "    - [A. Choix des algorithmes](#a-choix-des-algorithmes)\n",
    "    - [B. Organisation de la comparaison](#b-organisation-de-la-comparaison)\n",
    "\n",
    "- [4. Stratégies d'amélioration](#4-stratégies-damélioration)\n",
    "\n",
    "- [5. Évaluation des modèles](#5-évaluation-des-modèles)\n",
    "    - [A. Métriques d'évaluation](#a-métriques-dévaluation)\n",
    "    - [B. Analyse des résultats](#b-analyse-des-résultats)"
   ]
  },
  {
   "cell_type": "markdown",
   "metadata": {},
   "source": [
    "<a id=\"1-présentation-des-données\"></a>\n",
    "# **1. Présentation des données**"
   ]
  },
  {
   "cell_type": "markdown",
   "metadata": {},
   "source": [
    "On a installé sur le site du [DEFT 2009](https://deft.lisn.upsaclay.fr/) les données pour réaliser la tâche 3 qui est la suivante :\n",
    "- **Entraîner un modèle qui détermine automatiquement le parti politique d’appartenance de chaque intervenant dans le corpus parlementaire.**"
   ]
  },
  {
   "cell_type": "markdown",
   "metadata": {},
   "source": [
    "**Il y a en tout 5 classes qui correspondent aux différents partis politiques :**\n",
    "| Classe (groupe)      | Orientation politique       | Thématiques principales                                   |\n",
    "|--------------|-----------------------------|----------------------------------------------------------|\n",
    "| **Verts-ALE** | Écologistes et régionalistes | Environnement, droits des minorités, économie durable    |\n",
    "| **GUE/NGL**   | Gauche radicale             | Justice sociale, opposition à l'austérité, droits des travailleurs |\n",
    "| **PSE**       | Social-démocrates           | Réduction des inégalités, protection sociale, intégration européenne |\n",
    "| **ELDR**      | Libéraux                   | Libre marché, libertés individuelles, droits de l'homme  |\n",
    "| **PPE-DE**    | Conservateurs              | Économie sociale de marché, valeurs chrétiennes, sécurité |\n"
   ]
  },
  {
   "cell_type": "markdown",
   "metadata": {},
   "source": [
    "Notre corpus est multilingue, c'est-à-dire qu'il contient plusieurs ensembles dans des langues différentes telles que le français, l'anglais et l'italien. C'est donc un corpus parallèle et comparable auquel nous avons affaire. "
   ]
  },
  {
   "cell_type": "markdown",
   "metadata": {},
   "source": [
    "<a id=\"a-extraction-des-données\"></a>\n",
    "## **A. Extraction des données**"
   ]
  },
  {
   "cell_type": "markdown",
   "metadata": {},
   "source": [
    "Les données que nous avons téléchargées sur le site sont en format **xml**, il va donc nous falloir les parser pour les récolter. Pour cela, nous allons utilisé la librairie **BeautifulSoup**. \n",
    "Après avoir ouvert les fichiers et analysé les différentes balises pour pouvoir les extraire : \n",
    "- texte \n",
    "- id \n",
    "- valeur (label)\n",
    "- confiance (indice de confiance de la catégorisation)"
   ]
  },
  {
   "cell_type": "code",
   "execution_count": 101,
   "metadata": {},
   "outputs": [],
   "source": [
    "def get_xml_content(file):\n",
    "    \"\"\"Cette fonction permet d'extraire le contenu du fichier xml.\"\"\"\n",
    "\n",
    "    with open(file, \"r\") as f:\n",
    "        soup = BeautifulSoup(f, \"xml\")\n",
    "        \n",
    "    return soup"
   ]
  },
  {
   "cell_type": "code",
   "execution_count": 102,
   "metadata": {},
   "outputs": [],
   "source": [
    "def extract_train_info(doc):\n",
    "    \"\"\"Cette fonction permet d'extraire les données : texte, id, label.\"\"\"\n",
    "\n",
    "    doc_dico = {}\n",
    "\n",
    "    # Extraire l'id\n",
    "    doc_id = doc.get(\"id\")\n",
    "    doc_dico[\"id\"] = doc_id\n",
    "\n",
    "   # Extraire l'évaluation : nombre, valeur (label) et confiance\n",
    "    evaluation = doc.find(\"EVALUATION\")\n",
    "    evaluation_parti = evaluation.find(\"EVAL_PARTI\")\n",
    "    doc_dico[\"nombre\"] = evaluation_parti.get(\"nombre\")\n",
    "\n",
    "    parti = evaluation_parti.find(\"PARTI\")\n",
    "    doc_dico[\"label\"] = parti.get(\"valeur\")\n",
    "    doc_dico[\"confiance\"] = parti.get(\"confiance\")\n",
    "\n",
    "    # Extraire le texte\n",
    "    texte = doc.find(\"p\")\n",
    "    doc_dico[\"texte\"] = texte.text\n",
    "\n",
    "    return doc_dico"
   ]
  },
  {
   "cell_type": "code",
   "execution_count": 103,
   "metadata": {},
   "outputs": [],
   "source": [
    "def get_test_labels(file):\n",
    "    \"\"\"Cette fonction permet d'extraire les labels de l'ensemble de test à partir des fichiers référence.\"\"\"\n",
    "    \n",
    "    with open(file, \"r\") as f:\n",
    "        lines = f.readlines()\n",
    "\n",
    "    lines = [line.split(\"\\t\") for line in lines]\n",
    "    labels = {line[0]: line[1].strip() for line in lines}\n",
    "\n",
    "    return labels"
   ]
  },
  {
   "cell_type": "markdown",
   "metadata": {},
   "source": [
    "En comparant la longueur de la liste de labels et les id des échantillons de test, nous avons pu remarquer que deux interventions ne disposaient pas de label."
   ]
  },
  {
   "cell_type": "code",
   "execution_count": 104,
   "metadata": {},
   "outputs": [
    {
     "name": "stdout",
     "output_type": "stream",
     "text": [
      "1175\n",
      "4574\n"
     ]
    }
   ],
   "source": [
    "labels = get_test_labels(\"data/ref/deft09_parlement_ref_fr.txt\")\n",
    "for key, value in labels.items():\n",
    "    if value == \"\":\n",
    "        print(key)"
   ]
  },
  {
   "cell_type": "markdown",
   "metadata": {},
   "source": [
    "Ces deux échantillons ne sont ensuite pas stockés dans la dataframe utilisée pour le reste du TP."
   ]
  },
  {
   "cell_type": "code",
   "execution_count": 105,
   "metadata": {},
   "outputs": [],
   "source": [
    "def extract_test_info(doc):\n",
    "    \"\"\"Cette fonction permet d'extraire les informations de l'ensemble de test: texte et id.\"\"\"\n",
    "\n",
    "    doc_dico = {}\n",
    "\n",
    "    doc_id = doc.get(\"id\")\n",
    "    doc_dico[\"id\"] = doc_id\n",
    "\n",
    "    texte = doc.find(\"p\")\n",
    "    doc_dico[\"texte\"] = texte.text\n",
    "\n",
    "    return doc_dico"
   ]
  },
  {
   "cell_type": "code",
   "execution_count": 106,
   "metadata": {},
   "outputs": [],
   "source": [
    "def get_train_and_test_df(train_file, test_file, ref_file):\n",
    "    \"\"\"Cette fonction regroupe les autres ci-dessus et permet d'obtenir nos dataframes train et test.\"\"\"\n",
    "\n",
    "    soup_train = get_xml_content(train_file)\n",
    "    soup_test = get_xml_content(test_file)\n",
    "\n",
    "    test_labels = get_test_labels(ref_file)\n",
    "\n",
    "    all_docs = []\n",
    "    for doc in soup_train.find_all(\"doc\"):\n",
    "        doc_dico = extract_train_info(doc)\n",
    "        all_docs.append(doc_dico)\n",
    "    \n",
    "    df_train = pd.DataFrame(all_docs)\n",
    "\n",
    "    all_docs = []\n",
    "    for doc in soup_test.find_all(\"doc\"):\n",
    "        doc_dico = extract_test_info(doc)\n",
    "        if test_labels[doc_dico[\"id\"]] == \"\": # pour les deux textes sans label dans le fichier de référence\n",
    "            continue\n",
    "        doc_dico[\"label\"] = test_labels[doc_dico[\"id\"]]\n",
    "        all_docs.append(doc_dico)\n",
    "\n",
    "    df_test = pd.DataFrame(all_docs)\n",
    "    \n",
    "    return df_train, df_test"
   ]
  },
  {
   "cell_type": "code",
   "execution_count": 107,
   "metadata": {},
   "outputs": [],
   "source": [
    "df_train, df_test = get_train_and_test_df(\"data/train/deft09_parlement_appr_fr.xml\", \"data/test/deft09_parlement_test_fr.xml\", \"data/ref/deft09_parlement_ref_fr.txt\")"
   ]
  },
  {
   "cell_type": "code",
   "execution_count": 108,
   "metadata": {},
   "outputs": [
    {
     "data": {
      "text/html": [
       "<div>\n",
       "<style scoped>\n",
       "    .dataframe tbody tr th:only-of-type {\n",
       "        vertical-align: middle;\n",
       "    }\n",
       "\n",
       "    .dataframe tbody tr th {\n",
       "        vertical-align: top;\n",
       "    }\n",
       "\n",
       "    .dataframe thead th {\n",
       "        text-align: right;\n",
       "    }\n",
       "</style>\n",
       "<table border=\"1\" class=\"dataframe\">\n",
       "  <thead>\n",
       "    <tr style=\"text-align: right;\">\n",
       "      <th></th>\n",
       "      <th>id</th>\n",
       "      <th>nombre</th>\n",
       "      <th>label</th>\n",
       "      <th>confiance</th>\n",
       "      <th>texte</th>\n",
       "    </tr>\n",
       "  </thead>\n",
       "  <tbody>\n",
       "    <tr>\n",
       "      <th>0</th>\n",
       "      <td>2_fr:1</td>\n",
       "      <td>1</td>\n",
       "      <td>Verts-ALE</td>\n",
       "      <td>1.00</td>\n",
       "      <td>Monsieur le Président, j'ai toujours fait preu...</td>\n",
       "    </tr>\n",
       "    <tr>\n",
       "      <th>1</th>\n",
       "      <td>2_fr:2</td>\n",
       "      <td>1</td>\n",
       "      <td>PPE-DE</td>\n",
       "      <td>1.00</td>\n",
       "      <td>Madame la Présidente, chers collègues, à l'app...</td>\n",
       "    </tr>\n",
       "    <tr>\n",
       "      <th>2</th>\n",
       "      <td>2_fr:3</td>\n",
       "      <td>1</td>\n",
       "      <td>Verts-ALE</td>\n",
       "      <td>1.00</td>\n",
       "      <td>Je voudrais savoir si l'Union européenne, à la...</td>\n",
       "    </tr>\n",
       "    <tr>\n",
       "      <th>3</th>\n",
       "      <td>2_fr:4</td>\n",
       "      <td>1</td>\n",
       "      <td>PSE</td>\n",
       "      <td>1.00</td>\n",
       "      <td>Madame la Présidente, au nom des  de la commis...</td>\n",
       "    </tr>\n",
       "    <tr>\n",
       "      <th>4</th>\n",
       "      <td>2_fr:5</td>\n",
       "      <td>1</td>\n",
       "      <td>PSE</td>\n",
       "      <td>1.00</td>\n",
       "      <td>Monsieur le Président, chers collègues, Monsie...</td>\n",
       "    </tr>\n",
       "    <tr>\n",
       "      <th>...</th>\n",
       "      <td>...</td>\n",
       "      <td>...</td>\n",
       "      <td>...</td>\n",
       "      <td>...</td>\n",
       "      <td>...</td>\n",
       "    </tr>\n",
       "    <tr>\n",
       "      <th>19365</th>\n",
       "      <td>2_fr:19366</td>\n",
       "      <td>1</td>\n",
       "      <td>PSE</td>\n",
       "      <td>1.00</td>\n",
       "      <td>Monsieur le Président, je voudrais tout d’abor...</td>\n",
       "    </tr>\n",
       "    <tr>\n",
       "      <th>19366</th>\n",
       "      <td>2_fr:19367</td>\n",
       "      <td>1</td>\n",
       "      <td>PPE-DE</td>\n",
       "      <td>1.00</td>\n",
       "      <td>Monsieur le Président, Monsieur le Commissaire...</td>\n",
       "    </tr>\n",
       "    <tr>\n",
       "      <th>19367</th>\n",
       "      <td>2_fr:19368</td>\n",
       "      <td>1</td>\n",
       "      <td>PPE-DE</td>\n",
       "      <td>1.00</td>\n",
       "      <td>Monsieur le Président, je tiens à déclarer, au...</td>\n",
       "    </tr>\n",
       "    <tr>\n",
       "      <th>19368</th>\n",
       "      <td>2_fr:19369</td>\n",
       "      <td>1</td>\n",
       "      <td>PPE-DE</td>\n",
       "      <td>1.00</td>\n",
       "      <td>Monsieur le Président, l’aide à l’Albanie et à...</td>\n",
       "    </tr>\n",
       "    <tr>\n",
       "      <th>19369</th>\n",
       "      <td>2_fr:19370</td>\n",
       "      <td>1</td>\n",
       "      <td>PPE-DE</td>\n",
       "      <td>1.00</td>\n",
       "      <td>Monsieur le Président, le rapport de Mme Zorba...</td>\n",
       "    </tr>\n",
       "  </tbody>\n",
       "</table>\n",
       "<p>19370 rows × 5 columns</p>\n",
       "</div>"
      ],
      "text/plain": [
       "               id nombre      label confiance  \\\n",
       "0          2_fr:1      1  Verts-ALE      1.00   \n",
       "1          2_fr:2      1     PPE-DE      1.00   \n",
       "2          2_fr:3      1  Verts-ALE      1.00   \n",
       "3          2_fr:4      1        PSE      1.00   \n",
       "4          2_fr:5      1        PSE      1.00   \n",
       "...           ...    ...        ...       ...   \n",
       "19365  2_fr:19366      1        PSE      1.00   \n",
       "19366  2_fr:19367      1     PPE-DE      1.00   \n",
       "19367  2_fr:19368      1     PPE-DE      1.00   \n",
       "19368  2_fr:19369      1     PPE-DE      1.00   \n",
       "19369  2_fr:19370      1     PPE-DE      1.00   \n",
       "\n",
       "                                                   texte  \n",
       "0      Monsieur le Président, j'ai toujours fait preu...  \n",
       "1      Madame la Présidente, chers collègues, à l'app...  \n",
       "2      Je voudrais savoir si l'Union européenne, à la...  \n",
       "3      Madame la Présidente, au nom des  de la commis...  \n",
       "4      Monsieur le Président, chers collègues, Monsie...  \n",
       "...                                                  ...  \n",
       "19365  Monsieur le Président, je voudrais tout d’abor...  \n",
       "19366  Monsieur le Président, Monsieur le Commissaire...  \n",
       "19367  Monsieur le Président, je tiens à déclarer, au...  \n",
       "19368  Monsieur le Président, l’aide à l’Albanie et à...  \n",
       "19369  Monsieur le Président, le rapport de Mme Zorba...  \n",
       "\n",
       "[19370 rows x 5 columns]"
      ]
     },
     "execution_count": 108,
     "metadata": {},
     "output_type": "execute_result"
    }
   ],
   "source": [
    "df_train"
   ]
  },
  {
   "cell_type": "code",
   "execution_count": 109,
   "metadata": {},
   "outputs": [
    {
     "data": {
      "text/html": [
       "<div>\n",
       "<style scoped>\n",
       "    .dataframe tbody tr th:only-of-type {\n",
       "        vertical-align: middle;\n",
       "    }\n",
       "\n",
       "    .dataframe tbody tr th {\n",
       "        vertical-align: top;\n",
       "    }\n",
       "\n",
       "    .dataframe thead th {\n",
       "        text-align: right;\n",
       "    }\n",
       "</style>\n",
       "<table border=\"1\" class=\"dataframe\">\n",
       "  <thead>\n",
       "    <tr style=\"text-align: right;\">\n",
       "      <th></th>\n",
       "      <th>id</th>\n",
       "      <th>texte</th>\n",
       "      <th>label</th>\n",
       "    </tr>\n",
       "  </thead>\n",
       "  <tbody>\n",
       "    <tr>\n",
       "      <th>0</th>\n",
       "      <td>1</td>\n",
       "      <td>Monsieur le Président, l'accès à des médias li...</td>\n",
       "      <td>ELDR</td>\n",
       "    </tr>\n",
       "    <tr>\n",
       "      <th>1</th>\n",
       "      <td>2</td>\n",
       "      <td>Monsieur le Président, j'ai un point de vue di...</td>\n",
       "      <td>GUE-NGL</td>\n",
       "    </tr>\n",
       "    <tr>\n",
       "      <th>2</th>\n",
       "      <td>3</td>\n",
       "      <td>Monsieur le Président, Monsieur le Commissaire...</td>\n",
       "      <td>PPE-DE</td>\n",
       "    </tr>\n",
       "    <tr>\n",
       "      <th>3</th>\n",
       "      <td>4</td>\n",
       "      <td>Nous ne pouvons soutenir cette tentative d’éri...</td>\n",
       "      <td>GUE-NGL</td>\n",
       "    </tr>\n",
       "    <tr>\n",
       "      <th>4</th>\n",
       "      <td>5</td>\n",
       "      <td>Monsieur le Président, ce court débat se dérou...</td>\n",
       "      <td>PPE-DE</td>\n",
       "    </tr>\n",
       "    <tr>\n",
       "      <th>...</th>\n",
       "      <td>...</td>\n",
       "      <td>...</td>\n",
       "      <td>...</td>\n",
       "    </tr>\n",
       "    <tr>\n",
       "      <th>12910</th>\n",
       "      <td>12913</td>\n",
       "      <td>Monsieur le Président, Madame la Commissaire, ...</td>\n",
       "      <td>PPE-DE</td>\n",
       "    </tr>\n",
       "    <tr>\n",
       "      <th>12911</th>\n",
       "      <td>12914</td>\n",
       "      <td>Monsieur le Président, Monsieur le Commissaire...</td>\n",
       "      <td>PPE-DE</td>\n",
       "    </tr>\n",
       "    <tr>\n",
       "      <th>12912</th>\n",
       "      <td>12915</td>\n",
       "      <td>Madame la Présidente, permettez-moi de m'adres...</td>\n",
       "      <td>ELDR</td>\n",
       "    </tr>\n",
       "    <tr>\n",
       "      <th>12913</th>\n",
       "      <td>12916</td>\n",
       "      <td>Grâce à la proposition de directive dont trait...</td>\n",
       "      <td>GUE-NGL</td>\n",
       "    </tr>\n",
       "    <tr>\n",
       "      <th>12914</th>\n",
       "      <td>12917</td>\n",
       "      <td>Monsieur le Président, après le Timor oriental...</td>\n",
       "      <td>PSE</td>\n",
       "    </tr>\n",
       "  </tbody>\n",
       "</table>\n",
       "<p>12915 rows × 3 columns</p>\n",
       "</div>"
      ],
      "text/plain": [
       "          id                                              texte    label\n",
       "0          1  Monsieur le Président, l'accès à des médias li...     ELDR\n",
       "1          2  Monsieur le Président, j'ai un point de vue di...  GUE-NGL\n",
       "2          3  Monsieur le Président, Monsieur le Commissaire...   PPE-DE\n",
       "3          4  Nous ne pouvons soutenir cette tentative d’éri...  GUE-NGL\n",
       "4          5  Monsieur le Président, ce court débat se dérou...   PPE-DE\n",
       "...      ...                                                ...      ...\n",
       "12910  12913  Monsieur le Président, Madame la Commissaire, ...   PPE-DE\n",
       "12911  12914  Monsieur le Président, Monsieur le Commissaire...   PPE-DE\n",
       "12912  12915  Madame la Présidente, permettez-moi de m'adres...     ELDR\n",
       "12913  12916  Grâce à la proposition de directive dont trait...  GUE-NGL\n",
       "12914  12917  Monsieur le Président, après le Timor oriental...      PSE\n",
       "\n",
       "[12915 rows x 3 columns]"
      ]
     },
     "execution_count": 109,
     "metadata": {},
     "output_type": "execute_result"
    }
   ],
   "source": [
    "df_test"
   ]
  },
  {
   "cell_type": "markdown",
   "metadata": {},
   "source": [
    "<a id=\"b-suppression-des-doublons\"></a>\n",
    "## **B. Suppression des doublons**"
   ]
  },
  {
   "cell_type": "markdown",
   "metadata": {},
   "source": [
    "**Après concertation avec les autres étudiants, nous avons été informées qu'il y avait des doublons entre les ensembles de train et de test.**"
   ]
  },
  {
   "cell_type": "code",
   "execution_count": 110,
   "metadata": {},
   "outputs": [],
   "source": [
    "train_texts = df_train[\"texte\"].to_list()\n",
    "test_texts = df_test[\"texte\"].to_list()"
   ]
  },
  {
   "cell_type": "code",
   "execution_count": 111,
   "metadata": {},
   "outputs": [],
   "source": [
    "def check_copy(train_texts, test_texts):\n",
    "\n",
    "    num_copy = 0\n",
    "\n",
    "    for text in train_texts:\n",
    "        if text in test_texts:\n",
    "            num_copy += 1\n",
    "\n",
    "    return num_copy"
   ]
  },
  {
   "cell_type": "code",
   "execution_count": 112,
   "metadata": {},
   "outputs": [
    {
     "name": "stdout",
     "output_type": "stream",
     "text": [
      "Il y a 7813 textes en commun entre les données d'entraînement et de test.\n"
     ]
    }
   ],
   "source": [
    "num_copy = check_copy(train_texts, test_texts)\n",
    "print(f\"Il y a {num_copy} textes en commun entre les données d'entraînement et de test.\")"
   ]
  },
  {
   "cell_type": "markdown",
   "metadata": {},
   "source": [
    "**Après vérification, nous trouvions 7813 doublons entre les deux ensembles, soit plus d'un tiers de l'ensemble de train.**"
   ]
  },
  {
   "cell_type": "markdown",
   "metadata": {},
   "source": [
    "Nous voulions donc retirer ces doublons tout en essayant de respecter le split originel du corpus de 60% des échantillons pour le train et 40% pour le test."
   ]
  },
  {
   "cell_type": "markdown",
   "metadata": {},
   "source": [
    "En effet, lorsque qu'on calcule les pourcentages du split :"
   ]
  },
  {
   "cell_type": "code",
   "execution_count": 113,
   "metadata": {},
   "outputs": [],
   "source": [
    "def get_distribution(df_train, df_test):\n",
    "\n",
    "    total_texts = len(df_train) + len(df_test)\n",
    "    percentage_train = len(df_train) / total_texts * 100\n",
    "    percentage_test = len(df_test) / total_texts * 100\n",
    "\n",
    "    return percentage_train, percentage_test"
   ]
  },
  {
   "cell_type": "code",
   "execution_count": 114,
   "metadata": {},
   "outputs": [
    {
     "name": "stdout",
     "output_type": "stream",
     "text": [
      "Pourcentage de textes d'entraînement : 60.00%\n",
      "Pourcentage de textes de test : 40.00%\n"
     ]
    }
   ],
   "source": [
    "percentage_train, percentage_test = get_distribution(df_train, df_test)\n",
    "print(f\"Pourcentage de textes d'entraînement : {percentage_train:.2f}%\")\n",
    "print(f\"Pourcentage de textes de test : {percentage_test:.2f}%\")"
   ]
  },
  {
   "cell_type": "markdown",
   "metadata": {},
   "source": [
    "**Nous voulions donc pouvoir enlever les doublons des deux ensembles de manière à rester proches de ce split originel.**\n",
    "En effet, retirer tous les doublons de l'ensemble de train nous donnerait un split bien trop proche."
   ]
  },
  {
   "cell_type": "code",
   "execution_count": 115,
   "metadata": {},
   "outputs": [],
   "source": [
    "def balance_distribution(df_train, df_test):\n",
    "    \"\"\"Cette fonction permet de retirer des doublons soit de l'ensemble de train soit de celui de test\n",
    "    de manière alternée afin de rester le plus proche d'une distribution 60/40.\"\"\"\n",
    "\n",
    "    train_texts = df_train[\"texte\"].to_list()\n",
    "    test_texts = df_test[\"texte\"].to_list()\n",
    "\n",
    "    for text in train_texts:\n",
    "        if text in test_texts:\n",
    "            percentage_train, percentage_test = get_distribution(df_train, df_test)\n",
    "            difference_train = abs(percentage_train - 60)\n",
    "            difference_test = abs(percentage_test - 40)\n",
    "\n",
    "            if difference_train > difference_test:\n",
    "                df_test = df_test[df_test[\"texte\"] != text]\n",
    "            else:\n",
    "                df_train = df_train[df_train[\"texte\"] != text]\n",
    "\n",
    "    return df_train, df_test"
   ]
  },
  {
   "cell_type": "code",
   "execution_count": 116,
   "metadata": {},
   "outputs": [
    {
     "name": "stdout",
     "output_type": "stream",
     "text": [
      "Pourcentage de textes d'entraînement : 53.40%\n",
      "Pourcentage de textes de test : 46.60%\n"
     ]
    }
   ],
   "source": [
    "df_train, df_test = balance_distribution(df_train, df_test)\n",
    "percentage_train, percentage_test = get_distribution(df_train, df_test)\n",
    "print(f\"Pourcentage de textes d'entraînement : {percentage_train:.2f}%\")\n",
    "print(f\"Pourcentage de textes de test : {percentage_test:.2f}%\")"
   ]
  },
  {
   "cell_type": "markdown",
   "metadata": {},
   "source": [
    "**Après avoir retirer les doublons, nous nous retrouvons avec un split de 53 pour le train et 46 pour le test.**"
   ]
  },
  {
   "cell_type": "code",
   "execution_count": 117,
   "metadata": {},
   "outputs": [
    {
     "name": "stdout",
     "output_type": "stream",
     "text": [
      "Il y a 0 textes en commun entre les données d'entraînement et de test.\n"
     ]
    }
   ],
   "source": [
    "train_texts = df_train[\"texte\"].to_list()\n",
    "test_texts = df_test[\"texte\"].to_list()\n",
    "num_copy = check_copy(train_texts, test_texts)\n",
    "print(f\"Il y a {num_copy} textes en commun entre les données d'entraînement et de test.\")"
   ]
  },
  {
   "cell_type": "markdown",
   "metadata": {},
   "source": [
    "Après vérification, nous avons bien retiré tous les doublons !"
   ]
  },
  {
   "cell_type": "markdown",
   "metadata": {},
   "source": [
    "Nous n'avons plus de doublons mais nous restons quelque peu éloignés de la distribution 60/40. **On va donc retirer des textes de l'ensemble de test pour arriver à la distribution souhaitée.**"
   ]
  },
  {
   "cell_type": "code",
   "execution_count": 118,
   "metadata": {},
   "outputs": [],
   "source": [
    "def reach_desired_distribution(df_train, df_test):\n",
    "\n",
    "    while True:\n",
    "        percentage_train, percentage_test = get_distribution(df_train, df_test)\n",
    "\n",
    "        if percentage_train >= 60:\n",
    "            break\n",
    "        else:\n",
    "            df_test = df_test.drop(df_test.index[0])\n",
    "\n",
    "    \n",
    "    return df_train, df_test"
   ]
  },
  {
   "cell_type": "code",
   "execution_count": 119,
   "metadata": {},
   "outputs": [
    {
     "name": "stdout",
     "output_type": "stream",
     "text": [
      "Pourcentage de textes d'entraînement : 60.00%\n",
      "Pourcentage de textes de test : 40.00%\n",
      "Il y a 0 textes en commun entre les données d'entraînement et de test.\n"
     ]
    }
   ],
   "source": [
    "df_train, df_test = reach_desired_distribution(df_train, df_test)\n",
    "percentage_train, percentage_test = get_distribution(df_train, df_test)\n",
    "print(f\"Pourcentage de textes d'entraînement : {percentage_train:.2f}%\")\n",
    "print(f\"Pourcentage de textes de test : {percentage_test:.2f}%\")\n",
    "num_copy = check_copy(train_texts, test_texts)\n",
    "print(f\"Il y a {num_copy} textes en commun entre les données d'entraînement et de test.\")"
   ]
  },
  {
   "cell_type": "markdown",
   "metadata": {},
   "source": [
    "**Nous arrivons ici à un split fidèle à celui d'origine et à un corpus sans doublon entre les ensembles de train et de test !**"
   ]
  },
  {
   "cell_type": "code",
   "execution_count": 120,
   "metadata": {},
   "outputs": [],
   "source": [
    "# df_train.to_csv(\"data/train.csv\", index=False)\n",
    "# df_test.to_csv(\"data/test.csv\", index=False)"
   ]
  },
  {
   "cell_type": "markdown",
   "metadata": {},
   "source": [
    "<a id=\"c-distribution-des-classes\"></a>\n",
    "## **C. Distribution des classes**"
   ]
  },
  {
   "cell_type": "markdown",
   "metadata": {},
   "source": [
    "Nous voulons ici nous intéresser aux distributions de nos classes dans le corpus."
   ]
  },
  {
   "cell_type": "code",
   "execution_count": 121,
   "metadata": {},
   "outputs": [],
   "source": [
    "def preparer_distributions_classes(df_train, df_test):\n",
    "    \"\"\"Cette fonction permet d'isoler les comptes de chaque classe pour chaque ensemble\"\"\"\n",
    "\n",
    "    train_counts = df_train[\"label\"].value_counts()\n",
    "    test_counts = df_test[\"label\"].value_counts()\n",
    "\n",
    "    classes = list(set(train_counts.index).union(set(test_counts.index)))\n",
    "    train_values = np.array([train_counts.get(cls, 0) for cls in classes])\n",
    "    test_values = np.array([test_counts.get(cls, 0) for cls in classes])\n",
    "\n",
    "    return classes, train_values, test_values"
   ]
  },
  {
   "cell_type": "code",
   "execution_count": 122,
   "metadata": {},
   "outputs": [
    {
     "name": "stdout",
     "output_type": "stream",
     "text": [
      "Pourcentage de la part du test\n",
      "==============================\n",
      "\u001b[38;5;219m+\u001b[0m\u001b[38;5;183m\u001b[38;5;147m-\u001b[0m\u001b[38;5;183m\u001b[38;5;147m-\u001b[0m\u001b[38;5;183m\u001b[38;5;147m-\u001b[0m\u001b[38;5;183m\u001b[38;5;147m-\u001b[0m\u001b[38;5;183m\u001b[38;5;147m-\u001b[0m\u001b[38;5;183m\u001b[38;5;147m-\u001b[0m\u001b[38;5;183m\u001b[38;5;147m-\u001b[0m\u001b[38;5;183m\u001b[38;5;147m-\u001b[0m\u001b[38;5;183m\u001b[38;5;147m-\u001b[0m\u001b[38;5;183m\u001b[38;5;147m-\u001b[0m\u001b[38;5;183m\u001b[38;5;147m-\u001b[0m\u001b[38;5;183m\u001b[38;5;219m+\u001b[0m\u001b[38;5;183m\u001b[38;5;147m-\u001b[0m\u001b[38;5;183m\u001b[38;5;147m-\u001b[0m\u001b[38;5;183m\u001b[38;5;147m-\u001b[0m\u001b[38;5;183m\u001b[38;5;147m-\u001b[0m\u001b[38;5;183m\u001b[38;5;147m-\u001b[0m\u001b[38;5;183m\u001b[38;5;147m-\u001b[0m\u001b[38;5;183m\u001b[38;5;147m-\u001b[0m\u001b[38;5;183m\u001b[38;5;219m+\u001b[0m\u001b[38;5;183m\u001b[38;5;147m-\u001b[0m\u001b[38;5;183m\u001b[38;5;147m-\u001b[0m\u001b[38;5;183m\u001b[38;5;147m-\u001b[0m\u001b[38;5;183m\u001b[38;5;147m-\u001b[0m\u001b[38;5;183m\u001b[38;5;147m-\u001b[0m\u001b[38;5;183m\u001b[38;5;147m-\u001b[0m\u001b[38;5;183m\u001b[38;5;219m+\u001b[0m\u001b[38;5;183m\u001b[38;5;147m-\u001b[0m\u001b[38;5;183m\u001b[38;5;147m-\u001b[0m\u001b[38;5;183m\u001b[38;5;147m-\u001b[0m\u001b[38;5;183m\u001b[38;5;147m-\u001b[0m\u001b[38;5;183m\u001b[38;5;147m-\u001b[0m\u001b[38;5;183m\u001b[38;5;147m-\u001b[0m\u001b[38;5;183m\u001b[38;5;147m-\u001b[0m\u001b[38;5;183m\u001b[38;5;147m-\u001b[0m\u001b[38;5;183m\u001b[38;5;147m-\u001b[0m\u001b[38;5;183m\u001b[38;5;147m-\u001b[0m\u001b[38;5;183m\u001b[38;5;147m-\u001b[0m\u001b[38;5;183m\u001b[38;5;147m-\u001b[0m\u001b[38;5;183m\u001b[38;5;147m-\u001b[0m\u001b[38;5;183m\u001b[38;5;219m+\u001b[0m\u001b[38;5;183m\n",
      "\u001b[35m|\u001b[0m\u001b[38;5;183m   Classe  \u001b[35m|\u001b[0m\u001b[38;5;183m Train \u001b[35m|\u001b[0m\u001b[38;5;183m Test \u001b[35m|\u001b[0m\u001b[38;5;183m Pourcentage \u001b[35m|\u001b[0m\u001b[38;5;183m\n",
      "\u001b[38;5;219m+\u001b[0m\u001b[38;5;183m\u001b[38;5;147m-\u001b[0m\u001b[38;5;183m\u001b[38;5;147m-\u001b[0m\u001b[38;5;183m\u001b[38;5;147m-\u001b[0m\u001b[38;5;183m\u001b[38;5;147m-\u001b[0m\u001b[38;5;183m\u001b[38;5;147m-\u001b[0m\u001b[38;5;183m\u001b[38;5;147m-\u001b[0m\u001b[38;5;183m\u001b[38;5;147m-\u001b[0m\u001b[38;5;183m\u001b[38;5;147m-\u001b[0m\u001b[38;5;183m\u001b[38;5;147m-\u001b[0m\u001b[38;5;183m\u001b[38;5;147m-\u001b[0m\u001b[38;5;183m\u001b[38;5;147m-\u001b[0m\u001b[38;5;183m\u001b[38;5;219m+\u001b[0m\u001b[38;5;183m\u001b[38;5;147m-\u001b[0m\u001b[38;5;183m\u001b[38;5;147m-\u001b[0m\u001b[38;5;183m\u001b[38;5;147m-\u001b[0m\u001b[38;5;183m\u001b[38;5;147m-\u001b[0m\u001b[38;5;183m\u001b[38;5;147m-\u001b[0m\u001b[38;5;183m\u001b[38;5;147m-\u001b[0m\u001b[38;5;183m\u001b[38;5;147m-\u001b[0m\u001b[38;5;183m\u001b[38;5;219m+\u001b[0m\u001b[38;5;183m\u001b[38;5;147m-\u001b[0m\u001b[38;5;183m\u001b[38;5;147m-\u001b[0m\u001b[38;5;183m\u001b[38;5;147m-\u001b[0m\u001b[38;5;183m\u001b[38;5;147m-\u001b[0m\u001b[38;5;183m\u001b[38;5;147m-\u001b[0m\u001b[38;5;183m\u001b[38;5;147m-\u001b[0m\u001b[38;5;183m\u001b[38;5;219m+\u001b[0m\u001b[38;5;183m\u001b[38;5;147m-\u001b[0m\u001b[38;5;183m\u001b[38;5;147m-\u001b[0m\u001b[38;5;183m\u001b[38;5;147m-\u001b[0m\u001b[38;5;183m\u001b[38;5;147m-\u001b[0m\u001b[38;5;183m\u001b[38;5;147m-\u001b[0m\u001b[38;5;183m\u001b[38;5;147m-\u001b[0m\u001b[38;5;183m\u001b[38;5;147m-\u001b[0m\u001b[38;5;183m\u001b[38;5;147m-\u001b[0m\u001b[38;5;183m\u001b[38;5;147m-\u001b[0m\u001b[38;5;183m\u001b[38;5;147m-\u001b[0m\u001b[38;5;183m\u001b[38;5;147m-\u001b[0m\u001b[38;5;183m\u001b[38;5;147m-\u001b[0m\u001b[38;5;183m\u001b[38;5;147m-\u001b[0m\u001b[38;5;183m\u001b[38;5;219m+\u001b[0m\u001b[38;5;183m\n",
      "\u001b[35m|\u001b[0m\u001b[38;5;183m  GUE-NGL  \u001b[35m|\u001b[0m\u001b[38;5;183m  1823 \u001b[35m|\u001b[0m\u001b[38;5;183m 1196 \u001b[35m|\u001b[0m\u001b[38;5;183m    39.62%   \u001b[35m|\u001b[0m\u001b[38;5;183m\n",
      "\u001b[35m|\u001b[0m\u001b[38;5;183m Verts-ALE \u001b[35m|\u001b[0m\u001b[38;5;183m  1609 \u001b[35m|\u001b[0m\u001b[38;5;183m 1072 \u001b[35m|\u001b[0m\u001b[38;5;183m    39.99%   \u001b[35m|\u001b[0m\u001b[38;5;183m\n",
      "\u001b[35m|\u001b[0m\u001b[38;5;183m    ELDR   \u001b[35m|\u001b[0m\u001b[38;5;183m  1351 \u001b[35m|\u001b[0m\u001b[38;5;183m 908  \u001b[35m|\u001b[0m\u001b[38;5;183m    40.19%   \u001b[35m|\u001b[0m\u001b[38;5;183m\n",
      "\u001b[35m|\u001b[0m\u001b[38;5;183m   PPE-DE  \u001b[35m|\u001b[0m\u001b[38;5;183m  4635 \u001b[35m|\u001b[0m\u001b[38;5;183m 3047 \u001b[35m|\u001b[0m\u001b[38;5;183m    39.66%   \u001b[35m|\u001b[0m\u001b[38;5;183m\n",
      "\u001b[35m|\u001b[0m\u001b[38;5;183m    PSE    \u001b[35m|\u001b[0m\u001b[38;5;183m  3650 \u001b[35m|\u001b[0m\u001b[38;5;183m 2489 \u001b[35m|\u001b[0m\u001b[38;5;183m    40.54%   \u001b[35m|\u001b[0m\u001b[38;5;183m\n",
      "\u001b[38;5;219m+\u001b[0m\u001b[38;5;183m\u001b[38;5;147m-\u001b[0m\u001b[38;5;183m\u001b[38;5;147m-\u001b[0m\u001b[38;5;183m\u001b[38;5;147m-\u001b[0m\u001b[38;5;183m\u001b[38;5;147m-\u001b[0m\u001b[38;5;183m\u001b[38;5;147m-\u001b[0m\u001b[38;5;183m\u001b[38;5;147m-\u001b[0m\u001b[38;5;183m\u001b[38;5;147m-\u001b[0m\u001b[38;5;183m\u001b[38;5;147m-\u001b[0m\u001b[38;5;183m\u001b[38;5;147m-\u001b[0m\u001b[38;5;183m\u001b[38;5;147m-\u001b[0m\u001b[38;5;183m\u001b[38;5;147m-\u001b[0m\u001b[38;5;183m\u001b[38;5;219m+\u001b[0m\u001b[38;5;183m\u001b[38;5;147m-\u001b[0m\u001b[38;5;183m\u001b[38;5;147m-\u001b[0m\u001b[38;5;183m\u001b[38;5;147m-\u001b[0m\u001b[38;5;183m\u001b[38;5;147m-\u001b[0m\u001b[38;5;183m\u001b[38;5;147m-\u001b[0m\u001b[38;5;183m\u001b[38;5;147m-\u001b[0m\u001b[38;5;183m\u001b[38;5;147m-\u001b[0m\u001b[38;5;183m\u001b[38;5;219m+\u001b[0m\u001b[38;5;183m\u001b[38;5;147m-\u001b[0m\u001b[38;5;183m\u001b[38;5;147m-\u001b[0m\u001b[38;5;183m\u001b[38;5;147m-\u001b[0m\u001b[38;5;183m\u001b[38;5;147m-\u001b[0m\u001b[38;5;183m\u001b[38;5;147m-\u001b[0m\u001b[38;5;183m\u001b[38;5;147m-\u001b[0m\u001b[38;5;183m\u001b[38;5;219m+\u001b[0m\u001b[38;5;183m\u001b[38;5;147m-\u001b[0m\u001b[38;5;183m\u001b[38;5;147m-\u001b[0m\u001b[38;5;183m\u001b[38;5;147m-\u001b[0m\u001b[38;5;183m\u001b[38;5;147m-\u001b[0m\u001b[38;5;183m\u001b[38;5;147m-\u001b[0m\u001b[38;5;183m\u001b[38;5;147m-\u001b[0m\u001b[38;5;183m\u001b[38;5;147m-\u001b[0m\u001b[38;5;183m\u001b[38;5;147m-\u001b[0m\u001b[38;5;183m\u001b[38;5;147m-\u001b[0m\u001b[38;5;183m\u001b[38;5;147m-\u001b[0m\u001b[38;5;183m\u001b[38;5;147m-\u001b[0m\u001b[38;5;183m\u001b[38;5;147m-\u001b[0m\u001b[38;5;183m\u001b[38;5;147m-\u001b[0m\u001b[38;5;183m\u001b[38;5;219m+\u001b[0m\u001b[38;5;183m\u001b[0m\n",
      "\n",
      "Résumé des totaux\n",
      "=================\n",
      "Total Train : 13068\n",
      "Total Test  : 8712\n",
      "Pourcentage Global Test : 40.00%\n"
     ]
    }
   ],
   "source": [
    "prettytable_test_pourcentage = ColorTable(theme=Themes.LAVENDER)\n",
    "prettytable_test_pourcentage.field_names = [\"Classe\", \"Train\", \"Test\", \"Pourcentage\"]\n",
    "\n",
    "def tableau_test_pourcentage(df_train, df_test):\n",
    "    \"\"\"Cette fonction permet d'obtenir la répartition de chaque classe entre les deux ensembles.\n",
    "    Donc de voir combien de pourcentages de chaque classe se retrouve dans l'ensemble de test.\"\"\"\n",
    "\n",
    "    classes, train_values, test_values = preparer_distributions_classes(df_train, df_test)\n",
    "\n",
    "    pourcentage_test = ((test_values / (test_values + train_values)) * 100)\n",
    "    pourcentage_test = np.nan_to_num(pourcentage_test) \n",
    "\n",
    "    for cls, train, test, pourcentage in zip(classes, train_values, test_values, pourcentage_test):\n",
    "        prettytable_test_pourcentage.add_row([cls, train, test, f\"{pourcentage:.2f}%\"])\n",
    "    \n",
    "    total_train = np.sum(train_values)\n",
    "    total_test = np.sum(test_values)\n",
    "    pourcentage_global = (total_test / (total_train + total_test)) * 100\n",
    "\n",
    "    title = \"Pourcentage de la part du test\"\n",
    "    print(f\"{title}\\n\" + \"=\" * len(title))\n",
    "    print(prettytable_test_pourcentage)\n",
    "    print(\"\\nRésumé des totaux\\n\" + \"=\" * len(\"Résumé des totaux\"))\n",
    "    print(f\"Total Train : {total_train}\")\n",
    "    print(f\"Total Test  : {total_test}\")\n",
    "    print(f\"Pourcentage Global Test : {pourcentage_global:.2f}%\")\n",
    "    \n",
    "tableau_test_pourcentage(df_train, df_test)"
   ]
  },
  {
   "cell_type": "markdown",
   "metadata": {},
   "source": [
    "**Ci-dessus, nous pouvons premièrement voir que chaque classe est splité en 60/40 entre les deux ensembles !**"
   ]
  },
  {
   "cell_type": "code",
   "execution_count": 161,
   "metadata": {},
   "outputs": [
    {
     "data": {
      "image/png": "[encoded data removed]",
      "text/plain": [
       "<Figure size 600x500 with 1 Axes>"
      ]
     },
     "metadata": {},
     "output_type": "display_data"
    }
   ],
   "source": [
    "def distribution_des_classes(df_train, df_test):\n",
    "    \"\"\"Cette fonction permet d'afficher le nombre d'échantillons de chaque classe dans les deux ensembles.\"\"\"\n",
    "\n",
    "    classes, train_values, test_values = preparer_distributions_classes(df_train, df_test)\n",
    "\n",
    "    x = np.arange(len(classes))\n",
    "    width = 0.4\n",
    "\n",
    "    fig, ax = plt.subplots(figsize=(6, 5))\n",
    "    ax.bar(x - width/2, train_values, width, label=\"Données train\", color=\"orchid\")\n",
    "    ax.bar(x + width/2, test_values, width, label=\"Données test\", color=\"pink\")\n",
    "\n",
    "    ax.set_xlabel(\"Classes (noms des partis politiques)\")\n",
    "    ax.set_ylabel(\"Nombre d'exemples\")\n",
    "    ax.set_xticks(x)\n",
    "    ax.set_xticklabels(classes, rotation=45)\n",
    "    ax.legend()\n",
    "\n",
    "    plt.tight_layout()\n",
    "    plt.savefig(\"article/graphique_avant.png\", dpi=300, bbox_inches=\"tight\")\n",
    "    plt.show()\n",
    "\n",
    "distribution_des_classes(df_train, df_test)"
   ]
  },
  {
   "cell_type": "markdown",
   "metadata": {},
   "source": [
    "**Nous pouvons ici voir comment les classes sont distribuées dans les deux ensembles les unes par rapport aux autres !**\n",
    "Nous avons des classes clairement majoritaires."
   ]
  },
  {
   "cell_type": "code",
   "execution_count": 124,
   "metadata": {},
   "outputs": [
    {
     "data": {
      "image/png": "[encoded data removed]",
      "text/plain": [
       "<Figure size 700x500 with 1 Axes>"
      ]
     },
     "metadata": {},
     "output_type": "display_data"
    }
   ],
   "source": [
    "def compare_class_distribution(df_train, df_test):\n",
    "\n",
    "    total_train = len(df_train)\n",
    "    total_test = len(df_test)\n",
    "\n",
    "    train_distribution = {source: count / total_train * 100 for source, count in df_train.groupby(\"label\").size().to_dict().items()}\n",
    "    test_distribution = {source: count / total_test * 100 for source, count in df_test.groupby(\"label\").size().to_dict().items()}\n",
    "\n",
    "    x = np.arange(len(train_distribution))\n",
    "    width = 0.4\n",
    "    plt.figure(figsize=(7, 5))\n",
    "    train_bars = plt.bar(x - 0.2, train_distribution.values(), width, label=\"Ensemble de train\", color=\"orchid\")\n",
    "    test_bars = plt.bar(x + 0.2, test_distribution.values(), width, label=\"Ensemble de test\", color=\"pink\")\n",
    "\n",
    "    for bar in train_bars:\n",
    "        height = bar.get_height()\n",
    "        plt.text(bar.get_x() + bar.get_width() / 2, height, f'{round(height, 2)}', ha=\"center\", va=\"bottom\")\n",
    "\n",
    "    for bar in test_bars:\n",
    "        height = bar.get_height()\n",
    "        plt.text(bar.get_x() + bar.get_width() / 2, height, f'{round(height, 2)}', ha=\"center\", va=\"bottom\")\n",
    "\n",
    "    plt.xticks(x, train_distribution.keys(), rotation=45)\n",
    "    plt.xlabel(\"Partis politiques\")\n",
    "    plt.ylabel(\"Pourcentage de documents\")\n",
    "    plt.legend()\n",
    "    plt.savefig(\"article/graphique_apres.png\", dpi=300, bbox_inches=\"tight\")\n",
    "    plt.show()\n",
    "\n",
    "compare_class_distribution(df_train, df_test)\n"
   ]
  },
  {
   "cell_type": "markdown",
   "metadata": {},
   "source": [
    "**Nous pouvons obtenir les mêmes chiffres mais sous forme de pourcentage afin de voir si la répartition des classes est identique entre les deux ensembles et c'est le cas, notamment car les classes sont splitées en 60/40 de manière égalitaire.**"
   ]
  },
  {
   "cell_type": "markdown",
   "metadata": {},
   "source": [
    "Dans la description de la tâche, les nombres d'échantillons sont explicités comme étant les suivants :"
   ]
  },
  {
   "cell_type": "markdown",
   "metadata": {},
   "source": [
    "\n",
    "||   ELDR    | GUE/NGL | PPE-DE     | PSE | Verts/ALE\n",
    "|:---| :---        |    :----   |          :--- | :--- | :--- |\n",
    "|Nombre de documents| 3 346 | 4 482   |  11 429 | 9 066 | 3 961 |\n",
    "|Pourcentage de documents|10.33%|13.84%|35.29%|27.99%|12.23%|\n",
    "\n",
    "**Lorsqu'ils sont convertis en pourcentage, nous pouvons voir qu'ils semblent correspondre à ceux obtenus après notre équillibrage. Nous avons donc un corpus plus petit que celui original mais semblant disposer des mêmes \"conditions\" que ce dernier !**"
   ]
  },
  {
   "cell_type": "markdown",
   "metadata": {},
   "source": [
    "<a id=\"2-pré-traitement-des-données\"></a>\n",
    "# **2. Pré-traitement des données**"
   ]
  },
  {
   "cell_type": "markdown",
   "metadata": {},
   "source": [
    "<a id=\"a-normalisation-des-données\"></a>\n",
    "## **A. Normalisation des données**"
   ]
  },
  {
   "cell_type": "markdown",
   "metadata": {},
   "source": [
    "Nous allons normaliser nos données en enlevant les ponctuations, stopwords, majuscules et en lemmatisant les textes."
   ]
  },
  {
   "cell_type": "code",
   "execution_count": 126,
   "metadata": {},
   "outputs": [],
   "source": [
    "nlp = spacy.load(\"en_core_web_sm\")"
   ]
  },
  {
   "cell_type": "code",
   "execution_count": 127,
   "metadata": {},
   "outputs": [],
   "source": [
    "def tokenize(text):\n",
    "\n",
    "    doc = nlp(text)\n",
    "    return doc"
   ]
  },
  {
   "cell_type": "code",
   "execution_count": 128,
   "metadata": {},
   "outputs": [],
   "source": [
    "def lemmatisation(doc):\n",
    "    \n",
    "    return \" \".join([token.lemma_ for token in doc])"
   ]
  },
  {
   "cell_type": "code",
   "execution_count": 129,
   "metadata": {},
   "outputs": [],
   "source": [
    "def i_love_lowercase(text):\n",
    "    \n",
    "    return text.lower()"
   ]
  },
  {
   "cell_type": "code",
   "execution_count": 130,
   "metadata": {},
   "outputs": [],
   "source": [
    "def remove_stop_words(doc):\n",
    "    \n",
    "    stop_words = [\n",
    "    'au', 'aux', 'avec', 'ce', 'ces', 'dans', 'de', 'des', 'du', 'elle', 'en',\n",
    "    'et', 'eux', 'il', 'je', 'la', 'le', 'leur', 'lui', 'ma', 'mais', 'me',\n",
    "    'même', 'mes', 'moi', 'mon', 'ne', 'nos', 'notre', 'nous', 'on', 'ou',\n",
    "    'par', 'pas', 'pour', 'qu', 'que', 'qui', 'sa', 'se', 'ses', 'son', 'sur',\n",
    "    'ta', 'te', 'tes', 'toi', 'ton', 'tu', 'un', 'une', 'vos', 'votre', 'vous',\n",
    "    'c', 'd', 'j', 'l', 'à', 'm', 'n', 's', 't', 'y', 'été', 'étée', 'étées',\n",
    "    'étés', 'étant', 'étante', 'étants', 'étantes', 'suis', 'es', 'est',\n",
    "    'sommes', 'êtes', 'sont', 'serai', 'seras', 'sera', 'serons', 'serez',\n",
    "    'seront', 'serais', 'serait', 'serions', 'seriez', 'seraient', 'étais',\n",
    "    'était', 'étions', 'étiez', 'étaient', 'fus', 'fut', 'fûmes', 'fûtes',\n",
    "    'furent', 'sois', 'soit', 'soyons', 'soyez', 'soient', 'fusse', 'fusses',\n",
    "    'fût', 'fussions', 'fussiez', 'fussent', 'ayant', 'ayante', 'ayantes',\n",
    "    'ayants', 'aie', 'aies', 'ait', 'ayons', 'ayez', 'aient', 'eut', 'eue',\n",
    "    'eues', 'eus', 'avons', 'avez', 'ont', 'aurai', 'auras', 'aura', 'aurons',\n",
    "    'aurez', 'auront', 'aurais', 'aurait', 'aurions', 'auriez', 'auraient',\n",
    "    'avais', 'avait', 'avions', 'aviez', 'avaient', 'eut', 'eûmes', 'eûtes',\n",
    "    'eurent', 'aie', 'aies', 'ait', 'ayons', 'ayez', 'aient', 'eusse',\n",
    "    'eusses', 'eût', 'eussions', 'eussiez', 'eussent'\n",
    "    ]\n",
    "\n",
    "    \n",
    "    filtered_text = [token for token in doc if token.text not in stop_words]\n",
    "\n",
    "    return filtered_text"
   ]
  },
  {
   "cell_type": "code",
   "execution_count": 131,
   "metadata": {},
   "outputs": [],
   "source": [
    "def remove_punctuation(text):\n",
    "\n",
    "    text = re.sub(r\"[^\\w\\s]\", \"\", text)\n",
    "    \n",
    "    return text"
   ]
  },
  {
   "cell_type": "code",
   "execution_count": 132,
   "metadata": {},
   "outputs": [],
   "source": [
    "def get_beautiful_clean_text(text):\n",
    "\n",
    "    text = i_love_lowercase(text)\n",
    "    doc = tokenize(text)\n",
    "    doc = remove_stop_words(doc)\n",
    "    text = lemmatisation(doc)\n",
    "    text = remove_punctuation(text)\n",
    "   \n",
    "    return text\n",
    "\n",
    "df_train[\"texte_nettoyé\"] = df_train[\"texte\"].map(get_beautiful_clean_text)\n",
    "df_test[\"texte_nettoyé\"] = df_test[\"texte\"].map(get_beautiful_clean_text)"
   ]
  },
  {
   "cell_type": "code",
   "execution_count": 133,
   "metadata": {},
   "outputs": [],
   "source": [
    "# df_train.to_csv(\"data/train.csv\", index=False)\n",
    "# df_test.to_csv(\"data/test.csv\", index=False)\n"
   ]
  },
  {
   "cell_type": "code",
   "execution_count": 134,
   "metadata": {},
   "outputs": [],
   "source": [
    "# df_train = pd.read_csv(\"data/train.csv\")\n",
    "# df_test = pd.read_csv(\"data/test.csv\")"
   ]
  },
  {
   "cell_type": "code",
   "execution_count": 135,
   "metadata": {},
   "outputs": [
    {
     "data": {
      "text/plain": [
       "'madame présidente  cher collègue  lapproche moment plus sombre lannée  réjouissant dévoquer lété lheure dété  voudrais cependant attirer lattention rituel réglage montre répète chaque printemp chaque automne do not lutilité divise le opinion  jai contacté éleveurs bétail soulignent quil important dassurer bien  être vaches laitière   déjà production laitière  sérénité ruminants troublée maladie vache folle  faudrait accroître stress perturbant rythme habituel  les vaches  changement rythme prend jour deux  autre difficulté existe agriculture  automne  pendant les battage  lheure indique lhumidité matinale devrait avoir disparu  or surprise  nature conforme directive  outre rythme naturel animaux  dynamisme hommes  dépend partiellement luminosité  également perturbé  cause problème supplémentaire '"
      ]
     },
     "execution_count": 135,
     "metadata": {},
     "output_type": "execute_result"
    }
   ],
   "source": [
    "df_train[\"texte_nettoyé\"][1]"
   ]
  },
  {
   "cell_type": "markdown",
   "metadata": {},
   "source": [
    "<a id=\"b-vectorisation-des-données\"></a>\n",
    "## **B. Vectorisation des données**"
   ]
  },
  {
   "cell_type": "markdown",
   "metadata": {},
   "source": [
    "**Dans l'article [Forest, D. (2009)](https://www.crihn.org/publications/impacts-de-la-variation-du-nombre-de-traits-discriminants-sur-la-categorisation-des-documents/), on voit que les paramètres de la vectorisation jouent un rôle assez important dans les performances d'une modèle.**\n",
    "\n",
    "En nous basant sur cet article et sur le TP1, nous allons tester le TFIDF Vectorizer avec différents hyperparamètres sur trois classifieurs différents afin de voir si nous obtenons des résultats significativement mieux. Les classifieurs utilisés seront :\n",
    "- **KNN** (car utilisé dans l'article)\n",
    "- **SVC Lineaire** (modèle linéaire)\n",
    "- **Complement NB** (modèle probabilistique)\n",
    "\n",
    "Si pour tous ces algorithmes, une vectorisation donne de meilleurs résultats, alors nous utiliserons cette dernières pour le reste de nos tests."
   ]
  },
  {
   "cell_type": "markdown",
   "metadata": {},
   "source": [
    "### **Nous commençons par stocker plusieurs vectorizers tfidf avec des hyperparamètres différents.**"
   ]
  },
  {
   "cell_type": "code",
   "execution_count": 136,
   "metadata": {},
   "outputs": [],
   "source": [
    "vectorizers = {\n",
    "    \"TfidfVectorizer\": {\n",
    "        \"model\": TfidfVectorizer(),\n",
    "        \"hyperparameters\": {\n",
    "            \"max_df\": [0.5, 0.1], # ça c'est pour ignorer les mots qui appraîssent dans 0.5 ou 0.9 des documents #defaut = 1\n",
    "            \"max_features\": [1000, 15000, None], # ça c'est pour limiter le nombre de mots à 1000 ou 2000 #defaut = None\n",
    "            \"ngram_range\": [(1, 1), (1, 2)], # ça c'est pour prendre en compte les unigrammes ou les bigrammes #defaut = (1, 1)\n",
    "        }\n",
    "    }\n",
    "}"
   ]
  },
  {
   "cell_type": "code",
   "execution_count": 137,
   "metadata": {},
   "outputs": [],
   "source": [
    "def hyperparameter_vectorizer(vectorizers):\n",
    "    \"\"\"Cette fonction permet de lister tous les vectorizes obtenus en combinant tous \n",
    "    les hyperparamètres donnés dans le dictionnaire de vectorizers.\"\"\"\n",
    "\n",
    "    param_grid = vectorizers[\"hyperparameters\"]\n",
    "    list_vectorizers = []\n",
    "\n",
    "\n",
    "    if len(param_grid) == 1:\n",
    "        param_name, param_values = list(param_grid.items())[0]\n",
    "        for i, value in enumerate(param_values, start=1):\n",
    "            params = {param_name: value}\n",
    "            vectorizer = vectorizers[\"model\"].__class__(**params) \n",
    "            list_vectorizers.append(vectorizer)\n",
    "\n",
    "    else:\n",
    "        param_grid_combinations = list(product(*param_grid.values()))\n",
    "        for i, combination in enumerate(param_grid_combinations, start=1):\n",
    "            params = {param_name: value for param_name, value in zip(param_grid.keys(), combination)}\n",
    "            vectorizer = vectorizers[\"model\"].__class__(**params) \n",
    "            list_vectorizers.append(vectorizer)\n",
    "\n",
    "    return list_vectorizers"
   ]
  },
  {
   "cell_type": "code",
   "execution_count": 138,
   "metadata": {},
   "outputs": [
    {
     "data": {
      "text/plain": [
       "[TfidfVectorizer(max_df=0.5, max_features=1000),\n",
       " TfidfVectorizer(max_df=0.5, max_features=1000, ngram_range=(1, 2)),\n",
       " TfidfVectorizer(max_df=0.5, max_features=15000),\n",
       " TfidfVectorizer(max_df=0.5, max_features=15000, ngram_range=(1, 2)),\n",
       " TfidfVectorizer(max_df=0.5),\n",
       " TfidfVectorizer(max_df=0.5, ngram_range=(1, 2)),\n",
       " TfidfVectorizer(max_df=0.1, max_features=1000),\n",
       " TfidfVectorizer(max_df=0.1, max_features=1000, ngram_range=(1, 2)),\n",
       " TfidfVectorizer(max_df=0.1, max_features=15000),\n",
       " TfidfVectorizer(max_df=0.1, max_features=15000, ngram_range=(1, 2)),\n",
       " TfidfVectorizer(max_df=0.1),\n",
       " TfidfVectorizer(max_df=0.1, ngram_range=(1, 2))]"
      ]
     },
     "execution_count": 138,
     "metadata": {},
     "output_type": "execute_result"
    }
   ],
   "source": [
    "list_vectorizers = hyperparameter_vectorizer(vectorizers[\"TfidfVectorizer\"])\n",
    "list_vectorizers"
   ]
  },
  {
   "cell_type": "markdown",
   "metadata": {},
   "source": [
    "**Nous testons donc 8 vectorisers.**"
   ]
  },
  {
   "cell_type": "markdown",
   "metadata": {},
   "source": [
    "### **Nous vectorisons nos données et stockons ces dernières dans une dataframe pour faciliter les tests sur nos trois algorithmes.**"
   ]
  },
  {
   "cell_type": "code",
   "execution_count": 139,
   "metadata": {},
   "outputs": [],
   "source": [
    "def store_vectorisations(list_vectorizers, x_train, x_test):\n",
    "    \"\"\"Cette fonction permet d'itérer une liste de vectorizers et de vectoriser les données pour ensuite les stocker \n",
    "    dans une dataframe.\"\"\"\n",
    "\n",
    "    all_vectorisations = []\n",
    "\n",
    "    for i, vectorizer in enumerate(list_vectorizers):\n",
    "        x_train_vectorized = vectorizer.fit_transform(x_train)\n",
    "        x_test_vectorized = vectorizer.transform(x_test)\n",
    "        all_vectorisations.append({\"vectorizer_id\": vectorizer.__class__.__name__ + str(i),\n",
    "                                   \"vectorizer\": vectorizer, \n",
    "                                   \"x_train\": x_train_vectorized, \n",
    "                                   \"x_test\": x_test_vectorized})\n",
    "    \n",
    "    df_vectorisations = pd.DataFrame(all_vectorisations)\n",
    "\n",
    "    return df_vectorisations"
   ]
  },
  {
   "cell_type": "code",
   "execution_count": 140,
   "metadata": {},
   "outputs": [],
   "source": [
    "df_vectorisations = store_vectorisations(list_vectorizers, df_train[\"texte_nettoyé\"], df_test[\"texte_nettoyé\"])"
   ]
  },
  {
   "cell_type": "code",
   "execution_count": 141,
   "metadata": {},
   "outputs": [
    {
     "data": {
      "text/html": [
       "<div>\n",
       "<style scoped>\n",
       "    .dataframe tbody tr th:only-of-type {\n",
       "        vertical-align: middle;\n",
       "    }\n",
       "\n",
       "    .dataframe tbody tr th {\n",
       "        vertical-align: top;\n",
       "    }\n",
       "\n",
       "    .dataframe thead th {\n",
       "        text-align: right;\n",
       "    }\n",
       "</style>\n",
       "<table border=\"1\" class=\"dataframe\">\n",
       "  <thead>\n",
       "    <tr style=\"text-align: right;\">\n",
       "      <th></th>\n",
       "      <th>vectorizer_id</th>\n",
       "      <th>vectorizer</th>\n",
       "      <th>x_train</th>\n",
       "      <th>x_test</th>\n",
       "    </tr>\n",
       "  </thead>\n",
       "  <tbody>\n",
       "    <tr>\n",
       "      <th>0</th>\n",
       "      <td>TfidfVectorizer0</td>\n",
       "      <td>TfidfVectorizer(max_df=0.5, max_features=1000)</td>\n",
       "      <td>&lt;Compressed Sparse Row sparse matrix of dtype ...</td>\n",
       "      <td>&lt;Compressed Sparse Row sparse matrix of dtype ...</td>\n",
       "    </tr>\n",
       "    <tr>\n",
       "      <th>1</th>\n",
       "      <td>TfidfVectorizer1</td>\n",
       "      <td>TfidfVectorizer(max_df=0.5, max_features=1000,...</td>\n",
       "      <td>&lt;Compressed Sparse Row sparse matrix of dtype ...</td>\n",
       "      <td>&lt;Compressed Sparse Row sparse matrix of dtype ...</td>\n",
       "    </tr>\n",
       "    <tr>\n",
       "      <th>2</th>\n",
       "      <td>TfidfVectorizer2</td>\n",
       "      <td>TfidfVectorizer(max_df=0.5, max_features=15000)</td>\n",
       "      <td>&lt;Compressed Sparse Row sparse matrix of dtype ...</td>\n",
       "      <td>&lt;Compressed Sparse Row sparse matrix of dtype ...</td>\n",
       "    </tr>\n",
       "    <tr>\n",
       "      <th>3</th>\n",
       "      <td>TfidfVectorizer3</td>\n",
       "      <td>TfidfVectorizer(max_df=0.5, max_features=15000...</td>\n",
       "      <td>&lt;Compressed Sparse Row sparse matrix of dtype ...</td>\n",
       "      <td>&lt;Compressed Sparse Row sparse matrix of dtype ...</td>\n",
       "    </tr>\n",
       "    <tr>\n",
       "      <th>4</th>\n",
       "      <td>TfidfVectorizer4</td>\n",
       "      <td>TfidfVectorizer(max_df=0.5)</td>\n",
       "      <td>&lt;Compressed Sparse Row sparse matrix of dtype ...</td>\n",
       "      <td>&lt;Compressed Sparse Row sparse matrix of dtype ...</td>\n",
       "    </tr>\n",
       "    <tr>\n",
       "      <th>5</th>\n",
       "      <td>TfidfVectorizer5</td>\n",
       "      <td>TfidfVectorizer(max_df=0.5, ngram_range=(1, 2))</td>\n",
       "      <td>&lt;Compressed Sparse Row sparse matrix of dtype ...</td>\n",
       "      <td>&lt;Compressed Sparse Row sparse matrix of dtype ...</td>\n",
       "    </tr>\n",
       "    <tr>\n",
       "      <th>6</th>\n",
       "      <td>TfidfVectorizer6</td>\n",
       "      <td>TfidfVectorizer(max_df=0.1, max_features=1000)</td>\n",
       "      <td>&lt;Compressed Sparse Row sparse matrix of dtype ...</td>\n",
       "      <td>&lt;Compressed Sparse Row sparse matrix of dtype ...</td>\n",
       "    </tr>\n",
       "    <tr>\n",
       "      <th>7</th>\n",
       "      <td>TfidfVectorizer7</td>\n",
       "      <td>TfidfVectorizer(max_df=0.1, max_features=1000,...</td>\n",
       "      <td>&lt;Compressed Sparse Row sparse matrix of dtype ...</td>\n",
       "      <td>&lt;Compressed Sparse Row sparse matrix of dtype ...</td>\n",
       "    </tr>\n",
       "    <tr>\n",
       "      <th>8</th>\n",
       "      <td>TfidfVectorizer8</td>\n",
       "      <td>TfidfVectorizer(max_df=0.1, max_features=15000)</td>\n",
       "      <td>&lt;Compressed Sparse Row sparse matrix of dtype ...</td>\n",
       "      <td>&lt;Compressed Sparse Row sparse matrix of dtype ...</td>\n",
       "    </tr>\n",
       "    <tr>\n",
       "      <th>9</th>\n",
       "      <td>TfidfVectorizer9</td>\n",
       "      <td>TfidfVectorizer(max_df=0.1, max_features=15000...</td>\n",
       "      <td>&lt;Compressed Sparse Row sparse matrix of dtype ...</td>\n",
       "      <td>&lt;Compressed Sparse Row sparse matrix of dtype ...</td>\n",
       "    </tr>\n",
       "    <tr>\n",
       "      <th>10</th>\n",
       "      <td>TfidfVectorizer10</td>\n",
       "      <td>TfidfVectorizer(max_df=0.1)</td>\n",
       "      <td>&lt;Compressed Sparse Row sparse matrix of dtype ...</td>\n",
       "      <td>&lt;Compressed Sparse Row sparse matrix of dtype ...</td>\n",
       "    </tr>\n",
       "    <tr>\n",
       "      <th>11</th>\n",
       "      <td>TfidfVectorizer11</td>\n",
       "      <td>TfidfVectorizer(max_df=0.1, ngram_range=(1, 2))</td>\n",
       "      <td>&lt;Compressed Sparse Row sparse matrix of dtype ...</td>\n",
       "      <td>&lt;Compressed Sparse Row sparse matrix of dtype ...</td>\n",
       "    </tr>\n",
       "  </tbody>\n",
       "</table>\n",
       "</div>"
      ],
      "text/plain": [
       "        vectorizer_id                                         vectorizer  \\\n",
       "0    TfidfVectorizer0     TfidfVectorizer(max_df=0.5, max_features=1000)   \n",
       "1    TfidfVectorizer1  TfidfVectorizer(max_df=0.5, max_features=1000,...   \n",
       "2    TfidfVectorizer2    TfidfVectorizer(max_df=0.5, max_features=15000)   \n",
       "3    TfidfVectorizer3  TfidfVectorizer(max_df=0.5, max_features=15000...   \n",
       "4    TfidfVectorizer4                        TfidfVectorizer(max_df=0.5)   \n",
       "5    TfidfVectorizer5    TfidfVectorizer(max_df=0.5, ngram_range=(1, 2))   \n",
       "6    TfidfVectorizer6     TfidfVectorizer(max_df=0.1, max_features=1000)   \n",
       "7    TfidfVectorizer7  TfidfVectorizer(max_df=0.1, max_features=1000,...   \n",
       "8    TfidfVectorizer8    TfidfVectorizer(max_df=0.1, max_features=15000)   \n",
       "9    TfidfVectorizer9  TfidfVectorizer(max_df=0.1, max_features=15000...   \n",
       "10  TfidfVectorizer10                        TfidfVectorizer(max_df=0.1)   \n",
       "11  TfidfVectorizer11    TfidfVectorizer(max_df=0.1, ngram_range=(1, 2))   \n",
       "\n",
       "                                              x_train  \\\n",
       "0   <Compressed Sparse Row sparse matrix of dtype ...   \n",
       "1   <Compressed Sparse Row sparse matrix of dtype ...   \n",
       "2   <Compressed Sparse Row sparse matrix of dtype ...   \n",
       "3   <Compressed Sparse Row sparse matrix of dtype ...   \n",
       "4   <Compressed Sparse Row sparse matrix of dtype ...   \n",
       "5   <Compressed Sparse Row sparse matrix of dtype ...   \n",
       "6   <Compressed Sparse Row sparse matrix of dtype ...   \n",
       "7   <Compressed Sparse Row sparse matrix of dtype ...   \n",
       "8   <Compressed Sparse Row sparse matrix of dtype ...   \n",
       "9   <Compressed Sparse Row sparse matrix of dtype ...   \n",
       "10  <Compressed Sparse Row sparse matrix of dtype ...   \n",
       "11  <Compressed Sparse Row sparse matrix of dtype ...   \n",
       "\n",
       "                                               x_test  \n",
       "0   <Compressed Sparse Row sparse matrix of dtype ...  \n",
       "1   <Compressed Sparse Row sparse matrix of dtype ...  \n",
       "2   <Compressed Sparse Row sparse matrix of dtype ...  \n",
       "3   <Compressed Sparse Row sparse matrix of dtype ...  \n",
       "4   <Compressed Sparse Row sparse matrix of dtype ...  \n",
       "5   <Compressed Sparse Row sparse matrix of dtype ...  \n",
       "6   <Compressed Sparse Row sparse matrix of dtype ...  \n",
       "7   <Compressed Sparse Row sparse matrix of dtype ...  \n",
       "8   <Compressed Sparse Row sparse matrix of dtype ...  \n",
       "9   <Compressed Sparse Row sparse matrix of dtype ...  \n",
       "10  <Compressed Sparse Row sparse matrix of dtype ...  \n",
       "11  <Compressed Sparse Row sparse matrix of dtype ...  "
      ]
     },
     "execution_count": 141,
     "metadata": {},
     "output_type": "execute_result"
    }
   ],
   "source": [
    "df_vectorisations"
   ]
  },
  {
   "cell_type": "markdown",
   "metadata": {},
   "source": [
    "### On peut ensuite itérer à travers ces colonnes et utiliser chaque vectorisation pour entraîner nos classifieurs !"
   ]
  },
  {
   "cell_type": "code",
   "execution_count": 43,
   "metadata": {},
   "outputs": [],
   "source": [
    "def classic_classifier_function(classifier, df_vectorisations, y_train, y_test):\n",
    "\n",
    "    model = classifier\n",
    "    scores = []\n",
    "\n",
    "    for i, row in df_vectorisations.iterrows():\n",
    "        vectorizer_id = row[\"vectorizer_id\"]\n",
    "        vectorizer = row[\"vectorizer\"]\n",
    "        x_train = row[\"x_train\"]\n",
    "        x_test = row[\"x_test\"]\n",
    "        model.fit(x_train, y_train)\n",
    "        y_pred = model.predict(x_test)\n",
    "        report = classification_report(y_test, y_pred, output_dict=True)\n",
    "        scores.append({\"vectorizer\": vectorizer, \"vectorizer_id\" : vectorizer_id, \"scores\": report})\n",
    "                      \n",
    "    return scores\n"
   ]
  },
  {
   "cell_type": "code",
   "execution_count": 44,
   "metadata": {},
   "outputs": [],
   "source": [
    "def comparison_vectorisation(df_vectorisations, y_train, y_test):\n",
    "\n",
    "    print(\"Test avec knn...\")\n",
    "    scores_knn = classic_classifier_function(KNeighborsClassifier(), df_vectorisations, y_train, y_test)\n",
    "    print(\"Test avec cnb...\")\n",
    "    scores_cnb = classic_classifier_function(ComplementNB(), df_vectorisations, y_train, y_test)\n",
    "    print(\"Test avec svc...\")\n",
    "    scores_svc = classic_classifier_function(LinearSVC(), df_vectorisations, y_train, y_test)\n",
    "\n",
    "\n",
    "    sorted_scores_knn = sorted(scores_knn, key=lambda x: x[\"scores\"][\"macro avg\"][\"f1-score\"], reverse=True)\n",
    "    sorted_scores_cnb = sorted(scores_cnb, key=lambda x: x[\"scores\"][\"macro avg\"][\"f1-score\"], reverse=True)\n",
    "    sorted_scores_svc = sorted(scores_svc, key=lambda x: x[\"scores\"][\"macro avg\"][\"f1-score\"], reverse=True)\n",
    "\n",
    "    return sorted_scores_knn, sorted_scores_cnb, sorted_scores_svc"
   ]
  },
  {
   "cell_type": "code",
   "execution_count": 45,
   "metadata": {},
   "outputs": [
    {
     "name": "stdout",
     "output_type": "stream",
     "text": [
      "Test avec knn...\n",
      "Test avec cnb...\n",
      "Test avec svc...\n"
     ]
    }
   ],
   "source": [
    "sorted_scores_knn, sorted_scores_cnb, sorted_scores_svc = comparison_vectorisation(df_vectorisations, df_train[\"label\"], df_test[\"label\"])"
   ]
  },
  {
   "cell_type": "code",
   "execution_count": 46,
   "metadata": {},
   "outputs": [],
   "source": [
    "def fill_vect_table(best_scores, algo, table):\n",
    "\n",
    "    for score in best_scores:\n",
    "        vectorizer = score[\"vectorizer\"]\n",
    "        vectorizer_id = score[\"vectorizer_id\"]\n",
    "        for metric, value in score[\"scores\"].items():\n",
    "            if metric == \"accuracy\":\n",
    "                accuracy = value\n",
    "            elif metric == \"macro avg\":\n",
    "                macro_f1 = value[\"f1-score\"]\n",
    "                precision = value[\"precision\"]\n",
    "                recall = value[\"recall\"]\n",
    "            \n",
    "        table.add_row([algo, vectorizer, vectorizer_id, macro_f1, accuracy, precision, recall])\n",
    "\n",
    "    print(table)\n",
    "    return table\n"
   ]
  },
  {
   "cell_type": "code",
   "execution_count": 47,
   "metadata": {},
   "outputs": [
    {
     "name": "stdout",
     "output_type": "stream",
     "text": [
      "\u001b[38;5;219m+\u001b[0m\u001b[38;5;183m\u001b[38;5;147m-\u001b[0m\u001b[38;5;183m\u001b[38;5;147m-\u001b[0m\u001b[38;5;183m\u001b[38;5;147m-\u001b[0m\u001b[38;5;183m\u001b[38;5;147m-\u001b[0m\u001b[38;5;183m\u001b[38;5;147m-\u001b[0m\u001b[38;5;183m\u001b[38;5;147m-\u001b[0m\u001b[38;5;183m\u001b[38;5;219m+\u001b[0m\u001b[38;5;183m\u001b[38;5;147m-\u001b[0m\u001b[38;5;183m\u001b[38;5;147m-\u001b[0m\u001b[38;5;183m\u001b[38;5;147m-\u001b[0m\u001b[38;5;183m\u001b[38;5;147m-\u001b[0m\u001b[38;5;183m\u001b[38;5;147m-\u001b[0m\u001b[38;5;183m\u001b[38;5;147m-\u001b[0m\u001b[38;5;183m\u001b[38;5;147m-\u001b[0m\u001b[38;5;183m\u001b[38;5;147m-\u001b[0m\u001b[38;5;183m\u001b[38;5;147m-\u001b[0m\u001b[38;5;183m\u001b[38;5;147m-\u001b[0m\u001b[38;5;183m\u001b[38;5;147m-\u001b[0m\u001b[38;5;183m\u001b[38;5;147m-\u001b[0m\u001b[38;5;183m\u001b[38;5;147m-\u001b[0m\u001b[38;5;183m\u001b[38;5;147m-\u001b[0m\u001b[38;5;183m\u001b[38;5;147m-\u001b[0m\u001b[38;5;183m\u001b[38;5;147m-\u001b[0m\u001b[38;5;183m\u001b[38;5;147m-\u001b[0m\u001b[38;5;183m\u001b[38;5;147m-\u001b[0m\u001b[38;5;183m\u001b[38;5;147m-\u001b[0m\u001b[38;5;183m\u001b[38;5;147m-\u001b[0m\u001b[38;5;183m\u001b[38;5;147m-\u001b[0m\u001b[38;5;183m\u001b[38;5;147m-\u001b[0m\u001b[38;5;183m\u001b[38;5;147m-\u001b[0m\u001b[38;5;183m\u001b[38;5;147m-\u001b[0m\u001b[38;5;183m\u001b[38;5;147m-\u001b[0m\u001b[38;5;183m\u001b[38;5;147m-\u001b[0m\u001b[38;5;183m\u001b[38;5;147m-\u001b[0m\u001b[38;5;183m\u001b[38;5;147m-\u001b[0m\u001b[38;5;183m\u001b[38;5;147m-\u001b[0m\u001b[38;5;183m\u001b[38;5;147m-\u001b[0m\u001b[38;5;183m\u001b[38;5;147m-\u001b[0m\u001b[38;5;183m\u001b[38;5;147m-\u001b[0m\u001b[38;5;183m\u001b[38;5;147m-\u001b[0m\u001b[38;5;183m\u001b[38;5;147m-\u001b[0m\u001b[38;5;183m\u001b[38;5;147m-\u001b[0m\u001b[38;5;183m\u001b[38;5;147m-\u001b[0m\u001b[38;5;183m\u001b[38;5;147m-\u001b[0m\u001b[38;5;183m\u001b[38;5;147m-\u001b[0m\u001b[38;5;183m\u001b[38;5;147m-\u001b[0m\u001b[38;5;183m\u001b[38;5;147m-\u001b[0m\u001b[38;5;183m\u001b[38;5;147m-\u001b[0m\u001b[38;5;183m\u001b[38;5;147m-\u001b[0m\u001b[38;5;183m\u001b[38;5;147m-\u001b[0m\u001b[38;5;183m\u001b[38;5;147m-\u001b[0m\u001b[38;5;183m\u001b[38;5;147m-\u001b[0m\u001b[38;5;183m\u001b[38;5;147m-\u001b[0m\u001b[38;5;183m\u001b[38;5;147m-\u001b[0m\u001b[38;5;183m\u001b[38;5;147m-\u001b[0m\u001b[38;5;183m\u001b[38;5;147m-\u001b[0m\u001b[38;5;183m\u001b[38;5;147m-\u001b[0m\u001b[38;5;183m\u001b[38;5;147m-\u001b[0m\u001b[38;5;183m\u001b[38;5;147m-\u001b[0m\u001b[38;5;183m\u001b[38;5;147m-\u001b[0m\u001b[38;5;183m\u001b[38;5;147m-\u001b[0m\u001b[38;5;183m\u001b[38;5;147m-\u001b[0m\u001b[38;5;183m\u001b[38;5;147m-\u001b[0m\u001b[38;5;183m\u001b[38;5;147m-\u001b[0m\u001b[38;5;183m\u001b[38;5;147m-\u001b[0m\u001b[38;5;183m\u001b[38;5;147m-\u001b[0m\u001b[38;5;183m\u001b[38;5;147m-\u001b[0m\u001b[38;5;183m\u001b[38;5;147m-\u001b[0m\u001b[38;5;183m\u001b[38;5;147m-\u001b[0m\u001b[38;5;183m\u001b[38;5;147m-\u001b[0m\u001b[38;5;183m\u001b[38;5;147m-\u001b[0m\u001b[38;5;183m\u001b[38;5;147m-\u001b[0m\u001b[38;5;183m\u001b[38;5;147m-\u001b[0m\u001b[38;5;183m\u001b[38;5;147m-\u001b[0m\u001b[38;5;183m\u001b[38;5;147m-\u001b[0m\u001b[38;5;183m\u001b[38;5;147m-\u001b[0m\u001b[38;5;183m\u001b[38;5;219m+\u001b[0m\u001b[38;5;183m\u001b[38;5;147m-\u001b[0m\u001b[38;5;183m\u001b[38;5;147m-\u001b[0m\u001b[38;5;183m\u001b[38;5;147m-\u001b[0m\u001b[38;5;183m\u001b[38;5;147m-\u001b[0m\u001b[38;5;183m\u001b[38;5;147m-\u001b[0m\u001b[38;5;183m\u001b[38;5;147m-\u001b[0m\u001b[38;5;183m\u001b[38;5;147m-\u001b[0m\u001b[38;5;183m\u001b[38;5;147m-\u001b[0m\u001b[38;5;183m\u001b[38;5;147m-\u001b[0m\u001b[38;5;183m\u001b[38;5;147m-\u001b[0m\u001b[38;5;183m\u001b[38;5;147m-\u001b[0m\u001b[38;5;183m\u001b[38;5;147m-\u001b[0m\u001b[38;5;183m\u001b[38;5;147m-\u001b[0m\u001b[38;5;183m\u001b[38;5;147m-\u001b[0m\u001b[38;5;183m\u001b[38;5;147m-\u001b[0m\u001b[38;5;183m\u001b[38;5;147m-\u001b[0m\u001b[38;5;183m\u001b[38;5;147m-\u001b[0m\u001b[38;5;183m\u001b[38;5;147m-\u001b[0m\u001b[38;5;183m\u001b[38;5;147m-\u001b[0m\u001b[38;5;183m\u001b[38;5;219m+\u001b[0m\u001b[38;5;183m\u001b[38;5;147m-\u001b[0m\u001b[38;5;183m\u001b[38;5;147m-\u001b[0m\u001b[38;5;183m\u001b[38;5;147m-\u001b[0m\u001b[38;5;183m\u001b[38;5;147m-\u001b[0m\u001b[38;5;183m\u001b[38;5;147m-\u001b[0m\u001b[38;5;183m\u001b[38;5;147m-\u001b[0m\u001b[38;5;183m\u001b[38;5;147m-\u001b[0m\u001b[38;5;183m\u001b[38;5;147m-\u001b[0m\u001b[38;5;183m\u001b[38;5;147m-\u001b[0m\u001b[38;5;183m\u001b[38;5;147m-\u001b[0m\u001b[38;5;183m\u001b[38;5;147m-\u001b[0m\u001b[38;5;183m\u001b[38;5;147m-\u001b[0m\u001b[38;5;183m\u001b[38;5;147m-\u001b[0m\u001b[38;5;183m\u001b[38;5;147m-\u001b[0m\u001b[38;5;183m\u001b[38;5;147m-\u001b[0m\u001b[38;5;183m\u001b[38;5;147m-\u001b[0m\u001b[38;5;183m\u001b[38;5;147m-\u001b[0m\u001b[38;5;183m\u001b[38;5;147m-\u001b[0m\u001b[38;5;183m\u001b[38;5;147m-\u001b[0m\u001b[38;5;183m\u001b[38;5;147m-\u001b[0m\u001b[38;5;183m\u001b[38;5;147m-\u001b[0m\u001b[38;5;183m\u001b[38;5;219m+\u001b[0m\u001b[38;5;183m\u001b[38;5;147m-\u001b[0m\u001b[38;5;183m\u001b[38;5;147m-\u001b[0m\u001b[38;5;183m\u001b[38;5;147m-\u001b[0m\u001b[38;5;183m\u001b[38;5;147m-\u001b[0m\u001b[38;5;183m\u001b[38;5;147m-\u001b[0m\u001b[38;5;183m\u001b[38;5;147m-\u001b[0m\u001b[38;5;183m\u001b[38;5;147m-\u001b[0m\u001b[38;5;183m\u001b[38;5;147m-\u001b[0m\u001b[38;5;183m\u001b[38;5;147m-\u001b[0m\u001b[38;5;183m\u001b[38;5;147m-\u001b[0m\u001b[38;5;183m\u001b[38;5;147m-\u001b[0m\u001b[38;5;183m\u001b[38;5;147m-\u001b[0m\u001b[38;5;183m\u001b[38;5;147m-\u001b[0m\u001b[38;5;183m\u001b[38;5;147m-\u001b[0m\u001b[38;5;183m\u001b[38;5;147m-\u001b[0m\u001b[38;5;183m\u001b[38;5;147m-\u001b[0m\u001b[38;5;183m\u001b[38;5;147m-\u001b[0m\u001b[38;5;183m\u001b[38;5;147m-\u001b[0m\u001b[38;5;183m\u001b[38;5;147m-\u001b[0m\u001b[38;5;183m\u001b[38;5;147m-\u001b[0m\u001b[38;5;183m\u001b[38;5;219m+\u001b[0m\u001b[38;5;183m\u001b[38;5;147m-\u001b[0m\u001b[38;5;183m\u001b[38;5;147m-\u001b[0m\u001b[38;5;183m\u001b[38;5;147m-\u001b[0m\u001b[38;5;183m\u001b[38;5;147m-\u001b[0m\u001b[38;5;183m\u001b[38;5;147m-\u001b[0m\u001b[38;5;183m\u001b[38;5;147m-\u001b[0m\u001b[38;5;183m\u001b[38;5;147m-\u001b[0m\u001b[38;5;183m\u001b[38;5;147m-\u001b[0m\u001b[38;5;183m\u001b[38;5;147m-\u001b[0m\u001b[38;5;183m\u001b[38;5;147m-\u001b[0m\u001b[38;5;183m\u001b[38;5;147m-\u001b[0m\u001b[38;5;183m\u001b[38;5;147m-\u001b[0m\u001b[38;5;183m\u001b[38;5;147m-\u001b[0m\u001b[38;5;183m\u001b[38;5;147m-\u001b[0m\u001b[38;5;183m\u001b[38;5;147m-\u001b[0m\u001b[38;5;183m\u001b[38;5;147m-\u001b[0m\u001b[38;5;183m\u001b[38;5;147m-\u001b[0m\u001b[38;5;183m\u001b[38;5;147m-\u001b[0m\u001b[38;5;183m\u001b[38;5;147m-\u001b[0m\u001b[38;5;183m\u001b[38;5;147m-\u001b[0m\u001b[38;5;183m\u001b[38;5;147m-\u001b[0m\u001b[38;5;183m\u001b[38;5;219m+\u001b[0m\u001b[38;5;183m\u001b[38;5;147m-\u001b[0m\u001b[38;5;183m\u001b[38;5;147m-\u001b[0m\u001b[38;5;183m\u001b[38;5;147m-\u001b[0m\u001b[38;5;183m\u001b[38;5;147m-\u001b[0m\u001b[38;5;183m\u001b[38;5;147m-\u001b[0m\u001b[38;5;183m\u001b[38;5;147m-\u001b[0m\u001b[38;5;183m\u001b[38;5;147m-\u001b[0m\u001b[38;5;183m\u001b[38;5;147m-\u001b[0m\u001b[38;5;183m\u001b[38;5;147m-\u001b[0m\u001b[38;5;183m\u001b[38;5;147m-\u001b[0m\u001b[38;5;183m\u001b[38;5;147m-\u001b[0m\u001b[38;5;183m\u001b[38;5;147m-\u001b[0m\u001b[38;5;183m\u001b[38;5;147m-\u001b[0m\u001b[38;5;183m\u001b[38;5;147m-\u001b[0m\u001b[38;5;183m\u001b[38;5;147m-\u001b[0m\u001b[38;5;183m\u001b[38;5;147m-\u001b[0m\u001b[38;5;183m\u001b[38;5;147m-\u001b[0m\u001b[38;5;183m\u001b[38;5;147m-\u001b[0m\u001b[38;5;183m\u001b[38;5;147m-\u001b[0m\u001b[38;5;183m\u001b[38;5;147m-\u001b[0m\u001b[38;5;183m\u001b[38;5;147m-\u001b[0m\u001b[38;5;183m\u001b[38;5;219m+\u001b[0m\u001b[38;5;183m\n",
      "\u001b[35m|\u001b[0m\u001b[38;5;183m Algo \u001b[35m|\u001b[0m\u001b[38;5;183m                              Vectorizer                             \u001b[35m|\u001b[0m\u001b[38;5;183m   Vectorizer ID   \u001b[35m|\u001b[0m\u001b[38;5;183m       Macro f1      \u001b[35m|\u001b[0m\u001b[38;5;183m      Accuracy      \u001b[35m|\u001b[0m\u001b[38;5;183m      Precision      \u001b[35m|\u001b[0m\u001b[38;5;183m        Rappel       \u001b[35m|\u001b[0m\u001b[38;5;183m\n",
      "\u001b[38;5;219m+\u001b[0m\u001b[38;5;183m\u001b[38;5;147m-\u001b[0m\u001b[38;5;183m\u001b[38;5;147m-\u001b[0m\u001b[38;5;183m\u001b[38;5;147m-\u001b[0m\u001b[38;5;183m\u001b[38;5;147m-\u001b[0m\u001b[38;5;183m\u001b[38;5;147m-\u001b[0m\u001b[38;5;183m\u001b[38;5;147m-\u001b[0m\u001b[38;5;183m\u001b[38;5;219m+\u001b[0m\u001b[38;5;183m\u001b[38;5;147m-\u001b[0m\u001b[38;5;183m\u001b[38;5;147m-\u001b[0m\u001b[38;5;183m\u001b[38;5;147m-\u001b[0m\u001b[38;5;183m\u001b[38;5;147m-\u001b[0m\u001b[38;5;183m\u001b[38;5;147m-\u001b[0m\u001b[38;5;183m\u001b[38;5;147m-\u001b[0m\u001b[38;5;183m\u001b[38;5;147m-\u001b[0m\u001b[38;5;183m\u001b[38;5;147m-\u001b[0m\u001b[38;5;183m\u001b[38;5;147m-\u001b[0m\u001b[38;5;183m\u001b[38;5;147m-\u001b[0m\u001b[38;5;183m\u001b[38;5;147m-\u001b[0m\u001b[38;5;183m\u001b[38;5;147m-\u001b[0m\u001b[38;5;183m\u001b[38;5;147m-\u001b[0m\u001b[38;5;183m\u001b[38;5;147m-\u001b[0m\u001b[38;5;183m\u001b[38;5;147m-\u001b[0m\u001b[38;5;183m\u001b[38;5;147m-\u001b[0m\u001b[38;5;183m\u001b[38;5;147m-\u001b[0m\u001b[38;5;183m\u001b[38;5;147m-\u001b[0m\u001b[38;5;183m\u001b[38;5;147m-\u001b[0m\u001b[38;5;183m\u001b[38;5;147m-\u001b[0m\u001b[38;5;183m\u001b[38;5;147m-\u001b[0m\u001b[38;5;183m\u001b[38;5;147m-\u001b[0m\u001b[38;5;183m\u001b[38;5;147m-\u001b[0m\u001b[38;5;183m\u001b[38;5;147m-\u001b[0m\u001b[38;5;183m\u001b[38;5;147m-\u001b[0m\u001b[38;5;183m\u001b[38;5;147m-\u001b[0m\u001b[38;5;183m\u001b[38;5;147m-\u001b[0m\u001b[38;5;183m\u001b[38;5;147m-\u001b[0m\u001b[38;5;183m\u001b[38;5;147m-\u001b[0m\u001b[38;5;183m\u001b[38;5;147m-\u001b[0m\u001b[38;5;183m\u001b[38;5;147m-\u001b[0m\u001b[38;5;183m\u001b[38;5;147m-\u001b[0m\u001b[38;5;183m\u001b[38;5;147m-\u001b[0m\u001b[38;5;183m\u001b[38;5;147m-\u001b[0m\u001b[38;5;183m\u001b[38;5;147m-\u001b[0m\u001b[38;5;183m\u001b[38;5;147m-\u001b[0m\u001b[38;5;183m\u001b[38;5;147m-\u001b[0m\u001b[38;5;183m\u001b[38;5;147m-\u001b[0m\u001b[38;5;183m\u001b[38;5;147m-\u001b[0m\u001b[38;5;183m\u001b[38;5;147m-\u001b[0m\u001b[38;5;183m\u001b[38;5;147m-\u001b[0m\u001b[38;5;183m\u001b[38;5;147m-\u001b[0m\u001b[38;5;183m\u001b[38;5;147m-\u001b[0m\u001b[38;5;183m\u001b[38;5;147m-\u001b[0m\u001b[38;5;183m\u001b[38;5;147m-\u001b[0m\u001b[38;5;183m\u001b[38;5;147m-\u001b[0m\u001b[38;5;183m\u001b[38;5;147m-\u001b[0m\u001b[38;5;183m\u001b[38;5;147m-\u001b[0m\u001b[38;5;183m\u001b[38;5;147m-\u001b[0m\u001b[38;5;183m\u001b[38;5;147m-\u001b[0m\u001b[38;5;183m\u001b[38;5;147m-\u001b[0m\u001b[38;5;183m\u001b[38;5;147m-\u001b[0m\u001b[38;5;183m\u001b[38;5;147m-\u001b[0m\u001b[38;5;183m\u001b[38;5;147m-\u001b[0m\u001b[38;5;183m\u001b[38;5;147m-\u001b[0m\u001b[38;5;183m\u001b[38;5;147m-\u001b[0m\u001b[38;5;183m\u001b[38;5;147m-\u001b[0m\u001b[38;5;183m\u001b[38;5;147m-\u001b[0m\u001b[38;5;183m\u001b[38;5;147m-\u001b[0m\u001b[38;5;183m\u001b[38;5;147m-\u001b[0m\u001b[38;5;183m\u001b[38;5;147m-\u001b[0m\u001b[38;5;183m\u001b[38;5;147m-\u001b[0m\u001b[38;5;183m\u001b[38;5;147m-\u001b[0m\u001b[38;5;183m\u001b[38;5;147m-\u001b[0m\u001b[38;5;183m\u001b[38;5;147m-\u001b[0m\u001b[38;5;183m\u001b[38;5;147m-\u001b[0m\u001b[38;5;183m\u001b[38;5;147m-\u001b[0m\u001b[38;5;183m\u001b[38;5;147m-\u001b[0m\u001b[38;5;183m\u001b[38;5;147m-\u001b[0m\u001b[38;5;183m\u001b[38;5;219m+\u001b[0m\u001b[38;5;183m\u001b[38;5;147m-\u001b[0m\u001b[38;5;183m\u001b[38;5;147m-\u001b[0m\u001b[38;5;183m\u001b[38;5;147m-\u001b[0m\u001b[38;5;183m\u001b[38;5;147m-\u001b[0m\u001b[38;5;183m\u001b[38;5;147m-\u001b[0m\u001b[38;5;183m\u001b[38;5;147m-\u001b[0m\u001b[38;5;183m\u001b[38;5;147m-\u001b[0m\u001b[38;5;183m\u001b[38;5;147m-\u001b[0m\u001b[38;5;183m\u001b[38;5;147m-\u001b[0m\u001b[38;5;183m\u001b[38;5;147m-\u001b[0m\u001b[38;5;183m\u001b[38;5;147m-\u001b[0m\u001b[38;5;183m\u001b[38;5;147m-\u001b[0m\u001b[38;5;183m\u001b[38;5;147m-\u001b[0m\u001b[38;5;183m\u001b[38;5;147m-\u001b[0m\u001b[38;5;183m\u001b[38;5;147m-\u001b[0m\u001b[38;5;183m\u001b[38;5;147m-\u001b[0m\u001b[38;5;183m\u001b[38;5;147m-\u001b[0m\u001b[38;5;183m\u001b[38;5;147m-\u001b[0m\u001b[38;5;183m\u001b[38;5;147m-\u001b[0m\u001b[38;5;183m\u001b[38;5;219m+\u001b[0m\u001b[38;5;183m\u001b[38;5;147m-\u001b[0m\u001b[38;5;183m\u001b[38;5;147m-\u001b[0m\u001b[38;5;183m\u001b[38;5;147m-\u001b[0m\u001b[38;5;183m\u001b[38;5;147m-\u001b[0m\u001b[38;5;183m\u001b[38;5;147m-\u001b[0m\u001b[38;5;183m\u001b[38;5;147m-\u001b[0m\u001b[38;5;183m\u001b[38;5;147m-\u001b[0m\u001b[38;5;183m\u001b[38;5;147m-\u001b[0m\u001b[38;5;183m\u001b[38;5;147m-\u001b[0m\u001b[38;5;183m\u001b[38;5;147m-\u001b[0m\u001b[38;5;183m\u001b[38;5;147m-\u001b[0m\u001b[38;5;183m\u001b[38;5;147m-\u001b[0m\u001b[38;5;183m\u001b[38;5;147m-\u001b[0m\u001b[38;5;183m\u001b[38;5;147m-\u001b[0m\u001b[38;5;183m\u001b[38;5;147m-\u001b[0m\u001b[38;5;183m\u001b[38;5;147m-\u001b[0m\u001b[38;5;183m\u001b[38;5;147m-\u001b[0m\u001b[38;5;183m\u001b[38;5;147m-\u001b[0m\u001b[38;5;183m\u001b[38;5;147m-\u001b[0m\u001b[38;5;183m\u001b[38;5;147m-\u001b[0m\u001b[38;5;183m\u001b[38;5;147m-\u001b[0m\u001b[38;5;183m\u001b[38;5;219m+\u001b[0m\u001b[38;5;183m\u001b[38;5;147m-\u001b[0m\u001b[38;5;183m\u001b[38;5;147m-\u001b[0m\u001b[38;5;183m\u001b[38;5;147m-\u001b[0m\u001b[38;5;183m\u001b[38;5;147m-\u001b[0m\u001b[38;5;183m\u001b[38;5;147m-\u001b[0m\u001b[38;5;183m\u001b[38;5;147m-\u001b[0m\u001b[38;5;183m\u001b[38;5;147m-\u001b[0m\u001b[38;5;183m\u001b[38;5;147m-\u001b[0m\u001b[38;5;183m\u001b[38;5;147m-\u001b[0m\u001b[38;5;183m\u001b[38;5;147m-\u001b[0m\u001b[38;5;183m\u001b[38;5;147m-\u001b[0m\u001b[38;5;183m\u001b[38;5;147m-\u001b[0m\u001b[38;5;183m\u001b[38;5;147m-\u001b[0m\u001b[38;5;183m\u001b[38;5;147m-\u001b[0m\u001b[38;5;183m\u001b[38;5;147m-\u001b[0m\u001b[38;5;183m\u001b[38;5;147m-\u001b[0m\u001b[38;5;183m\u001b[38;5;147m-\u001b[0m\u001b[38;5;183m\u001b[38;5;147m-\u001b[0m\u001b[38;5;183m\u001b[38;5;147m-\u001b[0m\u001b[38;5;183m\u001b[38;5;147m-\u001b[0m\u001b[38;5;183m\u001b[38;5;219m+\u001b[0m\u001b[38;5;183m\u001b[38;5;147m-\u001b[0m\u001b[38;5;183m\u001b[38;5;147m-\u001b[0m\u001b[38;5;183m\u001b[38;5;147m-\u001b[0m\u001b[38;5;183m\u001b[38;5;147m-\u001b[0m\u001b[38;5;183m\u001b[38;5;147m-\u001b[0m\u001b[38;5;183m\u001b[38;5;147m-\u001b[0m\u001b[38;5;183m\u001b[38;5;147m-\u001b[0m\u001b[38;5;183m\u001b[38;5;147m-\u001b[0m\u001b[38;5;183m\u001b[38;5;147m-\u001b[0m\u001b[38;5;183m\u001b[38;5;147m-\u001b[0m\u001b[38;5;183m\u001b[38;5;147m-\u001b[0m\u001b[38;5;183m\u001b[38;5;147m-\u001b[0m\u001b[38;5;183m\u001b[38;5;147m-\u001b[0m\u001b[38;5;183m\u001b[38;5;147m-\u001b[0m\u001b[38;5;183m\u001b[38;5;147m-\u001b[0m\u001b[38;5;183m\u001b[38;5;147m-\u001b[0m\u001b[38;5;183m\u001b[38;5;147m-\u001b[0m\u001b[38;5;183m\u001b[38;5;147m-\u001b[0m\u001b[38;5;183m\u001b[38;5;147m-\u001b[0m\u001b[38;5;183m\u001b[38;5;147m-\u001b[0m\u001b[38;5;183m\u001b[38;5;147m-\u001b[0m\u001b[38;5;183m\u001b[38;5;219m+\u001b[0m\u001b[38;5;183m\u001b[38;5;147m-\u001b[0m\u001b[38;5;183m\u001b[38;5;147m-\u001b[0m\u001b[38;5;183m\u001b[38;5;147m-\u001b[0m\u001b[38;5;183m\u001b[38;5;147m-\u001b[0m\u001b[38;5;183m\u001b[38;5;147m-\u001b[0m\u001b[38;5;183m\u001b[38;5;147m-\u001b[0m\u001b[38;5;183m\u001b[38;5;147m-\u001b[0m\u001b[38;5;183m\u001b[38;5;147m-\u001b[0m\u001b[38;5;183m\u001b[38;5;147m-\u001b[0m\u001b[38;5;183m\u001b[38;5;147m-\u001b[0m\u001b[38;5;183m\u001b[38;5;147m-\u001b[0m\u001b[38;5;183m\u001b[38;5;147m-\u001b[0m\u001b[38;5;183m\u001b[38;5;147m-\u001b[0m\u001b[38;5;183m\u001b[38;5;147m-\u001b[0m\u001b[38;5;183m\u001b[38;5;147m-\u001b[0m\u001b[38;5;183m\u001b[38;5;147m-\u001b[0m\u001b[38;5;183m\u001b[38;5;147m-\u001b[0m\u001b[38;5;183m\u001b[38;5;147m-\u001b[0m\u001b[38;5;183m\u001b[38;5;147m-\u001b[0m\u001b[38;5;183m\u001b[38;5;147m-\u001b[0m\u001b[38;5;183m\u001b[38;5;147m-\u001b[0m\u001b[38;5;183m\u001b[38;5;219m+\u001b[0m\u001b[38;5;183m\n",
      "\u001b[35m|\u001b[0m\u001b[38;5;183m knn  \u001b[35m|\u001b[0m\u001b[38;5;183m           TfidfVectorizer(max_df=0.5, ngram_range=(1, 2))           \u001b[35m|\u001b[0m\u001b[38;5;183m  TfidfVectorizer5 \u001b[35m|\u001b[0m\u001b[38;5;183m  0.2720166812189435 \u001b[35m|\u001b[0m\u001b[38;5;183m 0.3496326905417815 \u001b[35m|\u001b[0m\u001b[38;5;183m  0.2888261686967606 \u001b[35m|\u001b[0m\u001b[38;5;183m  0.2759121644368684 \u001b[35m|\u001b[0m\u001b[38;5;183m\n",
      "\u001b[35m|\u001b[0m\u001b[38;5;183m knn  \u001b[35m|\u001b[0m\u001b[38;5;183m TfidfVectorizer(max_df=0.1, max_features=15000, ngram_range=(1, 2)) \u001b[35m|\u001b[0m\u001b[38;5;183m  TfidfVectorizer9 \u001b[35m|\u001b[0m\u001b[38;5;183m  0.2701353103491367 \u001b[35m|\u001b[0m\u001b[38;5;183m 0.3442378328741965 \u001b[35m|\u001b[0m\u001b[38;5;183m 0.28439860944708584 \u001b[35m|\u001b[0m\u001b[38;5;183m 0.27345252981233303 \u001b[35m|\u001b[0m\u001b[38;5;183m\n",
      "\u001b[35m|\u001b[0m\u001b[38;5;183m knn  \u001b[35m|\u001b[0m\u001b[38;5;183m           TfidfVectorizer(max_df=0.1, ngram_range=(1, 2))           \u001b[35m|\u001b[0m\u001b[38;5;183m TfidfVectorizer11 \u001b[35m|\u001b[0m\u001b[38;5;183m 0.26702872943049843 \u001b[35m|\u001b[0m\u001b[38;5;183m 0.344811753902663  \u001b[35m|\u001b[0m\u001b[38;5;183m 0.28191131274633696 \u001b[35m|\u001b[0m\u001b[38;5;183m  0.271615656295467  \u001b[35m|\u001b[0m\u001b[38;5;183m\n",
      "\u001b[38;5;219m+\u001b[0m\u001b[38;5;183m\u001b[38;5;147m-\u001b[0m\u001b[38;5;183m\u001b[38;5;147m-\u001b[0m\u001b[38;5;183m\u001b[38;5;147m-\u001b[0m\u001b[38;5;183m\u001b[38;5;147m-\u001b[0m\u001b[38;5;183m\u001b[38;5;147m-\u001b[0m\u001b[38;5;183m\u001b[38;5;147m-\u001b[0m\u001b[38;5;183m\u001b[38;5;219m+\u001b[0m\u001b[38;5;183m\u001b[38;5;147m-\u001b[0m\u001b[38;5;183m\u001b[38;5;147m-\u001b[0m\u001b[38;5;183m\u001b[38;5;147m-\u001b[0m\u001b[38;5;183m\u001b[38;5;147m-\u001b[0m\u001b[38;5;183m\u001b[38;5;147m-\u001b[0m\u001b[38;5;183m\u001b[38;5;147m-\u001b[0m\u001b[38;5;183m\u001b[38;5;147m-\u001b[0m\u001b[38;5;183m\u001b[38;5;147m-\u001b[0m\u001b[38;5;183m\u001b[38;5;147m-\u001b[0m\u001b[38;5;183m\u001b[38;5;147m-\u001b[0m\u001b[38;5;183m\u001b[38;5;147m-\u001b[0m\u001b[38;5;183m\u001b[38;5;147m-\u001b[0m\u001b[38;5;183m\u001b[38;5;147m-\u001b[0m\u001b[38;5;183m\u001b[38;5;147m-\u001b[0m\u001b[38;5;183m\u001b[38;5;147m-\u001b[0m\u001b[38;5;183m\u001b[38;5;147m-\u001b[0m\u001b[38;5;183m\u001b[38;5;147m-\u001b[0m\u001b[38;5;183m\u001b[38;5;147m-\u001b[0m\u001b[38;5;183m\u001b[38;5;147m-\u001b[0m\u001b[38;5;183m\u001b[38;5;147m-\u001b[0m\u001b[38;5;183m\u001b[38;5;147m-\u001b[0m\u001b[38;5;183m\u001b[38;5;147m-\u001b[0m\u001b[38;5;183m\u001b[38;5;147m-\u001b[0m\u001b[38;5;183m\u001b[38;5;147m-\u001b[0m\u001b[38;5;183m\u001b[38;5;147m-\u001b[0m\u001b[38;5;183m\u001b[38;5;147m-\u001b[0m\u001b[38;5;183m\u001b[38;5;147m-\u001b[0m\u001b[38;5;183m\u001b[38;5;147m-\u001b[0m\u001b[38;5;183m\u001b[38;5;147m-\u001b[0m\u001b[38;5;183m\u001b[38;5;147m-\u001b[0m\u001b[38;5;183m\u001b[38;5;147m-\u001b[0m\u001b[38;5;183m\u001b[38;5;147m-\u001b[0m\u001b[38;5;183m\u001b[38;5;147m-\u001b[0m\u001b[38;5;183m\u001b[38;5;147m-\u001b[0m\u001b[38;5;183m\u001b[38;5;147m-\u001b[0m\u001b[38;5;183m\u001b[38;5;147m-\u001b[0m\u001b[38;5;183m\u001b[38;5;147m-\u001b[0m\u001b[38;5;183m\u001b[38;5;147m-\u001b[0m\u001b[38;5;183m\u001b[38;5;147m-\u001b[0m\u001b[38;5;183m\u001b[38;5;147m-\u001b[0m\u001b[38;5;183m\u001b[38;5;147m-\u001b[0m\u001b[38;5;183m\u001b[38;5;147m-\u001b[0m\u001b[38;5;183m\u001b[38;5;147m-\u001b[0m\u001b[38;5;183m\u001b[38;5;147m-\u001b[0m\u001b[38;5;183m\u001b[38;5;147m-\u001b[0m\u001b[38;5;183m\u001b[38;5;147m-\u001b[0m\u001b[38;5;183m\u001b[38;5;147m-\u001b[0m\u001b[38;5;183m\u001b[38;5;147m-\u001b[0m\u001b[38;5;183m\u001b[38;5;147m-\u001b[0m\u001b[38;5;183m\u001b[38;5;147m-\u001b[0m\u001b[38;5;183m\u001b[38;5;147m-\u001b[0m\u001b[38;5;183m\u001b[38;5;147m-\u001b[0m\u001b[38;5;183m\u001b[38;5;147m-\u001b[0m\u001b[38;5;183m\u001b[38;5;147m-\u001b[0m\u001b[38;5;183m\u001b[38;5;147m-\u001b[0m\u001b[38;5;183m\u001b[38;5;147m-\u001b[0m\u001b[38;5;183m\u001b[38;5;147m-\u001b[0m\u001b[38;5;183m\u001b[38;5;147m-\u001b[0m\u001b[38;5;183m\u001b[38;5;147m-\u001b[0m\u001b[38;5;183m\u001b[38;5;147m-\u001b[0m\u001b[38;5;183m\u001b[38;5;147m-\u001b[0m\u001b[38;5;183m\u001b[38;5;147m-\u001b[0m\u001b[38;5;183m\u001b[38;5;147m-\u001b[0m\u001b[38;5;183m\u001b[38;5;147m-\u001b[0m\u001b[38;5;183m\u001b[38;5;147m-\u001b[0m\u001b[38;5;183m\u001b[38;5;147m-\u001b[0m\u001b[38;5;183m\u001b[38;5;147m-\u001b[0m\u001b[38;5;183m\u001b[38;5;147m-\u001b[0m\u001b[38;5;183m\u001b[38;5;147m-\u001b[0m\u001b[38;5;183m\u001b[38;5;219m+\u001b[0m\u001b[38;5;183m\u001b[38;5;147m-\u001b[0m\u001b[38;5;183m\u001b[38;5;147m-\u001b[0m\u001b[38;5;183m\u001b[38;5;147m-\u001b[0m\u001b[38;5;183m\u001b[38;5;147m-\u001b[0m\u001b[38;5;183m\u001b[38;5;147m-\u001b[0m\u001b[38;5;183m\u001b[38;5;147m-\u001b[0m\u001b[38;5;183m\u001b[38;5;147m-\u001b[0m\u001b[38;5;183m\u001b[38;5;147m-\u001b[0m\u001b[38;5;183m\u001b[38;5;147m-\u001b[0m\u001b[38;5;183m\u001b[38;5;147m-\u001b[0m\u001b[38;5;183m\u001b[38;5;147m-\u001b[0m\u001b[38;5;183m\u001b[38;5;147m-\u001b[0m\u001b[38;5;183m\u001b[38;5;147m-\u001b[0m\u001b[38;5;183m\u001b[38;5;147m-\u001b[0m\u001b[38;5;183m\u001b[38;5;147m-\u001b[0m\u001b[38;5;183m\u001b[38;5;147m-\u001b[0m\u001b[38;5;183m\u001b[38;5;147m-\u001b[0m\u001b[38;5;183m\u001b[38;5;147m-\u001b[0m\u001b[38;5;183m\u001b[38;5;147m-\u001b[0m\u001b[38;5;183m\u001b[38;5;219m+\u001b[0m\u001b[38;5;183m\u001b[38;5;147m-\u001b[0m\u001b[38;5;183m\u001b[38;5;147m-\u001b[0m\u001b[38;5;183m\u001b[38;5;147m-\u001b[0m\u001b[38;5;183m\u001b[38;5;147m-\u001b[0m\u001b[38;5;183m\u001b[38;5;147m-\u001b[0m\u001b[38;5;183m\u001b[38;5;147m-\u001b[0m\u001b[38;5;183m\u001b[38;5;147m-\u001b[0m\u001b[38;5;183m\u001b[38;5;147m-\u001b[0m\u001b[38;5;183m\u001b[38;5;147m-\u001b[0m\u001b[38;5;183m\u001b[38;5;147m-\u001b[0m\u001b[38;5;183m\u001b[38;5;147m-\u001b[0m\u001b[38;5;183m\u001b[38;5;147m-\u001b[0m\u001b[38;5;183m\u001b[38;5;147m-\u001b[0m\u001b[38;5;183m\u001b[38;5;147m-\u001b[0m\u001b[38;5;183m\u001b[38;5;147m-\u001b[0m\u001b[38;5;183m\u001b[38;5;147m-\u001b[0m\u001b[38;5;183m\u001b[38;5;147m-\u001b[0m\u001b[38;5;183m\u001b[38;5;147m-\u001b[0m\u001b[38;5;183m\u001b[38;5;147m-\u001b[0m\u001b[38;5;183m\u001b[38;5;147m-\u001b[0m\u001b[38;5;183m\u001b[38;5;147m-\u001b[0m\u001b[38;5;183m\u001b[38;5;219m+\u001b[0m\u001b[38;5;183m\u001b[38;5;147m-\u001b[0m\u001b[38;5;183m\u001b[38;5;147m-\u001b[0m\u001b[38;5;183m\u001b[38;5;147m-\u001b[0m\u001b[38;5;183m\u001b[38;5;147m-\u001b[0m\u001b[38;5;183m\u001b[38;5;147m-\u001b[0m\u001b[38;5;183m\u001b[38;5;147m-\u001b[0m\u001b[38;5;183m\u001b[38;5;147m-\u001b[0m\u001b[38;5;183m\u001b[38;5;147m-\u001b[0m\u001b[38;5;183m\u001b[38;5;147m-\u001b[0m\u001b[38;5;183m\u001b[38;5;147m-\u001b[0m\u001b[38;5;183m\u001b[38;5;147m-\u001b[0m\u001b[38;5;183m\u001b[38;5;147m-\u001b[0m\u001b[38;5;183m\u001b[38;5;147m-\u001b[0m\u001b[38;5;183m\u001b[38;5;147m-\u001b[0m\u001b[38;5;183m\u001b[38;5;147m-\u001b[0m\u001b[38;5;183m\u001b[38;5;147m-\u001b[0m\u001b[38;5;183m\u001b[38;5;147m-\u001b[0m\u001b[38;5;183m\u001b[38;5;147m-\u001b[0m\u001b[38;5;183m\u001b[38;5;147m-\u001b[0m\u001b[38;5;183m\u001b[38;5;147m-\u001b[0m\u001b[38;5;183m\u001b[38;5;219m+\u001b[0m\u001b[38;5;183m\u001b[38;5;147m-\u001b[0m\u001b[38;5;183m\u001b[38;5;147m-\u001b[0m\u001b[38;5;183m\u001b[38;5;147m-\u001b[0m\u001b[38;5;183m\u001b[38;5;147m-\u001b[0m\u001b[38;5;183m\u001b[38;5;147m-\u001b[0m\u001b[38;5;183m\u001b[38;5;147m-\u001b[0m\u001b[38;5;183m\u001b[38;5;147m-\u001b[0m\u001b[38;5;183m\u001b[38;5;147m-\u001b[0m\u001b[38;5;183m\u001b[38;5;147m-\u001b[0m\u001b[38;5;183m\u001b[38;5;147m-\u001b[0m\u001b[38;5;183m\u001b[38;5;147m-\u001b[0m\u001b[38;5;183m\u001b[38;5;147m-\u001b[0m\u001b[38;5;183m\u001b[38;5;147m-\u001b[0m\u001b[38;5;183m\u001b[38;5;147m-\u001b[0m\u001b[38;5;183m\u001b[38;5;147m-\u001b[0m\u001b[38;5;183m\u001b[38;5;147m-\u001b[0m\u001b[38;5;183m\u001b[38;5;147m-\u001b[0m\u001b[38;5;183m\u001b[38;5;147m-\u001b[0m\u001b[38;5;183m\u001b[38;5;147m-\u001b[0m\u001b[38;5;183m\u001b[38;5;147m-\u001b[0m\u001b[38;5;183m\u001b[38;5;147m-\u001b[0m\u001b[38;5;183m\u001b[38;5;219m+\u001b[0m\u001b[38;5;183m\u001b[38;5;147m-\u001b[0m\u001b[38;5;183m\u001b[38;5;147m-\u001b[0m\u001b[38;5;183m\u001b[38;5;147m-\u001b[0m\u001b[38;5;183m\u001b[38;5;147m-\u001b[0m\u001b[38;5;183m\u001b[38;5;147m-\u001b[0m\u001b[38;5;183m\u001b[38;5;147m-\u001b[0m\u001b[38;5;183m\u001b[38;5;147m-\u001b[0m\u001b[38;5;183m\u001b[38;5;147m-\u001b[0m\u001b[38;5;183m\u001b[38;5;147m-\u001b[0m\u001b[38;5;183m\u001b[38;5;147m-\u001b[0m\u001b[38;5;183m\u001b[38;5;147m-\u001b[0m\u001b[38;5;183m\u001b[38;5;147m-\u001b[0m\u001b[38;5;183m\u001b[38;5;147m-\u001b[0m\u001b[38;5;183m\u001b[38;5;147m-\u001b[0m\u001b[38;5;183m\u001b[38;5;147m-\u001b[0m\u001b[38;5;183m\u001b[38;5;147m-\u001b[0m\u001b[38;5;183m\u001b[38;5;147m-\u001b[0m\u001b[38;5;183m\u001b[38;5;147m-\u001b[0m\u001b[38;5;183m\u001b[38;5;147m-\u001b[0m\u001b[38;5;183m\u001b[38;5;147m-\u001b[0m\u001b[38;5;183m\u001b[38;5;147m-\u001b[0m\u001b[38;5;183m\u001b[38;5;219m+\u001b[0m\u001b[38;5;183m\u001b[0m\n",
      "\u001b[38;5;219m+\u001b[0m\u001b[38;5;183m\u001b[38;5;147m-\u001b[0m\u001b[38;5;183m\u001b[38;5;147m-\u001b[0m\u001b[38;5;183m\u001b[38;5;147m-\u001b[0m\u001b[38;5;183m\u001b[38;5;147m-\u001b[0m\u001b[38;5;183m\u001b[38;5;147m-\u001b[0m\u001b[38;5;183m\u001b[38;5;147m-\u001b[0m\u001b[38;5;183m\u001b[38;5;219m+\u001b[0m\u001b[38;5;183m\u001b[38;5;147m-\u001b[0m\u001b[38;5;183m\u001b[38;5;147m-\u001b[0m\u001b[38;5;183m\u001b[38;5;147m-\u001b[0m\u001b[38;5;183m\u001b[38;5;147m-\u001b[0m\u001b[38;5;183m\u001b[38;5;147m-\u001b[0m\u001b[38;5;183m\u001b[38;5;147m-\u001b[0m\u001b[38;5;183m\u001b[38;5;147m-\u001b[0m\u001b[38;5;183m\u001b[38;5;147m-\u001b[0m\u001b[38;5;183m\u001b[38;5;147m-\u001b[0m\u001b[38;5;183m\u001b[38;5;147m-\u001b[0m\u001b[38;5;183m\u001b[38;5;147m-\u001b[0m\u001b[38;5;183m\u001b[38;5;147m-\u001b[0m\u001b[38;5;183m\u001b[38;5;147m-\u001b[0m\u001b[38;5;183m\u001b[38;5;147m-\u001b[0m\u001b[38;5;183m\u001b[38;5;147m-\u001b[0m\u001b[38;5;183m\u001b[38;5;147m-\u001b[0m\u001b[38;5;183m\u001b[38;5;147m-\u001b[0m\u001b[38;5;183m\u001b[38;5;147m-\u001b[0m\u001b[38;5;183m\u001b[38;5;147m-\u001b[0m\u001b[38;5;183m\u001b[38;5;147m-\u001b[0m\u001b[38;5;183m\u001b[38;5;147m-\u001b[0m\u001b[38;5;183m\u001b[38;5;147m-\u001b[0m\u001b[38;5;183m\u001b[38;5;147m-\u001b[0m\u001b[38;5;183m\u001b[38;5;147m-\u001b[0m\u001b[38;5;183m\u001b[38;5;147m-\u001b[0m\u001b[38;5;183m\u001b[38;5;147m-\u001b[0m\u001b[38;5;183m\u001b[38;5;147m-\u001b[0m\u001b[38;5;183m\u001b[38;5;147m-\u001b[0m\u001b[38;5;183m\u001b[38;5;147m-\u001b[0m\u001b[38;5;183m\u001b[38;5;147m-\u001b[0m\u001b[38;5;183m\u001b[38;5;147m-\u001b[0m\u001b[38;5;183m\u001b[38;5;147m-\u001b[0m\u001b[38;5;183m\u001b[38;5;147m-\u001b[0m\u001b[38;5;183m\u001b[38;5;147m-\u001b[0m\u001b[38;5;183m\u001b[38;5;147m-\u001b[0m\u001b[38;5;183m\u001b[38;5;147m-\u001b[0m\u001b[38;5;183m\u001b[38;5;147m-\u001b[0m\u001b[38;5;183m\u001b[38;5;147m-\u001b[0m\u001b[38;5;183m\u001b[38;5;147m-\u001b[0m\u001b[38;5;183m\u001b[38;5;147m-\u001b[0m\u001b[38;5;183m\u001b[38;5;147m-\u001b[0m\u001b[38;5;183m\u001b[38;5;147m-\u001b[0m\u001b[38;5;183m\u001b[38;5;147m-\u001b[0m\u001b[38;5;183m\u001b[38;5;147m-\u001b[0m\u001b[38;5;183m\u001b[38;5;147m-\u001b[0m\u001b[38;5;183m\u001b[38;5;147m-\u001b[0m\u001b[38;5;183m\u001b[38;5;147m-\u001b[0m\u001b[38;5;183m\u001b[38;5;147m-\u001b[0m\u001b[38;5;183m\u001b[38;5;147m-\u001b[0m\u001b[38;5;183m\u001b[38;5;147m-\u001b[0m\u001b[38;5;183m\u001b[38;5;147m-\u001b[0m\u001b[38;5;183m\u001b[38;5;147m-\u001b[0m\u001b[38;5;183m\u001b[38;5;147m-\u001b[0m\u001b[38;5;183m\u001b[38;5;147m-\u001b[0m\u001b[38;5;183m\u001b[38;5;147m-\u001b[0m\u001b[38;5;183m\u001b[38;5;147m-\u001b[0m\u001b[38;5;183m\u001b[38;5;147m-\u001b[0m\u001b[38;5;183m\u001b[38;5;147m-\u001b[0m\u001b[38;5;183m\u001b[38;5;147m-\u001b[0m\u001b[38;5;183m\u001b[38;5;147m-\u001b[0m\u001b[38;5;183m\u001b[38;5;147m-\u001b[0m\u001b[38;5;183m\u001b[38;5;147m-\u001b[0m\u001b[38;5;183m\u001b[38;5;147m-\u001b[0m\u001b[38;5;183m\u001b[38;5;147m-\u001b[0m\u001b[38;5;183m\u001b[38;5;147m-\u001b[0m\u001b[38;5;183m\u001b[38;5;147m-\u001b[0m\u001b[38;5;183m\u001b[38;5;147m-\u001b[0m\u001b[38;5;183m\u001b[38;5;147m-\u001b[0m\u001b[38;5;183m\u001b[38;5;147m-\u001b[0m\u001b[38;5;183m\u001b[38;5;219m+\u001b[0m\u001b[38;5;183m\u001b[38;5;147m-\u001b[0m\u001b[38;5;183m\u001b[38;5;147m-\u001b[0m\u001b[38;5;183m\u001b[38;5;147m-\u001b[0m\u001b[38;5;183m\u001b[38;5;147m-\u001b[0m\u001b[38;5;183m\u001b[38;5;147m-\u001b[0m\u001b[38;5;183m\u001b[38;5;147m-\u001b[0m\u001b[38;5;183m\u001b[38;5;147m-\u001b[0m\u001b[38;5;183m\u001b[38;5;147m-\u001b[0m\u001b[38;5;183m\u001b[38;5;147m-\u001b[0m\u001b[38;5;183m\u001b[38;5;147m-\u001b[0m\u001b[38;5;183m\u001b[38;5;147m-\u001b[0m\u001b[38;5;183m\u001b[38;5;147m-\u001b[0m\u001b[38;5;183m\u001b[38;5;147m-\u001b[0m\u001b[38;5;183m\u001b[38;5;147m-\u001b[0m\u001b[38;5;183m\u001b[38;5;147m-\u001b[0m\u001b[38;5;183m\u001b[38;5;147m-\u001b[0m\u001b[38;5;183m\u001b[38;5;147m-\u001b[0m\u001b[38;5;183m\u001b[38;5;147m-\u001b[0m\u001b[38;5;183m\u001b[38;5;219m+\u001b[0m\u001b[38;5;183m\u001b[38;5;147m-\u001b[0m\u001b[38;5;183m\u001b[38;5;147m-\u001b[0m\u001b[38;5;183m\u001b[38;5;147m-\u001b[0m\u001b[38;5;183m\u001b[38;5;147m-\u001b[0m\u001b[38;5;183m\u001b[38;5;147m-\u001b[0m\u001b[38;5;183m\u001b[38;5;147m-\u001b[0m\u001b[38;5;183m\u001b[38;5;147m-\u001b[0m\u001b[38;5;183m\u001b[38;5;147m-\u001b[0m\u001b[38;5;183m\u001b[38;5;147m-\u001b[0m\u001b[38;5;183m\u001b[38;5;147m-\u001b[0m\u001b[38;5;183m\u001b[38;5;147m-\u001b[0m\u001b[38;5;183m\u001b[38;5;147m-\u001b[0m\u001b[38;5;183m\u001b[38;5;147m-\u001b[0m\u001b[38;5;183m\u001b[38;5;147m-\u001b[0m\u001b[38;5;183m\u001b[38;5;147m-\u001b[0m\u001b[38;5;183m\u001b[38;5;147m-\u001b[0m\u001b[38;5;183m\u001b[38;5;147m-\u001b[0m\u001b[38;5;183m\u001b[38;5;147m-\u001b[0m\u001b[38;5;183m\u001b[38;5;147m-\u001b[0m\u001b[38;5;183m\u001b[38;5;147m-\u001b[0m\u001b[38;5;183m\u001b[38;5;147m-\u001b[0m\u001b[38;5;183m\u001b[38;5;219m+\u001b[0m\u001b[38;5;183m\u001b[38;5;147m-\u001b[0m\u001b[38;5;183m\u001b[38;5;147m-\u001b[0m\u001b[38;5;183m\u001b[38;5;147m-\u001b[0m\u001b[38;5;183m\u001b[38;5;147m-\u001b[0m\u001b[38;5;183m\u001b[38;5;147m-\u001b[0m\u001b[38;5;183m\u001b[38;5;147m-\u001b[0m\u001b[38;5;183m\u001b[38;5;147m-\u001b[0m\u001b[38;5;183m\u001b[38;5;147m-\u001b[0m\u001b[38;5;183m\u001b[38;5;147m-\u001b[0m\u001b[38;5;183m\u001b[38;5;147m-\u001b[0m\u001b[38;5;183m\u001b[38;5;147m-\u001b[0m\u001b[38;5;183m\u001b[38;5;147m-\u001b[0m\u001b[38;5;183m\u001b[38;5;147m-\u001b[0m\u001b[38;5;183m\u001b[38;5;147m-\u001b[0m\u001b[38;5;183m\u001b[38;5;147m-\u001b[0m\u001b[38;5;183m\u001b[38;5;147m-\u001b[0m\u001b[38;5;183m\u001b[38;5;147m-\u001b[0m\u001b[38;5;183m\u001b[38;5;147m-\u001b[0m\u001b[38;5;183m\u001b[38;5;147m-\u001b[0m\u001b[38;5;183m\u001b[38;5;147m-\u001b[0m\u001b[38;5;183m\u001b[38;5;147m-\u001b[0m\u001b[38;5;183m\u001b[38;5;219m+\u001b[0m\u001b[38;5;183m\u001b[38;5;147m-\u001b[0m\u001b[38;5;183m\u001b[38;5;147m-\u001b[0m\u001b[38;5;183m\u001b[38;5;147m-\u001b[0m\u001b[38;5;183m\u001b[38;5;147m-\u001b[0m\u001b[38;5;183m\u001b[38;5;147m-\u001b[0m\u001b[38;5;183m\u001b[38;5;147m-\u001b[0m\u001b[38;5;183m\u001b[38;5;147m-\u001b[0m\u001b[38;5;183m\u001b[38;5;147m-\u001b[0m\u001b[38;5;183m\u001b[38;5;147m-\u001b[0m\u001b[38;5;183m\u001b[38;5;147m-\u001b[0m\u001b[38;5;183m\u001b[38;5;147m-\u001b[0m\u001b[38;5;183m\u001b[38;5;147m-\u001b[0m\u001b[38;5;183m\u001b[38;5;147m-\u001b[0m\u001b[38;5;183m\u001b[38;5;147m-\u001b[0m\u001b[38;5;183m\u001b[38;5;147m-\u001b[0m\u001b[38;5;183m\u001b[38;5;147m-\u001b[0m\u001b[38;5;183m\u001b[38;5;147m-\u001b[0m\u001b[38;5;183m\u001b[38;5;147m-\u001b[0m\u001b[38;5;183m\u001b[38;5;147m-\u001b[0m\u001b[38;5;183m\u001b[38;5;147m-\u001b[0m\u001b[38;5;183m\u001b[38;5;147m-\u001b[0m\u001b[38;5;183m\u001b[38;5;219m+\u001b[0m\u001b[38;5;183m\u001b[38;5;147m-\u001b[0m\u001b[38;5;183m\u001b[38;5;147m-\u001b[0m\u001b[38;5;183m\u001b[38;5;147m-\u001b[0m\u001b[38;5;183m\u001b[38;5;147m-\u001b[0m\u001b[38;5;183m\u001b[38;5;147m-\u001b[0m\u001b[38;5;183m\u001b[38;5;147m-\u001b[0m\u001b[38;5;183m\u001b[38;5;147m-\u001b[0m\u001b[38;5;183m\u001b[38;5;147m-\u001b[0m\u001b[38;5;183m\u001b[38;5;147m-\u001b[0m\u001b[38;5;183m\u001b[38;5;147m-\u001b[0m\u001b[38;5;183m\u001b[38;5;147m-\u001b[0m\u001b[38;5;183m\u001b[38;5;147m-\u001b[0m\u001b[38;5;183m\u001b[38;5;147m-\u001b[0m\u001b[38;5;183m\u001b[38;5;147m-\u001b[0m\u001b[38;5;183m\u001b[38;5;147m-\u001b[0m\u001b[38;5;183m\u001b[38;5;147m-\u001b[0m\u001b[38;5;183m\u001b[38;5;147m-\u001b[0m\u001b[38;5;183m\u001b[38;5;147m-\u001b[0m\u001b[38;5;183m\u001b[38;5;147m-\u001b[0m\u001b[38;5;183m\u001b[38;5;147m-\u001b[0m\u001b[38;5;183m\u001b[38;5;219m+\u001b[0m\u001b[38;5;183m\n",
      "\u001b[35m|\u001b[0m\u001b[38;5;183m Algo \u001b[35m|\u001b[0m\u001b[38;5;183m                              Vectorizer                             \u001b[35m|\u001b[0m\u001b[38;5;183m  Vectorizer ID   \u001b[35m|\u001b[0m\u001b[38;5;183m       Macro f1      \u001b[35m|\u001b[0m\u001b[38;5;183m       Accuracy      \u001b[35m|\u001b[0m\u001b[38;5;183m      Precision      \u001b[35m|\u001b[0m\u001b[38;5;183m       Rappel       \u001b[35m|\u001b[0m\u001b[38;5;183m\n",
      "\u001b[38;5;219m+\u001b[0m\u001b[38;5;183m\u001b[38;5;147m-\u001b[0m\u001b[38;5;183m\u001b[38;5;147m-\u001b[0m\u001b[38;5;183m\u001b[38;5;147m-\u001b[0m\u001b[38;5;183m\u001b[38;5;147m-\u001b[0m\u001b[38;5;183m\u001b[38;5;147m-\u001b[0m\u001b[38;5;183m\u001b[38;5;147m-\u001b[0m\u001b[38;5;183m\u001b[38;5;219m+\u001b[0m\u001b[38;5;183m\u001b[38;5;147m-\u001b[0m\u001b[38;5;183m\u001b[38;5;147m-\u001b[0m\u001b[38;5;183m\u001b[38;5;147m-\u001b[0m\u001b[38;5;183m\u001b[38;5;147m-\u001b[0m\u001b[38;5;183m\u001b[38;5;147m-\u001b[0m\u001b[38;5;183m\u001b[38;5;147m-\u001b[0m\u001b[38;5;183m\u001b[38;5;147m-\u001b[0m\u001b[38;5;183m\u001b[38;5;147m-\u001b[0m\u001b[38;5;183m\u001b[38;5;147m-\u001b[0m\u001b[38;5;183m\u001b[38;5;147m-\u001b[0m\u001b[38;5;183m\u001b[38;5;147m-\u001b[0m\u001b[38;5;183m\u001b[38;5;147m-\u001b[0m\u001b[38;5;183m\u001b[38;5;147m-\u001b[0m\u001b[38;5;183m\u001b[38;5;147m-\u001b[0m\u001b[38;5;183m\u001b[38;5;147m-\u001b[0m\u001b[38;5;183m\u001b[38;5;147m-\u001b[0m\u001b[38;5;183m\u001b[38;5;147m-\u001b[0m\u001b[38;5;183m\u001b[38;5;147m-\u001b[0m\u001b[38;5;183m\u001b[38;5;147m-\u001b[0m\u001b[38;5;183m\u001b[38;5;147m-\u001b[0m\u001b[38;5;183m\u001b[38;5;147m-\u001b[0m\u001b[38;5;183m\u001b[38;5;147m-\u001b[0m\u001b[38;5;183m\u001b[38;5;147m-\u001b[0m\u001b[38;5;183m\u001b[38;5;147m-\u001b[0m\u001b[38;5;183m\u001b[38;5;147m-\u001b[0m\u001b[38;5;183m\u001b[38;5;147m-\u001b[0m\u001b[38;5;183m\u001b[38;5;147m-\u001b[0m\u001b[38;5;183m\u001b[38;5;147m-\u001b[0m\u001b[38;5;183m\u001b[38;5;147m-\u001b[0m\u001b[38;5;183m\u001b[38;5;147m-\u001b[0m\u001b[38;5;183m\u001b[38;5;147m-\u001b[0m\u001b[38;5;183m\u001b[38;5;147m-\u001b[0m\u001b[38;5;183m\u001b[38;5;147m-\u001b[0m\u001b[38;5;183m\u001b[38;5;147m-\u001b[0m\u001b[38;5;183m\u001b[38;5;147m-\u001b[0m\u001b[38;5;183m\u001b[38;5;147m-\u001b[0m\u001b[38;5;183m\u001b[38;5;147m-\u001b[0m\u001b[38;5;183m\u001b[38;5;147m-\u001b[0m\u001b[38;5;183m\u001b[38;5;147m-\u001b[0m\u001b[38;5;183m\u001b[38;5;147m-\u001b[0m\u001b[38;5;183m\u001b[38;5;147m-\u001b[0m\u001b[38;5;183m\u001b[38;5;147m-\u001b[0m\u001b[38;5;183m\u001b[38;5;147m-\u001b[0m\u001b[38;5;183m\u001b[38;5;147m-\u001b[0m\u001b[38;5;183m\u001b[38;5;147m-\u001b[0m\u001b[38;5;183m\u001b[38;5;147m-\u001b[0m\u001b[38;5;183m\u001b[38;5;147m-\u001b[0m\u001b[38;5;183m\u001b[38;5;147m-\u001b[0m\u001b[38;5;183m\u001b[38;5;147m-\u001b[0m\u001b[38;5;183m\u001b[38;5;147m-\u001b[0m\u001b[38;5;183m\u001b[38;5;147m-\u001b[0m\u001b[38;5;183m\u001b[38;5;147m-\u001b[0m\u001b[38;5;183m\u001b[38;5;147m-\u001b[0m\u001b[38;5;183m\u001b[38;5;147m-\u001b[0m\u001b[38;5;183m\u001b[38;5;147m-\u001b[0m\u001b[38;5;183m\u001b[38;5;147m-\u001b[0m\u001b[38;5;183m\u001b[38;5;147m-\u001b[0m\u001b[38;5;183m\u001b[38;5;147m-\u001b[0m\u001b[38;5;183m\u001b[38;5;147m-\u001b[0m\u001b[38;5;183m\u001b[38;5;147m-\u001b[0m\u001b[38;5;183m\u001b[38;5;147m-\u001b[0m\u001b[38;5;183m\u001b[38;5;147m-\u001b[0m\u001b[38;5;183m\u001b[38;5;147m-\u001b[0m\u001b[38;5;183m\u001b[38;5;147m-\u001b[0m\u001b[38;5;183m\u001b[38;5;147m-\u001b[0m\u001b[38;5;183m\u001b[38;5;147m-\u001b[0m\u001b[38;5;183m\u001b[38;5;147m-\u001b[0m\u001b[38;5;183m\u001b[38;5;147m-\u001b[0m\u001b[38;5;183m\u001b[38;5;147m-\u001b[0m\u001b[38;5;183m\u001b[38;5;219m+\u001b[0m\u001b[38;5;183m\u001b[38;5;147m-\u001b[0m\u001b[38;5;183m\u001b[38;5;147m-\u001b[0m\u001b[38;5;183m\u001b[38;5;147m-\u001b[0m\u001b[38;5;183m\u001b[38;5;147m-\u001b[0m\u001b[38;5;183m\u001b[38;5;147m-\u001b[0m\u001b[38;5;183m\u001b[38;5;147m-\u001b[0m\u001b[38;5;183m\u001b[38;5;147m-\u001b[0m\u001b[38;5;183m\u001b[38;5;147m-\u001b[0m\u001b[38;5;183m\u001b[38;5;147m-\u001b[0m\u001b[38;5;183m\u001b[38;5;147m-\u001b[0m\u001b[38;5;183m\u001b[38;5;147m-\u001b[0m\u001b[38;5;183m\u001b[38;5;147m-\u001b[0m\u001b[38;5;183m\u001b[38;5;147m-\u001b[0m\u001b[38;5;183m\u001b[38;5;147m-\u001b[0m\u001b[38;5;183m\u001b[38;5;147m-\u001b[0m\u001b[38;5;183m\u001b[38;5;147m-\u001b[0m\u001b[38;5;183m\u001b[38;5;147m-\u001b[0m\u001b[38;5;183m\u001b[38;5;147m-\u001b[0m\u001b[38;5;183m\u001b[38;5;219m+\u001b[0m\u001b[38;5;183m\u001b[38;5;147m-\u001b[0m\u001b[38;5;183m\u001b[38;5;147m-\u001b[0m\u001b[38;5;183m\u001b[38;5;147m-\u001b[0m\u001b[38;5;183m\u001b[38;5;147m-\u001b[0m\u001b[38;5;183m\u001b[38;5;147m-\u001b[0m\u001b[38;5;183m\u001b[38;5;147m-\u001b[0m\u001b[38;5;183m\u001b[38;5;147m-\u001b[0m\u001b[38;5;183m\u001b[38;5;147m-\u001b[0m\u001b[38;5;183m\u001b[38;5;147m-\u001b[0m\u001b[38;5;183m\u001b[38;5;147m-\u001b[0m\u001b[38;5;183m\u001b[38;5;147m-\u001b[0m\u001b[38;5;183m\u001b[38;5;147m-\u001b[0m\u001b[38;5;183m\u001b[38;5;147m-\u001b[0m\u001b[38;5;183m\u001b[38;5;147m-\u001b[0m\u001b[38;5;183m\u001b[38;5;147m-\u001b[0m\u001b[38;5;183m\u001b[38;5;147m-\u001b[0m\u001b[38;5;183m\u001b[38;5;147m-\u001b[0m\u001b[38;5;183m\u001b[38;5;147m-\u001b[0m\u001b[38;5;183m\u001b[38;5;147m-\u001b[0m\u001b[38;5;183m\u001b[38;5;147m-\u001b[0m\u001b[38;5;183m\u001b[38;5;147m-\u001b[0m\u001b[38;5;183m\u001b[38;5;219m+\u001b[0m\u001b[38;5;183m\u001b[38;5;147m-\u001b[0m\u001b[38;5;183m\u001b[38;5;147m-\u001b[0m\u001b[38;5;183m\u001b[38;5;147m-\u001b[0m\u001b[38;5;183m\u001b[38;5;147m-\u001b[0m\u001b[38;5;183m\u001b[38;5;147m-\u001b[0m\u001b[38;5;183m\u001b[38;5;147m-\u001b[0m\u001b[38;5;183m\u001b[38;5;147m-\u001b[0m\u001b[38;5;183m\u001b[38;5;147m-\u001b[0m\u001b[38;5;183m\u001b[38;5;147m-\u001b[0m\u001b[38;5;183m\u001b[38;5;147m-\u001b[0m\u001b[38;5;183m\u001b[38;5;147m-\u001b[0m\u001b[38;5;183m\u001b[38;5;147m-\u001b[0m\u001b[38;5;183m\u001b[38;5;147m-\u001b[0m\u001b[38;5;183m\u001b[38;5;147m-\u001b[0m\u001b[38;5;183m\u001b[38;5;147m-\u001b[0m\u001b[38;5;183m\u001b[38;5;147m-\u001b[0m\u001b[38;5;183m\u001b[38;5;147m-\u001b[0m\u001b[38;5;183m\u001b[38;5;147m-\u001b[0m\u001b[38;5;183m\u001b[38;5;147m-\u001b[0m\u001b[38;5;183m\u001b[38;5;147m-\u001b[0m\u001b[38;5;183m\u001b[38;5;147m-\u001b[0m\u001b[38;5;183m\u001b[38;5;219m+\u001b[0m\u001b[38;5;183m\u001b[38;5;147m-\u001b[0m\u001b[38;5;183m\u001b[38;5;147m-\u001b[0m\u001b[38;5;183m\u001b[38;5;147m-\u001b[0m\u001b[38;5;183m\u001b[38;5;147m-\u001b[0m\u001b[38;5;183m\u001b[38;5;147m-\u001b[0m\u001b[38;5;183m\u001b[38;5;147m-\u001b[0m\u001b[38;5;183m\u001b[38;5;147m-\u001b[0m\u001b[38;5;183m\u001b[38;5;147m-\u001b[0m\u001b[38;5;183m\u001b[38;5;147m-\u001b[0m\u001b[38;5;183m\u001b[38;5;147m-\u001b[0m\u001b[38;5;183m\u001b[38;5;147m-\u001b[0m\u001b[38;5;183m\u001b[38;5;147m-\u001b[0m\u001b[38;5;183m\u001b[38;5;147m-\u001b[0m\u001b[38;5;183m\u001b[38;5;147m-\u001b[0m\u001b[38;5;183m\u001b[38;5;147m-\u001b[0m\u001b[38;5;183m\u001b[38;5;147m-\u001b[0m\u001b[38;5;183m\u001b[38;5;147m-\u001b[0m\u001b[38;5;183m\u001b[38;5;147m-\u001b[0m\u001b[38;5;183m\u001b[38;5;147m-\u001b[0m\u001b[38;5;183m\u001b[38;5;147m-\u001b[0m\u001b[38;5;183m\u001b[38;5;147m-\u001b[0m\u001b[38;5;183m\u001b[38;5;219m+\u001b[0m\u001b[38;5;183m\u001b[38;5;147m-\u001b[0m\u001b[38;5;183m\u001b[38;5;147m-\u001b[0m\u001b[38;5;183m\u001b[38;5;147m-\u001b[0m\u001b[38;5;183m\u001b[38;5;147m-\u001b[0m\u001b[38;5;183m\u001b[38;5;147m-\u001b[0m\u001b[38;5;183m\u001b[38;5;147m-\u001b[0m\u001b[38;5;183m\u001b[38;5;147m-\u001b[0m\u001b[38;5;183m\u001b[38;5;147m-\u001b[0m\u001b[38;5;183m\u001b[38;5;147m-\u001b[0m\u001b[38;5;183m\u001b[38;5;147m-\u001b[0m\u001b[38;5;183m\u001b[38;5;147m-\u001b[0m\u001b[38;5;183m\u001b[38;5;147m-\u001b[0m\u001b[38;5;183m\u001b[38;5;147m-\u001b[0m\u001b[38;5;183m\u001b[38;5;147m-\u001b[0m\u001b[38;5;183m\u001b[38;5;147m-\u001b[0m\u001b[38;5;183m\u001b[38;5;147m-\u001b[0m\u001b[38;5;183m\u001b[38;5;147m-\u001b[0m\u001b[38;5;183m\u001b[38;5;147m-\u001b[0m\u001b[38;5;183m\u001b[38;5;147m-\u001b[0m\u001b[38;5;183m\u001b[38;5;147m-\u001b[0m\u001b[38;5;183m\u001b[38;5;219m+\u001b[0m\u001b[38;5;183m\n",
      "\u001b[35m|\u001b[0m\u001b[38;5;183m cnb  \u001b[35m|\u001b[0m\u001b[38;5;183m TfidfVectorizer(max_df=0.1, max_features=15000, ngram_range=(1, 2)) \u001b[35m|\u001b[0m\u001b[38;5;183m TfidfVectorizer9 \u001b[35m|\u001b[0m\u001b[38;5;183m  0.3203283193105756 \u001b[35m|\u001b[0m\u001b[38;5;183m 0.38050964187327824 \u001b[35m|\u001b[0m\u001b[38;5;183m  0.3325410640395902 \u001b[35m|\u001b[0m\u001b[38;5;183m 0.3366364851764875 \u001b[35m|\u001b[0m\u001b[38;5;183m\n",
      "\u001b[35m|\u001b[0m\u001b[38;5;183m cnb  \u001b[35m|\u001b[0m\u001b[38;5;183m TfidfVectorizer(max_df=0.5, max_features=15000, ngram_range=(1, 2)) \u001b[35m|\u001b[0m\u001b[38;5;183m TfidfVectorizer3 \u001b[35m|\u001b[0m\u001b[38;5;183m 0.31995797676499327 \u001b[35m|\u001b[0m\u001b[38;5;183m 0.38337924701561066 \u001b[35m|\u001b[0m\u001b[38;5;183m  0.3354203412618027 \u001b[35m|\u001b[0m\u001b[38;5;183m 0.3366650532214746 \u001b[35m|\u001b[0m\u001b[38;5;183m\n",
      "\u001b[35m|\u001b[0m\u001b[38;5;183m cnb  \u001b[35m|\u001b[0m\u001b[38;5;183m           TfidfVectorizer(max_df=0.1, max_features=15000)           \u001b[35m|\u001b[0m\u001b[38;5;183m TfidfVectorizer8 \u001b[35m|\u001b[0m\u001b[38;5;183m  0.3072057532138069 \u001b[35m|\u001b[0m\u001b[38;5;183m 0.38682277318640956 \u001b[35m|\u001b[0m\u001b[38;5;183m 0.32747923144694807 \u001b[35m|\u001b[0m\u001b[38;5;183m 0.317893379111457  \u001b[35m|\u001b[0m\u001b[38;5;183m\n",
      "\u001b[38;5;219m+\u001b[0m\u001b[38;5;183m\u001b[38;5;147m-\u001b[0m\u001b[38;5;183m\u001b[38;5;147m-\u001b[0m\u001b[38;5;183m\u001b[38;5;147m-\u001b[0m\u001b[38;5;183m\u001b[38;5;147m-\u001b[0m\u001b[38;5;183m\u001b[38;5;147m-\u001b[0m\u001b[38;5;183m\u001b[38;5;147m-\u001b[0m\u001b[38;5;183m\u001b[38;5;219m+\u001b[0m\u001b[38;5;183m\u001b[38;5;147m-\u001b[0m\u001b[38;5;183m\u001b[38;5;147m-\u001b[0m\u001b[38;5;183m\u001b[38;5;147m-\u001b[0m\u001b[38;5;183m\u001b[38;5;147m-\u001b[0m\u001b[38;5;183m\u001b[38;5;147m-\u001b[0m\u001b[38;5;183m\u001b[38;5;147m-\u001b[0m\u001b[38;5;183m\u001b[38;5;147m-\u001b[0m\u001b[38;5;183m\u001b[38;5;147m-\u001b[0m\u001b[38;5;183m\u001b[38;5;147m-\u001b[0m\u001b[38;5;183m\u001b[38;5;147m-\u001b[0m\u001b[38;5;183m\u001b[38;5;147m-\u001b[0m\u001b[38;5;183m\u001b[38;5;147m-\u001b[0m\u001b[38;5;183m\u001b[38;5;147m-\u001b[0m\u001b[38;5;183m\u001b[38;5;147m-\u001b[0m\u001b[38;5;183m\u001b[38;5;147m-\u001b[0m\u001b[38;5;183m\u001b[38;5;147m-\u001b[0m\u001b[38;5;183m\u001b[38;5;147m-\u001b[0m\u001b[38;5;183m\u001b[38;5;147m-\u001b[0m\u001b[38;5;183m\u001b[38;5;147m-\u001b[0m\u001b[38;5;183m\u001b[38;5;147m-\u001b[0m\u001b[38;5;183m\u001b[38;5;147m-\u001b[0m\u001b[38;5;183m\u001b[38;5;147m-\u001b[0m\u001b[38;5;183m\u001b[38;5;147m-\u001b[0m\u001b[38;5;183m\u001b[38;5;147m-\u001b[0m\u001b[38;5;183m\u001b[38;5;147m-\u001b[0m\u001b[38;5;183m\u001b[38;5;147m-\u001b[0m\u001b[38;5;183m\u001b[38;5;147m-\u001b[0m\u001b[38;5;183m\u001b[38;5;147m-\u001b[0m\u001b[38;5;183m\u001b[38;5;147m-\u001b[0m\u001b[38;5;183m\u001b[38;5;147m-\u001b[0m\u001b[38;5;183m\u001b[38;5;147m-\u001b[0m\u001b[38;5;183m\u001b[38;5;147m-\u001b[0m\u001b[38;5;183m\u001b[38;5;147m-\u001b[0m\u001b[38;5;183m\u001b[38;5;147m-\u001b[0m\u001b[38;5;183m\u001b[38;5;147m-\u001b[0m\u001b[38;5;183m\u001b[38;5;147m-\u001b[0m\u001b[38;5;183m\u001b[38;5;147m-\u001b[0m\u001b[38;5;183m\u001b[38;5;147m-\u001b[0m\u001b[38;5;183m\u001b[38;5;147m-\u001b[0m\u001b[38;5;183m\u001b[38;5;147m-\u001b[0m\u001b[38;5;183m\u001b[38;5;147m-\u001b[0m\u001b[38;5;183m\u001b[38;5;147m-\u001b[0m\u001b[38;5;183m\u001b[38;5;147m-\u001b[0m\u001b[38;5;183m\u001b[38;5;147m-\u001b[0m\u001b[38;5;183m\u001b[38;5;147m-\u001b[0m\u001b[38;5;183m\u001b[38;5;147m-\u001b[0m\u001b[38;5;183m\u001b[38;5;147m-\u001b[0m\u001b[38;5;183m\u001b[38;5;147m-\u001b[0m\u001b[38;5;183m\u001b[38;5;147m-\u001b[0m\u001b[38;5;183m\u001b[38;5;147m-\u001b[0m\u001b[38;5;183m\u001b[38;5;147m-\u001b[0m\u001b[38;5;183m\u001b[38;5;147m-\u001b[0m\u001b[38;5;183m\u001b[38;5;147m-\u001b[0m\u001b[38;5;183m\u001b[38;5;147m-\u001b[0m\u001b[38;5;183m\u001b[38;5;147m-\u001b[0m\u001b[38;5;183m\u001b[38;5;147m-\u001b[0m\u001b[38;5;183m\u001b[38;5;147m-\u001b[0m\u001b[38;5;183m\u001b[38;5;147m-\u001b[0m\u001b[38;5;183m\u001b[38;5;147m-\u001b[0m\u001b[38;5;183m\u001b[38;5;147m-\u001b[0m\u001b[38;5;183m\u001b[38;5;147m-\u001b[0m\u001b[38;5;183m\u001b[38;5;147m-\u001b[0m\u001b[38;5;183m\u001b[38;5;147m-\u001b[0m\u001b[38;5;183m\u001b[38;5;147m-\u001b[0m\u001b[38;5;183m\u001b[38;5;147m-\u001b[0m\u001b[38;5;183m\u001b[38;5;147m-\u001b[0m\u001b[38;5;183m\u001b[38;5;147m-\u001b[0m\u001b[38;5;183m\u001b[38;5;147m-\u001b[0m\u001b[38;5;183m\u001b[38;5;147m-\u001b[0m\u001b[38;5;183m\u001b[38;5;219m+\u001b[0m\u001b[38;5;183m\u001b[38;5;147m-\u001b[0m\u001b[38;5;183m\u001b[38;5;147m-\u001b[0m\u001b[38;5;183m\u001b[38;5;147m-\u001b[0m\u001b[38;5;183m\u001b[38;5;147m-\u001b[0m\u001b[38;5;183m\u001b[38;5;147m-\u001b[0m\u001b[38;5;183m\u001b[38;5;147m-\u001b[0m\u001b[38;5;183m\u001b[38;5;147m-\u001b[0m\u001b[38;5;183m\u001b[38;5;147m-\u001b[0m\u001b[38;5;183m\u001b[38;5;147m-\u001b[0m\u001b[38;5;183m\u001b[38;5;147m-\u001b[0m\u001b[38;5;183m\u001b[38;5;147m-\u001b[0m\u001b[38;5;183m\u001b[38;5;147m-\u001b[0m\u001b[38;5;183m\u001b[38;5;147m-\u001b[0m\u001b[38;5;183m\u001b[38;5;147m-\u001b[0m\u001b[38;5;183m\u001b[38;5;147m-\u001b[0m\u001b[38;5;183m\u001b[38;5;147m-\u001b[0m\u001b[38;5;183m\u001b[38;5;147m-\u001b[0m\u001b[38;5;183m\u001b[38;5;147m-\u001b[0m\u001b[38;5;183m\u001b[38;5;219m+\u001b[0m\u001b[38;5;183m\u001b[38;5;147m-\u001b[0m\u001b[38;5;183m\u001b[38;5;147m-\u001b[0m\u001b[38;5;183m\u001b[38;5;147m-\u001b[0m\u001b[38;5;183m\u001b[38;5;147m-\u001b[0m\u001b[38;5;183m\u001b[38;5;147m-\u001b[0m\u001b[38;5;183m\u001b[38;5;147m-\u001b[0m\u001b[38;5;183m\u001b[38;5;147m-\u001b[0m\u001b[38;5;183m\u001b[38;5;147m-\u001b[0m\u001b[38;5;183m\u001b[38;5;147m-\u001b[0m\u001b[38;5;183m\u001b[38;5;147m-\u001b[0m\u001b[38;5;183m\u001b[38;5;147m-\u001b[0m\u001b[38;5;183m\u001b[38;5;147m-\u001b[0m\u001b[38;5;183m\u001b[38;5;147m-\u001b[0m\u001b[38;5;183m\u001b[38;5;147m-\u001b[0m\u001b[38;5;183m\u001b[38;5;147m-\u001b[0m\u001b[38;5;183m\u001b[38;5;147m-\u001b[0m\u001b[38;5;183m\u001b[38;5;147m-\u001b[0m\u001b[38;5;183m\u001b[38;5;147m-\u001b[0m\u001b[38;5;183m\u001b[38;5;147m-\u001b[0m\u001b[38;5;183m\u001b[38;5;147m-\u001b[0m\u001b[38;5;183m\u001b[38;5;147m-\u001b[0m\u001b[38;5;183m\u001b[38;5;219m+\u001b[0m\u001b[38;5;183m\u001b[38;5;147m-\u001b[0m\u001b[38;5;183m\u001b[38;5;147m-\u001b[0m\u001b[38;5;183m\u001b[38;5;147m-\u001b[0m\u001b[38;5;183m\u001b[38;5;147m-\u001b[0m\u001b[38;5;183m\u001b[38;5;147m-\u001b[0m\u001b[38;5;183m\u001b[38;5;147m-\u001b[0m\u001b[38;5;183m\u001b[38;5;147m-\u001b[0m\u001b[38;5;183m\u001b[38;5;147m-\u001b[0m\u001b[38;5;183m\u001b[38;5;147m-\u001b[0m\u001b[38;5;183m\u001b[38;5;147m-\u001b[0m\u001b[38;5;183m\u001b[38;5;147m-\u001b[0m\u001b[38;5;183m\u001b[38;5;147m-\u001b[0m\u001b[38;5;183m\u001b[38;5;147m-\u001b[0m\u001b[38;5;183m\u001b[38;5;147m-\u001b[0m\u001b[38;5;183m\u001b[38;5;147m-\u001b[0m\u001b[38;5;183m\u001b[38;5;147m-\u001b[0m\u001b[38;5;183m\u001b[38;5;147m-\u001b[0m\u001b[38;5;183m\u001b[38;5;147m-\u001b[0m\u001b[38;5;183m\u001b[38;5;147m-\u001b[0m\u001b[38;5;183m\u001b[38;5;147m-\u001b[0m\u001b[38;5;183m\u001b[38;5;147m-\u001b[0m\u001b[38;5;183m\u001b[38;5;219m+\u001b[0m\u001b[38;5;183m\u001b[38;5;147m-\u001b[0m\u001b[38;5;183m\u001b[38;5;147m-\u001b[0m\u001b[38;5;183m\u001b[38;5;147m-\u001b[0m\u001b[38;5;183m\u001b[38;5;147m-\u001b[0m\u001b[38;5;183m\u001b[38;5;147m-\u001b[0m\u001b[38;5;183m\u001b[38;5;147m-\u001b[0m\u001b[38;5;183m\u001b[38;5;147m-\u001b[0m\u001b[38;5;183m\u001b[38;5;147m-\u001b[0m\u001b[38;5;183m\u001b[38;5;147m-\u001b[0m\u001b[38;5;183m\u001b[38;5;147m-\u001b[0m\u001b[38;5;183m\u001b[38;5;147m-\u001b[0m\u001b[38;5;183m\u001b[38;5;147m-\u001b[0m\u001b[38;5;183m\u001b[38;5;147m-\u001b[0m\u001b[38;5;183m\u001b[38;5;147m-\u001b[0m\u001b[38;5;183m\u001b[38;5;147m-\u001b[0m\u001b[38;5;183m\u001b[38;5;147m-\u001b[0m\u001b[38;5;183m\u001b[38;5;147m-\u001b[0m\u001b[38;5;183m\u001b[38;5;147m-\u001b[0m\u001b[38;5;183m\u001b[38;5;147m-\u001b[0m\u001b[38;5;183m\u001b[38;5;147m-\u001b[0m\u001b[38;5;183m\u001b[38;5;147m-\u001b[0m\u001b[38;5;183m\u001b[38;5;219m+\u001b[0m\u001b[38;5;183m\u001b[38;5;147m-\u001b[0m\u001b[38;5;183m\u001b[38;5;147m-\u001b[0m\u001b[38;5;183m\u001b[38;5;147m-\u001b[0m\u001b[38;5;183m\u001b[38;5;147m-\u001b[0m\u001b[38;5;183m\u001b[38;5;147m-\u001b[0m\u001b[38;5;183m\u001b[38;5;147m-\u001b[0m\u001b[38;5;183m\u001b[38;5;147m-\u001b[0m\u001b[38;5;183m\u001b[38;5;147m-\u001b[0m\u001b[38;5;183m\u001b[38;5;147m-\u001b[0m\u001b[38;5;183m\u001b[38;5;147m-\u001b[0m\u001b[38;5;183m\u001b[38;5;147m-\u001b[0m\u001b[38;5;183m\u001b[38;5;147m-\u001b[0m\u001b[38;5;183m\u001b[38;5;147m-\u001b[0m\u001b[38;5;183m\u001b[38;5;147m-\u001b[0m\u001b[38;5;183m\u001b[38;5;147m-\u001b[0m\u001b[38;5;183m\u001b[38;5;147m-\u001b[0m\u001b[38;5;183m\u001b[38;5;147m-\u001b[0m\u001b[38;5;183m\u001b[38;5;147m-\u001b[0m\u001b[38;5;183m\u001b[38;5;147m-\u001b[0m\u001b[38;5;183m\u001b[38;5;147m-\u001b[0m\u001b[38;5;183m\u001b[38;5;219m+\u001b[0m\u001b[38;5;183m\u001b[0m\n",
      "\u001b[38;5;219m+\u001b[0m\u001b[38;5;183m\u001b[38;5;147m-\u001b[0m\u001b[38;5;183m\u001b[38;5;147m-\u001b[0m\u001b[38;5;183m\u001b[38;5;147m-\u001b[0m\u001b[38;5;183m\u001b[38;5;147m-\u001b[0m\u001b[38;5;183m\u001b[38;5;147m-\u001b[0m\u001b[38;5;183m\u001b[38;5;147m-\u001b[0m\u001b[38;5;183m\u001b[38;5;219m+\u001b[0m\u001b[38;5;183m\u001b[38;5;147m-\u001b[0m\u001b[38;5;183m\u001b[38;5;147m-\u001b[0m\u001b[38;5;183m\u001b[38;5;147m-\u001b[0m\u001b[38;5;183m\u001b[38;5;147m-\u001b[0m\u001b[38;5;183m\u001b[38;5;147m-\u001b[0m\u001b[38;5;183m\u001b[38;5;147m-\u001b[0m\u001b[38;5;183m\u001b[38;5;147m-\u001b[0m\u001b[38;5;183m\u001b[38;5;147m-\u001b[0m\u001b[38;5;183m\u001b[38;5;147m-\u001b[0m\u001b[38;5;183m\u001b[38;5;147m-\u001b[0m\u001b[38;5;183m\u001b[38;5;147m-\u001b[0m\u001b[38;5;183m\u001b[38;5;147m-\u001b[0m\u001b[38;5;183m\u001b[38;5;147m-\u001b[0m\u001b[38;5;183m\u001b[38;5;147m-\u001b[0m\u001b[38;5;183m\u001b[38;5;147m-\u001b[0m\u001b[38;5;183m\u001b[38;5;147m-\u001b[0m\u001b[38;5;183m\u001b[38;5;147m-\u001b[0m\u001b[38;5;183m\u001b[38;5;147m-\u001b[0m\u001b[38;5;183m\u001b[38;5;147m-\u001b[0m\u001b[38;5;183m\u001b[38;5;147m-\u001b[0m\u001b[38;5;183m\u001b[38;5;147m-\u001b[0m\u001b[38;5;183m\u001b[38;5;147m-\u001b[0m\u001b[38;5;183m\u001b[38;5;147m-\u001b[0m\u001b[38;5;183m\u001b[38;5;147m-\u001b[0m\u001b[38;5;183m\u001b[38;5;147m-\u001b[0m\u001b[38;5;183m\u001b[38;5;147m-\u001b[0m\u001b[38;5;183m\u001b[38;5;147m-\u001b[0m\u001b[38;5;183m\u001b[38;5;147m-\u001b[0m\u001b[38;5;183m\u001b[38;5;147m-\u001b[0m\u001b[38;5;183m\u001b[38;5;147m-\u001b[0m\u001b[38;5;183m\u001b[38;5;147m-\u001b[0m\u001b[38;5;183m\u001b[38;5;147m-\u001b[0m\u001b[38;5;183m\u001b[38;5;147m-\u001b[0m\u001b[38;5;183m\u001b[38;5;147m-\u001b[0m\u001b[38;5;183m\u001b[38;5;147m-\u001b[0m\u001b[38;5;183m\u001b[38;5;147m-\u001b[0m\u001b[38;5;183m\u001b[38;5;147m-\u001b[0m\u001b[38;5;183m\u001b[38;5;147m-\u001b[0m\u001b[38;5;183m\u001b[38;5;147m-\u001b[0m\u001b[38;5;183m\u001b[38;5;147m-\u001b[0m\u001b[38;5;183m\u001b[38;5;147m-\u001b[0m\u001b[38;5;183m\u001b[38;5;147m-\u001b[0m\u001b[38;5;183m\u001b[38;5;147m-\u001b[0m\u001b[38;5;183m\u001b[38;5;147m-\u001b[0m\u001b[38;5;183m\u001b[38;5;147m-\u001b[0m\u001b[38;5;183m\u001b[38;5;147m-\u001b[0m\u001b[38;5;183m\u001b[38;5;147m-\u001b[0m\u001b[38;5;183m\u001b[38;5;147m-\u001b[0m\u001b[38;5;183m\u001b[38;5;147m-\u001b[0m\u001b[38;5;183m\u001b[38;5;147m-\u001b[0m\u001b[38;5;183m\u001b[38;5;147m-\u001b[0m\u001b[38;5;183m\u001b[38;5;147m-\u001b[0m\u001b[38;5;183m\u001b[38;5;147m-\u001b[0m\u001b[38;5;183m\u001b[38;5;147m-\u001b[0m\u001b[38;5;183m\u001b[38;5;147m-\u001b[0m\u001b[38;5;183m\u001b[38;5;147m-\u001b[0m\u001b[38;5;183m\u001b[38;5;147m-\u001b[0m\u001b[38;5;183m\u001b[38;5;147m-\u001b[0m\u001b[38;5;183m\u001b[38;5;147m-\u001b[0m\u001b[38;5;183m\u001b[38;5;147m-\u001b[0m\u001b[38;5;183m\u001b[38;5;147m-\u001b[0m\u001b[38;5;183m\u001b[38;5;147m-\u001b[0m\u001b[38;5;183m\u001b[38;5;147m-\u001b[0m\u001b[38;5;183m\u001b[38;5;147m-\u001b[0m\u001b[38;5;183m\u001b[38;5;147m-\u001b[0m\u001b[38;5;183m\u001b[38;5;147m-\u001b[0m\u001b[38;5;183m\u001b[38;5;147m-\u001b[0m\u001b[38;5;183m\u001b[38;5;147m-\u001b[0m\u001b[38;5;183m\u001b[38;5;147m-\u001b[0m\u001b[38;5;183m\u001b[38;5;219m+\u001b[0m\u001b[38;5;183m\u001b[38;5;147m-\u001b[0m\u001b[38;5;183m\u001b[38;5;147m-\u001b[0m\u001b[38;5;183m\u001b[38;5;147m-\u001b[0m\u001b[38;5;183m\u001b[38;5;147m-\u001b[0m\u001b[38;5;183m\u001b[38;5;147m-\u001b[0m\u001b[38;5;183m\u001b[38;5;147m-\u001b[0m\u001b[38;5;183m\u001b[38;5;147m-\u001b[0m\u001b[38;5;183m\u001b[38;5;147m-\u001b[0m\u001b[38;5;183m\u001b[38;5;147m-\u001b[0m\u001b[38;5;183m\u001b[38;5;147m-\u001b[0m\u001b[38;5;183m\u001b[38;5;147m-\u001b[0m\u001b[38;5;183m\u001b[38;5;147m-\u001b[0m\u001b[38;5;183m\u001b[38;5;147m-\u001b[0m\u001b[38;5;183m\u001b[38;5;147m-\u001b[0m\u001b[38;5;183m\u001b[38;5;147m-\u001b[0m\u001b[38;5;183m\u001b[38;5;147m-\u001b[0m\u001b[38;5;183m\u001b[38;5;147m-\u001b[0m\u001b[38;5;183m\u001b[38;5;147m-\u001b[0m\u001b[38;5;183m\u001b[38;5;147m-\u001b[0m\u001b[38;5;183m\u001b[38;5;219m+\u001b[0m\u001b[38;5;183m\u001b[38;5;147m-\u001b[0m\u001b[38;5;183m\u001b[38;5;147m-\u001b[0m\u001b[38;5;183m\u001b[38;5;147m-\u001b[0m\u001b[38;5;183m\u001b[38;5;147m-\u001b[0m\u001b[38;5;183m\u001b[38;5;147m-\u001b[0m\u001b[38;5;183m\u001b[38;5;147m-\u001b[0m\u001b[38;5;183m\u001b[38;5;147m-\u001b[0m\u001b[38;5;183m\u001b[38;5;147m-\u001b[0m\u001b[38;5;183m\u001b[38;5;147m-\u001b[0m\u001b[38;5;183m\u001b[38;5;147m-\u001b[0m\u001b[38;5;183m\u001b[38;5;147m-\u001b[0m\u001b[38;5;183m\u001b[38;5;147m-\u001b[0m\u001b[38;5;183m\u001b[38;5;147m-\u001b[0m\u001b[38;5;183m\u001b[38;5;147m-\u001b[0m\u001b[38;5;183m\u001b[38;5;147m-\u001b[0m\u001b[38;5;183m\u001b[38;5;147m-\u001b[0m\u001b[38;5;183m\u001b[38;5;147m-\u001b[0m\u001b[38;5;183m\u001b[38;5;147m-\u001b[0m\u001b[38;5;183m\u001b[38;5;147m-\u001b[0m\u001b[38;5;183m\u001b[38;5;147m-\u001b[0m\u001b[38;5;183m\u001b[38;5;219m+\u001b[0m\u001b[38;5;183m\u001b[38;5;147m-\u001b[0m\u001b[38;5;183m\u001b[38;5;147m-\u001b[0m\u001b[38;5;183m\u001b[38;5;147m-\u001b[0m\u001b[38;5;183m\u001b[38;5;147m-\u001b[0m\u001b[38;5;183m\u001b[38;5;147m-\u001b[0m\u001b[38;5;183m\u001b[38;5;147m-\u001b[0m\u001b[38;5;183m\u001b[38;5;147m-\u001b[0m\u001b[38;5;183m\u001b[38;5;147m-\u001b[0m\u001b[38;5;183m\u001b[38;5;147m-\u001b[0m\u001b[38;5;183m\u001b[38;5;147m-\u001b[0m\u001b[38;5;183m\u001b[38;5;147m-\u001b[0m\u001b[38;5;183m\u001b[38;5;147m-\u001b[0m\u001b[38;5;183m\u001b[38;5;147m-\u001b[0m\u001b[38;5;183m\u001b[38;5;147m-\u001b[0m\u001b[38;5;183m\u001b[38;5;147m-\u001b[0m\u001b[38;5;183m\u001b[38;5;147m-\u001b[0m\u001b[38;5;183m\u001b[38;5;147m-\u001b[0m\u001b[38;5;183m\u001b[38;5;147m-\u001b[0m\u001b[38;5;183m\u001b[38;5;147m-\u001b[0m\u001b[38;5;183m\u001b[38;5;147m-\u001b[0m\u001b[38;5;183m\u001b[38;5;147m-\u001b[0m\u001b[38;5;183m\u001b[38;5;219m+\u001b[0m\u001b[38;5;183m\u001b[38;5;147m-\u001b[0m\u001b[38;5;183m\u001b[38;5;147m-\u001b[0m\u001b[38;5;183m\u001b[38;5;147m-\u001b[0m\u001b[38;5;183m\u001b[38;5;147m-\u001b[0m\u001b[38;5;183m\u001b[38;5;147m-\u001b[0m\u001b[38;5;183m\u001b[38;5;147m-\u001b[0m\u001b[38;5;183m\u001b[38;5;147m-\u001b[0m\u001b[38;5;183m\u001b[38;5;147m-\u001b[0m\u001b[38;5;183m\u001b[38;5;147m-\u001b[0m\u001b[38;5;183m\u001b[38;5;147m-\u001b[0m\u001b[38;5;183m\u001b[38;5;147m-\u001b[0m\u001b[38;5;183m\u001b[38;5;147m-\u001b[0m\u001b[38;5;183m\u001b[38;5;147m-\u001b[0m\u001b[38;5;183m\u001b[38;5;147m-\u001b[0m\u001b[38;5;183m\u001b[38;5;147m-\u001b[0m\u001b[38;5;183m\u001b[38;5;147m-\u001b[0m\u001b[38;5;183m\u001b[38;5;147m-\u001b[0m\u001b[38;5;183m\u001b[38;5;147m-\u001b[0m\u001b[38;5;183m\u001b[38;5;147m-\u001b[0m\u001b[38;5;183m\u001b[38;5;147m-\u001b[0m\u001b[38;5;183m\u001b[38;5;147m-\u001b[0m\u001b[38;5;183m\u001b[38;5;219m+\u001b[0m\u001b[38;5;183m\u001b[38;5;147m-\u001b[0m\u001b[38;5;183m\u001b[38;5;147m-\u001b[0m\u001b[38;5;183m\u001b[38;5;147m-\u001b[0m\u001b[38;5;183m\u001b[38;5;147m-\u001b[0m\u001b[38;5;183m\u001b[38;5;147m-\u001b[0m\u001b[38;5;183m\u001b[38;5;147m-\u001b[0m\u001b[38;5;183m\u001b[38;5;147m-\u001b[0m\u001b[38;5;183m\u001b[38;5;147m-\u001b[0m\u001b[38;5;183m\u001b[38;5;147m-\u001b[0m\u001b[38;5;183m\u001b[38;5;147m-\u001b[0m\u001b[38;5;183m\u001b[38;5;147m-\u001b[0m\u001b[38;5;183m\u001b[38;5;147m-\u001b[0m\u001b[38;5;183m\u001b[38;5;147m-\u001b[0m\u001b[38;5;183m\u001b[38;5;147m-\u001b[0m\u001b[38;5;183m\u001b[38;5;147m-\u001b[0m\u001b[38;5;183m\u001b[38;5;147m-\u001b[0m\u001b[38;5;183m\u001b[38;5;147m-\u001b[0m\u001b[38;5;183m\u001b[38;5;147m-\u001b[0m\u001b[38;5;183m\u001b[38;5;147m-\u001b[0m\u001b[38;5;183m\u001b[38;5;147m-\u001b[0m\u001b[38;5;183m\u001b[38;5;147m-\u001b[0m\u001b[38;5;183m\u001b[38;5;219m+\u001b[0m\u001b[38;5;183m\n",
      "\u001b[35m|\u001b[0m\u001b[38;5;183m Algo \u001b[35m|\u001b[0m\u001b[38;5;183m                              Vectorizer                             \u001b[35m|\u001b[0m\u001b[38;5;183m   Vectorizer ID   \u001b[35m|\u001b[0m\u001b[38;5;183m      Macro f1      \u001b[35m|\u001b[0m\u001b[38;5;183m       Accuracy      \u001b[35m|\u001b[0m\u001b[38;5;183m      Precision      \u001b[35m|\u001b[0m\u001b[38;5;183m        Rappel       \u001b[35m|\u001b[0m\u001b[38;5;183m\n",
      "\u001b[38;5;219m+\u001b[0m\u001b[38;5;183m\u001b[38;5;147m-\u001b[0m\u001b[38;5;183m\u001b[38;5;147m-\u001b[0m\u001b[38;5;183m\u001b[38;5;147m-\u001b[0m\u001b[38;5;183m\u001b[38;5;147m-\u001b[0m\u001b[38;5;183m\u001b[38;5;147m-\u001b[0m\u001b[38;5;183m\u001b[38;5;147m-\u001b[0m\u001b[38;5;183m\u001b[38;5;219m+\u001b[0m\u001b[38;5;183m\u001b[38;5;147m-\u001b[0m\u001b[38;5;183m\u001b[38;5;147m-\u001b[0m\u001b[38;5;183m\u001b[38;5;147m-\u001b[0m\u001b[38;5;183m\u001b[38;5;147m-\u001b[0m\u001b[38;5;183m\u001b[38;5;147m-\u001b[0m\u001b[38;5;183m\u001b[38;5;147m-\u001b[0m\u001b[38;5;183m\u001b[38;5;147m-\u001b[0m\u001b[38;5;183m\u001b[38;5;147m-\u001b[0m\u001b[38;5;183m\u001b[38;5;147m-\u001b[0m\u001b[38;5;183m\u001b[38;5;147m-\u001b[0m\u001b[38;5;183m\u001b[38;5;147m-\u001b[0m\u001b[38;5;183m\u001b[38;5;147m-\u001b[0m\u001b[38;5;183m\u001b[38;5;147m-\u001b[0m\u001b[38;5;183m\u001b[38;5;147m-\u001b[0m\u001b[38;5;183m\u001b[38;5;147m-\u001b[0m\u001b[38;5;183m\u001b[38;5;147m-\u001b[0m\u001b[38;5;183m\u001b[38;5;147m-\u001b[0m\u001b[38;5;183m\u001b[38;5;147m-\u001b[0m\u001b[38;5;183m\u001b[38;5;147m-\u001b[0m\u001b[38;5;183m\u001b[38;5;147m-\u001b[0m\u001b[38;5;183m\u001b[38;5;147m-\u001b[0m\u001b[38;5;183m\u001b[38;5;147m-\u001b[0m\u001b[38;5;183m\u001b[38;5;147m-\u001b[0m\u001b[38;5;183m\u001b[38;5;147m-\u001b[0m\u001b[38;5;183m\u001b[38;5;147m-\u001b[0m\u001b[38;5;183m\u001b[38;5;147m-\u001b[0m\u001b[38;5;183m\u001b[38;5;147m-\u001b[0m\u001b[38;5;183m\u001b[38;5;147m-\u001b[0m\u001b[38;5;183m\u001b[38;5;147m-\u001b[0m\u001b[38;5;183m\u001b[38;5;147m-\u001b[0m\u001b[38;5;183m\u001b[38;5;147m-\u001b[0m\u001b[38;5;183m\u001b[38;5;147m-\u001b[0m\u001b[38;5;183m\u001b[38;5;147m-\u001b[0m\u001b[38;5;183m\u001b[38;5;147m-\u001b[0m\u001b[38;5;183m\u001b[38;5;147m-\u001b[0m\u001b[38;5;183m\u001b[38;5;147m-\u001b[0m\u001b[38;5;183m\u001b[38;5;147m-\u001b[0m\u001b[38;5;183m\u001b[38;5;147m-\u001b[0m\u001b[38;5;183m\u001b[38;5;147m-\u001b[0m\u001b[38;5;183m\u001b[38;5;147m-\u001b[0m\u001b[38;5;183m\u001b[38;5;147m-\u001b[0m\u001b[38;5;183m\u001b[38;5;147m-\u001b[0m\u001b[38;5;183m\u001b[38;5;147m-\u001b[0m\u001b[38;5;183m\u001b[38;5;147m-\u001b[0m\u001b[38;5;183m\u001b[38;5;147m-\u001b[0m\u001b[38;5;183m\u001b[38;5;147m-\u001b[0m\u001b[38;5;183m\u001b[38;5;147m-\u001b[0m\u001b[38;5;183m\u001b[38;5;147m-\u001b[0m\u001b[38;5;183m\u001b[38;5;147m-\u001b[0m\u001b[38;5;183m\u001b[38;5;147m-\u001b[0m\u001b[38;5;183m\u001b[38;5;147m-\u001b[0m\u001b[38;5;183m\u001b[38;5;147m-\u001b[0m\u001b[38;5;183m\u001b[38;5;147m-\u001b[0m\u001b[38;5;183m\u001b[38;5;147m-\u001b[0m\u001b[38;5;183m\u001b[38;5;147m-\u001b[0m\u001b[38;5;183m\u001b[38;5;147m-\u001b[0m\u001b[38;5;183m\u001b[38;5;147m-\u001b[0m\u001b[38;5;183m\u001b[38;5;147m-\u001b[0m\u001b[38;5;183m\u001b[38;5;147m-\u001b[0m\u001b[38;5;183m\u001b[38;5;147m-\u001b[0m\u001b[38;5;183m\u001b[38;5;147m-\u001b[0m\u001b[38;5;183m\u001b[38;5;147m-\u001b[0m\u001b[38;5;183m\u001b[38;5;147m-\u001b[0m\u001b[38;5;183m\u001b[38;5;147m-\u001b[0m\u001b[38;5;183m\u001b[38;5;147m-\u001b[0m\u001b[38;5;183m\u001b[38;5;147m-\u001b[0m\u001b[38;5;183m\u001b[38;5;147m-\u001b[0m\u001b[38;5;183m\u001b[38;5;147m-\u001b[0m\u001b[38;5;183m\u001b[38;5;147m-\u001b[0m\u001b[38;5;183m\u001b[38;5;219m+\u001b[0m\u001b[38;5;183m\u001b[38;5;147m-\u001b[0m\u001b[38;5;183m\u001b[38;5;147m-\u001b[0m\u001b[38;5;183m\u001b[38;5;147m-\u001b[0m\u001b[38;5;183m\u001b[38;5;147m-\u001b[0m\u001b[38;5;183m\u001b[38;5;147m-\u001b[0m\u001b[38;5;183m\u001b[38;5;147m-\u001b[0m\u001b[38;5;183m\u001b[38;5;147m-\u001b[0m\u001b[38;5;183m\u001b[38;5;147m-\u001b[0m\u001b[38;5;183m\u001b[38;5;147m-\u001b[0m\u001b[38;5;183m\u001b[38;5;147m-\u001b[0m\u001b[38;5;183m\u001b[38;5;147m-\u001b[0m\u001b[38;5;183m\u001b[38;5;147m-\u001b[0m\u001b[38;5;183m\u001b[38;5;147m-\u001b[0m\u001b[38;5;183m\u001b[38;5;147m-\u001b[0m\u001b[38;5;183m\u001b[38;5;147m-\u001b[0m\u001b[38;5;183m\u001b[38;5;147m-\u001b[0m\u001b[38;5;183m\u001b[38;5;147m-\u001b[0m\u001b[38;5;183m\u001b[38;5;147m-\u001b[0m\u001b[38;5;183m\u001b[38;5;147m-\u001b[0m\u001b[38;5;183m\u001b[38;5;219m+\u001b[0m\u001b[38;5;183m\u001b[38;5;147m-\u001b[0m\u001b[38;5;183m\u001b[38;5;147m-\u001b[0m\u001b[38;5;183m\u001b[38;5;147m-\u001b[0m\u001b[38;5;183m\u001b[38;5;147m-\u001b[0m\u001b[38;5;183m\u001b[38;5;147m-\u001b[0m\u001b[38;5;183m\u001b[38;5;147m-\u001b[0m\u001b[38;5;183m\u001b[38;5;147m-\u001b[0m\u001b[38;5;183m\u001b[38;5;147m-\u001b[0m\u001b[38;5;183m\u001b[38;5;147m-\u001b[0m\u001b[38;5;183m\u001b[38;5;147m-\u001b[0m\u001b[38;5;183m\u001b[38;5;147m-\u001b[0m\u001b[38;5;183m\u001b[38;5;147m-\u001b[0m\u001b[38;5;183m\u001b[38;5;147m-\u001b[0m\u001b[38;5;183m\u001b[38;5;147m-\u001b[0m\u001b[38;5;183m\u001b[38;5;147m-\u001b[0m\u001b[38;5;183m\u001b[38;5;147m-\u001b[0m\u001b[38;5;183m\u001b[38;5;147m-\u001b[0m\u001b[38;5;183m\u001b[38;5;147m-\u001b[0m\u001b[38;5;183m\u001b[38;5;147m-\u001b[0m\u001b[38;5;183m\u001b[38;5;147m-\u001b[0m\u001b[38;5;183m\u001b[38;5;219m+\u001b[0m\u001b[38;5;183m\u001b[38;5;147m-\u001b[0m\u001b[38;5;183m\u001b[38;5;147m-\u001b[0m\u001b[38;5;183m\u001b[38;5;147m-\u001b[0m\u001b[38;5;183m\u001b[38;5;147m-\u001b[0m\u001b[38;5;183m\u001b[38;5;147m-\u001b[0m\u001b[38;5;183m\u001b[38;5;147m-\u001b[0m\u001b[38;5;183m\u001b[38;5;147m-\u001b[0m\u001b[38;5;183m\u001b[38;5;147m-\u001b[0m\u001b[38;5;183m\u001b[38;5;147m-\u001b[0m\u001b[38;5;183m\u001b[38;5;147m-\u001b[0m\u001b[38;5;183m\u001b[38;5;147m-\u001b[0m\u001b[38;5;183m\u001b[38;5;147m-\u001b[0m\u001b[38;5;183m\u001b[38;5;147m-\u001b[0m\u001b[38;5;183m\u001b[38;5;147m-\u001b[0m\u001b[38;5;183m\u001b[38;5;147m-\u001b[0m\u001b[38;5;183m\u001b[38;5;147m-\u001b[0m\u001b[38;5;183m\u001b[38;5;147m-\u001b[0m\u001b[38;5;183m\u001b[38;5;147m-\u001b[0m\u001b[38;5;183m\u001b[38;5;147m-\u001b[0m\u001b[38;5;183m\u001b[38;5;147m-\u001b[0m\u001b[38;5;183m\u001b[38;5;147m-\u001b[0m\u001b[38;5;183m\u001b[38;5;219m+\u001b[0m\u001b[38;5;183m\u001b[38;5;147m-\u001b[0m\u001b[38;5;183m\u001b[38;5;147m-\u001b[0m\u001b[38;5;183m\u001b[38;5;147m-\u001b[0m\u001b[38;5;183m\u001b[38;5;147m-\u001b[0m\u001b[38;5;183m\u001b[38;5;147m-\u001b[0m\u001b[38;5;183m\u001b[38;5;147m-\u001b[0m\u001b[38;5;183m\u001b[38;5;147m-\u001b[0m\u001b[38;5;183m\u001b[38;5;147m-\u001b[0m\u001b[38;5;183m\u001b[38;5;147m-\u001b[0m\u001b[38;5;183m\u001b[38;5;147m-\u001b[0m\u001b[38;5;183m\u001b[38;5;147m-\u001b[0m\u001b[38;5;183m\u001b[38;5;147m-\u001b[0m\u001b[38;5;183m\u001b[38;5;147m-\u001b[0m\u001b[38;5;183m\u001b[38;5;147m-\u001b[0m\u001b[38;5;183m\u001b[38;5;147m-\u001b[0m\u001b[38;5;183m\u001b[38;5;147m-\u001b[0m\u001b[38;5;183m\u001b[38;5;147m-\u001b[0m\u001b[38;5;183m\u001b[38;5;147m-\u001b[0m\u001b[38;5;183m\u001b[38;5;147m-\u001b[0m\u001b[38;5;183m\u001b[38;5;147m-\u001b[0m\u001b[38;5;183m\u001b[38;5;147m-\u001b[0m\u001b[38;5;183m\u001b[38;5;219m+\u001b[0m\u001b[38;5;183m\u001b[38;5;147m-\u001b[0m\u001b[38;5;183m\u001b[38;5;147m-\u001b[0m\u001b[38;5;183m\u001b[38;5;147m-\u001b[0m\u001b[38;5;183m\u001b[38;5;147m-\u001b[0m\u001b[38;5;183m\u001b[38;5;147m-\u001b[0m\u001b[38;5;183m\u001b[38;5;147m-\u001b[0m\u001b[38;5;183m\u001b[38;5;147m-\u001b[0m\u001b[38;5;183m\u001b[38;5;147m-\u001b[0m\u001b[38;5;183m\u001b[38;5;147m-\u001b[0m\u001b[38;5;183m\u001b[38;5;147m-\u001b[0m\u001b[38;5;183m\u001b[38;5;147m-\u001b[0m\u001b[38;5;183m\u001b[38;5;147m-\u001b[0m\u001b[38;5;183m\u001b[38;5;147m-\u001b[0m\u001b[38;5;183m\u001b[38;5;147m-\u001b[0m\u001b[38;5;183m\u001b[38;5;147m-\u001b[0m\u001b[38;5;183m\u001b[38;5;147m-\u001b[0m\u001b[38;5;183m\u001b[38;5;147m-\u001b[0m\u001b[38;5;183m\u001b[38;5;147m-\u001b[0m\u001b[38;5;183m\u001b[38;5;147m-\u001b[0m\u001b[38;5;183m\u001b[38;5;147m-\u001b[0m\u001b[38;5;183m\u001b[38;5;147m-\u001b[0m\u001b[38;5;183m\u001b[38;5;219m+\u001b[0m\u001b[38;5;183m\n",
      "\u001b[35m|\u001b[0m\u001b[38;5;183m svc  \u001b[35m|\u001b[0m\u001b[38;5;183m           TfidfVectorizer(max_df=0.5, ngram_range=(1, 2))           \u001b[35m|\u001b[0m\u001b[38;5;183m  TfidfVectorizer5 \u001b[35m|\u001b[0m\u001b[38;5;183m 0.3319172995235483 \u001b[35m|\u001b[0m\u001b[38;5;183m  0.4180440771349862 \u001b[35m|\u001b[0m\u001b[38;5;183m  0.3930365127324806 \u001b[35m|\u001b[0m\u001b[38;5;183m 0.32991101032659575 \u001b[35m|\u001b[0m\u001b[38;5;183m\n",
      "\u001b[35m|\u001b[0m\u001b[38;5;183m svc  \u001b[35m|\u001b[0m\u001b[38;5;183m           TfidfVectorizer(max_df=0.1, ngram_range=(1, 2))           \u001b[35m|\u001b[0m\u001b[38;5;183m TfidfVectorizer11 \u001b[35m|\u001b[0m\u001b[38;5;183m 0.3306101616465865 \u001b[35m|\u001b[0m\u001b[38;5;183m 0.41655188246097336 \u001b[35m|\u001b[0m\u001b[38;5;183m  0.3954136361502066 \u001b[35m|\u001b[0m\u001b[38;5;183m  0.3277744957731205 \u001b[35m|\u001b[0m\u001b[38;5;183m\n",
      "\u001b[35m|\u001b[0m\u001b[38;5;183m svc  \u001b[35m|\u001b[0m\u001b[38;5;183m TfidfVectorizer(max_df=0.5, max_features=15000, ngram_range=(1, 2)) \u001b[35m|\u001b[0m\u001b[38;5;183m  TfidfVectorizer3 \u001b[35m|\u001b[0m\u001b[38;5;183m 0.3271193967114935 \u001b[35m|\u001b[0m\u001b[38;5;183m 0.38670798898071623 \u001b[35m|\u001b[0m\u001b[38;5;183m 0.34611396029056174 \u001b[35m|\u001b[0m\u001b[38;5;183m 0.32272975416932137 \u001b[35m|\u001b[0m\u001b[38;5;183m\n",
      "\u001b[38;5;219m+\u001b[0m\u001b[38;5;183m\u001b[38;5;147m-\u001b[0m\u001b[38;5;183m\u001b[38;5;147m-\u001b[0m\u001b[38;5;183m\u001b[38;5;147m-\u001b[0m\u001b[38;5;183m\u001b[38;5;147m-\u001b[0m\u001b[38;5;183m\u001b[38;5;147m-\u001b[0m\u001b[38;5;183m\u001b[38;5;147m-\u001b[0m\u001b[38;5;183m\u001b[38;5;219m+\u001b[0m\u001b[38;5;183m\u001b[38;5;147m-\u001b[0m\u001b[38;5;183m\u001b[38;5;147m-\u001b[0m\u001b[38;5;183m\u001b[38;5;147m-\u001b[0m\u001b[38;5;183m\u001b[38;5;147m-\u001b[0m\u001b[38;5;183m\u001b[38;5;147m-\u001b[0m\u001b[38;5;183m\u001b[38;5;147m-\u001b[0m\u001b[38;5;183m\u001b[38;5;147m-\u001b[0m\u001b[38;5;183m\u001b[38;5;147m-\u001b[0m\u001b[38;5;183m\u001b[38;5;147m-\u001b[0m\u001b[38;5;183m\u001b[38;5;147m-\u001b[0m\u001b[38;5;183m\u001b[38;5;147m-\u001b[0m\u001b[38;5;183m\u001b[38;5;147m-\u001b[0m\u001b[38;5;183m\u001b[38;5;147m-\u001b[0m\u001b[38;5;183m\u001b[38;5;147m-\u001b[0m\u001b[38;5;183m\u001b[38;5;147m-\u001b[0m\u001b[38;5;183m\u001b[38;5;147m-\u001b[0m\u001b[38;5;183m\u001b[38;5;147m-\u001b[0m\u001b[38;5;183m\u001b[38;5;147m-\u001b[0m\u001b[38;5;183m\u001b[38;5;147m-\u001b[0m\u001b[38;5;183m\u001b[38;5;147m-\u001b[0m\u001b[38;5;183m\u001b[38;5;147m-\u001b[0m\u001b[38;5;183m\u001b[38;5;147m-\u001b[0m\u001b[38;5;183m\u001b[38;5;147m-\u001b[0m\u001b[38;5;183m\u001b[38;5;147m-\u001b[0m\u001b[38;5;183m\u001b[38;5;147m-\u001b[0m\u001b[38;5;183m\u001b[38;5;147m-\u001b[0m\u001b[38;5;183m\u001b[38;5;147m-\u001b[0m\u001b[38;5;183m\u001b[38;5;147m-\u001b[0m\u001b[38;5;183m\u001b[38;5;147m-\u001b[0m\u001b[38;5;183m\u001b[38;5;147m-\u001b[0m\u001b[38;5;183m\u001b[38;5;147m-\u001b[0m\u001b[38;5;183m\u001b[38;5;147m-\u001b[0m\u001b[38;5;183m\u001b[38;5;147m-\u001b[0m\u001b[38;5;183m\u001b[38;5;147m-\u001b[0m\u001b[38;5;183m\u001b[38;5;147m-\u001b[0m\u001b[38;5;183m\u001b[38;5;147m-\u001b[0m\u001b[38;5;183m\u001b[38;5;147m-\u001b[0m\u001b[38;5;183m\u001b[38;5;147m-\u001b[0m\u001b[38;5;183m\u001b[38;5;147m-\u001b[0m\u001b[38;5;183m\u001b[38;5;147m-\u001b[0m\u001b[38;5;183m\u001b[38;5;147m-\u001b[0m\u001b[38;5;183m\u001b[38;5;147m-\u001b[0m\u001b[38;5;183m\u001b[38;5;147m-\u001b[0m\u001b[38;5;183m\u001b[38;5;147m-\u001b[0m\u001b[38;5;183m\u001b[38;5;147m-\u001b[0m\u001b[38;5;183m\u001b[38;5;147m-\u001b[0m\u001b[38;5;183m\u001b[38;5;147m-\u001b[0m\u001b[38;5;183m\u001b[38;5;147m-\u001b[0m\u001b[38;5;183m\u001b[38;5;147m-\u001b[0m\u001b[38;5;183m\u001b[38;5;147m-\u001b[0m\u001b[38;5;183m\u001b[38;5;147m-\u001b[0m\u001b[38;5;183m\u001b[38;5;147m-\u001b[0m\u001b[38;5;183m\u001b[38;5;147m-\u001b[0m\u001b[38;5;183m\u001b[38;5;147m-\u001b[0m\u001b[38;5;183m\u001b[38;5;147m-\u001b[0m\u001b[38;5;183m\u001b[38;5;147m-\u001b[0m\u001b[38;5;183m\u001b[38;5;147m-\u001b[0m\u001b[38;5;183m\u001b[38;5;147m-\u001b[0m\u001b[38;5;183m\u001b[38;5;147m-\u001b[0m\u001b[38;5;183m\u001b[38;5;147m-\u001b[0m\u001b[38;5;183m\u001b[38;5;147m-\u001b[0m\u001b[38;5;183m\u001b[38;5;147m-\u001b[0m\u001b[38;5;183m\u001b[38;5;147m-\u001b[0m\u001b[38;5;183m\u001b[38;5;147m-\u001b[0m\u001b[38;5;183m\u001b[38;5;147m-\u001b[0m\u001b[38;5;183m\u001b[38;5;147m-\u001b[0m\u001b[38;5;183m\u001b[38;5;147m-\u001b[0m\u001b[38;5;183m\u001b[38;5;147m-\u001b[0m\u001b[38;5;183m\u001b[38;5;147m-\u001b[0m\u001b[38;5;183m\u001b[38;5;219m+\u001b[0m\u001b[38;5;183m\u001b[38;5;147m-\u001b[0m\u001b[38;5;183m\u001b[38;5;147m-\u001b[0m\u001b[38;5;183m\u001b[38;5;147m-\u001b[0m\u001b[38;5;183m\u001b[38;5;147m-\u001b[0m\u001b[38;5;183m\u001b[38;5;147m-\u001b[0m\u001b[38;5;183m\u001b[38;5;147m-\u001b[0m\u001b[38;5;183m\u001b[38;5;147m-\u001b[0m\u001b[38;5;183m\u001b[38;5;147m-\u001b[0m\u001b[38;5;183m\u001b[38;5;147m-\u001b[0m\u001b[38;5;183m\u001b[38;5;147m-\u001b[0m\u001b[38;5;183m\u001b[38;5;147m-\u001b[0m\u001b[38;5;183m\u001b[38;5;147m-\u001b[0m\u001b[38;5;183m\u001b[38;5;147m-\u001b[0m\u001b[38;5;183m\u001b[38;5;147m-\u001b[0m\u001b[38;5;183m\u001b[38;5;147m-\u001b[0m\u001b[38;5;183m\u001b[38;5;147m-\u001b[0m\u001b[38;5;183m\u001b[38;5;147m-\u001b[0m\u001b[38;5;183m\u001b[38;5;147m-\u001b[0m\u001b[38;5;183m\u001b[38;5;147m-\u001b[0m\u001b[38;5;183m\u001b[38;5;219m+\u001b[0m\u001b[38;5;183m\u001b[38;5;147m-\u001b[0m\u001b[38;5;183m\u001b[38;5;147m-\u001b[0m\u001b[38;5;183m\u001b[38;5;147m-\u001b[0m\u001b[38;5;183m\u001b[38;5;147m-\u001b[0m\u001b[38;5;183m\u001b[38;5;147m-\u001b[0m\u001b[38;5;183m\u001b[38;5;147m-\u001b[0m\u001b[38;5;183m\u001b[38;5;147m-\u001b[0m\u001b[38;5;183m\u001b[38;5;147m-\u001b[0m\u001b[38;5;183m\u001b[38;5;147m-\u001b[0m\u001b[38;5;183m\u001b[38;5;147m-\u001b[0m\u001b[38;5;183m\u001b[38;5;147m-\u001b[0m\u001b[38;5;183m\u001b[38;5;147m-\u001b[0m\u001b[38;5;183m\u001b[38;5;147m-\u001b[0m\u001b[38;5;183m\u001b[38;5;147m-\u001b[0m\u001b[38;5;183m\u001b[38;5;147m-\u001b[0m\u001b[38;5;183m\u001b[38;5;147m-\u001b[0m\u001b[38;5;183m\u001b[38;5;147m-\u001b[0m\u001b[38;5;183m\u001b[38;5;147m-\u001b[0m\u001b[38;5;183m\u001b[38;5;147m-\u001b[0m\u001b[38;5;183m\u001b[38;5;147m-\u001b[0m\u001b[38;5;183m\u001b[38;5;219m+\u001b[0m\u001b[38;5;183m\u001b[38;5;147m-\u001b[0m\u001b[38;5;183m\u001b[38;5;147m-\u001b[0m\u001b[38;5;183m\u001b[38;5;147m-\u001b[0m\u001b[38;5;183m\u001b[38;5;147m-\u001b[0m\u001b[38;5;183m\u001b[38;5;147m-\u001b[0m\u001b[38;5;183m\u001b[38;5;147m-\u001b[0m\u001b[38;5;183m\u001b[38;5;147m-\u001b[0m\u001b[38;5;183m\u001b[38;5;147m-\u001b[0m\u001b[38;5;183m\u001b[38;5;147m-\u001b[0m\u001b[38;5;183m\u001b[38;5;147m-\u001b[0m\u001b[38;5;183m\u001b[38;5;147m-\u001b[0m\u001b[38;5;183m\u001b[38;5;147m-\u001b[0m\u001b[38;5;183m\u001b[38;5;147m-\u001b[0m\u001b[38;5;183m\u001b[38;5;147m-\u001b[0m\u001b[38;5;183m\u001b[38;5;147m-\u001b[0m\u001b[38;5;183m\u001b[38;5;147m-\u001b[0m\u001b[38;5;183m\u001b[38;5;147m-\u001b[0m\u001b[38;5;183m\u001b[38;5;147m-\u001b[0m\u001b[38;5;183m\u001b[38;5;147m-\u001b[0m\u001b[38;5;183m\u001b[38;5;147m-\u001b[0m\u001b[38;5;183m\u001b[38;5;147m-\u001b[0m\u001b[38;5;183m\u001b[38;5;219m+\u001b[0m\u001b[38;5;183m\u001b[38;5;147m-\u001b[0m\u001b[38;5;183m\u001b[38;5;147m-\u001b[0m\u001b[38;5;183m\u001b[38;5;147m-\u001b[0m\u001b[38;5;183m\u001b[38;5;147m-\u001b[0m\u001b[38;5;183m\u001b[38;5;147m-\u001b[0m\u001b[38;5;183m\u001b[38;5;147m-\u001b[0m\u001b[38;5;183m\u001b[38;5;147m-\u001b[0m\u001b[38;5;183m\u001b[38;5;147m-\u001b[0m\u001b[38;5;183m\u001b[38;5;147m-\u001b[0m\u001b[38;5;183m\u001b[38;5;147m-\u001b[0m\u001b[38;5;183m\u001b[38;5;147m-\u001b[0m\u001b[38;5;183m\u001b[38;5;147m-\u001b[0m\u001b[38;5;183m\u001b[38;5;147m-\u001b[0m\u001b[38;5;183m\u001b[38;5;147m-\u001b[0m\u001b[38;5;183m\u001b[38;5;147m-\u001b[0m\u001b[38;5;183m\u001b[38;5;147m-\u001b[0m\u001b[38;5;183m\u001b[38;5;147m-\u001b[0m\u001b[38;5;183m\u001b[38;5;147m-\u001b[0m\u001b[38;5;183m\u001b[38;5;147m-\u001b[0m\u001b[38;5;183m\u001b[38;5;147m-\u001b[0m\u001b[38;5;183m\u001b[38;5;147m-\u001b[0m\u001b[38;5;183m\u001b[38;5;219m+\u001b[0m\u001b[38;5;183m\u001b[38;5;147m-\u001b[0m\u001b[38;5;183m\u001b[38;5;147m-\u001b[0m\u001b[38;5;183m\u001b[38;5;147m-\u001b[0m\u001b[38;5;183m\u001b[38;5;147m-\u001b[0m\u001b[38;5;183m\u001b[38;5;147m-\u001b[0m\u001b[38;5;183m\u001b[38;5;147m-\u001b[0m\u001b[38;5;183m\u001b[38;5;147m-\u001b[0m\u001b[38;5;183m\u001b[38;5;147m-\u001b[0m\u001b[38;5;183m\u001b[38;5;147m-\u001b[0m\u001b[38;5;183m\u001b[38;5;147m-\u001b[0m\u001b[38;5;183m\u001b[38;5;147m-\u001b[0m\u001b[38;5;183m\u001b[38;5;147m-\u001b[0m\u001b[38;5;183m\u001b[38;5;147m-\u001b[0m\u001b[38;5;183m\u001b[38;5;147m-\u001b[0m\u001b[38;5;183m\u001b[38;5;147m-\u001b[0m\u001b[38;5;183m\u001b[38;5;147m-\u001b[0m\u001b[38;5;183m\u001b[38;5;147m-\u001b[0m\u001b[38;5;183m\u001b[38;5;147m-\u001b[0m\u001b[38;5;183m\u001b[38;5;147m-\u001b[0m\u001b[38;5;183m\u001b[38;5;147m-\u001b[0m\u001b[38;5;183m\u001b[38;5;147m-\u001b[0m\u001b[38;5;183m\u001b[38;5;219m+\u001b[0m\u001b[38;5;183m\u001b[0m\n"
     ]
    }
   ],
   "source": [
    "def visualise_vect_comparison(scores_knn, scores_cnb, scores_svc):\n",
    "\n",
    "    field_names = [\"Algo\", \"Vectorizer\", \"Vectorizer ID\", \"Macro f1\", \"Accuracy\", \"Precision\", \"Rappel\"]\n",
    "\n",
    "    prettytable_knn = ColorTable(theme=Themes.LAVENDER)\n",
    "    prettytable_knn.field_names = field_names\n",
    "    prettytable_cnb = ColorTable(theme=Themes.LAVENDER)\n",
    "    prettytable_cnb.field_names = field_names\n",
    "    prettytable_svc = ColorTable(theme=Themes.LAVENDER)\n",
    "    prettytable_svc.field_names = field_names\n",
    "\n",
    "    three_best_knn = scores_knn[:3]\n",
    "    three_best_cnb = scores_cnb[:3]\n",
    "    three_best_svc = scores_svc[:3]\n",
    "\n",
    "    fill_vect_table(three_best_knn, \"knn\", prettytable_knn)\n",
    "    fill_vect_table(three_best_cnb, \"cnb\", prettytable_cnb)\n",
    "    fill_vect_table(three_best_svc, \"svc\", prettytable_svc)\n",
    "\n",
    "\n",
    "visualise_vect_comparison(sorted_scores_knn, sorted_scores_cnb, sorted_scores_svc)\n",
    "    "
   ]
  },
  {
   "cell_type": "markdown",
   "metadata": {},
   "source": [
    "**Au vu de nos résultats**, on peut admettre que c'est un tfidf avec une max df de 0.9, des max_features de 15 000 et un ngram range de (1, 2) qui donne les meilleurs résultats.\n",
    "**Nous utiliserons ainsi cette combinaison d'hyperparamètres et donc cette vectorisation pour nos essais suivants.**"
   ]
  },
  {
   "cell_type": "markdown",
   "metadata": {},
   "source": [
    "**On peut donc créer les variables que nous utiliserons lors de la suite du TP :**"
   ]
  },
  {
   "cell_type": "code",
   "execution_count": 48,
   "metadata": {},
   "outputs": [],
   "source": [
    "# df_vectorisations[\"vectorizer\"] = df_vectorisations[\"vectorizer\"].str.strip()\n",
    "\n",
    "best_data = df_vectorisations[df_vectorisations[\"vectorizer_id\"] == \"TfidfVectorizer5\"]\n",
    "x_train = best_data.iloc[0][\"x_train\"]\n",
    "y_train = df_train[\"label\"]\n",
    "\n",
    "x_test = best_data.iloc[0][\"x_test\"]\n",
    "y_test = df_test[\"label\"]\n"
   ]
  },
  {
   "cell_type": "markdown",
   "metadata": {},
   "source": [
    "- x_train\n",
    "- y_train\n",
    "- x_test\n",
    "- y_test"
   ]
  },
  {
   "cell_type": "markdown",
   "metadata": {},
   "source": [
    "<a id=\"3-comparaison-des-modèles\"></a>\n",
    "# **3. Comparaison des modèles**"
   ]
  },
  {
   "cell_type": "code",
   "execution_count": 49,
   "metadata": {},
   "outputs": [],
   "source": [
    "def time_function(func):\n",
    "    def wrapper(*args, **kwargs):\n",
    "        start = time.time()\n",
    "        result = func(*args, **kwargs)\n",
    "        end = time.time()\n",
    "        return result, end - start\n",
    "    return wrapper"
   ]
  },
  {
   "cell_type": "code",
   "execution_count": 50,
   "metadata": {},
   "outputs": [],
   "source": [
    "class Model:\n",
    "\n",
    "    # Contient tous les modèles entrainés ! \n",
    "    all_models = []\n",
    "\n",
    "    def __init__(self, name: str, model=None, scores={}, running_time=None):\n",
    "    ## j'ai rajouté ça mais je suis pas convaincue du tout !!\n",
    "    #def __init__(self, name: str, model=None, scores={}, running_time=None, macro_average=None):\n",
    "\n",
    "        self.name = name\n",
    "        self.model = model\n",
    "        self.scores = scores\n",
    "        self.running_time = running_time\n",
    "        ## et là aussi\n",
    "        #self.macro_average = macro_average\n",
    "\n",
    "        Model.all_models.append(self)\n",
    "        # Pour chaque modèle entraîné, on garde son nom (algo + num), le modèle et ses \n",
    "        # hyperparamètres pour cet entraînement, les métriques obtenues, et son temps d'execution !\n",
    "\n",
    "    # Pour vider la liste si nécessaire ! \n",
    "    @classmethod\n",
    "    def reset(cls):\n",
    "        cls.all_models = []\n",
    "\n",
    "    # Entraîne le modèle\n",
    "    @time_function\n",
    "    def fit_model(self, x_train, y_train):\n",
    "        self.model.fit(x_train, y_train)\n",
    "    \n",
    "    # Prédictions et scores\n",
    "    @time_function\n",
    "    def predict(self, x_test, y_test):\n",
    "        y_pred = self.model.predict(x_test)\n",
    "        report = classification_report(y_test, y_pred, output_dict=True)\n",
    "        accuracy = accuracy_score(y_test, y_pred)\n",
    "        accuracy_dict =  {\"accuracy\": accuracy, **report}\n",
    "        self.scores = accuracy_dict\n",
    "        return y_pred\n",
    "\n",
    "    # Lance les fonctions d'entraînement et de prédiction\n",
    "    # Stock les temps d'execution\n",
    "    def test_model(self, x_train, y_train, x_test, y_test):\n",
    "        _, fit_execution_time = self.fit_model(x_train, y_train)\n",
    "        y_pred, predict_execution_time = self.predict(x_test, y_test)\n",
    "        self.running_time = fit_execution_time + predict_execution_time"
   ]
  },
  {
   "cell_type": "code",
   "execution_count": 51,
   "metadata": {},
   "outputs": [],
   "source": [
    "Model.reset()"
   ]
  },
  {
   "cell_type": "code",
   "execution_count": 52,
   "metadata": {},
   "outputs": [],
   "source": [
    "# on met les hyperparamètres par défaut\n",
    "models_dict = {\n",
    "    \"KNN\" : { \"model\" : KNeighborsClassifier(), \"hyperparameters\": {\"n_neighbors\": [3, 5, 7]}},\n",
    "    \"MultinomialNB\": {\"model\": MultinomialNB(), \"hyperparameters\": {\"alpha\": [0.5, 1.0], \"fit_prior\": [True, False]}},\n",
    "    \"ComplementNB\" : {\"model\": ComplementNB(), \"hyperparameters\": {\"alpha\": [0.5, 1.0], \"fit_prior\": [True, False]}},\n",
    "    \"LogisticRegression\": {\"model\": LogisticRegression(), \"hyperparameters\": {\"C\": [0.5, 1.0]}},\n",
    "    \"SGDClassifier\": {\"model\": SGDClassifier(), \"hyperparameters\": {\"alpha\": [0.0001, 0.001, 0.01], \"loss\": [\"hinge\", \"squared_hinge\"]}},\n",
    "    \"LinearSVC\": {\"model\": LinearSVC(), \"hyperparameters\": {\"C\": [0.5, 1.0], \"dual\":[True, False]}},\n",
    "    \"SVC\": {\"model\": SVC(), \"hyperparameters\": {\"kernel\": [\"poly\", \"sigmoid\"]}},\n",
    "    \"RidgeClassifier\": {\"model\": RidgeClassifier(), \"hyperparameters\": { \"alpha\": [1.0, 1.5, 2]}},\n",
    "    \"LGBMClassifier\": {\"model\": LGBMClassifier(), \"hyperparameters\": {\"max_depth\": [500], \"n_estimators\": [500]}},\n",
    "    \"RandomForestClassifier\": {\"model\": RandomForestClassifier(), \"hyperparameters\": {\"max_depth\": [100]}},\n",
    "    \"PassiveAggressiveClassifier\": {\"model\": PassiveAggressiveClassifier(), \"hyperparameters\": {\"C\": [0.5, 1.0], \"loss\": [\"hinge\", \"squared_hinge\"]}}\n",
    " }"
   ]
  },
  {
   "cell_type": "code",
   "execution_count": 53,
   "metadata": {},
   "outputs": [],
   "source": [
    "def hyperparameters_training(model_name, model_dict, x_train, y_train, x_test, y_test):\n",
    "    \n",
    "    param_grid = model_dict[\"hyperparameters\"]\n",
    "\n",
    "    if len(param_grid) == 1:\n",
    "        param_name, param_values = list(param_grid.items())[0]\n",
    "        for i, value in enumerate(param_values, start=1):\n",
    "            params = {param_name: value}\n",
    "            model = model_dict[\"model\"].__class__(**params)  \n",
    "            model_obj = Model(name=f\"{model_name}_{i}\", model=model)\n",
    "            model_obj.test_model(x_train, y_train, x_test, y_test)\n",
    "    else:\n",
    "        param_grid_combinations = list(product(*param_grid.values()))\n",
    "        for i, combination in enumerate(param_grid_combinations, start=1):\n",
    "            params = {param_name: value for param_name, value in zip(param_grid.keys(), combination)}\n",
    "            model = model_dict[\"model\"].__class__(**params) \n",
    "            model_obj = Model(name=f\"{model_name}_{i}\", model=model)\n",
    "            model_obj.test_model(x_train, y_train, x_test, y_test)"
   ]
  },
  {
   "cell_type": "code",
   "execution_count": 54,
   "metadata": {},
   "outputs": [],
   "source": [
    "# vectorizer = TfidfVectorizer()\n",
    "# x_train_vectorized = vectorizer.fit_transform(df_train[\"texte_nettoyé\"])\n",
    "# x_test_vectorized = vectorizer.transform(df_test[\"texte_nettoyé\"])\n",
    "# y_test = df_test[\"label\"]\n",
    "# y_train = df_train[\"label\"]"
   ]
  },
  {
   "cell_type": "code",
   "execution_count": 55,
   "metadata": {},
   "outputs": [
    {
     "name": "stdout",
     "output_type": "stream",
     "text": [
      "On teste le modèle KNN !\n",
      "On teste le modèle MultinomialNB !\n"
     ]
    },
    {
     "name": "stderr",
     "output_type": "stream",
     "text": [
      "/home/karmin/Downloads/yes/envs/app_auto_dm_test/lib/python3.12/site-packages/sklearn/metrics/_classification.py:1565: UndefinedMetricWarning: Precision is ill-defined and being set to 0.0 in labels with no predicted samples. Use `zero_division` parameter to control this behavior.\n",
      "  _warn_prf(average, modifier, f\"{metric.capitalize()} is\", len(result))\n",
      "/home/karmin/Downloads/yes/envs/app_auto_dm_test/lib/python3.12/site-packages/sklearn/metrics/_classification.py:1565: UndefinedMetricWarning: Precision is ill-defined and being set to 0.0 in labels with no predicted samples. Use `zero_division` parameter to control this behavior.\n",
      "  _warn_prf(average, modifier, f\"{metric.capitalize()} is\", len(result))\n",
      "/home/karmin/Downloads/yes/envs/app_auto_dm_test/lib/python3.12/site-packages/sklearn/metrics/_classification.py:1565: UndefinedMetricWarning: Precision is ill-defined and being set to 0.0 in labels with no predicted samples. Use `zero_division` parameter to control this behavior.\n",
      "  _warn_prf(average, modifier, f\"{metric.capitalize()} is\", len(result))\n",
      "/home/karmin/Downloads/yes/envs/app_auto_dm_test/lib/python3.12/site-packages/sklearn/metrics/_classification.py:1565: UndefinedMetricWarning: Precision is ill-defined and being set to 0.0 in labels with no predicted samples. Use `zero_division` parameter to control this behavior.\n",
      "  _warn_prf(average, modifier, f\"{metric.capitalize()} is\", len(result))\n",
      "/home/karmin/Downloads/yes/envs/app_auto_dm_test/lib/python3.12/site-packages/sklearn/metrics/_classification.py:1565: UndefinedMetricWarning: Precision is ill-defined and being set to 0.0 in labels with no predicted samples. Use `zero_division` parameter to control this behavior.\n",
      "  _warn_prf(average, modifier, f\"{metric.capitalize()} is\", len(result))\n",
      "/home/karmin/Downloads/yes/envs/app_auto_dm_test/lib/python3.12/site-packages/sklearn/metrics/_classification.py:1565: UndefinedMetricWarning: Precision is ill-defined and being set to 0.0 in labels with no predicted samples. Use `zero_division` parameter to control this behavior.\n",
      "  _warn_prf(average, modifier, f\"{metric.capitalize()} is\", len(result))\n",
      "/home/karmin/Downloads/yes/envs/app_auto_dm_test/lib/python3.12/site-packages/sklearn/metrics/_classification.py:1565: UndefinedMetricWarning: Precision is ill-defined and being set to 0.0 in labels with no predicted samples. Use `zero_division` parameter to control this behavior.\n",
      "  _warn_prf(average, modifier, f\"{metric.capitalize()} is\", len(result))\n",
      "/home/karmin/Downloads/yes/envs/app_auto_dm_test/lib/python3.12/site-packages/sklearn/metrics/_classification.py:1565: UndefinedMetricWarning: Precision is ill-defined and being set to 0.0 in labels with no predicted samples. Use `zero_division` parameter to control this behavior.\n",
      "  _warn_prf(average, modifier, f\"{metric.capitalize()} is\", len(result))\n",
      "/home/karmin/Downloads/yes/envs/app_auto_dm_test/lib/python3.12/site-packages/sklearn/metrics/_classification.py:1565: UndefinedMetricWarning: Precision is ill-defined and being set to 0.0 in labels with no predicted samples. Use `zero_division` parameter to control this behavior.\n",
      "  _warn_prf(average, modifier, f\"{metric.capitalize()} is\", len(result))\n"
     ]
    },
    {
     "name": "stdout",
     "output_type": "stream",
     "text": [
      "On teste le modèle ComplementNB !\n",
      "On teste le modèle LogisticRegression !\n",
      "On teste le modèle SGDClassifier !\n"
     ]
    },
    {
     "name": "stderr",
     "output_type": "stream",
     "text": [
      "/home/karmin/Downloads/yes/envs/app_auto_dm_test/lib/python3.12/site-packages/sklearn/metrics/_classification.py:1565: UndefinedMetricWarning: Precision is ill-defined and being set to 0.0 in labels with no predicted samples. Use `zero_division` parameter to control this behavior.\n",
      "  _warn_prf(average, modifier, f\"{metric.capitalize()} is\", len(result))\n",
      "/home/karmin/Downloads/yes/envs/app_auto_dm_test/lib/python3.12/site-packages/sklearn/metrics/_classification.py:1565: UndefinedMetricWarning: Precision is ill-defined and being set to 0.0 in labels with no predicted samples. Use `zero_division` parameter to control this behavior.\n",
      "  _warn_prf(average, modifier, f\"{metric.capitalize()} is\", len(result))\n",
      "/home/karmin/Downloads/yes/envs/app_auto_dm_test/lib/python3.12/site-packages/sklearn/metrics/_classification.py:1565: UndefinedMetricWarning: Precision is ill-defined and being set to 0.0 in labels with no predicted samples. Use `zero_division` parameter to control this behavior.\n",
      "  _warn_prf(average, modifier, f\"{metric.capitalize()} is\", len(result))\n"
     ]
    },
    {
     "name": "stdout",
     "output_type": "stream",
     "text": [
      "On teste le modèle LinearSVC !\n",
      "On teste le modèle SVC !\n"
     ]
    },
    {
     "name": "stderr",
     "output_type": "stream",
     "text": [
      "/home/karmin/Downloads/yes/envs/app_auto_dm_test/lib/python3.12/site-packages/sklearn/metrics/_classification.py:1565: UndefinedMetricWarning: Precision is ill-defined and being set to 0.0 in labels with no predicted samples. Use `zero_division` parameter to control this behavior.\n",
      "  _warn_prf(average, modifier, f\"{metric.capitalize()} is\", len(result))\n",
      "/home/karmin/Downloads/yes/envs/app_auto_dm_test/lib/python3.12/site-packages/sklearn/metrics/_classification.py:1565: UndefinedMetricWarning: Precision is ill-defined and being set to 0.0 in labels with no predicted samples. Use `zero_division` parameter to control this behavior.\n",
      "  _warn_prf(average, modifier, f\"{metric.capitalize()} is\", len(result))\n",
      "/home/karmin/Downloads/yes/envs/app_auto_dm_test/lib/python3.12/site-packages/sklearn/metrics/_classification.py:1565: UndefinedMetricWarning: Precision is ill-defined and being set to 0.0 in labels with no predicted samples. Use `zero_division` parameter to control this behavior.\n",
      "  _warn_prf(average, modifier, f\"{metric.capitalize()} is\", len(result))\n"
     ]
    },
    {
     "name": "stdout",
     "output_type": "stream",
     "text": [
      "On teste le modèle RidgeClassifier !\n",
      "On teste le modèle LGBMClassifier !\n"
     ]
    },
    {
     "name": "stderr",
     "output_type": "stream",
     "text": [
      "/home/karmin/Downloads/yes/envs/app_auto_dm_test/lib/python3.12/site-packages/sklearn/utils/deprecation.py:151: FutureWarning: 'force_all_finite' was renamed to 'ensure_all_finite' in 1.6 and will be removed in 1.8.\n",
      "  warnings.warn(\n"
     ]
    },
    {
     "name": "stdout",
     "output_type": "stream",
     "text": [
      "[LightGBM] [Info] Auto-choosing row-wise multi-threading, the overhead of testing was 0.206020 seconds.\n",
      "You can set `force_row_wise=true` to remove the overhead.\n",
      "And if memory is not enough, you can set `force_col_wise=true`.\n",
      "[LightGBM] [Info] Total Bins 184903\n",
      "[LightGBM] [Info] Number of data points in the train set: 13068, number of used features: 5932\n",
      "[LightGBM] [Info] Start training from score -2.269321\n",
      "[LightGBM] [Info] Start training from score -1.969683\n",
      "[LightGBM] [Info] Start training from score -1.036530\n",
      "[LightGBM] [Info] Start training from score -1.275439\n",
      "[LightGBM] [Info] Start training from score -2.094554\n"
     ]
    },
    {
     "name": "stderr",
     "output_type": "stream",
     "text": [
      "/home/karmin/Downloads/yes/envs/app_auto_dm_test/lib/python3.12/site-packages/sklearn/utils/deprecation.py:151: FutureWarning: 'force_all_finite' was renamed to 'ensure_all_finite' in 1.6 and will be removed in 1.8.\n",
      "  warnings.warn(\n"
     ]
    },
    {
     "name": "stdout",
     "output_type": "stream",
     "text": [
      "On teste le modèle RandomForestClassifier !\n"
     ]
    },
    {
     "name": "stderr",
     "output_type": "stream",
     "text": [
      "/home/karmin/Downloads/yes/envs/app_auto_dm_test/lib/python3.12/site-packages/sklearn/metrics/_classification.py:1565: UndefinedMetricWarning: Precision is ill-defined and being set to 0.0 in labels with no predicted samples. Use `zero_division` parameter to control this behavior.\n",
      "  _warn_prf(average, modifier, f\"{metric.capitalize()} is\", len(result))\n",
      "/home/karmin/Downloads/yes/envs/app_auto_dm_test/lib/python3.12/site-packages/sklearn/metrics/_classification.py:1565: UndefinedMetricWarning: Precision is ill-defined and being set to 0.0 in labels with no predicted samples. Use `zero_division` parameter to control this behavior.\n",
      "  _warn_prf(average, modifier, f\"{metric.capitalize()} is\", len(result))\n",
      "/home/karmin/Downloads/yes/envs/app_auto_dm_test/lib/python3.12/site-packages/sklearn/metrics/_classification.py:1565: UndefinedMetricWarning: Precision is ill-defined and being set to 0.0 in labels with no predicted samples. Use `zero_division` parameter to control this behavior.\n",
      "  _warn_prf(average, modifier, f\"{metric.capitalize()} is\", len(result))\n"
     ]
    },
    {
     "name": "stdout",
     "output_type": "stream",
     "text": [
      "On teste le modèle PassiveAggressiveClassifier !\n"
     ]
    },
    {
     "data": {
      "text/plain": [
       "(None, 1371.3188080787659)"
      ]
     },
     "execution_count": 55,
     "metadata": {},
     "output_type": "execute_result"
    }
   ],
   "source": [
    "@time_function\n",
    "def test_models(models, x_train, y_train, x_test, y_test):\n",
    "                                 \n",
    "    for model_name, model_dict in models.items():\n",
    "        print(f\"On teste le modèle {model_name} !\")\n",
    "        hyperparameters_training(model_name, model_dict, x_train, y_train, x_test, y_test)\n",
    "\n",
    "test_models(models_dict, x_train, y_train, x_test, y_test)"
   ]
  },
  {
   "cell_type": "code",
   "execution_count": 56,
   "metadata": {},
   "outputs": [
    {
     "name": "stdout",
     "output_type": "stream",
     "text": [
      "\u001b[38;5;219m+\u001b[0m\u001b[38;5;183m\u001b[38;5;147m-\u001b[0m\u001b[38;5;183m\u001b[38;5;147m-\u001b[0m\u001b[38;5;183m\u001b[38;5;147m-\u001b[0m\u001b[38;5;183m\u001b[38;5;147m-\u001b[0m\u001b[38;5;183m\u001b[38;5;147m-\u001b[0m\u001b[38;5;183m\u001b[38;5;147m-\u001b[0m\u001b[38;5;183m\u001b[38;5;147m-\u001b[0m\u001b[38;5;183m\u001b[38;5;147m-\u001b[0m\u001b[38;5;183m\u001b[38;5;147m-\u001b[0m\u001b[38;5;183m\u001b[38;5;147m-\u001b[0m\u001b[38;5;183m\u001b[38;5;147m-\u001b[0m\u001b[38;5;183m\u001b[38;5;147m-\u001b[0m\u001b[38;5;183m\u001b[38;5;147m-\u001b[0m\u001b[38;5;183m\u001b[38;5;147m-\u001b[0m\u001b[38;5;183m\u001b[38;5;147m-\u001b[0m\u001b[38;5;183m\u001b[38;5;147m-\u001b[0m\u001b[38;5;183m\u001b[38;5;147m-\u001b[0m\u001b[38;5;183m\u001b[38;5;147m-\u001b[0m\u001b[38;5;183m\u001b[38;5;147m-\u001b[0m\u001b[38;5;183m\u001b[38;5;147m-\u001b[0m\u001b[38;5;183m\u001b[38;5;147m-\u001b[0m\u001b[38;5;183m\u001b[38;5;147m-\u001b[0m\u001b[38;5;183m\u001b[38;5;147m-\u001b[0m\u001b[38;5;183m\u001b[38;5;147m-\u001b[0m\u001b[38;5;183m\u001b[38;5;147m-\u001b[0m\u001b[38;5;183m\u001b[38;5;147m-\u001b[0m\u001b[38;5;183m\u001b[38;5;147m-\u001b[0m\u001b[38;5;183m\u001b[38;5;147m-\u001b[0m\u001b[38;5;183m\u001b[38;5;147m-\u001b[0m\u001b[38;5;183m\u001b[38;5;147m-\u001b[0m\u001b[38;5;183m\u001b[38;5;147m-\u001b[0m\u001b[38;5;183m\u001b[38;5;219m+\u001b[0m\u001b[38;5;183m\u001b[38;5;147m-\u001b[0m\u001b[38;5;183m\u001b[38;5;147m-\u001b[0m\u001b[38;5;183m\u001b[38;5;147m-\u001b[0m\u001b[38;5;183m\u001b[38;5;147m-\u001b[0m\u001b[38;5;183m\u001b[38;5;147m-\u001b[0m\u001b[38;5;183m\u001b[38;5;147m-\u001b[0m\u001b[38;5;183m\u001b[38;5;147m-\u001b[0m\u001b[38;5;183m\u001b[38;5;147m-\u001b[0m\u001b[38;5;183m\u001b[38;5;147m-\u001b[0m\u001b[38;5;183m\u001b[38;5;147m-\u001b[0m\u001b[38;5;183m\u001b[38;5;147m-\u001b[0m\u001b[38;5;183m\u001b[38;5;147m-\u001b[0m\u001b[38;5;183m\u001b[38;5;147m-\u001b[0m\u001b[38;5;183m\u001b[38;5;147m-\u001b[0m\u001b[38;5;183m\u001b[38;5;147m-\u001b[0m\u001b[38;5;183m\u001b[38;5;147m-\u001b[0m\u001b[38;5;183m\u001b[38;5;147m-\u001b[0m\u001b[38;5;183m\u001b[38;5;147m-\u001b[0m\u001b[38;5;183m\u001b[38;5;147m-\u001b[0m\u001b[38;5;183m\u001b[38;5;147m-\u001b[0m\u001b[38;5;183m\u001b[38;5;147m-\u001b[0m\u001b[38;5;183m\u001b[38;5;147m-\u001b[0m\u001b[38;5;183m\u001b[38;5;147m-\u001b[0m\u001b[38;5;183m\u001b[38;5;147m-\u001b[0m\u001b[38;5;183m\u001b[38;5;147m-\u001b[0m\u001b[38;5;183m\u001b[38;5;147m-\u001b[0m\u001b[38;5;183m\u001b[38;5;147m-\u001b[0m\u001b[38;5;183m\u001b[38;5;147m-\u001b[0m\u001b[38;5;183m\u001b[38;5;147m-\u001b[0m\u001b[38;5;183m\u001b[38;5;147m-\u001b[0m\u001b[38;5;183m\u001b[38;5;147m-\u001b[0m\u001b[38;5;183m\u001b[38;5;147m-\u001b[0m\u001b[38;5;183m\u001b[38;5;147m-\u001b[0m\u001b[38;5;183m\u001b[38;5;147m-\u001b[0m\u001b[38;5;183m\u001b[38;5;147m-\u001b[0m\u001b[38;5;183m\u001b[38;5;147m-\u001b[0m\u001b[38;5;183m\u001b[38;5;147m-\u001b[0m\u001b[38;5;183m\u001b[38;5;147m-\u001b[0m\u001b[38;5;183m\u001b[38;5;147m-\u001b[0m\u001b[38;5;183m\u001b[38;5;147m-\u001b[0m\u001b[38;5;183m\u001b[38;5;147m-\u001b[0m\u001b[38;5;183m\u001b[38;5;147m-\u001b[0m\u001b[38;5;183m\u001b[38;5;147m-\u001b[0m\u001b[38;5;183m\u001b[38;5;147m-\u001b[0m\u001b[38;5;183m\u001b[38;5;147m-\u001b[0m\u001b[38;5;183m\u001b[38;5;147m-\u001b[0m\u001b[38;5;183m\u001b[38;5;147m-\u001b[0m\u001b[38;5;183m\u001b[38;5;147m-\u001b[0m\u001b[38;5;183m\u001b[38;5;147m-\u001b[0m\u001b[38;5;183m\u001b[38;5;147m-\u001b[0m\u001b[38;5;183m\u001b[38;5;147m-\u001b[0m\u001b[38;5;183m\u001b[38;5;147m-\u001b[0m\u001b[38;5;183m\u001b[38;5;147m-\u001b[0m\u001b[38;5;183m\u001b[38;5;147m-\u001b[0m\u001b[38;5;183m\u001b[38;5;147m-\u001b[0m\u001b[38;5;183m\u001b[38;5;147m-\u001b[0m\u001b[38;5;183m\u001b[38;5;147m-\u001b[0m\u001b[38;5;183m\u001b[38;5;147m-\u001b[0m\u001b[38;5;183m\u001b[38;5;219m+\u001b[0m\u001b[38;5;183m\u001b[38;5;147m-\u001b[0m\u001b[38;5;183m\u001b[38;5;147m-\u001b[0m\u001b[38;5;183m\u001b[38;5;147m-\u001b[0m\u001b[38;5;183m\u001b[38;5;147m-\u001b[0m\u001b[38;5;183m\u001b[38;5;147m-\u001b[0m\u001b[38;5;183m\u001b[38;5;147m-\u001b[0m\u001b[38;5;183m\u001b[38;5;147m-\u001b[0m\u001b[38;5;183m\u001b[38;5;147m-\u001b[0m\u001b[38;5;183m\u001b[38;5;147m-\u001b[0m\u001b[38;5;183m\u001b[38;5;147m-\u001b[0m\u001b[38;5;183m\u001b[38;5;147m-\u001b[0m\u001b[38;5;183m\u001b[38;5;147m-\u001b[0m\u001b[38;5;183m\u001b[38;5;147m-\u001b[0m\u001b[38;5;183m\u001b[38;5;147m-\u001b[0m\u001b[38;5;183m\u001b[38;5;147m-\u001b[0m\u001b[38;5;183m\u001b[38;5;147m-\u001b[0m\u001b[38;5;183m\u001b[38;5;147m-\u001b[0m\u001b[38;5;183m\u001b[38;5;147m-\u001b[0m\u001b[38;5;183m\u001b[38;5;147m-\u001b[0m\u001b[38;5;183m\u001b[38;5;147m-\u001b[0m\u001b[38;5;183m\u001b[38;5;147m-\u001b[0m\u001b[38;5;183m\u001b[38;5;219m+\u001b[0m\u001b[38;5;183m\u001b[38;5;147m-\u001b[0m\u001b[38;5;183m\u001b[38;5;147m-\u001b[0m\u001b[38;5;183m\u001b[38;5;147m-\u001b[0m\u001b[38;5;183m\u001b[38;5;147m-\u001b[0m\u001b[38;5;183m\u001b[38;5;147m-\u001b[0m\u001b[38;5;183m\u001b[38;5;147m-\u001b[0m\u001b[38;5;183m\u001b[38;5;147m-\u001b[0m\u001b[38;5;183m\u001b[38;5;147m-\u001b[0m\u001b[38;5;183m\u001b[38;5;147m-\u001b[0m\u001b[38;5;183m\u001b[38;5;147m-\u001b[0m\u001b[38;5;183m\u001b[38;5;147m-\u001b[0m\u001b[38;5;183m\u001b[38;5;147m-\u001b[0m\u001b[38;5;183m\u001b[38;5;147m-\u001b[0m\u001b[38;5;183m\u001b[38;5;147m-\u001b[0m\u001b[38;5;183m\u001b[38;5;147m-\u001b[0m\u001b[38;5;183m\u001b[38;5;147m-\u001b[0m\u001b[38;5;183m\u001b[38;5;147m-\u001b[0m\u001b[38;5;183m\u001b[38;5;147m-\u001b[0m\u001b[38;5;183m\u001b[38;5;147m-\u001b[0m\u001b[38;5;183m\u001b[38;5;147m-\u001b[0m\u001b[38;5;183m\u001b[38;5;147m-\u001b[0m\u001b[38;5;183m\u001b[38;5;219m+\u001b[0m\u001b[38;5;183m\u001b[38;5;147m-\u001b[0m\u001b[38;5;183m\u001b[38;5;147m-\u001b[0m\u001b[38;5;183m\u001b[38;5;147m-\u001b[0m\u001b[38;5;183m\u001b[38;5;147m-\u001b[0m\u001b[38;5;183m\u001b[38;5;147m-\u001b[0m\u001b[38;5;183m\u001b[38;5;147m-\u001b[0m\u001b[38;5;183m\u001b[38;5;147m-\u001b[0m\u001b[38;5;183m\u001b[38;5;147m-\u001b[0m\u001b[38;5;183m\u001b[38;5;147m-\u001b[0m\u001b[38;5;183m\u001b[38;5;147m-\u001b[0m\u001b[38;5;183m\u001b[38;5;147m-\u001b[0m\u001b[38;5;183m\u001b[38;5;147m-\u001b[0m\u001b[38;5;183m\u001b[38;5;147m-\u001b[0m\u001b[38;5;183m\u001b[38;5;147m-\u001b[0m\u001b[38;5;183m\u001b[38;5;147m-\u001b[0m\u001b[38;5;183m\u001b[38;5;147m-\u001b[0m\u001b[38;5;183m\u001b[38;5;147m-\u001b[0m\u001b[38;5;183m\u001b[38;5;147m-\u001b[0m\u001b[38;5;183m\u001b[38;5;147m-\u001b[0m\u001b[38;5;183m\u001b[38;5;147m-\u001b[0m\u001b[38;5;183m\u001b[38;5;147m-\u001b[0m\u001b[38;5;183m\u001b[38;5;219m+\u001b[0m\u001b[38;5;183m\u001b[38;5;147m-\u001b[0m\u001b[38;5;183m\u001b[38;5;147m-\u001b[0m\u001b[38;5;183m\u001b[38;5;147m-\u001b[0m\u001b[38;5;183m\u001b[38;5;147m-\u001b[0m\u001b[38;5;183m\u001b[38;5;147m-\u001b[0m\u001b[38;5;183m\u001b[38;5;147m-\u001b[0m\u001b[38;5;183m\u001b[38;5;147m-\u001b[0m\u001b[38;5;183m\u001b[38;5;147m-\u001b[0m\u001b[38;5;183m\u001b[38;5;147m-\u001b[0m\u001b[38;5;183m\u001b[38;5;147m-\u001b[0m\u001b[38;5;183m\u001b[38;5;147m-\u001b[0m\u001b[38;5;183m\u001b[38;5;147m-\u001b[0m\u001b[38;5;183m\u001b[38;5;147m-\u001b[0m\u001b[38;5;183m\u001b[38;5;147m-\u001b[0m\u001b[38;5;183m\u001b[38;5;147m-\u001b[0m\u001b[38;5;183m\u001b[38;5;147m-\u001b[0m\u001b[38;5;183m\u001b[38;5;147m-\u001b[0m\u001b[38;5;183m\u001b[38;5;147m-\u001b[0m\u001b[38;5;183m\u001b[38;5;147m-\u001b[0m\u001b[38;5;183m\u001b[38;5;147m-\u001b[0m\u001b[38;5;183m\u001b[38;5;147m-\u001b[0m\u001b[38;5;183m\u001b[38;5;219m+\u001b[0m\u001b[38;5;183m\u001b[38;5;147m-\u001b[0m\u001b[38;5;183m\u001b[38;5;147m-\u001b[0m\u001b[38;5;183m\u001b[38;5;147m-\u001b[0m\u001b[38;5;183m\u001b[38;5;147m-\u001b[0m\u001b[38;5;183m\u001b[38;5;147m-\u001b[0m\u001b[38;5;183m\u001b[38;5;147m-\u001b[0m\u001b[38;5;183m\u001b[38;5;147m-\u001b[0m\u001b[38;5;183m\u001b[38;5;147m-\u001b[0m\u001b[38;5;183m\u001b[38;5;147m-\u001b[0m\u001b[38;5;183m\u001b[38;5;147m-\u001b[0m\u001b[38;5;183m\u001b[38;5;147m-\u001b[0m\u001b[38;5;183m\u001b[38;5;147m-\u001b[0m\u001b[38;5;183m\u001b[38;5;147m-\u001b[0m\u001b[38;5;183m\u001b[38;5;147m-\u001b[0m\u001b[38;5;183m\u001b[38;5;147m-\u001b[0m\u001b[38;5;183m\u001b[38;5;147m-\u001b[0m\u001b[38;5;183m\u001b[38;5;147m-\u001b[0m\u001b[38;5;183m\u001b[38;5;147m-\u001b[0m\u001b[38;5;183m\u001b[38;5;147m-\u001b[0m\u001b[38;5;183m\u001b[38;5;147m-\u001b[0m\u001b[38;5;183m\u001b[38;5;147m-\u001b[0m\u001b[38;5;183m\u001b[38;5;219m+\u001b[0m\u001b[38;5;183m\n",
      "\u001b[35m|\u001b[0m\u001b[38;5;183m           Algorithme          \u001b[35m|\u001b[0m\u001b[38;5;183m                     Hyperparamètres                      \u001b[35m|\u001b[0m\u001b[38;5;183m       Macro f1      \u001b[35m|\u001b[0m\u001b[38;5;183m       Accuracy      \u001b[35m|\u001b[0m\u001b[38;5;183m      Precision      \u001b[35m|\u001b[0m\u001b[38;5;183m        Rappel       \u001b[35m|\u001b[0m\u001b[38;5;183m  Temps d'exécution  \u001b[35m|\u001b[0m\u001b[38;5;183m\n",
      "\u001b[38;5;219m+\u001b[0m\u001b[38;5;183m\u001b[38;5;147m-\u001b[0m\u001b[38;5;183m\u001b[38;5;147m-\u001b[0m\u001b[38;5;183m\u001b[38;5;147m-\u001b[0m\u001b[38;5;183m\u001b[38;5;147m-\u001b[0m\u001b[38;5;183m\u001b[38;5;147m-\u001b[0m\u001b[38;5;183m\u001b[38;5;147m-\u001b[0m\u001b[38;5;183m\u001b[38;5;147m-\u001b[0m\u001b[38;5;183m\u001b[38;5;147m-\u001b[0m\u001b[38;5;183m\u001b[38;5;147m-\u001b[0m\u001b[38;5;183m\u001b[38;5;147m-\u001b[0m\u001b[38;5;183m\u001b[38;5;147m-\u001b[0m\u001b[38;5;183m\u001b[38;5;147m-\u001b[0m\u001b[38;5;183m\u001b[38;5;147m-\u001b[0m\u001b[38;5;183m\u001b[38;5;147m-\u001b[0m\u001b[38;5;183m\u001b[38;5;147m-\u001b[0m\u001b[38;5;183m\u001b[38;5;147m-\u001b[0m\u001b[38;5;183m\u001b[38;5;147m-\u001b[0m\u001b[38;5;183m\u001b[38;5;147m-\u001b[0m\u001b[38;5;183m\u001b[38;5;147m-\u001b[0m\u001b[38;5;183m\u001b[38;5;147m-\u001b[0m\u001b[38;5;183m\u001b[38;5;147m-\u001b[0m\u001b[38;5;183m\u001b[38;5;147m-\u001b[0m\u001b[38;5;183m\u001b[38;5;147m-\u001b[0m\u001b[38;5;183m\u001b[38;5;147m-\u001b[0m\u001b[38;5;183m\u001b[38;5;147m-\u001b[0m\u001b[38;5;183m\u001b[38;5;147m-\u001b[0m\u001b[38;5;183m\u001b[38;5;147m-\u001b[0m\u001b[38;5;183m\u001b[38;5;147m-\u001b[0m\u001b[38;5;183m\u001b[38;5;147m-\u001b[0m\u001b[38;5;183m\u001b[38;5;147m-\u001b[0m\u001b[38;5;183m\u001b[38;5;147m-\u001b[0m\u001b[38;5;183m\u001b[38;5;219m+\u001b[0m\u001b[38;5;183m\u001b[38;5;147m-\u001b[0m\u001b[38;5;183m\u001b[38;5;147m-\u001b[0m\u001b[38;5;183m\u001b[38;5;147m-\u001b[0m\u001b[38;5;183m\u001b[38;5;147m-\u001b[0m\u001b[38;5;183m\u001b[38;5;147m-\u001b[0m\u001b[38;5;183m\u001b[38;5;147m-\u001b[0m\u001b[38;5;183m\u001b[38;5;147m-\u001b[0m\u001b[38;5;183m\u001b[38;5;147m-\u001b[0m\u001b[38;5;183m\u001b[38;5;147m-\u001b[0m\u001b[38;5;183m\u001b[38;5;147m-\u001b[0m\u001b[38;5;183m\u001b[38;5;147m-\u001b[0m\u001b[38;5;183m\u001b[38;5;147m-\u001b[0m\u001b[38;5;183m\u001b[38;5;147m-\u001b[0m\u001b[38;5;183m\u001b[38;5;147m-\u001b[0m\u001b[38;5;183m\u001b[38;5;147m-\u001b[0m\u001b[38;5;183m\u001b[38;5;147m-\u001b[0m\u001b[38;5;183m\u001b[38;5;147m-\u001b[0m\u001b[38;5;183m\u001b[38;5;147m-\u001b[0m\u001b[38;5;183m\u001b[38;5;147m-\u001b[0m\u001b[38;5;183m\u001b[38;5;147m-\u001b[0m\u001b[38;5;183m\u001b[38;5;147m-\u001b[0m\u001b[38;5;183m\u001b[38;5;147m-\u001b[0m\u001b[38;5;183m\u001b[38;5;147m-\u001b[0m\u001b[38;5;183m\u001b[38;5;147m-\u001b[0m\u001b[38;5;183m\u001b[38;5;147m-\u001b[0m\u001b[38;5;183m\u001b[38;5;147m-\u001b[0m\u001b[38;5;183m\u001b[38;5;147m-\u001b[0m\u001b[38;5;183m\u001b[38;5;147m-\u001b[0m\u001b[38;5;183m\u001b[38;5;147m-\u001b[0m\u001b[38;5;183m\u001b[38;5;147m-\u001b[0m\u001b[38;5;183m\u001b[38;5;147m-\u001b[0m\u001b[38;5;183m\u001b[38;5;147m-\u001b[0m\u001b[38;5;183m\u001b[38;5;147m-\u001b[0m\u001b[38;5;183m\u001b[38;5;147m-\u001b[0m\u001b[38;5;183m\u001b[38;5;147m-\u001b[0m\u001b[38;5;183m\u001b[38;5;147m-\u001b[0m\u001b[38;5;183m\u001b[38;5;147m-\u001b[0m\u001b[38;5;183m\u001b[38;5;147m-\u001b[0m\u001b[38;5;183m\u001b[38;5;147m-\u001b[0m\u001b[38;5;183m\u001b[38;5;147m-\u001b[0m\u001b[38;5;183m\u001b[38;5;147m-\u001b[0m\u001b[38;5;183m\u001b[38;5;147m-\u001b[0m\u001b[38;5;183m\u001b[38;5;147m-\u001b[0m\u001b[38;5;183m\u001b[38;5;147m-\u001b[0m\u001b[38;5;183m\u001b[38;5;147m-\u001b[0m\u001b[38;5;183m\u001b[38;5;147m-\u001b[0m\u001b[38;5;183m\u001b[38;5;147m-\u001b[0m\u001b[38;5;183m\u001b[38;5;147m-\u001b[0m\u001b[38;5;183m\u001b[38;5;147m-\u001b[0m\u001b[38;5;183m\u001b[38;5;147m-\u001b[0m\u001b[38;5;183m\u001b[38;5;147m-\u001b[0m\u001b[38;5;183m\u001b[38;5;147m-\u001b[0m\u001b[38;5;183m\u001b[38;5;147m-\u001b[0m\u001b[38;5;183m\u001b[38;5;147m-\u001b[0m\u001b[38;5;183m\u001b[38;5;147m-\u001b[0m\u001b[38;5;183m\u001b[38;5;147m-\u001b[0m\u001b[38;5;183m\u001b[38;5;147m-\u001b[0m\u001b[38;5;183m\u001b[38;5;147m-\u001b[0m\u001b[38;5;183m\u001b[38;5;219m+\u001b[0m\u001b[38;5;183m\u001b[38;5;147m-\u001b[0m\u001b[38;5;183m\u001b[38;5;147m-\u001b[0m\u001b[38;5;183m\u001b[38;5;147m-\u001b[0m\u001b[38;5;183m\u001b[38;5;147m-\u001b[0m\u001b[38;5;183m\u001b[38;5;147m-\u001b[0m\u001b[38;5;183m\u001b[38;5;147m-\u001b[0m\u001b[38;5;183m\u001b[38;5;147m-\u001b[0m\u001b[38;5;183m\u001b[38;5;147m-\u001b[0m\u001b[38;5;183m\u001b[38;5;147m-\u001b[0m\u001b[38;5;183m\u001b[38;5;147m-\u001b[0m\u001b[38;5;183m\u001b[38;5;147m-\u001b[0m\u001b[38;5;183m\u001b[38;5;147m-\u001b[0m\u001b[38;5;183m\u001b[38;5;147m-\u001b[0m\u001b[38;5;183m\u001b[38;5;147m-\u001b[0m\u001b[38;5;183m\u001b[38;5;147m-\u001b[0m\u001b[38;5;183m\u001b[38;5;147m-\u001b[0m\u001b[38;5;183m\u001b[38;5;147m-\u001b[0m\u001b[38;5;183m\u001b[38;5;147m-\u001b[0m\u001b[38;5;183m\u001b[38;5;147m-\u001b[0m\u001b[38;5;183m\u001b[38;5;147m-\u001b[0m\u001b[38;5;183m\u001b[38;5;147m-\u001b[0m\u001b[38;5;183m\u001b[38;5;219m+\u001b[0m\u001b[38;5;183m\u001b[38;5;147m-\u001b[0m\u001b[38;5;183m\u001b[38;5;147m-\u001b[0m\u001b[38;5;183m\u001b[38;5;147m-\u001b[0m\u001b[38;5;183m\u001b[38;5;147m-\u001b[0m\u001b[38;5;183m\u001b[38;5;147m-\u001b[0m\u001b[38;5;183m\u001b[38;5;147m-\u001b[0m\u001b[38;5;183m\u001b[38;5;147m-\u001b[0m\u001b[38;5;183m\u001b[38;5;147m-\u001b[0m\u001b[38;5;183m\u001b[38;5;147m-\u001b[0m\u001b[38;5;183m\u001b[38;5;147m-\u001b[0m\u001b[38;5;183m\u001b[38;5;147m-\u001b[0m\u001b[38;5;183m\u001b[38;5;147m-\u001b[0m\u001b[38;5;183m\u001b[38;5;147m-\u001b[0m\u001b[38;5;183m\u001b[38;5;147m-\u001b[0m\u001b[38;5;183m\u001b[38;5;147m-\u001b[0m\u001b[38;5;183m\u001b[38;5;147m-\u001b[0m\u001b[38;5;183m\u001b[38;5;147m-\u001b[0m\u001b[38;5;183m\u001b[38;5;147m-\u001b[0m\u001b[38;5;183m\u001b[38;5;147m-\u001b[0m\u001b[38;5;183m\u001b[38;5;147m-\u001b[0m\u001b[38;5;183m\u001b[38;5;147m-\u001b[0m\u001b[38;5;183m\u001b[38;5;219m+\u001b[0m\u001b[38;5;183m\u001b[38;5;147m-\u001b[0m\u001b[38;5;183m\u001b[38;5;147m-\u001b[0m\u001b[38;5;183m\u001b[38;5;147m-\u001b[0m\u001b[38;5;183m\u001b[38;5;147m-\u001b[0m\u001b[38;5;183m\u001b[38;5;147m-\u001b[0m\u001b[38;5;183m\u001b[38;5;147m-\u001b[0m\u001b[38;5;183m\u001b[38;5;147m-\u001b[0m\u001b[38;5;183m\u001b[38;5;147m-\u001b[0m\u001b[38;5;183m\u001b[38;5;147m-\u001b[0m\u001b[38;5;183m\u001b[38;5;147m-\u001b[0m\u001b[38;5;183m\u001b[38;5;147m-\u001b[0m\u001b[38;5;183m\u001b[38;5;147m-\u001b[0m\u001b[38;5;183m\u001b[38;5;147m-\u001b[0m\u001b[38;5;183m\u001b[38;5;147m-\u001b[0m\u001b[38;5;183m\u001b[38;5;147m-\u001b[0m\u001b[38;5;183m\u001b[38;5;147m-\u001b[0m\u001b[38;5;183m\u001b[38;5;147m-\u001b[0m\u001b[38;5;183m\u001b[38;5;147m-\u001b[0m\u001b[38;5;183m\u001b[38;5;147m-\u001b[0m\u001b[38;5;183m\u001b[38;5;147m-\u001b[0m\u001b[38;5;183m\u001b[38;5;147m-\u001b[0m\u001b[38;5;183m\u001b[38;5;219m+\u001b[0m\u001b[38;5;183m\u001b[38;5;147m-\u001b[0m\u001b[38;5;183m\u001b[38;5;147m-\u001b[0m\u001b[38;5;183m\u001b[38;5;147m-\u001b[0m\u001b[38;5;183m\u001b[38;5;147m-\u001b[0m\u001b[38;5;183m\u001b[38;5;147m-\u001b[0m\u001b[38;5;183m\u001b[38;5;147m-\u001b[0m\u001b[38;5;183m\u001b[38;5;147m-\u001b[0m\u001b[38;5;183m\u001b[38;5;147m-\u001b[0m\u001b[38;5;183m\u001b[38;5;147m-\u001b[0m\u001b[38;5;183m\u001b[38;5;147m-\u001b[0m\u001b[38;5;183m\u001b[38;5;147m-\u001b[0m\u001b[38;5;183m\u001b[38;5;147m-\u001b[0m\u001b[38;5;183m\u001b[38;5;147m-\u001b[0m\u001b[38;5;183m\u001b[38;5;147m-\u001b[0m\u001b[38;5;183m\u001b[38;5;147m-\u001b[0m\u001b[38;5;183m\u001b[38;5;147m-\u001b[0m\u001b[38;5;183m\u001b[38;5;147m-\u001b[0m\u001b[38;5;183m\u001b[38;5;147m-\u001b[0m\u001b[38;5;183m\u001b[38;5;147m-\u001b[0m\u001b[38;5;183m\u001b[38;5;147m-\u001b[0m\u001b[38;5;183m\u001b[38;5;147m-\u001b[0m\u001b[38;5;183m\u001b[38;5;219m+\u001b[0m\u001b[38;5;183m\u001b[38;5;147m-\u001b[0m\u001b[38;5;183m\u001b[38;5;147m-\u001b[0m\u001b[38;5;183m\u001b[38;5;147m-\u001b[0m\u001b[38;5;183m\u001b[38;5;147m-\u001b[0m\u001b[38;5;183m\u001b[38;5;147m-\u001b[0m\u001b[38;5;183m\u001b[38;5;147m-\u001b[0m\u001b[38;5;183m\u001b[38;5;147m-\u001b[0m\u001b[38;5;183m\u001b[38;5;147m-\u001b[0m\u001b[38;5;183m\u001b[38;5;147m-\u001b[0m\u001b[38;5;183m\u001b[38;5;147m-\u001b[0m\u001b[38;5;183m\u001b[38;5;147m-\u001b[0m\u001b[38;5;183m\u001b[38;5;147m-\u001b[0m\u001b[38;5;183m\u001b[38;5;147m-\u001b[0m\u001b[38;5;183m\u001b[38;5;147m-\u001b[0m\u001b[38;5;183m\u001b[38;5;147m-\u001b[0m\u001b[38;5;183m\u001b[38;5;147m-\u001b[0m\u001b[38;5;183m\u001b[38;5;147m-\u001b[0m\u001b[38;5;183m\u001b[38;5;147m-\u001b[0m\u001b[38;5;183m\u001b[38;5;147m-\u001b[0m\u001b[38;5;183m\u001b[38;5;147m-\u001b[0m\u001b[38;5;183m\u001b[38;5;147m-\u001b[0m\u001b[38;5;183m\u001b[38;5;219m+\u001b[0m\u001b[38;5;183m\n",
      "\u001b[35m|\u001b[0m\u001b[38;5;183m PassiveAggressiveClassifier_2 \u001b[35m|\u001b[0m\u001b[38;5;183m PassiveAggressiveClassifier(C=0.5, loss='squared_hinge') \u001b[35m|\u001b[0m\u001b[38;5;183m  0.344802993682413  \u001b[35m|\u001b[0m\u001b[38;5;183m 0.41310835629017445 \u001b[35m|\u001b[0m\u001b[38;5;183m  0.3760873566215486 \u001b[35m|\u001b[0m\u001b[38;5;183m  0.3394211828496621 \u001b[35m|\u001b[0m\u001b[38;5;183m  1.6704480648040771 \u001b[35m|\u001b[0m\u001b[38;5;183m\n",
      "\u001b[35m|\u001b[0m\u001b[38;5;183m PassiveAggressiveClassifier_3 \u001b[35m|\u001b[0m\u001b[38;5;183m              PassiveAggressiveClassifier()               \u001b[35m|\u001b[0m\u001b[38;5;183m  0.3441771488659745 \u001b[35m|\u001b[0m\u001b[38;5;183m  0.4116161616161616 \u001b[35m|\u001b[0m\u001b[38;5;183m 0.37734729590495075 \u001b[35m|\u001b[0m\u001b[38;5;183m  0.3384732782432911 \u001b[35m|\u001b[0m\u001b[38;5;183m  1.0269744396209717 \u001b[35m|\u001b[0m\u001b[38;5;183m\n",
      "\u001b[35m|\u001b[0m\u001b[38;5;183m PassiveAggressiveClassifier_1 \u001b[35m|\u001b[0m\u001b[38;5;183m            PassiveAggressiveClassifier(C=0.5)            \u001b[35m|\u001b[0m\u001b[38;5;183m 0.34385419273545786 \u001b[35m|\u001b[0m\u001b[38;5;183m  0.4121900826446281 \u001b[35m|\u001b[0m\u001b[38;5;183m 0.37718579655870743 \u001b[35m|\u001b[0m\u001b[38;5;183m 0.33842138856484605 \u001b[35m|\u001b[0m\u001b[38;5;183m   1.16347074508667  \u001b[35m|\u001b[0m\u001b[38;5;183m\n",
      "\u001b[35m|\u001b[0m\u001b[38;5;183m PassiveAggressiveClassifier_4 \u001b[35m|\u001b[0m\u001b[38;5;183m    PassiveAggressiveClassifier(loss='squared_hinge')     \u001b[35m|\u001b[0m\u001b[38;5;183m  0.3430289752699134 \u001b[35m|\u001b[0m\u001b[38;5;183m  0.4116161616161616 \u001b[35m|\u001b[0m\u001b[38;5;183m 0.37313701457382953 \u001b[35m|\u001b[0m\u001b[38;5;183m 0.33832970439510973 \u001b[35m|\u001b[0m\u001b[38;5;183m  1.1739253997802734 \u001b[35m|\u001b[0m\u001b[38;5;183m\n",
      "\u001b[35m|\u001b[0m\u001b[38;5;183m          LinearSVC_4          \u001b[35m|\u001b[0m\u001b[38;5;183m                  LinearSVC(dual=False)                   \u001b[35m|\u001b[0m\u001b[38;5;183m  0.3321061049516872 \u001b[35m|\u001b[0m\u001b[38;5;183m  0.4182736455463728 \u001b[35m|\u001b[0m\u001b[38;5;183m  0.3933671968822942 \u001b[35m|\u001b[0m\u001b[38;5;183m 0.33007171743788544 \u001b[35m|\u001b[0m\u001b[38;5;183m  19.944521188735962 \u001b[35m|\u001b[0m\u001b[38;5;183m\n",
      "\u001b[35m|\u001b[0m\u001b[38;5;183m          LinearSVC_3          \u001b[35m|\u001b[0m\u001b[38;5;183m                   LinearSVC(dual=True)                   \u001b[35m|\u001b[0m\u001b[38;5;183m  0.3319172995235483 \u001b[35m|\u001b[0m\u001b[38;5;183m  0.4180440771349862 \u001b[35m|\u001b[0m\u001b[38;5;183m  0.3930365127324806 \u001b[35m|\u001b[0m\u001b[38;5;183m 0.32991101032659575 \u001b[35m|\u001b[0m\u001b[38;5;183m  2.2656590938568115 \u001b[35m|\u001b[0m\u001b[38;5;183m\n",
      "\u001b[35m|\u001b[0m\u001b[38;5;183m        SGDClassifier_2        \u001b[35m|\u001b[0m\u001b[38;5;183m           SGDClassifier(loss='squared_hinge')            \u001b[35m|\u001b[0m\u001b[38;5;183m 0.33120561939477244 \u001b[35m|\u001b[0m\u001b[38;5;183m 0.41815886134067953 \u001b[35m|\u001b[0m\u001b[38;5;183m 0.39119440625399826 \u001b[35m|\u001b[0m\u001b[38;5;183m 0.32984530792406086 \u001b[35m|\u001b[0m\u001b[38;5;183m  0.7017562389373779 \u001b[35m|\u001b[0m\u001b[38;5;183m\n",
      "\u001b[35m|\u001b[0m\u001b[38;5;183m        SGDClassifier_1        \u001b[35m|\u001b[0m\u001b[38;5;183m                     SGDClassifier()                      \u001b[35m|\u001b[0m\u001b[38;5;183m  0.3254100694527408 \u001b[35m|\u001b[0m\u001b[38;5;183m  0.421831955922865  \u001b[35m|\u001b[0m\u001b[38;5;183m  0.3908432937670748 \u001b[35m|\u001b[0m\u001b[38;5;183m  0.330126314863204  \u001b[35m|\u001b[0m\u001b[38;5;183m  1.3522629737854004 \u001b[35m|\u001b[0m\u001b[38;5;183m\n",
      "\u001b[35m|\u001b[0m\u001b[38;5;183m        SGDClassifier_5        \u001b[35m|\u001b[0m\u001b[38;5;183m                SGDClassifier(alpha=0.01)                 \u001b[35m|\u001b[0m\u001b[38;5;183m  0.3218695846929628 \u001b[35m|\u001b[0m\u001b[38;5;183m  0.4176997245179063 \u001b[35m|\u001b[0m\u001b[38;5;183m  0.3777538744546771 \u001b[35m|\u001b[0m\u001b[38;5;183m 0.32768503438448743 \u001b[35m|\u001b[0m\u001b[38;5;183m  0.686985969543457  \u001b[35m|\u001b[0m\u001b[38;5;183m\n",
      "\u001b[35m|\u001b[0m\u001b[38;5;183m        SGDClassifier_3        \u001b[35m|\u001b[0m\u001b[38;5;183m                SGDClassifier(alpha=0.001)                \u001b[35m|\u001b[0m\u001b[38;5;183m  0.3210552811365094 \u001b[35m|\u001b[0m\u001b[38;5;183m 0.41792929292929293 \u001b[35m|\u001b[0m\u001b[38;5;183m 0.38824310283529273 \u001b[35m|\u001b[0m\u001b[38;5;183m 0.32499710356997485 \u001b[35m|\u001b[0m\u001b[38;5;183m  0.7130215167999268 \u001b[35m|\u001b[0m\u001b[38;5;183m\n",
      "\u001b[35m|\u001b[0m\u001b[38;5;183m          LinearSVC_1          \u001b[35m|\u001b[0m\u001b[38;5;183m               LinearSVC(C=0.5, dual=True)                \u001b[35m|\u001b[0m\u001b[38;5;183m 0.31614160266668756 \u001b[35m|\u001b[0m\u001b[38;5;183m 0.41689623507805323 \u001b[35m|\u001b[0m\u001b[38;5;183m  0.4041104052756137 \u001b[35m|\u001b[0m\u001b[38;5;183m  0.3196282154238117 \u001b[35m|\u001b[0m\u001b[38;5;183m  1.3910486698150635 \u001b[35m|\u001b[0m\u001b[38;5;183m\n",
      "\u001b[35m|\u001b[0m\u001b[38;5;183m          LinearSVC_2          \u001b[35m|\u001b[0m\u001b[38;5;183m               LinearSVC(C=0.5, dual=False)               \u001b[35m|\u001b[0m\u001b[38;5;183m 0.31606284832742937 \u001b[35m|\u001b[0m\u001b[38;5;183m 0.41678145087235996 \u001b[35m|\u001b[0m\u001b[38;5;183m  0.4039812096526302 \u001b[35m|\u001b[0m\u001b[38;5;183m  0.3195625770910254 \u001b[35m|\u001b[0m\u001b[38;5;183m  14.05469822883606  \u001b[35m|\u001b[0m\u001b[38;5;183m\n",
      "\u001b[35m|\u001b[0m\u001b[38;5;183m       RidgeClassifier_1       \u001b[35m|\u001b[0m\u001b[38;5;183m                    RidgeClassifier()                     \u001b[35m|\u001b[0m\u001b[38;5;183m 0.31515988564747044 \u001b[35m|\u001b[0m\u001b[38;5;183m  0.4166666666666667 \u001b[35m|\u001b[0m\u001b[38;5;183m 0.40408839863906837 \u001b[35m|\u001b[0m\u001b[38;5;183m 0.31817738369974297 \u001b[35m|\u001b[0m\u001b[38;5;183m  5.696135520935059  \u001b[35m|\u001b[0m\u001b[38;5;183m\n",
      "\u001b[35m|\u001b[0m\u001b[38;5;183m       RidgeClassifier_2       \u001b[35m|\u001b[0m\u001b[38;5;183m                RidgeClassifier(alpha=1.5)                \u001b[35m|\u001b[0m\u001b[38;5;183m  0.304017897347683  \u001b[35m|\u001b[0m\u001b[38;5;183m  0.4182736455463728 \u001b[35m|\u001b[0m\u001b[38;5;183m  0.4160574614311262 \u001b[35m|\u001b[0m\u001b[38;5;183m 0.31183687501620616 \u001b[35m|\u001b[0m\u001b[38;5;183m  4.070607900619507  \u001b[35m|\u001b[0m\u001b[38;5;183m\n",
      "\u001b[35m|\u001b[0m\u001b[38;5;183m        LGBMClassifier_1       \u001b[35m|\u001b[0m\u001b[38;5;183m     LGBMClassifier(max_depth=500, n_estimators=500)      \u001b[35m|\u001b[0m\u001b[38;5;183m 0.30019029364950034 \u001b[35m|\u001b[0m\u001b[38;5;183m  0.3736225895316804 \u001b[35m|\u001b[0m\u001b[38;5;183m 0.33946812529970216 \u001b[35m|\u001b[0m\u001b[38;5;183m  0.2942243923212533 \u001b[35m|\u001b[0m\u001b[38;5;183m  342.1225073337555  \u001b[35m|\u001b[0m\u001b[38;5;183m\n",
      "\u001b[35m|\u001b[0m\u001b[38;5;183m       RidgeClassifier_3       \u001b[35m|\u001b[0m\u001b[38;5;183m                 RidgeClassifier(alpha=2)                 \u001b[35m|\u001b[0m\u001b[38;5;183m  0.2978812215459704 \u001b[35m|\u001b[0m\u001b[38;5;183m  0.4195362718089991 \u001b[35m|\u001b[0m\u001b[38;5;183m  0.4418656397347389 \u001b[35m|\u001b[0m\u001b[38;5;183m 0.30825142380857046 \u001b[35m|\u001b[0m\u001b[38;5;183m  4.825464487075806  \u001b[35m|\u001b[0m\u001b[38;5;183m\n",
      "\u001b[35m|\u001b[0m\u001b[38;5;183m             SVC_2             \u001b[35m|\u001b[0m\u001b[38;5;183m                  SVC(kernel='sigmoid')                   \u001b[35m|\u001b[0m\u001b[38;5;183m 0.27347154948321195 \u001b[35m|\u001b[0m\u001b[38;5;183m 0.41058310376492196 \u001b[35m|\u001b[0m\u001b[38;5;183m  0.5025363930891102 \u001b[35m|\u001b[0m\u001b[38;5;183m 0.29046111184250384 \u001b[35m|\u001b[0m\u001b[38;5;183m  377.51364183425903 \u001b[35m|\u001b[0m\u001b[38;5;183m\n",
      "\u001b[35m|\u001b[0m\u001b[38;5;183m             KNN_2             \u001b[35m|\u001b[0m\u001b[38;5;183m                  KNeighborsClassifier()                  \u001b[35m|\u001b[0m\u001b[38;5;183m  0.2720166812189435 \u001b[35m|\u001b[0m\u001b[38;5;183m  0.3496326905417815 \u001b[35m|\u001b[0m\u001b[38;5;183m  0.2888261686967606 \u001b[35m|\u001b[0m\u001b[38;5;183m  0.2759121644368684 \u001b[35m|\u001b[0m\u001b[38;5;183m  5.653038740158081  \u001b[35m|\u001b[0m\u001b[38;5;183m\n",
      "\u001b[35m|\u001b[0m\u001b[38;5;183m             KNN_3             \u001b[35m|\u001b[0m\u001b[38;5;183m           KNeighborsClassifier(n_neighbors=7)            \u001b[35m|\u001b[0m\u001b[38;5;183m  0.2679530490288469 \u001b[35m|\u001b[0m\u001b[38;5;183m 0.35215794306703396 \u001b[35m|\u001b[0m\u001b[38;5;183m  0.2894886904892481 \u001b[35m|\u001b[0m\u001b[38;5;183m  0.2727239516555519 \u001b[35m|\u001b[0m\u001b[38;5;183m  5.677108526229858  \u001b[35m|\u001b[0m\u001b[38;5;183m\n",
      "\u001b[35m|\u001b[0m\u001b[38;5;183m      LogisticRegression_2     \u001b[35m|\u001b[0m\u001b[38;5;183m                   LogisticRegression()                   \u001b[35m|\u001b[0m\u001b[38;5;183m 0.26341030850243363 \u001b[35m|\u001b[0m\u001b[38;5;183m  0.4116161616161616 \u001b[35m|\u001b[0m\u001b[38;5;183m  0.4542215508363583 \u001b[35m|\u001b[0m\u001b[38;5;183m 0.28449292071434745 \u001b[35m|\u001b[0m\u001b[38;5;183m  43.710068464279175 \u001b[35m|\u001b[0m\u001b[38;5;183m\n",
      "\u001b[35m|\u001b[0m\u001b[38;5;183m             KNN_1             \u001b[35m|\u001b[0m\u001b[38;5;183m           KNeighborsClassifier(n_neighbors=3)            \u001b[35m|\u001b[0m\u001b[38;5;183m 0.25190393249732723 \u001b[35m|\u001b[0m\u001b[38;5;183m 0.29981634527089074 \u001b[35m|\u001b[0m\u001b[38;5;183m 0.26724986927721195 \u001b[35m|\u001b[0m\u001b[38;5;183m  0.2653164874705564 \u001b[35m|\u001b[0m\u001b[38;5;183m  5.509373426437378  \u001b[35m|\u001b[0m\u001b[38;5;183m\n",
      "\u001b[35m|\u001b[0m\u001b[38;5;183m        SGDClassifier_4        \u001b[35m|\u001b[0m\u001b[38;5;183m     SGDClassifier(alpha=0.001, loss='squared_hinge')     \u001b[35m|\u001b[0m\u001b[38;5;183m 0.23049829634589697 \u001b[35m|\u001b[0m\u001b[38;5;183m 0.39726813590449955 \u001b[35m|\u001b[0m\u001b[38;5;183m  0.5314285409634073 \u001b[35m|\u001b[0m\u001b[38;5;183m  0.2616099768734297 \u001b[35m|\u001b[0m\u001b[38;5;183m  0.9296162128448486 \u001b[35m|\u001b[0m\u001b[38;5;183m\n",
      "\u001b[35m|\u001b[0m\u001b[38;5;183m      LogisticRegression_1     \u001b[35m|\u001b[0m\u001b[38;5;183m                LogisticRegression(C=0.5)                 \u001b[35m|\u001b[0m\u001b[38;5;183m 0.22323922238640118 \u001b[35m|\u001b[0m\u001b[38;5;183m  0.3957759412304867 \u001b[35m|\u001b[0m\u001b[38;5;183m  0.5231371374660111 \u001b[35m|\u001b[0m\u001b[38;5;183m  0.2563329340856686 \u001b[35m|\u001b[0m\u001b[38;5;183m  22.090871334075928 \u001b[35m|\u001b[0m\u001b[38;5;183m\n",
      "\u001b[35m|\u001b[0m\u001b[38;5;183m         ComplementNB_1        \u001b[35m|\u001b[0m\u001b[38;5;183m                 ComplementNB(alpha=0.5)                  \u001b[35m|\u001b[0m\u001b[38;5;183m 0.18164626481284205 \u001b[35m|\u001b[0m\u001b[38;5;183m 0.38073921028466484 \u001b[35m|\u001b[0m\u001b[38;5;183m  0.5927774403033594 \u001b[35m|\u001b[0m\u001b[38;5;183m  0.2341804634273863 \u001b[35m|\u001b[0m\u001b[38;5;183m 0.23320674896240234 \u001b[35m|\u001b[0m\u001b[38;5;183m\n",
      "\u001b[35m|\u001b[0m\u001b[38;5;183m         ComplementNB_2        \u001b[35m|\u001b[0m\u001b[38;5;183m         ComplementNB(alpha=0.5, fit_prior=False)         \u001b[35m|\u001b[0m\u001b[38;5;183m 0.18164626481284205 \u001b[35m|\u001b[0m\u001b[38;5;183m 0.38073921028466484 \u001b[35m|\u001b[0m\u001b[38;5;183m  0.5927774403033594 \u001b[35m|\u001b[0m\u001b[38;5;183m  0.2341804634273863 \u001b[35m|\u001b[0m\u001b[38;5;183m 0.21078944206237793 \u001b[35m|\u001b[0m\u001b[38;5;183m\n",
      "\u001b[35m|\u001b[0m\u001b[38;5;183m    RandomForestClassifier_1   \u001b[35m|\u001b[0m\u001b[38;5;183m          RandomForestClassifier(max_depth=100)           \u001b[35m|\u001b[0m\u001b[38;5;183m  0.1667955579011338 \u001b[35m|\u001b[0m\u001b[38;5;183m  0.3650137741046832 \u001b[35m|\u001b[0m\u001b[38;5;183m  0.4906779331140371 \u001b[35m|\u001b[0m\u001b[38;5;183m  0.2228104806979297 \u001b[35m|\u001b[0m\u001b[38;5;183m  84.87571024894714  \u001b[35m|\u001b[0m\u001b[38;5;183m\n",
      "\u001b[35m|\u001b[0m\u001b[38;5;183m         ComplementNB_3        \u001b[35m|\u001b[0m\u001b[38;5;183m                      ComplementNB()                      \u001b[35m|\u001b[0m\u001b[38;5;183m 0.13896574693903657 \u001b[35m|\u001b[0m\u001b[38;5;183m  0.3635215794306703 \u001b[35m|\u001b[0m\u001b[38;5;183m  0.5424762270272911 \u001b[35m|\u001b[0m\u001b[38;5;183m  0.2142195634485001 \u001b[35m|\u001b[0m\u001b[38;5;183m  0.2218618392944336 \u001b[35m|\u001b[0m\u001b[38;5;183m\n",
      "\u001b[35m|\u001b[0m\u001b[38;5;183m         ComplementNB_4        \u001b[35m|\u001b[0m\u001b[38;5;183m              ComplementNB(fit_prior=False)               \u001b[35m|\u001b[0m\u001b[38;5;183m 0.13896574693903657 \u001b[35m|\u001b[0m\u001b[38;5;183m  0.3635215794306703 \u001b[35m|\u001b[0m\u001b[38;5;183m  0.5424762270272911 \u001b[35m|\u001b[0m\u001b[38;5;183m  0.2142195634485001 \u001b[35m|\u001b[0m\u001b[38;5;183m 0.22723817825317383 \u001b[35m|\u001b[0m\u001b[38;5;183m\n",
      "\u001b[35m|\u001b[0m\u001b[38;5;183m        MultinomialNB_2        \u001b[35m|\u001b[0m\u001b[38;5;183m        MultinomialNB(alpha=0.5, fit_prior=False)         \u001b[35m|\u001b[0m\u001b[38;5;183m  0.1273609830242561 \u001b[35m|\u001b[0m\u001b[38;5;183m 0.35858585858585856 \u001b[35m|\u001b[0m\u001b[38;5;183m  0.5219899767251919 \u001b[35m|\u001b[0m\u001b[38;5;183m  0.208298060694274  \u001b[35m|\u001b[0m\u001b[38;5;183m 0.21587824821472168 \u001b[35m|\u001b[0m\u001b[38;5;183m\n",
      "\u001b[35m|\u001b[0m\u001b[38;5;183m        MultinomialNB_4        \u001b[35m|\u001b[0m\u001b[38;5;183m              MultinomialNB(fit_prior=False)              \u001b[35m|\u001b[0m\u001b[38;5;183m 0.11391014599586449 \u001b[35m|\u001b[0m\u001b[38;5;183m  0.3538797061524334 \u001b[35m|\u001b[0m\u001b[38;5;183m 0.37393178117532616 \u001b[35m|\u001b[0m\u001b[38;5;183m  0.2036080906731673 \u001b[35m|\u001b[0m\u001b[38;5;183m  0.2264692783355713 \u001b[35m|\u001b[0m\u001b[38;5;183m\n",
      "\u001b[35m|\u001b[0m\u001b[38;5;183m        MultinomialNB_1        \u001b[35m|\u001b[0m\u001b[38;5;183m                 MultinomialNB(alpha=0.5)                 \u001b[35m|\u001b[0m\u001b[38;5;183m 0.11096695516354471 \u001b[35m|\u001b[0m\u001b[38;5;183m  0.3530762167125803 \u001b[35m|\u001b[0m\u001b[38;5;183m 0.38910532623627453 \u001b[35m|\u001b[0m\u001b[38;5;183m 0.20265256720405883 \u001b[35m|\u001b[0m\u001b[38;5;183m 0.21912384033203125 \u001b[35m|\u001b[0m\u001b[38;5;183m\n",
      "\u001b[35m|\u001b[0m\u001b[38;5;183m        MultinomialNB_3        \u001b[35m|\u001b[0m\u001b[38;5;183m                     MultinomialNB()                      \u001b[35m|\u001b[0m\u001b[38;5;183m 0.10543566261284398 \u001b[35m|\u001b[0m\u001b[38;5;183m  0.3506657483930211 \u001b[35m|\u001b[0m\u001b[38;5;183m 0.21666781648844427 \u001b[35m|\u001b[0m\u001b[38;5;183m 0.20068697411373418 \u001b[35m|\u001b[0m\u001b[38;5;183m 0.21570444107055664 \u001b[35m|\u001b[0m\u001b[38;5;183m\n",
      "\u001b[35m|\u001b[0m\u001b[38;5;183m             SVC_1             \u001b[35m|\u001b[0m\u001b[38;5;183m                    SVC(kernel='poly')                    \u001b[35m|\u001b[0m\u001b[38;5;183m  0.104333899742912  \u001b[35m|\u001b[0m\u001b[38;5;183m 0.35020661157024796 \u001b[35m|\u001b[0m\u001b[38;5;183m 0.22998966348914668 \u001b[35m|\u001b[0m\u001b[38;5;183m 0.20032141422257937 \u001b[35m|\u001b[0m\u001b[38;5;183m   419.924857378006  \u001b[35m|\u001b[0m\u001b[38;5;183m\n",
      "\u001b[35m|\u001b[0m\u001b[38;5;183m        SGDClassifier_6        \u001b[35m|\u001b[0m\u001b[38;5;183m     SGDClassifier(alpha=0.01, loss='squared_hinge')      \u001b[35m|\u001b[0m\u001b[38;5;183m 0.10364826941066416 \u001b[35m|\u001b[0m\u001b[38;5;183m 0.34974747474747475 \u001b[35m|\u001b[0m\u001b[38;5;183m 0.06994949494949496 \u001b[35m|\u001b[0m\u001b[38;5;183m         0.2         \u001b[35m|\u001b[0m\u001b[38;5;183m  0.8021707534790039 \u001b[35m|\u001b[0m\u001b[38;5;183m\n",
      "\u001b[38;5;219m+\u001b[0m\u001b[38;5;183m\u001b[38;5;147m-\u001b[0m\u001b[38;5;183m\u001b[38;5;147m-\u001b[0m\u001b[38;5;183m\u001b[38;5;147m-\u001b[0m\u001b[38;5;183m\u001b[38;5;147m-\u001b[0m\u001b[38;5;183m\u001b[38;5;147m-\u001b[0m\u001b[38;5;183m\u001b[38;5;147m-\u001b[0m\u001b[38;5;183m\u001b[38;5;147m-\u001b[0m\u001b[38;5;183m\u001b[38;5;147m-\u001b[0m\u001b[38;5;183m\u001b[38;5;147m-\u001b[0m\u001b[38;5;183m\u001b[38;5;147m-\u001b[0m\u001b[38;5;183m\u001b[38;5;147m-\u001b[0m\u001b[38;5;183m\u001b[38;5;147m-\u001b[0m\u001b[38;5;183m\u001b[38;5;147m-\u001b[0m\u001b[38;5;183m\u001b[38;5;147m-\u001b[0m\u001b[38;5;183m\u001b[38;5;147m-\u001b[0m\u001b[38;5;183m\u001b[38;5;147m-\u001b[0m\u001b[38;5;183m\u001b[38;5;147m-\u001b[0m\u001b[38;5;183m\u001b[38;5;147m-\u001b[0m\u001b[38;5;183m\u001b[38;5;147m-\u001b[0m\u001b[38;5;183m\u001b[38;5;147m-\u001b[0m\u001b[38;5;183m\u001b[38;5;147m-\u001b[0m\u001b[38;5;183m\u001b[38;5;147m-\u001b[0m\u001b[38;5;183m\u001b[38;5;147m-\u001b[0m\u001b[38;5;183m\u001b[38;5;147m-\u001b[0m\u001b[38;5;183m\u001b[38;5;147m-\u001b[0m\u001b[38;5;183m\u001b[38;5;147m-\u001b[0m\u001b[38;5;183m\u001b[38;5;147m-\u001b[0m\u001b[38;5;183m\u001b[38;5;147m-\u001b[0m\u001b[38;5;183m\u001b[38;5;147m-\u001b[0m\u001b[38;5;183m\u001b[38;5;147m-\u001b[0m\u001b[38;5;183m\u001b[38;5;147m-\u001b[0m\u001b[38;5;183m\u001b[38;5;219m+\u001b[0m\u001b[38;5;183m\u001b[38;5;147m-\u001b[0m\u001b[38;5;183m\u001b[38;5;147m-\u001b[0m\u001b[38;5;183m\u001b[38;5;147m-\u001b[0m\u001b[38;5;183m\u001b[38;5;147m-\u001b[0m\u001b[38;5;183m\u001b[38;5;147m-\u001b[0m\u001b[38;5;183m\u001b[38;5;147m-\u001b[0m\u001b[38;5;183m\u001b[38;5;147m-\u001b[0m\u001b[38;5;183m\u001b[38;5;147m-\u001b[0m\u001b[38;5;183m\u001b[38;5;147m-\u001b[0m\u001b[38;5;183m\u001b[38;5;147m-\u001b[0m\u001b[38;5;183m\u001b[38;5;147m-\u001b[0m\u001b[38;5;183m\u001b[38;5;147m-\u001b[0m\u001b[38;5;183m\u001b[38;5;147m-\u001b[0m\u001b[38;5;183m\u001b[38;5;147m-\u001b[0m\u001b[38;5;183m\u001b[38;5;147m-\u001b[0m\u001b[38;5;183m\u001b[38;5;147m-\u001b[0m\u001b[38;5;183m\u001b[38;5;147m-\u001b[0m\u001b[38;5;183m\u001b[38;5;147m-\u001b[0m\u001b[38;5;183m\u001b[38;5;147m-\u001b[0m\u001b[38;5;183m\u001b[38;5;147m-\u001b[0m\u001b[38;5;183m\u001b[38;5;147m-\u001b[0m\u001b[38;5;183m\u001b[38;5;147m-\u001b[0m\u001b[38;5;183m\u001b[38;5;147m-\u001b[0m\u001b[38;5;183m\u001b[38;5;147m-\u001b[0m\u001b[38;5;183m\u001b[38;5;147m-\u001b[0m\u001b[38;5;183m\u001b[38;5;147m-\u001b[0m\u001b[38;5;183m\u001b[38;5;147m-\u001b[0m\u001b[38;5;183m\u001b[38;5;147m-\u001b[0m\u001b[38;5;183m\u001b[38;5;147m-\u001b[0m\u001b[38;5;183m\u001b[38;5;147m-\u001b[0m\u001b[38;5;183m\u001b[38;5;147m-\u001b[0m\u001b[38;5;183m\u001b[38;5;147m-\u001b[0m\u001b[38;5;183m\u001b[38;5;147m-\u001b[0m\u001b[38;5;183m\u001b[38;5;147m-\u001b[0m\u001b[38;5;183m\u001b[38;5;147m-\u001b[0m\u001b[38;5;183m\u001b[38;5;147m-\u001b[0m\u001b[38;5;183m\u001b[38;5;147m-\u001b[0m\u001b[38;5;183m\u001b[38;5;147m-\u001b[0m\u001b[38;5;183m\u001b[38;5;147m-\u001b[0m\u001b[38;5;183m\u001b[38;5;147m-\u001b[0m\u001b[38;5;183m\u001b[38;5;147m-\u001b[0m\u001b[38;5;183m\u001b[38;5;147m-\u001b[0m\u001b[38;5;183m\u001b[38;5;147m-\u001b[0m\u001b[38;5;183m\u001b[38;5;147m-\u001b[0m\u001b[38;5;183m\u001b[38;5;147m-\u001b[0m\u001b[38;5;183m\u001b[38;5;147m-\u001b[0m\u001b[38;5;183m\u001b[38;5;147m-\u001b[0m\u001b[38;5;183m\u001b[38;5;147m-\u001b[0m\u001b[38;5;183m\u001b[38;5;147m-\u001b[0m\u001b[38;5;183m\u001b[38;5;147m-\u001b[0m\u001b[38;5;183m\u001b[38;5;147m-\u001b[0m\u001b[38;5;183m\u001b[38;5;147m-\u001b[0m\u001b[38;5;183m\u001b[38;5;147m-\u001b[0m\u001b[38;5;183m\u001b[38;5;147m-\u001b[0m\u001b[38;5;183m\u001b[38;5;147m-\u001b[0m\u001b[38;5;183m\u001b[38;5;147m-\u001b[0m\u001b[38;5;183m\u001b[38;5;147m-\u001b[0m\u001b[38;5;183m\u001b[38;5;147m-\u001b[0m\u001b[38;5;183m\u001b[38;5;219m+\u001b[0m\u001b[38;5;183m\u001b[38;5;147m-\u001b[0m\u001b[38;5;183m\u001b[38;5;147m-\u001b[0m\u001b[38;5;183m\u001b[38;5;147m-\u001b[0m\u001b[38;5;183m\u001b[38;5;147m-\u001b[0m\u001b[38;5;183m\u001b[38;5;147m-\u001b[0m\u001b[38;5;183m\u001b[38;5;147m-\u001b[0m\u001b[38;5;183m\u001b[38;5;147m-\u001b[0m\u001b[38;5;183m\u001b[38;5;147m-\u001b[0m\u001b[38;5;183m\u001b[38;5;147m-\u001b[0m\u001b[38;5;183m\u001b[38;5;147m-\u001b[0m\u001b[38;5;183m\u001b[38;5;147m-\u001b[0m\u001b[38;5;183m\u001b[38;5;147m-\u001b[0m\u001b[38;5;183m\u001b[38;5;147m-\u001b[0m\u001b[38;5;183m\u001b[38;5;147m-\u001b[0m\u001b[38;5;183m\u001b[38;5;147m-\u001b[0m\u001b[38;5;183m\u001b[38;5;147m-\u001b[0m\u001b[38;5;183m\u001b[38;5;147m-\u001b[0m\u001b[38;5;183m\u001b[38;5;147m-\u001b[0m\u001b[38;5;183m\u001b[38;5;147m-\u001b[0m\u001b[38;5;183m\u001b[38;5;147m-\u001b[0m\u001b[38;5;183m\u001b[38;5;147m-\u001b[0m\u001b[38;5;183m\u001b[38;5;219m+\u001b[0m\u001b[38;5;183m\u001b[38;5;147m-\u001b[0m\u001b[38;5;183m\u001b[38;5;147m-\u001b[0m\u001b[38;5;183m\u001b[38;5;147m-\u001b[0m\u001b[38;5;183m\u001b[38;5;147m-\u001b[0m\u001b[38;5;183m\u001b[38;5;147m-\u001b[0m\u001b[38;5;183m\u001b[38;5;147m-\u001b[0m\u001b[38;5;183m\u001b[38;5;147m-\u001b[0m\u001b[38;5;183m\u001b[38;5;147m-\u001b[0m\u001b[38;5;183m\u001b[38;5;147m-\u001b[0m\u001b[38;5;183m\u001b[38;5;147m-\u001b[0m\u001b[38;5;183m\u001b[38;5;147m-\u001b[0m\u001b[38;5;183m\u001b[38;5;147m-\u001b[0m\u001b[38;5;183m\u001b[38;5;147m-\u001b[0m\u001b[38;5;183m\u001b[38;5;147m-\u001b[0m\u001b[38;5;183m\u001b[38;5;147m-\u001b[0m\u001b[38;5;183m\u001b[38;5;147m-\u001b[0m\u001b[38;5;183m\u001b[38;5;147m-\u001b[0m\u001b[38;5;183m\u001b[38;5;147m-\u001b[0m\u001b[38;5;183m\u001b[38;5;147m-\u001b[0m\u001b[38;5;183m\u001b[38;5;147m-\u001b[0m\u001b[38;5;183m\u001b[38;5;147m-\u001b[0m\u001b[38;5;183m\u001b[38;5;219m+\u001b[0m\u001b[38;5;183m\u001b[38;5;147m-\u001b[0m\u001b[38;5;183m\u001b[38;5;147m-\u001b[0m\u001b[38;5;183m\u001b[38;5;147m-\u001b[0m\u001b[38;5;183m\u001b[38;5;147m-\u001b[0m\u001b[38;5;183m\u001b[38;5;147m-\u001b[0m\u001b[38;5;183m\u001b[38;5;147m-\u001b[0m\u001b[38;5;183m\u001b[38;5;147m-\u001b[0m\u001b[38;5;183m\u001b[38;5;147m-\u001b[0m\u001b[38;5;183m\u001b[38;5;147m-\u001b[0m\u001b[38;5;183m\u001b[38;5;147m-\u001b[0m\u001b[38;5;183m\u001b[38;5;147m-\u001b[0m\u001b[38;5;183m\u001b[38;5;147m-\u001b[0m\u001b[38;5;183m\u001b[38;5;147m-\u001b[0m\u001b[38;5;183m\u001b[38;5;147m-\u001b[0m\u001b[38;5;183m\u001b[38;5;147m-\u001b[0m\u001b[38;5;183m\u001b[38;5;147m-\u001b[0m\u001b[38;5;183m\u001b[38;5;147m-\u001b[0m\u001b[38;5;183m\u001b[38;5;147m-\u001b[0m\u001b[38;5;183m\u001b[38;5;147m-\u001b[0m\u001b[38;5;183m\u001b[38;5;147m-\u001b[0m\u001b[38;5;183m\u001b[38;5;147m-\u001b[0m\u001b[38;5;183m\u001b[38;5;219m+\u001b[0m\u001b[38;5;183m\u001b[38;5;147m-\u001b[0m\u001b[38;5;183m\u001b[38;5;147m-\u001b[0m\u001b[38;5;183m\u001b[38;5;147m-\u001b[0m\u001b[38;5;183m\u001b[38;5;147m-\u001b[0m\u001b[38;5;183m\u001b[38;5;147m-\u001b[0m\u001b[38;5;183m\u001b[38;5;147m-\u001b[0m\u001b[38;5;183m\u001b[38;5;147m-\u001b[0m\u001b[38;5;183m\u001b[38;5;147m-\u001b[0m\u001b[38;5;183m\u001b[38;5;147m-\u001b[0m\u001b[38;5;183m\u001b[38;5;147m-\u001b[0m\u001b[38;5;183m\u001b[38;5;147m-\u001b[0m\u001b[38;5;183m\u001b[38;5;147m-\u001b[0m\u001b[38;5;183m\u001b[38;5;147m-\u001b[0m\u001b[38;5;183m\u001b[38;5;147m-\u001b[0m\u001b[38;5;183m\u001b[38;5;147m-\u001b[0m\u001b[38;5;183m\u001b[38;5;147m-\u001b[0m\u001b[38;5;183m\u001b[38;5;147m-\u001b[0m\u001b[38;5;183m\u001b[38;5;147m-\u001b[0m\u001b[38;5;183m\u001b[38;5;147m-\u001b[0m\u001b[38;5;183m\u001b[38;5;147m-\u001b[0m\u001b[38;5;183m\u001b[38;5;147m-\u001b[0m\u001b[38;5;183m\u001b[38;5;219m+\u001b[0m\u001b[38;5;183m\u001b[38;5;147m-\u001b[0m\u001b[38;5;183m\u001b[38;5;147m-\u001b[0m\u001b[38;5;183m\u001b[38;5;147m-\u001b[0m\u001b[38;5;183m\u001b[38;5;147m-\u001b[0m\u001b[38;5;183m\u001b[38;5;147m-\u001b[0m\u001b[38;5;183m\u001b[38;5;147m-\u001b[0m\u001b[38;5;183m\u001b[38;5;147m-\u001b[0m\u001b[38;5;183m\u001b[38;5;147m-\u001b[0m\u001b[38;5;183m\u001b[38;5;147m-\u001b[0m\u001b[38;5;183m\u001b[38;5;147m-\u001b[0m\u001b[38;5;183m\u001b[38;5;147m-\u001b[0m\u001b[38;5;183m\u001b[38;5;147m-\u001b[0m\u001b[38;5;183m\u001b[38;5;147m-\u001b[0m\u001b[38;5;183m\u001b[38;5;147m-\u001b[0m\u001b[38;5;183m\u001b[38;5;147m-\u001b[0m\u001b[38;5;183m\u001b[38;5;147m-\u001b[0m\u001b[38;5;183m\u001b[38;5;147m-\u001b[0m\u001b[38;5;183m\u001b[38;5;147m-\u001b[0m\u001b[38;5;183m\u001b[38;5;147m-\u001b[0m\u001b[38;5;183m\u001b[38;5;147m-\u001b[0m\u001b[38;5;183m\u001b[38;5;147m-\u001b[0m\u001b[38;5;183m\u001b[38;5;219m+\u001b[0m\u001b[38;5;183m\u001b[0m\n"
     ]
    }
   ],
   "source": [
    "##### POUR VISUALISER TOUS LES RÉSULTADOS ! #####\n",
    "def table_results(models):\n",
    "\n",
    "    bests_of_the_bests = ColorTable(theme=Themes.LAVENDER)\n",
    "    bests_of_the_bests.field_names = [\"Algorithme\", \"Hyperparamètres\", \"Macro f1\", \"Accuracy\", \"Precision\", \"Rappel\", \"Temps d'exécution\"]\n",
    "\n",
    "    best_models = sorted(models, key=lambda x: x.scores[\"macro avg\"][\"f1-score\"], reverse=True)\n",
    "    \n",
    "    for model in best_models:\n",
    "        bests_of_the_bests.add_row([model.name, model.model, model.scores[\"macro avg\"][\"f1-score\"], model.scores[\"accuracy\"], model.scores[\"macro avg\"][\"precision\"], model.scores[\"macro avg\"][\"recall\"], model.running_time])\n",
    "\n",
    "    return bests_of_the_bests\n",
    "\n",
    "print(table_results(Model.all_models))"
   ]
  },
  {
   "cell_type": "markdown",
   "metadata": {},
   "source": [
    "<a id=\"a-choix-des-algorithmes\"></a>\n",
    "## **A. Choix des algorithmes**"
   ]
  },
  {
   "cell_type": "markdown",
   "metadata": {},
   "source": [
    "<a id=\"b-organisation-de-la-comparaison\"></a>\n",
    "## **B. Organisation de la comparaison**"
   ]
  },
  {
   "cell_type": "code",
   "execution_count": 57,
   "metadata": {},
   "outputs": [],
   "source": [
    "def balance_classes(df, strategy=\"downsample\"):\n",
    "    \"\"\"fonction qui équilibre les classes en appliquant soit un downsampling, soit un upsampling \"\"\"\n",
    "\n",
    "    classes = df[\"label\"].unique()\n",
    "    df_balanced = pd.DataFrame()\n",
    "\n",
    "    if strategy == \"downsample\":\n",
    "        target_size = df[\"label\"].value_counts().min()\n",
    "    elif strategy == \"upsample\":\n",
    "        target_size = df[\"label\"].value_counts().max()\n",
    "\n",
    "    for cls in classes:\n",
    "        df_cls = df[df[\"label\"] == cls]\n",
    "        if strategy == \"downsample\":\n",
    "            df_cls_resampled = resample(df_cls, replace=False, n_samples=target_size, random_state=42)\n",
    "        elif strategy == \"upsample\":\n",
    "            df_cls_resampled = resample(df_cls, replace=True, n_samples=target_size, random_state=42)\n",
    "        df_balanced = pd.concat([df_balanced, df_cls_resampled])\n",
    "\n",
    "    return df_balanced"
   ]
  },
  {
   "cell_type": "markdown",
   "metadata": {},
   "source": [
    "### upsample"
   ]
  },
  {
   "cell_type": "code",
   "execution_count": 58,
   "metadata": {},
   "outputs": [],
   "source": [
    "df_balanced_up = balance_classes(df_train, strategy=\"upsample\")"
   ]
  },
  {
   "cell_type": "code",
   "execution_count": 59,
   "metadata": {},
   "outputs": [
    {
     "name": "stdout",
     "output_type": "stream",
     "text": [
      "Distribution des classes avant équilibrage :\n",
      "label\n",
      "PPE-DE       4635\n",
      "PSE          3650\n",
      "GUE-NGL      1823\n",
      "Verts-ALE    1609\n",
      "ELDR         1351\n",
      "Name: count, dtype: int64\n",
      "\n",
      "Distribution des classes après équilibrage :\n",
      "label\n",
      "PPE-DE       4635\n",
      "PSE          4635\n",
      "Verts-ALE    4635\n",
      "ELDR         4635\n",
      "GUE-NGL      4635\n",
      "Name: count, dtype: int64\n"
     ]
    }
   ],
   "source": [
    "print(\"Distribution des classes avant équilibrage :\")\n",
    "print(df_train[\"label\"].value_counts())\n",
    "\n",
    "print(\"\\nDistribution des classes après équilibrage :\")\n",
    "print(df_balanced_up[\"label\"].value_counts())"
   ]
  },
  {
   "cell_type": "code",
   "execution_count": 60,
   "metadata": {},
   "outputs": [
    {
     "data": {
      "image/png": "[encoded data removed]",
      "text/plain": [
       "<Figure size 1200x600 with 2 Axes>"
      ]
     },
     "metadata": {},
     "output_type": "display_data"
    }
   ],
   "source": [
    "plt.figure(figsize=(12, 6))\n",
    "plt.subplot(1, 2, 1)\n",
    "df_train[\"label\"].value_counts().plot(kind=\"bar\", color=\"orchid\", title=\"Avant équilibrage\")\n",
    "plt.subplot(1, 2, 2)\n",
    "df_balanced_up[\"label\"].value_counts().plot(kind=\"bar\", color=\"pink\", title=\"Après équilibrage\")\n",
    "plt.tight_layout()\n",
    "plt.savefig(\"article/equilibrage.png\", dpi=300, bbox_inches=\"tight\")\n",
    "plt.show()"
   ]
  },
  {
   "cell_type": "markdown",
   "metadata": {},
   "source": [
    "### downsample"
   ]
  },
  {
   "cell_type": "code",
   "execution_count": 61,
   "metadata": {},
   "outputs": [],
   "source": [
    "df_balanced_down = balance_classes(df_train, strategy=\"downsample\")"
   ]
  },
  {
   "cell_type": "code",
   "execution_count": 62,
   "metadata": {},
   "outputs": [
    {
     "name": "stdout",
     "output_type": "stream",
     "text": [
      "Distribution des classes avant équilibrage :\n",
      "label\n",
      "PPE-DE       4635\n",
      "PSE          3650\n",
      "GUE-NGL      1823\n",
      "Verts-ALE    1609\n",
      "ELDR         1351\n",
      "Name: count, dtype: int64\n",
      "\n",
      "Distribution des classes après équilibrage :\n",
      "label\n",
      "PPE-DE       1351\n",
      "PSE          1351\n",
      "Verts-ALE    1351\n",
      "ELDR         1351\n",
      "GUE-NGL      1351\n",
      "Name: count, dtype: int64\n"
     ]
    }
   ],
   "source": [
    "print(\"Distribution des classes avant équilibrage :\")\n",
    "print(df_train[\"label\"].value_counts())\n",
    "\n",
    "print(\"\\nDistribution des classes après équilibrage :\")\n",
    "print(df_balanced_down[\"label\"].value_counts())"
   ]
  },
  {
   "cell_type": "markdown",
   "metadata": {},
   "source": [
    "### On revectorise ces new train data"
   ]
  },
  {
   "cell_type": "code",
   "execution_count": 63,
   "metadata": {},
   "outputs": [],
   "source": [
    "df_balanced_up[\"texte_nettoyé\"] = df_balanced_up[\"texte\"].map(get_beautiful_clean_text)"
   ]
  },
  {
   "cell_type": "code",
   "execution_count": 64,
   "metadata": {},
   "outputs": [],
   "source": [
    "vectorizer = TfidfVectorizer(max_df=0.5, ngram_range=(1, 2))  \n",
    "x_train_balanced_up =  vectorizer.fit_transform(df_balanced_up[\"texte_nettoyé\"])\n",
    "y_train_balanced_up = df_balanced_up[\"label\"]\n",
    "x_test_balanced_up =  vectorizer.transform(df_test[\"texte_nettoyé\"])"
   ]
  },
  {
   "cell_type": "code",
   "execution_count": 65,
   "metadata": {},
   "outputs": [],
   "source": [
    "df_balanced_down[\"texte_nettoyé\"] = df_balanced_down[\"texte\"].map(get_beautiful_clean_text)"
   ]
  },
  {
   "cell_type": "code",
   "execution_count": 66,
   "metadata": {},
   "outputs": [],
   "source": [
    "vectorizer = TfidfVectorizer(max_df=0.5, ngram_range=(1, 2))  \n",
    "x_train_balanced_down =  vectorizer.fit_transform(df_balanced_down[\"texte_nettoyé\"])\n",
    "y_train_balanced_down = df_balanced_down[\"label\"]\n",
    "x_test_balanced_down =  vectorizer.transform(df_test[\"texte_nettoyé\"])"
   ]
  },
  {
   "cell_type": "markdown",
   "metadata": {},
   "source": [
    "### On peut ensuite ré-entrainer"
   ]
  },
  {
   "cell_type": "code",
   "execution_count": 67,
   "metadata": {},
   "outputs": [],
   "source": [
    "def test_three_best_models_up(models, x_train, y_train, x_test, y_test):\n",
    "                                 \n",
    "    for model_name, model_dict in models.items():\n",
    "        if model_name in [\"PassiveAggressiveClassifier\", \"SGDClassifier\", \"LinearSVC\"]:\n",
    "            print(f\"On teste le modèle {model_name} !\")\n",
    "            hyperparameters_training(f\"balanced_up_{model_name}\", model_dict, x_train, y_train, x_test, y_test)"
   ]
  },
  {
   "cell_type": "code",
   "execution_count": 68,
   "metadata": {},
   "outputs": [
    {
     "name": "stdout",
     "output_type": "stream",
     "text": [
      "On teste le modèle SGDClassifier !\n",
      "On teste le modèle LinearSVC !\n",
      "On teste le modèle PassiveAggressiveClassifier !\n",
      "\u001b[38;5;219m+\u001b[0m\u001b[38;5;183m\u001b[38;5;147m-\u001b[0m\u001b[38;5;183m\u001b[38;5;147m-\u001b[0m\u001b[38;5;183m\u001b[38;5;147m-\u001b[0m\u001b[38;5;183m\u001b[38;5;147m-\u001b[0m\u001b[38;5;183m\u001b[38;5;147m-\u001b[0m\u001b[38;5;183m\u001b[38;5;147m-\u001b[0m\u001b[38;5;183m\u001b[38;5;147m-\u001b[0m\u001b[38;5;183m\u001b[38;5;147m-\u001b[0m\u001b[38;5;183m\u001b[38;5;147m-\u001b[0m\u001b[38;5;183m\u001b[38;5;147m-\u001b[0m\u001b[38;5;183m\u001b[38;5;147m-\u001b[0m\u001b[38;5;183m\u001b[38;5;147m-\u001b[0m\u001b[38;5;183m\u001b[38;5;147m-\u001b[0m\u001b[38;5;183m\u001b[38;5;147m-\u001b[0m\u001b[38;5;183m\u001b[38;5;147m-\u001b[0m\u001b[38;5;183m\u001b[38;5;147m-\u001b[0m\u001b[38;5;183m\u001b[38;5;147m-\u001b[0m\u001b[38;5;183m\u001b[38;5;147m-\u001b[0m\u001b[38;5;183m\u001b[38;5;147m-\u001b[0m\u001b[38;5;183m\u001b[38;5;147m-\u001b[0m\u001b[38;5;183m\u001b[38;5;147m-\u001b[0m\u001b[38;5;183m\u001b[38;5;147m-\u001b[0m\u001b[38;5;183m\u001b[38;5;147m-\u001b[0m\u001b[38;5;183m\u001b[38;5;147m-\u001b[0m\u001b[38;5;183m\u001b[38;5;147m-\u001b[0m\u001b[38;5;183m\u001b[38;5;147m-\u001b[0m\u001b[38;5;183m\u001b[38;5;147m-\u001b[0m\u001b[38;5;183m\u001b[38;5;147m-\u001b[0m\u001b[38;5;183m\u001b[38;5;147m-\u001b[0m\u001b[38;5;183m\u001b[38;5;147m-\u001b[0m\u001b[38;5;183m\u001b[38;5;147m-\u001b[0m\u001b[38;5;183m\u001b[38;5;147m-\u001b[0m\u001b[38;5;183m\u001b[38;5;147m-\u001b[0m\u001b[38;5;183m\u001b[38;5;147m-\u001b[0m\u001b[38;5;183m\u001b[38;5;147m-\u001b[0m\u001b[38;5;183m\u001b[38;5;147m-\u001b[0m\u001b[38;5;183m\u001b[38;5;147m-\u001b[0m\u001b[38;5;183m\u001b[38;5;147m-\u001b[0m\u001b[38;5;183m\u001b[38;5;147m-\u001b[0m\u001b[38;5;183m\u001b[38;5;147m-\u001b[0m\u001b[38;5;183m\u001b[38;5;147m-\u001b[0m\u001b[38;5;183m\u001b[38;5;147m-\u001b[0m\u001b[38;5;183m\u001b[38;5;147m-\u001b[0m\u001b[38;5;183m\u001b[38;5;219m+\u001b[0m\u001b[38;5;183m\u001b[38;5;147m-\u001b[0m\u001b[38;5;183m\u001b[38;5;147m-\u001b[0m\u001b[38;5;183m\u001b[38;5;147m-\u001b[0m\u001b[38;5;183m\u001b[38;5;147m-\u001b[0m\u001b[38;5;183m\u001b[38;5;147m-\u001b[0m\u001b[38;5;183m\u001b[38;5;147m-\u001b[0m\u001b[38;5;183m\u001b[38;5;147m-\u001b[0m\u001b[38;5;183m\u001b[38;5;147m-\u001b[0m\u001b[38;5;183m\u001b[38;5;147m-\u001b[0m\u001b[38;5;183m\u001b[38;5;147m-\u001b[0m\u001b[38;5;183m\u001b[38;5;147m-\u001b[0m\u001b[38;5;183m\u001b[38;5;147m-\u001b[0m\u001b[38;5;183m\u001b[38;5;147m-\u001b[0m\u001b[38;5;183m\u001b[38;5;147m-\u001b[0m\u001b[38;5;183m\u001b[38;5;147m-\u001b[0m\u001b[38;5;183m\u001b[38;5;147m-\u001b[0m\u001b[38;5;183m\u001b[38;5;147m-\u001b[0m\u001b[38;5;183m\u001b[38;5;147m-\u001b[0m\u001b[38;5;183m\u001b[38;5;147m-\u001b[0m\u001b[38;5;183m\u001b[38;5;147m-\u001b[0m\u001b[38;5;183m\u001b[38;5;147m-\u001b[0m\u001b[38;5;183m\u001b[38;5;147m-\u001b[0m\u001b[38;5;183m\u001b[38;5;147m-\u001b[0m\u001b[38;5;183m\u001b[38;5;147m-\u001b[0m\u001b[38;5;183m\u001b[38;5;147m-\u001b[0m\u001b[38;5;183m\u001b[38;5;147m-\u001b[0m\u001b[38;5;183m\u001b[38;5;147m-\u001b[0m\u001b[38;5;183m\u001b[38;5;147m-\u001b[0m\u001b[38;5;183m\u001b[38;5;147m-\u001b[0m\u001b[38;5;183m\u001b[38;5;147m-\u001b[0m\u001b[38;5;183m\u001b[38;5;147m-\u001b[0m\u001b[38;5;183m\u001b[38;5;147m-\u001b[0m\u001b[38;5;183m\u001b[38;5;147m-\u001b[0m\u001b[38;5;183m\u001b[38;5;147m-\u001b[0m\u001b[38;5;183m\u001b[38;5;147m-\u001b[0m\u001b[38;5;183m\u001b[38;5;147m-\u001b[0m\u001b[38;5;183m\u001b[38;5;147m-\u001b[0m\u001b[38;5;183m\u001b[38;5;147m-\u001b[0m\u001b[38;5;183m\u001b[38;5;147m-\u001b[0m\u001b[38;5;183m\u001b[38;5;147m-\u001b[0m\u001b[38;5;183m\u001b[38;5;147m-\u001b[0m\u001b[38;5;183m\u001b[38;5;147m-\u001b[0m\u001b[38;5;183m\u001b[38;5;147m-\u001b[0m\u001b[38;5;183m\u001b[38;5;147m-\u001b[0m\u001b[38;5;183m\u001b[38;5;147m-\u001b[0m\u001b[38;5;183m\u001b[38;5;147m-\u001b[0m\u001b[38;5;183m\u001b[38;5;147m-\u001b[0m\u001b[38;5;183m\u001b[38;5;147m-\u001b[0m\u001b[38;5;183m\u001b[38;5;147m-\u001b[0m\u001b[38;5;183m\u001b[38;5;147m-\u001b[0m\u001b[38;5;183m\u001b[38;5;147m-\u001b[0m\u001b[38;5;183m\u001b[38;5;147m-\u001b[0m\u001b[38;5;183m\u001b[38;5;147m-\u001b[0m\u001b[38;5;183m\u001b[38;5;147m-\u001b[0m\u001b[38;5;183m\u001b[38;5;147m-\u001b[0m\u001b[38;5;183m\u001b[38;5;147m-\u001b[0m\u001b[38;5;183m\u001b[38;5;147m-\u001b[0m\u001b[38;5;183m\u001b[38;5;147m-\u001b[0m\u001b[38;5;183m\u001b[38;5;219m+\u001b[0m\u001b[38;5;183m\u001b[38;5;147m-\u001b[0m\u001b[38;5;183m\u001b[38;5;147m-\u001b[0m\u001b[38;5;183m\u001b[38;5;147m-\u001b[0m\u001b[38;5;183m\u001b[38;5;147m-\u001b[0m\u001b[38;5;183m\u001b[38;5;147m-\u001b[0m\u001b[38;5;183m\u001b[38;5;147m-\u001b[0m\u001b[38;5;183m\u001b[38;5;147m-\u001b[0m\u001b[38;5;183m\u001b[38;5;147m-\u001b[0m\u001b[38;5;183m\u001b[38;5;147m-\u001b[0m\u001b[38;5;183m\u001b[38;5;147m-\u001b[0m\u001b[38;5;183m\u001b[38;5;147m-\u001b[0m\u001b[38;5;183m\u001b[38;5;147m-\u001b[0m\u001b[38;5;183m\u001b[38;5;147m-\u001b[0m\u001b[38;5;183m\u001b[38;5;147m-\u001b[0m\u001b[38;5;183m\u001b[38;5;147m-\u001b[0m\u001b[38;5;183m\u001b[38;5;147m-\u001b[0m\u001b[38;5;183m\u001b[38;5;147m-\u001b[0m\u001b[38;5;183m\u001b[38;5;147m-\u001b[0m\u001b[38;5;183m\u001b[38;5;147m-\u001b[0m\u001b[38;5;183m\u001b[38;5;147m-\u001b[0m\u001b[38;5;183m\u001b[38;5;147m-\u001b[0m\u001b[38;5;183m\u001b[38;5;219m+\u001b[0m\u001b[38;5;183m\u001b[38;5;147m-\u001b[0m\u001b[38;5;183m\u001b[38;5;147m-\u001b[0m\u001b[38;5;183m\u001b[38;5;147m-\u001b[0m\u001b[38;5;183m\u001b[38;5;147m-\u001b[0m\u001b[38;5;183m\u001b[38;5;147m-\u001b[0m\u001b[38;5;183m\u001b[38;5;147m-\u001b[0m\u001b[38;5;183m\u001b[38;5;147m-\u001b[0m\u001b[38;5;183m\u001b[38;5;147m-\u001b[0m\u001b[38;5;183m\u001b[38;5;147m-\u001b[0m\u001b[38;5;183m\u001b[38;5;147m-\u001b[0m\u001b[38;5;183m\u001b[38;5;147m-\u001b[0m\u001b[38;5;183m\u001b[38;5;147m-\u001b[0m\u001b[38;5;183m\u001b[38;5;147m-\u001b[0m\u001b[38;5;183m\u001b[38;5;147m-\u001b[0m\u001b[38;5;183m\u001b[38;5;147m-\u001b[0m\u001b[38;5;183m\u001b[38;5;147m-\u001b[0m\u001b[38;5;183m\u001b[38;5;147m-\u001b[0m\u001b[38;5;183m\u001b[38;5;147m-\u001b[0m\u001b[38;5;183m\u001b[38;5;147m-\u001b[0m\u001b[38;5;183m\u001b[38;5;147m-\u001b[0m\u001b[38;5;183m\u001b[38;5;147m-\u001b[0m\u001b[38;5;183m\u001b[38;5;219m+\u001b[0m\u001b[38;5;183m\u001b[38;5;147m-\u001b[0m\u001b[38;5;183m\u001b[38;5;147m-\u001b[0m\u001b[38;5;183m\u001b[38;5;147m-\u001b[0m\u001b[38;5;183m\u001b[38;5;147m-\u001b[0m\u001b[38;5;183m\u001b[38;5;147m-\u001b[0m\u001b[38;5;183m\u001b[38;5;147m-\u001b[0m\u001b[38;5;183m\u001b[38;5;147m-\u001b[0m\u001b[38;5;183m\u001b[38;5;147m-\u001b[0m\u001b[38;5;183m\u001b[38;5;147m-\u001b[0m\u001b[38;5;183m\u001b[38;5;147m-\u001b[0m\u001b[38;5;183m\u001b[38;5;147m-\u001b[0m\u001b[38;5;183m\u001b[38;5;147m-\u001b[0m\u001b[38;5;183m\u001b[38;5;147m-\u001b[0m\u001b[38;5;183m\u001b[38;5;147m-\u001b[0m\u001b[38;5;183m\u001b[38;5;147m-\u001b[0m\u001b[38;5;183m\u001b[38;5;147m-\u001b[0m\u001b[38;5;183m\u001b[38;5;147m-\u001b[0m\u001b[38;5;183m\u001b[38;5;147m-\u001b[0m\u001b[38;5;183m\u001b[38;5;147m-\u001b[0m\u001b[38;5;183m\u001b[38;5;147m-\u001b[0m\u001b[38;5;183m\u001b[38;5;147m-\u001b[0m\u001b[38;5;183m\u001b[38;5;219m+\u001b[0m\u001b[38;5;183m\u001b[38;5;147m-\u001b[0m\u001b[38;5;183m\u001b[38;5;147m-\u001b[0m\u001b[38;5;183m\u001b[38;5;147m-\u001b[0m\u001b[38;5;183m\u001b[38;5;147m-\u001b[0m\u001b[38;5;183m\u001b[38;5;147m-\u001b[0m\u001b[38;5;183m\u001b[38;5;147m-\u001b[0m\u001b[38;5;183m\u001b[38;5;147m-\u001b[0m\u001b[38;5;183m\u001b[38;5;147m-\u001b[0m\u001b[38;5;183m\u001b[38;5;147m-\u001b[0m\u001b[38;5;183m\u001b[38;5;147m-\u001b[0m\u001b[38;5;183m\u001b[38;5;147m-\u001b[0m\u001b[38;5;183m\u001b[38;5;147m-\u001b[0m\u001b[38;5;183m\u001b[38;5;147m-\u001b[0m\u001b[38;5;183m\u001b[38;5;147m-\u001b[0m\u001b[38;5;183m\u001b[38;5;147m-\u001b[0m\u001b[38;5;183m\u001b[38;5;147m-\u001b[0m\u001b[38;5;183m\u001b[38;5;147m-\u001b[0m\u001b[38;5;183m\u001b[38;5;147m-\u001b[0m\u001b[38;5;183m\u001b[38;5;147m-\u001b[0m\u001b[38;5;183m\u001b[38;5;147m-\u001b[0m\u001b[38;5;183m\u001b[38;5;147m-\u001b[0m\u001b[38;5;183m\u001b[38;5;219m+\u001b[0m\u001b[38;5;183m\u001b[38;5;147m-\u001b[0m\u001b[38;5;183m\u001b[38;5;147m-\u001b[0m\u001b[38;5;183m\u001b[38;5;147m-\u001b[0m\u001b[38;5;183m\u001b[38;5;147m-\u001b[0m\u001b[38;5;183m\u001b[38;5;147m-\u001b[0m\u001b[38;5;183m\u001b[38;5;147m-\u001b[0m\u001b[38;5;183m\u001b[38;5;147m-\u001b[0m\u001b[38;5;183m\u001b[38;5;147m-\u001b[0m\u001b[38;5;183m\u001b[38;5;147m-\u001b[0m\u001b[38;5;183m\u001b[38;5;147m-\u001b[0m\u001b[38;5;183m\u001b[38;5;147m-\u001b[0m\u001b[38;5;183m\u001b[38;5;147m-\u001b[0m\u001b[38;5;183m\u001b[38;5;147m-\u001b[0m\u001b[38;5;183m\u001b[38;5;147m-\u001b[0m\u001b[38;5;183m\u001b[38;5;147m-\u001b[0m\u001b[38;5;183m\u001b[38;5;147m-\u001b[0m\u001b[38;5;183m\u001b[38;5;147m-\u001b[0m\u001b[38;5;183m\u001b[38;5;147m-\u001b[0m\u001b[38;5;183m\u001b[38;5;147m-\u001b[0m\u001b[38;5;183m\u001b[38;5;147m-\u001b[0m\u001b[38;5;183m\u001b[38;5;147m-\u001b[0m\u001b[38;5;183m\u001b[38;5;219m+\u001b[0m\u001b[38;5;183m\n",
      "\u001b[35m|\u001b[0m\u001b[38;5;183m                 Algorithme                \u001b[35m|\u001b[0m\u001b[38;5;183m                     Hyperparamètres                      \u001b[35m|\u001b[0m\u001b[38;5;183m       Macro f1      \u001b[35m|\u001b[0m\u001b[38;5;183m       Accuracy      \u001b[35m|\u001b[0m\u001b[38;5;183m      Precision      \u001b[35m|\u001b[0m\u001b[38;5;183m        Rappel       \u001b[35m|\u001b[0m\u001b[38;5;183m  Temps d'exécution  \u001b[35m|\u001b[0m\u001b[38;5;183m\n",
      "\u001b[38;5;219m+\u001b[0m\u001b[38;5;183m\u001b[38;5;147m-\u001b[0m\u001b[38;5;183m\u001b[38;5;147m-\u001b[0m\u001b[38;5;183m\u001b[38;5;147m-\u001b[0m\u001b[38;5;183m\u001b[38;5;147m-\u001b[0m\u001b[38;5;183m\u001b[38;5;147m-\u001b[0m\u001b[38;5;183m\u001b[38;5;147m-\u001b[0m\u001b[38;5;183m\u001b[38;5;147m-\u001b[0m\u001b[38;5;183m\u001b[38;5;147m-\u001b[0m\u001b[38;5;183m\u001b[38;5;147m-\u001b[0m\u001b[38;5;183m\u001b[38;5;147m-\u001b[0m\u001b[38;5;183m\u001b[38;5;147m-\u001b[0m\u001b[38;5;183m\u001b[38;5;147m-\u001b[0m\u001b[38;5;183m\u001b[38;5;147m-\u001b[0m\u001b[38;5;183m\u001b[38;5;147m-\u001b[0m\u001b[38;5;183m\u001b[38;5;147m-\u001b[0m\u001b[38;5;183m\u001b[38;5;147m-\u001b[0m\u001b[38;5;183m\u001b[38;5;147m-\u001b[0m\u001b[38;5;183m\u001b[38;5;147m-\u001b[0m\u001b[38;5;183m\u001b[38;5;147m-\u001b[0m\u001b[38;5;183m\u001b[38;5;147m-\u001b[0m\u001b[38;5;183m\u001b[38;5;147m-\u001b[0m\u001b[38;5;183m\u001b[38;5;147m-\u001b[0m\u001b[38;5;183m\u001b[38;5;147m-\u001b[0m\u001b[38;5;183m\u001b[38;5;147m-\u001b[0m\u001b[38;5;183m\u001b[38;5;147m-\u001b[0m\u001b[38;5;183m\u001b[38;5;147m-\u001b[0m\u001b[38;5;183m\u001b[38;5;147m-\u001b[0m\u001b[38;5;183m\u001b[38;5;147m-\u001b[0m\u001b[38;5;183m\u001b[38;5;147m-\u001b[0m\u001b[38;5;183m\u001b[38;5;147m-\u001b[0m\u001b[38;5;183m\u001b[38;5;147m-\u001b[0m\u001b[38;5;183m\u001b[38;5;147m-\u001b[0m\u001b[38;5;183m\u001b[38;5;147m-\u001b[0m\u001b[38;5;183m\u001b[38;5;147m-\u001b[0m\u001b[38;5;183m\u001b[38;5;147m-\u001b[0m\u001b[38;5;183m\u001b[38;5;147m-\u001b[0m\u001b[38;5;183m\u001b[38;5;147m-\u001b[0m\u001b[38;5;183m\u001b[38;5;147m-\u001b[0m\u001b[38;5;183m\u001b[38;5;147m-\u001b[0m\u001b[38;5;183m\u001b[38;5;147m-\u001b[0m\u001b[38;5;183m\u001b[38;5;147m-\u001b[0m\u001b[38;5;183m\u001b[38;5;147m-\u001b[0m\u001b[38;5;183m\u001b[38;5;147m-\u001b[0m\u001b[38;5;183m\u001b[38;5;219m+\u001b[0m\u001b[38;5;183m\u001b[38;5;147m-\u001b[0m\u001b[38;5;183m\u001b[38;5;147m-\u001b[0m\u001b[38;5;183m\u001b[38;5;147m-\u001b[0m\u001b[38;5;183m\u001b[38;5;147m-\u001b[0m\u001b[38;5;183m\u001b[38;5;147m-\u001b[0m\u001b[38;5;183m\u001b[38;5;147m-\u001b[0m\u001b[38;5;183m\u001b[38;5;147m-\u001b[0m\u001b[38;5;183m\u001b[38;5;147m-\u001b[0m\u001b[38;5;183m\u001b[38;5;147m-\u001b[0m\u001b[38;5;183m\u001b[38;5;147m-\u001b[0m\u001b[38;5;183m\u001b[38;5;147m-\u001b[0m\u001b[38;5;183m\u001b[38;5;147m-\u001b[0m\u001b[38;5;183m\u001b[38;5;147m-\u001b[0m\u001b[38;5;183m\u001b[38;5;147m-\u001b[0m\u001b[38;5;183m\u001b[38;5;147m-\u001b[0m\u001b[38;5;183m\u001b[38;5;147m-\u001b[0m\u001b[38;5;183m\u001b[38;5;147m-\u001b[0m\u001b[38;5;183m\u001b[38;5;147m-\u001b[0m\u001b[38;5;183m\u001b[38;5;147m-\u001b[0m\u001b[38;5;183m\u001b[38;5;147m-\u001b[0m\u001b[38;5;183m\u001b[38;5;147m-\u001b[0m\u001b[38;5;183m\u001b[38;5;147m-\u001b[0m\u001b[38;5;183m\u001b[38;5;147m-\u001b[0m\u001b[38;5;183m\u001b[38;5;147m-\u001b[0m\u001b[38;5;183m\u001b[38;5;147m-\u001b[0m\u001b[38;5;183m\u001b[38;5;147m-\u001b[0m\u001b[38;5;183m\u001b[38;5;147m-\u001b[0m\u001b[38;5;183m\u001b[38;5;147m-\u001b[0m\u001b[38;5;183m\u001b[38;5;147m-\u001b[0m\u001b[38;5;183m\u001b[38;5;147m-\u001b[0m\u001b[38;5;183m\u001b[38;5;147m-\u001b[0m\u001b[38;5;183m\u001b[38;5;147m-\u001b[0m\u001b[38;5;183m\u001b[38;5;147m-\u001b[0m\u001b[38;5;183m\u001b[38;5;147m-\u001b[0m\u001b[38;5;183m\u001b[38;5;147m-\u001b[0m\u001b[38;5;183m\u001b[38;5;147m-\u001b[0m\u001b[38;5;183m\u001b[38;5;147m-\u001b[0m\u001b[38;5;183m\u001b[38;5;147m-\u001b[0m\u001b[38;5;183m\u001b[38;5;147m-\u001b[0m\u001b[38;5;183m\u001b[38;5;147m-\u001b[0m\u001b[38;5;183m\u001b[38;5;147m-\u001b[0m\u001b[38;5;183m\u001b[38;5;147m-\u001b[0m\u001b[38;5;183m\u001b[38;5;147m-\u001b[0m\u001b[38;5;183m\u001b[38;5;147m-\u001b[0m\u001b[38;5;183m\u001b[38;5;147m-\u001b[0m\u001b[38;5;183m\u001b[38;5;147m-\u001b[0m\u001b[38;5;183m\u001b[38;5;147m-\u001b[0m\u001b[38;5;183m\u001b[38;5;147m-\u001b[0m\u001b[38;5;183m\u001b[38;5;147m-\u001b[0m\u001b[38;5;183m\u001b[38;5;147m-\u001b[0m\u001b[38;5;183m\u001b[38;5;147m-\u001b[0m\u001b[38;5;183m\u001b[38;5;147m-\u001b[0m\u001b[38;5;183m\u001b[38;5;147m-\u001b[0m\u001b[38;5;183m\u001b[38;5;147m-\u001b[0m\u001b[38;5;183m\u001b[38;5;147m-\u001b[0m\u001b[38;5;183m\u001b[38;5;147m-\u001b[0m\u001b[38;5;183m\u001b[38;5;147m-\u001b[0m\u001b[38;5;183m\u001b[38;5;147m-\u001b[0m\u001b[38;5;183m\u001b[38;5;219m+\u001b[0m\u001b[38;5;183m\u001b[38;5;147m-\u001b[0m\u001b[38;5;183m\u001b[38;5;147m-\u001b[0m\u001b[38;5;183m\u001b[38;5;147m-\u001b[0m\u001b[38;5;183m\u001b[38;5;147m-\u001b[0m\u001b[38;5;183m\u001b[38;5;147m-\u001b[0m\u001b[38;5;183m\u001b[38;5;147m-\u001b[0m\u001b[38;5;183m\u001b[38;5;147m-\u001b[0m\u001b[38;5;183m\u001b[38;5;147m-\u001b[0m\u001b[38;5;183m\u001b[38;5;147m-\u001b[0m\u001b[38;5;183m\u001b[38;5;147m-\u001b[0m\u001b[38;5;183m\u001b[38;5;147m-\u001b[0m\u001b[38;5;183m\u001b[38;5;147m-\u001b[0m\u001b[38;5;183m\u001b[38;5;147m-\u001b[0m\u001b[38;5;183m\u001b[38;5;147m-\u001b[0m\u001b[38;5;183m\u001b[38;5;147m-\u001b[0m\u001b[38;5;183m\u001b[38;5;147m-\u001b[0m\u001b[38;5;183m\u001b[38;5;147m-\u001b[0m\u001b[38;5;183m\u001b[38;5;147m-\u001b[0m\u001b[38;5;183m\u001b[38;5;147m-\u001b[0m\u001b[38;5;183m\u001b[38;5;147m-\u001b[0m\u001b[38;5;183m\u001b[38;5;147m-\u001b[0m\u001b[38;5;183m\u001b[38;5;219m+\u001b[0m\u001b[38;5;183m\u001b[38;5;147m-\u001b[0m\u001b[38;5;183m\u001b[38;5;147m-\u001b[0m\u001b[38;5;183m\u001b[38;5;147m-\u001b[0m\u001b[38;5;183m\u001b[38;5;147m-\u001b[0m\u001b[38;5;183m\u001b[38;5;147m-\u001b[0m\u001b[38;5;183m\u001b[38;5;147m-\u001b[0m\u001b[38;5;183m\u001b[38;5;147m-\u001b[0m\u001b[38;5;183m\u001b[38;5;147m-\u001b[0m\u001b[38;5;183m\u001b[38;5;147m-\u001b[0m\u001b[38;5;183m\u001b[38;5;147m-\u001b[0m\u001b[38;5;183m\u001b[38;5;147m-\u001b[0m\u001b[38;5;183m\u001b[38;5;147m-\u001b[0m\u001b[38;5;183m\u001b[38;5;147m-\u001b[0m\u001b[38;5;183m\u001b[38;5;147m-\u001b[0m\u001b[38;5;183m\u001b[38;5;147m-\u001b[0m\u001b[38;5;183m\u001b[38;5;147m-\u001b[0m\u001b[38;5;183m\u001b[38;5;147m-\u001b[0m\u001b[38;5;183m\u001b[38;5;147m-\u001b[0m\u001b[38;5;183m\u001b[38;5;147m-\u001b[0m\u001b[38;5;183m\u001b[38;5;147m-\u001b[0m\u001b[38;5;183m\u001b[38;5;147m-\u001b[0m\u001b[38;5;183m\u001b[38;5;219m+\u001b[0m\u001b[38;5;183m\u001b[38;5;147m-\u001b[0m\u001b[38;5;183m\u001b[38;5;147m-\u001b[0m\u001b[38;5;183m\u001b[38;5;147m-\u001b[0m\u001b[38;5;183m\u001b[38;5;147m-\u001b[0m\u001b[38;5;183m\u001b[38;5;147m-\u001b[0m\u001b[38;5;183m\u001b[38;5;147m-\u001b[0m\u001b[38;5;183m\u001b[38;5;147m-\u001b[0m\u001b[38;5;183m\u001b[38;5;147m-\u001b[0m\u001b[38;5;183m\u001b[38;5;147m-\u001b[0m\u001b[38;5;183m\u001b[38;5;147m-\u001b[0m\u001b[38;5;183m\u001b[38;5;147m-\u001b[0m\u001b[38;5;183m\u001b[38;5;147m-\u001b[0m\u001b[38;5;183m\u001b[38;5;147m-\u001b[0m\u001b[38;5;183m\u001b[38;5;147m-\u001b[0m\u001b[38;5;183m\u001b[38;5;147m-\u001b[0m\u001b[38;5;183m\u001b[38;5;147m-\u001b[0m\u001b[38;5;183m\u001b[38;5;147m-\u001b[0m\u001b[38;5;183m\u001b[38;5;147m-\u001b[0m\u001b[38;5;183m\u001b[38;5;147m-\u001b[0m\u001b[38;5;183m\u001b[38;5;147m-\u001b[0m\u001b[38;5;183m\u001b[38;5;147m-\u001b[0m\u001b[38;5;183m\u001b[38;5;219m+\u001b[0m\u001b[38;5;183m\u001b[38;5;147m-\u001b[0m\u001b[38;5;183m\u001b[38;5;147m-\u001b[0m\u001b[38;5;183m\u001b[38;5;147m-\u001b[0m\u001b[38;5;183m\u001b[38;5;147m-\u001b[0m\u001b[38;5;183m\u001b[38;5;147m-\u001b[0m\u001b[38;5;183m\u001b[38;5;147m-\u001b[0m\u001b[38;5;183m\u001b[38;5;147m-\u001b[0m\u001b[38;5;183m\u001b[38;5;147m-\u001b[0m\u001b[38;5;183m\u001b[38;5;147m-\u001b[0m\u001b[38;5;183m\u001b[38;5;147m-\u001b[0m\u001b[38;5;183m\u001b[38;5;147m-\u001b[0m\u001b[38;5;183m\u001b[38;5;147m-\u001b[0m\u001b[38;5;183m\u001b[38;5;147m-\u001b[0m\u001b[38;5;183m\u001b[38;5;147m-\u001b[0m\u001b[38;5;183m\u001b[38;5;147m-\u001b[0m\u001b[38;5;183m\u001b[38;5;147m-\u001b[0m\u001b[38;5;183m\u001b[38;5;147m-\u001b[0m\u001b[38;5;183m\u001b[38;5;147m-\u001b[0m\u001b[38;5;183m\u001b[38;5;147m-\u001b[0m\u001b[38;5;183m\u001b[38;5;147m-\u001b[0m\u001b[38;5;183m\u001b[38;5;147m-\u001b[0m\u001b[38;5;183m\u001b[38;5;219m+\u001b[0m\u001b[38;5;183m\u001b[38;5;147m-\u001b[0m\u001b[38;5;183m\u001b[38;5;147m-\u001b[0m\u001b[38;5;183m\u001b[38;5;147m-\u001b[0m\u001b[38;5;183m\u001b[38;5;147m-\u001b[0m\u001b[38;5;183m\u001b[38;5;147m-\u001b[0m\u001b[38;5;183m\u001b[38;5;147m-\u001b[0m\u001b[38;5;183m\u001b[38;5;147m-\u001b[0m\u001b[38;5;183m\u001b[38;5;147m-\u001b[0m\u001b[38;5;183m\u001b[38;5;147m-\u001b[0m\u001b[38;5;183m\u001b[38;5;147m-\u001b[0m\u001b[38;5;183m\u001b[38;5;147m-\u001b[0m\u001b[38;5;183m\u001b[38;5;147m-\u001b[0m\u001b[38;5;183m\u001b[38;5;147m-\u001b[0m\u001b[38;5;183m\u001b[38;5;147m-\u001b[0m\u001b[38;5;183m\u001b[38;5;147m-\u001b[0m\u001b[38;5;183m\u001b[38;5;147m-\u001b[0m\u001b[38;5;183m\u001b[38;5;147m-\u001b[0m\u001b[38;5;183m\u001b[38;5;147m-\u001b[0m\u001b[38;5;183m\u001b[38;5;147m-\u001b[0m\u001b[38;5;183m\u001b[38;5;147m-\u001b[0m\u001b[38;5;183m\u001b[38;5;147m-\u001b[0m\u001b[38;5;183m\u001b[38;5;219m+\u001b[0m\u001b[38;5;183m\n",
      "\u001b[35m|\u001b[0m\u001b[38;5;183m balanced_up_PassiveAggressiveClassifier_4 \u001b[35m|\u001b[0m\u001b[38;5;183m    PassiveAggressiveClassifier(loss='squared_hinge')     \u001b[35m|\u001b[0m\u001b[38;5;183m 0.35153460614535514 \u001b[35m|\u001b[0m\u001b[38;5;183m  0.390495867768595  \u001b[35m|\u001b[0m\u001b[38;5;183m 0.35338589814023386 \u001b[35m|\u001b[0m\u001b[38;5;183m 0.35189746620502904 \u001b[35m|\u001b[0m\u001b[38;5;183m  1.158452033996582  \u001b[35m|\u001b[0m\u001b[38;5;183m\n",
      "\u001b[35m|\u001b[0m\u001b[38;5;183m balanced_up_PassiveAggressiveClassifier_2 \u001b[35m|\u001b[0m\u001b[38;5;183m PassiveAggressiveClassifier(C=0.5, loss='squared_hinge') \u001b[35m|\u001b[0m\u001b[38;5;183m  0.3511829777477872 \u001b[35m|\u001b[0m\u001b[38;5;183m 0.39061065197428835 \u001b[35m|\u001b[0m\u001b[38;5;183m   0.35320158017241  \u001b[35m|\u001b[0m\u001b[38;5;183m  0.3513933741298668 \u001b[35m|\u001b[0m\u001b[38;5;183m  1.2888472080230713 \u001b[35m|\u001b[0m\u001b[38;5;183m\n",
      "\u001b[35m|\u001b[0m\u001b[38;5;183m balanced_up_PassiveAggressiveClassifier_3 \u001b[35m|\u001b[0m\u001b[38;5;183m              PassiveAggressiveClassifier()               \u001b[35m|\u001b[0m\u001b[38;5;183m  0.3504948896240195 \u001b[35m|\u001b[0m\u001b[38;5;183m 0.39003673094582186 \u001b[35m|\u001b[0m\u001b[38;5;183m 0.35319300948477406 \u001b[35m|\u001b[0m\u001b[38;5;183m 0.34994724495516516 \u001b[35m|\u001b[0m\u001b[38;5;183m  0.9214727878570557 \u001b[35m|\u001b[0m\u001b[38;5;183m\n",
      "\u001b[35m|\u001b[0m\u001b[38;5;183m balanced_up_PassiveAggressiveClassifier_1 \u001b[35m|\u001b[0m\u001b[38;5;183m            PassiveAggressiveClassifier(C=0.5)            \u001b[35m|\u001b[0m\u001b[38;5;183m  0.3499681735448617 \u001b[35m|\u001b[0m\u001b[38;5;183m  0.3894628099173554 \u001b[35m|\u001b[0m\u001b[38;5;183m 0.35222600289265393 \u001b[35m|\u001b[0m\u001b[38;5;183m 0.35008260834100363 \u001b[35m|\u001b[0m\u001b[38;5;183m  1.2187023162841797 \u001b[35m|\u001b[0m\u001b[38;5;183m\n",
      "\u001b[35m|\u001b[0m\u001b[38;5;183m        balanced_up_SGDClassifier_2        \u001b[35m|\u001b[0m\u001b[38;5;183m           SGDClassifier(loss='squared_hinge')            \u001b[35m|\u001b[0m\u001b[38;5;183m 0.34982826210088713 \u001b[35m|\u001b[0m\u001b[38;5;183m  0.3774104683195592 \u001b[35m|\u001b[0m\u001b[38;5;183m  0.3446836703770936 \u001b[35m|\u001b[0m\u001b[38;5;183m  0.3586977805942621 \u001b[35m|\u001b[0m\u001b[38;5;183m  0.9286181926727295 \u001b[35m|\u001b[0m\u001b[38;5;183m\n",
      "\u001b[35m|\u001b[0m\u001b[38;5;183m          balanced_up_LinearSVC_1          \u001b[35m|\u001b[0m\u001b[38;5;183m               LinearSVC(C=0.5, dual=True)                \u001b[35m|\u001b[0m\u001b[38;5;183m 0.34978977868852545 \u001b[35m|\u001b[0m\u001b[38;5;183m 0.37993572084481175 \u001b[35m|\u001b[0m\u001b[38;5;183m  0.3449777200274905 \u001b[35m|\u001b[0m\u001b[38;5;183m  0.3577038331219887 \u001b[35m|\u001b[0m\u001b[38;5;183m  2.5736947059631348 \u001b[35m|\u001b[0m\u001b[38;5;183m\n",
      "\u001b[35m|\u001b[0m\u001b[38;5;183m          balanced_up_LinearSVC_2          \u001b[35m|\u001b[0m\u001b[38;5;183m               LinearSVC(C=0.5, dual=False)               \u001b[35m|\u001b[0m\u001b[38;5;183m  0.3497896449310348 \u001b[35m|\u001b[0m\u001b[38;5;183m 0.37993572084481175 \u001b[35m|\u001b[0m\u001b[38;5;183m 0.34498005922316777 \u001b[35m|\u001b[0m\u001b[38;5;183m  0.3577038331219887 \u001b[35m|\u001b[0m\u001b[38;5;183m  20.636306047439575 \u001b[35m|\u001b[0m\u001b[38;5;183m\n",
      "\u001b[35m|\u001b[0m\u001b[38;5;183m          balanced_up_LinearSVC_4          \u001b[35m|\u001b[0m\u001b[38;5;183m                  LinearSVC(dual=False)                   \u001b[35m|\u001b[0m\u001b[38;5;183m  0.348352890254289  \u001b[35m|\u001b[0m\u001b[38;5;183m 0.38096877869605145 \u001b[35m|\u001b[0m\u001b[38;5;183m 0.34496438666076246 \u001b[35m|\u001b[0m\u001b[38;5;183m  0.3536243144849022 \u001b[35m|\u001b[0m\u001b[38;5;183m  35.25674223899841  \u001b[35m|\u001b[0m\u001b[38;5;183m\n",
      "\u001b[35m|\u001b[0m\u001b[38;5;183m          balanced_up_LinearSVC_3          \u001b[35m|\u001b[0m\u001b[38;5;183m                   LinearSVC(dual=True)                   \u001b[35m|\u001b[0m\u001b[38;5;183m 0.34834803712033974 \u001b[35m|\u001b[0m\u001b[38;5;183m 0.38096877869605145 \u001b[35m|\u001b[0m\u001b[38;5;183m 0.34495252951005384 \u001b[35m|\u001b[0m\u001b[38;5;183m  0.3536243144849022 \u001b[35m|\u001b[0m\u001b[38;5;183m  3.9335813522338867 \u001b[35m|\u001b[0m\u001b[38;5;183m\n",
      "\u001b[35m|\u001b[0m\u001b[38;5;183m       PassiveAggressiveClassifier_2       \u001b[35m|\u001b[0m\u001b[38;5;183m PassiveAggressiveClassifier(C=0.5, loss='squared_hinge') \u001b[35m|\u001b[0m\u001b[38;5;183m  0.344802993682413  \u001b[35m|\u001b[0m\u001b[38;5;183m 0.41310835629017445 \u001b[35m|\u001b[0m\u001b[38;5;183m  0.3760873566215486 \u001b[35m|\u001b[0m\u001b[38;5;183m  0.3394211828496621 \u001b[35m|\u001b[0m\u001b[38;5;183m  1.6704480648040771 \u001b[35m|\u001b[0m\u001b[38;5;183m\n",
      "\u001b[35m|\u001b[0m\u001b[38;5;183m       PassiveAggressiveClassifier_3       \u001b[35m|\u001b[0m\u001b[38;5;183m              PassiveAggressiveClassifier()               \u001b[35m|\u001b[0m\u001b[38;5;183m  0.3441771488659745 \u001b[35m|\u001b[0m\u001b[38;5;183m  0.4116161616161616 \u001b[35m|\u001b[0m\u001b[38;5;183m 0.37734729590495075 \u001b[35m|\u001b[0m\u001b[38;5;183m  0.3384732782432911 \u001b[35m|\u001b[0m\u001b[38;5;183m  1.0269744396209717 \u001b[35m|\u001b[0m\u001b[38;5;183m\n",
      "\u001b[35m|\u001b[0m\u001b[38;5;183m       PassiveAggressiveClassifier_1       \u001b[35m|\u001b[0m\u001b[38;5;183m            PassiveAggressiveClassifier(C=0.5)            \u001b[35m|\u001b[0m\u001b[38;5;183m 0.34385419273545786 \u001b[35m|\u001b[0m\u001b[38;5;183m  0.4121900826446281 \u001b[35m|\u001b[0m\u001b[38;5;183m 0.37718579655870743 \u001b[35m|\u001b[0m\u001b[38;5;183m 0.33842138856484605 \u001b[35m|\u001b[0m\u001b[38;5;183m   1.16347074508667  \u001b[35m|\u001b[0m\u001b[38;5;183m\n",
      "\u001b[35m|\u001b[0m\u001b[38;5;183m       PassiveAggressiveClassifier_4       \u001b[35m|\u001b[0m\u001b[38;5;183m    PassiveAggressiveClassifier(loss='squared_hinge')     \u001b[35m|\u001b[0m\u001b[38;5;183m  0.3430289752699134 \u001b[35m|\u001b[0m\u001b[38;5;183m  0.4116161616161616 \u001b[35m|\u001b[0m\u001b[38;5;183m 0.37313701457382953 \u001b[35m|\u001b[0m\u001b[38;5;183m 0.33832970439510973 \u001b[35m|\u001b[0m\u001b[38;5;183m  1.1739253997802734 \u001b[35m|\u001b[0m\u001b[38;5;183m\n",
      "\u001b[35m|\u001b[0m\u001b[38;5;183m        balanced_up_SGDClassifier_1        \u001b[35m|\u001b[0m\u001b[38;5;183m                     SGDClassifier()                      \u001b[35m|\u001b[0m\u001b[38;5;183m 0.33796315322055615 \u001b[35m|\u001b[0m\u001b[38;5;183m 0.35537190082644626 \u001b[35m|\u001b[0m\u001b[38;5;183m 0.33553488813889226 \u001b[35m|\u001b[0m\u001b[38;5;183m  0.363917206241543  \u001b[35m|\u001b[0m\u001b[38;5;183m  1.613677978515625  \u001b[35m|\u001b[0m\u001b[38;5;183m\n",
      "\u001b[35m|\u001b[0m\u001b[38;5;183m                LinearSVC_4                \u001b[35m|\u001b[0m\u001b[38;5;183m                  LinearSVC(dual=False)                   \u001b[35m|\u001b[0m\u001b[38;5;183m  0.3321061049516872 \u001b[35m|\u001b[0m\u001b[38;5;183m  0.4182736455463728 \u001b[35m|\u001b[0m\u001b[38;5;183m  0.3933671968822942 \u001b[35m|\u001b[0m\u001b[38;5;183m 0.33007171743788544 \u001b[35m|\u001b[0m\u001b[38;5;183m  19.944521188735962 \u001b[35m|\u001b[0m\u001b[38;5;183m\n",
      "\u001b[35m|\u001b[0m\u001b[38;5;183m                LinearSVC_3                \u001b[35m|\u001b[0m\u001b[38;5;183m                   LinearSVC(dual=True)                   \u001b[35m|\u001b[0m\u001b[38;5;183m  0.3319172995235483 \u001b[35m|\u001b[0m\u001b[38;5;183m  0.4180440771349862 \u001b[35m|\u001b[0m\u001b[38;5;183m  0.3930365127324806 \u001b[35m|\u001b[0m\u001b[38;5;183m 0.32991101032659575 \u001b[35m|\u001b[0m\u001b[38;5;183m  2.2656590938568115 \u001b[35m|\u001b[0m\u001b[38;5;183m\n",
      "\u001b[35m|\u001b[0m\u001b[38;5;183m              SGDClassifier_2              \u001b[35m|\u001b[0m\u001b[38;5;183m           SGDClassifier(loss='squared_hinge')            \u001b[35m|\u001b[0m\u001b[38;5;183m 0.33120561939477244 \u001b[35m|\u001b[0m\u001b[38;5;183m 0.41815886134067953 \u001b[35m|\u001b[0m\u001b[38;5;183m 0.39119440625399826 \u001b[35m|\u001b[0m\u001b[38;5;183m 0.32984530792406086 \u001b[35m|\u001b[0m\u001b[38;5;183m  0.7017562389373779 \u001b[35m|\u001b[0m\u001b[38;5;183m\n",
      "\u001b[35m|\u001b[0m\u001b[38;5;183m        balanced_up_SGDClassifier_4        \u001b[35m|\u001b[0m\u001b[38;5;183m     SGDClassifier(alpha=0.001, loss='squared_hinge')     \u001b[35m|\u001b[0m\u001b[38;5;183m  0.3297018559190276 \u001b[35m|\u001b[0m\u001b[38;5;183m  0.3469926538108356 \u001b[35m|\u001b[0m\u001b[38;5;183m 0.32986600761285945 \u001b[35m|\u001b[0m\u001b[38;5;183m  0.360376711014453  \u001b[35m|\u001b[0m\u001b[38;5;183m  1.1483893394470215 \u001b[35m|\u001b[0m\u001b[38;5;183m\n",
      "\u001b[35m|\u001b[0m\u001b[38;5;183m              SGDClassifier_1              \u001b[35m|\u001b[0m\u001b[38;5;183m                     SGDClassifier()                      \u001b[35m|\u001b[0m\u001b[38;5;183m  0.3254100694527408 \u001b[35m|\u001b[0m\u001b[38;5;183m  0.421831955922865  \u001b[35m|\u001b[0m\u001b[38;5;183m  0.3908432937670748 \u001b[35m|\u001b[0m\u001b[38;5;183m  0.330126314863204  \u001b[35m|\u001b[0m\u001b[38;5;183m  1.3522629737854004 \u001b[35m|\u001b[0m\u001b[38;5;183m\n",
      "\u001b[35m|\u001b[0m\u001b[38;5;183m              SGDClassifier_5              \u001b[35m|\u001b[0m\u001b[38;5;183m                SGDClassifier(alpha=0.01)                 \u001b[35m|\u001b[0m\u001b[38;5;183m  0.3218695846929628 \u001b[35m|\u001b[0m\u001b[38;5;183m  0.4176997245179063 \u001b[35m|\u001b[0m\u001b[38;5;183m  0.3777538744546771 \u001b[35m|\u001b[0m\u001b[38;5;183m 0.32768503438448743 \u001b[35m|\u001b[0m\u001b[38;5;183m  0.686985969543457  \u001b[35m|\u001b[0m\u001b[38;5;183m\n",
      "\u001b[35m|\u001b[0m\u001b[38;5;183m        balanced_up_SGDClassifier_5        \u001b[35m|\u001b[0m\u001b[38;5;183m                SGDClassifier(alpha=0.01)                 \u001b[35m|\u001b[0m\u001b[38;5;183m 0.32132581179289177 \u001b[35m|\u001b[0m\u001b[38;5;183m  0.3339072543617998 \u001b[35m|\u001b[0m\u001b[38;5;183m  0.3285885685139244 \u001b[35m|\u001b[0m\u001b[38;5;183m  0.3609134217208842 \u001b[35m|\u001b[0m\u001b[38;5;183m  0.7992362976074219 \u001b[35m|\u001b[0m\u001b[38;5;183m\n",
      "\u001b[35m|\u001b[0m\u001b[38;5;183m              SGDClassifier_3              \u001b[35m|\u001b[0m\u001b[38;5;183m                SGDClassifier(alpha=0.001)                \u001b[35m|\u001b[0m\u001b[38;5;183m  0.3210552811365094 \u001b[35m|\u001b[0m\u001b[38;5;183m 0.41792929292929293 \u001b[35m|\u001b[0m\u001b[38;5;183m 0.38824310283529273 \u001b[35m|\u001b[0m\u001b[38;5;183m 0.32499710356997485 \u001b[35m|\u001b[0m\u001b[38;5;183m  0.7130215167999268 \u001b[35m|\u001b[0m\u001b[38;5;183m\n",
      "\u001b[35m|\u001b[0m\u001b[38;5;183m        balanced_up_SGDClassifier_3        \u001b[35m|\u001b[0m\u001b[38;5;183m                SGDClassifier(alpha=0.001)                \u001b[35m|\u001b[0m\u001b[38;5;183m  0.319792840240479  \u001b[35m|\u001b[0m\u001b[38;5;183m 0.33264462809917356 \u001b[35m|\u001b[0m\u001b[38;5;183m 0.32650469855979836 \u001b[35m|\u001b[0m\u001b[38;5;183m 0.35885666471185457 \u001b[35m|\u001b[0m\u001b[38;5;183m  0.7816030979156494 \u001b[35m|\u001b[0m\u001b[38;5;183m\n",
      "\u001b[35m|\u001b[0m\u001b[38;5;183m                LinearSVC_1                \u001b[35m|\u001b[0m\u001b[38;5;183m               LinearSVC(C=0.5, dual=True)                \u001b[35m|\u001b[0m\u001b[38;5;183m 0.31614160266668756 \u001b[35m|\u001b[0m\u001b[38;5;183m 0.41689623507805323 \u001b[35m|\u001b[0m\u001b[38;5;183m  0.4041104052756137 \u001b[35m|\u001b[0m\u001b[38;5;183m  0.3196282154238117 \u001b[35m|\u001b[0m\u001b[38;5;183m  1.3910486698150635 \u001b[35m|\u001b[0m\u001b[38;5;183m\n",
      "\u001b[35m|\u001b[0m\u001b[38;5;183m                LinearSVC_2                \u001b[35m|\u001b[0m\u001b[38;5;183m               LinearSVC(C=0.5, dual=False)               \u001b[35m|\u001b[0m\u001b[38;5;183m 0.31606284832742937 \u001b[35m|\u001b[0m\u001b[38;5;183m 0.41678145087235996 \u001b[35m|\u001b[0m\u001b[38;5;183m  0.4039812096526302 \u001b[35m|\u001b[0m\u001b[38;5;183m  0.3195625770910254 \u001b[35m|\u001b[0m\u001b[38;5;183m  14.05469822883606  \u001b[35m|\u001b[0m\u001b[38;5;183m\n",
      "\u001b[35m|\u001b[0m\u001b[38;5;183m             RidgeClassifier_1             \u001b[35m|\u001b[0m\u001b[38;5;183m                    RidgeClassifier()                     \u001b[35m|\u001b[0m\u001b[38;5;183m 0.31515988564747044 \u001b[35m|\u001b[0m\u001b[38;5;183m  0.4166666666666667 \u001b[35m|\u001b[0m\u001b[38;5;183m 0.40408839863906837 \u001b[35m|\u001b[0m\u001b[38;5;183m 0.31817738369974297 \u001b[35m|\u001b[0m\u001b[38;5;183m  5.696135520935059  \u001b[35m|\u001b[0m\u001b[38;5;183m\n",
      "\u001b[35m|\u001b[0m\u001b[38;5;183m             RidgeClassifier_2             \u001b[35m|\u001b[0m\u001b[38;5;183m                RidgeClassifier(alpha=1.5)                \u001b[35m|\u001b[0m\u001b[38;5;183m  0.304017897347683  \u001b[35m|\u001b[0m\u001b[38;5;183m  0.4182736455463728 \u001b[35m|\u001b[0m\u001b[38;5;183m  0.4160574614311262 \u001b[35m|\u001b[0m\u001b[38;5;183m 0.31183687501620616 \u001b[35m|\u001b[0m\u001b[38;5;183m  4.070607900619507  \u001b[35m|\u001b[0m\u001b[38;5;183m\n",
      "\u001b[35m|\u001b[0m\u001b[38;5;183m              LGBMClassifier_1             \u001b[35m|\u001b[0m\u001b[38;5;183m     LGBMClassifier(max_depth=500, n_estimators=500)      \u001b[35m|\u001b[0m\u001b[38;5;183m 0.30019029364950034 \u001b[35m|\u001b[0m\u001b[38;5;183m  0.3736225895316804 \u001b[35m|\u001b[0m\u001b[38;5;183m 0.33946812529970216 \u001b[35m|\u001b[0m\u001b[38;5;183m  0.2942243923212533 \u001b[35m|\u001b[0m\u001b[38;5;183m  342.1225073337555  \u001b[35m|\u001b[0m\u001b[38;5;183m\n",
      "\u001b[35m|\u001b[0m\u001b[38;5;183m        balanced_up_SGDClassifier_6        \u001b[35m|\u001b[0m\u001b[38;5;183m     SGDClassifier(alpha=0.01, loss='squared_hinge')      \u001b[35m|\u001b[0m\u001b[38;5;183m 0.29955873600262606 \u001b[35m|\u001b[0m\u001b[38;5;183m 0.31290174471992654 \u001b[35m|\u001b[0m\u001b[38;5;183m  0.3149266286924837 \u001b[35m|\u001b[0m\u001b[38;5;183m  0.3446522380677247 \u001b[35m|\u001b[0m\u001b[38;5;183m  0.9637253284454346 \u001b[35m|\u001b[0m\u001b[38;5;183m\n",
      "\u001b[35m|\u001b[0m\u001b[38;5;183m             RidgeClassifier_3             \u001b[35m|\u001b[0m\u001b[38;5;183m                 RidgeClassifier(alpha=2)                 \u001b[35m|\u001b[0m\u001b[38;5;183m  0.2978812215459704 \u001b[35m|\u001b[0m\u001b[38;5;183m  0.4195362718089991 \u001b[35m|\u001b[0m\u001b[38;5;183m  0.4418656397347389 \u001b[35m|\u001b[0m\u001b[38;5;183m 0.30825142380857046 \u001b[35m|\u001b[0m\u001b[38;5;183m  4.825464487075806  \u001b[35m|\u001b[0m\u001b[38;5;183m\n",
      "\u001b[35m|\u001b[0m\u001b[38;5;183m                   SVC_2                   \u001b[35m|\u001b[0m\u001b[38;5;183m                  SVC(kernel='sigmoid')                   \u001b[35m|\u001b[0m\u001b[38;5;183m 0.27347154948321195 \u001b[35m|\u001b[0m\u001b[38;5;183m 0.41058310376492196 \u001b[35m|\u001b[0m\u001b[38;5;183m  0.5025363930891102 \u001b[35m|\u001b[0m\u001b[38;5;183m 0.29046111184250384 \u001b[35m|\u001b[0m\u001b[38;5;183m  377.51364183425903 \u001b[35m|\u001b[0m\u001b[38;5;183m\n",
      "\u001b[35m|\u001b[0m\u001b[38;5;183m                   KNN_2                   \u001b[35m|\u001b[0m\u001b[38;5;183m                  KNeighborsClassifier()                  \u001b[35m|\u001b[0m\u001b[38;5;183m  0.2720166812189435 \u001b[35m|\u001b[0m\u001b[38;5;183m  0.3496326905417815 \u001b[35m|\u001b[0m\u001b[38;5;183m  0.2888261686967606 \u001b[35m|\u001b[0m\u001b[38;5;183m  0.2759121644368684 \u001b[35m|\u001b[0m\u001b[38;5;183m  5.653038740158081  \u001b[35m|\u001b[0m\u001b[38;5;183m\n",
      "\u001b[35m|\u001b[0m\u001b[38;5;183m                   KNN_3                   \u001b[35m|\u001b[0m\u001b[38;5;183m           KNeighborsClassifier(n_neighbors=7)            \u001b[35m|\u001b[0m\u001b[38;5;183m  0.2679530490288469 \u001b[35m|\u001b[0m\u001b[38;5;183m 0.35215794306703396 \u001b[35m|\u001b[0m\u001b[38;5;183m  0.2894886904892481 \u001b[35m|\u001b[0m\u001b[38;5;183m  0.2727239516555519 \u001b[35m|\u001b[0m\u001b[38;5;183m  5.677108526229858  \u001b[35m|\u001b[0m\u001b[38;5;183m\n",
      "\u001b[35m|\u001b[0m\u001b[38;5;183m            LogisticRegression_2           \u001b[35m|\u001b[0m\u001b[38;5;183m                   LogisticRegression()                   \u001b[35m|\u001b[0m\u001b[38;5;183m 0.26341030850243363 \u001b[35m|\u001b[0m\u001b[38;5;183m  0.4116161616161616 \u001b[35m|\u001b[0m\u001b[38;5;183m  0.4542215508363583 \u001b[35m|\u001b[0m\u001b[38;5;183m 0.28449292071434745 \u001b[35m|\u001b[0m\u001b[38;5;183m  43.710068464279175 \u001b[35m|\u001b[0m\u001b[38;5;183m\n",
      "\u001b[35m|\u001b[0m\u001b[38;5;183m                   KNN_1                   \u001b[35m|\u001b[0m\u001b[38;5;183m           KNeighborsClassifier(n_neighbors=3)            \u001b[35m|\u001b[0m\u001b[38;5;183m 0.25190393249732723 \u001b[35m|\u001b[0m\u001b[38;5;183m 0.29981634527089074 \u001b[35m|\u001b[0m\u001b[38;5;183m 0.26724986927721195 \u001b[35m|\u001b[0m\u001b[38;5;183m  0.2653164874705564 \u001b[35m|\u001b[0m\u001b[38;5;183m  5.509373426437378  \u001b[35m|\u001b[0m\u001b[38;5;183m\n",
      "\u001b[35m|\u001b[0m\u001b[38;5;183m              SGDClassifier_4              \u001b[35m|\u001b[0m\u001b[38;5;183m     SGDClassifier(alpha=0.001, loss='squared_hinge')     \u001b[35m|\u001b[0m\u001b[38;5;183m 0.23049829634589697 \u001b[35m|\u001b[0m\u001b[38;5;183m 0.39726813590449955 \u001b[35m|\u001b[0m\u001b[38;5;183m  0.5314285409634073 \u001b[35m|\u001b[0m\u001b[38;5;183m  0.2616099768734297 \u001b[35m|\u001b[0m\u001b[38;5;183m  0.9296162128448486 \u001b[35m|\u001b[0m\u001b[38;5;183m\n",
      "\u001b[35m|\u001b[0m\u001b[38;5;183m            LogisticRegression_1           \u001b[35m|\u001b[0m\u001b[38;5;183m                LogisticRegression(C=0.5)                 \u001b[35m|\u001b[0m\u001b[38;5;183m 0.22323922238640118 \u001b[35m|\u001b[0m\u001b[38;5;183m  0.3957759412304867 \u001b[35m|\u001b[0m\u001b[38;5;183m  0.5231371374660111 \u001b[35m|\u001b[0m\u001b[38;5;183m  0.2563329340856686 \u001b[35m|\u001b[0m\u001b[38;5;183m  22.090871334075928 \u001b[35m|\u001b[0m\u001b[38;5;183m\n",
      "\u001b[35m|\u001b[0m\u001b[38;5;183m               ComplementNB_1              \u001b[35m|\u001b[0m\u001b[38;5;183m                 ComplementNB(alpha=0.5)                  \u001b[35m|\u001b[0m\u001b[38;5;183m 0.18164626481284205 \u001b[35m|\u001b[0m\u001b[38;5;183m 0.38073921028466484 \u001b[35m|\u001b[0m\u001b[38;5;183m  0.5927774403033594 \u001b[35m|\u001b[0m\u001b[38;5;183m  0.2341804634273863 \u001b[35m|\u001b[0m\u001b[38;5;183m 0.23320674896240234 \u001b[35m|\u001b[0m\u001b[38;5;183m\n",
      "\u001b[35m|\u001b[0m\u001b[38;5;183m               ComplementNB_2              \u001b[35m|\u001b[0m\u001b[38;5;183m         ComplementNB(alpha=0.5, fit_prior=False)         \u001b[35m|\u001b[0m\u001b[38;5;183m 0.18164626481284205 \u001b[35m|\u001b[0m\u001b[38;5;183m 0.38073921028466484 \u001b[35m|\u001b[0m\u001b[38;5;183m  0.5927774403033594 \u001b[35m|\u001b[0m\u001b[38;5;183m  0.2341804634273863 \u001b[35m|\u001b[0m\u001b[38;5;183m 0.21078944206237793 \u001b[35m|\u001b[0m\u001b[38;5;183m\n",
      "\u001b[35m|\u001b[0m\u001b[38;5;183m          RandomForestClassifier_1         \u001b[35m|\u001b[0m\u001b[38;5;183m          RandomForestClassifier(max_depth=100)           \u001b[35m|\u001b[0m\u001b[38;5;183m  0.1667955579011338 \u001b[35m|\u001b[0m\u001b[38;5;183m  0.3650137741046832 \u001b[35m|\u001b[0m\u001b[38;5;183m  0.4906779331140371 \u001b[35m|\u001b[0m\u001b[38;5;183m  0.2228104806979297 \u001b[35m|\u001b[0m\u001b[38;5;183m  84.87571024894714  \u001b[35m|\u001b[0m\u001b[38;5;183m\n",
      "\u001b[35m|\u001b[0m\u001b[38;5;183m               ComplementNB_3              \u001b[35m|\u001b[0m\u001b[38;5;183m                      ComplementNB()                      \u001b[35m|\u001b[0m\u001b[38;5;183m 0.13896574693903657 \u001b[35m|\u001b[0m\u001b[38;5;183m  0.3635215794306703 \u001b[35m|\u001b[0m\u001b[38;5;183m  0.5424762270272911 \u001b[35m|\u001b[0m\u001b[38;5;183m  0.2142195634485001 \u001b[35m|\u001b[0m\u001b[38;5;183m  0.2218618392944336 \u001b[35m|\u001b[0m\u001b[38;5;183m\n",
      "\u001b[35m|\u001b[0m\u001b[38;5;183m               ComplementNB_4              \u001b[35m|\u001b[0m\u001b[38;5;183m              ComplementNB(fit_prior=False)               \u001b[35m|\u001b[0m\u001b[38;5;183m 0.13896574693903657 \u001b[35m|\u001b[0m\u001b[38;5;183m  0.3635215794306703 \u001b[35m|\u001b[0m\u001b[38;5;183m  0.5424762270272911 \u001b[35m|\u001b[0m\u001b[38;5;183m  0.2142195634485001 \u001b[35m|\u001b[0m\u001b[38;5;183m 0.22723817825317383 \u001b[35m|\u001b[0m\u001b[38;5;183m\n",
      "\u001b[35m|\u001b[0m\u001b[38;5;183m              MultinomialNB_2              \u001b[35m|\u001b[0m\u001b[38;5;183m        MultinomialNB(alpha=0.5, fit_prior=False)         \u001b[35m|\u001b[0m\u001b[38;5;183m  0.1273609830242561 \u001b[35m|\u001b[0m\u001b[38;5;183m 0.35858585858585856 \u001b[35m|\u001b[0m\u001b[38;5;183m  0.5219899767251919 \u001b[35m|\u001b[0m\u001b[38;5;183m  0.208298060694274  \u001b[35m|\u001b[0m\u001b[38;5;183m 0.21587824821472168 \u001b[35m|\u001b[0m\u001b[38;5;183m\n",
      "\u001b[35m|\u001b[0m\u001b[38;5;183m              MultinomialNB_4              \u001b[35m|\u001b[0m\u001b[38;5;183m              MultinomialNB(fit_prior=False)              \u001b[35m|\u001b[0m\u001b[38;5;183m 0.11391014599586449 \u001b[35m|\u001b[0m\u001b[38;5;183m  0.3538797061524334 \u001b[35m|\u001b[0m\u001b[38;5;183m 0.37393178117532616 \u001b[35m|\u001b[0m\u001b[38;5;183m  0.2036080906731673 \u001b[35m|\u001b[0m\u001b[38;5;183m  0.2264692783355713 \u001b[35m|\u001b[0m\u001b[38;5;183m\n",
      "\u001b[35m|\u001b[0m\u001b[38;5;183m              MultinomialNB_1              \u001b[35m|\u001b[0m\u001b[38;5;183m                 MultinomialNB(alpha=0.5)                 \u001b[35m|\u001b[0m\u001b[38;5;183m 0.11096695516354471 \u001b[35m|\u001b[0m\u001b[38;5;183m  0.3530762167125803 \u001b[35m|\u001b[0m\u001b[38;5;183m 0.38910532623627453 \u001b[35m|\u001b[0m\u001b[38;5;183m 0.20265256720405883 \u001b[35m|\u001b[0m\u001b[38;5;183m 0.21912384033203125 \u001b[35m|\u001b[0m\u001b[38;5;183m\n",
      "\u001b[35m|\u001b[0m\u001b[38;5;183m              MultinomialNB_3              \u001b[35m|\u001b[0m\u001b[38;5;183m                     MultinomialNB()                      \u001b[35m|\u001b[0m\u001b[38;5;183m 0.10543566261284398 \u001b[35m|\u001b[0m\u001b[38;5;183m  0.3506657483930211 \u001b[35m|\u001b[0m\u001b[38;5;183m 0.21666781648844427 \u001b[35m|\u001b[0m\u001b[38;5;183m 0.20068697411373418 \u001b[35m|\u001b[0m\u001b[38;5;183m 0.21570444107055664 \u001b[35m|\u001b[0m\u001b[38;5;183m\n",
      "\u001b[35m|\u001b[0m\u001b[38;5;183m                   SVC_1                   \u001b[35m|\u001b[0m\u001b[38;5;183m                    SVC(kernel='poly')                    \u001b[35m|\u001b[0m\u001b[38;5;183m  0.104333899742912  \u001b[35m|\u001b[0m\u001b[38;5;183m 0.35020661157024796 \u001b[35m|\u001b[0m\u001b[38;5;183m 0.22998966348914668 \u001b[35m|\u001b[0m\u001b[38;5;183m 0.20032141422257937 \u001b[35m|\u001b[0m\u001b[38;5;183m   419.924857378006  \u001b[35m|\u001b[0m\u001b[38;5;183m\n",
      "\u001b[35m|\u001b[0m\u001b[38;5;183m              SGDClassifier_6              \u001b[35m|\u001b[0m\u001b[38;5;183m     SGDClassifier(alpha=0.01, loss='squared_hinge')      \u001b[35m|\u001b[0m\u001b[38;5;183m 0.10364826941066416 \u001b[35m|\u001b[0m\u001b[38;5;183m 0.34974747474747475 \u001b[35m|\u001b[0m\u001b[38;5;183m 0.06994949494949496 \u001b[35m|\u001b[0m\u001b[38;5;183m         0.2         \u001b[35m|\u001b[0m\u001b[38;5;183m  0.8021707534790039 \u001b[35m|\u001b[0m\u001b[38;5;183m\n",
      "\u001b[38;5;219m+\u001b[0m\u001b[38;5;183m\u001b[38;5;147m-\u001b[0m\u001b[38;5;183m\u001b[38;5;147m-\u001b[0m\u001b[38;5;183m\u001b[38;5;147m-\u001b[0m\u001b[38;5;183m\u001b[38;5;147m-\u001b[0m\u001b[38;5;183m\u001b[38;5;147m-\u001b[0m\u001b[38;5;183m\u001b[38;5;147m-\u001b[0m\u001b[38;5;183m\u001b[38;5;147m-\u001b[0m\u001b[38;5;183m\u001b[38;5;147m-\u001b[0m\u001b[38;5;183m\u001b[38;5;147m-\u001b[0m\u001b[38;5;183m\u001b[38;5;147m-\u001b[0m\u001b[38;5;183m\u001b[38;5;147m-\u001b[0m\u001b[38;5;183m\u001b[38;5;147m-\u001b[0m\u001b[38;5;183m\u001b[38;5;147m-\u001b[0m\u001b[38;5;183m\u001b[38;5;147m-\u001b[0m\u001b[38;5;183m\u001b[38;5;147m-\u001b[0m\u001b[38;5;183m\u001b[38;5;147m-\u001b[0m\u001b[38;5;183m\u001b[38;5;147m-\u001b[0m\u001b[38;5;183m\u001b[38;5;147m-\u001b[0m\u001b[38;5;183m\u001b[38;5;147m-\u001b[0m\u001b[38;5;183m\u001b[38;5;147m-\u001b[0m\u001b[38;5;183m\u001b[38;5;147m-\u001b[0m\u001b[38;5;183m\u001b[38;5;147m-\u001b[0m\u001b[38;5;183m\u001b[38;5;147m-\u001b[0m\u001b[38;5;183m\u001b[38;5;147m-\u001b[0m\u001b[38;5;183m\u001b[38;5;147m-\u001b[0m\u001b[38;5;183m\u001b[38;5;147m-\u001b[0m\u001b[38;5;183m\u001b[38;5;147m-\u001b[0m\u001b[38;5;183m\u001b[38;5;147m-\u001b[0m\u001b[38;5;183m\u001b[38;5;147m-\u001b[0m\u001b[38;5;183m\u001b[38;5;147m-\u001b[0m\u001b[38;5;183m\u001b[38;5;147m-\u001b[0m\u001b[38;5;183m\u001b[38;5;147m-\u001b[0m\u001b[38;5;183m\u001b[38;5;147m-\u001b[0m\u001b[38;5;183m\u001b[38;5;147m-\u001b[0m\u001b[38;5;183m\u001b[38;5;147m-\u001b[0m\u001b[38;5;183m\u001b[38;5;147m-\u001b[0m\u001b[38;5;183m\u001b[38;5;147m-\u001b[0m\u001b[38;5;183m\u001b[38;5;147m-\u001b[0m\u001b[38;5;183m\u001b[38;5;147m-\u001b[0m\u001b[38;5;183m\u001b[38;5;147m-\u001b[0m\u001b[38;5;183m\u001b[38;5;147m-\u001b[0m\u001b[38;5;183m\u001b[38;5;147m-\u001b[0m\u001b[38;5;183m\u001b[38;5;147m-\u001b[0m\u001b[38;5;183m\u001b[38;5;219m+\u001b[0m\u001b[38;5;183m\u001b[38;5;147m-\u001b[0m\u001b[38;5;183m\u001b[38;5;147m-\u001b[0m\u001b[38;5;183m\u001b[38;5;147m-\u001b[0m\u001b[38;5;183m\u001b[38;5;147m-\u001b[0m\u001b[38;5;183m\u001b[38;5;147m-\u001b[0m\u001b[38;5;183m\u001b[38;5;147m-\u001b[0m\u001b[38;5;183m\u001b[38;5;147m-\u001b[0m\u001b[38;5;183m\u001b[38;5;147m-\u001b[0m\u001b[38;5;183m\u001b[38;5;147m-\u001b[0m\u001b[38;5;183m\u001b[38;5;147m-\u001b[0m\u001b[38;5;183m\u001b[38;5;147m-\u001b[0m\u001b[38;5;183m\u001b[38;5;147m-\u001b[0m\u001b[38;5;183m\u001b[38;5;147m-\u001b[0m\u001b[38;5;183m\u001b[38;5;147m-\u001b[0m\u001b[38;5;183m\u001b[38;5;147m-\u001b[0m\u001b[38;5;183m\u001b[38;5;147m-\u001b[0m\u001b[38;5;183m\u001b[38;5;147m-\u001b[0m\u001b[38;5;183m\u001b[38;5;147m-\u001b[0m\u001b[38;5;183m\u001b[38;5;147m-\u001b[0m\u001b[38;5;183m\u001b[38;5;147m-\u001b[0m\u001b[38;5;183m\u001b[38;5;147m-\u001b[0m\u001b[38;5;183m\u001b[38;5;147m-\u001b[0m\u001b[38;5;183m\u001b[38;5;147m-\u001b[0m\u001b[38;5;183m\u001b[38;5;147m-\u001b[0m\u001b[38;5;183m\u001b[38;5;147m-\u001b[0m\u001b[38;5;183m\u001b[38;5;147m-\u001b[0m\u001b[38;5;183m\u001b[38;5;147m-\u001b[0m\u001b[38;5;183m\u001b[38;5;147m-\u001b[0m\u001b[38;5;183m\u001b[38;5;147m-\u001b[0m\u001b[38;5;183m\u001b[38;5;147m-\u001b[0m\u001b[38;5;183m\u001b[38;5;147m-\u001b[0m\u001b[38;5;183m\u001b[38;5;147m-\u001b[0m\u001b[38;5;183m\u001b[38;5;147m-\u001b[0m\u001b[38;5;183m\u001b[38;5;147m-\u001b[0m\u001b[38;5;183m\u001b[38;5;147m-\u001b[0m\u001b[38;5;183m\u001b[38;5;147m-\u001b[0m\u001b[38;5;183m\u001b[38;5;147m-\u001b[0m\u001b[38;5;183m\u001b[38;5;147m-\u001b[0m\u001b[38;5;183m\u001b[38;5;147m-\u001b[0m\u001b[38;5;183m\u001b[38;5;147m-\u001b[0m\u001b[38;5;183m\u001b[38;5;147m-\u001b[0m\u001b[38;5;183m\u001b[38;5;147m-\u001b[0m\u001b[38;5;183m\u001b[38;5;147m-\u001b[0m\u001b[38;5;183m\u001b[38;5;147m-\u001b[0m\u001b[38;5;183m\u001b[38;5;147m-\u001b[0m\u001b[38;5;183m\u001b[38;5;147m-\u001b[0m\u001b[38;5;183m\u001b[38;5;147m-\u001b[0m\u001b[38;5;183m\u001b[38;5;147m-\u001b[0m\u001b[38;5;183m\u001b[38;5;147m-\u001b[0m\u001b[38;5;183m\u001b[38;5;147m-\u001b[0m\u001b[38;5;183m\u001b[38;5;147m-\u001b[0m\u001b[38;5;183m\u001b[38;5;147m-\u001b[0m\u001b[38;5;183m\u001b[38;5;147m-\u001b[0m\u001b[38;5;183m\u001b[38;5;147m-\u001b[0m\u001b[38;5;183m\u001b[38;5;147m-\u001b[0m\u001b[38;5;183m\u001b[38;5;147m-\u001b[0m\u001b[38;5;183m\u001b[38;5;147m-\u001b[0m\u001b[38;5;183m\u001b[38;5;147m-\u001b[0m\u001b[38;5;183m\u001b[38;5;219m+\u001b[0m\u001b[38;5;183m\u001b[38;5;147m-\u001b[0m\u001b[38;5;183m\u001b[38;5;147m-\u001b[0m\u001b[38;5;183m\u001b[38;5;147m-\u001b[0m\u001b[38;5;183m\u001b[38;5;147m-\u001b[0m\u001b[38;5;183m\u001b[38;5;147m-\u001b[0m\u001b[38;5;183m\u001b[38;5;147m-\u001b[0m\u001b[38;5;183m\u001b[38;5;147m-\u001b[0m\u001b[38;5;183m\u001b[38;5;147m-\u001b[0m\u001b[38;5;183m\u001b[38;5;147m-\u001b[0m\u001b[38;5;183m\u001b[38;5;147m-\u001b[0m\u001b[38;5;183m\u001b[38;5;147m-\u001b[0m\u001b[38;5;183m\u001b[38;5;147m-\u001b[0m\u001b[38;5;183m\u001b[38;5;147m-\u001b[0m\u001b[38;5;183m\u001b[38;5;147m-\u001b[0m\u001b[38;5;183m\u001b[38;5;147m-\u001b[0m\u001b[38;5;183m\u001b[38;5;147m-\u001b[0m\u001b[38;5;183m\u001b[38;5;147m-\u001b[0m\u001b[38;5;183m\u001b[38;5;147m-\u001b[0m\u001b[38;5;183m\u001b[38;5;147m-\u001b[0m\u001b[38;5;183m\u001b[38;5;147m-\u001b[0m\u001b[38;5;183m\u001b[38;5;147m-\u001b[0m\u001b[38;5;183m\u001b[38;5;219m+\u001b[0m\u001b[38;5;183m\u001b[38;5;147m-\u001b[0m\u001b[38;5;183m\u001b[38;5;147m-\u001b[0m\u001b[38;5;183m\u001b[38;5;147m-\u001b[0m\u001b[38;5;183m\u001b[38;5;147m-\u001b[0m\u001b[38;5;183m\u001b[38;5;147m-\u001b[0m\u001b[38;5;183m\u001b[38;5;147m-\u001b[0m\u001b[38;5;183m\u001b[38;5;147m-\u001b[0m\u001b[38;5;183m\u001b[38;5;147m-\u001b[0m\u001b[38;5;183m\u001b[38;5;147m-\u001b[0m\u001b[38;5;183m\u001b[38;5;147m-\u001b[0m\u001b[38;5;183m\u001b[38;5;147m-\u001b[0m\u001b[38;5;183m\u001b[38;5;147m-\u001b[0m\u001b[38;5;183m\u001b[38;5;147m-\u001b[0m\u001b[38;5;183m\u001b[38;5;147m-\u001b[0m\u001b[38;5;183m\u001b[38;5;147m-\u001b[0m\u001b[38;5;183m\u001b[38;5;147m-\u001b[0m\u001b[38;5;183m\u001b[38;5;147m-\u001b[0m\u001b[38;5;183m\u001b[38;5;147m-\u001b[0m\u001b[38;5;183m\u001b[38;5;147m-\u001b[0m\u001b[38;5;183m\u001b[38;5;147m-\u001b[0m\u001b[38;5;183m\u001b[38;5;147m-\u001b[0m\u001b[38;5;183m\u001b[38;5;219m+\u001b[0m\u001b[38;5;183m\u001b[38;5;147m-\u001b[0m\u001b[38;5;183m\u001b[38;5;147m-\u001b[0m\u001b[38;5;183m\u001b[38;5;147m-\u001b[0m\u001b[38;5;183m\u001b[38;5;147m-\u001b[0m\u001b[38;5;183m\u001b[38;5;147m-\u001b[0m\u001b[38;5;183m\u001b[38;5;147m-\u001b[0m\u001b[38;5;183m\u001b[38;5;147m-\u001b[0m\u001b[38;5;183m\u001b[38;5;147m-\u001b[0m\u001b[38;5;183m\u001b[38;5;147m-\u001b[0m\u001b[38;5;183m\u001b[38;5;147m-\u001b[0m\u001b[38;5;183m\u001b[38;5;147m-\u001b[0m\u001b[38;5;183m\u001b[38;5;147m-\u001b[0m\u001b[38;5;183m\u001b[38;5;147m-\u001b[0m\u001b[38;5;183m\u001b[38;5;147m-\u001b[0m\u001b[38;5;183m\u001b[38;5;147m-\u001b[0m\u001b[38;5;183m\u001b[38;5;147m-\u001b[0m\u001b[38;5;183m\u001b[38;5;147m-\u001b[0m\u001b[38;5;183m\u001b[38;5;147m-\u001b[0m\u001b[38;5;183m\u001b[38;5;147m-\u001b[0m\u001b[38;5;183m\u001b[38;5;147m-\u001b[0m\u001b[38;5;183m\u001b[38;5;147m-\u001b[0m\u001b[38;5;183m\u001b[38;5;219m+\u001b[0m\u001b[38;5;183m\u001b[38;5;147m-\u001b[0m\u001b[38;5;183m\u001b[38;5;147m-\u001b[0m\u001b[38;5;183m\u001b[38;5;147m-\u001b[0m\u001b[38;5;183m\u001b[38;5;147m-\u001b[0m\u001b[38;5;183m\u001b[38;5;147m-\u001b[0m\u001b[38;5;183m\u001b[38;5;147m-\u001b[0m\u001b[38;5;183m\u001b[38;5;147m-\u001b[0m\u001b[38;5;183m\u001b[38;5;147m-\u001b[0m\u001b[38;5;183m\u001b[38;5;147m-\u001b[0m\u001b[38;5;183m\u001b[38;5;147m-\u001b[0m\u001b[38;5;183m\u001b[38;5;147m-\u001b[0m\u001b[38;5;183m\u001b[38;5;147m-\u001b[0m\u001b[38;5;183m\u001b[38;5;147m-\u001b[0m\u001b[38;5;183m\u001b[38;5;147m-\u001b[0m\u001b[38;5;183m\u001b[38;5;147m-\u001b[0m\u001b[38;5;183m\u001b[38;5;147m-\u001b[0m\u001b[38;5;183m\u001b[38;5;147m-\u001b[0m\u001b[38;5;183m\u001b[38;5;147m-\u001b[0m\u001b[38;5;183m\u001b[38;5;147m-\u001b[0m\u001b[38;5;183m\u001b[38;5;147m-\u001b[0m\u001b[38;5;183m\u001b[38;5;147m-\u001b[0m\u001b[38;5;183m\u001b[38;5;219m+\u001b[0m\u001b[38;5;183m\u001b[38;5;147m-\u001b[0m\u001b[38;5;183m\u001b[38;5;147m-\u001b[0m\u001b[38;5;183m\u001b[38;5;147m-\u001b[0m\u001b[38;5;183m\u001b[38;5;147m-\u001b[0m\u001b[38;5;183m\u001b[38;5;147m-\u001b[0m\u001b[38;5;183m\u001b[38;5;147m-\u001b[0m\u001b[38;5;183m\u001b[38;5;147m-\u001b[0m\u001b[38;5;183m\u001b[38;5;147m-\u001b[0m\u001b[38;5;183m\u001b[38;5;147m-\u001b[0m\u001b[38;5;183m\u001b[38;5;147m-\u001b[0m\u001b[38;5;183m\u001b[38;5;147m-\u001b[0m\u001b[38;5;183m\u001b[38;5;147m-\u001b[0m\u001b[38;5;183m\u001b[38;5;147m-\u001b[0m\u001b[38;5;183m\u001b[38;5;147m-\u001b[0m\u001b[38;5;183m\u001b[38;5;147m-\u001b[0m\u001b[38;5;183m\u001b[38;5;147m-\u001b[0m\u001b[38;5;183m\u001b[38;5;147m-\u001b[0m\u001b[38;5;183m\u001b[38;5;147m-\u001b[0m\u001b[38;5;183m\u001b[38;5;147m-\u001b[0m\u001b[38;5;183m\u001b[38;5;147m-\u001b[0m\u001b[38;5;183m\u001b[38;5;147m-\u001b[0m\u001b[38;5;183m\u001b[38;5;219m+\u001b[0m\u001b[38;5;183m\u001b[0m\n"
     ]
    }
   ],
   "source": [
    "test_three_best_models_up(models_dict, x_train_balanced_up, y_train_balanced_up, x_test_balanced_up, y_test)\n",
    "print(table_results(Model.all_models))"
   ]
  },
  {
   "cell_type": "code",
   "execution_count": 69,
   "metadata": {},
   "outputs": [],
   "source": [
    "def test_three_best_models_down(models, x_train, y_train, x_test, y_test):\n",
    "                                 \n",
    "    for model_name, model_dict in models.items():\n",
    "        if model_name in [\"PassiveAggressiveClassifier\", \"SGDClassifier\", \"LinearSVC\"]:\n",
    "            print(f\"On teste le modèle {model_name} !\")\n",
    "            hyperparameters_training(f\"balanced_down_{model_name}\", model_dict, x_train, y_train, x_test, y_test)"
   ]
  },
  {
   "cell_type": "code",
   "execution_count": 70,
   "metadata": {},
   "outputs": [
    {
     "name": "stdout",
     "output_type": "stream",
     "text": [
      "On teste le modèle SGDClassifier !\n",
      "On teste le modèle LinearSVC !\n",
      "On teste le modèle PassiveAggressiveClassifier !\n",
      "\u001b[38;5;219m+\u001b[0m\u001b[38;5;183m\u001b[38;5;147m-\u001b[0m\u001b[38;5;183m\u001b[38;5;147m-\u001b[0m\u001b[38;5;183m\u001b[38;5;147m-\u001b[0m\u001b[38;5;183m\u001b[38;5;147m-\u001b[0m\u001b[38;5;183m\u001b[38;5;147m-\u001b[0m\u001b[38;5;183m\u001b[38;5;147m-\u001b[0m\u001b[38;5;183m\u001b[38;5;147m-\u001b[0m\u001b[38;5;183m\u001b[38;5;147m-\u001b[0m\u001b[38;5;183m\u001b[38;5;147m-\u001b[0m\u001b[38;5;183m\u001b[38;5;147m-\u001b[0m\u001b[38;5;183m\u001b[38;5;147m-\u001b[0m\u001b[38;5;183m\u001b[38;5;147m-\u001b[0m\u001b[38;5;183m\u001b[38;5;147m-\u001b[0m\u001b[38;5;183m\u001b[38;5;147m-\u001b[0m\u001b[38;5;183m\u001b[38;5;147m-\u001b[0m\u001b[38;5;183m\u001b[38;5;147m-\u001b[0m\u001b[38;5;183m\u001b[38;5;147m-\u001b[0m\u001b[38;5;183m\u001b[38;5;147m-\u001b[0m\u001b[38;5;183m\u001b[38;5;147m-\u001b[0m\u001b[38;5;183m\u001b[38;5;147m-\u001b[0m\u001b[38;5;183m\u001b[38;5;147m-\u001b[0m\u001b[38;5;183m\u001b[38;5;147m-\u001b[0m\u001b[38;5;183m\u001b[38;5;147m-\u001b[0m\u001b[38;5;183m\u001b[38;5;147m-\u001b[0m\u001b[38;5;183m\u001b[38;5;147m-\u001b[0m\u001b[38;5;183m\u001b[38;5;147m-\u001b[0m\u001b[38;5;183m\u001b[38;5;147m-\u001b[0m\u001b[38;5;183m\u001b[38;5;147m-\u001b[0m\u001b[38;5;183m\u001b[38;5;147m-\u001b[0m\u001b[38;5;183m\u001b[38;5;147m-\u001b[0m\u001b[38;5;183m\u001b[38;5;147m-\u001b[0m\u001b[38;5;183m\u001b[38;5;147m-\u001b[0m\u001b[38;5;183m\u001b[38;5;147m-\u001b[0m\u001b[38;5;183m\u001b[38;5;147m-\u001b[0m\u001b[38;5;183m\u001b[38;5;147m-\u001b[0m\u001b[38;5;183m\u001b[38;5;147m-\u001b[0m\u001b[38;5;183m\u001b[38;5;147m-\u001b[0m\u001b[38;5;183m\u001b[38;5;147m-\u001b[0m\u001b[38;5;183m\u001b[38;5;147m-\u001b[0m\u001b[38;5;183m\u001b[38;5;147m-\u001b[0m\u001b[38;5;183m\u001b[38;5;147m-\u001b[0m\u001b[38;5;183m\u001b[38;5;147m-\u001b[0m\u001b[38;5;183m\u001b[38;5;147m-\u001b[0m\u001b[38;5;183m\u001b[38;5;147m-\u001b[0m\u001b[38;5;183m\u001b[38;5;147m-\u001b[0m\u001b[38;5;183m\u001b[38;5;219m+\u001b[0m\u001b[38;5;183m\u001b[38;5;147m-\u001b[0m\u001b[38;5;183m\u001b[38;5;147m-\u001b[0m\u001b[38;5;183m\u001b[38;5;147m-\u001b[0m\u001b[38;5;183m\u001b[38;5;147m-\u001b[0m\u001b[38;5;183m\u001b[38;5;147m-\u001b[0m\u001b[38;5;183m\u001b[38;5;147m-\u001b[0m\u001b[38;5;183m\u001b[38;5;147m-\u001b[0m\u001b[38;5;183m\u001b[38;5;147m-\u001b[0m\u001b[38;5;183m\u001b[38;5;147m-\u001b[0m\u001b[38;5;183m\u001b[38;5;147m-\u001b[0m\u001b[38;5;183m\u001b[38;5;147m-\u001b[0m\u001b[38;5;183m\u001b[38;5;147m-\u001b[0m\u001b[38;5;183m\u001b[38;5;147m-\u001b[0m\u001b[38;5;183m\u001b[38;5;147m-\u001b[0m\u001b[38;5;183m\u001b[38;5;147m-\u001b[0m\u001b[38;5;183m\u001b[38;5;147m-\u001b[0m\u001b[38;5;183m\u001b[38;5;147m-\u001b[0m\u001b[38;5;183m\u001b[38;5;147m-\u001b[0m\u001b[38;5;183m\u001b[38;5;147m-\u001b[0m\u001b[38;5;183m\u001b[38;5;147m-\u001b[0m\u001b[38;5;183m\u001b[38;5;147m-\u001b[0m\u001b[38;5;183m\u001b[38;5;147m-\u001b[0m\u001b[38;5;183m\u001b[38;5;147m-\u001b[0m\u001b[38;5;183m\u001b[38;5;147m-\u001b[0m\u001b[38;5;183m\u001b[38;5;147m-\u001b[0m\u001b[38;5;183m\u001b[38;5;147m-\u001b[0m\u001b[38;5;183m\u001b[38;5;147m-\u001b[0m\u001b[38;5;183m\u001b[38;5;147m-\u001b[0m\u001b[38;5;183m\u001b[38;5;147m-\u001b[0m\u001b[38;5;183m\u001b[38;5;147m-\u001b[0m\u001b[38;5;183m\u001b[38;5;147m-\u001b[0m\u001b[38;5;183m\u001b[38;5;147m-\u001b[0m\u001b[38;5;183m\u001b[38;5;147m-\u001b[0m\u001b[38;5;183m\u001b[38;5;147m-\u001b[0m\u001b[38;5;183m\u001b[38;5;147m-\u001b[0m\u001b[38;5;183m\u001b[38;5;147m-\u001b[0m\u001b[38;5;183m\u001b[38;5;147m-\u001b[0m\u001b[38;5;183m\u001b[38;5;147m-\u001b[0m\u001b[38;5;183m\u001b[38;5;147m-\u001b[0m\u001b[38;5;183m\u001b[38;5;147m-\u001b[0m\u001b[38;5;183m\u001b[38;5;147m-\u001b[0m\u001b[38;5;183m\u001b[38;5;147m-\u001b[0m\u001b[38;5;183m\u001b[38;5;147m-\u001b[0m\u001b[38;5;183m\u001b[38;5;147m-\u001b[0m\u001b[38;5;183m\u001b[38;5;147m-\u001b[0m\u001b[38;5;183m\u001b[38;5;147m-\u001b[0m\u001b[38;5;183m\u001b[38;5;147m-\u001b[0m\u001b[38;5;183m\u001b[38;5;147m-\u001b[0m\u001b[38;5;183m\u001b[38;5;147m-\u001b[0m\u001b[38;5;183m\u001b[38;5;147m-\u001b[0m\u001b[38;5;183m\u001b[38;5;147m-\u001b[0m\u001b[38;5;183m\u001b[38;5;147m-\u001b[0m\u001b[38;5;183m\u001b[38;5;147m-\u001b[0m\u001b[38;5;183m\u001b[38;5;147m-\u001b[0m\u001b[38;5;183m\u001b[38;5;147m-\u001b[0m\u001b[38;5;183m\u001b[38;5;147m-\u001b[0m\u001b[38;5;183m\u001b[38;5;147m-\u001b[0m\u001b[38;5;183m\u001b[38;5;147m-\u001b[0m\u001b[38;5;183m\u001b[38;5;219m+\u001b[0m\u001b[38;5;183m\u001b[38;5;147m-\u001b[0m\u001b[38;5;183m\u001b[38;5;147m-\u001b[0m\u001b[38;5;183m\u001b[38;5;147m-\u001b[0m\u001b[38;5;183m\u001b[38;5;147m-\u001b[0m\u001b[38;5;183m\u001b[38;5;147m-\u001b[0m\u001b[38;5;183m\u001b[38;5;147m-\u001b[0m\u001b[38;5;183m\u001b[38;5;147m-\u001b[0m\u001b[38;5;183m\u001b[38;5;147m-\u001b[0m\u001b[38;5;183m\u001b[38;5;147m-\u001b[0m\u001b[38;5;183m\u001b[38;5;147m-\u001b[0m\u001b[38;5;183m\u001b[38;5;147m-\u001b[0m\u001b[38;5;183m\u001b[38;5;147m-\u001b[0m\u001b[38;5;183m\u001b[38;5;147m-\u001b[0m\u001b[38;5;183m\u001b[38;5;147m-\u001b[0m\u001b[38;5;183m\u001b[38;5;147m-\u001b[0m\u001b[38;5;183m\u001b[38;5;147m-\u001b[0m\u001b[38;5;183m\u001b[38;5;147m-\u001b[0m\u001b[38;5;183m\u001b[38;5;147m-\u001b[0m\u001b[38;5;183m\u001b[38;5;147m-\u001b[0m\u001b[38;5;183m\u001b[38;5;147m-\u001b[0m\u001b[38;5;183m\u001b[38;5;147m-\u001b[0m\u001b[38;5;183m\u001b[38;5;219m+\u001b[0m\u001b[38;5;183m\u001b[38;5;147m-\u001b[0m\u001b[38;5;183m\u001b[38;5;147m-\u001b[0m\u001b[38;5;183m\u001b[38;5;147m-\u001b[0m\u001b[38;5;183m\u001b[38;5;147m-\u001b[0m\u001b[38;5;183m\u001b[38;5;147m-\u001b[0m\u001b[38;5;183m\u001b[38;5;147m-\u001b[0m\u001b[38;5;183m\u001b[38;5;147m-\u001b[0m\u001b[38;5;183m\u001b[38;5;147m-\u001b[0m\u001b[38;5;183m\u001b[38;5;147m-\u001b[0m\u001b[38;5;183m\u001b[38;5;147m-\u001b[0m\u001b[38;5;183m\u001b[38;5;147m-\u001b[0m\u001b[38;5;183m\u001b[38;5;147m-\u001b[0m\u001b[38;5;183m\u001b[38;5;147m-\u001b[0m\u001b[38;5;183m\u001b[38;5;147m-\u001b[0m\u001b[38;5;183m\u001b[38;5;147m-\u001b[0m\u001b[38;5;183m\u001b[38;5;147m-\u001b[0m\u001b[38;5;183m\u001b[38;5;147m-\u001b[0m\u001b[38;5;183m\u001b[38;5;147m-\u001b[0m\u001b[38;5;183m\u001b[38;5;147m-\u001b[0m\u001b[38;5;183m\u001b[38;5;147m-\u001b[0m\u001b[38;5;183m\u001b[38;5;147m-\u001b[0m\u001b[38;5;183m\u001b[38;5;219m+\u001b[0m\u001b[38;5;183m\u001b[38;5;147m-\u001b[0m\u001b[38;5;183m\u001b[38;5;147m-\u001b[0m\u001b[38;5;183m\u001b[38;5;147m-\u001b[0m\u001b[38;5;183m\u001b[38;5;147m-\u001b[0m\u001b[38;5;183m\u001b[38;5;147m-\u001b[0m\u001b[38;5;183m\u001b[38;5;147m-\u001b[0m\u001b[38;5;183m\u001b[38;5;147m-\u001b[0m\u001b[38;5;183m\u001b[38;5;147m-\u001b[0m\u001b[38;5;183m\u001b[38;5;147m-\u001b[0m\u001b[38;5;183m\u001b[38;5;147m-\u001b[0m\u001b[38;5;183m\u001b[38;5;147m-\u001b[0m\u001b[38;5;183m\u001b[38;5;147m-\u001b[0m\u001b[38;5;183m\u001b[38;5;147m-\u001b[0m\u001b[38;5;183m\u001b[38;5;147m-\u001b[0m\u001b[38;5;183m\u001b[38;5;147m-\u001b[0m\u001b[38;5;183m\u001b[38;5;147m-\u001b[0m\u001b[38;5;183m\u001b[38;5;147m-\u001b[0m\u001b[38;5;183m\u001b[38;5;147m-\u001b[0m\u001b[38;5;183m\u001b[38;5;147m-\u001b[0m\u001b[38;5;183m\u001b[38;5;147m-\u001b[0m\u001b[38;5;183m\u001b[38;5;147m-\u001b[0m\u001b[38;5;183m\u001b[38;5;219m+\u001b[0m\u001b[38;5;183m\u001b[38;5;147m-\u001b[0m\u001b[38;5;183m\u001b[38;5;147m-\u001b[0m\u001b[38;5;183m\u001b[38;5;147m-\u001b[0m\u001b[38;5;183m\u001b[38;5;147m-\u001b[0m\u001b[38;5;183m\u001b[38;5;147m-\u001b[0m\u001b[38;5;183m\u001b[38;5;147m-\u001b[0m\u001b[38;5;183m\u001b[38;5;147m-\u001b[0m\u001b[38;5;183m\u001b[38;5;147m-\u001b[0m\u001b[38;5;183m\u001b[38;5;147m-\u001b[0m\u001b[38;5;183m\u001b[38;5;147m-\u001b[0m\u001b[38;5;183m\u001b[38;5;147m-\u001b[0m\u001b[38;5;183m\u001b[38;5;147m-\u001b[0m\u001b[38;5;183m\u001b[38;5;147m-\u001b[0m\u001b[38;5;183m\u001b[38;5;147m-\u001b[0m\u001b[38;5;183m\u001b[38;5;147m-\u001b[0m\u001b[38;5;183m\u001b[38;5;147m-\u001b[0m\u001b[38;5;183m\u001b[38;5;147m-\u001b[0m\u001b[38;5;183m\u001b[38;5;147m-\u001b[0m\u001b[38;5;183m\u001b[38;5;147m-\u001b[0m\u001b[38;5;183m\u001b[38;5;147m-\u001b[0m\u001b[38;5;183m\u001b[38;5;147m-\u001b[0m\u001b[38;5;183m\u001b[38;5;219m+\u001b[0m\u001b[38;5;183m\u001b[38;5;147m-\u001b[0m\u001b[38;5;183m\u001b[38;5;147m-\u001b[0m\u001b[38;5;183m\u001b[38;5;147m-\u001b[0m\u001b[38;5;183m\u001b[38;5;147m-\u001b[0m\u001b[38;5;183m\u001b[38;5;147m-\u001b[0m\u001b[38;5;183m\u001b[38;5;147m-\u001b[0m\u001b[38;5;183m\u001b[38;5;147m-\u001b[0m\u001b[38;5;183m\u001b[38;5;147m-\u001b[0m\u001b[38;5;183m\u001b[38;5;147m-\u001b[0m\u001b[38;5;183m\u001b[38;5;147m-\u001b[0m\u001b[38;5;183m\u001b[38;5;147m-\u001b[0m\u001b[38;5;183m\u001b[38;5;147m-\u001b[0m\u001b[38;5;183m\u001b[38;5;147m-\u001b[0m\u001b[38;5;183m\u001b[38;5;147m-\u001b[0m\u001b[38;5;183m\u001b[38;5;147m-\u001b[0m\u001b[38;5;183m\u001b[38;5;147m-\u001b[0m\u001b[38;5;183m\u001b[38;5;147m-\u001b[0m\u001b[38;5;183m\u001b[38;5;147m-\u001b[0m\u001b[38;5;183m\u001b[38;5;147m-\u001b[0m\u001b[38;5;183m\u001b[38;5;147m-\u001b[0m\u001b[38;5;183m\u001b[38;5;147m-\u001b[0m\u001b[38;5;183m\u001b[38;5;219m+\u001b[0m\u001b[38;5;183m\n",
      "\u001b[35m|\u001b[0m\u001b[38;5;183m                  Algorithme                 \u001b[35m|\u001b[0m\u001b[38;5;183m                     Hyperparamètres                      \u001b[35m|\u001b[0m\u001b[38;5;183m       Macro f1      \u001b[35m|\u001b[0m\u001b[38;5;183m       Accuracy      \u001b[35m|\u001b[0m\u001b[38;5;183m      Precision      \u001b[35m|\u001b[0m\u001b[38;5;183m        Rappel       \u001b[35m|\u001b[0m\u001b[38;5;183m  Temps d'exécution  \u001b[35m|\u001b[0m\u001b[38;5;183m\n",
      "\u001b[38;5;219m+\u001b[0m\u001b[38;5;183m\u001b[38;5;147m-\u001b[0m\u001b[38;5;183m\u001b[38;5;147m-\u001b[0m\u001b[38;5;183m\u001b[38;5;147m-\u001b[0m\u001b[38;5;183m\u001b[38;5;147m-\u001b[0m\u001b[38;5;183m\u001b[38;5;147m-\u001b[0m\u001b[38;5;183m\u001b[38;5;147m-\u001b[0m\u001b[38;5;183m\u001b[38;5;147m-\u001b[0m\u001b[38;5;183m\u001b[38;5;147m-\u001b[0m\u001b[38;5;183m\u001b[38;5;147m-\u001b[0m\u001b[38;5;183m\u001b[38;5;147m-\u001b[0m\u001b[38;5;183m\u001b[38;5;147m-\u001b[0m\u001b[38;5;183m\u001b[38;5;147m-\u001b[0m\u001b[38;5;183m\u001b[38;5;147m-\u001b[0m\u001b[38;5;183m\u001b[38;5;147m-\u001b[0m\u001b[38;5;183m\u001b[38;5;147m-\u001b[0m\u001b[38;5;183m\u001b[38;5;147m-\u001b[0m\u001b[38;5;183m\u001b[38;5;147m-\u001b[0m\u001b[38;5;183m\u001b[38;5;147m-\u001b[0m\u001b[38;5;183m\u001b[38;5;147m-\u001b[0m\u001b[38;5;183m\u001b[38;5;147m-\u001b[0m\u001b[38;5;183m\u001b[38;5;147m-\u001b[0m\u001b[38;5;183m\u001b[38;5;147m-\u001b[0m\u001b[38;5;183m\u001b[38;5;147m-\u001b[0m\u001b[38;5;183m\u001b[38;5;147m-\u001b[0m\u001b[38;5;183m\u001b[38;5;147m-\u001b[0m\u001b[38;5;183m\u001b[38;5;147m-\u001b[0m\u001b[38;5;183m\u001b[38;5;147m-\u001b[0m\u001b[38;5;183m\u001b[38;5;147m-\u001b[0m\u001b[38;5;183m\u001b[38;5;147m-\u001b[0m\u001b[38;5;183m\u001b[38;5;147m-\u001b[0m\u001b[38;5;183m\u001b[38;5;147m-\u001b[0m\u001b[38;5;183m\u001b[38;5;147m-\u001b[0m\u001b[38;5;183m\u001b[38;5;147m-\u001b[0m\u001b[38;5;183m\u001b[38;5;147m-\u001b[0m\u001b[38;5;183m\u001b[38;5;147m-\u001b[0m\u001b[38;5;183m\u001b[38;5;147m-\u001b[0m\u001b[38;5;183m\u001b[38;5;147m-\u001b[0m\u001b[38;5;183m\u001b[38;5;147m-\u001b[0m\u001b[38;5;183m\u001b[38;5;147m-\u001b[0m\u001b[38;5;183m\u001b[38;5;147m-\u001b[0m\u001b[38;5;183m\u001b[38;5;147m-\u001b[0m\u001b[38;5;183m\u001b[38;5;147m-\u001b[0m\u001b[38;5;183m\u001b[38;5;147m-\u001b[0m\u001b[38;5;183m\u001b[38;5;147m-\u001b[0m\u001b[38;5;183m\u001b[38;5;147m-\u001b[0m\u001b[38;5;183m\u001b[38;5;219m+\u001b[0m\u001b[38;5;183m\u001b[38;5;147m-\u001b[0m\u001b[38;5;183m\u001b[38;5;147m-\u001b[0m\u001b[38;5;183m\u001b[38;5;147m-\u001b[0m\u001b[38;5;183m\u001b[38;5;147m-\u001b[0m\u001b[38;5;183m\u001b[38;5;147m-\u001b[0m\u001b[38;5;183m\u001b[38;5;147m-\u001b[0m\u001b[38;5;183m\u001b[38;5;147m-\u001b[0m\u001b[38;5;183m\u001b[38;5;147m-\u001b[0m\u001b[38;5;183m\u001b[38;5;147m-\u001b[0m\u001b[38;5;183m\u001b[38;5;147m-\u001b[0m\u001b[38;5;183m\u001b[38;5;147m-\u001b[0m\u001b[38;5;183m\u001b[38;5;147m-\u001b[0m\u001b[38;5;183m\u001b[38;5;147m-\u001b[0m\u001b[38;5;183m\u001b[38;5;147m-\u001b[0m\u001b[38;5;183m\u001b[38;5;147m-\u001b[0m\u001b[38;5;183m\u001b[38;5;147m-\u001b[0m\u001b[38;5;183m\u001b[38;5;147m-\u001b[0m\u001b[38;5;183m\u001b[38;5;147m-\u001b[0m\u001b[38;5;183m\u001b[38;5;147m-\u001b[0m\u001b[38;5;183m\u001b[38;5;147m-\u001b[0m\u001b[38;5;183m\u001b[38;5;147m-\u001b[0m\u001b[38;5;183m\u001b[38;5;147m-\u001b[0m\u001b[38;5;183m\u001b[38;5;147m-\u001b[0m\u001b[38;5;183m\u001b[38;5;147m-\u001b[0m\u001b[38;5;183m\u001b[38;5;147m-\u001b[0m\u001b[38;5;183m\u001b[38;5;147m-\u001b[0m\u001b[38;5;183m\u001b[38;5;147m-\u001b[0m\u001b[38;5;183m\u001b[38;5;147m-\u001b[0m\u001b[38;5;183m\u001b[38;5;147m-\u001b[0m\u001b[38;5;183m\u001b[38;5;147m-\u001b[0m\u001b[38;5;183m\u001b[38;5;147m-\u001b[0m\u001b[38;5;183m\u001b[38;5;147m-\u001b[0m\u001b[38;5;183m\u001b[38;5;147m-\u001b[0m\u001b[38;5;183m\u001b[38;5;147m-\u001b[0m\u001b[38;5;183m\u001b[38;5;147m-\u001b[0m\u001b[38;5;183m\u001b[38;5;147m-\u001b[0m\u001b[38;5;183m\u001b[38;5;147m-\u001b[0m\u001b[38;5;183m\u001b[38;5;147m-\u001b[0m\u001b[38;5;183m\u001b[38;5;147m-\u001b[0m\u001b[38;5;183m\u001b[38;5;147m-\u001b[0m\u001b[38;5;183m\u001b[38;5;147m-\u001b[0m\u001b[38;5;183m\u001b[38;5;147m-\u001b[0m\u001b[38;5;183m\u001b[38;5;147m-\u001b[0m\u001b[38;5;183m\u001b[38;5;147m-\u001b[0m\u001b[38;5;183m\u001b[38;5;147m-\u001b[0m\u001b[38;5;183m\u001b[38;5;147m-\u001b[0m\u001b[38;5;183m\u001b[38;5;147m-\u001b[0m\u001b[38;5;183m\u001b[38;5;147m-\u001b[0m\u001b[38;5;183m\u001b[38;5;147m-\u001b[0m\u001b[38;5;183m\u001b[38;5;147m-\u001b[0m\u001b[38;5;183m\u001b[38;5;147m-\u001b[0m\u001b[38;5;183m\u001b[38;5;147m-\u001b[0m\u001b[38;5;183m\u001b[38;5;147m-\u001b[0m\u001b[38;5;183m\u001b[38;5;147m-\u001b[0m\u001b[38;5;183m\u001b[38;5;147m-\u001b[0m\u001b[38;5;183m\u001b[38;5;147m-\u001b[0m\u001b[38;5;183m\u001b[38;5;147m-\u001b[0m\u001b[38;5;183m\u001b[38;5;147m-\u001b[0m\u001b[38;5;183m\u001b[38;5;219m+\u001b[0m\u001b[38;5;183m\u001b[38;5;147m-\u001b[0m\u001b[38;5;183m\u001b[38;5;147m-\u001b[0m\u001b[38;5;183m\u001b[38;5;147m-\u001b[0m\u001b[38;5;183m\u001b[38;5;147m-\u001b[0m\u001b[38;5;183m\u001b[38;5;147m-\u001b[0m\u001b[38;5;183m\u001b[38;5;147m-\u001b[0m\u001b[38;5;183m\u001b[38;5;147m-\u001b[0m\u001b[38;5;183m\u001b[38;5;147m-\u001b[0m\u001b[38;5;183m\u001b[38;5;147m-\u001b[0m\u001b[38;5;183m\u001b[38;5;147m-\u001b[0m\u001b[38;5;183m\u001b[38;5;147m-\u001b[0m\u001b[38;5;183m\u001b[38;5;147m-\u001b[0m\u001b[38;5;183m\u001b[38;5;147m-\u001b[0m\u001b[38;5;183m\u001b[38;5;147m-\u001b[0m\u001b[38;5;183m\u001b[38;5;147m-\u001b[0m\u001b[38;5;183m\u001b[38;5;147m-\u001b[0m\u001b[38;5;183m\u001b[38;5;147m-\u001b[0m\u001b[38;5;183m\u001b[38;5;147m-\u001b[0m\u001b[38;5;183m\u001b[38;5;147m-\u001b[0m\u001b[38;5;183m\u001b[38;5;147m-\u001b[0m\u001b[38;5;183m\u001b[38;5;147m-\u001b[0m\u001b[38;5;183m\u001b[38;5;219m+\u001b[0m\u001b[38;5;183m\u001b[38;5;147m-\u001b[0m\u001b[38;5;183m\u001b[38;5;147m-\u001b[0m\u001b[38;5;183m\u001b[38;5;147m-\u001b[0m\u001b[38;5;183m\u001b[38;5;147m-\u001b[0m\u001b[38;5;183m\u001b[38;5;147m-\u001b[0m\u001b[38;5;183m\u001b[38;5;147m-\u001b[0m\u001b[38;5;183m\u001b[38;5;147m-\u001b[0m\u001b[38;5;183m\u001b[38;5;147m-\u001b[0m\u001b[38;5;183m\u001b[38;5;147m-\u001b[0m\u001b[38;5;183m\u001b[38;5;147m-\u001b[0m\u001b[38;5;183m\u001b[38;5;147m-\u001b[0m\u001b[38;5;183m\u001b[38;5;147m-\u001b[0m\u001b[38;5;183m\u001b[38;5;147m-\u001b[0m\u001b[38;5;183m\u001b[38;5;147m-\u001b[0m\u001b[38;5;183m\u001b[38;5;147m-\u001b[0m\u001b[38;5;183m\u001b[38;5;147m-\u001b[0m\u001b[38;5;183m\u001b[38;5;147m-\u001b[0m\u001b[38;5;183m\u001b[38;5;147m-\u001b[0m\u001b[38;5;183m\u001b[38;5;147m-\u001b[0m\u001b[38;5;183m\u001b[38;5;147m-\u001b[0m\u001b[38;5;183m\u001b[38;5;147m-\u001b[0m\u001b[38;5;183m\u001b[38;5;219m+\u001b[0m\u001b[38;5;183m\u001b[38;5;147m-\u001b[0m\u001b[38;5;183m\u001b[38;5;147m-\u001b[0m\u001b[38;5;183m\u001b[38;5;147m-\u001b[0m\u001b[38;5;183m\u001b[38;5;147m-\u001b[0m\u001b[38;5;183m\u001b[38;5;147m-\u001b[0m\u001b[38;5;183m\u001b[38;5;147m-\u001b[0m\u001b[38;5;183m\u001b[38;5;147m-\u001b[0m\u001b[38;5;183m\u001b[38;5;147m-\u001b[0m\u001b[38;5;183m\u001b[38;5;147m-\u001b[0m\u001b[38;5;183m\u001b[38;5;147m-\u001b[0m\u001b[38;5;183m\u001b[38;5;147m-\u001b[0m\u001b[38;5;183m\u001b[38;5;147m-\u001b[0m\u001b[38;5;183m\u001b[38;5;147m-\u001b[0m\u001b[38;5;183m\u001b[38;5;147m-\u001b[0m\u001b[38;5;183m\u001b[38;5;147m-\u001b[0m\u001b[38;5;183m\u001b[38;5;147m-\u001b[0m\u001b[38;5;183m\u001b[38;5;147m-\u001b[0m\u001b[38;5;183m\u001b[38;5;147m-\u001b[0m\u001b[38;5;183m\u001b[38;5;147m-\u001b[0m\u001b[38;5;183m\u001b[38;5;147m-\u001b[0m\u001b[38;5;183m\u001b[38;5;147m-\u001b[0m\u001b[38;5;183m\u001b[38;5;219m+\u001b[0m\u001b[38;5;183m\u001b[38;5;147m-\u001b[0m\u001b[38;5;183m\u001b[38;5;147m-\u001b[0m\u001b[38;5;183m\u001b[38;5;147m-\u001b[0m\u001b[38;5;183m\u001b[38;5;147m-\u001b[0m\u001b[38;5;183m\u001b[38;5;147m-\u001b[0m\u001b[38;5;183m\u001b[38;5;147m-\u001b[0m\u001b[38;5;183m\u001b[38;5;147m-\u001b[0m\u001b[38;5;183m\u001b[38;5;147m-\u001b[0m\u001b[38;5;183m\u001b[38;5;147m-\u001b[0m\u001b[38;5;183m\u001b[38;5;147m-\u001b[0m\u001b[38;5;183m\u001b[38;5;147m-\u001b[0m\u001b[38;5;183m\u001b[38;5;147m-\u001b[0m\u001b[38;5;183m\u001b[38;5;147m-\u001b[0m\u001b[38;5;183m\u001b[38;5;147m-\u001b[0m\u001b[38;5;183m\u001b[38;5;147m-\u001b[0m\u001b[38;5;183m\u001b[38;5;147m-\u001b[0m\u001b[38;5;183m\u001b[38;5;147m-\u001b[0m\u001b[38;5;183m\u001b[38;5;147m-\u001b[0m\u001b[38;5;183m\u001b[38;5;147m-\u001b[0m\u001b[38;5;183m\u001b[38;5;147m-\u001b[0m\u001b[38;5;183m\u001b[38;5;147m-\u001b[0m\u001b[38;5;183m\u001b[38;5;219m+\u001b[0m\u001b[38;5;183m\u001b[38;5;147m-\u001b[0m\u001b[38;5;183m\u001b[38;5;147m-\u001b[0m\u001b[38;5;183m\u001b[38;5;147m-\u001b[0m\u001b[38;5;183m\u001b[38;5;147m-\u001b[0m\u001b[38;5;183m\u001b[38;5;147m-\u001b[0m\u001b[38;5;183m\u001b[38;5;147m-\u001b[0m\u001b[38;5;183m\u001b[38;5;147m-\u001b[0m\u001b[38;5;183m\u001b[38;5;147m-\u001b[0m\u001b[38;5;183m\u001b[38;5;147m-\u001b[0m\u001b[38;5;183m\u001b[38;5;147m-\u001b[0m\u001b[38;5;183m\u001b[38;5;147m-\u001b[0m\u001b[38;5;183m\u001b[38;5;147m-\u001b[0m\u001b[38;5;183m\u001b[38;5;147m-\u001b[0m\u001b[38;5;183m\u001b[38;5;147m-\u001b[0m\u001b[38;5;183m\u001b[38;5;147m-\u001b[0m\u001b[38;5;183m\u001b[38;5;147m-\u001b[0m\u001b[38;5;183m\u001b[38;5;147m-\u001b[0m\u001b[38;5;183m\u001b[38;5;147m-\u001b[0m\u001b[38;5;183m\u001b[38;5;147m-\u001b[0m\u001b[38;5;183m\u001b[38;5;147m-\u001b[0m\u001b[38;5;183m\u001b[38;5;147m-\u001b[0m\u001b[38;5;183m\u001b[38;5;219m+\u001b[0m\u001b[38;5;183m\n",
      "\u001b[35m|\u001b[0m\u001b[38;5;183m  balanced_up_PassiveAggressiveClassifier_4  \u001b[35m|\u001b[0m\u001b[38;5;183m    PassiveAggressiveClassifier(loss='squared_hinge')     \u001b[35m|\u001b[0m\u001b[38;5;183m 0.35153460614535514 \u001b[35m|\u001b[0m\u001b[38;5;183m  0.390495867768595  \u001b[35m|\u001b[0m\u001b[38;5;183m 0.35338589814023386 \u001b[35m|\u001b[0m\u001b[38;5;183m 0.35189746620502904 \u001b[35m|\u001b[0m\u001b[38;5;183m  1.158452033996582  \u001b[35m|\u001b[0m\u001b[38;5;183m\n",
      "\u001b[35m|\u001b[0m\u001b[38;5;183m  balanced_up_PassiveAggressiveClassifier_2  \u001b[35m|\u001b[0m\u001b[38;5;183m PassiveAggressiveClassifier(C=0.5, loss='squared_hinge') \u001b[35m|\u001b[0m\u001b[38;5;183m  0.3511829777477872 \u001b[35m|\u001b[0m\u001b[38;5;183m 0.39061065197428835 \u001b[35m|\u001b[0m\u001b[38;5;183m   0.35320158017241  \u001b[35m|\u001b[0m\u001b[38;5;183m  0.3513933741298668 \u001b[35m|\u001b[0m\u001b[38;5;183m  1.2888472080230713 \u001b[35m|\u001b[0m\u001b[38;5;183m\n",
      "\u001b[35m|\u001b[0m\u001b[38;5;183m  balanced_up_PassiveAggressiveClassifier_3  \u001b[35m|\u001b[0m\u001b[38;5;183m              PassiveAggressiveClassifier()               \u001b[35m|\u001b[0m\u001b[38;5;183m  0.3504948896240195 \u001b[35m|\u001b[0m\u001b[38;5;183m 0.39003673094582186 \u001b[35m|\u001b[0m\u001b[38;5;183m 0.35319300948477406 \u001b[35m|\u001b[0m\u001b[38;5;183m 0.34994724495516516 \u001b[35m|\u001b[0m\u001b[38;5;183m  0.9214727878570557 \u001b[35m|\u001b[0m\u001b[38;5;183m\n",
      "\u001b[35m|\u001b[0m\u001b[38;5;183m  balanced_up_PassiveAggressiveClassifier_1  \u001b[35m|\u001b[0m\u001b[38;5;183m            PassiveAggressiveClassifier(C=0.5)            \u001b[35m|\u001b[0m\u001b[38;5;183m  0.3499681735448617 \u001b[35m|\u001b[0m\u001b[38;5;183m  0.3894628099173554 \u001b[35m|\u001b[0m\u001b[38;5;183m 0.35222600289265393 \u001b[35m|\u001b[0m\u001b[38;5;183m 0.35008260834100363 \u001b[35m|\u001b[0m\u001b[38;5;183m  1.2187023162841797 \u001b[35m|\u001b[0m\u001b[38;5;183m\n",
      "\u001b[35m|\u001b[0m\u001b[38;5;183m         balanced_up_SGDClassifier_2         \u001b[35m|\u001b[0m\u001b[38;5;183m           SGDClassifier(loss='squared_hinge')            \u001b[35m|\u001b[0m\u001b[38;5;183m 0.34982826210088713 \u001b[35m|\u001b[0m\u001b[38;5;183m  0.3774104683195592 \u001b[35m|\u001b[0m\u001b[38;5;183m  0.3446836703770936 \u001b[35m|\u001b[0m\u001b[38;5;183m  0.3586977805942621 \u001b[35m|\u001b[0m\u001b[38;5;183m  0.9286181926727295 \u001b[35m|\u001b[0m\u001b[38;5;183m\n",
      "\u001b[35m|\u001b[0m\u001b[38;5;183m           balanced_up_LinearSVC_1           \u001b[35m|\u001b[0m\u001b[38;5;183m               LinearSVC(C=0.5, dual=True)                \u001b[35m|\u001b[0m\u001b[38;5;183m 0.34978977868852545 \u001b[35m|\u001b[0m\u001b[38;5;183m 0.37993572084481175 \u001b[35m|\u001b[0m\u001b[38;5;183m  0.3449777200274905 \u001b[35m|\u001b[0m\u001b[38;5;183m  0.3577038331219887 \u001b[35m|\u001b[0m\u001b[38;5;183m  2.5736947059631348 \u001b[35m|\u001b[0m\u001b[38;5;183m\n",
      "\u001b[35m|\u001b[0m\u001b[38;5;183m           balanced_up_LinearSVC_2           \u001b[35m|\u001b[0m\u001b[38;5;183m               LinearSVC(C=0.5, dual=False)               \u001b[35m|\u001b[0m\u001b[38;5;183m  0.3497896449310348 \u001b[35m|\u001b[0m\u001b[38;5;183m 0.37993572084481175 \u001b[35m|\u001b[0m\u001b[38;5;183m 0.34498005922316777 \u001b[35m|\u001b[0m\u001b[38;5;183m  0.3577038331219887 \u001b[35m|\u001b[0m\u001b[38;5;183m  20.636306047439575 \u001b[35m|\u001b[0m\u001b[38;5;183m\n",
      "\u001b[35m|\u001b[0m\u001b[38;5;183m           balanced_up_LinearSVC_4           \u001b[35m|\u001b[0m\u001b[38;5;183m                  LinearSVC(dual=False)                   \u001b[35m|\u001b[0m\u001b[38;5;183m  0.348352890254289  \u001b[35m|\u001b[0m\u001b[38;5;183m 0.38096877869605145 \u001b[35m|\u001b[0m\u001b[38;5;183m 0.34496438666076246 \u001b[35m|\u001b[0m\u001b[38;5;183m  0.3536243144849022 \u001b[35m|\u001b[0m\u001b[38;5;183m  35.25674223899841  \u001b[35m|\u001b[0m\u001b[38;5;183m\n",
      "\u001b[35m|\u001b[0m\u001b[38;5;183m           balanced_up_LinearSVC_3           \u001b[35m|\u001b[0m\u001b[38;5;183m                   LinearSVC(dual=True)                   \u001b[35m|\u001b[0m\u001b[38;5;183m 0.34834803712033974 \u001b[35m|\u001b[0m\u001b[38;5;183m 0.38096877869605145 \u001b[35m|\u001b[0m\u001b[38;5;183m 0.34495252951005384 \u001b[35m|\u001b[0m\u001b[38;5;183m  0.3536243144849022 \u001b[35m|\u001b[0m\u001b[38;5;183m  3.9335813522338867 \u001b[35m|\u001b[0m\u001b[38;5;183m\n",
      "\u001b[35m|\u001b[0m\u001b[38;5;183m        PassiveAggressiveClassifier_2        \u001b[35m|\u001b[0m\u001b[38;5;183m PassiveAggressiveClassifier(C=0.5, loss='squared_hinge') \u001b[35m|\u001b[0m\u001b[38;5;183m  0.344802993682413  \u001b[35m|\u001b[0m\u001b[38;5;183m 0.41310835629017445 \u001b[35m|\u001b[0m\u001b[38;5;183m  0.3760873566215486 \u001b[35m|\u001b[0m\u001b[38;5;183m  0.3394211828496621 \u001b[35m|\u001b[0m\u001b[38;5;183m  1.6704480648040771 \u001b[35m|\u001b[0m\u001b[38;5;183m\n",
      "\u001b[35m|\u001b[0m\u001b[38;5;183m        PassiveAggressiveClassifier_3        \u001b[35m|\u001b[0m\u001b[38;5;183m              PassiveAggressiveClassifier()               \u001b[35m|\u001b[0m\u001b[38;5;183m  0.3441771488659745 \u001b[35m|\u001b[0m\u001b[38;5;183m  0.4116161616161616 \u001b[35m|\u001b[0m\u001b[38;5;183m 0.37734729590495075 \u001b[35m|\u001b[0m\u001b[38;5;183m  0.3384732782432911 \u001b[35m|\u001b[0m\u001b[38;5;183m  1.0269744396209717 \u001b[35m|\u001b[0m\u001b[38;5;183m\n",
      "\u001b[35m|\u001b[0m\u001b[38;5;183m        PassiveAggressiveClassifier_1        \u001b[35m|\u001b[0m\u001b[38;5;183m            PassiveAggressiveClassifier(C=0.5)            \u001b[35m|\u001b[0m\u001b[38;5;183m 0.34385419273545786 \u001b[35m|\u001b[0m\u001b[38;5;183m  0.4121900826446281 \u001b[35m|\u001b[0m\u001b[38;5;183m 0.37718579655870743 \u001b[35m|\u001b[0m\u001b[38;5;183m 0.33842138856484605 \u001b[35m|\u001b[0m\u001b[38;5;183m   1.16347074508667  \u001b[35m|\u001b[0m\u001b[38;5;183m\n",
      "\u001b[35m|\u001b[0m\u001b[38;5;183m        PassiveAggressiveClassifier_4        \u001b[35m|\u001b[0m\u001b[38;5;183m    PassiveAggressiveClassifier(loss='squared_hinge')     \u001b[35m|\u001b[0m\u001b[38;5;183m  0.3430289752699134 \u001b[35m|\u001b[0m\u001b[38;5;183m  0.4116161616161616 \u001b[35m|\u001b[0m\u001b[38;5;183m 0.37313701457382953 \u001b[35m|\u001b[0m\u001b[38;5;183m 0.33832970439510973 \u001b[35m|\u001b[0m\u001b[38;5;183m  1.1739253997802734 \u001b[35m|\u001b[0m\u001b[38;5;183m\n",
      "\u001b[35m|\u001b[0m\u001b[38;5;183m         balanced_up_SGDClassifier_1         \u001b[35m|\u001b[0m\u001b[38;5;183m                     SGDClassifier()                      \u001b[35m|\u001b[0m\u001b[38;5;183m 0.33796315322055615 \u001b[35m|\u001b[0m\u001b[38;5;183m 0.35537190082644626 \u001b[35m|\u001b[0m\u001b[38;5;183m 0.33553488813889226 \u001b[35m|\u001b[0m\u001b[38;5;183m  0.363917206241543  \u001b[35m|\u001b[0m\u001b[38;5;183m  1.613677978515625  \u001b[35m|\u001b[0m\u001b[38;5;183m\n",
      "\u001b[35m|\u001b[0m\u001b[38;5;183m                 LinearSVC_4                 \u001b[35m|\u001b[0m\u001b[38;5;183m                  LinearSVC(dual=False)                   \u001b[35m|\u001b[0m\u001b[38;5;183m  0.3321061049516872 \u001b[35m|\u001b[0m\u001b[38;5;183m  0.4182736455463728 \u001b[35m|\u001b[0m\u001b[38;5;183m  0.3933671968822942 \u001b[35m|\u001b[0m\u001b[38;5;183m 0.33007171743788544 \u001b[35m|\u001b[0m\u001b[38;5;183m  19.944521188735962 \u001b[35m|\u001b[0m\u001b[38;5;183m\n",
      "\u001b[35m|\u001b[0m\u001b[38;5;183m                 LinearSVC_3                 \u001b[35m|\u001b[0m\u001b[38;5;183m                   LinearSVC(dual=True)                   \u001b[35m|\u001b[0m\u001b[38;5;183m  0.3319172995235483 \u001b[35m|\u001b[0m\u001b[38;5;183m  0.4180440771349862 \u001b[35m|\u001b[0m\u001b[38;5;183m  0.3930365127324806 \u001b[35m|\u001b[0m\u001b[38;5;183m 0.32991101032659575 \u001b[35m|\u001b[0m\u001b[38;5;183m  2.2656590938568115 \u001b[35m|\u001b[0m\u001b[38;5;183m\n",
      "\u001b[35m|\u001b[0m\u001b[38;5;183m               SGDClassifier_2               \u001b[35m|\u001b[0m\u001b[38;5;183m           SGDClassifier(loss='squared_hinge')            \u001b[35m|\u001b[0m\u001b[38;5;183m 0.33120561939477244 \u001b[35m|\u001b[0m\u001b[38;5;183m 0.41815886134067953 \u001b[35m|\u001b[0m\u001b[38;5;183m 0.39119440625399826 \u001b[35m|\u001b[0m\u001b[38;5;183m 0.32984530792406086 \u001b[35m|\u001b[0m\u001b[38;5;183m  0.7017562389373779 \u001b[35m|\u001b[0m\u001b[38;5;183m\n",
      "\u001b[35m|\u001b[0m\u001b[38;5;183m         balanced_up_SGDClassifier_4         \u001b[35m|\u001b[0m\u001b[38;5;183m     SGDClassifier(alpha=0.001, loss='squared_hinge')     \u001b[35m|\u001b[0m\u001b[38;5;183m  0.3297018559190276 \u001b[35m|\u001b[0m\u001b[38;5;183m  0.3469926538108356 \u001b[35m|\u001b[0m\u001b[38;5;183m 0.32986600761285945 \u001b[35m|\u001b[0m\u001b[38;5;183m  0.360376711014453  \u001b[35m|\u001b[0m\u001b[38;5;183m  1.1483893394470215 \u001b[35m|\u001b[0m\u001b[38;5;183m\n",
      "\u001b[35m|\u001b[0m\u001b[38;5;183m          balanced_down_LinearSVC_2          \u001b[35m|\u001b[0m\u001b[38;5;183m               LinearSVC(C=0.5, dual=False)               \u001b[35m|\u001b[0m\u001b[38;5;183m 0.32773887343561914 \u001b[35m|\u001b[0m\u001b[38;5;183m  0.3375803489439853 \u001b[35m|\u001b[0m\u001b[38;5;183m  0.3288541131178189 \u001b[35m|\u001b[0m\u001b[38;5;183m 0.36157426719362584 \u001b[35m|\u001b[0m\u001b[38;5;183m  7.721214771270752  \u001b[35m|\u001b[0m\u001b[38;5;183m\n",
      "\u001b[35m|\u001b[0m\u001b[38;5;183m          balanced_down_LinearSVC_1          \u001b[35m|\u001b[0m\u001b[38;5;183m               LinearSVC(C=0.5, dual=True)                \u001b[35m|\u001b[0m\u001b[38;5;183m 0.32763221338679943 \u001b[35m|\u001b[0m\u001b[38;5;183m 0.33746556473829203 \u001b[35m|\u001b[0m\u001b[38;5;183m  0.3287491954123542 \u001b[35m|\u001b[0m\u001b[38;5;183m 0.36140704311335836 \u001b[35m|\u001b[0m\u001b[38;5;183m  0.5897958278656006 \u001b[35m|\u001b[0m\u001b[38;5;183m\n",
      "\u001b[35m|\u001b[0m\u001b[38;5;183m          balanced_down_LinearSVC_4          \u001b[35m|\u001b[0m\u001b[38;5;183m                  LinearSVC(dual=False)                   \u001b[35m|\u001b[0m\u001b[38;5;183m  0.3270612244670434 \u001b[35m|\u001b[0m\u001b[38;5;183m 0.33631772268135907 \u001b[35m|\u001b[0m\u001b[38;5;183m 0.32807269691937446 \u001b[35m|\u001b[0m\u001b[38;5;183m 0.35917402310506813 \u001b[35m|\u001b[0m\u001b[38;5;183m  11.214487791061401 \u001b[35m|\u001b[0m\u001b[38;5;183m\n",
      "\u001b[35m|\u001b[0m\u001b[38;5;183m          balanced_down_LinearSVC_3          \u001b[35m|\u001b[0m\u001b[38;5;183m                   LinearSVC(dual=True)                   \u001b[35m|\u001b[0m\u001b[38;5;183m 0.32696507085597865 \u001b[35m|\u001b[0m\u001b[38;5;183m 0.33620293847566574 \u001b[35m|\u001b[0m\u001b[38;5;183m 0.32802603646384126 \u001b[35m|\u001b[0m\u001b[38;5;183m  0.3591420819252833 \u001b[35m|\u001b[0m\u001b[38;5;183m  0.7924866676330566 \u001b[35m|\u001b[0m\u001b[38;5;183m\n",
      "\u001b[35m|\u001b[0m\u001b[38;5;183m balanced_down_PassiveAggressiveClassifier_4 \u001b[35m|\u001b[0m\u001b[38;5;183m    PassiveAggressiveClassifier(loss='squared_hinge')     \u001b[35m|\u001b[0m\u001b[38;5;183m  0.3266651542282203 \u001b[35m|\u001b[0m\u001b[38;5;183m 0.33562901744719925 \u001b[35m|\u001b[0m\u001b[38;5;183m 0.32773862771539114 \u001b[35m|\u001b[0m\u001b[38;5;183m  0.3555313217699003 \u001b[35m|\u001b[0m\u001b[38;5;183m  0.5500304698944092 \u001b[35m|\u001b[0m\u001b[38;5;183m\n",
      "\u001b[35m|\u001b[0m\u001b[38;5;183m balanced_down_PassiveAggressiveClassifier_1 \u001b[35m|\u001b[0m\u001b[38;5;183m            PassiveAggressiveClassifier(C=0.5)            \u001b[35m|\u001b[0m\u001b[38;5;183m  0.3265224344248293 \u001b[35m|\u001b[0m\u001b[38;5;183m 0.33597337006427913 \u001b[35m|\u001b[0m\u001b[38;5;183m 0.32756588753166627 \u001b[35m|\u001b[0m\u001b[38;5;183m  0.3552355319899986 \u001b[35m|\u001b[0m\u001b[38;5;183m 0.48305416107177734 \u001b[35m|\u001b[0m\u001b[38;5;183m\n",
      "\u001b[35m|\u001b[0m\u001b[38;5;183m balanced_down_PassiveAggressiveClassifier_2 \u001b[35m|\u001b[0m\u001b[38;5;183m PassiveAggressiveClassifier(C=0.5, loss='squared_hinge') \u001b[35m|\u001b[0m\u001b[38;5;183m   0.32641006623478  \u001b[35m|\u001b[0m\u001b[38;5;183m 0.33539944903581265 \u001b[35m|\u001b[0m\u001b[38;5;183m  0.3276685112383595 \u001b[35m|\u001b[0m\u001b[38;5;183m  0.3555937328581236 \u001b[35m|\u001b[0m\u001b[38;5;183m  0.5649764537811279 \u001b[35m|\u001b[0m\u001b[38;5;183m\n",
      "\u001b[35m|\u001b[0m\u001b[38;5;183m        balanced_down_SGDClassifier_1        \u001b[35m|\u001b[0m\u001b[38;5;183m                     SGDClassifier()                      \u001b[35m|\u001b[0m\u001b[38;5;183m 0.32613168600215403 \u001b[35m|\u001b[0m\u001b[38;5;183m 0.33528466483011937 \u001b[35m|\u001b[0m\u001b[38;5;183m  0.3274831631981577 \u001b[35m|\u001b[0m\u001b[38;5;183m  0.3587738446707098 \u001b[35m|\u001b[0m\u001b[38;5;183m  0.744513750076294  \u001b[35m|\u001b[0m\u001b[38;5;183m\n",
      "\u001b[35m|\u001b[0m\u001b[38;5;183m        balanced_down_SGDClassifier_2        \u001b[35m|\u001b[0m\u001b[38;5;183m           SGDClassifier(loss='squared_hinge')            \u001b[35m|\u001b[0m\u001b[38;5;183m  0.3260430647563278 \u001b[35m|\u001b[0m\u001b[38;5;183m 0.33539944903581265 \u001b[35m|\u001b[0m\u001b[38;5;183m  0.3278326951994882 \u001b[35m|\u001b[0m\u001b[38;5;183m  0.3565758353967322 \u001b[35m|\u001b[0m\u001b[38;5;183m 0.36994123458862305 \u001b[35m|\u001b[0m\u001b[38;5;183m\n",
      "\u001b[35m|\u001b[0m\u001b[38;5;183m balanced_down_PassiveAggressiveClassifier_3 \u001b[35m|\u001b[0m\u001b[38;5;183m              PassiveAggressiveClassifier()               \u001b[35m|\u001b[0m\u001b[38;5;183m  0.3257138658474872 \u001b[35m|\u001b[0m\u001b[38;5;183m  0.3351698806244261 \u001b[35m|\u001b[0m\u001b[38;5;183m  0.3269277778162724 \u001b[35m|\u001b[0m\u001b[38;5;183m  0.354541836690772  \u001b[35m|\u001b[0m\u001b[38;5;183m 0.48276329040527344 \u001b[35m|\u001b[0m\u001b[38;5;183m\n",
      "\u001b[35m|\u001b[0m\u001b[38;5;183m               SGDClassifier_1               \u001b[35m|\u001b[0m\u001b[38;5;183m                     SGDClassifier()                      \u001b[35m|\u001b[0m\u001b[38;5;183m  0.3254100694527408 \u001b[35m|\u001b[0m\u001b[38;5;183m  0.421831955922865  \u001b[35m|\u001b[0m\u001b[38;5;183m  0.3908432937670748 \u001b[35m|\u001b[0m\u001b[38;5;183m  0.330126314863204  \u001b[35m|\u001b[0m\u001b[38;5;183m  1.3522629737854004 \u001b[35m|\u001b[0m\u001b[38;5;183m\n",
      "\u001b[35m|\u001b[0m\u001b[38;5;183m        balanced_down_SGDClassifier_5        \u001b[35m|\u001b[0m\u001b[38;5;183m                SGDClassifier(alpha=0.01)                 \u001b[35m|\u001b[0m\u001b[38;5;183m  0.3229710056229921 \u001b[35m|\u001b[0m\u001b[38;5;183m 0.33884297520661155 \u001b[35m|\u001b[0m\u001b[38;5;183m  0.3252930736242495 \u001b[35m|\u001b[0m\u001b[38;5;183m  0.3593746728683175 \u001b[35m|\u001b[0m\u001b[38;5;183m 0.34192752838134766 \u001b[35m|\u001b[0m\u001b[38;5;183m\n",
      "\u001b[35m|\u001b[0m\u001b[38;5;183m        balanced_down_SGDClassifier_3        \u001b[35m|\u001b[0m\u001b[38;5;183m                SGDClassifier(alpha=0.001)                \u001b[35m|\u001b[0m\u001b[38;5;183m  0.3220631385033585 \u001b[35m|\u001b[0m\u001b[38;5;183m 0.33562901744719925 \u001b[35m|\u001b[0m\u001b[38;5;183m  0.3260011408031551 \u001b[35m|\u001b[0m\u001b[38;5;183m  0.3597884916396442 \u001b[35m|\u001b[0m\u001b[38;5;183m  0.5508220195770264 \u001b[35m|\u001b[0m\u001b[38;5;183m\n",
      "\u001b[35m|\u001b[0m\u001b[38;5;183m               SGDClassifier_5               \u001b[35m|\u001b[0m\u001b[38;5;183m                SGDClassifier(alpha=0.01)                 \u001b[35m|\u001b[0m\u001b[38;5;183m  0.3218695846929628 \u001b[35m|\u001b[0m\u001b[38;5;183m  0.4176997245179063 \u001b[35m|\u001b[0m\u001b[38;5;183m  0.3777538744546771 \u001b[35m|\u001b[0m\u001b[38;5;183m 0.32768503438448743 \u001b[35m|\u001b[0m\u001b[38;5;183m  0.686985969543457  \u001b[35m|\u001b[0m\u001b[38;5;183m\n",
      "\u001b[35m|\u001b[0m\u001b[38;5;183m         balanced_up_SGDClassifier_5         \u001b[35m|\u001b[0m\u001b[38;5;183m                SGDClassifier(alpha=0.01)                 \u001b[35m|\u001b[0m\u001b[38;5;183m 0.32132581179289177 \u001b[35m|\u001b[0m\u001b[38;5;183m  0.3339072543617998 \u001b[35m|\u001b[0m\u001b[38;5;183m  0.3285885685139244 \u001b[35m|\u001b[0m\u001b[38;5;183m  0.3609134217208842 \u001b[35m|\u001b[0m\u001b[38;5;183m  0.7992362976074219 \u001b[35m|\u001b[0m\u001b[38;5;183m\n",
      "\u001b[35m|\u001b[0m\u001b[38;5;183m               SGDClassifier_3               \u001b[35m|\u001b[0m\u001b[38;5;183m                SGDClassifier(alpha=0.001)                \u001b[35m|\u001b[0m\u001b[38;5;183m  0.3210552811365094 \u001b[35m|\u001b[0m\u001b[38;5;183m 0.41792929292929293 \u001b[35m|\u001b[0m\u001b[38;5;183m 0.38824310283529273 \u001b[35m|\u001b[0m\u001b[38;5;183m 0.32499710356997485 \u001b[35m|\u001b[0m\u001b[38;5;183m  0.7130215167999268 \u001b[35m|\u001b[0m\u001b[38;5;183m\n",
      "\u001b[35m|\u001b[0m\u001b[38;5;183m         balanced_up_SGDClassifier_3         \u001b[35m|\u001b[0m\u001b[38;5;183m                SGDClassifier(alpha=0.001)                \u001b[35m|\u001b[0m\u001b[38;5;183m  0.319792840240479  \u001b[35m|\u001b[0m\u001b[38;5;183m 0.33264462809917356 \u001b[35m|\u001b[0m\u001b[38;5;183m 0.32650469855979836 \u001b[35m|\u001b[0m\u001b[38;5;183m 0.35885666471185457 \u001b[35m|\u001b[0m\u001b[38;5;183m  0.7816030979156494 \u001b[35m|\u001b[0m\u001b[38;5;183m\n",
      "\u001b[35m|\u001b[0m\u001b[38;5;183m        balanced_down_SGDClassifier_4        \u001b[35m|\u001b[0m\u001b[38;5;183m     SGDClassifier(alpha=0.001, loss='squared_hinge')     \u001b[35m|\u001b[0m\u001b[38;5;183m 0.31688037185742346 \u001b[35m|\u001b[0m\u001b[38;5;183m  0.3314967860422406 \u001b[35m|\u001b[0m\u001b[38;5;183m  0.3187771407938559 \u001b[35m|\u001b[0m\u001b[38;5;183m 0.35291751915243974 \u001b[35m|\u001b[0m\u001b[38;5;183m  0.5074965953826904 \u001b[35m|\u001b[0m\u001b[38;5;183m\n",
      "\u001b[35m|\u001b[0m\u001b[38;5;183m                 LinearSVC_1                 \u001b[35m|\u001b[0m\u001b[38;5;183m               LinearSVC(C=0.5, dual=True)                \u001b[35m|\u001b[0m\u001b[38;5;183m 0.31614160266668756 \u001b[35m|\u001b[0m\u001b[38;5;183m 0.41689623507805323 \u001b[35m|\u001b[0m\u001b[38;5;183m  0.4041104052756137 \u001b[35m|\u001b[0m\u001b[38;5;183m  0.3196282154238117 \u001b[35m|\u001b[0m\u001b[38;5;183m  1.3910486698150635 \u001b[35m|\u001b[0m\u001b[38;5;183m\n",
      "\u001b[35m|\u001b[0m\u001b[38;5;183m                 LinearSVC_2                 \u001b[35m|\u001b[0m\u001b[38;5;183m               LinearSVC(C=0.5, dual=False)               \u001b[35m|\u001b[0m\u001b[38;5;183m 0.31606284832742937 \u001b[35m|\u001b[0m\u001b[38;5;183m 0.41678145087235996 \u001b[35m|\u001b[0m\u001b[38;5;183m  0.4039812096526302 \u001b[35m|\u001b[0m\u001b[38;5;183m  0.3195625770910254 \u001b[35m|\u001b[0m\u001b[38;5;183m  14.05469822883606  \u001b[35m|\u001b[0m\u001b[38;5;183m\n",
      "\u001b[35m|\u001b[0m\u001b[38;5;183m              RidgeClassifier_1              \u001b[35m|\u001b[0m\u001b[38;5;183m                    RidgeClassifier()                     \u001b[35m|\u001b[0m\u001b[38;5;183m 0.31515988564747044 \u001b[35m|\u001b[0m\u001b[38;5;183m  0.4166666666666667 \u001b[35m|\u001b[0m\u001b[38;5;183m 0.40408839863906837 \u001b[35m|\u001b[0m\u001b[38;5;183m 0.31817738369974297 \u001b[35m|\u001b[0m\u001b[38;5;183m  5.696135520935059  \u001b[35m|\u001b[0m\u001b[38;5;183m\n",
      "\u001b[35m|\u001b[0m\u001b[38;5;183m              RidgeClassifier_2              \u001b[35m|\u001b[0m\u001b[38;5;183m                RidgeClassifier(alpha=1.5)                \u001b[35m|\u001b[0m\u001b[38;5;183m  0.304017897347683  \u001b[35m|\u001b[0m\u001b[38;5;183m  0.4182736455463728 \u001b[35m|\u001b[0m\u001b[38;5;183m  0.4160574614311262 \u001b[35m|\u001b[0m\u001b[38;5;183m 0.31183687501620616 \u001b[35m|\u001b[0m\u001b[38;5;183m  4.070607900619507  \u001b[35m|\u001b[0m\u001b[38;5;183m\n",
      "\u001b[35m|\u001b[0m\u001b[38;5;183m        balanced_down_SGDClassifier_6        \u001b[35m|\u001b[0m\u001b[38;5;183m     SGDClassifier(alpha=0.01, loss='squared_hinge')      \u001b[35m|\u001b[0m\u001b[38;5;183m  0.3005889260904983 \u001b[35m|\u001b[0m\u001b[38;5;183m  0.3176078971533517 \u001b[35m|\u001b[0m\u001b[38;5;183m 0.31172724581993655 \u001b[35m|\u001b[0m\u001b[38;5;183m 0.34169790826549573 \u001b[35m|\u001b[0m\u001b[38;5;183m  0.4348726272583008 \u001b[35m|\u001b[0m\u001b[38;5;183m\n",
      "\u001b[35m|\u001b[0m\u001b[38;5;183m               LGBMClassifier_1              \u001b[35m|\u001b[0m\u001b[38;5;183m     LGBMClassifier(max_depth=500, n_estimators=500)      \u001b[35m|\u001b[0m\u001b[38;5;183m 0.30019029364950034 \u001b[35m|\u001b[0m\u001b[38;5;183m  0.3736225895316804 \u001b[35m|\u001b[0m\u001b[38;5;183m 0.33946812529970216 \u001b[35m|\u001b[0m\u001b[38;5;183m  0.2942243923212533 \u001b[35m|\u001b[0m\u001b[38;5;183m  342.1225073337555  \u001b[35m|\u001b[0m\u001b[38;5;183m\n",
      "\u001b[35m|\u001b[0m\u001b[38;5;183m         balanced_up_SGDClassifier_6         \u001b[35m|\u001b[0m\u001b[38;5;183m     SGDClassifier(alpha=0.01, loss='squared_hinge')      \u001b[35m|\u001b[0m\u001b[38;5;183m 0.29955873600262606 \u001b[35m|\u001b[0m\u001b[38;5;183m 0.31290174471992654 \u001b[35m|\u001b[0m\u001b[38;5;183m  0.3149266286924837 \u001b[35m|\u001b[0m\u001b[38;5;183m  0.3446522380677247 \u001b[35m|\u001b[0m\u001b[38;5;183m  0.9637253284454346 \u001b[35m|\u001b[0m\u001b[38;5;183m\n",
      "\u001b[35m|\u001b[0m\u001b[38;5;183m              RidgeClassifier_3              \u001b[35m|\u001b[0m\u001b[38;5;183m                 RidgeClassifier(alpha=2)                 \u001b[35m|\u001b[0m\u001b[38;5;183m  0.2978812215459704 \u001b[35m|\u001b[0m\u001b[38;5;183m  0.4195362718089991 \u001b[35m|\u001b[0m\u001b[38;5;183m  0.4418656397347389 \u001b[35m|\u001b[0m\u001b[38;5;183m 0.30825142380857046 \u001b[35m|\u001b[0m\u001b[38;5;183m  4.825464487075806  \u001b[35m|\u001b[0m\u001b[38;5;183m\n",
      "\u001b[35m|\u001b[0m\u001b[38;5;183m                    SVC_2                    \u001b[35m|\u001b[0m\u001b[38;5;183m                  SVC(kernel='sigmoid')                   \u001b[35m|\u001b[0m\u001b[38;5;183m 0.27347154948321195 \u001b[35m|\u001b[0m\u001b[38;5;183m 0.41058310376492196 \u001b[35m|\u001b[0m\u001b[38;5;183m  0.5025363930891102 \u001b[35m|\u001b[0m\u001b[38;5;183m 0.29046111184250384 \u001b[35m|\u001b[0m\u001b[38;5;183m  377.51364183425903 \u001b[35m|\u001b[0m\u001b[38;5;183m\n",
      "\u001b[35m|\u001b[0m\u001b[38;5;183m                    KNN_2                    \u001b[35m|\u001b[0m\u001b[38;5;183m                  KNeighborsClassifier()                  \u001b[35m|\u001b[0m\u001b[38;5;183m  0.2720166812189435 \u001b[35m|\u001b[0m\u001b[38;5;183m  0.3496326905417815 \u001b[35m|\u001b[0m\u001b[38;5;183m  0.2888261686967606 \u001b[35m|\u001b[0m\u001b[38;5;183m  0.2759121644368684 \u001b[35m|\u001b[0m\u001b[38;5;183m  5.653038740158081  \u001b[35m|\u001b[0m\u001b[38;5;183m\n",
      "\u001b[35m|\u001b[0m\u001b[38;5;183m                    KNN_3                    \u001b[35m|\u001b[0m\u001b[38;5;183m           KNeighborsClassifier(n_neighbors=7)            \u001b[35m|\u001b[0m\u001b[38;5;183m  0.2679530490288469 \u001b[35m|\u001b[0m\u001b[38;5;183m 0.35215794306703396 \u001b[35m|\u001b[0m\u001b[38;5;183m  0.2894886904892481 \u001b[35m|\u001b[0m\u001b[38;5;183m  0.2727239516555519 \u001b[35m|\u001b[0m\u001b[38;5;183m  5.677108526229858  \u001b[35m|\u001b[0m\u001b[38;5;183m\n",
      "\u001b[35m|\u001b[0m\u001b[38;5;183m             LogisticRegression_2            \u001b[35m|\u001b[0m\u001b[38;5;183m                   LogisticRegression()                   \u001b[35m|\u001b[0m\u001b[38;5;183m 0.26341030850243363 \u001b[35m|\u001b[0m\u001b[38;5;183m  0.4116161616161616 \u001b[35m|\u001b[0m\u001b[38;5;183m  0.4542215508363583 \u001b[35m|\u001b[0m\u001b[38;5;183m 0.28449292071434745 \u001b[35m|\u001b[0m\u001b[38;5;183m  43.710068464279175 \u001b[35m|\u001b[0m\u001b[38;5;183m\n",
      "\u001b[35m|\u001b[0m\u001b[38;5;183m                    KNN_1                    \u001b[35m|\u001b[0m\u001b[38;5;183m           KNeighborsClassifier(n_neighbors=3)            \u001b[35m|\u001b[0m\u001b[38;5;183m 0.25190393249732723 \u001b[35m|\u001b[0m\u001b[38;5;183m 0.29981634527089074 \u001b[35m|\u001b[0m\u001b[38;5;183m 0.26724986927721195 \u001b[35m|\u001b[0m\u001b[38;5;183m  0.2653164874705564 \u001b[35m|\u001b[0m\u001b[38;5;183m  5.509373426437378  \u001b[35m|\u001b[0m\u001b[38;5;183m\n",
      "\u001b[35m|\u001b[0m\u001b[38;5;183m               SGDClassifier_4               \u001b[35m|\u001b[0m\u001b[38;5;183m     SGDClassifier(alpha=0.001, loss='squared_hinge')     \u001b[35m|\u001b[0m\u001b[38;5;183m 0.23049829634589697 \u001b[35m|\u001b[0m\u001b[38;5;183m 0.39726813590449955 \u001b[35m|\u001b[0m\u001b[38;5;183m  0.5314285409634073 \u001b[35m|\u001b[0m\u001b[38;5;183m  0.2616099768734297 \u001b[35m|\u001b[0m\u001b[38;5;183m  0.9296162128448486 \u001b[35m|\u001b[0m\u001b[38;5;183m\n",
      "\u001b[35m|\u001b[0m\u001b[38;5;183m             LogisticRegression_1            \u001b[35m|\u001b[0m\u001b[38;5;183m                LogisticRegression(C=0.5)                 \u001b[35m|\u001b[0m\u001b[38;5;183m 0.22323922238640118 \u001b[35m|\u001b[0m\u001b[38;5;183m  0.3957759412304867 \u001b[35m|\u001b[0m\u001b[38;5;183m  0.5231371374660111 \u001b[35m|\u001b[0m\u001b[38;5;183m  0.2563329340856686 \u001b[35m|\u001b[0m\u001b[38;5;183m  22.090871334075928 \u001b[35m|\u001b[0m\u001b[38;5;183m\n",
      "\u001b[35m|\u001b[0m\u001b[38;5;183m                ComplementNB_1               \u001b[35m|\u001b[0m\u001b[38;5;183m                 ComplementNB(alpha=0.5)                  \u001b[35m|\u001b[0m\u001b[38;5;183m 0.18164626481284205 \u001b[35m|\u001b[0m\u001b[38;5;183m 0.38073921028466484 \u001b[35m|\u001b[0m\u001b[38;5;183m  0.5927774403033594 \u001b[35m|\u001b[0m\u001b[38;5;183m  0.2341804634273863 \u001b[35m|\u001b[0m\u001b[38;5;183m 0.23320674896240234 \u001b[35m|\u001b[0m\u001b[38;5;183m\n",
      "\u001b[35m|\u001b[0m\u001b[38;5;183m                ComplementNB_2               \u001b[35m|\u001b[0m\u001b[38;5;183m         ComplementNB(alpha=0.5, fit_prior=False)         \u001b[35m|\u001b[0m\u001b[38;5;183m 0.18164626481284205 \u001b[35m|\u001b[0m\u001b[38;5;183m 0.38073921028466484 \u001b[35m|\u001b[0m\u001b[38;5;183m  0.5927774403033594 \u001b[35m|\u001b[0m\u001b[38;5;183m  0.2341804634273863 \u001b[35m|\u001b[0m\u001b[38;5;183m 0.21078944206237793 \u001b[35m|\u001b[0m\u001b[38;5;183m\n",
      "\u001b[35m|\u001b[0m\u001b[38;5;183m           RandomForestClassifier_1          \u001b[35m|\u001b[0m\u001b[38;5;183m          RandomForestClassifier(max_depth=100)           \u001b[35m|\u001b[0m\u001b[38;5;183m  0.1667955579011338 \u001b[35m|\u001b[0m\u001b[38;5;183m  0.3650137741046832 \u001b[35m|\u001b[0m\u001b[38;5;183m  0.4906779331140371 \u001b[35m|\u001b[0m\u001b[38;5;183m  0.2228104806979297 \u001b[35m|\u001b[0m\u001b[38;5;183m  84.87571024894714  \u001b[35m|\u001b[0m\u001b[38;5;183m\n",
      "\u001b[35m|\u001b[0m\u001b[38;5;183m                ComplementNB_3               \u001b[35m|\u001b[0m\u001b[38;5;183m                      ComplementNB()                      \u001b[35m|\u001b[0m\u001b[38;5;183m 0.13896574693903657 \u001b[35m|\u001b[0m\u001b[38;5;183m  0.3635215794306703 \u001b[35m|\u001b[0m\u001b[38;5;183m  0.5424762270272911 \u001b[35m|\u001b[0m\u001b[38;5;183m  0.2142195634485001 \u001b[35m|\u001b[0m\u001b[38;5;183m  0.2218618392944336 \u001b[35m|\u001b[0m\u001b[38;5;183m\n",
      "\u001b[35m|\u001b[0m\u001b[38;5;183m                ComplementNB_4               \u001b[35m|\u001b[0m\u001b[38;5;183m              ComplementNB(fit_prior=False)               \u001b[35m|\u001b[0m\u001b[38;5;183m 0.13896574693903657 \u001b[35m|\u001b[0m\u001b[38;5;183m  0.3635215794306703 \u001b[35m|\u001b[0m\u001b[38;5;183m  0.5424762270272911 \u001b[35m|\u001b[0m\u001b[38;5;183m  0.2142195634485001 \u001b[35m|\u001b[0m\u001b[38;5;183m 0.22723817825317383 \u001b[35m|\u001b[0m\u001b[38;5;183m\n",
      "\u001b[35m|\u001b[0m\u001b[38;5;183m               MultinomialNB_2               \u001b[35m|\u001b[0m\u001b[38;5;183m        MultinomialNB(alpha=0.5, fit_prior=False)         \u001b[35m|\u001b[0m\u001b[38;5;183m  0.1273609830242561 \u001b[35m|\u001b[0m\u001b[38;5;183m 0.35858585858585856 \u001b[35m|\u001b[0m\u001b[38;5;183m  0.5219899767251919 \u001b[35m|\u001b[0m\u001b[38;5;183m  0.208298060694274  \u001b[35m|\u001b[0m\u001b[38;5;183m 0.21587824821472168 \u001b[35m|\u001b[0m\u001b[38;5;183m\n",
      "\u001b[35m|\u001b[0m\u001b[38;5;183m               MultinomialNB_4               \u001b[35m|\u001b[0m\u001b[38;5;183m              MultinomialNB(fit_prior=False)              \u001b[35m|\u001b[0m\u001b[38;5;183m 0.11391014599586449 \u001b[35m|\u001b[0m\u001b[38;5;183m  0.3538797061524334 \u001b[35m|\u001b[0m\u001b[38;5;183m 0.37393178117532616 \u001b[35m|\u001b[0m\u001b[38;5;183m  0.2036080906731673 \u001b[35m|\u001b[0m\u001b[38;5;183m  0.2264692783355713 \u001b[35m|\u001b[0m\u001b[38;5;183m\n",
      "\u001b[35m|\u001b[0m\u001b[38;5;183m               MultinomialNB_1               \u001b[35m|\u001b[0m\u001b[38;5;183m                 MultinomialNB(alpha=0.5)                 \u001b[35m|\u001b[0m\u001b[38;5;183m 0.11096695516354471 \u001b[35m|\u001b[0m\u001b[38;5;183m  0.3530762167125803 \u001b[35m|\u001b[0m\u001b[38;5;183m 0.38910532623627453 \u001b[35m|\u001b[0m\u001b[38;5;183m 0.20265256720405883 \u001b[35m|\u001b[0m\u001b[38;5;183m 0.21912384033203125 \u001b[35m|\u001b[0m\u001b[38;5;183m\n",
      "\u001b[35m|\u001b[0m\u001b[38;5;183m               MultinomialNB_3               \u001b[35m|\u001b[0m\u001b[38;5;183m                     MultinomialNB()                      \u001b[35m|\u001b[0m\u001b[38;5;183m 0.10543566261284398 \u001b[35m|\u001b[0m\u001b[38;5;183m  0.3506657483930211 \u001b[35m|\u001b[0m\u001b[38;5;183m 0.21666781648844427 \u001b[35m|\u001b[0m\u001b[38;5;183m 0.20068697411373418 \u001b[35m|\u001b[0m\u001b[38;5;183m 0.21570444107055664 \u001b[35m|\u001b[0m\u001b[38;5;183m\n",
      "\u001b[35m|\u001b[0m\u001b[38;5;183m                    SVC_1                    \u001b[35m|\u001b[0m\u001b[38;5;183m                    SVC(kernel='poly')                    \u001b[35m|\u001b[0m\u001b[38;5;183m  0.104333899742912  \u001b[35m|\u001b[0m\u001b[38;5;183m 0.35020661157024796 \u001b[35m|\u001b[0m\u001b[38;5;183m 0.22998966348914668 \u001b[35m|\u001b[0m\u001b[38;5;183m 0.20032141422257937 \u001b[35m|\u001b[0m\u001b[38;5;183m   419.924857378006  \u001b[35m|\u001b[0m\u001b[38;5;183m\n",
      "\u001b[35m|\u001b[0m\u001b[38;5;183m               SGDClassifier_6               \u001b[35m|\u001b[0m\u001b[38;5;183m     SGDClassifier(alpha=0.01, loss='squared_hinge')      \u001b[35m|\u001b[0m\u001b[38;5;183m 0.10364826941066416 \u001b[35m|\u001b[0m\u001b[38;5;183m 0.34974747474747475 \u001b[35m|\u001b[0m\u001b[38;5;183m 0.06994949494949496 \u001b[35m|\u001b[0m\u001b[38;5;183m         0.2         \u001b[35m|\u001b[0m\u001b[38;5;183m  0.8021707534790039 \u001b[35m|\u001b[0m\u001b[38;5;183m\n",
      "\u001b[38;5;219m+\u001b[0m\u001b[38;5;183m\u001b[38;5;147m-\u001b[0m\u001b[38;5;183m\u001b[38;5;147m-\u001b[0m\u001b[38;5;183m\u001b[38;5;147m-\u001b[0m\u001b[38;5;183m\u001b[38;5;147m-\u001b[0m\u001b[38;5;183m\u001b[38;5;147m-\u001b[0m\u001b[38;5;183m\u001b[38;5;147m-\u001b[0m\u001b[38;5;183m\u001b[38;5;147m-\u001b[0m\u001b[38;5;183m\u001b[38;5;147m-\u001b[0m\u001b[38;5;183m\u001b[38;5;147m-\u001b[0m\u001b[38;5;183m\u001b[38;5;147m-\u001b[0m\u001b[38;5;183m\u001b[38;5;147m-\u001b[0m\u001b[38;5;183m\u001b[38;5;147m-\u001b[0m\u001b[38;5;183m\u001b[38;5;147m-\u001b[0m\u001b[38;5;183m\u001b[38;5;147m-\u001b[0m\u001b[38;5;183m\u001b[38;5;147m-\u001b[0m\u001b[38;5;183m\u001b[38;5;147m-\u001b[0m\u001b[38;5;183m\u001b[38;5;147m-\u001b[0m\u001b[38;5;183m\u001b[38;5;147m-\u001b[0m\u001b[38;5;183m\u001b[38;5;147m-\u001b[0m\u001b[38;5;183m\u001b[38;5;147m-\u001b[0m\u001b[38;5;183m\u001b[38;5;147m-\u001b[0m\u001b[38;5;183m\u001b[38;5;147m-\u001b[0m\u001b[38;5;183m\u001b[38;5;147m-\u001b[0m\u001b[38;5;183m\u001b[38;5;147m-\u001b[0m\u001b[38;5;183m\u001b[38;5;147m-\u001b[0m\u001b[38;5;183m\u001b[38;5;147m-\u001b[0m\u001b[38;5;183m\u001b[38;5;147m-\u001b[0m\u001b[38;5;183m\u001b[38;5;147m-\u001b[0m\u001b[38;5;183m\u001b[38;5;147m-\u001b[0m\u001b[38;5;183m\u001b[38;5;147m-\u001b[0m\u001b[38;5;183m\u001b[38;5;147m-\u001b[0m\u001b[38;5;183m\u001b[38;5;147m-\u001b[0m\u001b[38;5;183m\u001b[38;5;147m-\u001b[0m\u001b[38;5;183m\u001b[38;5;147m-\u001b[0m\u001b[38;5;183m\u001b[38;5;147m-\u001b[0m\u001b[38;5;183m\u001b[38;5;147m-\u001b[0m\u001b[38;5;183m\u001b[38;5;147m-\u001b[0m\u001b[38;5;183m\u001b[38;5;147m-\u001b[0m\u001b[38;5;183m\u001b[38;5;147m-\u001b[0m\u001b[38;5;183m\u001b[38;5;147m-\u001b[0m\u001b[38;5;183m\u001b[38;5;147m-\u001b[0m\u001b[38;5;183m\u001b[38;5;147m-\u001b[0m\u001b[38;5;183m\u001b[38;5;147m-\u001b[0m\u001b[38;5;183m\u001b[38;5;147m-\u001b[0m\u001b[38;5;183m\u001b[38;5;147m-\u001b[0m\u001b[38;5;183m\u001b[38;5;219m+\u001b[0m\u001b[38;5;183m\u001b[38;5;147m-\u001b[0m\u001b[38;5;183m\u001b[38;5;147m-\u001b[0m\u001b[38;5;183m\u001b[38;5;147m-\u001b[0m\u001b[38;5;183m\u001b[38;5;147m-\u001b[0m\u001b[38;5;183m\u001b[38;5;147m-\u001b[0m\u001b[38;5;183m\u001b[38;5;147m-\u001b[0m\u001b[38;5;183m\u001b[38;5;147m-\u001b[0m\u001b[38;5;183m\u001b[38;5;147m-\u001b[0m\u001b[38;5;183m\u001b[38;5;147m-\u001b[0m\u001b[38;5;183m\u001b[38;5;147m-\u001b[0m\u001b[38;5;183m\u001b[38;5;147m-\u001b[0m\u001b[38;5;183m\u001b[38;5;147m-\u001b[0m\u001b[38;5;183m\u001b[38;5;147m-\u001b[0m\u001b[38;5;183m\u001b[38;5;147m-\u001b[0m\u001b[38;5;183m\u001b[38;5;147m-\u001b[0m\u001b[38;5;183m\u001b[38;5;147m-\u001b[0m\u001b[38;5;183m\u001b[38;5;147m-\u001b[0m\u001b[38;5;183m\u001b[38;5;147m-\u001b[0m\u001b[38;5;183m\u001b[38;5;147m-\u001b[0m\u001b[38;5;183m\u001b[38;5;147m-\u001b[0m\u001b[38;5;183m\u001b[38;5;147m-\u001b[0m\u001b[38;5;183m\u001b[38;5;147m-\u001b[0m\u001b[38;5;183m\u001b[38;5;147m-\u001b[0m\u001b[38;5;183m\u001b[38;5;147m-\u001b[0m\u001b[38;5;183m\u001b[38;5;147m-\u001b[0m\u001b[38;5;183m\u001b[38;5;147m-\u001b[0m\u001b[38;5;183m\u001b[38;5;147m-\u001b[0m\u001b[38;5;183m\u001b[38;5;147m-\u001b[0m\u001b[38;5;183m\u001b[38;5;147m-\u001b[0m\u001b[38;5;183m\u001b[38;5;147m-\u001b[0m\u001b[38;5;183m\u001b[38;5;147m-\u001b[0m\u001b[38;5;183m\u001b[38;5;147m-\u001b[0m\u001b[38;5;183m\u001b[38;5;147m-\u001b[0m\u001b[38;5;183m\u001b[38;5;147m-\u001b[0m\u001b[38;5;183m\u001b[38;5;147m-\u001b[0m\u001b[38;5;183m\u001b[38;5;147m-\u001b[0m\u001b[38;5;183m\u001b[38;5;147m-\u001b[0m\u001b[38;5;183m\u001b[38;5;147m-\u001b[0m\u001b[38;5;183m\u001b[38;5;147m-\u001b[0m\u001b[38;5;183m\u001b[38;5;147m-\u001b[0m\u001b[38;5;183m\u001b[38;5;147m-\u001b[0m\u001b[38;5;183m\u001b[38;5;147m-\u001b[0m\u001b[38;5;183m\u001b[38;5;147m-\u001b[0m\u001b[38;5;183m\u001b[38;5;147m-\u001b[0m\u001b[38;5;183m\u001b[38;5;147m-\u001b[0m\u001b[38;5;183m\u001b[38;5;147m-\u001b[0m\u001b[38;5;183m\u001b[38;5;147m-\u001b[0m\u001b[38;5;183m\u001b[38;5;147m-\u001b[0m\u001b[38;5;183m\u001b[38;5;147m-\u001b[0m\u001b[38;5;183m\u001b[38;5;147m-\u001b[0m\u001b[38;5;183m\u001b[38;5;147m-\u001b[0m\u001b[38;5;183m\u001b[38;5;147m-\u001b[0m\u001b[38;5;183m\u001b[38;5;147m-\u001b[0m\u001b[38;5;183m\u001b[38;5;147m-\u001b[0m\u001b[38;5;183m\u001b[38;5;147m-\u001b[0m\u001b[38;5;183m\u001b[38;5;147m-\u001b[0m\u001b[38;5;183m\u001b[38;5;147m-\u001b[0m\u001b[38;5;183m\u001b[38;5;147m-\u001b[0m\u001b[38;5;183m\u001b[38;5;219m+\u001b[0m\u001b[38;5;183m\u001b[38;5;147m-\u001b[0m\u001b[38;5;183m\u001b[38;5;147m-\u001b[0m\u001b[38;5;183m\u001b[38;5;147m-\u001b[0m\u001b[38;5;183m\u001b[38;5;147m-\u001b[0m\u001b[38;5;183m\u001b[38;5;147m-\u001b[0m\u001b[38;5;183m\u001b[38;5;147m-\u001b[0m\u001b[38;5;183m\u001b[38;5;147m-\u001b[0m\u001b[38;5;183m\u001b[38;5;147m-\u001b[0m\u001b[38;5;183m\u001b[38;5;147m-\u001b[0m\u001b[38;5;183m\u001b[38;5;147m-\u001b[0m\u001b[38;5;183m\u001b[38;5;147m-\u001b[0m\u001b[38;5;183m\u001b[38;5;147m-\u001b[0m\u001b[38;5;183m\u001b[38;5;147m-\u001b[0m\u001b[38;5;183m\u001b[38;5;147m-\u001b[0m\u001b[38;5;183m\u001b[38;5;147m-\u001b[0m\u001b[38;5;183m\u001b[38;5;147m-\u001b[0m\u001b[38;5;183m\u001b[38;5;147m-\u001b[0m\u001b[38;5;183m\u001b[38;5;147m-\u001b[0m\u001b[38;5;183m\u001b[38;5;147m-\u001b[0m\u001b[38;5;183m\u001b[38;5;147m-\u001b[0m\u001b[38;5;183m\u001b[38;5;147m-\u001b[0m\u001b[38;5;183m\u001b[38;5;219m+\u001b[0m\u001b[38;5;183m\u001b[38;5;147m-\u001b[0m\u001b[38;5;183m\u001b[38;5;147m-\u001b[0m\u001b[38;5;183m\u001b[38;5;147m-\u001b[0m\u001b[38;5;183m\u001b[38;5;147m-\u001b[0m\u001b[38;5;183m\u001b[38;5;147m-\u001b[0m\u001b[38;5;183m\u001b[38;5;147m-\u001b[0m\u001b[38;5;183m\u001b[38;5;147m-\u001b[0m\u001b[38;5;183m\u001b[38;5;147m-\u001b[0m\u001b[38;5;183m\u001b[38;5;147m-\u001b[0m\u001b[38;5;183m\u001b[38;5;147m-\u001b[0m\u001b[38;5;183m\u001b[38;5;147m-\u001b[0m\u001b[38;5;183m\u001b[38;5;147m-\u001b[0m\u001b[38;5;183m\u001b[38;5;147m-\u001b[0m\u001b[38;5;183m\u001b[38;5;147m-\u001b[0m\u001b[38;5;183m\u001b[38;5;147m-\u001b[0m\u001b[38;5;183m\u001b[38;5;147m-\u001b[0m\u001b[38;5;183m\u001b[38;5;147m-\u001b[0m\u001b[38;5;183m\u001b[38;5;147m-\u001b[0m\u001b[38;5;183m\u001b[38;5;147m-\u001b[0m\u001b[38;5;183m\u001b[38;5;147m-\u001b[0m\u001b[38;5;183m\u001b[38;5;147m-\u001b[0m\u001b[38;5;183m\u001b[38;5;219m+\u001b[0m\u001b[38;5;183m\u001b[38;5;147m-\u001b[0m\u001b[38;5;183m\u001b[38;5;147m-\u001b[0m\u001b[38;5;183m\u001b[38;5;147m-\u001b[0m\u001b[38;5;183m\u001b[38;5;147m-\u001b[0m\u001b[38;5;183m\u001b[38;5;147m-\u001b[0m\u001b[38;5;183m\u001b[38;5;147m-\u001b[0m\u001b[38;5;183m\u001b[38;5;147m-\u001b[0m\u001b[38;5;183m\u001b[38;5;147m-\u001b[0m\u001b[38;5;183m\u001b[38;5;147m-\u001b[0m\u001b[38;5;183m\u001b[38;5;147m-\u001b[0m\u001b[38;5;183m\u001b[38;5;147m-\u001b[0m\u001b[38;5;183m\u001b[38;5;147m-\u001b[0m\u001b[38;5;183m\u001b[38;5;147m-\u001b[0m\u001b[38;5;183m\u001b[38;5;147m-\u001b[0m\u001b[38;5;183m\u001b[38;5;147m-\u001b[0m\u001b[38;5;183m\u001b[38;5;147m-\u001b[0m\u001b[38;5;183m\u001b[38;5;147m-\u001b[0m\u001b[38;5;183m\u001b[38;5;147m-\u001b[0m\u001b[38;5;183m\u001b[38;5;147m-\u001b[0m\u001b[38;5;183m\u001b[38;5;147m-\u001b[0m\u001b[38;5;183m\u001b[38;5;147m-\u001b[0m\u001b[38;5;183m\u001b[38;5;219m+\u001b[0m\u001b[38;5;183m\u001b[38;5;147m-\u001b[0m\u001b[38;5;183m\u001b[38;5;147m-\u001b[0m\u001b[38;5;183m\u001b[38;5;147m-\u001b[0m\u001b[38;5;183m\u001b[38;5;147m-\u001b[0m\u001b[38;5;183m\u001b[38;5;147m-\u001b[0m\u001b[38;5;183m\u001b[38;5;147m-\u001b[0m\u001b[38;5;183m\u001b[38;5;147m-\u001b[0m\u001b[38;5;183m\u001b[38;5;147m-\u001b[0m\u001b[38;5;183m\u001b[38;5;147m-\u001b[0m\u001b[38;5;183m\u001b[38;5;147m-\u001b[0m\u001b[38;5;183m\u001b[38;5;147m-\u001b[0m\u001b[38;5;183m\u001b[38;5;147m-\u001b[0m\u001b[38;5;183m\u001b[38;5;147m-\u001b[0m\u001b[38;5;183m\u001b[38;5;147m-\u001b[0m\u001b[38;5;183m\u001b[38;5;147m-\u001b[0m\u001b[38;5;183m\u001b[38;5;147m-\u001b[0m\u001b[38;5;183m\u001b[38;5;147m-\u001b[0m\u001b[38;5;183m\u001b[38;5;147m-\u001b[0m\u001b[38;5;183m\u001b[38;5;147m-\u001b[0m\u001b[38;5;183m\u001b[38;5;147m-\u001b[0m\u001b[38;5;183m\u001b[38;5;147m-\u001b[0m\u001b[38;5;183m\u001b[38;5;219m+\u001b[0m\u001b[38;5;183m\u001b[38;5;147m-\u001b[0m\u001b[38;5;183m\u001b[38;5;147m-\u001b[0m\u001b[38;5;183m\u001b[38;5;147m-\u001b[0m\u001b[38;5;183m\u001b[38;5;147m-\u001b[0m\u001b[38;5;183m\u001b[38;5;147m-\u001b[0m\u001b[38;5;183m\u001b[38;5;147m-\u001b[0m\u001b[38;5;183m\u001b[38;5;147m-\u001b[0m\u001b[38;5;183m\u001b[38;5;147m-\u001b[0m\u001b[38;5;183m\u001b[38;5;147m-\u001b[0m\u001b[38;5;183m\u001b[38;5;147m-\u001b[0m\u001b[38;5;183m\u001b[38;5;147m-\u001b[0m\u001b[38;5;183m\u001b[38;5;147m-\u001b[0m\u001b[38;5;183m\u001b[38;5;147m-\u001b[0m\u001b[38;5;183m\u001b[38;5;147m-\u001b[0m\u001b[38;5;183m\u001b[38;5;147m-\u001b[0m\u001b[38;5;183m\u001b[38;5;147m-\u001b[0m\u001b[38;5;183m\u001b[38;5;147m-\u001b[0m\u001b[38;5;183m\u001b[38;5;147m-\u001b[0m\u001b[38;5;183m\u001b[38;5;147m-\u001b[0m\u001b[38;5;183m\u001b[38;5;147m-\u001b[0m\u001b[38;5;183m\u001b[38;5;147m-\u001b[0m\u001b[38;5;183m\u001b[38;5;219m+\u001b[0m\u001b[38;5;183m\u001b[0m\n"
     ]
    }
   ],
   "source": [
    "test_three_best_models_down(models_dict, x_train_balanced_down, y_train_balanced_down, x_test_balanced_down, y_test)\n",
    "print(table_results(Model.all_models))"
   ]
  },
  {
   "cell_type": "markdown",
   "metadata": {},
   "source": [
    "### DONC LE BALANCED UP MARCHE BIEN !"
   ]
  },
  {
   "cell_type": "markdown",
   "metadata": {},
   "source": [
    "### Test avec les trois langues"
   ]
  },
  {
   "cell_type": "code",
   "execution_count": 71,
   "metadata": {},
   "outputs": [],
   "source": [
    "df_train_it, df_test_it = get_train_and_test_df(\"data/train/deft09_parlement_appr_it.xml\", \"data/test/deft09_parlement_test_it.xml\", \"data/ref/deft09_parlement_ref_it.txt\")"
   ]
  },
  {
   "cell_type": "code",
   "execution_count": 72,
   "metadata": {},
   "outputs": [
    {
     "name": "stdout",
     "output_type": "stream",
     "text": [
      "Il y a 7814 textes en commun entre les données d'entraînement et de test.\n"
     ]
    }
   ],
   "source": [
    "train_texts_it = df_train_it[\"texte\"].to_list()\n",
    "test_texts_it = df_test_it[\"texte\"].to_list()\n",
    "num_copy = check_copy(train_texts_it, test_texts_it)\n",
    "print(f\"Il y a {num_copy} textes en commun entre les données d'entraînement et de test.\")"
   ]
  },
  {
   "cell_type": "markdown",
   "metadata": {},
   "source": [
    "### même soucis de doublons ! on procède aux memes traitements..."
   ]
  },
  {
   "cell_type": "code",
   "execution_count": 73,
   "metadata": {},
   "outputs": [
    {
     "name": "stdout",
     "output_type": "stream",
     "text": [
      "Pourcentage de textes d'entraînement : 53.40%\n",
      "Pourcentage de textes de test : 46.60%\n"
     ]
    }
   ],
   "source": [
    "df_train_it, df_test_it = balance_distribution(df_train_it, df_test_it)\n",
    "percentage_train, percentage_test = get_distribution(df_train_it, df_test_it)\n",
    "print(f\"Pourcentage de textes d'entraînement : {percentage_train:.2f}%\")\n",
    "print(f\"Pourcentage de textes de test : {percentage_test:.2f}%\")"
   ]
  },
  {
   "cell_type": "code",
   "execution_count": 74,
   "metadata": {},
   "outputs": [
    {
     "name": "stdout",
     "output_type": "stream",
     "text": [
      "Pourcentage de textes d'entraînement : 60.00%\n",
      "Pourcentage de textes de test : 40.00%\n",
      "Il y a 0 textes en commun entre les données d'entraînement et de test.\n"
     ]
    }
   ],
   "source": [
    "df_train_it, df_test_it = reach_desired_distribution(df_train_it, df_test_it)\n",
    "percentage_train, percentage_test = get_distribution(df_train_it, df_test_it)\n",
    "print(f\"Pourcentage de textes d'entraînement : {percentage_train:.2f}%\")\n",
    "print(f\"Pourcentage de textes de test : {percentage_test:.2f}%\")\n",
    "train_texts_it = df_train_it[\"texte\"].to_list()\n",
    "test_texts_it = df_test_it[\"texte\"].to_list()\n",
    "num_copy = check_copy(train_texts_it, test_texts_it)\n",
    "print(f\"Il y a {num_copy} textes en commun entre les données d'entraînement et de test.\")"
   ]
  },
  {
   "cell_type": "markdown",
   "metadata": {},
   "source": [
    "### þareil pour l'anglais"
   ]
  },
  {
   "cell_type": "code",
   "execution_count": 75,
   "metadata": {},
   "outputs": [],
   "source": [
    "df_train_en, df_test_en = get_train_and_test_df(\"data/train/deft09_parlement_appr_en.xml\", \"data/test/deft09_parlement_test_en.xml\", \"data/ref/deft09_parlement_ref_en.txt\")"
   ]
  },
  {
   "cell_type": "code",
   "execution_count": 76,
   "metadata": {},
   "outputs": [
    {
     "name": "stdout",
     "output_type": "stream",
     "text": [
      "Il y a 7813 textes en commun entre les données d'entraînement et de test.\n"
     ]
    }
   ],
   "source": [
    "train_texts_en = df_train_en[\"texte\"].to_list()\n",
    "test_texts_en = df_test_en[\"texte\"].to_list()\n",
    "num_copy = check_copy(train_texts_en, test_texts_en)\n",
    "print(f\"Il y a {num_copy} textes en commun entre les données d'entraînement et de test.\")"
   ]
  },
  {
   "cell_type": "code",
   "execution_count": 77,
   "metadata": {},
   "outputs": [
    {
     "name": "stdout",
     "output_type": "stream",
     "text": [
      "Pourcentage de textes d'entraînement : 53.40%\n",
      "Pourcentage de textes de test : 46.60%\n"
     ]
    }
   ],
   "source": [
    "df_train_en, df_test_en = balance_distribution(df_train_en, df_test_en)\n",
    "percentage_train, percentage_test = get_distribution(df_train_en, df_test_en)\n",
    "print(f\"Pourcentage de textes d'entraînement : {percentage_train:.2f}%\")\n",
    "print(f\"Pourcentage de textes de test : {percentage_test:.2f}%\")"
   ]
  },
  {
   "cell_type": "code",
   "execution_count": 78,
   "metadata": {},
   "outputs": [
    {
     "name": "stdout",
     "output_type": "stream",
     "text": [
      "Pourcentage de textes d'entraînement : 60.00%\n",
      "Pourcentage de textes de test : 40.00%\n",
      "Il y a 0 textes en commun entre les données d'entraînement et de test.\n"
     ]
    }
   ],
   "source": [
    "df_train_en, df_test_en = reach_desired_distribution(df_train_en, df_test_en)\n",
    "percentage_train, percentage_test = get_distribution(df_train_en, df_test_en)\n",
    "print(f\"Pourcentage de textes d'entraînement : {percentage_train:.2f}%\")\n",
    "print(f\"Pourcentage de textes de test : {percentage_test:.2f}%\")\n",
    "train_texts_en = df_train_en[\"texte\"].to_list()\n",
    "test_texts_en = df_test_en[\"texte\"].to_list()\n",
    "num_copy = check_copy(train_texts_en, test_texts_en)\n",
    "print(f\"Il y a {num_copy} textes en commun entre les données d'entraînement et de test.\")"
   ]
  },
  {
   "cell_type": "code",
   "execution_count": 79,
   "metadata": {},
   "outputs": [],
   "source": [
    "combined_train_data = pd.concat([df_train[\"texte_nettoyé\"], df_train_en[\"texte\"], df_train_it[\"texte\"]])\n",
    "vectorizer = TfidfVectorizer(max_df=0.5, ngram_range=(1, 2))  \n",
    "vectorizer.fit(combined_train_data)\n",
    "\n",
    "\n",
    "x_train_fr = vectorizer.transform(df_train[\"texte_nettoyé\"])\n",
    "x_train_en = vectorizer.transform(df_train_en[\"texte\"])\n",
    "x_train_it = vectorizer.transform(df_train_it[\"texte\"])\n",
    "x_test_fr = vectorizer.transform(df_test[\"texte_nettoyé\"])\n",
    "x_test_en = vectorizer.transform(df_test_en[\"texte\"])\n",
    "x_test_it = vectorizer.transform(df_test_it[\"texte\"])\n",
    "\n",
    "y_train_fr = df_train[\"label\"]\n",
    "y_train_en = df_train_en[\"label\"]\n",
    "y_train_it = df_train_it[\"label\"]\n",
    "y_test_fr = df_test[\"label\"]\n",
    "y_test_en = df_test_en[\"label\"]\n",
    "y_test_it = df_test_it[\"label\"]\n"
   ]
  },
  {
   "cell_type": "code",
   "execution_count": 81,
   "metadata": {},
   "outputs": [],
   "source": [
    "combined_train_data = pd.concat([df_train[\"texte_nettoyé\"], df_train_it[\"texte\"]])\n",
    "vectorizer = TfidfVectorizer(max_df=0.5, ngram_range=(1, 2))  \n",
    "vectorizer.fit(combined_train_data)\n",
    "\n",
    "\n",
    "x_train_fr = vectorizer.transform(df_train[\"texte_nettoyé\"])\n",
    "x_train_it = vectorizer.transform(df_train_it[\"texte\"])\n",
    "x_test_fr = vectorizer.transform(df_test[\"texte_nettoyé\"])\n",
    "x_test_it = vectorizer.transform(df_test_it[\"texte\"])\n",
    "\n",
    "y_train_fr = df_train[\"label\"]\n",
    "y_train_it = df_train_it[\"label\"]\n",
    "y_test_fr = df_test[\"label\"]\n",
    "y_test_it = df_test_it[\"label\"]"
   ]
  },
  {
   "cell_type": "code",
   "execution_count": null,
   "metadata": {},
   "outputs": [
    {
     "name": "stdout",
     "output_type": "stream",
     "text": [
      "On teste le modèle KNN\n",
      "On teste le modèle MultinomialNB\n",
      "On teste le modèle ComplementNB\n",
      "On teste le modèle LogisticRegression\n",
      "On teste le modèle SGDClassifier\n"
     ]
    },
    {
     "name": "stderr",
     "output_type": "stream",
     "text": [
      "/home/karmin/Downloads/yes/envs/app_auto_dm_test/lib/python3.12/site-packages/sklearn/metrics/_classification.py:1565: UndefinedMetricWarning: Precision is ill-defined and being set to 0.0 in labels with no predicted samples. Use `zero_division` parameter to control this behavior.\n",
      "  _warn_prf(average, modifier, f\"{metric.capitalize()} is\", len(result))\n",
      "/home/karmin/Downloads/yes/envs/app_auto_dm_test/lib/python3.12/site-packages/sklearn/metrics/_classification.py:1565: UndefinedMetricWarning: Precision is ill-defined and being set to 0.0 in labels with no predicted samples. Use `zero_division` parameter to control this behavior.\n",
      "  _warn_prf(average, modifier, f\"{metric.capitalize()} is\", len(result))\n",
      "/home/karmin/Downloads/yes/envs/app_auto_dm_test/lib/python3.12/site-packages/sklearn/metrics/_classification.py:1565: UndefinedMetricWarning: Precision is ill-defined and being set to 0.0 in labels with no predicted samples. Use `zero_division` parameter to control this behavior.\n",
      "  _warn_prf(average, modifier, f\"{metric.capitalize()} is\", len(result))\n"
     ]
    },
    {
     "name": "stdout",
     "output_type": "stream",
     "text": [
      "On teste le modèle LinearSVC\n"
     ]
    },
    {
     "name": "stderr",
     "output_type": "stream",
     "text": [
      "/home/karmin/Downloads/yes/envs/app_auto_dm_test/lib/python3.12/site-packages/sklearn/metrics/_classification.py:1565: UndefinedMetricWarning: Precision is ill-defined and being set to 0.0 in labels with no predicted samples. Use `zero_division` parameter to control this behavior.\n",
      "  _warn_prf(average, modifier, f\"{metric.capitalize()} is\", len(result))\n",
      "/home/karmin/Downloads/yes/envs/app_auto_dm_test/lib/python3.12/site-packages/sklearn/metrics/_classification.py:1565: UndefinedMetricWarning: Precision is ill-defined and being set to 0.0 in labels with no predicted samples. Use `zero_division` parameter to control this behavior.\n",
      "  _warn_prf(average, modifier, f\"{metric.capitalize()} is\", len(result))\n",
      "/home/karmin/Downloads/yes/envs/app_auto_dm_test/lib/python3.12/site-packages/sklearn/metrics/_classification.py:1565: UndefinedMetricWarning: Precision is ill-defined and being set to 0.0 in labels with no predicted samples. Use `zero_division` parameter to control this behavior.\n",
      "  _warn_prf(average, modifier, f\"{metric.capitalize()} is\", len(result))\n"
     ]
    },
    {
     "name": "stdout",
     "output_type": "stream",
     "text": [
      "On teste le modèle SVC\n",
      "On teste le modèle RidgeClassifier\n",
      "On teste le modèle LGBMClassifier\n",
      "On teste le modèle RandomForestClassifier\n",
      "On teste le modèle PassiveAggressiveClassifier\n"
     ]
    }
   ],
   "source": [
    "@time_function\n",
    "def multilingual_classifier(model, x_train_fr, y_train_fr, x_train_it, y_train_it, x_test_fr, y_test_fr):\n",
    "\n",
    "    model = model.fit(x_train_fr, y_train_fr)\n",
    "    model = model.fit(x_train_it, y_train_it)\n",
    "\n",
    "    y_pred = model.predict(x_test_fr)\n",
    "\n",
    "    accuracy = accuracy_score(y_test_fr, y_pred)\n",
    "    report = classification_report(y_test_fr, y_pred, output_dict=True)\n",
    "    \n",
    "    return model, {\"accuracy\": accuracy, **report}\n",
    "\n",
    "for model in models_dict:\n",
    "    print(\"On teste le modèle\", model)\n",
    "    if model in [\"PassiveAggressiveClassifier\", \"SGDClassifier\", \"LinearSVC\", \"multinomialNB\", \"ComplementNB\"]:\n",
    "        multi_clf_result, running_time = multilingual_classifier(models_dict[model][\"model\"], x_train_fr, y_train_fr, x_train_it, y_train_it, x_test_fr, y_test_fr)\n",
    "        multi_clf_model, scores = multi_clf_result\n",
    "        model = Model(name=f\"multiclass_{model}\", model=multi_clf_model, scores=scores, running_time=running_time)\n"
   ]
  },
  {
   "cell_type": "code",
   "execution_count": 83,
   "metadata": {},
   "outputs": [
    {
     "name": "stdout",
     "output_type": "stream",
     "text": [
      "\u001b[38;5;219m+\u001b[0m\u001b[38;5;183m\u001b[38;5;147m-\u001b[0m\u001b[38;5;183m\u001b[38;5;147m-\u001b[0m\u001b[38;5;183m\u001b[38;5;147m-\u001b[0m\u001b[38;5;183m\u001b[38;5;147m-\u001b[0m\u001b[38;5;183m\u001b[38;5;147m-\u001b[0m\u001b[38;5;183m\u001b[38;5;147m-\u001b[0m\u001b[38;5;183m\u001b[38;5;147m-\u001b[0m\u001b[38;5;183m\u001b[38;5;147m-\u001b[0m\u001b[38;5;183m\u001b[38;5;147m-\u001b[0m\u001b[38;5;183m\u001b[38;5;147m-\u001b[0m\u001b[38;5;183m\u001b[38;5;147m-\u001b[0m\u001b[38;5;183m\u001b[38;5;147m-\u001b[0m\u001b[38;5;183m\u001b[38;5;147m-\u001b[0m\u001b[38;5;183m\u001b[38;5;147m-\u001b[0m\u001b[38;5;183m\u001b[38;5;147m-\u001b[0m\u001b[38;5;183m\u001b[38;5;147m-\u001b[0m\u001b[38;5;183m\u001b[38;5;147m-\u001b[0m\u001b[38;5;183m\u001b[38;5;147m-\u001b[0m\u001b[38;5;183m\u001b[38;5;147m-\u001b[0m\u001b[38;5;183m\u001b[38;5;147m-\u001b[0m\u001b[38;5;183m\u001b[38;5;147m-\u001b[0m\u001b[38;5;183m\u001b[38;5;147m-\u001b[0m\u001b[38;5;183m\u001b[38;5;147m-\u001b[0m\u001b[38;5;183m\u001b[38;5;147m-\u001b[0m\u001b[38;5;183m\u001b[38;5;147m-\u001b[0m\u001b[38;5;183m\u001b[38;5;147m-\u001b[0m\u001b[38;5;183m\u001b[38;5;147m-\u001b[0m\u001b[38;5;183m\u001b[38;5;147m-\u001b[0m\u001b[38;5;183m\u001b[38;5;147m-\u001b[0m\u001b[38;5;183m\u001b[38;5;147m-\u001b[0m\u001b[38;5;183m\u001b[38;5;147m-\u001b[0m\u001b[38;5;183m\u001b[38;5;147m-\u001b[0m\u001b[38;5;183m\u001b[38;5;147m-\u001b[0m\u001b[38;5;183m\u001b[38;5;147m-\u001b[0m\u001b[38;5;183m\u001b[38;5;147m-\u001b[0m\u001b[38;5;183m\u001b[38;5;147m-\u001b[0m\u001b[38;5;183m\u001b[38;5;147m-\u001b[0m\u001b[38;5;183m\u001b[38;5;147m-\u001b[0m\u001b[38;5;183m\u001b[38;5;147m-\u001b[0m\u001b[38;5;183m\u001b[38;5;147m-\u001b[0m\u001b[38;5;183m\u001b[38;5;147m-\u001b[0m\u001b[38;5;183m\u001b[38;5;147m-\u001b[0m\u001b[38;5;183m\u001b[38;5;147m-\u001b[0m\u001b[38;5;183m\u001b[38;5;147m-\u001b[0m\u001b[38;5;183m\u001b[38;5;147m-\u001b[0m\u001b[38;5;183m\u001b[38;5;219m+\u001b[0m\u001b[38;5;183m\u001b[38;5;147m-\u001b[0m\u001b[38;5;183m\u001b[38;5;147m-\u001b[0m\u001b[38;5;183m\u001b[38;5;147m-\u001b[0m\u001b[38;5;183m\u001b[38;5;147m-\u001b[0m\u001b[38;5;183m\u001b[38;5;147m-\u001b[0m\u001b[38;5;183m\u001b[38;5;147m-\u001b[0m\u001b[38;5;183m\u001b[38;5;147m-\u001b[0m\u001b[38;5;183m\u001b[38;5;147m-\u001b[0m\u001b[38;5;183m\u001b[38;5;147m-\u001b[0m\u001b[38;5;183m\u001b[38;5;147m-\u001b[0m\u001b[38;5;183m\u001b[38;5;147m-\u001b[0m\u001b[38;5;183m\u001b[38;5;147m-\u001b[0m\u001b[38;5;183m\u001b[38;5;147m-\u001b[0m\u001b[38;5;183m\u001b[38;5;147m-\u001b[0m\u001b[38;5;183m\u001b[38;5;147m-\u001b[0m\u001b[38;5;183m\u001b[38;5;147m-\u001b[0m\u001b[38;5;183m\u001b[38;5;147m-\u001b[0m\u001b[38;5;183m\u001b[38;5;147m-\u001b[0m\u001b[38;5;183m\u001b[38;5;147m-\u001b[0m\u001b[38;5;183m\u001b[38;5;147m-\u001b[0m\u001b[38;5;183m\u001b[38;5;147m-\u001b[0m\u001b[38;5;183m\u001b[38;5;147m-\u001b[0m\u001b[38;5;183m\u001b[38;5;147m-\u001b[0m\u001b[38;5;183m\u001b[38;5;147m-\u001b[0m\u001b[38;5;183m\u001b[38;5;147m-\u001b[0m\u001b[38;5;183m\u001b[38;5;147m-\u001b[0m\u001b[38;5;183m\u001b[38;5;147m-\u001b[0m\u001b[38;5;183m\u001b[38;5;147m-\u001b[0m\u001b[38;5;183m\u001b[38;5;147m-\u001b[0m\u001b[38;5;183m\u001b[38;5;147m-\u001b[0m\u001b[38;5;183m\u001b[38;5;147m-\u001b[0m\u001b[38;5;183m\u001b[38;5;147m-\u001b[0m\u001b[38;5;183m\u001b[38;5;147m-\u001b[0m\u001b[38;5;183m\u001b[38;5;147m-\u001b[0m\u001b[38;5;183m\u001b[38;5;147m-\u001b[0m\u001b[38;5;183m\u001b[38;5;147m-\u001b[0m\u001b[38;5;183m\u001b[38;5;147m-\u001b[0m\u001b[38;5;183m\u001b[38;5;147m-\u001b[0m\u001b[38;5;183m\u001b[38;5;147m-\u001b[0m\u001b[38;5;183m\u001b[38;5;147m-\u001b[0m\u001b[38;5;183m\u001b[38;5;147m-\u001b[0m\u001b[38;5;183m\u001b[38;5;147m-\u001b[0m\u001b[38;5;183m\u001b[38;5;147m-\u001b[0m\u001b[38;5;183m\u001b[38;5;147m-\u001b[0m\u001b[38;5;183m\u001b[38;5;147m-\u001b[0m\u001b[38;5;183m\u001b[38;5;147m-\u001b[0m\u001b[38;5;183m\u001b[38;5;147m-\u001b[0m\u001b[38;5;183m\u001b[38;5;147m-\u001b[0m\u001b[38;5;183m\u001b[38;5;147m-\u001b[0m\u001b[38;5;183m\u001b[38;5;147m-\u001b[0m\u001b[38;5;183m\u001b[38;5;147m-\u001b[0m\u001b[38;5;183m\u001b[38;5;147m-\u001b[0m\u001b[38;5;183m\u001b[38;5;147m-\u001b[0m\u001b[38;5;183m\u001b[38;5;147m-\u001b[0m\u001b[38;5;183m\u001b[38;5;147m-\u001b[0m\u001b[38;5;183m\u001b[38;5;147m-\u001b[0m\u001b[38;5;183m\u001b[38;5;147m-\u001b[0m\u001b[38;5;183m\u001b[38;5;147m-\u001b[0m\u001b[38;5;183m\u001b[38;5;219m+\u001b[0m\u001b[38;5;183m\u001b[38;5;147m-\u001b[0m\u001b[38;5;183m\u001b[38;5;147m-\u001b[0m\u001b[38;5;183m\u001b[38;5;147m-\u001b[0m\u001b[38;5;183m\u001b[38;5;147m-\u001b[0m\u001b[38;5;183m\u001b[38;5;147m-\u001b[0m\u001b[38;5;183m\u001b[38;5;147m-\u001b[0m\u001b[38;5;183m\u001b[38;5;147m-\u001b[0m\u001b[38;5;183m\u001b[38;5;147m-\u001b[0m\u001b[38;5;183m\u001b[38;5;147m-\u001b[0m\u001b[38;5;183m\u001b[38;5;147m-\u001b[0m\u001b[38;5;183m\u001b[38;5;147m-\u001b[0m\u001b[38;5;183m\u001b[38;5;147m-\u001b[0m\u001b[38;5;183m\u001b[38;5;147m-\u001b[0m\u001b[38;5;183m\u001b[38;5;147m-\u001b[0m\u001b[38;5;183m\u001b[38;5;147m-\u001b[0m\u001b[38;5;183m\u001b[38;5;147m-\u001b[0m\u001b[38;5;183m\u001b[38;5;147m-\u001b[0m\u001b[38;5;183m\u001b[38;5;147m-\u001b[0m\u001b[38;5;183m\u001b[38;5;147m-\u001b[0m\u001b[38;5;183m\u001b[38;5;147m-\u001b[0m\u001b[38;5;183m\u001b[38;5;147m-\u001b[0m\u001b[38;5;183m\u001b[38;5;219m+\u001b[0m\u001b[38;5;183m\u001b[38;5;147m-\u001b[0m\u001b[38;5;183m\u001b[38;5;147m-\u001b[0m\u001b[38;5;183m\u001b[38;5;147m-\u001b[0m\u001b[38;5;183m\u001b[38;5;147m-\u001b[0m\u001b[38;5;183m\u001b[38;5;147m-\u001b[0m\u001b[38;5;183m\u001b[38;5;147m-\u001b[0m\u001b[38;5;183m\u001b[38;5;147m-\u001b[0m\u001b[38;5;183m\u001b[38;5;147m-\u001b[0m\u001b[38;5;183m\u001b[38;5;147m-\u001b[0m\u001b[38;5;183m\u001b[38;5;147m-\u001b[0m\u001b[38;5;183m\u001b[38;5;147m-\u001b[0m\u001b[38;5;183m\u001b[38;5;147m-\u001b[0m\u001b[38;5;183m\u001b[38;5;147m-\u001b[0m\u001b[38;5;183m\u001b[38;5;147m-\u001b[0m\u001b[38;5;183m\u001b[38;5;147m-\u001b[0m\u001b[38;5;183m\u001b[38;5;147m-\u001b[0m\u001b[38;5;183m\u001b[38;5;147m-\u001b[0m\u001b[38;5;183m\u001b[38;5;147m-\u001b[0m\u001b[38;5;183m\u001b[38;5;147m-\u001b[0m\u001b[38;5;183m\u001b[38;5;147m-\u001b[0m\u001b[38;5;183m\u001b[38;5;147m-\u001b[0m\u001b[38;5;183m\u001b[38;5;219m+\u001b[0m\u001b[38;5;183m\u001b[38;5;147m-\u001b[0m\u001b[38;5;183m\u001b[38;5;147m-\u001b[0m\u001b[38;5;183m\u001b[38;5;147m-\u001b[0m\u001b[38;5;183m\u001b[38;5;147m-\u001b[0m\u001b[38;5;183m\u001b[38;5;147m-\u001b[0m\u001b[38;5;183m\u001b[38;5;147m-\u001b[0m\u001b[38;5;183m\u001b[38;5;147m-\u001b[0m\u001b[38;5;183m\u001b[38;5;147m-\u001b[0m\u001b[38;5;183m\u001b[38;5;147m-\u001b[0m\u001b[38;5;183m\u001b[38;5;147m-\u001b[0m\u001b[38;5;183m\u001b[38;5;147m-\u001b[0m\u001b[38;5;183m\u001b[38;5;147m-\u001b[0m\u001b[38;5;183m\u001b[38;5;147m-\u001b[0m\u001b[38;5;183m\u001b[38;5;147m-\u001b[0m\u001b[38;5;183m\u001b[38;5;147m-\u001b[0m\u001b[38;5;183m\u001b[38;5;147m-\u001b[0m\u001b[38;5;183m\u001b[38;5;147m-\u001b[0m\u001b[38;5;183m\u001b[38;5;147m-\u001b[0m\u001b[38;5;183m\u001b[38;5;147m-\u001b[0m\u001b[38;5;183m\u001b[38;5;147m-\u001b[0m\u001b[38;5;183m\u001b[38;5;147m-\u001b[0m\u001b[38;5;183m\u001b[38;5;219m+\u001b[0m\u001b[38;5;183m\u001b[38;5;147m-\u001b[0m\u001b[38;5;183m\u001b[38;5;147m-\u001b[0m\u001b[38;5;183m\u001b[38;5;147m-\u001b[0m\u001b[38;5;183m\u001b[38;5;147m-\u001b[0m\u001b[38;5;183m\u001b[38;5;147m-\u001b[0m\u001b[38;5;183m\u001b[38;5;147m-\u001b[0m\u001b[38;5;183m\u001b[38;5;147m-\u001b[0m\u001b[38;5;183m\u001b[38;5;147m-\u001b[0m\u001b[38;5;183m\u001b[38;5;147m-\u001b[0m\u001b[38;5;183m\u001b[38;5;147m-\u001b[0m\u001b[38;5;183m\u001b[38;5;147m-\u001b[0m\u001b[38;5;183m\u001b[38;5;147m-\u001b[0m\u001b[38;5;183m\u001b[38;5;147m-\u001b[0m\u001b[38;5;183m\u001b[38;5;147m-\u001b[0m\u001b[38;5;183m\u001b[38;5;147m-\u001b[0m\u001b[38;5;183m\u001b[38;5;147m-\u001b[0m\u001b[38;5;183m\u001b[38;5;147m-\u001b[0m\u001b[38;5;183m\u001b[38;5;147m-\u001b[0m\u001b[38;5;183m\u001b[38;5;147m-\u001b[0m\u001b[38;5;183m\u001b[38;5;147m-\u001b[0m\u001b[38;5;183m\u001b[38;5;147m-\u001b[0m\u001b[38;5;183m\u001b[38;5;219m+\u001b[0m\u001b[38;5;183m\u001b[38;5;147m-\u001b[0m\u001b[38;5;183m\u001b[38;5;147m-\u001b[0m\u001b[38;5;183m\u001b[38;5;147m-\u001b[0m\u001b[38;5;183m\u001b[38;5;147m-\u001b[0m\u001b[38;5;183m\u001b[38;5;147m-\u001b[0m\u001b[38;5;183m\u001b[38;5;147m-\u001b[0m\u001b[38;5;183m\u001b[38;5;147m-\u001b[0m\u001b[38;5;183m\u001b[38;5;147m-\u001b[0m\u001b[38;5;183m\u001b[38;5;147m-\u001b[0m\u001b[38;5;183m\u001b[38;5;147m-\u001b[0m\u001b[38;5;183m\u001b[38;5;147m-\u001b[0m\u001b[38;5;183m\u001b[38;5;147m-\u001b[0m\u001b[38;5;183m\u001b[38;5;147m-\u001b[0m\u001b[38;5;183m\u001b[38;5;147m-\u001b[0m\u001b[38;5;183m\u001b[38;5;147m-\u001b[0m\u001b[38;5;183m\u001b[38;5;147m-\u001b[0m\u001b[38;5;183m\u001b[38;5;147m-\u001b[0m\u001b[38;5;183m\u001b[38;5;147m-\u001b[0m\u001b[38;5;183m\u001b[38;5;147m-\u001b[0m\u001b[38;5;183m\u001b[38;5;147m-\u001b[0m\u001b[38;5;183m\u001b[38;5;147m-\u001b[0m\u001b[38;5;183m\u001b[38;5;219m+\u001b[0m\u001b[38;5;183m\n",
      "\u001b[35m|\u001b[0m\u001b[38;5;183m                  Algorithme                 \u001b[35m|\u001b[0m\u001b[38;5;183m                     Hyperparamètres                      \u001b[35m|\u001b[0m\u001b[38;5;183m       Macro f1      \u001b[35m|\u001b[0m\u001b[38;5;183m       Accuracy      \u001b[35m|\u001b[0m\u001b[38;5;183m      Precision      \u001b[35m|\u001b[0m\u001b[38;5;183m        Rappel       \u001b[35m|\u001b[0m\u001b[38;5;183m  Temps d'exécution  \u001b[35m|\u001b[0m\u001b[38;5;183m\n",
      "\u001b[38;5;219m+\u001b[0m\u001b[38;5;183m\u001b[38;5;147m-\u001b[0m\u001b[38;5;183m\u001b[38;5;147m-\u001b[0m\u001b[38;5;183m\u001b[38;5;147m-\u001b[0m\u001b[38;5;183m\u001b[38;5;147m-\u001b[0m\u001b[38;5;183m\u001b[38;5;147m-\u001b[0m\u001b[38;5;183m\u001b[38;5;147m-\u001b[0m\u001b[38;5;183m\u001b[38;5;147m-\u001b[0m\u001b[38;5;183m\u001b[38;5;147m-\u001b[0m\u001b[38;5;183m\u001b[38;5;147m-\u001b[0m\u001b[38;5;183m\u001b[38;5;147m-\u001b[0m\u001b[38;5;183m\u001b[38;5;147m-\u001b[0m\u001b[38;5;183m\u001b[38;5;147m-\u001b[0m\u001b[38;5;183m\u001b[38;5;147m-\u001b[0m\u001b[38;5;183m\u001b[38;5;147m-\u001b[0m\u001b[38;5;183m\u001b[38;5;147m-\u001b[0m\u001b[38;5;183m\u001b[38;5;147m-\u001b[0m\u001b[38;5;183m\u001b[38;5;147m-\u001b[0m\u001b[38;5;183m\u001b[38;5;147m-\u001b[0m\u001b[38;5;183m\u001b[38;5;147m-\u001b[0m\u001b[38;5;183m\u001b[38;5;147m-\u001b[0m\u001b[38;5;183m\u001b[38;5;147m-\u001b[0m\u001b[38;5;183m\u001b[38;5;147m-\u001b[0m\u001b[38;5;183m\u001b[38;5;147m-\u001b[0m\u001b[38;5;183m\u001b[38;5;147m-\u001b[0m\u001b[38;5;183m\u001b[38;5;147m-\u001b[0m\u001b[38;5;183m\u001b[38;5;147m-\u001b[0m\u001b[38;5;183m\u001b[38;5;147m-\u001b[0m\u001b[38;5;183m\u001b[38;5;147m-\u001b[0m\u001b[38;5;183m\u001b[38;5;147m-\u001b[0m\u001b[38;5;183m\u001b[38;5;147m-\u001b[0m\u001b[38;5;183m\u001b[38;5;147m-\u001b[0m\u001b[38;5;183m\u001b[38;5;147m-\u001b[0m\u001b[38;5;183m\u001b[38;5;147m-\u001b[0m\u001b[38;5;183m\u001b[38;5;147m-\u001b[0m\u001b[38;5;183m\u001b[38;5;147m-\u001b[0m\u001b[38;5;183m\u001b[38;5;147m-\u001b[0m\u001b[38;5;183m\u001b[38;5;147m-\u001b[0m\u001b[38;5;183m\u001b[38;5;147m-\u001b[0m\u001b[38;5;183m\u001b[38;5;147m-\u001b[0m\u001b[38;5;183m\u001b[38;5;147m-\u001b[0m\u001b[38;5;183m\u001b[38;5;147m-\u001b[0m\u001b[38;5;183m\u001b[38;5;147m-\u001b[0m\u001b[38;5;183m\u001b[38;5;147m-\u001b[0m\u001b[38;5;183m\u001b[38;5;147m-\u001b[0m\u001b[38;5;183m\u001b[38;5;147m-\u001b[0m\u001b[38;5;183m\u001b[38;5;219m+\u001b[0m\u001b[38;5;183m\u001b[38;5;147m-\u001b[0m\u001b[38;5;183m\u001b[38;5;147m-\u001b[0m\u001b[38;5;183m\u001b[38;5;147m-\u001b[0m\u001b[38;5;183m\u001b[38;5;147m-\u001b[0m\u001b[38;5;183m\u001b[38;5;147m-\u001b[0m\u001b[38;5;183m\u001b[38;5;147m-\u001b[0m\u001b[38;5;183m\u001b[38;5;147m-\u001b[0m\u001b[38;5;183m\u001b[38;5;147m-\u001b[0m\u001b[38;5;183m\u001b[38;5;147m-\u001b[0m\u001b[38;5;183m\u001b[38;5;147m-\u001b[0m\u001b[38;5;183m\u001b[38;5;147m-\u001b[0m\u001b[38;5;183m\u001b[38;5;147m-\u001b[0m\u001b[38;5;183m\u001b[38;5;147m-\u001b[0m\u001b[38;5;183m\u001b[38;5;147m-\u001b[0m\u001b[38;5;183m\u001b[38;5;147m-\u001b[0m\u001b[38;5;183m\u001b[38;5;147m-\u001b[0m\u001b[38;5;183m\u001b[38;5;147m-\u001b[0m\u001b[38;5;183m\u001b[38;5;147m-\u001b[0m\u001b[38;5;183m\u001b[38;5;147m-\u001b[0m\u001b[38;5;183m\u001b[38;5;147m-\u001b[0m\u001b[38;5;183m\u001b[38;5;147m-\u001b[0m\u001b[38;5;183m\u001b[38;5;147m-\u001b[0m\u001b[38;5;183m\u001b[38;5;147m-\u001b[0m\u001b[38;5;183m\u001b[38;5;147m-\u001b[0m\u001b[38;5;183m\u001b[38;5;147m-\u001b[0m\u001b[38;5;183m\u001b[38;5;147m-\u001b[0m\u001b[38;5;183m\u001b[38;5;147m-\u001b[0m\u001b[38;5;183m\u001b[38;5;147m-\u001b[0m\u001b[38;5;183m\u001b[38;5;147m-\u001b[0m\u001b[38;5;183m\u001b[38;5;147m-\u001b[0m\u001b[38;5;183m\u001b[38;5;147m-\u001b[0m\u001b[38;5;183m\u001b[38;5;147m-\u001b[0m\u001b[38;5;183m\u001b[38;5;147m-\u001b[0m\u001b[38;5;183m\u001b[38;5;147m-\u001b[0m\u001b[38;5;183m\u001b[38;5;147m-\u001b[0m\u001b[38;5;183m\u001b[38;5;147m-\u001b[0m\u001b[38;5;183m\u001b[38;5;147m-\u001b[0m\u001b[38;5;183m\u001b[38;5;147m-\u001b[0m\u001b[38;5;183m\u001b[38;5;147m-\u001b[0m\u001b[38;5;183m\u001b[38;5;147m-\u001b[0m\u001b[38;5;183m\u001b[38;5;147m-\u001b[0m\u001b[38;5;183m\u001b[38;5;147m-\u001b[0m\u001b[38;5;183m\u001b[38;5;147m-\u001b[0m\u001b[38;5;183m\u001b[38;5;147m-\u001b[0m\u001b[38;5;183m\u001b[38;5;147m-\u001b[0m\u001b[38;5;183m\u001b[38;5;147m-\u001b[0m\u001b[38;5;183m\u001b[38;5;147m-\u001b[0m\u001b[38;5;183m\u001b[38;5;147m-\u001b[0m\u001b[38;5;183m\u001b[38;5;147m-\u001b[0m\u001b[38;5;183m\u001b[38;5;147m-\u001b[0m\u001b[38;5;183m\u001b[38;5;147m-\u001b[0m\u001b[38;5;183m\u001b[38;5;147m-\u001b[0m\u001b[38;5;183m\u001b[38;5;147m-\u001b[0m\u001b[38;5;183m\u001b[38;5;147m-\u001b[0m\u001b[38;5;183m\u001b[38;5;147m-\u001b[0m\u001b[38;5;183m\u001b[38;5;147m-\u001b[0m\u001b[38;5;183m\u001b[38;5;147m-\u001b[0m\u001b[38;5;183m\u001b[38;5;147m-\u001b[0m\u001b[38;5;183m\u001b[38;5;219m+\u001b[0m\u001b[38;5;183m\u001b[38;5;147m-\u001b[0m\u001b[38;5;183m\u001b[38;5;147m-\u001b[0m\u001b[38;5;183m\u001b[38;5;147m-\u001b[0m\u001b[38;5;183m\u001b[38;5;147m-\u001b[0m\u001b[38;5;183m\u001b[38;5;147m-\u001b[0m\u001b[38;5;183m\u001b[38;5;147m-\u001b[0m\u001b[38;5;183m\u001b[38;5;147m-\u001b[0m\u001b[38;5;183m\u001b[38;5;147m-\u001b[0m\u001b[38;5;183m\u001b[38;5;147m-\u001b[0m\u001b[38;5;183m\u001b[38;5;147m-\u001b[0m\u001b[38;5;183m\u001b[38;5;147m-\u001b[0m\u001b[38;5;183m\u001b[38;5;147m-\u001b[0m\u001b[38;5;183m\u001b[38;5;147m-\u001b[0m\u001b[38;5;183m\u001b[38;5;147m-\u001b[0m\u001b[38;5;183m\u001b[38;5;147m-\u001b[0m\u001b[38;5;183m\u001b[38;5;147m-\u001b[0m\u001b[38;5;183m\u001b[38;5;147m-\u001b[0m\u001b[38;5;183m\u001b[38;5;147m-\u001b[0m\u001b[38;5;183m\u001b[38;5;147m-\u001b[0m\u001b[38;5;183m\u001b[38;5;147m-\u001b[0m\u001b[38;5;183m\u001b[38;5;147m-\u001b[0m\u001b[38;5;183m\u001b[38;5;219m+\u001b[0m\u001b[38;5;183m\u001b[38;5;147m-\u001b[0m\u001b[38;5;183m\u001b[38;5;147m-\u001b[0m\u001b[38;5;183m\u001b[38;5;147m-\u001b[0m\u001b[38;5;183m\u001b[38;5;147m-\u001b[0m\u001b[38;5;183m\u001b[38;5;147m-\u001b[0m\u001b[38;5;183m\u001b[38;5;147m-\u001b[0m\u001b[38;5;183m\u001b[38;5;147m-\u001b[0m\u001b[38;5;183m\u001b[38;5;147m-\u001b[0m\u001b[38;5;183m\u001b[38;5;147m-\u001b[0m\u001b[38;5;183m\u001b[38;5;147m-\u001b[0m\u001b[38;5;183m\u001b[38;5;147m-\u001b[0m\u001b[38;5;183m\u001b[38;5;147m-\u001b[0m\u001b[38;5;183m\u001b[38;5;147m-\u001b[0m\u001b[38;5;183m\u001b[38;5;147m-\u001b[0m\u001b[38;5;183m\u001b[38;5;147m-\u001b[0m\u001b[38;5;183m\u001b[38;5;147m-\u001b[0m\u001b[38;5;183m\u001b[38;5;147m-\u001b[0m\u001b[38;5;183m\u001b[38;5;147m-\u001b[0m\u001b[38;5;183m\u001b[38;5;147m-\u001b[0m\u001b[38;5;183m\u001b[38;5;147m-\u001b[0m\u001b[38;5;183m\u001b[38;5;147m-\u001b[0m\u001b[38;5;183m\u001b[38;5;219m+\u001b[0m\u001b[38;5;183m\u001b[38;5;147m-\u001b[0m\u001b[38;5;183m\u001b[38;5;147m-\u001b[0m\u001b[38;5;183m\u001b[38;5;147m-\u001b[0m\u001b[38;5;183m\u001b[38;5;147m-\u001b[0m\u001b[38;5;183m\u001b[38;5;147m-\u001b[0m\u001b[38;5;183m\u001b[38;5;147m-\u001b[0m\u001b[38;5;183m\u001b[38;5;147m-\u001b[0m\u001b[38;5;183m\u001b[38;5;147m-\u001b[0m\u001b[38;5;183m\u001b[38;5;147m-\u001b[0m\u001b[38;5;183m\u001b[38;5;147m-\u001b[0m\u001b[38;5;183m\u001b[38;5;147m-\u001b[0m\u001b[38;5;183m\u001b[38;5;147m-\u001b[0m\u001b[38;5;183m\u001b[38;5;147m-\u001b[0m\u001b[38;5;183m\u001b[38;5;147m-\u001b[0m\u001b[38;5;183m\u001b[38;5;147m-\u001b[0m\u001b[38;5;183m\u001b[38;5;147m-\u001b[0m\u001b[38;5;183m\u001b[38;5;147m-\u001b[0m\u001b[38;5;183m\u001b[38;5;147m-\u001b[0m\u001b[38;5;183m\u001b[38;5;147m-\u001b[0m\u001b[38;5;183m\u001b[38;5;147m-\u001b[0m\u001b[38;5;183m\u001b[38;5;147m-\u001b[0m\u001b[38;5;183m\u001b[38;5;219m+\u001b[0m\u001b[38;5;183m\u001b[38;5;147m-\u001b[0m\u001b[38;5;183m\u001b[38;5;147m-\u001b[0m\u001b[38;5;183m\u001b[38;5;147m-\u001b[0m\u001b[38;5;183m\u001b[38;5;147m-\u001b[0m\u001b[38;5;183m\u001b[38;5;147m-\u001b[0m\u001b[38;5;183m\u001b[38;5;147m-\u001b[0m\u001b[38;5;183m\u001b[38;5;147m-\u001b[0m\u001b[38;5;183m\u001b[38;5;147m-\u001b[0m\u001b[38;5;183m\u001b[38;5;147m-\u001b[0m\u001b[38;5;183m\u001b[38;5;147m-\u001b[0m\u001b[38;5;183m\u001b[38;5;147m-\u001b[0m\u001b[38;5;183m\u001b[38;5;147m-\u001b[0m\u001b[38;5;183m\u001b[38;5;147m-\u001b[0m\u001b[38;5;183m\u001b[38;5;147m-\u001b[0m\u001b[38;5;183m\u001b[38;5;147m-\u001b[0m\u001b[38;5;183m\u001b[38;5;147m-\u001b[0m\u001b[38;5;183m\u001b[38;5;147m-\u001b[0m\u001b[38;5;183m\u001b[38;5;147m-\u001b[0m\u001b[38;5;183m\u001b[38;5;147m-\u001b[0m\u001b[38;5;183m\u001b[38;5;147m-\u001b[0m\u001b[38;5;183m\u001b[38;5;147m-\u001b[0m\u001b[38;5;183m\u001b[38;5;219m+\u001b[0m\u001b[38;5;183m\u001b[38;5;147m-\u001b[0m\u001b[38;5;183m\u001b[38;5;147m-\u001b[0m\u001b[38;5;183m\u001b[38;5;147m-\u001b[0m\u001b[38;5;183m\u001b[38;5;147m-\u001b[0m\u001b[38;5;183m\u001b[38;5;147m-\u001b[0m\u001b[38;5;183m\u001b[38;5;147m-\u001b[0m\u001b[38;5;183m\u001b[38;5;147m-\u001b[0m\u001b[38;5;183m\u001b[38;5;147m-\u001b[0m\u001b[38;5;183m\u001b[38;5;147m-\u001b[0m\u001b[38;5;183m\u001b[38;5;147m-\u001b[0m\u001b[38;5;183m\u001b[38;5;147m-\u001b[0m\u001b[38;5;183m\u001b[38;5;147m-\u001b[0m\u001b[38;5;183m\u001b[38;5;147m-\u001b[0m\u001b[38;5;183m\u001b[38;5;147m-\u001b[0m\u001b[38;5;183m\u001b[38;5;147m-\u001b[0m\u001b[38;5;183m\u001b[38;5;147m-\u001b[0m\u001b[38;5;183m\u001b[38;5;147m-\u001b[0m\u001b[38;5;183m\u001b[38;5;147m-\u001b[0m\u001b[38;5;183m\u001b[38;5;147m-\u001b[0m\u001b[38;5;183m\u001b[38;5;147m-\u001b[0m\u001b[38;5;183m\u001b[38;5;147m-\u001b[0m\u001b[38;5;183m\u001b[38;5;219m+\u001b[0m\u001b[38;5;183m\n",
      "\u001b[35m|\u001b[0m\u001b[38;5;183m  balanced_up_PassiveAggressiveClassifier_4  \u001b[35m|\u001b[0m\u001b[38;5;183m    PassiveAggressiveClassifier(loss='squared_hinge')     \u001b[35m|\u001b[0m\u001b[38;5;183m 0.35153460614535514 \u001b[35m|\u001b[0m\u001b[38;5;183m  0.390495867768595  \u001b[35m|\u001b[0m\u001b[38;5;183m 0.35338589814023386 \u001b[35m|\u001b[0m\u001b[38;5;183m 0.35189746620502904 \u001b[35m|\u001b[0m\u001b[38;5;183m  1.158452033996582  \u001b[35m|\u001b[0m\u001b[38;5;183m\n",
      "\u001b[35m|\u001b[0m\u001b[38;5;183m  balanced_up_PassiveAggressiveClassifier_2  \u001b[35m|\u001b[0m\u001b[38;5;183m PassiveAggressiveClassifier(C=0.5, loss='squared_hinge') \u001b[35m|\u001b[0m\u001b[38;5;183m  0.3511829777477872 \u001b[35m|\u001b[0m\u001b[38;5;183m 0.39061065197428835 \u001b[35m|\u001b[0m\u001b[38;5;183m   0.35320158017241  \u001b[35m|\u001b[0m\u001b[38;5;183m  0.3513933741298668 \u001b[35m|\u001b[0m\u001b[38;5;183m  1.2888472080230713 \u001b[35m|\u001b[0m\u001b[38;5;183m\n",
      "\u001b[35m|\u001b[0m\u001b[38;5;183m  balanced_up_PassiveAggressiveClassifier_3  \u001b[35m|\u001b[0m\u001b[38;5;183m              PassiveAggressiveClassifier()               \u001b[35m|\u001b[0m\u001b[38;5;183m  0.3504948896240195 \u001b[35m|\u001b[0m\u001b[38;5;183m 0.39003673094582186 \u001b[35m|\u001b[0m\u001b[38;5;183m 0.35319300948477406 \u001b[35m|\u001b[0m\u001b[38;5;183m 0.34994724495516516 \u001b[35m|\u001b[0m\u001b[38;5;183m  0.9214727878570557 \u001b[35m|\u001b[0m\u001b[38;5;183m\n",
      "\u001b[35m|\u001b[0m\u001b[38;5;183m  balanced_up_PassiveAggressiveClassifier_1  \u001b[35m|\u001b[0m\u001b[38;5;183m            PassiveAggressiveClassifier(C=0.5)            \u001b[35m|\u001b[0m\u001b[38;5;183m  0.3499681735448617 \u001b[35m|\u001b[0m\u001b[38;5;183m  0.3894628099173554 \u001b[35m|\u001b[0m\u001b[38;5;183m 0.35222600289265393 \u001b[35m|\u001b[0m\u001b[38;5;183m 0.35008260834100363 \u001b[35m|\u001b[0m\u001b[38;5;183m  1.2187023162841797 \u001b[35m|\u001b[0m\u001b[38;5;183m\n",
      "\u001b[35m|\u001b[0m\u001b[38;5;183m         balanced_up_SGDClassifier_2         \u001b[35m|\u001b[0m\u001b[38;5;183m           SGDClassifier(loss='squared_hinge')            \u001b[35m|\u001b[0m\u001b[38;5;183m 0.34982826210088713 \u001b[35m|\u001b[0m\u001b[38;5;183m  0.3774104683195592 \u001b[35m|\u001b[0m\u001b[38;5;183m  0.3446836703770936 \u001b[35m|\u001b[0m\u001b[38;5;183m  0.3586977805942621 \u001b[35m|\u001b[0m\u001b[38;5;183m  0.9286181926727295 \u001b[35m|\u001b[0m\u001b[38;5;183m\n",
      "\u001b[35m|\u001b[0m\u001b[38;5;183m           balanced_up_LinearSVC_1           \u001b[35m|\u001b[0m\u001b[38;5;183m               LinearSVC(C=0.5, dual=True)                \u001b[35m|\u001b[0m\u001b[38;5;183m 0.34978977868852545 \u001b[35m|\u001b[0m\u001b[38;5;183m 0.37993572084481175 \u001b[35m|\u001b[0m\u001b[38;5;183m  0.3449777200274905 \u001b[35m|\u001b[0m\u001b[38;5;183m  0.3577038331219887 \u001b[35m|\u001b[0m\u001b[38;5;183m  2.5736947059631348 \u001b[35m|\u001b[0m\u001b[38;5;183m\n",
      "\u001b[35m|\u001b[0m\u001b[38;5;183m           balanced_up_LinearSVC_2           \u001b[35m|\u001b[0m\u001b[38;5;183m               LinearSVC(C=0.5, dual=False)               \u001b[35m|\u001b[0m\u001b[38;5;183m  0.3497896449310348 \u001b[35m|\u001b[0m\u001b[38;5;183m 0.37993572084481175 \u001b[35m|\u001b[0m\u001b[38;5;183m 0.34498005922316777 \u001b[35m|\u001b[0m\u001b[38;5;183m  0.3577038331219887 \u001b[35m|\u001b[0m\u001b[38;5;183m  20.636306047439575 \u001b[35m|\u001b[0m\u001b[38;5;183m\n",
      "\u001b[35m|\u001b[0m\u001b[38;5;183m           balanced_up_LinearSVC_4           \u001b[35m|\u001b[0m\u001b[38;5;183m                  LinearSVC(dual=False)                   \u001b[35m|\u001b[0m\u001b[38;5;183m  0.348352890254289  \u001b[35m|\u001b[0m\u001b[38;5;183m 0.38096877869605145 \u001b[35m|\u001b[0m\u001b[38;5;183m 0.34496438666076246 \u001b[35m|\u001b[0m\u001b[38;5;183m  0.3536243144849022 \u001b[35m|\u001b[0m\u001b[38;5;183m  35.25674223899841  \u001b[35m|\u001b[0m\u001b[38;5;183m\n",
      "\u001b[35m|\u001b[0m\u001b[38;5;183m           balanced_up_LinearSVC_3           \u001b[35m|\u001b[0m\u001b[38;5;183m                   LinearSVC(dual=True)                   \u001b[35m|\u001b[0m\u001b[38;5;183m 0.34834803712033974 \u001b[35m|\u001b[0m\u001b[38;5;183m 0.38096877869605145 \u001b[35m|\u001b[0m\u001b[38;5;183m 0.34495252951005384 \u001b[35m|\u001b[0m\u001b[38;5;183m  0.3536243144849022 \u001b[35m|\u001b[0m\u001b[38;5;183m  3.9335813522338867 \u001b[35m|\u001b[0m\u001b[38;5;183m\n",
      "\u001b[35m|\u001b[0m\u001b[38;5;183m        PassiveAggressiveClassifier_2        \u001b[35m|\u001b[0m\u001b[38;5;183m PassiveAggressiveClassifier(C=0.5, loss='squared_hinge') \u001b[35m|\u001b[0m\u001b[38;5;183m  0.344802993682413  \u001b[35m|\u001b[0m\u001b[38;5;183m 0.41310835629017445 \u001b[35m|\u001b[0m\u001b[38;5;183m  0.3760873566215486 \u001b[35m|\u001b[0m\u001b[38;5;183m  0.3394211828496621 \u001b[35m|\u001b[0m\u001b[38;5;183m  1.6704480648040771 \u001b[35m|\u001b[0m\u001b[38;5;183m\n",
      "\u001b[35m|\u001b[0m\u001b[38;5;183m        PassiveAggressiveClassifier_3        \u001b[35m|\u001b[0m\u001b[38;5;183m              PassiveAggressiveClassifier()               \u001b[35m|\u001b[0m\u001b[38;5;183m  0.3441771488659745 \u001b[35m|\u001b[0m\u001b[38;5;183m  0.4116161616161616 \u001b[35m|\u001b[0m\u001b[38;5;183m 0.37734729590495075 \u001b[35m|\u001b[0m\u001b[38;5;183m  0.3384732782432911 \u001b[35m|\u001b[0m\u001b[38;5;183m  1.0269744396209717 \u001b[35m|\u001b[0m\u001b[38;5;183m\n",
      "\u001b[35m|\u001b[0m\u001b[38;5;183m        PassiveAggressiveClassifier_1        \u001b[35m|\u001b[0m\u001b[38;5;183m            PassiveAggressiveClassifier(C=0.5)            \u001b[35m|\u001b[0m\u001b[38;5;183m 0.34385419273545786 \u001b[35m|\u001b[0m\u001b[38;5;183m  0.4121900826446281 \u001b[35m|\u001b[0m\u001b[38;5;183m 0.37718579655870743 \u001b[35m|\u001b[0m\u001b[38;5;183m 0.33842138856484605 \u001b[35m|\u001b[0m\u001b[38;5;183m   1.16347074508667  \u001b[35m|\u001b[0m\u001b[38;5;183m\n",
      "\u001b[35m|\u001b[0m\u001b[38;5;183m        PassiveAggressiveClassifier_4        \u001b[35m|\u001b[0m\u001b[38;5;183m    PassiveAggressiveClassifier(loss='squared_hinge')     \u001b[35m|\u001b[0m\u001b[38;5;183m  0.3430289752699134 \u001b[35m|\u001b[0m\u001b[38;5;183m  0.4116161616161616 \u001b[35m|\u001b[0m\u001b[38;5;183m 0.37313701457382953 \u001b[35m|\u001b[0m\u001b[38;5;183m 0.33832970439510973 \u001b[35m|\u001b[0m\u001b[38;5;183m  1.1739253997802734 \u001b[35m|\u001b[0m\u001b[38;5;183m\n",
      "\u001b[35m|\u001b[0m\u001b[38;5;183m         balanced_up_SGDClassifier_1         \u001b[35m|\u001b[0m\u001b[38;5;183m                     SGDClassifier()                      \u001b[35m|\u001b[0m\u001b[38;5;183m 0.33796315322055615 \u001b[35m|\u001b[0m\u001b[38;5;183m 0.35537190082644626 \u001b[35m|\u001b[0m\u001b[38;5;183m 0.33553488813889226 \u001b[35m|\u001b[0m\u001b[38;5;183m  0.363917206241543  \u001b[35m|\u001b[0m\u001b[38;5;183m  1.613677978515625  \u001b[35m|\u001b[0m\u001b[38;5;183m\n",
      "\u001b[35m|\u001b[0m\u001b[38;5;183m                 LinearSVC_4                 \u001b[35m|\u001b[0m\u001b[38;5;183m                  LinearSVC(dual=False)                   \u001b[35m|\u001b[0m\u001b[38;5;183m  0.3321061049516872 \u001b[35m|\u001b[0m\u001b[38;5;183m  0.4182736455463728 \u001b[35m|\u001b[0m\u001b[38;5;183m  0.3933671968822942 \u001b[35m|\u001b[0m\u001b[38;5;183m 0.33007171743788544 \u001b[35m|\u001b[0m\u001b[38;5;183m  19.944521188735962 \u001b[35m|\u001b[0m\u001b[38;5;183m\n",
      "\u001b[35m|\u001b[0m\u001b[38;5;183m                 LinearSVC_3                 \u001b[35m|\u001b[0m\u001b[38;5;183m                   LinearSVC(dual=True)                   \u001b[35m|\u001b[0m\u001b[38;5;183m  0.3319172995235483 \u001b[35m|\u001b[0m\u001b[38;5;183m  0.4180440771349862 \u001b[35m|\u001b[0m\u001b[38;5;183m  0.3930365127324806 \u001b[35m|\u001b[0m\u001b[38;5;183m 0.32991101032659575 \u001b[35m|\u001b[0m\u001b[38;5;183m  2.2656590938568115 \u001b[35m|\u001b[0m\u001b[38;5;183m\n",
      "\u001b[35m|\u001b[0m\u001b[38;5;183m               SGDClassifier_2               \u001b[35m|\u001b[0m\u001b[38;5;183m           SGDClassifier(loss='squared_hinge')            \u001b[35m|\u001b[0m\u001b[38;5;183m 0.33120561939477244 \u001b[35m|\u001b[0m\u001b[38;5;183m 0.41815886134067953 \u001b[35m|\u001b[0m\u001b[38;5;183m 0.39119440625399826 \u001b[35m|\u001b[0m\u001b[38;5;183m 0.32984530792406086 \u001b[35m|\u001b[0m\u001b[38;5;183m  0.7017562389373779 \u001b[35m|\u001b[0m\u001b[38;5;183m\n",
      "\u001b[35m|\u001b[0m\u001b[38;5;183m         balanced_up_SGDClassifier_4         \u001b[35m|\u001b[0m\u001b[38;5;183m     SGDClassifier(alpha=0.001, loss='squared_hinge')     \u001b[35m|\u001b[0m\u001b[38;5;183m  0.3297018559190276 \u001b[35m|\u001b[0m\u001b[38;5;183m  0.3469926538108356 \u001b[35m|\u001b[0m\u001b[38;5;183m 0.32986600761285945 \u001b[35m|\u001b[0m\u001b[38;5;183m  0.360376711014453  \u001b[35m|\u001b[0m\u001b[38;5;183m  1.1483893394470215 \u001b[35m|\u001b[0m\u001b[38;5;183m\n",
      "\u001b[35m|\u001b[0m\u001b[38;5;183m          balanced_down_LinearSVC_2          \u001b[35m|\u001b[0m\u001b[38;5;183m               LinearSVC(C=0.5, dual=False)               \u001b[35m|\u001b[0m\u001b[38;5;183m 0.32773887343561914 \u001b[35m|\u001b[0m\u001b[38;5;183m  0.3375803489439853 \u001b[35m|\u001b[0m\u001b[38;5;183m  0.3288541131178189 \u001b[35m|\u001b[0m\u001b[38;5;183m 0.36157426719362584 \u001b[35m|\u001b[0m\u001b[38;5;183m  7.721214771270752  \u001b[35m|\u001b[0m\u001b[38;5;183m\n",
      "\u001b[35m|\u001b[0m\u001b[38;5;183m          balanced_down_LinearSVC_1          \u001b[35m|\u001b[0m\u001b[38;5;183m               LinearSVC(C=0.5, dual=True)                \u001b[35m|\u001b[0m\u001b[38;5;183m 0.32763221338679943 \u001b[35m|\u001b[0m\u001b[38;5;183m 0.33746556473829203 \u001b[35m|\u001b[0m\u001b[38;5;183m  0.3287491954123542 \u001b[35m|\u001b[0m\u001b[38;5;183m 0.36140704311335836 \u001b[35m|\u001b[0m\u001b[38;5;183m  0.5897958278656006 \u001b[35m|\u001b[0m\u001b[38;5;183m\n",
      "\u001b[35m|\u001b[0m\u001b[38;5;183m          balanced_down_LinearSVC_4          \u001b[35m|\u001b[0m\u001b[38;5;183m                  LinearSVC(dual=False)                   \u001b[35m|\u001b[0m\u001b[38;5;183m  0.3270612244670434 \u001b[35m|\u001b[0m\u001b[38;5;183m 0.33631772268135907 \u001b[35m|\u001b[0m\u001b[38;5;183m 0.32807269691937446 \u001b[35m|\u001b[0m\u001b[38;5;183m 0.35917402310506813 \u001b[35m|\u001b[0m\u001b[38;5;183m  11.214487791061401 \u001b[35m|\u001b[0m\u001b[38;5;183m\n",
      "\u001b[35m|\u001b[0m\u001b[38;5;183m          balanced_down_LinearSVC_3          \u001b[35m|\u001b[0m\u001b[38;5;183m                   LinearSVC(dual=True)                   \u001b[35m|\u001b[0m\u001b[38;5;183m 0.32696507085597865 \u001b[35m|\u001b[0m\u001b[38;5;183m 0.33620293847566574 \u001b[35m|\u001b[0m\u001b[38;5;183m 0.32802603646384126 \u001b[35m|\u001b[0m\u001b[38;5;183m  0.3591420819252833 \u001b[35m|\u001b[0m\u001b[38;5;183m  0.7924866676330566 \u001b[35m|\u001b[0m\u001b[38;5;183m\n",
      "\u001b[35m|\u001b[0m\u001b[38;5;183m balanced_down_PassiveAggressiveClassifier_4 \u001b[35m|\u001b[0m\u001b[38;5;183m    PassiveAggressiveClassifier(loss='squared_hinge')     \u001b[35m|\u001b[0m\u001b[38;5;183m  0.3266651542282203 \u001b[35m|\u001b[0m\u001b[38;5;183m 0.33562901744719925 \u001b[35m|\u001b[0m\u001b[38;5;183m 0.32773862771539114 \u001b[35m|\u001b[0m\u001b[38;5;183m  0.3555313217699003 \u001b[35m|\u001b[0m\u001b[38;5;183m  0.5500304698944092 \u001b[35m|\u001b[0m\u001b[38;5;183m\n",
      "\u001b[35m|\u001b[0m\u001b[38;5;183m balanced_down_PassiveAggressiveClassifier_1 \u001b[35m|\u001b[0m\u001b[38;5;183m            PassiveAggressiveClassifier(C=0.5)            \u001b[35m|\u001b[0m\u001b[38;5;183m  0.3265224344248293 \u001b[35m|\u001b[0m\u001b[38;5;183m 0.33597337006427913 \u001b[35m|\u001b[0m\u001b[38;5;183m 0.32756588753166627 \u001b[35m|\u001b[0m\u001b[38;5;183m  0.3552355319899986 \u001b[35m|\u001b[0m\u001b[38;5;183m 0.48305416107177734 \u001b[35m|\u001b[0m\u001b[38;5;183m\n",
      "\u001b[35m|\u001b[0m\u001b[38;5;183m balanced_down_PassiveAggressiveClassifier_2 \u001b[35m|\u001b[0m\u001b[38;5;183m PassiveAggressiveClassifier(C=0.5, loss='squared_hinge') \u001b[35m|\u001b[0m\u001b[38;5;183m   0.32641006623478  \u001b[35m|\u001b[0m\u001b[38;5;183m 0.33539944903581265 \u001b[35m|\u001b[0m\u001b[38;5;183m  0.3276685112383595 \u001b[35m|\u001b[0m\u001b[38;5;183m  0.3555937328581236 \u001b[35m|\u001b[0m\u001b[38;5;183m  0.5649764537811279 \u001b[35m|\u001b[0m\u001b[38;5;183m\n",
      "\u001b[35m|\u001b[0m\u001b[38;5;183m        balanced_down_SGDClassifier_1        \u001b[35m|\u001b[0m\u001b[38;5;183m                     SGDClassifier()                      \u001b[35m|\u001b[0m\u001b[38;5;183m 0.32613168600215403 \u001b[35m|\u001b[0m\u001b[38;5;183m 0.33528466483011937 \u001b[35m|\u001b[0m\u001b[38;5;183m  0.3274831631981577 \u001b[35m|\u001b[0m\u001b[38;5;183m  0.3587738446707098 \u001b[35m|\u001b[0m\u001b[38;5;183m  0.744513750076294  \u001b[35m|\u001b[0m\u001b[38;5;183m\n",
      "\u001b[35m|\u001b[0m\u001b[38;5;183m        balanced_down_SGDClassifier_2        \u001b[35m|\u001b[0m\u001b[38;5;183m           SGDClassifier(loss='squared_hinge')            \u001b[35m|\u001b[0m\u001b[38;5;183m  0.3260430647563278 \u001b[35m|\u001b[0m\u001b[38;5;183m 0.33539944903581265 \u001b[35m|\u001b[0m\u001b[38;5;183m  0.3278326951994882 \u001b[35m|\u001b[0m\u001b[38;5;183m  0.3565758353967322 \u001b[35m|\u001b[0m\u001b[38;5;183m 0.36994123458862305 \u001b[35m|\u001b[0m\u001b[38;5;183m\n",
      "\u001b[35m|\u001b[0m\u001b[38;5;183m balanced_down_PassiveAggressiveClassifier_3 \u001b[35m|\u001b[0m\u001b[38;5;183m              PassiveAggressiveClassifier()               \u001b[35m|\u001b[0m\u001b[38;5;183m  0.3257138658474872 \u001b[35m|\u001b[0m\u001b[38;5;183m  0.3351698806244261 \u001b[35m|\u001b[0m\u001b[38;5;183m  0.3269277778162724 \u001b[35m|\u001b[0m\u001b[38;5;183m  0.354541836690772  \u001b[35m|\u001b[0m\u001b[38;5;183m 0.48276329040527344 \u001b[35m|\u001b[0m\u001b[38;5;183m\n",
      "\u001b[35m|\u001b[0m\u001b[38;5;183m               SGDClassifier_1               \u001b[35m|\u001b[0m\u001b[38;5;183m                     SGDClassifier()                      \u001b[35m|\u001b[0m\u001b[38;5;183m  0.3254100694527408 \u001b[35m|\u001b[0m\u001b[38;5;183m  0.421831955922865  \u001b[35m|\u001b[0m\u001b[38;5;183m  0.3908432937670748 \u001b[35m|\u001b[0m\u001b[38;5;183m  0.330126314863204  \u001b[35m|\u001b[0m\u001b[38;5;183m  1.3522629737854004 \u001b[35m|\u001b[0m\u001b[38;5;183m\n",
      "\u001b[35m|\u001b[0m\u001b[38;5;183m        balanced_down_SGDClassifier_5        \u001b[35m|\u001b[0m\u001b[38;5;183m                SGDClassifier(alpha=0.01)                 \u001b[35m|\u001b[0m\u001b[38;5;183m  0.3229710056229921 \u001b[35m|\u001b[0m\u001b[38;5;183m 0.33884297520661155 \u001b[35m|\u001b[0m\u001b[38;5;183m  0.3252930736242495 \u001b[35m|\u001b[0m\u001b[38;5;183m  0.3593746728683175 \u001b[35m|\u001b[0m\u001b[38;5;183m 0.34192752838134766 \u001b[35m|\u001b[0m\u001b[38;5;183m\n",
      "\u001b[35m|\u001b[0m\u001b[38;5;183m        balanced_down_SGDClassifier_3        \u001b[35m|\u001b[0m\u001b[38;5;183m                SGDClassifier(alpha=0.001)                \u001b[35m|\u001b[0m\u001b[38;5;183m  0.3220631385033585 \u001b[35m|\u001b[0m\u001b[38;5;183m 0.33562901744719925 \u001b[35m|\u001b[0m\u001b[38;5;183m  0.3260011408031551 \u001b[35m|\u001b[0m\u001b[38;5;183m  0.3597884916396442 \u001b[35m|\u001b[0m\u001b[38;5;183m  0.5508220195770264 \u001b[35m|\u001b[0m\u001b[38;5;183m\n",
      "\u001b[35m|\u001b[0m\u001b[38;5;183m               SGDClassifier_5               \u001b[35m|\u001b[0m\u001b[38;5;183m                SGDClassifier(alpha=0.01)                 \u001b[35m|\u001b[0m\u001b[38;5;183m  0.3218695846929628 \u001b[35m|\u001b[0m\u001b[38;5;183m  0.4176997245179063 \u001b[35m|\u001b[0m\u001b[38;5;183m  0.3777538744546771 \u001b[35m|\u001b[0m\u001b[38;5;183m 0.32768503438448743 \u001b[35m|\u001b[0m\u001b[38;5;183m  0.686985969543457  \u001b[35m|\u001b[0m\u001b[38;5;183m\n",
      "\u001b[35m|\u001b[0m\u001b[38;5;183m         balanced_up_SGDClassifier_5         \u001b[35m|\u001b[0m\u001b[38;5;183m                SGDClassifier(alpha=0.01)                 \u001b[35m|\u001b[0m\u001b[38;5;183m 0.32132581179289177 \u001b[35m|\u001b[0m\u001b[38;5;183m  0.3339072543617998 \u001b[35m|\u001b[0m\u001b[38;5;183m  0.3285885685139244 \u001b[35m|\u001b[0m\u001b[38;5;183m  0.3609134217208842 \u001b[35m|\u001b[0m\u001b[38;5;183m  0.7992362976074219 \u001b[35m|\u001b[0m\u001b[38;5;183m\n",
      "\u001b[35m|\u001b[0m\u001b[38;5;183m               SGDClassifier_3               \u001b[35m|\u001b[0m\u001b[38;5;183m                SGDClassifier(alpha=0.001)                \u001b[35m|\u001b[0m\u001b[38;5;183m  0.3210552811365094 \u001b[35m|\u001b[0m\u001b[38;5;183m 0.41792929292929293 \u001b[35m|\u001b[0m\u001b[38;5;183m 0.38824310283529273 \u001b[35m|\u001b[0m\u001b[38;5;183m 0.32499710356997485 \u001b[35m|\u001b[0m\u001b[38;5;183m  0.7130215167999268 \u001b[35m|\u001b[0m\u001b[38;5;183m\n",
      "\u001b[35m|\u001b[0m\u001b[38;5;183m         balanced_up_SGDClassifier_3         \u001b[35m|\u001b[0m\u001b[38;5;183m                SGDClassifier(alpha=0.001)                \u001b[35m|\u001b[0m\u001b[38;5;183m  0.319792840240479  \u001b[35m|\u001b[0m\u001b[38;5;183m 0.33264462809917356 \u001b[35m|\u001b[0m\u001b[38;5;183m 0.32650469855979836 \u001b[35m|\u001b[0m\u001b[38;5;183m 0.35885666471185457 \u001b[35m|\u001b[0m\u001b[38;5;183m  0.7816030979156494 \u001b[35m|\u001b[0m\u001b[38;5;183m\n",
      "\u001b[35m|\u001b[0m\u001b[38;5;183m        balanced_down_SGDClassifier_4        \u001b[35m|\u001b[0m\u001b[38;5;183m     SGDClassifier(alpha=0.001, loss='squared_hinge')     \u001b[35m|\u001b[0m\u001b[38;5;183m 0.31688037185742346 \u001b[35m|\u001b[0m\u001b[38;5;183m  0.3314967860422406 \u001b[35m|\u001b[0m\u001b[38;5;183m  0.3187771407938559 \u001b[35m|\u001b[0m\u001b[38;5;183m 0.35291751915243974 \u001b[35m|\u001b[0m\u001b[38;5;183m  0.5074965953826904 \u001b[35m|\u001b[0m\u001b[38;5;183m\n",
      "\u001b[35m|\u001b[0m\u001b[38;5;183m                 LinearSVC_1                 \u001b[35m|\u001b[0m\u001b[38;5;183m               LinearSVC(C=0.5, dual=True)                \u001b[35m|\u001b[0m\u001b[38;5;183m 0.31614160266668756 \u001b[35m|\u001b[0m\u001b[38;5;183m 0.41689623507805323 \u001b[35m|\u001b[0m\u001b[38;5;183m  0.4041104052756137 \u001b[35m|\u001b[0m\u001b[38;5;183m  0.3196282154238117 \u001b[35m|\u001b[0m\u001b[38;5;183m  1.3910486698150635 \u001b[35m|\u001b[0m\u001b[38;5;183m\n",
      "\u001b[35m|\u001b[0m\u001b[38;5;183m                 LinearSVC_2                 \u001b[35m|\u001b[0m\u001b[38;5;183m               LinearSVC(C=0.5, dual=False)               \u001b[35m|\u001b[0m\u001b[38;5;183m 0.31606284832742937 \u001b[35m|\u001b[0m\u001b[38;5;183m 0.41678145087235996 \u001b[35m|\u001b[0m\u001b[38;5;183m  0.4039812096526302 \u001b[35m|\u001b[0m\u001b[38;5;183m  0.3195625770910254 \u001b[35m|\u001b[0m\u001b[38;5;183m  14.05469822883606  \u001b[35m|\u001b[0m\u001b[38;5;183m\n",
      "\u001b[35m|\u001b[0m\u001b[38;5;183m              RidgeClassifier_1              \u001b[35m|\u001b[0m\u001b[38;5;183m                    RidgeClassifier()                     \u001b[35m|\u001b[0m\u001b[38;5;183m 0.31515988564747044 \u001b[35m|\u001b[0m\u001b[38;5;183m  0.4166666666666667 \u001b[35m|\u001b[0m\u001b[38;5;183m 0.40408839863906837 \u001b[35m|\u001b[0m\u001b[38;5;183m 0.31817738369974297 \u001b[35m|\u001b[0m\u001b[38;5;183m  5.696135520935059  \u001b[35m|\u001b[0m\u001b[38;5;183m\n",
      "\u001b[35m|\u001b[0m\u001b[38;5;183m              RidgeClassifier_2              \u001b[35m|\u001b[0m\u001b[38;5;183m                RidgeClassifier(alpha=1.5)                \u001b[35m|\u001b[0m\u001b[38;5;183m  0.304017897347683  \u001b[35m|\u001b[0m\u001b[38;5;183m  0.4182736455463728 \u001b[35m|\u001b[0m\u001b[38;5;183m  0.4160574614311262 \u001b[35m|\u001b[0m\u001b[38;5;183m 0.31183687501620616 \u001b[35m|\u001b[0m\u001b[38;5;183m  4.070607900619507  \u001b[35m|\u001b[0m\u001b[38;5;183m\n",
      "\u001b[35m|\u001b[0m\u001b[38;5;183m        balanced_down_SGDClassifier_6        \u001b[35m|\u001b[0m\u001b[38;5;183m     SGDClassifier(alpha=0.01, loss='squared_hinge')      \u001b[35m|\u001b[0m\u001b[38;5;183m  0.3005889260904983 \u001b[35m|\u001b[0m\u001b[38;5;183m  0.3176078971533517 \u001b[35m|\u001b[0m\u001b[38;5;183m 0.31172724581993655 \u001b[35m|\u001b[0m\u001b[38;5;183m 0.34169790826549573 \u001b[35m|\u001b[0m\u001b[38;5;183m  0.4348726272583008 \u001b[35m|\u001b[0m\u001b[38;5;183m\n",
      "\u001b[35m|\u001b[0m\u001b[38;5;183m               LGBMClassifier_1              \u001b[35m|\u001b[0m\u001b[38;5;183m     LGBMClassifier(max_depth=500, n_estimators=500)      \u001b[35m|\u001b[0m\u001b[38;5;183m 0.30019029364950034 \u001b[35m|\u001b[0m\u001b[38;5;183m  0.3736225895316804 \u001b[35m|\u001b[0m\u001b[38;5;183m 0.33946812529970216 \u001b[35m|\u001b[0m\u001b[38;5;183m  0.2942243923212533 \u001b[35m|\u001b[0m\u001b[38;5;183m  342.1225073337555  \u001b[35m|\u001b[0m\u001b[38;5;183m\n",
      "\u001b[35m|\u001b[0m\u001b[38;5;183m         balanced_up_SGDClassifier_6         \u001b[35m|\u001b[0m\u001b[38;5;183m     SGDClassifier(alpha=0.01, loss='squared_hinge')      \u001b[35m|\u001b[0m\u001b[38;5;183m 0.29955873600262606 \u001b[35m|\u001b[0m\u001b[38;5;183m 0.31290174471992654 \u001b[35m|\u001b[0m\u001b[38;5;183m  0.3149266286924837 \u001b[35m|\u001b[0m\u001b[38;5;183m  0.3446522380677247 \u001b[35m|\u001b[0m\u001b[38;5;183m  0.9637253284454346 \u001b[35m|\u001b[0m\u001b[38;5;183m\n",
      "\u001b[35m|\u001b[0m\u001b[38;5;183m              RidgeClassifier_3              \u001b[35m|\u001b[0m\u001b[38;5;183m                 RidgeClassifier(alpha=2)                 \u001b[35m|\u001b[0m\u001b[38;5;183m  0.2978812215459704 \u001b[35m|\u001b[0m\u001b[38;5;183m  0.4195362718089991 \u001b[35m|\u001b[0m\u001b[38;5;183m  0.4418656397347389 \u001b[35m|\u001b[0m\u001b[38;5;183m 0.30825142380857046 \u001b[35m|\u001b[0m\u001b[38;5;183m  4.825464487075806  \u001b[35m|\u001b[0m\u001b[38;5;183m\n",
      "\u001b[35m|\u001b[0m\u001b[38;5;183m                    SVC_2                    \u001b[35m|\u001b[0m\u001b[38;5;183m                  SVC(kernel='sigmoid')                   \u001b[35m|\u001b[0m\u001b[38;5;183m 0.27347154948321195 \u001b[35m|\u001b[0m\u001b[38;5;183m 0.41058310376492196 \u001b[35m|\u001b[0m\u001b[38;5;183m  0.5025363930891102 \u001b[35m|\u001b[0m\u001b[38;5;183m 0.29046111184250384 \u001b[35m|\u001b[0m\u001b[38;5;183m  377.51364183425903 \u001b[35m|\u001b[0m\u001b[38;5;183m\n",
      "\u001b[35m|\u001b[0m\u001b[38;5;183m                    KNN_2                    \u001b[35m|\u001b[0m\u001b[38;5;183m                  KNeighborsClassifier()                  \u001b[35m|\u001b[0m\u001b[38;5;183m  0.2720166812189435 \u001b[35m|\u001b[0m\u001b[38;5;183m  0.3496326905417815 \u001b[35m|\u001b[0m\u001b[38;5;183m  0.2888261686967606 \u001b[35m|\u001b[0m\u001b[38;5;183m  0.2759121644368684 \u001b[35m|\u001b[0m\u001b[38;5;183m  5.653038740158081  \u001b[35m|\u001b[0m\u001b[38;5;183m\n",
      "\u001b[35m|\u001b[0m\u001b[38;5;183m                    KNN_3                    \u001b[35m|\u001b[0m\u001b[38;5;183m           KNeighborsClassifier(n_neighbors=7)            \u001b[35m|\u001b[0m\u001b[38;5;183m  0.2679530490288469 \u001b[35m|\u001b[0m\u001b[38;5;183m 0.35215794306703396 \u001b[35m|\u001b[0m\u001b[38;5;183m  0.2894886904892481 \u001b[35m|\u001b[0m\u001b[38;5;183m  0.2727239516555519 \u001b[35m|\u001b[0m\u001b[38;5;183m  5.677108526229858  \u001b[35m|\u001b[0m\u001b[38;5;183m\n",
      "\u001b[35m|\u001b[0m\u001b[38;5;183m             LogisticRegression_2            \u001b[35m|\u001b[0m\u001b[38;5;183m                   LogisticRegression()                   \u001b[35m|\u001b[0m\u001b[38;5;183m 0.26341030850243363 \u001b[35m|\u001b[0m\u001b[38;5;183m  0.4116161616161616 \u001b[35m|\u001b[0m\u001b[38;5;183m  0.4542215508363583 \u001b[35m|\u001b[0m\u001b[38;5;183m 0.28449292071434745 \u001b[35m|\u001b[0m\u001b[38;5;183m  43.710068464279175 \u001b[35m|\u001b[0m\u001b[38;5;183m\n",
      "\u001b[35m|\u001b[0m\u001b[38;5;183m                    KNN_1                    \u001b[35m|\u001b[0m\u001b[38;5;183m           KNeighborsClassifier(n_neighbors=3)            \u001b[35m|\u001b[0m\u001b[38;5;183m 0.25190393249732723 \u001b[35m|\u001b[0m\u001b[38;5;183m 0.29981634527089074 \u001b[35m|\u001b[0m\u001b[38;5;183m 0.26724986927721195 \u001b[35m|\u001b[0m\u001b[38;5;183m  0.2653164874705564 \u001b[35m|\u001b[0m\u001b[38;5;183m  5.509373426437378  \u001b[35m|\u001b[0m\u001b[38;5;183m\n",
      "\u001b[35m|\u001b[0m\u001b[38;5;183m               SGDClassifier_4               \u001b[35m|\u001b[0m\u001b[38;5;183m     SGDClassifier(alpha=0.001, loss='squared_hinge')     \u001b[35m|\u001b[0m\u001b[38;5;183m 0.23049829634589697 \u001b[35m|\u001b[0m\u001b[38;5;183m 0.39726813590449955 \u001b[35m|\u001b[0m\u001b[38;5;183m  0.5314285409634073 \u001b[35m|\u001b[0m\u001b[38;5;183m  0.2616099768734297 \u001b[35m|\u001b[0m\u001b[38;5;183m  0.9296162128448486 \u001b[35m|\u001b[0m\u001b[38;5;183m\n",
      "\u001b[35m|\u001b[0m\u001b[38;5;183m             LogisticRegression_1            \u001b[35m|\u001b[0m\u001b[38;5;183m                LogisticRegression(C=0.5)                 \u001b[35m|\u001b[0m\u001b[38;5;183m 0.22323922238640118 \u001b[35m|\u001b[0m\u001b[38;5;183m  0.3957759412304867 \u001b[35m|\u001b[0m\u001b[38;5;183m  0.5231371374660111 \u001b[35m|\u001b[0m\u001b[38;5;183m  0.2563329340856686 \u001b[35m|\u001b[0m\u001b[38;5;183m  22.090871334075928 \u001b[35m|\u001b[0m\u001b[38;5;183m\n",
      "\u001b[35m|\u001b[0m\u001b[38;5;183m                ComplementNB_1               \u001b[35m|\u001b[0m\u001b[38;5;183m                 ComplementNB(alpha=0.5)                  \u001b[35m|\u001b[0m\u001b[38;5;183m 0.18164626481284205 \u001b[35m|\u001b[0m\u001b[38;5;183m 0.38073921028466484 \u001b[35m|\u001b[0m\u001b[38;5;183m  0.5927774403033594 \u001b[35m|\u001b[0m\u001b[38;5;183m  0.2341804634273863 \u001b[35m|\u001b[0m\u001b[38;5;183m 0.23320674896240234 \u001b[35m|\u001b[0m\u001b[38;5;183m\n",
      "\u001b[35m|\u001b[0m\u001b[38;5;183m                ComplementNB_2               \u001b[35m|\u001b[0m\u001b[38;5;183m         ComplementNB(alpha=0.5, fit_prior=False)         \u001b[35m|\u001b[0m\u001b[38;5;183m 0.18164626481284205 \u001b[35m|\u001b[0m\u001b[38;5;183m 0.38073921028466484 \u001b[35m|\u001b[0m\u001b[38;5;183m  0.5927774403033594 \u001b[35m|\u001b[0m\u001b[38;5;183m  0.2341804634273863 \u001b[35m|\u001b[0m\u001b[38;5;183m 0.21078944206237793 \u001b[35m|\u001b[0m\u001b[38;5;183m\n",
      "\u001b[35m|\u001b[0m\u001b[38;5;183m             multiclass_LinearSVC            \u001b[35m|\u001b[0m\u001b[38;5;183m                       LinearSVC()                        \u001b[35m|\u001b[0m\u001b[38;5;183m   0.17229954545385  \u001b[35m|\u001b[0m\u001b[38;5;183m 0.25206611570247933 \u001b[35m|\u001b[0m\u001b[38;5;183m  0.3775517309913491 \u001b[35m|\u001b[0m\u001b[38;5;183m  0.2289482888700806 \u001b[35m|\u001b[0m\u001b[38;5;183m  5.098578453063965  \u001b[35m|\u001b[0m\u001b[38;5;183m\n",
      "\u001b[35m|\u001b[0m\u001b[38;5;183m           RandomForestClassifier_1          \u001b[35m|\u001b[0m\u001b[38;5;183m          RandomForestClassifier(max_depth=100)           \u001b[35m|\u001b[0m\u001b[38;5;183m  0.1667955579011338 \u001b[35m|\u001b[0m\u001b[38;5;183m  0.3650137741046832 \u001b[35m|\u001b[0m\u001b[38;5;183m  0.4906779331140371 \u001b[35m|\u001b[0m\u001b[38;5;183m  0.2228104806979297 \u001b[35m|\u001b[0m\u001b[38;5;183m  84.87571024894714  \u001b[35m|\u001b[0m\u001b[38;5;183m\n",
      "\u001b[35m|\u001b[0m\u001b[38;5;183m    multiclass_PassiveAggressiveClassifier   \u001b[35m|\u001b[0m\u001b[38;5;183m              PassiveAggressiveClassifier()               \u001b[35m|\u001b[0m\u001b[38;5;183m  0.1491666934395616 \u001b[35m|\u001b[0m\u001b[38;5;183m  0.2223370064279155 \u001b[35m|\u001b[0m\u001b[38;5;183m 0.42958929616869845 \u001b[35m|\u001b[0m\u001b[38;5;183m  0.2263711677167369 \u001b[35m|\u001b[0m\u001b[38;5;183m  2.1786327362060547 \u001b[35m|\u001b[0m\u001b[38;5;183m\n",
      "\u001b[35m|\u001b[0m\u001b[38;5;183m                  multiclass                 \u001b[35m|\u001b[0m\u001b[38;5;183m PassiveAggressiveClassifier(C=0.5, loss='squared_hinge') \u001b[35m|\u001b[0m\u001b[38;5;183m 0.14221669416003938 \u001b[35m|\u001b[0m\u001b[38;5;183m 0.21418732782369146 \u001b[35m|\u001b[0m\u001b[38;5;183m  0.4803050453669596 \u001b[35m|\u001b[0m\u001b[38;5;183m  0.2252241294922777 \u001b[35m|\u001b[0m\u001b[38;5;183m  5.265747308731079  \u001b[35m|\u001b[0m\u001b[38;5;183m\n",
      "\u001b[35m|\u001b[0m\u001b[38;5;183m                ComplementNB_3               \u001b[35m|\u001b[0m\u001b[38;5;183m                      ComplementNB()                      \u001b[35m|\u001b[0m\u001b[38;5;183m 0.13896574693903657 \u001b[35m|\u001b[0m\u001b[38;5;183m  0.3635215794306703 \u001b[35m|\u001b[0m\u001b[38;5;183m  0.5424762270272911 \u001b[35m|\u001b[0m\u001b[38;5;183m  0.2142195634485001 \u001b[35m|\u001b[0m\u001b[38;5;183m  0.2218618392944336 \u001b[35m|\u001b[0m\u001b[38;5;183m\n",
      "\u001b[35m|\u001b[0m\u001b[38;5;183m                ComplementNB_4               \u001b[35m|\u001b[0m\u001b[38;5;183m              ComplementNB(fit_prior=False)               \u001b[35m|\u001b[0m\u001b[38;5;183m 0.13896574693903657 \u001b[35m|\u001b[0m\u001b[38;5;183m  0.3635215794306703 \u001b[35m|\u001b[0m\u001b[38;5;183m  0.5424762270272911 \u001b[35m|\u001b[0m\u001b[38;5;183m  0.2142195634485001 \u001b[35m|\u001b[0m\u001b[38;5;183m 0.22723817825317383 \u001b[35m|\u001b[0m\u001b[38;5;183m\n",
      "\u001b[35m|\u001b[0m\u001b[38;5;183m               MultinomialNB_2               \u001b[35m|\u001b[0m\u001b[38;5;183m        MultinomialNB(alpha=0.5, fit_prior=False)         \u001b[35m|\u001b[0m\u001b[38;5;183m  0.1273609830242561 \u001b[35m|\u001b[0m\u001b[38;5;183m 0.35858585858585856 \u001b[35m|\u001b[0m\u001b[38;5;183m  0.5219899767251919 \u001b[35m|\u001b[0m\u001b[38;5;183m  0.208298060694274  \u001b[35m|\u001b[0m\u001b[38;5;183m 0.21587824821472168 \u001b[35m|\u001b[0m\u001b[38;5;183m\n",
      "\u001b[35m|\u001b[0m\u001b[38;5;183m           multiclass_SGDClassifier          \u001b[35m|\u001b[0m\u001b[38;5;183m                     SGDClassifier()                      \u001b[35m|\u001b[0m\u001b[38;5;183m 0.11770903139887397 \u001b[35m|\u001b[0m\u001b[38;5;183m  0.1895087235996327 \u001b[35m|\u001b[0m\u001b[38;5;183m 0.19001693869506053 \u001b[35m|\u001b[0m\u001b[38;5;183m 0.22067939171065473 \u001b[35m|\u001b[0m\u001b[38;5;183m  3.3330962657928467 \u001b[35m|\u001b[0m\u001b[38;5;183m\n",
      "\u001b[35m|\u001b[0m\u001b[38;5;183m               MultinomialNB_4               \u001b[35m|\u001b[0m\u001b[38;5;183m              MultinomialNB(fit_prior=False)              \u001b[35m|\u001b[0m\u001b[38;5;183m 0.11391014599586449 \u001b[35m|\u001b[0m\u001b[38;5;183m  0.3538797061524334 \u001b[35m|\u001b[0m\u001b[38;5;183m 0.37393178117532616 \u001b[35m|\u001b[0m\u001b[38;5;183m  0.2036080906731673 \u001b[35m|\u001b[0m\u001b[38;5;183m  0.2264692783355713 \u001b[35m|\u001b[0m\u001b[38;5;183m\n",
      "\u001b[35m|\u001b[0m\u001b[38;5;183m               MultinomialNB_1               \u001b[35m|\u001b[0m\u001b[38;5;183m                 MultinomialNB(alpha=0.5)                 \u001b[35m|\u001b[0m\u001b[38;5;183m 0.11096695516354471 \u001b[35m|\u001b[0m\u001b[38;5;183m  0.3530762167125803 \u001b[35m|\u001b[0m\u001b[38;5;183m 0.38910532623627453 \u001b[35m|\u001b[0m\u001b[38;5;183m 0.20265256720405883 \u001b[35m|\u001b[0m\u001b[38;5;183m 0.21912384033203125 \u001b[35m|\u001b[0m\u001b[38;5;183m\n",
      "\u001b[35m|\u001b[0m\u001b[38;5;183m           multiclass_ComplementNB           \u001b[35m|\u001b[0m\u001b[38;5;183m                      ComplementNB()                      \u001b[35m|\u001b[0m\u001b[38;5;183m  0.1088052770787817 \u001b[35m|\u001b[0m\u001b[38;5;183m  0.1289026629935721 \u001b[35m|\u001b[0m\u001b[38;5;183m  0.2694228773922708 \u001b[35m|\u001b[0m\u001b[38;5;183m 0.22608689827779488 \u001b[35m|\u001b[0m\u001b[38;5;183m  0.4724705219268799 \u001b[35m|\u001b[0m\u001b[38;5;183m\n",
      "\u001b[35m|\u001b[0m\u001b[38;5;183m               MultinomialNB_3               \u001b[35m|\u001b[0m\u001b[38;5;183m                     MultinomialNB()                      \u001b[35m|\u001b[0m\u001b[38;5;183m 0.10543566261284398 \u001b[35m|\u001b[0m\u001b[38;5;183m  0.3506657483930211 \u001b[35m|\u001b[0m\u001b[38;5;183m 0.21666781648844427 \u001b[35m|\u001b[0m\u001b[38;5;183m 0.20068697411373418 \u001b[35m|\u001b[0m\u001b[38;5;183m 0.21570444107055664 \u001b[35m|\u001b[0m\u001b[38;5;183m\n",
      "\u001b[35m|\u001b[0m\u001b[38;5;183m                    SVC_1                    \u001b[35m|\u001b[0m\u001b[38;5;183m                    SVC(kernel='poly')                    \u001b[35m|\u001b[0m\u001b[38;5;183m  0.104333899742912  \u001b[35m|\u001b[0m\u001b[38;5;183m 0.35020661157024796 \u001b[35m|\u001b[0m\u001b[38;5;183m 0.22998966348914668 \u001b[35m|\u001b[0m\u001b[38;5;183m 0.20032141422257937 \u001b[35m|\u001b[0m\u001b[38;5;183m   419.924857378006  \u001b[35m|\u001b[0m\u001b[38;5;183m\n",
      "\u001b[35m|\u001b[0m\u001b[38;5;183m               SGDClassifier_6               \u001b[35m|\u001b[0m\u001b[38;5;183m     SGDClassifier(alpha=0.01, loss='squared_hinge')      \u001b[35m|\u001b[0m\u001b[38;5;183m 0.10364826941066416 \u001b[35m|\u001b[0m\u001b[38;5;183m 0.34974747474747475 \u001b[35m|\u001b[0m\u001b[38;5;183m 0.06994949494949496 \u001b[35m|\u001b[0m\u001b[38;5;183m         0.2         \u001b[35m|\u001b[0m\u001b[38;5;183m  0.8021707534790039 \u001b[35m|\u001b[0m\u001b[38;5;183m\n",
      "\u001b[38;5;219m+\u001b[0m\u001b[38;5;183m\u001b[38;5;147m-\u001b[0m\u001b[38;5;183m\u001b[38;5;147m-\u001b[0m\u001b[38;5;183m\u001b[38;5;147m-\u001b[0m\u001b[38;5;183m\u001b[38;5;147m-\u001b[0m\u001b[38;5;183m\u001b[38;5;147m-\u001b[0m\u001b[38;5;183m\u001b[38;5;147m-\u001b[0m\u001b[38;5;183m\u001b[38;5;147m-\u001b[0m\u001b[38;5;183m\u001b[38;5;147m-\u001b[0m\u001b[38;5;183m\u001b[38;5;147m-\u001b[0m\u001b[38;5;183m\u001b[38;5;147m-\u001b[0m\u001b[38;5;183m\u001b[38;5;147m-\u001b[0m\u001b[38;5;183m\u001b[38;5;147m-\u001b[0m\u001b[38;5;183m\u001b[38;5;147m-\u001b[0m\u001b[38;5;183m\u001b[38;5;147m-\u001b[0m\u001b[38;5;183m\u001b[38;5;147m-\u001b[0m\u001b[38;5;183m\u001b[38;5;147m-\u001b[0m\u001b[38;5;183m\u001b[38;5;147m-\u001b[0m\u001b[38;5;183m\u001b[38;5;147m-\u001b[0m\u001b[38;5;183m\u001b[38;5;147m-\u001b[0m\u001b[38;5;183m\u001b[38;5;147m-\u001b[0m\u001b[38;5;183m\u001b[38;5;147m-\u001b[0m\u001b[38;5;183m\u001b[38;5;147m-\u001b[0m\u001b[38;5;183m\u001b[38;5;147m-\u001b[0m\u001b[38;5;183m\u001b[38;5;147m-\u001b[0m\u001b[38;5;183m\u001b[38;5;147m-\u001b[0m\u001b[38;5;183m\u001b[38;5;147m-\u001b[0m\u001b[38;5;183m\u001b[38;5;147m-\u001b[0m\u001b[38;5;183m\u001b[38;5;147m-\u001b[0m\u001b[38;5;183m\u001b[38;5;147m-\u001b[0m\u001b[38;5;183m\u001b[38;5;147m-\u001b[0m\u001b[38;5;183m\u001b[38;5;147m-\u001b[0m\u001b[38;5;183m\u001b[38;5;147m-\u001b[0m\u001b[38;5;183m\u001b[38;5;147m-\u001b[0m\u001b[38;5;183m\u001b[38;5;147m-\u001b[0m\u001b[38;5;183m\u001b[38;5;147m-\u001b[0m\u001b[38;5;183m\u001b[38;5;147m-\u001b[0m\u001b[38;5;183m\u001b[38;5;147m-\u001b[0m\u001b[38;5;183m\u001b[38;5;147m-\u001b[0m\u001b[38;5;183m\u001b[38;5;147m-\u001b[0m\u001b[38;5;183m\u001b[38;5;147m-\u001b[0m\u001b[38;5;183m\u001b[38;5;147m-\u001b[0m\u001b[38;5;183m\u001b[38;5;147m-\u001b[0m\u001b[38;5;183m\u001b[38;5;147m-\u001b[0m\u001b[38;5;183m\u001b[38;5;147m-\u001b[0m\u001b[38;5;183m\u001b[38;5;147m-\u001b[0m\u001b[38;5;183m\u001b[38;5;219m+\u001b[0m\u001b[38;5;183m\u001b[38;5;147m-\u001b[0m\u001b[38;5;183m\u001b[38;5;147m-\u001b[0m\u001b[38;5;183m\u001b[38;5;147m-\u001b[0m\u001b[38;5;183m\u001b[38;5;147m-\u001b[0m\u001b[38;5;183m\u001b[38;5;147m-\u001b[0m\u001b[38;5;183m\u001b[38;5;147m-\u001b[0m\u001b[38;5;183m\u001b[38;5;147m-\u001b[0m\u001b[38;5;183m\u001b[38;5;147m-\u001b[0m\u001b[38;5;183m\u001b[38;5;147m-\u001b[0m\u001b[38;5;183m\u001b[38;5;147m-\u001b[0m\u001b[38;5;183m\u001b[38;5;147m-\u001b[0m\u001b[38;5;183m\u001b[38;5;147m-\u001b[0m\u001b[38;5;183m\u001b[38;5;147m-\u001b[0m\u001b[38;5;183m\u001b[38;5;147m-\u001b[0m\u001b[38;5;183m\u001b[38;5;147m-\u001b[0m\u001b[38;5;183m\u001b[38;5;147m-\u001b[0m\u001b[38;5;183m\u001b[38;5;147m-\u001b[0m\u001b[38;5;183m\u001b[38;5;147m-\u001b[0m\u001b[38;5;183m\u001b[38;5;147m-\u001b[0m\u001b[38;5;183m\u001b[38;5;147m-\u001b[0m\u001b[38;5;183m\u001b[38;5;147m-\u001b[0m\u001b[38;5;183m\u001b[38;5;147m-\u001b[0m\u001b[38;5;183m\u001b[38;5;147m-\u001b[0m\u001b[38;5;183m\u001b[38;5;147m-\u001b[0m\u001b[38;5;183m\u001b[38;5;147m-\u001b[0m\u001b[38;5;183m\u001b[38;5;147m-\u001b[0m\u001b[38;5;183m\u001b[38;5;147m-\u001b[0m\u001b[38;5;183m\u001b[38;5;147m-\u001b[0m\u001b[38;5;183m\u001b[38;5;147m-\u001b[0m\u001b[38;5;183m\u001b[38;5;147m-\u001b[0m\u001b[38;5;183m\u001b[38;5;147m-\u001b[0m\u001b[38;5;183m\u001b[38;5;147m-\u001b[0m\u001b[38;5;183m\u001b[38;5;147m-\u001b[0m\u001b[38;5;183m\u001b[38;5;147m-\u001b[0m\u001b[38;5;183m\u001b[38;5;147m-\u001b[0m\u001b[38;5;183m\u001b[38;5;147m-\u001b[0m\u001b[38;5;183m\u001b[38;5;147m-\u001b[0m\u001b[38;5;183m\u001b[38;5;147m-\u001b[0m\u001b[38;5;183m\u001b[38;5;147m-\u001b[0m\u001b[38;5;183m\u001b[38;5;147m-\u001b[0m\u001b[38;5;183m\u001b[38;5;147m-\u001b[0m\u001b[38;5;183m\u001b[38;5;147m-\u001b[0m\u001b[38;5;183m\u001b[38;5;147m-\u001b[0m\u001b[38;5;183m\u001b[38;5;147m-\u001b[0m\u001b[38;5;183m\u001b[38;5;147m-\u001b[0m\u001b[38;5;183m\u001b[38;5;147m-\u001b[0m\u001b[38;5;183m\u001b[38;5;147m-\u001b[0m\u001b[38;5;183m\u001b[38;5;147m-\u001b[0m\u001b[38;5;183m\u001b[38;5;147m-\u001b[0m\u001b[38;5;183m\u001b[38;5;147m-\u001b[0m\u001b[38;5;183m\u001b[38;5;147m-\u001b[0m\u001b[38;5;183m\u001b[38;5;147m-\u001b[0m\u001b[38;5;183m\u001b[38;5;147m-\u001b[0m\u001b[38;5;183m\u001b[38;5;147m-\u001b[0m\u001b[38;5;183m\u001b[38;5;147m-\u001b[0m\u001b[38;5;183m\u001b[38;5;147m-\u001b[0m\u001b[38;5;183m\u001b[38;5;147m-\u001b[0m\u001b[38;5;183m\u001b[38;5;147m-\u001b[0m\u001b[38;5;183m\u001b[38;5;219m+\u001b[0m\u001b[38;5;183m\u001b[38;5;147m-\u001b[0m\u001b[38;5;183m\u001b[38;5;147m-\u001b[0m\u001b[38;5;183m\u001b[38;5;147m-\u001b[0m\u001b[38;5;183m\u001b[38;5;147m-\u001b[0m\u001b[38;5;183m\u001b[38;5;147m-\u001b[0m\u001b[38;5;183m\u001b[38;5;147m-\u001b[0m\u001b[38;5;183m\u001b[38;5;147m-\u001b[0m\u001b[38;5;183m\u001b[38;5;147m-\u001b[0m\u001b[38;5;183m\u001b[38;5;147m-\u001b[0m\u001b[38;5;183m\u001b[38;5;147m-\u001b[0m\u001b[38;5;183m\u001b[38;5;147m-\u001b[0m\u001b[38;5;183m\u001b[38;5;147m-\u001b[0m\u001b[38;5;183m\u001b[38;5;147m-\u001b[0m\u001b[38;5;183m\u001b[38;5;147m-\u001b[0m\u001b[38;5;183m\u001b[38;5;147m-\u001b[0m\u001b[38;5;183m\u001b[38;5;147m-\u001b[0m\u001b[38;5;183m\u001b[38;5;147m-\u001b[0m\u001b[38;5;183m\u001b[38;5;147m-\u001b[0m\u001b[38;5;183m\u001b[38;5;147m-\u001b[0m\u001b[38;5;183m\u001b[38;5;147m-\u001b[0m\u001b[38;5;183m\u001b[38;5;147m-\u001b[0m\u001b[38;5;183m\u001b[38;5;219m+\u001b[0m\u001b[38;5;183m\u001b[38;5;147m-\u001b[0m\u001b[38;5;183m\u001b[38;5;147m-\u001b[0m\u001b[38;5;183m\u001b[38;5;147m-\u001b[0m\u001b[38;5;183m\u001b[38;5;147m-\u001b[0m\u001b[38;5;183m\u001b[38;5;147m-\u001b[0m\u001b[38;5;183m\u001b[38;5;147m-\u001b[0m\u001b[38;5;183m\u001b[38;5;147m-\u001b[0m\u001b[38;5;183m\u001b[38;5;147m-\u001b[0m\u001b[38;5;183m\u001b[38;5;147m-\u001b[0m\u001b[38;5;183m\u001b[38;5;147m-\u001b[0m\u001b[38;5;183m\u001b[38;5;147m-\u001b[0m\u001b[38;5;183m\u001b[38;5;147m-\u001b[0m\u001b[38;5;183m\u001b[38;5;147m-\u001b[0m\u001b[38;5;183m\u001b[38;5;147m-\u001b[0m\u001b[38;5;183m\u001b[38;5;147m-\u001b[0m\u001b[38;5;183m\u001b[38;5;147m-\u001b[0m\u001b[38;5;183m\u001b[38;5;147m-\u001b[0m\u001b[38;5;183m\u001b[38;5;147m-\u001b[0m\u001b[38;5;183m\u001b[38;5;147m-\u001b[0m\u001b[38;5;183m\u001b[38;5;147m-\u001b[0m\u001b[38;5;183m\u001b[38;5;147m-\u001b[0m\u001b[38;5;183m\u001b[38;5;219m+\u001b[0m\u001b[38;5;183m\u001b[38;5;147m-\u001b[0m\u001b[38;5;183m\u001b[38;5;147m-\u001b[0m\u001b[38;5;183m\u001b[38;5;147m-\u001b[0m\u001b[38;5;183m\u001b[38;5;147m-\u001b[0m\u001b[38;5;183m\u001b[38;5;147m-\u001b[0m\u001b[38;5;183m\u001b[38;5;147m-\u001b[0m\u001b[38;5;183m\u001b[38;5;147m-\u001b[0m\u001b[38;5;183m\u001b[38;5;147m-\u001b[0m\u001b[38;5;183m\u001b[38;5;147m-\u001b[0m\u001b[38;5;183m\u001b[38;5;147m-\u001b[0m\u001b[38;5;183m\u001b[38;5;147m-\u001b[0m\u001b[38;5;183m\u001b[38;5;147m-\u001b[0m\u001b[38;5;183m\u001b[38;5;147m-\u001b[0m\u001b[38;5;183m\u001b[38;5;147m-\u001b[0m\u001b[38;5;183m\u001b[38;5;147m-\u001b[0m\u001b[38;5;183m\u001b[38;5;147m-\u001b[0m\u001b[38;5;183m\u001b[38;5;147m-\u001b[0m\u001b[38;5;183m\u001b[38;5;147m-\u001b[0m\u001b[38;5;183m\u001b[38;5;147m-\u001b[0m\u001b[38;5;183m\u001b[38;5;147m-\u001b[0m\u001b[38;5;183m\u001b[38;5;147m-\u001b[0m\u001b[38;5;183m\u001b[38;5;219m+\u001b[0m\u001b[38;5;183m\u001b[38;5;147m-\u001b[0m\u001b[38;5;183m\u001b[38;5;147m-\u001b[0m\u001b[38;5;183m\u001b[38;5;147m-\u001b[0m\u001b[38;5;183m\u001b[38;5;147m-\u001b[0m\u001b[38;5;183m\u001b[38;5;147m-\u001b[0m\u001b[38;5;183m\u001b[38;5;147m-\u001b[0m\u001b[38;5;183m\u001b[38;5;147m-\u001b[0m\u001b[38;5;183m\u001b[38;5;147m-\u001b[0m\u001b[38;5;183m\u001b[38;5;147m-\u001b[0m\u001b[38;5;183m\u001b[38;5;147m-\u001b[0m\u001b[38;5;183m\u001b[38;5;147m-\u001b[0m\u001b[38;5;183m\u001b[38;5;147m-\u001b[0m\u001b[38;5;183m\u001b[38;5;147m-\u001b[0m\u001b[38;5;183m\u001b[38;5;147m-\u001b[0m\u001b[38;5;183m\u001b[38;5;147m-\u001b[0m\u001b[38;5;183m\u001b[38;5;147m-\u001b[0m\u001b[38;5;183m\u001b[38;5;147m-\u001b[0m\u001b[38;5;183m\u001b[38;5;147m-\u001b[0m\u001b[38;5;183m\u001b[38;5;147m-\u001b[0m\u001b[38;5;183m\u001b[38;5;147m-\u001b[0m\u001b[38;5;183m\u001b[38;5;147m-\u001b[0m\u001b[38;5;183m\u001b[38;5;219m+\u001b[0m\u001b[38;5;183m\u001b[38;5;147m-\u001b[0m\u001b[38;5;183m\u001b[38;5;147m-\u001b[0m\u001b[38;5;183m\u001b[38;5;147m-\u001b[0m\u001b[38;5;183m\u001b[38;5;147m-\u001b[0m\u001b[38;5;183m\u001b[38;5;147m-\u001b[0m\u001b[38;5;183m\u001b[38;5;147m-\u001b[0m\u001b[38;5;183m\u001b[38;5;147m-\u001b[0m\u001b[38;5;183m\u001b[38;5;147m-\u001b[0m\u001b[38;5;183m\u001b[38;5;147m-\u001b[0m\u001b[38;5;183m\u001b[38;5;147m-\u001b[0m\u001b[38;5;183m\u001b[38;5;147m-\u001b[0m\u001b[38;5;183m\u001b[38;5;147m-\u001b[0m\u001b[38;5;183m\u001b[38;5;147m-\u001b[0m\u001b[38;5;183m\u001b[38;5;147m-\u001b[0m\u001b[38;5;183m\u001b[38;5;147m-\u001b[0m\u001b[38;5;183m\u001b[38;5;147m-\u001b[0m\u001b[38;5;183m\u001b[38;5;147m-\u001b[0m\u001b[38;5;183m\u001b[38;5;147m-\u001b[0m\u001b[38;5;183m\u001b[38;5;147m-\u001b[0m\u001b[38;5;183m\u001b[38;5;147m-\u001b[0m\u001b[38;5;183m\u001b[38;5;147m-\u001b[0m\u001b[38;5;183m\u001b[38;5;219m+\u001b[0m\u001b[38;5;183m\u001b[0m\n"
     ]
    }
   ],
   "source": [
    "print(table_results(Model.all_models))"
   ]
  },
  {
   "cell_type": "markdown",
   "metadata": {},
   "source": [
    "## ressayer avec un autre split ! "
   ]
  },
  {
   "cell_type": "code",
   "execution_count": 84,
   "metadata": {},
   "outputs": [],
   "source": [
    "new_df  = pd.DataFrame()\n",
    "new_df[\"texte_nettoyé\"] = pd.concat([df_train[\"texte_nettoyé\"], df_test[\"texte_nettoyé\"]], ignore_index=True)\n",
    "new_df[\"label\"] = pd.concat([df_train[\"label\"], df_test[\"label\"]], ignore_index=True)\n",
    "new_df = new_df.drop_duplicates(subset=\"texte_nettoyé\", keep=False)"
   ]
  },
  {
   "cell_type": "code",
   "execution_count": 85,
   "metadata": {},
   "outputs": [
    {
     "name": "stdout",
     "output_type": "stream",
     "text": [
      "x_train_new_vectorized shape: (15237, 490097)\n",
      "y_train_new shape: (15237,)\n",
      "x_test_new_vectorized shape: (6531, 490097)\n",
      "y_test_new shape: (6531,)\n"
     ]
    }
   ],
   "source": [
    "x_train_new, x_test_new, y_train_new, y_test_new = train_test_split(new_df[\"texte_nettoyé\"], new_df[\"label\"], test_size=0.3, random_state=42, stratify=new_df[\"label\"])\n",
    "vectorizer = TfidfVectorizer(max_df=0.5, ngram_range=(1, 2))\n",
    "x_train_new_vectorized = vectorizer.fit_transform(x_train_new)\n",
    "x_test_new_vectorized = vectorizer.transform(x_test_new)\n",
    "\n",
    "print(f\"x_train_new_vectorized shape: {x_train_new_vectorized.shape}\")\n",
    "print(f\"y_train_new shape: {y_train_new.shape}\")\n",
    "print(f\"x_test_new_vectorized shape: {x_test_new_vectorized.shape}\")\n",
    "print(f\"y_test_new shape: {y_test_new.shape}\")"
   ]
  },
  {
   "cell_type": "code",
   "execution_count": 86,
   "metadata": {},
   "outputs": [
    {
     "name": "stdout",
     "output_type": "stream",
     "text": [
      "On teste le modèle KNN !\n",
      "On teste le modèle MultinomialNB !\n"
     ]
    },
    {
     "name": "stderr",
     "output_type": "stream",
     "text": [
      "/home/karmin/Downloads/yes/envs/app_auto_dm_test/lib/python3.12/site-packages/sklearn/metrics/_classification.py:1565: UndefinedMetricWarning: Precision is ill-defined and being set to 0.0 in labels with no predicted samples. Use `zero_division` parameter to control this behavior.\n",
      "  _warn_prf(average, modifier, f\"{metric.capitalize()} is\", len(result))\n",
      "/home/karmin/Downloads/yes/envs/app_auto_dm_test/lib/python3.12/site-packages/sklearn/metrics/_classification.py:1565: UndefinedMetricWarning: Precision is ill-defined and being set to 0.0 in labels with no predicted samples. Use `zero_division` parameter to control this behavior.\n",
      "  _warn_prf(average, modifier, f\"{metric.capitalize()} is\", len(result))\n",
      "/home/karmin/Downloads/yes/envs/app_auto_dm_test/lib/python3.12/site-packages/sklearn/metrics/_classification.py:1565: UndefinedMetricWarning: Precision is ill-defined and being set to 0.0 in labels with no predicted samples. Use `zero_division` parameter to control this behavior.\n",
      "  _warn_prf(average, modifier, f\"{metric.capitalize()} is\", len(result))\n",
      "/home/karmin/Downloads/yes/envs/app_auto_dm_test/lib/python3.12/site-packages/sklearn/metrics/_classification.py:1565: UndefinedMetricWarning: Precision is ill-defined and being set to 0.0 in labels with no predicted samples. Use `zero_division` parameter to control this behavior.\n",
      "  _warn_prf(average, modifier, f\"{metric.capitalize()} is\", len(result))\n",
      "/home/karmin/Downloads/yes/envs/app_auto_dm_test/lib/python3.12/site-packages/sklearn/metrics/_classification.py:1565: UndefinedMetricWarning: Precision is ill-defined and being set to 0.0 in labels with no predicted samples. Use `zero_division` parameter to control this behavior.\n",
      "  _warn_prf(average, modifier, f\"{metric.capitalize()} is\", len(result))\n",
      "/home/karmin/Downloads/yes/envs/app_auto_dm_test/lib/python3.12/site-packages/sklearn/metrics/_classification.py:1565: UndefinedMetricWarning: Precision is ill-defined and being set to 0.0 in labels with no predicted samples. Use `zero_division` parameter to control this behavior.\n",
      "  _warn_prf(average, modifier, f\"{metric.capitalize()} is\", len(result))\n",
      "/home/karmin/Downloads/yes/envs/app_auto_dm_test/lib/python3.12/site-packages/sklearn/metrics/_classification.py:1565: UndefinedMetricWarning: Precision is ill-defined and being set to 0.0 in labels with no predicted samples. Use `zero_division` parameter to control this behavior.\n",
      "  _warn_prf(average, modifier, f\"{metric.capitalize()} is\", len(result))\n",
      "/home/karmin/Downloads/yes/envs/app_auto_dm_test/lib/python3.12/site-packages/sklearn/metrics/_classification.py:1565: UndefinedMetricWarning: Precision is ill-defined and being set to 0.0 in labels with no predicted samples. Use `zero_division` parameter to control this behavior.\n",
      "  _warn_prf(average, modifier, f\"{metric.capitalize()} is\", len(result))\n",
      "/home/karmin/Downloads/yes/envs/app_auto_dm_test/lib/python3.12/site-packages/sklearn/metrics/_classification.py:1565: UndefinedMetricWarning: Precision is ill-defined and being set to 0.0 in labels with no predicted samples. Use `zero_division` parameter to control this behavior.\n",
      "  _warn_prf(average, modifier, f\"{metric.capitalize()} is\", len(result))\n",
      "/home/karmin/Downloads/yes/envs/app_auto_dm_test/lib/python3.12/site-packages/sklearn/metrics/_classification.py:1565: UndefinedMetricWarning: Precision is ill-defined and being set to 0.0 in labels with no predicted samples. Use `zero_division` parameter to control this behavior.\n",
      "  _warn_prf(average, modifier, f\"{metric.capitalize()} is\", len(result))\n",
      "/home/karmin/Downloads/yes/envs/app_auto_dm_test/lib/python3.12/site-packages/sklearn/metrics/_classification.py:1565: UndefinedMetricWarning: Precision is ill-defined and being set to 0.0 in labels with no predicted samples. Use `zero_division` parameter to control this behavior.\n",
      "  _warn_prf(average, modifier, f\"{metric.capitalize()} is\", len(result))\n",
      "/home/karmin/Downloads/yes/envs/app_auto_dm_test/lib/python3.12/site-packages/sklearn/metrics/_classification.py:1565: UndefinedMetricWarning: Precision is ill-defined and being set to 0.0 in labels with no predicted samples. Use `zero_division` parameter to control this behavior.\n",
      "  _warn_prf(average, modifier, f\"{metric.capitalize()} is\", len(result))\n"
     ]
    },
    {
     "name": "stdout",
     "output_type": "stream",
     "text": [
      "On teste le modèle ComplementNB !\n"
     ]
    },
    {
     "name": "stderr",
     "output_type": "stream",
     "text": [
      "/home/karmin/Downloads/yes/envs/app_auto_dm_test/lib/python3.12/site-packages/sklearn/metrics/_classification.py:1565: UndefinedMetricWarning: Precision is ill-defined and being set to 0.0 in labels with no predicted samples. Use `zero_division` parameter to control this behavior.\n",
      "  _warn_prf(average, modifier, f\"{metric.capitalize()} is\", len(result))\n",
      "/home/karmin/Downloads/yes/envs/app_auto_dm_test/lib/python3.12/site-packages/sklearn/metrics/_classification.py:1565: UndefinedMetricWarning: Precision is ill-defined and being set to 0.0 in labels with no predicted samples. Use `zero_division` parameter to control this behavior.\n",
      "  _warn_prf(average, modifier, f\"{metric.capitalize()} is\", len(result))\n",
      "/home/karmin/Downloads/yes/envs/app_auto_dm_test/lib/python3.12/site-packages/sklearn/metrics/_classification.py:1565: UndefinedMetricWarning: Precision is ill-defined and being set to 0.0 in labels with no predicted samples. Use `zero_division` parameter to control this behavior.\n",
      "  _warn_prf(average, modifier, f\"{metric.capitalize()} is\", len(result))\n",
      "/home/karmin/Downloads/yes/envs/app_auto_dm_test/lib/python3.12/site-packages/sklearn/metrics/_classification.py:1565: UndefinedMetricWarning: Precision is ill-defined and being set to 0.0 in labels with no predicted samples. Use `zero_division` parameter to control this behavior.\n",
      "  _warn_prf(average, modifier, f\"{metric.capitalize()} is\", len(result))\n",
      "/home/karmin/Downloads/yes/envs/app_auto_dm_test/lib/python3.12/site-packages/sklearn/metrics/_classification.py:1565: UndefinedMetricWarning: Precision is ill-defined and being set to 0.0 in labels with no predicted samples. Use `zero_division` parameter to control this behavior.\n",
      "  _warn_prf(average, modifier, f\"{metric.capitalize()} is\", len(result))\n",
      "/home/karmin/Downloads/yes/envs/app_auto_dm_test/lib/python3.12/site-packages/sklearn/metrics/_classification.py:1565: UndefinedMetricWarning: Precision is ill-defined and being set to 0.0 in labels with no predicted samples. Use `zero_division` parameter to control this behavior.\n",
      "  _warn_prf(average, modifier, f\"{metric.capitalize()} is\", len(result))\n"
     ]
    },
    {
     "name": "stdout",
     "output_type": "stream",
     "text": [
      "On teste le modèle LogisticRegression !\n"
     ]
    },
    {
     "name": "stderr",
     "output_type": "stream",
     "text": [
      "/home/karmin/Downloads/yes/envs/app_auto_dm_test/lib/python3.12/site-packages/sklearn/metrics/_classification.py:1565: UndefinedMetricWarning: Precision is ill-defined and being set to 0.0 in labels with no predicted samples. Use `zero_division` parameter to control this behavior.\n",
      "  _warn_prf(average, modifier, f\"{metric.capitalize()} is\", len(result))\n",
      "/home/karmin/Downloads/yes/envs/app_auto_dm_test/lib/python3.12/site-packages/sklearn/metrics/_classification.py:1565: UndefinedMetricWarning: Precision is ill-defined and being set to 0.0 in labels with no predicted samples. Use `zero_division` parameter to control this behavior.\n",
      "  _warn_prf(average, modifier, f\"{metric.capitalize()} is\", len(result))\n",
      "/home/karmin/Downloads/yes/envs/app_auto_dm_test/lib/python3.12/site-packages/sklearn/metrics/_classification.py:1565: UndefinedMetricWarning: Precision is ill-defined and being set to 0.0 in labels with no predicted samples. Use `zero_division` parameter to control this behavior.\n",
      "  _warn_prf(average, modifier, f\"{metric.capitalize()} is\", len(result))\n"
     ]
    },
    {
     "name": "stdout",
     "output_type": "stream",
     "text": [
      "On teste le modèle SGDClassifier !\n"
     ]
    },
    {
     "name": "stderr",
     "output_type": "stream",
     "text": [
      "/home/karmin/Downloads/yes/envs/app_auto_dm_test/lib/python3.12/site-packages/sklearn/metrics/_classification.py:1565: UndefinedMetricWarning: Precision is ill-defined and being set to 0.0 in labels with no predicted samples. Use `zero_division` parameter to control this behavior.\n",
      "  _warn_prf(average, modifier, f\"{metric.capitalize()} is\", len(result))\n",
      "/home/karmin/Downloads/yes/envs/app_auto_dm_test/lib/python3.12/site-packages/sklearn/metrics/_classification.py:1565: UndefinedMetricWarning: Precision is ill-defined and being set to 0.0 in labels with no predicted samples. Use `zero_division` parameter to control this behavior.\n",
      "  _warn_prf(average, modifier, f\"{metric.capitalize()} is\", len(result))\n",
      "/home/karmin/Downloads/yes/envs/app_auto_dm_test/lib/python3.12/site-packages/sklearn/metrics/_classification.py:1565: UndefinedMetricWarning: Precision is ill-defined and being set to 0.0 in labels with no predicted samples. Use `zero_division` parameter to control this behavior.\n",
      "  _warn_prf(average, modifier, f\"{metric.capitalize()} is\", len(result))\n"
     ]
    },
    {
     "name": "stdout",
     "output_type": "stream",
     "text": [
      "On teste le modèle LinearSVC !\n",
      "On teste le modèle SVC !\n"
     ]
    },
    {
     "name": "stderr",
     "output_type": "stream",
     "text": [
      "/home/karmin/Downloads/yes/envs/app_auto_dm_test/lib/python3.12/site-packages/sklearn/metrics/_classification.py:1565: UndefinedMetricWarning: Precision is ill-defined and being set to 0.0 in labels with no predicted samples. Use `zero_division` parameter to control this behavior.\n",
      "  _warn_prf(average, modifier, f\"{metric.capitalize()} is\", len(result))\n",
      "/home/karmin/Downloads/yes/envs/app_auto_dm_test/lib/python3.12/site-packages/sklearn/metrics/_classification.py:1565: UndefinedMetricWarning: Precision is ill-defined and being set to 0.0 in labels with no predicted samples. Use `zero_division` parameter to control this behavior.\n",
      "  _warn_prf(average, modifier, f\"{metric.capitalize()} is\", len(result))\n",
      "/home/karmin/Downloads/yes/envs/app_auto_dm_test/lib/python3.12/site-packages/sklearn/metrics/_classification.py:1565: UndefinedMetricWarning: Precision is ill-defined and being set to 0.0 in labels with no predicted samples. Use `zero_division` parameter to control this behavior.\n",
      "  _warn_prf(average, modifier, f\"{metric.capitalize()} is\", len(result))\n"
     ]
    },
    {
     "name": "stdout",
     "output_type": "stream",
     "text": [
      "On teste le modèle RidgeClassifier !\n",
      "On teste le modèle LGBMClassifier !\n"
     ]
    },
    {
     "name": "stderr",
     "output_type": "stream",
     "text": [
      "/home/karmin/Downloads/yes/envs/app_auto_dm_test/lib/python3.12/site-packages/sklearn/utils/deprecation.py:151: FutureWarning: 'force_all_finite' was renamed to 'ensure_all_finite' in 1.6 and will be removed in 1.8.\n",
      "  warnings.warn(\n"
     ]
    },
    {
     "name": "stdout",
     "output_type": "stream",
     "text": [
      "[LightGBM] [Info] Auto-choosing row-wise multi-threading, the overhead of testing was 0.340768 seconds.\n",
      "You can set `force_row_wise=true` to remove the overhead.\n",
      "And if memory is not enough, you can set `force_col_wise=true`.\n",
      "[LightGBM] [Info] Total Bins 216612\n",
      "[LightGBM] [Info] Number of data points in the train set: 15237, number of used features: 6821\n",
      "[LightGBM] [Info] Start training from score -2.266302\n",
      "[LightGBM] [Info] Start training from score -1.975618\n",
      "[LightGBM] [Info] Start training from score -1.042340\n",
      "[LightGBM] [Info] Start training from score -1.266508\n",
      "[LightGBM] [Info] Start training from score -2.094052\n"
     ]
    },
    {
     "name": "stderr",
     "output_type": "stream",
     "text": [
      "/home/karmin/Downloads/yes/envs/app_auto_dm_test/lib/python3.12/site-packages/sklearn/utils/deprecation.py:151: FutureWarning: 'force_all_finite' was renamed to 'ensure_all_finite' in 1.6 and will be removed in 1.8.\n",
      "  warnings.warn(\n"
     ]
    },
    {
     "name": "stdout",
     "output_type": "stream",
     "text": [
      "On teste le modèle RandomForestClassifier !\n"
     ]
    },
    {
     "name": "stderr",
     "output_type": "stream",
     "text": [
      "/home/karmin/Downloads/yes/envs/app_auto_dm_test/lib/python3.12/site-packages/sklearn/metrics/_classification.py:1565: UndefinedMetricWarning: Precision is ill-defined and being set to 0.0 in labels with no predicted samples. Use `zero_division` parameter to control this behavior.\n",
      "  _warn_prf(average, modifier, f\"{metric.capitalize()} is\", len(result))\n",
      "/home/karmin/Downloads/yes/envs/app_auto_dm_test/lib/python3.12/site-packages/sklearn/metrics/_classification.py:1565: UndefinedMetricWarning: Precision is ill-defined and being set to 0.0 in labels with no predicted samples. Use `zero_division` parameter to control this behavior.\n",
      "  _warn_prf(average, modifier, f\"{metric.capitalize()} is\", len(result))\n",
      "/home/karmin/Downloads/yes/envs/app_auto_dm_test/lib/python3.12/site-packages/sklearn/metrics/_classification.py:1565: UndefinedMetricWarning: Precision is ill-defined and being set to 0.0 in labels with no predicted samples. Use `zero_division` parameter to control this behavior.\n",
      "  _warn_prf(average, modifier, f\"{metric.capitalize()} is\", len(result))\n"
     ]
    },
    {
     "name": "stdout",
     "output_type": "stream",
     "text": [
      "On teste le modèle PassiveAggressiveClassifier !\n"
     ]
    },
    {
     "data": {
      "text/plain": [
       "(None, 1371.5061819553375)"
      ]
     },
     "execution_count": 86,
     "metadata": {},
     "output_type": "execute_result"
    }
   ],
   "source": [
    "@time_function\n",
    "def test_models(models, x_train, y_train, x_test, y_test):\n",
    "                                 \n",
    "    for model_name, model_dict in models.items():\n",
    "        print(f\"On teste le modèle {model_name} !\")\n",
    "        hyperparameters_training(f\"{model_name}_on_new_split\", model_dict, x_train, y_train, x_test, y_test)\n",
    "\n",
    "test_models(models_dict, x_train_new_vectorized, y_train_new, x_test_new_vectorized, y_test_new)"
   ]
  },
  {
   "cell_type": "code",
   "execution_count": 87,
   "metadata": {},
   "outputs": [
    {
     "name": "stdout",
     "output_type": "stream",
     "text": [
      "\u001b[38;5;219m+\u001b[0m\u001b[38;5;183m\u001b[38;5;147m-\u001b[0m\u001b[38;5;183m\u001b[38;5;147m-\u001b[0m\u001b[38;5;183m\u001b[38;5;147m-\u001b[0m\u001b[38;5;183m\u001b[38;5;147m-\u001b[0m\u001b[38;5;183m\u001b[38;5;147m-\u001b[0m\u001b[38;5;183m\u001b[38;5;147m-\u001b[0m\u001b[38;5;183m\u001b[38;5;147m-\u001b[0m\u001b[38;5;183m\u001b[38;5;147m-\u001b[0m\u001b[38;5;183m\u001b[38;5;147m-\u001b[0m\u001b[38;5;183m\u001b[38;5;147m-\u001b[0m\u001b[38;5;183m\u001b[38;5;147m-\u001b[0m\u001b[38;5;183m\u001b[38;5;147m-\u001b[0m\u001b[38;5;183m\u001b[38;5;147m-\u001b[0m\u001b[38;5;183m\u001b[38;5;147m-\u001b[0m\u001b[38;5;183m\u001b[38;5;147m-\u001b[0m\u001b[38;5;183m\u001b[38;5;147m-\u001b[0m\u001b[38;5;183m\u001b[38;5;147m-\u001b[0m\u001b[38;5;183m\u001b[38;5;147m-\u001b[0m\u001b[38;5;183m\u001b[38;5;147m-\u001b[0m\u001b[38;5;183m\u001b[38;5;147m-\u001b[0m\u001b[38;5;183m\u001b[38;5;147m-\u001b[0m\u001b[38;5;183m\u001b[38;5;147m-\u001b[0m\u001b[38;5;183m\u001b[38;5;147m-\u001b[0m\u001b[38;5;183m\u001b[38;5;147m-\u001b[0m\u001b[38;5;183m\u001b[38;5;147m-\u001b[0m\u001b[38;5;183m\u001b[38;5;147m-\u001b[0m\u001b[38;5;183m\u001b[38;5;147m-\u001b[0m\u001b[38;5;183m\u001b[38;5;147m-\u001b[0m\u001b[38;5;183m\u001b[38;5;147m-\u001b[0m\u001b[38;5;183m\u001b[38;5;147m-\u001b[0m\u001b[38;5;183m\u001b[38;5;147m-\u001b[0m\u001b[38;5;183m\u001b[38;5;147m-\u001b[0m\u001b[38;5;183m\u001b[38;5;147m-\u001b[0m\u001b[38;5;183m\u001b[38;5;147m-\u001b[0m\u001b[38;5;183m\u001b[38;5;147m-\u001b[0m\u001b[38;5;183m\u001b[38;5;147m-\u001b[0m\u001b[38;5;183m\u001b[38;5;147m-\u001b[0m\u001b[38;5;183m\u001b[38;5;147m-\u001b[0m\u001b[38;5;183m\u001b[38;5;147m-\u001b[0m\u001b[38;5;183m\u001b[38;5;147m-\u001b[0m\u001b[38;5;183m\u001b[38;5;147m-\u001b[0m\u001b[38;5;183m\u001b[38;5;147m-\u001b[0m\u001b[38;5;183m\u001b[38;5;147m-\u001b[0m\u001b[38;5;183m\u001b[38;5;147m-\u001b[0m\u001b[38;5;183m\u001b[38;5;147m-\u001b[0m\u001b[38;5;183m\u001b[38;5;219m+\u001b[0m\u001b[38;5;183m\u001b[38;5;147m-\u001b[0m\u001b[38;5;183m\u001b[38;5;147m-\u001b[0m\u001b[38;5;183m\u001b[38;5;147m-\u001b[0m\u001b[38;5;183m\u001b[38;5;147m-\u001b[0m\u001b[38;5;183m\u001b[38;5;147m-\u001b[0m\u001b[38;5;183m\u001b[38;5;147m-\u001b[0m\u001b[38;5;183m\u001b[38;5;147m-\u001b[0m\u001b[38;5;183m\u001b[38;5;147m-\u001b[0m\u001b[38;5;183m\u001b[38;5;147m-\u001b[0m\u001b[38;5;183m\u001b[38;5;147m-\u001b[0m\u001b[38;5;183m\u001b[38;5;147m-\u001b[0m\u001b[38;5;183m\u001b[38;5;147m-\u001b[0m\u001b[38;5;183m\u001b[38;5;147m-\u001b[0m\u001b[38;5;183m\u001b[38;5;147m-\u001b[0m\u001b[38;5;183m\u001b[38;5;147m-\u001b[0m\u001b[38;5;183m\u001b[38;5;147m-\u001b[0m\u001b[38;5;183m\u001b[38;5;147m-\u001b[0m\u001b[38;5;183m\u001b[38;5;147m-\u001b[0m\u001b[38;5;183m\u001b[38;5;147m-\u001b[0m\u001b[38;5;183m\u001b[38;5;147m-\u001b[0m\u001b[38;5;183m\u001b[38;5;147m-\u001b[0m\u001b[38;5;183m\u001b[38;5;147m-\u001b[0m\u001b[38;5;183m\u001b[38;5;147m-\u001b[0m\u001b[38;5;183m\u001b[38;5;147m-\u001b[0m\u001b[38;5;183m\u001b[38;5;147m-\u001b[0m\u001b[38;5;183m\u001b[38;5;147m-\u001b[0m\u001b[38;5;183m\u001b[38;5;147m-\u001b[0m\u001b[38;5;183m\u001b[38;5;147m-\u001b[0m\u001b[38;5;183m\u001b[38;5;147m-\u001b[0m\u001b[38;5;183m\u001b[38;5;147m-\u001b[0m\u001b[38;5;183m\u001b[38;5;147m-\u001b[0m\u001b[38;5;183m\u001b[38;5;147m-\u001b[0m\u001b[38;5;183m\u001b[38;5;147m-\u001b[0m\u001b[38;5;183m\u001b[38;5;147m-\u001b[0m\u001b[38;5;183m\u001b[38;5;147m-\u001b[0m\u001b[38;5;183m\u001b[38;5;147m-\u001b[0m\u001b[38;5;183m\u001b[38;5;147m-\u001b[0m\u001b[38;5;183m\u001b[38;5;147m-\u001b[0m\u001b[38;5;183m\u001b[38;5;147m-\u001b[0m\u001b[38;5;183m\u001b[38;5;147m-\u001b[0m\u001b[38;5;183m\u001b[38;5;147m-\u001b[0m\u001b[38;5;183m\u001b[38;5;147m-\u001b[0m\u001b[38;5;183m\u001b[38;5;147m-\u001b[0m\u001b[38;5;183m\u001b[38;5;147m-\u001b[0m\u001b[38;5;183m\u001b[38;5;147m-\u001b[0m\u001b[38;5;183m\u001b[38;5;147m-\u001b[0m\u001b[38;5;183m\u001b[38;5;147m-\u001b[0m\u001b[38;5;183m\u001b[38;5;147m-\u001b[0m\u001b[38;5;183m\u001b[38;5;147m-\u001b[0m\u001b[38;5;183m\u001b[38;5;147m-\u001b[0m\u001b[38;5;183m\u001b[38;5;147m-\u001b[0m\u001b[38;5;183m\u001b[38;5;147m-\u001b[0m\u001b[38;5;183m\u001b[38;5;147m-\u001b[0m\u001b[38;5;183m\u001b[38;5;147m-\u001b[0m\u001b[38;5;183m\u001b[38;5;147m-\u001b[0m\u001b[38;5;183m\u001b[38;5;147m-\u001b[0m\u001b[38;5;183m\u001b[38;5;147m-\u001b[0m\u001b[38;5;183m\u001b[38;5;147m-\u001b[0m\u001b[38;5;183m\u001b[38;5;219m+\u001b[0m\u001b[38;5;183m\u001b[38;5;147m-\u001b[0m\u001b[38;5;183m\u001b[38;5;147m-\u001b[0m\u001b[38;5;183m\u001b[38;5;147m-\u001b[0m\u001b[38;5;183m\u001b[38;5;147m-\u001b[0m\u001b[38;5;183m\u001b[38;5;147m-\u001b[0m\u001b[38;5;183m\u001b[38;5;147m-\u001b[0m\u001b[38;5;183m\u001b[38;5;147m-\u001b[0m\u001b[38;5;183m\u001b[38;5;147m-\u001b[0m\u001b[38;5;183m\u001b[38;5;147m-\u001b[0m\u001b[38;5;183m\u001b[38;5;147m-\u001b[0m\u001b[38;5;183m\u001b[38;5;147m-\u001b[0m\u001b[38;5;183m\u001b[38;5;147m-\u001b[0m\u001b[38;5;183m\u001b[38;5;147m-\u001b[0m\u001b[38;5;183m\u001b[38;5;147m-\u001b[0m\u001b[38;5;183m\u001b[38;5;147m-\u001b[0m\u001b[38;5;183m\u001b[38;5;147m-\u001b[0m\u001b[38;5;183m\u001b[38;5;147m-\u001b[0m\u001b[38;5;183m\u001b[38;5;147m-\u001b[0m\u001b[38;5;183m\u001b[38;5;147m-\u001b[0m\u001b[38;5;183m\u001b[38;5;147m-\u001b[0m\u001b[38;5;183m\u001b[38;5;147m-\u001b[0m\u001b[38;5;183m\u001b[38;5;219m+\u001b[0m\u001b[38;5;183m\u001b[38;5;147m-\u001b[0m\u001b[38;5;183m\u001b[38;5;147m-\u001b[0m\u001b[38;5;183m\u001b[38;5;147m-\u001b[0m\u001b[38;5;183m\u001b[38;5;147m-\u001b[0m\u001b[38;5;183m\u001b[38;5;147m-\u001b[0m\u001b[38;5;183m\u001b[38;5;147m-\u001b[0m\u001b[38;5;183m\u001b[38;5;147m-\u001b[0m\u001b[38;5;183m\u001b[38;5;147m-\u001b[0m\u001b[38;5;183m\u001b[38;5;147m-\u001b[0m\u001b[38;5;183m\u001b[38;5;147m-\u001b[0m\u001b[38;5;183m\u001b[38;5;147m-\u001b[0m\u001b[38;5;183m\u001b[38;5;147m-\u001b[0m\u001b[38;5;183m\u001b[38;5;147m-\u001b[0m\u001b[38;5;183m\u001b[38;5;147m-\u001b[0m\u001b[38;5;183m\u001b[38;5;147m-\u001b[0m\u001b[38;5;183m\u001b[38;5;147m-\u001b[0m\u001b[38;5;183m\u001b[38;5;147m-\u001b[0m\u001b[38;5;183m\u001b[38;5;147m-\u001b[0m\u001b[38;5;183m\u001b[38;5;147m-\u001b[0m\u001b[38;5;183m\u001b[38;5;147m-\u001b[0m\u001b[38;5;183m\u001b[38;5;147m-\u001b[0m\u001b[38;5;183m\u001b[38;5;219m+\u001b[0m\u001b[38;5;183m\u001b[38;5;147m-\u001b[0m\u001b[38;5;183m\u001b[38;5;147m-\u001b[0m\u001b[38;5;183m\u001b[38;5;147m-\u001b[0m\u001b[38;5;183m\u001b[38;5;147m-\u001b[0m\u001b[38;5;183m\u001b[38;5;147m-\u001b[0m\u001b[38;5;183m\u001b[38;5;147m-\u001b[0m\u001b[38;5;183m\u001b[38;5;147m-\u001b[0m\u001b[38;5;183m\u001b[38;5;147m-\u001b[0m\u001b[38;5;183m\u001b[38;5;147m-\u001b[0m\u001b[38;5;183m\u001b[38;5;147m-\u001b[0m\u001b[38;5;183m\u001b[38;5;147m-\u001b[0m\u001b[38;5;183m\u001b[38;5;147m-\u001b[0m\u001b[38;5;183m\u001b[38;5;147m-\u001b[0m\u001b[38;5;183m\u001b[38;5;147m-\u001b[0m\u001b[38;5;183m\u001b[38;5;147m-\u001b[0m\u001b[38;5;183m\u001b[38;5;147m-\u001b[0m\u001b[38;5;183m\u001b[38;5;147m-\u001b[0m\u001b[38;5;183m\u001b[38;5;147m-\u001b[0m\u001b[38;5;183m\u001b[38;5;147m-\u001b[0m\u001b[38;5;183m\u001b[38;5;147m-\u001b[0m\u001b[38;5;183m\u001b[38;5;147m-\u001b[0m\u001b[38;5;183m\u001b[38;5;219m+\u001b[0m\u001b[38;5;183m\u001b[38;5;147m-\u001b[0m\u001b[38;5;183m\u001b[38;5;147m-\u001b[0m\u001b[38;5;183m\u001b[38;5;147m-\u001b[0m\u001b[38;5;183m\u001b[38;5;147m-\u001b[0m\u001b[38;5;183m\u001b[38;5;147m-\u001b[0m\u001b[38;5;183m\u001b[38;5;147m-\u001b[0m\u001b[38;5;183m\u001b[38;5;147m-\u001b[0m\u001b[38;5;183m\u001b[38;5;147m-\u001b[0m\u001b[38;5;183m\u001b[38;5;147m-\u001b[0m\u001b[38;5;183m\u001b[38;5;147m-\u001b[0m\u001b[38;5;183m\u001b[38;5;147m-\u001b[0m\u001b[38;5;183m\u001b[38;5;147m-\u001b[0m\u001b[38;5;183m\u001b[38;5;147m-\u001b[0m\u001b[38;5;183m\u001b[38;5;147m-\u001b[0m\u001b[38;5;183m\u001b[38;5;147m-\u001b[0m\u001b[38;5;183m\u001b[38;5;147m-\u001b[0m\u001b[38;5;183m\u001b[38;5;147m-\u001b[0m\u001b[38;5;183m\u001b[38;5;147m-\u001b[0m\u001b[38;5;183m\u001b[38;5;147m-\u001b[0m\u001b[38;5;183m\u001b[38;5;147m-\u001b[0m\u001b[38;5;183m\u001b[38;5;147m-\u001b[0m\u001b[38;5;183m\u001b[38;5;219m+\u001b[0m\u001b[38;5;183m\u001b[38;5;147m-\u001b[0m\u001b[38;5;183m\u001b[38;5;147m-\u001b[0m\u001b[38;5;183m\u001b[38;5;147m-\u001b[0m\u001b[38;5;183m\u001b[38;5;147m-\u001b[0m\u001b[38;5;183m\u001b[38;5;147m-\u001b[0m\u001b[38;5;183m\u001b[38;5;147m-\u001b[0m\u001b[38;5;183m\u001b[38;5;147m-\u001b[0m\u001b[38;5;183m\u001b[38;5;147m-\u001b[0m\u001b[38;5;183m\u001b[38;5;147m-\u001b[0m\u001b[38;5;183m\u001b[38;5;147m-\u001b[0m\u001b[38;5;183m\u001b[38;5;147m-\u001b[0m\u001b[38;5;183m\u001b[38;5;147m-\u001b[0m\u001b[38;5;183m\u001b[38;5;147m-\u001b[0m\u001b[38;5;183m\u001b[38;5;147m-\u001b[0m\u001b[38;5;183m\u001b[38;5;147m-\u001b[0m\u001b[38;5;183m\u001b[38;5;147m-\u001b[0m\u001b[38;5;183m\u001b[38;5;147m-\u001b[0m\u001b[38;5;183m\u001b[38;5;147m-\u001b[0m\u001b[38;5;183m\u001b[38;5;147m-\u001b[0m\u001b[38;5;183m\u001b[38;5;147m-\u001b[0m\u001b[38;5;183m\u001b[38;5;147m-\u001b[0m\u001b[38;5;183m\u001b[38;5;219m+\u001b[0m\u001b[38;5;183m\n",
      "\u001b[35m|\u001b[0m\u001b[38;5;183m                  Algorithme                 \u001b[35m|\u001b[0m\u001b[38;5;183m                     Hyperparamètres                      \u001b[35m|\u001b[0m\u001b[38;5;183m       Macro f1      \u001b[35m|\u001b[0m\u001b[38;5;183m       Accuracy      \u001b[35m|\u001b[0m\u001b[38;5;183m      Precision      \u001b[35m|\u001b[0m\u001b[38;5;183m        Rappel       \u001b[35m|\u001b[0m\u001b[38;5;183m  Temps d'exécution  \u001b[35m|\u001b[0m\u001b[38;5;183m\n",
      "\u001b[38;5;219m+\u001b[0m\u001b[38;5;183m\u001b[38;5;147m-\u001b[0m\u001b[38;5;183m\u001b[38;5;147m-\u001b[0m\u001b[38;5;183m\u001b[38;5;147m-\u001b[0m\u001b[38;5;183m\u001b[38;5;147m-\u001b[0m\u001b[38;5;183m\u001b[38;5;147m-\u001b[0m\u001b[38;5;183m\u001b[38;5;147m-\u001b[0m\u001b[38;5;183m\u001b[38;5;147m-\u001b[0m\u001b[38;5;183m\u001b[38;5;147m-\u001b[0m\u001b[38;5;183m\u001b[38;5;147m-\u001b[0m\u001b[38;5;183m\u001b[38;5;147m-\u001b[0m\u001b[38;5;183m\u001b[38;5;147m-\u001b[0m\u001b[38;5;183m\u001b[38;5;147m-\u001b[0m\u001b[38;5;183m\u001b[38;5;147m-\u001b[0m\u001b[38;5;183m\u001b[38;5;147m-\u001b[0m\u001b[38;5;183m\u001b[38;5;147m-\u001b[0m\u001b[38;5;183m\u001b[38;5;147m-\u001b[0m\u001b[38;5;183m\u001b[38;5;147m-\u001b[0m\u001b[38;5;183m\u001b[38;5;147m-\u001b[0m\u001b[38;5;183m\u001b[38;5;147m-\u001b[0m\u001b[38;5;183m\u001b[38;5;147m-\u001b[0m\u001b[38;5;183m\u001b[38;5;147m-\u001b[0m\u001b[38;5;183m\u001b[38;5;147m-\u001b[0m\u001b[38;5;183m\u001b[38;5;147m-\u001b[0m\u001b[38;5;183m\u001b[38;5;147m-\u001b[0m\u001b[38;5;183m\u001b[38;5;147m-\u001b[0m\u001b[38;5;183m\u001b[38;5;147m-\u001b[0m\u001b[38;5;183m\u001b[38;5;147m-\u001b[0m\u001b[38;5;183m\u001b[38;5;147m-\u001b[0m\u001b[38;5;183m\u001b[38;5;147m-\u001b[0m\u001b[38;5;183m\u001b[38;5;147m-\u001b[0m\u001b[38;5;183m\u001b[38;5;147m-\u001b[0m\u001b[38;5;183m\u001b[38;5;147m-\u001b[0m\u001b[38;5;183m\u001b[38;5;147m-\u001b[0m\u001b[38;5;183m\u001b[38;5;147m-\u001b[0m\u001b[38;5;183m\u001b[38;5;147m-\u001b[0m\u001b[38;5;183m\u001b[38;5;147m-\u001b[0m\u001b[38;5;183m\u001b[38;5;147m-\u001b[0m\u001b[38;5;183m\u001b[38;5;147m-\u001b[0m\u001b[38;5;183m\u001b[38;5;147m-\u001b[0m\u001b[38;5;183m\u001b[38;5;147m-\u001b[0m\u001b[38;5;183m\u001b[38;5;147m-\u001b[0m\u001b[38;5;183m\u001b[38;5;147m-\u001b[0m\u001b[38;5;183m\u001b[38;5;147m-\u001b[0m\u001b[38;5;183m\u001b[38;5;147m-\u001b[0m\u001b[38;5;183m\u001b[38;5;147m-\u001b[0m\u001b[38;5;183m\u001b[38;5;219m+\u001b[0m\u001b[38;5;183m\u001b[38;5;147m-\u001b[0m\u001b[38;5;183m\u001b[38;5;147m-\u001b[0m\u001b[38;5;183m\u001b[38;5;147m-\u001b[0m\u001b[38;5;183m\u001b[38;5;147m-\u001b[0m\u001b[38;5;183m\u001b[38;5;147m-\u001b[0m\u001b[38;5;183m\u001b[38;5;147m-\u001b[0m\u001b[38;5;183m\u001b[38;5;147m-\u001b[0m\u001b[38;5;183m\u001b[38;5;147m-\u001b[0m\u001b[38;5;183m\u001b[38;5;147m-\u001b[0m\u001b[38;5;183m\u001b[38;5;147m-\u001b[0m\u001b[38;5;183m\u001b[38;5;147m-\u001b[0m\u001b[38;5;183m\u001b[38;5;147m-\u001b[0m\u001b[38;5;183m\u001b[38;5;147m-\u001b[0m\u001b[38;5;183m\u001b[38;5;147m-\u001b[0m\u001b[38;5;183m\u001b[38;5;147m-\u001b[0m\u001b[38;5;183m\u001b[38;5;147m-\u001b[0m\u001b[38;5;183m\u001b[38;5;147m-\u001b[0m\u001b[38;5;183m\u001b[38;5;147m-\u001b[0m\u001b[38;5;183m\u001b[38;5;147m-\u001b[0m\u001b[38;5;183m\u001b[38;5;147m-\u001b[0m\u001b[38;5;183m\u001b[38;5;147m-\u001b[0m\u001b[38;5;183m\u001b[38;5;147m-\u001b[0m\u001b[38;5;183m\u001b[38;5;147m-\u001b[0m\u001b[38;5;183m\u001b[38;5;147m-\u001b[0m\u001b[38;5;183m\u001b[38;5;147m-\u001b[0m\u001b[38;5;183m\u001b[38;5;147m-\u001b[0m\u001b[38;5;183m\u001b[38;5;147m-\u001b[0m\u001b[38;5;183m\u001b[38;5;147m-\u001b[0m\u001b[38;5;183m\u001b[38;5;147m-\u001b[0m\u001b[38;5;183m\u001b[38;5;147m-\u001b[0m\u001b[38;5;183m\u001b[38;5;147m-\u001b[0m\u001b[38;5;183m\u001b[38;5;147m-\u001b[0m\u001b[38;5;183m\u001b[38;5;147m-\u001b[0m\u001b[38;5;183m\u001b[38;5;147m-\u001b[0m\u001b[38;5;183m\u001b[38;5;147m-\u001b[0m\u001b[38;5;183m\u001b[38;5;147m-\u001b[0m\u001b[38;5;183m\u001b[38;5;147m-\u001b[0m\u001b[38;5;183m\u001b[38;5;147m-\u001b[0m\u001b[38;5;183m\u001b[38;5;147m-\u001b[0m\u001b[38;5;183m\u001b[38;5;147m-\u001b[0m\u001b[38;5;183m\u001b[38;5;147m-\u001b[0m\u001b[38;5;183m\u001b[38;5;147m-\u001b[0m\u001b[38;5;183m\u001b[38;5;147m-\u001b[0m\u001b[38;5;183m\u001b[38;5;147m-\u001b[0m\u001b[38;5;183m\u001b[38;5;147m-\u001b[0m\u001b[38;5;183m\u001b[38;5;147m-\u001b[0m\u001b[38;5;183m\u001b[38;5;147m-\u001b[0m\u001b[38;5;183m\u001b[38;5;147m-\u001b[0m\u001b[38;5;183m\u001b[38;5;147m-\u001b[0m\u001b[38;5;183m\u001b[38;5;147m-\u001b[0m\u001b[38;5;183m\u001b[38;5;147m-\u001b[0m\u001b[38;5;183m\u001b[38;5;147m-\u001b[0m\u001b[38;5;183m\u001b[38;5;147m-\u001b[0m\u001b[38;5;183m\u001b[38;5;147m-\u001b[0m\u001b[38;5;183m\u001b[38;5;147m-\u001b[0m\u001b[38;5;183m\u001b[38;5;147m-\u001b[0m\u001b[38;5;183m\u001b[38;5;147m-\u001b[0m\u001b[38;5;183m\u001b[38;5;147m-\u001b[0m\u001b[38;5;183m\u001b[38;5;219m+\u001b[0m\u001b[38;5;183m\u001b[38;5;147m-\u001b[0m\u001b[38;5;183m\u001b[38;5;147m-\u001b[0m\u001b[38;5;183m\u001b[38;5;147m-\u001b[0m\u001b[38;5;183m\u001b[38;5;147m-\u001b[0m\u001b[38;5;183m\u001b[38;5;147m-\u001b[0m\u001b[38;5;183m\u001b[38;5;147m-\u001b[0m\u001b[38;5;183m\u001b[38;5;147m-\u001b[0m\u001b[38;5;183m\u001b[38;5;147m-\u001b[0m\u001b[38;5;183m\u001b[38;5;147m-\u001b[0m\u001b[38;5;183m\u001b[38;5;147m-\u001b[0m\u001b[38;5;183m\u001b[38;5;147m-\u001b[0m\u001b[38;5;183m\u001b[38;5;147m-\u001b[0m\u001b[38;5;183m\u001b[38;5;147m-\u001b[0m\u001b[38;5;183m\u001b[38;5;147m-\u001b[0m\u001b[38;5;183m\u001b[38;5;147m-\u001b[0m\u001b[38;5;183m\u001b[38;5;147m-\u001b[0m\u001b[38;5;183m\u001b[38;5;147m-\u001b[0m\u001b[38;5;183m\u001b[38;5;147m-\u001b[0m\u001b[38;5;183m\u001b[38;5;147m-\u001b[0m\u001b[38;5;183m\u001b[38;5;147m-\u001b[0m\u001b[38;5;183m\u001b[38;5;147m-\u001b[0m\u001b[38;5;183m\u001b[38;5;219m+\u001b[0m\u001b[38;5;183m\u001b[38;5;147m-\u001b[0m\u001b[38;5;183m\u001b[38;5;147m-\u001b[0m\u001b[38;5;183m\u001b[38;5;147m-\u001b[0m\u001b[38;5;183m\u001b[38;5;147m-\u001b[0m\u001b[38;5;183m\u001b[38;5;147m-\u001b[0m\u001b[38;5;183m\u001b[38;5;147m-\u001b[0m\u001b[38;5;183m\u001b[38;5;147m-\u001b[0m\u001b[38;5;183m\u001b[38;5;147m-\u001b[0m\u001b[38;5;183m\u001b[38;5;147m-\u001b[0m\u001b[38;5;183m\u001b[38;5;147m-\u001b[0m\u001b[38;5;183m\u001b[38;5;147m-\u001b[0m\u001b[38;5;183m\u001b[38;5;147m-\u001b[0m\u001b[38;5;183m\u001b[38;5;147m-\u001b[0m\u001b[38;5;183m\u001b[38;5;147m-\u001b[0m\u001b[38;5;183m\u001b[38;5;147m-\u001b[0m\u001b[38;5;183m\u001b[38;5;147m-\u001b[0m\u001b[38;5;183m\u001b[38;5;147m-\u001b[0m\u001b[38;5;183m\u001b[38;5;147m-\u001b[0m\u001b[38;5;183m\u001b[38;5;147m-\u001b[0m\u001b[38;5;183m\u001b[38;5;147m-\u001b[0m\u001b[38;5;183m\u001b[38;5;147m-\u001b[0m\u001b[38;5;183m\u001b[38;5;219m+\u001b[0m\u001b[38;5;183m\u001b[38;5;147m-\u001b[0m\u001b[38;5;183m\u001b[38;5;147m-\u001b[0m\u001b[38;5;183m\u001b[38;5;147m-\u001b[0m\u001b[38;5;183m\u001b[38;5;147m-\u001b[0m\u001b[38;5;183m\u001b[38;5;147m-\u001b[0m\u001b[38;5;183m\u001b[38;5;147m-\u001b[0m\u001b[38;5;183m\u001b[38;5;147m-\u001b[0m\u001b[38;5;183m\u001b[38;5;147m-\u001b[0m\u001b[38;5;183m\u001b[38;5;147m-\u001b[0m\u001b[38;5;183m\u001b[38;5;147m-\u001b[0m\u001b[38;5;183m\u001b[38;5;147m-\u001b[0m\u001b[38;5;183m\u001b[38;5;147m-\u001b[0m\u001b[38;5;183m\u001b[38;5;147m-\u001b[0m\u001b[38;5;183m\u001b[38;5;147m-\u001b[0m\u001b[38;5;183m\u001b[38;5;147m-\u001b[0m\u001b[38;5;183m\u001b[38;5;147m-\u001b[0m\u001b[38;5;183m\u001b[38;5;147m-\u001b[0m\u001b[38;5;183m\u001b[38;5;147m-\u001b[0m\u001b[38;5;183m\u001b[38;5;147m-\u001b[0m\u001b[38;5;183m\u001b[38;5;147m-\u001b[0m\u001b[38;5;183m\u001b[38;5;147m-\u001b[0m\u001b[38;5;183m\u001b[38;5;219m+\u001b[0m\u001b[38;5;183m\u001b[38;5;147m-\u001b[0m\u001b[38;5;183m\u001b[38;5;147m-\u001b[0m\u001b[38;5;183m\u001b[38;5;147m-\u001b[0m\u001b[38;5;183m\u001b[38;5;147m-\u001b[0m\u001b[38;5;183m\u001b[38;5;147m-\u001b[0m\u001b[38;5;183m\u001b[38;5;147m-\u001b[0m\u001b[38;5;183m\u001b[38;5;147m-\u001b[0m\u001b[38;5;183m\u001b[38;5;147m-\u001b[0m\u001b[38;5;183m\u001b[38;5;147m-\u001b[0m\u001b[38;5;183m\u001b[38;5;147m-\u001b[0m\u001b[38;5;183m\u001b[38;5;147m-\u001b[0m\u001b[38;5;183m\u001b[38;5;147m-\u001b[0m\u001b[38;5;183m\u001b[38;5;147m-\u001b[0m\u001b[38;5;183m\u001b[38;5;147m-\u001b[0m\u001b[38;5;183m\u001b[38;5;147m-\u001b[0m\u001b[38;5;183m\u001b[38;5;147m-\u001b[0m\u001b[38;5;183m\u001b[38;5;147m-\u001b[0m\u001b[38;5;183m\u001b[38;5;147m-\u001b[0m\u001b[38;5;183m\u001b[38;5;147m-\u001b[0m\u001b[38;5;183m\u001b[38;5;147m-\u001b[0m\u001b[38;5;183m\u001b[38;5;147m-\u001b[0m\u001b[38;5;183m\u001b[38;5;219m+\u001b[0m\u001b[38;5;183m\u001b[38;5;147m-\u001b[0m\u001b[38;5;183m\u001b[38;5;147m-\u001b[0m\u001b[38;5;183m\u001b[38;5;147m-\u001b[0m\u001b[38;5;183m\u001b[38;5;147m-\u001b[0m\u001b[38;5;183m\u001b[38;5;147m-\u001b[0m\u001b[38;5;183m\u001b[38;5;147m-\u001b[0m\u001b[38;5;183m\u001b[38;5;147m-\u001b[0m\u001b[38;5;183m\u001b[38;5;147m-\u001b[0m\u001b[38;5;183m\u001b[38;5;147m-\u001b[0m\u001b[38;5;183m\u001b[38;5;147m-\u001b[0m\u001b[38;5;183m\u001b[38;5;147m-\u001b[0m\u001b[38;5;183m\u001b[38;5;147m-\u001b[0m\u001b[38;5;183m\u001b[38;5;147m-\u001b[0m\u001b[38;5;183m\u001b[38;5;147m-\u001b[0m\u001b[38;5;183m\u001b[38;5;147m-\u001b[0m\u001b[38;5;183m\u001b[38;5;147m-\u001b[0m\u001b[38;5;183m\u001b[38;5;147m-\u001b[0m\u001b[38;5;183m\u001b[38;5;147m-\u001b[0m\u001b[38;5;183m\u001b[38;5;147m-\u001b[0m\u001b[38;5;183m\u001b[38;5;147m-\u001b[0m\u001b[38;5;183m\u001b[38;5;147m-\u001b[0m\u001b[38;5;183m\u001b[38;5;219m+\u001b[0m\u001b[38;5;183m\n",
      "\u001b[35m|\u001b[0m\u001b[38;5;183m  PassiveAggressiveClassifier_on_new_split_2 \u001b[35m|\u001b[0m\u001b[38;5;183m PassiveAggressiveClassifier(C=0.5, loss='squared_hinge') \u001b[35m|\u001b[0m\u001b[38;5;183m  0.355828075186288  \u001b[35m|\u001b[0m\u001b[38;5;183m 0.41892512632062473 \u001b[35m|\u001b[0m\u001b[38;5;183m  0.3819802647678104 \u001b[35m|\u001b[0m\u001b[38;5;183m  0.348632323696447  \u001b[35m|\u001b[0m\u001b[38;5;183m  1.1426825523376465 \u001b[35m|\u001b[0m\u001b[38;5;183m\n",
      "\u001b[35m|\u001b[0m\u001b[38;5;183m  PassiveAggressiveClassifier_on_new_split_1 \u001b[35m|\u001b[0m\u001b[38;5;183m            PassiveAggressiveClassifier(C=0.5)            \u001b[35m|\u001b[0m\u001b[38;5;183m 0.35501209662591493 \u001b[35m|\u001b[0m\u001b[38;5;183m 0.41999693768182517 \u001b[35m|\u001b[0m\u001b[38;5;183m  0.3827524672999962 \u001b[35m|\u001b[0m\u001b[38;5;183m 0.34825650558062254 \u001b[35m|\u001b[0m\u001b[38;5;183m  0.8942108154296875 \u001b[35m|\u001b[0m\u001b[38;5;183m\n",
      "\u001b[35m|\u001b[0m\u001b[38;5;183m  PassiveAggressiveClassifier_on_new_split_3 \u001b[35m|\u001b[0m\u001b[38;5;183m              PassiveAggressiveClassifier()               \u001b[35m|\u001b[0m\u001b[38;5;183m 0.35419808776876166 \u001b[35m|\u001b[0m\u001b[38;5;183m 0.41953758995559637 \u001b[35m|\u001b[0m\u001b[38;5;183m 0.38018986834462887 \u001b[35m|\u001b[0m\u001b[38;5;183m 0.34770951499466934 \u001b[35m|\u001b[0m\u001b[38;5;183m  0.7812752723693848 \u001b[35m|\u001b[0m\u001b[38;5;183m\n",
      "\u001b[35m|\u001b[0m\u001b[38;5;183m  PassiveAggressiveClassifier_on_new_split_4 \u001b[35m|\u001b[0m\u001b[38;5;183m    PassiveAggressiveClassifier(loss='squared_hinge')     \u001b[35m|\u001b[0m\u001b[38;5;183m 0.35401490081530573 \u001b[35m|\u001b[0m\u001b[38;5;183m 0.41846577859439593 \u001b[35m|\u001b[0m\u001b[38;5;183m 0.37979952910684245 \u001b[35m|\u001b[0m\u001b[38;5;183m  0.3472699541481425 \u001b[35m|\u001b[0m\u001b[38;5;183m  1.0903916358947754 \u001b[35m|\u001b[0m\u001b[38;5;183m\n",
      "\u001b[35m|\u001b[0m\u001b[38;5;183m  balanced_up_PassiveAggressiveClassifier_4  \u001b[35m|\u001b[0m\u001b[38;5;183m    PassiveAggressiveClassifier(loss='squared_hinge')     \u001b[35m|\u001b[0m\u001b[38;5;183m 0.35153460614535514 \u001b[35m|\u001b[0m\u001b[38;5;183m  0.390495867768595  \u001b[35m|\u001b[0m\u001b[38;5;183m 0.35338589814023386 \u001b[35m|\u001b[0m\u001b[38;5;183m 0.35189746620502904 \u001b[35m|\u001b[0m\u001b[38;5;183m  1.158452033996582  \u001b[35m|\u001b[0m\u001b[38;5;183m\n",
      "\u001b[35m|\u001b[0m\u001b[38;5;183m  balanced_up_PassiveAggressiveClassifier_2  \u001b[35m|\u001b[0m\u001b[38;5;183m PassiveAggressiveClassifier(C=0.5, loss='squared_hinge') \u001b[35m|\u001b[0m\u001b[38;5;183m  0.3511829777477872 \u001b[35m|\u001b[0m\u001b[38;5;183m 0.39061065197428835 \u001b[35m|\u001b[0m\u001b[38;5;183m   0.35320158017241  \u001b[35m|\u001b[0m\u001b[38;5;183m  0.3513933741298668 \u001b[35m|\u001b[0m\u001b[38;5;183m  1.2888472080230713 \u001b[35m|\u001b[0m\u001b[38;5;183m\n",
      "\u001b[35m|\u001b[0m\u001b[38;5;183m  balanced_up_PassiveAggressiveClassifier_3  \u001b[35m|\u001b[0m\u001b[38;5;183m              PassiveAggressiveClassifier()               \u001b[35m|\u001b[0m\u001b[38;5;183m  0.3504948896240195 \u001b[35m|\u001b[0m\u001b[38;5;183m 0.39003673094582186 \u001b[35m|\u001b[0m\u001b[38;5;183m 0.35319300948477406 \u001b[35m|\u001b[0m\u001b[38;5;183m 0.34994724495516516 \u001b[35m|\u001b[0m\u001b[38;5;183m  0.9214727878570557 \u001b[35m|\u001b[0m\u001b[38;5;183m\n",
      "\u001b[35m|\u001b[0m\u001b[38;5;183m  balanced_up_PassiveAggressiveClassifier_1  \u001b[35m|\u001b[0m\u001b[38;5;183m            PassiveAggressiveClassifier(C=0.5)            \u001b[35m|\u001b[0m\u001b[38;5;183m  0.3499681735448617 \u001b[35m|\u001b[0m\u001b[38;5;183m  0.3894628099173554 \u001b[35m|\u001b[0m\u001b[38;5;183m 0.35222600289265393 \u001b[35m|\u001b[0m\u001b[38;5;183m 0.35008260834100363 \u001b[35m|\u001b[0m\u001b[38;5;183m  1.2187023162841797 \u001b[35m|\u001b[0m\u001b[38;5;183m\n",
      "\u001b[35m|\u001b[0m\u001b[38;5;183m         balanced_up_SGDClassifier_2         \u001b[35m|\u001b[0m\u001b[38;5;183m           SGDClassifier(loss='squared_hinge')            \u001b[35m|\u001b[0m\u001b[38;5;183m 0.34982826210088713 \u001b[35m|\u001b[0m\u001b[38;5;183m  0.3774104683195592 \u001b[35m|\u001b[0m\u001b[38;5;183m  0.3446836703770936 \u001b[35m|\u001b[0m\u001b[38;5;183m  0.3586977805942621 \u001b[35m|\u001b[0m\u001b[38;5;183m  0.9286181926727295 \u001b[35m|\u001b[0m\u001b[38;5;183m\n",
      "\u001b[35m|\u001b[0m\u001b[38;5;183m           balanced_up_LinearSVC_1           \u001b[35m|\u001b[0m\u001b[38;5;183m               LinearSVC(C=0.5, dual=True)                \u001b[35m|\u001b[0m\u001b[38;5;183m 0.34978977868852545 \u001b[35m|\u001b[0m\u001b[38;5;183m 0.37993572084481175 \u001b[35m|\u001b[0m\u001b[38;5;183m  0.3449777200274905 \u001b[35m|\u001b[0m\u001b[38;5;183m  0.3577038331219887 \u001b[35m|\u001b[0m\u001b[38;5;183m  2.5736947059631348 \u001b[35m|\u001b[0m\u001b[38;5;183m\n",
      "\u001b[35m|\u001b[0m\u001b[38;5;183m           balanced_up_LinearSVC_2           \u001b[35m|\u001b[0m\u001b[38;5;183m               LinearSVC(C=0.5, dual=False)               \u001b[35m|\u001b[0m\u001b[38;5;183m  0.3497896449310348 \u001b[35m|\u001b[0m\u001b[38;5;183m 0.37993572084481175 \u001b[35m|\u001b[0m\u001b[38;5;183m 0.34498005922316777 \u001b[35m|\u001b[0m\u001b[38;5;183m  0.3577038331219887 \u001b[35m|\u001b[0m\u001b[38;5;183m  20.636306047439575 \u001b[35m|\u001b[0m\u001b[38;5;183m\n",
      "\u001b[35m|\u001b[0m\u001b[38;5;183m           balanced_up_LinearSVC_4           \u001b[35m|\u001b[0m\u001b[38;5;183m                  LinearSVC(dual=False)                   \u001b[35m|\u001b[0m\u001b[38;5;183m  0.348352890254289  \u001b[35m|\u001b[0m\u001b[38;5;183m 0.38096877869605145 \u001b[35m|\u001b[0m\u001b[38;5;183m 0.34496438666076246 \u001b[35m|\u001b[0m\u001b[38;5;183m  0.3536243144849022 \u001b[35m|\u001b[0m\u001b[38;5;183m  35.25674223899841  \u001b[35m|\u001b[0m\u001b[38;5;183m\n",
      "\u001b[35m|\u001b[0m\u001b[38;5;183m           balanced_up_LinearSVC_3           \u001b[35m|\u001b[0m\u001b[38;5;183m                   LinearSVC(dual=True)                   \u001b[35m|\u001b[0m\u001b[38;5;183m 0.34834803712033974 \u001b[35m|\u001b[0m\u001b[38;5;183m 0.38096877869605145 \u001b[35m|\u001b[0m\u001b[38;5;183m 0.34495252951005384 \u001b[35m|\u001b[0m\u001b[38;5;183m  0.3536243144849022 \u001b[35m|\u001b[0m\u001b[38;5;183m  3.9335813522338867 \u001b[35m|\u001b[0m\u001b[38;5;183m\n",
      "\u001b[35m|\u001b[0m\u001b[38;5;183m           LinearSVC_on_new_split_3          \u001b[35m|\u001b[0m\u001b[38;5;183m                   LinearSVC(dual=True)                   \u001b[35m|\u001b[0m\u001b[38;5;183m 0.34622195726383315 \u001b[35m|\u001b[0m\u001b[38;5;183m 0.42596845812279893 \u001b[35m|\u001b[0m\u001b[38;5;183m  0.4015854890306948 \u001b[35m|\u001b[0m\u001b[38;5;183m  0.3400798983393996 \u001b[35m|\u001b[0m\u001b[38;5;183m  2.9922609329223633 \u001b[35m|\u001b[0m\u001b[38;5;183m\n",
      "\u001b[35m|\u001b[0m\u001b[38;5;183m           LinearSVC_on_new_split_4          \u001b[35m|\u001b[0m\u001b[38;5;183m                  LinearSVC(dual=False)                   \u001b[35m|\u001b[0m\u001b[38;5;183m 0.34620913527202546 \u001b[35m|\u001b[0m\u001b[38;5;183m 0.42596845812279893 \u001b[35m|\u001b[0m\u001b[38;5;183m  0.4014218543040893 \u001b[35m|\u001b[0m\u001b[38;5;183m  0.3400798983393996 \u001b[35m|\u001b[0m\u001b[38;5;183m  23.877973556518555 \u001b[35m|\u001b[0m\u001b[38;5;183m\n",
      "\u001b[35m|\u001b[0m\u001b[38;5;183m        PassiveAggressiveClassifier_2        \u001b[35m|\u001b[0m\u001b[38;5;183m PassiveAggressiveClassifier(C=0.5, loss='squared_hinge') \u001b[35m|\u001b[0m\u001b[38;5;183m  0.344802993682413  \u001b[35m|\u001b[0m\u001b[38;5;183m 0.41310835629017445 \u001b[35m|\u001b[0m\u001b[38;5;183m  0.3760873566215486 \u001b[35m|\u001b[0m\u001b[38;5;183m  0.3394211828496621 \u001b[35m|\u001b[0m\u001b[38;5;183m  1.6704480648040771 \u001b[35m|\u001b[0m\u001b[38;5;183m\n",
      "\u001b[35m|\u001b[0m\u001b[38;5;183m        PassiveAggressiveClassifier_3        \u001b[35m|\u001b[0m\u001b[38;5;183m              PassiveAggressiveClassifier()               \u001b[35m|\u001b[0m\u001b[38;5;183m  0.3441771488659745 \u001b[35m|\u001b[0m\u001b[38;5;183m  0.4116161616161616 \u001b[35m|\u001b[0m\u001b[38;5;183m 0.37734729590495075 \u001b[35m|\u001b[0m\u001b[38;5;183m  0.3384732782432911 \u001b[35m|\u001b[0m\u001b[38;5;183m  1.0269744396209717 \u001b[35m|\u001b[0m\u001b[38;5;183m\n",
      "\u001b[35m|\u001b[0m\u001b[38;5;183m        PassiveAggressiveClassifier_1        \u001b[35m|\u001b[0m\u001b[38;5;183m            PassiveAggressiveClassifier(C=0.5)            \u001b[35m|\u001b[0m\u001b[38;5;183m 0.34385419273545786 \u001b[35m|\u001b[0m\u001b[38;5;183m  0.4121900826446281 \u001b[35m|\u001b[0m\u001b[38;5;183m 0.37718579655870743 \u001b[35m|\u001b[0m\u001b[38;5;183m 0.33842138856484605 \u001b[35m|\u001b[0m\u001b[38;5;183m   1.16347074508667  \u001b[35m|\u001b[0m\u001b[38;5;183m\n",
      "\u001b[35m|\u001b[0m\u001b[38;5;183m        PassiveAggressiveClassifier_4        \u001b[35m|\u001b[0m\u001b[38;5;183m    PassiveAggressiveClassifier(loss='squared_hinge')     \u001b[35m|\u001b[0m\u001b[38;5;183m  0.3430289752699134 \u001b[35m|\u001b[0m\u001b[38;5;183m  0.4116161616161616 \u001b[35m|\u001b[0m\u001b[38;5;183m 0.37313701457382953 \u001b[35m|\u001b[0m\u001b[38;5;183m 0.33832970439510973 \u001b[35m|\u001b[0m\u001b[38;5;183m  1.1739253997802734 \u001b[35m|\u001b[0m\u001b[38;5;183m\n",
      "\u001b[35m|\u001b[0m\u001b[38;5;183m         SGDClassifier_on_new_split_5        \u001b[35m|\u001b[0m\u001b[38;5;183m                SGDClassifier(alpha=0.01)                 \u001b[35m|\u001b[0m\u001b[38;5;183m  0.3414202209622622 \u001b[35m|\u001b[0m\u001b[38;5;183m 0.42581534221405604 \u001b[35m|\u001b[0m\u001b[38;5;183m  0.3902461484631805 \u001b[35m|\u001b[0m\u001b[38;5;183m  0.3406852501379309 \u001b[35m|\u001b[0m\u001b[38;5;183m  0.7358129024505615 \u001b[35m|\u001b[0m\u001b[38;5;183m\n",
      "\u001b[35m|\u001b[0m\u001b[38;5;183m         SGDClassifier_on_new_split_1        \u001b[35m|\u001b[0m\u001b[38;5;183m                     SGDClassifier()                      \u001b[35m|\u001b[0m\u001b[38;5;183m 0.34108796800243835 \u001b[35m|\u001b[0m\u001b[38;5;183m  0.429643239932629  \u001b[35m|\u001b[0m\u001b[38;5;183m  0.3971928502768575 \u001b[35m|\u001b[0m\u001b[38;5;183m  0.3414211152529182 \u001b[35m|\u001b[0m\u001b[38;5;183m  1.5486154556274414 \u001b[35m|\u001b[0m\u001b[38;5;183m\n",
      "\u001b[35m|\u001b[0m\u001b[38;5;183m         SGDClassifier_on_new_split_2        \u001b[35m|\u001b[0m\u001b[38;5;183m           SGDClassifier(loss='squared_hinge')            \u001b[35m|\u001b[0m\u001b[38;5;183m  0.3407278784344033 \u001b[35m|\u001b[0m\u001b[38;5;183m  0.4232123717654264 \u001b[35m|\u001b[0m\u001b[38;5;183m  0.4026437133198084 \u001b[35m|\u001b[0m\u001b[38;5;183m 0.33519141363756144 \u001b[35m|\u001b[0m\u001b[38;5;183m  0.9756906032562256 \u001b[35m|\u001b[0m\u001b[38;5;183m\n",
      "\u001b[35m|\u001b[0m\u001b[38;5;183m         SGDClassifier_on_new_split_3        \u001b[35m|\u001b[0m\u001b[38;5;183m                SGDClassifier(alpha=0.001)                \u001b[35m|\u001b[0m\u001b[38;5;183m 0.33940849442520227 \u001b[35m|\u001b[0m\u001b[38;5;183m 0.42765273311897106 \u001b[35m|\u001b[0m\u001b[38;5;183m 0.39890973390904627 \u001b[35m|\u001b[0m\u001b[38;5;183m  0.3406658914501869 \u001b[35m|\u001b[0m\u001b[38;5;183m  0.8811678886413574 \u001b[35m|\u001b[0m\u001b[38;5;183m\n",
      "\u001b[35m|\u001b[0m\u001b[38;5;183m         balanced_up_SGDClassifier_1         \u001b[35m|\u001b[0m\u001b[38;5;183m                     SGDClassifier()                      \u001b[35m|\u001b[0m\u001b[38;5;183m 0.33796315322055615 \u001b[35m|\u001b[0m\u001b[38;5;183m 0.35537190082644626 \u001b[35m|\u001b[0m\u001b[38;5;183m 0.33553488813889226 \u001b[35m|\u001b[0m\u001b[38;5;183m  0.363917206241543  \u001b[35m|\u001b[0m\u001b[38;5;183m  1.613677978515625  \u001b[35m|\u001b[0m\u001b[38;5;183m\n",
      "\u001b[35m|\u001b[0m\u001b[38;5;183m                 LinearSVC_4                 \u001b[35m|\u001b[0m\u001b[38;5;183m                  LinearSVC(dual=False)                   \u001b[35m|\u001b[0m\u001b[38;5;183m  0.3321061049516872 \u001b[35m|\u001b[0m\u001b[38;5;183m  0.4182736455463728 \u001b[35m|\u001b[0m\u001b[38;5;183m  0.3933671968822942 \u001b[35m|\u001b[0m\u001b[38;5;183m 0.33007171743788544 \u001b[35m|\u001b[0m\u001b[38;5;183m  19.944521188735962 \u001b[35m|\u001b[0m\u001b[38;5;183m\n",
      "\u001b[35m|\u001b[0m\u001b[38;5;183m                 LinearSVC_3                 \u001b[35m|\u001b[0m\u001b[38;5;183m                   LinearSVC(dual=True)                   \u001b[35m|\u001b[0m\u001b[38;5;183m  0.3319172995235483 \u001b[35m|\u001b[0m\u001b[38;5;183m  0.4180440771349862 \u001b[35m|\u001b[0m\u001b[38;5;183m  0.3930365127324806 \u001b[35m|\u001b[0m\u001b[38;5;183m 0.32991101032659575 \u001b[35m|\u001b[0m\u001b[38;5;183m  2.2656590938568115 \u001b[35m|\u001b[0m\u001b[38;5;183m\n",
      "\u001b[35m|\u001b[0m\u001b[38;5;183m               SGDClassifier_2               \u001b[35m|\u001b[0m\u001b[38;5;183m           SGDClassifier(loss='squared_hinge')            \u001b[35m|\u001b[0m\u001b[38;5;183m 0.33120561939477244 \u001b[35m|\u001b[0m\u001b[38;5;183m 0.41815886134067953 \u001b[35m|\u001b[0m\u001b[38;5;183m 0.39119440625399826 \u001b[35m|\u001b[0m\u001b[38;5;183m 0.32984530792406086 \u001b[35m|\u001b[0m\u001b[38;5;183m  0.7017562389373779 \u001b[35m|\u001b[0m\u001b[38;5;183m\n",
      "\u001b[35m|\u001b[0m\u001b[38;5;183m           LinearSVC_on_new_split_1          \u001b[35m|\u001b[0m\u001b[38;5;183m               LinearSVC(C=0.5, dual=True)                \u001b[35m|\u001b[0m\u001b[38;5;183m  0.3298687699828009 \u001b[35m|\u001b[0m\u001b[38;5;183m 0.42520287857908434 \u001b[35m|\u001b[0m\u001b[38;5;183m  0.4087253401918667 \u001b[35m|\u001b[0m\u001b[38;5;183m 0.32872344618509214 \u001b[35m|\u001b[0m\u001b[38;5;183m  2.0748181343078613 \u001b[35m|\u001b[0m\u001b[38;5;183m\n",
      "\u001b[35m|\u001b[0m\u001b[38;5;183m           LinearSVC_on_new_split_2          \u001b[35m|\u001b[0m\u001b[38;5;183m               LinearSVC(C=0.5, dual=False)               \u001b[35m|\u001b[0m\u001b[38;5;183m 0.32985956065190003 \u001b[35m|\u001b[0m\u001b[38;5;183m 0.42520287857908434 \u001b[35m|\u001b[0m\u001b[38;5;183m  0.4084827111977346 \u001b[35m|\u001b[0m\u001b[38;5;183m 0.32872344618509214 \u001b[35m|\u001b[0m\u001b[38;5;183m  17.40460968017578  \u001b[35m|\u001b[0m\u001b[38;5;183m\n",
      "\u001b[35m|\u001b[0m\u001b[38;5;183m         balanced_up_SGDClassifier_4         \u001b[35m|\u001b[0m\u001b[38;5;183m     SGDClassifier(alpha=0.001, loss='squared_hinge')     \u001b[35m|\u001b[0m\u001b[38;5;183m  0.3297018559190276 \u001b[35m|\u001b[0m\u001b[38;5;183m  0.3469926538108356 \u001b[35m|\u001b[0m\u001b[38;5;183m 0.32986600761285945 \u001b[35m|\u001b[0m\u001b[38;5;183m  0.360376711014453  \u001b[35m|\u001b[0m\u001b[38;5;183m  1.1483893394470215 \u001b[35m|\u001b[0m\u001b[38;5;183m\n",
      "\u001b[35m|\u001b[0m\u001b[38;5;183m        RidgeClassifier_on_new_split_1       \u001b[35m|\u001b[0m\u001b[38;5;183m                    RidgeClassifier()                     \u001b[35m|\u001b[0m\u001b[38;5;183m 0.32929800569350115 \u001b[35m|\u001b[0m\u001b[38;5;183m 0.42489664676159855 \u001b[35m|\u001b[0m\u001b[38;5;183m  0.4138368678032734 \u001b[35m|\u001b[0m\u001b[38;5;183m  0.327534512591764  \u001b[35m|\u001b[0m\u001b[38;5;183m  8.536756753921509  \u001b[35m|\u001b[0m\u001b[38;5;183m\n",
      "\u001b[35m|\u001b[0m\u001b[38;5;183m          balanced_down_LinearSVC_2          \u001b[35m|\u001b[0m\u001b[38;5;183m               LinearSVC(C=0.5, dual=False)               \u001b[35m|\u001b[0m\u001b[38;5;183m 0.32773887343561914 \u001b[35m|\u001b[0m\u001b[38;5;183m  0.3375803489439853 \u001b[35m|\u001b[0m\u001b[38;5;183m  0.3288541131178189 \u001b[35m|\u001b[0m\u001b[38;5;183m 0.36157426719362584 \u001b[35m|\u001b[0m\u001b[38;5;183m  7.721214771270752  \u001b[35m|\u001b[0m\u001b[38;5;183m\n",
      "\u001b[35m|\u001b[0m\u001b[38;5;183m          balanced_down_LinearSVC_1          \u001b[35m|\u001b[0m\u001b[38;5;183m               LinearSVC(C=0.5, dual=True)                \u001b[35m|\u001b[0m\u001b[38;5;183m 0.32763221338679943 \u001b[35m|\u001b[0m\u001b[38;5;183m 0.33746556473829203 \u001b[35m|\u001b[0m\u001b[38;5;183m  0.3287491954123542 \u001b[35m|\u001b[0m\u001b[38;5;183m 0.36140704311335836 \u001b[35m|\u001b[0m\u001b[38;5;183m  0.5897958278656006 \u001b[35m|\u001b[0m\u001b[38;5;183m\n",
      "\u001b[35m|\u001b[0m\u001b[38;5;183m          balanced_down_LinearSVC_4          \u001b[35m|\u001b[0m\u001b[38;5;183m                  LinearSVC(dual=False)                   \u001b[35m|\u001b[0m\u001b[38;5;183m  0.3270612244670434 \u001b[35m|\u001b[0m\u001b[38;5;183m 0.33631772268135907 \u001b[35m|\u001b[0m\u001b[38;5;183m 0.32807269691937446 \u001b[35m|\u001b[0m\u001b[38;5;183m 0.35917402310506813 \u001b[35m|\u001b[0m\u001b[38;5;183m  11.214487791061401 \u001b[35m|\u001b[0m\u001b[38;5;183m\n",
      "\u001b[35m|\u001b[0m\u001b[38;5;183m          balanced_down_LinearSVC_3          \u001b[35m|\u001b[0m\u001b[38;5;183m                   LinearSVC(dual=True)                   \u001b[35m|\u001b[0m\u001b[38;5;183m 0.32696507085597865 \u001b[35m|\u001b[0m\u001b[38;5;183m 0.33620293847566574 \u001b[35m|\u001b[0m\u001b[38;5;183m 0.32802603646384126 \u001b[35m|\u001b[0m\u001b[38;5;183m  0.3591420819252833 \u001b[35m|\u001b[0m\u001b[38;5;183m  0.7924866676330566 \u001b[35m|\u001b[0m\u001b[38;5;183m\n",
      "\u001b[35m|\u001b[0m\u001b[38;5;183m balanced_down_PassiveAggressiveClassifier_4 \u001b[35m|\u001b[0m\u001b[38;5;183m    PassiveAggressiveClassifier(loss='squared_hinge')     \u001b[35m|\u001b[0m\u001b[38;5;183m  0.3266651542282203 \u001b[35m|\u001b[0m\u001b[38;5;183m 0.33562901744719925 \u001b[35m|\u001b[0m\u001b[38;5;183m 0.32773862771539114 \u001b[35m|\u001b[0m\u001b[38;5;183m  0.3555313217699003 \u001b[35m|\u001b[0m\u001b[38;5;183m  0.5500304698944092 \u001b[35m|\u001b[0m\u001b[38;5;183m\n",
      "\u001b[35m|\u001b[0m\u001b[38;5;183m balanced_down_PassiveAggressiveClassifier_1 \u001b[35m|\u001b[0m\u001b[38;5;183m            PassiveAggressiveClassifier(C=0.5)            \u001b[35m|\u001b[0m\u001b[38;5;183m  0.3265224344248293 \u001b[35m|\u001b[0m\u001b[38;5;183m 0.33597337006427913 \u001b[35m|\u001b[0m\u001b[38;5;183m 0.32756588753166627 \u001b[35m|\u001b[0m\u001b[38;5;183m  0.3552355319899986 \u001b[35m|\u001b[0m\u001b[38;5;183m 0.48305416107177734 \u001b[35m|\u001b[0m\u001b[38;5;183m\n",
      "\u001b[35m|\u001b[0m\u001b[38;5;183m balanced_down_PassiveAggressiveClassifier_2 \u001b[35m|\u001b[0m\u001b[38;5;183m PassiveAggressiveClassifier(C=0.5, loss='squared_hinge') \u001b[35m|\u001b[0m\u001b[38;5;183m   0.32641006623478  \u001b[35m|\u001b[0m\u001b[38;5;183m 0.33539944903581265 \u001b[35m|\u001b[0m\u001b[38;5;183m  0.3276685112383595 \u001b[35m|\u001b[0m\u001b[38;5;183m  0.3555937328581236 \u001b[35m|\u001b[0m\u001b[38;5;183m  0.5649764537811279 \u001b[35m|\u001b[0m\u001b[38;5;183m\n",
      "\u001b[35m|\u001b[0m\u001b[38;5;183m        balanced_down_SGDClassifier_1        \u001b[35m|\u001b[0m\u001b[38;5;183m                     SGDClassifier()                      \u001b[35m|\u001b[0m\u001b[38;5;183m 0.32613168600215403 \u001b[35m|\u001b[0m\u001b[38;5;183m 0.33528466483011937 \u001b[35m|\u001b[0m\u001b[38;5;183m  0.3274831631981577 \u001b[35m|\u001b[0m\u001b[38;5;183m  0.3587738446707098 \u001b[35m|\u001b[0m\u001b[38;5;183m  0.744513750076294  \u001b[35m|\u001b[0m\u001b[38;5;183m\n",
      "\u001b[35m|\u001b[0m\u001b[38;5;183m        balanced_down_SGDClassifier_2        \u001b[35m|\u001b[0m\u001b[38;5;183m           SGDClassifier(loss='squared_hinge')            \u001b[35m|\u001b[0m\u001b[38;5;183m  0.3260430647563278 \u001b[35m|\u001b[0m\u001b[38;5;183m 0.33539944903581265 \u001b[35m|\u001b[0m\u001b[38;5;183m  0.3278326951994882 \u001b[35m|\u001b[0m\u001b[38;5;183m  0.3565758353967322 \u001b[35m|\u001b[0m\u001b[38;5;183m 0.36994123458862305 \u001b[35m|\u001b[0m\u001b[38;5;183m\n",
      "\u001b[35m|\u001b[0m\u001b[38;5;183m balanced_down_PassiveAggressiveClassifier_3 \u001b[35m|\u001b[0m\u001b[38;5;183m              PassiveAggressiveClassifier()               \u001b[35m|\u001b[0m\u001b[38;5;183m  0.3257138658474872 \u001b[35m|\u001b[0m\u001b[38;5;183m  0.3351698806244261 \u001b[35m|\u001b[0m\u001b[38;5;183m  0.3269277778162724 \u001b[35m|\u001b[0m\u001b[38;5;183m  0.354541836690772  \u001b[35m|\u001b[0m\u001b[38;5;183m 0.48276329040527344 \u001b[35m|\u001b[0m\u001b[38;5;183m\n",
      "\u001b[35m|\u001b[0m\u001b[38;5;183m               SGDClassifier_1               \u001b[35m|\u001b[0m\u001b[38;5;183m                     SGDClassifier()                      \u001b[35m|\u001b[0m\u001b[38;5;183m  0.3254100694527408 \u001b[35m|\u001b[0m\u001b[38;5;183m  0.421831955922865  \u001b[35m|\u001b[0m\u001b[38;5;183m  0.3908432937670748 \u001b[35m|\u001b[0m\u001b[38;5;183m  0.330126314863204  \u001b[35m|\u001b[0m\u001b[38;5;183m  1.3522629737854004 \u001b[35m|\u001b[0m\u001b[38;5;183m\n",
      "\u001b[35m|\u001b[0m\u001b[38;5;183m        balanced_down_SGDClassifier_5        \u001b[35m|\u001b[0m\u001b[38;5;183m                SGDClassifier(alpha=0.01)                 \u001b[35m|\u001b[0m\u001b[38;5;183m  0.3229710056229921 \u001b[35m|\u001b[0m\u001b[38;5;183m 0.33884297520661155 \u001b[35m|\u001b[0m\u001b[38;5;183m  0.3252930736242495 \u001b[35m|\u001b[0m\u001b[38;5;183m  0.3593746728683175 \u001b[35m|\u001b[0m\u001b[38;5;183m 0.34192752838134766 \u001b[35m|\u001b[0m\u001b[38;5;183m\n",
      "\u001b[35m|\u001b[0m\u001b[38;5;183m        balanced_down_SGDClassifier_3        \u001b[35m|\u001b[0m\u001b[38;5;183m                SGDClassifier(alpha=0.001)                \u001b[35m|\u001b[0m\u001b[38;5;183m  0.3220631385033585 \u001b[35m|\u001b[0m\u001b[38;5;183m 0.33562901744719925 \u001b[35m|\u001b[0m\u001b[38;5;183m  0.3260011408031551 \u001b[35m|\u001b[0m\u001b[38;5;183m  0.3597884916396442 \u001b[35m|\u001b[0m\u001b[38;5;183m  0.5508220195770264 \u001b[35m|\u001b[0m\u001b[38;5;183m\n",
      "\u001b[35m|\u001b[0m\u001b[38;5;183m               SGDClassifier_5               \u001b[35m|\u001b[0m\u001b[38;5;183m                SGDClassifier(alpha=0.01)                 \u001b[35m|\u001b[0m\u001b[38;5;183m  0.3218695846929628 \u001b[35m|\u001b[0m\u001b[38;5;183m  0.4176997245179063 \u001b[35m|\u001b[0m\u001b[38;5;183m  0.3777538744546771 \u001b[35m|\u001b[0m\u001b[38;5;183m 0.32768503438448743 \u001b[35m|\u001b[0m\u001b[38;5;183m  0.686985969543457  \u001b[35m|\u001b[0m\u001b[38;5;183m\n",
      "\u001b[35m|\u001b[0m\u001b[38;5;183m         balanced_up_SGDClassifier_5         \u001b[35m|\u001b[0m\u001b[38;5;183m                SGDClassifier(alpha=0.01)                 \u001b[35m|\u001b[0m\u001b[38;5;183m 0.32132581179289177 \u001b[35m|\u001b[0m\u001b[38;5;183m  0.3339072543617998 \u001b[35m|\u001b[0m\u001b[38;5;183m  0.3285885685139244 \u001b[35m|\u001b[0m\u001b[38;5;183m  0.3609134217208842 \u001b[35m|\u001b[0m\u001b[38;5;183m  0.7992362976074219 \u001b[35m|\u001b[0m\u001b[38;5;183m\n",
      "\u001b[35m|\u001b[0m\u001b[38;5;183m               SGDClassifier_3               \u001b[35m|\u001b[0m\u001b[38;5;183m                SGDClassifier(alpha=0.001)                \u001b[35m|\u001b[0m\u001b[38;5;183m  0.3210552811365094 \u001b[35m|\u001b[0m\u001b[38;5;183m 0.41792929292929293 \u001b[35m|\u001b[0m\u001b[38;5;183m 0.38824310283529273 \u001b[35m|\u001b[0m\u001b[38;5;183m 0.32499710356997485 \u001b[35m|\u001b[0m\u001b[38;5;183m  0.7130215167999268 \u001b[35m|\u001b[0m\u001b[38;5;183m\n",
      "\u001b[35m|\u001b[0m\u001b[38;5;183m         balanced_up_SGDClassifier_3         \u001b[35m|\u001b[0m\u001b[38;5;183m                SGDClassifier(alpha=0.001)                \u001b[35m|\u001b[0m\u001b[38;5;183m  0.319792840240479  \u001b[35m|\u001b[0m\u001b[38;5;183m 0.33264462809917356 \u001b[35m|\u001b[0m\u001b[38;5;183m 0.32650469855979836 \u001b[35m|\u001b[0m\u001b[38;5;183m 0.35885666471185457 \u001b[35m|\u001b[0m\u001b[38;5;183m  0.7816030979156494 \u001b[35m|\u001b[0m\u001b[38;5;183m\n",
      "\u001b[35m|\u001b[0m\u001b[38;5;183m        RidgeClassifier_on_new_split_2       \u001b[35m|\u001b[0m\u001b[38;5;183m                RidgeClassifier(alpha=1.5)                \u001b[35m|\u001b[0m\u001b[38;5;183m 0.31791072857355307 \u001b[35m|\u001b[0m\u001b[38;5;183m 0.42244679222171183 \u001b[35m|\u001b[0m\u001b[38;5;183m  0.4313551443530728 \u001b[35m|\u001b[0m\u001b[38;5;183m 0.31913004779088805 \u001b[35m|\u001b[0m\u001b[38;5;183m  4.199077367782593  \u001b[35m|\u001b[0m\u001b[38;5;183m\n",
      "\u001b[35m|\u001b[0m\u001b[38;5;183m        balanced_down_SGDClassifier_4        \u001b[35m|\u001b[0m\u001b[38;5;183m     SGDClassifier(alpha=0.001, loss='squared_hinge')     \u001b[35m|\u001b[0m\u001b[38;5;183m 0.31688037185742346 \u001b[35m|\u001b[0m\u001b[38;5;183m  0.3314967860422406 \u001b[35m|\u001b[0m\u001b[38;5;183m  0.3187771407938559 \u001b[35m|\u001b[0m\u001b[38;5;183m 0.35291751915243974 \u001b[35m|\u001b[0m\u001b[38;5;183m  0.5074965953826904 \u001b[35m|\u001b[0m\u001b[38;5;183m\n",
      "\u001b[35m|\u001b[0m\u001b[38;5;183m                 LinearSVC_1                 \u001b[35m|\u001b[0m\u001b[38;5;183m               LinearSVC(C=0.5, dual=True)                \u001b[35m|\u001b[0m\u001b[38;5;183m 0.31614160266668756 \u001b[35m|\u001b[0m\u001b[38;5;183m 0.41689623507805323 \u001b[35m|\u001b[0m\u001b[38;5;183m  0.4041104052756137 \u001b[35m|\u001b[0m\u001b[38;5;183m  0.3196282154238117 \u001b[35m|\u001b[0m\u001b[38;5;183m  1.3910486698150635 \u001b[35m|\u001b[0m\u001b[38;5;183m\n",
      "\u001b[35m|\u001b[0m\u001b[38;5;183m                 LinearSVC_2                 \u001b[35m|\u001b[0m\u001b[38;5;183m               LinearSVC(C=0.5, dual=False)               \u001b[35m|\u001b[0m\u001b[38;5;183m 0.31606284832742937 \u001b[35m|\u001b[0m\u001b[38;5;183m 0.41678145087235996 \u001b[35m|\u001b[0m\u001b[38;5;183m  0.4039812096526302 \u001b[35m|\u001b[0m\u001b[38;5;183m  0.3195625770910254 \u001b[35m|\u001b[0m\u001b[38;5;183m  14.05469822883606  \u001b[35m|\u001b[0m\u001b[38;5;183m\n",
      "\u001b[35m|\u001b[0m\u001b[38;5;183m              RidgeClassifier_1              \u001b[35m|\u001b[0m\u001b[38;5;183m                    RidgeClassifier()                     \u001b[35m|\u001b[0m\u001b[38;5;183m 0.31515988564747044 \u001b[35m|\u001b[0m\u001b[38;5;183m  0.4166666666666667 \u001b[35m|\u001b[0m\u001b[38;5;183m 0.40408839863906837 \u001b[35m|\u001b[0m\u001b[38;5;183m 0.31817738369974297 \u001b[35m|\u001b[0m\u001b[38;5;183m  5.696135520935059  \u001b[35m|\u001b[0m\u001b[38;5;183m\n",
      "\u001b[35m|\u001b[0m\u001b[38;5;183m        LGBMClassifier_on_new_split_1        \u001b[35m|\u001b[0m\u001b[38;5;183m     LGBMClassifier(max_depth=500, n_estimators=500)      \u001b[35m|\u001b[0m\u001b[38;5;183m 0.30888351850679796 \u001b[35m|\u001b[0m\u001b[38;5;183m 0.38493339457969683 \u001b[35m|\u001b[0m\u001b[38;5;183m 0.33529993040177375 \u001b[35m|\u001b[0m\u001b[38;5;183m 0.30522552392039193 \u001b[35m|\u001b[0m\u001b[38;5;183m   190.33291888237   \u001b[35m|\u001b[0m\u001b[38;5;183m\n",
      "\u001b[35m|\u001b[0m\u001b[38;5;183m              RidgeClassifier_2              \u001b[35m|\u001b[0m\u001b[38;5;183m                RidgeClassifier(alpha=1.5)                \u001b[35m|\u001b[0m\u001b[38;5;183m  0.304017897347683  \u001b[35m|\u001b[0m\u001b[38;5;183m  0.4182736455463728 \u001b[35m|\u001b[0m\u001b[38;5;183m  0.4160574614311262 \u001b[35m|\u001b[0m\u001b[38;5;183m 0.31183687501620616 \u001b[35m|\u001b[0m\u001b[38;5;183m  4.070607900619507  \u001b[35m|\u001b[0m\u001b[38;5;183m\n",
      "\u001b[35m|\u001b[0m\u001b[38;5;183m        RidgeClassifier_on_new_split_3       \u001b[35m|\u001b[0m\u001b[38;5;183m                 RidgeClassifier(alpha=2)                 \u001b[35m|\u001b[0m\u001b[38;5;183m 0.30321885704601065 \u001b[35m|\u001b[0m\u001b[38;5;183m  0.4187720104118818 \u001b[35m|\u001b[0m\u001b[38;5;183m  0.4349867717684767 \u001b[35m|\u001b[0m\u001b[38;5;183m 0.30976011759331923 \u001b[35m|\u001b[0m\u001b[38;5;183m  6.898906946182251  \u001b[35m|\u001b[0m\u001b[38;5;183m\n",
      "\u001b[35m|\u001b[0m\u001b[38;5;183m        balanced_down_SGDClassifier_6        \u001b[35m|\u001b[0m\u001b[38;5;183m     SGDClassifier(alpha=0.01, loss='squared_hinge')      \u001b[35m|\u001b[0m\u001b[38;5;183m  0.3005889260904983 \u001b[35m|\u001b[0m\u001b[38;5;183m  0.3176078971533517 \u001b[35m|\u001b[0m\u001b[38;5;183m 0.31172724581993655 \u001b[35m|\u001b[0m\u001b[38;5;183m 0.34169790826549573 \u001b[35m|\u001b[0m\u001b[38;5;183m  0.4348726272583008 \u001b[35m|\u001b[0m\u001b[38;5;183m\n",
      "\u001b[35m|\u001b[0m\u001b[38;5;183m               LGBMClassifier_1              \u001b[35m|\u001b[0m\u001b[38;5;183m     LGBMClassifier(max_depth=500, n_estimators=500)      \u001b[35m|\u001b[0m\u001b[38;5;183m 0.30019029364950034 \u001b[35m|\u001b[0m\u001b[38;5;183m  0.3736225895316804 \u001b[35m|\u001b[0m\u001b[38;5;183m 0.33946812529970216 \u001b[35m|\u001b[0m\u001b[38;5;183m  0.2942243923212533 \u001b[35m|\u001b[0m\u001b[38;5;183m  342.1225073337555  \u001b[35m|\u001b[0m\u001b[38;5;183m\n",
      "\u001b[35m|\u001b[0m\u001b[38;5;183m         balanced_up_SGDClassifier_6         \u001b[35m|\u001b[0m\u001b[38;5;183m     SGDClassifier(alpha=0.01, loss='squared_hinge')      \u001b[35m|\u001b[0m\u001b[38;5;183m 0.29955873600262606 \u001b[35m|\u001b[0m\u001b[38;5;183m 0.31290174471992654 \u001b[35m|\u001b[0m\u001b[38;5;183m  0.3149266286924837 \u001b[35m|\u001b[0m\u001b[38;5;183m  0.3446522380677247 \u001b[35m|\u001b[0m\u001b[38;5;183m  0.9637253284454346 \u001b[35m|\u001b[0m\u001b[38;5;183m\n",
      "\u001b[35m|\u001b[0m\u001b[38;5;183m              RidgeClassifier_3              \u001b[35m|\u001b[0m\u001b[38;5;183m                 RidgeClassifier(alpha=2)                 \u001b[35m|\u001b[0m\u001b[38;5;183m  0.2978812215459704 \u001b[35m|\u001b[0m\u001b[38;5;183m  0.4195362718089991 \u001b[35m|\u001b[0m\u001b[38;5;183m  0.4418656397347389 \u001b[35m|\u001b[0m\u001b[38;5;183m 0.30825142380857046 \u001b[35m|\u001b[0m\u001b[38;5;183m  4.825464487075806  \u001b[35m|\u001b[0m\u001b[38;5;183m\n",
      "\u001b[35m|\u001b[0m\u001b[38;5;183m              SVC_on_new_split_2             \u001b[35m|\u001b[0m\u001b[38;5;183m                  SVC(kernel='sigmoid')                   \u001b[35m|\u001b[0m\u001b[38;5;183m  0.2794331528993991 \u001b[35m|\u001b[0m\u001b[38;5;183m 0.41494411269330883 \u001b[35m|\u001b[0m\u001b[38;5;183m  0.5456940160100261 \u001b[35m|\u001b[0m\u001b[38;5;183m 0.29515925795787457 \u001b[35m|\u001b[0m\u001b[38;5;183m  366.8747308254242  \u001b[35m|\u001b[0m\u001b[38;5;183m\n",
      "\u001b[35m|\u001b[0m\u001b[38;5;183m              KNN_on_new_split_2             \u001b[35m|\u001b[0m\u001b[38;5;183m                  KNeighborsClassifier()                  \u001b[35m|\u001b[0m\u001b[38;5;183m  0.2759041893037315 \u001b[35m|\u001b[0m\u001b[38;5;183m  0.3572194150972286 \u001b[35m|\u001b[0m\u001b[38;5;183m 0.29303138997568723 \u001b[35m|\u001b[0m\u001b[38;5;183m  0.2783604603142554 \u001b[35m|\u001b[0m\u001b[38;5;183m  5.031814098358154  \u001b[35m|\u001b[0m\u001b[38;5;183m\n",
      "\u001b[35m|\u001b[0m\u001b[38;5;183m              KNN_on_new_split_3             \u001b[35m|\u001b[0m\u001b[38;5;183m           KNeighborsClassifier(n_neighbors=7)            \u001b[35m|\u001b[0m\u001b[38;5;183m  0.2754391678355843 \u001b[35m|\u001b[0m\u001b[38;5;183m  0.3638033991731741 \u001b[35m|\u001b[0m\u001b[38;5;183m 0.30305397513725185 \u001b[35m|\u001b[0m\u001b[38;5;183m  0.2777547544499422 \u001b[35m|\u001b[0m\u001b[38;5;183m  5.0795135498046875 \u001b[35m|\u001b[0m\u001b[38;5;183m\n",
      "\u001b[35m|\u001b[0m\u001b[38;5;183m                    SVC_2                    \u001b[35m|\u001b[0m\u001b[38;5;183m                  SVC(kernel='sigmoid')                   \u001b[35m|\u001b[0m\u001b[38;5;183m 0.27347154948321195 \u001b[35m|\u001b[0m\u001b[38;5;183m 0.41058310376492196 \u001b[35m|\u001b[0m\u001b[38;5;183m  0.5025363930891102 \u001b[35m|\u001b[0m\u001b[38;5;183m 0.29046111184250384 \u001b[35m|\u001b[0m\u001b[38;5;183m  377.51364183425903 \u001b[35m|\u001b[0m\u001b[38;5;183m\n",
      "\u001b[35m|\u001b[0m\u001b[38;5;183m                    KNN_2                    \u001b[35m|\u001b[0m\u001b[38;5;183m                  KNeighborsClassifier()                  \u001b[35m|\u001b[0m\u001b[38;5;183m  0.2720166812189435 \u001b[35m|\u001b[0m\u001b[38;5;183m  0.3496326905417815 \u001b[35m|\u001b[0m\u001b[38;5;183m  0.2888261686967606 \u001b[35m|\u001b[0m\u001b[38;5;183m  0.2759121644368684 \u001b[35m|\u001b[0m\u001b[38;5;183m  5.653038740158081  \u001b[35m|\u001b[0m\u001b[38;5;183m\n",
      "\u001b[35m|\u001b[0m\u001b[38;5;183m              KNN_on_new_split_1             \u001b[35m|\u001b[0m\u001b[38;5;183m           KNeighborsClassifier(n_neighbors=3)            \u001b[35m|\u001b[0m\u001b[38;5;183m 0.26911656512418475 \u001b[35m|\u001b[0m\u001b[38;5;183m  0.3210840606338999 \u001b[35m|\u001b[0m\u001b[38;5;183m  0.2850651385621484 \u001b[35m|\u001b[0m\u001b[38;5;183m  0.2798422375657584 \u001b[35m|\u001b[0m\u001b[38;5;183m  5.250797748565674  \u001b[35m|\u001b[0m\u001b[38;5;183m\n",
      "\u001b[35m|\u001b[0m\u001b[38;5;183m                    KNN_3                    \u001b[35m|\u001b[0m\u001b[38;5;183m           KNeighborsClassifier(n_neighbors=7)            \u001b[35m|\u001b[0m\u001b[38;5;183m  0.2679530490288469 \u001b[35m|\u001b[0m\u001b[38;5;183m 0.35215794306703396 \u001b[35m|\u001b[0m\u001b[38;5;183m  0.2894886904892481 \u001b[35m|\u001b[0m\u001b[38;5;183m  0.2727239516555519 \u001b[35m|\u001b[0m\u001b[38;5;183m  5.677108526229858  \u001b[35m|\u001b[0m\u001b[38;5;183m\n",
      "\u001b[35m|\u001b[0m\u001b[38;5;183m      LogisticRegression_on_new_split_2      \u001b[35m|\u001b[0m\u001b[38;5;183m                   LogisticRegression()                   \u001b[35m|\u001b[0m\u001b[38;5;183m  0.2663740722499507 \u001b[35m|\u001b[0m\u001b[38;5;183m 0.40989128770479255 \u001b[35m|\u001b[0m\u001b[38;5;183m 0.45491226166059473 \u001b[35m|\u001b[0m\u001b[38;5;183m 0.28515342542484473 \u001b[35m|\u001b[0m\u001b[38;5;183m  48.71859622001648  \u001b[35m|\u001b[0m\u001b[38;5;183m\n",
      "\u001b[35m|\u001b[0m\u001b[38;5;183m             LogisticRegression_2            \u001b[35m|\u001b[0m\u001b[38;5;183m                   LogisticRegression()                   \u001b[35m|\u001b[0m\u001b[38;5;183m 0.26341030850243363 \u001b[35m|\u001b[0m\u001b[38;5;183m  0.4116161616161616 \u001b[35m|\u001b[0m\u001b[38;5;183m  0.4542215508363583 \u001b[35m|\u001b[0m\u001b[38;5;183m 0.28449292071434745 \u001b[35m|\u001b[0m\u001b[38;5;183m  43.710068464279175 \u001b[35m|\u001b[0m\u001b[38;5;183m\n",
      "\u001b[35m|\u001b[0m\u001b[38;5;183m                    KNN_1                    \u001b[35m|\u001b[0m\u001b[38;5;183m           KNeighborsClassifier(n_neighbors=3)            \u001b[35m|\u001b[0m\u001b[38;5;183m 0.25190393249732723 \u001b[35m|\u001b[0m\u001b[38;5;183m 0.29981634527089074 \u001b[35m|\u001b[0m\u001b[38;5;183m 0.26724986927721195 \u001b[35m|\u001b[0m\u001b[38;5;183m  0.2653164874705564 \u001b[35m|\u001b[0m\u001b[38;5;183m  5.509373426437378  \u001b[35m|\u001b[0m\u001b[38;5;183m\n",
      "\u001b[35m|\u001b[0m\u001b[38;5;183m         SGDClassifier_on_new_split_4        \u001b[35m|\u001b[0m\u001b[38;5;183m     SGDClassifier(alpha=0.001, loss='squared_hinge')     \u001b[35m|\u001b[0m\u001b[38;5;183m 0.24062557565633105 \u001b[35m|\u001b[0m\u001b[38;5;183m  0.4013167968151891 \u001b[35m|\u001b[0m\u001b[38;5;183m  0.4950583823432151 \u001b[35m|\u001b[0m\u001b[38;5;183m 0.26702543188459227 \u001b[35m|\u001b[0m\u001b[38;5;183m  1.2292451858520508 \u001b[35m|\u001b[0m\u001b[38;5;183m\n",
      "\u001b[35m|\u001b[0m\u001b[38;5;183m      LogisticRegression_on_new_split_1      \u001b[35m|\u001b[0m\u001b[38;5;183m                LogisticRegression(C=0.5)                 \u001b[35m|\u001b[0m\u001b[38;5;183m 0.23104910549819663 \u001b[35m|\u001b[0m\u001b[38;5;183m  0.3965702036441586 \u001b[35m|\u001b[0m\u001b[38;5;183m  0.296596811270174  \u001b[35m|\u001b[0m\u001b[38;5;183m 0.25983030392436113 \u001b[35m|\u001b[0m\u001b[38;5;183m  25.654085397720337 \u001b[35m|\u001b[0m\u001b[38;5;183m\n",
      "\u001b[35m|\u001b[0m\u001b[38;5;183m               SGDClassifier_4               \u001b[35m|\u001b[0m\u001b[38;5;183m     SGDClassifier(alpha=0.001, loss='squared_hinge')     \u001b[35m|\u001b[0m\u001b[38;5;183m 0.23049829634589697 \u001b[35m|\u001b[0m\u001b[38;5;183m 0.39726813590449955 \u001b[35m|\u001b[0m\u001b[38;5;183m  0.5314285409634073 \u001b[35m|\u001b[0m\u001b[38;5;183m  0.2616099768734297 \u001b[35m|\u001b[0m\u001b[38;5;183m  0.9296162128448486 \u001b[35m|\u001b[0m\u001b[38;5;183m\n",
      "\u001b[35m|\u001b[0m\u001b[38;5;183m             LogisticRegression_1            \u001b[35m|\u001b[0m\u001b[38;5;183m                LogisticRegression(C=0.5)                 \u001b[35m|\u001b[0m\u001b[38;5;183m 0.22323922238640118 \u001b[35m|\u001b[0m\u001b[38;5;183m  0.3957759412304867 \u001b[35m|\u001b[0m\u001b[38;5;183m  0.5231371374660111 \u001b[35m|\u001b[0m\u001b[38;5;183m  0.2563329340856686 \u001b[35m|\u001b[0m\u001b[38;5;183m  22.090871334075928 \u001b[35m|\u001b[0m\u001b[38;5;183m\n",
      "\u001b[35m|\u001b[0m\u001b[38;5;183m         ComplementNB_on_new_split_1         \u001b[35m|\u001b[0m\u001b[38;5;183m                 ComplementNB(alpha=0.5)                  \u001b[35m|\u001b[0m\u001b[38;5;183m 0.18689321313405818 \u001b[35m|\u001b[0m\u001b[38;5;183m  0.3815648445873526 \u001b[35m|\u001b[0m\u001b[38;5;183m  0.5949698131631946 \u001b[35m|\u001b[0m\u001b[38;5;183m  0.2349623744632888 \u001b[35m|\u001b[0m\u001b[38;5;183m 0.22800922393798828 \u001b[35m|\u001b[0m\u001b[38;5;183m\n",
      "\u001b[35m|\u001b[0m\u001b[38;5;183m         ComplementNB_on_new_split_2         \u001b[35m|\u001b[0m\u001b[38;5;183m         ComplementNB(alpha=0.5, fit_prior=False)         \u001b[35m|\u001b[0m\u001b[38;5;183m 0.18689321313405818 \u001b[35m|\u001b[0m\u001b[38;5;183m  0.3815648445873526 \u001b[35m|\u001b[0m\u001b[38;5;183m  0.5949698131631946 \u001b[35m|\u001b[0m\u001b[38;5;183m  0.2349623744632888 \u001b[35m|\u001b[0m\u001b[38;5;183m 0.23905277252197266 \u001b[35m|\u001b[0m\u001b[38;5;183m\n",
      "\u001b[35m|\u001b[0m\u001b[38;5;183m                ComplementNB_1               \u001b[35m|\u001b[0m\u001b[38;5;183m                 ComplementNB(alpha=0.5)                  \u001b[35m|\u001b[0m\u001b[38;5;183m 0.18164626481284205 \u001b[35m|\u001b[0m\u001b[38;5;183m 0.38073921028466484 \u001b[35m|\u001b[0m\u001b[38;5;183m  0.5927774403033594 \u001b[35m|\u001b[0m\u001b[38;5;183m  0.2341804634273863 \u001b[35m|\u001b[0m\u001b[38;5;183m 0.23320674896240234 \u001b[35m|\u001b[0m\u001b[38;5;183m\n",
      "\u001b[35m|\u001b[0m\u001b[38;5;183m                ComplementNB_2               \u001b[35m|\u001b[0m\u001b[38;5;183m         ComplementNB(alpha=0.5, fit_prior=False)         \u001b[35m|\u001b[0m\u001b[38;5;183m 0.18164626481284205 \u001b[35m|\u001b[0m\u001b[38;5;183m 0.38073921028466484 \u001b[35m|\u001b[0m\u001b[38;5;183m  0.5927774403033594 \u001b[35m|\u001b[0m\u001b[38;5;183m  0.2341804634273863 \u001b[35m|\u001b[0m\u001b[38;5;183m 0.21078944206237793 \u001b[35m|\u001b[0m\u001b[38;5;183m\n",
      "\u001b[35m|\u001b[0m\u001b[38;5;183m             multiclass_LinearSVC            \u001b[35m|\u001b[0m\u001b[38;5;183m                       LinearSVC()                        \u001b[35m|\u001b[0m\u001b[38;5;183m   0.17229954545385  \u001b[35m|\u001b[0m\u001b[38;5;183m 0.25206611570247933 \u001b[35m|\u001b[0m\u001b[38;5;183m  0.3775517309913491 \u001b[35m|\u001b[0m\u001b[38;5;183m  0.2289482888700806 \u001b[35m|\u001b[0m\u001b[38;5;183m  5.098578453063965  \u001b[35m|\u001b[0m\u001b[38;5;183m\n",
      "\u001b[35m|\u001b[0m\u001b[38;5;183m    RandomForestClassifier_on_new_split_1    \u001b[35m|\u001b[0m\u001b[38;5;183m          RandomForestClassifier(max_depth=100)           \u001b[35m|\u001b[0m\u001b[38;5;183m  0.1677643867812856 \u001b[35m|\u001b[0m\u001b[38;5;183m 0.36916245597917624 \u001b[35m|\u001b[0m\u001b[38;5;183m  0.4651153827148293 \u001b[35m|\u001b[0m\u001b[38;5;183m 0.22269978917659836 \u001b[35m|\u001b[0m\u001b[38;5;183m  73.59021544456482  \u001b[35m|\u001b[0m\u001b[38;5;183m\n",
      "\u001b[35m|\u001b[0m\u001b[38;5;183m           RandomForestClassifier_1          \u001b[35m|\u001b[0m\u001b[38;5;183m          RandomForestClassifier(max_depth=100)           \u001b[35m|\u001b[0m\u001b[38;5;183m  0.1667955579011338 \u001b[35m|\u001b[0m\u001b[38;5;183m  0.3650137741046832 \u001b[35m|\u001b[0m\u001b[38;5;183m  0.4906779331140371 \u001b[35m|\u001b[0m\u001b[38;5;183m  0.2228104806979297 \u001b[35m|\u001b[0m\u001b[38;5;183m  84.87571024894714  \u001b[35m|\u001b[0m\u001b[38;5;183m\n",
      "\u001b[35m|\u001b[0m\u001b[38;5;183m    multiclass_PassiveAggressiveClassifier   \u001b[35m|\u001b[0m\u001b[38;5;183m              PassiveAggressiveClassifier()               \u001b[35m|\u001b[0m\u001b[38;5;183m  0.1491666934395616 \u001b[35m|\u001b[0m\u001b[38;5;183m  0.2223370064279155 \u001b[35m|\u001b[0m\u001b[38;5;183m 0.42958929616869845 \u001b[35m|\u001b[0m\u001b[38;5;183m  0.2263711677167369 \u001b[35m|\u001b[0m\u001b[38;5;183m  2.1786327362060547 \u001b[35m|\u001b[0m\u001b[38;5;183m\n",
      "\u001b[35m|\u001b[0m\u001b[38;5;183m         ComplementNB_on_new_split_3         \u001b[35m|\u001b[0m\u001b[38;5;183m                      ComplementNB()                      \u001b[35m|\u001b[0m\u001b[38;5;183m 0.14536791952644607 \u001b[35m|\u001b[0m\u001b[38;5;183m 0.36900934007043334 \u001b[35m|\u001b[0m\u001b[38;5;183m  0.557373598431552  \u001b[35m|\u001b[0m\u001b[38;5;183m 0.21647876170503758 \u001b[35m|\u001b[0m\u001b[38;5;183m 0.23233699798583984 \u001b[35m|\u001b[0m\u001b[38;5;183m\n",
      "\u001b[35m|\u001b[0m\u001b[38;5;183m         ComplementNB_on_new_split_4         \u001b[35m|\u001b[0m\u001b[38;5;183m              ComplementNB(fit_prior=False)               \u001b[35m|\u001b[0m\u001b[38;5;183m 0.14536791952644607 \u001b[35m|\u001b[0m\u001b[38;5;183m 0.36900934007043334 \u001b[35m|\u001b[0m\u001b[38;5;183m  0.557373598431552  \u001b[35m|\u001b[0m\u001b[38;5;183m 0.21647876170503758 \u001b[35m|\u001b[0m\u001b[38;5;183m 0.22785639762878418 \u001b[35m|\u001b[0m\u001b[38;5;183m\n",
      "\u001b[35m|\u001b[0m\u001b[38;5;183m                  multiclass                 \u001b[35m|\u001b[0m\u001b[38;5;183m PassiveAggressiveClassifier(C=0.5, loss='squared_hinge') \u001b[35m|\u001b[0m\u001b[38;5;183m 0.14221669416003938 \u001b[35m|\u001b[0m\u001b[38;5;183m 0.21418732782369146 \u001b[35m|\u001b[0m\u001b[38;5;183m  0.4803050453669596 \u001b[35m|\u001b[0m\u001b[38;5;183m  0.2252241294922777 \u001b[35m|\u001b[0m\u001b[38;5;183m  5.265747308731079  \u001b[35m|\u001b[0m\u001b[38;5;183m\n",
      "\u001b[35m|\u001b[0m\u001b[38;5;183m                ComplementNB_3               \u001b[35m|\u001b[0m\u001b[38;5;183m                      ComplementNB()                      \u001b[35m|\u001b[0m\u001b[38;5;183m 0.13896574693903657 \u001b[35m|\u001b[0m\u001b[38;5;183m  0.3635215794306703 \u001b[35m|\u001b[0m\u001b[38;5;183m  0.5424762270272911 \u001b[35m|\u001b[0m\u001b[38;5;183m  0.2142195634485001 \u001b[35m|\u001b[0m\u001b[38;5;183m  0.2218618392944336 \u001b[35m|\u001b[0m\u001b[38;5;183m\n",
      "\u001b[35m|\u001b[0m\u001b[38;5;183m                ComplementNB_4               \u001b[35m|\u001b[0m\u001b[38;5;183m              ComplementNB(fit_prior=False)               \u001b[35m|\u001b[0m\u001b[38;5;183m 0.13896574693903657 \u001b[35m|\u001b[0m\u001b[38;5;183m  0.3635215794306703 \u001b[35m|\u001b[0m\u001b[38;5;183m  0.5424762270272911 \u001b[35m|\u001b[0m\u001b[38;5;183m  0.2142195634485001 \u001b[35m|\u001b[0m\u001b[38;5;183m 0.22723817825317383 \u001b[35m|\u001b[0m\u001b[38;5;183m\n",
      "\u001b[35m|\u001b[0m\u001b[38;5;183m         MultinomialNB_on_new_split_2        \u001b[35m|\u001b[0m\u001b[38;5;183m        MultinomialNB(alpha=0.5, fit_prior=False)         \u001b[35m|\u001b[0m\u001b[38;5;183m  0.1332114805129734 \u001b[35m|\u001b[0m\u001b[38;5;183m  0.3638033991731741 \u001b[35m|\u001b[0m\u001b[38;5;183m   0.33914729625573  \u001b[35m|\u001b[0m\u001b[38;5;183m 0.21030933275678382 \u001b[35m|\u001b[0m\u001b[38;5;183m 0.23099732398986816 \u001b[35m|\u001b[0m\u001b[38;5;183m\n",
      "\u001b[35m|\u001b[0m\u001b[38;5;183m               MultinomialNB_2               \u001b[35m|\u001b[0m\u001b[38;5;183m        MultinomialNB(alpha=0.5, fit_prior=False)         \u001b[35m|\u001b[0m\u001b[38;5;183m  0.1273609830242561 \u001b[35m|\u001b[0m\u001b[38;5;183m 0.35858585858585856 \u001b[35m|\u001b[0m\u001b[38;5;183m  0.5219899767251919 \u001b[35m|\u001b[0m\u001b[38;5;183m  0.208298060694274  \u001b[35m|\u001b[0m\u001b[38;5;183m 0.21587824821472168 \u001b[35m|\u001b[0m\u001b[38;5;183m\n",
      "\u001b[35m|\u001b[0m\u001b[38;5;183m           multiclass_SGDClassifier          \u001b[35m|\u001b[0m\u001b[38;5;183m                     SGDClassifier()                      \u001b[35m|\u001b[0m\u001b[38;5;183m 0.11770903139887397 \u001b[35m|\u001b[0m\u001b[38;5;183m  0.1895087235996327 \u001b[35m|\u001b[0m\u001b[38;5;183m 0.19001693869506053 \u001b[35m|\u001b[0m\u001b[38;5;183m 0.22067939171065473 \u001b[35m|\u001b[0m\u001b[38;5;183m  3.3330962657928467 \u001b[35m|\u001b[0m\u001b[38;5;183m\n",
      "\u001b[35m|\u001b[0m\u001b[38;5;183m         MultinomialNB_on_new_split_4        \u001b[35m|\u001b[0m\u001b[38;5;183m              MultinomialNB(fit_prior=False)              \u001b[35m|\u001b[0m\u001b[38;5;183m 0.11572643077449216 \u001b[35m|\u001b[0m\u001b[38;5;183m 0.35676006737099986 \u001b[35m|\u001b[0m\u001b[38;5;183m  0.3608223986804403 \u001b[35m|\u001b[0m\u001b[38;5;183m 0.20363372321606543 \u001b[35m|\u001b[0m\u001b[38;5;183m  0.2562680244445801 \u001b[35m|\u001b[0m\u001b[38;5;183m\n",
      "\u001b[35m|\u001b[0m\u001b[38;5;183m               MultinomialNB_4               \u001b[35m|\u001b[0m\u001b[38;5;183m              MultinomialNB(fit_prior=False)              \u001b[35m|\u001b[0m\u001b[38;5;183m 0.11391014599586449 \u001b[35m|\u001b[0m\u001b[38;5;183m  0.3538797061524334 \u001b[35m|\u001b[0m\u001b[38;5;183m 0.37393178117532616 \u001b[35m|\u001b[0m\u001b[38;5;183m  0.2036080906731673 \u001b[35m|\u001b[0m\u001b[38;5;183m  0.2264692783355713 \u001b[35m|\u001b[0m\u001b[38;5;183m\n",
      "\u001b[35m|\u001b[0m\u001b[38;5;183m         MultinomialNB_on_new_split_1        \u001b[35m|\u001b[0m\u001b[38;5;183m                 MultinomialNB(alpha=0.5)                 \u001b[35m|\u001b[0m\u001b[38;5;183m 0.11264699863642975 \u001b[35m|\u001b[0m\u001b[38;5;183m  0.3553820241923136 \u001b[35m|\u001b[0m\u001b[38;5;183m  0.1578060325327319 \u001b[35m|\u001b[0m\u001b[38;5;183m 0.20243491296688565 \u001b[35m|\u001b[0m\u001b[38;5;183m 0.22701692581176758 \u001b[35m|\u001b[0m\u001b[38;5;183m\n",
      "\u001b[35m|\u001b[0m\u001b[38;5;183m               MultinomialNB_1               \u001b[35m|\u001b[0m\u001b[38;5;183m                 MultinomialNB(alpha=0.5)                 \u001b[35m|\u001b[0m\u001b[38;5;183m 0.11096695516354471 \u001b[35m|\u001b[0m\u001b[38;5;183m  0.3530762167125803 \u001b[35m|\u001b[0m\u001b[38;5;183m 0.38910532623627453 \u001b[35m|\u001b[0m\u001b[38;5;183m 0.20265256720405883 \u001b[35m|\u001b[0m\u001b[38;5;183m 0.21912384033203125 \u001b[35m|\u001b[0m\u001b[38;5;183m\n",
      "\u001b[35m|\u001b[0m\u001b[38;5;183m           multiclass_ComplementNB           \u001b[35m|\u001b[0m\u001b[38;5;183m                      ComplementNB()                      \u001b[35m|\u001b[0m\u001b[38;5;183m  0.1088052770787817 \u001b[35m|\u001b[0m\u001b[38;5;183m  0.1289026629935721 \u001b[35m|\u001b[0m\u001b[38;5;183m  0.2694228773922708 \u001b[35m|\u001b[0m\u001b[38;5;183m 0.22608689827779488 \u001b[35m|\u001b[0m\u001b[38;5;183m  0.4724705219268799 \u001b[35m|\u001b[0m\u001b[38;5;183m\n",
      "\u001b[35m|\u001b[0m\u001b[38;5;183m         MultinomialNB_on_new_split_3        \u001b[35m|\u001b[0m\u001b[38;5;183m                     MultinomialNB()                      \u001b[35m|\u001b[0m\u001b[38;5;183m 0.10671947612549033 \u001b[35m|\u001b[0m\u001b[38;5;183m  0.3536977491961415 \u001b[35m|\u001b[0m\u001b[38;5;183m 0.17064065140574589 \u001b[35m|\u001b[0m\u001b[38;5;183m  0.2008476297241654 \u001b[35m|\u001b[0m\u001b[38;5;183m  0.2514982223510742 \u001b[35m|\u001b[0m\u001b[38;5;183m\n",
      "\u001b[35m|\u001b[0m\u001b[38;5;183m               MultinomialNB_3               \u001b[35m|\u001b[0m\u001b[38;5;183m                     MultinomialNB()                      \u001b[35m|\u001b[0m\u001b[38;5;183m 0.10543566261284398 \u001b[35m|\u001b[0m\u001b[38;5;183m  0.3506657483930211 \u001b[35m|\u001b[0m\u001b[38;5;183m 0.21666781648844427 \u001b[35m|\u001b[0m\u001b[38;5;183m 0.20068697411373418 \u001b[35m|\u001b[0m\u001b[38;5;183m 0.21570444107055664 \u001b[35m|\u001b[0m\u001b[38;5;183m\n",
      "\u001b[35m|\u001b[0m\u001b[38;5;183m              SVC_on_new_split_1             \u001b[35m|\u001b[0m\u001b[38;5;183m                    SVC(kernel='poly')                    \u001b[35m|\u001b[0m\u001b[38;5;183m 0.10473661110980051 \u001b[35m|\u001b[0m\u001b[38;5;183m  0.3529321696524269 \u001b[35m|\u001b[0m\u001b[38;5;183m 0.27054679123908715 \u001b[35m|\u001b[0m\u001b[38;5;183m  0.2002172732210755 \u001b[35m|\u001b[0m\u001b[38;5;183m   572.945641040802  \u001b[35m|\u001b[0m\u001b[38;5;183m\n",
      "\u001b[35m|\u001b[0m\u001b[38;5;183m                    SVC_1                    \u001b[35m|\u001b[0m\u001b[38;5;183m                    SVC(kernel='poly')                    \u001b[35m|\u001b[0m\u001b[38;5;183m  0.104333899742912  \u001b[35m|\u001b[0m\u001b[38;5;183m 0.35020661157024796 \u001b[35m|\u001b[0m\u001b[38;5;183m 0.22998966348914668 \u001b[35m|\u001b[0m\u001b[38;5;183m 0.20032141422257937 \u001b[35m|\u001b[0m\u001b[38;5;183m   419.924857378006  \u001b[35m|\u001b[0m\u001b[38;5;183m\n",
      "\u001b[35m|\u001b[0m\u001b[38;5;183m         SGDClassifier_on_new_split_6        \u001b[35m|\u001b[0m\u001b[38;5;183m     SGDClassifier(alpha=0.01, loss='squared_hinge')      \u001b[35m|\u001b[0m\u001b[38;5;183m 0.10427892234548335 \u001b[35m|\u001b[0m\u001b[38;5;183m 0.35262593783494106 \u001b[35m|\u001b[0m\u001b[38;5;183m 0.07052518756698821 \u001b[35m|\u001b[0m\u001b[38;5;183m         0.2         \u001b[35m|\u001b[0m\u001b[38;5;183m  0.8677802085876465 \u001b[35m|\u001b[0m\u001b[38;5;183m\n",
      "\u001b[35m|\u001b[0m\u001b[38;5;183m               SGDClassifier_6               \u001b[35m|\u001b[0m\u001b[38;5;183m     SGDClassifier(alpha=0.01, loss='squared_hinge')      \u001b[35m|\u001b[0m\u001b[38;5;183m 0.10364826941066416 \u001b[35m|\u001b[0m\u001b[38;5;183m 0.34974747474747475 \u001b[35m|\u001b[0m\u001b[38;5;183m 0.06994949494949496 \u001b[35m|\u001b[0m\u001b[38;5;183m         0.2         \u001b[35m|\u001b[0m\u001b[38;5;183m  0.8021707534790039 \u001b[35m|\u001b[0m\u001b[38;5;183m\n",
      "\u001b[38;5;219m+\u001b[0m\u001b[38;5;183m\u001b[38;5;147m-\u001b[0m\u001b[38;5;183m\u001b[38;5;147m-\u001b[0m\u001b[38;5;183m\u001b[38;5;147m-\u001b[0m\u001b[38;5;183m\u001b[38;5;147m-\u001b[0m\u001b[38;5;183m\u001b[38;5;147m-\u001b[0m\u001b[38;5;183m\u001b[38;5;147m-\u001b[0m\u001b[38;5;183m\u001b[38;5;147m-\u001b[0m\u001b[38;5;183m\u001b[38;5;147m-\u001b[0m\u001b[38;5;183m\u001b[38;5;147m-\u001b[0m\u001b[38;5;183m\u001b[38;5;147m-\u001b[0m\u001b[38;5;183m\u001b[38;5;147m-\u001b[0m\u001b[38;5;183m\u001b[38;5;147m-\u001b[0m\u001b[38;5;183m\u001b[38;5;147m-\u001b[0m\u001b[38;5;183m\u001b[38;5;147m-\u001b[0m\u001b[38;5;183m\u001b[38;5;147m-\u001b[0m\u001b[38;5;183m\u001b[38;5;147m-\u001b[0m\u001b[38;5;183m\u001b[38;5;147m-\u001b[0m\u001b[38;5;183m\u001b[38;5;147m-\u001b[0m\u001b[38;5;183m\u001b[38;5;147m-\u001b[0m\u001b[38;5;183m\u001b[38;5;147m-\u001b[0m\u001b[38;5;183m\u001b[38;5;147m-\u001b[0m\u001b[38;5;183m\u001b[38;5;147m-\u001b[0m\u001b[38;5;183m\u001b[38;5;147m-\u001b[0m\u001b[38;5;183m\u001b[38;5;147m-\u001b[0m\u001b[38;5;183m\u001b[38;5;147m-\u001b[0m\u001b[38;5;183m\u001b[38;5;147m-\u001b[0m\u001b[38;5;183m\u001b[38;5;147m-\u001b[0m\u001b[38;5;183m\u001b[38;5;147m-\u001b[0m\u001b[38;5;183m\u001b[38;5;147m-\u001b[0m\u001b[38;5;183m\u001b[38;5;147m-\u001b[0m\u001b[38;5;183m\u001b[38;5;147m-\u001b[0m\u001b[38;5;183m\u001b[38;5;147m-\u001b[0m\u001b[38;5;183m\u001b[38;5;147m-\u001b[0m\u001b[38;5;183m\u001b[38;5;147m-\u001b[0m\u001b[38;5;183m\u001b[38;5;147m-\u001b[0m\u001b[38;5;183m\u001b[38;5;147m-\u001b[0m\u001b[38;5;183m\u001b[38;5;147m-\u001b[0m\u001b[38;5;183m\u001b[38;5;147m-\u001b[0m\u001b[38;5;183m\u001b[38;5;147m-\u001b[0m\u001b[38;5;183m\u001b[38;5;147m-\u001b[0m\u001b[38;5;183m\u001b[38;5;147m-\u001b[0m\u001b[38;5;183m\u001b[38;5;147m-\u001b[0m\u001b[38;5;183m\u001b[38;5;147m-\u001b[0m\u001b[38;5;183m\u001b[38;5;147m-\u001b[0m\u001b[38;5;183m\u001b[38;5;147m-\u001b[0m\u001b[38;5;183m\u001b[38;5;219m+\u001b[0m\u001b[38;5;183m\u001b[38;5;147m-\u001b[0m\u001b[38;5;183m\u001b[38;5;147m-\u001b[0m\u001b[38;5;183m\u001b[38;5;147m-\u001b[0m\u001b[38;5;183m\u001b[38;5;147m-\u001b[0m\u001b[38;5;183m\u001b[38;5;147m-\u001b[0m\u001b[38;5;183m\u001b[38;5;147m-\u001b[0m\u001b[38;5;183m\u001b[38;5;147m-\u001b[0m\u001b[38;5;183m\u001b[38;5;147m-\u001b[0m\u001b[38;5;183m\u001b[38;5;147m-\u001b[0m\u001b[38;5;183m\u001b[38;5;147m-\u001b[0m\u001b[38;5;183m\u001b[38;5;147m-\u001b[0m\u001b[38;5;183m\u001b[38;5;147m-\u001b[0m\u001b[38;5;183m\u001b[38;5;147m-\u001b[0m\u001b[38;5;183m\u001b[38;5;147m-\u001b[0m\u001b[38;5;183m\u001b[38;5;147m-\u001b[0m\u001b[38;5;183m\u001b[38;5;147m-\u001b[0m\u001b[38;5;183m\u001b[38;5;147m-\u001b[0m\u001b[38;5;183m\u001b[38;5;147m-\u001b[0m\u001b[38;5;183m\u001b[38;5;147m-\u001b[0m\u001b[38;5;183m\u001b[38;5;147m-\u001b[0m\u001b[38;5;183m\u001b[38;5;147m-\u001b[0m\u001b[38;5;183m\u001b[38;5;147m-\u001b[0m\u001b[38;5;183m\u001b[38;5;147m-\u001b[0m\u001b[38;5;183m\u001b[38;5;147m-\u001b[0m\u001b[38;5;183m\u001b[38;5;147m-\u001b[0m\u001b[38;5;183m\u001b[38;5;147m-\u001b[0m\u001b[38;5;183m\u001b[38;5;147m-\u001b[0m\u001b[38;5;183m\u001b[38;5;147m-\u001b[0m\u001b[38;5;183m\u001b[38;5;147m-\u001b[0m\u001b[38;5;183m\u001b[38;5;147m-\u001b[0m\u001b[38;5;183m\u001b[38;5;147m-\u001b[0m\u001b[38;5;183m\u001b[38;5;147m-\u001b[0m\u001b[38;5;183m\u001b[38;5;147m-\u001b[0m\u001b[38;5;183m\u001b[38;5;147m-\u001b[0m\u001b[38;5;183m\u001b[38;5;147m-\u001b[0m\u001b[38;5;183m\u001b[38;5;147m-\u001b[0m\u001b[38;5;183m\u001b[38;5;147m-\u001b[0m\u001b[38;5;183m\u001b[38;5;147m-\u001b[0m\u001b[38;5;183m\u001b[38;5;147m-\u001b[0m\u001b[38;5;183m\u001b[38;5;147m-\u001b[0m\u001b[38;5;183m\u001b[38;5;147m-\u001b[0m\u001b[38;5;183m\u001b[38;5;147m-\u001b[0m\u001b[38;5;183m\u001b[38;5;147m-\u001b[0m\u001b[38;5;183m\u001b[38;5;147m-\u001b[0m\u001b[38;5;183m\u001b[38;5;147m-\u001b[0m\u001b[38;5;183m\u001b[38;5;147m-\u001b[0m\u001b[38;5;183m\u001b[38;5;147m-\u001b[0m\u001b[38;5;183m\u001b[38;5;147m-\u001b[0m\u001b[38;5;183m\u001b[38;5;147m-\u001b[0m\u001b[38;5;183m\u001b[38;5;147m-\u001b[0m\u001b[38;5;183m\u001b[38;5;147m-\u001b[0m\u001b[38;5;183m\u001b[38;5;147m-\u001b[0m\u001b[38;5;183m\u001b[38;5;147m-\u001b[0m\u001b[38;5;183m\u001b[38;5;147m-\u001b[0m\u001b[38;5;183m\u001b[38;5;147m-\u001b[0m\u001b[38;5;183m\u001b[38;5;147m-\u001b[0m\u001b[38;5;183m\u001b[38;5;147m-\u001b[0m\u001b[38;5;183m\u001b[38;5;147m-\u001b[0m\u001b[38;5;183m\u001b[38;5;219m+\u001b[0m\u001b[38;5;183m\u001b[38;5;147m-\u001b[0m\u001b[38;5;183m\u001b[38;5;147m-\u001b[0m\u001b[38;5;183m\u001b[38;5;147m-\u001b[0m\u001b[38;5;183m\u001b[38;5;147m-\u001b[0m\u001b[38;5;183m\u001b[38;5;147m-\u001b[0m\u001b[38;5;183m\u001b[38;5;147m-\u001b[0m\u001b[38;5;183m\u001b[38;5;147m-\u001b[0m\u001b[38;5;183m\u001b[38;5;147m-\u001b[0m\u001b[38;5;183m\u001b[38;5;147m-\u001b[0m\u001b[38;5;183m\u001b[38;5;147m-\u001b[0m\u001b[38;5;183m\u001b[38;5;147m-\u001b[0m\u001b[38;5;183m\u001b[38;5;147m-\u001b[0m\u001b[38;5;183m\u001b[38;5;147m-\u001b[0m\u001b[38;5;183m\u001b[38;5;147m-\u001b[0m\u001b[38;5;183m\u001b[38;5;147m-\u001b[0m\u001b[38;5;183m\u001b[38;5;147m-\u001b[0m\u001b[38;5;183m\u001b[38;5;147m-\u001b[0m\u001b[38;5;183m\u001b[38;5;147m-\u001b[0m\u001b[38;5;183m\u001b[38;5;147m-\u001b[0m\u001b[38;5;183m\u001b[38;5;147m-\u001b[0m\u001b[38;5;183m\u001b[38;5;147m-\u001b[0m\u001b[38;5;183m\u001b[38;5;219m+\u001b[0m\u001b[38;5;183m\u001b[38;5;147m-\u001b[0m\u001b[38;5;183m\u001b[38;5;147m-\u001b[0m\u001b[38;5;183m\u001b[38;5;147m-\u001b[0m\u001b[38;5;183m\u001b[38;5;147m-\u001b[0m\u001b[38;5;183m\u001b[38;5;147m-\u001b[0m\u001b[38;5;183m\u001b[38;5;147m-\u001b[0m\u001b[38;5;183m\u001b[38;5;147m-\u001b[0m\u001b[38;5;183m\u001b[38;5;147m-\u001b[0m\u001b[38;5;183m\u001b[38;5;147m-\u001b[0m\u001b[38;5;183m\u001b[38;5;147m-\u001b[0m\u001b[38;5;183m\u001b[38;5;147m-\u001b[0m\u001b[38;5;183m\u001b[38;5;147m-\u001b[0m\u001b[38;5;183m\u001b[38;5;147m-\u001b[0m\u001b[38;5;183m\u001b[38;5;147m-\u001b[0m\u001b[38;5;183m\u001b[38;5;147m-\u001b[0m\u001b[38;5;183m\u001b[38;5;147m-\u001b[0m\u001b[38;5;183m\u001b[38;5;147m-\u001b[0m\u001b[38;5;183m\u001b[38;5;147m-\u001b[0m\u001b[38;5;183m\u001b[38;5;147m-\u001b[0m\u001b[38;5;183m\u001b[38;5;147m-\u001b[0m\u001b[38;5;183m\u001b[38;5;147m-\u001b[0m\u001b[38;5;183m\u001b[38;5;219m+\u001b[0m\u001b[38;5;183m\u001b[38;5;147m-\u001b[0m\u001b[38;5;183m\u001b[38;5;147m-\u001b[0m\u001b[38;5;183m\u001b[38;5;147m-\u001b[0m\u001b[38;5;183m\u001b[38;5;147m-\u001b[0m\u001b[38;5;183m\u001b[38;5;147m-\u001b[0m\u001b[38;5;183m\u001b[38;5;147m-\u001b[0m\u001b[38;5;183m\u001b[38;5;147m-\u001b[0m\u001b[38;5;183m\u001b[38;5;147m-\u001b[0m\u001b[38;5;183m\u001b[38;5;147m-\u001b[0m\u001b[38;5;183m\u001b[38;5;147m-\u001b[0m\u001b[38;5;183m\u001b[38;5;147m-\u001b[0m\u001b[38;5;183m\u001b[38;5;147m-\u001b[0m\u001b[38;5;183m\u001b[38;5;147m-\u001b[0m\u001b[38;5;183m\u001b[38;5;147m-\u001b[0m\u001b[38;5;183m\u001b[38;5;147m-\u001b[0m\u001b[38;5;183m\u001b[38;5;147m-\u001b[0m\u001b[38;5;183m\u001b[38;5;147m-\u001b[0m\u001b[38;5;183m\u001b[38;5;147m-\u001b[0m\u001b[38;5;183m\u001b[38;5;147m-\u001b[0m\u001b[38;5;183m\u001b[38;5;147m-\u001b[0m\u001b[38;5;183m\u001b[38;5;147m-\u001b[0m\u001b[38;5;183m\u001b[38;5;219m+\u001b[0m\u001b[38;5;183m\u001b[38;5;147m-\u001b[0m\u001b[38;5;183m\u001b[38;5;147m-\u001b[0m\u001b[38;5;183m\u001b[38;5;147m-\u001b[0m\u001b[38;5;183m\u001b[38;5;147m-\u001b[0m\u001b[38;5;183m\u001b[38;5;147m-\u001b[0m\u001b[38;5;183m\u001b[38;5;147m-\u001b[0m\u001b[38;5;183m\u001b[38;5;147m-\u001b[0m\u001b[38;5;183m\u001b[38;5;147m-\u001b[0m\u001b[38;5;183m\u001b[38;5;147m-\u001b[0m\u001b[38;5;183m\u001b[38;5;147m-\u001b[0m\u001b[38;5;183m\u001b[38;5;147m-\u001b[0m\u001b[38;5;183m\u001b[38;5;147m-\u001b[0m\u001b[38;5;183m\u001b[38;5;147m-\u001b[0m\u001b[38;5;183m\u001b[38;5;147m-\u001b[0m\u001b[38;5;183m\u001b[38;5;147m-\u001b[0m\u001b[38;5;183m\u001b[38;5;147m-\u001b[0m\u001b[38;5;183m\u001b[38;5;147m-\u001b[0m\u001b[38;5;183m\u001b[38;5;147m-\u001b[0m\u001b[38;5;183m\u001b[38;5;147m-\u001b[0m\u001b[38;5;183m\u001b[38;5;147m-\u001b[0m\u001b[38;5;183m\u001b[38;5;147m-\u001b[0m\u001b[38;5;183m\u001b[38;5;219m+\u001b[0m\u001b[38;5;183m\u001b[38;5;147m-\u001b[0m\u001b[38;5;183m\u001b[38;5;147m-\u001b[0m\u001b[38;5;183m\u001b[38;5;147m-\u001b[0m\u001b[38;5;183m\u001b[38;5;147m-\u001b[0m\u001b[38;5;183m\u001b[38;5;147m-\u001b[0m\u001b[38;5;183m\u001b[38;5;147m-\u001b[0m\u001b[38;5;183m\u001b[38;5;147m-\u001b[0m\u001b[38;5;183m\u001b[38;5;147m-\u001b[0m\u001b[38;5;183m\u001b[38;5;147m-\u001b[0m\u001b[38;5;183m\u001b[38;5;147m-\u001b[0m\u001b[38;5;183m\u001b[38;5;147m-\u001b[0m\u001b[38;5;183m\u001b[38;5;147m-\u001b[0m\u001b[38;5;183m\u001b[38;5;147m-\u001b[0m\u001b[38;5;183m\u001b[38;5;147m-\u001b[0m\u001b[38;5;183m\u001b[38;5;147m-\u001b[0m\u001b[38;5;183m\u001b[38;5;147m-\u001b[0m\u001b[38;5;183m\u001b[38;5;147m-\u001b[0m\u001b[38;5;183m\u001b[38;5;147m-\u001b[0m\u001b[38;5;183m\u001b[38;5;147m-\u001b[0m\u001b[38;5;183m\u001b[38;5;147m-\u001b[0m\u001b[38;5;183m\u001b[38;5;147m-\u001b[0m\u001b[38;5;183m\u001b[38;5;219m+\u001b[0m\u001b[38;5;183m\u001b[0m\n"
     ]
    }
   ],
   "source": [
    "def table_results(models):\n",
    "\n",
    "    bests_of_the_bests = ColorTable(theme=Themes.LAVENDER)\n",
    "    bests_of_the_bests.field_names = [\"Algorithme\", \"Hyperparamètres\", \"Macro f1\", \"Accuracy\", \"Precision\", \"Rappel\", \"Temps d'exécution\"]\n",
    "\n",
    "    models = [model for model in models if \"macro avg\" in model.scores and \"f1-score\" in model.scores[\"macro avg\"]]\n",
    "    best_models = sorted(models, key=lambda x: x.scores[\"macro avg\"][\"f1-score\"], reverse=True)\n",
    "    \n",
    "    for model in best_models:\n",
    "        bests_of_the_bests.add_row([model.name, model.model, model.scores[\"macro avg\"][\"f1-score\"], model.scores[\"accuracy\"], model.scores[\"macro avg\"][\"precision\"], model.scores[\"macro avg\"][\"recall\"], model.running_time])\n",
    "\n",
    "    return bests_of_the_bests\n",
    "\n",
    "print(table_results(Model.all_models))"
   ]
  }
 ],
 "metadata": {
  "kernelspec": {
   "display_name": "deft09",
   "language": "python",
   "name": "python3"
  },
  "language_info": {
   "codemirror_mode": {
    "name": "ipython",
    "version": 3
   },
   "file_extension": ".py",
   "mimetype": "text/x-python",
   "name": "python",
   "nbconvert_exporter": "python",
   "pygments_lexer": "ipython3",
   "version": "3.12.3"
  }
 },
 "nbformat": 4,
 "nbformat_minor": 2
}
