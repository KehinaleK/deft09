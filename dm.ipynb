{
 "cells": [
  {
   "cell_type": "code",
   "execution_count": 115,
   "metadata": {},
   "outputs": [],
   "source": [
    "# === Parsing des fichiers XML ===\n",
    "from bs4 import BeautifulSoup\n",
    "\n",
    "# === Préparation de données ===\n",
    "import pandas as pd\n",
    "import numpy as np\n",
    "\n",
    "# === Visualisation ===\n",
    "import matplotlib.pyplot as plt\n",
    "\n",
    "# === Traitement de texte ===\n",
    "import spacy\n",
    "import re\n",
    "from sklearn.feature_extraction.text import TfidfVectorizer\n",
    "\n",
    "# === Classification et machine learning ===\n",
    "from sklearn.linear_model import LogisticRegression, RidgeClassifier, SGDClassifier, PassiveAggressiveClassifier\n",
    "from sklearn.naive_bayes import MultinomialNB, ComplementNB\n",
    "from sklearn.neighbors import KNeighborsClassifier\n",
    "from sklearn.svm import LinearSVC, SVC\n",
    "from sklearn.ensemble import RandomForestClassifier\n",
    "from sklearn.utils import resample\n",
    "from sklearn.model_selection import train_test_split\n",
    "from lightgbm import LGBMClassifier\n",
    "\n",
    "# === Évaluation des modèles ===\n",
    "from sklearn.metrics import accuracy_score, classification_report\n",
    "\n",
    "# === Autre ===\n",
    "from prettytable.colortable import ColorTable, Themes\n",
    "from itertools import product\n",
    "import time"
   ]
  },
  {
   "cell_type": "markdown",
   "metadata": {},
   "source": [
    "# **Sommaire**\n",
    "\n",
    "**1. Présentation des données**\n",
    "- [A - Extraction des données](#a-extraction-des-données)\n",
    "- [B - Suppression des doublons](#b-suppression-des-doublons)\n",
    "- [C - Distribution des classes](#c-distribution-des-classes)\n",
    "\n",
    "**2. Pré-traitement des données**\n",
    "- [A - Normalisation des données](#a-normalisation-des-données)\n",
    "- [B - Vectorisation des données](#b-vectorisation-des-données)\n",
    "\n",
    "**3. Comparaison des modèles**\n",
    "- [A - Choix des algorithmes](#a-choix-des-algorithmes)\n",
    "\n",
    "**4. Stratégies d'amélioration**\n",
    "- [A - Upsampling (Sur-échantillonnage)](#a-upsampling-sur-échantillonnage)\n",
    "- [B - Downsampling (Sous-échantillonnage)](#b-downsampling-sous-échantillonnage)\n",
    "\n",
    "**5. Tests multilingues**\n",
    "- [A - En italien](#a-italien)\n",
    "- [B - En anglais](#b-anglais)\n",
    "- [C - Modèles multilingues combinés](#c-modèles-multilingues-combinés)\n",
    "- [D - En français et italien](#d-français-et-italien)\n",
    "\n",
    "**6. Utilisation d'un autre split**\n",
    "\n",
    "\n",
    "**7. Résultats globaux**\n",
    "\n",
    "\n",
    "**8. Perspectives futures**\n"
   ]
  },
  {
   "cell_type": "markdown",
   "metadata": {},
   "source": [
    "<a id=\"1-présentation-des-données\"></a>\n",
    "# **1. Présentation des données**"
   ]
  },
  {
   "cell_type": "markdown",
   "metadata": {},
   "source": [
    "On a installé sur le site du [DEFT 2009](https://deft.lisn.upsaclay.fr/) les données pour réaliser la tâche 3 qui est la suivante :\n",
    "- **Entraîner un modèle qui détermine automatiquement le parti politique d’appartenance de chaque intervenant dans le corpus parlementaire.**"
   ]
  },
  {
   "cell_type": "markdown",
   "metadata": {},
   "source": [
    "**Il y a en tout 5 classes qui correspondent aux différents partis politiques :**\n",
    "| Classe (groupe)      | Orientation politique       | Thématiques principales                                   |\n",
    "|--------------|-----------------------------|----------------------------------------------------------|\n",
    "| **Verts-ALE** | Écologistes et régionalistes | Environnement, droits des minorités, économie durable    |\n",
    "| **GUE/NGL**   | Gauche radicale             | Justice sociale, opposition à l'austérité, droits des travailleurs |\n",
    "| **PSE**       | Social-démocrates           | Réduction des inégalités, protection sociale, intégration européenne |\n",
    "| **ELDR**      | Libéraux                   | Libre marché, libertés individuelles, droits de l'homme  |\n",
    "| **PPE-DE**    | Conservateurs              | Économie sociale de marché, valeurs chrétiennes, sécurité |\n"
   ]
  },
  {
   "cell_type": "markdown",
   "metadata": {},
   "source": [
    "Notre corpus est multilingue, c'est-à-dire qu'il contient plusieurs ensembles dans des langues différentes telles que le français, l'anglais et l'italien. C'est donc un corpus parallèle et comparable auquel nous avons affaire. "
   ]
  },
  {
   "cell_type": "markdown",
   "metadata": {},
   "source": [
    "<a id=\"a-extraction-des-données\"></a>\n",
    "## **A. Extraction des données**"
   ]
  },
  {
   "cell_type": "markdown",
   "metadata": {},
   "source": [
    "Les données que nous avons téléchargées sur le site sont en format **xml**, il va donc nous falloir les parser pour les récolter. Pour cela, nous allons utilisé la librairie **BeautifulSoup**. \n",
    "Après avoir ouvert les fichiers et analysé les différentes balises pour pouvoir les extraire : \n",
    "- texte \n",
    "- id \n",
    "- valeur (label)\n",
    "- confiance (indice de confiance de la catégorisation)"
   ]
  },
  {
   "cell_type": "code",
   "execution_count": 116,
   "metadata": {},
   "outputs": [],
   "source": [
    "def get_xml_content(file):\n",
    "    \"\"\"Cette fonction permet d'extraire le contenu du fichier xml.\"\"\"\n",
    "\n",
    "    with open(file, \"r\") as f:\n",
    "        soup = BeautifulSoup(f, \"xml\")\n",
    "        \n",
    "    return soup"
   ]
  },
  {
   "cell_type": "code",
   "execution_count": 117,
   "metadata": {},
   "outputs": [],
   "source": [
    "def extract_train_info(doc):\n",
    "    \"\"\"Cette fonction permet d'extraire les données : texte, id, label.\"\"\"\n",
    "\n",
    "    doc_dico = {}\n",
    "\n",
    "    # Extraire l'id\n",
    "    doc_id = doc.get(\"id\")\n",
    "    doc_dico[\"id\"] = doc_id\n",
    "\n",
    "   # Extraire l'évaluation : nombre, valeur (label) et confiance\n",
    "    evaluation = doc.find(\"EVALUATION\")\n",
    "    evaluation_parti = evaluation.find(\"EVAL_PARTI\")\n",
    "    doc_dico[\"nombre\"] = evaluation_parti.get(\"nombre\")\n",
    "\n",
    "    parti = evaluation_parti.find(\"PARTI\")\n",
    "    doc_dico[\"label\"] = parti.get(\"valeur\")\n",
    "    doc_dico[\"confiance\"] = parti.get(\"confiance\")\n",
    "\n",
    "    # Extraire le texte\n",
    "    texte = doc.find(\"p\")\n",
    "    doc_dico[\"texte\"] = texte.text\n",
    "\n",
    "    return doc_dico"
   ]
  },
  {
   "cell_type": "code",
   "execution_count": 118,
   "metadata": {},
   "outputs": [],
   "source": [
    "def get_test_labels(file):\n",
    "    \"\"\"Cette fonction permet d'extraire les labels de l'ensemble de test à partir des fichiers référence.\"\"\"\n",
    "    \n",
    "    with open(file, \"r\") as f:\n",
    "        lines = f.readlines()\n",
    "\n",
    "    lines = [line.split(\"\\t\") for line in lines]\n",
    "    labels = {line[0]: line[1].strip() for line in lines}\n",
    "\n",
    "    return labels"
   ]
  },
  {
   "cell_type": "markdown",
   "metadata": {},
   "source": [
    "En comparant **la longueur** de la liste de labels et les id des échantillons de test, nous avons pu remarquer que deux interventions ne disposaient pas de label."
   ]
  },
  {
   "cell_type": "code",
   "execution_count": 119,
   "metadata": {},
   "outputs": [
    {
     "name": "stdout",
     "output_type": "stream",
     "text": [
      "1175\n",
      "4574\n"
     ]
    }
   ],
   "source": [
    "labels = get_test_labels(\"data/ref/deft09_parlement_ref_fr.txt\")\n",
    "for key, value in labels.items():\n",
    "    if value == \"\":\n",
    "        print(key)"
   ]
  },
  {
   "cell_type": "markdown",
   "metadata": {},
   "source": [
    "On a décidé de juste pas prendre ces deux échantillons pour la suite du devoir."
   ]
  },
  {
   "cell_type": "code",
   "execution_count": 120,
   "metadata": {},
   "outputs": [],
   "source": [
    "def extract_test_info(doc):\n",
    "    \"\"\"Cette fonction permet d'extraire les informations de l'ensemble de test: texte et id.\"\"\"\n",
    "\n",
    "    doc_dico = {}\n",
    "\n",
    "    doc_id = doc.get(\"id\")\n",
    "    doc_dico[\"id\"] = doc_id\n",
    "\n",
    "    texte = doc.find(\"p\")\n",
    "    doc_dico[\"texte\"] = texte.text\n",
    "\n",
    "    return doc_dico"
   ]
  },
  {
   "cell_type": "code",
   "execution_count": 121,
   "metadata": {},
   "outputs": [],
   "source": [
    "def get_train_and_test_df(train_file, test_file, ref_file):\n",
    "    \"\"\"Cette fonction regroupe les autres ci-dessus et permet d'obtenir nos dataframes train et test.\"\"\"\n",
    "\n",
    "    soup_train = get_xml_content(train_file)\n",
    "    soup_test = get_xml_content(test_file)\n",
    "\n",
    "    test_labels = get_test_labels(ref_file)\n",
    "\n",
    "    all_docs = []\n",
    "    for doc in soup_train.find_all(\"doc\"):\n",
    "        doc_dico = extract_train_info(doc)\n",
    "        all_docs.append(doc_dico)\n",
    "    \n",
    "    df_train = pd.DataFrame(all_docs)\n",
    "\n",
    "    all_docs = []\n",
    "    for doc in soup_test.find_all(\"doc\"):\n",
    "        doc_dico = extract_test_info(doc)\n",
    "        if test_labels[doc_dico[\"id\"]] == \"\": # pour les deux textes sans label dans le fichier de référence\n",
    "            continue\n",
    "        doc_dico[\"label\"] = test_labels[doc_dico[\"id\"]]\n",
    "        all_docs.append(doc_dico)\n",
    "\n",
    "    df_test = pd.DataFrame(all_docs)\n",
    "    \n",
    "    return df_train, df_test"
   ]
  },
  {
   "cell_type": "code",
   "execution_count": 122,
   "metadata": {},
   "outputs": [],
   "source": [
    "df_train, df_test = get_train_and_test_df(\"data/train/deft09_parlement_appr_fr.xml\", \"data/test/deft09_parlement_test_fr.xml\", \"data/ref/deft09_parlement_ref_fr.txt\")"
   ]
  },
  {
   "cell_type": "markdown",
   "metadata": {},
   "source": [
    "On fait un graphique pour comprendre **la distribution des classes** dans les deux ensembles test et train. Les résultats sont par rapport au pourcentage de distribution. \n",
    "On peut voir que les classes ne sont pas réparties équitablement et qu'il y a des classes minoritaires. "
   ]
  },
  {
   "cell_type": "code",
   "execution_count": null,
   "metadata": {},
   "outputs": [
    {
     "data": {
      "image/png": "[encoded data removed]",
      "text/plain": [
       "<Figure size 700x500 with 1 Axes>"
      ]
     },
     "metadata": {},
     "output_type": "display_data"
    }
   ],
   "source": [
    "def compare_class_distribution(df_train, df_test):\n",
    "    \"\"\" Distributions du train et du test en pourcentage. \"\"\"\n",
    "    \n",
    "    total_train = len(df_train)\n",
    "    total_test = len(df_test)\n",
    "\n",
    "    train_distribution = {source: count / total_train * 100 for source, count in df_train.groupby(\"label\").size().to_dict().items()}\n",
    "    test_distribution = {source: count / total_test * 100 for source, count in df_test.groupby(\"label\").size().to_dict().items()}\n",
    "\n",
    "    x = np.arange(len(train_distribution))\n",
    "    width = 0.4\n",
    "    plt.figure(figsize=(7, 5))\n",
    "    train_bars = plt.bar(x - 0.2, train_distribution.values(), width, label=\"Ensemble de train\", color=\"orchid\")\n",
    "    test_bars = plt.bar(x + 0.2, test_distribution.values(), width, label=\"Ensemble de test\", color=\"pink\")\n",
    "\n",
    "    for bar in train_bars:\n",
    "        height = bar.get_height()\n",
    "        plt.text(bar.get_x() + bar.get_width() / 2, height, f'{round(height, 2)}', ha=\"center\", va=\"bottom\")\n",
    "\n",
    "    for bar in test_bars:\n",
    "        height = bar.get_height()\n",
    "        plt.text(bar.get_x() + bar.get_width() / 2, height, f'{round(height, 2)}', ha=\"center\", va=\"bottom\")\n",
    "\n",
    "    plt.xticks(x, train_distribution.keys(), rotation=45)\n",
    "    plt.xlabel(\"Partis politiques\")\n",
    "    plt.ylabel(\"Pourcentage de documents\")\n",
    "    plt.legend()\n",
    "    plt.savefig(\"article/graphique_apres.png\", dpi=300, bbox_inches=\"tight\")\n",
    "    plt.show()\n",
    "\n",
    "compare_class_distribution(df_train, df_test)"
   ]
  },
  {
   "cell_type": "code",
   "execution_count": 124,
   "metadata": {},
   "outputs": [
    {
     "data": {
      "text/html": [
       "<div>\n",
       "<style scoped>\n",
       "    .dataframe tbody tr th:only-of-type {\n",
       "        vertical-align: middle;\n",
       "    }\n",
       "\n",
       "    .dataframe tbody tr th {\n",
       "        vertical-align: top;\n",
       "    }\n",
       "\n",
       "    .dataframe thead th {\n",
       "        text-align: right;\n",
       "    }\n",
       "</style>\n",
       "<table border=\"1\" class=\"dataframe\">\n",
       "  <thead>\n",
       "    <tr style=\"text-align: right;\">\n",
       "      <th></th>\n",
       "      <th>id</th>\n",
       "      <th>nombre</th>\n",
       "      <th>label</th>\n",
       "      <th>confiance</th>\n",
       "      <th>texte</th>\n",
       "    </tr>\n",
       "  </thead>\n",
       "  <tbody>\n",
       "    <tr>\n",
       "      <th>0</th>\n",
       "      <td>2_fr:1</td>\n",
       "      <td>1</td>\n",
       "      <td>Verts-ALE</td>\n",
       "      <td>1.00</td>\n",
       "      <td>Monsieur le Président, j'ai toujours fait preu...</td>\n",
       "    </tr>\n",
       "    <tr>\n",
       "      <th>1</th>\n",
       "      <td>2_fr:2</td>\n",
       "      <td>1</td>\n",
       "      <td>PPE-DE</td>\n",
       "      <td>1.00</td>\n",
       "      <td>Madame la Présidente, chers collègues, à l'app...</td>\n",
       "    </tr>\n",
       "    <tr>\n",
       "      <th>2</th>\n",
       "      <td>2_fr:3</td>\n",
       "      <td>1</td>\n",
       "      <td>Verts-ALE</td>\n",
       "      <td>1.00</td>\n",
       "      <td>Je voudrais savoir si l'Union européenne, à la...</td>\n",
       "    </tr>\n",
       "    <tr>\n",
       "      <th>3</th>\n",
       "      <td>2_fr:4</td>\n",
       "      <td>1</td>\n",
       "      <td>PSE</td>\n",
       "      <td>1.00</td>\n",
       "      <td>Madame la Présidente, au nom des  de la commis...</td>\n",
       "    </tr>\n",
       "    <tr>\n",
       "      <th>4</th>\n",
       "      <td>2_fr:5</td>\n",
       "      <td>1</td>\n",
       "      <td>PSE</td>\n",
       "      <td>1.00</td>\n",
       "      <td>Monsieur le Président, chers collègues, Monsie...</td>\n",
       "    </tr>\n",
       "    <tr>\n",
       "      <th>...</th>\n",
       "      <td>...</td>\n",
       "      <td>...</td>\n",
       "      <td>...</td>\n",
       "      <td>...</td>\n",
       "      <td>...</td>\n",
       "    </tr>\n",
       "    <tr>\n",
       "      <th>19365</th>\n",
       "      <td>2_fr:19366</td>\n",
       "      <td>1</td>\n",
       "      <td>PSE</td>\n",
       "      <td>1.00</td>\n",
       "      <td>Monsieur le Président, je voudrais tout d’abor...</td>\n",
       "    </tr>\n",
       "    <tr>\n",
       "      <th>19366</th>\n",
       "      <td>2_fr:19367</td>\n",
       "      <td>1</td>\n",
       "      <td>PPE-DE</td>\n",
       "      <td>1.00</td>\n",
       "      <td>Monsieur le Président, Monsieur le Commissaire...</td>\n",
       "    </tr>\n",
       "    <tr>\n",
       "      <th>19367</th>\n",
       "      <td>2_fr:19368</td>\n",
       "      <td>1</td>\n",
       "      <td>PPE-DE</td>\n",
       "      <td>1.00</td>\n",
       "      <td>Monsieur le Président, je tiens à déclarer, au...</td>\n",
       "    </tr>\n",
       "    <tr>\n",
       "      <th>19368</th>\n",
       "      <td>2_fr:19369</td>\n",
       "      <td>1</td>\n",
       "      <td>PPE-DE</td>\n",
       "      <td>1.00</td>\n",
       "      <td>Monsieur le Président, l’aide à l’Albanie et à...</td>\n",
       "    </tr>\n",
       "    <tr>\n",
       "      <th>19369</th>\n",
       "      <td>2_fr:19370</td>\n",
       "      <td>1</td>\n",
       "      <td>PPE-DE</td>\n",
       "      <td>1.00</td>\n",
       "      <td>Monsieur le Président, le rapport de Mme Zorba...</td>\n",
       "    </tr>\n",
       "  </tbody>\n",
       "</table>\n",
       "<p>19370 rows × 5 columns</p>\n",
       "</div>"
      ],
      "text/plain": [
       "               id nombre      label confiance  \\\n",
       "0          2_fr:1      1  Verts-ALE      1.00   \n",
       "1          2_fr:2      1     PPE-DE      1.00   \n",
       "2          2_fr:3      1  Verts-ALE      1.00   \n",
       "3          2_fr:4      1        PSE      1.00   \n",
       "4          2_fr:5      1        PSE      1.00   \n",
       "...           ...    ...        ...       ...   \n",
       "19365  2_fr:19366      1        PSE      1.00   \n",
       "19366  2_fr:19367      1     PPE-DE      1.00   \n",
       "19367  2_fr:19368      1     PPE-DE      1.00   \n",
       "19368  2_fr:19369      1     PPE-DE      1.00   \n",
       "19369  2_fr:19370      1     PPE-DE      1.00   \n",
       "\n",
       "                                                   texte  \n",
       "0      Monsieur le Président, j'ai toujours fait preu...  \n",
       "1      Madame la Présidente, chers collègues, à l'app...  \n",
       "2      Je voudrais savoir si l'Union européenne, à la...  \n",
       "3      Madame la Présidente, au nom des  de la commis...  \n",
       "4      Monsieur le Président, chers collègues, Monsie...  \n",
       "...                                                  ...  \n",
       "19365  Monsieur le Président, je voudrais tout d’abor...  \n",
       "19366  Monsieur le Président, Monsieur le Commissaire...  \n",
       "19367  Monsieur le Président, je tiens à déclarer, au...  \n",
       "19368  Monsieur le Président, l’aide à l’Albanie et à...  \n",
       "19369  Monsieur le Président, le rapport de Mme Zorba...  \n",
       "\n",
       "[19370 rows x 5 columns]"
      ]
     },
     "execution_count": 124,
     "metadata": {},
     "output_type": "execute_result"
    }
   ],
   "source": [
    "df_train"
   ]
  },
  {
   "cell_type": "code",
   "execution_count": 125,
   "metadata": {},
   "outputs": [
    {
     "data": {
      "text/html": [
       "<div>\n",
       "<style scoped>\n",
       "    .dataframe tbody tr th:only-of-type {\n",
       "        vertical-align: middle;\n",
       "    }\n",
       "\n",
       "    .dataframe tbody tr th {\n",
       "        vertical-align: top;\n",
       "    }\n",
       "\n",
       "    .dataframe thead th {\n",
       "        text-align: right;\n",
       "    }\n",
       "</style>\n",
       "<table border=\"1\" class=\"dataframe\">\n",
       "  <thead>\n",
       "    <tr style=\"text-align: right;\">\n",
       "      <th></th>\n",
       "      <th>id</th>\n",
       "      <th>texte</th>\n",
       "      <th>label</th>\n",
       "    </tr>\n",
       "  </thead>\n",
       "  <tbody>\n",
       "    <tr>\n",
       "      <th>0</th>\n",
       "      <td>1</td>\n",
       "      <td>Monsieur le Président, l'accès à des médias li...</td>\n",
       "      <td>ELDR</td>\n",
       "    </tr>\n",
       "    <tr>\n",
       "      <th>1</th>\n",
       "      <td>2</td>\n",
       "      <td>Monsieur le Président, j'ai un point de vue di...</td>\n",
       "      <td>GUE-NGL</td>\n",
       "    </tr>\n",
       "    <tr>\n",
       "      <th>2</th>\n",
       "      <td>3</td>\n",
       "      <td>Monsieur le Président, Monsieur le Commissaire...</td>\n",
       "      <td>PPE-DE</td>\n",
       "    </tr>\n",
       "    <tr>\n",
       "      <th>3</th>\n",
       "      <td>4</td>\n",
       "      <td>Nous ne pouvons soutenir cette tentative d’éri...</td>\n",
       "      <td>GUE-NGL</td>\n",
       "    </tr>\n",
       "    <tr>\n",
       "      <th>4</th>\n",
       "      <td>5</td>\n",
       "      <td>Monsieur le Président, ce court débat se dérou...</td>\n",
       "      <td>PPE-DE</td>\n",
       "    </tr>\n",
       "    <tr>\n",
       "      <th>...</th>\n",
       "      <td>...</td>\n",
       "      <td>...</td>\n",
       "      <td>...</td>\n",
       "    </tr>\n",
       "    <tr>\n",
       "      <th>12910</th>\n",
       "      <td>12913</td>\n",
       "      <td>Monsieur le Président, Madame la Commissaire, ...</td>\n",
       "      <td>PPE-DE</td>\n",
       "    </tr>\n",
       "    <tr>\n",
       "      <th>12911</th>\n",
       "      <td>12914</td>\n",
       "      <td>Monsieur le Président, Monsieur le Commissaire...</td>\n",
       "      <td>PPE-DE</td>\n",
       "    </tr>\n",
       "    <tr>\n",
       "      <th>12912</th>\n",
       "      <td>12915</td>\n",
       "      <td>Madame la Présidente, permettez-moi de m'adres...</td>\n",
       "      <td>ELDR</td>\n",
       "    </tr>\n",
       "    <tr>\n",
       "      <th>12913</th>\n",
       "      <td>12916</td>\n",
       "      <td>Grâce à la proposition de directive dont trait...</td>\n",
       "      <td>GUE-NGL</td>\n",
       "    </tr>\n",
       "    <tr>\n",
       "      <th>12914</th>\n",
       "      <td>12917</td>\n",
       "      <td>Monsieur le Président, après le Timor oriental...</td>\n",
       "      <td>PSE</td>\n",
       "    </tr>\n",
       "  </tbody>\n",
       "</table>\n",
       "<p>12915 rows × 3 columns</p>\n",
       "</div>"
      ],
      "text/plain": [
       "          id                                              texte    label\n",
       "0          1  Monsieur le Président, l'accès à des médias li...     ELDR\n",
       "1          2  Monsieur le Président, j'ai un point de vue di...  GUE-NGL\n",
       "2          3  Monsieur le Président, Monsieur le Commissaire...   PPE-DE\n",
       "3          4  Nous ne pouvons soutenir cette tentative d’éri...  GUE-NGL\n",
       "4          5  Monsieur le Président, ce court débat se dérou...   PPE-DE\n",
       "...      ...                                                ...      ...\n",
       "12910  12913  Monsieur le Président, Madame la Commissaire, ...   PPE-DE\n",
       "12911  12914  Monsieur le Président, Monsieur le Commissaire...   PPE-DE\n",
       "12912  12915  Madame la Présidente, permettez-moi de m'adres...     ELDR\n",
       "12913  12916  Grâce à la proposition de directive dont trait...  GUE-NGL\n",
       "12914  12917  Monsieur le Président, après le Timor oriental...      PSE\n",
       "\n",
       "[12915 rows x 3 columns]"
      ]
     },
     "execution_count": 125,
     "metadata": {},
     "output_type": "execute_result"
    }
   ],
   "source": [
    "df_test"
   ]
  },
  {
   "cell_type": "markdown",
   "metadata": {},
   "source": [
    "<a id=\"b-suppression-des-doublons\"></a>\n",
    "## **B. Suppression des doublons**"
   ]
  },
  {
   "cell_type": "markdown",
   "metadata": {},
   "source": [
    "Après concertation avec les autres étudiants, nous avons été informées qu'il y avait des doublons entre les ensembles de train et de test."
   ]
  },
  {
   "cell_type": "code",
   "execution_count": 126,
   "metadata": {},
   "outputs": [],
   "source": [
    "train_texts = df_train[\"texte\"].to_list()\n",
    "test_texts = df_test[\"texte\"].to_list()"
   ]
  },
  {
   "cell_type": "code",
   "execution_count": 127,
   "metadata": {},
   "outputs": [],
   "source": [
    "def check_copy(train_texts, test_texts):\n",
    "\n",
    "    num_copy = 0\n",
    "\n",
    "    for text in train_texts:\n",
    "        if text in test_texts:\n",
    "            num_copy += 1\n",
    "\n",
    "    return num_copy"
   ]
  },
  {
   "cell_type": "code",
   "execution_count": 128,
   "metadata": {},
   "outputs": [
    {
     "name": "stdout",
     "output_type": "stream",
     "text": [
      "Il y a 7813 textes en commun entre les données d'entraînement et de test.\n"
     ]
    }
   ],
   "source": [
    "num_copy = check_copy(train_texts, test_texts)\n",
    "print(f\"Il y a {num_copy} textes en commun entre les données d'entraînement et de test.\")"
   ]
  },
  {
   "cell_type": "markdown",
   "metadata": {},
   "source": [
    "Après vérification, nous trouvions **7813** doublons entre les deux ensembles, soit **plus d'un tier** de l'ensemble de train.\n",
    "\n",
    "Nous voulions donc retirer ces doublons tout en essayant de respecter le split originel du corpus de 60% des échantillons pour le train et 40% pour le test.\n",
    "\n",
    "\n",
    "En effet, retirer tous les doublons de l'ensemble de train nous donnerait un split bien trop proche."
   ]
  },
  {
   "cell_type": "code",
   "execution_count": 129,
   "metadata": {},
   "outputs": [],
   "source": [
    "def get_distribution(df_train, df_test):\n",
    "    \"\"\"Calcule la distribution.\"\"\"\n",
    "    total_texts = len(df_train) + len(df_test)\n",
    "    percentage_train = len(df_train) / total_texts * 100\n",
    "    percentage_test = len(df_test) / total_texts * 100\n",
    "\n",
    "    return percentage_train, percentage_test"
   ]
  },
  {
   "cell_type": "code",
   "execution_count": 130,
   "metadata": {},
   "outputs": [
    {
     "name": "stdout",
     "output_type": "stream",
     "text": [
      "Pourcentage de textes d'entraînement : 60.00%\n",
      "Pourcentage de textes de test : 40.00%\n"
     ]
    }
   ],
   "source": [
    "percentage_train, percentage_test = get_distribution(df_train, df_test)\n",
    "print(f\"Pourcentage de textes d'entraînement : {percentage_train:.2f}%\")\n",
    "print(f\"Pourcentage de textes de test : {percentage_test:.2f}%\")"
   ]
  },
  {
   "cell_type": "code",
   "execution_count": 131,
   "metadata": {},
   "outputs": [],
   "source": [
    "def balance_distribution(df_train, df_test):\n",
    "    \"\"\"Cette fonction permet de retirer des doublons soit de l'ensemble de train soit de celui de test\n",
    "    de manière alternée afin de rester le plus proche d'une distribution 60/40.\"\"\"\n",
    "\n",
    "    train_texts = df_train[\"texte\"].to_list()\n",
    "    test_texts = df_test[\"texte\"].to_list()\n",
    "\n",
    "    for text in train_texts:\n",
    "        if text in test_texts:\n",
    "            percentage_train, percentage_test = get_distribution(df_train, df_test)\n",
    "            difference_train = abs(percentage_train - 60)\n",
    "            difference_test = abs(percentage_test - 40)\n",
    "\n",
    "            if difference_train > difference_test:\n",
    "                df_test = df_test[df_test[\"texte\"] != text]\n",
    "            else:\n",
    "                df_train = df_train[df_train[\"texte\"] != text]\n",
    "\n",
    "    return df_train, df_test"
   ]
  },
  {
   "cell_type": "code",
   "execution_count": 132,
   "metadata": {},
   "outputs": [
    {
     "name": "stdout",
     "output_type": "stream",
     "text": [
      "Pourcentage de textes d'entraînement : 53.40%\n",
      "Pourcentage de textes de test : 46.60%\n"
     ]
    }
   ],
   "source": [
    "df_train, df_test = balance_distribution(df_train, df_test)\n",
    "percentage_train, percentage_test = get_distribution(df_train, df_test)\n",
    "print(f\"Pourcentage de textes d'entraînement : {percentage_train:.2f}%\")\n",
    "print(f\"Pourcentage de textes de test : {percentage_test:.2f}%\")"
   ]
  },
  {
   "cell_type": "code",
   "execution_count": 133,
   "metadata": {},
   "outputs": [
    {
     "name": "stdout",
     "output_type": "stream",
     "text": [
      "Il y a 0 textes en commun entre les données d'entraînement et de test.\n"
     ]
    }
   ],
   "source": [
    "train_texts = df_train[\"texte\"].to_list()\n",
    "test_texts = df_test[\"texte\"].to_list()\n",
    "num_copy = check_copy(train_texts, test_texts)\n",
    "print(f\"Il y a {num_copy} textes en commun entre les données d'entraînement et de test.\")"
   ]
  },
  {
   "cell_type": "markdown",
   "metadata": {},
   "source": [
    "Nous avons bien retiré tous les doublons !\n",
    "\n",
    "Maintenant, nous nous retrouvons avec un split de 53 pour le train et 46 pour le test.\n",
    "\n",
    "Comme on reste quelque peu éloignés de la distribution 60/40, on va donc retirer des textes de l'ensemble de test pour arriver à la distribution souhaitée."
   ]
  },
  {
   "cell_type": "code",
   "execution_count": 134,
   "metadata": {},
   "outputs": [],
   "source": [
    "def reach_desired_distribution(df_train, df_test):\n",
    "\n",
    "    while True:\n",
    "        percentage_train, percentage_test = get_distribution(df_train, df_test)\n",
    "\n",
    "        if percentage_train >= 60:\n",
    "            break\n",
    "        else:\n",
    "            df_test = df_test.drop(df_test.index[0])\n",
    "\n",
    "    \n",
    "    return df_train, df_test"
   ]
  },
  {
   "cell_type": "code",
   "execution_count": 135,
   "metadata": {},
   "outputs": [
    {
     "name": "stdout",
     "output_type": "stream",
     "text": [
      "Pourcentage de textes d'entraînement : 60.00%\n",
      "Pourcentage de textes de test : 40.00%\n",
      "Il y a 0 textes en commun entre les données d'entraînement et de test.\n"
     ]
    }
   ],
   "source": [
    "df_train, df_test = reach_desired_distribution(df_train, df_test)\n",
    "percentage_train, percentage_test = get_distribution(df_train, df_test)\n",
    "print(f\"Pourcentage de textes d'entraînement : {percentage_train:.2f}%\")\n",
    "print(f\"Pourcentage de textes de test : {percentage_test:.2f}%\")\n",
    "num_copy = check_copy(train_texts, test_texts)\n",
    "print(f\"Il y a {num_copy} textes en commun entre les données d'entraînement et de test.\")"
   ]
  },
  {
   "cell_type": "markdown",
   "metadata": {},
   "source": [
    "Nous arrivons ici à un split fidèle à celui d'origine et à un corpus sans doublon entre les ensembles de train et de test !!"
   ]
  },
  {
   "cell_type": "markdown",
   "metadata": {},
   "source": [
    "<a id=\"c-distribution-des-classes\"></a>\n",
    "## **C. Distribution des classes**"
   ]
  },
  {
   "cell_type": "markdown",
   "metadata": {},
   "source": [
    "Maintenant, on s'intéresse aux distributions de nos classes dans le corpus."
   ]
  },
  {
   "cell_type": "code",
   "execution_count": 136,
   "metadata": {},
   "outputs": [],
   "source": [
    "def preparer_distributions_classes(df_train, df_test):\n",
    "    \"\"\"Cette fonction permet d'isoler les comptes de chaque classe pour chaque ensemble\"\"\"\n",
    "\n",
    "    train_counts = df_train[\"label\"].value_counts()\n",
    "    test_counts = df_test[\"label\"].value_counts()\n",
    "\n",
    "    classes = list(set(train_counts.index).union(set(test_counts.index)))\n",
    "    train_values = np.array([train_counts.get(cls, 0) for cls in classes])\n",
    "    test_values = np.array([test_counts.get(cls, 0) for cls in classes])\n",
    "\n",
    "    return classes, train_values, test_values"
   ]
  },
  {
   "cell_type": "code",
   "execution_count": 137,
   "metadata": {},
   "outputs": [
    {
     "name": "stdout",
     "output_type": "stream",
     "text": [
      "Pourcentage de la part du test\n",
      "==============================\n",
      "+-----------+-------+------+-------------+\n",
      "|   Classe  | Train | Test | Pourcentage |\n",
      "+-----------+-------+------+-------------+\n",
      "|    PSE    |  3650 | 2489 |    40.54%   |\n",
      "|   PPE-DE  |  4635 | 3047 |    39.66%   |\n",
      "|  GUE-NGL  |  1823 | 1196 |    39.62%   |\n",
      "|    ELDR   |  1351 | 908  |    40.19%   |\n",
      "| Verts-ALE |  1609 | 1072 |    39.99%   |\n",
      "+-----------+-------+------+-------------+\n",
      "\n",
      "Résumé des totaux\n",
      "=================\n",
      "Total Train : 13068\n",
      "Total Test  : 8712\n",
      "Pourcentage Global Test : 40.00%\n"
     ]
    }
   ],
   "source": [
    "prettytable_test_pourcentage = ColorTable(theme=Themes.LAVENDER)\n",
    "prettytable_test_pourcentage.field_names = [\"Classe\", \"Train\", \"Test\", \"Pourcentage\"]\n",
    "\n",
    "def tableau_test_pourcentage(df_train, df_test):\n",
    "    \"\"\"Cette fonction permet d'obtenir la répartition de chaque classe entre les deux ensembles.\n",
    "    Donc de voir combien de pourcentages de chaque classe se retrouve dans l'ensemble de test.\"\"\"\n",
    "\n",
    "    classes, train_values, test_values = preparer_distributions_classes(df_train, df_test)\n",
    "\n",
    "    pourcentage_test = ((test_values / (test_values + train_values)) * 100)\n",
    "    pourcentage_test = np.nan_to_num(pourcentage_test) \n",
    "\n",
    "    for cls, train, test, pourcentage in zip(classes, train_values, test_values, pourcentage_test):\n",
    "        prettytable_test_pourcentage.add_row([cls, train, test, f\"{pourcentage:.2f}%\"])\n",
    "    \n",
    "    total_train = np.sum(train_values)\n",
    "    total_test = np.sum(test_values)\n",
    "    pourcentage_global = (total_test / (total_train + total_test)) * 100\n",
    "\n",
    "    title = \"Pourcentage de la part du test\"\n",
    "    print(f\"{title}\\n\" + \"=\" * len(title))\n",
    "    print(prettytable_test_pourcentage)\n",
    "    print(\"\\nRésumé des totaux\\n\" + \"=\" * len(\"Résumé des totaux\"))\n",
    "    print(f\"Total Train : {total_train}\")\n",
    "    print(f\"Total Test  : {total_test}\")\n",
    "    print(f\"Pourcentage Global Test : {pourcentage_global:.2f}%\")\n",
    "    \n",
    "tableau_test_pourcentage(df_train, df_test)"
   ]
  },
  {
   "cell_type": "markdown",
   "metadata": {},
   "source": [
    "Ci-dessus, nous pouvons premièrement voir que chaque classe est splité en 60/40 entre les deux ensembles ! Pour en savoir plus, on a fait une fonction qui affiche le **nombre d'échantillons de chaque classe** dans le train et le test."
   ]
  },
  {
   "cell_type": "code",
   "execution_count": 138,
   "metadata": {},
   "outputs": [
    {
     "data": {
      "image/png": "[encoded data removed]",
      "text/plain": [
       "<Figure size 600x500 with 1 Axes>"
      ]
     },
     "metadata": {},
     "output_type": "display_data"
    }
   ],
   "source": [
    "def distribution_des_classes(df_train, df_test):\n",
    "    \"\"\"Cette fonction permet d'afficher le nombre d'échantillons de chaque classe dans les deux ensembles.\"\"\"\n",
    "\n",
    "    classes, train_values, test_values = preparer_distributions_classes(df_train, df_test)\n",
    "\n",
    "    x = np.arange(len(classes))\n",
    "    width = 0.4\n",
    "\n",
    "    fig, ax = plt.subplots(figsize=(6, 5))\n",
    "    ax.bar(x - width/2, train_values, width, label=\"Données train\", color=\"orchid\")\n",
    "    ax.bar(x + width/2, test_values, width, label=\"Données test\", color=\"pink\")\n",
    "\n",
    "    ax.set_xlabel(\"Classes (noms des partis politiques)\")\n",
    "    ax.set_ylabel(\"Nombre d'exemples\")\n",
    "    ax.set_xticks(x)\n",
    "    ax.set_xticklabels(classes, rotation=45)\n",
    "    ax.legend()\n",
    "\n",
    "    plt.tight_layout()\n",
    "    plt.savefig(\"article/graphique_avant.png\", dpi=300, bbox_inches=\"tight\")\n",
    "    plt.show()\n",
    "\n",
    "distribution_des_classes(df_train, df_test)"
   ]
  },
  {
   "cell_type": "markdown",
   "metadata": {},
   "source": [
    "**Nous pouvons ici voir comment les classes sont distribuées dans les deux ensembles les unes par rapport aux autres !**\n",
    "Nous avons des classes clairement majoritaires."
   ]
  },
  {
   "cell_type": "markdown",
   "metadata": {},
   "source": [
    "Dans la description de la tâche, les nombres d'échantillons sont explicités comme étant les suivants :"
   ]
  },
  {
   "cell_type": "markdown",
   "metadata": {},
   "source": [
    "\n",
    "||   ELDR    | GUE/NGL | PPE-DE     | PSE | Verts/ALE\n",
    "|:---| :---        |    :----   |          :--- | :--- | :--- |\n",
    "|Nombre de documents| 3 346 | 4 482   |  11 429 | 9 066 | 3 961 |\n",
    "|Pourcentage de documents|10.33%|13.84%|35.29%|27.99%|12.23%|\n",
    "\n",
    "Lorsqu'ils sont convertis en pourcentage, nous pouvons voir qu'ils semblent correspondre à ceux obtenus après notre équillibrage. Nous avons donc un corpus **plus petit** que celui original mais semblant disposer des mêmes \"conditions\" que ce dernier !"
   ]
  },
  {
   "cell_type": "markdown",
   "metadata": {},
   "source": [
    "<a id=\"2-pré-traitement-des-données\"></a>\n",
    "# **2. Pré-traitement des données**"
   ]
  },
  {
   "cell_type": "markdown",
   "metadata": {},
   "source": [
    "<a id=\"a-normalisation-des-données\"></a>\n",
    "## **A. Normalisation des données**"
   ]
  },
  {
   "cell_type": "markdown",
   "metadata": {},
   "source": [
    "Nous allons normaliser nos données en enlevant les ponctuations, stopwords, majuscules et en lemmatisant les textes."
   ]
  },
  {
   "cell_type": "code",
   "execution_count": 140,
   "metadata": {},
   "outputs": [],
   "source": [
    "nlp = spacy.load(\"en_core_web_sm\")"
   ]
  },
  {
   "cell_type": "code",
   "execution_count": 141,
   "metadata": {},
   "outputs": [],
   "source": [
    "def tokenize(text):\n",
    "    doc = nlp(text)\n",
    "    return doc"
   ]
  },
  {
   "cell_type": "code",
   "execution_count": 142,
   "metadata": {},
   "outputs": [],
   "source": [
    "def lemmatisation(doc):\n",
    "    return \" \".join([token.lemma_ for token in doc])"
   ]
  },
  {
   "cell_type": "code",
   "execution_count": 143,
   "metadata": {},
   "outputs": [],
   "source": [
    "def i_love_lowercase(text):\n",
    "    return text.lower()"
   ]
  },
  {
   "cell_type": "code",
   "execution_count": 144,
   "metadata": {},
   "outputs": [],
   "source": [
    "def remove_stop_words(doc):\n",
    "    \n",
    "    stop_words = [\n",
    "    'au', 'aux', 'avec', 'ce', 'ces', 'dans', 'de', 'des', 'du', 'elle', 'en',\n",
    "    'et', 'eux', 'il', 'je', 'la', 'le', 'leur', 'lui', 'ma', 'mais', 'me',\n",
    "    'même', 'mes', 'moi', 'mon', 'ne', 'nos', 'notre', 'nous', 'on', 'ou',\n",
    "    'par', 'pas', 'pour', 'qu', 'que', 'qui', 'sa', 'se', 'ses', 'son', 'sur',\n",
    "    'ta', 'te', 'tes', 'toi', 'ton', 'tu', 'un', 'une', 'vos', 'votre', 'vous',\n",
    "    'c', 'd', 'j', 'l', 'à', 'm', 'n', 's', 't', 'y', 'été', 'étée', 'étées',\n",
    "    'étés', 'étant', 'étante', 'étants', 'étantes', 'suis', 'es', 'est',\n",
    "    'sommes', 'êtes', 'sont', 'serai', 'seras', 'sera', 'serons', 'serez',\n",
    "    'seront', 'serais', 'serait', 'serions', 'seriez', 'seraient', 'étais',\n",
    "    'était', 'étions', 'étiez', 'étaient', 'fus', 'fut', 'fûmes', 'fûtes',\n",
    "    'furent', 'sois', 'soit', 'soyons', 'soyez', 'soient', 'fusse', 'fusses',\n",
    "    'fût', 'fussions', 'fussiez', 'fussent', 'ayant', 'ayante', 'ayantes',\n",
    "    'ayants', 'aie', 'aies', 'ait', 'ayons', 'ayez', 'aient', 'eut', 'eue',\n",
    "    'eues', 'eus', 'avons', 'avez', 'ont', 'aurai', 'auras', 'aura', 'aurons',\n",
    "    'aurez', 'auront', 'aurais', 'aurait', 'aurions', 'auriez', 'auraient',\n",
    "    'avais', 'avait', 'avions', 'aviez', 'avaient', 'eut', 'eûmes', 'eûtes',\n",
    "    'eurent', 'aie', 'aies', 'ait', 'ayons', 'ayez', 'aient', 'eusse',\n",
    "    'eusses', 'eût', 'eussions', 'eussiez', 'eussent'\n",
    "    ]\n",
    "\n",
    "    \n",
    "    filtered_text = [token for token in doc if token.text not in stop_words]\n",
    "\n",
    "    return filtered_text"
   ]
  },
  {
   "cell_type": "code",
   "execution_count": 145,
   "metadata": {},
   "outputs": [],
   "source": [
    "def remove_punctuation(text):\n",
    "    text = re.sub(r\"[^\\w\\s]\", \"\", text)\n",
    "    return text"
   ]
  },
  {
   "cell_type": "code",
   "execution_count": 146,
   "metadata": {},
   "outputs": [],
   "source": [
    "def get_beautiful_clean_text(text):\n",
    "\n",
    "    text = i_love_lowercase(text)\n",
    "    doc = tokenize(text)\n",
    "    doc = remove_stop_words(doc)\n",
    "    text = lemmatisation(doc)\n",
    "    text = remove_punctuation(text)\n",
    "   \n",
    "    return text\n",
    "\n",
    "df_train[\"texte_nettoyé\"] = df_train[\"texte\"].map(get_beautiful_clean_text)\n",
    "df_test[\"texte_nettoyé\"] = df_test[\"texte\"].map(get_beautiful_clean_text)"
   ]
  },
  {
   "cell_type": "code",
   "execution_count": 149,
   "metadata": {},
   "outputs": [
    {
     "data": {
      "text/plain": [
       "'madame présidente  cher collègue  lapproche moment plus sombre lannée  réjouissant dévoquer lété lheure dété  voudrais cependant attirer lattention rituel réglage montre répète chaque printemp chaque automne do not lutilité divise le opinion  jai contacté éleveurs bétail soulignent quil important dassurer bien  être vaches laitière   déjà production laitière  sérénité ruminants troublée maladie vache folle  faudrait accroître stress perturbant rythme habituel  les vaches  changement rythme prend jour deux  autre difficulté existe agriculture  automne  pendant les battage  lheure indique lhumidité matinale devrait avoir disparu  or surprise  nature conforme directive  outre rythme naturel animaux  dynamisme hommes  dépend partiellement luminosité  également perturbé  cause problème supplémentaire '"
      ]
     },
     "execution_count": 149,
     "metadata": {},
     "output_type": "execute_result"
    }
   ],
   "source": [
    "df_train[\"texte_nettoyé\"][1]"
   ]
  },
  {
   "cell_type": "markdown",
   "metadata": {},
   "source": [
    "<a id=\"b-vectorisation-des-données\"></a>\n",
    "## **B. Vectorisation des données**"
   ]
  },
  {
   "cell_type": "markdown",
   "metadata": {},
   "source": [
    "**Dans l'article [Forest, D. (2009)](https://www.crihn.org/publications/impacts-de-la-variation-du-nombre-de-traits-discriminants-sur-la-categorisation-des-documents/), on voit que les paramètres de la vectorisation jouent un rôle assez important dans les performances d'une modèle.**\n",
    "\n",
    "En nous basant sur cet article et sur le TP1, nous allons tester le TFIDF Vectorizer avec différents hyperparamètres sur trois classifieurs différents afin de voir si nous obtenons des résultats significativement mieux. Les classifieurs utilisés seront :\n",
    "- **KNN** (car utilisé dans l'article)\n",
    "- **SVC Lineaire** (modèle linéaire)\n",
    "- **Complement NB** (modèle probabilistique)\n",
    "\n",
    "Si pour tous ces algorithmes, une vectorisation donne de meilleurs résultats, alors nous utiliserons cette dernières pour le reste de nos tests."
   ]
  },
  {
   "cell_type": "markdown",
   "metadata": {},
   "source": [
    "Nous commençons par stocker **plusieurs vectorizers tfidf** avec des hyperparamètres différents."
   ]
  },
  {
   "cell_type": "code",
   "execution_count": 150,
   "metadata": {},
   "outputs": [],
   "source": [
    "vectorizers = {\n",
    "    \"TfidfVectorizer\": {\n",
    "        \"model\": TfidfVectorizer(),\n",
    "        \"hyperparameters\": {\n",
    "            \"max_df\": [0.5, 0.1], # ça c'est pour ignorer les mots qui appraîssent dans 0.5 ou 0.9 des documents #defaut = 1\n",
    "            \"max_features\": [1000, 15000, None], # ça c'est pour limiter le nombre de mots à 1000 ou 2000 #defaut = None\n",
    "            \"ngram_range\": [(1, 1), (1, 2)], # ça c'est pour prendre en compte les unigrammes ou les bigrammes #defaut = (1, 1)\n",
    "        }\n",
    "    }\n",
    "}"
   ]
  },
  {
   "cell_type": "code",
   "execution_count": 151,
   "metadata": {},
   "outputs": [],
   "source": [
    "def hyperparameter_vectorizer(vectorizers):\n",
    "    \"\"\"Cette fonction permet de lister tous les vectorizes obtenus en combinant tous \n",
    "    les hyperparamètres donnés dans le dictionnaire de vectorizers.\"\"\"\n",
    "\n",
    "    param_grid = vectorizers[\"hyperparameters\"]\n",
    "    list_vectorizers = []\n",
    "\n",
    "\n",
    "    if len(param_grid) == 1:\n",
    "        param_name, param_values = list(param_grid.items())[0]\n",
    "        for i, value in enumerate(param_values, start=1):\n",
    "            params = {param_name: value}\n",
    "            vectorizer = vectorizers[\"model\"].__class__(**params) \n",
    "            list_vectorizers.append(vectorizer)\n",
    "\n",
    "    else:\n",
    "        param_grid_combinations = list(product(*param_grid.values()))\n",
    "        for i, combination in enumerate(param_grid_combinations, start=1):\n",
    "            params = {param_name: value for param_name, value in zip(param_grid.keys(), combination)}\n",
    "            vectorizer = vectorizers[\"model\"].__class__(**params) \n",
    "            list_vectorizers.append(vectorizer)\n",
    "\n",
    "    return list_vectorizers"
   ]
  },
  {
   "cell_type": "code",
   "execution_count": 152,
   "metadata": {},
   "outputs": [
    {
     "data": {
      "text/plain": [
       "[TfidfVectorizer(max_df=0.5, max_features=1000),\n",
       " TfidfVectorizer(max_df=0.5, max_features=1000, ngram_range=(1, 2)),\n",
       " TfidfVectorizer(max_df=0.5, max_features=15000),\n",
       " TfidfVectorizer(max_df=0.5, max_features=15000, ngram_range=(1, 2)),\n",
       " TfidfVectorizer(max_df=0.5),\n",
       " TfidfVectorizer(max_df=0.5, ngram_range=(1, 2)),\n",
       " TfidfVectorizer(max_df=0.1, max_features=1000),\n",
       " TfidfVectorizer(max_df=0.1, max_features=1000, ngram_range=(1, 2)),\n",
       " TfidfVectorizer(max_df=0.1, max_features=15000),\n",
       " TfidfVectorizer(max_df=0.1, max_features=15000, ngram_range=(1, 2)),\n",
       " TfidfVectorizer(max_df=0.1),\n",
       " TfidfVectorizer(max_df=0.1, ngram_range=(1, 2))]"
      ]
     },
     "execution_count": 152,
     "metadata": {},
     "output_type": "execute_result"
    }
   ],
   "source": [
    "list_vectorizers = hyperparameter_vectorizer(vectorizers[\"TfidfVectorizer\"])\n",
    "list_vectorizers"
   ]
  },
  {
   "cell_type": "markdown",
   "metadata": {},
   "source": [
    "Nous testons donc **11 vectorizers** différents au total. Nous vectorisons nos données et stockons ces dernières dans une dataframe pour faciliter les tests sur nos trois algorithmes."
   ]
  },
  {
   "cell_type": "code",
   "execution_count": 153,
   "metadata": {},
   "outputs": [],
   "source": [
    "def store_vectorisations(list_vectorizers, x_train, x_test):\n",
    "    \"\"\"Cette fonction permet d'itérer une liste de vectorizers et de vectoriser les données pour ensuite les stocker \n",
    "    dans une dataframe.\"\"\"\n",
    "\n",
    "    all_vectorisations = []\n",
    "\n",
    "    for i, vectorizer in enumerate(list_vectorizers):\n",
    "        x_train_vectorized = vectorizer.fit_transform(x_train)\n",
    "        x_test_vectorized = vectorizer.transform(x_test)\n",
    "        all_vectorisations.append({\"vectorizer_id\": vectorizer.__class__.__name__ + str(i),\n",
    "                                   \"vectorizer\": vectorizer, \n",
    "                                   \"x_train\": x_train_vectorized, \n",
    "                                   \"x_test\": x_test_vectorized})\n",
    "    \n",
    "    df_vectorisations = pd.DataFrame(all_vectorisations)\n",
    "\n",
    "    return df_vectorisations"
   ]
  },
  {
   "cell_type": "code",
   "execution_count": 154,
   "metadata": {},
   "outputs": [],
   "source": [
    "df_vectorisations = store_vectorisations(list_vectorizers, df_train[\"texte_nettoyé\"], df_test[\"texte_nettoyé\"])"
   ]
  },
  {
   "cell_type": "code",
   "execution_count": 155,
   "metadata": {},
   "outputs": [
    {
     "data": {
      "text/html": [
       "<div>\n",
       "<style scoped>\n",
       "    .dataframe tbody tr th:only-of-type {\n",
       "        vertical-align: middle;\n",
       "    }\n",
       "\n",
       "    .dataframe tbody tr th {\n",
       "        vertical-align: top;\n",
       "    }\n",
       "\n",
       "    .dataframe thead th {\n",
       "        text-align: right;\n",
       "    }\n",
       "</style>\n",
       "<table border=\"1\" class=\"dataframe\">\n",
       "  <thead>\n",
       "    <tr style=\"text-align: right;\">\n",
       "      <th></th>\n",
       "      <th>vectorizer_id</th>\n",
       "      <th>vectorizer</th>\n",
       "      <th>x_train</th>\n",
       "      <th>x_test</th>\n",
       "    </tr>\n",
       "  </thead>\n",
       "  <tbody>\n",
       "    <tr>\n",
       "      <th>0</th>\n",
       "      <td>TfidfVectorizer0</td>\n",
       "      <td>TfidfVectorizer(max_df=0.5, max_features=1000)</td>\n",
       "      <td>&lt;Compressed Sparse Row sparse matrix of dtype ...</td>\n",
       "      <td>&lt;Compressed Sparse Row sparse matrix of dtype ...</td>\n",
       "    </tr>\n",
       "    <tr>\n",
       "      <th>1</th>\n",
       "      <td>TfidfVectorizer1</td>\n",
       "      <td>TfidfVectorizer(max_df=0.5, max_features=1000,...</td>\n",
       "      <td>&lt;Compressed Sparse Row sparse matrix of dtype ...</td>\n",
       "      <td>&lt;Compressed Sparse Row sparse matrix of dtype ...</td>\n",
       "    </tr>\n",
       "    <tr>\n",
       "      <th>2</th>\n",
       "      <td>TfidfVectorizer2</td>\n",
       "      <td>TfidfVectorizer(max_df=0.5, max_features=15000)</td>\n",
       "      <td>&lt;Compressed Sparse Row sparse matrix of dtype ...</td>\n",
       "      <td>&lt;Compressed Sparse Row sparse matrix of dtype ...</td>\n",
       "    </tr>\n",
       "    <tr>\n",
       "      <th>3</th>\n",
       "      <td>TfidfVectorizer3</td>\n",
       "      <td>TfidfVectorizer(max_df=0.5, max_features=15000...</td>\n",
       "      <td>&lt;Compressed Sparse Row sparse matrix of dtype ...</td>\n",
       "      <td>&lt;Compressed Sparse Row sparse matrix of dtype ...</td>\n",
       "    </tr>\n",
       "    <tr>\n",
       "      <th>4</th>\n",
       "      <td>TfidfVectorizer4</td>\n",
       "      <td>TfidfVectorizer(max_df=0.5)</td>\n",
       "      <td>&lt;Compressed Sparse Row sparse matrix of dtype ...</td>\n",
       "      <td>&lt;Compressed Sparse Row sparse matrix of dtype ...</td>\n",
       "    </tr>\n",
       "    <tr>\n",
       "      <th>5</th>\n",
       "      <td>TfidfVectorizer5</td>\n",
       "      <td>TfidfVectorizer(max_df=0.5, ngram_range=(1, 2))</td>\n",
       "      <td>&lt;Compressed Sparse Row sparse matrix of dtype ...</td>\n",
       "      <td>&lt;Compressed Sparse Row sparse matrix of dtype ...</td>\n",
       "    </tr>\n",
       "    <tr>\n",
       "      <th>6</th>\n",
       "      <td>TfidfVectorizer6</td>\n",
       "      <td>TfidfVectorizer(max_df=0.1, max_features=1000)</td>\n",
       "      <td>&lt;Compressed Sparse Row sparse matrix of dtype ...</td>\n",
       "      <td>&lt;Compressed Sparse Row sparse matrix of dtype ...</td>\n",
       "    </tr>\n",
       "    <tr>\n",
       "      <th>7</th>\n",
       "      <td>TfidfVectorizer7</td>\n",
       "      <td>TfidfVectorizer(max_df=0.1, max_features=1000,...</td>\n",
       "      <td>&lt;Compressed Sparse Row sparse matrix of dtype ...</td>\n",
       "      <td>&lt;Compressed Sparse Row sparse matrix of dtype ...</td>\n",
       "    </tr>\n",
       "    <tr>\n",
       "      <th>8</th>\n",
       "      <td>TfidfVectorizer8</td>\n",
       "      <td>TfidfVectorizer(max_df=0.1, max_features=15000)</td>\n",
       "      <td>&lt;Compressed Sparse Row sparse matrix of dtype ...</td>\n",
       "      <td>&lt;Compressed Sparse Row sparse matrix of dtype ...</td>\n",
       "    </tr>\n",
       "    <tr>\n",
       "      <th>9</th>\n",
       "      <td>TfidfVectorizer9</td>\n",
       "      <td>TfidfVectorizer(max_df=0.1, max_features=15000...</td>\n",
       "      <td>&lt;Compressed Sparse Row sparse matrix of dtype ...</td>\n",
       "      <td>&lt;Compressed Sparse Row sparse matrix of dtype ...</td>\n",
       "    </tr>\n",
       "    <tr>\n",
       "      <th>10</th>\n",
       "      <td>TfidfVectorizer10</td>\n",
       "      <td>TfidfVectorizer(max_df=0.1)</td>\n",
       "      <td>&lt;Compressed Sparse Row sparse matrix of dtype ...</td>\n",
       "      <td>&lt;Compressed Sparse Row sparse matrix of dtype ...</td>\n",
       "    </tr>\n",
       "    <tr>\n",
       "      <th>11</th>\n",
       "      <td>TfidfVectorizer11</td>\n",
       "      <td>TfidfVectorizer(max_df=0.1, ngram_range=(1, 2))</td>\n",
       "      <td>&lt;Compressed Sparse Row sparse matrix of dtype ...</td>\n",
       "      <td>&lt;Compressed Sparse Row sparse matrix of dtype ...</td>\n",
       "    </tr>\n",
       "  </tbody>\n",
       "</table>\n",
       "</div>"
      ],
      "text/plain": [
       "        vectorizer_id                                         vectorizer  \\\n",
       "0    TfidfVectorizer0     TfidfVectorizer(max_df=0.5, max_features=1000)   \n",
       "1    TfidfVectorizer1  TfidfVectorizer(max_df=0.5, max_features=1000,...   \n",
       "2    TfidfVectorizer2    TfidfVectorizer(max_df=0.5, max_features=15000)   \n",
       "3    TfidfVectorizer3  TfidfVectorizer(max_df=0.5, max_features=15000...   \n",
       "4    TfidfVectorizer4                        TfidfVectorizer(max_df=0.5)   \n",
       "5    TfidfVectorizer5    TfidfVectorizer(max_df=0.5, ngram_range=(1, 2))   \n",
       "6    TfidfVectorizer6     TfidfVectorizer(max_df=0.1, max_features=1000)   \n",
       "7    TfidfVectorizer7  TfidfVectorizer(max_df=0.1, max_features=1000,...   \n",
       "8    TfidfVectorizer8    TfidfVectorizer(max_df=0.1, max_features=15000)   \n",
       "9    TfidfVectorizer9  TfidfVectorizer(max_df=0.1, max_features=15000...   \n",
       "10  TfidfVectorizer10                        TfidfVectorizer(max_df=0.1)   \n",
       "11  TfidfVectorizer11    TfidfVectorizer(max_df=0.1, ngram_range=(1, 2))   \n",
       "\n",
       "                                              x_train  \\\n",
       "0   <Compressed Sparse Row sparse matrix of dtype ...   \n",
       "1   <Compressed Sparse Row sparse matrix of dtype ...   \n",
       "2   <Compressed Sparse Row sparse matrix of dtype ...   \n",
       "3   <Compressed Sparse Row sparse matrix of dtype ...   \n",
       "4   <Compressed Sparse Row sparse matrix of dtype ...   \n",
       "5   <Compressed Sparse Row sparse matrix of dtype ...   \n",
       "6   <Compressed Sparse Row sparse matrix of dtype ...   \n",
       "7   <Compressed Sparse Row sparse matrix of dtype ...   \n",
       "8   <Compressed Sparse Row sparse matrix of dtype ...   \n",
       "9   <Compressed Sparse Row sparse matrix of dtype ...   \n",
       "10  <Compressed Sparse Row sparse matrix of dtype ...   \n",
       "11  <Compressed Sparse Row sparse matrix of dtype ...   \n",
       "\n",
       "                                               x_test  \n",
       "0   <Compressed Sparse Row sparse matrix of dtype ...  \n",
       "1   <Compressed Sparse Row sparse matrix of dtype ...  \n",
       "2   <Compressed Sparse Row sparse matrix of dtype ...  \n",
       "3   <Compressed Sparse Row sparse matrix of dtype ...  \n",
       "4   <Compressed Sparse Row sparse matrix of dtype ...  \n",
       "5   <Compressed Sparse Row sparse matrix of dtype ...  \n",
       "6   <Compressed Sparse Row sparse matrix of dtype ...  \n",
       "7   <Compressed Sparse Row sparse matrix of dtype ...  \n",
       "8   <Compressed Sparse Row sparse matrix of dtype ...  \n",
       "9   <Compressed Sparse Row sparse matrix of dtype ...  \n",
       "10  <Compressed Sparse Row sparse matrix of dtype ...  \n",
       "11  <Compressed Sparse Row sparse matrix of dtype ...  "
      ]
     },
     "execution_count": 155,
     "metadata": {},
     "output_type": "execute_result"
    }
   ],
   "source": [
    "df_vectorisations"
   ]
  },
  {
   "cell_type": "markdown",
   "metadata": {},
   "source": [
    "On peut ensuite itérer à travers ces colonnes et utiliser chaque vectorisation pour entraîner nos classifieurs !"
   ]
  },
  {
   "cell_type": "code",
   "execution_count": 156,
   "metadata": {},
   "outputs": [],
   "source": [
    "def classic_classifier_function(classifier, df_vectorisations, y_train, y_test):\n",
    "\n",
    "    model = classifier\n",
    "    scores = []\n",
    "\n",
    "    for i, row in df_vectorisations.iterrows():\n",
    "        vectorizer_id = row[\"vectorizer_id\"]\n",
    "        vectorizer = row[\"vectorizer\"]\n",
    "        x_train = row[\"x_train\"]\n",
    "        x_test = row[\"x_test\"]\n",
    "        model.fit(x_train, y_train)\n",
    "        y_pred = model.predict(x_test)\n",
    "        report = classification_report(y_test, y_pred, output_dict=True)\n",
    "        scores.append({\"vectorizer\": vectorizer, \"vectorizer_id\" : vectorizer_id, \"scores\": report})\n",
    "                      \n",
    "    return scores\n"
   ]
  },
  {
   "cell_type": "code",
   "execution_count": 157,
   "metadata": {},
   "outputs": [],
   "source": [
    "def comparison_vectorisation(df_vectorisations, y_train, y_test):\n",
    "\n",
    "    print(\"Test avec knn...\")\n",
    "    scores_knn = classic_classifier_function(KNeighborsClassifier(), df_vectorisations, y_train, y_test)\n",
    "    print(\"Test avec cnb...\")\n",
    "    scores_cnb = classic_classifier_function(ComplementNB(), df_vectorisations, y_train, y_test)\n",
    "    print(\"Test avec svc...\")\n",
    "    scores_svc = classic_classifier_function(LinearSVC(), df_vectorisations, y_train, y_test)\n",
    "\n",
    "\n",
    "    sorted_scores_knn = sorted(scores_knn, key=lambda x: x[\"scores\"][\"macro avg\"][\"f1-score\"], reverse=True)\n",
    "    sorted_scores_cnb = sorted(scores_cnb, key=lambda x: x[\"scores\"][\"macro avg\"][\"f1-score\"], reverse=True)\n",
    "    sorted_scores_svc = sorted(scores_svc, key=lambda x: x[\"scores\"][\"macro avg\"][\"f1-score\"], reverse=True)\n",
    "\n",
    "    return sorted_scores_knn, sorted_scores_cnb, sorted_scores_svc"
   ]
  },
  {
   "cell_type": "code",
   "execution_count": 158,
   "metadata": {},
   "outputs": [
    {
     "name": "stdout",
     "output_type": "stream",
     "text": [
      "Test avec knn...\n",
      "Test avec cnb...\n",
      "Test avec svc...\n"
     ]
    }
   ],
   "source": [
    "sorted_scores_knn, sorted_scores_cnb, sorted_scores_svc = comparison_vectorisation(df_vectorisations, df_train[\"label\"], df_test[\"label\"])"
   ]
  },
  {
   "cell_type": "code",
   "execution_count": 159,
   "metadata": {},
   "outputs": [],
   "source": [
    "def fill_vect_table(best_scores, algo, table):\n",
    "\n",
    "    for score in best_scores:\n",
    "        vectorizer = score[\"vectorizer\"]\n",
    "        vectorizer_id = score[\"vectorizer_id\"]\n",
    "        for metric, value in score[\"scores\"].items():\n",
    "            if metric == \"accuracy\":\n",
    "                accuracy = value\n",
    "            elif metric == \"macro avg\":\n",
    "                macro_f1 = value[\"f1-score\"]\n",
    "                precision = value[\"precision\"]\n",
    "                recall = value[\"recall\"]\n",
    "            \n",
    "        table.add_row([algo, vectorizer, vectorizer_id, macro_f1, accuracy, precision, recall])\n",
    "\n",
    "    print(table)\n",
    "    return table\n"
   ]
  },
  {
   "cell_type": "code",
   "execution_count": 160,
   "metadata": {},
   "outputs": [
    {
     "name": "stdout",
     "output_type": "stream",
     "text": [
      "+------+---------------------------------------------------------------------+-------------------+---------------------+--------------------+---------------------+---------------------+\n",
      "| Algo |                              Vectorizer                             |   Vectorizer ID   |       Macro f1      |      Accuracy      |      Precision      |        Rappel       |\n",
      "+------+---------------------------------------------------------------------+-------------------+---------------------+--------------------+---------------------+---------------------+\n",
      "| knn  |           TfidfVectorizer(max_df=0.5, ngram_range=(1, 2))           |  TfidfVectorizer5 |  0.2720166812189435 | 0.3496326905417815 |  0.2888261686967606 |  0.2759121644368684 |\n",
      "| knn  | TfidfVectorizer(max_df=0.1, max_features=15000, ngram_range=(1, 2)) |  TfidfVectorizer9 |  0.2701353103491367 | 0.3442378328741965 | 0.28439860944708584 | 0.27345252981233303 |\n",
      "| knn  |           TfidfVectorizer(max_df=0.1, ngram_range=(1, 2))           | TfidfVectorizer11 | 0.26702872943049843 | 0.344811753902663  | 0.28191131274633696 |  0.271615656295467  |\n",
      "+------+---------------------------------------------------------------------+-------------------+---------------------+--------------------+---------------------+---------------------+\n",
      "+------+---------------------------------------------------------------------+------------------+---------------------+---------------------+---------------------+--------------------+\n",
      "| Algo |                              Vectorizer                             |  Vectorizer ID   |       Macro f1      |       Accuracy      |      Precision      |       Rappel       |\n",
      "+------+---------------------------------------------------------------------+------------------+---------------------+---------------------+---------------------+--------------------+\n",
      "| cnb  | TfidfVectorizer(max_df=0.1, max_features=15000, ngram_range=(1, 2)) | TfidfVectorizer9 |  0.3203283193105756 | 0.38050964187327824 |  0.3325410640395902 | 0.3366364851764875 |\n",
      "| cnb  | TfidfVectorizer(max_df=0.5, max_features=15000, ngram_range=(1, 2)) | TfidfVectorizer3 | 0.31995797676499327 | 0.38337924701561066 |  0.3354203412618027 | 0.3366650532214746 |\n",
      "| cnb  |           TfidfVectorizer(max_df=0.1, max_features=15000)           | TfidfVectorizer8 |  0.3072057532138069 | 0.38682277318640956 | 0.32747923144694807 | 0.317893379111457  |\n",
      "+------+---------------------------------------------------------------------+------------------+---------------------+---------------------+---------------------+--------------------+\n",
      "+------+---------------------------------------------------------------------+-------------------+--------------------+---------------------+---------------------+---------------------+\n",
      "| Algo |                              Vectorizer                             |   Vectorizer ID   |      Macro f1      |       Accuracy      |      Precision      |        Rappel       |\n",
      "+------+---------------------------------------------------------------------+-------------------+--------------------+---------------------+---------------------+---------------------+\n",
      "| svc  |           TfidfVectorizer(max_df=0.5, ngram_range=(1, 2))           |  TfidfVectorizer5 | 0.3319172995235483 |  0.4180440771349862 |  0.3930365127324806 | 0.32991101032659575 |\n",
      "| svc  |           TfidfVectorizer(max_df=0.1, ngram_range=(1, 2))           | TfidfVectorizer11 | 0.3306101616465865 | 0.41655188246097336 |  0.3954136361502066 |  0.3277744957731205 |\n",
      "| svc  | TfidfVectorizer(max_df=0.5, max_features=15000, ngram_range=(1, 2)) |  TfidfVectorizer3 | 0.3271193967114935 | 0.38670798898071623 | 0.34611396029056174 | 0.32272975416932137 |\n",
      "+------+---------------------------------------------------------------------+-------------------+--------------------+---------------------+---------------------+---------------------+\n"
     ]
    }
   ],
   "source": [
    "def visualise_vect_comparison(scores_knn, scores_cnb, scores_svc):\n",
    "\n",
    "    field_names = [\"Algo\", \"Vectorizer\", \"Vectorizer ID\", \"Macro f1\", \"Accuracy\", \"Precision\", \"Rappel\"]\n",
    "\n",
    "    prettytable_knn = ColorTable(theme=Themes.LAVENDER)\n",
    "    prettytable_knn.field_names = field_names\n",
    "    prettytable_cnb = ColorTable(theme=Themes.LAVENDER)\n",
    "    prettytable_cnb.field_names = field_names\n",
    "    prettytable_svc = ColorTable(theme=Themes.LAVENDER)\n",
    "    prettytable_svc.field_names = field_names\n",
    "\n",
    "    three_best_knn = scores_knn[:3]\n",
    "    three_best_cnb = scores_cnb[:3]\n",
    "    three_best_svc = scores_svc[:3]\n",
    "\n",
    "    fill_vect_table(three_best_knn, \"knn\", prettytable_knn)\n",
    "    fill_vect_table(three_best_cnb, \"cnb\", prettytable_cnb)\n",
    "    fill_vect_table(three_best_svc, \"svc\", prettytable_svc)\n",
    "\n",
    "visualise_vect_comparison(sorted_scores_knn, sorted_scores_cnb, sorted_scores_svc)"
   ]
  },
  {
   "cell_type": "markdown",
   "metadata": {},
   "source": [
    "Au vu de nos résultats, on peut admettre que c'est un **tfidf avec une max df de 0.9**, des **max_features de 15 000 et un ngram range de (1, 2)** qui donne les meilleurs résultats. Nous utiliserons ainsi cette combinaison d'hyperparamètres et donc cette vectorisation pour nos essais suivants."
   ]
  },
  {
   "cell_type": "markdown",
   "metadata": {},
   "source": [
    "On peut donc créer les variables pour le français que nous utiliserons lors de la suite du TP."
   ]
  },
  {
   "cell_type": "code",
   "execution_count": 161,
   "metadata": {},
   "outputs": [],
   "source": [
    "best_data = df_vectorisations[df_vectorisations[\"vectorizer_id\"] == \"TfidfVectorizer5\"]\n",
    "x_train = best_data.iloc[0][\"x_train\"]\n",
    "y_train = df_train[\"label\"]\n",
    "\n",
    "x_test = best_data.iloc[0][\"x_test\"]\n",
    "y_test = df_test[\"label\"]"
   ]
  },
  {
   "cell_type": "markdown",
   "metadata": {},
   "source": [
    "<a id=\"3-comparaison-des-modèles\"></a>\n",
    "# **3. Comparaison des modèles**"
   ]
  },
  {
   "cell_type": "markdown",
   "metadata": {},
   "source": [
    "<a id=\"a-choix-des-algorithmes\"></a>\n",
    "## **A - Choix des algorithmes**"
   ]
  },
  {
   "cell_type": "code",
   "execution_count": 162,
   "metadata": {},
   "outputs": [],
   "source": [
    "def time_function(func):\n",
    "    def wrapper(*args, **kwargs):\n",
    "        start = time.time()\n",
    "        result = func(*args, **kwargs)\n",
    "        end = time.time()\n",
    "        return result, end - start\n",
    "    return wrapper"
   ]
  },
  {
   "cell_type": "code",
   "execution_count": 163,
   "metadata": {},
   "outputs": [],
   "source": [
    "class Model:\n",
    "\n",
    "    # Contient tous les modèles entrainés ! \n",
    "    all_models = []\n",
    "\n",
    "    def __init__(self, name: str, model=None, scores={}, running_time=None):\n",
    "    ## j'ai rajouté ça mais je suis pas convaincue du tout !!\n",
    "    #def __init__(self, name: str, model=None, scores={}, running_time=None, macro_average=None):\n",
    "\n",
    "        self.name = name\n",
    "        self.model = model\n",
    "        self.scores = scores\n",
    "        self.running_time = running_time\n",
    "        ## et là aussi\n",
    "        #self.macro_average = macro_average\n",
    "\n",
    "        Model.all_models.append(self)\n",
    "        # Pour chaque modèle entraîné, on garde son nom (algo + num), le modèle et ses \n",
    "        # hyperparamètres pour cet entraînement, les métriques obtenues, et son temps d'execution !\n",
    "\n",
    "    # Pour vider la liste si nécessaire ! \n",
    "    @classmethod\n",
    "    def reset(cls):\n",
    "        cls.all_models = []\n",
    "\n",
    "    # Entraîne le modèle\n",
    "    @time_function\n",
    "    def fit_model(self, x_train, y_train):\n",
    "        self.model.fit(x_train, y_train)\n",
    "    \n",
    "    # Prédictions et scores\n",
    "    @time_function\n",
    "    def predict(self, x_test, y_test):\n",
    "        y_pred = self.model.predict(x_test)\n",
    "        report = classification_report(y_test, y_pred, output_dict=True)\n",
    "        accuracy = accuracy_score(y_test, y_pred)\n",
    "        accuracy_dict =  {\"accuracy\": accuracy, **report}\n",
    "        self.scores = accuracy_dict\n",
    "        return y_pred\n",
    "\n",
    "    # Lance les fonctions d'entraînement et de prédiction\n",
    "    # Stock les temps d'execution\n",
    "    def test_model(self, x_train, y_train, x_test, y_test):\n",
    "        _, fit_execution_time = self.fit_model(x_train, y_train)\n",
    "        y_pred, predict_execution_time = self.predict(x_test, y_test)\n",
    "        self.running_time = fit_execution_time + predict_execution_time"
   ]
  },
  {
   "cell_type": "code",
   "execution_count": 164,
   "metadata": {},
   "outputs": [],
   "source": [
    "Model.reset()"
   ]
  },
  {
   "cell_type": "code",
   "execution_count": 165,
   "metadata": {},
   "outputs": [],
   "source": [
    "# on met les hyperparamètres par défaut\n",
    "models_dict = {\n",
    "    \"KNN\" : { \"model\" : KNeighborsClassifier(), \"hyperparameters\": {\"n_neighbors\": [3, 5, 7]}},\n",
    "    \"MultinomialNB\": {\"model\": MultinomialNB(), \"hyperparameters\": {\"alpha\": [0.5, 1.0], \"fit_prior\": [True, False]}},\n",
    "    \"ComplementNB\" : {\"model\": ComplementNB(), \"hyperparameters\": {\"alpha\": [0.5, 1.0], \"fit_prior\": [True, False]}},\n",
    "    \"LogisticRegression\": {\"model\": LogisticRegression(), \"hyperparameters\": {\"C\": [0.5, 1.0]}},\n",
    "    \"SGDClassifier\": {\"model\": SGDClassifier(), \"hyperparameters\": {\"alpha\": [0.0001, 0.001, 0.01], \"loss\": [\"hinge\", \"squared_hinge\"]}},\n",
    "    \"LinearSVC\": {\"model\": LinearSVC(), \"hyperparameters\": {\"C\": [0.5, 1.0], \"dual\":[True, False]}},\n",
    "    \"SVC\": {\"model\": SVC(), \"hyperparameters\": {\"kernel\": [\"poly\", \"sigmoid\"]}},\n",
    "    \"RidgeClassifier\": {\"model\": RidgeClassifier(), \"hyperparameters\": { \"alpha\": [1.0, 1.5, 2]}},\n",
    "    \"LGBMClassifier\": {\"model\": LGBMClassifier(), \"hyperparameters\": {\"max_depth\": [500], \"n_estimators\": [500]}},\n",
    "    \"RandomForestClassifier\": {\"model\": RandomForestClassifier(), \"hyperparameters\": {\"max_depth\": [100]}},\n",
    "    \"PassiveAggressiveClassifier\": {\"model\": PassiveAggressiveClassifier(), \"hyperparameters\": {\"C\": [0.5, 1.0], \"loss\": [\"hinge\", \"squared_hinge\"]}}\n",
    " }"
   ]
  },
  {
   "cell_type": "code",
   "execution_count": 166,
   "metadata": {},
   "outputs": [],
   "source": [
    "def hyperparameters_training(model_name, model_dict, x_train, y_train, x_test, y_test):\n",
    "    \n",
    "    param_grid = model_dict[\"hyperparameters\"]\n",
    "\n",
    "    if len(param_grid) == 1:\n",
    "        param_name, param_values = list(param_grid.items())[0]\n",
    "        for i, value in enumerate(param_values, start=1):\n",
    "            params = {param_name: value}\n",
    "            model = model_dict[\"model\"].__class__(**params)  \n",
    "            model_obj = Model(name=f\"{model_name}_{i}\", model=model)\n",
    "            model_obj.test_model(x_train, y_train, x_test, y_test)\n",
    "    else:\n",
    "        param_grid_combinations = list(product(*param_grid.values()))\n",
    "        for i, combination in enumerate(param_grid_combinations, start=1):\n",
    "            params = {param_name: value for param_name, value in zip(param_grid.keys(), combination)}\n",
    "            model = model_dict[\"model\"].__class__(**params) \n",
    "            model_obj = Model(name=f\"{model_name}_{i}\", model=model)\n",
    "            model_obj.test_model(x_train, y_train, x_test, y_test)"
   ]
  },
  {
   "cell_type": "code",
   "execution_count": 167,
   "metadata": {},
   "outputs": [
    {
     "name": "stdout",
     "output_type": "stream",
     "text": [
      "On teste le modèle KNN !\n",
      "On teste le modèle MultinomialNB !\n"
     ]
    },
    {
     "name": "stderr",
     "output_type": "stream",
     "text": [
      "/home/debora/Documents/scripts/.venv/deft09/lib/python3.12/site-packages/sklearn/metrics/_classification.py:1565: UndefinedMetricWarning: Precision is ill-defined and being set to 0.0 in labels with no predicted samples. Use `zero_division` parameter to control this behavior.\n",
      "  _warn_prf(average, modifier, f\"{metric.capitalize()} is\", len(result))\n",
      "/home/debora/Documents/scripts/.venv/deft09/lib/python3.12/site-packages/sklearn/metrics/_classification.py:1565: UndefinedMetricWarning: Precision is ill-defined and being set to 0.0 in labels with no predicted samples. Use `zero_division` parameter to control this behavior.\n",
      "  _warn_prf(average, modifier, f\"{metric.capitalize()} is\", len(result))\n",
      "/home/debora/Documents/scripts/.venv/deft09/lib/python3.12/site-packages/sklearn/metrics/_classification.py:1565: UndefinedMetricWarning: Precision is ill-defined and being set to 0.0 in labels with no predicted samples. Use `zero_division` parameter to control this behavior.\n",
      "  _warn_prf(average, modifier, f\"{metric.capitalize()} is\", len(result))\n",
      "/home/debora/Documents/scripts/.venv/deft09/lib/python3.12/site-packages/sklearn/metrics/_classification.py:1565: UndefinedMetricWarning: Precision is ill-defined and being set to 0.0 in labels with no predicted samples. Use `zero_division` parameter to control this behavior.\n",
      "  _warn_prf(average, modifier, f\"{metric.capitalize()} is\", len(result))\n",
      "/home/debora/Documents/scripts/.venv/deft09/lib/python3.12/site-packages/sklearn/metrics/_classification.py:1565: UndefinedMetricWarning: Precision is ill-defined and being set to 0.0 in labels with no predicted samples. Use `zero_division` parameter to control this behavior.\n",
      "  _warn_prf(average, modifier, f\"{metric.capitalize()} is\", len(result))\n",
      "/home/debora/Documents/scripts/.venv/deft09/lib/python3.12/site-packages/sklearn/metrics/_classification.py:1565: UndefinedMetricWarning: Precision is ill-defined and being set to 0.0 in labels with no predicted samples. Use `zero_division` parameter to control this behavior.\n",
      "  _warn_prf(average, modifier, f\"{metric.capitalize()} is\", len(result))\n",
      "/home/debora/Documents/scripts/.venv/deft09/lib/python3.12/site-packages/sklearn/metrics/_classification.py:1565: UndefinedMetricWarning: Precision is ill-defined and being set to 0.0 in labels with no predicted samples. Use `zero_division` parameter to control this behavior.\n",
      "  _warn_prf(average, modifier, f\"{metric.capitalize()} is\", len(result))\n",
      "/home/debora/Documents/scripts/.venv/deft09/lib/python3.12/site-packages/sklearn/metrics/_classification.py:1565: UndefinedMetricWarning: Precision is ill-defined and being set to 0.0 in labels with no predicted samples. Use `zero_division` parameter to control this behavior.\n",
      "  _warn_prf(average, modifier, f\"{metric.capitalize()} is\", len(result))\n",
      "/home/debora/Documents/scripts/.venv/deft09/lib/python3.12/site-packages/sklearn/metrics/_classification.py:1565: UndefinedMetricWarning: Precision is ill-defined and being set to 0.0 in labels with no predicted samples. Use `zero_division` parameter to control this behavior.\n",
      "  _warn_prf(average, modifier, f\"{metric.capitalize()} is\", len(result))\n"
     ]
    },
    {
     "name": "stdout",
     "output_type": "stream",
     "text": [
      "On teste le modèle ComplementNB !\n",
      "On teste le modèle LogisticRegression !\n",
      "On teste le modèle SGDClassifier !\n"
     ]
    },
    {
     "name": "stderr",
     "output_type": "stream",
     "text": [
      "/home/debora/Documents/scripts/.venv/deft09/lib/python3.12/site-packages/sklearn/metrics/_classification.py:1565: UndefinedMetricWarning: Precision is ill-defined and being set to 0.0 in labels with no predicted samples. Use `zero_division` parameter to control this behavior.\n",
      "  _warn_prf(average, modifier, f\"{metric.capitalize()} is\", len(result))\n",
      "/home/debora/Documents/scripts/.venv/deft09/lib/python3.12/site-packages/sklearn/metrics/_classification.py:1565: UndefinedMetricWarning: Precision is ill-defined and being set to 0.0 in labels with no predicted samples. Use `zero_division` parameter to control this behavior.\n",
      "  _warn_prf(average, modifier, f\"{metric.capitalize()} is\", len(result))\n",
      "/home/debora/Documents/scripts/.venv/deft09/lib/python3.12/site-packages/sklearn/metrics/_classification.py:1565: UndefinedMetricWarning: Precision is ill-defined and being set to 0.0 in labels with no predicted samples. Use `zero_division` parameter to control this behavior.\n",
      "  _warn_prf(average, modifier, f\"{metric.capitalize()} is\", len(result))\n"
     ]
    },
    {
     "name": "stdout",
     "output_type": "stream",
     "text": [
      "On teste le modèle LinearSVC !\n",
      "On teste le modèle SVC !\n"
     ]
    },
    {
     "name": "stderr",
     "output_type": "stream",
     "text": [
      "/home/debora/Documents/scripts/.venv/deft09/lib/python3.12/site-packages/sklearn/metrics/_classification.py:1565: UndefinedMetricWarning: Precision is ill-defined and being set to 0.0 in labels with no predicted samples. Use `zero_division` parameter to control this behavior.\n",
      "  _warn_prf(average, modifier, f\"{metric.capitalize()} is\", len(result))\n",
      "/home/debora/Documents/scripts/.venv/deft09/lib/python3.12/site-packages/sklearn/metrics/_classification.py:1565: UndefinedMetricWarning: Precision is ill-defined and being set to 0.0 in labels with no predicted samples. Use `zero_division` parameter to control this behavior.\n",
      "  _warn_prf(average, modifier, f\"{metric.capitalize()} is\", len(result))\n",
      "/home/debora/Documents/scripts/.venv/deft09/lib/python3.12/site-packages/sklearn/metrics/_classification.py:1565: UndefinedMetricWarning: Precision is ill-defined and being set to 0.0 in labels with no predicted samples. Use `zero_division` parameter to control this behavior.\n",
      "  _warn_prf(average, modifier, f\"{metric.capitalize()} is\", len(result))\n"
     ]
    },
    {
     "name": "stdout",
     "output_type": "stream",
     "text": [
      "On teste le modèle RidgeClassifier !\n",
      "On teste le modèle LGBMClassifier !\n"
     ]
    },
    {
     "name": "stderr",
     "output_type": "stream",
     "text": [
      "/home/debora/Documents/scripts/.venv/deft09/lib/python3.12/site-packages/sklearn/utils/deprecation.py:151: FutureWarning: 'force_all_finite' was renamed to 'ensure_all_finite' in 1.6 and will be removed in 1.8.\n",
      "  warnings.warn(\n"
     ]
    },
    {
     "name": "stdout",
     "output_type": "stream",
     "text": [
      "[LightGBM] [Info] Auto-choosing row-wise multi-threading, the overhead of testing was 0.650407 seconds.\n",
      "You can set `force_row_wise=true` to remove the overhead.\n",
      "And if memory is not enough, you can set `force_col_wise=true`.\n",
      "[LightGBM] [Info] Total Bins 184903\n",
      "[LightGBM] [Info] Number of data points in the train set: 13068, number of used features: 5932\n",
      "[LightGBM] [Info] Start training from score -2.269321\n",
      "[LightGBM] [Info] Start training from score -1.969683\n",
      "[LightGBM] [Info] Start training from score -1.036530\n",
      "[LightGBM] [Info] Start training from score -1.275439\n",
      "[LightGBM] [Info] Start training from score -2.094554\n"
     ]
    },
    {
     "name": "stderr",
     "output_type": "stream",
     "text": [
      "/home/debora/Documents/scripts/.venv/deft09/lib/python3.12/site-packages/sklearn/utils/deprecation.py:151: FutureWarning: 'force_all_finite' was renamed to 'ensure_all_finite' in 1.6 and will be removed in 1.8.\n",
      "  warnings.warn(\n"
     ]
    },
    {
     "name": "stdout",
     "output_type": "stream",
     "text": [
      "On teste le modèle RandomForestClassifier !\n"
     ]
    },
    {
     "name": "stderr",
     "output_type": "stream",
     "text": [
      "/home/debora/Documents/scripts/.venv/deft09/lib/python3.12/site-packages/sklearn/metrics/_classification.py:1565: UndefinedMetricWarning: Precision is ill-defined and being set to 0.0 in labels with no predicted samples. Use `zero_division` parameter to control this behavior.\n",
      "  _warn_prf(average, modifier, f\"{metric.capitalize()} is\", len(result))\n",
      "/home/debora/Documents/scripts/.venv/deft09/lib/python3.12/site-packages/sklearn/metrics/_classification.py:1565: UndefinedMetricWarning: Precision is ill-defined and being set to 0.0 in labels with no predicted samples. Use `zero_division` parameter to control this behavior.\n",
      "  _warn_prf(average, modifier, f\"{metric.capitalize()} is\", len(result))\n",
      "/home/debora/Documents/scripts/.venv/deft09/lib/python3.12/site-packages/sklearn/metrics/_classification.py:1565: UndefinedMetricWarning: Precision is ill-defined and being set to 0.0 in labels with no predicted samples. Use `zero_division` parameter to control this behavior.\n",
      "  _warn_prf(average, modifier, f\"{metric.capitalize()} is\", len(result))\n"
     ]
    },
    {
     "name": "stdout",
     "output_type": "stream",
     "text": [
      "On teste le modèle PassiveAggressiveClassifier !\n"
     ]
    },
    {
     "data": {
      "text/plain": [
       "(None, 941.5531964302063)"
      ]
     },
     "execution_count": 167,
     "metadata": {},
     "output_type": "execute_result"
    }
   ],
   "source": [
    "@time_function\n",
    "def test_models(models, x_train, y_train, x_test, y_test):\n",
    "                                 \n",
    "    for model_name, model_dict in models.items():\n",
    "        print(f\"On teste le modèle {model_name} !\")\n",
    "        hyperparameters_training(model_name, model_dict, x_train, y_train, x_test, y_test)\n",
    "\n",
    "test_models(models_dict, x_train, y_train, x_test, y_test)"
   ]
  },
  {
   "cell_type": "code",
   "execution_count": 168,
   "metadata": {},
   "outputs": [
    {
     "name": "stdout",
     "output_type": "stream",
     "text": [
      "+-------------------------------+----------------------------------------------------------+---------------------+---------------------+---------------------+---------------------+---------------------+\n",
      "|           Algorithme          |                     Hyperparamètres                      |       Macro f1      |       Accuracy      |      Precision      |        Rappel       |  Temps d'exécution  |\n",
      "+-------------------------------+----------------------------------------------------------+---------------------+---------------------+---------------------+---------------------+---------------------+\n",
      "| PassiveAggressiveClassifier_1 |            PassiveAggressiveClassifier(C=0.5)            | 0.34387335676593184 |  0.4123048668503214 |  0.3773061164199935 | 0.33831364700215544 |  1.4534480571746826 |\n",
      "| PassiveAggressiveClassifier_4 |    PassiveAggressiveClassifier(loss='squared_hinge')     |  0.3430056286587174 |  0.4112718089990817 | 0.37382432832612283 | 0.33771708135255746 |  1.425475835800171  |\n",
      "| PassiveAggressiveClassifier_2 | PassiveAggressiveClassifier(C=0.5, loss='squared_hinge') | 0.34266427602212685 |  0.4108126721763085 |  0.3734218019716752 | 0.33739209892768474 |  1.8172807693481445 |\n",
      "| PassiveAggressiveClassifier_3 |              PassiveAggressiveClassifier()               |  0.3409178275000788 | 0.41092745638200184 |  0.3707085864422396 |  0.3364649386543821 |  1.2465951442718506 |\n",
      "|          LinearSVC_3          |                   LinearSVC(dual=True)                   |  0.3319172995235483 |  0.4180440771349862 |  0.3930365127324806 | 0.32991101032659575 |  2.5560684204101562 |\n",
      "|          LinearSVC_4          |                  LinearSVC(dual=False)                   |  0.3319172995235483 |  0.4180440771349862 |  0.3930365127324806 | 0.32991101032659575 |  13.170190334320068 |\n",
      "|        SGDClassifier_2        |           SGDClassifier(loss='squared_hinge')            |  0.3300589451773978 |  0.4180440771349862 | 0.39391068995014084 |  0.3292911000243005 |  0.8844616413116455 |\n",
      "|        SGDClassifier_1        |                     SGDClassifier()                      |  0.3228101291650114 |  0.4206841138659321 |  0.3854821908153771 |  0.328324288911154  |  1.542405366897583  |\n",
      "|        SGDClassifier_3        |                SGDClassifier(alpha=0.001)                |  0.3216484425781768 |  0.4162075298438935 |  0.3829914781231082 |  0.3263730368886081 |  0.9656364917755127 |\n",
      "|        SGDClassifier_5        |                SGDClassifier(alpha=0.01)                 | 0.31898737135388483 | 0.41724058769513317 | 0.37826494601161254 |  0.3270427472402981 |  0.7782447338104248 |\n",
      "|          LinearSVC_1          |               LinearSVC(C=0.5, dual=True)                | 0.31614160266668756 | 0.41689623507805323 |  0.4041104052756137 |  0.3196282154238117 |  1.8021917343139648 |\n",
      "|          LinearSVC_2          |               LinearSVC(C=0.5, dual=False)               |  0.3160615644022916 | 0.41678145087235996 |  0.4039702209688306 |  0.3195625770910254 |  6.6127355098724365 |\n",
      "|       RidgeClassifier_1       |                    RidgeClassifier()                     | 0.31515988564747044 |  0.4166666666666667 | 0.40408839863906837 | 0.31817738369974297 |  3.1493611335754395 |\n",
      "|       RidgeClassifier_2       |                RidgeClassifier(alpha=1.5)                |  0.304017897347683  |  0.4182736455463728 |  0.4160574614311262 | 0.31183687501620616 |  2.8826403617858887 |\n",
      "|        LGBMClassifier_1       |     LGBMClassifier(max_depth=500, n_estimators=500)      | 0.30019029364950034 |  0.3736225895316804 | 0.33946812529970216 |  0.2942243923212533 |  181.35803771018982 |\n",
      "|       RidgeClassifier_3       |                 RidgeClassifier(alpha=2)                 |  0.2978812215459704 |  0.4195362718089991 |  0.4418656397347389 | 0.30825142380857046 |  2.381115674972534  |\n",
      "|             SVC_2             |                  SVC(kernel='sigmoid')                   | 0.27347154948321195 | 0.41058310376492196 |  0.5025363930891102 | 0.29046111184250384 |  254.66759181022644 |\n",
      "|             KNN_2             |                  KNeighborsClassifier()                  |  0.2720166812189435 |  0.3496326905417815 |  0.2888261686967606 |  0.2759121644368684 |  5.2346556186676025 |\n",
      "|             KNN_3             |           KNeighborsClassifier(n_neighbors=7)            |  0.2679530490288469 | 0.35215794306703396 |  0.2894886904892481 |  0.2727239516555519 |  5.313212633132935  |\n",
      "|      LogisticRegression_2     |                   LogisticRegression()                   | 0.26341030850243363 |  0.4116161616161616 |  0.4542215508363583 | 0.28449292071434745 |  30.178314447402954 |\n",
      "|             KNN_1             |           KNeighborsClassifier(n_neighbors=3)            | 0.25190393249732723 | 0.29981634527089074 | 0.26724986927721195 |  0.2653164874705564 |  5.225518703460693  |\n",
      "|        SGDClassifier_4        |     SGDClassifier(alpha=0.001, loss='squared_hinge')     | 0.23714313912652402 | 0.40059687786960513 |  0.5313424552997924 |  0.2658228647980648 |  1.245208740234375  |\n",
      "|      LogisticRegression_1     |                LogisticRegression(C=0.5)                 | 0.22323922238640118 |  0.3957759412304867 |  0.5231371374660111 |  0.2563329340856686 |  15.886180877685547 |\n",
      "|         ComplementNB_1        |                 ComplementNB(alpha=0.5)                  | 0.18164626481284205 | 0.38073921028466484 |  0.5927774403033594 |  0.2341804634273863 | 0.25333356857299805 |\n",
      "|         ComplementNB_2        |         ComplementNB(alpha=0.5, fit_prior=False)         | 0.18164626481284205 | 0.38073921028466484 |  0.5927774403033594 |  0.2341804634273863 | 0.26657891273498535 |\n",
      "|    RandomForestClassifier_1   |          RandomForestClassifier(max_depth=100)           |  0.1662891107954382 |  0.3685720844811754 |  0.4926121655292214 | 0.22339459433886028 |  116.28346729278564 |\n",
      "|         ComplementNB_3        |                      ComplementNB()                      | 0.13896574693903657 |  0.3635215794306703 |  0.5424762270272911 |  0.2142195634485001 | 0.25451040267944336 |\n",
      "|         ComplementNB_4        |              ComplementNB(fit_prior=False)               | 0.13896574693903657 |  0.3635215794306703 |  0.5424762270272911 |  0.2142195634485001 | 0.25049304962158203 |\n",
      "|        MultinomialNB_2        |        MultinomialNB(alpha=0.5, fit_prior=False)         |  0.1273609830242561 | 0.35858585858585856 |  0.5219899767251919 |  0.208298060694274  |  0.2795872688293457 |\n",
      "|        MultinomialNB_4        |              MultinomialNB(fit_prior=False)              | 0.11391014599586449 |  0.3538797061524334 | 0.37393178117532616 |  0.2036080906731673 | 0.26453709602355957 |\n",
      "|        MultinomialNB_1        |                 MultinomialNB(alpha=0.5)                 | 0.11096695516354471 |  0.3530762167125803 | 0.38910532623627453 | 0.20265256720405883 | 0.36290526390075684 |\n",
      "|        MultinomialNB_3        |                     MultinomialNB()                      | 0.10543566261284398 |  0.3506657483930211 | 0.21666781648844427 | 0.20068697411373418 | 0.27346253395080566 |\n",
      "|             SVC_1             |                    SVC(kernel='poly')                    |  0.104333899742912  | 0.35020661157024796 | 0.22998966348914668 | 0.20032141422257937 |  280.37020206451416 |\n",
      "|        SGDClassifier_6        |     SGDClassifier(alpha=0.01, loss='squared_hinge')      | 0.10364826941066416 | 0.34974747474747475 | 0.06994949494949496 |         0.2         |  0.8973574638366699 |\n",
      "+-------------------------------+----------------------------------------------------------+---------------------+---------------------+---------------------+---------------------+---------------------+\n"
     ]
    }
   ],
   "source": [
    "def table_results(models):\n",
    "\n",
    "    bests_of_the_bests = ColorTable(theme=Themes.LAVENDER)\n",
    "    bests_of_the_bests.field_names = [\"Algorithme\", \"Hyperparamètres\", \"Macro f1\", \"Accuracy\", \"Precision\", \"Rappel\", \"Temps d'exécution\"]\n",
    "\n",
    "    best_models = sorted(models, key=lambda x: x.scores[\"macro avg\"][\"f1-score\"], reverse=True)\n",
    "    \n",
    "    for model in best_models:\n",
    "        bests_of_the_bests.add_row([model.name, model.model, model.scores[\"macro avg\"][\"f1-score\"], model.scores[\"accuracy\"], model.scores[\"macro avg\"][\"precision\"], model.scores[\"macro avg\"][\"recall\"], model.running_time])\n",
    "\n",
    "    return bests_of_the_bests\n",
    "\n",
    "print(table_results(Model.all_models))"
   ]
  },
  {
   "cell_type": "markdown",
   "metadata": {},
   "source": [
    "<a id=\"4-stratégie-damélioration\"></a>\n",
    "# **4. Stratégies d'amélioration**"
   ]
  },
  {
   "cell_type": "markdown",
   "metadata": {},
   "source": [
    "## **A - Upsampling (sur-échantillonnage)**"
   ]
  },
  {
   "cell_type": "markdown",
   "metadata": {},
   "source": [
    "\n",
    "Nous avons premièrement utilisé le **sous-échantillonnage** et le **sur-échantillonnage**, des techniques consistant en la duplication ou la division du nombre d'échantillons de chaque classe. Avoir une distribution de classe équilibrée est essentielle car elle permet en général au modèle de performer de manière similaire sur toutes les classes.\n",
    "\n",
    "Dans notre cas, les classes **sous-représentées** peuvent mener à des scores de rappel et de précision très bas, contrairement aux classes majoritaires. \n",
    "\n",
    "Nous avons donc ré-entrainé l'ensemble de nos modèles sur des données pour lesquelles chaque classe comptait autant d'échantillons que la classe majoritaire initiale, puis sur des données pour lesquelles le nombre d'échantillons de chaque classe correspondait à celui de la classe minoritaire initiale. "
   ]
  },
  {
   "cell_type": "code",
   "execution_count": 169,
   "metadata": {},
   "outputs": [],
   "source": [
    "def balance_classes(df, strategy=\"downsample\"):\n",
    "    \"\"\"fonction qui équilibre les classes en appliquant soit un downsampling, soit un upsampling \"\"\"\n",
    "\n",
    "    classes = df[\"label\"].unique()\n",
    "    df_balanced = pd.DataFrame()\n",
    "\n",
    "    if strategy == \"downsample\":\n",
    "        target_size = df[\"label\"].value_counts().min()\n",
    "    elif strategy == \"upsample\":\n",
    "        target_size = df[\"label\"].value_counts().max()\n",
    "\n",
    "    for cls in classes:\n",
    "        df_cls = df[df[\"label\"] == cls]\n",
    "        if strategy == \"downsample\":\n",
    "            df_cls_resampled = resample(df_cls, replace=False, n_samples=target_size, random_state=42)\n",
    "        elif strategy == \"upsample\":\n",
    "            df_cls_resampled = resample(df_cls, replace=True, n_samples=target_size, random_state=42)\n",
    "        df_balanced = pd.concat([df_balanced, df_cls_resampled])\n",
    "\n",
    "    return df_balanced"
   ]
  },
  {
   "cell_type": "markdown",
   "metadata": {},
   "source": [
    "Il faut faire attention au sur-chantillonnage car on risque d'avoir un **sur-apprentissage** des données, comme elles sont répétés plusieurs fois, mais comme nous n'avons pas beaucoup de données, cela reste toujours mieux qu'un sous-apprentissage insuffisant. Faisons des tests pour voir ça !"
   ]
  },
  {
   "cell_type": "code",
   "execution_count": 170,
   "metadata": {},
   "outputs": [],
   "source": [
    "df_balanced_up = balance_classes(df_train, strategy=\"upsample\")"
   ]
  },
  {
   "cell_type": "code",
   "execution_count": 171,
   "metadata": {},
   "outputs": [
    {
     "name": "stdout",
     "output_type": "stream",
     "text": [
      "Distribution des classes avant équilibrage :\n",
      "label\n",
      "PPE-DE       4635\n",
      "PSE          3650\n",
      "GUE-NGL      1823\n",
      "Verts-ALE    1609\n",
      "ELDR         1351\n",
      "Name: count, dtype: int64\n",
      "\n",
      "Distribution des classes après équilibrage :\n",
      "label\n",
      "PPE-DE       4635\n",
      "PSE          4635\n",
      "Verts-ALE    4635\n",
      "ELDR         4635\n",
      "GUE-NGL      4635\n",
      "Name: count, dtype: int64\n"
     ]
    }
   ],
   "source": [
    "print(\"Distribution des classes avant équilibrage :\")\n",
    "print(df_train[\"label\"].value_counts())\n",
    "\n",
    "print(\"\\nDistribution des classes après équilibrage :\")\n",
    "print(df_balanced_up[\"label\"].value_counts())"
   ]
  },
  {
   "cell_type": "code",
   "execution_count": 172,
   "metadata": {},
   "outputs": [
    {
     "data": {
      "image/png": "[encoded data removed]",
      "text/plain": [
       "<Figure size 1200x600 with 2 Axes>"
      ]
     },
     "metadata": {},
     "output_type": "display_data"
    }
   ],
   "source": [
    "plt.figure(figsize=(12, 6))\n",
    "plt.subplot(1, 2, 1)\n",
    "df_train[\"label\"].value_counts().plot(kind=\"bar\", color=\"orchid\", title=\"Avant équilibrage\")\n",
    "plt.subplot(1, 2, 2)\n",
    "df_balanced_up[\"label\"].value_counts().plot(kind=\"bar\", color=\"pink\", title=\"Après équilibrage\")\n",
    "plt.tight_layout()\n",
    "plt.savefig(\"article/equilibrage.png\", dpi=300, bbox_inches=\"tight\")\n",
    "plt.show()"
   ]
  },
  {
   "cell_type": "markdown",
   "metadata": {},
   "source": [
    "## **B - Downsample (sous-échantillonnage)**"
   ]
  },
  {
   "cell_type": "code",
   "execution_count": 173,
   "metadata": {},
   "outputs": [],
   "source": [
    "df_balanced_down = balance_classes(df_train, strategy=\"downsample\")"
   ]
  },
  {
   "cell_type": "code",
   "execution_count": 174,
   "metadata": {},
   "outputs": [
    {
     "name": "stdout",
     "output_type": "stream",
     "text": [
      "Distribution des classes avant équilibrage :\n",
      "label\n",
      "PPE-DE       4635\n",
      "PSE          3650\n",
      "GUE-NGL      1823\n",
      "Verts-ALE    1609\n",
      "ELDR         1351\n",
      "Name: count, dtype: int64\n",
      "\n",
      "Distribution des classes après équilibrage :\n",
      "label\n",
      "PPE-DE       1351\n",
      "PSE          1351\n",
      "Verts-ALE    1351\n",
      "ELDR         1351\n",
      "GUE-NGL      1351\n",
      "Name: count, dtype: int64\n"
     ]
    }
   ],
   "source": [
    "print(\"Distribution des classes avant équilibrage :\")\n",
    "print(df_train[\"label\"].value_counts())\n",
    "\n",
    "print(\"\\nDistribution des classes après équilibrage :\")\n",
    "print(df_balanced_down[\"label\"].value_counts())"
   ]
  },
  {
   "cell_type": "markdown",
   "metadata": {},
   "source": [
    "Après avoir fait tout ça, **on revectorise ces nouvelles données d'entraînement** de la même manière qu'avant. "
   ]
  },
  {
   "cell_type": "code",
   "execution_count": 175,
   "metadata": {},
   "outputs": [],
   "source": [
    "df_balanced_up[\"texte_nettoyé\"] = df_balanced_up[\"texte\"].map(get_beautiful_clean_text)"
   ]
  },
  {
   "cell_type": "code",
   "execution_count": 176,
   "metadata": {},
   "outputs": [],
   "source": [
    "vectorizer = TfidfVectorizer(max_df=0.5, ngram_range=(1, 2))  \n",
    "x_train_balanced_up =  vectorizer.fit_transform(df_balanced_up[\"texte_nettoyé\"])\n",
    "y_train_balanced_up = df_balanced_up[\"label\"]\n",
    "x_test_balanced_up =  vectorizer.transform(df_test[\"texte_nettoyé\"])"
   ]
  },
  {
   "cell_type": "code",
   "execution_count": 177,
   "metadata": {},
   "outputs": [],
   "source": [
    "df_balanced_down[\"texte_nettoyé\"] = df_balanced_down[\"texte\"].map(get_beautiful_clean_text)"
   ]
  },
  {
   "cell_type": "code",
   "execution_count": 178,
   "metadata": {},
   "outputs": [],
   "source": [
    "vectorizer = TfidfVectorizer(max_df=0.5, ngram_range=(1, 2))  \n",
    "x_train_balanced_down =  vectorizer.fit_transform(df_balanced_down[\"texte_nettoyé\"])\n",
    "y_train_balanced_down = df_balanced_down[\"label\"]\n",
    "x_test_balanced_down =  vectorizer.transform(df_test[\"texte_nettoyé\"])"
   ]
  },
  {
   "cell_type": "markdown",
   "metadata": {},
   "source": [
    "**On peut ensuite ré-entrainer** toutes nos données sur les nouvelles données générées sur nos trois meilleurs modèles !"
   ]
  },
  {
   "cell_type": "markdown",
   "metadata": {},
   "source": [
    "On commence par le faire avec le **upsampling** :"
   ]
  },
  {
   "cell_type": "code",
   "execution_count": 179,
   "metadata": {},
   "outputs": [],
   "source": [
    "def test_three_best_models_up(models, x_train, y_train, x_test, y_test):\n",
    "                                 \n",
    "    for model_name, model_dict in models.items():\n",
    "        if model_name in [\"PassiveAggressiveClassifier\", \"SGDClassifier\", \"LinearSVC\"]:\n",
    "            print(f\"On teste le modèle {model_name} !\")\n",
    "            hyperparameters_training(f\"balanced_up_{model_name}\", model_dict, x_train, y_train, x_test, y_test)"
   ]
  },
  {
   "cell_type": "code",
   "execution_count": 180,
   "metadata": {},
   "outputs": [
    {
     "name": "stdout",
     "output_type": "stream",
     "text": [
      "On teste le modèle SGDClassifier !\n",
      "On teste le modèle LinearSVC !\n",
      "On teste le modèle PassiveAggressiveClassifier !\n",
      "+-------------------------------------------+----------------------------------------------------------+---------------------+---------------------+---------------------+---------------------+---------------------+\n",
      "|                 Algorithme                |                     Hyperparamètres                      |       Macro f1      |       Accuracy      |      Precision      |        Rappel       |  Temps d'exécution  |\n",
      "+-------------------------------------------+----------------------------------------------------------+---------------------+---------------------+---------------------+---------------------+---------------------+\n",
      "| balanced_up_PassiveAggressiveClassifier_2 | PassiveAggressiveClassifier(C=0.5, loss='squared_hinge') |  0.3512981342774795 |  0.3907254361799816 |  0.3529605750685788 | 0.35181241010001724 |  1.735456943511963  |\n",
      "| balanced_up_PassiveAggressiveClassifier_1 |            PassiveAggressiveClassifier(C=0.5)            |  0.3508526818139159 |  0.390495867768595  |  0.3536567768043338 |  0.3505331763051286 |  1.436206340789795  |\n",
      "| balanced_up_PassiveAggressiveClassifier_3 |              PassiveAggressiveClassifier()               | 0.35073277708081896 |  0.3907254361799816 | 0.35339434194809977 |  0.3505396185857926 |  1.296884536743164  |\n",
      "| balanced_up_PassiveAggressiveClassifier_4 |    PassiveAggressiveClassifier(loss='squared_hinge')     |  0.3504155885261065 |  0.389692378328742  |  0.3521631432004856 |  0.3508047787150891 |  1.446624994277954  |\n",
      "|          balanced_up_LinearSVC_1          |               LinearSVC(C=0.5, dual=True)                | 0.34978977868852545 | 0.37993572084481175 |  0.3449777200274905 |  0.3577038331219887 |  3.6956446170806885 |\n",
      "|          balanced_up_LinearSVC_2          |               LinearSVC(C=0.5, dual=False)               |  0.3497896449310348 | 0.37993572084481175 | 0.34498005922316777 |  0.3577038331219887 |  10.372359275817871 |\n",
      "|        balanced_up_SGDClassifier_2        |           SGDClassifier(loss='squared_hinge')            | 0.34876772892003394 | 0.37936179981634527 |  0.3436057886239608 |  0.3578795873258991 |  1.128627061843872  |\n",
      "|          balanced_up_LinearSVC_3          |                   LinearSVC(dual=True)                   | 0.34834803712033974 | 0.38096877869605145 | 0.34495252951005384 |  0.3536243144849022 |  5.397148609161377  |\n",
      "|          balanced_up_LinearSVC_4          |                  LinearSVC(dual=False)                   | 0.34834803712033974 | 0.38096877869605145 | 0.34495252951005384 |  0.3536243144849022 |  18.564963817596436 |\n",
      "|       PassiveAggressiveClassifier_1       |            PassiveAggressiveClassifier(C=0.5)            | 0.34387335676593184 |  0.4123048668503214 |  0.3773061164199935 | 0.33831364700215544 |  1.4534480571746826 |\n",
      "|       PassiveAggressiveClassifier_4       |    PassiveAggressiveClassifier(loss='squared_hinge')     |  0.3430056286587174 |  0.4112718089990817 | 0.37382432832612283 | 0.33771708135255746 |  1.425475835800171  |\n",
      "|       PassiveAggressiveClassifier_2       | PassiveAggressiveClassifier(C=0.5, loss='squared_hinge') | 0.34266427602212685 |  0.4108126721763085 |  0.3734218019716752 | 0.33739209892768474 |  1.8172807693481445 |\n",
      "|       PassiveAggressiveClassifier_3       |              PassiveAggressiveClassifier()               |  0.3409178275000788 | 0.41092745638200184 |  0.3707085864422396 |  0.3364649386543821 |  1.2465951442718506 |\n",
      "|        balanced_up_SGDClassifier_1        |                     SGDClassifier()                      | 0.33861028591023656 |  0.3546831955922865 |  0.336238147880198  | 0.36530226183199294 |  2.322718858718872  |\n",
      "|                LinearSVC_3                |                   LinearSVC(dual=True)                   |  0.3319172995235483 |  0.4180440771349862 |  0.3930365127324806 | 0.32991101032659575 |  2.5560684204101562 |\n",
      "|                LinearSVC_4                |                  LinearSVC(dual=False)                   |  0.3319172995235483 |  0.4180440771349862 |  0.3930365127324806 | 0.32991101032659575 |  13.170190334320068 |\n",
      "|              SGDClassifier_2              |           SGDClassifier(loss='squared_hinge')            |  0.3300589451773978 |  0.4180440771349862 | 0.39391068995014084 |  0.3292911000243005 |  0.8844616413116455 |\n",
      "|        balanced_up_SGDClassifier_4        |     SGDClassifier(alpha=0.001, loss='squared_hinge')     |  0.3284990413348936 | 0.34618916437098257 | 0.32862833897233007 | 0.35969428996208946 |  1.8706412315368652 |\n",
      "|              SGDClassifier_1              |                     SGDClassifier()                      |  0.3228101291650114 |  0.4206841138659321 |  0.3854821908153771 |  0.328324288911154  |  1.542405366897583  |\n",
      "|              SGDClassifier_3              |                SGDClassifier(alpha=0.001)                |  0.3216484425781768 |  0.4162075298438935 |  0.3829914781231082 |  0.3263730368886081 |  0.9656364917755127 |\n",
      "|        balanced_up_SGDClassifier_3        |                SGDClassifier(alpha=0.001)                |  0.3206218194166917 | 0.33402203856749313 | 0.32676048354885506 |  0.3589434313450001 |  1.2325670719146729 |\n",
      "|              SGDClassifier_5              |                SGDClassifier(alpha=0.01)                 | 0.31898737135388483 | 0.41724058769513317 | 0.37826494601161254 |  0.3270427472402981 |  0.7782447338104248 |\n",
      "|        balanced_up_SGDClassifier_5        |                SGDClassifier(alpha=0.01)                 | 0.31840714867252434 | 0.33184113865932047 |  0.325315786403659  | 0.35817318958331035 |  1.2971885204315186 |\n",
      "|                LinearSVC_1                |               LinearSVC(C=0.5, dual=True)                | 0.31614160266668756 | 0.41689623507805323 |  0.4041104052756137 |  0.3196282154238117 |  1.8021917343139648 |\n",
      "|                LinearSVC_2                |               LinearSVC(C=0.5, dual=False)               |  0.3160615644022916 | 0.41678145087235996 |  0.4039702209688306 |  0.3195625770910254 |  6.6127355098724365 |\n",
      "|             RidgeClassifier_1             |                    RidgeClassifier()                     | 0.31515988564747044 |  0.4166666666666667 | 0.40408839863906837 | 0.31817738369974297 |  3.1493611335754395 |\n",
      "|             RidgeClassifier_2             |                RidgeClassifier(alpha=1.5)                |  0.304017897347683  |  0.4182736455463728 |  0.4160574614311262 | 0.31183687501620616 |  2.8826403617858887 |\n",
      "|              LGBMClassifier_1             |     LGBMClassifier(max_depth=500, n_estimators=500)      | 0.30019029364950034 |  0.3736225895316804 | 0.33946812529970216 |  0.2942243923212533 |  181.35803771018982 |\n",
      "|        balanced_up_SGDClassifier_6        |     SGDClassifier(alpha=0.01, loss='squared_hinge')      | 0.29967050302298137 | 0.31313131313131315 |  0.3144817925486043 | 0.34425435161352075 |  1.4969305992126465 |\n",
      "|             RidgeClassifier_3             |                 RidgeClassifier(alpha=2)                 |  0.2978812215459704 |  0.4195362718089991 |  0.4418656397347389 | 0.30825142380857046 |  2.381115674972534  |\n",
      "|                   SVC_2                   |                  SVC(kernel='sigmoid')                   | 0.27347154948321195 | 0.41058310376492196 |  0.5025363930891102 | 0.29046111184250384 |  254.66759181022644 |\n",
      "|                   KNN_2                   |                  KNeighborsClassifier()                  |  0.2720166812189435 |  0.3496326905417815 |  0.2888261686967606 |  0.2759121644368684 |  5.2346556186676025 |\n",
      "|                   KNN_3                   |           KNeighborsClassifier(n_neighbors=7)            |  0.2679530490288469 | 0.35215794306703396 |  0.2894886904892481 |  0.2727239516555519 |  5.313212633132935  |\n",
      "|            LogisticRegression_2           |                   LogisticRegression()                   | 0.26341030850243363 |  0.4116161616161616 |  0.4542215508363583 | 0.28449292071434745 |  30.178314447402954 |\n",
      "|                   KNN_1                   |           KNeighborsClassifier(n_neighbors=3)            | 0.25190393249732723 | 0.29981634527089074 | 0.26724986927721195 |  0.2653164874705564 |  5.225518703460693  |\n",
      "|              SGDClassifier_4              |     SGDClassifier(alpha=0.001, loss='squared_hinge')     | 0.23714313912652402 | 0.40059687786960513 |  0.5313424552997924 |  0.2658228647980648 |  1.245208740234375  |\n",
      "|            LogisticRegression_1           |                LogisticRegression(C=0.5)                 | 0.22323922238640118 |  0.3957759412304867 |  0.5231371374660111 |  0.2563329340856686 |  15.886180877685547 |\n",
      "|               ComplementNB_1              |                 ComplementNB(alpha=0.5)                  | 0.18164626481284205 | 0.38073921028466484 |  0.5927774403033594 |  0.2341804634273863 | 0.25333356857299805 |\n",
      "|               ComplementNB_2              |         ComplementNB(alpha=0.5, fit_prior=False)         | 0.18164626481284205 | 0.38073921028466484 |  0.5927774403033594 |  0.2341804634273863 | 0.26657891273498535 |\n",
      "|          RandomForestClassifier_1         |          RandomForestClassifier(max_depth=100)           |  0.1662891107954382 |  0.3685720844811754 |  0.4926121655292214 | 0.22339459433886028 |  116.28346729278564 |\n",
      "|               ComplementNB_3              |                      ComplementNB()                      | 0.13896574693903657 |  0.3635215794306703 |  0.5424762270272911 |  0.2142195634485001 | 0.25451040267944336 |\n",
      "|               ComplementNB_4              |              ComplementNB(fit_prior=False)               | 0.13896574693903657 |  0.3635215794306703 |  0.5424762270272911 |  0.2142195634485001 | 0.25049304962158203 |\n",
      "|              MultinomialNB_2              |        MultinomialNB(alpha=0.5, fit_prior=False)         |  0.1273609830242561 | 0.35858585858585856 |  0.5219899767251919 |  0.208298060694274  |  0.2795872688293457 |\n",
      "|              MultinomialNB_4              |              MultinomialNB(fit_prior=False)              | 0.11391014599586449 |  0.3538797061524334 | 0.37393178117532616 |  0.2036080906731673 | 0.26453709602355957 |\n",
      "|              MultinomialNB_1              |                 MultinomialNB(alpha=0.5)                 | 0.11096695516354471 |  0.3530762167125803 | 0.38910532623627453 | 0.20265256720405883 | 0.36290526390075684 |\n",
      "|              MultinomialNB_3              |                     MultinomialNB()                      | 0.10543566261284398 |  0.3506657483930211 | 0.21666781648844427 | 0.20068697411373418 | 0.27346253395080566 |\n",
      "|                   SVC_1                   |                    SVC(kernel='poly')                    |  0.104333899742912  | 0.35020661157024796 | 0.22998966348914668 | 0.20032141422257937 |  280.37020206451416 |\n",
      "|              SGDClassifier_6              |     SGDClassifier(alpha=0.01, loss='squared_hinge')      | 0.10364826941066416 | 0.34974747474747475 | 0.06994949494949496 |         0.2         |  0.8973574638366699 |\n",
      "+-------------------------------------------+----------------------------------------------------------+---------------------+---------------------+---------------------+---------------------+---------------------+\n"
     ]
    }
   ],
   "source": [
    "test_three_best_models_up(models_dict, x_train_balanced_up, y_train_balanced_up, x_test_balanced_up, y_test)\n",
    "print(table_results(Model.all_models))"
   ]
  },
  {
   "cell_type": "markdown",
   "metadata": {},
   "source": [
    "Et on le fait aussi avec le **downsampling** :"
   ]
  },
  {
   "cell_type": "code",
   "execution_count": 181,
   "metadata": {},
   "outputs": [],
   "source": [
    "def test_three_best_models_down(models, x_train, y_train, x_test, y_test):\n",
    "                                 \n",
    "    for model_name, model_dict in models.items():\n",
    "        if model_name in [\"PassiveAggressiveClassifier\", \"SGDClassifier\", \"LinearSVC\"]:\n",
    "            print(f\"On teste le modèle {model_name} !\")\n",
    "            hyperparameters_training(f\"balanced_down_{model_name}\", model_dict, x_train, y_train, x_test, y_test)"
   ]
  },
  {
   "cell_type": "code",
   "execution_count": 182,
   "metadata": {},
   "outputs": [
    {
     "name": "stdout",
     "output_type": "stream",
     "text": [
      "On teste le modèle SGDClassifier !\n",
      "On teste le modèle LinearSVC !\n",
      "On teste le modèle PassiveAggressiveClassifier !\n",
      "+---------------------------------------------+----------------------------------------------------------+---------------------+---------------------+---------------------+---------------------+---------------------+\n",
      "|                  Algorithme                 |                     Hyperparamètres                      |       Macro f1      |       Accuracy      |      Precision      |        Rappel       |  Temps d'exécution  |\n",
      "+---------------------------------------------+----------------------------------------------------------+---------------------+---------------------+---------------------+---------------------+---------------------+\n",
      "|  balanced_up_PassiveAggressiveClassifier_2  | PassiveAggressiveClassifier(C=0.5, loss='squared_hinge') |  0.3512981342774795 |  0.3907254361799816 |  0.3529605750685788 | 0.35181241010001724 |  1.735456943511963  |\n",
      "|  balanced_up_PassiveAggressiveClassifier_1  |            PassiveAggressiveClassifier(C=0.5)            |  0.3508526818139159 |  0.390495867768595  |  0.3536567768043338 |  0.3505331763051286 |  1.436206340789795  |\n",
      "|  balanced_up_PassiveAggressiveClassifier_3  |              PassiveAggressiveClassifier()               | 0.35073277708081896 |  0.3907254361799816 | 0.35339434194809977 |  0.3505396185857926 |  1.296884536743164  |\n",
      "|  balanced_up_PassiveAggressiveClassifier_4  |    PassiveAggressiveClassifier(loss='squared_hinge')     |  0.3504155885261065 |  0.389692378328742  |  0.3521631432004856 |  0.3508047787150891 |  1.446624994277954  |\n",
      "|           balanced_up_LinearSVC_1           |               LinearSVC(C=0.5, dual=True)                | 0.34978977868852545 | 0.37993572084481175 |  0.3449777200274905 |  0.3577038331219887 |  3.6956446170806885 |\n",
      "|           balanced_up_LinearSVC_2           |               LinearSVC(C=0.5, dual=False)               |  0.3497896449310348 | 0.37993572084481175 | 0.34498005922316777 |  0.3577038331219887 |  10.372359275817871 |\n",
      "|         balanced_up_SGDClassifier_2         |           SGDClassifier(loss='squared_hinge')            | 0.34876772892003394 | 0.37936179981634527 |  0.3436057886239608 |  0.3578795873258991 |  1.128627061843872  |\n",
      "|           balanced_up_LinearSVC_3           |                   LinearSVC(dual=True)                   | 0.34834803712033974 | 0.38096877869605145 | 0.34495252951005384 |  0.3536243144849022 |  5.397148609161377  |\n",
      "|           balanced_up_LinearSVC_4           |                  LinearSVC(dual=False)                   | 0.34834803712033974 | 0.38096877869605145 | 0.34495252951005384 |  0.3536243144849022 |  18.564963817596436 |\n",
      "|        PassiveAggressiveClassifier_1        |            PassiveAggressiveClassifier(C=0.5)            | 0.34387335676593184 |  0.4123048668503214 |  0.3773061164199935 | 0.33831364700215544 |  1.4534480571746826 |\n",
      "|        PassiveAggressiveClassifier_4        |    PassiveAggressiveClassifier(loss='squared_hinge')     |  0.3430056286587174 |  0.4112718089990817 | 0.37382432832612283 | 0.33771708135255746 |  1.425475835800171  |\n",
      "|        PassiveAggressiveClassifier_2        | PassiveAggressiveClassifier(C=0.5, loss='squared_hinge') | 0.34266427602212685 |  0.4108126721763085 |  0.3734218019716752 | 0.33739209892768474 |  1.8172807693481445 |\n",
      "|        PassiveAggressiveClassifier_3        |              PassiveAggressiveClassifier()               |  0.3409178275000788 | 0.41092745638200184 |  0.3707085864422396 |  0.3364649386543821 |  1.2465951442718506 |\n",
      "|         balanced_up_SGDClassifier_1         |                     SGDClassifier()                      | 0.33861028591023656 |  0.3546831955922865 |  0.336238147880198  | 0.36530226183199294 |  2.322718858718872  |\n",
      "|                 LinearSVC_3                 |                   LinearSVC(dual=True)                   |  0.3319172995235483 |  0.4180440771349862 |  0.3930365127324806 | 0.32991101032659575 |  2.5560684204101562 |\n",
      "|                 LinearSVC_4                 |                  LinearSVC(dual=False)                   |  0.3319172995235483 |  0.4180440771349862 |  0.3930365127324806 | 0.32991101032659575 |  13.170190334320068 |\n",
      "|               SGDClassifier_2               |           SGDClassifier(loss='squared_hinge')            |  0.3300589451773978 |  0.4180440771349862 | 0.39391068995014084 |  0.3292911000243005 |  0.8844616413116455 |\n",
      "|        balanced_down_SGDClassifier_2        |           SGDClassifier(loss='squared_hinge')            |  0.3289237626266512 |  0.3379247015610652 | 0.33034275885991815 |  0.3604658429747965 |  0.6264314651489258 |\n",
      "|         balanced_up_SGDClassifier_4         |     SGDClassifier(alpha=0.001, loss='squared_hinge')     |  0.3284990413348936 | 0.34618916437098257 | 0.32862833897233007 | 0.35969428996208946 |  1.8706412315368652 |\n",
      "|        balanced_down_SGDClassifier_1        |                     SGDClassifier()                      |  0.3282020785665968 |  0.3367768595041322 |  0.3300132023095068 |  0.3614375443666805 |  1.3171989917755127 |\n",
      "|          balanced_down_LinearSVC_2          |               LinearSVC(C=0.5, dual=False)               | 0.32773887343561914 |  0.3375803489439853 |  0.3288541131178189 | 0.36157426719362584 |  2.968168258666992  |\n",
      "|          balanced_down_LinearSVC_1          |               LinearSVC(C=0.5, dual=True)                | 0.32763221338679943 | 0.33746556473829203 |  0.3287491954123542 | 0.36140704311335836 |  0.8915021419525146 |\n",
      "|          balanced_down_LinearSVC_4          |                  LinearSVC(dual=False)                   |  0.3270612244670434 | 0.33631772268135907 | 0.32807269691937446 | 0.35917402310506813 |  2.642162799835205  |\n",
      "| balanced_down_PassiveAggressiveClassifier_3 |              PassiveAggressiveClassifier()               |  0.3270126683868122 | 0.33608815426997246 | 0.32792100990705253 |  0.3558843138279618 |  0.623831033706665  |\n",
      "|          balanced_down_LinearSVC_3          |                   LinearSVC(dual=True)                   | 0.32696507085597865 | 0.33620293847566574 | 0.32802603646384126 |  0.3591420819252833 |  1.317735195159912  |\n",
      "| balanced_down_PassiveAggressiveClassifier_4 |    PassiveAggressiveClassifier(loss='squared_hinge')     |  0.3263228201183116 | 0.33562901744719925 |  0.3279513089801569 |  0.355309182792605  |  0.6544492244720459 |\n",
      "| balanced_down_PassiveAggressiveClassifier_1 |            PassiveAggressiveClassifier(C=0.5)            | 0.32617635103513604 | 0.33539944903581265 | 0.32677273519600725 |  0.3549365665552693 |  0.6408531665802002 |\n",
      "| balanced_down_PassiveAggressiveClassifier_2 | PassiveAggressiveClassifier(C=0.5, loss='squared_hinge') | 0.32592787749302354 |  0.3351698806244261 | 0.32710270046091094 |  0.3544321497642966 |  0.8239603042602539 |\n",
      "|               SGDClassifier_1               |                     SGDClassifier()                      |  0.3228101291650114 |  0.4206841138659321 |  0.3854821908153771 |  0.328324288911154  |  1.542405366897583  |\n",
      "|        balanced_down_SGDClassifier_5        |                SGDClassifier(alpha=0.01)                 |  0.3227177555801609 |  0.3342516069788797 |  0.325673787388202  | 0.35834837872598496 |  0.5481760501861572 |\n",
      "|        balanced_down_SGDClassifier_3        |                SGDClassifier(alpha=0.001)                |  0.321704947714199  | 0.33218549127640035 | 0.32610785976048845 | 0.36081888632707493 |  0.778287410736084  |\n",
      "|               SGDClassifier_3               |                SGDClassifier(alpha=0.001)                |  0.3216484425781768 |  0.4162075298438935 |  0.3829914781231082 |  0.3263730368886081 |  0.9656364917755127 |\n",
      "|         balanced_up_SGDClassifier_3         |                SGDClassifier(alpha=0.001)                |  0.3206218194166917 | 0.33402203856749313 | 0.32676048354885506 |  0.3589434313450001 |  1.2325670719146729 |\n",
      "|               SGDClassifier_5               |                SGDClassifier(alpha=0.01)                 | 0.31898737135388483 | 0.41724058769513317 | 0.37826494601161254 |  0.3270427472402981 |  0.7782447338104248 |\n",
      "|         balanced_up_SGDClassifier_5         |                SGDClassifier(alpha=0.01)                 | 0.31840714867252434 | 0.33184113865932047 |  0.325315786403659  | 0.35817318958331035 |  1.2971885204315186 |\n",
      "|        balanced_down_SGDClassifier_4        |     SGDClassifier(alpha=0.001, loss='squared_hinge')     | 0.31772041441469207 | 0.32954545454545453 |  0.3230816660020104 | 0.35713715493982257 |  0.8095147609710693 |\n",
      "|                 LinearSVC_1                 |               LinearSVC(C=0.5, dual=True)                | 0.31614160266668756 | 0.41689623507805323 |  0.4041104052756137 |  0.3196282154238117 |  1.8021917343139648 |\n",
      "|                 LinearSVC_2                 |               LinearSVC(C=0.5, dual=False)               |  0.3160615644022916 | 0.41678145087235996 |  0.4039702209688306 |  0.3195625770910254 |  6.6127355098724365 |\n",
      "|              RidgeClassifier_1              |                    RidgeClassifier()                     | 0.31515988564747044 |  0.4166666666666667 | 0.40408839863906837 | 0.31817738369974297 |  3.1493611335754395 |\n",
      "|              RidgeClassifier_2              |                RidgeClassifier(alpha=1.5)                |  0.304017897347683  |  0.4182736455463728 |  0.4160574614311262 | 0.31183687501620616 |  2.8826403617858887 |\n",
      "|               LGBMClassifier_1              |     LGBMClassifier(max_depth=500, n_estimators=500)      | 0.30019029364950034 |  0.3736225895316804 | 0.33946812529970216 |  0.2942243923212533 |  181.35803771018982 |\n",
      "|         balanced_up_SGDClassifier_6         |     SGDClassifier(alpha=0.01, loss='squared_hinge')      | 0.29967050302298137 | 0.31313131313131315 |  0.3144817925486043 | 0.34425435161352075 |  1.4969305992126465 |\n",
      "|        balanced_down_SGDClassifier_6        |     SGDClassifier(alpha=0.01, loss='squared_hinge')      |  0.2993259362330413 | 0.31588613406795224 | 0.31051974555197986 | 0.34119834054679155 |  0.5564594268798828 |\n",
      "|              RidgeClassifier_3              |                 RidgeClassifier(alpha=2)                 |  0.2978812215459704 |  0.4195362718089991 |  0.4418656397347389 | 0.30825142380857046 |  2.381115674972534  |\n",
      "|                    SVC_2                    |                  SVC(kernel='sigmoid')                   | 0.27347154948321195 | 0.41058310376492196 |  0.5025363930891102 | 0.29046111184250384 |  254.66759181022644 |\n",
      "|                    KNN_2                    |                  KNeighborsClassifier()                  |  0.2720166812189435 |  0.3496326905417815 |  0.2888261686967606 |  0.2759121644368684 |  5.2346556186676025 |\n",
      "|                    KNN_3                    |           KNeighborsClassifier(n_neighbors=7)            |  0.2679530490288469 | 0.35215794306703396 |  0.2894886904892481 |  0.2727239516555519 |  5.313212633132935  |\n",
      "|             LogisticRegression_2            |                   LogisticRegression()                   | 0.26341030850243363 |  0.4116161616161616 |  0.4542215508363583 | 0.28449292071434745 |  30.178314447402954 |\n",
      "|                    KNN_1                    |           KNeighborsClassifier(n_neighbors=3)            | 0.25190393249732723 | 0.29981634527089074 | 0.26724986927721195 |  0.2653164874705564 |  5.225518703460693  |\n",
      "|               SGDClassifier_4               |     SGDClassifier(alpha=0.001, loss='squared_hinge')     | 0.23714313912652402 | 0.40059687786960513 |  0.5313424552997924 |  0.2658228647980648 |  1.245208740234375  |\n",
      "|             LogisticRegression_1            |                LogisticRegression(C=0.5)                 | 0.22323922238640118 |  0.3957759412304867 |  0.5231371374660111 |  0.2563329340856686 |  15.886180877685547 |\n",
      "|                ComplementNB_1               |                 ComplementNB(alpha=0.5)                  | 0.18164626481284205 | 0.38073921028466484 |  0.5927774403033594 |  0.2341804634273863 | 0.25333356857299805 |\n",
      "|                ComplementNB_2               |         ComplementNB(alpha=0.5, fit_prior=False)         | 0.18164626481284205 | 0.38073921028466484 |  0.5927774403033594 |  0.2341804634273863 | 0.26657891273498535 |\n",
      "|           RandomForestClassifier_1          |          RandomForestClassifier(max_depth=100)           |  0.1662891107954382 |  0.3685720844811754 |  0.4926121655292214 | 0.22339459433886028 |  116.28346729278564 |\n",
      "|                ComplementNB_3               |                      ComplementNB()                      | 0.13896574693903657 |  0.3635215794306703 |  0.5424762270272911 |  0.2142195634485001 | 0.25451040267944336 |\n",
      "|                ComplementNB_4               |              ComplementNB(fit_prior=False)               | 0.13896574693903657 |  0.3635215794306703 |  0.5424762270272911 |  0.2142195634485001 | 0.25049304962158203 |\n",
      "|               MultinomialNB_2               |        MultinomialNB(alpha=0.5, fit_prior=False)         |  0.1273609830242561 | 0.35858585858585856 |  0.5219899767251919 |  0.208298060694274  |  0.2795872688293457 |\n",
      "|               MultinomialNB_4               |              MultinomialNB(fit_prior=False)              | 0.11391014599586449 |  0.3538797061524334 | 0.37393178117532616 |  0.2036080906731673 | 0.26453709602355957 |\n",
      "|               MultinomialNB_1               |                 MultinomialNB(alpha=0.5)                 | 0.11096695516354471 |  0.3530762167125803 | 0.38910532623627453 | 0.20265256720405883 | 0.36290526390075684 |\n",
      "|               MultinomialNB_3               |                     MultinomialNB()                      | 0.10543566261284398 |  0.3506657483930211 | 0.21666781648844427 | 0.20068697411373418 | 0.27346253395080566 |\n",
      "|                    SVC_1                    |                    SVC(kernel='poly')                    |  0.104333899742912  | 0.35020661157024796 | 0.22998966348914668 | 0.20032141422257937 |  280.37020206451416 |\n",
      "|               SGDClassifier_6               |     SGDClassifier(alpha=0.01, loss='squared_hinge')      | 0.10364826941066416 | 0.34974747474747475 | 0.06994949494949496 |         0.2         |  0.8973574638366699 |\n",
      "+---------------------------------------------+----------------------------------------------------------+---------------------+---------------------+---------------------+---------------------+---------------------+\n"
     ]
    }
   ],
   "source": [
    "test_three_best_models_down(models_dict, x_train_balanced_down, y_train_balanced_down, x_test_balanced_down, y_test)\n",
    "print(table_results(Model.all_models))"
   ]
  },
  {
   "cell_type": "markdown",
   "metadata": {},
   "source": [
    "En regardant nos résultats, le upsampling occupe la plus grande partie du début du tableau, on peut donc en conclure le **upsampling fonctionne bien** par rapport aux autres modèles non modifiés !!"
   ]
  },
  {
   "cell_type": "markdown",
   "metadata": {},
   "source": [
    "<a id=\"5-tests-multilingues\"></a>\n",
    "## **5. Tests multilingues**"
   ]
  },
  {
   "cell_type": "markdown",
   "metadata": {},
   "source": [
    "## **A - En italien**"
   ]
  },
  {
   "cell_type": "markdown",
   "metadata": {},
   "source": [
    "On ne savait pas bien s'il fallait le faire avec les trois langues ou au moins avec l'anglais, donc on a fait quelques tests pour voir ce que ça dit."
   ]
  },
  {
   "cell_type": "code",
   "execution_count": 183,
   "metadata": {},
   "outputs": [],
   "source": [
    "df_train_it, df_test_it = get_train_and_test_df(\"data/train/deft09_parlement_appr_it.xml\", \"data/test/deft09_parlement_test_it.xml\", \"data/ref/deft09_parlement_ref_it.txt\")"
   ]
  },
  {
   "cell_type": "markdown",
   "metadata": {},
   "source": [
    "Évidemment, il y avait aussi des doublons **en italien** donc on a refait l'étape de suppression des doublons."
   ]
  },
  {
   "cell_type": "code",
   "execution_count": 184,
   "metadata": {},
   "outputs": [
    {
     "name": "stdout",
     "output_type": "stream",
     "text": [
      "Il y a 7814 textes en commun entre les données d'entraînement et de test.\n"
     ]
    }
   ],
   "source": [
    "train_texts_it = df_train_it[\"texte\"].to_list()\n",
    "test_texts_it = df_test_it[\"texte\"].to_list()\n",
    "num_copy = check_copy(train_texts_it, test_texts_it)\n",
    "print(f\"Il y a {num_copy} textes en commun entre les données d'entraînement et de test.\")"
   ]
  },
  {
   "cell_type": "code",
   "execution_count": 185,
   "metadata": {},
   "outputs": [
    {
     "name": "stdout",
     "output_type": "stream",
     "text": [
      "Pourcentage de textes d'entraînement : 53.40%\n",
      "Pourcentage de textes de test : 46.60%\n"
     ]
    }
   ],
   "source": [
    "df_train_it, df_test_it = balance_distribution(df_train_it, df_test_it)\n",
    "percentage_train, percentage_test = get_distribution(df_train_it, df_test_it)\n",
    "print(f\"Pourcentage de textes d'entraînement : {percentage_train:.2f}%\")\n",
    "print(f\"Pourcentage de textes de test : {percentage_test:.2f}%\")"
   ]
  },
  {
   "cell_type": "markdown",
   "metadata": {},
   "source": [
    "Et on rééquilibre aussi les données pour avec un split convenable."
   ]
  },
  {
   "cell_type": "code",
   "execution_count": 186,
   "metadata": {},
   "outputs": [
    {
     "name": "stdout",
     "output_type": "stream",
     "text": [
      "Pourcentage de textes d'entraînement : 60.00%\n",
      "Pourcentage de textes de test : 40.00%\n",
      "Il y a 0 textes en commun entre les données d'entraînement et de test.\n"
     ]
    }
   ],
   "source": [
    "df_train_it, df_test_it = reach_desired_distribution(df_train_it, df_test_it)\n",
    "percentage_train, percentage_test = get_distribution(df_train_it, df_test_it)\n",
    "print(f\"Pourcentage de textes d'entraînement : {percentage_train:.2f}%\")\n",
    "print(f\"Pourcentage de textes de test : {percentage_test:.2f}%\")\n",
    "train_texts_it = df_train_it[\"texte\"].to_list()\n",
    "test_texts_it = df_test_it[\"texte\"].to_list()\n",
    "num_copy = check_copy(train_texts_it, test_texts_it)\n",
    "print(f\"Il y a {num_copy} textes en commun entre les données d'entraînement et de test.\")"
   ]
  },
  {
   "cell_type": "markdown",
   "metadata": {},
   "source": [
    "## **B - En anglais**"
   ]
  },
  {
   "cell_type": "markdown",
   "metadata": {},
   "source": [
    "On fait exactement la même chose en anglais aussi."
   ]
  },
  {
   "cell_type": "code",
   "execution_count": 187,
   "metadata": {},
   "outputs": [],
   "source": [
    "df_train_en, df_test_en = get_train_and_test_df(\"data/train/deft09_parlement_appr_en.xml\", \"data/test/deft09_parlement_test_en.xml\", \"data/ref/deft09_parlement_ref_en.txt\")"
   ]
  },
  {
   "cell_type": "code",
   "execution_count": 188,
   "metadata": {},
   "outputs": [
    {
     "name": "stdout",
     "output_type": "stream",
     "text": [
      "Il y a 7813 textes en commun entre les données d'entraînement et de test.\n"
     ]
    }
   ],
   "source": [
    "train_texts_en = df_train_en[\"texte\"].to_list()\n",
    "test_texts_en = df_test_en[\"texte\"].to_list()\n",
    "num_copy = check_copy(train_texts_en, test_texts_en)\n",
    "print(f\"Il y a {num_copy} textes en commun entre les données d'entraînement et de test.\")"
   ]
  },
  {
   "cell_type": "code",
   "execution_count": 189,
   "metadata": {},
   "outputs": [
    {
     "name": "stdout",
     "output_type": "stream",
     "text": [
      "Pourcentage de textes d'entraînement : 53.40%\n",
      "Pourcentage de textes de test : 46.60%\n"
     ]
    }
   ],
   "source": [
    "df_train_en, df_test_en = balance_distribution(df_train_en, df_test_en)\n",
    "percentage_train, percentage_test = get_distribution(df_train_en, df_test_en)\n",
    "print(f\"Pourcentage de textes d'entraînement : {percentage_train:.2f}%\")\n",
    "print(f\"Pourcentage de textes de test : {percentage_test:.2f}%\")"
   ]
  },
  {
   "cell_type": "code",
   "execution_count": 190,
   "metadata": {},
   "outputs": [
    {
     "name": "stdout",
     "output_type": "stream",
     "text": [
      "Pourcentage de textes d'entraînement : 60.00%\n",
      "Pourcentage de textes de test : 40.00%\n",
      "Il y a 0 textes en commun entre les données d'entraînement et de test.\n"
     ]
    }
   ],
   "source": [
    "df_train_en, df_test_en = reach_desired_distribution(df_train_en, df_test_en)\n",
    "percentage_train, percentage_test = get_distribution(df_train_en, df_test_en)\n",
    "print(f\"Pourcentage de textes d'entraînement : {percentage_train:.2f}%\")\n",
    "print(f\"Pourcentage de textes de test : {percentage_test:.2f}%\")\n",
    "train_texts_en = df_train_en[\"texte\"].to_list()\n",
    "test_texts_en = df_test_en[\"texte\"].to_list()\n",
    "num_copy = check_copy(train_texts_en, test_texts_en)\n",
    "print(f\"Il y a {num_copy} textes en commun entre les données d'entraînement et de test.\")"
   ]
  },
  {
   "cell_type": "markdown",
   "metadata": {},
   "source": [
    "## **C - Modèles multilingues combinés**"
   ]
  },
  {
   "cell_type": "markdown",
   "metadata": {},
   "source": [
    "On le fait pour les **trois langues**, on concatène nos 3 dataframes. On refait la vectorisation parce que comme on a le triple de données, on n'a pas forcément les mêmes dimensions de vecteurs."
   ]
  },
  {
   "cell_type": "code",
   "execution_count": 191,
   "metadata": {},
   "outputs": [],
   "source": [
    "combined_train_data = pd.concat([df_train[\"texte_nettoyé\"], df_train_en[\"texte\"], df_train_it[\"texte\"]])\n",
    "vectorizer = TfidfVectorizer(max_df=0.5, ngram_range=(1, 2))  \n",
    "vectorizer.fit(combined_train_data)\n",
    "\n",
    "x_train_fr = vectorizer.transform(df_train[\"texte_nettoyé\"])\n",
    "x_train_en = vectorizer.transform(df_train_en[\"texte\"])\n",
    "x_train_it = vectorizer.transform(df_train_it[\"texte\"])\n",
    "x_test_fr = vectorizer.transform(df_test[\"texte_nettoyé\"])\n",
    "x_test_en = vectorizer.transform(df_test_en[\"texte\"])\n",
    "x_test_it = vectorizer.transform(df_test_it[\"texte\"])\n",
    "\n",
    "y_train_fr = df_train[\"label\"]\n",
    "y_train_en = df_train_en[\"label\"]\n",
    "y_train_it = df_train_it[\"label\"]\n",
    "y_test_fr = df_test[\"label\"]\n",
    "y_test_en = df_test_en[\"label\"]\n",
    "y_test_it = df_test_it[\"label\"]"
   ]
  },
  {
   "cell_type": "markdown",
   "metadata": {},
   "source": [
    "Ensuite, on entraine les modèles sur les trois langues."
   ]
  },
  {
   "cell_type": "code",
   "execution_count": 192,
   "metadata": {},
   "outputs": [
    {
     "name": "stdout",
     "output_type": "stream",
     "text": [
      "On teste le modèle KNN\n",
      "On teste le modèle MultinomialNB\n",
      "On teste le modèle ComplementNB\n",
      "On teste le modèle LogisticRegression\n",
      "On teste le modèle SGDClassifier\n"
     ]
    },
    {
     "name": "stderr",
     "output_type": "stream",
     "text": [
      "/home/debora/Documents/scripts/.venv/deft09/lib/python3.12/site-packages/sklearn/metrics/_classification.py:1565: UndefinedMetricWarning: Precision is ill-defined and being set to 0.0 in labels with no predicted samples. Use `zero_division` parameter to control this behavior.\n",
      "  _warn_prf(average, modifier, f\"{metric.capitalize()} is\", len(result))\n",
      "/home/debora/Documents/scripts/.venv/deft09/lib/python3.12/site-packages/sklearn/metrics/_classification.py:1565: UndefinedMetricWarning: Precision is ill-defined and being set to 0.0 in labels with no predicted samples. Use `zero_division` parameter to control this behavior.\n",
      "  _warn_prf(average, modifier, f\"{metric.capitalize()} is\", len(result))\n",
      "/home/debora/Documents/scripts/.venv/deft09/lib/python3.12/site-packages/sklearn/metrics/_classification.py:1565: UndefinedMetricWarning: Precision is ill-defined and being set to 0.0 in labels with no predicted samples. Use `zero_division` parameter to control this behavior.\n",
      "  _warn_prf(average, modifier, f\"{metric.capitalize()} is\", len(result))\n"
     ]
    },
    {
     "name": "stdout",
     "output_type": "stream",
     "text": [
      "On teste le modèle LinearSVC\n"
     ]
    },
    {
     "name": "stderr",
     "output_type": "stream",
     "text": [
      "/home/debora/Documents/scripts/.venv/deft09/lib/python3.12/site-packages/sklearn/metrics/_classification.py:1565: UndefinedMetricWarning: Precision is ill-defined and being set to 0.0 in labels with no predicted samples. Use `zero_division` parameter to control this behavior.\n",
      "  _warn_prf(average, modifier, f\"{metric.capitalize()} is\", len(result))\n",
      "/home/debora/Documents/scripts/.venv/deft09/lib/python3.12/site-packages/sklearn/metrics/_classification.py:1565: UndefinedMetricWarning: Precision is ill-defined and being set to 0.0 in labels with no predicted samples. Use `zero_division` parameter to control this behavior.\n",
      "  _warn_prf(average, modifier, f\"{metric.capitalize()} is\", len(result))\n",
      "/home/debora/Documents/scripts/.venv/deft09/lib/python3.12/site-packages/sklearn/metrics/_classification.py:1565: UndefinedMetricWarning: Precision is ill-defined and being set to 0.0 in labels with no predicted samples. Use `zero_division` parameter to control this behavior.\n",
      "  _warn_prf(average, modifier, f\"{metric.capitalize()} is\", len(result))\n"
     ]
    },
    {
     "name": "stdout",
     "output_type": "stream",
     "text": [
      "On teste le modèle SVC\n",
      "On teste le modèle RidgeClassifier\n",
      "On teste le modèle LGBMClassifier\n",
      "On teste le modèle RandomForestClassifier\n",
      "On teste le modèle PassiveAggressiveClassifier\n"
     ]
    }
   ],
   "source": [
    "@time_function\n",
    "def multilingual_classifier(model, x_train_fr, y_train_fr, x_train_it, y_train_it, x_test_fr, y_test_fr, x_train_en, y_train_en):\n",
    "\n",
    "    model = model.fit(x_train_fr, y_train_fr)\n",
    "    model = model.fit(x_train_it, y_train_it)\n",
    "    model = model.fit(x_train_en, y_train_en)\n",
    "\n",
    "    y_pred = model.predict(x_test_fr)\n",
    "\n",
    "    accuracy = accuracy_score(y_test_fr, y_pred)\n",
    "    report = classification_report(y_test_fr, y_pred, output_dict=True)\n",
    "    \n",
    "    return model, {\"accuracy\": accuracy, **report}\n",
    "\n",
    "for model in models_dict:\n",
    "    print(\"On teste le modèle\", model)\n",
    "    if model in [\"PassiveAggressiveClassifier\", \"SGDClassifier\", \"LinearSVC\", \"multinomialNB\", \"ComplementNB\"]:\n",
    "        multi_clf_result, running_time = multilingual_classifier(models_dict[model][\"model\"], x_train_fr, y_train_fr, x_train_it, y_train_it, x_test_fr, y_test_fr, x_train_en, y_train_en)\n",
    "        multi_clf_model, scores = multi_clf_result\n",
    "        model = Model(name=f\"multiclass_{model}\", model=multi_clf_model, scores=scores, running_time=running_time)"
   ]
  },
  {
   "cell_type": "code",
   "execution_count": 193,
   "metadata": {},
   "outputs": [
    {
     "name": "stdout",
     "output_type": "stream",
     "text": [
      "+---------------------------------------------+----------------------------------------------------------+---------------------+---------------------+---------------------+---------------------+---------------------+\n",
      "|                  Algorithme                 |                     Hyperparamètres                      |       Macro f1      |       Accuracy      |      Precision      |        Rappel       |  Temps d'exécution  |\n",
      "+---------------------------------------------+----------------------------------------------------------+---------------------+---------------------+---------------------+---------------------+---------------------+\n",
      "|  balanced_up_PassiveAggressiveClassifier_2  | PassiveAggressiveClassifier(C=0.5, loss='squared_hinge') |  0.3512981342774795 |  0.3907254361799816 |  0.3529605750685788 | 0.35181241010001724 |  1.735456943511963  |\n",
      "|  balanced_up_PassiveAggressiveClassifier_1  |            PassiveAggressiveClassifier(C=0.5)            |  0.3508526818139159 |  0.390495867768595  |  0.3536567768043338 |  0.3505331763051286 |  1.436206340789795  |\n",
      "|  balanced_up_PassiveAggressiveClassifier_3  |              PassiveAggressiveClassifier()               | 0.35073277708081896 |  0.3907254361799816 | 0.35339434194809977 |  0.3505396185857926 |  1.296884536743164  |\n",
      "|  balanced_up_PassiveAggressiveClassifier_4  |    PassiveAggressiveClassifier(loss='squared_hinge')     |  0.3504155885261065 |  0.389692378328742  |  0.3521631432004856 |  0.3508047787150891 |  1.446624994277954  |\n",
      "|           balanced_up_LinearSVC_1           |               LinearSVC(C=0.5, dual=True)                | 0.34978977868852545 | 0.37993572084481175 |  0.3449777200274905 |  0.3577038331219887 |  3.6956446170806885 |\n",
      "|           balanced_up_LinearSVC_2           |               LinearSVC(C=0.5, dual=False)               |  0.3497896449310348 | 0.37993572084481175 | 0.34498005922316777 |  0.3577038331219887 |  10.372359275817871 |\n",
      "|         balanced_up_SGDClassifier_2         |           SGDClassifier(loss='squared_hinge')            | 0.34876772892003394 | 0.37936179981634527 |  0.3436057886239608 |  0.3578795873258991 |  1.128627061843872  |\n",
      "|           balanced_up_LinearSVC_3           |                   LinearSVC(dual=True)                   | 0.34834803712033974 | 0.38096877869605145 | 0.34495252951005384 |  0.3536243144849022 |  5.397148609161377  |\n",
      "|           balanced_up_LinearSVC_4           |                  LinearSVC(dual=False)                   | 0.34834803712033974 | 0.38096877869605145 | 0.34495252951005384 |  0.3536243144849022 |  18.564963817596436 |\n",
      "|        PassiveAggressiveClassifier_1        |            PassiveAggressiveClassifier(C=0.5)            | 0.34387335676593184 |  0.4123048668503214 |  0.3773061164199935 | 0.33831364700215544 |  1.4534480571746826 |\n",
      "|        PassiveAggressiveClassifier_4        |    PassiveAggressiveClassifier(loss='squared_hinge')     |  0.3430056286587174 |  0.4112718089990817 | 0.37382432832612283 | 0.33771708135255746 |  1.425475835800171  |\n",
      "|        PassiveAggressiveClassifier_2        | PassiveAggressiveClassifier(C=0.5, loss='squared_hinge') | 0.34266427602212685 |  0.4108126721763085 |  0.3734218019716752 | 0.33739209892768474 |  1.8172807693481445 |\n",
      "|        PassiveAggressiveClassifier_3        |              PassiveAggressiveClassifier()               |  0.3409178275000788 | 0.41092745638200184 |  0.3707085864422396 |  0.3364649386543821 |  1.2465951442718506 |\n",
      "|         balanced_up_SGDClassifier_1         |                     SGDClassifier()                      | 0.33861028591023656 |  0.3546831955922865 |  0.336238147880198  | 0.36530226183199294 |  2.322718858718872  |\n",
      "|                 LinearSVC_3                 |                   LinearSVC(dual=True)                   |  0.3319172995235483 |  0.4180440771349862 |  0.3930365127324806 | 0.32991101032659575 |  2.5560684204101562 |\n",
      "|                 LinearSVC_4                 |                  LinearSVC(dual=False)                   |  0.3319172995235483 |  0.4180440771349862 |  0.3930365127324806 | 0.32991101032659575 |  13.170190334320068 |\n",
      "|               SGDClassifier_2               |           SGDClassifier(loss='squared_hinge')            |  0.3300589451773978 |  0.4180440771349862 | 0.39391068995014084 |  0.3292911000243005 |  0.8844616413116455 |\n",
      "|        balanced_down_SGDClassifier_2        |           SGDClassifier(loss='squared_hinge')            |  0.3289237626266512 |  0.3379247015610652 | 0.33034275885991815 |  0.3604658429747965 |  0.6264314651489258 |\n",
      "|         balanced_up_SGDClassifier_4         |     SGDClassifier(alpha=0.001, loss='squared_hinge')     |  0.3284990413348936 | 0.34618916437098257 | 0.32862833897233007 | 0.35969428996208946 |  1.8706412315368652 |\n",
      "|        balanced_down_SGDClassifier_1        |                     SGDClassifier()                      |  0.3282020785665968 |  0.3367768595041322 |  0.3300132023095068 |  0.3614375443666805 |  1.3171989917755127 |\n",
      "|          balanced_down_LinearSVC_2          |               LinearSVC(C=0.5, dual=False)               | 0.32773887343561914 |  0.3375803489439853 |  0.3288541131178189 | 0.36157426719362584 |  2.968168258666992  |\n",
      "|          balanced_down_LinearSVC_1          |               LinearSVC(C=0.5, dual=True)                | 0.32763221338679943 | 0.33746556473829203 |  0.3287491954123542 | 0.36140704311335836 |  0.8915021419525146 |\n",
      "|          balanced_down_LinearSVC_4          |                  LinearSVC(dual=False)                   |  0.3270612244670434 | 0.33631772268135907 | 0.32807269691937446 | 0.35917402310506813 |  2.642162799835205  |\n",
      "| balanced_down_PassiveAggressiveClassifier_3 |              PassiveAggressiveClassifier()               |  0.3270126683868122 | 0.33608815426997246 | 0.32792100990705253 |  0.3558843138279618 |  0.623831033706665  |\n",
      "|          balanced_down_LinearSVC_3          |                   LinearSVC(dual=True)                   | 0.32696507085597865 | 0.33620293847566574 | 0.32802603646384126 |  0.3591420819252833 |  1.317735195159912  |\n",
      "| balanced_down_PassiveAggressiveClassifier_4 |    PassiveAggressiveClassifier(loss='squared_hinge')     |  0.3263228201183116 | 0.33562901744719925 |  0.3279513089801569 |  0.355309182792605  |  0.6544492244720459 |\n",
      "| balanced_down_PassiveAggressiveClassifier_1 |            PassiveAggressiveClassifier(C=0.5)            | 0.32617635103513604 | 0.33539944903581265 | 0.32677273519600725 |  0.3549365665552693 |  0.6408531665802002 |\n",
      "| balanced_down_PassiveAggressiveClassifier_2 | PassiveAggressiveClassifier(C=0.5, loss='squared_hinge') | 0.32592787749302354 |  0.3351698806244261 | 0.32710270046091094 |  0.3544321497642966 |  0.8239603042602539 |\n",
      "|               SGDClassifier_1               |                     SGDClassifier()                      |  0.3228101291650114 |  0.4206841138659321 |  0.3854821908153771 |  0.328324288911154  |  1.542405366897583  |\n",
      "|        balanced_down_SGDClassifier_5        |                SGDClassifier(alpha=0.01)                 |  0.3227177555801609 |  0.3342516069788797 |  0.325673787388202  | 0.35834837872598496 |  0.5481760501861572 |\n",
      "|        balanced_down_SGDClassifier_3        |                SGDClassifier(alpha=0.001)                |  0.321704947714199  | 0.33218549127640035 | 0.32610785976048845 | 0.36081888632707493 |  0.778287410736084  |\n",
      "|               SGDClassifier_3               |                SGDClassifier(alpha=0.001)                |  0.3216484425781768 |  0.4162075298438935 |  0.3829914781231082 |  0.3263730368886081 |  0.9656364917755127 |\n",
      "|         balanced_up_SGDClassifier_3         |                SGDClassifier(alpha=0.001)                |  0.3206218194166917 | 0.33402203856749313 | 0.32676048354885506 |  0.3589434313450001 |  1.2325670719146729 |\n",
      "|               SGDClassifier_5               |                SGDClassifier(alpha=0.01)                 | 0.31898737135388483 | 0.41724058769513317 | 0.37826494601161254 |  0.3270427472402981 |  0.7782447338104248 |\n",
      "|         balanced_up_SGDClassifier_5         |                SGDClassifier(alpha=0.01)                 | 0.31840714867252434 | 0.33184113865932047 |  0.325315786403659  | 0.35817318958331035 |  1.2971885204315186 |\n",
      "|        balanced_down_SGDClassifier_4        |     SGDClassifier(alpha=0.001, loss='squared_hinge')     | 0.31772041441469207 | 0.32954545454545453 |  0.3230816660020104 | 0.35713715493982257 |  0.8095147609710693 |\n",
      "|                 LinearSVC_1                 |               LinearSVC(C=0.5, dual=True)                | 0.31614160266668756 | 0.41689623507805323 |  0.4041104052756137 |  0.3196282154238117 |  1.8021917343139648 |\n",
      "|                 LinearSVC_2                 |               LinearSVC(C=0.5, dual=False)               |  0.3160615644022916 | 0.41678145087235996 |  0.4039702209688306 |  0.3195625770910254 |  6.6127355098724365 |\n",
      "|              RidgeClassifier_1              |                    RidgeClassifier()                     | 0.31515988564747044 |  0.4166666666666667 | 0.40408839863906837 | 0.31817738369974297 |  3.1493611335754395 |\n",
      "|              RidgeClassifier_2              |                RidgeClassifier(alpha=1.5)                |  0.304017897347683  |  0.4182736455463728 |  0.4160574614311262 | 0.31183687501620616 |  2.8826403617858887 |\n",
      "|               LGBMClassifier_1              |     LGBMClassifier(max_depth=500, n_estimators=500)      | 0.30019029364950034 |  0.3736225895316804 | 0.33946812529970216 |  0.2942243923212533 |  181.35803771018982 |\n",
      "|         balanced_up_SGDClassifier_6         |     SGDClassifier(alpha=0.01, loss='squared_hinge')      | 0.29967050302298137 | 0.31313131313131315 |  0.3144817925486043 | 0.34425435161352075 |  1.4969305992126465 |\n",
      "|        balanced_down_SGDClassifier_6        |     SGDClassifier(alpha=0.01, loss='squared_hinge')      |  0.2993259362330413 | 0.31588613406795224 | 0.31051974555197986 | 0.34119834054679155 |  0.5564594268798828 |\n",
      "|              RidgeClassifier_3              |                 RidgeClassifier(alpha=2)                 |  0.2978812215459704 |  0.4195362718089991 |  0.4418656397347389 | 0.30825142380857046 |  2.381115674972534  |\n",
      "|                    SVC_2                    |                  SVC(kernel='sigmoid')                   | 0.27347154948321195 | 0.41058310376492196 |  0.5025363930891102 | 0.29046111184250384 |  254.66759181022644 |\n",
      "|                    KNN_2                    |                  KNeighborsClassifier()                  |  0.2720166812189435 |  0.3496326905417815 |  0.2888261686967606 |  0.2759121644368684 |  5.2346556186676025 |\n",
      "|                    KNN_3                    |           KNeighborsClassifier(n_neighbors=7)            |  0.2679530490288469 | 0.35215794306703396 |  0.2894886904892481 |  0.2727239516555519 |  5.313212633132935  |\n",
      "|             LogisticRegression_2            |                   LogisticRegression()                   | 0.26341030850243363 |  0.4116161616161616 |  0.4542215508363583 | 0.28449292071434745 |  30.178314447402954 |\n",
      "|                    KNN_1                    |           KNeighborsClassifier(n_neighbors=3)            | 0.25190393249732723 | 0.29981634527089074 | 0.26724986927721195 |  0.2653164874705564 |  5.225518703460693  |\n",
      "|               SGDClassifier_4               |     SGDClassifier(alpha=0.001, loss='squared_hinge')     | 0.23714313912652402 | 0.40059687786960513 |  0.5313424552997924 |  0.2658228647980648 |  1.245208740234375  |\n",
      "|             LogisticRegression_1            |                LogisticRegression(C=0.5)                 | 0.22323922238640118 |  0.3957759412304867 |  0.5231371374660111 |  0.2563329340856686 |  15.886180877685547 |\n",
      "|           multiclass_ComplementNB           |                      ComplementNB()                      | 0.20343058723107266 | 0.20156106519742883 |  0.2588530160829864 |  0.2649069410488393 |  1.786180019378662  |\n",
      "|    multiclass_PassiveAggressiveClassifier   |              PassiveAggressiveClassifier()               |  0.1926610196793222 | 0.27904040404040403 | 0.28871694273163434 |  0.2412269885565983 |  6.486658573150635  |\n",
      "|             multiclass_LinearSVC            |                       LinearSVC()                        | 0.18793791818901098 |  0.2812213039485767 |  0.2580654751124224 | 0.23819120707259828 |  14.030625581741333 |\n",
      "|                ComplementNB_1               |                 ComplementNB(alpha=0.5)                  | 0.18164626481284205 | 0.38073921028466484 |  0.5927774403033594 |  0.2341804634273863 | 0.25333356857299805 |\n",
      "|                ComplementNB_2               |         ComplementNB(alpha=0.5, fit_prior=False)         | 0.18164626481284205 | 0.38073921028466484 |  0.5927774403033594 |  0.2341804634273863 | 0.26657891273498535 |\n",
      "|           RandomForestClassifier_1          |          RandomForestClassifier(max_depth=100)           |  0.1662891107954382 |  0.3685720844811754 |  0.4926121655292214 | 0.22339459433886028 |  116.28346729278564 |\n",
      "|           multiclass_SGDClassifier          |                     SGDClassifier()                      |  0.156908174141207  |  0.233356290174472  | 0.23681136930181176 |  0.2321510785726822 |  10.30093765258789  |\n",
      "|                ComplementNB_3               |                      ComplementNB()                      | 0.13896574693903657 |  0.3635215794306703 |  0.5424762270272911 |  0.2142195634485001 | 0.25451040267944336 |\n",
      "|                ComplementNB_4               |              ComplementNB(fit_prior=False)               | 0.13896574693903657 |  0.3635215794306703 |  0.5424762270272911 |  0.2142195634485001 | 0.25049304962158203 |\n",
      "|               MultinomialNB_2               |        MultinomialNB(alpha=0.5, fit_prior=False)         |  0.1273609830242561 | 0.35858585858585856 |  0.5219899767251919 |  0.208298060694274  |  0.2795872688293457 |\n",
      "|               MultinomialNB_4               |              MultinomialNB(fit_prior=False)              | 0.11391014599586449 |  0.3538797061524334 | 0.37393178117532616 |  0.2036080906731673 | 0.26453709602355957 |\n",
      "|               MultinomialNB_1               |                 MultinomialNB(alpha=0.5)                 | 0.11096695516354471 |  0.3530762167125803 | 0.38910532623627453 | 0.20265256720405883 | 0.36290526390075684 |\n",
      "|               MultinomialNB_3               |                     MultinomialNB()                      | 0.10543566261284398 |  0.3506657483930211 | 0.21666781648844427 | 0.20068697411373418 | 0.27346253395080566 |\n",
      "|                    SVC_1                    |                    SVC(kernel='poly')                    |  0.104333899742912  | 0.35020661157024796 | 0.22998966348914668 | 0.20032141422257937 |  280.37020206451416 |\n",
      "|               SGDClassifier_6               |     SGDClassifier(alpha=0.01, loss='squared_hinge')      | 0.10364826941066416 | 0.34974747474747475 | 0.06994949494949496 |         0.2         |  0.8973574638366699 |\n",
      "+---------------------------------------------+----------------------------------------------------------+---------------------+---------------------+---------------------+---------------------+---------------------+\n"
     ]
    }
   ],
   "source": [
    "print(table_results(Model.all_models))"
   ]
  },
  {
   "cell_type": "markdown",
   "metadata": {},
   "source": [
    "<a id=\"d-français-et-italien\"></a>\n",
    "## **D - En français et italien**"
   ]
  },
  {
   "cell_type": "markdown",
   "metadata": {},
   "source": [
    "Et on refait la même chose aussi uniquement pour le français et l'italien parce qu'on s'est dit que comme les deux langues sont plus proches, il y a peut-être une possibilité que les résultats soient intéressants et moins tirés vers le bas à cause de l'anglais."
   ]
  },
  {
   "cell_type": "code",
   "execution_count": 194,
   "metadata": {},
   "outputs": [],
   "source": [
    "combined_train_data = pd.concat([df_train[\"texte_nettoyé\"], df_train_it[\"texte\"]])\n",
    "vectorizer = TfidfVectorizer(max_df=0.5, ngram_range=(1, 2))  \n",
    "vectorizer.fit(combined_train_data)\n",
    "\n",
    "\n",
    "x_train_fr = vectorizer.transform(df_train[\"texte_nettoyé\"])\n",
    "x_train_it = vectorizer.transform(df_train_it[\"texte\"])\n",
    "x_test_fr = vectorizer.transform(df_test[\"texte_nettoyé\"])\n",
    "x_test_it = vectorizer.transform(df_test_it[\"texte\"])\n",
    "\n",
    "y_train_fr = df_train[\"label\"]\n",
    "y_train_it = df_train_it[\"label\"]\n",
    "y_test_fr = df_test[\"label\"]\n",
    "y_test_it = df_test_it[\"label\"]"
   ]
  },
  {
   "cell_type": "code",
   "execution_count": 195,
   "metadata": {},
   "outputs": [
    {
     "name": "stdout",
     "output_type": "stream",
     "text": [
      "On teste le modèle KNN\n",
      "On teste le modèle MultinomialNB\n",
      "On teste le modèle ComplementNB\n",
      "On teste le modèle LogisticRegression\n",
      "On teste le modèle SGDClassifier\n"
     ]
    },
    {
     "name": "stderr",
     "output_type": "stream",
     "text": [
      "/home/debora/Documents/scripts/.venv/deft09/lib/python3.12/site-packages/sklearn/metrics/_classification.py:1565: UndefinedMetricWarning: Precision is ill-defined and being set to 0.0 in labels with no predicted samples. Use `zero_division` parameter to control this behavior.\n",
      "  _warn_prf(average, modifier, f\"{metric.capitalize()} is\", len(result))\n",
      "/home/debora/Documents/scripts/.venv/deft09/lib/python3.12/site-packages/sklearn/metrics/_classification.py:1565: UndefinedMetricWarning: Precision is ill-defined and being set to 0.0 in labels with no predicted samples. Use `zero_division` parameter to control this behavior.\n",
      "  _warn_prf(average, modifier, f\"{metric.capitalize()} is\", len(result))\n",
      "/home/debora/Documents/scripts/.venv/deft09/lib/python3.12/site-packages/sklearn/metrics/_classification.py:1565: UndefinedMetricWarning: Precision is ill-defined and being set to 0.0 in labels with no predicted samples. Use `zero_division` parameter to control this behavior.\n",
      "  _warn_prf(average, modifier, f\"{metric.capitalize()} is\", len(result))\n"
     ]
    },
    {
     "name": "stdout",
     "output_type": "stream",
     "text": [
      "On teste le modèle LinearSVC\n"
     ]
    },
    {
     "name": "stderr",
     "output_type": "stream",
     "text": [
      "/home/debora/Documents/scripts/.venv/deft09/lib/python3.12/site-packages/sklearn/metrics/_classification.py:1565: UndefinedMetricWarning: Precision is ill-defined and being set to 0.0 in labels with no predicted samples. Use `zero_division` parameter to control this behavior.\n",
      "  _warn_prf(average, modifier, f\"{metric.capitalize()} is\", len(result))\n",
      "/home/debora/Documents/scripts/.venv/deft09/lib/python3.12/site-packages/sklearn/metrics/_classification.py:1565: UndefinedMetricWarning: Precision is ill-defined and being set to 0.0 in labels with no predicted samples. Use `zero_division` parameter to control this behavior.\n",
      "  _warn_prf(average, modifier, f\"{metric.capitalize()} is\", len(result))\n",
      "/home/debora/Documents/scripts/.venv/deft09/lib/python3.12/site-packages/sklearn/metrics/_classification.py:1565: UndefinedMetricWarning: Precision is ill-defined and being set to 0.0 in labels with no predicted samples. Use `zero_division` parameter to control this behavior.\n",
      "  _warn_prf(average, modifier, f\"{metric.capitalize()} is\", len(result))\n"
     ]
    },
    {
     "name": "stdout",
     "output_type": "stream",
     "text": [
      "On teste le modèle SVC\n",
      "On teste le modèle RidgeClassifier\n",
      "On teste le modèle LGBMClassifier\n",
      "On teste le modèle RandomForestClassifier\n",
      "On teste le modèle PassiveAggressiveClassifier\n"
     ]
    }
   ],
   "source": [
    "@time_function\n",
    "def multilingual_classifier(model, x_train_fr, y_train_fr, x_train_it, y_train_it, x_test_fr, y_test_fr):\n",
    "\n",
    "    model = model.fit(x_train_fr, y_train_fr)\n",
    "    model = model.fit(x_train_it, y_train_it)\n",
    "\n",
    "    y_pred = model.predict(x_test_fr)\n",
    "\n",
    "    accuracy = accuracy_score(y_test_fr, y_pred)\n",
    "    report = classification_report(y_test_fr, y_pred, output_dict=True)\n",
    "    \n",
    "    return model, {\"accuracy\": accuracy, **report}\n",
    "\n",
    "for model in models_dict:\n",
    "    print(\"On teste le modèle\", model)\n",
    "    if model in [\"PassiveAggressiveClassifier\", \"SGDClassifier\", \"LinearSVC\", \"multinomialNB\", \"ComplementNB\"]:\n",
    "        multi_clf_result, running_time = multilingual_classifier(models_dict[model][\"model\"], x_train_fr, y_train_fr, x_train_it, y_train_it, x_test_fr, y_test_fr)\n",
    "        multi_clf_model, scores = multi_clf_result\n",
    "        model = Model(name=f\"multiclass_{model}\", model=multi_clf_model, scores=scores, running_time=running_time)\n"
   ]
  },
  {
   "cell_type": "code",
   "execution_count": 196,
   "metadata": {},
   "outputs": [
    {
     "name": "stdout",
     "output_type": "stream",
     "text": [
      "+---------------------------------------------+----------------------------------------------------------+---------------------+---------------------+---------------------+---------------------+---------------------+\n",
      "|                  Algorithme                 |                     Hyperparamètres                      |       Macro f1      |       Accuracy      |      Precision      |        Rappel       |  Temps d'exécution  |\n",
      "+---------------------------------------------+----------------------------------------------------------+---------------------+---------------------+---------------------+---------------------+---------------------+\n",
      "|  balanced_up_PassiveAggressiveClassifier_2  | PassiveAggressiveClassifier(C=0.5, loss='squared_hinge') |  0.3512981342774795 |  0.3907254361799816 |  0.3529605750685788 | 0.35181241010001724 |  1.735456943511963  |\n",
      "|  balanced_up_PassiveAggressiveClassifier_1  |            PassiveAggressiveClassifier(C=0.5)            |  0.3508526818139159 |  0.390495867768595  |  0.3536567768043338 |  0.3505331763051286 |  1.436206340789795  |\n",
      "|  balanced_up_PassiveAggressiveClassifier_3  |              PassiveAggressiveClassifier()               | 0.35073277708081896 |  0.3907254361799816 | 0.35339434194809977 |  0.3505396185857926 |  1.296884536743164  |\n",
      "|  balanced_up_PassiveAggressiveClassifier_4  |    PassiveAggressiveClassifier(loss='squared_hinge')     |  0.3504155885261065 |  0.389692378328742  |  0.3521631432004856 |  0.3508047787150891 |  1.446624994277954  |\n",
      "|           balanced_up_LinearSVC_1           |               LinearSVC(C=0.5, dual=True)                | 0.34978977868852545 | 0.37993572084481175 |  0.3449777200274905 |  0.3577038331219887 |  3.6956446170806885 |\n",
      "|           balanced_up_LinearSVC_2           |               LinearSVC(C=0.5, dual=False)               |  0.3497896449310348 | 0.37993572084481175 | 0.34498005922316777 |  0.3577038331219887 |  10.372359275817871 |\n",
      "|         balanced_up_SGDClassifier_2         |           SGDClassifier(loss='squared_hinge')            | 0.34876772892003394 | 0.37936179981634527 |  0.3436057886239608 |  0.3578795873258991 |  1.128627061843872  |\n",
      "|           balanced_up_LinearSVC_3           |                   LinearSVC(dual=True)                   | 0.34834803712033974 | 0.38096877869605145 | 0.34495252951005384 |  0.3536243144849022 |  5.397148609161377  |\n",
      "|           balanced_up_LinearSVC_4           |                  LinearSVC(dual=False)                   | 0.34834803712033974 | 0.38096877869605145 | 0.34495252951005384 |  0.3536243144849022 |  18.564963817596436 |\n",
      "|        PassiveAggressiveClassifier_1        |            PassiveAggressiveClassifier(C=0.5)            | 0.34387335676593184 |  0.4123048668503214 |  0.3773061164199935 | 0.33831364700215544 |  1.4534480571746826 |\n",
      "|        PassiveAggressiveClassifier_4        |    PassiveAggressiveClassifier(loss='squared_hinge')     |  0.3430056286587174 |  0.4112718089990817 | 0.37382432832612283 | 0.33771708135255746 |  1.425475835800171  |\n",
      "|        PassiveAggressiveClassifier_2        | PassiveAggressiveClassifier(C=0.5, loss='squared_hinge') | 0.34266427602212685 |  0.4108126721763085 |  0.3734218019716752 | 0.33739209892768474 |  1.8172807693481445 |\n",
      "|        PassiveAggressiveClassifier_3        |              PassiveAggressiveClassifier()               |  0.3409178275000788 | 0.41092745638200184 |  0.3707085864422396 |  0.3364649386543821 |  1.2465951442718506 |\n",
      "|         balanced_up_SGDClassifier_1         |                     SGDClassifier()                      | 0.33861028591023656 |  0.3546831955922865 |  0.336238147880198  | 0.36530226183199294 |  2.322718858718872  |\n",
      "|                 LinearSVC_3                 |                   LinearSVC(dual=True)                   |  0.3319172995235483 |  0.4180440771349862 |  0.3930365127324806 | 0.32991101032659575 |  2.5560684204101562 |\n",
      "|                 LinearSVC_4                 |                  LinearSVC(dual=False)                   |  0.3319172995235483 |  0.4180440771349862 |  0.3930365127324806 | 0.32991101032659575 |  13.170190334320068 |\n",
      "|               SGDClassifier_2               |           SGDClassifier(loss='squared_hinge')            |  0.3300589451773978 |  0.4180440771349862 | 0.39391068995014084 |  0.3292911000243005 |  0.8844616413116455 |\n",
      "|        balanced_down_SGDClassifier_2        |           SGDClassifier(loss='squared_hinge')            |  0.3289237626266512 |  0.3379247015610652 | 0.33034275885991815 |  0.3604658429747965 |  0.6264314651489258 |\n",
      "|         balanced_up_SGDClassifier_4         |     SGDClassifier(alpha=0.001, loss='squared_hinge')     |  0.3284990413348936 | 0.34618916437098257 | 0.32862833897233007 | 0.35969428996208946 |  1.8706412315368652 |\n",
      "|        balanced_down_SGDClassifier_1        |                     SGDClassifier()                      |  0.3282020785665968 |  0.3367768595041322 |  0.3300132023095068 |  0.3614375443666805 |  1.3171989917755127 |\n",
      "|          balanced_down_LinearSVC_2          |               LinearSVC(C=0.5, dual=False)               | 0.32773887343561914 |  0.3375803489439853 |  0.3288541131178189 | 0.36157426719362584 |  2.968168258666992  |\n",
      "|          balanced_down_LinearSVC_1          |               LinearSVC(C=0.5, dual=True)                | 0.32763221338679943 | 0.33746556473829203 |  0.3287491954123542 | 0.36140704311335836 |  0.8915021419525146 |\n",
      "|          balanced_down_LinearSVC_4          |                  LinearSVC(dual=False)                   |  0.3270612244670434 | 0.33631772268135907 | 0.32807269691937446 | 0.35917402310506813 |  2.642162799835205  |\n",
      "| balanced_down_PassiveAggressiveClassifier_3 |              PassiveAggressiveClassifier()               |  0.3270126683868122 | 0.33608815426997246 | 0.32792100990705253 |  0.3558843138279618 |  0.623831033706665  |\n",
      "|          balanced_down_LinearSVC_3          |                   LinearSVC(dual=True)                   | 0.32696507085597865 | 0.33620293847566574 | 0.32802603646384126 |  0.3591420819252833 |  1.317735195159912  |\n",
      "| balanced_down_PassiveAggressiveClassifier_4 |    PassiveAggressiveClassifier(loss='squared_hinge')     |  0.3263228201183116 | 0.33562901744719925 |  0.3279513089801569 |  0.355309182792605  |  0.6544492244720459 |\n",
      "| balanced_down_PassiveAggressiveClassifier_1 |            PassiveAggressiveClassifier(C=0.5)            | 0.32617635103513604 | 0.33539944903581265 | 0.32677273519600725 |  0.3549365665552693 |  0.6408531665802002 |\n",
      "| balanced_down_PassiveAggressiveClassifier_2 | PassiveAggressiveClassifier(C=0.5, loss='squared_hinge') | 0.32592787749302354 |  0.3351698806244261 | 0.32710270046091094 |  0.3544321497642966 |  0.8239603042602539 |\n",
      "|               SGDClassifier_1               |                     SGDClassifier()                      |  0.3228101291650114 |  0.4206841138659321 |  0.3854821908153771 |  0.328324288911154  |  1.542405366897583  |\n",
      "|        balanced_down_SGDClassifier_5        |                SGDClassifier(alpha=0.01)                 |  0.3227177555801609 |  0.3342516069788797 |  0.325673787388202  | 0.35834837872598496 |  0.5481760501861572 |\n",
      "|        balanced_down_SGDClassifier_3        |                SGDClassifier(alpha=0.001)                |  0.321704947714199  | 0.33218549127640035 | 0.32610785976048845 | 0.36081888632707493 |  0.778287410736084  |\n",
      "|               SGDClassifier_3               |                SGDClassifier(alpha=0.001)                |  0.3216484425781768 |  0.4162075298438935 |  0.3829914781231082 |  0.3263730368886081 |  0.9656364917755127 |\n",
      "|         balanced_up_SGDClassifier_3         |                SGDClassifier(alpha=0.001)                |  0.3206218194166917 | 0.33402203856749313 | 0.32676048354885506 |  0.3589434313450001 |  1.2325670719146729 |\n",
      "|               SGDClassifier_5               |                SGDClassifier(alpha=0.01)                 | 0.31898737135388483 | 0.41724058769513317 | 0.37826494601161254 |  0.3270427472402981 |  0.7782447338104248 |\n",
      "|         balanced_up_SGDClassifier_5         |                SGDClassifier(alpha=0.01)                 | 0.31840714867252434 | 0.33184113865932047 |  0.325315786403659  | 0.35817318958331035 |  1.2971885204315186 |\n",
      "|        balanced_down_SGDClassifier_4        |     SGDClassifier(alpha=0.001, loss='squared_hinge')     | 0.31772041441469207 | 0.32954545454545453 |  0.3230816660020104 | 0.35713715493982257 |  0.8095147609710693 |\n",
      "|                 LinearSVC_1                 |               LinearSVC(C=0.5, dual=True)                | 0.31614160266668756 | 0.41689623507805323 |  0.4041104052756137 |  0.3196282154238117 |  1.8021917343139648 |\n",
      "|                 LinearSVC_2                 |               LinearSVC(C=0.5, dual=False)               |  0.3160615644022916 | 0.41678145087235996 |  0.4039702209688306 |  0.3195625770910254 |  6.6127355098724365 |\n",
      "|              RidgeClassifier_1              |                    RidgeClassifier()                     | 0.31515988564747044 |  0.4166666666666667 | 0.40408839863906837 | 0.31817738369974297 |  3.1493611335754395 |\n",
      "|              RidgeClassifier_2              |                RidgeClassifier(alpha=1.5)                |  0.304017897347683  |  0.4182736455463728 |  0.4160574614311262 | 0.31183687501620616 |  2.8826403617858887 |\n",
      "|               LGBMClassifier_1              |     LGBMClassifier(max_depth=500, n_estimators=500)      | 0.30019029364950034 |  0.3736225895316804 | 0.33946812529970216 |  0.2942243923212533 |  181.35803771018982 |\n",
      "|         balanced_up_SGDClassifier_6         |     SGDClassifier(alpha=0.01, loss='squared_hinge')      | 0.29967050302298137 | 0.31313131313131315 |  0.3144817925486043 | 0.34425435161352075 |  1.4969305992126465 |\n",
      "|        balanced_down_SGDClassifier_6        |     SGDClassifier(alpha=0.01, loss='squared_hinge')      |  0.2993259362330413 | 0.31588613406795224 | 0.31051974555197986 | 0.34119834054679155 |  0.5564594268798828 |\n",
      "|              RidgeClassifier_3              |                 RidgeClassifier(alpha=2)                 |  0.2978812215459704 |  0.4195362718089991 |  0.4418656397347389 | 0.30825142380857046 |  2.381115674972534  |\n",
      "|                    SVC_2                    |                  SVC(kernel='sigmoid')                   | 0.27347154948321195 | 0.41058310376492196 |  0.5025363930891102 | 0.29046111184250384 |  254.66759181022644 |\n",
      "|                    KNN_2                    |                  KNeighborsClassifier()                  |  0.2720166812189435 |  0.3496326905417815 |  0.2888261686967606 |  0.2759121644368684 |  5.2346556186676025 |\n",
      "|                    KNN_3                    |           KNeighborsClassifier(n_neighbors=7)            |  0.2679530490288469 | 0.35215794306703396 |  0.2894886904892481 |  0.2727239516555519 |  5.313212633132935  |\n",
      "|             LogisticRegression_2            |                   LogisticRegression()                   | 0.26341030850243363 |  0.4116161616161616 |  0.4542215508363583 | 0.28449292071434745 |  30.178314447402954 |\n",
      "|                    KNN_1                    |           KNeighborsClassifier(n_neighbors=3)            | 0.25190393249732723 | 0.29981634527089074 | 0.26724986927721195 |  0.2653164874705564 |  5.225518703460693  |\n",
      "|               SGDClassifier_4               |     SGDClassifier(alpha=0.001, loss='squared_hinge')     | 0.23714313912652402 | 0.40059687786960513 |  0.5313424552997924 |  0.2658228647980648 |  1.245208740234375  |\n",
      "|             LogisticRegression_1            |                LogisticRegression(C=0.5)                 | 0.22323922238640118 |  0.3957759412304867 |  0.5231371374660111 |  0.2563329340856686 |  15.886180877685547 |\n",
      "|           multiclass_ComplementNB           |                      ComplementNB()                      | 0.20343058723107266 | 0.20156106519742883 |  0.2588530160829864 |  0.2649069410488393 |  1.786180019378662  |\n",
      "|    multiclass_PassiveAggressiveClassifier   |              PassiveAggressiveClassifier()               |  0.1926610196793222 | 0.27904040404040403 | 0.28871694273163434 |  0.2412269885565983 |  6.486658573150635  |\n",
      "|             multiclass_LinearSVC            |                       LinearSVC()                        | 0.18793791818901098 |  0.2812213039485767 |  0.2580654751124224 | 0.23819120707259828 |  14.030625581741333 |\n",
      "|                ComplementNB_1               |                 ComplementNB(alpha=0.5)                  | 0.18164626481284205 | 0.38073921028466484 |  0.5927774403033594 |  0.2341804634273863 | 0.25333356857299805 |\n",
      "|                ComplementNB_2               |         ComplementNB(alpha=0.5, fit_prior=False)         | 0.18164626481284205 | 0.38073921028466484 |  0.5927774403033594 |  0.2341804634273863 | 0.26657891273498535 |\n",
      "|             multiclass_LinearSVC            |                       LinearSVC()                        |   0.17229954545385  | 0.25206611570247933 |  0.3775517309913491 |  0.2289482888700806 |  6.476083517074585  |\n",
      "|           RandomForestClassifier_1          |          RandomForestClassifier(max_depth=100)           |  0.1662891107954382 |  0.3685720844811754 |  0.4926121655292214 | 0.22339459433886028 |  116.28346729278564 |\n",
      "|           multiclass_SGDClassifier          |                     SGDClassifier()                      |  0.156908174141207  |  0.233356290174472  | 0.23681136930181176 |  0.2321510785726822 |  10.30093765258789  |\n",
      "|    multiclass_PassiveAggressiveClassifier   |              PassiveAggressiveClassifier()               | 0.14742117053731638 |  0.219811753902663  |  0.4310489112419164 | 0.22706363641076743 |  2.595916271209717  |\n",
      "|                ComplementNB_3               |                      ComplementNB()                      | 0.13896574693903657 |  0.3635215794306703 |  0.5424762270272911 |  0.2142195634485001 | 0.25451040267944336 |\n",
      "|                ComplementNB_4               |              ComplementNB(fit_prior=False)               | 0.13896574693903657 |  0.3635215794306703 |  0.5424762270272911 |  0.2142195634485001 | 0.25049304962158203 |\n",
      "|               MultinomialNB_2               |        MultinomialNB(alpha=0.5, fit_prior=False)         |  0.1273609830242561 | 0.35858585858585856 |  0.5219899767251919 |  0.208298060694274  |  0.2795872688293457 |\n",
      "|           multiclass_SGDClassifier          |                     SGDClassifier()                      | 0.11415618877024192 | 0.18675390266299358 | 0.18949994921913857 |  0.2200701002799062 |   4.07105016708374  |\n",
      "|               MultinomialNB_4               |              MultinomialNB(fit_prior=False)              | 0.11391014599586449 |  0.3538797061524334 | 0.37393178117532616 |  0.2036080906731673 | 0.26453709602355957 |\n",
      "|               MultinomialNB_1               |                 MultinomialNB(alpha=0.5)                 | 0.11096695516354471 |  0.3530762167125803 | 0.38910532623627453 | 0.20265256720405883 | 0.36290526390075684 |\n",
      "|           multiclass_ComplementNB           |                      ComplementNB()                      |  0.1088052770787817 |  0.1289026629935721 |  0.2694228773922708 | 0.22608689827779488 |  1.3821377754211426 |\n",
      "|               MultinomialNB_3               |                     MultinomialNB()                      | 0.10543566261284398 |  0.3506657483930211 | 0.21666781648844427 | 0.20068697411373418 | 0.27346253395080566 |\n",
      "|                    SVC_1                    |                    SVC(kernel='poly')                    |  0.104333899742912  | 0.35020661157024796 | 0.22998966348914668 | 0.20032141422257937 |  280.37020206451416 |\n",
      "|               SGDClassifier_6               |     SGDClassifier(alpha=0.01, loss='squared_hinge')      | 0.10364826941066416 | 0.34974747474747475 | 0.06994949494949496 |         0.2         |  0.8973574638366699 |\n",
      "+---------------------------------------------+----------------------------------------------------------+---------------------+---------------------+---------------------+---------------------+---------------------+\n"
     ]
    }
   ],
   "source": [
    "print(table_results(Model.all_models))"
   ]
  },
  {
   "cell_type": "markdown",
   "metadata": {},
   "source": [
    "<a id=\"6-utilisation-dun-autre-slit\"></a>\n",
    "## **6. Utilisation d'un autre split**"
   ]
  },
  {
   "cell_type": "markdown",
   "metadata": {},
   "source": [
    "Ici, on enlève les doublons et on prendre le train split de sklearn. On utilise stratify pour que ce soit équilibré de 40 et 60 de base. On prend de **nouvelles données au hasard** (donc pas les mêmes que celle de base).\n",
    "\n",
    "Si on essaye un nouveau split, c'est pour savoir si c'est un problème avec nos données et pour savoir si c'est la tâche qui est compliquée ou pas. "
   ]
  },
  {
   "cell_type": "code",
   "execution_count": 197,
   "metadata": {},
   "outputs": [],
   "source": [
    "new_df  = pd.DataFrame()\n",
    "new_df[\"texte_nettoyé\"] = pd.concat([df_train[\"texte_nettoyé\"], df_test[\"texte_nettoyé\"]], ignore_index=True)\n",
    "new_df[\"label\"] = pd.concat([df_train[\"label\"], df_test[\"label\"]], ignore_index=True)\n",
    "new_df = new_df.drop_duplicates(subset=\"texte_nettoyé\", keep=False)"
   ]
  },
  {
   "cell_type": "markdown",
   "metadata": {},
   "source": [
    "On vérifie nos dimensions avant de continuer."
   ]
  },
  {
   "cell_type": "code",
   "execution_count": 198,
   "metadata": {},
   "outputs": [
    {
     "name": "stdout",
     "output_type": "stream",
     "text": [
      "x_train_new_vectorized shape: (15237, 490097)\n",
      "y_train_new shape: (15237,)\n",
      "x_test_new_vectorized shape: (6531, 490097)\n",
      "y_test_new shape: (6531,)\n"
     ]
    }
   ],
   "source": [
    "x_train_new, x_test_new, y_train_new, y_test_new = train_test_split(new_df[\"texte_nettoyé\"], new_df[\"label\"], test_size=0.3, random_state=42, stratify=new_df[\"label\"])\n",
    "vectorizer = TfidfVectorizer(max_df=0.5, ngram_range=(1, 2))\n",
    "x_train_new_vectorized = vectorizer.fit_transform(x_train_new)\n",
    "x_test_new_vectorized = vectorizer.transform(x_test_new)\n",
    "\n",
    "print(f\"x_train_new_vectorized shape: {x_train_new_vectorized.shape}\")\n",
    "print(f\"y_train_new shape: {y_train_new.shape}\")\n",
    "print(f\"x_test_new_vectorized shape: {x_test_new_vectorized.shape}\")\n",
    "print(f\"y_test_new shape: {y_test_new.shape}\")"
   ]
  },
  {
   "cell_type": "markdown",
   "metadata": {},
   "source": [
    "Et on lance **l'entraînement des modèles** sur notre nouveau split."
   ]
  },
  {
   "cell_type": "code",
   "execution_count": 199,
   "metadata": {},
   "outputs": [
    {
     "name": "stdout",
     "output_type": "stream",
     "text": [
      "On teste le modèle KNN !\n",
      "On teste le modèle MultinomialNB !\n"
     ]
    },
    {
     "name": "stderr",
     "output_type": "stream",
     "text": [
      "/home/debora/Documents/scripts/.venv/deft09/lib/python3.12/site-packages/sklearn/metrics/_classification.py:1565: UndefinedMetricWarning: Precision is ill-defined and being set to 0.0 in labels with no predicted samples. Use `zero_division` parameter to control this behavior.\n",
      "  _warn_prf(average, modifier, f\"{metric.capitalize()} is\", len(result))\n",
      "/home/debora/Documents/scripts/.venv/deft09/lib/python3.12/site-packages/sklearn/metrics/_classification.py:1565: UndefinedMetricWarning: Precision is ill-defined and being set to 0.0 in labels with no predicted samples. Use `zero_division` parameter to control this behavior.\n",
      "  _warn_prf(average, modifier, f\"{metric.capitalize()} is\", len(result))\n",
      "/home/debora/Documents/scripts/.venv/deft09/lib/python3.12/site-packages/sklearn/metrics/_classification.py:1565: UndefinedMetricWarning: Precision is ill-defined and being set to 0.0 in labels with no predicted samples. Use `zero_division` parameter to control this behavior.\n",
      "  _warn_prf(average, modifier, f\"{metric.capitalize()} is\", len(result))\n",
      "/home/debora/Documents/scripts/.venv/deft09/lib/python3.12/site-packages/sklearn/metrics/_classification.py:1565: UndefinedMetricWarning: Precision is ill-defined and being set to 0.0 in labels with no predicted samples. Use `zero_division` parameter to control this behavior.\n",
      "  _warn_prf(average, modifier, f\"{metric.capitalize()} is\", len(result))\n",
      "/home/debora/Documents/scripts/.venv/deft09/lib/python3.12/site-packages/sklearn/metrics/_classification.py:1565: UndefinedMetricWarning: Precision is ill-defined and being set to 0.0 in labels with no predicted samples. Use `zero_division` parameter to control this behavior.\n",
      "  _warn_prf(average, modifier, f\"{metric.capitalize()} is\", len(result))\n",
      "/home/debora/Documents/scripts/.venv/deft09/lib/python3.12/site-packages/sklearn/metrics/_classification.py:1565: UndefinedMetricWarning: Precision is ill-defined and being set to 0.0 in labels with no predicted samples. Use `zero_division` parameter to control this behavior.\n",
      "  _warn_prf(average, modifier, f\"{metric.capitalize()} is\", len(result))\n",
      "/home/debora/Documents/scripts/.venv/deft09/lib/python3.12/site-packages/sklearn/metrics/_classification.py:1565: UndefinedMetricWarning: Precision is ill-defined and being set to 0.0 in labels with no predicted samples. Use `zero_division` parameter to control this behavior.\n",
      "  _warn_prf(average, modifier, f\"{metric.capitalize()} is\", len(result))\n",
      "/home/debora/Documents/scripts/.venv/deft09/lib/python3.12/site-packages/sklearn/metrics/_classification.py:1565: UndefinedMetricWarning: Precision is ill-defined and being set to 0.0 in labels with no predicted samples. Use `zero_division` parameter to control this behavior.\n",
      "  _warn_prf(average, modifier, f\"{metric.capitalize()} is\", len(result))\n",
      "/home/debora/Documents/scripts/.venv/deft09/lib/python3.12/site-packages/sklearn/metrics/_classification.py:1565: UndefinedMetricWarning: Precision is ill-defined and being set to 0.0 in labels with no predicted samples. Use `zero_division` parameter to control this behavior.\n",
      "  _warn_prf(average, modifier, f\"{metric.capitalize()} is\", len(result))\n",
      "/home/debora/Documents/scripts/.venv/deft09/lib/python3.12/site-packages/sklearn/metrics/_classification.py:1565: UndefinedMetricWarning: Precision is ill-defined and being set to 0.0 in labels with no predicted samples. Use `zero_division` parameter to control this behavior.\n",
      "  _warn_prf(average, modifier, f\"{metric.capitalize()} is\", len(result))\n",
      "/home/debora/Documents/scripts/.venv/deft09/lib/python3.12/site-packages/sklearn/metrics/_classification.py:1565: UndefinedMetricWarning: Precision is ill-defined and being set to 0.0 in labels with no predicted samples. Use `zero_division` parameter to control this behavior.\n",
      "  _warn_prf(average, modifier, f\"{metric.capitalize()} is\", len(result))\n",
      "/home/debora/Documents/scripts/.venv/deft09/lib/python3.12/site-packages/sklearn/metrics/_classification.py:1565: UndefinedMetricWarning: Precision is ill-defined and being set to 0.0 in labels with no predicted samples. Use `zero_division` parameter to control this behavior.\n",
      "  _warn_prf(average, modifier, f\"{metric.capitalize()} is\", len(result))\n"
     ]
    },
    {
     "name": "stdout",
     "output_type": "stream",
     "text": [
      "On teste le modèle ComplementNB !\n"
     ]
    },
    {
     "name": "stderr",
     "output_type": "stream",
     "text": [
      "/home/debora/Documents/scripts/.venv/deft09/lib/python3.12/site-packages/sklearn/metrics/_classification.py:1565: UndefinedMetricWarning: Precision is ill-defined and being set to 0.0 in labels with no predicted samples. Use `zero_division` parameter to control this behavior.\n",
      "  _warn_prf(average, modifier, f\"{metric.capitalize()} is\", len(result))\n",
      "/home/debora/Documents/scripts/.venv/deft09/lib/python3.12/site-packages/sklearn/metrics/_classification.py:1565: UndefinedMetricWarning: Precision is ill-defined and being set to 0.0 in labels with no predicted samples. Use `zero_division` parameter to control this behavior.\n",
      "  _warn_prf(average, modifier, f\"{metric.capitalize()} is\", len(result))\n",
      "/home/debora/Documents/scripts/.venv/deft09/lib/python3.12/site-packages/sklearn/metrics/_classification.py:1565: UndefinedMetricWarning: Precision is ill-defined and being set to 0.0 in labels with no predicted samples. Use `zero_division` parameter to control this behavior.\n",
      "  _warn_prf(average, modifier, f\"{metric.capitalize()} is\", len(result))\n",
      "/home/debora/Documents/scripts/.venv/deft09/lib/python3.12/site-packages/sklearn/metrics/_classification.py:1565: UndefinedMetricWarning: Precision is ill-defined and being set to 0.0 in labels with no predicted samples. Use `zero_division` parameter to control this behavior.\n",
      "  _warn_prf(average, modifier, f\"{metric.capitalize()} is\", len(result))\n",
      "/home/debora/Documents/scripts/.venv/deft09/lib/python3.12/site-packages/sklearn/metrics/_classification.py:1565: UndefinedMetricWarning: Precision is ill-defined and being set to 0.0 in labels with no predicted samples. Use `zero_division` parameter to control this behavior.\n",
      "  _warn_prf(average, modifier, f\"{metric.capitalize()} is\", len(result))\n",
      "/home/debora/Documents/scripts/.venv/deft09/lib/python3.12/site-packages/sklearn/metrics/_classification.py:1565: UndefinedMetricWarning: Precision is ill-defined and being set to 0.0 in labels with no predicted samples. Use `zero_division` parameter to control this behavior.\n",
      "  _warn_prf(average, modifier, f\"{metric.capitalize()} is\", len(result))\n"
     ]
    },
    {
     "name": "stdout",
     "output_type": "stream",
     "text": [
      "On teste le modèle LogisticRegression !\n"
     ]
    },
    {
     "name": "stderr",
     "output_type": "stream",
     "text": [
      "/home/debora/Documents/scripts/.venv/deft09/lib/python3.12/site-packages/sklearn/metrics/_classification.py:1565: UndefinedMetricWarning: Precision is ill-defined and being set to 0.0 in labels with no predicted samples. Use `zero_division` parameter to control this behavior.\n",
      "  _warn_prf(average, modifier, f\"{metric.capitalize()} is\", len(result))\n",
      "/home/debora/Documents/scripts/.venv/deft09/lib/python3.12/site-packages/sklearn/metrics/_classification.py:1565: UndefinedMetricWarning: Precision is ill-defined and being set to 0.0 in labels with no predicted samples. Use `zero_division` parameter to control this behavior.\n",
      "  _warn_prf(average, modifier, f\"{metric.capitalize()} is\", len(result))\n",
      "/home/debora/Documents/scripts/.venv/deft09/lib/python3.12/site-packages/sklearn/metrics/_classification.py:1565: UndefinedMetricWarning: Precision is ill-defined and being set to 0.0 in labels with no predicted samples. Use `zero_division` parameter to control this behavior.\n",
      "  _warn_prf(average, modifier, f\"{metric.capitalize()} is\", len(result))\n"
     ]
    },
    {
     "name": "stdout",
     "output_type": "stream",
     "text": [
      "On teste le modèle SGDClassifier !\n"
     ]
    },
    {
     "name": "stderr",
     "output_type": "stream",
     "text": [
      "/home/debora/Documents/scripts/.venv/deft09/lib/python3.12/site-packages/sklearn/metrics/_classification.py:1565: UndefinedMetricWarning: Precision is ill-defined and being set to 0.0 in labels with no predicted samples. Use `zero_division` parameter to control this behavior.\n",
      "  _warn_prf(average, modifier, f\"{metric.capitalize()} is\", len(result))\n",
      "/home/debora/Documents/scripts/.venv/deft09/lib/python3.12/site-packages/sklearn/metrics/_classification.py:1565: UndefinedMetricWarning: Precision is ill-defined and being set to 0.0 in labels with no predicted samples. Use `zero_division` parameter to control this behavior.\n",
      "  _warn_prf(average, modifier, f\"{metric.capitalize()} is\", len(result))\n",
      "/home/debora/Documents/scripts/.venv/deft09/lib/python3.12/site-packages/sklearn/metrics/_classification.py:1565: UndefinedMetricWarning: Precision is ill-defined and being set to 0.0 in labels with no predicted samples. Use `zero_division` parameter to control this behavior.\n",
      "  _warn_prf(average, modifier, f\"{metric.capitalize()} is\", len(result))\n"
     ]
    },
    {
     "name": "stdout",
     "output_type": "stream",
     "text": [
      "On teste le modèle LinearSVC !\n",
      "On teste le modèle SVC !\n"
     ]
    },
    {
     "name": "stderr",
     "output_type": "stream",
     "text": [
      "/home/debora/Documents/scripts/.venv/deft09/lib/python3.12/site-packages/sklearn/metrics/_classification.py:1565: UndefinedMetricWarning: Precision is ill-defined and being set to 0.0 in labels with no predicted samples. Use `zero_division` parameter to control this behavior.\n",
      "  _warn_prf(average, modifier, f\"{metric.capitalize()} is\", len(result))\n",
      "/home/debora/Documents/scripts/.venv/deft09/lib/python3.12/site-packages/sklearn/metrics/_classification.py:1565: UndefinedMetricWarning: Precision is ill-defined and being set to 0.0 in labels with no predicted samples. Use `zero_division` parameter to control this behavior.\n",
      "  _warn_prf(average, modifier, f\"{metric.capitalize()} is\", len(result))\n",
      "/home/debora/Documents/scripts/.venv/deft09/lib/python3.12/site-packages/sklearn/metrics/_classification.py:1565: UndefinedMetricWarning: Precision is ill-defined and being set to 0.0 in labels with no predicted samples. Use `zero_division` parameter to control this behavior.\n",
      "  _warn_prf(average, modifier, f\"{metric.capitalize()} is\", len(result))\n"
     ]
    },
    {
     "name": "stdout",
     "output_type": "stream",
     "text": [
      "On teste le modèle RidgeClassifier !\n",
      "On teste le modèle LGBMClassifier !\n"
     ]
    },
    {
     "name": "stderr",
     "output_type": "stream",
     "text": [
      "/home/debora/Documents/scripts/.venv/deft09/lib/python3.12/site-packages/sklearn/utils/deprecation.py:151: FutureWarning: 'force_all_finite' was renamed to 'ensure_all_finite' in 1.6 and will be removed in 1.8.\n",
      "  warnings.warn(\n"
     ]
    },
    {
     "name": "stdout",
     "output_type": "stream",
     "text": [
      "[LightGBM] [Info] Auto-choosing col-wise multi-threading, the overhead of testing was 0.890439 seconds.\n",
      "You can set `force_col_wise=true` to remove the overhead.\n",
      "[LightGBM] [Info] Total Bins 216612\n",
      "[LightGBM] [Info] Number of data points in the train set: 15237, number of used features: 6821\n",
      "[LightGBM] [Info] Start training from score -2.266302\n",
      "[LightGBM] [Info] Start training from score -1.975618\n",
      "[LightGBM] [Info] Start training from score -1.042340\n",
      "[LightGBM] [Info] Start training from score -1.266508\n",
      "[LightGBM] [Info] Start training from score -2.094052\n"
     ]
    },
    {
     "name": "stderr",
     "output_type": "stream",
     "text": [
      "/home/debora/Documents/scripts/.venv/deft09/lib/python3.12/site-packages/sklearn/utils/deprecation.py:151: FutureWarning: 'force_all_finite' was renamed to 'ensure_all_finite' in 1.6 and will be removed in 1.8.\n",
      "  warnings.warn(\n"
     ]
    },
    {
     "name": "stdout",
     "output_type": "stream",
     "text": [
      "On teste le modèle RandomForestClassifier !\n"
     ]
    },
    {
     "name": "stderr",
     "output_type": "stream",
     "text": [
      "/home/debora/Documents/scripts/.venv/deft09/lib/python3.12/site-packages/sklearn/metrics/_classification.py:1565: UndefinedMetricWarning: Precision is ill-defined and being set to 0.0 in labels with no predicted samples. Use `zero_division` parameter to control this behavior.\n",
      "  _warn_prf(average, modifier, f\"{metric.capitalize()} is\", len(result))\n",
      "/home/debora/Documents/scripts/.venv/deft09/lib/python3.12/site-packages/sklearn/metrics/_classification.py:1565: UndefinedMetricWarning: Precision is ill-defined and being set to 0.0 in labels with no predicted samples. Use `zero_division` parameter to control this behavior.\n",
      "  _warn_prf(average, modifier, f\"{metric.capitalize()} is\", len(result))\n",
      "/home/debora/Documents/scripts/.venv/deft09/lib/python3.12/site-packages/sklearn/metrics/_classification.py:1565: UndefinedMetricWarning: Precision is ill-defined and being set to 0.0 in labels with no predicted samples. Use `zero_division` parameter to control this behavior.\n",
      "  _warn_prf(average, modifier, f\"{metric.capitalize()} is\", len(result))\n"
     ]
    },
    {
     "name": "stdout",
     "output_type": "stream",
     "text": [
      "On teste le modèle PassiveAggressiveClassifier !\n"
     ]
    },
    {
     "data": {
      "text/plain": [
       "(None, 1260.5875012874603)"
      ]
     },
     "execution_count": 199,
     "metadata": {},
     "output_type": "execute_result"
    }
   ],
   "source": [
    "@time_function\n",
    "def test_models(models, x_train, y_train, x_test, y_test):\n",
    "                                 \n",
    "    for model_name, model_dict in models.items():\n",
    "        print(f\"On teste le modèle {model_name} !\")\n",
    "        hyperparameters_training(f\"{model_name}_on_new_split\", model_dict, x_train, y_train, x_test, y_test)\n",
    "\n",
    "test_models(models_dict, x_train_new_vectorized, y_train_new, x_test_new_vectorized, y_test_new)"
   ]
  },
  {
   "cell_type": "markdown",
   "metadata": {},
   "source": [
    "<a id=\"7-résultats-globaux\"></a>\n",
    "# **7. Résultats globaux**"
   ]
  },
  {
   "cell_type": "markdown",
   "metadata": {},
   "source": [
    "Voici enfin les résultats de notre projet ! On observe que le modèle Passive Agressive a les plus hautes performances avec le **nouveau split** et le **balanced up** train !"
   ]
  },
  {
   "cell_type": "code",
   "execution_count": 200,
   "metadata": {},
   "outputs": [
    {
     "name": "stdout",
     "output_type": "stream",
     "text": [
      "+---------------------------------------------+----------------------------------------------------------+---------------------+---------------------+---------------------+---------------------+---------------------+\n",
      "|                  Algorithme                 |                     Hyperparamètres                      |       Macro f1      |       Accuracy      |      Precision      |        Rappel       |  Temps d'exécution  |\n",
      "+---------------------------------------------+----------------------------------------------------------+---------------------+---------------------+---------------------+---------------------+---------------------+\n",
      "|  PassiveAggressiveClassifier_on_new_split_4 |    PassiveAggressiveClassifier(loss='squared_hinge')     | 0.35713257482790817 |  0.4206094013167968 |  0.3831321882746637 | 0.35007336051233146 |  1.4972829818725586 |\n",
      "|  PassiveAggressiveClassifier_on_new_split_3 |              PassiveAggressiveClassifier()               |  0.3562436883251613 | 0.41999693768182517 |  0.382709888683845  |  0.349336950219432  |  1.113783836364746  |\n",
      "|  PassiveAggressiveClassifier_on_new_split_2 | PassiveAggressiveClassifier(C=0.5, loss='squared_hinge') |  0.3541048652431484 |  0.4178533149594243 |  0.3802482437116166 |  0.3471808888154197 |  1.7387487888336182 |\n",
      "|  PassiveAggressiveClassifier_on_new_split_1 |            PassiveAggressiveClassifier(C=0.5)            |  0.3540224294857416 | 0.41892512632062473 |  0.3812486578473077 |  0.3471223423830473 |  1.4635870456695557 |\n",
      "|  balanced_up_PassiveAggressiveClassifier_2  | PassiveAggressiveClassifier(C=0.5, loss='squared_hinge') |  0.3512981342774795 |  0.3907254361799816 |  0.3529605750685788 | 0.35181241010001724 |  1.735456943511963  |\n",
      "|  balanced_up_PassiveAggressiveClassifier_1  |            PassiveAggressiveClassifier(C=0.5)            |  0.3508526818139159 |  0.390495867768595  |  0.3536567768043338 |  0.3505331763051286 |  1.436206340789795  |\n",
      "|  balanced_up_PassiveAggressiveClassifier_3  |              PassiveAggressiveClassifier()               | 0.35073277708081896 |  0.3907254361799816 | 0.35339434194809977 |  0.3505396185857926 |  1.296884536743164  |\n",
      "|  balanced_up_PassiveAggressiveClassifier_4  |    PassiveAggressiveClassifier(loss='squared_hinge')     |  0.3504155885261065 |  0.389692378328742  |  0.3521631432004856 |  0.3508047787150891 |  1.446624994277954  |\n",
      "|           balanced_up_LinearSVC_1           |               LinearSVC(C=0.5, dual=True)                | 0.34978977868852545 | 0.37993572084481175 |  0.3449777200274905 |  0.3577038331219887 |  3.6956446170806885 |\n",
      "|           balanced_up_LinearSVC_2           |               LinearSVC(C=0.5, dual=False)               |  0.3497896449310348 | 0.37993572084481175 | 0.34498005922316777 |  0.3577038331219887 |  10.372359275817871 |\n",
      "|         balanced_up_SGDClassifier_2         |           SGDClassifier(loss='squared_hinge')            | 0.34876772892003394 | 0.37936179981634527 |  0.3436057886239608 |  0.3578795873258991 |  1.128627061843872  |\n",
      "|           balanced_up_LinearSVC_3           |                   LinearSVC(dual=True)                   | 0.34834803712033974 | 0.38096877869605145 | 0.34495252951005384 |  0.3536243144849022 |  5.397148609161377  |\n",
      "|           balanced_up_LinearSVC_4           |                  LinearSVC(dual=False)                   | 0.34834803712033974 | 0.38096877869605145 | 0.34495252951005384 |  0.3536243144849022 |  18.564963817596436 |\n",
      "|           LinearSVC_on_new_split_3          |                   LinearSVC(dual=True)                   | 0.34622195726383315 | 0.42596845812279893 |  0.4015854890306948 |  0.3400798983393996 |  3.9335501194000244 |\n",
      "|           LinearSVC_on_new_split_4          |                  LinearSVC(dual=False)                   | 0.34620913527202546 | 0.42596845812279893 |  0.4014218543040893 |  0.3400798983393996 |  14.43925166130066  |\n",
      "|         SGDClassifier_on_new_split_2        |           SGDClassifier(loss='squared_hinge')            | 0.34415994288804164 | 0.42520287857908434 | 0.39744902425763184 |  0.3389354540221529 |  0.8506169319152832 |\n",
      "|        PassiveAggressiveClassifier_1        |            PassiveAggressiveClassifier(C=0.5)            | 0.34387335676593184 |  0.4123048668503214 |  0.3773061164199935 | 0.33831364700215544 |  1.4534480571746826 |\n",
      "|        PassiveAggressiveClassifier_4        |    PassiveAggressiveClassifier(loss='squared_hinge')     |  0.3430056286587174 |  0.4112718089990817 | 0.37382432832612283 | 0.33771708135255746 |  1.425475835800171  |\n",
      "|        PassiveAggressiveClassifier_2        | PassiveAggressiveClassifier(C=0.5, loss='squared_hinge') | 0.34266427602212685 |  0.4108126721763085 |  0.3734218019716752 | 0.33739209892768474 |  1.8172807693481445 |\n",
      "|         SGDClassifier_on_new_split_5        |                SGDClassifier(alpha=0.01)                 | 0.34163180174290086 | 0.42428418312662686 | 0.39149232600288114 | 0.33916258001955535 |  0.7863662242889404 |\n",
      "|        PassiveAggressiveClassifier_3        |              PassiveAggressiveClassifier()               |  0.3409178275000788 | 0.41092745638200184 |  0.3707085864422396 |  0.3364649386543821 |  1.2465951442718506 |\n",
      "|         SGDClassifier_on_new_split_1        |                     SGDClassifier()                      |  0.3396958294136197 | 0.42903077629765735 | 0.39659164496141547 | 0.34067839302455666 |  1.4944665431976318 |\n",
      "|         balanced_up_SGDClassifier_1         |                     SGDClassifier()                      | 0.33861028591023656 |  0.3546831955922865 |  0.336238147880198  | 0.36530226183199294 |  2.322718858718872  |\n",
      "|         SGDClassifier_on_new_split_3        |                SGDClassifier(alpha=0.001)                | 0.33617588954196337 |  0.4267340376665136 | 0.40075749842966746 | 0.33737995272809035 |  0.8795726299285889 |\n",
      "|                 LinearSVC_3                 |                   LinearSVC(dual=True)                   |  0.3319172995235483 |  0.4180440771349862 |  0.3930365127324806 | 0.32991101032659575 |  2.5560684204101562 |\n",
      "|                 LinearSVC_4                 |                  LinearSVC(dual=False)                   |  0.3319172995235483 |  0.4180440771349862 |  0.3930365127324806 | 0.32991101032659575 |  13.170190334320068 |\n",
      "|               SGDClassifier_2               |           SGDClassifier(loss='squared_hinge')            |  0.3300589451773978 |  0.4180440771349862 | 0.39391068995014084 |  0.3292911000243005 |  0.8844616413116455 |\n",
      "|           LinearSVC_on_new_split_1          |               LinearSVC(C=0.5, dual=True)                |  0.3298687699828009 | 0.42520287857908434 |  0.4087253401918667 | 0.32872344618509214 |  2.0047826766967773 |\n",
      "|           LinearSVC_on_new_split_2          |               LinearSVC(C=0.5, dual=False)               | 0.32985956065190003 | 0.42520287857908434 |  0.4084827111977346 | 0.32872344618509214 |  10.575378656387329 |\n",
      "|        RidgeClassifier_on_new_split_1       |                    RidgeClassifier()                     | 0.32929800569350115 | 0.42489664676159855 |  0.4138368678032734 |  0.327534512591764  |  4.249212980270386  |\n",
      "|        balanced_down_SGDClassifier_2        |           SGDClassifier(loss='squared_hinge')            |  0.3289237626266512 |  0.3379247015610652 | 0.33034275885991815 |  0.3604658429747965 |  0.6264314651489258 |\n",
      "|         balanced_up_SGDClassifier_4         |     SGDClassifier(alpha=0.001, loss='squared_hinge')     |  0.3284990413348936 | 0.34618916437098257 | 0.32862833897233007 | 0.35969428996208946 |  1.8706412315368652 |\n",
      "|        balanced_down_SGDClassifier_1        |                     SGDClassifier()                      |  0.3282020785665968 |  0.3367768595041322 |  0.3300132023095068 |  0.3614375443666805 |  1.3171989917755127 |\n",
      "|          balanced_down_LinearSVC_2          |               LinearSVC(C=0.5, dual=False)               | 0.32773887343561914 |  0.3375803489439853 |  0.3288541131178189 | 0.36157426719362584 |  2.968168258666992  |\n",
      "|          balanced_down_LinearSVC_1          |               LinearSVC(C=0.5, dual=True)                | 0.32763221338679943 | 0.33746556473829203 |  0.3287491954123542 | 0.36140704311335836 |  0.8915021419525146 |\n",
      "|          balanced_down_LinearSVC_4          |                  LinearSVC(dual=False)                   |  0.3270612244670434 | 0.33631772268135907 | 0.32807269691937446 | 0.35917402310506813 |  2.642162799835205  |\n",
      "| balanced_down_PassiveAggressiveClassifier_3 |              PassiveAggressiveClassifier()               |  0.3270126683868122 | 0.33608815426997246 | 0.32792100990705253 |  0.3558843138279618 |  0.623831033706665  |\n",
      "|          balanced_down_LinearSVC_3          |                   LinearSVC(dual=True)                   | 0.32696507085597865 | 0.33620293847566574 | 0.32802603646384126 |  0.3591420819252833 |  1.317735195159912  |\n",
      "| balanced_down_PassiveAggressiveClassifier_4 |    PassiveAggressiveClassifier(loss='squared_hinge')     |  0.3263228201183116 | 0.33562901744719925 |  0.3279513089801569 |  0.355309182792605  |  0.6544492244720459 |\n",
      "| balanced_down_PassiveAggressiveClassifier_1 |            PassiveAggressiveClassifier(C=0.5)            | 0.32617635103513604 | 0.33539944903581265 | 0.32677273519600725 |  0.3549365665552693 |  0.6408531665802002 |\n",
      "| balanced_down_PassiveAggressiveClassifier_2 | PassiveAggressiveClassifier(C=0.5, loss='squared_hinge') | 0.32592787749302354 |  0.3351698806244261 | 0.32710270046091094 |  0.3544321497642966 |  0.8239603042602539 |\n",
      "|               SGDClassifier_1               |                     SGDClassifier()                      |  0.3228101291650114 |  0.4206841138659321 |  0.3854821908153771 |  0.328324288911154  |  1.542405366897583  |\n",
      "|        balanced_down_SGDClassifier_5        |                SGDClassifier(alpha=0.01)                 |  0.3227177555801609 |  0.3342516069788797 |  0.325673787388202  | 0.35834837872598496 |  0.5481760501861572 |\n",
      "|        balanced_down_SGDClassifier_3        |                SGDClassifier(alpha=0.001)                |  0.321704947714199  | 0.33218549127640035 | 0.32610785976048845 | 0.36081888632707493 |  0.778287410736084  |\n",
      "|               SGDClassifier_3               |                SGDClassifier(alpha=0.001)                |  0.3216484425781768 |  0.4162075298438935 |  0.3829914781231082 |  0.3263730368886081 |  0.9656364917755127 |\n",
      "|         balanced_up_SGDClassifier_3         |                SGDClassifier(alpha=0.001)                |  0.3206218194166917 | 0.33402203856749313 | 0.32676048354885506 |  0.3589434313450001 |  1.2325670719146729 |\n",
      "|               SGDClassifier_5               |                SGDClassifier(alpha=0.01)                 | 0.31898737135388483 | 0.41724058769513317 | 0.37826494601161254 |  0.3270427472402981 |  0.7782447338104248 |\n",
      "|         balanced_up_SGDClassifier_5         |                SGDClassifier(alpha=0.01)                 | 0.31840714867252434 | 0.33184113865932047 |  0.325315786403659  | 0.35817318958331035 |  1.2971885204315186 |\n",
      "|        RidgeClassifier_on_new_split_2       |                RidgeClassifier(alpha=1.5)                | 0.31791072857355307 | 0.42244679222171183 |  0.4313551443530728 | 0.31913004779088805 |  2.7775650024414062 |\n",
      "|        balanced_down_SGDClassifier_4        |     SGDClassifier(alpha=0.001, loss='squared_hinge')     | 0.31772041441469207 | 0.32954545454545453 |  0.3230816660020104 | 0.35713715493982257 |  0.8095147609710693 |\n",
      "|                 LinearSVC_1                 |               LinearSVC(C=0.5, dual=True)                | 0.31614160266668756 | 0.41689623507805323 |  0.4041104052756137 |  0.3196282154238117 |  1.8021917343139648 |\n",
      "|                 LinearSVC_2                 |               LinearSVC(C=0.5, dual=False)               |  0.3160615644022916 | 0.41678145087235996 |  0.4039702209688306 |  0.3195625770910254 |  6.6127355098724365 |\n",
      "|              RidgeClassifier_1              |                    RidgeClassifier()                     | 0.31515988564747044 |  0.4166666666666667 | 0.40408839863906837 | 0.31817738369974297 |  3.1493611335754395 |\n",
      "|        LGBMClassifier_on_new_split_1        |     LGBMClassifier(max_depth=500, n_estimators=500)      | 0.30888351850679796 | 0.38493339457969683 | 0.33529993040177375 | 0.30522552392039193 |  203.82871913909912 |\n",
      "|              RidgeClassifier_2              |                RidgeClassifier(alpha=1.5)                |  0.304017897347683  |  0.4182736455463728 |  0.4160574614311262 | 0.31183687501620616 |  2.8826403617858887 |\n",
      "|        RidgeClassifier_on_new_split_3       |                 RidgeClassifier(alpha=2)                 | 0.30321885704601065 |  0.4187720104118818 |  0.4349867717684767 | 0.30976011759331923 |   2.59519362449646  |\n",
      "|               LGBMClassifier_1              |     LGBMClassifier(max_depth=500, n_estimators=500)      | 0.30019029364950034 |  0.3736225895316804 | 0.33946812529970216 |  0.2942243923212533 |  181.35803771018982 |\n",
      "|         balanced_up_SGDClassifier_6         |     SGDClassifier(alpha=0.01, loss='squared_hinge')      | 0.29967050302298137 | 0.31313131313131315 |  0.3144817925486043 | 0.34425435161352075 |  1.4969305992126465 |\n",
      "|        balanced_down_SGDClassifier_6        |     SGDClassifier(alpha=0.01, loss='squared_hinge')      |  0.2993259362330413 | 0.31588613406795224 | 0.31051974555197986 | 0.34119834054679155 |  0.5564594268798828 |\n",
      "|              RidgeClassifier_3              |                 RidgeClassifier(alpha=2)                 |  0.2978812215459704 |  0.4195362718089991 |  0.4418656397347389 | 0.30825142380857046 |  2.381115674972534  |\n",
      "|              SVC_on_new_split_2             |                  SVC(kernel='sigmoid')                   |  0.2794331528993991 | 0.41494411269330883 |  0.5456940160100261 | 0.29515925795787457 |  341.8509283065796  |\n",
      "|              KNN_on_new_split_2             |                  KNeighborsClassifier()                  |  0.2759041893037315 |  0.3572194150972286 | 0.29303138997568723 |  0.2783604603142554 |  4.682342052459717  |\n",
      "|              KNN_on_new_split_3             |           KNeighborsClassifier(n_neighbors=7)            |  0.2754391678355843 |  0.3638033991731741 | 0.30305397513725185 |  0.2777547544499422 |  4.659389972686768  |\n",
      "|                    SVC_2                    |                  SVC(kernel='sigmoid')                   | 0.27347154948321195 | 0.41058310376492196 |  0.5025363930891102 | 0.29046111184250384 |  254.66759181022644 |\n",
      "|                    KNN_2                    |                  KNeighborsClassifier()                  |  0.2720166812189435 |  0.3496326905417815 |  0.2888261686967606 |  0.2759121644368684 |  5.2346556186676025 |\n",
      "|              KNN_on_new_split_1             |           KNeighborsClassifier(n_neighbors=3)            | 0.26911656512418475 |  0.3210840606338999 |  0.2850651385621484 |  0.2798422375657584 |  8.193739414215088  |\n",
      "|                    KNN_3                    |           KNeighborsClassifier(n_neighbors=7)            |  0.2679530490288469 | 0.35215794306703396 |  0.2894886904892481 |  0.2727239516555519 |  5.313212633132935  |\n",
      "|      LogisticRegression_on_new_split_2      |                   LogisticRegression()                   |  0.2663740722499507 | 0.40989128770479255 | 0.45491226166059473 | 0.28515342542484473 |  30.33368754386902  |\n",
      "|             LogisticRegression_2            |                   LogisticRegression()                   | 0.26341030850243363 |  0.4116161616161616 |  0.4542215508363583 | 0.28449292071434745 |  30.178314447402954 |\n",
      "|                    KNN_1                    |           KNeighborsClassifier(n_neighbors=3)            | 0.25190393249732723 | 0.29981634527089074 | 0.26724986927721195 |  0.2653164874705564 |  5.225518703460693  |\n",
      "|         SGDClassifier_on_new_split_4        |     SGDClassifier(alpha=0.001, loss='squared_hinge')     | 0.23787374663931354 |  0.4000918695452457 |  0.4948838905923087 |  0.2651816954041918 |  1.277597188949585  |\n",
      "|               SGDClassifier_4               |     SGDClassifier(alpha=0.001, loss='squared_hinge')     | 0.23714313912652402 | 0.40059687786960513 |  0.5313424552997924 |  0.2658228647980648 |  1.245208740234375  |\n",
      "|      LogisticRegression_on_new_split_1      |                LogisticRegression(C=0.5)                 | 0.23104910549819663 |  0.3965702036441586 |  0.296596811270174  | 0.25983030392436113 |  16.974115133285522 |\n",
      "|             LogisticRegression_1            |                LogisticRegression(C=0.5)                 | 0.22323922238640118 |  0.3957759412304867 |  0.5231371374660111 |  0.2563329340856686 |  15.886180877685547 |\n",
      "|           multiclass_ComplementNB           |                      ComplementNB()                      | 0.20343058723107266 | 0.20156106519742883 |  0.2588530160829864 |  0.2649069410488393 |  1.786180019378662  |\n",
      "|    multiclass_PassiveAggressiveClassifier   |              PassiveAggressiveClassifier()               |  0.1926610196793222 | 0.27904040404040403 | 0.28871694273163434 |  0.2412269885565983 |  6.486658573150635  |\n",
      "|             multiclass_LinearSVC            |                       LinearSVC()                        | 0.18793791818901098 |  0.2812213039485767 |  0.2580654751124224 | 0.23819120707259828 |  14.030625581741333 |\n",
      "|         ComplementNB_on_new_split_1         |                 ComplementNB(alpha=0.5)                  | 0.18689321313405818 |  0.3815648445873526 |  0.5949698131631946 |  0.2349623744632888 | 0.29309773445129395 |\n",
      "|         ComplementNB_on_new_split_2         |         ComplementNB(alpha=0.5, fit_prior=False)         | 0.18689321313405818 |  0.3815648445873526 |  0.5949698131631946 |  0.2349623744632888 |  0.2654259204864502 |\n",
      "|                ComplementNB_1               |                 ComplementNB(alpha=0.5)                  | 0.18164626481284205 | 0.38073921028466484 |  0.5927774403033594 |  0.2341804634273863 | 0.25333356857299805 |\n",
      "|                ComplementNB_2               |         ComplementNB(alpha=0.5, fit_prior=False)         | 0.18164626481284205 | 0.38073921028466484 |  0.5927774403033594 |  0.2341804634273863 | 0.26657891273498535 |\n",
      "|    RandomForestClassifier_on_new_split_1    |          RandomForestClassifier(max_depth=100)           | 0.17261269850772737 |  0.3737559332414638 |  0.5352721521266723 |  0.226316957115508  |  126.9641101360321  |\n",
      "|             multiclass_LinearSVC            |                       LinearSVC()                        |   0.17229954545385  | 0.25206611570247933 |  0.3775517309913491 |  0.2289482888700806 |  6.476083517074585  |\n",
      "|           RandomForestClassifier_1          |          RandomForestClassifier(max_depth=100)           |  0.1662891107954382 |  0.3685720844811754 |  0.4926121655292214 | 0.22339459433886028 |  116.28346729278564 |\n",
      "|           multiclass_SGDClassifier          |                     SGDClassifier()                      |  0.156908174141207  |  0.233356290174472  | 0.23681136930181176 |  0.2321510785726822 |  10.30093765258789  |\n",
      "|    multiclass_PassiveAggressiveClassifier   |              PassiveAggressiveClassifier()               | 0.14742117053731638 |  0.219811753902663  |  0.4310489112419164 | 0.22706363641076743 |  2.595916271209717  |\n",
      "|         ComplementNB_on_new_split_3         |                      ComplementNB()                      | 0.14536791952644607 | 0.36900934007043334 |  0.557373598431552  | 0.21647876170503758 | 0.27937960624694824 |\n",
      "|         ComplementNB_on_new_split_4         |              ComplementNB(fit_prior=False)               | 0.14536791952644607 | 0.36900934007043334 |  0.557373598431552  | 0.21647876170503758 |  0.2641916275024414 |\n",
      "|                ComplementNB_3               |                      ComplementNB()                      | 0.13896574693903657 |  0.3635215794306703 |  0.5424762270272911 |  0.2142195634485001 | 0.25451040267944336 |\n",
      "|                ComplementNB_4               |              ComplementNB(fit_prior=False)               | 0.13896574693903657 |  0.3635215794306703 |  0.5424762270272911 |  0.2142195634485001 | 0.25049304962158203 |\n",
      "|         MultinomialNB_on_new_split_2        |        MultinomialNB(alpha=0.5, fit_prior=False)         |  0.1332114805129734 |  0.3638033991731741 |   0.33914729625573  | 0.21030933275678382 | 0.28522634506225586 |\n",
      "|               MultinomialNB_2               |        MultinomialNB(alpha=0.5, fit_prior=False)         |  0.1273609830242561 | 0.35858585858585856 |  0.5219899767251919 |  0.208298060694274  |  0.2795872688293457 |\n",
      "|         MultinomialNB_on_new_split_4        |              MultinomialNB(fit_prior=False)              | 0.11572643077449216 | 0.35676006737099986 |  0.3608223986804403 | 0.20363372321606543 |  0.2963681221008301 |\n",
      "|           multiclass_SGDClassifier          |                     SGDClassifier()                      | 0.11415618877024192 | 0.18675390266299358 | 0.18949994921913857 |  0.2200701002799062 |   4.07105016708374  |\n",
      "|               MultinomialNB_4               |              MultinomialNB(fit_prior=False)              | 0.11391014599586449 |  0.3538797061524334 | 0.37393178117532616 |  0.2036080906731673 | 0.26453709602355957 |\n",
      "|         MultinomialNB_on_new_split_1        |                 MultinomialNB(alpha=0.5)                 | 0.11264699863642975 |  0.3553820241923136 |  0.1578060325327319 | 0.20243491296688565 |  0.2806990146636963 |\n",
      "|               MultinomialNB_1               |                 MultinomialNB(alpha=0.5)                 | 0.11096695516354471 |  0.3530762167125803 | 0.38910532623627453 | 0.20265256720405883 | 0.36290526390075684 |\n",
      "|           multiclass_ComplementNB           |                      ComplementNB()                      |  0.1088052770787817 |  0.1289026629935721 |  0.2694228773922708 | 0.22608689827779488 |  1.3821377754211426 |\n",
      "|         MultinomialNB_on_new_split_3        |                     MultinomialNB()                      | 0.10671947612549033 |  0.3536977491961415 | 0.17064065140574589 |  0.2008476297241654 | 0.26389312744140625 |\n",
      "|               MultinomialNB_3               |                     MultinomialNB()                      | 0.10543566261284398 |  0.3506657483930211 | 0.21666781648844427 | 0.20068697411373418 | 0.27346253395080566 |\n",
      "|              SVC_on_new_split_1             |                    SVC(kernel='poly')                    | 0.10473661110980051 |  0.3529321696524269 | 0.27054679123908715 |  0.2002172732210755 |   468.187246799469  |\n",
      "|                    SVC_1                    |                    SVC(kernel='poly')                    |  0.104333899742912  | 0.35020661157024796 | 0.22998966348914668 | 0.20032141422257937 |  280.37020206451416 |\n",
      "|         SGDClassifier_on_new_split_6        |     SGDClassifier(alpha=0.01, loss='squared_hinge')      | 0.10427892234548335 | 0.35262593783494106 | 0.07052518756698821 |         0.2         |  0.9889686107635498 |\n",
      "|               SGDClassifier_6               |     SGDClassifier(alpha=0.01, loss='squared_hinge')      | 0.10364826941066416 | 0.34974747474747475 | 0.06994949494949496 |         0.2         |  0.8973574638366699 |\n",
      "+---------------------------------------------+----------------------------------------------------------+---------------------+---------------------+---------------------+---------------------+---------------------+\n"
     ]
    }
   ],
   "source": [
    "def table_results(models):\n",
    "\n",
    "    bests_of_the_bests = ColorTable(theme=Themes.LAVENDER)\n",
    "    bests_of_the_bests.field_names = [\"Algorithme\", \"Hyperparamètres\", \"Macro f1\", \"Accuracy\", \"Precision\", \"Rappel\", \"Temps d'exécution\"]\n",
    "\n",
    "    models = [model for model in models if \"macro avg\" in model.scores and \"f1-score\" in model.scores[\"macro avg\"]]\n",
    "    best_models = sorted(models, key=lambda x: x.scores[\"macro avg\"][\"f1-score\"], reverse=True)\n",
    "    \n",
    "    for model in best_models:\n",
    "        bests_of_the_bests.add_row([model.name, model.model, model.scores[\"macro avg\"][\"f1-score\"], model.scores[\"accuracy\"], model.scores[\"macro avg\"][\"precision\"], model.scores[\"macro avg\"][\"recall\"], model.running_time])\n",
    "\n",
    "    return bests_of_the_bests\n",
    "\n",
    "print(table_results(Model.all_models))"
   ]
  },
  {
   "cell_type": "markdown",
   "metadata": {},
   "source": [
    "<a id=\"8-perspectives-futures\"></a>\n",
    "## **8. Perspectives futures**"
   ]
  },
  {
   "cell_type": "markdown",
   "metadata": {},
   "source": [
    "Il y a beaucoup de choses qu'on aurait aimé voir pour ce projet, mais nous n'avons malheureusement pas pu tout voir ! On va donc détailler ici ce qu'on aurait aimé faire pour améliorer nos résultats et notre connaissance.\n",
    "\n",
    "\n",
    "- [ ] Comme le nouveau split et le balanced up ont donné des résultats très satisfaisants, on pourrait essayer de les combiner pour plus de performance !\n",
    "- [ ] On pourrait utiliser d'autres vectorizers que tfidf tels que des embeddings, des bag of words ou hashing vectorizer.\n",
    "- [ ] Pourquoi pas élargir les hyperparamètres dans nos modèles, mais ça risque de prendre trop de temps.\n",
    "- [ ] On aurait aimé passer au traducteur automatique l'anglais et l'italien, pour voir si ça augmente nos résultats ou pas.\n",
    "- [ ] Aussi, on aurait pu faire des algorithmes de deep learning.\n"
   ]
  }
 ],
 "metadata": {
  "kernelspec": {
   "display_name": "deft09",
   "language": "python",
   "name": "python3"
  },
  "language_info": {
   "codemirror_mode": {
    "name": "ipython",
    "version": 3
   },
   "file_extension": ".py",
   "mimetype": "text/x-python",
   "name": "python",
   "nbconvert_exporter": "python",
   "pygments_lexer": "ipython3",
   "version": "3.12.3"
  }
 },
 "nbformat": 4,
 "nbformat_minor": 2
}
