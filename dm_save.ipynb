{
 "cells": [
  {
   "cell_type": "code",
   "execution_count": null,
   "metadata": {},
   "outputs": [],
   "source": [
    "# === Parsing des fichiers XML ===\n",
    "from bs4 import BeautifulSoup\n",
    "\n",
    "# === Préparation de données ===\n",
    "import pandas as pd\n",
    "import numpy as np\n",
    "\n",
    "# === Visualisation ===\n",
    "import matplotlib.pyplot as plt\n",
    "\n",
    "# === Traitement de texte ===\n",
    "import spacy\n",
    "import re\n",
    "import nltk\n",
    "from nltk.corpus import stopwords\n",
    "from nltk.tokenize import word_tokenize\n",
    "from sklearn.feature_extraction.text import TfidfVectorizer, CountVectorizer, HashingVectorizer\n",
    "\n",
    "# === Classification et machine learning ===\n",
    "from sklearn.linear_model import LogisticRegression, RidgeClassifier, SGDClassifier, PassiveAggressiveClassifier\n",
    "from sklearn.naive_bayes import MultinomialNB, ComplementNB\n",
    "from sklearn.neighbors import KNeighborsClassifier\n",
    "from sklearn.svm import LinearSVC, SVC\n",
    "from sklearn.ensemble import RandomForestClassifier, VotingClassifier\n",
    "from sklearn.utils import resample\n",
    "from sklearn.model_selection import train_test_split\n",
    "from sklearn.pipeline import make_pipeline\n",
    "from lightgbm import LGBMClassifier\n",
    "\n",
    "# === Évaluation des modèles ===\n",
    "from sklearn.model_selection import cross_val_score\n",
    "from sklearn.metrics import accuracy_score, classification_report\n",
    "\n",
    "# === Autre ===\n",
    "import prettytable\n",
    "from prettytable.colortable import ColorTable, Themes\n",
    "from itertools import product\n",
    "import time"
   ]
  },
  {
   "cell_type": "markdown",
   "metadata": {},
   "source": [
    "# TO DO LIST DANS LE NOTEBOOK !\n",
    "\n",
    "- [x] Finir les codes/graphes et explications de la partie données\n",
    "- [ ] Faire les liens du sommaire\n",
    "- [x] Finir partie sur les tests de vectorisation\n",
    "- [ ] Commenter la classe\n",
    "- [ ] Faire le test\n",
    "- [ ] Faire le test avec stratégies d'équillibrage\n",
    "- [ ] Refaire les trois meilleurs modèles avec les données non traitées\n",
    "- [ ] Faire voting classifier et entrainement trilingue/bilingue\n",
    "- [ ] Partie évaluation\n",
    "- [ ] Conclusion"
   ]
  },
  {
   "cell_type": "markdown",
   "metadata": {},
   "source": [
    "# Sommaire\n",
    "\n",
    "- [1 Présentation des données](#1)\n",
    "    - [A - Extraction des données](#11) \n",
    "    - [B - Suppression des doublons](#12)\n",
    "    - [C - Distribution des classes](#15)\n",
    "\n",
    "- [2 Pré-traitement de données](#2)\n",
    "    - [A - Normalisation des données](#21)\n",
    "    - [B - Vectorisation des donneés](#22)\n",
    "\n",
    "- [3 Comparaison des modèles](#3)\n",
    "    - [A - Choix des algorithmes](#442)\n",
    "    - [B - Organisation de la comparaison](#12)\n",
    "\n",
    "- [4 Stratégies d'amélioration](#15)\n",
    "    genre undersample blabalba\n",
    "\n",
    "- [5 Évaluation des modèles](#6)\n",
    "    - [A - Métriques d'évaluation](#61)\n",
    "    - [B - Analyse des résultats](#56)"
   ]
  },
  {
   "cell_type": "markdown",
   "metadata": {},
   "source": [
    "# **1. Présentation des données**"
   ]
  },
  {
   "cell_type": "markdown",
   "metadata": {},
   "source": [
    "On a installé sur le site du [DEFT 2009](https://deft.lisn.upsaclay.fr/) les données pour réaliser la tâche 3 qui est la suivante :\n",
    "- **Entraîner un modèle qui détermine automatiquement le parti politique d’appartenance de chaque intervenant dans le corpus parlementaire.**"
   ]
  },
  {
   "cell_type": "markdown",
   "metadata": {},
   "source": [
    "**Il y a en tout 5 classes qui correspondent aux différents partis politiques :**\n",
    "| Classe (groupe)      | Orientation politique       | Thématiques principales                                   |\n",
    "|--------------|-----------------------------|----------------------------------------------------------|\n",
    "| **Verts-ALE** | Écologistes et régionalistes | Environnement, droits des minorités, économie durable    |\n",
    "| **GUE/NGL**   | Gauche radicale             | Justice sociale, opposition à l'austérité, droits des travailleurs |\n",
    "| **PSE**       | Social-démocrates           | Réduction des inégalités, protection sociale, intégration européenne |\n",
    "| **ELDR**      | Libéraux                   | Libre marché, libertés individuelles, droits de l'homme  |\n",
    "| **PPE-DE**    | Conservateurs              | Économie sociale de marché, valeurs chrétiennes, sécurité |\n"
   ]
  },
  {
   "cell_type": "markdown",
   "metadata": {},
   "source": [
    "Notre corpus est multilingue, c'est-à-dire qu'il contient plusieurs ensembles dans des langues différentes telles que le français, l'anglais et l'italien. C'est donc un corpus parallèle et comparable auquel nous avons affaire. "
   ]
  },
  {
   "cell_type": "markdown",
   "metadata": {},
   "source": [
    "## **A. Extraction des données**"
   ]
  },
  {
   "cell_type": "markdown",
   "metadata": {},
   "source": [
    "Les données que nous avons téléchargées sur le site sont en format **xml**, il va donc nous falloir les parser pour les récolter. Pour cela, nous allons utilisé la librairie **BeautifulSoup**. \n",
    "Après avoir ouvert les fichiers et analysé les différentes balises pour pouvoir les extraire : \n",
    "- texte \n",
    "- id \n",
    "- valeur (label)\n",
    "- confiance (indice de confiance de la catégorisation)"
   ]
  },
  {
   "cell_type": "code",
   "execution_count": 114,
   "metadata": {},
   "outputs": [],
   "source": [
    "def get_xml_content(file):\n",
    "    \"\"\"Cette fonction permet d'extraire le contenu du fichier xml.\"\"\"\n",
    "\n",
    "    with open(file, \"r\") as f:\n",
    "        soup = BeautifulSoup(f, \"xml\")\n",
    "        \n",
    "    return soup"
   ]
  },
  {
   "cell_type": "code",
   "execution_count": 115,
   "metadata": {},
   "outputs": [],
   "source": [
    "def extract_train_info(doc):\n",
    "    \"\"\"Cette fonction permet d'extraire les données : texte, id, label.\"\"\"\n",
    "\n",
    "    doc_dico = {}\n",
    "\n",
    "    # Extraire l'id\n",
    "    doc_id = doc.get(\"id\")\n",
    "    doc_dico[\"id\"] = doc_id\n",
    "\n",
    "   # Extraire l'évaluation : nombre, valeur (label) et confiance\n",
    "    evaluation = doc.find(\"EVALUATION\")\n",
    "    evaluation_parti = evaluation.find(\"EVAL_PARTI\")\n",
    "    doc_dico[\"nombre\"] = evaluation_parti.get(\"nombre\")\n",
    "\n",
    "    parti = evaluation_parti.find(\"PARTI\")\n",
    "    doc_dico[\"label\"] = parti.get(\"valeur\")\n",
    "    doc_dico[\"confiance\"] = parti.get(\"confiance\")\n",
    "\n",
    "    # Extraire le texte\n",
    "    texte = doc.find(\"p\")\n",
    "    doc_dico[\"texte\"] = texte.text\n",
    "\n",
    "    return doc_dico"
   ]
  },
  {
   "cell_type": "code",
   "execution_count": 116,
   "metadata": {},
   "outputs": [],
   "source": [
    "def get_test_labels(file):\n",
    "    \"\"\"Cette fonction permet d'extraire les labels de l'ensemble de test à partir des fichiers référence.\"\"\"\n",
    "    \n",
    "    with open(file, \"r\") as f:\n",
    "        lines = f.readlines()\n",
    "\n",
    "    lines = [line.split(\"\\t\") for line in lines]\n",
    "    labels = {line[0]: line[1].strip() for line in lines}\n",
    "\n",
    "    return labels"
   ]
  },
  {
   "cell_type": "markdown",
   "metadata": {},
   "source": [
    "En comparant la longueur de la liste de labels et les id des échantillons de test, nous avons pu remarquer que deux interventions ne disposaient pas de label."
   ]
  },
  {
   "cell_type": "code",
   "execution_count": 117,
   "metadata": {},
   "outputs": [
    {
     "name": "stdout",
     "output_type": "stream",
     "text": [
      "1175\n",
      "4574\n"
     ]
    }
   ],
   "source": [
    "labels = get_test_labels(\"data/ref/deft09_parlement_ref_fr.txt\")\n",
    "for key, value in labels.items():\n",
    "    if value == \"\":\n",
    "        print(key)"
   ]
  },
  {
   "cell_type": "markdown",
   "metadata": {},
   "source": [
    "Ces deux échantillons ne sont ensuite pas stockés dans la dataframe utilisée pour le reste du TP."
   ]
  },
  {
   "cell_type": "code",
   "execution_count": 118,
   "metadata": {},
   "outputs": [],
   "source": [
    "def extract_test_info(doc):\n",
    "    \"\"\"Cette fonction permet d'extraire les informations de l'ensemble de test: texte et id.\"\"\"\n",
    "\n",
    "    doc_dico = {}\n",
    "\n",
    "    doc_id = doc.get(\"id\")\n",
    "    doc_dico[\"id\"] = doc_id\n",
    "\n",
    "    texte = doc.find(\"p\")\n",
    "    doc_dico[\"texte\"] = texte.text\n",
    "\n",
    "    return doc_dico"
   ]
  },
  {
   "cell_type": "code",
   "execution_count": 119,
   "metadata": {},
   "outputs": [],
   "source": [
    "def get_train_and_test_df(train_file, test_file, ref_file):\n",
    "    \"\"\"Cette fonction regroupe les autres ci-dessus et permet d'obtenir nos dataframes train et test.\"\"\"\n",
    "\n",
    "    soup_train = get_xml_content(train_file)\n",
    "    soup_test = get_xml_content(test_file)\n",
    "\n",
    "    test_labels = get_test_labels(ref_file)\n",
    "\n",
    "    all_docs = []\n",
    "    for doc in soup_train.find_all(\"doc\"):\n",
    "        doc_dico = extract_train_info(doc)\n",
    "        all_docs.append(doc_dico)\n",
    "    \n",
    "    df_train = pd.DataFrame(all_docs)\n",
    "\n",
    "    all_docs = []\n",
    "    for doc in soup_test.find_all(\"doc\"):\n",
    "        doc_dico = extract_test_info(doc)\n",
    "        if test_labels[doc_dico[\"id\"]] == \"\": # pour les deux textes sans label dans le fichier de référence\n",
    "            continue\n",
    "        doc_dico[\"label\"] = test_labels[doc_dico[\"id\"]]\n",
    "        all_docs.append(doc_dico)\n",
    "\n",
    "    df_test = pd.DataFrame(all_docs)\n",
    "    \n",
    "    return df_train, df_test"
   ]
  },
  {
   "cell_type": "code",
   "execution_count": 120,
   "metadata": {},
   "outputs": [],
   "source": [
    "df_train, df_test = get_train_and_test_df(\"data/train/deft09_parlement_appr_fr.xml\", \"data/test/deft09_parlement_test_fr.xml\", \"data/ref/deft09_parlement_ref_fr.txt\")"
   ]
  },
  {
   "cell_type": "code",
   "execution_count": 121,
   "metadata": {},
   "outputs": [
    {
     "data": {
      "text/html": [
       "<div>\n",
       "<style scoped>\n",
       "    .dataframe tbody tr th:only-of-type {\n",
       "        vertical-align: middle;\n",
       "    }\n",
       "\n",
       "    .dataframe tbody tr th {\n",
       "        vertical-align: top;\n",
       "    }\n",
       "\n",
       "    .dataframe thead th {\n",
       "        text-align: right;\n",
       "    }\n",
       "</style>\n",
       "<table border=\"1\" class=\"dataframe\">\n",
       "  <thead>\n",
       "    <tr style=\"text-align: right;\">\n",
       "      <th></th>\n",
       "      <th>id</th>\n",
       "      <th>nombre</th>\n",
       "      <th>label</th>\n",
       "      <th>confiance</th>\n",
       "      <th>texte</th>\n",
       "    </tr>\n",
       "  </thead>\n",
       "  <tbody>\n",
       "    <tr>\n",
       "      <th>0</th>\n",
       "      <td>2_fr:1</td>\n",
       "      <td>1</td>\n",
       "      <td>Verts-ALE</td>\n",
       "      <td>1.00</td>\n",
       "      <td>Monsieur le Président, j'ai toujours fait preu...</td>\n",
       "    </tr>\n",
       "    <tr>\n",
       "      <th>1</th>\n",
       "      <td>2_fr:2</td>\n",
       "      <td>1</td>\n",
       "      <td>PPE-DE</td>\n",
       "      <td>1.00</td>\n",
       "      <td>Madame la Présidente, chers collègues, à l'app...</td>\n",
       "    </tr>\n",
       "    <tr>\n",
       "      <th>2</th>\n",
       "      <td>2_fr:3</td>\n",
       "      <td>1</td>\n",
       "      <td>Verts-ALE</td>\n",
       "      <td>1.00</td>\n",
       "      <td>Je voudrais savoir si l'Union européenne, à la...</td>\n",
       "    </tr>\n",
       "    <tr>\n",
       "      <th>3</th>\n",
       "      <td>2_fr:4</td>\n",
       "      <td>1</td>\n",
       "      <td>PSE</td>\n",
       "      <td>1.00</td>\n",
       "      <td>Madame la Présidente, au nom des  de la commis...</td>\n",
       "    </tr>\n",
       "    <tr>\n",
       "      <th>4</th>\n",
       "      <td>2_fr:5</td>\n",
       "      <td>1</td>\n",
       "      <td>PSE</td>\n",
       "      <td>1.00</td>\n",
       "      <td>Monsieur le Président, chers collègues, Monsie...</td>\n",
       "    </tr>\n",
       "    <tr>\n",
       "      <th>...</th>\n",
       "      <td>...</td>\n",
       "      <td>...</td>\n",
       "      <td>...</td>\n",
       "      <td>...</td>\n",
       "      <td>...</td>\n",
       "    </tr>\n",
       "    <tr>\n",
       "      <th>19365</th>\n",
       "      <td>2_fr:19366</td>\n",
       "      <td>1</td>\n",
       "      <td>PSE</td>\n",
       "      <td>1.00</td>\n",
       "      <td>Monsieur le Président, je voudrais tout d’abor...</td>\n",
       "    </tr>\n",
       "    <tr>\n",
       "      <th>19366</th>\n",
       "      <td>2_fr:19367</td>\n",
       "      <td>1</td>\n",
       "      <td>PPE-DE</td>\n",
       "      <td>1.00</td>\n",
       "      <td>Monsieur le Président, Monsieur le Commissaire...</td>\n",
       "    </tr>\n",
       "    <tr>\n",
       "      <th>19367</th>\n",
       "      <td>2_fr:19368</td>\n",
       "      <td>1</td>\n",
       "      <td>PPE-DE</td>\n",
       "      <td>1.00</td>\n",
       "      <td>Monsieur le Président, je tiens à déclarer, au...</td>\n",
       "    </tr>\n",
       "    <tr>\n",
       "      <th>19368</th>\n",
       "      <td>2_fr:19369</td>\n",
       "      <td>1</td>\n",
       "      <td>PPE-DE</td>\n",
       "      <td>1.00</td>\n",
       "      <td>Monsieur le Président, l’aide à l’Albanie et à...</td>\n",
       "    </tr>\n",
       "    <tr>\n",
       "      <th>19369</th>\n",
       "      <td>2_fr:19370</td>\n",
       "      <td>1</td>\n",
       "      <td>PPE-DE</td>\n",
       "      <td>1.00</td>\n",
       "      <td>Monsieur le Président, le rapport de Mme Zorba...</td>\n",
       "    </tr>\n",
       "  </tbody>\n",
       "</table>\n",
       "<p>19370 rows × 5 columns</p>\n",
       "</div>"
      ],
      "text/plain": [
       "               id nombre      label confiance  \\\n",
       "0          2_fr:1      1  Verts-ALE      1.00   \n",
       "1          2_fr:2      1     PPE-DE      1.00   \n",
       "2          2_fr:3      1  Verts-ALE      1.00   \n",
       "3          2_fr:4      1        PSE      1.00   \n",
       "4          2_fr:5      1        PSE      1.00   \n",
       "...           ...    ...        ...       ...   \n",
       "19365  2_fr:19366      1        PSE      1.00   \n",
       "19366  2_fr:19367      1     PPE-DE      1.00   \n",
       "19367  2_fr:19368      1     PPE-DE      1.00   \n",
       "19368  2_fr:19369      1     PPE-DE      1.00   \n",
       "19369  2_fr:19370      1     PPE-DE      1.00   \n",
       "\n",
       "                                                   texte  \n",
       "0      Monsieur le Président, j'ai toujours fait preu...  \n",
       "1      Madame la Présidente, chers collègues, à l'app...  \n",
       "2      Je voudrais savoir si l'Union européenne, à la...  \n",
       "3      Madame la Présidente, au nom des  de la commis...  \n",
       "4      Monsieur le Président, chers collègues, Monsie...  \n",
       "...                                                  ...  \n",
       "19365  Monsieur le Président, je voudrais tout d’abor...  \n",
       "19366  Monsieur le Président, Monsieur le Commissaire...  \n",
       "19367  Monsieur le Président, je tiens à déclarer, au...  \n",
       "19368  Monsieur le Président, l’aide à l’Albanie et à...  \n",
       "19369  Monsieur le Président, le rapport de Mme Zorba...  \n",
       "\n",
       "[19370 rows x 5 columns]"
      ]
     },
     "execution_count": 121,
     "metadata": {},
     "output_type": "execute_result"
    }
   ],
   "source": [
    "df_train"
   ]
  },
  {
   "cell_type": "code",
   "execution_count": 122,
   "metadata": {},
   "outputs": [
    {
     "data": {
      "text/html": [
       "<div>\n",
       "<style scoped>\n",
       "    .dataframe tbody tr th:only-of-type {\n",
       "        vertical-align: middle;\n",
       "    }\n",
       "\n",
       "    .dataframe tbody tr th {\n",
       "        vertical-align: top;\n",
       "    }\n",
       "\n",
       "    .dataframe thead th {\n",
       "        text-align: right;\n",
       "    }\n",
       "</style>\n",
       "<table border=\"1\" class=\"dataframe\">\n",
       "  <thead>\n",
       "    <tr style=\"text-align: right;\">\n",
       "      <th></th>\n",
       "      <th>id</th>\n",
       "      <th>texte</th>\n",
       "      <th>label</th>\n",
       "    </tr>\n",
       "  </thead>\n",
       "  <tbody>\n",
       "    <tr>\n",
       "      <th>0</th>\n",
       "      <td>1</td>\n",
       "      <td>Monsieur le Président, l'accès à des médias li...</td>\n",
       "      <td>ELDR</td>\n",
       "    </tr>\n",
       "    <tr>\n",
       "      <th>1</th>\n",
       "      <td>2</td>\n",
       "      <td>Monsieur le Président, j'ai un point de vue di...</td>\n",
       "      <td>GUE-NGL</td>\n",
       "    </tr>\n",
       "    <tr>\n",
       "      <th>2</th>\n",
       "      <td>3</td>\n",
       "      <td>Monsieur le Président, Monsieur le Commissaire...</td>\n",
       "      <td>PPE-DE</td>\n",
       "    </tr>\n",
       "    <tr>\n",
       "      <th>3</th>\n",
       "      <td>4</td>\n",
       "      <td>Nous ne pouvons soutenir cette tentative d’éri...</td>\n",
       "      <td>GUE-NGL</td>\n",
       "    </tr>\n",
       "    <tr>\n",
       "      <th>4</th>\n",
       "      <td>5</td>\n",
       "      <td>Monsieur le Président, ce court débat se dérou...</td>\n",
       "      <td>PPE-DE</td>\n",
       "    </tr>\n",
       "    <tr>\n",
       "      <th>...</th>\n",
       "      <td>...</td>\n",
       "      <td>...</td>\n",
       "      <td>...</td>\n",
       "    </tr>\n",
       "    <tr>\n",
       "      <th>12910</th>\n",
       "      <td>12913</td>\n",
       "      <td>Monsieur le Président, Madame la Commissaire, ...</td>\n",
       "      <td>PPE-DE</td>\n",
       "    </tr>\n",
       "    <tr>\n",
       "      <th>12911</th>\n",
       "      <td>12914</td>\n",
       "      <td>Monsieur le Président, Monsieur le Commissaire...</td>\n",
       "      <td>PPE-DE</td>\n",
       "    </tr>\n",
       "    <tr>\n",
       "      <th>12912</th>\n",
       "      <td>12915</td>\n",
       "      <td>Madame la Présidente, permettez-moi de m'adres...</td>\n",
       "      <td>ELDR</td>\n",
       "    </tr>\n",
       "    <tr>\n",
       "      <th>12913</th>\n",
       "      <td>12916</td>\n",
       "      <td>Grâce à la proposition de directive dont trait...</td>\n",
       "      <td>GUE-NGL</td>\n",
       "    </tr>\n",
       "    <tr>\n",
       "      <th>12914</th>\n",
       "      <td>12917</td>\n",
       "      <td>Monsieur le Président, après le Timor oriental...</td>\n",
       "      <td>PSE</td>\n",
       "    </tr>\n",
       "  </tbody>\n",
       "</table>\n",
       "<p>12915 rows × 3 columns</p>\n",
       "</div>"
      ],
      "text/plain": [
       "          id                                              texte    label\n",
       "0          1  Monsieur le Président, l'accès à des médias li...     ELDR\n",
       "1          2  Monsieur le Président, j'ai un point de vue di...  GUE-NGL\n",
       "2          3  Monsieur le Président, Monsieur le Commissaire...   PPE-DE\n",
       "3          4  Nous ne pouvons soutenir cette tentative d’éri...  GUE-NGL\n",
       "4          5  Monsieur le Président, ce court débat se dérou...   PPE-DE\n",
       "...      ...                                                ...      ...\n",
       "12910  12913  Monsieur le Président, Madame la Commissaire, ...   PPE-DE\n",
       "12911  12914  Monsieur le Président, Monsieur le Commissaire...   PPE-DE\n",
       "12912  12915  Madame la Présidente, permettez-moi de m'adres...     ELDR\n",
       "12913  12916  Grâce à la proposition de directive dont trait...  GUE-NGL\n",
       "12914  12917  Monsieur le Président, après le Timor oriental...      PSE\n",
       "\n",
       "[12915 rows x 3 columns]"
      ]
     },
     "execution_count": 122,
     "metadata": {},
     "output_type": "execute_result"
    }
   ],
   "source": [
    "df_test"
   ]
  },
  {
   "cell_type": "markdown",
   "metadata": {},
   "source": [
    "## **B. Suppression des doublons**"
   ]
  },
  {
   "cell_type": "markdown",
   "metadata": {},
   "source": [
    "**Après concertation avec les autres étudiants, nous avons été informées qu'il y avait des doublons entre les ensembles de train et de test.**"
   ]
  },
  {
   "cell_type": "code",
   "execution_count": 123,
   "metadata": {},
   "outputs": [],
   "source": [
    "train_texts = df_train[\"texte\"].to_list()\n",
    "test_texts = df_test[\"texte\"].to_list()"
   ]
  },
  {
   "cell_type": "code",
   "execution_count": 124,
   "metadata": {},
   "outputs": [],
   "source": [
    "def check_copy(train_texts, test_texts):\n",
    "\n",
    "    num_copy = 0\n",
    "\n",
    "    for text in train_texts:\n",
    "        if text in test_texts:\n",
    "            num_copy += 1\n",
    "\n",
    "    return num_copy"
   ]
  },
  {
   "cell_type": "code",
   "execution_count": 125,
   "metadata": {},
   "outputs": [
    {
     "name": "stdout",
     "output_type": "stream",
     "text": [
      "Il y a 7813 textes en commun entre les données d'entraînement et de test.\n"
     ]
    }
   ],
   "source": [
    "num_copy = check_copy(train_texts, test_texts)\n",
    "print(f\"Il y a {num_copy} textes en commun entre les données d'entraînement et de test.\")"
   ]
  },
  {
   "cell_type": "markdown",
   "metadata": {},
   "source": [
    "**Après vérification, nous trouvions 7813 doublons entre les deux ensembles, soit plus d'un tiers de l'ensemble de train.**"
   ]
  },
  {
   "cell_type": "markdown",
   "metadata": {},
   "source": [
    "Nous voulions donc retirer ces doublons tout en essayant de respecter le split originel du corpus de 60% des échantillons pour le train et 40% pour le test."
   ]
  },
  {
   "cell_type": "markdown",
   "metadata": {},
   "source": [
    "En effet, lorsque qu'on calcule les pourcentages du split :"
   ]
  },
  {
   "cell_type": "code",
   "execution_count": 126,
   "metadata": {},
   "outputs": [],
   "source": [
    "def get_distribution(df_train, df_test):\n",
    "\n",
    "    total_texts = len(df_train) + len(df_test)\n",
    "    percentage_train = len(df_train) / total_texts * 100\n",
    "    percentage_test = len(df_test) / total_texts * 100\n",
    "\n",
    "    return percentage_train, percentage_test"
   ]
  },
  {
   "cell_type": "code",
   "execution_count": 127,
   "metadata": {},
   "outputs": [
    {
     "name": "stdout",
     "output_type": "stream",
     "text": [
      "Pourcentage de textes d'entraînement : 60.00%\n",
      "Pourcentage de textes de test : 40.00%\n"
     ]
    }
   ],
   "source": [
    "percentage_train, percentage_test = get_distribution(df_train, df_test)\n",
    "print(f\"Pourcentage de textes d'entraînement : {percentage_train:.2f}%\")\n",
    "print(f\"Pourcentage de textes de test : {percentage_test:.2f}%\")"
   ]
  },
  {
   "cell_type": "markdown",
   "metadata": {},
   "source": [
    "**Nous voulions donc pouvoir enlever les doublons des deux ensembles de manière à rester proches de ce split originel.**\n",
    "En effet; retirer tous les doublons de l'ensemble de train nous donnerait un split bien trop proche."
   ]
  },
  {
   "cell_type": "code",
   "execution_count": 128,
   "metadata": {},
   "outputs": [],
   "source": [
    "def balance_distribution(df_train, df_test):\n",
    "    \"\"\"Cette fonction permet de retirer des doublons soit de l'ensemble de train soit de celui de test\n",
    "    de manière alternée afin de rester le plus proche d'une distribution 60/40.\"\"\"\n",
    "\n",
    "    train_texts = df_train[\"texte\"].to_list()\n",
    "    test_texts = df_test[\"texte\"].to_list()\n",
    "\n",
    "    for text in train_texts:\n",
    "        if text in test_texts:\n",
    "            percentage_train, percentage_test = get_distribution(df_train, df_test)\n",
    "            difference_train = abs(percentage_train - 60)\n",
    "            difference_test = abs(percentage_test - 40)\n",
    "\n",
    "            if difference_train > difference_test:\n",
    "                df_test = df_test[df_test[\"texte\"] != text]\n",
    "            else:\n",
    "                df_train = df_train[df_train[\"texte\"] != text]\n",
    "\n",
    "    return df_train, df_test"
   ]
  },
  {
   "cell_type": "code",
   "execution_count": 129,
   "metadata": {},
   "outputs": [
    {
     "name": "stdout",
     "output_type": "stream",
     "text": [
      "Pourcentage de textes d'entraînement : 53.40%\n",
      "Pourcentage de textes de test : 46.60%\n"
     ]
    }
   ],
   "source": [
    "df_train, df_test = balance_distribution(df_train, df_test)\n",
    "percentage_train, percentage_test = get_distribution(df_train, df_test)\n",
    "print(f\"Pourcentage de textes d'entraînement : {percentage_train:.2f}%\")\n",
    "print(f\"Pourcentage de textes de test : {percentage_test:.2f}%\")"
   ]
  },
  {
   "cell_type": "markdown",
   "metadata": {},
   "source": [
    "**Après avoir retirer les doublons, nous nous retrouvons avec un split de 53 pour letrain et 46 pour le test.**"
   ]
  },
  {
   "cell_type": "code",
   "execution_count": 130,
   "metadata": {},
   "outputs": [
    {
     "name": "stdout",
     "output_type": "stream",
     "text": [
      "Il y a 0 textes en commun entre les données d'entraînement et de test.\n"
     ]
    }
   ],
   "source": [
    "train_texts = df_train[\"texte\"].to_list()\n",
    "test_texts = df_test[\"texte\"].to_list()\n",
    "num_copy = check_copy(train_texts, test_texts)\n",
    "print(f\"Il y a {num_copy} textes en commun entre les données d'entraînement et de test.\")"
   ]
  },
  {
   "cell_type": "markdown",
   "metadata": {},
   "source": [
    "Après vérification, nous avons bien retiré tous les doublons !"
   ]
  },
  {
   "cell_type": "markdown",
   "metadata": {},
   "source": [
    "Nous n'avons plus de doublons mais nous restons quelque peu éloignés de la distribution 60/40. **On va donc retirer des textes de l'ensemble de test pour arriver à la distribution souhaitée.**"
   ]
  },
  {
   "cell_type": "code",
   "execution_count": 131,
   "metadata": {},
   "outputs": [],
   "source": [
    "def reach_desired_distribution(df_train, df_test):\n",
    "\n",
    "    while True:\n",
    "        percentage_train, percentage_test = get_distribution(df_train, df_test)\n",
    "\n",
    "        if percentage_train >= 60:\n",
    "            break\n",
    "        else:\n",
    "            df_test = df_test.drop(df_test.index[0])\n",
    "\n",
    "    \n",
    "    return df_train, df_test"
   ]
  },
  {
   "cell_type": "code",
   "execution_count": 132,
   "metadata": {},
   "outputs": [
    {
     "name": "stdout",
     "output_type": "stream",
     "text": [
      "Pourcentage de textes d'entraînement : 60.00%\n",
      "Pourcentage de textes de test : 40.00%\n",
      "Il y a 0 textes en commun entre les données d'entraînement et de test.\n"
     ]
    }
   ],
   "source": [
    "df_train, df_test = reach_desired_distribution(df_train, df_test)\n",
    "percentage_train, percentage_test = get_distribution(df_train, df_test)\n",
    "print(f\"Pourcentage de textes d'entraînement : {percentage_train:.2f}%\")\n",
    "print(f\"Pourcentage de textes de test : {percentage_test:.2f}%\")\n",
    "num_copy = check_copy(train_texts, test_texts)\n",
    "print(f\"Il y a {num_copy} textes en commun entre les données d'entraînement et de test.\")"
   ]
  },
  {
   "cell_type": "markdown",
   "metadata": {},
   "source": [
    "**Nous arrivons ici à un split fidèle à celui d'origine et à un corpus sans doublon entre les ensembles de train et de test !**"
   ]
  },
  {
   "cell_type": "code",
   "execution_count": 133,
   "metadata": {},
   "outputs": [],
   "source": [
    "# df_train.to_csv(\"data/train.csv\", index=False)\n",
    "# df_test.to_csv(\"data/test.csv\", index=False)"
   ]
  },
  {
   "cell_type": "markdown",
   "metadata": {},
   "source": [
    "## **C. Distribution des classes**"
   ]
  },
  {
   "cell_type": "markdown",
   "metadata": {},
   "source": [
    "Nous voulons ici nous intéresser aux distributions de nos classes dans le corpus."
   ]
  },
  {
   "cell_type": "code",
   "execution_count": 134,
   "metadata": {},
   "outputs": [],
   "source": [
    "def preparer_distributions_classes(df_train, df_test):\n",
    "    \"\"\"Cette fonction permet d'isoler les comptes de chaque classe pour chaque ensemble\"\"\"\n",
    "\n",
    "    train_counts = df_train[\"label\"].value_counts()\n",
    "    test_counts = df_test[\"label\"].value_counts()\n",
    "\n",
    "    classes = list(set(train_counts.index).union(set(test_counts.index)))\n",
    "    train_values = np.array([train_counts.get(cls, 0) for cls in classes])\n",
    "    test_values = np.array([test_counts.get(cls, 0) for cls in classes])\n",
    "\n",
    "    return classes, train_values, test_values"
   ]
  },
  {
   "cell_type": "code",
   "execution_count": 135,
   "metadata": {},
   "outputs": [
    {
     "name": "stdout",
     "output_type": "stream",
     "text": [
      "Pourcentage de la part du test\n",
      "==============================\n",
      "\u001b[38;5;219m+\u001b[0m\u001b[38;5;183m\u001b[38;5;147m-\u001b[0m\u001b[38;5;183m\u001b[38;5;147m-\u001b[0m\u001b[38;5;183m\u001b[38;5;147m-\u001b[0m\u001b[38;5;183m\u001b[38;5;147m-\u001b[0m\u001b[38;5;183m\u001b[38;5;147m-\u001b[0m\u001b[38;5;183m\u001b[38;5;147m-\u001b[0m\u001b[38;5;183m\u001b[38;5;147m-\u001b[0m\u001b[38;5;183m\u001b[38;5;147m-\u001b[0m\u001b[38;5;183m\u001b[38;5;147m-\u001b[0m\u001b[38;5;183m\u001b[38;5;147m-\u001b[0m\u001b[38;5;183m\u001b[38;5;147m-\u001b[0m\u001b[38;5;183m\u001b[38;5;219m+\u001b[0m\u001b[38;5;183m\u001b[38;5;147m-\u001b[0m\u001b[38;5;183m\u001b[38;5;147m-\u001b[0m\u001b[38;5;183m\u001b[38;5;147m-\u001b[0m\u001b[38;5;183m\u001b[38;5;147m-\u001b[0m\u001b[38;5;183m\u001b[38;5;147m-\u001b[0m\u001b[38;5;183m\u001b[38;5;147m-\u001b[0m\u001b[38;5;183m\u001b[38;5;147m-\u001b[0m\u001b[38;5;183m\u001b[38;5;219m+\u001b[0m\u001b[38;5;183m\u001b[38;5;147m-\u001b[0m\u001b[38;5;183m\u001b[38;5;147m-\u001b[0m\u001b[38;5;183m\u001b[38;5;147m-\u001b[0m\u001b[38;5;183m\u001b[38;5;147m-\u001b[0m\u001b[38;5;183m\u001b[38;5;147m-\u001b[0m\u001b[38;5;183m\u001b[38;5;147m-\u001b[0m\u001b[38;5;183m\u001b[38;5;219m+\u001b[0m\u001b[38;5;183m\u001b[38;5;147m-\u001b[0m\u001b[38;5;183m\u001b[38;5;147m-\u001b[0m\u001b[38;5;183m\u001b[38;5;147m-\u001b[0m\u001b[38;5;183m\u001b[38;5;147m-\u001b[0m\u001b[38;5;183m\u001b[38;5;147m-\u001b[0m\u001b[38;5;183m\u001b[38;5;147m-\u001b[0m\u001b[38;5;183m\u001b[38;5;147m-\u001b[0m\u001b[38;5;183m\u001b[38;5;147m-\u001b[0m\u001b[38;5;183m\u001b[38;5;147m-\u001b[0m\u001b[38;5;183m\u001b[38;5;147m-\u001b[0m\u001b[38;5;183m\u001b[38;5;147m-\u001b[0m\u001b[38;5;183m\u001b[38;5;147m-\u001b[0m\u001b[38;5;183m\u001b[38;5;147m-\u001b[0m\u001b[38;5;183m\u001b[38;5;219m+\u001b[0m\u001b[38;5;183m\n",
      "\u001b[35m|\u001b[0m\u001b[38;5;183m   Classe  \u001b[35m|\u001b[0m\u001b[38;5;183m Train \u001b[35m|\u001b[0m\u001b[38;5;183m Test \u001b[35m|\u001b[0m\u001b[38;5;183m Pourcentage \u001b[35m|\u001b[0m\u001b[38;5;183m\n",
      "\u001b[38;5;219m+\u001b[0m\u001b[38;5;183m\u001b[38;5;147m-\u001b[0m\u001b[38;5;183m\u001b[38;5;147m-\u001b[0m\u001b[38;5;183m\u001b[38;5;147m-\u001b[0m\u001b[38;5;183m\u001b[38;5;147m-\u001b[0m\u001b[38;5;183m\u001b[38;5;147m-\u001b[0m\u001b[38;5;183m\u001b[38;5;147m-\u001b[0m\u001b[38;5;183m\u001b[38;5;147m-\u001b[0m\u001b[38;5;183m\u001b[38;5;147m-\u001b[0m\u001b[38;5;183m\u001b[38;5;147m-\u001b[0m\u001b[38;5;183m\u001b[38;5;147m-\u001b[0m\u001b[38;5;183m\u001b[38;5;147m-\u001b[0m\u001b[38;5;183m\u001b[38;5;219m+\u001b[0m\u001b[38;5;183m\u001b[38;5;147m-\u001b[0m\u001b[38;5;183m\u001b[38;5;147m-\u001b[0m\u001b[38;5;183m\u001b[38;5;147m-\u001b[0m\u001b[38;5;183m\u001b[38;5;147m-\u001b[0m\u001b[38;5;183m\u001b[38;5;147m-\u001b[0m\u001b[38;5;183m\u001b[38;5;147m-\u001b[0m\u001b[38;5;183m\u001b[38;5;147m-\u001b[0m\u001b[38;5;183m\u001b[38;5;219m+\u001b[0m\u001b[38;5;183m\u001b[38;5;147m-\u001b[0m\u001b[38;5;183m\u001b[38;5;147m-\u001b[0m\u001b[38;5;183m\u001b[38;5;147m-\u001b[0m\u001b[38;5;183m\u001b[38;5;147m-\u001b[0m\u001b[38;5;183m\u001b[38;5;147m-\u001b[0m\u001b[38;5;183m\u001b[38;5;147m-\u001b[0m\u001b[38;5;183m\u001b[38;5;219m+\u001b[0m\u001b[38;5;183m\u001b[38;5;147m-\u001b[0m\u001b[38;5;183m\u001b[38;5;147m-\u001b[0m\u001b[38;5;183m\u001b[38;5;147m-\u001b[0m\u001b[38;5;183m\u001b[38;5;147m-\u001b[0m\u001b[38;5;183m\u001b[38;5;147m-\u001b[0m\u001b[38;5;183m\u001b[38;5;147m-\u001b[0m\u001b[38;5;183m\u001b[38;5;147m-\u001b[0m\u001b[38;5;183m\u001b[38;5;147m-\u001b[0m\u001b[38;5;183m\u001b[38;5;147m-\u001b[0m\u001b[38;5;183m\u001b[38;5;147m-\u001b[0m\u001b[38;5;183m\u001b[38;5;147m-\u001b[0m\u001b[38;5;183m\u001b[38;5;147m-\u001b[0m\u001b[38;5;183m\u001b[38;5;147m-\u001b[0m\u001b[38;5;183m\u001b[38;5;219m+\u001b[0m\u001b[38;5;183m\n",
      "\u001b[35m|\u001b[0m\u001b[38;5;183m    PSE    \u001b[35m|\u001b[0m\u001b[38;5;183m  3650 \u001b[35m|\u001b[0m\u001b[38;5;183m 2489 \u001b[35m|\u001b[0m\u001b[38;5;183m    40.54%   \u001b[35m|\u001b[0m\u001b[38;5;183m\n",
      "\u001b[35m|\u001b[0m\u001b[38;5;183m    ELDR   \u001b[35m|\u001b[0m\u001b[38;5;183m  1351 \u001b[35m|\u001b[0m\u001b[38;5;183m 908  \u001b[35m|\u001b[0m\u001b[38;5;183m    40.19%   \u001b[35m|\u001b[0m\u001b[38;5;183m\n",
      "\u001b[35m|\u001b[0m\u001b[38;5;183m  GUE-NGL  \u001b[35m|\u001b[0m\u001b[38;5;183m  1823 \u001b[35m|\u001b[0m\u001b[38;5;183m 1196 \u001b[35m|\u001b[0m\u001b[38;5;183m    39.62%   \u001b[35m|\u001b[0m\u001b[38;5;183m\n",
      "\u001b[35m|\u001b[0m\u001b[38;5;183m   PPE-DE  \u001b[35m|\u001b[0m\u001b[38;5;183m  4635 \u001b[35m|\u001b[0m\u001b[38;5;183m 3047 \u001b[35m|\u001b[0m\u001b[38;5;183m    39.66%   \u001b[35m|\u001b[0m\u001b[38;5;183m\n",
      "\u001b[35m|\u001b[0m\u001b[38;5;183m Verts-ALE \u001b[35m|\u001b[0m\u001b[38;5;183m  1609 \u001b[35m|\u001b[0m\u001b[38;5;183m 1072 \u001b[35m|\u001b[0m\u001b[38;5;183m    39.99%   \u001b[35m|\u001b[0m\u001b[38;5;183m\n",
      "\u001b[38;5;219m+\u001b[0m\u001b[38;5;183m\u001b[38;5;147m-\u001b[0m\u001b[38;5;183m\u001b[38;5;147m-\u001b[0m\u001b[38;5;183m\u001b[38;5;147m-\u001b[0m\u001b[38;5;183m\u001b[38;5;147m-\u001b[0m\u001b[38;5;183m\u001b[38;5;147m-\u001b[0m\u001b[38;5;183m\u001b[38;5;147m-\u001b[0m\u001b[38;5;183m\u001b[38;5;147m-\u001b[0m\u001b[38;5;183m\u001b[38;5;147m-\u001b[0m\u001b[38;5;183m\u001b[38;5;147m-\u001b[0m\u001b[38;5;183m\u001b[38;5;147m-\u001b[0m\u001b[38;5;183m\u001b[38;5;147m-\u001b[0m\u001b[38;5;183m\u001b[38;5;219m+\u001b[0m\u001b[38;5;183m\u001b[38;5;147m-\u001b[0m\u001b[38;5;183m\u001b[38;5;147m-\u001b[0m\u001b[38;5;183m\u001b[38;5;147m-\u001b[0m\u001b[38;5;183m\u001b[38;5;147m-\u001b[0m\u001b[38;5;183m\u001b[38;5;147m-\u001b[0m\u001b[38;5;183m\u001b[38;5;147m-\u001b[0m\u001b[38;5;183m\u001b[38;5;147m-\u001b[0m\u001b[38;5;183m\u001b[38;5;219m+\u001b[0m\u001b[38;5;183m\u001b[38;5;147m-\u001b[0m\u001b[38;5;183m\u001b[38;5;147m-\u001b[0m\u001b[38;5;183m\u001b[38;5;147m-\u001b[0m\u001b[38;5;183m\u001b[38;5;147m-\u001b[0m\u001b[38;5;183m\u001b[38;5;147m-\u001b[0m\u001b[38;5;183m\u001b[38;5;147m-\u001b[0m\u001b[38;5;183m\u001b[38;5;219m+\u001b[0m\u001b[38;5;183m\u001b[38;5;147m-\u001b[0m\u001b[38;5;183m\u001b[38;5;147m-\u001b[0m\u001b[38;5;183m\u001b[38;5;147m-\u001b[0m\u001b[38;5;183m\u001b[38;5;147m-\u001b[0m\u001b[38;5;183m\u001b[38;5;147m-\u001b[0m\u001b[38;5;183m\u001b[38;5;147m-\u001b[0m\u001b[38;5;183m\u001b[38;5;147m-\u001b[0m\u001b[38;5;183m\u001b[38;5;147m-\u001b[0m\u001b[38;5;183m\u001b[38;5;147m-\u001b[0m\u001b[38;5;183m\u001b[38;5;147m-\u001b[0m\u001b[38;5;183m\u001b[38;5;147m-\u001b[0m\u001b[38;5;183m\u001b[38;5;147m-\u001b[0m\u001b[38;5;183m\u001b[38;5;147m-\u001b[0m\u001b[38;5;183m\u001b[38;5;219m+\u001b[0m\u001b[38;5;183m\u001b[0m\n",
      "\n",
      "Résumé des totaux\n",
      "=================\n",
      "Total Train : 13068\n",
      "Total Test  : 8712\n",
      "Pourcentage Global Test : 40.00%\n"
     ]
    }
   ],
   "source": [
    "prettytable_test_pourcentage = ColorTable(theme=Themes.LAVENDER)\n",
    "prettytable_test_pourcentage.field_names = [\"Classe\", \"Train\", \"Test\", \"Pourcentage\"]\n",
    "\n",
    "def tableau_test_pourcentage(df_train, df_test):\n",
    "    \"\"\"Cette fonction permet d'obtenir la répartition de chaque classe entre les deux ensembles.\n",
    "    Donc de voir combien de pourcentages de chaque classe se retrouve dans l'ensemble de test.\"\"\"\n",
    "\n",
    "    classes, train_values, test_values = preparer_distributions_classes(df_train, df_test)\n",
    "\n",
    "    pourcentage_test = ((test_values / (test_values + train_values)) * 100)\n",
    "    pourcentage_test = np.nan_to_num(pourcentage_test) \n",
    "\n",
    "    for cls, train, test, pourcentage in zip(classes, train_values, test_values, pourcentage_test):\n",
    "        prettytable_test_pourcentage.add_row([cls, train, test, f\"{pourcentage:.2f}%\"])\n",
    "    \n",
    "    total_train = np.sum(train_values)\n",
    "    total_test = np.sum(test_values)\n",
    "    pourcentage_global = (total_test / (total_train + total_test)) * 100\n",
    "\n",
    "    title = \"Pourcentage de la part du test\"\n",
    "    print(f\"{title}\\n\" + \"=\" * len(title))\n",
    "    print(prettytable_test_pourcentage)\n",
    "    print(\"\\nRésumé des totaux\\n\" + \"=\" * len(\"Résumé des totaux\"))\n",
    "    print(f\"Total Train : {total_train}\")\n",
    "    print(f\"Total Test  : {total_test}\")\n",
    "    print(f\"Pourcentage Global Test : {pourcentage_global:.2f}%\")\n",
    "    \n",
    "tableau_test_pourcentage(df_train, df_test)"
   ]
  },
  {
   "cell_type": "markdown",
   "metadata": {},
   "source": [
    "**Ci-dessus, nous pouvons premièrement voir que chaque classe est splité en 60/40 entre les deux ensembles !**"
   ]
  },
  {
   "cell_type": "code",
   "execution_count": 136,
   "metadata": {},
   "outputs": [
    {
     "data": {
      "image/png": "[encoded data removed]",
      "text/plain": [
       "<Figure size 1000x600 with 1 Axes>"
      ]
     },
     "metadata": {},
     "output_type": "display_data"
    }
   ],
   "source": [
    "def distribution_des_classes(df_train, df_test):\n",
    "    \"\"\"Cette fonction permet d'afficher le nombre d'échantillons de chaque classe dans les deux ensembles.\"\"\"\n",
    "\n",
    "    classes, train_values, test_values = preparer_distributions_classes(df_train, df_test)\n",
    "\n",
    "    x = np.arange(len(classes))\n",
    "    width = 0.40\n",
    "\n",
    "    fig, ax = plt.subplots(figsize=(10, 6))\n",
    "    ax.bar(x - width/2, train_values, width, label=\"Données train\", color=\"orchid\")\n",
    "    ax.bar(x + width/2, test_values, width, label=\"Données test\", color=\"pink\")\n",
    "\n",
    "    ax.set_xlabel(\"Classes (noms des partis politiques)\")\n",
    "    ax.set_ylabel(\"Nombre d'exemples\")\n",
    "    ax.set_title(\"Distribution des classes dans train et test\")\n",
    "    ax.set_xticks(x)\n",
    "    ax.set_xticklabels(classes, rotation=45)\n",
    "    ax.legend()\n",
    "\n",
    "    plt.tight_layout()\n",
    "    plt.show()\n",
    "\n",
    "distribution_des_classes(df_train, df_test)"
   ]
  },
  {
   "cell_type": "markdown",
   "metadata": {},
   "source": [
    "**Nous pouvons ici voir comment les classes sont distribuées dans les deux ensembles les unes par rapport aux autres !**\n",
    "Nous avons des classes clairement majoritaires."
   ]
  },
  {
   "cell_type": "code",
   "execution_count": 137,
   "metadata": {},
   "outputs": [
    {
     "data": {
      "image/png": "[encoded data removed]",
      "text/plain": [
       "<Figure size 640x480 with 1 Axes>"
      ]
     },
     "metadata": {},
     "output_type": "display_data"
    }
   ],
   "source": [
    "def compare_class_distribution(df_train, df_test):\n",
    "\n",
    "    total_train = len(df_train)\n",
    "    total_test = len(df_test)\n",
    "\n",
    "    train_distribution = {source: count / total_train * 100 for source, count in df_train.groupby(\"label\").size().to_dict().items()}\n",
    "    test_distribution = {source: count / total_test * 100 for source, count in df_test.groupby(\"label\").size().to_dict().items()}\n",
    "\n",
    "    x = np.arange(len(train_distribution))\n",
    "    width = 0.4\n",
    "    train_bars = plt.bar(x - 0.2, train_distribution.values(), width, label=\"Ensemble de train\", color=\"orchid\")\n",
    "    test_bars = plt.bar(x + 0.2, test_distribution.values(), width, label=\"Ensemble de test\", color=\"pink\")\n",
    "\n",
    "    for bar in train_bars:\n",
    "        height = bar.get_height()\n",
    "        plt.text(bar.get_x() + bar.get_width() / 2, height, f'{round(height, 2)}', ha='center', va='bottom')\n",
    "\n",
    "    for bar in test_bars:\n",
    "        height = bar.get_height()\n",
    "        plt.text(bar.get_x() + bar.get_width() / 2, height, f'{round(height, 2)}', ha='center', va='bottom')\n",
    "\n",
    "    plt.xticks(x, train_distribution.keys(), rotation=45)\n",
    "    plt.xlabel(\"Parti politique\")\n",
    "    plt.ylabel(\"Pourcentage de documents\")\n",
    "    plt.legend()\n",
    "    plt.show()\n",
    "\n",
    "compare_class_distribution(df_train, df_test)\n"
   ]
  },
  {
   "cell_type": "markdown",
   "metadata": {},
   "source": [
    "**Nous pouvons obtenir les mêmes chiffres mais sous forme de pourcentage afin de voir si la répartition des classes est identique entre les deux ensembles et c'est le cas, notamment car les classes sont splitées en 60/40 de manière égalitaire.**"
   ]
  },
  {
   "cell_type": "markdown",
   "metadata": {},
   "source": [
    "Dans la description de la tache, les nombres d'échantillons sont explicités comme étant les suivants :"
   ]
  },
  {
   "cell_type": "markdown",
   "metadata": {},
   "source": [
    "\n",
    "||   ELDR    | GUE/NGL | PPE-DE     | PSE | Verts/ALE\n",
    "|:---| :---        |    :----   |          :--- | :--- | :--- |\n",
    "|Nombre de documents| 3 346 | 4 482   |  11 429 | 9 066 | 3 961 |\n",
    "|Pourcentage de documents|10.33%|13.84%|35.29%|27.99%|12.23%|\n",
    "\n",
    "**Lorsqu'ils sont convertis en pourcentage, nous pouvons voir qu'ils semblent correspondre à ceux obtenus après notre équillibrage. Nous avons donc un corpus plus petit que celui original mais semblant disposer des mêmes \"conditions\" que ce dernier !**"
   ]
  },
  {
   "cell_type": "markdown",
   "metadata": {},
   "source": [
    "# **2. Pé-traitement des données**"
   ]
  },
  {
   "cell_type": "markdown",
   "metadata": {},
   "source": [
    "## **A. Normalisation des données**"
   ]
  },
  {
   "cell_type": "markdown",
   "metadata": {},
   "source": [
    "Nous allons normaliser nos données en enlevant les ponctuations, stopwords, majuscules et en lémmatisant les textes."
   ]
  },
  {
   "cell_type": "code",
   "execution_count": 138,
   "metadata": {},
   "outputs": [
    {
     "name": "stdout",
     "output_type": "stream",
     "text": [
      "Collecting en-core-web-sm==3.8.0\n",
      "  Downloading https://github.com/explosion/spacy-models/releases/download/en_core_web_sm-3.8.0/en_core_web_sm-3.8.0-py3-none-any.whl (12.8 MB)\n",
      "\u001b[2K     \u001b[90m━━━━━━━━━━━━━━━━━━━━━━━━━━━━━━━━━━━━━━━━\u001b[0m \u001b[32m12.8/12.8 MB\u001b[0m \u001b[31m16.2 MB/s\u001b[0m eta \u001b[36m0:00:00\u001b[0m \u001b[36m0:00:01\u001b[0m\n",
      "\u001b[?25h\u001b[38;5;2m✔ Download and installation successful\u001b[0m\n",
      "You can now load the package via spacy.load('en_core_web_sm')\n"
     ]
    }
   ],
   "source": [
    "!python -m spacy download en_core_web_sm"
   ]
  },
  {
   "cell_type": "code",
   "execution_count": 139,
   "metadata": {},
   "outputs": [],
   "source": [
    "import re\n",
    "import spacy\n",
    "nlp = spacy.load(\"en_core_web_sm\")"
   ]
  },
  {
   "cell_type": "code",
   "execution_count": 140,
   "metadata": {},
   "outputs": [],
   "source": [
    "def tokenize(text):\n",
    "\n",
    "    doc = nlp(text)\n",
    "    return doc"
   ]
  },
  {
   "cell_type": "code",
   "execution_count": 141,
   "metadata": {},
   "outputs": [],
   "source": [
    "def lemmatisation(doc):\n",
    "    \n",
    "    return \" \".join([token.lemma_ for token in doc])"
   ]
  },
  {
   "cell_type": "code",
   "execution_count": 142,
   "metadata": {},
   "outputs": [],
   "source": [
    "def i_love_lowercase(text):\n",
    "    \n",
    "    return text.lower()"
   ]
  },
  {
   "cell_type": "code",
   "execution_count": 143,
   "metadata": {},
   "outputs": [],
   "source": [
    "def remove_stop_words(doc):\n",
    "    \n",
    "    stop_words = [\n",
    "    'au', 'aux', 'avec', 'ce', 'ces', 'dans', 'de', 'des', 'du', 'elle', 'en',\n",
    "    'et', 'eux', 'il', 'je', 'la', 'le', 'leur', 'lui', 'ma', 'mais', 'me',\n",
    "    'même', 'mes', 'moi', 'mon', 'ne', 'nos', 'notre', 'nous', 'on', 'ou',\n",
    "    'par', 'pas', 'pour', 'qu', 'que', 'qui', 'sa', 'se', 'ses', 'son', 'sur',\n",
    "    'ta', 'te', 'tes', 'toi', 'ton', 'tu', 'un', 'une', 'vos', 'votre', 'vous',\n",
    "    'c', 'd', 'j', 'l', 'à', 'm', 'n', 's', 't', 'y', 'été', 'étée', 'étées',\n",
    "    'étés', 'étant', 'étante', 'étants', 'étantes', 'suis', 'es', 'est',\n",
    "    'sommes', 'êtes', 'sont', 'serai', 'seras', 'sera', 'serons', 'serez',\n",
    "    'seront', 'serais', 'serait', 'serions', 'seriez', 'seraient', 'étais',\n",
    "    'était', 'étions', 'étiez', 'étaient', 'fus', 'fut', 'fûmes', 'fûtes',\n",
    "    'furent', 'sois', 'soit', 'soyons', 'soyez', 'soient', 'fusse', 'fusses',\n",
    "    'fût', 'fussions', 'fussiez', 'fussent', 'ayant', 'ayante', 'ayantes',\n",
    "    'ayants', 'aie', 'aies', 'ait', 'ayons', 'ayez', 'aient', 'eut', 'eue',\n",
    "    'eues', 'eus', 'avons', 'avez', 'ont', 'aurai', 'auras', 'aura', 'aurons',\n",
    "    'aurez', 'auront', 'aurais', 'aurait', 'aurions', 'auriez', 'auraient',\n",
    "    'avais', 'avait', 'avions', 'aviez', 'avaient', 'eut', 'eûmes', 'eûtes',\n",
    "    'eurent', 'aie', 'aies', 'ait', 'ayons', 'ayez', 'aient', 'eusse',\n",
    "    'eusses', 'eût', 'eussions', 'eussiez', 'eussent'\n",
    "    ]\n",
    "\n",
    "    \n",
    "    filtered_text = [token for token in doc if token.text not in stop_words]\n",
    "\n",
    "    return filtered_text"
   ]
  },
  {
   "cell_type": "code",
   "execution_count": 144,
   "metadata": {},
   "outputs": [],
   "source": [
    "def remove_punctuation(text):\n",
    "\n",
    "    text = re.sub(r\"[^\\w\\s]\", \"\", text)\n",
    "    \n",
    "    return text"
   ]
  },
  {
   "cell_type": "code",
   "execution_count": 145,
   "metadata": {},
   "outputs": [],
   "source": [
    "def get_beautiful_clean_text(text):\n",
    "\n",
    "    text = i_love_lowercase(text)\n",
    "    doc = tokenize(text)\n",
    "    doc = remove_stop_words(doc)\n",
    "    text = lemmatisation(doc)\n",
    "    text = remove_punctuation(text)\n",
    "   \n",
    "    return text\n",
    "\n",
    "df_train[\"texte_nettoyé\"] = df_train[\"texte\"].map(get_beautiful_clean_text)\n",
    "df_test[\"texte_nettoyé\"] = df_test[\"texte\"].map(get_beautiful_clean_text)"
   ]
  },
  {
   "cell_type": "code",
   "execution_count": 146,
   "metadata": {},
   "outputs": [],
   "source": [
    "# df_train.to_csv(\"data/train.csv\", index=False)\n",
    "# df_test.to_csv(\"data/test.csv\", index=False)\n"
   ]
  },
  {
   "cell_type": "code",
   "execution_count": 147,
   "metadata": {},
   "outputs": [],
   "source": [
    "# df_train = pd.read_csv(\"data/train.csv\")\n",
    "# df_test = pd.read_csv(\"data/test.csv\")"
   ]
  },
  {
   "cell_type": "code",
   "execution_count": 148,
   "metadata": {},
   "outputs": [
    {
     "data": {
      "text/plain": [
       "'madame présidente  cher collègue  lapproche moment plus sombre lannée  réjouissant dévoquer lété lheure dété  voudrais cependant attirer lattention rituel réglage montre répète chaque printemp chaque automne do not lutilité divise le opinion  jai contacté éleveurs bétail soulignent quil important dassurer bien  être vaches laitière   déjà production laitière  sérénité ruminants troublée maladie vache folle  faudrait accroître stress perturbant rythme habituel  les vaches  changement rythme prend jour deux  autre difficulté existe agriculture  automne  pendant les battage  lheure indique lhumidité matinale devrait avoir disparu  or surprise  nature conforme directive  outre rythme naturel animaux  dynamisme hommes  dépend partiellement luminosité  également perturbé  cause problème supplémentaire '"
      ]
     },
     "execution_count": 148,
     "metadata": {},
     "output_type": "execute_result"
    }
   ],
   "source": [
    "df_train[\"texte_nettoyé\"][1]"
   ]
  },
  {
   "cell_type": "markdown",
   "metadata": {},
   "source": [
    "## B. Vectorisation des données"
   ]
  },
  {
   "cell_type": "markdown",
   "metadata": {},
   "source": [
    "**Dans l'article [Forest, D. (2009)](https://www.crihn.org/publications/impacts-de-la-variation-du-nombre-de-traits-discriminants-sur-la-categorisation-des-documents/), on voit que les paramètres de la vectorisation jouent un rôle assez important dans les performances d'une modèle.**\n",
    "\n",
    "En nous basant sur cet article et sur le TP1, nous allons tester le TFIDF Vectorizer avec différents hyperparamètres sur trois classifieurs différents afin de voir si nous obtenons des résultats significativement mieux. Les classifieurs utilisés seront :\n",
    "- **KNN** (car utilisé dans l'article)\n",
    "- **SVC Lineaire** (modèle linéaire)\n",
    "- **Complement NB** (modèle probabilistique)\n",
    "\n",
    "Si pour tous ces algorithmes, une vectorisation donne de meilleurs résultats, alors nous utiliserons cette dernières pour le reste de nos tests."
   ]
  },
  {
   "cell_type": "markdown",
   "metadata": {},
   "source": [
    "### **Nous commençons par stocker plusieurs vectorizers tfidf avec des hyperparamètres différents.**"
   ]
  },
  {
   "cell_type": "code",
   "execution_count": 149,
   "metadata": {},
   "outputs": [],
   "source": [
    "vectorizers = {\n",
    "    \"TfidfVectorizer\": {\n",
    "        \"model\": TfidfVectorizer(),\n",
    "        \"hyperparameters\": {\n",
    "            \"max_df\": [0.5, 0.1], # ça c'est pour ignorer les mots qui appraîssent dans 0.5 ou 0.9 des documents #defaut = 1\n",
    "            \"max_features\": [1000, 15000, None], # ça c'est pour limiter le nombre de mots à 1000 ou 2000 #defaut = None\n",
    "            \"ngram_range\": [(1, 1), (1, 2)], # ça c'est pour prendre en compte les unigrammes ou les bigrammes #defaut = (1, 1)\n",
    "        }\n",
    "    }\n",
    "}"
   ]
  },
  {
   "cell_type": "code",
   "execution_count": 150,
   "metadata": {},
   "outputs": [],
   "source": [
    "def hyperparameter_vectorizer(vectorizers):\n",
    "    \"\"\"Cette fonction permet de lister tous les vectorizes obtenus en combinant tous \n",
    "    les hyperparamètres donnés dans le dictionnaire de vectorizers.\"\"\"\n",
    "\n",
    "    param_grid = vectorizers[\"hyperparameters\"]\n",
    "    list_vectorizers = []\n",
    "\n",
    "\n",
    "    if len(param_grid) == 1:\n",
    "        param_name, param_values = list(param_grid.items())[0]\n",
    "        for i, value in enumerate(param_values, start=1):\n",
    "            params = {param_name: value}\n",
    "            vectorizer = vectorizers[\"model\"].__class__(**params) \n",
    "            list_vectorizers.append(vectorizer)\n",
    "\n",
    "    else:\n",
    "        param_grid_combinations = list(product(*param_grid.values()))\n",
    "        for i, combination in enumerate(param_grid_combinations, start=1):\n",
    "            params = {param_name: value for param_name, value in zip(param_grid.keys(), combination)}\n",
    "            vectorizer = vectorizers[\"model\"].__class__(**params) \n",
    "            list_vectorizers.append(vectorizer)\n",
    "\n",
    "    return list_vectorizers"
   ]
  },
  {
   "cell_type": "code",
   "execution_count": 151,
   "metadata": {},
   "outputs": [
    {
     "data": {
      "text/plain": [
       "[TfidfVectorizer(max_df=0.5, max_features=1000),\n",
       " TfidfVectorizer(max_df=0.5, max_features=1000, ngram_range=(1, 2)),\n",
       " TfidfVectorizer(max_df=0.5, max_features=15000),\n",
       " TfidfVectorizer(max_df=0.5, max_features=15000, ngram_range=(1, 2)),\n",
       " TfidfVectorizer(max_df=0.5),\n",
       " TfidfVectorizer(max_df=0.5, ngram_range=(1, 2)),\n",
       " TfidfVectorizer(max_df=0.1, max_features=1000),\n",
       " TfidfVectorizer(max_df=0.1, max_features=1000, ngram_range=(1, 2)),\n",
       " TfidfVectorizer(max_df=0.1, max_features=15000),\n",
       " TfidfVectorizer(max_df=0.1, max_features=15000, ngram_range=(1, 2)),\n",
       " TfidfVectorizer(max_df=0.1),\n",
       " TfidfVectorizer(max_df=0.1, ngram_range=(1, 2))]"
      ]
     },
     "execution_count": 151,
     "metadata": {},
     "output_type": "execute_result"
    }
   ],
   "source": [
    "list_vectorizers = hyperparameter_vectorizer(vectorizers[\"TfidfVectorizer\"])\n",
    "list_vectorizers"
   ]
  },
  {
   "cell_type": "markdown",
   "metadata": {},
   "source": [
    "**Nous testons donc 8 vectorisers.**"
   ]
  },
  {
   "cell_type": "markdown",
   "metadata": {},
   "source": [
    "### **Nous vectorisons nos données et stockons ces dernières dans une dataframe pour faciliter les tests sur nos trois algorithmes.**"
   ]
  },
  {
   "cell_type": "code",
   "execution_count": 152,
   "metadata": {},
   "outputs": [],
   "source": [
    "def store_vectorisations(list_vectorizers, x_train, x_test):\n",
    "    \"\"\"Cette fonction permet d'itérer une liste de vectorizers et de vectoriser les données pour ensuite les stocker \n",
    "    dans une dataframe.\"\"\"\n",
    "\n",
    "    all_vectorisations = []\n",
    "\n",
    "    for i, vectorizer in enumerate(list_vectorizers):\n",
    "        x_train_vectorized = vectorizer.fit_transform(x_train)\n",
    "        x_test_vectorized = vectorizer.transform(x_test)\n",
    "        all_vectorisations.append({\"vectorizer_id\": vectorizer.__class__.__name__ + str(i),\n",
    "                                   \"vectorizer\": vectorizer, \n",
    "                                   \"x_train\": x_train_vectorized, \n",
    "                                   \"x_test\": x_test_vectorized})\n",
    "    \n",
    "    df_vectorisations = pd.DataFrame(all_vectorisations)\n",
    "\n",
    "    return df_vectorisations"
   ]
  },
  {
   "cell_type": "code",
   "execution_count": 153,
   "metadata": {},
   "outputs": [],
   "source": [
    "df_vectorisations = store_vectorisations(list_vectorizers, df_train[\"texte_nettoyé\"], df_test[\"texte_nettoyé\"])"
   ]
  },
  {
   "cell_type": "code",
   "execution_count": 186,
   "metadata": {},
   "outputs": [
    {
     "data": {
      "text/html": [
       "<div>\n",
       "<style scoped>\n",
       "    .dataframe tbody tr th:only-of-type {\n",
       "        vertical-align: middle;\n",
       "    }\n",
       "\n",
       "    .dataframe tbody tr th {\n",
       "        vertical-align: top;\n",
       "    }\n",
       "\n",
       "    .dataframe thead th {\n",
       "        text-align: right;\n",
       "    }\n",
       "</style>\n",
       "<table border=\"1\" class=\"dataframe\">\n",
       "  <thead>\n",
       "    <tr style=\"text-align: right;\">\n",
       "      <th></th>\n",
       "      <th>vectorizer_id</th>\n",
       "      <th>vectorizer</th>\n",
       "      <th>x_train</th>\n",
       "      <th>x_test</th>\n",
       "    </tr>\n",
       "  </thead>\n",
       "  <tbody>\n",
       "    <tr>\n",
       "      <th>0</th>\n",
       "      <td>TfidfVectorizer0</td>\n",
       "      <td>TfidfVectorizer(max_df=0.5, max_features=1000)</td>\n",
       "      <td>&lt;Compressed Sparse Row sparse matrix of dtype ...</td>\n",
       "      <td>&lt;Compressed Sparse Row sparse matrix of dtype ...</td>\n",
       "    </tr>\n",
       "    <tr>\n",
       "      <th>1</th>\n",
       "      <td>TfidfVectorizer1</td>\n",
       "      <td>TfidfVectorizer(max_df=0.5, max_features=1000,...</td>\n",
       "      <td>&lt;Compressed Sparse Row sparse matrix of dtype ...</td>\n",
       "      <td>&lt;Compressed Sparse Row sparse matrix of dtype ...</td>\n",
       "    </tr>\n",
       "    <tr>\n",
       "      <th>2</th>\n",
       "      <td>TfidfVectorizer2</td>\n",
       "      <td>TfidfVectorizer(max_df=0.5, max_features=15000)</td>\n",
       "      <td>&lt;Compressed Sparse Row sparse matrix of dtype ...</td>\n",
       "      <td>&lt;Compressed Sparse Row sparse matrix of dtype ...</td>\n",
       "    </tr>\n",
       "    <tr>\n",
       "      <th>3</th>\n",
       "      <td>TfidfVectorizer3</td>\n",
       "      <td>TfidfVectorizer(max_df=0.5, max_features=15000...</td>\n",
       "      <td>&lt;Compressed Sparse Row sparse matrix of dtype ...</td>\n",
       "      <td>&lt;Compressed Sparse Row sparse matrix of dtype ...</td>\n",
       "    </tr>\n",
       "    <tr>\n",
       "      <th>4</th>\n",
       "      <td>TfidfVectorizer4</td>\n",
       "      <td>TfidfVectorizer(max_df=0.5)</td>\n",
       "      <td>&lt;Compressed Sparse Row sparse matrix of dtype ...</td>\n",
       "      <td>&lt;Compressed Sparse Row sparse matrix of dtype ...</td>\n",
       "    </tr>\n",
       "    <tr>\n",
       "      <th>5</th>\n",
       "      <td>TfidfVectorizer5</td>\n",
       "      <td>TfidfVectorizer(max_df=0.5, ngram_range=(1, 2))</td>\n",
       "      <td>&lt;Compressed Sparse Row sparse matrix of dtype ...</td>\n",
       "      <td>&lt;Compressed Sparse Row sparse matrix of dtype ...</td>\n",
       "    </tr>\n",
       "    <tr>\n",
       "      <th>6</th>\n",
       "      <td>TfidfVectorizer6</td>\n",
       "      <td>TfidfVectorizer(max_df=0.1, max_features=1000)</td>\n",
       "      <td>&lt;Compressed Sparse Row sparse matrix of dtype ...</td>\n",
       "      <td>&lt;Compressed Sparse Row sparse matrix of dtype ...</td>\n",
       "    </tr>\n",
       "    <tr>\n",
       "      <th>7</th>\n",
       "      <td>TfidfVectorizer7</td>\n",
       "      <td>TfidfVectorizer(max_df=0.1, max_features=1000,...</td>\n",
       "      <td>&lt;Compressed Sparse Row sparse matrix of dtype ...</td>\n",
       "      <td>&lt;Compressed Sparse Row sparse matrix of dtype ...</td>\n",
       "    </tr>\n",
       "    <tr>\n",
       "      <th>8</th>\n",
       "      <td>TfidfVectorizer8</td>\n",
       "      <td>TfidfVectorizer(max_df=0.1, max_features=15000)</td>\n",
       "      <td>&lt;Compressed Sparse Row sparse matrix of dtype ...</td>\n",
       "      <td>&lt;Compressed Sparse Row sparse matrix of dtype ...</td>\n",
       "    </tr>\n",
       "    <tr>\n",
       "      <th>9</th>\n",
       "      <td>TfidfVectorizer9</td>\n",
       "      <td>TfidfVectorizer(max_df=0.1, max_features=15000...</td>\n",
       "      <td>&lt;Compressed Sparse Row sparse matrix of dtype ...</td>\n",
       "      <td>&lt;Compressed Sparse Row sparse matrix of dtype ...</td>\n",
       "    </tr>\n",
       "    <tr>\n",
       "      <th>10</th>\n",
       "      <td>TfidfVectorizer10</td>\n",
       "      <td>TfidfVectorizer(max_df=0.1)</td>\n",
       "      <td>&lt;Compressed Sparse Row sparse matrix of dtype ...</td>\n",
       "      <td>&lt;Compressed Sparse Row sparse matrix of dtype ...</td>\n",
       "    </tr>\n",
       "    <tr>\n",
       "      <th>11</th>\n",
       "      <td>TfidfVectorizer11</td>\n",
       "      <td>TfidfVectorizer(max_df=0.1, ngram_range=(1, 2))</td>\n",
       "      <td>&lt;Compressed Sparse Row sparse matrix of dtype ...</td>\n",
       "      <td>&lt;Compressed Sparse Row sparse matrix of dtype ...</td>\n",
       "    </tr>\n",
       "  </tbody>\n",
       "</table>\n",
       "</div>"
      ],
      "text/plain": [
       "        vectorizer_id                                         vectorizer  \\\n",
       "0    TfidfVectorizer0     TfidfVectorizer(max_df=0.5, max_features=1000)   \n",
       "1    TfidfVectorizer1  TfidfVectorizer(max_df=0.5, max_features=1000,...   \n",
       "2    TfidfVectorizer2    TfidfVectorizer(max_df=0.5, max_features=15000)   \n",
       "3    TfidfVectorizer3  TfidfVectorizer(max_df=0.5, max_features=15000...   \n",
       "4    TfidfVectorizer4                        TfidfVectorizer(max_df=0.5)   \n",
       "5    TfidfVectorizer5    TfidfVectorizer(max_df=0.5, ngram_range=(1, 2))   \n",
       "6    TfidfVectorizer6     TfidfVectorizer(max_df=0.1, max_features=1000)   \n",
       "7    TfidfVectorizer7  TfidfVectorizer(max_df=0.1, max_features=1000,...   \n",
       "8    TfidfVectorizer8    TfidfVectorizer(max_df=0.1, max_features=15000)   \n",
       "9    TfidfVectorizer9  TfidfVectorizer(max_df=0.1, max_features=15000...   \n",
       "10  TfidfVectorizer10                        TfidfVectorizer(max_df=0.1)   \n",
       "11  TfidfVectorizer11    TfidfVectorizer(max_df=0.1, ngram_range=(1, 2))   \n",
       "\n",
       "                                              x_train  \\\n",
       "0   <Compressed Sparse Row sparse matrix of dtype ...   \n",
       "1   <Compressed Sparse Row sparse matrix of dtype ...   \n",
       "2   <Compressed Sparse Row sparse matrix of dtype ...   \n",
       "3   <Compressed Sparse Row sparse matrix of dtype ...   \n",
       "4   <Compressed Sparse Row sparse matrix of dtype ...   \n",
       "5   <Compressed Sparse Row sparse matrix of dtype ...   \n",
       "6   <Compressed Sparse Row sparse matrix of dtype ...   \n",
       "7   <Compressed Sparse Row sparse matrix of dtype ...   \n",
       "8   <Compressed Sparse Row sparse matrix of dtype ...   \n",
       "9   <Compressed Sparse Row sparse matrix of dtype ...   \n",
       "10  <Compressed Sparse Row sparse matrix of dtype ...   \n",
       "11  <Compressed Sparse Row sparse matrix of dtype ...   \n",
       "\n",
       "                                               x_test  \n",
       "0   <Compressed Sparse Row sparse matrix of dtype ...  \n",
       "1   <Compressed Sparse Row sparse matrix of dtype ...  \n",
       "2   <Compressed Sparse Row sparse matrix of dtype ...  \n",
       "3   <Compressed Sparse Row sparse matrix of dtype ...  \n",
       "4   <Compressed Sparse Row sparse matrix of dtype ...  \n",
       "5   <Compressed Sparse Row sparse matrix of dtype ...  \n",
       "6   <Compressed Sparse Row sparse matrix of dtype ...  \n",
       "7   <Compressed Sparse Row sparse matrix of dtype ...  \n",
       "8   <Compressed Sparse Row sparse matrix of dtype ...  \n",
       "9   <Compressed Sparse Row sparse matrix of dtype ...  \n",
       "10  <Compressed Sparse Row sparse matrix of dtype ...  \n",
       "11  <Compressed Sparse Row sparse matrix of dtype ...  "
      ]
     },
     "execution_count": 186,
     "metadata": {},
     "output_type": "execute_result"
    }
   ],
   "source": [
    "df_vectorisations"
   ]
  },
  {
   "cell_type": "markdown",
   "metadata": {},
   "source": [
    "### On peut ensuite itérer à travers ces colonnes et utiliser chaque vectorisation pour entraîner nos classifieurs !"
   ]
  },
  {
   "cell_type": "code",
   "execution_count": 156,
   "metadata": {},
   "outputs": [],
   "source": [
    "def classic_classifier_function(classifier, df_vectorisations, y_train, y_test):\n",
    "\n",
    "    model = classifier\n",
    "    scores = []\n",
    "\n",
    "    for i, row in df_vectorisations.iterrows():\n",
    "        vectorizer_id = row[\"vectorizer_id\"]\n",
    "        vectorizer = row[\"vectorizer\"]\n",
    "        x_train = row[\"x_train\"]\n",
    "        x_test = row[\"x_test\"]\n",
    "        model.fit(x_train, y_train)\n",
    "        y_pred = model.predict(x_test)\n",
    "        report = classification_report(y_test, y_pred, output_dict=True)\n",
    "        scores.append({\"vectorizer\": vectorizer, \"vectorizer_id\" : vectorizer_id, \"scores\": report})\n",
    "                      \n",
    "    return scores\n"
   ]
  },
  {
   "cell_type": "code",
   "execution_count": 157,
   "metadata": {},
   "outputs": [],
   "source": [
    "def comparison_vectorisation(df_vectorisations, y_train, y_test):\n",
    "\n",
    "    print(\"Test avec knn...\")\n",
    "    scores_knn = classic_classifier_function(KNeighborsClassifier(), df_vectorisations, y_train, y_test)\n",
    "    print(\"Test avec cnb...\")\n",
    "    scores_cnb = classic_classifier_function(ComplementNB(), df_vectorisations, y_train, y_test)\n",
    "    print(\"Test avec svc...\")\n",
    "    scores_svc = classic_classifier_function(LinearSVC(), df_vectorisations, y_train, y_test)\n",
    "\n",
    "\n",
    "    sorted_scores_knn = sorted(scores_knn, key=lambda x: x[\"scores\"][\"macro avg\"][\"f1-score\"], reverse=True)\n",
    "    sorted_scores_cnb = sorted(scores_cnb, key=lambda x: x[\"scores\"][\"macro avg\"][\"f1-score\"], reverse=True)\n",
    "    sorted_scores_svc = sorted(scores_svc, key=lambda x: x[\"scores\"][\"macro avg\"][\"f1-score\"], reverse=True)\n",
    "\n",
    "    return sorted_scores_knn, sorted_scores_cnb, sorted_scores_svc"
   ]
  },
  {
   "cell_type": "code",
   "execution_count": null,
   "metadata": {},
   "outputs": [
    {
     "name": "stdout",
     "output_type": "stream",
     "text": [
      "Test avec knn...\n",
      "Test avec cnb...\n",
      "Test avec svc...\n",
      "[{'vectorizer': TfidfVectorizer(max_df=0.5, ngram_range=(1, 2)), 'vectorizer_id': 'TfidfVectorizer5', 'scores': {'ELDR': {'precision': 0.17425968109339407, 'recall': 0.1685022026431718, 'f1-score': 0.1713325867861142, 'support': 908.0}, 'GUE-NGL': {'precision': 0.2810516772438803, 'recall': 0.2591973244147157, 'f1-score': 0.2696824706394084, 'support': 1196.0}, 'PPE-DE': {'precision': 0.40694962686567165, 'recall': 0.5726944535608796, 'f1-score': 0.4758009543285617, 'support': 3047.0}, 'PSE': {'precision': 0.3656536420646406, 'recall': 0.3045399758939333, 'f1-score': 0.33231039017974573, 'support': 2489.0}, 'Verts-ALE': {'precision': 0.21621621621621623, 'recall': 0.07462686567164178, 'f1-score': 0.11095700416088766, 'support': 1072.0}, 'accuracy': 0.3496326905417815, 'macro avg': {'precision': 0.2888261686967606, 'recall': 0.2759121644368684, 'f1-score': 0.2720166812189435, 'support': 8712.0}, 'weighted avg': {'precision': 0.33014655743329413, 'recall': 0.3496326905417815, 'f1-score': 0.32988317276670226, 'support': 8712.0}}}, {'vectorizer': TfidfVectorizer(max_df=0.1, max_features=15000, ngram_range=(1, 2)), 'vectorizer_id': 'TfidfVectorizer9', 'scores': {'ELDR': {'precision': 0.15460122699386503, 'recall': 0.13876651982378854, 'f1-score': 0.14625652930934416, 'support': 908.0}, 'GUE-NGL': {'precision': 0.2825370675453048, 'recall': 0.28678929765886285, 'f1-score': 0.2846473029045643, 'support': 1196.0}, 'PPE-DE': {'precision': 0.40508474576271186, 'recall': 0.5490646537577946, 'f1-score': 0.46621150898704194, 'support': 3047.0}, 'PSE': {'precision': 0.3572761194029851, 'recall': 0.3077541181197268, 'f1-score': 0.33067127131448304, 'support': 2489.0}, 'Verts-ALE': {'precision': 0.22249388753056235, 'recall': 0.08488805970149253, 'f1-score': 0.12288993923024984, 'support': 1072.0}, 'accuracy': 0.3442378328741965, 'macro avg': {'precision': 0.28439860944708584, 'recall': 0.27345252981233303, 'f1-score': 0.2701353103491367, 'support': 8712.0}, 'weighted avg': {'precision': 0.3260283718848014, 'recall': 0.3442378328741965, 'f1-score': 0.32697019971611985, 'support': 8712.0}}}, {'vectorizer': TfidfVectorizer(max_df=0.1, ngram_range=(1, 2)), 'vectorizer_id': 'TfidfVectorizer11', 'scores': {'ELDR': {'precision': 0.16222479721900349, 'recall': 0.15418502202643172, 'f1-score': 0.15810276679841898, 'support': 908.0}, 'GUE-NGL': {'precision': 0.2792714657415438, 'recall': 0.2692307692307692, 'f1-score': 0.27415921668795235, 'support': 1196.0}, 'PPE-DE': {'precision': 0.4033652722598738, 'recall': 0.5664588119461765, 'f1-score': 0.4711984711984712, 'support': 3047.0}, 'PSE': {'precision': 0.3625673689367957, 'recall': 0.29730815588589793, 'f1-score': 0.32671081677704195, 'support': 2489.0}, 'Verts-ALE': {'precision': 0.20212765957446807, 'recall': 0.0708955223880597, 'f1-score': 0.10497237569060773, 'support': 1072.0}, 'accuracy': 0.344811753902663, 'macro avg': {'precision': 0.28191131274633696, 'recall': 0.271615656295467, 'f1-score': 0.26702872943049843, 'support': 8712.0}, 'weighted avg': {'precision': 0.324778903331622, 'recall': 0.344811753902663, 'f1-score': 0.3251729897672045, 'support': 8712.0}}}, {'vectorizer': TfidfVectorizer(max_df=0.5, max_features=15000, ngram_range=(1, 2)), 'vectorizer_id': 'TfidfVectorizer3', 'scores': {'ELDR': {'precision': 0.1529126213592233, 'recall': 0.13876651982378854, 'f1-score': 0.14549653579676675, 'support': 908.0}, 'GUE-NGL': {'precision': 0.27976190476190477, 'recall': 0.27508361204013376, 'f1-score': 0.2774030354131535, 'support': 1196.0}, 'PPE-DE': {'precision': 0.404830224772836, 'recall': 0.5556284870364293, 'f1-score': 0.4683912021026421, 'support': 3047.0}, 'PSE': {'precision': 0.35173726796763444, 'recall': 0.2969063881076738, 'f1-score': 0.32200435729847493, 'support': 2489.0}, 'Verts-ALE': {'precision': 0.1958041958041958, 'recall': 0.07835820895522388, 'f1-score': 0.11192538307794804, 'support': 1072.0}, 'accuracy': 0.3410238751147842, 'macro avg': {'precision': 0.2770092429331589, 'recall': 0.2689486431926499, 'f1-score': 0.2650441027377971, 'support': 8712.0}, 'weighted avg': {'precision': 0.32051581164437376, 'recall': 0.3410238751147842, 'f1-score': 0.322833532327802, 'support': 8712.0}}}, {'vectorizer': TfidfVectorizer(max_df=0.5), 'vectorizer_id': 'TfidfVectorizer4', 'scores': {'ELDR': {'precision': 0.13748378728923477, 'recall': 0.11674008810572688, 'f1-score': 0.1262656343061346, 'support': 908.0}, 'GUE-NGL': {'precision': 0.29744525547445255, 'recall': 0.2725752508361204, 'f1-score': 0.2844677137870855, 'support': 1196.0}, 'PPE-DE': {'precision': 0.3997148288973384, 'recall': 0.5520183787331802, 'f1-score': 0.4636802205375603, 'support': 3047.0}, 'PSE': {'precision': 0.34679981842941443, 'recall': 0.30695058256327845, 'f1-score': 0.3256606990622336, 'support': 2489.0}, 'Verts-ALE': {'precision': 0.1889400921658986, 'recall': 0.07649253731343283, 'f1-score': 0.10889774236387782, 'support': 1072.0}, 'accuracy': 0.3397612488521579, 'macro avg': {'precision': 0.2740767564512677, 'recall': 0.2649553675103477, 'f1-score': 0.2617944020113784, 'support': 8712.0}, 'weighted avg': {'precision': 0.31729102558871863, 'recall': 0.3397612488521579, 'f1-score': 0.32082347031648845, 'support': 8712.0}}}, {'vectorizer': TfidfVectorizer(max_df=0.1), 'vectorizer_id': 'TfidfVectorizer10', 'scores': {'ELDR': {'precision': 0.142668428005284, 'recall': 0.11894273127753303, 'f1-score': 0.12972972972972974, 'support': 908.0}, 'GUE-NGL': {'precision': 0.2812227074235808, 'recall': 0.2692307692307692, 'f1-score': 0.27509611277231955, 'support': 1196.0}, 'PPE-DE': {'precision': 0.4010478685401286, 'recall': 0.5526747620610436, 'f1-score': 0.4648081700248413, 'support': 3047.0}, 'PSE': {'precision': 0.34049360146252283, 'recall': 0.2993169947770189, 'f1-score': 0.3185802865084456, 'support': 2489.0}, 'Verts-ALE': {'precision': 0.2033096926713948, 'recall': 0.08022388059701492, 'f1-score': 0.11505016722408026, 'support': 1072.0}, 'accuracy': 0.3380394857667585, 'macro avg': {'precision': 0.27374845962058225, 'recall': 0.264077827588676, 'f1-score': 0.26065289325188334, 'support': 8712.0}, 'weighted avg': {'precision': 0.31603704209517064, 'recall': 0.3380394857667585, 'f1-score': 0.31902664737370473, 'support': 8712.0}}}, {'vectorizer': TfidfVectorizer(max_df=0.5, max_features=15000), 'vectorizer_id': 'TfidfVectorizer2', 'scores': {'ELDR': {'precision': 0.13408521303258145, 'recall': 0.11784140969162996, 'f1-score': 0.1254396248534584, 'support': 908.0}, 'GUE-NGL': {'precision': 0.29328621908127206, 'recall': 0.27759197324414714, 'f1-score': 0.2852233676975945, 'support': 1196.0}, 'PPE-DE': {'precision': 0.4020495710200191, 'recall': 0.5536593370528389, 'f1-score': 0.46582907634957893, 'support': 3047.0}, 'PSE': {'precision': 0.34629629629629627, 'recall': 0.30052229811169145, 'f1-score': 0.3217896321789632, 'support': 2489.0}, 'Verts-ALE': {'precision': 0.1807511737089202, 'recall': 0.07182835820895522, 'f1-score': 0.102803738317757, 'support': 1072.0}, 'accuracy': 0.3387281910009183, 'macro avg': {'precision': 0.2712936946278178, 'recall': 0.2642886752618525, 'f1-score': 0.2602170878794704, 'support': 8712.0}, 'weighted avg': {'precision': 0.31603093136481036, 'recall': 0.3387281910009183, 'f1-score': 0.31973686004826735, 'support': 8712.0}}}, {'vectorizer': TfidfVectorizer(max_df=0.1, max_features=15000), 'vectorizer_id': 'TfidfVectorizer8', 'scores': {'ELDR': {'precision': 0.14194373401534527, 'recall': 0.1222466960352423, 'f1-score': 0.13136094674556212, 'support': 908.0}, 'GUE-NGL': {'precision': 0.2774914089347079, 'recall': 0.270066889632107, 'f1-score': 0.27372881355932205, 'support': 1196.0}, 'PPE-DE': {'precision': 0.39966354241768803, 'recall': 0.5457827371184772, 'f1-score': 0.4614317425083241, 'support': 3047.0}, 'PSE': {'precision': 0.3482886216466235, 'recall': 0.30253113700281237, 'f1-score': 0.32380133304665665, 'support': 2489.0}, 'Verts-ALE': {'precision': 0.1873589164785553, 'recall': 0.07742537313432836, 'f1-score': 0.10957095709570958, 'support': 1072.0}, 'accuracy': 0.33666207529843895, 'macro avg': {'precision': 0.27094924469858406, 'recall': 0.2636105665845935, 'f1-score': 0.2599787585911149, 'support': 8712.0}, 'weighted avg': {'precision': 0.31522940622842016, 'recall': 0.33666207529843895, 'f1-score': 0.3186454894449624, 'support': 8712.0}}}, {'vectorizer': TfidfVectorizer(max_df=0.5, max_features=1000, ngram_range=(1, 2)), 'vectorizer_id': 'TfidfVectorizer1', 'scores': {'ELDR': {'precision': 0.1411530815109344, 'recall': 0.07819383259911894, 'f1-score': 0.10063784549964565, 'support': 908.0}, 'GUE-NGL': {'precision': 0.2750301568154403, 'recall': 0.19063545150501673, 'f1-score': 0.22518518518518518, 'support': 1196.0}, 'PPE-DE': {'precision': 0.3984819734345351, 'recall': 0.4135214965539875, 'f1-score': 0.40586245772266066, 'support': 3047.0}, 'PSE': {'precision': 0.31262626262626264, 'recall': 0.4973885094415428, 'f1-score': 0.3839354938750194, 'support': 2489.0}, 'Verts-ALE': {'precision': 0.2054263565891473, 'recall': 0.049440298507462684, 'f1-score': 0.07969924812030076, 'support': 1072.0}, 'accuracy': 0.3271349862258953, 'macro avg': {'precision': 0.2665435661952639, 'recall': 0.2458359177214257, 'f1-score': 0.23906404608056234, 'support': 8712.0}, 'weighted avg': {'precision': 0.30643037885199237, 'recall': 0.3271349862258953, 'f1-score': 0.3028485528140487, 'support': 8712.0}}}, {'vectorizer': TfidfVectorizer(max_df=0.5, max_features=1000), 'vectorizer_id': 'TfidfVectorizer0', 'scores': {'ELDR': {'precision': 0.16435643564356436, 'recall': 0.09140969162995595, 'f1-score': 0.11748053786270347, 'support': 908.0}, 'GUE-NGL': {'precision': 0.2605548854041013, 'recall': 0.1806020066889632, 'f1-score': 0.21333333333333335, 'support': 1196.0}, 'PPE-DE': {'precision': 0.3908918406072106, 'recall': 0.4056448966196259, 'f1-score': 0.398131744242229, 'support': 3047.0}, 'PSE': {'precision': 0.3124373119358074, 'recall': 0.5006026516673363, 'f1-score': 0.38474602439400957, 'support': 2489.0}, 'Verts-ALE': {'precision': 0.17982456140350878, 'recall': 0.03824626865671642, 'f1-score': 0.06307692307692307, 'support': 1072.0}, 'accuracy': 0.323921028466483, 'macro avg': {'precision': 0.2616130069988385, 'recall': 0.24330110305251954, 'f1-score': 0.23535371258183968, 'support': 8712.0}, 'weighted avg': {'precision': 0.3010026542780783, 'recall': 0.323921028466483, 'f1-score': 0.29845933608898356, 'support': 8712.0}}}, {'vectorizer': TfidfVectorizer(max_df=0.1, max_features=1000, ngram_range=(1, 2)), 'vectorizer_id': 'TfidfVectorizer7', 'scores': {'ELDR': {'precision': 0.23809523809523808, 'recall': 0.005506607929515419, 'f1-score': 0.010764262648008612, 'support': 908.0}, 'GUE-NGL': {'precision': 0.23, 'recall': 0.019230769230769232, 'f1-score': 0.035493827160493825, 'support': 1196.0}, 'PPE-DE': {'precision': 0.3515794550277309, 'recall': 0.9570068920249426, 'f1-score': 0.5142403668106869, 'support': 3047.0}, 'PSE': {'precision': 0.31802120141342755, 'recall': 0.03615910004017678, 'f1-score': 0.06493506493506493, 'support': 2489.0}, 'Verts-ALE': {'precision': 0.07142857142857142, 'recall': 0.0009328358208955224, 'f1-score': 0.001841620626151013, 'support': 1072.0}, 'accuracy': 0.3483700642791552, 'macro avg': {'precision': 0.2418248931929936, 'recall': 0.20376724100925991, 'f1-score': 0.12545502843608106, 'support': 8712.0}, 'weighted avg': {'precision': 0.2790012941401999, 'recall': 0.3483700642791552, 'f1-score': 0.20462724510733651, 'support': 8712.0}}}, {'vectorizer': TfidfVectorizer(max_df=0.1, max_features=1000), 'vectorizer_id': 'TfidfVectorizer6', 'scores': {'ELDR': {'precision': 0.1111111111111111, 'recall': 0.0022026431718061676, 'f1-score': 0.004319654427645789, 'support': 908.0}, 'GUE-NGL': {'precision': 0.2826086956521739, 'recall': 0.021739130434782608, 'f1-score': 0.040372670807453416, 'support': 1196.0}, 'PPE-DE': {'precision': 0.35014409221902015, 'recall': 0.9570068920249426, 'f1-score': 0.5127032967032967, 'support': 3047.0}, 'PSE': {'precision': 0.3269230769230769, 'recall': 0.034150261149055845, 'f1-score': 0.061840669334303384, 'support': 2489.0}, 'Verts-ALE': {'precision': 0.21428571428571427, 'recall': 0.002798507462686567, 'f1-score': 0.0055248618784530384, 'support': 1072.0}, 'accuracy': 0.3480257116620753, 'macro avg': {'precision': 0.2570145380382193, 'recall': 0.20357948684865476, 'f1-score': 0.12495223063023049, 'support': 8712.0}, 'weighted avg': {'precision': 0.2926083289779692, 'recall': 0.3480257116620753, 'f1-score': 0.20365690811154094, 'support': 8712.0}}}]\n",
      "[{'vectorizer': TfidfVectorizer(max_df=0.1, max_features=15000, ngram_range=(1, 2)), 'vectorizer_id': 'TfidfVectorizer9', 'scores': {'ELDR': {'precision': 0.2630272952853598, 'recall': 0.11674008810572688, 'f1-score': 0.16170861937452327, 'support': 908.0}, 'GUE-NGL': {'precision': 0.3499752842313396, 'recall': 0.5919732441471572, 'f1-score': 0.43988816402609504, 'support': 1196.0}, 'PPE-DE': {'precision': 0.45159332321699547, 'recall': 0.48834919593042336, 'f1-score': 0.4692526017029328, 'support': 3047.0}, 'PSE': {'precision': 0.36923076923076925, 'recall': 0.3471273603856971, 'f1-score': 0.3578380617104991, 'support': 2489.0}, 'Verts-ALE': {'precision': 0.22887864823348694, 'recall': 0.13899253731343283, 'f1-score': 0.17295414973882764, 'support': 1072.0}, 'accuracy': 0.38050964187327824, 'macro avg': {'precision': 0.3325410640395902, 'recall': 0.3366364851764875, 'f1-score': 0.3203283193105756, 'support': 8712.0}, 'weighted avg': {'precision': 0.3670543360219991, 'recall': 0.38050964187327824, 'f1-score': 0.364877884765102, 'support': 8712.0}}}, {'vectorizer': TfidfVectorizer(max_df=0.5, max_features=15000, ngram_range=(1, 2)), 'vectorizer_id': 'TfidfVectorizer3', 'scores': {'ELDR': {'precision': 0.2695417789757412, 'recall': 0.11013215859030837, 'f1-score': 0.1563721657544957, 'support': 908.0}, 'GUE-NGL': {'precision': 0.34945705824284307, 'recall': 0.5919732441471572, 'f1-score': 0.43947858472998136, 'support': 1196.0}, 'PPE-DE': {'precision': 0.451295799821269, 'recall': 0.49721037085658026, 'f1-score': 0.4731417863835103, 'support': 3047.0}, 'PSE': {'precision': 0.37170773152081565, 'recall': 0.3515468059461631, 'f1-score': 0.3613462729712988, 'support': 2489.0}, 'Verts-ALE': {'precision': 0.23509933774834438, 'recall': 0.13246268656716417, 'f1-score': 0.16945107398568018, 'support': 1072.0}, 'accuracy': 0.38337924701561066, 'macro avg': {'precision': 0.3354203412618027, 'recall': 0.3366650532214746, 'f1-score': 0.31995797676499327, 'support': 8712.0}, 'weighted avg': {'precision': 0.3690312112999719, 'recall': 0.38337924701561066, 'f1-score': 0.3661969423428498, 'support': 8712.0}}}, {'vectorizer': TfidfVectorizer(max_df=0.1, max_features=15000), 'vectorizer_id': 'TfidfVectorizer8', 'scores': {'ELDR': {'precision': 0.23148148148148148, 'recall': 0.08259911894273128, 'f1-score': 0.12175324675324675, 'support': 908.0}, 'GUE-NGL': {'precision': 0.37628865979381443, 'recall': 0.4882943143812709, 'f1-score': 0.42503639010189226, 'support': 1196.0}, 'PPE-DE': {'precision': 0.4347074796346581, 'recall': 0.5779455201837873, 'f1-score': 0.49619611158072696, 'support': 3047.0}, 'PSE': {'precision': 0.3641493055555556, 'recall': 0.3370831659300924, 'f1-score': 0.3500938869184227, 'support': 2489.0}, 'Verts-ALE': {'precision': 0.23076923076923078, 'recall': 0.10354477611940298, 'f1-score': 0.14294913071474566, 'support': 1072.0}, 'accuracy': 0.38682277318640956, 'macro avg': {'precision': 0.32747923144694807, 'recall': 0.317893379111457, 'f1-score': 0.3072057532138069, 'support': 8712.0}, 'weighted avg': {'precision': 0.36025394279818457, 'recall': 0.38682277318640956, 'f1-score': 0.3621935462886189, 'support': 8712.0}}}, {'vectorizer': TfidfVectorizer(max_df=0.5, max_features=15000), 'vectorizer_id': 'TfidfVectorizer2', 'scores': {'ELDR': {'precision': 0.2323943661971831, 'recall': 0.07268722466960352, 'f1-score': 0.11073825503355705, 'support': 908.0}, 'GUE-NGL': {'precision': 0.37666455294863666, 'recall': 0.49665551839464883, 'f1-score': 0.428416877028489, 'support': 1196.0}, 'PPE-DE': {'precision': 0.4327598740004846, 'recall': 0.5861503117820808, 'f1-score': 0.49790911625313633, 'support': 3047.0}, 'PSE': {'precision': 0.36435124508519, 'recall': 0.3350743270389715, 'f1-score': 0.34910004185851823, 'support': 2489.0}, 'Verts-ALE': {'precision': 0.22528735632183908, 'recall': 0.0914179104477612, 'f1-score': 0.1300597213005972, 'support': 1072.0}, 'accuracy': 0.3877410468319559, 'macro avg': {'precision': 0.3262914789106667, 'recall': 0.3163970584666132, 'f1-score': 0.30324480229485956, 'support': 8712.0}, 'weighted avg': {'precision': 0.35910267687180186, 'recall': 0.3877410468319559, 'f1-score': 0.3602387538039418, 'support': 8712.0}}}, {'vectorizer': TfidfVectorizer(max_df=0.5, max_features=1000), 'vectorizer_id': 'TfidfVectorizer0', 'scores': {'ELDR': {'precision': 0.23163841807909605, 'recall': 0.1354625550660793, 'f1-score': 0.17095205003474634, 'support': 908.0}, 'GUE-NGL': {'precision': 0.2633863965267728, 'recall': 0.6086956521739131, 'f1-score': 0.36767676767676766, 'support': 1196.0}, 'PPE-DE': {'precision': 0.46625, 'recall': 0.36724647193961274, 'f1-score': 0.4108683679089407, 'support': 3047.0}, 'PSE': {'precision': 0.36445647271087056, 'recall': 0.3246283648051426, 'f1-score': 0.34339141521461963, 'support': 2489.0}, 'Verts-ALE': {'precision': 0.1925, 'recall': 0.14365671641791045, 'f1-score': 0.16452991452991453, 'support': 1072.0}, 'accuracy': 0.3365472910927456, 'macro avg': {'precision': 0.3036462574633479, 'recall': 0.31593795208053166, 'f1-score': 0.29148370307299776, 'support': 8712.0}, 'weighted avg': {'precision': 0.35118155698337883, 'recall': 0.3365472910927456, 'f1-score': 0.3303442485579388, 'support': 8712.0}}}, {'vectorizer': TfidfVectorizer(max_df=0.5, max_features=1000, ngram_range=(1, 2)), 'vectorizer_id': 'TfidfVectorizer1', 'scores': {'ELDR': {'precision': 0.1963927855711423, 'recall': 0.10792951541850221, 'f1-score': 0.13930348258706468, 'support': 908.0}, 'GUE-NGL': {'precision': 0.2611464968152866, 'recall': 0.617056856187291, 'f1-score': 0.3669816011934361, 'support': 1196.0}, 'PPE-DE': {'precision': 0.4807017543859649, 'recall': 0.3596980636691828, 'f1-score': 0.4114886427632814, 'support': 3047.0}, 'PSE': {'precision': 0.3574858140549978, 'recall': 0.32904781036560865, 'f1-score': 0.3426778242677824, 'support': 2489.0}, 'Verts-ALE': {'precision': 0.21568627450980393, 'recall': 0.16417910447761194, 'f1-score': 0.1864406779661017, 'support': 1072.0}, 'accuracy': 0.33597337006427913, 'macro avg': {'precision': 0.3022826250674392, 'recall': 0.3155822700236393, 'f1-score': 0.28937844575553323, 'support': 8712.0}, 'weighted avg': {'precision': 0.35311661875127576, 'recall': 0.33597337006427913, 'f1-score': 0.329659431025975, 'support': 8712.0}}}, {'vectorizer': TfidfVectorizer(max_df=0.1, max_features=1000), 'vectorizer_id': 'TfidfVectorizer6', 'scores': {'ELDR': {'precision': 0.2071917808219178, 'recall': 0.13325991189427314, 'f1-score': 0.16219839142091153, 'support': 908.0}, 'GUE-NGL': {'precision': 0.2660377358490566, 'recall': 0.5894648829431438, 'f1-score': 0.3666146645865835, 'support': 1196.0}, 'PPE-DE': {'precision': 0.464022894521668, 'recall': 0.3724975385625205, 'f1-score': 0.4132532313853996, 'support': 3047.0}, 'PSE': {'precision': 0.3616029822926375, 'recall': 0.3117717959019687, 'f1-score': 0.3348435814455232, 'support': 2489.0}, 'Verts-ALE': {'precision': 0.18058690744920994, 'recall': 0.14925373134328357, 'f1-score': 0.1634320735444331, 'support': 1072.0}, 'accuracy': 0.3325298438934803, 'macro avg': {'precision': 0.29588846018689796, 'recall': 0.3112495721290379, 'f1-score': 0.2880683884765702, 'support': 8712.0}, 'weighted avg': {'precision': 0.3459375592724086, 'recall': 0.3325298438934803, 'f1-score': 0.32754301323973756, 'support': 8712.0}}}, {'vectorizer': TfidfVectorizer(max_df=0.1, max_features=1000, ngram_range=(1, 2)), 'vectorizer_id': 'TfidfVectorizer7', 'scores': {'ELDR': {'precision': 0.16869565217391305, 'recall': 0.10682819383259912, 'f1-score': 0.13081591368846932, 'support': 908.0}, 'GUE-NGL': {'precision': 0.2643720248993043, 'recall': 0.6036789297658863, 'f1-score': 0.36771072065189714, 'support': 1196.0}, 'PPE-DE': {'precision': 0.46873670778392174, 'recall': 0.3616672136527732, 'f1-score': 0.40829937013708784, 'support': 3047.0}, 'PSE': {'precision': 0.3549257759784076, 'recall': 0.31699477701888307, 'f1-score': 0.3348896434634975, 'support': 2489.0}, 'Verts-ALE': {'precision': 0.21033653846153846, 'recall': 0.16324626865671643, 'f1-score': 0.18382352941176472, 'support': 1072.0}, 'accuracy': 0.3311524334251607, 'macro avg': {'precision': 0.2934133398594171, 'recall': 0.3104830765853716, 'f1-score': 0.2851078354705433, 'support': 8712.0}, 'weighted avg': {'precision': 0.34509829754500876, 'recall': 0.3311524334251607, 'f1-score': 0.3252123735590637, 'support': 8712.0}}}, {'vectorizer': TfidfVectorizer(max_df=0.1), 'vectorizer_id': 'TfidfVectorizer10', 'scores': {'ELDR': {'precision': 0.3142857142857143, 'recall': 0.024229074889867842, 'f1-score': 0.044989775051124746, 'support': 908.0}, 'GUE-NGL': {'precision': 0.46446700507614214, 'recall': 0.3060200668896321, 'f1-score': 0.3689516129032258, 'support': 1196.0}, 'PPE-DE': {'precision': 0.39693877551020407, 'recall': 0.7659993436166721, 'f1-score': 0.5229080318135992, 'support': 3047.0}, 'PSE': {'precision': 0.3607280750137893, 'recall': 0.26275612695861794, 'f1-score': 0.30404463040446306, 'support': 2489.0}, 'Verts-ALE': {'precision': 0.2484472049689441, 'recall': 0.03731343283582089, 'f1-score': 0.064882400648824, 'support': 1072.0}, 'accuracy': 0.3921028466483012, 'macro avg': {'precision': 0.3569733549709588, 'recall': 0.2792636090381222, 'f1-score': 0.2611552901642474, 'support': 8712.0}, 'weighted avg': {'precision': 0.36897773164119785, 'recall': 0.3921028466483012, 'f1-score': 0.3330737644957489, 'support': 8712.0}}}, {'vectorizer': TfidfVectorizer(max_df=0.5), 'vectorizer_id': 'TfidfVectorizer4', 'scores': {'ELDR': {'precision': 0.2542372881355932, 'recall': 0.016519823788546256, 'f1-score': 0.031023784901758014, 'support': 908.0}, 'GUE-NGL': {'precision': 0.47265625, 'recall': 0.30351170568561875, 'f1-score': 0.3696537678207739, 'support': 1196.0}, 'PPE-DE': {'precision': 0.3940244305051172, 'recall': 0.7833935018050542, 'f1-score': 0.5243272926963207, 'support': 3047.0}, 'PSE': {'precision': 0.36045130641330164, 'recall': 0.24387304138208116, 'f1-score': 0.29091780493649655, 'support': 2489.0}, 'Verts-ALE': {'precision': 0.24475524475524477, 'recall': 0.03264925373134328, 'f1-score': 0.05761316872427984, 'support': 1072.0}, 'accuracy': 0.3910697887970615, 'macro avg': {'precision': 0.3452249039618514, 'recall': 0.27598946527852874, 'f1-score': 0.2547071638159258, 'support': 8712.0}, 'weighted avg': {'precision': 0.36229082833064064, 'recall': 0.3910697887970615, 'f1-score': 0.3275661727742768, 'support': 8712.0}}}, {'vectorizer': TfidfVectorizer(max_df=0.1, ngram_range=(1, 2)), 'vectorizer_id': 'TfidfVectorizer11', 'scores': {'ELDR': {'precision': 0.75, 'recall': 0.003303964757709251, 'f1-score': 0.006578947368421052, 'support': 908.0}, 'GUE-NGL': {'precision': 0.8939393939393939, 'recall': 0.04933110367892977, 'f1-score': 0.09350237717908082, 'support': 1196.0}, 'PPE-DE': {'precision': 0.35879348090488933, 'recall': 0.9681654085986215, 'f1-score': 0.5235602094240838, 'support': 3047.0}, 'PSE': {'precision': 0.45454545454545453, 'recall': 0.07633587786259542, 'f1-score': 0.13071895424836602, 'support': 2489.0}, 'Verts-ALE': {'precision': 0.0, 'recall': 0.0, 'f1-score': 0.0, 'support': 1072.0}, 'accuracy': 0.3675390266299357, 'macro avg': {'precision': 0.49145566587794753, 'recall': 0.21942727097957118, 'f1-score': 0.15087209764399032, 'support': 8712.0}, 'weighted avg': {'precision': 0.45623954176220727, 'recall': 0.3675390266299357, 'f1-score': 0.23398185979752908, 'support': 8712.0}}}, {'vectorizer': TfidfVectorizer(max_df=0.5, ngram_range=(1, 2)), 'vectorizer_id': 'TfidfVectorizer5', 'scores': {'ELDR': {'precision': 1.0, 'recall': 0.003303964757709251, 'f1-score': 0.006586169045005488, 'support': 908.0}, 'GUE-NGL': {'precision': 0.8780487804878049, 'recall': 0.030100334448160536, 'f1-score': 0.0582053354890865, 'support': 1196.0}, 'PPE-DE': {'precision': 0.3564842533828284, 'recall': 0.9770265835247784, 'f1-score': 0.5223723460256186, 'support': 3047.0}, 'PSE': {'precision': 0.4778481012658228, 'recall': 0.06066693451185215, 'f1-score': 0.10766488413547237, 'support': 2489.0}, 'Verts-ALE': {'precision': 0.0, 'recall': 0.0, 'f1-score': 0.0, 'support': 1072.0}, 'accuracy': 0.3635215794306703, 'macro avg': {'precision': 0.5424762270272911, 'recall': 0.2142195634485001, 'f1-score': 0.13896574693903657, 'support': 8712.0}, 'weighted avg': {'precision': 0.4859639331464102, 'recall': 0.3635215794306703, 'f1-score': 0.22213501580475928, 'support': 8712.0}}}]\n",
      "[{'vectorizer': TfidfVectorizer(max_df=0.5, ngram_range=(1, 2)), 'vectorizer_id': 'TfidfVectorizer5', 'scores': {'ELDR': {'precision': 0.37446808510638296, 'recall': 0.09691629955947137, 'f1-score': 0.15398075240594924, 'support': 908.0}, 'GUE-NGL': {'precision': 0.4909274193548387, 'recall': 0.407190635451505, 'f1-score': 0.44515539305301643, 'support': 1196.0}, 'PPE-DE': {'precision': 0.44068919814446655, 'recall': 0.6547423695438136, 'f1-score': 0.5268022181146026, 'support': 3047.0}, 'PSE': {'precision': 0.3744631003514252, 'recall': 0.3852952993169948, 'f1-score': 0.3798019801980198, 'support': 2489.0}, 'Verts-ALE': {'precision': 0.28463476070528965, 'recall': 0.10541044776119403, 'f1-score': 0.15384615384615385, 'support': 1072.0}, 'accuracy': 0.4180440771349862, 'macro avg': {'precision': 0.3930365127324806, 'recall': 0.32991101032659575, 'f1-score': 0.3319172995235483, 'support': 8712.0}, 'weighted avg': {'precision': 0.4025612169217103, 'recall': 0.4180440771349862, 'f1-score': 0.3888472150490303, 'support': 8712.0}}}, {'vectorizer': TfidfVectorizer(max_df=0.1, ngram_range=(1, 2)), 'vectorizer_id': 'TfidfVectorizer11', 'scores': {'ELDR': {'precision': 0.36909871244635195, 'recall': 0.0947136563876652, 'f1-score': 0.15074496056091147, 'support': 908.0}, 'GUE-NGL': {'precision': 0.49686192468619245, 'recall': 0.3971571906354515, 'f1-score': 0.44144981412639406, 'support': 1196.0}, 'PPE-DE': {'precision': 0.4371859296482412, 'recall': 0.656711519527404, 'f1-score': 0.5249213011542497, 'support': 3047.0}, 'PSE': {'precision': 0.371049551307062, 'recall': 0.3820811570912013, 'f1-score': 0.37648456057007124, 'support': 2489.0}, 'Verts-ALE': {'precision': 0.3028720626631854, 'recall': 0.10820895522388059, 'f1-score': 0.15945017182130583, 'support': 1072.0}, 'accuracy': 0.41655188246097336, 'macro avg': {'precision': 0.3954136361502066, 'recall': 0.3277744957731205, 'f1-score': 0.3306101616465865, 'support': 8712.0}, 'weighted avg': {'precision': 0.402859871997518, 'recall': 0.41655188246097336, 'f1-score': 0.3870851999486709, 'support': 8712.0}}}, {'vectorizer': TfidfVectorizer(max_df=0.5, max_features=15000, ngram_range=(1, 2)), 'vectorizer_id': 'TfidfVectorizer3', 'scores': {'ELDR': {'precision': 0.26535087719298245, 'recall': 0.13325991189427314, 'f1-score': 0.1774193548387097, 'support': 908.0}, 'GUE-NGL': {'precision': 0.42987249544626593, 'recall': 0.39464882943143814, 'f1-score': 0.4115082824760244, 'support': 1196.0}, 'PPE-DE': {'precision': 0.43861959957850366, 'recall': 0.5464391204463407, 'f1-score': 0.4866286716352477, 'support': 3047.0}, 'PSE': {'precision': 0.35467980295566504, 'recall': 0.3760546404178385, 'f1-score': 0.36505460218408736, 'support': 2489.0}, 'Verts-ALE': {'precision': 0.24204702627939143, 'recall': 0.16324626865671643, 'f1-score': 0.19498607242339833, 'support': 1072.0}, 'accuracy': 0.38670798898071623, 'macro avg': {'precision': 0.34611396029056174, 'recall': 0.32272975416932137, 'f1-score': 0.3271193967114935, 'support': 8712.0}, 'weighted avg': {'precision': 0.3711905948908196, 'recall': 0.38670798898071623, 'f1-score': 0.37346926273892905, 'support': 8712.0}}}, {'vectorizer': TfidfVectorizer(max_df=0.1, max_features=15000, ngram_range=(1, 2)), 'vectorizer_id': 'TfidfVectorizer9', 'scores': {'ELDR': {'precision': 0.267223382045929, 'recall': 0.14096916299559473, 'f1-score': 0.18457101658255226, 'support': 908.0}, 'GUE-NGL': {'precision': 0.4276377217553688, 'recall': 0.38294314381270905, 'f1-score': 0.40405822673136305, 'support': 1196.0}, 'PPE-DE': {'precision': 0.4332892998678996, 'recall': 0.5382343288480472, 'f1-score': 0.48009367681498827, 'support': 3047.0}, 'PSE': {'precision': 0.34506242905788875, 'recall': 0.366412213740458, 'f1-score': 0.35541699142634453, 'support': 2489.0}, 'Verts-ALE': {'precision': 0.24114441416893734, 'recall': 0.16511194029850745, 'f1-score': 0.19601328903654486, 'support': 1072.0}, 'accuracy': 0.38050964187327824, 'macro avg': {'precision': 0.3428714493792047, 'recall': 0.3187341579390633, 'f1-score': 0.3240306401183586, 'support': 8712.0}, 'weighted avg': {'precision': 0.36635597345371906, 'recall': 0.38050964187327824, 'f1-score': 0.36827923473258545, 'support': 8712.0}}}, {'vectorizer': TfidfVectorizer(max_df=0.5), 'vectorizer_id': 'TfidfVectorizer4', 'scores': {'ELDR': {'precision': 0.2579957356076759, 'recall': 0.13325991189427314, 'f1-score': 0.1757443718228032, 'support': 908.0}, 'GUE-NGL': {'precision': 0.42095914742451157, 'recall': 0.3963210702341137, 'f1-score': 0.4082687338501292, 'support': 1196.0}, 'PPE-DE': {'precision': 0.4375488917861799, 'recall': 0.5507056120774533, 'f1-score': 0.4876489392618425, 'support': 3047.0}, 'PSE': {'precision': 0.3436672967863894, 'recall': 0.36520691040578546, 'f1-score': 0.35410985586287497, 'support': 2489.0}, 'Verts-ALE': {'precision': 0.24175824175824176, 'recall': 0.14365671641791045, 'f1-score': 0.1802223522527794, 'support': 1072.0}, 'accuracy': 0.38292011019283745, 'macro avg': {'precision': 0.3403858626725997, 'recall': 0.3178300442059072, 'f1-score': 0.3211988506100859, 'support': 8712.0}, 'weighted avg': {'precision': 0.3656441090897766, 'recall': 0.38292011019283745, 'f1-score': 0.36826324679618566, 'support': 8712.0}}}, {'vectorizer': TfidfVectorizer(max_df=0.5, max_features=15000), 'vectorizer_id': 'TfidfVectorizer2', 'scores': {'ELDR': {'precision': 0.2545090180360721, 'recall': 0.13986784140969163, 'f1-score': 0.18052594171997158, 'support': 908.0}, 'GUE-NGL': {'precision': 0.4209090909090909, 'recall': 0.387123745819398, 'f1-score': 0.40331010452961674, 'support': 1196.0}, 'PPE-DE': {'precision': 0.43492147990417884, 'recall': 0.5362651788644568, 'f1-score': 0.48030570252792476, 'support': 3047.0}, 'PSE': {'precision': 0.3414269704893538, 'recall': 0.36721574929690637, 'f1-score': 0.3538521099496709, 'support': 2489.0}, 'Verts-ALE': {'precision': 0.22827687776141384, 'recall': 0.14458955223880596, 'f1-score': 0.1770416904625928, 'support': 1072.0}, 'accuracy': 0.3779843893480257, 'macro avg': {'precision': 0.33600868742002193, 'recall': 0.31501241352585174, 'f1-score': 0.3190071098379554, 'support': 8712.0}, 'weighted avg': {'precision': 0.3620559863269394, 'recall': 0.3779843893480257, 'f1-score': 0.36504757914857355, 'support': 8712.0}}}, {'vectorizer': TfidfVectorizer(max_df=0.1, max_features=15000), 'vectorizer_id': 'TfidfVectorizer8', 'scores': {'ELDR': {'precision': 0.2465483234714004, 'recall': 0.13766519823788545, 'f1-score': 0.17667844522968199, 'support': 908.0}, 'GUE-NGL': {'precision': 0.41767441860465115, 'recall': 0.3754180602006689, 'f1-score': 0.3954205195948921, 'support': 1196.0}, 'PPE-DE': {'precision': 0.43344068706387545, 'recall': 0.5300295372497539, 'f1-score': 0.4768935479108224, 'support': 3047.0}, 'PSE': {'precision': 0.3452205882352941, 'recall': 0.37725994375251104, 'f1-score': 0.3605298521789211, 'support': 2489.0}, 'Verts-ALE': {'precision': 0.23538011695906433, 'recall': 0.1501865671641791, 'f1-score': 0.18337129840546698, 'support': 1072.0}, 'accuracy': 0.37752525252525254, 'macro avg': {'precision': 0.3356528268668571, 'recall': 0.3141118613209997, 'f1-score': 0.3185787326639569, 'support': 8712.0}, 'weighted avg': {'precision': 0.36222219758317115, 'recall': 0.37752525252525254, 'f1-score': 0.365056754379283, 'support': 8712.0}}}, {'vectorizer': TfidfVectorizer(max_df=0.1), 'vectorizer_id': 'TfidfVectorizer10', 'scores': {'ELDR': {'precision': 0.23390557939914164, 'recall': 0.12004405286343613, 'f1-score': 0.1586608442503639, 'support': 908.0}, 'GUE-NGL': {'precision': 0.41326067211625794, 'recall': 0.3804347826086957, 'f1-score': 0.39616891597736176, 'support': 1196.0}, 'PPE-DE': {'precision': 0.4304164470216131, 'recall': 0.5359369872005251, 'f1-score': 0.47741558251717586, 'support': 3047.0}, 'PSE': {'precision': 0.33984518982676004, 'recall': 0.3704298915226999, 'f1-score': 0.354479046520569, 'support': 2489.0}, 'Verts-ALE': {'precision': 0.2335423197492163, 'recall': 0.13899253731343283, 'f1-score': 0.1742690058479532, 'support': 1072.0}, 'accuracy': 0.3751147842056933, 'macro avg': {'precision': 0.3301940416225978, 'recall': 0.3091676503017579, 'f1-score': 0.3121986790226847, 'support': 8712.0}, 'weighted avg': {'precision': 0.3574789931439722, 'recall': 0.3751147842056933, 'f1-score': 0.3606154810694206, 'support': 8712.0}}}, {'vectorizer': TfidfVectorizer(max_df=0.5, max_features=1000), 'vectorizer_id': 'TfidfVectorizer0', 'scores': {'ELDR': {'precision': 0.29961089494163423, 'recall': 0.08480176211453745, 'f1-score': 0.13218884120171673, 'support': 908.0}, 'GUE-NGL': {'precision': 0.3793103448275862, 'recall': 0.3770903010033445, 'f1-score': 0.37819706498951783, 'support': 1196.0}, 'PPE-DE': {'precision': 0.41895030190431953, 'recall': 0.592057761732852, 'f1-score': 0.49068407452740376, 'support': 3047.0}, 'PSE': {'precision': 0.3337250293772033, 'recall': 0.34230614704700685, 'f1-score': 0.33796112653708843, 'support': 2489.0}, 'Verts-ALE': {'precision': 0.22113022113022113, 'recall': 0.08395522388059702, 'f1-score': 0.12170385395537525, 'support': 1072.0}, 'accuracy': 0.3758034894398531, 'macro avg': {'precision': 0.3305453584361928, 'recall': 0.2960422391556675, 'f1-score': 0.2921469922422204, 'support': 8712.0}, 'weighted avg': {'precision': 0.3523802376141775, 'recall': 0.3758034894398531, 'f1-score': 0.34884266620920534, 'support': 8712.0}}}, {'vectorizer': TfidfVectorizer(max_df=0.5, max_features=1000, ngram_range=(1, 2)), 'vectorizer_id': 'TfidfVectorizer1', 'scores': {'ELDR': {'precision': 0.21052631578947367, 'recall': 0.05726872246696035, 'f1-score': 0.09004329004329005, 'support': 908.0}, 'GUE-NGL': {'precision': 0.3839137645107794, 'recall': 0.387123745819398, 'f1-score': 0.3855120732722731, 'support': 1196.0}, 'PPE-DE': {'precision': 0.42303144951525185, 'recall': 0.5871348867738759, 'f1-score': 0.4917537108301264, 'support': 3047.0}, 'PSE': {'precision': 0.33396728794218333, 'recall': 0.35275210928083567, 'f1-score': 0.3431027745212974, 'support': 2489.0}, 'Verts-ALE': {'precision': 0.23192019950124687, 'recall': 0.08675373134328358, 'f1-score': 0.12627291242362526, 'support': 1072.0}, 'accuracy': 0.37591827364554636, 'macro avg': {'precision': 0.31667180345178697, 'recall': 0.2942066391368707, 'f1-score': 0.28733695221812244, 'support': 8712.0}, 'weighted avg': {'precision': 0.346551723750934, 'recall': 0.37591827364554636, 'f1-score': 0.3478595812435694, 'support': 8712.0}}}, {'vectorizer': TfidfVectorizer(max_df=0.1, max_features=1000), 'vectorizer_id': 'TfidfVectorizer6', 'scores': {'ELDR': {'precision': 0.26545454545454544, 'recall': 0.08039647577092511, 'f1-score': 0.12341504649196956, 'support': 908.0}, 'GUE-NGL': {'precision': 0.3584905660377358, 'recall': 0.33361204013377926, 'f1-score': 0.3456041576440017, 'support': 1196.0}, 'PPE-DE': {'precision': 0.41533472318739867, 'recall': 0.5884476534296029, 'f1-score': 0.48696360673546984, 'support': 3047.0}, 'PSE': {'precision': 0.33741861355802377, 'recall': 0.3539574126155082, 'f1-score': 0.3454901960784314, 'support': 2489.0}, 'Verts-ALE': {'precision': 0.23232323232323232, 'recall': 0.08582089552238806, 'f1-score': 0.12534059945504086, 'support': 1072.0}, 'accuracy': 0.3716712580348944, 'macro avg': {'precision': 0.3218043361121872, 'recall': 0.2884468954944407, 'f1-score': 0.2853627212809827, 'support': 8712.0}, 'weighted avg': {'precision': 0.3471301400369937, 'recall': 0.3716712580348944, 'f1-score': 0.3447511208832565, 'support': 8712.0}}}, {'vectorizer': TfidfVectorizer(max_df=0.1, max_features=1000, ngram_range=(1, 2)), 'vectorizer_id': 'TfidfVectorizer7', 'scores': {'ELDR': {'precision': 0.19658119658119658, 'recall': 0.05066079295154185, 'f1-score': 0.08056042031523643, 'support': 908.0}, 'GUE-NGL': {'precision': 0.3608768971332209, 'recall': 0.35785953177257523, 'f1-score': 0.3593618807724601, 'support': 1196.0}, 'PPE-DE': {'precision': 0.4200281425891182, 'recall': 0.5877912701017394, 'f1-score': 0.4899466557242511, 'support': 3047.0}, 'PSE': {'precision': 0.3369728915662651, 'recall': 0.35958216151064687, 'f1-score': 0.34791059280855197, 'support': 2489.0}, 'Verts-ALE': {'precision': 0.22043010752688172, 'recall': 0.07649253731343283, 'f1-score': 0.11357340720221606, 'support': 1072.0}, 'accuracy': 0.3721303948576676, 'macro avg': {'precision': 0.3069778470793365, 'recall': 0.28647725872998725, 'f1-score': 0.27827059136454313, 'support': 8712.0}, 'weighted avg': {'precision': 0.34033021674854835, 'recall': 0.3721303948576676, 'f1-score': 0.34246020306050867, 'support': 8712.0}}}]\n"
     ]
    }
   ],
   "source": [
    "sorted_scores_knn, sorted_scores_cnb, sorted_scores_svc = comparison_vectorisation(df_vectorisations, df_train[\"label\"], df_test[\"label\"])"
   ]
  },
  {
   "cell_type": "code",
   "execution_count": 159,
   "metadata": {},
   "outputs": [],
   "source": [
    "def fill_vect_table(best_scores, algo, table):\n",
    "\n",
    "    for score in best_scores:\n",
    "        vectorizer = score[\"vectorizer\"]\n",
    "        vectorizer_id = score[\"vectorizer_id\"]\n",
    "        for metric, value in score[\"scores\"].items():\n",
    "            if metric == \"accuracy\":\n",
    "                accuracy = value\n",
    "            elif metric == \"macro avg\":\n",
    "                macro_f1 = value[\"f1-score\"]\n",
    "                precision = value[\"precision\"]\n",
    "                recall = value[\"recall\"]\n",
    "            \n",
    "        table.add_row([algo, vectorizer, vectorizer_id, macro_f1, accuracy, precision, recall])\n",
    "\n",
    "    print(table)\n",
    "    return table\n"
   ]
  },
  {
   "cell_type": "code",
   "execution_count": 160,
   "metadata": {},
   "outputs": [
    {
     "name": "stdout",
     "output_type": "stream",
     "text": [
      "\u001b[38;5;219m+\u001b[0m\u001b[38;5;183m\u001b[38;5;147m-\u001b[0m\u001b[38;5;183m\u001b[38;5;147m-\u001b[0m\u001b[38;5;183m\u001b[38;5;147m-\u001b[0m\u001b[38;5;183m\u001b[38;5;147m-\u001b[0m\u001b[38;5;183m\u001b[38;5;147m-\u001b[0m\u001b[38;5;183m\u001b[38;5;147m-\u001b[0m\u001b[38;5;183m\u001b[38;5;219m+\u001b[0m\u001b[38;5;183m\u001b[38;5;147m-\u001b[0m\u001b[38;5;183m\u001b[38;5;147m-\u001b[0m\u001b[38;5;183m\u001b[38;5;147m-\u001b[0m\u001b[38;5;183m\u001b[38;5;147m-\u001b[0m\u001b[38;5;183m\u001b[38;5;147m-\u001b[0m\u001b[38;5;183m\u001b[38;5;147m-\u001b[0m\u001b[38;5;183m\u001b[38;5;147m-\u001b[0m\u001b[38;5;183m\u001b[38;5;147m-\u001b[0m\u001b[38;5;183m\u001b[38;5;147m-\u001b[0m\u001b[38;5;183m\u001b[38;5;147m-\u001b[0m\u001b[38;5;183m\u001b[38;5;147m-\u001b[0m\u001b[38;5;183m\u001b[38;5;147m-\u001b[0m\u001b[38;5;183m\u001b[38;5;147m-\u001b[0m\u001b[38;5;183m\u001b[38;5;147m-\u001b[0m\u001b[38;5;183m\u001b[38;5;147m-\u001b[0m\u001b[38;5;183m\u001b[38;5;147m-\u001b[0m\u001b[38;5;183m\u001b[38;5;147m-\u001b[0m\u001b[38;5;183m\u001b[38;5;147m-\u001b[0m\u001b[38;5;183m\u001b[38;5;147m-\u001b[0m\u001b[38;5;183m\u001b[38;5;147m-\u001b[0m\u001b[38;5;183m\u001b[38;5;147m-\u001b[0m\u001b[38;5;183m\u001b[38;5;147m-\u001b[0m\u001b[38;5;183m\u001b[38;5;147m-\u001b[0m\u001b[38;5;183m\u001b[38;5;147m-\u001b[0m\u001b[38;5;183m\u001b[38;5;147m-\u001b[0m\u001b[38;5;183m\u001b[38;5;147m-\u001b[0m\u001b[38;5;183m\u001b[38;5;147m-\u001b[0m\u001b[38;5;183m\u001b[38;5;147m-\u001b[0m\u001b[38;5;183m\u001b[38;5;147m-\u001b[0m\u001b[38;5;183m\u001b[38;5;147m-\u001b[0m\u001b[38;5;183m\u001b[38;5;147m-\u001b[0m\u001b[38;5;183m\u001b[38;5;147m-\u001b[0m\u001b[38;5;183m\u001b[38;5;147m-\u001b[0m\u001b[38;5;183m\u001b[38;5;147m-\u001b[0m\u001b[38;5;183m\u001b[38;5;147m-\u001b[0m\u001b[38;5;183m\u001b[38;5;147m-\u001b[0m\u001b[38;5;183m\u001b[38;5;147m-\u001b[0m\u001b[38;5;183m\u001b[38;5;147m-\u001b[0m\u001b[38;5;183m\u001b[38;5;147m-\u001b[0m\u001b[38;5;183m\u001b[38;5;147m-\u001b[0m\u001b[38;5;183m\u001b[38;5;147m-\u001b[0m\u001b[38;5;183m\u001b[38;5;147m-\u001b[0m\u001b[38;5;183m\u001b[38;5;147m-\u001b[0m\u001b[38;5;183m\u001b[38;5;147m-\u001b[0m\u001b[38;5;183m\u001b[38;5;147m-\u001b[0m\u001b[38;5;183m\u001b[38;5;147m-\u001b[0m\u001b[38;5;183m\u001b[38;5;147m-\u001b[0m\u001b[38;5;183m\u001b[38;5;147m-\u001b[0m\u001b[38;5;183m\u001b[38;5;147m-\u001b[0m\u001b[38;5;183m\u001b[38;5;147m-\u001b[0m\u001b[38;5;183m\u001b[38;5;147m-\u001b[0m\u001b[38;5;183m\u001b[38;5;147m-\u001b[0m\u001b[38;5;183m\u001b[38;5;147m-\u001b[0m\u001b[38;5;183m\u001b[38;5;147m-\u001b[0m\u001b[38;5;183m\u001b[38;5;147m-\u001b[0m\u001b[38;5;183m\u001b[38;5;147m-\u001b[0m\u001b[38;5;183m\u001b[38;5;147m-\u001b[0m\u001b[38;5;183m\u001b[38;5;147m-\u001b[0m\u001b[38;5;183m\u001b[38;5;147m-\u001b[0m\u001b[38;5;183m\u001b[38;5;147m-\u001b[0m\u001b[38;5;183m\u001b[38;5;147m-\u001b[0m\u001b[38;5;183m\u001b[38;5;147m-\u001b[0m\u001b[38;5;183m\u001b[38;5;147m-\u001b[0m\u001b[38;5;183m\u001b[38;5;147m-\u001b[0m\u001b[38;5;183m\u001b[38;5;147m-\u001b[0m\u001b[38;5;183m\u001b[38;5;147m-\u001b[0m\u001b[38;5;183m\u001b[38;5;147m-\u001b[0m\u001b[38;5;183m\u001b[38;5;147m-\u001b[0m\u001b[38;5;183m\u001b[38;5;147m-\u001b[0m\u001b[38;5;183m\u001b[38;5;219m+\u001b[0m\u001b[38;5;183m\u001b[38;5;147m-\u001b[0m\u001b[38;5;183m\u001b[38;5;147m-\u001b[0m\u001b[38;5;183m\u001b[38;5;147m-\u001b[0m\u001b[38;5;183m\u001b[38;5;147m-\u001b[0m\u001b[38;5;183m\u001b[38;5;147m-\u001b[0m\u001b[38;5;183m\u001b[38;5;147m-\u001b[0m\u001b[38;5;183m\u001b[38;5;147m-\u001b[0m\u001b[38;5;183m\u001b[38;5;147m-\u001b[0m\u001b[38;5;183m\u001b[38;5;147m-\u001b[0m\u001b[38;5;183m\u001b[38;5;147m-\u001b[0m\u001b[38;5;183m\u001b[38;5;147m-\u001b[0m\u001b[38;5;183m\u001b[38;5;147m-\u001b[0m\u001b[38;5;183m\u001b[38;5;147m-\u001b[0m\u001b[38;5;183m\u001b[38;5;147m-\u001b[0m\u001b[38;5;183m\u001b[38;5;147m-\u001b[0m\u001b[38;5;183m\u001b[38;5;147m-\u001b[0m\u001b[38;5;183m\u001b[38;5;147m-\u001b[0m\u001b[38;5;183m\u001b[38;5;147m-\u001b[0m\u001b[38;5;183m\u001b[38;5;147m-\u001b[0m\u001b[38;5;183m\u001b[38;5;219m+\u001b[0m\u001b[38;5;183m\u001b[38;5;147m-\u001b[0m\u001b[38;5;183m\u001b[38;5;147m-\u001b[0m\u001b[38;5;183m\u001b[38;5;147m-\u001b[0m\u001b[38;5;183m\u001b[38;5;147m-\u001b[0m\u001b[38;5;183m\u001b[38;5;147m-\u001b[0m\u001b[38;5;183m\u001b[38;5;147m-\u001b[0m\u001b[38;5;183m\u001b[38;5;147m-\u001b[0m\u001b[38;5;183m\u001b[38;5;147m-\u001b[0m\u001b[38;5;183m\u001b[38;5;147m-\u001b[0m\u001b[38;5;183m\u001b[38;5;147m-\u001b[0m\u001b[38;5;183m\u001b[38;5;147m-\u001b[0m\u001b[38;5;183m\u001b[38;5;147m-\u001b[0m\u001b[38;5;183m\u001b[38;5;147m-\u001b[0m\u001b[38;5;183m\u001b[38;5;147m-\u001b[0m\u001b[38;5;183m\u001b[38;5;147m-\u001b[0m\u001b[38;5;183m\u001b[38;5;147m-\u001b[0m\u001b[38;5;183m\u001b[38;5;147m-\u001b[0m\u001b[38;5;183m\u001b[38;5;147m-\u001b[0m\u001b[38;5;183m\u001b[38;5;147m-\u001b[0m\u001b[38;5;183m\u001b[38;5;147m-\u001b[0m\u001b[38;5;183m\u001b[38;5;147m-\u001b[0m\u001b[38;5;183m\u001b[38;5;219m+\u001b[0m\u001b[38;5;183m\u001b[38;5;147m-\u001b[0m\u001b[38;5;183m\u001b[38;5;147m-\u001b[0m\u001b[38;5;183m\u001b[38;5;147m-\u001b[0m\u001b[38;5;183m\u001b[38;5;147m-\u001b[0m\u001b[38;5;183m\u001b[38;5;147m-\u001b[0m\u001b[38;5;183m\u001b[38;5;147m-\u001b[0m\u001b[38;5;183m\u001b[38;5;147m-\u001b[0m\u001b[38;5;183m\u001b[38;5;147m-\u001b[0m\u001b[38;5;183m\u001b[38;5;147m-\u001b[0m\u001b[38;5;183m\u001b[38;5;147m-\u001b[0m\u001b[38;5;183m\u001b[38;5;147m-\u001b[0m\u001b[38;5;183m\u001b[38;5;147m-\u001b[0m\u001b[38;5;183m\u001b[38;5;147m-\u001b[0m\u001b[38;5;183m\u001b[38;5;147m-\u001b[0m\u001b[38;5;183m\u001b[38;5;147m-\u001b[0m\u001b[38;5;183m\u001b[38;5;147m-\u001b[0m\u001b[38;5;183m\u001b[38;5;147m-\u001b[0m\u001b[38;5;183m\u001b[38;5;147m-\u001b[0m\u001b[38;5;183m\u001b[38;5;147m-\u001b[0m\u001b[38;5;183m\u001b[38;5;147m-\u001b[0m\u001b[38;5;183m\u001b[38;5;219m+\u001b[0m\u001b[38;5;183m\u001b[38;5;147m-\u001b[0m\u001b[38;5;183m\u001b[38;5;147m-\u001b[0m\u001b[38;5;183m\u001b[38;5;147m-\u001b[0m\u001b[38;5;183m\u001b[38;5;147m-\u001b[0m\u001b[38;5;183m\u001b[38;5;147m-\u001b[0m\u001b[38;5;183m\u001b[38;5;147m-\u001b[0m\u001b[38;5;183m\u001b[38;5;147m-\u001b[0m\u001b[38;5;183m\u001b[38;5;147m-\u001b[0m\u001b[38;5;183m\u001b[38;5;147m-\u001b[0m\u001b[38;5;183m\u001b[38;5;147m-\u001b[0m\u001b[38;5;183m\u001b[38;5;147m-\u001b[0m\u001b[38;5;183m\u001b[38;5;147m-\u001b[0m\u001b[38;5;183m\u001b[38;5;147m-\u001b[0m\u001b[38;5;183m\u001b[38;5;147m-\u001b[0m\u001b[38;5;183m\u001b[38;5;147m-\u001b[0m\u001b[38;5;183m\u001b[38;5;147m-\u001b[0m\u001b[38;5;183m\u001b[38;5;147m-\u001b[0m\u001b[38;5;183m\u001b[38;5;147m-\u001b[0m\u001b[38;5;183m\u001b[38;5;147m-\u001b[0m\u001b[38;5;183m\u001b[38;5;147m-\u001b[0m\u001b[38;5;183m\u001b[38;5;147m-\u001b[0m\u001b[38;5;183m\u001b[38;5;219m+\u001b[0m\u001b[38;5;183m\u001b[38;5;147m-\u001b[0m\u001b[38;5;183m\u001b[38;5;147m-\u001b[0m\u001b[38;5;183m\u001b[38;5;147m-\u001b[0m\u001b[38;5;183m\u001b[38;5;147m-\u001b[0m\u001b[38;5;183m\u001b[38;5;147m-\u001b[0m\u001b[38;5;183m\u001b[38;5;147m-\u001b[0m\u001b[38;5;183m\u001b[38;5;147m-\u001b[0m\u001b[38;5;183m\u001b[38;5;147m-\u001b[0m\u001b[38;5;183m\u001b[38;5;147m-\u001b[0m\u001b[38;5;183m\u001b[38;5;147m-\u001b[0m\u001b[38;5;183m\u001b[38;5;147m-\u001b[0m\u001b[38;5;183m\u001b[38;5;147m-\u001b[0m\u001b[38;5;183m\u001b[38;5;147m-\u001b[0m\u001b[38;5;183m\u001b[38;5;147m-\u001b[0m\u001b[38;5;183m\u001b[38;5;147m-\u001b[0m\u001b[38;5;183m\u001b[38;5;147m-\u001b[0m\u001b[38;5;183m\u001b[38;5;147m-\u001b[0m\u001b[38;5;183m\u001b[38;5;147m-\u001b[0m\u001b[38;5;183m\u001b[38;5;147m-\u001b[0m\u001b[38;5;183m\u001b[38;5;147m-\u001b[0m\u001b[38;5;183m\u001b[38;5;147m-\u001b[0m\u001b[38;5;183m\u001b[38;5;219m+\u001b[0m\u001b[38;5;183m\n",
      "\u001b[35m|\u001b[0m\u001b[38;5;183m Algo \u001b[35m|\u001b[0m\u001b[38;5;183m                              Vectorizer                             \u001b[35m|\u001b[0m\u001b[38;5;183m   Vectorizer ID   \u001b[35m|\u001b[0m\u001b[38;5;183m       Macro f1      \u001b[35m|\u001b[0m\u001b[38;5;183m      Accuracy      \u001b[35m|\u001b[0m\u001b[38;5;183m      Precision      \u001b[35m|\u001b[0m\u001b[38;5;183m        Rappel       \u001b[35m|\u001b[0m\u001b[38;5;183m\n",
      "\u001b[38;5;219m+\u001b[0m\u001b[38;5;183m\u001b[38;5;147m-\u001b[0m\u001b[38;5;183m\u001b[38;5;147m-\u001b[0m\u001b[38;5;183m\u001b[38;5;147m-\u001b[0m\u001b[38;5;183m\u001b[38;5;147m-\u001b[0m\u001b[38;5;183m\u001b[38;5;147m-\u001b[0m\u001b[38;5;183m\u001b[38;5;147m-\u001b[0m\u001b[38;5;183m\u001b[38;5;219m+\u001b[0m\u001b[38;5;183m\u001b[38;5;147m-\u001b[0m\u001b[38;5;183m\u001b[38;5;147m-\u001b[0m\u001b[38;5;183m\u001b[38;5;147m-\u001b[0m\u001b[38;5;183m\u001b[38;5;147m-\u001b[0m\u001b[38;5;183m\u001b[38;5;147m-\u001b[0m\u001b[38;5;183m\u001b[38;5;147m-\u001b[0m\u001b[38;5;183m\u001b[38;5;147m-\u001b[0m\u001b[38;5;183m\u001b[38;5;147m-\u001b[0m\u001b[38;5;183m\u001b[38;5;147m-\u001b[0m\u001b[38;5;183m\u001b[38;5;147m-\u001b[0m\u001b[38;5;183m\u001b[38;5;147m-\u001b[0m\u001b[38;5;183m\u001b[38;5;147m-\u001b[0m\u001b[38;5;183m\u001b[38;5;147m-\u001b[0m\u001b[38;5;183m\u001b[38;5;147m-\u001b[0m\u001b[38;5;183m\u001b[38;5;147m-\u001b[0m\u001b[38;5;183m\u001b[38;5;147m-\u001b[0m\u001b[38;5;183m\u001b[38;5;147m-\u001b[0m\u001b[38;5;183m\u001b[38;5;147m-\u001b[0m\u001b[38;5;183m\u001b[38;5;147m-\u001b[0m\u001b[38;5;183m\u001b[38;5;147m-\u001b[0m\u001b[38;5;183m\u001b[38;5;147m-\u001b[0m\u001b[38;5;183m\u001b[38;5;147m-\u001b[0m\u001b[38;5;183m\u001b[38;5;147m-\u001b[0m\u001b[38;5;183m\u001b[38;5;147m-\u001b[0m\u001b[38;5;183m\u001b[38;5;147m-\u001b[0m\u001b[38;5;183m\u001b[38;5;147m-\u001b[0m\u001b[38;5;183m\u001b[38;5;147m-\u001b[0m\u001b[38;5;183m\u001b[38;5;147m-\u001b[0m\u001b[38;5;183m\u001b[38;5;147m-\u001b[0m\u001b[38;5;183m\u001b[38;5;147m-\u001b[0m\u001b[38;5;183m\u001b[38;5;147m-\u001b[0m\u001b[38;5;183m\u001b[38;5;147m-\u001b[0m\u001b[38;5;183m\u001b[38;5;147m-\u001b[0m\u001b[38;5;183m\u001b[38;5;147m-\u001b[0m\u001b[38;5;183m\u001b[38;5;147m-\u001b[0m\u001b[38;5;183m\u001b[38;5;147m-\u001b[0m\u001b[38;5;183m\u001b[38;5;147m-\u001b[0m\u001b[38;5;183m\u001b[38;5;147m-\u001b[0m\u001b[38;5;183m\u001b[38;5;147m-\u001b[0m\u001b[38;5;183m\u001b[38;5;147m-\u001b[0m\u001b[38;5;183m\u001b[38;5;147m-\u001b[0m\u001b[38;5;183m\u001b[38;5;147m-\u001b[0m\u001b[38;5;183m\u001b[38;5;147m-\u001b[0m\u001b[38;5;183m\u001b[38;5;147m-\u001b[0m\u001b[38;5;183m\u001b[38;5;147m-\u001b[0m\u001b[38;5;183m\u001b[38;5;147m-\u001b[0m\u001b[38;5;183m\u001b[38;5;147m-\u001b[0m\u001b[38;5;183m\u001b[38;5;147m-\u001b[0m\u001b[38;5;183m\u001b[38;5;147m-\u001b[0m\u001b[38;5;183m\u001b[38;5;147m-\u001b[0m\u001b[38;5;183m\u001b[38;5;147m-\u001b[0m\u001b[38;5;183m\u001b[38;5;147m-\u001b[0m\u001b[38;5;183m\u001b[38;5;147m-\u001b[0m\u001b[38;5;183m\u001b[38;5;147m-\u001b[0m\u001b[38;5;183m\u001b[38;5;147m-\u001b[0m\u001b[38;5;183m\u001b[38;5;147m-\u001b[0m\u001b[38;5;183m\u001b[38;5;147m-\u001b[0m\u001b[38;5;183m\u001b[38;5;147m-\u001b[0m\u001b[38;5;183m\u001b[38;5;147m-\u001b[0m\u001b[38;5;183m\u001b[38;5;147m-\u001b[0m\u001b[38;5;183m\u001b[38;5;147m-\u001b[0m\u001b[38;5;183m\u001b[38;5;147m-\u001b[0m\u001b[38;5;183m\u001b[38;5;147m-\u001b[0m\u001b[38;5;183m\u001b[38;5;147m-\u001b[0m\u001b[38;5;183m\u001b[38;5;147m-\u001b[0m\u001b[38;5;183m\u001b[38;5;147m-\u001b[0m\u001b[38;5;183m\u001b[38;5;147m-\u001b[0m\u001b[38;5;183m\u001b[38;5;147m-\u001b[0m\u001b[38;5;183m\u001b[38;5;147m-\u001b[0m\u001b[38;5;183m\u001b[38;5;219m+\u001b[0m\u001b[38;5;183m\u001b[38;5;147m-\u001b[0m\u001b[38;5;183m\u001b[38;5;147m-\u001b[0m\u001b[38;5;183m\u001b[38;5;147m-\u001b[0m\u001b[38;5;183m\u001b[38;5;147m-\u001b[0m\u001b[38;5;183m\u001b[38;5;147m-\u001b[0m\u001b[38;5;183m\u001b[38;5;147m-\u001b[0m\u001b[38;5;183m\u001b[38;5;147m-\u001b[0m\u001b[38;5;183m\u001b[38;5;147m-\u001b[0m\u001b[38;5;183m\u001b[38;5;147m-\u001b[0m\u001b[38;5;183m\u001b[38;5;147m-\u001b[0m\u001b[38;5;183m\u001b[38;5;147m-\u001b[0m\u001b[38;5;183m\u001b[38;5;147m-\u001b[0m\u001b[38;5;183m\u001b[38;5;147m-\u001b[0m\u001b[38;5;183m\u001b[38;5;147m-\u001b[0m\u001b[38;5;183m\u001b[38;5;147m-\u001b[0m\u001b[38;5;183m\u001b[38;5;147m-\u001b[0m\u001b[38;5;183m\u001b[38;5;147m-\u001b[0m\u001b[38;5;183m\u001b[38;5;147m-\u001b[0m\u001b[38;5;183m\u001b[38;5;147m-\u001b[0m\u001b[38;5;183m\u001b[38;5;219m+\u001b[0m\u001b[38;5;183m\u001b[38;5;147m-\u001b[0m\u001b[38;5;183m\u001b[38;5;147m-\u001b[0m\u001b[38;5;183m\u001b[38;5;147m-\u001b[0m\u001b[38;5;183m\u001b[38;5;147m-\u001b[0m\u001b[38;5;183m\u001b[38;5;147m-\u001b[0m\u001b[38;5;183m\u001b[38;5;147m-\u001b[0m\u001b[38;5;183m\u001b[38;5;147m-\u001b[0m\u001b[38;5;183m\u001b[38;5;147m-\u001b[0m\u001b[38;5;183m\u001b[38;5;147m-\u001b[0m\u001b[38;5;183m\u001b[38;5;147m-\u001b[0m\u001b[38;5;183m\u001b[38;5;147m-\u001b[0m\u001b[38;5;183m\u001b[38;5;147m-\u001b[0m\u001b[38;5;183m\u001b[38;5;147m-\u001b[0m\u001b[38;5;183m\u001b[38;5;147m-\u001b[0m\u001b[38;5;183m\u001b[38;5;147m-\u001b[0m\u001b[38;5;183m\u001b[38;5;147m-\u001b[0m\u001b[38;5;183m\u001b[38;5;147m-\u001b[0m\u001b[38;5;183m\u001b[38;5;147m-\u001b[0m\u001b[38;5;183m\u001b[38;5;147m-\u001b[0m\u001b[38;5;183m\u001b[38;5;147m-\u001b[0m\u001b[38;5;183m\u001b[38;5;147m-\u001b[0m\u001b[38;5;183m\u001b[38;5;219m+\u001b[0m\u001b[38;5;183m\u001b[38;5;147m-\u001b[0m\u001b[38;5;183m\u001b[38;5;147m-\u001b[0m\u001b[38;5;183m\u001b[38;5;147m-\u001b[0m\u001b[38;5;183m\u001b[38;5;147m-\u001b[0m\u001b[38;5;183m\u001b[38;5;147m-\u001b[0m\u001b[38;5;183m\u001b[38;5;147m-\u001b[0m\u001b[38;5;183m\u001b[38;5;147m-\u001b[0m\u001b[38;5;183m\u001b[38;5;147m-\u001b[0m\u001b[38;5;183m\u001b[38;5;147m-\u001b[0m\u001b[38;5;183m\u001b[38;5;147m-\u001b[0m\u001b[38;5;183m\u001b[38;5;147m-\u001b[0m\u001b[38;5;183m\u001b[38;5;147m-\u001b[0m\u001b[38;5;183m\u001b[38;5;147m-\u001b[0m\u001b[38;5;183m\u001b[38;5;147m-\u001b[0m\u001b[38;5;183m\u001b[38;5;147m-\u001b[0m\u001b[38;5;183m\u001b[38;5;147m-\u001b[0m\u001b[38;5;183m\u001b[38;5;147m-\u001b[0m\u001b[38;5;183m\u001b[38;5;147m-\u001b[0m\u001b[38;5;183m\u001b[38;5;147m-\u001b[0m\u001b[38;5;183m\u001b[38;5;147m-\u001b[0m\u001b[38;5;183m\u001b[38;5;219m+\u001b[0m\u001b[38;5;183m\u001b[38;5;147m-\u001b[0m\u001b[38;5;183m\u001b[38;5;147m-\u001b[0m\u001b[38;5;183m\u001b[38;5;147m-\u001b[0m\u001b[38;5;183m\u001b[38;5;147m-\u001b[0m\u001b[38;5;183m\u001b[38;5;147m-\u001b[0m\u001b[38;5;183m\u001b[38;5;147m-\u001b[0m\u001b[38;5;183m\u001b[38;5;147m-\u001b[0m\u001b[38;5;183m\u001b[38;5;147m-\u001b[0m\u001b[38;5;183m\u001b[38;5;147m-\u001b[0m\u001b[38;5;183m\u001b[38;5;147m-\u001b[0m\u001b[38;5;183m\u001b[38;5;147m-\u001b[0m\u001b[38;5;183m\u001b[38;5;147m-\u001b[0m\u001b[38;5;183m\u001b[38;5;147m-\u001b[0m\u001b[38;5;183m\u001b[38;5;147m-\u001b[0m\u001b[38;5;183m\u001b[38;5;147m-\u001b[0m\u001b[38;5;183m\u001b[38;5;147m-\u001b[0m\u001b[38;5;183m\u001b[38;5;147m-\u001b[0m\u001b[38;5;183m\u001b[38;5;147m-\u001b[0m\u001b[38;5;183m\u001b[38;5;147m-\u001b[0m\u001b[38;5;183m\u001b[38;5;147m-\u001b[0m\u001b[38;5;183m\u001b[38;5;147m-\u001b[0m\u001b[38;5;183m\u001b[38;5;219m+\u001b[0m\u001b[38;5;183m\u001b[38;5;147m-\u001b[0m\u001b[38;5;183m\u001b[38;5;147m-\u001b[0m\u001b[38;5;183m\u001b[38;5;147m-\u001b[0m\u001b[38;5;183m\u001b[38;5;147m-\u001b[0m\u001b[38;5;183m\u001b[38;5;147m-\u001b[0m\u001b[38;5;183m\u001b[38;5;147m-\u001b[0m\u001b[38;5;183m\u001b[38;5;147m-\u001b[0m\u001b[38;5;183m\u001b[38;5;147m-\u001b[0m\u001b[38;5;183m\u001b[38;5;147m-\u001b[0m\u001b[38;5;183m\u001b[38;5;147m-\u001b[0m\u001b[38;5;183m\u001b[38;5;147m-\u001b[0m\u001b[38;5;183m\u001b[38;5;147m-\u001b[0m\u001b[38;5;183m\u001b[38;5;147m-\u001b[0m\u001b[38;5;183m\u001b[38;5;147m-\u001b[0m\u001b[38;5;183m\u001b[38;5;147m-\u001b[0m\u001b[38;5;183m\u001b[38;5;147m-\u001b[0m\u001b[38;5;183m\u001b[38;5;147m-\u001b[0m\u001b[38;5;183m\u001b[38;5;147m-\u001b[0m\u001b[38;5;183m\u001b[38;5;147m-\u001b[0m\u001b[38;5;183m\u001b[38;5;147m-\u001b[0m\u001b[38;5;183m\u001b[38;5;147m-\u001b[0m\u001b[38;5;183m\u001b[38;5;219m+\u001b[0m\u001b[38;5;183m\n",
      "\u001b[35m|\u001b[0m\u001b[38;5;183m knn  \u001b[35m|\u001b[0m\u001b[38;5;183m           TfidfVectorizer(max_df=0.5, ngram_range=(1, 2))           \u001b[35m|\u001b[0m\u001b[38;5;183m  TfidfVectorizer5 \u001b[35m|\u001b[0m\u001b[38;5;183m  0.2720166812189435 \u001b[35m|\u001b[0m\u001b[38;5;183m 0.3496326905417815 \u001b[35m|\u001b[0m\u001b[38;5;183m  0.2888261686967606 \u001b[35m|\u001b[0m\u001b[38;5;183m  0.2759121644368684 \u001b[35m|\u001b[0m\u001b[38;5;183m\n",
      "\u001b[35m|\u001b[0m\u001b[38;5;183m knn  \u001b[35m|\u001b[0m\u001b[38;5;183m TfidfVectorizer(max_df=0.1, max_features=15000, ngram_range=(1, 2)) \u001b[35m|\u001b[0m\u001b[38;5;183m  TfidfVectorizer9 \u001b[35m|\u001b[0m\u001b[38;5;183m  0.2701353103491367 \u001b[35m|\u001b[0m\u001b[38;5;183m 0.3442378328741965 \u001b[35m|\u001b[0m\u001b[38;5;183m 0.28439860944708584 \u001b[35m|\u001b[0m\u001b[38;5;183m 0.27345252981233303 \u001b[35m|\u001b[0m\u001b[38;5;183m\n",
      "\u001b[35m|\u001b[0m\u001b[38;5;183m knn  \u001b[35m|\u001b[0m\u001b[38;5;183m           TfidfVectorizer(max_df=0.1, ngram_range=(1, 2))           \u001b[35m|\u001b[0m\u001b[38;5;183m TfidfVectorizer11 \u001b[35m|\u001b[0m\u001b[38;5;183m 0.26702872943049843 \u001b[35m|\u001b[0m\u001b[38;5;183m 0.344811753902663  \u001b[35m|\u001b[0m\u001b[38;5;183m 0.28191131274633696 \u001b[35m|\u001b[0m\u001b[38;5;183m  0.271615656295467  \u001b[35m|\u001b[0m\u001b[38;5;183m\n",
      "\u001b[38;5;219m+\u001b[0m\u001b[38;5;183m\u001b[38;5;147m-\u001b[0m\u001b[38;5;183m\u001b[38;5;147m-\u001b[0m\u001b[38;5;183m\u001b[38;5;147m-\u001b[0m\u001b[38;5;183m\u001b[38;5;147m-\u001b[0m\u001b[38;5;183m\u001b[38;5;147m-\u001b[0m\u001b[38;5;183m\u001b[38;5;147m-\u001b[0m\u001b[38;5;183m\u001b[38;5;219m+\u001b[0m\u001b[38;5;183m\u001b[38;5;147m-\u001b[0m\u001b[38;5;183m\u001b[38;5;147m-\u001b[0m\u001b[38;5;183m\u001b[38;5;147m-\u001b[0m\u001b[38;5;183m\u001b[38;5;147m-\u001b[0m\u001b[38;5;183m\u001b[38;5;147m-\u001b[0m\u001b[38;5;183m\u001b[38;5;147m-\u001b[0m\u001b[38;5;183m\u001b[38;5;147m-\u001b[0m\u001b[38;5;183m\u001b[38;5;147m-\u001b[0m\u001b[38;5;183m\u001b[38;5;147m-\u001b[0m\u001b[38;5;183m\u001b[38;5;147m-\u001b[0m\u001b[38;5;183m\u001b[38;5;147m-\u001b[0m\u001b[38;5;183m\u001b[38;5;147m-\u001b[0m\u001b[38;5;183m\u001b[38;5;147m-\u001b[0m\u001b[38;5;183m\u001b[38;5;147m-\u001b[0m\u001b[38;5;183m\u001b[38;5;147m-\u001b[0m\u001b[38;5;183m\u001b[38;5;147m-\u001b[0m\u001b[38;5;183m\u001b[38;5;147m-\u001b[0m\u001b[38;5;183m\u001b[38;5;147m-\u001b[0m\u001b[38;5;183m\u001b[38;5;147m-\u001b[0m\u001b[38;5;183m\u001b[38;5;147m-\u001b[0m\u001b[38;5;183m\u001b[38;5;147m-\u001b[0m\u001b[38;5;183m\u001b[38;5;147m-\u001b[0m\u001b[38;5;183m\u001b[38;5;147m-\u001b[0m\u001b[38;5;183m\u001b[38;5;147m-\u001b[0m\u001b[38;5;183m\u001b[38;5;147m-\u001b[0m\u001b[38;5;183m\u001b[38;5;147m-\u001b[0m\u001b[38;5;183m\u001b[38;5;147m-\u001b[0m\u001b[38;5;183m\u001b[38;5;147m-\u001b[0m\u001b[38;5;183m\u001b[38;5;147m-\u001b[0m\u001b[38;5;183m\u001b[38;5;147m-\u001b[0m\u001b[38;5;183m\u001b[38;5;147m-\u001b[0m\u001b[38;5;183m\u001b[38;5;147m-\u001b[0m\u001b[38;5;183m\u001b[38;5;147m-\u001b[0m\u001b[38;5;183m\u001b[38;5;147m-\u001b[0m\u001b[38;5;183m\u001b[38;5;147m-\u001b[0m\u001b[38;5;183m\u001b[38;5;147m-\u001b[0m\u001b[38;5;183m\u001b[38;5;147m-\u001b[0m\u001b[38;5;183m\u001b[38;5;147m-\u001b[0m\u001b[38;5;183m\u001b[38;5;147m-\u001b[0m\u001b[38;5;183m\u001b[38;5;147m-\u001b[0m\u001b[38;5;183m\u001b[38;5;147m-\u001b[0m\u001b[38;5;183m\u001b[38;5;147m-\u001b[0m\u001b[38;5;183m\u001b[38;5;147m-\u001b[0m\u001b[38;5;183m\u001b[38;5;147m-\u001b[0m\u001b[38;5;183m\u001b[38;5;147m-\u001b[0m\u001b[38;5;183m\u001b[38;5;147m-\u001b[0m\u001b[38;5;183m\u001b[38;5;147m-\u001b[0m\u001b[38;5;183m\u001b[38;5;147m-\u001b[0m\u001b[38;5;183m\u001b[38;5;147m-\u001b[0m\u001b[38;5;183m\u001b[38;5;147m-\u001b[0m\u001b[38;5;183m\u001b[38;5;147m-\u001b[0m\u001b[38;5;183m\u001b[38;5;147m-\u001b[0m\u001b[38;5;183m\u001b[38;5;147m-\u001b[0m\u001b[38;5;183m\u001b[38;5;147m-\u001b[0m\u001b[38;5;183m\u001b[38;5;147m-\u001b[0m\u001b[38;5;183m\u001b[38;5;147m-\u001b[0m\u001b[38;5;183m\u001b[38;5;147m-\u001b[0m\u001b[38;5;183m\u001b[38;5;147m-\u001b[0m\u001b[38;5;183m\u001b[38;5;147m-\u001b[0m\u001b[38;5;183m\u001b[38;5;147m-\u001b[0m\u001b[38;5;183m\u001b[38;5;147m-\u001b[0m\u001b[38;5;183m\u001b[38;5;147m-\u001b[0m\u001b[38;5;183m\u001b[38;5;147m-\u001b[0m\u001b[38;5;183m\u001b[38;5;147m-\u001b[0m\u001b[38;5;183m\u001b[38;5;147m-\u001b[0m\u001b[38;5;183m\u001b[38;5;147m-\u001b[0m\u001b[38;5;183m\u001b[38;5;147m-\u001b[0m\u001b[38;5;183m\u001b[38;5;147m-\u001b[0m\u001b[38;5;183m\u001b[38;5;147m-\u001b[0m\u001b[38;5;183m\u001b[38;5;219m+\u001b[0m\u001b[38;5;183m\u001b[38;5;147m-\u001b[0m\u001b[38;5;183m\u001b[38;5;147m-\u001b[0m\u001b[38;5;183m\u001b[38;5;147m-\u001b[0m\u001b[38;5;183m\u001b[38;5;147m-\u001b[0m\u001b[38;5;183m\u001b[38;5;147m-\u001b[0m\u001b[38;5;183m\u001b[38;5;147m-\u001b[0m\u001b[38;5;183m\u001b[38;5;147m-\u001b[0m\u001b[38;5;183m\u001b[38;5;147m-\u001b[0m\u001b[38;5;183m\u001b[38;5;147m-\u001b[0m\u001b[38;5;183m\u001b[38;5;147m-\u001b[0m\u001b[38;5;183m\u001b[38;5;147m-\u001b[0m\u001b[38;5;183m\u001b[38;5;147m-\u001b[0m\u001b[38;5;183m\u001b[38;5;147m-\u001b[0m\u001b[38;5;183m\u001b[38;5;147m-\u001b[0m\u001b[38;5;183m\u001b[38;5;147m-\u001b[0m\u001b[38;5;183m\u001b[38;5;147m-\u001b[0m\u001b[38;5;183m\u001b[38;5;147m-\u001b[0m\u001b[38;5;183m\u001b[38;5;147m-\u001b[0m\u001b[38;5;183m\u001b[38;5;147m-\u001b[0m\u001b[38;5;183m\u001b[38;5;219m+\u001b[0m\u001b[38;5;183m\u001b[38;5;147m-\u001b[0m\u001b[38;5;183m\u001b[38;5;147m-\u001b[0m\u001b[38;5;183m\u001b[38;5;147m-\u001b[0m\u001b[38;5;183m\u001b[38;5;147m-\u001b[0m\u001b[38;5;183m\u001b[38;5;147m-\u001b[0m\u001b[38;5;183m\u001b[38;5;147m-\u001b[0m\u001b[38;5;183m\u001b[38;5;147m-\u001b[0m\u001b[38;5;183m\u001b[38;5;147m-\u001b[0m\u001b[38;5;183m\u001b[38;5;147m-\u001b[0m\u001b[38;5;183m\u001b[38;5;147m-\u001b[0m\u001b[38;5;183m\u001b[38;5;147m-\u001b[0m\u001b[38;5;183m\u001b[38;5;147m-\u001b[0m\u001b[38;5;183m\u001b[38;5;147m-\u001b[0m\u001b[38;5;183m\u001b[38;5;147m-\u001b[0m\u001b[38;5;183m\u001b[38;5;147m-\u001b[0m\u001b[38;5;183m\u001b[38;5;147m-\u001b[0m\u001b[38;5;183m\u001b[38;5;147m-\u001b[0m\u001b[38;5;183m\u001b[38;5;147m-\u001b[0m\u001b[38;5;183m\u001b[38;5;147m-\u001b[0m\u001b[38;5;183m\u001b[38;5;147m-\u001b[0m\u001b[38;5;183m\u001b[38;5;147m-\u001b[0m\u001b[38;5;183m\u001b[38;5;219m+\u001b[0m\u001b[38;5;183m\u001b[38;5;147m-\u001b[0m\u001b[38;5;183m\u001b[38;5;147m-\u001b[0m\u001b[38;5;183m\u001b[38;5;147m-\u001b[0m\u001b[38;5;183m\u001b[38;5;147m-\u001b[0m\u001b[38;5;183m\u001b[38;5;147m-\u001b[0m\u001b[38;5;183m\u001b[38;5;147m-\u001b[0m\u001b[38;5;183m\u001b[38;5;147m-\u001b[0m\u001b[38;5;183m\u001b[38;5;147m-\u001b[0m\u001b[38;5;183m\u001b[38;5;147m-\u001b[0m\u001b[38;5;183m\u001b[38;5;147m-\u001b[0m\u001b[38;5;183m\u001b[38;5;147m-\u001b[0m\u001b[38;5;183m\u001b[38;5;147m-\u001b[0m\u001b[38;5;183m\u001b[38;5;147m-\u001b[0m\u001b[38;5;183m\u001b[38;5;147m-\u001b[0m\u001b[38;5;183m\u001b[38;5;147m-\u001b[0m\u001b[38;5;183m\u001b[38;5;147m-\u001b[0m\u001b[38;5;183m\u001b[38;5;147m-\u001b[0m\u001b[38;5;183m\u001b[38;5;147m-\u001b[0m\u001b[38;5;183m\u001b[38;5;147m-\u001b[0m\u001b[38;5;183m\u001b[38;5;147m-\u001b[0m\u001b[38;5;183m\u001b[38;5;219m+\u001b[0m\u001b[38;5;183m\u001b[38;5;147m-\u001b[0m\u001b[38;5;183m\u001b[38;5;147m-\u001b[0m\u001b[38;5;183m\u001b[38;5;147m-\u001b[0m\u001b[38;5;183m\u001b[38;5;147m-\u001b[0m\u001b[38;5;183m\u001b[38;5;147m-\u001b[0m\u001b[38;5;183m\u001b[38;5;147m-\u001b[0m\u001b[38;5;183m\u001b[38;5;147m-\u001b[0m\u001b[38;5;183m\u001b[38;5;147m-\u001b[0m\u001b[38;5;183m\u001b[38;5;147m-\u001b[0m\u001b[38;5;183m\u001b[38;5;147m-\u001b[0m\u001b[38;5;183m\u001b[38;5;147m-\u001b[0m\u001b[38;5;183m\u001b[38;5;147m-\u001b[0m\u001b[38;5;183m\u001b[38;5;147m-\u001b[0m\u001b[38;5;183m\u001b[38;5;147m-\u001b[0m\u001b[38;5;183m\u001b[38;5;147m-\u001b[0m\u001b[38;5;183m\u001b[38;5;147m-\u001b[0m\u001b[38;5;183m\u001b[38;5;147m-\u001b[0m\u001b[38;5;183m\u001b[38;5;147m-\u001b[0m\u001b[38;5;183m\u001b[38;5;147m-\u001b[0m\u001b[38;5;183m\u001b[38;5;147m-\u001b[0m\u001b[38;5;183m\u001b[38;5;147m-\u001b[0m\u001b[38;5;183m\u001b[38;5;219m+\u001b[0m\u001b[38;5;183m\u001b[38;5;147m-\u001b[0m\u001b[38;5;183m\u001b[38;5;147m-\u001b[0m\u001b[38;5;183m\u001b[38;5;147m-\u001b[0m\u001b[38;5;183m\u001b[38;5;147m-\u001b[0m\u001b[38;5;183m\u001b[38;5;147m-\u001b[0m\u001b[38;5;183m\u001b[38;5;147m-\u001b[0m\u001b[38;5;183m\u001b[38;5;147m-\u001b[0m\u001b[38;5;183m\u001b[38;5;147m-\u001b[0m\u001b[38;5;183m\u001b[38;5;147m-\u001b[0m\u001b[38;5;183m\u001b[38;5;147m-\u001b[0m\u001b[38;5;183m\u001b[38;5;147m-\u001b[0m\u001b[38;5;183m\u001b[38;5;147m-\u001b[0m\u001b[38;5;183m\u001b[38;5;147m-\u001b[0m\u001b[38;5;183m\u001b[38;5;147m-\u001b[0m\u001b[38;5;183m\u001b[38;5;147m-\u001b[0m\u001b[38;5;183m\u001b[38;5;147m-\u001b[0m\u001b[38;5;183m\u001b[38;5;147m-\u001b[0m\u001b[38;5;183m\u001b[38;5;147m-\u001b[0m\u001b[38;5;183m\u001b[38;5;147m-\u001b[0m\u001b[38;5;183m\u001b[38;5;147m-\u001b[0m\u001b[38;5;183m\u001b[38;5;147m-\u001b[0m\u001b[38;5;183m\u001b[38;5;219m+\u001b[0m\u001b[38;5;183m\u001b[0m\n",
      "\u001b[38;5;219m+\u001b[0m\u001b[38;5;183m\u001b[38;5;147m-\u001b[0m\u001b[38;5;183m\u001b[38;5;147m-\u001b[0m\u001b[38;5;183m\u001b[38;5;147m-\u001b[0m\u001b[38;5;183m\u001b[38;5;147m-\u001b[0m\u001b[38;5;183m\u001b[38;5;147m-\u001b[0m\u001b[38;5;183m\u001b[38;5;147m-\u001b[0m\u001b[38;5;183m\u001b[38;5;219m+\u001b[0m\u001b[38;5;183m\u001b[38;5;147m-\u001b[0m\u001b[38;5;183m\u001b[38;5;147m-\u001b[0m\u001b[38;5;183m\u001b[38;5;147m-\u001b[0m\u001b[38;5;183m\u001b[38;5;147m-\u001b[0m\u001b[38;5;183m\u001b[38;5;147m-\u001b[0m\u001b[38;5;183m\u001b[38;5;147m-\u001b[0m\u001b[38;5;183m\u001b[38;5;147m-\u001b[0m\u001b[38;5;183m\u001b[38;5;147m-\u001b[0m\u001b[38;5;183m\u001b[38;5;147m-\u001b[0m\u001b[38;5;183m\u001b[38;5;147m-\u001b[0m\u001b[38;5;183m\u001b[38;5;147m-\u001b[0m\u001b[38;5;183m\u001b[38;5;147m-\u001b[0m\u001b[38;5;183m\u001b[38;5;147m-\u001b[0m\u001b[38;5;183m\u001b[38;5;147m-\u001b[0m\u001b[38;5;183m\u001b[38;5;147m-\u001b[0m\u001b[38;5;183m\u001b[38;5;147m-\u001b[0m\u001b[38;5;183m\u001b[38;5;147m-\u001b[0m\u001b[38;5;183m\u001b[38;5;147m-\u001b[0m\u001b[38;5;183m\u001b[38;5;147m-\u001b[0m\u001b[38;5;183m\u001b[38;5;147m-\u001b[0m\u001b[38;5;183m\u001b[38;5;147m-\u001b[0m\u001b[38;5;183m\u001b[38;5;147m-\u001b[0m\u001b[38;5;183m\u001b[38;5;147m-\u001b[0m\u001b[38;5;183m\u001b[38;5;147m-\u001b[0m\u001b[38;5;183m\u001b[38;5;147m-\u001b[0m\u001b[38;5;183m\u001b[38;5;147m-\u001b[0m\u001b[38;5;183m\u001b[38;5;147m-\u001b[0m\u001b[38;5;183m\u001b[38;5;147m-\u001b[0m\u001b[38;5;183m\u001b[38;5;147m-\u001b[0m\u001b[38;5;183m\u001b[38;5;147m-\u001b[0m\u001b[38;5;183m\u001b[38;5;147m-\u001b[0m\u001b[38;5;183m\u001b[38;5;147m-\u001b[0m\u001b[38;5;183m\u001b[38;5;147m-\u001b[0m\u001b[38;5;183m\u001b[38;5;147m-\u001b[0m\u001b[38;5;183m\u001b[38;5;147m-\u001b[0m\u001b[38;5;183m\u001b[38;5;147m-\u001b[0m\u001b[38;5;183m\u001b[38;5;147m-\u001b[0m\u001b[38;5;183m\u001b[38;5;147m-\u001b[0m\u001b[38;5;183m\u001b[38;5;147m-\u001b[0m\u001b[38;5;183m\u001b[38;5;147m-\u001b[0m\u001b[38;5;183m\u001b[38;5;147m-\u001b[0m\u001b[38;5;183m\u001b[38;5;147m-\u001b[0m\u001b[38;5;183m\u001b[38;5;147m-\u001b[0m\u001b[38;5;183m\u001b[38;5;147m-\u001b[0m\u001b[38;5;183m\u001b[38;5;147m-\u001b[0m\u001b[38;5;183m\u001b[38;5;147m-\u001b[0m\u001b[38;5;183m\u001b[38;5;147m-\u001b[0m\u001b[38;5;183m\u001b[38;5;147m-\u001b[0m\u001b[38;5;183m\u001b[38;5;147m-\u001b[0m\u001b[38;5;183m\u001b[38;5;147m-\u001b[0m\u001b[38;5;183m\u001b[38;5;147m-\u001b[0m\u001b[38;5;183m\u001b[38;5;147m-\u001b[0m\u001b[38;5;183m\u001b[38;5;147m-\u001b[0m\u001b[38;5;183m\u001b[38;5;147m-\u001b[0m\u001b[38;5;183m\u001b[38;5;147m-\u001b[0m\u001b[38;5;183m\u001b[38;5;147m-\u001b[0m\u001b[38;5;183m\u001b[38;5;147m-\u001b[0m\u001b[38;5;183m\u001b[38;5;147m-\u001b[0m\u001b[38;5;183m\u001b[38;5;147m-\u001b[0m\u001b[38;5;183m\u001b[38;5;147m-\u001b[0m\u001b[38;5;183m\u001b[38;5;147m-\u001b[0m\u001b[38;5;183m\u001b[38;5;147m-\u001b[0m\u001b[38;5;183m\u001b[38;5;147m-\u001b[0m\u001b[38;5;183m\u001b[38;5;147m-\u001b[0m\u001b[38;5;183m\u001b[38;5;147m-\u001b[0m\u001b[38;5;183m\u001b[38;5;147m-\u001b[0m\u001b[38;5;183m\u001b[38;5;147m-\u001b[0m\u001b[38;5;183m\u001b[38;5;147m-\u001b[0m\u001b[38;5;183m\u001b[38;5;147m-\u001b[0m\u001b[38;5;183m\u001b[38;5;219m+\u001b[0m\u001b[38;5;183m\u001b[38;5;147m-\u001b[0m\u001b[38;5;183m\u001b[38;5;147m-\u001b[0m\u001b[38;5;183m\u001b[38;5;147m-\u001b[0m\u001b[38;5;183m\u001b[38;5;147m-\u001b[0m\u001b[38;5;183m\u001b[38;5;147m-\u001b[0m\u001b[38;5;183m\u001b[38;5;147m-\u001b[0m\u001b[38;5;183m\u001b[38;5;147m-\u001b[0m\u001b[38;5;183m\u001b[38;5;147m-\u001b[0m\u001b[38;5;183m\u001b[38;5;147m-\u001b[0m\u001b[38;5;183m\u001b[38;5;147m-\u001b[0m\u001b[38;5;183m\u001b[38;5;147m-\u001b[0m\u001b[38;5;183m\u001b[38;5;147m-\u001b[0m\u001b[38;5;183m\u001b[38;5;147m-\u001b[0m\u001b[38;5;183m\u001b[38;5;147m-\u001b[0m\u001b[38;5;183m\u001b[38;5;147m-\u001b[0m\u001b[38;5;183m\u001b[38;5;147m-\u001b[0m\u001b[38;5;183m\u001b[38;5;147m-\u001b[0m\u001b[38;5;183m\u001b[38;5;147m-\u001b[0m\u001b[38;5;183m\u001b[38;5;219m+\u001b[0m\u001b[38;5;183m\u001b[38;5;147m-\u001b[0m\u001b[38;5;183m\u001b[38;5;147m-\u001b[0m\u001b[38;5;183m\u001b[38;5;147m-\u001b[0m\u001b[38;5;183m\u001b[38;5;147m-\u001b[0m\u001b[38;5;183m\u001b[38;5;147m-\u001b[0m\u001b[38;5;183m\u001b[38;5;147m-\u001b[0m\u001b[38;5;183m\u001b[38;5;147m-\u001b[0m\u001b[38;5;183m\u001b[38;5;147m-\u001b[0m\u001b[38;5;183m\u001b[38;5;147m-\u001b[0m\u001b[38;5;183m\u001b[38;5;147m-\u001b[0m\u001b[38;5;183m\u001b[38;5;147m-\u001b[0m\u001b[38;5;183m\u001b[38;5;147m-\u001b[0m\u001b[38;5;183m\u001b[38;5;147m-\u001b[0m\u001b[38;5;183m\u001b[38;5;147m-\u001b[0m\u001b[38;5;183m\u001b[38;5;147m-\u001b[0m\u001b[38;5;183m\u001b[38;5;147m-\u001b[0m\u001b[38;5;183m\u001b[38;5;147m-\u001b[0m\u001b[38;5;183m\u001b[38;5;147m-\u001b[0m\u001b[38;5;183m\u001b[38;5;147m-\u001b[0m\u001b[38;5;183m\u001b[38;5;147m-\u001b[0m\u001b[38;5;183m\u001b[38;5;147m-\u001b[0m\u001b[38;5;183m\u001b[38;5;219m+\u001b[0m\u001b[38;5;183m\u001b[38;5;147m-\u001b[0m\u001b[38;5;183m\u001b[38;5;147m-\u001b[0m\u001b[38;5;183m\u001b[38;5;147m-\u001b[0m\u001b[38;5;183m\u001b[38;5;147m-\u001b[0m\u001b[38;5;183m\u001b[38;5;147m-\u001b[0m\u001b[38;5;183m\u001b[38;5;147m-\u001b[0m\u001b[38;5;183m\u001b[38;5;147m-\u001b[0m\u001b[38;5;183m\u001b[38;5;147m-\u001b[0m\u001b[38;5;183m\u001b[38;5;147m-\u001b[0m\u001b[38;5;183m\u001b[38;5;147m-\u001b[0m\u001b[38;5;183m\u001b[38;5;147m-\u001b[0m\u001b[38;5;183m\u001b[38;5;147m-\u001b[0m\u001b[38;5;183m\u001b[38;5;147m-\u001b[0m\u001b[38;5;183m\u001b[38;5;147m-\u001b[0m\u001b[38;5;183m\u001b[38;5;147m-\u001b[0m\u001b[38;5;183m\u001b[38;5;147m-\u001b[0m\u001b[38;5;183m\u001b[38;5;147m-\u001b[0m\u001b[38;5;183m\u001b[38;5;147m-\u001b[0m\u001b[38;5;183m\u001b[38;5;147m-\u001b[0m\u001b[38;5;183m\u001b[38;5;147m-\u001b[0m\u001b[38;5;183m\u001b[38;5;147m-\u001b[0m\u001b[38;5;183m\u001b[38;5;219m+\u001b[0m\u001b[38;5;183m\u001b[38;5;147m-\u001b[0m\u001b[38;5;183m\u001b[38;5;147m-\u001b[0m\u001b[38;5;183m\u001b[38;5;147m-\u001b[0m\u001b[38;5;183m\u001b[38;5;147m-\u001b[0m\u001b[38;5;183m\u001b[38;5;147m-\u001b[0m\u001b[38;5;183m\u001b[38;5;147m-\u001b[0m\u001b[38;5;183m\u001b[38;5;147m-\u001b[0m\u001b[38;5;183m\u001b[38;5;147m-\u001b[0m\u001b[38;5;183m\u001b[38;5;147m-\u001b[0m\u001b[38;5;183m\u001b[38;5;147m-\u001b[0m\u001b[38;5;183m\u001b[38;5;147m-\u001b[0m\u001b[38;5;183m\u001b[38;5;147m-\u001b[0m\u001b[38;5;183m\u001b[38;5;147m-\u001b[0m\u001b[38;5;183m\u001b[38;5;147m-\u001b[0m\u001b[38;5;183m\u001b[38;5;147m-\u001b[0m\u001b[38;5;183m\u001b[38;5;147m-\u001b[0m\u001b[38;5;183m\u001b[38;5;147m-\u001b[0m\u001b[38;5;183m\u001b[38;5;147m-\u001b[0m\u001b[38;5;183m\u001b[38;5;147m-\u001b[0m\u001b[38;5;183m\u001b[38;5;147m-\u001b[0m\u001b[38;5;183m\u001b[38;5;147m-\u001b[0m\u001b[38;5;183m\u001b[38;5;219m+\u001b[0m\u001b[38;5;183m\u001b[38;5;147m-\u001b[0m\u001b[38;5;183m\u001b[38;5;147m-\u001b[0m\u001b[38;5;183m\u001b[38;5;147m-\u001b[0m\u001b[38;5;183m\u001b[38;5;147m-\u001b[0m\u001b[38;5;183m\u001b[38;5;147m-\u001b[0m\u001b[38;5;183m\u001b[38;5;147m-\u001b[0m\u001b[38;5;183m\u001b[38;5;147m-\u001b[0m\u001b[38;5;183m\u001b[38;5;147m-\u001b[0m\u001b[38;5;183m\u001b[38;5;147m-\u001b[0m\u001b[38;5;183m\u001b[38;5;147m-\u001b[0m\u001b[38;5;183m\u001b[38;5;147m-\u001b[0m\u001b[38;5;183m\u001b[38;5;147m-\u001b[0m\u001b[38;5;183m\u001b[38;5;147m-\u001b[0m\u001b[38;5;183m\u001b[38;5;147m-\u001b[0m\u001b[38;5;183m\u001b[38;5;147m-\u001b[0m\u001b[38;5;183m\u001b[38;5;147m-\u001b[0m\u001b[38;5;183m\u001b[38;5;147m-\u001b[0m\u001b[38;5;183m\u001b[38;5;147m-\u001b[0m\u001b[38;5;183m\u001b[38;5;147m-\u001b[0m\u001b[38;5;183m\u001b[38;5;147m-\u001b[0m\u001b[38;5;183m\u001b[38;5;219m+\u001b[0m\u001b[38;5;183m\n",
      "\u001b[35m|\u001b[0m\u001b[38;5;183m Algo \u001b[35m|\u001b[0m\u001b[38;5;183m                              Vectorizer                             \u001b[35m|\u001b[0m\u001b[38;5;183m  Vectorizer ID   \u001b[35m|\u001b[0m\u001b[38;5;183m       Macro f1      \u001b[35m|\u001b[0m\u001b[38;5;183m       Accuracy      \u001b[35m|\u001b[0m\u001b[38;5;183m      Precision      \u001b[35m|\u001b[0m\u001b[38;5;183m       Rappel       \u001b[35m|\u001b[0m\u001b[38;5;183m\n",
      "\u001b[38;5;219m+\u001b[0m\u001b[38;5;183m\u001b[38;5;147m-\u001b[0m\u001b[38;5;183m\u001b[38;5;147m-\u001b[0m\u001b[38;5;183m\u001b[38;5;147m-\u001b[0m\u001b[38;5;183m\u001b[38;5;147m-\u001b[0m\u001b[38;5;183m\u001b[38;5;147m-\u001b[0m\u001b[38;5;183m\u001b[38;5;147m-\u001b[0m\u001b[38;5;183m\u001b[38;5;219m+\u001b[0m\u001b[38;5;183m\u001b[38;5;147m-\u001b[0m\u001b[38;5;183m\u001b[38;5;147m-\u001b[0m\u001b[38;5;183m\u001b[38;5;147m-\u001b[0m\u001b[38;5;183m\u001b[38;5;147m-\u001b[0m\u001b[38;5;183m\u001b[38;5;147m-\u001b[0m\u001b[38;5;183m\u001b[38;5;147m-\u001b[0m\u001b[38;5;183m\u001b[38;5;147m-\u001b[0m\u001b[38;5;183m\u001b[38;5;147m-\u001b[0m\u001b[38;5;183m\u001b[38;5;147m-\u001b[0m\u001b[38;5;183m\u001b[38;5;147m-\u001b[0m\u001b[38;5;183m\u001b[38;5;147m-\u001b[0m\u001b[38;5;183m\u001b[38;5;147m-\u001b[0m\u001b[38;5;183m\u001b[38;5;147m-\u001b[0m\u001b[38;5;183m\u001b[38;5;147m-\u001b[0m\u001b[38;5;183m\u001b[38;5;147m-\u001b[0m\u001b[38;5;183m\u001b[38;5;147m-\u001b[0m\u001b[38;5;183m\u001b[38;5;147m-\u001b[0m\u001b[38;5;183m\u001b[38;5;147m-\u001b[0m\u001b[38;5;183m\u001b[38;5;147m-\u001b[0m\u001b[38;5;183m\u001b[38;5;147m-\u001b[0m\u001b[38;5;183m\u001b[38;5;147m-\u001b[0m\u001b[38;5;183m\u001b[38;5;147m-\u001b[0m\u001b[38;5;183m\u001b[38;5;147m-\u001b[0m\u001b[38;5;183m\u001b[38;5;147m-\u001b[0m\u001b[38;5;183m\u001b[38;5;147m-\u001b[0m\u001b[38;5;183m\u001b[38;5;147m-\u001b[0m\u001b[38;5;183m\u001b[38;5;147m-\u001b[0m\u001b[38;5;183m\u001b[38;5;147m-\u001b[0m\u001b[38;5;183m\u001b[38;5;147m-\u001b[0m\u001b[38;5;183m\u001b[38;5;147m-\u001b[0m\u001b[38;5;183m\u001b[38;5;147m-\u001b[0m\u001b[38;5;183m\u001b[38;5;147m-\u001b[0m\u001b[38;5;183m\u001b[38;5;147m-\u001b[0m\u001b[38;5;183m\u001b[38;5;147m-\u001b[0m\u001b[38;5;183m\u001b[38;5;147m-\u001b[0m\u001b[38;5;183m\u001b[38;5;147m-\u001b[0m\u001b[38;5;183m\u001b[38;5;147m-\u001b[0m\u001b[38;5;183m\u001b[38;5;147m-\u001b[0m\u001b[38;5;183m\u001b[38;5;147m-\u001b[0m\u001b[38;5;183m\u001b[38;5;147m-\u001b[0m\u001b[38;5;183m\u001b[38;5;147m-\u001b[0m\u001b[38;5;183m\u001b[38;5;147m-\u001b[0m\u001b[38;5;183m\u001b[38;5;147m-\u001b[0m\u001b[38;5;183m\u001b[38;5;147m-\u001b[0m\u001b[38;5;183m\u001b[38;5;147m-\u001b[0m\u001b[38;5;183m\u001b[38;5;147m-\u001b[0m\u001b[38;5;183m\u001b[38;5;147m-\u001b[0m\u001b[38;5;183m\u001b[38;5;147m-\u001b[0m\u001b[38;5;183m\u001b[38;5;147m-\u001b[0m\u001b[38;5;183m\u001b[38;5;147m-\u001b[0m\u001b[38;5;183m\u001b[38;5;147m-\u001b[0m\u001b[38;5;183m\u001b[38;5;147m-\u001b[0m\u001b[38;5;183m\u001b[38;5;147m-\u001b[0m\u001b[38;5;183m\u001b[38;5;147m-\u001b[0m\u001b[38;5;183m\u001b[38;5;147m-\u001b[0m\u001b[38;5;183m\u001b[38;5;147m-\u001b[0m\u001b[38;5;183m\u001b[38;5;147m-\u001b[0m\u001b[38;5;183m\u001b[38;5;147m-\u001b[0m\u001b[38;5;183m\u001b[38;5;147m-\u001b[0m\u001b[38;5;183m\u001b[38;5;147m-\u001b[0m\u001b[38;5;183m\u001b[38;5;147m-\u001b[0m\u001b[38;5;183m\u001b[38;5;147m-\u001b[0m\u001b[38;5;183m\u001b[38;5;147m-\u001b[0m\u001b[38;5;183m\u001b[38;5;147m-\u001b[0m\u001b[38;5;183m\u001b[38;5;147m-\u001b[0m\u001b[38;5;183m\u001b[38;5;147m-\u001b[0m\u001b[38;5;183m\u001b[38;5;147m-\u001b[0m\u001b[38;5;183m\u001b[38;5;147m-\u001b[0m\u001b[38;5;183m\u001b[38;5;147m-\u001b[0m\u001b[38;5;183m\u001b[38;5;219m+\u001b[0m\u001b[38;5;183m\u001b[38;5;147m-\u001b[0m\u001b[38;5;183m\u001b[38;5;147m-\u001b[0m\u001b[38;5;183m\u001b[38;5;147m-\u001b[0m\u001b[38;5;183m\u001b[38;5;147m-\u001b[0m\u001b[38;5;183m\u001b[38;5;147m-\u001b[0m\u001b[38;5;183m\u001b[38;5;147m-\u001b[0m\u001b[38;5;183m\u001b[38;5;147m-\u001b[0m\u001b[38;5;183m\u001b[38;5;147m-\u001b[0m\u001b[38;5;183m\u001b[38;5;147m-\u001b[0m\u001b[38;5;183m\u001b[38;5;147m-\u001b[0m\u001b[38;5;183m\u001b[38;5;147m-\u001b[0m\u001b[38;5;183m\u001b[38;5;147m-\u001b[0m\u001b[38;5;183m\u001b[38;5;147m-\u001b[0m\u001b[38;5;183m\u001b[38;5;147m-\u001b[0m\u001b[38;5;183m\u001b[38;5;147m-\u001b[0m\u001b[38;5;183m\u001b[38;5;147m-\u001b[0m\u001b[38;5;183m\u001b[38;5;147m-\u001b[0m\u001b[38;5;183m\u001b[38;5;147m-\u001b[0m\u001b[38;5;183m\u001b[38;5;219m+\u001b[0m\u001b[38;5;183m\u001b[38;5;147m-\u001b[0m\u001b[38;5;183m\u001b[38;5;147m-\u001b[0m\u001b[38;5;183m\u001b[38;5;147m-\u001b[0m\u001b[38;5;183m\u001b[38;5;147m-\u001b[0m\u001b[38;5;183m\u001b[38;5;147m-\u001b[0m\u001b[38;5;183m\u001b[38;5;147m-\u001b[0m\u001b[38;5;183m\u001b[38;5;147m-\u001b[0m\u001b[38;5;183m\u001b[38;5;147m-\u001b[0m\u001b[38;5;183m\u001b[38;5;147m-\u001b[0m\u001b[38;5;183m\u001b[38;5;147m-\u001b[0m\u001b[38;5;183m\u001b[38;5;147m-\u001b[0m\u001b[38;5;183m\u001b[38;5;147m-\u001b[0m\u001b[38;5;183m\u001b[38;5;147m-\u001b[0m\u001b[38;5;183m\u001b[38;5;147m-\u001b[0m\u001b[38;5;183m\u001b[38;5;147m-\u001b[0m\u001b[38;5;183m\u001b[38;5;147m-\u001b[0m\u001b[38;5;183m\u001b[38;5;147m-\u001b[0m\u001b[38;5;183m\u001b[38;5;147m-\u001b[0m\u001b[38;5;183m\u001b[38;5;147m-\u001b[0m\u001b[38;5;183m\u001b[38;5;147m-\u001b[0m\u001b[38;5;183m\u001b[38;5;147m-\u001b[0m\u001b[38;5;183m\u001b[38;5;219m+\u001b[0m\u001b[38;5;183m\u001b[38;5;147m-\u001b[0m\u001b[38;5;183m\u001b[38;5;147m-\u001b[0m\u001b[38;5;183m\u001b[38;5;147m-\u001b[0m\u001b[38;5;183m\u001b[38;5;147m-\u001b[0m\u001b[38;5;183m\u001b[38;5;147m-\u001b[0m\u001b[38;5;183m\u001b[38;5;147m-\u001b[0m\u001b[38;5;183m\u001b[38;5;147m-\u001b[0m\u001b[38;5;183m\u001b[38;5;147m-\u001b[0m\u001b[38;5;183m\u001b[38;5;147m-\u001b[0m\u001b[38;5;183m\u001b[38;5;147m-\u001b[0m\u001b[38;5;183m\u001b[38;5;147m-\u001b[0m\u001b[38;5;183m\u001b[38;5;147m-\u001b[0m\u001b[38;5;183m\u001b[38;5;147m-\u001b[0m\u001b[38;5;183m\u001b[38;5;147m-\u001b[0m\u001b[38;5;183m\u001b[38;5;147m-\u001b[0m\u001b[38;5;183m\u001b[38;5;147m-\u001b[0m\u001b[38;5;183m\u001b[38;5;147m-\u001b[0m\u001b[38;5;183m\u001b[38;5;147m-\u001b[0m\u001b[38;5;183m\u001b[38;5;147m-\u001b[0m\u001b[38;5;183m\u001b[38;5;147m-\u001b[0m\u001b[38;5;183m\u001b[38;5;147m-\u001b[0m\u001b[38;5;183m\u001b[38;5;219m+\u001b[0m\u001b[38;5;183m\u001b[38;5;147m-\u001b[0m\u001b[38;5;183m\u001b[38;5;147m-\u001b[0m\u001b[38;5;183m\u001b[38;5;147m-\u001b[0m\u001b[38;5;183m\u001b[38;5;147m-\u001b[0m\u001b[38;5;183m\u001b[38;5;147m-\u001b[0m\u001b[38;5;183m\u001b[38;5;147m-\u001b[0m\u001b[38;5;183m\u001b[38;5;147m-\u001b[0m\u001b[38;5;183m\u001b[38;5;147m-\u001b[0m\u001b[38;5;183m\u001b[38;5;147m-\u001b[0m\u001b[38;5;183m\u001b[38;5;147m-\u001b[0m\u001b[38;5;183m\u001b[38;5;147m-\u001b[0m\u001b[38;5;183m\u001b[38;5;147m-\u001b[0m\u001b[38;5;183m\u001b[38;5;147m-\u001b[0m\u001b[38;5;183m\u001b[38;5;147m-\u001b[0m\u001b[38;5;183m\u001b[38;5;147m-\u001b[0m\u001b[38;5;183m\u001b[38;5;147m-\u001b[0m\u001b[38;5;183m\u001b[38;5;147m-\u001b[0m\u001b[38;5;183m\u001b[38;5;147m-\u001b[0m\u001b[38;5;183m\u001b[38;5;147m-\u001b[0m\u001b[38;5;183m\u001b[38;5;147m-\u001b[0m\u001b[38;5;183m\u001b[38;5;147m-\u001b[0m\u001b[38;5;183m\u001b[38;5;219m+\u001b[0m\u001b[38;5;183m\u001b[38;5;147m-\u001b[0m\u001b[38;5;183m\u001b[38;5;147m-\u001b[0m\u001b[38;5;183m\u001b[38;5;147m-\u001b[0m\u001b[38;5;183m\u001b[38;5;147m-\u001b[0m\u001b[38;5;183m\u001b[38;5;147m-\u001b[0m\u001b[38;5;183m\u001b[38;5;147m-\u001b[0m\u001b[38;5;183m\u001b[38;5;147m-\u001b[0m\u001b[38;5;183m\u001b[38;5;147m-\u001b[0m\u001b[38;5;183m\u001b[38;5;147m-\u001b[0m\u001b[38;5;183m\u001b[38;5;147m-\u001b[0m\u001b[38;5;183m\u001b[38;5;147m-\u001b[0m\u001b[38;5;183m\u001b[38;5;147m-\u001b[0m\u001b[38;5;183m\u001b[38;5;147m-\u001b[0m\u001b[38;5;183m\u001b[38;5;147m-\u001b[0m\u001b[38;5;183m\u001b[38;5;147m-\u001b[0m\u001b[38;5;183m\u001b[38;5;147m-\u001b[0m\u001b[38;5;183m\u001b[38;5;147m-\u001b[0m\u001b[38;5;183m\u001b[38;5;147m-\u001b[0m\u001b[38;5;183m\u001b[38;5;147m-\u001b[0m\u001b[38;5;183m\u001b[38;5;147m-\u001b[0m\u001b[38;5;183m\u001b[38;5;219m+\u001b[0m\u001b[38;5;183m\n",
      "\u001b[35m|\u001b[0m\u001b[38;5;183m cnb  \u001b[35m|\u001b[0m\u001b[38;5;183m TfidfVectorizer(max_df=0.1, max_features=15000, ngram_range=(1, 2)) \u001b[35m|\u001b[0m\u001b[38;5;183m TfidfVectorizer9 \u001b[35m|\u001b[0m\u001b[38;5;183m  0.3203283193105756 \u001b[35m|\u001b[0m\u001b[38;5;183m 0.38050964187327824 \u001b[35m|\u001b[0m\u001b[38;5;183m  0.3325410640395902 \u001b[35m|\u001b[0m\u001b[38;5;183m 0.3366364851764875 \u001b[35m|\u001b[0m\u001b[38;5;183m\n",
      "\u001b[35m|\u001b[0m\u001b[38;5;183m cnb  \u001b[35m|\u001b[0m\u001b[38;5;183m TfidfVectorizer(max_df=0.5, max_features=15000, ngram_range=(1, 2)) \u001b[35m|\u001b[0m\u001b[38;5;183m TfidfVectorizer3 \u001b[35m|\u001b[0m\u001b[38;5;183m 0.31995797676499327 \u001b[35m|\u001b[0m\u001b[38;5;183m 0.38337924701561066 \u001b[35m|\u001b[0m\u001b[38;5;183m  0.3354203412618027 \u001b[35m|\u001b[0m\u001b[38;5;183m 0.3366650532214746 \u001b[35m|\u001b[0m\u001b[38;5;183m\n",
      "\u001b[35m|\u001b[0m\u001b[38;5;183m cnb  \u001b[35m|\u001b[0m\u001b[38;5;183m           TfidfVectorizer(max_df=0.1, max_features=15000)           \u001b[35m|\u001b[0m\u001b[38;5;183m TfidfVectorizer8 \u001b[35m|\u001b[0m\u001b[38;5;183m  0.3072057532138069 \u001b[35m|\u001b[0m\u001b[38;5;183m 0.38682277318640956 \u001b[35m|\u001b[0m\u001b[38;5;183m 0.32747923144694807 \u001b[35m|\u001b[0m\u001b[38;5;183m 0.317893379111457  \u001b[35m|\u001b[0m\u001b[38;5;183m\n",
      "\u001b[38;5;219m+\u001b[0m\u001b[38;5;183m\u001b[38;5;147m-\u001b[0m\u001b[38;5;183m\u001b[38;5;147m-\u001b[0m\u001b[38;5;183m\u001b[38;5;147m-\u001b[0m\u001b[38;5;183m\u001b[38;5;147m-\u001b[0m\u001b[38;5;183m\u001b[38;5;147m-\u001b[0m\u001b[38;5;183m\u001b[38;5;147m-\u001b[0m\u001b[38;5;183m\u001b[38;5;219m+\u001b[0m\u001b[38;5;183m\u001b[38;5;147m-\u001b[0m\u001b[38;5;183m\u001b[38;5;147m-\u001b[0m\u001b[38;5;183m\u001b[38;5;147m-\u001b[0m\u001b[38;5;183m\u001b[38;5;147m-\u001b[0m\u001b[38;5;183m\u001b[38;5;147m-\u001b[0m\u001b[38;5;183m\u001b[38;5;147m-\u001b[0m\u001b[38;5;183m\u001b[38;5;147m-\u001b[0m\u001b[38;5;183m\u001b[38;5;147m-\u001b[0m\u001b[38;5;183m\u001b[38;5;147m-\u001b[0m\u001b[38;5;183m\u001b[38;5;147m-\u001b[0m\u001b[38;5;183m\u001b[38;5;147m-\u001b[0m\u001b[38;5;183m\u001b[38;5;147m-\u001b[0m\u001b[38;5;183m\u001b[38;5;147m-\u001b[0m\u001b[38;5;183m\u001b[38;5;147m-\u001b[0m\u001b[38;5;183m\u001b[38;5;147m-\u001b[0m\u001b[38;5;183m\u001b[38;5;147m-\u001b[0m\u001b[38;5;183m\u001b[38;5;147m-\u001b[0m\u001b[38;5;183m\u001b[38;5;147m-\u001b[0m\u001b[38;5;183m\u001b[38;5;147m-\u001b[0m\u001b[38;5;183m\u001b[38;5;147m-\u001b[0m\u001b[38;5;183m\u001b[38;5;147m-\u001b[0m\u001b[38;5;183m\u001b[38;5;147m-\u001b[0m\u001b[38;5;183m\u001b[38;5;147m-\u001b[0m\u001b[38;5;183m\u001b[38;5;147m-\u001b[0m\u001b[38;5;183m\u001b[38;5;147m-\u001b[0m\u001b[38;5;183m\u001b[38;5;147m-\u001b[0m\u001b[38;5;183m\u001b[38;5;147m-\u001b[0m\u001b[38;5;183m\u001b[38;5;147m-\u001b[0m\u001b[38;5;183m\u001b[38;5;147m-\u001b[0m\u001b[38;5;183m\u001b[38;5;147m-\u001b[0m\u001b[38;5;183m\u001b[38;5;147m-\u001b[0m\u001b[38;5;183m\u001b[38;5;147m-\u001b[0m\u001b[38;5;183m\u001b[38;5;147m-\u001b[0m\u001b[38;5;183m\u001b[38;5;147m-\u001b[0m\u001b[38;5;183m\u001b[38;5;147m-\u001b[0m\u001b[38;5;183m\u001b[38;5;147m-\u001b[0m\u001b[38;5;183m\u001b[38;5;147m-\u001b[0m\u001b[38;5;183m\u001b[38;5;147m-\u001b[0m\u001b[38;5;183m\u001b[38;5;147m-\u001b[0m\u001b[38;5;183m\u001b[38;5;147m-\u001b[0m\u001b[38;5;183m\u001b[38;5;147m-\u001b[0m\u001b[38;5;183m\u001b[38;5;147m-\u001b[0m\u001b[38;5;183m\u001b[38;5;147m-\u001b[0m\u001b[38;5;183m\u001b[38;5;147m-\u001b[0m\u001b[38;5;183m\u001b[38;5;147m-\u001b[0m\u001b[38;5;183m\u001b[38;5;147m-\u001b[0m\u001b[38;5;183m\u001b[38;5;147m-\u001b[0m\u001b[38;5;183m\u001b[38;5;147m-\u001b[0m\u001b[38;5;183m\u001b[38;5;147m-\u001b[0m\u001b[38;5;183m\u001b[38;5;147m-\u001b[0m\u001b[38;5;183m\u001b[38;5;147m-\u001b[0m\u001b[38;5;183m\u001b[38;5;147m-\u001b[0m\u001b[38;5;183m\u001b[38;5;147m-\u001b[0m\u001b[38;5;183m\u001b[38;5;147m-\u001b[0m\u001b[38;5;183m\u001b[38;5;147m-\u001b[0m\u001b[38;5;183m\u001b[38;5;147m-\u001b[0m\u001b[38;5;183m\u001b[38;5;147m-\u001b[0m\u001b[38;5;183m\u001b[38;5;147m-\u001b[0m\u001b[38;5;183m\u001b[38;5;147m-\u001b[0m\u001b[38;5;183m\u001b[38;5;147m-\u001b[0m\u001b[38;5;183m\u001b[38;5;147m-\u001b[0m\u001b[38;5;183m\u001b[38;5;147m-\u001b[0m\u001b[38;5;183m\u001b[38;5;147m-\u001b[0m\u001b[38;5;183m\u001b[38;5;147m-\u001b[0m\u001b[38;5;183m\u001b[38;5;147m-\u001b[0m\u001b[38;5;183m\u001b[38;5;147m-\u001b[0m\u001b[38;5;183m\u001b[38;5;147m-\u001b[0m\u001b[38;5;183m\u001b[38;5;147m-\u001b[0m\u001b[38;5;183m\u001b[38;5;147m-\u001b[0m\u001b[38;5;183m\u001b[38;5;219m+\u001b[0m\u001b[38;5;183m\u001b[38;5;147m-\u001b[0m\u001b[38;5;183m\u001b[38;5;147m-\u001b[0m\u001b[38;5;183m\u001b[38;5;147m-\u001b[0m\u001b[38;5;183m\u001b[38;5;147m-\u001b[0m\u001b[38;5;183m\u001b[38;5;147m-\u001b[0m\u001b[38;5;183m\u001b[38;5;147m-\u001b[0m\u001b[38;5;183m\u001b[38;5;147m-\u001b[0m\u001b[38;5;183m\u001b[38;5;147m-\u001b[0m\u001b[38;5;183m\u001b[38;5;147m-\u001b[0m\u001b[38;5;183m\u001b[38;5;147m-\u001b[0m\u001b[38;5;183m\u001b[38;5;147m-\u001b[0m\u001b[38;5;183m\u001b[38;5;147m-\u001b[0m\u001b[38;5;183m\u001b[38;5;147m-\u001b[0m\u001b[38;5;183m\u001b[38;5;147m-\u001b[0m\u001b[38;5;183m\u001b[38;5;147m-\u001b[0m\u001b[38;5;183m\u001b[38;5;147m-\u001b[0m\u001b[38;5;183m\u001b[38;5;147m-\u001b[0m\u001b[38;5;183m\u001b[38;5;147m-\u001b[0m\u001b[38;5;183m\u001b[38;5;219m+\u001b[0m\u001b[38;5;183m\u001b[38;5;147m-\u001b[0m\u001b[38;5;183m\u001b[38;5;147m-\u001b[0m\u001b[38;5;183m\u001b[38;5;147m-\u001b[0m\u001b[38;5;183m\u001b[38;5;147m-\u001b[0m\u001b[38;5;183m\u001b[38;5;147m-\u001b[0m\u001b[38;5;183m\u001b[38;5;147m-\u001b[0m\u001b[38;5;183m\u001b[38;5;147m-\u001b[0m\u001b[38;5;183m\u001b[38;5;147m-\u001b[0m\u001b[38;5;183m\u001b[38;5;147m-\u001b[0m\u001b[38;5;183m\u001b[38;5;147m-\u001b[0m\u001b[38;5;183m\u001b[38;5;147m-\u001b[0m\u001b[38;5;183m\u001b[38;5;147m-\u001b[0m\u001b[38;5;183m\u001b[38;5;147m-\u001b[0m\u001b[38;5;183m\u001b[38;5;147m-\u001b[0m\u001b[38;5;183m\u001b[38;5;147m-\u001b[0m\u001b[38;5;183m\u001b[38;5;147m-\u001b[0m\u001b[38;5;183m\u001b[38;5;147m-\u001b[0m\u001b[38;5;183m\u001b[38;5;147m-\u001b[0m\u001b[38;5;183m\u001b[38;5;147m-\u001b[0m\u001b[38;5;183m\u001b[38;5;147m-\u001b[0m\u001b[38;5;183m\u001b[38;5;147m-\u001b[0m\u001b[38;5;183m\u001b[38;5;219m+\u001b[0m\u001b[38;5;183m\u001b[38;5;147m-\u001b[0m\u001b[38;5;183m\u001b[38;5;147m-\u001b[0m\u001b[38;5;183m\u001b[38;5;147m-\u001b[0m\u001b[38;5;183m\u001b[38;5;147m-\u001b[0m\u001b[38;5;183m\u001b[38;5;147m-\u001b[0m\u001b[38;5;183m\u001b[38;5;147m-\u001b[0m\u001b[38;5;183m\u001b[38;5;147m-\u001b[0m\u001b[38;5;183m\u001b[38;5;147m-\u001b[0m\u001b[38;5;183m\u001b[38;5;147m-\u001b[0m\u001b[38;5;183m\u001b[38;5;147m-\u001b[0m\u001b[38;5;183m\u001b[38;5;147m-\u001b[0m\u001b[38;5;183m\u001b[38;5;147m-\u001b[0m\u001b[38;5;183m\u001b[38;5;147m-\u001b[0m\u001b[38;5;183m\u001b[38;5;147m-\u001b[0m\u001b[38;5;183m\u001b[38;5;147m-\u001b[0m\u001b[38;5;183m\u001b[38;5;147m-\u001b[0m\u001b[38;5;183m\u001b[38;5;147m-\u001b[0m\u001b[38;5;183m\u001b[38;5;147m-\u001b[0m\u001b[38;5;183m\u001b[38;5;147m-\u001b[0m\u001b[38;5;183m\u001b[38;5;147m-\u001b[0m\u001b[38;5;183m\u001b[38;5;147m-\u001b[0m\u001b[38;5;183m\u001b[38;5;219m+\u001b[0m\u001b[38;5;183m\u001b[38;5;147m-\u001b[0m\u001b[38;5;183m\u001b[38;5;147m-\u001b[0m\u001b[38;5;183m\u001b[38;5;147m-\u001b[0m\u001b[38;5;183m\u001b[38;5;147m-\u001b[0m\u001b[38;5;183m\u001b[38;5;147m-\u001b[0m\u001b[38;5;183m\u001b[38;5;147m-\u001b[0m\u001b[38;5;183m\u001b[38;5;147m-\u001b[0m\u001b[38;5;183m\u001b[38;5;147m-\u001b[0m\u001b[38;5;183m\u001b[38;5;147m-\u001b[0m\u001b[38;5;183m\u001b[38;5;147m-\u001b[0m\u001b[38;5;183m\u001b[38;5;147m-\u001b[0m\u001b[38;5;183m\u001b[38;5;147m-\u001b[0m\u001b[38;5;183m\u001b[38;5;147m-\u001b[0m\u001b[38;5;183m\u001b[38;5;147m-\u001b[0m\u001b[38;5;183m\u001b[38;5;147m-\u001b[0m\u001b[38;5;183m\u001b[38;5;147m-\u001b[0m\u001b[38;5;183m\u001b[38;5;147m-\u001b[0m\u001b[38;5;183m\u001b[38;5;147m-\u001b[0m\u001b[38;5;183m\u001b[38;5;147m-\u001b[0m\u001b[38;5;183m\u001b[38;5;147m-\u001b[0m\u001b[38;5;183m\u001b[38;5;147m-\u001b[0m\u001b[38;5;183m\u001b[38;5;219m+\u001b[0m\u001b[38;5;183m\u001b[38;5;147m-\u001b[0m\u001b[38;5;183m\u001b[38;5;147m-\u001b[0m\u001b[38;5;183m\u001b[38;5;147m-\u001b[0m\u001b[38;5;183m\u001b[38;5;147m-\u001b[0m\u001b[38;5;183m\u001b[38;5;147m-\u001b[0m\u001b[38;5;183m\u001b[38;5;147m-\u001b[0m\u001b[38;5;183m\u001b[38;5;147m-\u001b[0m\u001b[38;5;183m\u001b[38;5;147m-\u001b[0m\u001b[38;5;183m\u001b[38;5;147m-\u001b[0m\u001b[38;5;183m\u001b[38;5;147m-\u001b[0m\u001b[38;5;183m\u001b[38;5;147m-\u001b[0m\u001b[38;5;183m\u001b[38;5;147m-\u001b[0m\u001b[38;5;183m\u001b[38;5;147m-\u001b[0m\u001b[38;5;183m\u001b[38;5;147m-\u001b[0m\u001b[38;5;183m\u001b[38;5;147m-\u001b[0m\u001b[38;5;183m\u001b[38;5;147m-\u001b[0m\u001b[38;5;183m\u001b[38;5;147m-\u001b[0m\u001b[38;5;183m\u001b[38;5;147m-\u001b[0m\u001b[38;5;183m\u001b[38;5;147m-\u001b[0m\u001b[38;5;183m\u001b[38;5;147m-\u001b[0m\u001b[38;5;183m\u001b[38;5;219m+\u001b[0m\u001b[38;5;183m\u001b[0m\n",
      "\u001b[38;5;219m+\u001b[0m\u001b[38;5;183m\u001b[38;5;147m-\u001b[0m\u001b[38;5;183m\u001b[38;5;147m-\u001b[0m\u001b[38;5;183m\u001b[38;5;147m-\u001b[0m\u001b[38;5;183m\u001b[38;5;147m-\u001b[0m\u001b[38;5;183m\u001b[38;5;147m-\u001b[0m\u001b[38;5;183m\u001b[38;5;147m-\u001b[0m\u001b[38;5;183m\u001b[38;5;219m+\u001b[0m\u001b[38;5;183m\u001b[38;5;147m-\u001b[0m\u001b[38;5;183m\u001b[38;5;147m-\u001b[0m\u001b[38;5;183m\u001b[38;5;147m-\u001b[0m\u001b[38;5;183m\u001b[38;5;147m-\u001b[0m\u001b[38;5;183m\u001b[38;5;147m-\u001b[0m\u001b[38;5;183m\u001b[38;5;147m-\u001b[0m\u001b[38;5;183m\u001b[38;5;147m-\u001b[0m\u001b[38;5;183m\u001b[38;5;147m-\u001b[0m\u001b[38;5;183m\u001b[38;5;147m-\u001b[0m\u001b[38;5;183m\u001b[38;5;147m-\u001b[0m\u001b[38;5;183m\u001b[38;5;147m-\u001b[0m\u001b[38;5;183m\u001b[38;5;147m-\u001b[0m\u001b[38;5;183m\u001b[38;5;147m-\u001b[0m\u001b[38;5;183m\u001b[38;5;147m-\u001b[0m\u001b[38;5;183m\u001b[38;5;147m-\u001b[0m\u001b[38;5;183m\u001b[38;5;147m-\u001b[0m\u001b[38;5;183m\u001b[38;5;147m-\u001b[0m\u001b[38;5;183m\u001b[38;5;147m-\u001b[0m\u001b[38;5;183m\u001b[38;5;147m-\u001b[0m\u001b[38;5;183m\u001b[38;5;147m-\u001b[0m\u001b[38;5;183m\u001b[38;5;147m-\u001b[0m\u001b[38;5;183m\u001b[38;5;147m-\u001b[0m\u001b[38;5;183m\u001b[38;5;147m-\u001b[0m\u001b[38;5;183m\u001b[38;5;147m-\u001b[0m\u001b[38;5;183m\u001b[38;5;147m-\u001b[0m\u001b[38;5;183m\u001b[38;5;147m-\u001b[0m\u001b[38;5;183m\u001b[38;5;147m-\u001b[0m\u001b[38;5;183m\u001b[38;5;147m-\u001b[0m\u001b[38;5;183m\u001b[38;5;147m-\u001b[0m\u001b[38;5;183m\u001b[38;5;147m-\u001b[0m\u001b[38;5;183m\u001b[38;5;147m-\u001b[0m\u001b[38;5;183m\u001b[38;5;147m-\u001b[0m\u001b[38;5;183m\u001b[38;5;147m-\u001b[0m\u001b[38;5;183m\u001b[38;5;147m-\u001b[0m\u001b[38;5;183m\u001b[38;5;147m-\u001b[0m\u001b[38;5;183m\u001b[38;5;147m-\u001b[0m\u001b[38;5;183m\u001b[38;5;147m-\u001b[0m\u001b[38;5;183m\u001b[38;5;147m-\u001b[0m\u001b[38;5;183m\u001b[38;5;147m-\u001b[0m\u001b[38;5;183m\u001b[38;5;147m-\u001b[0m\u001b[38;5;183m\u001b[38;5;147m-\u001b[0m\u001b[38;5;183m\u001b[38;5;147m-\u001b[0m\u001b[38;5;183m\u001b[38;5;147m-\u001b[0m\u001b[38;5;183m\u001b[38;5;147m-\u001b[0m\u001b[38;5;183m\u001b[38;5;147m-\u001b[0m\u001b[38;5;183m\u001b[38;5;147m-\u001b[0m\u001b[38;5;183m\u001b[38;5;147m-\u001b[0m\u001b[38;5;183m\u001b[38;5;147m-\u001b[0m\u001b[38;5;183m\u001b[38;5;147m-\u001b[0m\u001b[38;5;183m\u001b[38;5;147m-\u001b[0m\u001b[38;5;183m\u001b[38;5;147m-\u001b[0m\u001b[38;5;183m\u001b[38;5;147m-\u001b[0m\u001b[38;5;183m\u001b[38;5;147m-\u001b[0m\u001b[38;5;183m\u001b[38;5;147m-\u001b[0m\u001b[38;5;183m\u001b[38;5;147m-\u001b[0m\u001b[38;5;183m\u001b[38;5;147m-\u001b[0m\u001b[38;5;183m\u001b[38;5;147m-\u001b[0m\u001b[38;5;183m\u001b[38;5;147m-\u001b[0m\u001b[38;5;183m\u001b[38;5;147m-\u001b[0m\u001b[38;5;183m\u001b[38;5;147m-\u001b[0m\u001b[38;5;183m\u001b[38;5;147m-\u001b[0m\u001b[38;5;183m\u001b[38;5;147m-\u001b[0m\u001b[38;5;183m\u001b[38;5;147m-\u001b[0m\u001b[38;5;183m\u001b[38;5;147m-\u001b[0m\u001b[38;5;183m\u001b[38;5;147m-\u001b[0m\u001b[38;5;183m\u001b[38;5;147m-\u001b[0m\u001b[38;5;183m\u001b[38;5;147m-\u001b[0m\u001b[38;5;183m\u001b[38;5;147m-\u001b[0m\u001b[38;5;183m\u001b[38;5;147m-\u001b[0m\u001b[38;5;183m\u001b[38;5;219m+\u001b[0m\u001b[38;5;183m\u001b[38;5;147m-\u001b[0m\u001b[38;5;183m\u001b[38;5;147m-\u001b[0m\u001b[38;5;183m\u001b[38;5;147m-\u001b[0m\u001b[38;5;183m\u001b[38;5;147m-\u001b[0m\u001b[38;5;183m\u001b[38;5;147m-\u001b[0m\u001b[38;5;183m\u001b[38;5;147m-\u001b[0m\u001b[38;5;183m\u001b[38;5;147m-\u001b[0m\u001b[38;5;183m\u001b[38;5;147m-\u001b[0m\u001b[38;5;183m\u001b[38;5;147m-\u001b[0m\u001b[38;5;183m\u001b[38;5;147m-\u001b[0m\u001b[38;5;183m\u001b[38;5;147m-\u001b[0m\u001b[38;5;183m\u001b[38;5;147m-\u001b[0m\u001b[38;5;183m\u001b[38;5;147m-\u001b[0m\u001b[38;5;183m\u001b[38;5;147m-\u001b[0m\u001b[38;5;183m\u001b[38;5;147m-\u001b[0m\u001b[38;5;183m\u001b[38;5;147m-\u001b[0m\u001b[38;5;183m\u001b[38;5;147m-\u001b[0m\u001b[38;5;183m\u001b[38;5;147m-\u001b[0m\u001b[38;5;183m\u001b[38;5;147m-\u001b[0m\u001b[38;5;183m\u001b[38;5;219m+\u001b[0m\u001b[38;5;183m\u001b[38;5;147m-\u001b[0m\u001b[38;5;183m\u001b[38;5;147m-\u001b[0m\u001b[38;5;183m\u001b[38;5;147m-\u001b[0m\u001b[38;5;183m\u001b[38;5;147m-\u001b[0m\u001b[38;5;183m\u001b[38;5;147m-\u001b[0m\u001b[38;5;183m\u001b[38;5;147m-\u001b[0m\u001b[38;5;183m\u001b[38;5;147m-\u001b[0m\u001b[38;5;183m\u001b[38;5;147m-\u001b[0m\u001b[38;5;183m\u001b[38;5;147m-\u001b[0m\u001b[38;5;183m\u001b[38;5;147m-\u001b[0m\u001b[38;5;183m\u001b[38;5;147m-\u001b[0m\u001b[38;5;183m\u001b[38;5;147m-\u001b[0m\u001b[38;5;183m\u001b[38;5;147m-\u001b[0m\u001b[38;5;183m\u001b[38;5;147m-\u001b[0m\u001b[38;5;183m\u001b[38;5;147m-\u001b[0m\u001b[38;5;183m\u001b[38;5;147m-\u001b[0m\u001b[38;5;183m\u001b[38;5;147m-\u001b[0m\u001b[38;5;183m\u001b[38;5;147m-\u001b[0m\u001b[38;5;183m\u001b[38;5;147m-\u001b[0m\u001b[38;5;183m\u001b[38;5;147m-\u001b[0m\u001b[38;5;183m\u001b[38;5;219m+\u001b[0m\u001b[38;5;183m\u001b[38;5;147m-\u001b[0m\u001b[38;5;183m\u001b[38;5;147m-\u001b[0m\u001b[38;5;183m\u001b[38;5;147m-\u001b[0m\u001b[38;5;183m\u001b[38;5;147m-\u001b[0m\u001b[38;5;183m\u001b[38;5;147m-\u001b[0m\u001b[38;5;183m\u001b[38;5;147m-\u001b[0m\u001b[38;5;183m\u001b[38;5;147m-\u001b[0m\u001b[38;5;183m\u001b[38;5;147m-\u001b[0m\u001b[38;5;183m\u001b[38;5;147m-\u001b[0m\u001b[38;5;183m\u001b[38;5;147m-\u001b[0m\u001b[38;5;183m\u001b[38;5;147m-\u001b[0m\u001b[38;5;183m\u001b[38;5;147m-\u001b[0m\u001b[38;5;183m\u001b[38;5;147m-\u001b[0m\u001b[38;5;183m\u001b[38;5;147m-\u001b[0m\u001b[38;5;183m\u001b[38;5;147m-\u001b[0m\u001b[38;5;183m\u001b[38;5;147m-\u001b[0m\u001b[38;5;183m\u001b[38;5;147m-\u001b[0m\u001b[38;5;183m\u001b[38;5;147m-\u001b[0m\u001b[38;5;183m\u001b[38;5;147m-\u001b[0m\u001b[38;5;183m\u001b[38;5;147m-\u001b[0m\u001b[38;5;183m\u001b[38;5;147m-\u001b[0m\u001b[38;5;183m\u001b[38;5;219m+\u001b[0m\u001b[38;5;183m\u001b[38;5;147m-\u001b[0m\u001b[38;5;183m\u001b[38;5;147m-\u001b[0m\u001b[38;5;183m\u001b[38;5;147m-\u001b[0m\u001b[38;5;183m\u001b[38;5;147m-\u001b[0m\u001b[38;5;183m\u001b[38;5;147m-\u001b[0m\u001b[38;5;183m\u001b[38;5;147m-\u001b[0m\u001b[38;5;183m\u001b[38;5;147m-\u001b[0m\u001b[38;5;183m\u001b[38;5;147m-\u001b[0m\u001b[38;5;183m\u001b[38;5;147m-\u001b[0m\u001b[38;5;183m\u001b[38;5;147m-\u001b[0m\u001b[38;5;183m\u001b[38;5;147m-\u001b[0m\u001b[38;5;183m\u001b[38;5;147m-\u001b[0m\u001b[38;5;183m\u001b[38;5;147m-\u001b[0m\u001b[38;5;183m\u001b[38;5;147m-\u001b[0m\u001b[38;5;183m\u001b[38;5;147m-\u001b[0m\u001b[38;5;183m\u001b[38;5;147m-\u001b[0m\u001b[38;5;183m\u001b[38;5;147m-\u001b[0m\u001b[38;5;183m\u001b[38;5;147m-\u001b[0m\u001b[38;5;183m\u001b[38;5;147m-\u001b[0m\u001b[38;5;183m\u001b[38;5;147m-\u001b[0m\u001b[38;5;183m\u001b[38;5;147m-\u001b[0m\u001b[38;5;183m\u001b[38;5;219m+\u001b[0m\u001b[38;5;183m\u001b[38;5;147m-\u001b[0m\u001b[38;5;183m\u001b[38;5;147m-\u001b[0m\u001b[38;5;183m\u001b[38;5;147m-\u001b[0m\u001b[38;5;183m\u001b[38;5;147m-\u001b[0m\u001b[38;5;183m\u001b[38;5;147m-\u001b[0m\u001b[38;5;183m\u001b[38;5;147m-\u001b[0m\u001b[38;5;183m\u001b[38;5;147m-\u001b[0m\u001b[38;5;183m\u001b[38;5;147m-\u001b[0m\u001b[38;5;183m\u001b[38;5;147m-\u001b[0m\u001b[38;5;183m\u001b[38;5;147m-\u001b[0m\u001b[38;5;183m\u001b[38;5;147m-\u001b[0m\u001b[38;5;183m\u001b[38;5;147m-\u001b[0m\u001b[38;5;183m\u001b[38;5;147m-\u001b[0m\u001b[38;5;183m\u001b[38;5;147m-\u001b[0m\u001b[38;5;183m\u001b[38;5;147m-\u001b[0m\u001b[38;5;183m\u001b[38;5;147m-\u001b[0m\u001b[38;5;183m\u001b[38;5;147m-\u001b[0m\u001b[38;5;183m\u001b[38;5;147m-\u001b[0m\u001b[38;5;183m\u001b[38;5;147m-\u001b[0m\u001b[38;5;183m\u001b[38;5;147m-\u001b[0m\u001b[38;5;183m\u001b[38;5;147m-\u001b[0m\u001b[38;5;183m\u001b[38;5;219m+\u001b[0m\u001b[38;5;183m\n",
      "\u001b[35m|\u001b[0m\u001b[38;5;183m Algo \u001b[35m|\u001b[0m\u001b[38;5;183m                              Vectorizer                             \u001b[35m|\u001b[0m\u001b[38;5;183m   Vectorizer ID   \u001b[35m|\u001b[0m\u001b[38;5;183m      Macro f1      \u001b[35m|\u001b[0m\u001b[38;5;183m       Accuracy      \u001b[35m|\u001b[0m\u001b[38;5;183m      Precision      \u001b[35m|\u001b[0m\u001b[38;5;183m        Rappel       \u001b[35m|\u001b[0m\u001b[38;5;183m\n",
      "\u001b[38;5;219m+\u001b[0m\u001b[38;5;183m\u001b[38;5;147m-\u001b[0m\u001b[38;5;183m\u001b[38;5;147m-\u001b[0m\u001b[38;5;183m\u001b[38;5;147m-\u001b[0m\u001b[38;5;183m\u001b[38;5;147m-\u001b[0m\u001b[38;5;183m\u001b[38;5;147m-\u001b[0m\u001b[38;5;183m\u001b[38;5;147m-\u001b[0m\u001b[38;5;183m\u001b[38;5;219m+\u001b[0m\u001b[38;5;183m\u001b[38;5;147m-\u001b[0m\u001b[38;5;183m\u001b[38;5;147m-\u001b[0m\u001b[38;5;183m\u001b[38;5;147m-\u001b[0m\u001b[38;5;183m\u001b[38;5;147m-\u001b[0m\u001b[38;5;183m\u001b[38;5;147m-\u001b[0m\u001b[38;5;183m\u001b[38;5;147m-\u001b[0m\u001b[38;5;183m\u001b[38;5;147m-\u001b[0m\u001b[38;5;183m\u001b[38;5;147m-\u001b[0m\u001b[38;5;183m\u001b[38;5;147m-\u001b[0m\u001b[38;5;183m\u001b[38;5;147m-\u001b[0m\u001b[38;5;183m\u001b[38;5;147m-\u001b[0m\u001b[38;5;183m\u001b[38;5;147m-\u001b[0m\u001b[38;5;183m\u001b[38;5;147m-\u001b[0m\u001b[38;5;183m\u001b[38;5;147m-\u001b[0m\u001b[38;5;183m\u001b[38;5;147m-\u001b[0m\u001b[38;5;183m\u001b[38;5;147m-\u001b[0m\u001b[38;5;183m\u001b[38;5;147m-\u001b[0m\u001b[38;5;183m\u001b[38;5;147m-\u001b[0m\u001b[38;5;183m\u001b[38;5;147m-\u001b[0m\u001b[38;5;183m\u001b[38;5;147m-\u001b[0m\u001b[38;5;183m\u001b[38;5;147m-\u001b[0m\u001b[38;5;183m\u001b[38;5;147m-\u001b[0m\u001b[38;5;183m\u001b[38;5;147m-\u001b[0m\u001b[38;5;183m\u001b[38;5;147m-\u001b[0m\u001b[38;5;183m\u001b[38;5;147m-\u001b[0m\u001b[38;5;183m\u001b[38;5;147m-\u001b[0m\u001b[38;5;183m\u001b[38;5;147m-\u001b[0m\u001b[38;5;183m\u001b[38;5;147m-\u001b[0m\u001b[38;5;183m\u001b[38;5;147m-\u001b[0m\u001b[38;5;183m\u001b[38;5;147m-\u001b[0m\u001b[38;5;183m\u001b[38;5;147m-\u001b[0m\u001b[38;5;183m\u001b[38;5;147m-\u001b[0m\u001b[38;5;183m\u001b[38;5;147m-\u001b[0m\u001b[38;5;183m\u001b[38;5;147m-\u001b[0m\u001b[38;5;183m\u001b[38;5;147m-\u001b[0m\u001b[38;5;183m\u001b[38;5;147m-\u001b[0m\u001b[38;5;183m\u001b[38;5;147m-\u001b[0m\u001b[38;5;183m\u001b[38;5;147m-\u001b[0m\u001b[38;5;183m\u001b[38;5;147m-\u001b[0m\u001b[38;5;183m\u001b[38;5;147m-\u001b[0m\u001b[38;5;183m\u001b[38;5;147m-\u001b[0m\u001b[38;5;183m\u001b[38;5;147m-\u001b[0m\u001b[38;5;183m\u001b[38;5;147m-\u001b[0m\u001b[38;5;183m\u001b[38;5;147m-\u001b[0m\u001b[38;5;183m\u001b[38;5;147m-\u001b[0m\u001b[38;5;183m\u001b[38;5;147m-\u001b[0m\u001b[38;5;183m\u001b[38;5;147m-\u001b[0m\u001b[38;5;183m\u001b[38;5;147m-\u001b[0m\u001b[38;5;183m\u001b[38;5;147m-\u001b[0m\u001b[38;5;183m\u001b[38;5;147m-\u001b[0m\u001b[38;5;183m\u001b[38;5;147m-\u001b[0m\u001b[38;5;183m\u001b[38;5;147m-\u001b[0m\u001b[38;5;183m\u001b[38;5;147m-\u001b[0m\u001b[38;5;183m\u001b[38;5;147m-\u001b[0m\u001b[38;5;183m\u001b[38;5;147m-\u001b[0m\u001b[38;5;183m\u001b[38;5;147m-\u001b[0m\u001b[38;5;183m\u001b[38;5;147m-\u001b[0m\u001b[38;5;183m\u001b[38;5;147m-\u001b[0m\u001b[38;5;183m\u001b[38;5;147m-\u001b[0m\u001b[38;5;183m\u001b[38;5;147m-\u001b[0m\u001b[38;5;183m\u001b[38;5;147m-\u001b[0m\u001b[38;5;183m\u001b[38;5;147m-\u001b[0m\u001b[38;5;183m\u001b[38;5;147m-\u001b[0m\u001b[38;5;183m\u001b[38;5;147m-\u001b[0m\u001b[38;5;183m\u001b[38;5;147m-\u001b[0m\u001b[38;5;183m\u001b[38;5;147m-\u001b[0m\u001b[38;5;183m\u001b[38;5;147m-\u001b[0m\u001b[38;5;183m\u001b[38;5;147m-\u001b[0m\u001b[38;5;183m\u001b[38;5;147m-\u001b[0m\u001b[38;5;183m\u001b[38;5;219m+\u001b[0m\u001b[38;5;183m\u001b[38;5;147m-\u001b[0m\u001b[38;5;183m\u001b[38;5;147m-\u001b[0m\u001b[38;5;183m\u001b[38;5;147m-\u001b[0m\u001b[38;5;183m\u001b[38;5;147m-\u001b[0m\u001b[38;5;183m\u001b[38;5;147m-\u001b[0m\u001b[38;5;183m\u001b[38;5;147m-\u001b[0m\u001b[38;5;183m\u001b[38;5;147m-\u001b[0m\u001b[38;5;183m\u001b[38;5;147m-\u001b[0m\u001b[38;5;183m\u001b[38;5;147m-\u001b[0m\u001b[38;5;183m\u001b[38;5;147m-\u001b[0m\u001b[38;5;183m\u001b[38;5;147m-\u001b[0m\u001b[38;5;183m\u001b[38;5;147m-\u001b[0m\u001b[38;5;183m\u001b[38;5;147m-\u001b[0m\u001b[38;5;183m\u001b[38;5;147m-\u001b[0m\u001b[38;5;183m\u001b[38;5;147m-\u001b[0m\u001b[38;5;183m\u001b[38;5;147m-\u001b[0m\u001b[38;5;183m\u001b[38;5;147m-\u001b[0m\u001b[38;5;183m\u001b[38;5;147m-\u001b[0m\u001b[38;5;183m\u001b[38;5;147m-\u001b[0m\u001b[38;5;183m\u001b[38;5;219m+\u001b[0m\u001b[38;5;183m\u001b[38;5;147m-\u001b[0m\u001b[38;5;183m\u001b[38;5;147m-\u001b[0m\u001b[38;5;183m\u001b[38;5;147m-\u001b[0m\u001b[38;5;183m\u001b[38;5;147m-\u001b[0m\u001b[38;5;183m\u001b[38;5;147m-\u001b[0m\u001b[38;5;183m\u001b[38;5;147m-\u001b[0m\u001b[38;5;183m\u001b[38;5;147m-\u001b[0m\u001b[38;5;183m\u001b[38;5;147m-\u001b[0m\u001b[38;5;183m\u001b[38;5;147m-\u001b[0m\u001b[38;5;183m\u001b[38;5;147m-\u001b[0m\u001b[38;5;183m\u001b[38;5;147m-\u001b[0m\u001b[38;5;183m\u001b[38;5;147m-\u001b[0m\u001b[38;5;183m\u001b[38;5;147m-\u001b[0m\u001b[38;5;183m\u001b[38;5;147m-\u001b[0m\u001b[38;5;183m\u001b[38;5;147m-\u001b[0m\u001b[38;5;183m\u001b[38;5;147m-\u001b[0m\u001b[38;5;183m\u001b[38;5;147m-\u001b[0m\u001b[38;5;183m\u001b[38;5;147m-\u001b[0m\u001b[38;5;183m\u001b[38;5;147m-\u001b[0m\u001b[38;5;183m\u001b[38;5;147m-\u001b[0m\u001b[38;5;183m\u001b[38;5;219m+\u001b[0m\u001b[38;5;183m\u001b[38;5;147m-\u001b[0m\u001b[38;5;183m\u001b[38;5;147m-\u001b[0m\u001b[38;5;183m\u001b[38;5;147m-\u001b[0m\u001b[38;5;183m\u001b[38;5;147m-\u001b[0m\u001b[38;5;183m\u001b[38;5;147m-\u001b[0m\u001b[38;5;183m\u001b[38;5;147m-\u001b[0m\u001b[38;5;183m\u001b[38;5;147m-\u001b[0m\u001b[38;5;183m\u001b[38;5;147m-\u001b[0m\u001b[38;5;183m\u001b[38;5;147m-\u001b[0m\u001b[38;5;183m\u001b[38;5;147m-\u001b[0m\u001b[38;5;183m\u001b[38;5;147m-\u001b[0m\u001b[38;5;183m\u001b[38;5;147m-\u001b[0m\u001b[38;5;183m\u001b[38;5;147m-\u001b[0m\u001b[38;5;183m\u001b[38;5;147m-\u001b[0m\u001b[38;5;183m\u001b[38;5;147m-\u001b[0m\u001b[38;5;183m\u001b[38;5;147m-\u001b[0m\u001b[38;5;183m\u001b[38;5;147m-\u001b[0m\u001b[38;5;183m\u001b[38;5;147m-\u001b[0m\u001b[38;5;183m\u001b[38;5;147m-\u001b[0m\u001b[38;5;183m\u001b[38;5;147m-\u001b[0m\u001b[38;5;183m\u001b[38;5;147m-\u001b[0m\u001b[38;5;183m\u001b[38;5;219m+\u001b[0m\u001b[38;5;183m\u001b[38;5;147m-\u001b[0m\u001b[38;5;183m\u001b[38;5;147m-\u001b[0m\u001b[38;5;183m\u001b[38;5;147m-\u001b[0m\u001b[38;5;183m\u001b[38;5;147m-\u001b[0m\u001b[38;5;183m\u001b[38;5;147m-\u001b[0m\u001b[38;5;183m\u001b[38;5;147m-\u001b[0m\u001b[38;5;183m\u001b[38;5;147m-\u001b[0m\u001b[38;5;183m\u001b[38;5;147m-\u001b[0m\u001b[38;5;183m\u001b[38;5;147m-\u001b[0m\u001b[38;5;183m\u001b[38;5;147m-\u001b[0m\u001b[38;5;183m\u001b[38;5;147m-\u001b[0m\u001b[38;5;183m\u001b[38;5;147m-\u001b[0m\u001b[38;5;183m\u001b[38;5;147m-\u001b[0m\u001b[38;5;183m\u001b[38;5;147m-\u001b[0m\u001b[38;5;183m\u001b[38;5;147m-\u001b[0m\u001b[38;5;183m\u001b[38;5;147m-\u001b[0m\u001b[38;5;183m\u001b[38;5;147m-\u001b[0m\u001b[38;5;183m\u001b[38;5;147m-\u001b[0m\u001b[38;5;183m\u001b[38;5;147m-\u001b[0m\u001b[38;5;183m\u001b[38;5;147m-\u001b[0m\u001b[38;5;183m\u001b[38;5;147m-\u001b[0m\u001b[38;5;183m\u001b[38;5;219m+\u001b[0m\u001b[38;5;183m\u001b[38;5;147m-\u001b[0m\u001b[38;5;183m\u001b[38;5;147m-\u001b[0m\u001b[38;5;183m\u001b[38;5;147m-\u001b[0m\u001b[38;5;183m\u001b[38;5;147m-\u001b[0m\u001b[38;5;183m\u001b[38;5;147m-\u001b[0m\u001b[38;5;183m\u001b[38;5;147m-\u001b[0m\u001b[38;5;183m\u001b[38;5;147m-\u001b[0m\u001b[38;5;183m\u001b[38;5;147m-\u001b[0m\u001b[38;5;183m\u001b[38;5;147m-\u001b[0m\u001b[38;5;183m\u001b[38;5;147m-\u001b[0m\u001b[38;5;183m\u001b[38;5;147m-\u001b[0m\u001b[38;5;183m\u001b[38;5;147m-\u001b[0m\u001b[38;5;183m\u001b[38;5;147m-\u001b[0m\u001b[38;5;183m\u001b[38;5;147m-\u001b[0m\u001b[38;5;183m\u001b[38;5;147m-\u001b[0m\u001b[38;5;183m\u001b[38;5;147m-\u001b[0m\u001b[38;5;183m\u001b[38;5;147m-\u001b[0m\u001b[38;5;183m\u001b[38;5;147m-\u001b[0m\u001b[38;5;183m\u001b[38;5;147m-\u001b[0m\u001b[38;5;183m\u001b[38;5;147m-\u001b[0m\u001b[38;5;183m\u001b[38;5;147m-\u001b[0m\u001b[38;5;183m\u001b[38;5;219m+\u001b[0m\u001b[38;5;183m\n",
      "\u001b[35m|\u001b[0m\u001b[38;5;183m svc  \u001b[35m|\u001b[0m\u001b[38;5;183m           TfidfVectorizer(max_df=0.5, ngram_range=(1, 2))           \u001b[35m|\u001b[0m\u001b[38;5;183m  TfidfVectorizer5 \u001b[35m|\u001b[0m\u001b[38;5;183m 0.3319172995235483 \u001b[35m|\u001b[0m\u001b[38;5;183m  0.4180440771349862 \u001b[35m|\u001b[0m\u001b[38;5;183m  0.3930365127324806 \u001b[35m|\u001b[0m\u001b[38;5;183m 0.32991101032659575 \u001b[35m|\u001b[0m\u001b[38;5;183m\n",
      "\u001b[35m|\u001b[0m\u001b[38;5;183m svc  \u001b[35m|\u001b[0m\u001b[38;5;183m           TfidfVectorizer(max_df=0.1, ngram_range=(1, 2))           \u001b[35m|\u001b[0m\u001b[38;5;183m TfidfVectorizer11 \u001b[35m|\u001b[0m\u001b[38;5;183m 0.3306101616465865 \u001b[35m|\u001b[0m\u001b[38;5;183m 0.41655188246097336 \u001b[35m|\u001b[0m\u001b[38;5;183m  0.3954136361502066 \u001b[35m|\u001b[0m\u001b[38;5;183m  0.3277744957731205 \u001b[35m|\u001b[0m\u001b[38;5;183m\n",
      "\u001b[35m|\u001b[0m\u001b[38;5;183m svc  \u001b[35m|\u001b[0m\u001b[38;5;183m TfidfVectorizer(max_df=0.5, max_features=15000, ngram_range=(1, 2)) \u001b[35m|\u001b[0m\u001b[38;5;183m  TfidfVectorizer3 \u001b[35m|\u001b[0m\u001b[38;5;183m 0.3271193967114935 \u001b[35m|\u001b[0m\u001b[38;5;183m 0.38670798898071623 \u001b[35m|\u001b[0m\u001b[38;5;183m 0.34611396029056174 \u001b[35m|\u001b[0m\u001b[38;5;183m 0.32272975416932137 \u001b[35m|\u001b[0m\u001b[38;5;183m\n",
      "\u001b[38;5;219m+\u001b[0m\u001b[38;5;183m\u001b[38;5;147m-\u001b[0m\u001b[38;5;183m\u001b[38;5;147m-\u001b[0m\u001b[38;5;183m\u001b[38;5;147m-\u001b[0m\u001b[38;5;183m\u001b[38;5;147m-\u001b[0m\u001b[38;5;183m\u001b[38;5;147m-\u001b[0m\u001b[38;5;183m\u001b[38;5;147m-\u001b[0m\u001b[38;5;183m\u001b[38;5;219m+\u001b[0m\u001b[38;5;183m\u001b[38;5;147m-\u001b[0m\u001b[38;5;183m\u001b[38;5;147m-\u001b[0m\u001b[38;5;183m\u001b[38;5;147m-\u001b[0m\u001b[38;5;183m\u001b[38;5;147m-\u001b[0m\u001b[38;5;183m\u001b[38;5;147m-\u001b[0m\u001b[38;5;183m\u001b[38;5;147m-\u001b[0m\u001b[38;5;183m\u001b[38;5;147m-\u001b[0m\u001b[38;5;183m\u001b[38;5;147m-\u001b[0m\u001b[38;5;183m\u001b[38;5;147m-\u001b[0m\u001b[38;5;183m\u001b[38;5;147m-\u001b[0m\u001b[38;5;183m\u001b[38;5;147m-\u001b[0m\u001b[38;5;183m\u001b[38;5;147m-\u001b[0m\u001b[38;5;183m\u001b[38;5;147m-\u001b[0m\u001b[38;5;183m\u001b[38;5;147m-\u001b[0m\u001b[38;5;183m\u001b[38;5;147m-\u001b[0m\u001b[38;5;183m\u001b[38;5;147m-\u001b[0m\u001b[38;5;183m\u001b[38;5;147m-\u001b[0m\u001b[38;5;183m\u001b[38;5;147m-\u001b[0m\u001b[38;5;183m\u001b[38;5;147m-\u001b[0m\u001b[38;5;183m\u001b[38;5;147m-\u001b[0m\u001b[38;5;183m\u001b[38;5;147m-\u001b[0m\u001b[38;5;183m\u001b[38;5;147m-\u001b[0m\u001b[38;5;183m\u001b[38;5;147m-\u001b[0m\u001b[38;5;183m\u001b[38;5;147m-\u001b[0m\u001b[38;5;183m\u001b[38;5;147m-\u001b[0m\u001b[38;5;183m\u001b[38;5;147m-\u001b[0m\u001b[38;5;183m\u001b[38;5;147m-\u001b[0m\u001b[38;5;183m\u001b[38;5;147m-\u001b[0m\u001b[38;5;183m\u001b[38;5;147m-\u001b[0m\u001b[38;5;183m\u001b[38;5;147m-\u001b[0m\u001b[38;5;183m\u001b[38;5;147m-\u001b[0m\u001b[38;5;183m\u001b[38;5;147m-\u001b[0m\u001b[38;5;183m\u001b[38;5;147m-\u001b[0m\u001b[38;5;183m\u001b[38;5;147m-\u001b[0m\u001b[38;5;183m\u001b[38;5;147m-\u001b[0m\u001b[38;5;183m\u001b[38;5;147m-\u001b[0m\u001b[38;5;183m\u001b[38;5;147m-\u001b[0m\u001b[38;5;183m\u001b[38;5;147m-\u001b[0m\u001b[38;5;183m\u001b[38;5;147m-\u001b[0m\u001b[38;5;183m\u001b[38;5;147m-\u001b[0m\u001b[38;5;183m\u001b[38;5;147m-\u001b[0m\u001b[38;5;183m\u001b[38;5;147m-\u001b[0m\u001b[38;5;183m\u001b[38;5;147m-\u001b[0m\u001b[38;5;183m\u001b[38;5;147m-\u001b[0m\u001b[38;5;183m\u001b[38;5;147m-\u001b[0m\u001b[38;5;183m\u001b[38;5;147m-\u001b[0m\u001b[38;5;183m\u001b[38;5;147m-\u001b[0m\u001b[38;5;183m\u001b[38;5;147m-\u001b[0m\u001b[38;5;183m\u001b[38;5;147m-\u001b[0m\u001b[38;5;183m\u001b[38;5;147m-\u001b[0m\u001b[38;5;183m\u001b[38;5;147m-\u001b[0m\u001b[38;5;183m\u001b[38;5;147m-\u001b[0m\u001b[38;5;183m\u001b[38;5;147m-\u001b[0m\u001b[38;5;183m\u001b[38;5;147m-\u001b[0m\u001b[38;5;183m\u001b[38;5;147m-\u001b[0m\u001b[38;5;183m\u001b[38;5;147m-\u001b[0m\u001b[38;5;183m\u001b[38;5;147m-\u001b[0m\u001b[38;5;183m\u001b[38;5;147m-\u001b[0m\u001b[38;5;183m\u001b[38;5;147m-\u001b[0m\u001b[38;5;183m\u001b[38;5;147m-\u001b[0m\u001b[38;5;183m\u001b[38;5;147m-\u001b[0m\u001b[38;5;183m\u001b[38;5;147m-\u001b[0m\u001b[38;5;183m\u001b[38;5;147m-\u001b[0m\u001b[38;5;183m\u001b[38;5;147m-\u001b[0m\u001b[38;5;183m\u001b[38;5;147m-\u001b[0m\u001b[38;5;183m\u001b[38;5;147m-\u001b[0m\u001b[38;5;183m\u001b[38;5;147m-\u001b[0m\u001b[38;5;183m\u001b[38;5;147m-\u001b[0m\u001b[38;5;183m\u001b[38;5;147m-\u001b[0m\u001b[38;5;183m\u001b[38;5;219m+\u001b[0m\u001b[38;5;183m\u001b[38;5;147m-\u001b[0m\u001b[38;5;183m\u001b[38;5;147m-\u001b[0m\u001b[38;5;183m\u001b[38;5;147m-\u001b[0m\u001b[38;5;183m\u001b[38;5;147m-\u001b[0m\u001b[38;5;183m\u001b[38;5;147m-\u001b[0m\u001b[38;5;183m\u001b[38;5;147m-\u001b[0m\u001b[38;5;183m\u001b[38;5;147m-\u001b[0m\u001b[38;5;183m\u001b[38;5;147m-\u001b[0m\u001b[38;5;183m\u001b[38;5;147m-\u001b[0m\u001b[38;5;183m\u001b[38;5;147m-\u001b[0m\u001b[38;5;183m\u001b[38;5;147m-\u001b[0m\u001b[38;5;183m\u001b[38;5;147m-\u001b[0m\u001b[38;5;183m\u001b[38;5;147m-\u001b[0m\u001b[38;5;183m\u001b[38;5;147m-\u001b[0m\u001b[38;5;183m\u001b[38;5;147m-\u001b[0m\u001b[38;5;183m\u001b[38;5;147m-\u001b[0m\u001b[38;5;183m\u001b[38;5;147m-\u001b[0m\u001b[38;5;183m\u001b[38;5;147m-\u001b[0m\u001b[38;5;183m\u001b[38;5;147m-\u001b[0m\u001b[38;5;183m\u001b[38;5;219m+\u001b[0m\u001b[38;5;183m\u001b[38;5;147m-\u001b[0m\u001b[38;5;183m\u001b[38;5;147m-\u001b[0m\u001b[38;5;183m\u001b[38;5;147m-\u001b[0m\u001b[38;5;183m\u001b[38;5;147m-\u001b[0m\u001b[38;5;183m\u001b[38;5;147m-\u001b[0m\u001b[38;5;183m\u001b[38;5;147m-\u001b[0m\u001b[38;5;183m\u001b[38;5;147m-\u001b[0m\u001b[38;5;183m\u001b[38;5;147m-\u001b[0m\u001b[38;5;183m\u001b[38;5;147m-\u001b[0m\u001b[38;5;183m\u001b[38;5;147m-\u001b[0m\u001b[38;5;183m\u001b[38;5;147m-\u001b[0m\u001b[38;5;183m\u001b[38;5;147m-\u001b[0m\u001b[38;5;183m\u001b[38;5;147m-\u001b[0m\u001b[38;5;183m\u001b[38;5;147m-\u001b[0m\u001b[38;5;183m\u001b[38;5;147m-\u001b[0m\u001b[38;5;183m\u001b[38;5;147m-\u001b[0m\u001b[38;5;183m\u001b[38;5;147m-\u001b[0m\u001b[38;5;183m\u001b[38;5;147m-\u001b[0m\u001b[38;5;183m\u001b[38;5;147m-\u001b[0m\u001b[38;5;183m\u001b[38;5;147m-\u001b[0m\u001b[38;5;183m\u001b[38;5;219m+\u001b[0m\u001b[38;5;183m\u001b[38;5;147m-\u001b[0m\u001b[38;5;183m\u001b[38;5;147m-\u001b[0m\u001b[38;5;183m\u001b[38;5;147m-\u001b[0m\u001b[38;5;183m\u001b[38;5;147m-\u001b[0m\u001b[38;5;183m\u001b[38;5;147m-\u001b[0m\u001b[38;5;183m\u001b[38;5;147m-\u001b[0m\u001b[38;5;183m\u001b[38;5;147m-\u001b[0m\u001b[38;5;183m\u001b[38;5;147m-\u001b[0m\u001b[38;5;183m\u001b[38;5;147m-\u001b[0m\u001b[38;5;183m\u001b[38;5;147m-\u001b[0m\u001b[38;5;183m\u001b[38;5;147m-\u001b[0m\u001b[38;5;183m\u001b[38;5;147m-\u001b[0m\u001b[38;5;183m\u001b[38;5;147m-\u001b[0m\u001b[38;5;183m\u001b[38;5;147m-\u001b[0m\u001b[38;5;183m\u001b[38;5;147m-\u001b[0m\u001b[38;5;183m\u001b[38;5;147m-\u001b[0m\u001b[38;5;183m\u001b[38;5;147m-\u001b[0m\u001b[38;5;183m\u001b[38;5;147m-\u001b[0m\u001b[38;5;183m\u001b[38;5;147m-\u001b[0m\u001b[38;5;183m\u001b[38;5;147m-\u001b[0m\u001b[38;5;183m\u001b[38;5;147m-\u001b[0m\u001b[38;5;183m\u001b[38;5;219m+\u001b[0m\u001b[38;5;183m\u001b[38;5;147m-\u001b[0m\u001b[38;5;183m\u001b[38;5;147m-\u001b[0m\u001b[38;5;183m\u001b[38;5;147m-\u001b[0m\u001b[38;5;183m\u001b[38;5;147m-\u001b[0m\u001b[38;5;183m\u001b[38;5;147m-\u001b[0m\u001b[38;5;183m\u001b[38;5;147m-\u001b[0m\u001b[38;5;183m\u001b[38;5;147m-\u001b[0m\u001b[38;5;183m\u001b[38;5;147m-\u001b[0m\u001b[38;5;183m\u001b[38;5;147m-\u001b[0m\u001b[38;5;183m\u001b[38;5;147m-\u001b[0m\u001b[38;5;183m\u001b[38;5;147m-\u001b[0m\u001b[38;5;183m\u001b[38;5;147m-\u001b[0m\u001b[38;5;183m\u001b[38;5;147m-\u001b[0m\u001b[38;5;183m\u001b[38;5;147m-\u001b[0m\u001b[38;5;183m\u001b[38;5;147m-\u001b[0m\u001b[38;5;183m\u001b[38;5;147m-\u001b[0m\u001b[38;5;183m\u001b[38;5;147m-\u001b[0m\u001b[38;5;183m\u001b[38;5;147m-\u001b[0m\u001b[38;5;183m\u001b[38;5;147m-\u001b[0m\u001b[38;5;183m\u001b[38;5;147m-\u001b[0m\u001b[38;5;183m\u001b[38;5;147m-\u001b[0m\u001b[38;5;183m\u001b[38;5;219m+\u001b[0m\u001b[38;5;183m\u001b[38;5;147m-\u001b[0m\u001b[38;5;183m\u001b[38;5;147m-\u001b[0m\u001b[38;5;183m\u001b[38;5;147m-\u001b[0m\u001b[38;5;183m\u001b[38;5;147m-\u001b[0m\u001b[38;5;183m\u001b[38;5;147m-\u001b[0m\u001b[38;5;183m\u001b[38;5;147m-\u001b[0m\u001b[38;5;183m\u001b[38;5;147m-\u001b[0m\u001b[38;5;183m\u001b[38;5;147m-\u001b[0m\u001b[38;5;183m\u001b[38;5;147m-\u001b[0m\u001b[38;5;183m\u001b[38;5;147m-\u001b[0m\u001b[38;5;183m\u001b[38;5;147m-\u001b[0m\u001b[38;5;183m\u001b[38;5;147m-\u001b[0m\u001b[38;5;183m\u001b[38;5;147m-\u001b[0m\u001b[38;5;183m\u001b[38;5;147m-\u001b[0m\u001b[38;5;183m\u001b[38;5;147m-\u001b[0m\u001b[38;5;183m\u001b[38;5;147m-\u001b[0m\u001b[38;5;183m\u001b[38;5;147m-\u001b[0m\u001b[38;5;183m\u001b[38;5;147m-\u001b[0m\u001b[38;5;183m\u001b[38;5;147m-\u001b[0m\u001b[38;5;183m\u001b[38;5;147m-\u001b[0m\u001b[38;5;183m\u001b[38;5;147m-\u001b[0m\u001b[38;5;183m\u001b[38;5;219m+\u001b[0m\u001b[38;5;183m\u001b[0m\n"
     ]
    }
   ],
   "source": [
    "def visualise_vect_comparison(scores_knn, scores_cnb, scores_svc):\n",
    "\n",
    "    field_names = [\"Algo\", \"Vectorizer\", \"Vectorizer ID\", \"Macro f1\", \"Accuracy\", \"Precision\", \"Rappel\"]\n",
    "\n",
    "    prettytable_knn = ColorTable(theme=Themes.LAVENDER)\n",
    "    prettytable_knn.field_names = field_names\n",
    "    prettytable_cnb = ColorTable(theme=Themes.LAVENDER)\n",
    "    prettytable_cnb.field_names = field_names\n",
    "    prettytable_svc = ColorTable(theme=Themes.LAVENDER)\n",
    "    prettytable_svc.field_names = field_names\n",
    "\n",
    "    three_best_knn = scores_knn[:3]\n",
    "    three_best_cnb = scores_cnb[:3]\n",
    "    three_best_svc = scores_svc[:3]\n",
    "\n",
    "    fill_vect_table(three_best_knn, \"knn\", prettytable_knn)\n",
    "    fill_vect_table(three_best_cnb, \"cnb\", prettytable_cnb)\n",
    "    fill_vect_table(three_best_svc, \"svc\", prettytable_svc)\n",
    "\n",
    "\n",
    "visualise_vect_comparison(sorted_scores_knn, sorted_scores_cnb, sorted_scores_svc)\n",
    "    "
   ]
  },
  {
   "cell_type": "markdown",
   "metadata": {},
   "source": [
    "**Au vu de nos résultats**, on peut admettre que c'est un tfidf avec une max df de 0.9, des max_features de 15 000 et un ngram range de (1, 2) qui donne les meilleurs résultats.\n",
    "**Nous utiliserons ainsi cette combinaison d'hyperparamètres et donc cette vectorisation pour nos essais suivants.**"
   ]
  },
  {
   "cell_type": "markdown",
   "metadata": {},
   "source": [
    "**On peut donc créer les variables que nous utiliserons lors de la suite du TP :**"
   ]
  },
  {
   "cell_type": "markdown",
   "metadata": {},
   "source": [
    "# ON UTILISE CELLES LÀ"
   ]
  },
  {
   "cell_type": "code",
   "execution_count": 191,
   "metadata": {},
   "outputs": [],
   "source": [
    "# df_vectorisations[\"vectorizer\"] = df_vectorisations[\"vectorizer\"].str.strip()\n",
    "\n",
    "best_data = df_vectorisations[df_vectorisations[\"vectorizer_id\"] == \"TfidfVectorizer5\"]\n",
    "x_train = best_data.iloc[0][\"x_train\"]\n",
    "y_train = df_train[\"label\"]\n",
    "\n",
    "x_test = best_data.iloc[0][\"x_test\"]\n",
    "y_test = df_test[\"label\"]\n"
   ]
  },
  {
   "cell_type": "markdown",
   "metadata": {},
   "source": [
    "- x_train\n",
    "- y_train\n",
    "- x_test\n",
    "- y_test"
   ]
  },
  {
   "cell_type": "markdown",
   "metadata": {},
   "source": [
    "# 3. Comparaison des modèles\n",
    "\n",
    "# OK LES GURLIES À FAIRE !\n",
    "\n",
    "On a le code pour entrainer nos modèles et obtenir des informations (les attributs de la classe) !\n",
    "\n",
    "\n",
    "Je pense que le mieux right now c'est de garder genre 10 algorithmes dans le dico, commentez les arbres et le LGBM et le SVC de base.\n",
    "\n",
    "Comme ça vous pouvez modifier la classe ou tester des trucs (si vous voulez) rapidos et sans attendre 20min.\n",
    "\n",
    "Bref vu que c'est rapidos. On s'en fout un peu des résultats.\n",
    "JUste obtenir lees résultats permet ensuite de passer à la partie 4 qu'il faut finir aujourd'hui !!!\n",
    "\n",
    "Testez les codes sur les meilleurs algo obtenus avec cette partie comme ça tout va bien."
   ]
  },
  {
   "cell_type": "code",
   "execution_count": 173,
   "metadata": {},
   "outputs": [],
   "source": [
    "def time_function(func):\n",
    "    def wrapper(*args, **kwargs):\n",
    "        start = time.time()\n",
    "        result = func(*args, **kwargs)\n",
    "        end = time.time()\n",
    "        return result, end - start\n",
    "    return wrapper"
   ]
  },
  {
   "cell_type": "markdown",
   "metadata": {},
   "source": [
    "# ALIX METS MACRO AVG DANS LES ATTRIBUTS !!! VOILA ON A CLASSIFICATION MAIS GO METTRE MACRO AVG"
   ]
  },
  {
   "cell_type": "code",
   "execution_count": 182,
   "metadata": {},
   "outputs": [],
   "source": [
    "class Model:\n",
    "\n",
    "    # Contient tous les modèles entrainés ! \n",
    "    all_models = []\n",
    "\n",
    "    def __init__(self, name: str, model=None, scores={}, running_time=None):\n",
    "        self.name = name\n",
    "        self.model = model\n",
    "        self.scores = scores\n",
    "        self.running_time = running_time\n",
    "\n",
    "        Model.all_models.append(self)\n",
    "        # Pour chaque modèle entraîné, on garde son nom (algo + num), le modèle et ses \n",
    "        # hyperparamètres pour cet entraînement, les métriques obtenues, et son temps d'execution !\n",
    "\n",
    "    # Pour vider la liste si nécessaire ! \n",
    "    @classmethod\n",
    "    def reset(cls):\n",
    "        cls.all_models = []\n",
    "\n",
    "    # Entraîne le modèle\n",
    "    @time_function\n",
    "    def fit_model(self, x_train, y_train):\n",
    "        self.model.fit(x_train, y_train)\n",
    "    \n",
    "    # Prédictions et scores\n",
    "    @time_function\n",
    "    def predict(self, x_test, y_test):\n",
    "        y_pred = self.model.predict(x_test)\n",
    "        report = classification_report(y_test, y_pred, output_dict=True)\n",
    "        accuracy = accuracy_score(y_test, y_pred)\n",
    "        accuracy_dict =  {\"accuracy\": accuracy, **report}\n",
    "        self.scores = accuracy_dict\n",
    "        return y_pred\n",
    "\n",
    "      # Lance les fonctions d'entraînement et de prédiction\n",
    "    # Stock les temps d'execution\n",
    "    def test_model(self, x_train, y_train, x_test, y_test):\n",
    "        _, fit_execution_time = self.fit_model(x_train, y_train)\n",
    "        y_pred, predict_execution_time = self.predict(x_test, y_test)\n",
    "        self.running_time = fit_execution_time + predict_execution_time"
   ]
  },
  {
   "cell_type": "code",
   "execution_count": 192,
   "metadata": {},
   "outputs": [],
   "source": [
    "Model.reset()"
   ]
  },
  {
   "cell_type": "code",
   "execution_count": 193,
   "metadata": {},
   "outputs": [],
   "source": [
    "models_dict = {\n",
    "    \"KNN\" : { \"model\" : KNeighborsClassifier(), \"hyperparameters\": {\"n_neighbors\": [3, 5, 7]}},\n",
    "    \"MultinomialNB\": {\"model\": MultinomialNB(), \"hyperparameters\": {\"alpha\": [0.5, 1.0], \"fit_prior\": [True, False]}},\n",
    "    \"ComplementNB\" : {\"model\": ComplementNB(), \"hyperparameters\": {\"alpha\": [0.5, 1.0], \"fit_prior\": [True, False]}},\n",
    "    \"LogisticRegression\": {\"model\": LogisticRegression(), \"hyperparameters\": {\"C\": [0.5, 1.0]}},\n",
    "    \"SGDClassifier\": {\"model\": SGDClassifier(), \"hyperparameters\": {\"alpha\": [0.0001, 0.001, 0.01], \"loss\": [\"hinge\", \"squared_hinge\"]}},\n",
    "    \"LinearSVC\": {\"model\": LinearSVC(), \"hyperparameters\": {\"C\": [0.5, 1.0], \"dual\":[True, False]}},\n",
    "    \"SVC\": {\"model\": SVC(), \"hyperparameters\": {\"kernel\": [\"poly\", \"sigmoid\"]}},\n",
    "    \"RidgeClassifier\": {\"model\": RidgeClassifier(), \"hyperparameters\": { \"alpha\": [1.0, 1.5, 2]}},\n",
    "    \"LGBMClassifier\": {\"model\": LGBMClassifier(), \"hyperparameters\": {\"max_depth\": [500], \"n_estimators\": [500]}},\n",
    "    \"RandomForestClassifier\": {\"model\": RandomForestClassifier(), \"hyperparameters\": {\"max_depth\": [100]}},\n",
    "    \"PassiveAggressiveClassifier\": {\"model\": PassiveAggressiveClassifier(), \"hyperparameters\": {\"C\": [0.5, 1.0], \"loss\": [\"hinge\", \"squared_hinge\"]}}\n",
    " }"
   ]
  },
  {
   "cell_type": "code",
   "execution_count": 194,
   "metadata": {},
   "outputs": [],
   "source": [
    "def hyperparameters_training(model_name, model_dict, x_train, y_train, x_test, y_test):\n",
    "    param_grid = model_dict[\"hyperparameters\"]\n",
    "\n",
    "    if len(param_grid) == 1:\n",
    "        param_name, param_values = list(param_grid.items())[0]\n",
    "        for i, value in enumerate(param_values, start=1):\n",
    "            params = {param_name: value}\n",
    "            model = model_dict[\"model\"].__class__(**params)  \n",
    "            model_obj = Model(name=f\"{model_name}_{i}\", model=model)\n",
    "            model_obj.test_model(x_train, y_train, x_test, y_test)\n",
    "    else:\n",
    "        param_grid_combinations = list(product(*param_grid.values()))\n",
    "        for i, combination in enumerate(param_grid_combinations, start=1):\n",
    "            params = {param_name: value for param_name, value in zip(param_grid.keys(), combination)}\n",
    "            model = model_dict[\"model\"].__class__(**params) \n",
    "            model_obj = Model(name=f\"{model_name}_{i}\", model=model)\n",
    "            model_obj.test_model(x_train, y_train, x_test, y_test)"
   ]
  },
  {
   "cell_type": "code",
   "execution_count": 167,
   "metadata": {},
   "outputs": [],
   "source": [
    "# vectorizer = TfidfVectorizer()\n",
    "# x_train_vectorized = vectorizer.fit_transform(df_train[\"texte_nettoyé\"])\n",
    "# x_test_vectorized = vectorizer.transform(df_test[\"texte_nettoyé\"])\n",
    "# y_test = df_test[\"label\"]\n",
    "# y_train = df_train[\"label\"]"
   ]
  },
  {
   "cell_type": "code",
   "execution_count": 195,
   "metadata": {},
   "outputs": [
    {
     "name": "stdout",
     "output_type": "stream",
     "text": [
      "On teste le modèle KNN !\n",
      "On teste le modèle MultinomialNB !\n"
     ]
    },
    {
     "name": "stderr",
     "output_type": "stream",
     "text": [
      "/home/karmin/Downloads/yes/envs/app_auto_dm_test/lib/python3.12/site-packages/sklearn/metrics/_classification.py:1565: UndefinedMetricWarning: Precision is ill-defined and being set to 0.0 in labels with no predicted samples. Use `zero_division` parameter to control this behavior.\n",
      "  _warn_prf(average, modifier, f\"{metric.capitalize()} is\", len(result))\n",
      "/home/karmin/Downloads/yes/envs/app_auto_dm_test/lib/python3.12/site-packages/sklearn/metrics/_classification.py:1565: UndefinedMetricWarning: Precision is ill-defined and being set to 0.0 in labels with no predicted samples. Use `zero_division` parameter to control this behavior.\n",
      "  _warn_prf(average, modifier, f\"{metric.capitalize()} is\", len(result))\n",
      "/home/karmin/Downloads/yes/envs/app_auto_dm_test/lib/python3.12/site-packages/sklearn/metrics/_classification.py:1565: UndefinedMetricWarning: Precision is ill-defined and being set to 0.0 in labels with no predicted samples. Use `zero_division` parameter to control this behavior.\n",
      "  _warn_prf(average, modifier, f\"{metric.capitalize()} is\", len(result))\n",
      "/home/karmin/Downloads/yes/envs/app_auto_dm_test/lib/python3.12/site-packages/sklearn/metrics/_classification.py:1565: UndefinedMetricWarning: Precision is ill-defined and being set to 0.0 in labels with no predicted samples. Use `zero_division` parameter to control this behavior.\n",
      "  _warn_prf(average, modifier, f\"{metric.capitalize()} is\", len(result))\n",
      "/home/karmin/Downloads/yes/envs/app_auto_dm_test/lib/python3.12/site-packages/sklearn/metrics/_classification.py:1565: UndefinedMetricWarning: Precision is ill-defined and being set to 0.0 in labels with no predicted samples. Use `zero_division` parameter to control this behavior.\n",
      "  _warn_prf(average, modifier, f\"{metric.capitalize()} is\", len(result))\n",
      "/home/karmin/Downloads/yes/envs/app_auto_dm_test/lib/python3.12/site-packages/sklearn/metrics/_classification.py:1565: UndefinedMetricWarning: Precision is ill-defined and being set to 0.0 in labels with no predicted samples. Use `zero_division` parameter to control this behavior.\n",
      "  _warn_prf(average, modifier, f\"{metric.capitalize()} is\", len(result))\n",
      "/home/karmin/Downloads/yes/envs/app_auto_dm_test/lib/python3.12/site-packages/sklearn/metrics/_classification.py:1565: UndefinedMetricWarning: Precision is ill-defined and being set to 0.0 in labels with no predicted samples. Use `zero_division` parameter to control this behavior.\n",
      "  _warn_prf(average, modifier, f\"{metric.capitalize()} is\", len(result))\n",
      "/home/karmin/Downloads/yes/envs/app_auto_dm_test/lib/python3.12/site-packages/sklearn/metrics/_classification.py:1565: UndefinedMetricWarning: Precision is ill-defined and being set to 0.0 in labels with no predicted samples. Use `zero_division` parameter to control this behavior.\n",
      "  _warn_prf(average, modifier, f\"{metric.capitalize()} is\", len(result))\n",
      "/home/karmin/Downloads/yes/envs/app_auto_dm_test/lib/python3.12/site-packages/sklearn/metrics/_classification.py:1565: UndefinedMetricWarning: Precision is ill-defined and being set to 0.0 in labels with no predicted samples. Use `zero_division` parameter to control this behavior.\n",
      "  _warn_prf(average, modifier, f\"{metric.capitalize()} is\", len(result))\n"
     ]
    },
    {
     "name": "stdout",
     "output_type": "stream",
     "text": [
      "On teste le modèle ComplementNB !\n",
      "On teste le modèle LogisticRegression !\n",
      "On teste le modèle SGDClassifier !\n"
     ]
    },
    {
     "name": "stderr",
     "output_type": "stream",
     "text": [
      "/home/karmin/Downloads/yes/envs/app_auto_dm_test/lib/python3.12/site-packages/sklearn/metrics/_classification.py:1565: UndefinedMetricWarning: Precision is ill-defined and being set to 0.0 in labels with no predicted samples. Use `zero_division` parameter to control this behavior.\n",
      "  _warn_prf(average, modifier, f\"{metric.capitalize()} is\", len(result))\n",
      "/home/karmin/Downloads/yes/envs/app_auto_dm_test/lib/python3.12/site-packages/sklearn/metrics/_classification.py:1565: UndefinedMetricWarning: Precision is ill-defined and being set to 0.0 in labels with no predicted samples. Use `zero_division` parameter to control this behavior.\n",
      "  _warn_prf(average, modifier, f\"{metric.capitalize()} is\", len(result))\n",
      "/home/karmin/Downloads/yes/envs/app_auto_dm_test/lib/python3.12/site-packages/sklearn/metrics/_classification.py:1565: UndefinedMetricWarning: Precision is ill-defined and being set to 0.0 in labels with no predicted samples. Use `zero_division` parameter to control this behavior.\n",
      "  _warn_prf(average, modifier, f\"{metric.capitalize()} is\", len(result))\n"
     ]
    },
    {
     "name": "stdout",
     "output_type": "stream",
     "text": [
      "On teste le modèle LinearSVC !\n",
      "On teste le modèle SVC !\n"
     ]
    },
    {
     "name": "stderr",
     "output_type": "stream",
     "text": [
      "/home/karmin/Downloads/yes/envs/app_auto_dm_test/lib/python3.12/site-packages/sklearn/metrics/_classification.py:1565: UndefinedMetricWarning: Precision is ill-defined and being set to 0.0 in labels with no predicted samples. Use `zero_division` parameter to control this behavior.\n",
      "  _warn_prf(average, modifier, f\"{metric.capitalize()} is\", len(result))\n",
      "/home/karmin/Downloads/yes/envs/app_auto_dm_test/lib/python3.12/site-packages/sklearn/metrics/_classification.py:1565: UndefinedMetricWarning: Precision is ill-defined and being set to 0.0 in labels with no predicted samples. Use `zero_division` parameter to control this behavior.\n",
      "  _warn_prf(average, modifier, f\"{metric.capitalize()} is\", len(result))\n",
      "/home/karmin/Downloads/yes/envs/app_auto_dm_test/lib/python3.12/site-packages/sklearn/metrics/_classification.py:1565: UndefinedMetricWarning: Precision is ill-defined and being set to 0.0 in labels with no predicted samples. Use `zero_division` parameter to control this behavior.\n",
      "  _warn_prf(average, modifier, f\"{metric.capitalize()} is\", len(result))\n"
     ]
    },
    {
     "name": "stdout",
     "output_type": "stream",
     "text": [
      "On teste le modèle RidgeClassifier !\n",
      "On teste le modèle LGBMClassifier !\n"
     ]
    },
    {
     "name": "stderr",
     "output_type": "stream",
     "text": [
      "/home/karmin/Downloads/yes/envs/app_auto_dm_test/lib/python3.12/site-packages/sklearn/utils/deprecation.py:151: FutureWarning: 'force_all_finite' was renamed to 'ensure_all_finite' in 1.6 and will be removed in 1.8.\n",
      "  warnings.warn(\n"
     ]
    },
    {
     "name": "stdout",
     "output_type": "stream",
     "text": [
      "[LightGBM] [Info] Auto-choosing col-wise multi-threading, the overhead of testing was 0.190295 seconds.\n",
      "You can set `force_col_wise=true` to remove the overhead.\n",
      "[LightGBM] [Info] Total Bins 184903\n",
      "[LightGBM] [Info] Number of data points in the train set: 13068, number of used features: 5932\n",
      "[LightGBM] [Info] Start training from score -2.269321\n",
      "[LightGBM] [Info] Start training from score -1.969683\n",
      "[LightGBM] [Info] Start training from score -1.036530\n",
      "[LightGBM] [Info] Start training from score -1.275439\n",
      "[LightGBM] [Info] Start training from score -2.094554\n"
     ]
    },
    {
     "name": "stderr",
     "output_type": "stream",
     "text": [
      "/home/karmin/Downloads/yes/envs/app_auto_dm_test/lib/python3.12/site-packages/sklearn/utils/deprecation.py:151: FutureWarning: 'force_all_finite' was renamed to 'ensure_all_finite' in 1.6 and will be removed in 1.8.\n",
      "  warnings.warn(\n"
     ]
    },
    {
     "name": "stdout",
     "output_type": "stream",
     "text": [
      "On teste le modèle RandomForestClassifier !\n"
     ]
    },
    {
     "name": "stderr",
     "output_type": "stream",
     "text": [
      "/home/karmin/Downloads/yes/envs/app_auto_dm_test/lib/python3.12/site-packages/sklearn/metrics/_classification.py:1565: UndefinedMetricWarning: Precision is ill-defined and being set to 0.0 in labels with no predicted samples. Use `zero_division` parameter to control this behavior.\n",
      "  _warn_prf(average, modifier, f\"{metric.capitalize()} is\", len(result))\n",
      "/home/karmin/Downloads/yes/envs/app_auto_dm_test/lib/python3.12/site-packages/sklearn/metrics/_classification.py:1565: UndefinedMetricWarning: Precision is ill-defined and being set to 0.0 in labels with no predicted samples. Use `zero_division` parameter to control this behavior.\n",
      "  _warn_prf(average, modifier, f\"{metric.capitalize()} is\", len(result))\n",
      "/home/karmin/Downloads/yes/envs/app_auto_dm_test/lib/python3.12/site-packages/sklearn/metrics/_classification.py:1565: UndefinedMetricWarning: Precision is ill-defined and being set to 0.0 in labels with no predicted samples. Use `zero_division` parameter to control this behavior.\n",
      "  _warn_prf(average, modifier, f\"{metric.capitalize()} is\", len(result))\n"
     ]
    },
    {
     "name": "stdout",
     "output_type": "stream",
     "text": [
      "On teste le modèle PassiveAggressiveClassifier !\n"
     ]
    },
    {
     "data": {
      "text/plain": [
       "(None, 971.7487998008728)"
      ]
     },
     "execution_count": 195,
     "metadata": {},
     "output_type": "execute_result"
    }
   ],
   "source": [
    "@time_function\n",
    "def test_models(models, x_train, y_train, x_test, y_test):\n",
    "                                 \n",
    "    for model_name, model_dict in models.items():\n",
    "        print(f\"On teste le modèle {model_name} !\")\n",
    "        hyperparameters_training(model_name, model_dict, x_train, y_train, x_test, y_test)\n",
    "\n",
    "test_models(models_dict, x_train, y_train, x_test, y_test)"
   ]
  },
  {
   "cell_type": "code",
   "execution_count": 196,
   "metadata": {},
   "outputs": [
    {
     "name": "stdout",
     "output_type": "stream",
     "text": [
      "\u001b[38;5;219m+\u001b[0m\u001b[38;5;183m\u001b[38;5;147m-\u001b[0m\u001b[38;5;183m\u001b[38;5;147m-\u001b[0m\u001b[38;5;183m\u001b[38;5;147m-\u001b[0m\u001b[38;5;183m\u001b[38;5;147m-\u001b[0m\u001b[38;5;183m\u001b[38;5;147m-\u001b[0m\u001b[38;5;183m\u001b[38;5;147m-\u001b[0m\u001b[38;5;183m\u001b[38;5;147m-\u001b[0m\u001b[38;5;183m\u001b[38;5;147m-\u001b[0m\u001b[38;5;183m\u001b[38;5;147m-\u001b[0m\u001b[38;5;183m\u001b[38;5;147m-\u001b[0m\u001b[38;5;183m\u001b[38;5;147m-\u001b[0m\u001b[38;5;183m\u001b[38;5;147m-\u001b[0m\u001b[38;5;183m\u001b[38;5;147m-\u001b[0m\u001b[38;5;183m\u001b[38;5;147m-\u001b[0m\u001b[38;5;183m\u001b[38;5;147m-\u001b[0m\u001b[38;5;183m\u001b[38;5;147m-\u001b[0m\u001b[38;5;183m\u001b[38;5;147m-\u001b[0m\u001b[38;5;183m\u001b[38;5;147m-\u001b[0m\u001b[38;5;183m\u001b[38;5;147m-\u001b[0m\u001b[38;5;183m\u001b[38;5;147m-\u001b[0m\u001b[38;5;183m\u001b[38;5;147m-\u001b[0m\u001b[38;5;183m\u001b[38;5;147m-\u001b[0m\u001b[38;5;183m\u001b[38;5;147m-\u001b[0m\u001b[38;5;183m\u001b[38;5;147m-\u001b[0m\u001b[38;5;183m\u001b[38;5;147m-\u001b[0m\u001b[38;5;183m\u001b[38;5;147m-\u001b[0m\u001b[38;5;183m\u001b[38;5;147m-\u001b[0m\u001b[38;5;183m\u001b[38;5;147m-\u001b[0m\u001b[38;5;183m\u001b[38;5;147m-\u001b[0m\u001b[38;5;183m\u001b[38;5;147m-\u001b[0m\u001b[38;5;183m\u001b[38;5;147m-\u001b[0m\u001b[38;5;183m\u001b[38;5;219m+\u001b[0m\u001b[38;5;183m\u001b[38;5;147m-\u001b[0m\u001b[38;5;183m\u001b[38;5;147m-\u001b[0m\u001b[38;5;183m\u001b[38;5;147m-\u001b[0m\u001b[38;5;183m\u001b[38;5;147m-\u001b[0m\u001b[38;5;183m\u001b[38;5;147m-\u001b[0m\u001b[38;5;183m\u001b[38;5;147m-\u001b[0m\u001b[38;5;183m\u001b[38;5;147m-\u001b[0m\u001b[38;5;183m\u001b[38;5;147m-\u001b[0m\u001b[38;5;183m\u001b[38;5;147m-\u001b[0m\u001b[38;5;183m\u001b[38;5;147m-\u001b[0m\u001b[38;5;183m\u001b[38;5;147m-\u001b[0m\u001b[38;5;183m\u001b[38;5;147m-\u001b[0m\u001b[38;5;183m\u001b[38;5;147m-\u001b[0m\u001b[38;5;183m\u001b[38;5;147m-\u001b[0m\u001b[38;5;183m\u001b[38;5;147m-\u001b[0m\u001b[38;5;183m\u001b[38;5;147m-\u001b[0m\u001b[38;5;183m\u001b[38;5;147m-\u001b[0m\u001b[38;5;183m\u001b[38;5;147m-\u001b[0m\u001b[38;5;183m\u001b[38;5;147m-\u001b[0m\u001b[38;5;183m\u001b[38;5;147m-\u001b[0m\u001b[38;5;183m\u001b[38;5;147m-\u001b[0m\u001b[38;5;183m\u001b[38;5;147m-\u001b[0m\u001b[38;5;183m\u001b[38;5;147m-\u001b[0m\u001b[38;5;183m\u001b[38;5;147m-\u001b[0m\u001b[38;5;183m\u001b[38;5;147m-\u001b[0m\u001b[38;5;183m\u001b[38;5;147m-\u001b[0m\u001b[38;5;183m\u001b[38;5;147m-\u001b[0m\u001b[38;5;183m\u001b[38;5;147m-\u001b[0m\u001b[38;5;183m\u001b[38;5;147m-\u001b[0m\u001b[38;5;183m\u001b[38;5;147m-\u001b[0m\u001b[38;5;183m\u001b[38;5;147m-\u001b[0m\u001b[38;5;183m\u001b[38;5;147m-\u001b[0m\u001b[38;5;183m\u001b[38;5;147m-\u001b[0m\u001b[38;5;183m\u001b[38;5;147m-\u001b[0m\u001b[38;5;183m\u001b[38;5;147m-\u001b[0m\u001b[38;5;183m\u001b[38;5;147m-\u001b[0m\u001b[38;5;183m\u001b[38;5;147m-\u001b[0m\u001b[38;5;183m\u001b[38;5;147m-\u001b[0m\u001b[38;5;183m\u001b[38;5;147m-\u001b[0m\u001b[38;5;183m\u001b[38;5;147m-\u001b[0m\u001b[38;5;183m\u001b[38;5;147m-\u001b[0m\u001b[38;5;183m\u001b[38;5;147m-\u001b[0m\u001b[38;5;183m\u001b[38;5;147m-\u001b[0m\u001b[38;5;183m\u001b[38;5;147m-\u001b[0m\u001b[38;5;183m\u001b[38;5;147m-\u001b[0m\u001b[38;5;183m\u001b[38;5;147m-\u001b[0m\u001b[38;5;183m\u001b[38;5;147m-\u001b[0m\u001b[38;5;183m\u001b[38;5;147m-\u001b[0m\u001b[38;5;183m\u001b[38;5;147m-\u001b[0m\u001b[38;5;183m\u001b[38;5;147m-\u001b[0m\u001b[38;5;183m\u001b[38;5;147m-\u001b[0m\u001b[38;5;183m\u001b[38;5;147m-\u001b[0m\u001b[38;5;183m\u001b[38;5;147m-\u001b[0m\u001b[38;5;183m\u001b[38;5;147m-\u001b[0m\u001b[38;5;183m\u001b[38;5;147m-\u001b[0m\u001b[38;5;183m\u001b[38;5;147m-\u001b[0m\u001b[38;5;183m\u001b[38;5;147m-\u001b[0m\u001b[38;5;183m\u001b[38;5;147m-\u001b[0m\u001b[38;5;183m\u001b[38;5;219m+\u001b[0m\u001b[38;5;183m\u001b[38;5;147m-\u001b[0m\u001b[38;5;183m\u001b[38;5;147m-\u001b[0m\u001b[38;5;183m\u001b[38;5;147m-\u001b[0m\u001b[38;5;183m\u001b[38;5;147m-\u001b[0m\u001b[38;5;183m\u001b[38;5;147m-\u001b[0m\u001b[38;5;183m\u001b[38;5;147m-\u001b[0m\u001b[38;5;183m\u001b[38;5;147m-\u001b[0m\u001b[38;5;183m\u001b[38;5;147m-\u001b[0m\u001b[38;5;183m\u001b[38;5;147m-\u001b[0m\u001b[38;5;183m\u001b[38;5;147m-\u001b[0m\u001b[38;5;183m\u001b[38;5;147m-\u001b[0m\u001b[38;5;183m\u001b[38;5;147m-\u001b[0m\u001b[38;5;183m\u001b[38;5;147m-\u001b[0m\u001b[38;5;183m\u001b[38;5;147m-\u001b[0m\u001b[38;5;183m\u001b[38;5;147m-\u001b[0m\u001b[38;5;183m\u001b[38;5;147m-\u001b[0m\u001b[38;5;183m\u001b[38;5;147m-\u001b[0m\u001b[38;5;183m\u001b[38;5;147m-\u001b[0m\u001b[38;5;183m\u001b[38;5;147m-\u001b[0m\u001b[38;5;183m\u001b[38;5;147m-\u001b[0m\u001b[38;5;183m\u001b[38;5;147m-\u001b[0m\u001b[38;5;183m\u001b[38;5;219m+\u001b[0m\u001b[38;5;183m\u001b[38;5;147m-\u001b[0m\u001b[38;5;183m\u001b[38;5;147m-\u001b[0m\u001b[38;5;183m\u001b[38;5;147m-\u001b[0m\u001b[38;5;183m\u001b[38;5;147m-\u001b[0m\u001b[38;5;183m\u001b[38;5;147m-\u001b[0m\u001b[38;5;183m\u001b[38;5;147m-\u001b[0m\u001b[38;5;183m\u001b[38;5;147m-\u001b[0m\u001b[38;5;183m\u001b[38;5;147m-\u001b[0m\u001b[38;5;183m\u001b[38;5;147m-\u001b[0m\u001b[38;5;183m\u001b[38;5;147m-\u001b[0m\u001b[38;5;183m\u001b[38;5;147m-\u001b[0m\u001b[38;5;183m\u001b[38;5;147m-\u001b[0m\u001b[38;5;183m\u001b[38;5;147m-\u001b[0m\u001b[38;5;183m\u001b[38;5;147m-\u001b[0m\u001b[38;5;183m\u001b[38;5;147m-\u001b[0m\u001b[38;5;183m\u001b[38;5;147m-\u001b[0m\u001b[38;5;183m\u001b[38;5;147m-\u001b[0m\u001b[38;5;183m\u001b[38;5;147m-\u001b[0m\u001b[38;5;183m\u001b[38;5;147m-\u001b[0m\u001b[38;5;183m\u001b[38;5;147m-\u001b[0m\u001b[38;5;183m\u001b[38;5;147m-\u001b[0m\u001b[38;5;183m\u001b[38;5;219m+\u001b[0m\u001b[38;5;183m\u001b[38;5;147m-\u001b[0m\u001b[38;5;183m\u001b[38;5;147m-\u001b[0m\u001b[38;5;183m\u001b[38;5;147m-\u001b[0m\u001b[38;5;183m\u001b[38;5;147m-\u001b[0m\u001b[38;5;183m\u001b[38;5;147m-\u001b[0m\u001b[38;5;183m\u001b[38;5;147m-\u001b[0m\u001b[38;5;183m\u001b[38;5;147m-\u001b[0m\u001b[38;5;183m\u001b[38;5;147m-\u001b[0m\u001b[38;5;183m\u001b[38;5;147m-\u001b[0m\u001b[38;5;183m\u001b[38;5;147m-\u001b[0m\u001b[38;5;183m\u001b[38;5;147m-\u001b[0m\u001b[38;5;183m\u001b[38;5;147m-\u001b[0m\u001b[38;5;183m\u001b[38;5;147m-\u001b[0m\u001b[38;5;183m\u001b[38;5;147m-\u001b[0m\u001b[38;5;183m\u001b[38;5;147m-\u001b[0m\u001b[38;5;183m\u001b[38;5;147m-\u001b[0m\u001b[38;5;183m\u001b[38;5;147m-\u001b[0m\u001b[38;5;183m\u001b[38;5;147m-\u001b[0m\u001b[38;5;183m\u001b[38;5;147m-\u001b[0m\u001b[38;5;183m\u001b[38;5;147m-\u001b[0m\u001b[38;5;183m\u001b[38;5;147m-\u001b[0m\u001b[38;5;183m\u001b[38;5;219m+\u001b[0m\u001b[38;5;183m\u001b[38;5;147m-\u001b[0m\u001b[38;5;183m\u001b[38;5;147m-\u001b[0m\u001b[38;5;183m\u001b[38;5;147m-\u001b[0m\u001b[38;5;183m\u001b[38;5;147m-\u001b[0m\u001b[38;5;183m\u001b[38;5;147m-\u001b[0m\u001b[38;5;183m\u001b[38;5;147m-\u001b[0m\u001b[38;5;183m\u001b[38;5;147m-\u001b[0m\u001b[38;5;183m\u001b[38;5;147m-\u001b[0m\u001b[38;5;183m\u001b[38;5;147m-\u001b[0m\u001b[38;5;183m\u001b[38;5;147m-\u001b[0m\u001b[38;5;183m\u001b[38;5;147m-\u001b[0m\u001b[38;5;183m\u001b[38;5;147m-\u001b[0m\u001b[38;5;183m\u001b[38;5;147m-\u001b[0m\u001b[38;5;183m\u001b[38;5;147m-\u001b[0m\u001b[38;5;183m\u001b[38;5;147m-\u001b[0m\u001b[38;5;183m\u001b[38;5;147m-\u001b[0m\u001b[38;5;183m\u001b[38;5;147m-\u001b[0m\u001b[38;5;183m\u001b[38;5;147m-\u001b[0m\u001b[38;5;183m\u001b[38;5;147m-\u001b[0m\u001b[38;5;183m\u001b[38;5;147m-\u001b[0m\u001b[38;5;183m\u001b[38;5;147m-\u001b[0m\u001b[38;5;183m\u001b[38;5;219m+\u001b[0m\u001b[38;5;183m\u001b[38;5;147m-\u001b[0m\u001b[38;5;183m\u001b[38;5;147m-\u001b[0m\u001b[38;5;183m\u001b[38;5;147m-\u001b[0m\u001b[38;5;183m\u001b[38;5;147m-\u001b[0m\u001b[38;5;183m\u001b[38;5;147m-\u001b[0m\u001b[38;5;183m\u001b[38;5;147m-\u001b[0m\u001b[38;5;183m\u001b[38;5;147m-\u001b[0m\u001b[38;5;183m\u001b[38;5;147m-\u001b[0m\u001b[38;5;183m\u001b[38;5;147m-\u001b[0m\u001b[38;5;183m\u001b[38;5;147m-\u001b[0m\u001b[38;5;183m\u001b[38;5;147m-\u001b[0m\u001b[38;5;183m\u001b[38;5;147m-\u001b[0m\u001b[38;5;183m\u001b[38;5;147m-\u001b[0m\u001b[38;5;183m\u001b[38;5;147m-\u001b[0m\u001b[38;5;183m\u001b[38;5;147m-\u001b[0m\u001b[38;5;183m\u001b[38;5;147m-\u001b[0m\u001b[38;5;183m\u001b[38;5;147m-\u001b[0m\u001b[38;5;183m\u001b[38;5;147m-\u001b[0m\u001b[38;5;183m\u001b[38;5;147m-\u001b[0m\u001b[38;5;183m\u001b[38;5;147m-\u001b[0m\u001b[38;5;183m\u001b[38;5;147m-\u001b[0m\u001b[38;5;183m\u001b[38;5;219m+\u001b[0m\u001b[38;5;183m\n",
      "\u001b[35m|\u001b[0m\u001b[38;5;183m           Algorithme          \u001b[35m|\u001b[0m\u001b[38;5;183m                     Hyperparamètres                      \u001b[35m|\u001b[0m\u001b[38;5;183m       Macro f1      \u001b[35m|\u001b[0m\u001b[38;5;183m       Accuracy      \u001b[35m|\u001b[0m\u001b[38;5;183m      Precision      \u001b[35m|\u001b[0m\u001b[38;5;183m        Rappel       \u001b[35m|\u001b[0m\u001b[38;5;183m  Temps d'exécution  \u001b[35m|\u001b[0m\u001b[38;5;183m\n",
      "\u001b[38;5;219m+\u001b[0m\u001b[38;5;183m\u001b[38;5;147m-\u001b[0m\u001b[38;5;183m\u001b[38;5;147m-\u001b[0m\u001b[38;5;183m\u001b[38;5;147m-\u001b[0m\u001b[38;5;183m\u001b[38;5;147m-\u001b[0m\u001b[38;5;183m\u001b[38;5;147m-\u001b[0m\u001b[38;5;183m\u001b[38;5;147m-\u001b[0m\u001b[38;5;183m\u001b[38;5;147m-\u001b[0m\u001b[38;5;183m\u001b[38;5;147m-\u001b[0m\u001b[38;5;183m\u001b[38;5;147m-\u001b[0m\u001b[38;5;183m\u001b[38;5;147m-\u001b[0m\u001b[38;5;183m\u001b[38;5;147m-\u001b[0m\u001b[38;5;183m\u001b[38;5;147m-\u001b[0m\u001b[38;5;183m\u001b[38;5;147m-\u001b[0m\u001b[38;5;183m\u001b[38;5;147m-\u001b[0m\u001b[38;5;183m\u001b[38;5;147m-\u001b[0m\u001b[38;5;183m\u001b[38;5;147m-\u001b[0m\u001b[38;5;183m\u001b[38;5;147m-\u001b[0m\u001b[38;5;183m\u001b[38;5;147m-\u001b[0m\u001b[38;5;183m\u001b[38;5;147m-\u001b[0m\u001b[38;5;183m\u001b[38;5;147m-\u001b[0m\u001b[38;5;183m\u001b[38;5;147m-\u001b[0m\u001b[38;5;183m\u001b[38;5;147m-\u001b[0m\u001b[38;5;183m\u001b[38;5;147m-\u001b[0m\u001b[38;5;183m\u001b[38;5;147m-\u001b[0m\u001b[38;5;183m\u001b[38;5;147m-\u001b[0m\u001b[38;5;183m\u001b[38;5;147m-\u001b[0m\u001b[38;5;183m\u001b[38;5;147m-\u001b[0m\u001b[38;5;183m\u001b[38;5;147m-\u001b[0m\u001b[38;5;183m\u001b[38;5;147m-\u001b[0m\u001b[38;5;183m\u001b[38;5;147m-\u001b[0m\u001b[38;5;183m\u001b[38;5;147m-\u001b[0m\u001b[38;5;183m\u001b[38;5;219m+\u001b[0m\u001b[38;5;183m\u001b[38;5;147m-\u001b[0m\u001b[38;5;183m\u001b[38;5;147m-\u001b[0m\u001b[38;5;183m\u001b[38;5;147m-\u001b[0m\u001b[38;5;183m\u001b[38;5;147m-\u001b[0m\u001b[38;5;183m\u001b[38;5;147m-\u001b[0m\u001b[38;5;183m\u001b[38;5;147m-\u001b[0m\u001b[38;5;183m\u001b[38;5;147m-\u001b[0m\u001b[38;5;183m\u001b[38;5;147m-\u001b[0m\u001b[38;5;183m\u001b[38;5;147m-\u001b[0m\u001b[38;5;183m\u001b[38;5;147m-\u001b[0m\u001b[38;5;183m\u001b[38;5;147m-\u001b[0m\u001b[38;5;183m\u001b[38;5;147m-\u001b[0m\u001b[38;5;183m\u001b[38;5;147m-\u001b[0m\u001b[38;5;183m\u001b[38;5;147m-\u001b[0m\u001b[38;5;183m\u001b[38;5;147m-\u001b[0m\u001b[38;5;183m\u001b[38;5;147m-\u001b[0m\u001b[38;5;183m\u001b[38;5;147m-\u001b[0m\u001b[38;5;183m\u001b[38;5;147m-\u001b[0m\u001b[38;5;183m\u001b[38;5;147m-\u001b[0m\u001b[38;5;183m\u001b[38;5;147m-\u001b[0m\u001b[38;5;183m\u001b[38;5;147m-\u001b[0m\u001b[38;5;183m\u001b[38;5;147m-\u001b[0m\u001b[38;5;183m\u001b[38;5;147m-\u001b[0m\u001b[38;5;183m\u001b[38;5;147m-\u001b[0m\u001b[38;5;183m\u001b[38;5;147m-\u001b[0m\u001b[38;5;183m\u001b[38;5;147m-\u001b[0m\u001b[38;5;183m\u001b[38;5;147m-\u001b[0m\u001b[38;5;183m\u001b[38;5;147m-\u001b[0m\u001b[38;5;183m\u001b[38;5;147m-\u001b[0m\u001b[38;5;183m\u001b[38;5;147m-\u001b[0m\u001b[38;5;183m\u001b[38;5;147m-\u001b[0m\u001b[38;5;183m\u001b[38;5;147m-\u001b[0m\u001b[38;5;183m\u001b[38;5;147m-\u001b[0m\u001b[38;5;183m\u001b[38;5;147m-\u001b[0m\u001b[38;5;183m\u001b[38;5;147m-\u001b[0m\u001b[38;5;183m\u001b[38;5;147m-\u001b[0m\u001b[38;5;183m\u001b[38;5;147m-\u001b[0m\u001b[38;5;183m\u001b[38;5;147m-\u001b[0m\u001b[38;5;183m\u001b[38;5;147m-\u001b[0m\u001b[38;5;183m\u001b[38;5;147m-\u001b[0m\u001b[38;5;183m\u001b[38;5;147m-\u001b[0m\u001b[38;5;183m\u001b[38;5;147m-\u001b[0m\u001b[38;5;183m\u001b[38;5;147m-\u001b[0m\u001b[38;5;183m\u001b[38;5;147m-\u001b[0m\u001b[38;5;183m\u001b[38;5;147m-\u001b[0m\u001b[38;5;183m\u001b[38;5;147m-\u001b[0m\u001b[38;5;183m\u001b[38;5;147m-\u001b[0m\u001b[38;5;183m\u001b[38;5;147m-\u001b[0m\u001b[38;5;183m\u001b[38;5;147m-\u001b[0m\u001b[38;5;183m\u001b[38;5;147m-\u001b[0m\u001b[38;5;183m\u001b[38;5;147m-\u001b[0m\u001b[38;5;183m\u001b[38;5;147m-\u001b[0m\u001b[38;5;183m\u001b[38;5;147m-\u001b[0m\u001b[38;5;183m\u001b[38;5;147m-\u001b[0m\u001b[38;5;183m\u001b[38;5;147m-\u001b[0m\u001b[38;5;183m\u001b[38;5;147m-\u001b[0m\u001b[38;5;183m\u001b[38;5;147m-\u001b[0m\u001b[38;5;183m\u001b[38;5;147m-\u001b[0m\u001b[38;5;183m\u001b[38;5;219m+\u001b[0m\u001b[38;5;183m\u001b[38;5;147m-\u001b[0m\u001b[38;5;183m\u001b[38;5;147m-\u001b[0m\u001b[38;5;183m\u001b[38;5;147m-\u001b[0m\u001b[38;5;183m\u001b[38;5;147m-\u001b[0m\u001b[38;5;183m\u001b[38;5;147m-\u001b[0m\u001b[38;5;183m\u001b[38;5;147m-\u001b[0m\u001b[38;5;183m\u001b[38;5;147m-\u001b[0m\u001b[38;5;183m\u001b[38;5;147m-\u001b[0m\u001b[38;5;183m\u001b[38;5;147m-\u001b[0m\u001b[38;5;183m\u001b[38;5;147m-\u001b[0m\u001b[38;5;183m\u001b[38;5;147m-\u001b[0m\u001b[38;5;183m\u001b[38;5;147m-\u001b[0m\u001b[38;5;183m\u001b[38;5;147m-\u001b[0m\u001b[38;5;183m\u001b[38;5;147m-\u001b[0m\u001b[38;5;183m\u001b[38;5;147m-\u001b[0m\u001b[38;5;183m\u001b[38;5;147m-\u001b[0m\u001b[38;5;183m\u001b[38;5;147m-\u001b[0m\u001b[38;5;183m\u001b[38;5;147m-\u001b[0m\u001b[38;5;183m\u001b[38;5;147m-\u001b[0m\u001b[38;5;183m\u001b[38;5;147m-\u001b[0m\u001b[38;5;183m\u001b[38;5;147m-\u001b[0m\u001b[38;5;183m\u001b[38;5;219m+\u001b[0m\u001b[38;5;183m\u001b[38;5;147m-\u001b[0m\u001b[38;5;183m\u001b[38;5;147m-\u001b[0m\u001b[38;5;183m\u001b[38;5;147m-\u001b[0m\u001b[38;5;183m\u001b[38;5;147m-\u001b[0m\u001b[38;5;183m\u001b[38;5;147m-\u001b[0m\u001b[38;5;183m\u001b[38;5;147m-\u001b[0m\u001b[38;5;183m\u001b[38;5;147m-\u001b[0m\u001b[38;5;183m\u001b[38;5;147m-\u001b[0m\u001b[38;5;183m\u001b[38;5;147m-\u001b[0m\u001b[38;5;183m\u001b[38;5;147m-\u001b[0m\u001b[38;5;183m\u001b[38;5;147m-\u001b[0m\u001b[38;5;183m\u001b[38;5;147m-\u001b[0m\u001b[38;5;183m\u001b[38;5;147m-\u001b[0m\u001b[38;5;183m\u001b[38;5;147m-\u001b[0m\u001b[38;5;183m\u001b[38;5;147m-\u001b[0m\u001b[38;5;183m\u001b[38;5;147m-\u001b[0m\u001b[38;5;183m\u001b[38;5;147m-\u001b[0m\u001b[38;5;183m\u001b[38;5;147m-\u001b[0m\u001b[38;5;183m\u001b[38;5;147m-\u001b[0m\u001b[38;5;183m\u001b[38;5;147m-\u001b[0m\u001b[38;5;183m\u001b[38;5;147m-\u001b[0m\u001b[38;5;183m\u001b[38;5;219m+\u001b[0m\u001b[38;5;183m\u001b[38;5;147m-\u001b[0m\u001b[38;5;183m\u001b[38;5;147m-\u001b[0m\u001b[38;5;183m\u001b[38;5;147m-\u001b[0m\u001b[38;5;183m\u001b[38;5;147m-\u001b[0m\u001b[38;5;183m\u001b[38;5;147m-\u001b[0m\u001b[38;5;183m\u001b[38;5;147m-\u001b[0m\u001b[38;5;183m\u001b[38;5;147m-\u001b[0m\u001b[38;5;183m\u001b[38;5;147m-\u001b[0m\u001b[38;5;183m\u001b[38;5;147m-\u001b[0m\u001b[38;5;183m\u001b[38;5;147m-\u001b[0m\u001b[38;5;183m\u001b[38;5;147m-\u001b[0m\u001b[38;5;183m\u001b[38;5;147m-\u001b[0m\u001b[38;5;183m\u001b[38;5;147m-\u001b[0m\u001b[38;5;183m\u001b[38;5;147m-\u001b[0m\u001b[38;5;183m\u001b[38;5;147m-\u001b[0m\u001b[38;5;183m\u001b[38;5;147m-\u001b[0m\u001b[38;5;183m\u001b[38;5;147m-\u001b[0m\u001b[38;5;183m\u001b[38;5;147m-\u001b[0m\u001b[38;5;183m\u001b[38;5;147m-\u001b[0m\u001b[38;5;183m\u001b[38;5;147m-\u001b[0m\u001b[38;5;183m\u001b[38;5;147m-\u001b[0m\u001b[38;5;183m\u001b[38;5;219m+\u001b[0m\u001b[38;5;183m\u001b[38;5;147m-\u001b[0m\u001b[38;5;183m\u001b[38;5;147m-\u001b[0m\u001b[38;5;183m\u001b[38;5;147m-\u001b[0m\u001b[38;5;183m\u001b[38;5;147m-\u001b[0m\u001b[38;5;183m\u001b[38;5;147m-\u001b[0m\u001b[38;5;183m\u001b[38;5;147m-\u001b[0m\u001b[38;5;183m\u001b[38;5;147m-\u001b[0m\u001b[38;5;183m\u001b[38;5;147m-\u001b[0m\u001b[38;5;183m\u001b[38;5;147m-\u001b[0m\u001b[38;5;183m\u001b[38;5;147m-\u001b[0m\u001b[38;5;183m\u001b[38;5;147m-\u001b[0m\u001b[38;5;183m\u001b[38;5;147m-\u001b[0m\u001b[38;5;183m\u001b[38;5;147m-\u001b[0m\u001b[38;5;183m\u001b[38;5;147m-\u001b[0m\u001b[38;5;183m\u001b[38;5;147m-\u001b[0m\u001b[38;5;183m\u001b[38;5;147m-\u001b[0m\u001b[38;5;183m\u001b[38;5;147m-\u001b[0m\u001b[38;5;183m\u001b[38;5;147m-\u001b[0m\u001b[38;5;183m\u001b[38;5;147m-\u001b[0m\u001b[38;5;183m\u001b[38;5;147m-\u001b[0m\u001b[38;5;183m\u001b[38;5;147m-\u001b[0m\u001b[38;5;183m\u001b[38;5;219m+\u001b[0m\u001b[38;5;183m\u001b[38;5;147m-\u001b[0m\u001b[38;5;183m\u001b[38;5;147m-\u001b[0m\u001b[38;5;183m\u001b[38;5;147m-\u001b[0m\u001b[38;5;183m\u001b[38;5;147m-\u001b[0m\u001b[38;5;183m\u001b[38;5;147m-\u001b[0m\u001b[38;5;183m\u001b[38;5;147m-\u001b[0m\u001b[38;5;183m\u001b[38;5;147m-\u001b[0m\u001b[38;5;183m\u001b[38;5;147m-\u001b[0m\u001b[38;5;183m\u001b[38;5;147m-\u001b[0m\u001b[38;5;183m\u001b[38;5;147m-\u001b[0m\u001b[38;5;183m\u001b[38;5;147m-\u001b[0m\u001b[38;5;183m\u001b[38;5;147m-\u001b[0m\u001b[38;5;183m\u001b[38;5;147m-\u001b[0m\u001b[38;5;183m\u001b[38;5;147m-\u001b[0m\u001b[38;5;183m\u001b[38;5;147m-\u001b[0m\u001b[38;5;183m\u001b[38;5;147m-\u001b[0m\u001b[38;5;183m\u001b[38;5;147m-\u001b[0m\u001b[38;5;183m\u001b[38;5;147m-\u001b[0m\u001b[38;5;183m\u001b[38;5;147m-\u001b[0m\u001b[38;5;183m\u001b[38;5;147m-\u001b[0m\u001b[38;5;183m\u001b[38;5;147m-\u001b[0m\u001b[38;5;183m\u001b[38;5;219m+\u001b[0m\u001b[38;5;183m\n",
      "\u001b[35m|\u001b[0m\u001b[38;5;183m PassiveAggressiveClassifier_2 \u001b[35m|\u001b[0m\u001b[38;5;183m PassiveAggressiveClassifier(C=0.5, loss='squared_hinge') \u001b[35m|\u001b[0m\u001b[38;5;183m  0.3441560154374682 \u001b[35m|\u001b[0m\u001b[38;5;183m 0.41253443526170797 \u001b[35m|\u001b[0m\u001b[38;5;183m  0.3751512361650609 \u001b[35m|\u001b[0m\u001b[38;5;183m 0.33927196371666785 \u001b[35m|\u001b[0m\u001b[38;5;183m  1.0995783805847168 \u001b[35m|\u001b[0m\u001b[38;5;183m\n",
      "\u001b[35m|\u001b[0m\u001b[38;5;183m PassiveAggressiveClassifier_3 \u001b[35m|\u001b[0m\u001b[38;5;183m              PassiveAggressiveClassifier()               \u001b[35m|\u001b[0m\u001b[38;5;183m 0.34244181913188015 \u001b[35m|\u001b[0m\u001b[38;5;183m  0.4110422405876951 \u001b[35m|\u001b[0m\u001b[38;5;183m  0.3741515430908268 \u001b[35m|\u001b[0m\u001b[38;5;183m 0.33718812824633715 \u001b[35m|\u001b[0m\u001b[38;5;183m  0.8025248050689697 \u001b[35m|\u001b[0m\u001b[38;5;183m\n",
      "\u001b[35m|\u001b[0m\u001b[38;5;183m PassiveAggressiveClassifier_4 \u001b[35m|\u001b[0m\u001b[38;5;183m    PassiveAggressiveClassifier(loss='squared_hinge')     \u001b[35m|\u001b[0m\u001b[38;5;183m 0.34219127963437673 \u001b[35m|\u001b[0m\u001b[38;5;183m  0.4110422405876951 \u001b[35m|\u001b[0m\u001b[38;5;183m 0.37271933576339034 \u001b[35m|\u001b[0m\u001b[38;5;183m 0.33734563410614377 \u001b[35m|\u001b[0m\u001b[38;5;183m  0.9427523612976074 \u001b[35m|\u001b[0m\u001b[38;5;183m\n",
      "\u001b[35m|\u001b[0m\u001b[38;5;183m PassiveAggressiveClassifier_1 \u001b[35m|\u001b[0m\u001b[38;5;183m            PassiveAggressiveClassifier(C=0.5)            \u001b[35m|\u001b[0m\u001b[38;5;183m 0.34194258117668874 \u001b[35m|\u001b[0m\u001b[38;5;183m  0.4116161616161616 \u001b[35m|\u001b[0m\u001b[38;5;183m 0.37458933371260306 \u001b[35m|\u001b[0m\u001b[38;5;183m  0.336858635516392  \u001b[35m|\u001b[0m\u001b[38;5;183m  0.8625164031982422 \u001b[35m|\u001b[0m\u001b[38;5;183m\n",
      "\u001b[35m|\u001b[0m\u001b[38;5;183m          LinearSVC_3          \u001b[35m|\u001b[0m\u001b[38;5;183m                   LinearSVC(dual=True)                   \u001b[35m|\u001b[0m\u001b[38;5;183m  0.3319172995235483 \u001b[35m|\u001b[0m\u001b[38;5;183m  0.4180440771349862 \u001b[35m|\u001b[0m\u001b[38;5;183m  0.3930365127324806 \u001b[35m|\u001b[0m\u001b[38;5;183m 0.32991101032659575 \u001b[35m|\u001b[0m\u001b[38;5;183m  1.6971030235290527 \u001b[35m|\u001b[0m\u001b[38;5;183m\n",
      "\u001b[35m|\u001b[0m\u001b[38;5;183m          LinearSVC_4          \u001b[35m|\u001b[0m\u001b[38;5;183m                  LinearSVC(dual=False)                   \u001b[35m|\u001b[0m\u001b[38;5;183m  0.3319172995235483 \u001b[35m|\u001b[0m\u001b[38;5;183m  0.4180440771349862 \u001b[35m|\u001b[0m\u001b[38;5;183m  0.3930365127324806 \u001b[35m|\u001b[0m\u001b[38;5;183m 0.32991101032659575 \u001b[35m|\u001b[0m\u001b[38;5;183m  18.996681690216064 \u001b[35m|\u001b[0m\u001b[38;5;183m\n",
      "\u001b[35m|\u001b[0m\u001b[38;5;183m        SGDClassifier_2        \u001b[35m|\u001b[0m\u001b[38;5;183m           SGDClassifier(loss='squared_hinge')            \u001b[35m|\u001b[0m\u001b[38;5;183m  0.3282577431170348 \u001b[35m|\u001b[0m\u001b[38;5;183m  0.4190771349862259 \u001b[35m|\u001b[0m\u001b[38;5;183m  0.4029228861400809 \u001b[35m|\u001b[0m\u001b[38;5;183m  0.3270556385391136 \u001b[35m|\u001b[0m\u001b[38;5;183m  0.584404706954956  \u001b[35m|\u001b[0m\u001b[38;5;183m\n",
      "\u001b[35m|\u001b[0m\u001b[38;5;183m        SGDClassifier_1        \u001b[35m|\u001b[0m\u001b[38;5;183m                     SGDClassifier()                      \u001b[35m|\u001b[0m\u001b[38;5;183m 0.32286535380702963 \u001b[35m|\u001b[0m\u001b[38;5;183m 0.42022497704315886 \u001b[35m|\u001b[0m\u001b[38;5;183m 0.38315662945666784 \u001b[35m|\u001b[0m\u001b[38;5;183m  0.3291951859726804 \u001b[35m|\u001b[0m\u001b[38;5;183m  0.9748547077178955 \u001b[35m|\u001b[0m\u001b[38;5;183m\n",
      "\u001b[35m|\u001b[0m\u001b[38;5;183m        SGDClassifier_5        \u001b[35m|\u001b[0m\u001b[38;5;183m                SGDClassifier(alpha=0.01)                 \u001b[35m|\u001b[0m\u001b[38;5;183m  0.3213554387105666 \u001b[35m|\u001b[0m\u001b[38;5;183m 0.41678145087235996 \u001b[35m|\u001b[0m\u001b[38;5;183m 0.38438874839359294 \u001b[35m|\u001b[0m\u001b[38;5;183m  0.3276780769561163 \u001b[35m|\u001b[0m\u001b[38;5;183m  0.4398519992828369 \u001b[35m|\u001b[0m\u001b[38;5;183m\n",
      "\u001b[35m|\u001b[0m\u001b[38;5;183m        SGDClassifier_3        \u001b[35m|\u001b[0m\u001b[38;5;183m                SGDClassifier(alpha=0.001)                \u001b[35m|\u001b[0m\u001b[38;5;183m  0.3197160113368152 \u001b[35m|\u001b[0m\u001b[38;5;183m 0.41838842975206614 \u001b[35m|\u001b[0m\u001b[38;5;183m  0.3862378770396579 \u001b[35m|\u001b[0m\u001b[38;5;183m  0.3257236867065211 \u001b[35m|\u001b[0m\u001b[38;5;183m  0.6105074882507324 \u001b[35m|\u001b[0m\u001b[38;5;183m\n",
      "\u001b[35m|\u001b[0m\u001b[38;5;183m          LinearSVC_1          \u001b[35m|\u001b[0m\u001b[38;5;183m               LinearSVC(C=0.5, dual=True)                \u001b[35m|\u001b[0m\u001b[38;5;183m 0.31614160266668756 \u001b[35m|\u001b[0m\u001b[38;5;183m 0.41689623507805323 \u001b[35m|\u001b[0m\u001b[38;5;183m  0.4041104052756137 \u001b[35m|\u001b[0m\u001b[38;5;183m  0.3196282154238117 \u001b[35m|\u001b[0m\u001b[38;5;183m  1.0044348239898682 \u001b[35m|\u001b[0m\u001b[38;5;183m\n",
      "\u001b[35m|\u001b[0m\u001b[38;5;183m          LinearSVC_2          \u001b[35m|\u001b[0m\u001b[38;5;183m               LinearSVC(C=0.5, dual=False)               \u001b[35m|\u001b[0m\u001b[38;5;183m 0.31606284832742937 \u001b[35m|\u001b[0m\u001b[38;5;183m 0.41678145087235996 \u001b[35m|\u001b[0m\u001b[38;5;183m  0.4039812096526302 \u001b[35m|\u001b[0m\u001b[38;5;183m  0.3195625770910254 \u001b[35m|\u001b[0m\u001b[38;5;183m  12.69498896598816  \u001b[35m|\u001b[0m\u001b[38;5;183m\n",
      "\u001b[35m|\u001b[0m\u001b[38;5;183m       RidgeClassifier_1       \u001b[35m|\u001b[0m\u001b[38;5;183m                    RidgeClassifier()                     \u001b[35m|\u001b[0m\u001b[38;5;183m 0.31515988564747044 \u001b[35m|\u001b[0m\u001b[38;5;183m  0.4166666666666667 \u001b[35m|\u001b[0m\u001b[38;5;183m 0.40408839863906837 \u001b[35m|\u001b[0m\u001b[38;5;183m 0.31817738369974297 \u001b[35m|\u001b[0m\u001b[38;5;183m  5.899764776229858  \u001b[35m|\u001b[0m\u001b[38;5;183m\n",
      "\u001b[35m|\u001b[0m\u001b[38;5;183m       RidgeClassifier_2       \u001b[35m|\u001b[0m\u001b[38;5;183m                RidgeClassifier(alpha=1.5)                \u001b[35m|\u001b[0m\u001b[38;5;183m  0.304017897347683  \u001b[35m|\u001b[0m\u001b[38;5;183m  0.4182736455463728 \u001b[35m|\u001b[0m\u001b[38;5;183m  0.4160574614311262 \u001b[35m|\u001b[0m\u001b[38;5;183m 0.31183687501620616 \u001b[35m|\u001b[0m\u001b[38;5;183m  4.011657953262329  \u001b[35m|\u001b[0m\u001b[38;5;183m\n",
      "\u001b[35m|\u001b[0m\u001b[38;5;183m        LGBMClassifier_1       \u001b[35m|\u001b[0m\u001b[38;5;183m     LGBMClassifier(max_depth=500, n_estimators=500)      \u001b[35m|\u001b[0m\u001b[38;5;183m 0.30019029364950034 \u001b[35m|\u001b[0m\u001b[38;5;183m  0.3736225895316804 \u001b[35m|\u001b[0m\u001b[38;5;183m 0.33946812529970216 \u001b[35m|\u001b[0m\u001b[38;5;183m  0.2942243923212533 \u001b[35m|\u001b[0m\u001b[38;5;183m  128.71153211593628 \u001b[35m|\u001b[0m\u001b[38;5;183m\n",
      "\u001b[35m|\u001b[0m\u001b[38;5;183m       RidgeClassifier_3       \u001b[35m|\u001b[0m\u001b[38;5;183m                 RidgeClassifier(alpha=2)                 \u001b[35m|\u001b[0m\u001b[38;5;183m  0.2978812215459704 \u001b[35m|\u001b[0m\u001b[38;5;183m  0.4195362718089991 \u001b[35m|\u001b[0m\u001b[38;5;183m  0.4418656397347389 \u001b[35m|\u001b[0m\u001b[38;5;183m 0.30825142380857046 \u001b[35m|\u001b[0m\u001b[38;5;183m  5.008138418197632  \u001b[35m|\u001b[0m\u001b[38;5;183m\n",
      "\u001b[35m|\u001b[0m\u001b[38;5;183m             SVC_2             \u001b[35m|\u001b[0m\u001b[38;5;183m                  SVC(kernel='sigmoid')                   \u001b[35m|\u001b[0m\u001b[38;5;183m 0.27347154948321195 \u001b[35m|\u001b[0m\u001b[38;5;183m 0.41058310376492196 \u001b[35m|\u001b[0m\u001b[38;5;183m  0.5025363930891102 \u001b[35m|\u001b[0m\u001b[38;5;183m 0.29046111184250384 \u001b[35m|\u001b[0m\u001b[38;5;183m  303.24972581863403 \u001b[35m|\u001b[0m\u001b[38;5;183m\n",
      "\u001b[35m|\u001b[0m\u001b[38;5;183m             KNN_2             \u001b[35m|\u001b[0m\u001b[38;5;183m                  KNeighborsClassifier()                  \u001b[35m|\u001b[0m\u001b[38;5;183m  0.2720166812189435 \u001b[35m|\u001b[0m\u001b[38;5;183m  0.3496326905417815 \u001b[35m|\u001b[0m\u001b[38;5;183m  0.2888261686967606 \u001b[35m|\u001b[0m\u001b[38;5;183m  0.2759121644368684 \u001b[35m|\u001b[0m\u001b[38;5;183m  4.749310731887817  \u001b[35m|\u001b[0m\u001b[38;5;183m\n",
      "\u001b[35m|\u001b[0m\u001b[38;5;183m             KNN_3             \u001b[35m|\u001b[0m\u001b[38;5;183m           KNeighborsClassifier(n_neighbors=7)            \u001b[35m|\u001b[0m\u001b[38;5;183m  0.2679530490288469 \u001b[35m|\u001b[0m\u001b[38;5;183m 0.35215794306703396 \u001b[35m|\u001b[0m\u001b[38;5;183m  0.2894886904892481 \u001b[35m|\u001b[0m\u001b[38;5;183m  0.2727239516555519 \u001b[35m|\u001b[0m\u001b[38;5;183m  4.569716453552246  \u001b[35m|\u001b[0m\u001b[38;5;183m\n",
      "\u001b[35m|\u001b[0m\u001b[38;5;183m      LogisticRegression_2     \u001b[35m|\u001b[0m\u001b[38;5;183m                   LogisticRegression()                   \u001b[35m|\u001b[0m\u001b[38;5;183m 0.26341030850243363 \u001b[35m|\u001b[0m\u001b[38;5;183m  0.4116161616161616 \u001b[35m|\u001b[0m\u001b[38;5;183m  0.4542215508363583 \u001b[35m|\u001b[0m\u001b[38;5;183m 0.28449292071434745 \u001b[35m|\u001b[0m\u001b[38;5;183m  41.61243724822998  \u001b[35m|\u001b[0m\u001b[38;5;183m\n",
      "\u001b[35m|\u001b[0m\u001b[38;5;183m             KNN_1             \u001b[35m|\u001b[0m\u001b[38;5;183m           KNeighborsClassifier(n_neighbors=3)            \u001b[35m|\u001b[0m\u001b[38;5;183m 0.25190393249732723 \u001b[35m|\u001b[0m\u001b[38;5;183m 0.29981634527089074 \u001b[35m|\u001b[0m\u001b[38;5;183m 0.26724986927721195 \u001b[35m|\u001b[0m\u001b[38;5;183m  0.2653164874705564 \u001b[35m|\u001b[0m\u001b[38;5;183m  4.324490785598755  \u001b[35m|\u001b[0m\u001b[38;5;183m\n",
      "\u001b[35m|\u001b[0m\u001b[38;5;183m        SGDClassifier_4        \u001b[35m|\u001b[0m\u001b[38;5;183m     SGDClassifier(alpha=0.001, loss='squared_hinge')     \u001b[35m|\u001b[0m\u001b[38;5;183m  0.2315360867801429 \u001b[35m|\u001b[0m\u001b[38;5;183m 0.39749770431588616 \u001b[35m|\u001b[0m\u001b[38;5;183m  0.5331041001868551 \u001b[35m|\u001b[0m\u001b[38;5;183m  0.2619059626155022 \u001b[35m|\u001b[0m\u001b[38;5;183m  0.9010200500488281 \u001b[35m|\u001b[0m\u001b[38;5;183m\n",
      "\u001b[35m|\u001b[0m\u001b[38;5;183m      LogisticRegression_1     \u001b[35m|\u001b[0m\u001b[38;5;183m                LogisticRegression(C=0.5)                 \u001b[35m|\u001b[0m\u001b[38;5;183m 0.22323922238640118 \u001b[35m|\u001b[0m\u001b[38;5;183m  0.3957759412304867 \u001b[35m|\u001b[0m\u001b[38;5;183m  0.5231371374660111 \u001b[35m|\u001b[0m\u001b[38;5;183m  0.2563329340856686 \u001b[35m|\u001b[0m\u001b[38;5;183m  21.93995475769043  \u001b[35m|\u001b[0m\u001b[38;5;183m\n",
      "\u001b[35m|\u001b[0m\u001b[38;5;183m         ComplementNB_1        \u001b[35m|\u001b[0m\u001b[38;5;183m                 ComplementNB(alpha=0.5)                  \u001b[35m|\u001b[0m\u001b[38;5;183m 0.18164626481284205 \u001b[35m|\u001b[0m\u001b[38;5;183m 0.38073921028466484 \u001b[35m|\u001b[0m\u001b[38;5;183m  0.5927774403033594 \u001b[35m|\u001b[0m\u001b[38;5;183m  0.2341804634273863 \u001b[35m|\u001b[0m\u001b[38;5;183m 0.18701481819152832 \u001b[35m|\u001b[0m\u001b[38;5;183m\n",
      "\u001b[35m|\u001b[0m\u001b[38;5;183m         ComplementNB_2        \u001b[35m|\u001b[0m\u001b[38;5;183m         ComplementNB(alpha=0.5, fit_prior=False)         \u001b[35m|\u001b[0m\u001b[38;5;183m 0.18164626481284205 \u001b[35m|\u001b[0m\u001b[38;5;183m 0.38073921028466484 \u001b[35m|\u001b[0m\u001b[38;5;183m  0.5927774403033594 \u001b[35m|\u001b[0m\u001b[38;5;183m  0.2341804634273863 \u001b[35m|\u001b[0m\u001b[38;5;183m  0.2008519172668457 \u001b[35m|\u001b[0m\u001b[38;5;183m\n",
      "\u001b[35m|\u001b[0m\u001b[38;5;183m    RandomForestClassifier_1   \u001b[35m|\u001b[0m\u001b[38;5;183m          RandomForestClassifier(max_depth=100)           \u001b[35m|\u001b[0m\u001b[38;5;183m 0.16829448109146405 \u001b[35m|\u001b[0m\u001b[38;5;183m  0.3712121212121212 \u001b[35m|\u001b[0m\u001b[38;5;183m  0.5008581710312353 \u001b[35m|\u001b[0m\u001b[38;5;183m 0.22564953368613683 \u001b[35m|\u001b[0m\u001b[38;5;183m  60.38122916221619  \u001b[35m|\u001b[0m\u001b[38;5;183m\n",
      "\u001b[35m|\u001b[0m\u001b[38;5;183m         ComplementNB_3        \u001b[35m|\u001b[0m\u001b[38;5;183m                      ComplementNB()                      \u001b[35m|\u001b[0m\u001b[38;5;183m 0.13896574693903657 \u001b[35m|\u001b[0m\u001b[38;5;183m  0.3635215794306703 \u001b[35m|\u001b[0m\u001b[38;5;183m  0.5424762270272911 \u001b[35m|\u001b[0m\u001b[38;5;183m  0.2142195634485001 \u001b[35m|\u001b[0m\u001b[38;5;183m 0.18838095664978027 \u001b[35m|\u001b[0m\u001b[38;5;183m\n",
      "\u001b[35m|\u001b[0m\u001b[38;5;183m         ComplementNB_4        \u001b[35m|\u001b[0m\u001b[38;5;183m              ComplementNB(fit_prior=False)               \u001b[35m|\u001b[0m\u001b[38;5;183m 0.13896574693903657 \u001b[35m|\u001b[0m\u001b[38;5;183m  0.3635215794306703 \u001b[35m|\u001b[0m\u001b[38;5;183m  0.5424762270272911 \u001b[35m|\u001b[0m\u001b[38;5;183m  0.2142195634485001 \u001b[35m|\u001b[0m\u001b[38;5;183m 0.17053484916687012 \u001b[35m|\u001b[0m\u001b[38;5;183m\n",
      "\u001b[35m|\u001b[0m\u001b[38;5;183m        MultinomialNB_2        \u001b[35m|\u001b[0m\u001b[38;5;183m        MultinomialNB(alpha=0.5, fit_prior=False)         \u001b[35m|\u001b[0m\u001b[38;5;183m  0.1273609830242561 \u001b[35m|\u001b[0m\u001b[38;5;183m 0.35858585858585856 \u001b[35m|\u001b[0m\u001b[38;5;183m  0.5219899767251919 \u001b[35m|\u001b[0m\u001b[38;5;183m  0.208298060694274  \u001b[35m|\u001b[0m\u001b[38;5;183m 0.16252899169921875 \u001b[35m|\u001b[0m\u001b[38;5;183m\n",
      "\u001b[35m|\u001b[0m\u001b[38;5;183m        MultinomialNB_4        \u001b[35m|\u001b[0m\u001b[38;5;183m              MultinomialNB(fit_prior=False)              \u001b[35m|\u001b[0m\u001b[38;5;183m 0.11391014599586449 \u001b[35m|\u001b[0m\u001b[38;5;183m  0.3538797061524334 \u001b[35m|\u001b[0m\u001b[38;5;183m 0.37393178117532616 \u001b[35m|\u001b[0m\u001b[38;5;183m  0.2036080906731673 \u001b[35m|\u001b[0m\u001b[38;5;183m 0.18023467063903809 \u001b[35m|\u001b[0m\u001b[38;5;183m\n",
      "\u001b[35m|\u001b[0m\u001b[38;5;183m        MultinomialNB_1        \u001b[35m|\u001b[0m\u001b[38;5;183m                 MultinomialNB(alpha=0.5)                 \u001b[35m|\u001b[0m\u001b[38;5;183m 0.11096695516354471 \u001b[35m|\u001b[0m\u001b[38;5;183m  0.3530762167125803 \u001b[35m|\u001b[0m\u001b[38;5;183m 0.38910532623627453 \u001b[35m|\u001b[0m\u001b[38;5;183m 0.20265256720405883 \u001b[35m|\u001b[0m\u001b[38;5;183m  0.1635754108428955 \u001b[35m|\u001b[0m\u001b[38;5;183m\n",
      "\u001b[35m|\u001b[0m\u001b[38;5;183m        MultinomialNB_3        \u001b[35m|\u001b[0m\u001b[38;5;183m                     MultinomialNB()                      \u001b[35m|\u001b[0m\u001b[38;5;183m 0.10543566261284398 \u001b[35m|\u001b[0m\u001b[38;5;183m  0.3506657483930211 \u001b[35m|\u001b[0m\u001b[38;5;183m 0.21666781648844427 \u001b[35m|\u001b[0m\u001b[38;5;183m 0.20068697411373418 \u001b[35m|\u001b[0m\u001b[38;5;183m 0.18601012229919434 \u001b[35m|\u001b[0m\u001b[38;5;183m\n",
      "\u001b[35m|\u001b[0m\u001b[38;5;183m             SVC_1             \u001b[35m|\u001b[0m\u001b[38;5;183m                    SVC(kernel='poly')                    \u001b[35m|\u001b[0m\u001b[38;5;183m  0.104333899742912  \u001b[35m|\u001b[0m\u001b[38;5;183m 0.35020661157024796 \u001b[35m|\u001b[0m\u001b[38;5;183m 0.22998966348914668 \u001b[35m|\u001b[0m\u001b[38;5;183m 0.20032141422257937 \u001b[35m|\u001b[0m\u001b[38;5;183m  343.45747423171997 \u001b[35m|\u001b[0m\u001b[38;5;183m\n",
      "\u001b[35m|\u001b[0m\u001b[38;5;183m        SGDClassifier_6        \u001b[35m|\u001b[0m\u001b[38;5;183m     SGDClassifier(alpha=0.01, loss='squared_hinge')      \u001b[35m|\u001b[0m\u001b[38;5;183m 0.10364826941066416 \u001b[35m|\u001b[0m\u001b[38;5;183m 0.34974747474747475 \u001b[35m|\u001b[0m\u001b[38;5;183m 0.06994949494949496 \u001b[35m|\u001b[0m\u001b[38;5;183m         0.2         \u001b[35m|\u001b[0m\u001b[38;5;183m  0.7806122303009033 \u001b[35m|\u001b[0m\u001b[38;5;183m\n",
      "\u001b[38;5;219m+\u001b[0m\u001b[38;5;183m\u001b[38;5;147m-\u001b[0m\u001b[38;5;183m\u001b[38;5;147m-\u001b[0m\u001b[38;5;183m\u001b[38;5;147m-\u001b[0m\u001b[38;5;183m\u001b[38;5;147m-\u001b[0m\u001b[38;5;183m\u001b[38;5;147m-\u001b[0m\u001b[38;5;183m\u001b[38;5;147m-\u001b[0m\u001b[38;5;183m\u001b[38;5;147m-\u001b[0m\u001b[38;5;183m\u001b[38;5;147m-\u001b[0m\u001b[38;5;183m\u001b[38;5;147m-\u001b[0m\u001b[38;5;183m\u001b[38;5;147m-\u001b[0m\u001b[38;5;183m\u001b[38;5;147m-\u001b[0m\u001b[38;5;183m\u001b[38;5;147m-\u001b[0m\u001b[38;5;183m\u001b[38;5;147m-\u001b[0m\u001b[38;5;183m\u001b[38;5;147m-\u001b[0m\u001b[38;5;183m\u001b[38;5;147m-\u001b[0m\u001b[38;5;183m\u001b[38;5;147m-\u001b[0m\u001b[38;5;183m\u001b[38;5;147m-\u001b[0m\u001b[38;5;183m\u001b[38;5;147m-\u001b[0m\u001b[38;5;183m\u001b[38;5;147m-\u001b[0m\u001b[38;5;183m\u001b[38;5;147m-\u001b[0m\u001b[38;5;183m\u001b[38;5;147m-\u001b[0m\u001b[38;5;183m\u001b[38;5;147m-\u001b[0m\u001b[38;5;183m\u001b[38;5;147m-\u001b[0m\u001b[38;5;183m\u001b[38;5;147m-\u001b[0m\u001b[38;5;183m\u001b[38;5;147m-\u001b[0m\u001b[38;5;183m\u001b[38;5;147m-\u001b[0m\u001b[38;5;183m\u001b[38;5;147m-\u001b[0m\u001b[38;5;183m\u001b[38;5;147m-\u001b[0m\u001b[38;5;183m\u001b[38;5;147m-\u001b[0m\u001b[38;5;183m\u001b[38;5;147m-\u001b[0m\u001b[38;5;183m\u001b[38;5;147m-\u001b[0m\u001b[38;5;183m\u001b[38;5;219m+\u001b[0m\u001b[38;5;183m\u001b[38;5;147m-\u001b[0m\u001b[38;5;183m\u001b[38;5;147m-\u001b[0m\u001b[38;5;183m\u001b[38;5;147m-\u001b[0m\u001b[38;5;183m\u001b[38;5;147m-\u001b[0m\u001b[38;5;183m\u001b[38;5;147m-\u001b[0m\u001b[38;5;183m\u001b[38;5;147m-\u001b[0m\u001b[38;5;183m\u001b[38;5;147m-\u001b[0m\u001b[38;5;183m\u001b[38;5;147m-\u001b[0m\u001b[38;5;183m\u001b[38;5;147m-\u001b[0m\u001b[38;5;183m\u001b[38;5;147m-\u001b[0m\u001b[38;5;183m\u001b[38;5;147m-\u001b[0m\u001b[38;5;183m\u001b[38;5;147m-\u001b[0m\u001b[38;5;183m\u001b[38;5;147m-\u001b[0m\u001b[38;5;183m\u001b[38;5;147m-\u001b[0m\u001b[38;5;183m\u001b[38;5;147m-\u001b[0m\u001b[38;5;183m\u001b[38;5;147m-\u001b[0m\u001b[38;5;183m\u001b[38;5;147m-\u001b[0m\u001b[38;5;183m\u001b[38;5;147m-\u001b[0m\u001b[38;5;183m\u001b[38;5;147m-\u001b[0m\u001b[38;5;183m\u001b[38;5;147m-\u001b[0m\u001b[38;5;183m\u001b[38;5;147m-\u001b[0m\u001b[38;5;183m\u001b[38;5;147m-\u001b[0m\u001b[38;5;183m\u001b[38;5;147m-\u001b[0m\u001b[38;5;183m\u001b[38;5;147m-\u001b[0m\u001b[38;5;183m\u001b[38;5;147m-\u001b[0m\u001b[38;5;183m\u001b[38;5;147m-\u001b[0m\u001b[38;5;183m\u001b[38;5;147m-\u001b[0m\u001b[38;5;183m\u001b[38;5;147m-\u001b[0m\u001b[38;5;183m\u001b[38;5;147m-\u001b[0m\u001b[38;5;183m\u001b[38;5;147m-\u001b[0m\u001b[38;5;183m\u001b[38;5;147m-\u001b[0m\u001b[38;5;183m\u001b[38;5;147m-\u001b[0m\u001b[38;5;183m\u001b[38;5;147m-\u001b[0m\u001b[38;5;183m\u001b[38;5;147m-\u001b[0m\u001b[38;5;183m\u001b[38;5;147m-\u001b[0m\u001b[38;5;183m\u001b[38;5;147m-\u001b[0m\u001b[38;5;183m\u001b[38;5;147m-\u001b[0m\u001b[38;5;183m\u001b[38;5;147m-\u001b[0m\u001b[38;5;183m\u001b[38;5;147m-\u001b[0m\u001b[38;5;183m\u001b[38;5;147m-\u001b[0m\u001b[38;5;183m\u001b[38;5;147m-\u001b[0m\u001b[38;5;183m\u001b[38;5;147m-\u001b[0m\u001b[38;5;183m\u001b[38;5;147m-\u001b[0m\u001b[38;5;183m\u001b[38;5;147m-\u001b[0m\u001b[38;5;183m\u001b[38;5;147m-\u001b[0m\u001b[38;5;183m\u001b[38;5;147m-\u001b[0m\u001b[38;5;183m\u001b[38;5;147m-\u001b[0m\u001b[38;5;183m\u001b[38;5;147m-\u001b[0m\u001b[38;5;183m\u001b[38;5;147m-\u001b[0m\u001b[38;5;183m\u001b[38;5;147m-\u001b[0m\u001b[38;5;183m\u001b[38;5;147m-\u001b[0m\u001b[38;5;183m\u001b[38;5;147m-\u001b[0m\u001b[38;5;183m\u001b[38;5;147m-\u001b[0m\u001b[38;5;183m\u001b[38;5;147m-\u001b[0m\u001b[38;5;183m\u001b[38;5;147m-\u001b[0m\u001b[38;5;183m\u001b[38;5;147m-\u001b[0m\u001b[38;5;183m\u001b[38;5;147m-\u001b[0m\u001b[38;5;183m\u001b[38;5;147m-\u001b[0m\u001b[38;5;183m\u001b[38;5;219m+\u001b[0m\u001b[38;5;183m\u001b[38;5;147m-\u001b[0m\u001b[38;5;183m\u001b[38;5;147m-\u001b[0m\u001b[38;5;183m\u001b[38;5;147m-\u001b[0m\u001b[38;5;183m\u001b[38;5;147m-\u001b[0m\u001b[38;5;183m\u001b[38;5;147m-\u001b[0m\u001b[38;5;183m\u001b[38;5;147m-\u001b[0m\u001b[38;5;183m\u001b[38;5;147m-\u001b[0m\u001b[38;5;183m\u001b[38;5;147m-\u001b[0m\u001b[38;5;183m\u001b[38;5;147m-\u001b[0m\u001b[38;5;183m\u001b[38;5;147m-\u001b[0m\u001b[38;5;183m\u001b[38;5;147m-\u001b[0m\u001b[38;5;183m\u001b[38;5;147m-\u001b[0m\u001b[38;5;183m\u001b[38;5;147m-\u001b[0m\u001b[38;5;183m\u001b[38;5;147m-\u001b[0m\u001b[38;5;183m\u001b[38;5;147m-\u001b[0m\u001b[38;5;183m\u001b[38;5;147m-\u001b[0m\u001b[38;5;183m\u001b[38;5;147m-\u001b[0m\u001b[38;5;183m\u001b[38;5;147m-\u001b[0m\u001b[38;5;183m\u001b[38;5;147m-\u001b[0m\u001b[38;5;183m\u001b[38;5;147m-\u001b[0m\u001b[38;5;183m\u001b[38;5;147m-\u001b[0m\u001b[38;5;183m\u001b[38;5;219m+\u001b[0m\u001b[38;5;183m\u001b[38;5;147m-\u001b[0m\u001b[38;5;183m\u001b[38;5;147m-\u001b[0m\u001b[38;5;183m\u001b[38;5;147m-\u001b[0m\u001b[38;5;183m\u001b[38;5;147m-\u001b[0m\u001b[38;5;183m\u001b[38;5;147m-\u001b[0m\u001b[38;5;183m\u001b[38;5;147m-\u001b[0m\u001b[38;5;183m\u001b[38;5;147m-\u001b[0m\u001b[38;5;183m\u001b[38;5;147m-\u001b[0m\u001b[38;5;183m\u001b[38;5;147m-\u001b[0m\u001b[38;5;183m\u001b[38;5;147m-\u001b[0m\u001b[38;5;183m\u001b[38;5;147m-\u001b[0m\u001b[38;5;183m\u001b[38;5;147m-\u001b[0m\u001b[38;5;183m\u001b[38;5;147m-\u001b[0m\u001b[38;5;183m\u001b[38;5;147m-\u001b[0m\u001b[38;5;183m\u001b[38;5;147m-\u001b[0m\u001b[38;5;183m\u001b[38;5;147m-\u001b[0m\u001b[38;5;183m\u001b[38;5;147m-\u001b[0m\u001b[38;5;183m\u001b[38;5;147m-\u001b[0m\u001b[38;5;183m\u001b[38;5;147m-\u001b[0m\u001b[38;5;183m\u001b[38;5;147m-\u001b[0m\u001b[38;5;183m\u001b[38;5;147m-\u001b[0m\u001b[38;5;183m\u001b[38;5;219m+\u001b[0m\u001b[38;5;183m\u001b[38;5;147m-\u001b[0m\u001b[38;5;183m\u001b[38;5;147m-\u001b[0m\u001b[38;5;183m\u001b[38;5;147m-\u001b[0m\u001b[38;5;183m\u001b[38;5;147m-\u001b[0m\u001b[38;5;183m\u001b[38;5;147m-\u001b[0m\u001b[38;5;183m\u001b[38;5;147m-\u001b[0m\u001b[38;5;183m\u001b[38;5;147m-\u001b[0m\u001b[38;5;183m\u001b[38;5;147m-\u001b[0m\u001b[38;5;183m\u001b[38;5;147m-\u001b[0m\u001b[38;5;183m\u001b[38;5;147m-\u001b[0m\u001b[38;5;183m\u001b[38;5;147m-\u001b[0m\u001b[38;5;183m\u001b[38;5;147m-\u001b[0m\u001b[38;5;183m\u001b[38;5;147m-\u001b[0m\u001b[38;5;183m\u001b[38;5;147m-\u001b[0m\u001b[38;5;183m\u001b[38;5;147m-\u001b[0m\u001b[38;5;183m\u001b[38;5;147m-\u001b[0m\u001b[38;5;183m\u001b[38;5;147m-\u001b[0m\u001b[38;5;183m\u001b[38;5;147m-\u001b[0m\u001b[38;5;183m\u001b[38;5;147m-\u001b[0m\u001b[38;5;183m\u001b[38;5;147m-\u001b[0m\u001b[38;5;183m\u001b[38;5;147m-\u001b[0m\u001b[38;5;183m\u001b[38;5;219m+\u001b[0m\u001b[38;5;183m\u001b[38;5;147m-\u001b[0m\u001b[38;5;183m\u001b[38;5;147m-\u001b[0m\u001b[38;5;183m\u001b[38;5;147m-\u001b[0m\u001b[38;5;183m\u001b[38;5;147m-\u001b[0m\u001b[38;5;183m\u001b[38;5;147m-\u001b[0m\u001b[38;5;183m\u001b[38;5;147m-\u001b[0m\u001b[38;5;183m\u001b[38;5;147m-\u001b[0m\u001b[38;5;183m\u001b[38;5;147m-\u001b[0m\u001b[38;5;183m\u001b[38;5;147m-\u001b[0m\u001b[38;5;183m\u001b[38;5;147m-\u001b[0m\u001b[38;5;183m\u001b[38;5;147m-\u001b[0m\u001b[38;5;183m\u001b[38;5;147m-\u001b[0m\u001b[38;5;183m\u001b[38;5;147m-\u001b[0m\u001b[38;5;183m\u001b[38;5;147m-\u001b[0m\u001b[38;5;183m\u001b[38;5;147m-\u001b[0m\u001b[38;5;183m\u001b[38;5;147m-\u001b[0m\u001b[38;5;183m\u001b[38;5;147m-\u001b[0m\u001b[38;5;183m\u001b[38;5;147m-\u001b[0m\u001b[38;5;183m\u001b[38;5;147m-\u001b[0m\u001b[38;5;183m\u001b[38;5;147m-\u001b[0m\u001b[38;5;183m\u001b[38;5;147m-\u001b[0m\u001b[38;5;183m\u001b[38;5;219m+\u001b[0m\u001b[38;5;183m\u001b[38;5;147m-\u001b[0m\u001b[38;5;183m\u001b[38;5;147m-\u001b[0m\u001b[38;5;183m\u001b[38;5;147m-\u001b[0m\u001b[38;5;183m\u001b[38;5;147m-\u001b[0m\u001b[38;5;183m\u001b[38;5;147m-\u001b[0m\u001b[38;5;183m\u001b[38;5;147m-\u001b[0m\u001b[38;5;183m\u001b[38;5;147m-\u001b[0m\u001b[38;5;183m\u001b[38;5;147m-\u001b[0m\u001b[38;5;183m\u001b[38;5;147m-\u001b[0m\u001b[38;5;183m\u001b[38;5;147m-\u001b[0m\u001b[38;5;183m\u001b[38;5;147m-\u001b[0m\u001b[38;5;183m\u001b[38;5;147m-\u001b[0m\u001b[38;5;183m\u001b[38;5;147m-\u001b[0m\u001b[38;5;183m\u001b[38;5;147m-\u001b[0m\u001b[38;5;183m\u001b[38;5;147m-\u001b[0m\u001b[38;5;183m\u001b[38;5;147m-\u001b[0m\u001b[38;5;183m\u001b[38;5;147m-\u001b[0m\u001b[38;5;183m\u001b[38;5;147m-\u001b[0m\u001b[38;5;183m\u001b[38;5;147m-\u001b[0m\u001b[38;5;183m\u001b[38;5;147m-\u001b[0m\u001b[38;5;183m\u001b[38;5;147m-\u001b[0m\u001b[38;5;183m\u001b[38;5;219m+\u001b[0m\u001b[38;5;183m\u001b[0m\n"
     ]
    }
   ],
   "source": [
    "##### POUR VISUALISER TOUS LES RÉSULTADOS ! #####\n",
    "from prettytable import PrettyTable\n",
    "def table_results(models):\n",
    "\n",
    "    bests_of_the_bests = ColorTable(theme=Themes.LAVENDER)\n",
    "    bests_of_the_bests.field_names = [\"Algorithme\", \"Hyperparamètres\", \"Macro f1\", \"Accuracy\", \"Precision\", \"Rappel\", \"Temps d'exécution\"]\n",
    "\n",
    "    best_models = sorted(models, key=lambda x: x.scores[\"macro avg\"][\"f1-score\"], reverse=True)\n",
    "    \n",
    "    for model in best_models:\n",
    "        bests_of_the_bests.add_row([model.name, model.model, model.scores[\"macro avg\"][\"f1-score\"], model.scores[\"accuracy\"], model.scores[\"macro avg\"][\"precision\"], model.scores[\"macro avg\"][\"recall\"], model.running_time])\n",
    "\n",
    "    return bests_of_the_bests\n",
    "\n",
    "print(table_results(Model.all_models))"
   ]
  },
  {
   "cell_type": "markdown",
   "metadata": {},
   "source": [
    "# ICI FAIRE LES STARTÉGIE\n",
    "# POUR FRRANAÇSI4\n",
    "# VOTING CLASSIFIER ET LES LANGUES"
   ]
  },
  {
   "cell_type": "code",
   "execution_count": 203,
   "metadata": {},
   "outputs": [],
   "source": [
    "def balance_classes(df, strategy=\"downsample\"):\n",
    "    \"\"\"fonction qui équilibre les classes en appliquant soit un downsampling, soit un upsampling \"\"\"\n",
    "\n",
    "    classes = df[\"label\"].unique()\n",
    "    df_balanced = pd.DataFrame()\n",
    "\n",
    "    if strategy == \"downsample\":\n",
    "        target_size = df[\"label\"].value_counts().min()\n",
    "    elif strategy == \"upsample\":\n",
    "        target_size = df[\"label\"].value_counts().max()\n",
    "\n",
    "    for cls in classes:\n",
    "        df_cls = df[df[\"label\"] == cls]\n",
    "        if strategy == \"downsample\":\n",
    "            df_cls_resampled = resample(df_cls, replace=False, n_samples=target_size, random_state=42)\n",
    "        elif strategy == \"upsample\":\n",
    "            df_cls_resampled = resample(df_cls, replace=True, n_samples=target_size, random_state=42)\n",
    "        df_balanced = pd.concat([df_balanced, df_cls_resampled])\n",
    "\n",
    "    return df_balanced"
   ]
  },
  {
   "cell_type": "markdown",
   "metadata": {},
   "source": [
    "### upsample"
   ]
  },
  {
   "cell_type": "code",
   "execution_count": 204,
   "metadata": {},
   "outputs": [],
   "source": [
    "df_balanced_up = balance_classes(df_train, strategy=\"upsample\")"
   ]
  },
  {
   "cell_type": "code",
   "execution_count": 205,
   "metadata": {},
   "outputs": [
    {
     "name": "stdout",
     "output_type": "stream",
     "text": [
      "Distribution des classes avant équilibrage :\n",
      "label\n",
      "PPE-DE       4635\n",
      "PSE          3650\n",
      "GUE-NGL      1823\n",
      "Verts-ALE    1609\n",
      "ELDR         1351\n",
      "Name: count, dtype: int64\n",
      "\n",
      "Distribution des classes après équilibrage :\n",
      "label\n",
      "PPE-DE       4635\n",
      "PSE          4635\n",
      "Verts-ALE    4635\n",
      "ELDR         4635\n",
      "GUE-NGL      4635\n",
      "Name: count, dtype: int64\n"
     ]
    }
   ],
   "source": [
    "print(\"Distribution des classes avant équilibrage :\")\n",
    "# je sais pas si on prend ça ou autre chose ??\n",
    "print(df_train[\"label\"].value_counts())\n",
    "\n",
    "print(\"\\nDistribution des classes après équilibrage :\")\n",
    "print(df_balanced_up[\"label\"].value_counts())"
   ]
  },
  {
   "cell_type": "code",
   "execution_count": 206,
   "metadata": {},
   "outputs": [
    {
     "data": {
      "image/png": "[encoded data removed]",
      "text/plain": [
       "<Figure size 1200x600 with 2 Axes>"
      ]
     },
     "metadata": {},
     "output_type": "display_data"
    }
   ],
   "source": [
    "plt.figure(figsize=(12, 6))\n",
    "plt.subplot(1, 2, 1)\n",
    "df_train[\"label\"].value_counts().plot(kind=\"bar\", color=\"orchid\", title=\"Avant équilibrage\")\n",
    "plt.subplot(1, 2, 2)\n",
    "df_balanced_up[\"label\"].value_counts().plot(kind=\"bar\", color=\"pink\", title=\"Après équilibrage\")\n",
    "plt.tight_layout()\n",
    "plt.savefig(\"article/equilibrage.png\", dpi=300, bbox_inches=\"tight\")\n",
    "plt.show()"
   ]
  },
  {
   "cell_type": "markdown",
   "metadata": {},
   "source": [
    "### downsample"
   ]
  },
  {
   "cell_type": "code",
   "execution_count": 207,
   "metadata": {},
   "outputs": [],
   "source": [
    "df_balanced_down = balance_classes(df_train, strategy=\"downsample\")"
   ]
  },
  {
   "cell_type": "code",
   "execution_count": 208,
   "metadata": {},
   "outputs": [
    {
     "name": "stdout",
     "output_type": "stream",
     "text": [
      "Distribution des classes avant équilibrage :\n",
      "label\n",
      "PPE-DE       4635\n",
      "PSE          3650\n",
      "GUE-NGL      1823\n",
      "Verts-ALE    1609\n",
      "ELDR         1351\n",
      "Name: count, dtype: int64\n",
      "\n",
      "Distribution des classes après équilibrage :\n",
      "label\n",
      "PPE-DE       1351\n",
      "PSE          1351\n",
      "Verts-ALE    1351\n",
      "ELDR         1351\n",
      "GUE-NGL      1351\n",
      "Name: count, dtype: int64\n"
     ]
    }
   ],
   "source": [
    "print(\"Distribution des classes avant équilibrage :\")\n",
    "# je sais pas si on prend ça ou autre chose ??\n",
    "print(df_train[\"label\"].value_counts())\n",
    "\n",
    "print(\"\\nDistribution des classes après équilibrage :\")\n",
    "print(df_balanced_down[\"label\"].value_counts())"
   ]
  },
  {
   "cell_type": "markdown",
   "metadata": {},
   "source": [
    "### On revectorise ces new train data"
   ]
  },
  {
   "cell_type": "code",
   "execution_count": 209,
   "metadata": {},
   "outputs": [],
   "source": [
    "df_balanced_up[\"texte_nettoyé\"] = df_balanced_up[\"texte\"].map(get_beautiful_clean_text)"
   ]
  },
  {
   "cell_type": "code",
   "execution_count": 212,
   "metadata": {},
   "outputs": [],
   "source": [
    "vectorizer = TfidfVectorizer(max_df=0.5, ngram_range=(1, 2))  \n",
    "x_train_balanced_up =  vectorizer.fit_transform(df_balanced_up[\"texte_nettoyé\"])\n",
    "y_train_balanced_up = df_balanced_up[\"label\"]\n",
    "x_test_balanced_up =  vectorizer.transform(df_test[\"texte_nettoyé\"])"
   ]
  },
  {
   "cell_type": "code",
   "execution_count": 211,
   "metadata": {},
   "outputs": [],
   "source": [
    "df_balanced_down[\"texte_nettoyé\"] = df_balanced_down[\"texte\"].map(get_beautiful_clean_text)"
   ]
  },
  {
   "cell_type": "code",
   "execution_count": 213,
   "metadata": {},
   "outputs": [],
   "source": [
    "vectorizer = TfidfVectorizer(max_df=0.5, ngram_range=(1, 2))  \n",
    "x_train_balanced_down =  vectorizer.fit_transform(df_balanced_down[\"texte_nettoyé\"])\n",
    "y_train_balanced_down = df_balanced_down[\"label\"]\n",
    "x_test_balanced_down =  vectorizer.transform(df_test[\"texte_nettoyé\"])"
   ]
  },
  {
   "cell_type": "markdown",
   "metadata": {},
   "source": [
    "### On peut ensuite ré-entrainer"
   ]
  },
  {
   "cell_type": "code",
   "execution_count": 219,
   "metadata": {},
   "outputs": [],
   "source": [
    "def test_three_best_models_up(models, x_train, y_train, x_test, y_test):\n",
    "                                 \n",
    "    for model_name, model_dict in models.items():\n",
    "        if model_name in [\"PassiveAggressiveClassifier\", \"SGDClassifier\", \"LinearSVC\"]:\n",
    "            print(f\"On teste le modèle {model_name} !\")\n",
    "            hyperparameters_training(f\"balanced_up_{model_name}\", model_dict, x_train, y_train, x_test, y_test)"
   ]
  },
  {
   "cell_type": "code",
   "execution_count": 220,
   "metadata": {},
   "outputs": [
    {
     "name": "stdout",
     "output_type": "stream",
     "text": [
      "On teste le modèle SGDClassifier !\n",
      "On teste le modèle LinearSVC !\n",
      "On teste le modèle PassiveAggressiveClassifier !\n",
      "\u001b[38;5;219m+\u001b[0m\u001b[38;5;183m\u001b[38;5;147m-\u001b[0m\u001b[38;5;183m\u001b[38;5;147m-\u001b[0m\u001b[38;5;183m\u001b[38;5;147m-\u001b[0m\u001b[38;5;183m\u001b[38;5;147m-\u001b[0m\u001b[38;5;183m\u001b[38;5;147m-\u001b[0m\u001b[38;5;183m\u001b[38;5;147m-\u001b[0m\u001b[38;5;183m\u001b[38;5;147m-\u001b[0m\u001b[38;5;183m\u001b[38;5;147m-\u001b[0m\u001b[38;5;183m\u001b[38;5;147m-\u001b[0m\u001b[38;5;183m\u001b[38;5;147m-\u001b[0m\u001b[38;5;183m\u001b[38;5;147m-\u001b[0m\u001b[38;5;183m\u001b[38;5;147m-\u001b[0m\u001b[38;5;183m\u001b[38;5;147m-\u001b[0m\u001b[38;5;183m\u001b[38;5;147m-\u001b[0m\u001b[38;5;183m\u001b[38;5;147m-\u001b[0m\u001b[38;5;183m\u001b[38;5;147m-\u001b[0m\u001b[38;5;183m\u001b[38;5;147m-\u001b[0m\u001b[38;5;183m\u001b[38;5;147m-\u001b[0m\u001b[38;5;183m\u001b[38;5;147m-\u001b[0m\u001b[38;5;183m\u001b[38;5;147m-\u001b[0m\u001b[38;5;183m\u001b[38;5;147m-\u001b[0m\u001b[38;5;183m\u001b[38;5;147m-\u001b[0m\u001b[38;5;183m\u001b[38;5;147m-\u001b[0m\u001b[38;5;183m\u001b[38;5;147m-\u001b[0m\u001b[38;5;183m\u001b[38;5;147m-\u001b[0m\u001b[38;5;183m\u001b[38;5;147m-\u001b[0m\u001b[38;5;183m\u001b[38;5;147m-\u001b[0m\u001b[38;5;183m\u001b[38;5;147m-\u001b[0m\u001b[38;5;183m\u001b[38;5;147m-\u001b[0m\u001b[38;5;183m\u001b[38;5;147m-\u001b[0m\u001b[38;5;183m\u001b[38;5;147m-\u001b[0m\u001b[38;5;183m\u001b[38;5;147m-\u001b[0m\u001b[38;5;183m\u001b[38;5;147m-\u001b[0m\u001b[38;5;183m\u001b[38;5;147m-\u001b[0m\u001b[38;5;183m\u001b[38;5;147m-\u001b[0m\u001b[38;5;183m\u001b[38;5;147m-\u001b[0m\u001b[38;5;183m\u001b[38;5;147m-\u001b[0m\u001b[38;5;183m\u001b[38;5;147m-\u001b[0m\u001b[38;5;183m\u001b[38;5;147m-\u001b[0m\u001b[38;5;183m\u001b[38;5;147m-\u001b[0m\u001b[38;5;183m\u001b[38;5;147m-\u001b[0m\u001b[38;5;183m\u001b[38;5;147m-\u001b[0m\u001b[38;5;183m\u001b[38;5;147m-\u001b[0m\u001b[38;5;183m\u001b[38;5;219m+\u001b[0m\u001b[38;5;183m\u001b[38;5;147m-\u001b[0m\u001b[38;5;183m\u001b[38;5;147m-\u001b[0m\u001b[38;5;183m\u001b[38;5;147m-\u001b[0m\u001b[38;5;183m\u001b[38;5;147m-\u001b[0m\u001b[38;5;183m\u001b[38;5;147m-\u001b[0m\u001b[38;5;183m\u001b[38;5;147m-\u001b[0m\u001b[38;5;183m\u001b[38;5;147m-\u001b[0m\u001b[38;5;183m\u001b[38;5;147m-\u001b[0m\u001b[38;5;183m\u001b[38;5;147m-\u001b[0m\u001b[38;5;183m\u001b[38;5;147m-\u001b[0m\u001b[38;5;183m\u001b[38;5;147m-\u001b[0m\u001b[38;5;183m\u001b[38;5;147m-\u001b[0m\u001b[38;5;183m\u001b[38;5;147m-\u001b[0m\u001b[38;5;183m\u001b[38;5;147m-\u001b[0m\u001b[38;5;183m\u001b[38;5;147m-\u001b[0m\u001b[38;5;183m\u001b[38;5;147m-\u001b[0m\u001b[38;5;183m\u001b[38;5;147m-\u001b[0m\u001b[38;5;183m\u001b[38;5;147m-\u001b[0m\u001b[38;5;183m\u001b[38;5;147m-\u001b[0m\u001b[38;5;183m\u001b[38;5;147m-\u001b[0m\u001b[38;5;183m\u001b[38;5;147m-\u001b[0m\u001b[38;5;183m\u001b[38;5;147m-\u001b[0m\u001b[38;5;183m\u001b[38;5;147m-\u001b[0m\u001b[38;5;183m\u001b[38;5;147m-\u001b[0m\u001b[38;5;183m\u001b[38;5;147m-\u001b[0m\u001b[38;5;183m\u001b[38;5;147m-\u001b[0m\u001b[38;5;183m\u001b[38;5;147m-\u001b[0m\u001b[38;5;183m\u001b[38;5;147m-\u001b[0m\u001b[38;5;183m\u001b[38;5;147m-\u001b[0m\u001b[38;5;183m\u001b[38;5;147m-\u001b[0m\u001b[38;5;183m\u001b[38;5;147m-\u001b[0m\u001b[38;5;183m\u001b[38;5;147m-\u001b[0m\u001b[38;5;183m\u001b[38;5;147m-\u001b[0m\u001b[38;5;183m\u001b[38;5;147m-\u001b[0m\u001b[38;5;183m\u001b[38;5;147m-\u001b[0m\u001b[38;5;183m\u001b[38;5;147m-\u001b[0m\u001b[38;5;183m\u001b[38;5;147m-\u001b[0m\u001b[38;5;183m\u001b[38;5;147m-\u001b[0m\u001b[38;5;183m\u001b[38;5;147m-\u001b[0m\u001b[38;5;183m\u001b[38;5;147m-\u001b[0m\u001b[38;5;183m\u001b[38;5;147m-\u001b[0m\u001b[38;5;183m\u001b[38;5;147m-\u001b[0m\u001b[38;5;183m\u001b[38;5;147m-\u001b[0m\u001b[38;5;183m\u001b[38;5;147m-\u001b[0m\u001b[38;5;183m\u001b[38;5;147m-\u001b[0m\u001b[38;5;183m\u001b[38;5;147m-\u001b[0m\u001b[38;5;183m\u001b[38;5;147m-\u001b[0m\u001b[38;5;183m\u001b[38;5;147m-\u001b[0m\u001b[38;5;183m\u001b[38;5;147m-\u001b[0m\u001b[38;5;183m\u001b[38;5;147m-\u001b[0m\u001b[38;5;183m\u001b[38;5;147m-\u001b[0m\u001b[38;5;183m\u001b[38;5;147m-\u001b[0m\u001b[38;5;183m\u001b[38;5;147m-\u001b[0m\u001b[38;5;183m\u001b[38;5;147m-\u001b[0m\u001b[38;5;183m\u001b[38;5;147m-\u001b[0m\u001b[38;5;183m\u001b[38;5;147m-\u001b[0m\u001b[38;5;183m\u001b[38;5;147m-\u001b[0m\u001b[38;5;183m\u001b[38;5;147m-\u001b[0m\u001b[38;5;183m\u001b[38;5;219m+\u001b[0m\u001b[38;5;183m\u001b[38;5;147m-\u001b[0m\u001b[38;5;183m\u001b[38;5;147m-\u001b[0m\u001b[38;5;183m\u001b[38;5;147m-\u001b[0m\u001b[38;5;183m\u001b[38;5;147m-\u001b[0m\u001b[38;5;183m\u001b[38;5;147m-\u001b[0m\u001b[38;5;183m\u001b[38;5;147m-\u001b[0m\u001b[38;5;183m\u001b[38;5;147m-\u001b[0m\u001b[38;5;183m\u001b[38;5;147m-\u001b[0m\u001b[38;5;183m\u001b[38;5;147m-\u001b[0m\u001b[38;5;183m\u001b[38;5;147m-\u001b[0m\u001b[38;5;183m\u001b[38;5;147m-\u001b[0m\u001b[38;5;183m\u001b[38;5;147m-\u001b[0m\u001b[38;5;183m\u001b[38;5;147m-\u001b[0m\u001b[38;5;183m\u001b[38;5;147m-\u001b[0m\u001b[38;5;183m\u001b[38;5;147m-\u001b[0m\u001b[38;5;183m\u001b[38;5;147m-\u001b[0m\u001b[38;5;183m\u001b[38;5;147m-\u001b[0m\u001b[38;5;183m\u001b[38;5;147m-\u001b[0m\u001b[38;5;183m\u001b[38;5;147m-\u001b[0m\u001b[38;5;183m\u001b[38;5;147m-\u001b[0m\u001b[38;5;183m\u001b[38;5;147m-\u001b[0m\u001b[38;5;183m\u001b[38;5;219m+\u001b[0m\u001b[38;5;183m\u001b[38;5;147m-\u001b[0m\u001b[38;5;183m\u001b[38;5;147m-\u001b[0m\u001b[38;5;183m\u001b[38;5;147m-\u001b[0m\u001b[38;5;183m\u001b[38;5;147m-\u001b[0m\u001b[38;5;183m\u001b[38;5;147m-\u001b[0m\u001b[38;5;183m\u001b[38;5;147m-\u001b[0m\u001b[38;5;183m\u001b[38;5;147m-\u001b[0m\u001b[38;5;183m\u001b[38;5;147m-\u001b[0m\u001b[38;5;183m\u001b[38;5;147m-\u001b[0m\u001b[38;5;183m\u001b[38;5;147m-\u001b[0m\u001b[38;5;183m\u001b[38;5;147m-\u001b[0m\u001b[38;5;183m\u001b[38;5;147m-\u001b[0m\u001b[38;5;183m\u001b[38;5;147m-\u001b[0m\u001b[38;5;183m\u001b[38;5;147m-\u001b[0m\u001b[38;5;183m\u001b[38;5;147m-\u001b[0m\u001b[38;5;183m\u001b[38;5;147m-\u001b[0m\u001b[38;5;183m\u001b[38;5;147m-\u001b[0m\u001b[38;5;183m\u001b[38;5;147m-\u001b[0m\u001b[38;5;183m\u001b[38;5;147m-\u001b[0m\u001b[38;5;183m\u001b[38;5;147m-\u001b[0m\u001b[38;5;183m\u001b[38;5;147m-\u001b[0m\u001b[38;5;183m\u001b[38;5;219m+\u001b[0m\u001b[38;5;183m\u001b[38;5;147m-\u001b[0m\u001b[38;5;183m\u001b[38;5;147m-\u001b[0m\u001b[38;5;183m\u001b[38;5;147m-\u001b[0m\u001b[38;5;183m\u001b[38;5;147m-\u001b[0m\u001b[38;5;183m\u001b[38;5;147m-\u001b[0m\u001b[38;5;183m\u001b[38;5;147m-\u001b[0m\u001b[38;5;183m\u001b[38;5;147m-\u001b[0m\u001b[38;5;183m\u001b[38;5;147m-\u001b[0m\u001b[38;5;183m\u001b[38;5;147m-\u001b[0m\u001b[38;5;183m\u001b[38;5;147m-\u001b[0m\u001b[38;5;183m\u001b[38;5;147m-\u001b[0m\u001b[38;5;183m\u001b[38;5;147m-\u001b[0m\u001b[38;5;183m\u001b[38;5;147m-\u001b[0m\u001b[38;5;183m\u001b[38;5;147m-\u001b[0m\u001b[38;5;183m\u001b[38;5;147m-\u001b[0m\u001b[38;5;183m\u001b[38;5;147m-\u001b[0m\u001b[38;5;183m\u001b[38;5;147m-\u001b[0m\u001b[38;5;183m\u001b[38;5;147m-\u001b[0m\u001b[38;5;183m\u001b[38;5;147m-\u001b[0m\u001b[38;5;183m\u001b[38;5;147m-\u001b[0m\u001b[38;5;183m\u001b[38;5;147m-\u001b[0m\u001b[38;5;183m\u001b[38;5;219m+\u001b[0m\u001b[38;5;183m\u001b[38;5;147m-\u001b[0m\u001b[38;5;183m\u001b[38;5;147m-\u001b[0m\u001b[38;5;183m\u001b[38;5;147m-\u001b[0m\u001b[38;5;183m\u001b[38;5;147m-\u001b[0m\u001b[38;5;183m\u001b[38;5;147m-\u001b[0m\u001b[38;5;183m\u001b[38;5;147m-\u001b[0m\u001b[38;5;183m\u001b[38;5;147m-\u001b[0m\u001b[38;5;183m\u001b[38;5;147m-\u001b[0m\u001b[38;5;183m\u001b[38;5;147m-\u001b[0m\u001b[38;5;183m\u001b[38;5;147m-\u001b[0m\u001b[38;5;183m\u001b[38;5;147m-\u001b[0m\u001b[38;5;183m\u001b[38;5;147m-\u001b[0m\u001b[38;5;183m\u001b[38;5;147m-\u001b[0m\u001b[38;5;183m\u001b[38;5;147m-\u001b[0m\u001b[38;5;183m\u001b[38;5;147m-\u001b[0m\u001b[38;5;183m\u001b[38;5;147m-\u001b[0m\u001b[38;5;183m\u001b[38;5;147m-\u001b[0m\u001b[38;5;183m\u001b[38;5;147m-\u001b[0m\u001b[38;5;183m\u001b[38;5;147m-\u001b[0m\u001b[38;5;183m\u001b[38;5;147m-\u001b[0m\u001b[38;5;183m\u001b[38;5;147m-\u001b[0m\u001b[38;5;183m\u001b[38;5;219m+\u001b[0m\u001b[38;5;183m\u001b[38;5;147m-\u001b[0m\u001b[38;5;183m\u001b[38;5;147m-\u001b[0m\u001b[38;5;183m\u001b[38;5;147m-\u001b[0m\u001b[38;5;183m\u001b[38;5;147m-\u001b[0m\u001b[38;5;183m\u001b[38;5;147m-\u001b[0m\u001b[38;5;183m\u001b[38;5;147m-\u001b[0m\u001b[38;5;183m\u001b[38;5;147m-\u001b[0m\u001b[38;5;183m\u001b[38;5;147m-\u001b[0m\u001b[38;5;183m\u001b[38;5;147m-\u001b[0m\u001b[38;5;183m\u001b[38;5;147m-\u001b[0m\u001b[38;5;183m\u001b[38;5;147m-\u001b[0m\u001b[38;5;183m\u001b[38;5;147m-\u001b[0m\u001b[38;5;183m\u001b[38;5;147m-\u001b[0m\u001b[38;5;183m\u001b[38;5;147m-\u001b[0m\u001b[38;5;183m\u001b[38;5;147m-\u001b[0m\u001b[38;5;183m\u001b[38;5;147m-\u001b[0m\u001b[38;5;183m\u001b[38;5;147m-\u001b[0m\u001b[38;5;183m\u001b[38;5;147m-\u001b[0m\u001b[38;5;183m\u001b[38;5;147m-\u001b[0m\u001b[38;5;183m\u001b[38;5;147m-\u001b[0m\u001b[38;5;183m\u001b[38;5;147m-\u001b[0m\u001b[38;5;183m\u001b[38;5;219m+\u001b[0m\u001b[38;5;183m\n",
      "\u001b[35m|\u001b[0m\u001b[38;5;183m                 Algorithme                \u001b[35m|\u001b[0m\u001b[38;5;183m                     Hyperparamètres                      \u001b[35m|\u001b[0m\u001b[38;5;183m       Macro f1      \u001b[35m|\u001b[0m\u001b[38;5;183m       Accuracy      \u001b[35m|\u001b[0m\u001b[38;5;183m      Precision      \u001b[35m|\u001b[0m\u001b[38;5;183m        Rappel       \u001b[35m|\u001b[0m\u001b[38;5;183m  Temps d'exécution  \u001b[35m|\u001b[0m\u001b[38;5;183m\n",
      "\u001b[38;5;219m+\u001b[0m\u001b[38;5;183m\u001b[38;5;147m-\u001b[0m\u001b[38;5;183m\u001b[38;5;147m-\u001b[0m\u001b[38;5;183m\u001b[38;5;147m-\u001b[0m\u001b[38;5;183m\u001b[38;5;147m-\u001b[0m\u001b[38;5;183m\u001b[38;5;147m-\u001b[0m\u001b[38;5;183m\u001b[38;5;147m-\u001b[0m\u001b[38;5;183m\u001b[38;5;147m-\u001b[0m\u001b[38;5;183m\u001b[38;5;147m-\u001b[0m\u001b[38;5;183m\u001b[38;5;147m-\u001b[0m\u001b[38;5;183m\u001b[38;5;147m-\u001b[0m\u001b[38;5;183m\u001b[38;5;147m-\u001b[0m\u001b[38;5;183m\u001b[38;5;147m-\u001b[0m\u001b[38;5;183m\u001b[38;5;147m-\u001b[0m\u001b[38;5;183m\u001b[38;5;147m-\u001b[0m\u001b[38;5;183m\u001b[38;5;147m-\u001b[0m\u001b[38;5;183m\u001b[38;5;147m-\u001b[0m\u001b[38;5;183m\u001b[38;5;147m-\u001b[0m\u001b[38;5;183m\u001b[38;5;147m-\u001b[0m\u001b[38;5;183m\u001b[38;5;147m-\u001b[0m\u001b[38;5;183m\u001b[38;5;147m-\u001b[0m\u001b[38;5;183m\u001b[38;5;147m-\u001b[0m\u001b[38;5;183m\u001b[38;5;147m-\u001b[0m\u001b[38;5;183m\u001b[38;5;147m-\u001b[0m\u001b[38;5;183m\u001b[38;5;147m-\u001b[0m\u001b[38;5;183m\u001b[38;5;147m-\u001b[0m\u001b[38;5;183m\u001b[38;5;147m-\u001b[0m\u001b[38;5;183m\u001b[38;5;147m-\u001b[0m\u001b[38;5;183m\u001b[38;5;147m-\u001b[0m\u001b[38;5;183m\u001b[38;5;147m-\u001b[0m\u001b[38;5;183m\u001b[38;5;147m-\u001b[0m\u001b[38;5;183m\u001b[38;5;147m-\u001b[0m\u001b[38;5;183m\u001b[38;5;147m-\u001b[0m\u001b[38;5;183m\u001b[38;5;147m-\u001b[0m\u001b[38;5;183m\u001b[38;5;147m-\u001b[0m\u001b[38;5;183m\u001b[38;5;147m-\u001b[0m\u001b[38;5;183m\u001b[38;5;147m-\u001b[0m\u001b[38;5;183m\u001b[38;5;147m-\u001b[0m\u001b[38;5;183m\u001b[38;5;147m-\u001b[0m\u001b[38;5;183m\u001b[38;5;147m-\u001b[0m\u001b[38;5;183m\u001b[38;5;147m-\u001b[0m\u001b[38;5;183m\u001b[38;5;147m-\u001b[0m\u001b[38;5;183m\u001b[38;5;147m-\u001b[0m\u001b[38;5;183m\u001b[38;5;147m-\u001b[0m\u001b[38;5;183m\u001b[38;5;219m+\u001b[0m\u001b[38;5;183m\u001b[38;5;147m-\u001b[0m\u001b[38;5;183m\u001b[38;5;147m-\u001b[0m\u001b[38;5;183m\u001b[38;5;147m-\u001b[0m\u001b[38;5;183m\u001b[38;5;147m-\u001b[0m\u001b[38;5;183m\u001b[38;5;147m-\u001b[0m\u001b[38;5;183m\u001b[38;5;147m-\u001b[0m\u001b[38;5;183m\u001b[38;5;147m-\u001b[0m\u001b[38;5;183m\u001b[38;5;147m-\u001b[0m\u001b[38;5;183m\u001b[38;5;147m-\u001b[0m\u001b[38;5;183m\u001b[38;5;147m-\u001b[0m\u001b[38;5;183m\u001b[38;5;147m-\u001b[0m\u001b[38;5;183m\u001b[38;5;147m-\u001b[0m\u001b[38;5;183m\u001b[38;5;147m-\u001b[0m\u001b[38;5;183m\u001b[38;5;147m-\u001b[0m\u001b[38;5;183m\u001b[38;5;147m-\u001b[0m\u001b[38;5;183m\u001b[38;5;147m-\u001b[0m\u001b[38;5;183m\u001b[38;5;147m-\u001b[0m\u001b[38;5;183m\u001b[38;5;147m-\u001b[0m\u001b[38;5;183m\u001b[38;5;147m-\u001b[0m\u001b[38;5;183m\u001b[38;5;147m-\u001b[0m\u001b[38;5;183m\u001b[38;5;147m-\u001b[0m\u001b[38;5;183m\u001b[38;5;147m-\u001b[0m\u001b[38;5;183m\u001b[38;5;147m-\u001b[0m\u001b[38;5;183m\u001b[38;5;147m-\u001b[0m\u001b[38;5;183m\u001b[38;5;147m-\u001b[0m\u001b[38;5;183m\u001b[38;5;147m-\u001b[0m\u001b[38;5;183m\u001b[38;5;147m-\u001b[0m\u001b[38;5;183m\u001b[38;5;147m-\u001b[0m\u001b[38;5;183m\u001b[38;5;147m-\u001b[0m\u001b[38;5;183m\u001b[38;5;147m-\u001b[0m\u001b[38;5;183m\u001b[38;5;147m-\u001b[0m\u001b[38;5;183m\u001b[38;5;147m-\u001b[0m\u001b[38;5;183m\u001b[38;5;147m-\u001b[0m\u001b[38;5;183m\u001b[38;5;147m-\u001b[0m\u001b[38;5;183m\u001b[38;5;147m-\u001b[0m\u001b[38;5;183m\u001b[38;5;147m-\u001b[0m\u001b[38;5;183m\u001b[38;5;147m-\u001b[0m\u001b[38;5;183m\u001b[38;5;147m-\u001b[0m\u001b[38;5;183m\u001b[38;5;147m-\u001b[0m\u001b[38;5;183m\u001b[38;5;147m-\u001b[0m\u001b[38;5;183m\u001b[38;5;147m-\u001b[0m\u001b[38;5;183m\u001b[38;5;147m-\u001b[0m\u001b[38;5;183m\u001b[38;5;147m-\u001b[0m\u001b[38;5;183m\u001b[38;5;147m-\u001b[0m\u001b[38;5;183m\u001b[38;5;147m-\u001b[0m\u001b[38;5;183m\u001b[38;5;147m-\u001b[0m\u001b[38;5;183m\u001b[38;5;147m-\u001b[0m\u001b[38;5;183m\u001b[38;5;147m-\u001b[0m\u001b[38;5;183m\u001b[38;5;147m-\u001b[0m\u001b[38;5;183m\u001b[38;5;147m-\u001b[0m\u001b[38;5;183m\u001b[38;5;147m-\u001b[0m\u001b[38;5;183m\u001b[38;5;147m-\u001b[0m\u001b[38;5;183m\u001b[38;5;147m-\u001b[0m\u001b[38;5;183m\u001b[38;5;147m-\u001b[0m\u001b[38;5;183m\u001b[38;5;147m-\u001b[0m\u001b[38;5;183m\u001b[38;5;147m-\u001b[0m\u001b[38;5;183m\u001b[38;5;147m-\u001b[0m\u001b[38;5;183m\u001b[38;5;147m-\u001b[0m\u001b[38;5;183m\u001b[38;5;219m+\u001b[0m\u001b[38;5;183m\u001b[38;5;147m-\u001b[0m\u001b[38;5;183m\u001b[38;5;147m-\u001b[0m\u001b[38;5;183m\u001b[38;5;147m-\u001b[0m\u001b[38;5;183m\u001b[38;5;147m-\u001b[0m\u001b[38;5;183m\u001b[38;5;147m-\u001b[0m\u001b[38;5;183m\u001b[38;5;147m-\u001b[0m\u001b[38;5;183m\u001b[38;5;147m-\u001b[0m\u001b[38;5;183m\u001b[38;5;147m-\u001b[0m\u001b[38;5;183m\u001b[38;5;147m-\u001b[0m\u001b[38;5;183m\u001b[38;5;147m-\u001b[0m\u001b[38;5;183m\u001b[38;5;147m-\u001b[0m\u001b[38;5;183m\u001b[38;5;147m-\u001b[0m\u001b[38;5;183m\u001b[38;5;147m-\u001b[0m\u001b[38;5;183m\u001b[38;5;147m-\u001b[0m\u001b[38;5;183m\u001b[38;5;147m-\u001b[0m\u001b[38;5;183m\u001b[38;5;147m-\u001b[0m\u001b[38;5;183m\u001b[38;5;147m-\u001b[0m\u001b[38;5;183m\u001b[38;5;147m-\u001b[0m\u001b[38;5;183m\u001b[38;5;147m-\u001b[0m\u001b[38;5;183m\u001b[38;5;147m-\u001b[0m\u001b[38;5;183m\u001b[38;5;147m-\u001b[0m\u001b[38;5;183m\u001b[38;5;219m+\u001b[0m\u001b[38;5;183m\u001b[38;5;147m-\u001b[0m\u001b[38;5;183m\u001b[38;5;147m-\u001b[0m\u001b[38;5;183m\u001b[38;5;147m-\u001b[0m\u001b[38;5;183m\u001b[38;5;147m-\u001b[0m\u001b[38;5;183m\u001b[38;5;147m-\u001b[0m\u001b[38;5;183m\u001b[38;5;147m-\u001b[0m\u001b[38;5;183m\u001b[38;5;147m-\u001b[0m\u001b[38;5;183m\u001b[38;5;147m-\u001b[0m\u001b[38;5;183m\u001b[38;5;147m-\u001b[0m\u001b[38;5;183m\u001b[38;5;147m-\u001b[0m\u001b[38;5;183m\u001b[38;5;147m-\u001b[0m\u001b[38;5;183m\u001b[38;5;147m-\u001b[0m\u001b[38;5;183m\u001b[38;5;147m-\u001b[0m\u001b[38;5;183m\u001b[38;5;147m-\u001b[0m\u001b[38;5;183m\u001b[38;5;147m-\u001b[0m\u001b[38;5;183m\u001b[38;5;147m-\u001b[0m\u001b[38;5;183m\u001b[38;5;147m-\u001b[0m\u001b[38;5;183m\u001b[38;5;147m-\u001b[0m\u001b[38;5;183m\u001b[38;5;147m-\u001b[0m\u001b[38;5;183m\u001b[38;5;147m-\u001b[0m\u001b[38;5;183m\u001b[38;5;147m-\u001b[0m\u001b[38;5;183m\u001b[38;5;219m+\u001b[0m\u001b[38;5;183m\u001b[38;5;147m-\u001b[0m\u001b[38;5;183m\u001b[38;5;147m-\u001b[0m\u001b[38;5;183m\u001b[38;5;147m-\u001b[0m\u001b[38;5;183m\u001b[38;5;147m-\u001b[0m\u001b[38;5;183m\u001b[38;5;147m-\u001b[0m\u001b[38;5;183m\u001b[38;5;147m-\u001b[0m\u001b[38;5;183m\u001b[38;5;147m-\u001b[0m\u001b[38;5;183m\u001b[38;5;147m-\u001b[0m\u001b[38;5;183m\u001b[38;5;147m-\u001b[0m\u001b[38;5;183m\u001b[38;5;147m-\u001b[0m\u001b[38;5;183m\u001b[38;5;147m-\u001b[0m\u001b[38;5;183m\u001b[38;5;147m-\u001b[0m\u001b[38;5;183m\u001b[38;5;147m-\u001b[0m\u001b[38;5;183m\u001b[38;5;147m-\u001b[0m\u001b[38;5;183m\u001b[38;5;147m-\u001b[0m\u001b[38;5;183m\u001b[38;5;147m-\u001b[0m\u001b[38;5;183m\u001b[38;5;147m-\u001b[0m\u001b[38;5;183m\u001b[38;5;147m-\u001b[0m\u001b[38;5;183m\u001b[38;5;147m-\u001b[0m\u001b[38;5;183m\u001b[38;5;147m-\u001b[0m\u001b[38;5;183m\u001b[38;5;147m-\u001b[0m\u001b[38;5;183m\u001b[38;5;219m+\u001b[0m\u001b[38;5;183m\u001b[38;5;147m-\u001b[0m\u001b[38;5;183m\u001b[38;5;147m-\u001b[0m\u001b[38;5;183m\u001b[38;5;147m-\u001b[0m\u001b[38;5;183m\u001b[38;5;147m-\u001b[0m\u001b[38;5;183m\u001b[38;5;147m-\u001b[0m\u001b[38;5;183m\u001b[38;5;147m-\u001b[0m\u001b[38;5;183m\u001b[38;5;147m-\u001b[0m\u001b[38;5;183m\u001b[38;5;147m-\u001b[0m\u001b[38;5;183m\u001b[38;5;147m-\u001b[0m\u001b[38;5;183m\u001b[38;5;147m-\u001b[0m\u001b[38;5;183m\u001b[38;5;147m-\u001b[0m\u001b[38;5;183m\u001b[38;5;147m-\u001b[0m\u001b[38;5;183m\u001b[38;5;147m-\u001b[0m\u001b[38;5;183m\u001b[38;5;147m-\u001b[0m\u001b[38;5;183m\u001b[38;5;147m-\u001b[0m\u001b[38;5;183m\u001b[38;5;147m-\u001b[0m\u001b[38;5;183m\u001b[38;5;147m-\u001b[0m\u001b[38;5;183m\u001b[38;5;147m-\u001b[0m\u001b[38;5;183m\u001b[38;5;147m-\u001b[0m\u001b[38;5;183m\u001b[38;5;147m-\u001b[0m\u001b[38;5;183m\u001b[38;5;147m-\u001b[0m\u001b[38;5;183m\u001b[38;5;219m+\u001b[0m\u001b[38;5;183m\u001b[38;5;147m-\u001b[0m\u001b[38;5;183m\u001b[38;5;147m-\u001b[0m\u001b[38;5;183m\u001b[38;5;147m-\u001b[0m\u001b[38;5;183m\u001b[38;5;147m-\u001b[0m\u001b[38;5;183m\u001b[38;5;147m-\u001b[0m\u001b[38;5;183m\u001b[38;5;147m-\u001b[0m\u001b[38;5;183m\u001b[38;5;147m-\u001b[0m\u001b[38;5;183m\u001b[38;5;147m-\u001b[0m\u001b[38;5;183m\u001b[38;5;147m-\u001b[0m\u001b[38;5;183m\u001b[38;5;147m-\u001b[0m\u001b[38;5;183m\u001b[38;5;147m-\u001b[0m\u001b[38;5;183m\u001b[38;5;147m-\u001b[0m\u001b[38;5;183m\u001b[38;5;147m-\u001b[0m\u001b[38;5;183m\u001b[38;5;147m-\u001b[0m\u001b[38;5;183m\u001b[38;5;147m-\u001b[0m\u001b[38;5;183m\u001b[38;5;147m-\u001b[0m\u001b[38;5;183m\u001b[38;5;147m-\u001b[0m\u001b[38;5;183m\u001b[38;5;147m-\u001b[0m\u001b[38;5;183m\u001b[38;5;147m-\u001b[0m\u001b[38;5;183m\u001b[38;5;147m-\u001b[0m\u001b[38;5;183m\u001b[38;5;147m-\u001b[0m\u001b[38;5;183m\u001b[38;5;219m+\u001b[0m\u001b[38;5;183m\n",
      "\u001b[35m|\u001b[0m\u001b[38;5;183m balanced_up_PassiveAggressiveClassifier_1 \u001b[35m|\u001b[0m\u001b[38;5;183m            PassiveAggressiveClassifier(C=0.5)            \u001b[35m|\u001b[0m\u001b[38;5;183m 0.35094318728675933 \u001b[35m|\u001b[0m\u001b[38;5;183m 0.39003673094582186 \u001b[35m|\u001b[0m\u001b[38;5;183m 0.35323691000267876 \u001b[35m|\u001b[0m\u001b[38;5;183m  0.3510058272860245 \u001b[35m|\u001b[0m\u001b[38;5;183m  1.0115983486175537 \u001b[35m|\u001b[0m\u001b[38;5;183m\n",
      "\u001b[35m|\u001b[0m\u001b[38;5;183m balanced_up_PassiveAggressiveClassifier_4 \u001b[35m|\u001b[0m\u001b[38;5;183m    PassiveAggressiveClassifier(loss='squared_hinge')     \u001b[35m|\u001b[0m\u001b[38;5;183m  0.350571513299591  \u001b[35m|\u001b[0m\u001b[38;5;183m 0.39026629935720847 \u001b[35m|\u001b[0m\u001b[38;5;183m   0.35245491189453  \u001b[35m|\u001b[0m\u001b[38;5;183m 0.35095780851724717 \u001b[35m|\u001b[0m\u001b[38;5;183m  0.9673442840576172 \u001b[35m|\u001b[0m\u001b[38;5;183m\n",
      "\u001b[35m|\u001b[0m\u001b[38;5;183m balanced_up_PassiveAggressiveClassifier_3 \u001b[35m|\u001b[0m\u001b[38;5;183m              PassiveAggressiveClassifier()               \u001b[35m|\u001b[0m\u001b[38;5;183m 0.35047370697858343 \u001b[35m|\u001b[0m\u001b[38;5;183m  0.390495867768595  \u001b[35m|\u001b[0m\u001b[38;5;183m  0.3529020748715463 \u001b[35m|\u001b[0m\u001b[38;5;183m  0.3504660482685419 \u001b[35m|\u001b[0m\u001b[38;5;183m  0.8413610458374023 \u001b[35m|\u001b[0m\u001b[38;5;183m\n",
      "\u001b[35m|\u001b[0m\u001b[38;5;183m balanced_up_PassiveAggressiveClassifier_2 \u001b[35m|\u001b[0m\u001b[38;5;183m PassiveAggressiveClassifier(C=0.5, loss='squared_hinge') \u001b[35m|\u001b[0m\u001b[38;5;183m 0.35028134686926243 \u001b[35m|\u001b[0m\u001b[38;5;183m 0.38957759412304865 \u001b[35m|\u001b[0m\u001b[38;5;183m  0.3523488746360397 \u001b[35m|\u001b[0m\u001b[38;5;183m 0.35051698695719724 \u001b[35m|\u001b[0m\u001b[38;5;183m  1.1087706089019775 \u001b[35m|\u001b[0m\u001b[38;5;183m\n",
      "\u001b[35m|\u001b[0m\u001b[38;5;183m          balanced_up_LinearSVC_1          \u001b[35m|\u001b[0m\u001b[38;5;183m               LinearSVC(C=0.5, dual=True)                \u001b[35m|\u001b[0m\u001b[38;5;183m 0.34978977868852545 \u001b[35m|\u001b[0m\u001b[38;5;183m 0.37993572084481175 \u001b[35m|\u001b[0m\u001b[38;5;183m  0.3449777200274905 \u001b[35m|\u001b[0m\u001b[38;5;183m  0.3577038331219887 \u001b[35m|\u001b[0m\u001b[38;5;183m  1.9687814712524414 \u001b[35m|\u001b[0m\u001b[38;5;183m\n",
      "\u001b[35m|\u001b[0m\u001b[38;5;183m          balanced_up_LinearSVC_1          \u001b[35m|\u001b[0m\u001b[38;5;183m               LinearSVC(C=0.5, dual=True)                \u001b[35m|\u001b[0m\u001b[38;5;183m 0.34978977868852545 \u001b[35m|\u001b[0m\u001b[38;5;183m 0.37993572084481175 \u001b[35m|\u001b[0m\u001b[38;5;183m  0.3449777200274905 \u001b[35m|\u001b[0m\u001b[38;5;183m  0.3577038331219887 \u001b[35m|\u001b[0m\u001b[38;5;183m  2.456591844558716  \u001b[35m|\u001b[0m\u001b[38;5;183m\n",
      "\u001b[35m|\u001b[0m\u001b[38;5;183m          balanced_up_LinearSVC_1          \u001b[35m|\u001b[0m\u001b[38;5;183m               LinearSVC(C=0.5, dual=True)                \u001b[35m|\u001b[0m\u001b[38;5;183m 0.34978977868852545 \u001b[35m|\u001b[0m\u001b[38;5;183m 0.37993572084481175 \u001b[35m|\u001b[0m\u001b[38;5;183m  0.3449777200274905 \u001b[35m|\u001b[0m\u001b[38;5;183m  0.3577038331219887 \u001b[35m|\u001b[0m\u001b[38;5;183m  2.8428475856781006 \u001b[35m|\u001b[0m\u001b[38;5;183m\n",
      "\u001b[35m|\u001b[0m\u001b[38;5;183m          balanced_up_LinearSVC_2          \u001b[35m|\u001b[0m\u001b[38;5;183m               LinearSVC(C=0.5, dual=False)               \u001b[35m|\u001b[0m\u001b[38;5;183m  0.3497896449310348 \u001b[35m|\u001b[0m\u001b[38;5;183m 0.37993572084481175 \u001b[35m|\u001b[0m\u001b[38;5;183m 0.34498005922316777 \u001b[35m|\u001b[0m\u001b[38;5;183m  0.3577038331219887 \u001b[35m|\u001b[0m\u001b[38;5;183m  19.81067442893982  \u001b[35m|\u001b[0m\u001b[38;5;183m\n",
      "\u001b[35m|\u001b[0m\u001b[38;5;183m          balanced_up_LinearSVC_2          \u001b[35m|\u001b[0m\u001b[38;5;183m               LinearSVC(C=0.5, dual=False)               \u001b[35m|\u001b[0m\u001b[38;5;183m  0.3497896449310348 \u001b[35m|\u001b[0m\u001b[38;5;183m 0.37993572084481175 \u001b[35m|\u001b[0m\u001b[38;5;183m 0.34498005922316777 \u001b[35m|\u001b[0m\u001b[38;5;183m  0.3577038331219887 \u001b[35m|\u001b[0m\u001b[38;5;183m  22.590319633483887 \u001b[35m|\u001b[0m\u001b[38;5;183m\n",
      "\u001b[35m|\u001b[0m\u001b[38;5;183m          balanced_up_LinearSVC_2          \u001b[35m|\u001b[0m\u001b[38;5;183m               LinearSVC(C=0.5, dual=False)               \u001b[35m|\u001b[0m\u001b[38;5;183m  0.3497896449310348 \u001b[35m|\u001b[0m\u001b[38;5;183m 0.37993572084481175 \u001b[35m|\u001b[0m\u001b[38;5;183m 0.34498005922316777 \u001b[35m|\u001b[0m\u001b[38;5;183m  0.3577038331219887 \u001b[35m|\u001b[0m\u001b[38;5;183m  22.59908628463745  \u001b[35m|\u001b[0m\u001b[38;5;183m\n",
      "\u001b[35m|\u001b[0m\u001b[38;5;183m        balanced_up_SGDClassifier_2        \u001b[35m|\u001b[0m\u001b[38;5;183m           SGDClassifier(loss='squared_hinge')            \u001b[35m|\u001b[0m\u001b[38;5;183m 0.34864282905331584 \u001b[35m|\u001b[0m\u001b[38;5;183m  0.380050505050505  \u001b[35m|\u001b[0m\u001b[38;5;183m 0.34462065732117375 \u001b[35m|\u001b[0m\u001b[38;5;183m  0.3546511934367228 \u001b[35m|\u001b[0m\u001b[38;5;183m  0.9521689414978027 \u001b[35m|\u001b[0m\u001b[38;5;183m\n",
      "\u001b[35m|\u001b[0m\u001b[38;5;183m        balanced_up_SGDClassifier_2        \u001b[35m|\u001b[0m\u001b[38;5;183m           SGDClassifier(loss='squared_hinge')            \u001b[35m|\u001b[0m\u001b[38;5;183m 0.34863808089378895 \u001b[35m|\u001b[0m\u001b[38;5;183m  0.3798209366391185 \u001b[35m|\u001b[0m\u001b[38;5;183m 0.34402019950904916 \u001b[35m|\u001b[0m\u001b[38;5;183m 0.35617900968639693 \u001b[35m|\u001b[0m\u001b[38;5;183m  0.7787206172943115 \u001b[35m|\u001b[0m\u001b[38;5;183m\n",
      "\u001b[35m|\u001b[0m\u001b[38;5;183m          balanced_up_LinearSVC_4          \u001b[35m|\u001b[0m\u001b[38;5;183m                  LinearSVC(dual=False)                   \u001b[35m|\u001b[0m\u001b[38;5;183m  0.348352890254289  \u001b[35m|\u001b[0m\u001b[38;5;183m 0.38096877869605145 \u001b[35m|\u001b[0m\u001b[38;5;183m 0.34496438666076246 \u001b[35m|\u001b[0m\u001b[38;5;183m  0.3536243144849022 \u001b[35m|\u001b[0m\u001b[38;5;183m  38.824116230010986 \u001b[35m|\u001b[0m\u001b[38;5;183m\n",
      "\u001b[35m|\u001b[0m\u001b[38;5;183m          balanced_up_LinearSVC_4          \u001b[35m|\u001b[0m\u001b[38;5;183m                  LinearSVC(dual=False)                   \u001b[35m|\u001b[0m\u001b[38;5;183m  0.348352890254289  \u001b[35m|\u001b[0m\u001b[38;5;183m 0.38096877869605145 \u001b[35m|\u001b[0m\u001b[38;5;183m 0.34496438666076246 \u001b[35m|\u001b[0m\u001b[38;5;183m  0.3536243144849022 \u001b[35m|\u001b[0m\u001b[38;5;183m  37.584123373031616 \u001b[35m|\u001b[0m\u001b[38;5;183m\n",
      "\u001b[35m|\u001b[0m\u001b[38;5;183m          balanced_up_LinearSVC_4          \u001b[35m|\u001b[0m\u001b[38;5;183m                  LinearSVC(dual=False)                   \u001b[35m|\u001b[0m\u001b[38;5;183m  0.348352890254289  \u001b[35m|\u001b[0m\u001b[38;5;183m 0.38096877869605145 \u001b[35m|\u001b[0m\u001b[38;5;183m 0.34496438666076246 \u001b[35m|\u001b[0m\u001b[38;5;183m  0.3536243144849022 \u001b[35m|\u001b[0m\u001b[38;5;183m  35.79726433753967  \u001b[35m|\u001b[0m\u001b[38;5;183m\n",
      "\u001b[35m|\u001b[0m\u001b[38;5;183m          balanced_up_LinearSVC_3          \u001b[35m|\u001b[0m\u001b[38;5;183m                   LinearSVC(dual=True)                   \u001b[35m|\u001b[0m\u001b[38;5;183m 0.34834803712033974 \u001b[35m|\u001b[0m\u001b[38;5;183m 0.38096877869605145 \u001b[35m|\u001b[0m\u001b[38;5;183m 0.34495252951005384 \u001b[35m|\u001b[0m\u001b[38;5;183m  0.3536243144849022 \u001b[35m|\u001b[0m\u001b[38;5;183m  2.8024649620056152 \u001b[35m|\u001b[0m\u001b[38;5;183m\n",
      "\u001b[35m|\u001b[0m\u001b[38;5;183m          balanced_up_LinearSVC_3          \u001b[35m|\u001b[0m\u001b[38;5;183m                   LinearSVC(dual=True)                   \u001b[35m|\u001b[0m\u001b[38;5;183m 0.34834803712033974 \u001b[35m|\u001b[0m\u001b[38;5;183m 0.38096877869605145 \u001b[35m|\u001b[0m\u001b[38;5;183m 0.34495252951005384 \u001b[35m|\u001b[0m\u001b[38;5;183m  0.3536243144849022 \u001b[35m|\u001b[0m\u001b[38;5;183m  3.133448362350464  \u001b[35m|\u001b[0m\u001b[38;5;183m\n",
      "\u001b[35m|\u001b[0m\u001b[38;5;183m          balanced_up_LinearSVC_3          \u001b[35m|\u001b[0m\u001b[38;5;183m                   LinearSVC(dual=True)                   \u001b[35m|\u001b[0m\u001b[38;5;183m 0.34834803712033974 \u001b[35m|\u001b[0m\u001b[38;5;183m 0.38096877869605145 \u001b[35m|\u001b[0m\u001b[38;5;183m 0.34495252951005384 \u001b[35m|\u001b[0m\u001b[38;5;183m  0.3536243144849022 \u001b[35m|\u001b[0m\u001b[38;5;183m  3.551748275756836  \u001b[35m|\u001b[0m\u001b[38;5;183m\n",
      "\u001b[35m|\u001b[0m\u001b[38;5;183m        balanced_up_SGDClassifier_2        \u001b[35m|\u001b[0m\u001b[38;5;183m           SGDClassifier(loss='squared_hinge')            \u001b[35m|\u001b[0m\u001b[38;5;183m 0.34761634312933654 \u001b[35m|\u001b[0m\u001b[38;5;183m  0.3774104683195592 \u001b[35m|\u001b[0m\u001b[38;5;183m  0.3424433416528426 \u001b[35m|\u001b[0m\u001b[38;5;183m  0.3577302678678675 \u001b[35m|\u001b[0m\u001b[38;5;183m  0.7572197914123535 \u001b[35m|\u001b[0m\u001b[38;5;183m\n",
      "\u001b[35m|\u001b[0m\u001b[38;5;183m       PassiveAggressiveClassifier_2       \u001b[35m|\u001b[0m\u001b[38;5;183m PassiveAggressiveClassifier(C=0.5, loss='squared_hinge') \u001b[35m|\u001b[0m\u001b[38;5;183m  0.3441560154374682 \u001b[35m|\u001b[0m\u001b[38;5;183m 0.41253443526170797 \u001b[35m|\u001b[0m\u001b[38;5;183m  0.3751512361650609 \u001b[35m|\u001b[0m\u001b[38;5;183m 0.33927196371666785 \u001b[35m|\u001b[0m\u001b[38;5;183m  1.0995783805847168 \u001b[35m|\u001b[0m\u001b[38;5;183m\n",
      "\u001b[35m|\u001b[0m\u001b[38;5;183m       PassiveAggressiveClassifier_3       \u001b[35m|\u001b[0m\u001b[38;5;183m              PassiveAggressiveClassifier()               \u001b[35m|\u001b[0m\u001b[38;5;183m 0.34244181913188015 \u001b[35m|\u001b[0m\u001b[38;5;183m  0.4110422405876951 \u001b[35m|\u001b[0m\u001b[38;5;183m  0.3741515430908268 \u001b[35m|\u001b[0m\u001b[38;5;183m 0.33718812824633715 \u001b[35m|\u001b[0m\u001b[38;5;183m  0.8025248050689697 \u001b[35m|\u001b[0m\u001b[38;5;183m\n",
      "\u001b[35m|\u001b[0m\u001b[38;5;183m       PassiveAggressiveClassifier_4       \u001b[35m|\u001b[0m\u001b[38;5;183m    PassiveAggressiveClassifier(loss='squared_hinge')     \u001b[35m|\u001b[0m\u001b[38;5;183m 0.34219127963437673 \u001b[35m|\u001b[0m\u001b[38;5;183m  0.4110422405876951 \u001b[35m|\u001b[0m\u001b[38;5;183m 0.37271933576339034 \u001b[35m|\u001b[0m\u001b[38;5;183m 0.33734563410614377 \u001b[35m|\u001b[0m\u001b[38;5;183m  0.9427523612976074 \u001b[35m|\u001b[0m\u001b[38;5;183m\n",
      "\u001b[35m|\u001b[0m\u001b[38;5;183m       PassiveAggressiveClassifier_1       \u001b[35m|\u001b[0m\u001b[38;5;183m            PassiveAggressiveClassifier(C=0.5)            \u001b[35m|\u001b[0m\u001b[38;5;183m 0.34194258117668874 \u001b[35m|\u001b[0m\u001b[38;5;183m  0.4116161616161616 \u001b[35m|\u001b[0m\u001b[38;5;183m 0.37458933371260306 \u001b[35m|\u001b[0m\u001b[38;5;183m  0.336858635516392  \u001b[35m|\u001b[0m\u001b[38;5;183m  0.8625164031982422 \u001b[35m|\u001b[0m\u001b[38;5;183m\n",
      "\u001b[35m|\u001b[0m\u001b[38;5;183m        balanced_up_SGDClassifier_1        \u001b[35m|\u001b[0m\u001b[38;5;183m                     SGDClassifier()                      \u001b[35m|\u001b[0m\u001b[38;5;183m 0.33786543646845973 \u001b[35m|\u001b[0m\u001b[38;5;183m  0.3549127640036731 \u001b[35m|\u001b[0m\u001b[38;5;183m  0.3354496654106639 \u001b[35m|\u001b[0m\u001b[38;5;183m 0.36395107077667654 \u001b[35m|\u001b[0m\u001b[38;5;183m  1.1780388355255127 \u001b[35m|\u001b[0m\u001b[38;5;183m\n",
      "\u001b[35m|\u001b[0m\u001b[38;5;183m        balanced_up_SGDClassifier_1        \u001b[35m|\u001b[0m\u001b[38;5;183m                     SGDClassifier()                      \u001b[35m|\u001b[0m\u001b[38;5;183m  0.337742961961514  \u001b[35m|\u001b[0m\u001b[38;5;183m  0.3542240587695133 \u001b[35m|\u001b[0m\u001b[38;5;183m 0.33562657207197927 \u001b[35m|\u001b[0m\u001b[38;5;183m  0.3639655937552404 \u001b[35m|\u001b[0m\u001b[38;5;183m  1.2400407791137695 \u001b[35m|\u001b[0m\u001b[38;5;183m\n",
      "\u001b[35m|\u001b[0m\u001b[38;5;183m        balanced_up_SGDClassifier_1        \u001b[35m|\u001b[0m\u001b[38;5;183m                     SGDClassifier()                      \u001b[35m|\u001b[0m\u001b[38;5;183m 0.33620351720422076 \u001b[35m|\u001b[0m\u001b[38;5;183m  0.3536501377410468 \u001b[35m|\u001b[0m\u001b[38;5;183m 0.33419937634437025 \u001b[35m|\u001b[0m\u001b[38;5;183m 0.36230724699889016 \u001b[35m|\u001b[0m\u001b[38;5;183m  1.2502858638763428 \u001b[35m|\u001b[0m\u001b[38;5;183m\n",
      "\u001b[35m|\u001b[0m\u001b[38;5;183m                LinearSVC_3                \u001b[35m|\u001b[0m\u001b[38;5;183m                   LinearSVC(dual=True)                   \u001b[35m|\u001b[0m\u001b[38;5;183m  0.3319172995235483 \u001b[35m|\u001b[0m\u001b[38;5;183m  0.4180440771349862 \u001b[35m|\u001b[0m\u001b[38;5;183m  0.3930365127324806 \u001b[35m|\u001b[0m\u001b[38;5;183m 0.32991101032659575 \u001b[35m|\u001b[0m\u001b[38;5;183m  1.6971030235290527 \u001b[35m|\u001b[0m\u001b[38;5;183m\n",
      "\u001b[35m|\u001b[0m\u001b[38;5;183m                LinearSVC_4                \u001b[35m|\u001b[0m\u001b[38;5;183m                  LinearSVC(dual=False)                   \u001b[35m|\u001b[0m\u001b[38;5;183m  0.3319172995235483 \u001b[35m|\u001b[0m\u001b[38;5;183m  0.4180440771349862 \u001b[35m|\u001b[0m\u001b[38;5;183m  0.3930365127324806 \u001b[35m|\u001b[0m\u001b[38;5;183m 0.32991101032659575 \u001b[35m|\u001b[0m\u001b[38;5;183m  18.996681690216064 \u001b[35m|\u001b[0m\u001b[38;5;183m\n",
      "\u001b[35m|\u001b[0m\u001b[38;5;183m        balanced_up_SGDClassifier_4        \u001b[35m|\u001b[0m\u001b[38;5;183m     SGDClassifier(alpha=0.001, loss='squared_hinge')     \u001b[35m|\u001b[0m\u001b[38;5;183m  0.331095266509151  \u001b[35m|\u001b[0m\u001b[38;5;183m  0.3488292011019284 \u001b[35m|\u001b[0m\u001b[38;5;183m  0.3307101552020112 \u001b[35m|\u001b[0m\u001b[38;5;183m 0.36042395284152373 \u001b[35m|\u001b[0m\u001b[38;5;183m  1.2157979011535645 \u001b[35m|\u001b[0m\u001b[38;5;183m\n",
      "\u001b[35m|\u001b[0m\u001b[38;5;183m        balanced_up_SGDClassifier_4        \u001b[35m|\u001b[0m\u001b[38;5;183m     SGDClassifier(alpha=0.001, loss='squared_hinge')     \u001b[35m|\u001b[0m\u001b[38;5;183m  0.3290854046768299 \u001b[35m|\u001b[0m\u001b[38;5;183m  0.3449265381083563 \u001b[35m|\u001b[0m\u001b[38;5;183m  0.3300444478216313 \u001b[35m|\u001b[0m\u001b[38;5;183m 0.36053657501207403 \u001b[35m|\u001b[0m\u001b[38;5;183m  1.2289032936096191 \u001b[35m|\u001b[0m\u001b[38;5;183m\n",
      "\u001b[35m|\u001b[0m\u001b[38;5;183m        balanced_up_SGDClassifier_4        \u001b[35m|\u001b[0m\u001b[38;5;183m     SGDClassifier(alpha=0.001, loss='squared_hinge')     \u001b[35m|\u001b[0m\u001b[38;5;183m 0.32888280238153966 \u001b[35m|\u001b[0m\u001b[38;5;183m  0.3453856749311295 \u001b[35m|\u001b[0m\u001b[38;5;183m  0.3291441438546647 \u001b[35m|\u001b[0m\u001b[38;5;183m  0.3589778068227608 \u001b[35m|\u001b[0m\u001b[38;5;183m  1.1108388900756836 \u001b[35m|\u001b[0m\u001b[38;5;183m\n",
      "\u001b[35m|\u001b[0m\u001b[38;5;183m              SGDClassifier_2              \u001b[35m|\u001b[0m\u001b[38;5;183m           SGDClassifier(loss='squared_hinge')            \u001b[35m|\u001b[0m\u001b[38;5;183m  0.3282577431170348 \u001b[35m|\u001b[0m\u001b[38;5;183m  0.4190771349862259 \u001b[35m|\u001b[0m\u001b[38;5;183m  0.4029228861400809 \u001b[35m|\u001b[0m\u001b[38;5;183m  0.3270556385391136 \u001b[35m|\u001b[0m\u001b[38;5;183m  0.584404706954956  \u001b[35m|\u001b[0m\u001b[38;5;183m\n",
      "\u001b[35m|\u001b[0m\u001b[38;5;183m              SGDClassifier_1              \u001b[35m|\u001b[0m\u001b[38;5;183m                     SGDClassifier()                      \u001b[35m|\u001b[0m\u001b[38;5;183m 0.32286535380702963 \u001b[35m|\u001b[0m\u001b[38;5;183m 0.42022497704315886 \u001b[35m|\u001b[0m\u001b[38;5;183m 0.38315662945666784 \u001b[35m|\u001b[0m\u001b[38;5;183m  0.3291951859726804 \u001b[35m|\u001b[0m\u001b[38;5;183m  0.9748547077178955 \u001b[35m|\u001b[0m\u001b[38;5;183m\n",
      "\u001b[35m|\u001b[0m\u001b[38;5;183m        balanced_up_SGDClassifier_3        \u001b[35m|\u001b[0m\u001b[38;5;183m                SGDClassifier(alpha=0.001)                \u001b[35m|\u001b[0m\u001b[38;5;183m  0.3224229908541815 \u001b[35m|\u001b[0m\u001b[38;5;183m 0.33585858585858586 \u001b[35m|\u001b[0m\u001b[38;5;183m  0.3284039017223703 \u001b[35m|\u001b[0m\u001b[38;5;183m  0.3610312534685813 \u001b[35m|\u001b[0m\u001b[38;5;183m  0.8626484870910645 \u001b[35m|\u001b[0m\u001b[38;5;183m\n",
      "\u001b[35m|\u001b[0m\u001b[38;5;183m        balanced_up_SGDClassifier_5        \u001b[35m|\u001b[0m\u001b[38;5;183m                SGDClassifier(alpha=0.01)                 \u001b[35m|\u001b[0m\u001b[38;5;183m 0.32213972243843003 \u001b[35m|\u001b[0m\u001b[38;5;183m  0.3357438016528926 \u001b[35m|\u001b[0m\u001b[38;5;183m  0.3282910315316582 \u001b[35m|\u001b[0m\u001b[38;5;183m  0.3602820923010403 \u001b[35m|\u001b[0m\u001b[38;5;183m  0.6245207786560059 \u001b[35m|\u001b[0m\u001b[38;5;183m\n",
      "\u001b[35m|\u001b[0m\u001b[38;5;183m              SGDClassifier_5              \u001b[35m|\u001b[0m\u001b[38;5;183m                SGDClassifier(alpha=0.01)                 \u001b[35m|\u001b[0m\u001b[38;5;183m  0.3213554387105666 \u001b[35m|\u001b[0m\u001b[38;5;183m 0.41678145087235996 \u001b[35m|\u001b[0m\u001b[38;5;183m 0.38438874839359294 \u001b[35m|\u001b[0m\u001b[38;5;183m  0.3276780769561163 \u001b[35m|\u001b[0m\u001b[38;5;183m  0.4398519992828369 \u001b[35m|\u001b[0m\u001b[38;5;183m\n",
      "\u001b[35m|\u001b[0m\u001b[38;5;183m              SGDClassifier_3              \u001b[35m|\u001b[0m\u001b[38;5;183m                SGDClassifier(alpha=0.001)                \u001b[35m|\u001b[0m\u001b[38;5;183m  0.3197160113368152 \u001b[35m|\u001b[0m\u001b[38;5;183m 0.41838842975206614 \u001b[35m|\u001b[0m\u001b[38;5;183m  0.3862378770396579 \u001b[35m|\u001b[0m\u001b[38;5;183m  0.3257236867065211 \u001b[35m|\u001b[0m\u001b[38;5;183m  0.6105074882507324 \u001b[35m|\u001b[0m\u001b[38;5;183m\n",
      "\u001b[35m|\u001b[0m\u001b[38;5;183m        balanced_up_SGDClassifier_3        \u001b[35m|\u001b[0m\u001b[38;5;183m                SGDClassifier(alpha=0.001)                \u001b[35m|\u001b[0m\u001b[38;5;183m 0.31938109697722006 \u001b[35m|\u001b[0m\u001b[38;5;183m 0.33241505968778695 \u001b[35m|\u001b[0m\u001b[38;5;183m  0.325823228762059  \u001b[35m|\u001b[0m\u001b[38;5;183m  0.3580077550299656 \u001b[35m|\u001b[0m\u001b[38;5;183m  0.8738312721252441 \u001b[35m|\u001b[0m\u001b[38;5;183m\n",
      "\u001b[35m|\u001b[0m\u001b[38;5;183m        balanced_up_SGDClassifier_3        \u001b[35m|\u001b[0m\u001b[38;5;183m                SGDClassifier(alpha=0.001)                \u001b[35m|\u001b[0m\u001b[38;5;183m  0.3189787273602043 \u001b[35m|\u001b[0m\u001b[38;5;183m 0.33321854912764004 \u001b[35m|\u001b[0m\u001b[38;5;183m  0.3258049897139379 \u001b[35m|\u001b[0m\u001b[38;5;183m  0.3589881369023982 \u001b[35m|\u001b[0m\u001b[38;5;183m  0.8993523120880127 \u001b[35m|\u001b[0m\u001b[38;5;183m\n",
      "\u001b[35m|\u001b[0m\u001b[38;5;183m        balanced_up_SGDClassifier_5        \u001b[35m|\u001b[0m\u001b[38;5;183m                SGDClassifier(alpha=0.01)                 \u001b[35m|\u001b[0m\u001b[38;5;183m 0.31852476425493415 \u001b[35m|\u001b[0m\u001b[38;5;183m 0.33344811753902664 \u001b[35m|\u001b[0m\u001b[38;5;183m  0.3251005287587637 \u001b[35m|\u001b[0m\u001b[38;5;183m  0.3577400484406491 \u001b[35m|\u001b[0m\u001b[38;5;183m  0.7466540336608887 \u001b[35m|\u001b[0m\u001b[38;5;183m\n",
      "\u001b[35m|\u001b[0m\u001b[38;5;183m        balanced_up_SGDClassifier_5        \u001b[35m|\u001b[0m\u001b[38;5;183m                SGDClassifier(alpha=0.01)                 \u001b[35m|\u001b[0m\u001b[38;5;183m 0.31770457273563896 \u001b[35m|\u001b[0m\u001b[38;5;183m  0.331267217630854  \u001b[35m|\u001b[0m\u001b[38;5;183m  0.3248236931844234 \u001b[35m|\u001b[0m\u001b[38;5;183m 0.35754267813866225 \u001b[35m|\u001b[0m\u001b[38;5;183m  0.8271934986114502 \u001b[35m|\u001b[0m\u001b[38;5;183m\n",
      "\u001b[35m|\u001b[0m\u001b[38;5;183m                LinearSVC_1                \u001b[35m|\u001b[0m\u001b[38;5;183m               LinearSVC(C=0.5, dual=True)                \u001b[35m|\u001b[0m\u001b[38;5;183m 0.31614160266668756 \u001b[35m|\u001b[0m\u001b[38;5;183m 0.41689623507805323 \u001b[35m|\u001b[0m\u001b[38;5;183m  0.4041104052756137 \u001b[35m|\u001b[0m\u001b[38;5;183m  0.3196282154238117 \u001b[35m|\u001b[0m\u001b[38;5;183m  1.0044348239898682 \u001b[35m|\u001b[0m\u001b[38;5;183m\n",
      "\u001b[35m|\u001b[0m\u001b[38;5;183m                LinearSVC_2                \u001b[35m|\u001b[0m\u001b[38;5;183m               LinearSVC(C=0.5, dual=False)               \u001b[35m|\u001b[0m\u001b[38;5;183m 0.31606284832742937 \u001b[35m|\u001b[0m\u001b[38;5;183m 0.41678145087235996 \u001b[35m|\u001b[0m\u001b[38;5;183m  0.4039812096526302 \u001b[35m|\u001b[0m\u001b[38;5;183m  0.3195625770910254 \u001b[35m|\u001b[0m\u001b[38;5;183m  12.69498896598816  \u001b[35m|\u001b[0m\u001b[38;5;183m\n",
      "\u001b[35m|\u001b[0m\u001b[38;5;183m             RidgeClassifier_1             \u001b[35m|\u001b[0m\u001b[38;5;183m                    RidgeClassifier()                     \u001b[35m|\u001b[0m\u001b[38;5;183m 0.31515988564747044 \u001b[35m|\u001b[0m\u001b[38;5;183m  0.4166666666666667 \u001b[35m|\u001b[0m\u001b[38;5;183m 0.40408839863906837 \u001b[35m|\u001b[0m\u001b[38;5;183m 0.31817738369974297 \u001b[35m|\u001b[0m\u001b[38;5;183m  5.899764776229858  \u001b[35m|\u001b[0m\u001b[38;5;183m\n",
      "\u001b[35m|\u001b[0m\u001b[38;5;183m             RidgeClassifier_2             \u001b[35m|\u001b[0m\u001b[38;5;183m                RidgeClassifier(alpha=1.5)                \u001b[35m|\u001b[0m\u001b[38;5;183m  0.304017897347683  \u001b[35m|\u001b[0m\u001b[38;5;183m  0.4182736455463728 \u001b[35m|\u001b[0m\u001b[38;5;183m  0.4160574614311262 \u001b[35m|\u001b[0m\u001b[38;5;183m 0.31183687501620616 \u001b[35m|\u001b[0m\u001b[38;5;183m  4.011657953262329  \u001b[35m|\u001b[0m\u001b[38;5;183m\n",
      "\u001b[35m|\u001b[0m\u001b[38;5;183m        balanced_up_SGDClassifier_6        \u001b[35m|\u001b[0m\u001b[38;5;183m     SGDClassifier(alpha=0.01, loss='squared_hinge')      \u001b[35m|\u001b[0m\u001b[38;5;183m  0.3002947950945424 \u001b[35m|\u001b[0m\u001b[38;5;183m  0.3135904499540863 \u001b[35m|\u001b[0m\u001b[38;5;183m  0.3148009218603029 \u001b[35m|\u001b[0m\u001b[38;5;183m 0.34491051889454366 \u001b[35m|\u001b[0m\u001b[38;5;183m  0.9503681659698486 \u001b[35m|\u001b[0m\u001b[38;5;183m\n",
      "\u001b[35m|\u001b[0m\u001b[38;5;183m              LGBMClassifier_1             \u001b[35m|\u001b[0m\u001b[38;5;183m     LGBMClassifier(max_depth=500, n_estimators=500)      \u001b[35m|\u001b[0m\u001b[38;5;183m 0.30019029364950034 \u001b[35m|\u001b[0m\u001b[38;5;183m  0.3736225895316804 \u001b[35m|\u001b[0m\u001b[38;5;183m 0.33946812529970216 \u001b[35m|\u001b[0m\u001b[38;5;183m  0.2942243923212533 \u001b[35m|\u001b[0m\u001b[38;5;183m  128.71153211593628 \u001b[35m|\u001b[0m\u001b[38;5;183m\n",
      "\u001b[35m|\u001b[0m\u001b[38;5;183m        balanced_up_SGDClassifier_6        \u001b[35m|\u001b[0m\u001b[38;5;183m     SGDClassifier(alpha=0.01, loss='squared_hinge')      \u001b[35m|\u001b[0m\u001b[38;5;183m  0.2996337843546276 \u001b[35m|\u001b[0m\u001b[38;5;183m  0.3132460973370064 \u001b[35m|\u001b[0m\u001b[38;5;183m   0.31477084737317  \u001b[35m|\u001b[0m\u001b[38;5;183m  0.3442551854437542 \u001b[35m|\u001b[0m\u001b[38;5;183m  0.8721966743469238 \u001b[35m|\u001b[0m\u001b[38;5;183m\n",
      "\u001b[35m|\u001b[0m\u001b[38;5;183m        balanced_up_SGDClassifier_6        \u001b[35m|\u001b[0m\u001b[38;5;183m     SGDClassifier(alpha=0.01, loss='squared_hinge')      \u001b[35m|\u001b[0m\u001b[38;5;183m  0.2996058496103777 \u001b[35m|\u001b[0m\u001b[38;5;183m 0.31290174471992654 \u001b[35m|\u001b[0m\u001b[38;5;183m  0.3149779346353299 \u001b[35m|\u001b[0m\u001b[38;5;183m 0.34385261420944496 \u001b[35m|\u001b[0m\u001b[38;5;183m  0.8114964962005615 \u001b[35m|\u001b[0m\u001b[38;5;183m\n",
      "\u001b[35m|\u001b[0m\u001b[38;5;183m             RidgeClassifier_3             \u001b[35m|\u001b[0m\u001b[38;5;183m                 RidgeClassifier(alpha=2)                 \u001b[35m|\u001b[0m\u001b[38;5;183m  0.2978812215459704 \u001b[35m|\u001b[0m\u001b[38;5;183m  0.4195362718089991 \u001b[35m|\u001b[0m\u001b[38;5;183m  0.4418656397347389 \u001b[35m|\u001b[0m\u001b[38;5;183m 0.30825142380857046 \u001b[35m|\u001b[0m\u001b[38;5;183m  5.008138418197632  \u001b[35m|\u001b[0m\u001b[38;5;183m\n",
      "\u001b[35m|\u001b[0m\u001b[38;5;183m                   SVC_2                   \u001b[35m|\u001b[0m\u001b[38;5;183m                  SVC(kernel='sigmoid')                   \u001b[35m|\u001b[0m\u001b[38;5;183m 0.27347154948321195 \u001b[35m|\u001b[0m\u001b[38;5;183m 0.41058310376492196 \u001b[35m|\u001b[0m\u001b[38;5;183m  0.5025363930891102 \u001b[35m|\u001b[0m\u001b[38;5;183m 0.29046111184250384 \u001b[35m|\u001b[0m\u001b[38;5;183m  303.24972581863403 \u001b[35m|\u001b[0m\u001b[38;5;183m\n",
      "\u001b[35m|\u001b[0m\u001b[38;5;183m                   KNN_2                   \u001b[35m|\u001b[0m\u001b[38;5;183m                  KNeighborsClassifier()                  \u001b[35m|\u001b[0m\u001b[38;5;183m  0.2720166812189435 \u001b[35m|\u001b[0m\u001b[38;5;183m  0.3496326905417815 \u001b[35m|\u001b[0m\u001b[38;5;183m  0.2888261686967606 \u001b[35m|\u001b[0m\u001b[38;5;183m  0.2759121644368684 \u001b[35m|\u001b[0m\u001b[38;5;183m  4.749310731887817  \u001b[35m|\u001b[0m\u001b[38;5;183m\n",
      "\u001b[35m|\u001b[0m\u001b[38;5;183m                   KNN_3                   \u001b[35m|\u001b[0m\u001b[38;5;183m           KNeighborsClassifier(n_neighbors=7)            \u001b[35m|\u001b[0m\u001b[38;5;183m  0.2679530490288469 \u001b[35m|\u001b[0m\u001b[38;5;183m 0.35215794306703396 \u001b[35m|\u001b[0m\u001b[38;5;183m  0.2894886904892481 \u001b[35m|\u001b[0m\u001b[38;5;183m  0.2727239516555519 \u001b[35m|\u001b[0m\u001b[38;5;183m  4.569716453552246  \u001b[35m|\u001b[0m\u001b[38;5;183m\n",
      "\u001b[35m|\u001b[0m\u001b[38;5;183m            LogisticRegression_2           \u001b[35m|\u001b[0m\u001b[38;5;183m                   LogisticRegression()                   \u001b[35m|\u001b[0m\u001b[38;5;183m 0.26341030850243363 \u001b[35m|\u001b[0m\u001b[38;5;183m  0.4116161616161616 \u001b[35m|\u001b[0m\u001b[38;5;183m  0.4542215508363583 \u001b[35m|\u001b[0m\u001b[38;5;183m 0.28449292071434745 \u001b[35m|\u001b[0m\u001b[38;5;183m  41.61243724822998  \u001b[35m|\u001b[0m\u001b[38;5;183m\n",
      "\u001b[35m|\u001b[0m\u001b[38;5;183m                   KNN_1                   \u001b[35m|\u001b[0m\u001b[38;5;183m           KNeighborsClassifier(n_neighbors=3)            \u001b[35m|\u001b[0m\u001b[38;5;183m 0.25190393249732723 \u001b[35m|\u001b[0m\u001b[38;5;183m 0.29981634527089074 \u001b[35m|\u001b[0m\u001b[38;5;183m 0.26724986927721195 \u001b[35m|\u001b[0m\u001b[38;5;183m  0.2653164874705564 \u001b[35m|\u001b[0m\u001b[38;5;183m  4.324490785598755  \u001b[35m|\u001b[0m\u001b[38;5;183m\n",
      "\u001b[35m|\u001b[0m\u001b[38;5;183m              SGDClassifier_4              \u001b[35m|\u001b[0m\u001b[38;5;183m     SGDClassifier(alpha=0.001, loss='squared_hinge')     \u001b[35m|\u001b[0m\u001b[38;5;183m  0.2315360867801429 \u001b[35m|\u001b[0m\u001b[38;5;183m 0.39749770431588616 \u001b[35m|\u001b[0m\u001b[38;5;183m  0.5331041001868551 \u001b[35m|\u001b[0m\u001b[38;5;183m  0.2619059626155022 \u001b[35m|\u001b[0m\u001b[38;5;183m  0.9010200500488281 \u001b[35m|\u001b[0m\u001b[38;5;183m\n",
      "\u001b[35m|\u001b[0m\u001b[38;5;183m            LogisticRegression_1           \u001b[35m|\u001b[0m\u001b[38;5;183m                LogisticRegression(C=0.5)                 \u001b[35m|\u001b[0m\u001b[38;5;183m 0.22323922238640118 \u001b[35m|\u001b[0m\u001b[38;5;183m  0.3957759412304867 \u001b[35m|\u001b[0m\u001b[38;5;183m  0.5231371374660111 \u001b[35m|\u001b[0m\u001b[38;5;183m  0.2563329340856686 \u001b[35m|\u001b[0m\u001b[38;5;183m  21.93995475769043  \u001b[35m|\u001b[0m\u001b[38;5;183m\n",
      "\u001b[35m|\u001b[0m\u001b[38;5;183m               ComplementNB_1              \u001b[35m|\u001b[0m\u001b[38;5;183m                 ComplementNB(alpha=0.5)                  \u001b[35m|\u001b[0m\u001b[38;5;183m 0.18164626481284205 \u001b[35m|\u001b[0m\u001b[38;5;183m 0.38073921028466484 \u001b[35m|\u001b[0m\u001b[38;5;183m  0.5927774403033594 \u001b[35m|\u001b[0m\u001b[38;5;183m  0.2341804634273863 \u001b[35m|\u001b[0m\u001b[38;5;183m 0.18701481819152832 \u001b[35m|\u001b[0m\u001b[38;5;183m\n",
      "\u001b[35m|\u001b[0m\u001b[38;5;183m               ComplementNB_2              \u001b[35m|\u001b[0m\u001b[38;5;183m         ComplementNB(alpha=0.5, fit_prior=False)         \u001b[35m|\u001b[0m\u001b[38;5;183m 0.18164626481284205 \u001b[35m|\u001b[0m\u001b[38;5;183m 0.38073921028466484 \u001b[35m|\u001b[0m\u001b[38;5;183m  0.5927774403033594 \u001b[35m|\u001b[0m\u001b[38;5;183m  0.2341804634273863 \u001b[35m|\u001b[0m\u001b[38;5;183m  0.2008519172668457 \u001b[35m|\u001b[0m\u001b[38;5;183m\n",
      "\u001b[35m|\u001b[0m\u001b[38;5;183m          RandomForestClassifier_1         \u001b[35m|\u001b[0m\u001b[38;5;183m          RandomForestClassifier(max_depth=100)           \u001b[35m|\u001b[0m\u001b[38;5;183m 0.16829448109146405 \u001b[35m|\u001b[0m\u001b[38;5;183m  0.3712121212121212 \u001b[35m|\u001b[0m\u001b[38;5;183m  0.5008581710312353 \u001b[35m|\u001b[0m\u001b[38;5;183m 0.22564953368613683 \u001b[35m|\u001b[0m\u001b[38;5;183m  60.38122916221619  \u001b[35m|\u001b[0m\u001b[38;5;183m\n",
      "\u001b[35m|\u001b[0m\u001b[38;5;183m               ComplementNB_3              \u001b[35m|\u001b[0m\u001b[38;5;183m                      ComplementNB()                      \u001b[35m|\u001b[0m\u001b[38;5;183m 0.13896574693903657 \u001b[35m|\u001b[0m\u001b[38;5;183m  0.3635215794306703 \u001b[35m|\u001b[0m\u001b[38;5;183m  0.5424762270272911 \u001b[35m|\u001b[0m\u001b[38;5;183m  0.2142195634485001 \u001b[35m|\u001b[0m\u001b[38;5;183m 0.18838095664978027 \u001b[35m|\u001b[0m\u001b[38;5;183m\n",
      "\u001b[35m|\u001b[0m\u001b[38;5;183m               ComplementNB_4              \u001b[35m|\u001b[0m\u001b[38;5;183m              ComplementNB(fit_prior=False)               \u001b[35m|\u001b[0m\u001b[38;5;183m 0.13896574693903657 \u001b[35m|\u001b[0m\u001b[38;5;183m  0.3635215794306703 \u001b[35m|\u001b[0m\u001b[38;5;183m  0.5424762270272911 \u001b[35m|\u001b[0m\u001b[38;5;183m  0.2142195634485001 \u001b[35m|\u001b[0m\u001b[38;5;183m 0.17053484916687012 \u001b[35m|\u001b[0m\u001b[38;5;183m\n",
      "\u001b[35m|\u001b[0m\u001b[38;5;183m              MultinomialNB_2              \u001b[35m|\u001b[0m\u001b[38;5;183m        MultinomialNB(alpha=0.5, fit_prior=False)         \u001b[35m|\u001b[0m\u001b[38;5;183m  0.1273609830242561 \u001b[35m|\u001b[0m\u001b[38;5;183m 0.35858585858585856 \u001b[35m|\u001b[0m\u001b[38;5;183m  0.5219899767251919 \u001b[35m|\u001b[0m\u001b[38;5;183m  0.208298060694274  \u001b[35m|\u001b[0m\u001b[38;5;183m 0.16252899169921875 \u001b[35m|\u001b[0m\u001b[38;5;183m\n",
      "\u001b[35m|\u001b[0m\u001b[38;5;183m              MultinomialNB_4              \u001b[35m|\u001b[0m\u001b[38;5;183m              MultinomialNB(fit_prior=False)              \u001b[35m|\u001b[0m\u001b[38;5;183m 0.11391014599586449 \u001b[35m|\u001b[0m\u001b[38;5;183m  0.3538797061524334 \u001b[35m|\u001b[0m\u001b[38;5;183m 0.37393178117532616 \u001b[35m|\u001b[0m\u001b[38;5;183m  0.2036080906731673 \u001b[35m|\u001b[0m\u001b[38;5;183m 0.18023467063903809 \u001b[35m|\u001b[0m\u001b[38;5;183m\n",
      "\u001b[35m|\u001b[0m\u001b[38;5;183m              MultinomialNB_1              \u001b[35m|\u001b[0m\u001b[38;5;183m                 MultinomialNB(alpha=0.5)                 \u001b[35m|\u001b[0m\u001b[38;5;183m 0.11096695516354471 \u001b[35m|\u001b[0m\u001b[38;5;183m  0.3530762167125803 \u001b[35m|\u001b[0m\u001b[38;5;183m 0.38910532623627453 \u001b[35m|\u001b[0m\u001b[38;5;183m 0.20265256720405883 \u001b[35m|\u001b[0m\u001b[38;5;183m  0.1635754108428955 \u001b[35m|\u001b[0m\u001b[38;5;183m\n",
      "\u001b[35m|\u001b[0m\u001b[38;5;183m              MultinomialNB_3              \u001b[35m|\u001b[0m\u001b[38;5;183m                     MultinomialNB()                      \u001b[35m|\u001b[0m\u001b[38;5;183m 0.10543566261284398 \u001b[35m|\u001b[0m\u001b[38;5;183m  0.3506657483930211 \u001b[35m|\u001b[0m\u001b[38;5;183m 0.21666781648844427 \u001b[35m|\u001b[0m\u001b[38;5;183m 0.20068697411373418 \u001b[35m|\u001b[0m\u001b[38;5;183m 0.18601012229919434 \u001b[35m|\u001b[0m\u001b[38;5;183m\n",
      "\u001b[35m|\u001b[0m\u001b[38;5;183m                   SVC_1                   \u001b[35m|\u001b[0m\u001b[38;5;183m                    SVC(kernel='poly')                    \u001b[35m|\u001b[0m\u001b[38;5;183m  0.104333899742912  \u001b[35m|\u001b[0m\u001b[38;5;183m 0.35020661157024796 \u001b[35m|\u001b[0m\u001b[38;5;183m 0.22998966348914668 \u001b[35m|\u001b[0m\u001b[38;5;183m 0.20032141422257937 \u001b[35m|\u001b[0m\u001b[38;5;183m  343.45747423171997 \u001b[35m|\u001b[0m\u001b[38;5;183m\n",
      "\u001b[35m|\u001b[0m\u001b[38;5;183m              SGDClassifier_6              \u001b[35m|\u001b[0m\u001b[38;5;183m     SGDClassifier(alpha=0.01, loss='squared_hinge')      \u001b[35m|\u001b[0m\u001b[38;5;183m 0.10364826941066416 \u001b[35m|\u001b[0m\u001b[38;5;183m 0.34974747474747475 \u001b[35m|\u001b[0m\u001b[38;5;183m 0.06994949494949496 \u001b[35m|\u001b[0m\u001b[38;5;183m         0.2         \u001b[35m|\u001b[0m\u001b[38;5;183m  0.7806122303009033 \u001b[35m|\u001b[0m\u001b[38;5;183m\n",
      "\u001b[38;5;219m+\u001b[0m\u001b[38;5;183m\u001b[38;5;147m-\u001b[0m\u001b[38;5;183m\u001b[38;5;147m-\u001b[0m\u001b[38;5;183m\u001b[38;5;147m-\u001b[0m\u001b[38;5;183m\u001b[38;5;147m-\u001b[0m\u001b[38;5;183m\u001b[38;5;147m-\u001b[0m\u001b[38;5;183m\u001b[38;5;147m-\u001b[0m\u001b[38;5;183m\u001b[38;5;147m-\u001b[0m\u001b[38;5;183m\u001b[38;5;147m-\u001b[0m\u001b[38;5;183m\u001b[38;5;147m-\u001b[0m\u001b[38;5;183m\u001b[38;5;147m-\u001b[0m\u001b[38;5;183m\u001b[38;5;147m-\u001b[0m\u001b[38;5;183m\u001b[38;5;147m-\u001b[0m\u001b[38;5;183m\u001b[38;5;147m-\u001b[0m\u001b[38;5;183m\u001b[38;5;147m-\u001b[0m\u001b[38;5;183m\u001b[38;5;147m-\u001b[0m\u001b[38;5;183m\u001b[38;5;147m-\u001b[0m\u001b[38;5;183m\u001b[38;5;147m-\u001b[0m\u001b[38;5;183m\u001b[38;5;147m-\u001b[0m\u001b[38;5;183m\u001b[38;5;147m-\u001b[0m\u001b[38;5;183m\u001b[38;5;147m-\u001b[0m\u001b[38;5;183m\u001b[38;5;147m-\u001b[0m\u001b[38;5;183m\u001b[38;5;147m-\u001b[0m\u001b[38;5;183m\u001b[38;5;147m-\u001b[0m\u001b[38;5;183m\u001b[38;5;147m-\u001b[0m\u001b[38;5;183m\u001b[38;5;147m-\u001b[0m\u001b[38;5;183m\u001b[38;5;147m-\u001b[0m\u001b[38;5;183m\u001b[38;5;147m-\u001b[0m\u001b[38;5;183m\u001b[38;5;147m-\u001b[0m\u001b[38;5;183m\u001b[38;5;147m-\u001b[0m\u001b[38;5;183m\u001b[38;5;147m-\u001b[0m\u001b[38;5;183m\u001b[38;5;147m-\u001b[0m\u001b[38;5;183m\u001b[38;5;147m-\u001b[0m\u001b[38;5;183m\u001b[38;5;147m-\u001b[0m\u001b[38;5;183m\u001b[38;5;147m-\u001b[0m\u001b[38;5;183m\u001b[38;5;147m-\u001b[0m\u001b[38;5;183m\u001b[38;5;147m-\u001b[0m\u001b[38;5;183m\u001b[38;5;147m-\u001b[0m\u001b[38;5;183m\u001b[38;5;147m-\u001b[0m\u001b[38;5;183m\u001b[38;5;147m-\u001b[0m\u001b[38;5;183m\u001b[38;5;147m-\u001b[0m\u001b[38;5;183m\u001b[38;5;147m-\u001b[0m\u001b[38;5;183m\u001b[38;5;147m-\u001b[0m\u001b[38;5;183m\u001b[38;5;147m-\u001b[0m\u001b[38;5;183m\u001b[38;5;219m+\u001b[0m\u001b[38;5;183m\u001b[38;5;147m-\u001b[0m\u001b[38;5;183m\u001b[38;5;147m-\u001b[0m\u001b[38;5;183m\u001b[38;5;147m-\u001b[0m\u001b[38;5;183m\u001b[38;5;147m-\u001b[0m\u001b[38;5;183m\u001b[38;5;147m-\u001b[0m\u001b[38;5;183m\u001b[38;5;147m-\u001b[0m\u001b[38;5;183m\u001b[38;5;147m-\u001b[0m\u001b[38;5;183m\u001b[38;5;147m-\u001b[0m\u001b[38;5;183m\u001b[38;5;147m-\u001b[0m\u001b[38;5;183m\u001b[38;5;147m-\u001b[0m\u001b[38;5;183m\u001b[38;5;147m-\u001b[0m\u001b[38;5;183m\u001b[38;5;147m-\u001b[0m\u001b[38;5;183m\u001b[38;5;147m-\u001b[0m\u001b[38;5;183m\u001b[38;5;147m-\u001b[0m\u001b[38;5;183m\u001b[38;5;147m-\u001b[0m\u001b[38;5;183m\u001b[38;5;147m-\u001b[0m\u001b[38;5;183m\u001b[38;5;147m-\u001b[0m\u001b[38;5;183m\u001b[38;5;147m-\u001b[0m\u001b[38;5;183m\u001b[38;5;147m-\u001b[0m\u001b[38;5;183m\u001b[38;5;147m-\u001b[0m\u001b[38;5;183m\u001b[38;5;147m-\u001b[0m\u001b[38;5;183m\u001b[38;5;147m-\u001b[0m\u001b[38;5;183m\u001b[38;5;147m-\u001b[0m\u001b[38;5;183m\u001b[38;5;147m-\u001b[0m\u001b[38;5;183m\u001b[38;5;147m-\u001b[0m\u001b[38;5;183m\u001b[38;5;147m-\u001b[0m\u001b[38;5;183m\u001b[38;5;147m-\u001b[0m\u001b[38;5;183m\u001b[38;5;147m-\u001b[0m\u001b[38;5;183m\u001b[38;5;147m-\u001b[0m\u001b[38;5;183m\u001b[38;5;147m-\u001b[0m\u001b[38;5;183m\u001b[38;5;147m-\u001b[0m\u001b[38;5;183m\u001b[38;5;147m-\u001b[0m\u001b[38;5;183m\u001b[38;5;147m-\u001b[0m\u001b[38;5;183m\u001b[38;5;147m-\u001b[0m\u001b[38;5;183m\u001b[38;5;147m-\u001b[0m\u001b[38;5;183m\u001b[38;5;147m-\u001b[0m\u001b[38;5;183m\u001b[38;5;147m-\u001b[0m\u001b[38;5;183m\u001b[38;5;147m-\u001b[0m\u001b[38;5;183m\u001b[38;5;147m-\u001b[0m\u001b[38;5;183m\u001b[38;5;147m-\u001b[0m\u001b[38;5;183m\u001b[38;5;147m-\u001b[0m\u001b[38;5;183m\u001b[38;5;147m-\u001b[0m\u001b[38;5;183m\u001b[38;5;147m-\u001b[0m\u001b[38;5;183m\u001b[38;5;147m-\u001b[0m\u001b[38;5;183m\u001b[38;5;147m-\u001b[0m\u001b[38;5;183m\u001b[38;5;147m-\u001b[0m\u001b[38;5;183m\u001b[38;5;147m-\u001b[0m\u001b[38;5;183m\u001b[38;5;147m-\u001b[0m\u001b[38;5;183m\u001b[38;5;147m-\u001b[0m\u001b[38;5;183m\u001b[38;5;147m-\u001b[0m\u001b[38;5;183m\u001b[38;5;147m-\u001b[0m\u001b[38;5;183m\u001b[38;5;147m-\u001b[0m\u001b[38;5;183m\u001b[38;5;147m-\u001b[0m\u001b[38;5;183m\u001b[38;5;147m-\u001b[0m\u001b[38;5;183m\u001b[38;5;147m-\u001b[0m\u001b[38;5;183m\u001b[38;5;147m-\u001b[0m\u001b[38;5;183m\u001b[38;5;147m-\u001b[0m\u001b[38;5;183m\u001b[38;5;147m-\u001b[0m\u001b[38;5;183m\u001b[38;5;219m+\u001b[0m\u001b[38;5;183m\u001b[38;5;147m-\u001b[0m\u001b[38;5;183m\u001b[38;5;147m-\u001b[0m\u001b[38;5;183m\u001b[38;5;147m-\u001b[0m\u001b[38;5;183m\u001b[38;5;147m-\u001b[0m\u001b[38;5;183m\u001b[38;5;147m-\u001b[0m\u001b[38;5;183m\u001b[38;5;147m-\u001b[0m\u001b[38;5;183m\u001b[38;5;147m-\u001b[0m\u001b[38;5;183m\u001b[38;5;147m-\u001b[0m\u001b[38;5;183m\u001b[38;5;147m-\u001b[0m\u001b[38;5;183m\u001b[38;5;147m-\u001b[0m\u001b[38;5;183m\u001b[38;5;147m-\u001b[0m\u001b[38;5;183m\u001b[38;5;147m-\u001b[0m\u001b[38;5;183m\u001b[38;5;147m-\u001b[0m\u001b[38;5;183m\u001b[38;5;147m-\u001b[0m\u001b[38;5;183m\u001b[38;5;147m-\u001b[0m\u001b[38;5;183m\u001b[38;5;147m-\u001b[0m\u001b[38;5;183m\u001b[38;5;147m-\u001b[0m\u001b[38;5;183m\u001b[38;5;147m-\u001b[0m\u001b[38;5;183m\u001b[38;5;147m-\u001b[0m\u001b[38;5;183m\u001b[38;5;147m-\u001b[0m\u001b[38;5;183m\u001b[38;5;147m-\u001b[0m\u001b[38;5;183m\u001b[38;5;219m+\u001b[0m\u001b[38;5;183m\u001b[38;5;147m-\u001b[0m\u001b[38;5;183m\u001b[38;5;147m-\u001b[0m\u001b[38;5;183m\u001b[38;5;147m-\u001b[0m\u001b[38;5;183m\u001b[38;5;147m-\u001b[0m\u001b[38;5;183m\u001b[38;5;147m-\u001b[0m\u001b[38;5;183m\u001b[38;5;147m-\u001b[0m\u001b[38;5;183m\u001b[38;5;147m-\u001b[0m\u001b[38;5;183m\u001b[38;5;147m-\u001b[0m\u001b[38;5;183m\u001b[38;5;147m-\u001b[0m\u001b[38;5;183m\u001b[38;5;147m-\u001b[0m\u001b[38;5;183m\u001b[38;5;147m-\u001b[0m\u001b[38;5;183m\u001b[38;5;147m-\u001b[0m\u001b[38;5;183m\u001b[38;5;147m-\u001b[0m\u001b[38;5;183m\u001b[38;5;147m-\u001b[0m\u001b[38;5;183m\u001b[38;5;147m-\u001b[0m\u001b[38;5;183m\u001b[38;5;147m-\u001b[0m\u001b[38;5;183m\u001b[38;5;147m-\u001b[0m\u001b[38;5;183m\u001b[38;5;147m-\u001b[0m\u001b[38;5;183m\u001b[38;5;147m-\u001b[0m\u001b[38;5;183m\u001b[38;5;147m-\u001b[0m\u001b[38;5;183m\u001b[38;5;147m-\u001b[0m\u001b[38;5;183m\u001b[38;5;219m+\u001b[0m\u001b[38;5;183m\u001b[38;5;147m-\u001b[0m\u001b[38;5;183m\u001b[38;5;147m-\u001b[0m\u001b[38;5;183m\u001b[38;5;147m-\u001b[0m\u001b[38;5;183m\u001b[38;5;147m-\u001b[0m\u001b[38;5;183m\u001b[38;5;147m-\u001b[0m\u001b[38;5;183m\u001b[38;5;147m-\u001b[0m\u001b[38;5;183m\u001b[38;5;147m-\u001b[0m\u001b[38;5;183m\u001b[38;5;147m-\u001b[0m\u001b[38;5;183m\u001b[38;5;147m-\u001b[0m\u001b[38;5;183m\u001b[38;5;147m-\u001b[0m\u001b[38;5;183m\u001b[38;5;147m-\u001b[0m\u001b[38;5;183m\u001b[38;5;147m-\u001b[0m\u001b[38;5;183m\u001b[38;5;147m-\u001b[0m\u001b[38;5;183m\u001b[38;5;147m-\u001b[0m\u001b[38;5;183m\u001b[38;5;147m-\u001b[0m\u001b[38;5;183m\u001b[38;5;147m-\u001b[0m\u001b[38;5;183m\u001b[38;5;147m-\u001b[0m\u001b[38;5;183m\u001b[38;5;147m-\u001b[0m\u001b[38;5;183m\u001b[38;5;147m-\u001b[0m\u001b[38;5;183m\u001b[38;5;147m-\u001b[0m\u001b[38;5;183m\u001b[38;5;147m-\u001b[0m\u001b[38;5;183m\u001b[38;5;219m+\u001b[0m\u001b[38;5;183m\u001b[38;5;147m-\u001b[0m\u001b[38;5;183m\u001b[38;5;147m-\u001b[0m\u001b[38;5;183m\u001b[38;5;147m-\u001b[0m\u001b[38;5;183m\u001b[38;5;147m-\u001b[0m\u001b[38;5;183m\u001b[38;5;147m-\u001b[0m\u001b[38;5;183m\u001b[38;5;147m-\u001b[0m\u001b[38;5;183m\u001b[38;5;147m-\u001b[0m\u001b[38;5;183m\u001b[38;5;147m-\u001b[0m\u001b[38;5;183m\u001b[38;5;147m-\u001b[0m\u001b[38;5;183m\u001b[38;5;147m-\u001b[0m\u001b[38;5;183m\u001b[38;5;147m-\u001b[0m\u001b[38;5;183m\u001b[38;5;147m-\u001b[0m\u001b[38;5;183m\u001b[38;5;147m-\u001b[0m\u001b[38;5;183m\u001b[38;5;147m-\u001b[0m\u001b[38;5;183m\u001b[38;5;147m-\u001b[0m\u001b[38;5;183m\u001b[38;5;147m-\u001b[0m\u001b[38;5;183m\u001b[38;5;147m-\u001b[0m\u001b[38;5;183m\u001b[38;5;147m-\u001b[0m\u001b[38;5;183m\u001b[38;5;147m-\u001b[0m\u001b[38;5;183m\u001b[38;5;147m-\u001b[0m\u001b[38;5;183m\u001b[38;5;147m-\u001b[0m\u001b[38;5;183m\u001b[38;5;219m+\u001b[0m\u001b[38;5;183m\u001b[38;5;147m-\u001b[0m\u001b[38;5;183m\u001b[38;5;147m-\u001b[0m\u001b[38;5;183m\u001b[38;5;147m-\u001b[0m\u001b[38;5;183m\u001b[38;5;147m-\u001b[0m\u001b[38;5;183m\u001b[38;5;147m-\u001b[0m\u001b[38;5;183m\u001b[38;5;147m-\u001b[0m\u001b[38;5;183m\u001b[38;5;147m-\u001b[0m\u001b[38;5;183m\u001b[38;5;147m-\u001b[0m\u001b[38;5;183m\u001b[38;5;147m-\u001b[0m\u001b[38;5;183m\u001b[38;5;147m-\u001b[0m\u001b[38;5;183m\u001b[38;5;147m-\u001b[0m\u001b[38;5;183m\u001b[38;5;147m-\u001b[0m\u001b[38;5;183m\u001b[38;5;147m-\u001b[0m\u001b[38;5;183m\u001b[38;5;147m-\u001b[0m\u001b[38;5;183m\u001b[38;5;147m-\u001b[0m\u001b[38;5;183m\u001b[38;5;147m-\u001b[0m\u001b[38;5;183m\u001b[38;5;147m-\u001b[0m\u001b[38;5;183m\u001b[38;5;147m-\u001b[0m\u001b[38;5;183m\u001b[38;5;147m-\u001b[0m\u001b[38;5;183m\u001b[38;5;147m-\u001b[0m\u001b[38;5;183m\u001b[38;5;147m-\u001b[0m\u001b[38;5;183m\u001b[38;5;219m+\u001b[0m\u001b[38;5;183m\u001b[0m\n"
     ]
    }
   ],
   "source": [
    "test_three_best_models_up(models_dict, x_train_balanced_up, y_train_balanced_up, x_test_balanced_up, y_test)\n",
    "print(table_results(Model.all_models))"
   ]
  },
  {
   "cell_type": "code",
   "execution_count": 223,
   "metadata": {},
   "outputs": [],
   "source": [
    "def test_three_best_models_down(models, x_train, y_train, x_test, y_test):\n",
    "                                 \n",
    "    for model_name, model_dict in models.items():\n",
    "        if model_name in [\"PassiveAggressiveClassifier\", \"SGDClassifier\", \"LinearSVC\"]:\n",
    "            print(f\"On teste le modèle {model_name} !\")\n",
    "            hyperparameters_training(f\"balanced_down_{model_name}\", model_dict, x_train, y_train, x_test, y_test)"
   ]
  },
  {
   "cell_type": "code",
   "execution_count": 224,
   "metadata": {},
   "outputs": [
    {
     "name": "stdout",
     "output_type": "stream",
     "text": [
      "On teste le modèle SGDClassifier !\n",
      "On teste le modèle LinearSVC !\n",
      "On teste le modèle PassiveAggressiveClassifier !\n",
      "\u001b[38;5;219m+\u001b[0m\u001b[38;5;183m\u001b[38;5;147m-\u001b[0m\u001b[38;5;183m\u001b[38;5;147m-\u001b[0m\u001b[38;5;183m\u001b[38;5;147m-\u001b[0m\u001b[38;5;183m\u001b[38;5;147m-\u001b[0m\u001b[38;5;183m\u001b[38;5;147m-\u001b[0m\u001b[38;5;183m\u001b[38;5;147m-\u001b[0m\u001b[38;5;183m\u001b[38;5;147m-\u001b[0m\u001b[38;5;183m\u001b[38;5;147m-\u001b[0m\u001b[38;5;183m\u001b[38;5;147m-\u001b[0m\u001b[38;5;183m\u001b[38;5;147m-\u001b[0m\u001b[38;5;183m\u001b[38;5;147m-\u001b[0m\u001b[38;5;183m\u001b[38;5;147m-\u001b[0m\u001b[38;5;183m\u001b[38;5;147m-\u001b[0m\u001b[38;5;183m\u001b[38;5;147m-\u001b[0m\u001b[38;5;183m\u001b[38;5;147m-\u001b[0m\u001b[38;5;183m\u001b[38;5;147m-\u001b[0m\u001b[38;5;183m\u001b[38;5;147m-\u001b[0m\u001b[38;5;183m\u001b[38;5;147m-\u001b[0m\u001b[38;5;183m\u001b[38;5;147m-\u001b[0m\u001b[38;5;183m\u001b[38;5;147m-\u001b[0m\u001b[38;5;183m\u001b[38;5;147m-\u001b[0m\u001b[38;5;183m\u001b[38;5;147m-\u001b[0m\u001b[38;5;183m\u001b[38;5;147m-\u001b[0m\u001b[38;5;183m\u001b[38;5;147m-\u001b[0m\u001b[38;5;183m\u001b[38;5;147m-\u001b[0m\u001b[38;5;183m\u001b[38;5;147m-\u001b[0m\u001b[38;5;183m\u001b[38;5;147m-\u001b[0m\u001b[38;5;183m\u001b[38;5;147m-\u001b[0m\u001b[38;5;183m\u001b[38;5;147m-\u001b[0m\u001b[38;5;183m\u001b[38;5;147m-\u001b[0m\u001b[38;5;183m\u001b[38;5;147m-\u001b[0m\u001b[38;5;183m\u001b[38;5;147m-\u001b[0m\u001b[38;5;183m\u001b[38;5;147m-\u001b[0m\u001b[38;5;183m\u001b[38;5;147m-\u001b[0m\u001b[38;5;183m\u001b[38;5;147m-\u001b[0m\u001b[38;5;183m\u001b[38;5;147m-\u001b[0m\u001b[38;5;183m\u001b[38;5;147m-\u001b[0m\u001b[38;5;183m\u001b[38;5;147m-\u001b[0m\u001b[38;5;183m\u001b[38;5;147m-\u001b[0m\u001b[38;5;183m\u001b[38;5;147m-\u001b[0m\u001b[38;5;183m\u001b[38;5;147m-\u001b[0m\u001b[38;5;183m\u001b[38;5;147m-\u001b[0m\u001b[38;5;183m\u001b[38;5;147m-\u001b[0m\u001b[38;5;183m\u001b[38;5;147m-\u001b[0m\u001b[38;5;183m\u001b[38;5;147m-\u001b[0m\u001b[38;5;183m\u001b[38;5;219m+\u001b[0m\u001b[38;5;183m\u001b[38;5;147m-\u001b[0m\u001b[38;5;183m\u001b[38;5;147m-\u001b[0m\u001b[38;5;183m\u001b[38;5;147m-\u001b[0m\u001b[38;5;183m\u001b[38;5;147m-\u001b[0m\u001b[38;5;183m\u001b[38;5;147m-\u001b[0m\u001b[38;5;183m\u001b[38;5;147m-\u001b[0m\u001b[38;5;183m\u001b[38;5;147m-\u001b[0m\u001b[38;5;183m\u001b[38;5;147m-\u001b[0m\u001b[38;5;183m\u001b[38;5;147m-\u001b[0m\u001b[38;5;183m\u001b[38;5;147m-\u001b[0m\u001b[38;5;183m\u001b[38;5;147m-\u001b[0m\u001b[38;5;183m\u001b[38;5;147m-\u001b[0m\u001b[38;5;183m\u001b[38;5;147m-\u001b[0m\u001b[38;5;183m\u001b[38;5;147m-\u001b[0m\u001b[38;5;183m\u001b[38;5;147m-\u001b[0m\u001b[38;5;183m\u001b[38;5;147m-\u001b[0m\u001b[38;5;183m\u001b[38;5;147m-\u001b[0m\u001b[38;5;183m\u001b[38;5;147m-\u001b[0m\u001b[38;5;183m\u001b[38;5;147m-\u001b[0m\u001b[38;5;183m\u001b[38;5;147m-\u001b[0m\u001b[38;5;183m\u001b[38;5;147m-\u001b[0m\u001b[38;5;183m\u001b[38;5;147m-\u001b[0m\u001b[38;5;183m\u001b[38;5;147m-\u001b[0m\u001b[38;5;183m\u001b[38;5;147m-\u001b[0m\u001b[38;5;183m\u001b[38;5;147m-\u001b[0m\u001b[38;5;183m\u001b[38;5;147m-\u001b[0m\u001b[38;5;183m\u001b[38;5;147m-\u001b[0m\u001b[38;5;183m\u001b[38;5;147m-\u001b[0m\u001b[38;5;183m\u001b[38;5;147m-\u001b[0m\u001b[38;5;183m\u001b[38;5;147m-\u001b[0m\u001b[38;5;183m\u001b[38;5;147m-\u001b[0m\u001b[38;5;183m\u001b[38;5;147m-\u001b[0m\u001b[38;5;183m\u001b[38;5;147m-\u001b[0m\u001b[38;5;183m\u001b[38;5;147m-\u001b[0m\u001b[38;5;183m\u001b[38;5;147m-\u001b[0m\u001b[38;5;183m\u001b[38;5;147m-\u001b[0m\u001b[38;5;183m\u001b[38;5;147m-\u001b[0m\u001b[38;5;183m\u001b[38;5;147m-\u001b[0m\u001b[38;5;183m\u001b[38;5;147m-\u001b[0m\u001b[38;5;183m\u001b[38;5;147m-\u001b[0m\u001b[38;5;183m\u001b[38;5;147m-\u001b[0m\u001b[38;5;183m\u001b[38;5;147m-\u001b[0m\u001b[38;5;183m\u001b[38;5;147m-\u001b[0m\u001b[38;5;183m\u001b[38;5;147m-\u001b[0m\u001b[38;5;183m\u001b[38;5;147m-\u001b[0m\u001b[38;5;183m\u001b[38;5;147m-\u001b[0m\u001b[38;5;183m\u001b[38;5;147m-\u001b[0m\u001b[38;5;183m\u001b[38;5;147m-\u001b[0m\u001b[38;5;183m\u001b[38;5;147m-\u001b[0m\u001b[38;5;183m\u001b[38;5;147m-\u001b[0m\u001b[38;5;183m\u001b[38;5;147m-\u001b[0m\u001b[38;5;183m\u001b[38;5;147m-\u001b[0m\u001b[38;5;183m\u001b[38;5;147m-\u001b[0m\u001b[38;5;183m\u001b[38;5;147m-\u001b[0m\u001b[38;5;183m\u001b[38;5;147m-\u001b[0m\u001b[38;5;183m\u001b[38;5;147m-\u001b[0m\u001b[38;5;183m\u001b[38;5;147m-\u001b[0m\u001b[38;5;183m\u001b[38;5;147m-\u001b[0m\u001b[38;5;183m\u001b[38;5;219m+\u001b[0m\u001b[38;5;183m\u001b[38;5;147m-\u001b[0m\u001b[38;5;183m\u001b[38;5;147m-\u001b[0m\u001b[38;5;183m\u001b[38;5;147m-\u001b[0m\u001b[38;5;183m\u001b[38;5;147m-\u001b[0m\u001b[38;5;183m\u001b[38;5;147m-\u001b[0m\u001b[38;5;183m\u001b[38;5;147m-\u001b[0m\u001b[38;5;183m\u001b[38;5;147m-\u001b[0m\u001b[38;5;183m\u001b[38;5;147m-\u001b[0m\u001b[38;5;183m\u001b[38;5;147m-\u001b[0m\u001b[38;5;183m\u001b[38;5;147m-\u001b[0m\u001b[38;5;183m\u001b[38;5;147m-\u001b[0m\u001b[38;5;183m\u001b[38;5;147m-\u001b[0m\u001b[38;5;183m\u001b[38;5;147m-\u001b[0m\u001b[38;5;183m\u001b[38;5;147m-\u001b[0m\u001b[38;5;183m\u001b[38;5;147m-\u001b[0m\u001b[38;5;183m\u001b[38;5;147m-\u001b[0m\u001b[38;5;183m\u001b[38;5;147m-\u001b[0m\u001b[38;5;183m\u001b[38;5;147m-\u001b[0m\u001b[38;5;183m\u001b[38;5;147m-\u001b[0m\u001b[38;5;183m\u001b[38;5;147m-\u001b[0m\u001b[38;5;183m\u001b[38;5;147m-\u001b[0m\u001b[38;5;183m\u001b[38;5;219m+\u001b[0m\u001b[38;5;183m\u001b[38;5;147m-\u001b[0m\u001b[38;5;183m\u001b[38;5;147m-\u001b[0m\u001b[38;5;183m\u001b[38;5;147m-\u001b[0m\u001b[38;5;183m\u001b[38;5;147m-\u001b[0m\u001b[38;5;183m\u001b[38;5;147m-\u001b[0m\u001b[38;5;183m\u001b[38;5;147m-\u001b[0m\u001b[38;5;183m\u001b[38;5;147m-\u001b[0m\u001b[38;5;183m\u001b[38;5;147m-\u001b[0m\u001b[38;5;183m\u001b[38;5;147m-\u001b[0m\u001b[38;5;183m\u001b[38;5;147m-\u001b[0m\u001b[38;5;183m\u001b[38;5;147m-\u001b[0m\u001b[38;5;183m\u001b[38;5;147m-\u001b[0m\u001b[38;5;183m\u001b[38;5;147m-\u001b[0m\u001b[38;5;183m\u001b[38;5;147m-\u001b[0m\u001b[38;5;183m\u001b[38;5;147m-\u001b[0m\u001b[38;5;183m\u001b[38;5;147m-\u001b[0m\u001b[38;5;183m\u001b[38;5;147m-\u001b[0m\u001b[38;5;183m\u001b[38;5;147m-\u001b[0m\u001b[38;5;183m\u001b[38;5;147m-\u001b[0m\u001b[38;5;183m\u001b[38;5;147m-\u001b[0m\u001b[38;5;183m\u001b[38;5;147m-\u001b[0m\u001b[38;5;183m\u001b[38;5;219m+\u001b[0m\u001b[38;5;183m\u001b[38;5;147m-\u001b[0m\u001b[38;5;183m\u001b[38;5;147m-\u001b[0m\u001b[38;5;183m\u001b[38;5;147m-\u001b[0m\u001b[38;5;183m\u001b[38;5;147m-\u001b[0m\u001b[38;5;183m\u001b[38;5;147m-\u001b[0m\u001b[38;5;183m\u001b[38;5;147m-\u001b[0m\u001b[38;5;183m\u001b[38;5;147m-\u001b[0m\u001b[38;5;183m\u001b[38;5;147m-\u001b[0m\u001b[38;5;183m\u001b[38;5;147m-\u001b[0m\u001b[38;5;183m\u001b[38;5;147m-\u001b[0m\u001b[38;5;183m\u001b[38;5;147m-\u001b[0m\u001b[38;5;183m\u001b[38;5;147m-\u001b[0m\u001b[38;5;183m\u001b[38;5;147m-\u001b[0m\u001b[38;5;183m\u001b[38;5;147m-\u001b[0m\u001b[38;5;183m\u001b[38;5;147m-\u001b[0m\u001b[38;5;183m\u001b[38;5;147m-\u001b[0m\u001b[38;5;183m\u001b[38;5;147m-\u001b[0m\u001b[38;5;183m\u001b[38;5;147m-\u001b[0m\u001b[38;5;183m\u001b[38;5;147m-\u001b[0m\u001b[38;5;183m\u001b[38;5;147m-\u001b[0m\u001b[38;5;183m\u001b[38;5;147m-\u001b[0m\u001b[38;5;183m\u001b[38;5;219m+\u001b[0m\u001b[38;5;183m\u001b[38;5;147m-\u001b[0m\u001b[38;5;183m\u001b[38;5;147m-\u001b[0m\u001b[38;5;183m\u001b[38;5;147m-\u001b[0m\u001b[38;5;183m\u001b[38;5;147m-\u001b[0m\u001b[38;5;183m\u001b[38;5;147m-\u001b[0m\u001b[38;5;183m\u001b[38;5;147m-\u001b[0m\u001b[38;5;183m\u001b[38;5;147m-\u001b[0m\u001b[38;5;183m\u001b[38;5;147m-\u001b[0m\u001b[38;5;183m\u001b[38;5;147m-\u001b[0m\u001b[38;5;183m\u001b[38;5;147m-\u001b[0m\u001b[38;5;183m\u001b[38;5;147m-\u001b[0m\u001b[38;5;183m\u001b[38;5;147m-\u001b[0m\u001b[38;5;183m\u001b[38;5;147m-\u001b[0m\u001b[38;5;183m\u001b[38;5;147m-\u001b[0m\u001b[38;5;183m\u001b[38;5;147m-\u001b[0m\u001b[38;5;183m\u001b[38;5;147m-\u001b[0m\u001b[38;5;183m\u001b[38;5;147m-\u001b[0m\u001b[38;5;183m\u001b[38;5;147m-\u001b[0m\u001b[38;5;183m\u001b[38;5;147m-\u001b[0m\u001b[38;5;183m\u001b[38;5;147m-\u001b[0m\u001b[38;5;183m\u001b[38;5;147m-\u001b[0m\u001b[38;5;183m\u001b[38;5;219m+\u001b[0m\u001b[38;5;183m\u001b[38;5;147m-\u001b[0m\u001b[38;5;183m\u001b[38;5;147m-\u001b[0m\u001b[38;5;183m\u001b[38;5;147m-\u001b[0m\u001b[38;5;183m\u001b[38;5;147m-\u001b[0m\u001b[38;5;183m\u001b[38;5;147m-\u001b[0m\u001b[38;5;183m\u001b[38;5;147m-\u001b[0m\u001b[38;5;183m\u001b[38;5;147m-\u001b[0m\u001b[38;5;183m\u001b[38;5;147m-\u001b[0m\u001b[38;5;183m\u001b[38;5;147m-\u001b[0m\u001b[38;5;183m\u001b[38;5;147m-\u001b[0m\u001b[38;5;183m\u001b[38;5;147m-\u001b[0m\u001b[38;5;183m\u001b[38;5;147m-\u001b[0m\u001b[38;5;183m\u001b[38;5;147m-\u001b[0m\u001b[38;5;183m\u001b[38;5;147m-\u001b[0m\u001b[38;5;183m\u001b[38;5;147m-\u001b[0m\u001b[38;5;183m\u001b[38;5;147m-\u001b[0m\u001b[38;5;183m\u001b[38;5;147m-\u001b[0m\u001b[38;5;183m\u001b[38;5;147m-\u001b[0m\u001b[38;5;183m\u001b[38;5;147m-\u001b[0m\u001b[38;5;183m\u001b[38;5;147m-\u001b[0m\u001b[38;5;183m\u001b[38;5;147m-\u001b[0m\u001b[38;5;183m\u001b[38;5;219m+\u001b[0m\u001b[38;5;183m\n",
      "\u001b[35m|\u001b[0m\u001b[38;5;183m                  Algorithme                 \u001b[35m|\u001b[0m\u001b[38;5;183m                     Hyperparamètres                      \u001b[35m|\u001b[0m\u001b[38;5;183m       Macro f1      \u001b[35m|\u001b[0m\u001b[38;5;183m       Accuracy      \u001b[35m|\u001b[0m\u001b[38;5;183m      Precision      \u001b[35m|\u001b[0m\u001b[38;5;183m        Rappel       \u001b[35m|\u001b[0m\u001b[38;5;183m  Temps d'exécution  \u001b[35m|\u001b[0m\u001b[38;5;183m\n",
      "\u001b[38;5;219m+\u001b[0m\u001b[38;5;183m\u001b[38;5;147m-\u001b[0m\u001b[38;5;183m\u001b[38;5;147m-\u001b[0m\u001b[38;5;183m\u001b[38;5;147m-\u001b[0m\u001b[38;5;183m\u001b[38;5;147m-\u001b[0m\u001b[38;5;183m\u001b[38;5;147m-\u001b[0m\u001b[38;5;183m\u001b[38;5;147m-\u001b[0m\u001b[38;5;183m\u001b[38;5;147m-\u001b[0m\u001b[38;5;183m\u001b[38;5;147m-\u001b[0m\u001b[38;5;183m\u001b[38;5;147m-\u001b[0m\u001b[38;5;183m\u001b[38;5;147m-\u001b[0m\u001b[38;5;183m\u001b[38;5;147m-\u001b[0m\u001b[38;5;183m\u001b[38;5;147m-\u001b[0m\u001b[38;5;183m\u001b[38;5;147m-\u001b[0m\u001b[38;5;183m\u001b[38;5;147m-\u001b[0m\u001b[38;5;183m\u001b[38;5;147m-\u001b[0m\u001b[38;5;183m\u001b[38;5;147m-\u001b[0m\u001b[38;5;183m\u001b[38;5;147m-\u001b[0m\u001b[38;5;183m\u001b[38;5;147m-\u001b[0m\u001b[38;5;183m\u001b[38;5;147m-\u001b[0m\u001b[38;5;183m\u001b[38;5;147m-\u001b[0m\u001b[38;5;183m\u001b[38;5;147m-\u001b[0m\u001b[38;5;183m\u001b[38;5;147m-\u001b[0m\u001b[38;5;183m\u001b[38;5;147m-\u001b[0m\u001b[38;5;183m\u001b[38;5;147m-\u001b[0m\u001b[38;5;183m\u001b[38;5;147m-\u001b[0m\u001b[38;5;183m\u001b[38;5;147m-\u001b[0m\u001b[38;5;183m\u001b[38;5;147m-\u001b[0m\u001b[38;5;183m\u001b[38;5;147m-\u001b[0m\u001b[38;5;183m\u001b[38;5;147m-\u001b[0m\u001b[38;5;183m\u001b[38;5;147m-\u001b[0m\u001b[38;5;183m\u001b[38;5;147m-\u001b[0m\u001b[38;5;183m\u001b[38;5;147m-\u001b[0m\u001b[38;5;183m\u001b[38;5;147m-\u001b[0m\u001b[38;5;183m\u001b[38;5;147m-\u001b[0m\u001b[38;5;183m\u001b[38;5;147m-\u001b[0m\u001b[38;5;183m\u001b[38;5;147m-\u001b[0m\u001b[38;5;183m\u001b[38;5;147m-\u001b[0m\u001b[38;5;183m\u001b[38;5;147m-\u001b[0m\u001b[38;5;183m\u001b[38;5;147m-\u001b[0m\u001b[38;5;183m\u001b[38;5;147m-\u001b[0m\u001b[38;5;183m\u001b[38;5;147m-\u001b[0m\u001b[38;5;183m\u001b[38;5;147m-\u001b[0m\u001b[38;5;183m\u001b[38;5;147m-\u001b[0m\u001b[38;5;183m\u001b[38;5;147m-\u001b[0m\u001b[38;5;183m\u001b[38;5;147m-\u001b[0m\u001b[38;5;183m\u001b[38;5;219m+\u001b[0m\u001b[38;5;183m\u001b[38;5;147m-\u001b[0m\u001b[38;5;183m\u001b[38;5;147m-\u001b[0m\u001b[38;5;183m\u001b[38;5;147m-\u001b[0m\u001b[38;5;183m\u001b[38;5;147m-\u001b[0m\u001b[38;5;183m\u001b[38;5;147m-\u001b[0m\u001b[38;5;183m\u001b[38;5;147m-\u001b[0m\u001b[38;5;183m\u001b[38;5;147m-\u001b[0m\u001b[38;5;183m\u001b[38;5;147m-\u001b[0m\u001b[38;5;183m\u001b[38;5;147m-\u001b[0m\u001b[38;5;183m\u001b[38;5;147m-\u001b[0m\u001b[38;5;183m\u001b[38;5;147m-\u001b[0m\u001b[38;5;183m\u001b[38;5;147m-\u001b[0m\u001b[38;5;183m\u001b[38;5;147m-\u001b[0m\u001b[38;5;183m\u001b[38;5;147m-\u001b[0m\u001b[38;5;183m\u001b[38;5;147m-\u001b[0m\u001b[38;5;183m\u001b[38;5;147m-\u001b[0m\u001b[38;5;183m\u001b[38;5;147m-\u001b[0m\u001b[38;5;183m\u001b[38;5;147m-\u001b[0m\u001b[38;5;183m\u001b[38;5;147m-\u001b[0m\u001b[38;5;183m\u001b[38;5;147m-\u001b[0m\u001b[38;5;183m\u001b[38;5;147m-\u001b[0m\u001b[38;5;183m\u001b[38;5;147m-\u001b[0m\u001b[38;5;183m\u001b[38;5;147m-\u001b[0m\u001b[38;5;183m\u001b[38;5;147m-\u001b[0m\u001b[38;5;183m\u001b[38;5;147m-\u001b[0m\u001b[38;5;183m\u001b[38;5;147m-\u001b[0m\u001b[38;5;183m\u001b[38;5;147m-\u001b[0m\u001b[38;5;183m\u001b[38;5;147m-\u001b[0m\u001b[38;5;183m\u001b[38;5;147m-\u001b[0m\u001b[38;5;183m\u001b[38;5;147m-\u001b[0m\u001b[38;5;183m\u001b[38;5;147m-\u001b[0m\u001b[38;5;183m\u001b[38;5;147m-\u001b[0m\u001b[38;5;183m\u001b[38;5;147m-\u001b[0m\u001b[38;5;183m\u001b[38;5;147m-\u001b[0m\u001b[38;5;183m\u001b[38;5;147m-\u001b[0m\u001b[38;5;183m\u001b[38;5;147m-\u001b[0m\u001b[38;5;183m\u001b[38;5;147m-\u001b[0m\u001b[38;5;183m\u001b[38;5;147m-\u001b[0m\u001b[38;5;183m\u001b[38;5;147m-\u001b[0m\u001b[38;5;183m\u001b[38;5;147m-\u001b[0m\u001b[38;5;183m\u001b[38;5;147m-\u001b[0m\u001b[38;5;183m\u001b[38;5;147m-\u001b[0m\u001b[38;5;183m\u001b[38;5;147m-\u001b[0m\u001b[38;5;183m\u001b[38;5;147m-\u001b[0m\u001b[38;5;183m\u001b[38;5;147m-\u001b[0m\u001b[38;5;183m\u001b[38;5;147m-\u001b[0m\u001b[38;5;183m\u001b[38;5;147m-\u001b[0m\u001b[38;5;183m\u001b[38;5;147m-\u001b[0m\u001b[38;5;183m\u001b[38;5;147m-\u001b[0m\u001b[38;5;183m\u001b[38;5;147m-\u001b[0m\u001b[38;5;183m\u001b[38;5;147m-\u001b[0m\u001b[38;5;183m\u001b[38;5;147m-\u001b[0m\u001b[38;5;183m\u001b[38;5;147m-\u001b[0m\u001b[38;5;183m\u001b[38;5;147m-\u001b[0m\u001b[38;5;183m\u001b[38;5;147m-\u001b[0m\u001b[38;5;183m\u001b[38;5;147m-\u001b[0m\u001b[38;5;183m\u001b[38;5;147m-\u001b[0m\u001b[38;5;183m\u001b[38;5;147m-\u001b[0m\u001b[38;5;183m\u001b[38;5;219m+\u001b[0m\u001b[38;5;183m\u001b[38;5;147m-\u001b[0m\u001b[38;5;183m\u001b[38;5;147m-\u001b[0m\u001b[38;5;183m\u001b[38;5;147m-\u001b[0m\u001b[38;5;183m\u001b[38;5;147m-\u001b[0m\u001b[38;5;183m\u001b[38;5;147m-\u001b[0m\u001b[38;5;183m\u001b[38;5;147m-\u001b[0m\u001b[38;5;183m\u001b[38;5;147m-\u001b[0m\u001b[38;5;183m\u001b[38;5;147m-\u001b[0m\u001b[38;5;183m\u001b[38;5;147m-\u001b[0m\u001b[38;5;183m\u001b[38;5;147m-\u001b[0m\u001b[38;5;183m\u001b[38;5;147m-\u001b[0m\u001b[38;5;183m\u001b[38;5;147m-\u001b[0m\u001b[38;5;183m\u001b[38;5;147m-\u001b[0m\u001b[38;5;183m\u001b[38;5;147m-\u001b[0m\u001b[38;5;183m\u001b[38;5;147m-\u001b[0m\u001b[38;5;183m\u001b[38;5;147m-\u001b[0m\u001b[38;5;183m\u001b[38;5;147m-\u001b[0m\u001b[38;5;183m\u001b[38;5;147m-\u001b[0m\u001b[38;5;183m\u001b[38;5;147m-\u001b[0m\u001b[38;5;183m\u001b[38;5;147m-\u001b[0m\u001b[38;5;183m\u001b[38;5;147m-\u001b[0m\u001b[38;5;183m\u001b[38;5;219m+\u001b[0m\u001b[38;5;183m\u001b[38;5;147m-\u001b[0m\u001b[38;5;183m\u001b[38;5;147m-\u001b[0m\u001b[38;5;183m\u001b[38;5;147m-\u001b[0m\u001b[38;5;183m\u001b[38;5;147m-\u001b[0m\u001b[38;5;183m\u001b[38;5;147m-\u001b[0m\u001b[38;5;183m\u001b[38;5;147m-\u001b[0m\u001b[38;5;183m\u001b[38;5;147m-\u001b[0m\u001b[38;5;183m\u001b[38;5;147m-\u001b[0m\u001b[38;5;183m\u001b[38;5;147m-\u001b[0m\u001b[38;5;183m\u001b[38;5;147m-\u001b[0m\u001b[38;5;183m\u001b[38;5;147m-\u001b[0m\u001b[38;5;183m\u001b[38;5;147m-\u001b[0m\u001b[38;5;183m\u001b[38;5;147m-\u001b[0m\u001b[38;5;183m\u001b[38;5;147m-\u001b[0m\u001b[38;5;183m\u001b[38;5;147m-\u001b[0m\u001b[38;5;183m\u001b[38;5;147m-\u001b[0m\u001b[38;5;183m\u001b[38;5;147m-\u001b[0m\u001b[38;5;183m\u001b[38;5;147m-\u001b[0m\u001b[38;5;183m\u001b[38;5;147m-\u001b[0m\u001b[38;5;183m\u001b[38;5;147m-\u001b[0m\u001b[38;5;183m\u001b[38;5;147m-\u001b[0m\u001b[38;5;183m\u001b[38;5;219m+\u001b[0m\u001b[38;5;183m\u001b[38;5;147m-\u001b[0m\u001b[38;5;183m\u001b[38;5;147m-\u001b[0m\u001b[38;5;183m\u001b[38;5;147m-\u001b[0m\u001b[38;5;183m\u001b[38;5;147m-\u001b[0m\u001b[38;5;183m\u001b[38;5;147m-\u001b[0m\u001b[38;5;183m\u001b[38;5;147m-\u001b[0m\u001b[38;5;183m\u001b[38;5;147m-\u001b[0m\u001b[38;5;183m\u001b[38;5;147m-\u001b[0m\u001b[38;5;183m\u001b[38;5;147m-\u001b[0m\u001b[38;5;183m\u001b[38;5;147m-\u001b[0m\u001b[38;5;183m\u001b[38;5;147m-\u001b[0m\u001b[38;5;183m\u001b[38;5;147m-\u001b[0m\u001b[38;5;183m\u001b[38;5;147m-\u001b[0m\u001b[38;5;183m\u001b[38;5;147m-\u001b[0m\u001b[38;5;183m\u001b[38;5;147m-\u001b[0m\u001b[38;5;183m\u001b[38;5;147m-\u001b[0m\u001b[38;5;183m\u001b[38;5;147m-\u001b[0m\u001b[38;5;183m\u001b[38;5;147m-\u001b[0m\u001b[38;5;183m\u001b[38;5;147m-\u001b[0m\u001b[38;5;183m\u001b[38;5;147m-\u001b[0m\u001b[38;5;183m\u001b[38;5;147m-\u001b[0m\u001b[38;5;183m\u001b[38;5;219m+\u001b[0m\u001b[38;5;183m\u001b[38;5;147m-\u001b[0m\u001b[38;5;183m\u001b[38;5;147m-\u001b[0m\u001b[38;5;183m\u001b[38;5;147m-\u001b[0m\u001b[38;5;183m\u001b[38;5;147m-\u001b[0m\u001b[38;5;183m\u001b[38;5;147m-\u001b[0m\u001b[38;5;183m\u001b[38;5;147m-\u001b[0m\u001b[38;5;183m\u001b[38;5;147m-\u001b[0m\u001b[38;5;183m\u001b[38;5;147m-\u001b[0m\u001b[38;5;183m\u001b[38;5;147m-\u001b[0m\u001b[38;5;183m\u001b[38;5;147m-\u001b[0m\u001b[38;5;183m\u001b[38;5;147m-\u001b[0m\u001b[38;5;183m\u001b[38;5;147m-\u001b[0m\u001b[38;5;183m\u001b[38;5;147m-\u001b[0m\u001b[38;5;183m\u001b[38;5;147m-\u001b[0m\u001b[38;5;183m\u001b[38;5;147m-\u001b[0m\u001b[38;5;183m\u001b[38;5;147m-\u001b[0m\u001b[38;5;183m\u001b[38;5;147m-\u001b[0m\u001b[38;5;183m\u001b[38;5;147m-\u001b[0m\u001b[38;5;183m\u001b[38;5;147m-\u001b[0m\u001b[38;5;183m\u001b[38;5;147m-\u001b[0m\u001b[38;5;183m\u001b[38;5;147m-\u001b[0m\u001b[38;5;183m\u001b[38;5;219m+\u001b[0m\u001b[38;5;183m\u001b[38;5;147m-\u001b[0m\u001b[38;5;183m\u001b[38;5;147m-\u001b[0m\u001b[38;5;183m\u001b[38;5;147m-\u001b[0m\u001b[38;5;183m\u001b[38;5;147m-\u001b[0m\u001b[38;5;183m\u001b[38;5;147m-\u001b[0m\u001b[38;5;183m\u001b[38;5;147m-\u001b[0m\u001b[38;5;183m\u001b[38;5;147m-\u001b[0m\u001b[38;5;183m\u001b[38;5;147m-\u001b[0m\u001b[38;5;183m\u001b[38;5;147m-\u001b[0m\u001b[38;5;183m\u001b[38;5;147m-\u001b[0m\u001b[38;5;183m\u001b[38;5;147m-\u001b[0m\u001b[38;5;183m\u001b[38;5;147m-\u001b[0m\u001b[38;5;183m\u001b[38;5;147m-\u001b[0m\u001b[38;5;183m\u001b[38;5;147m-\u001b[0m\u001b[38;5;183m\u001b[38;5;147m-\u001b[0m\u001b[38;5;183m\u001b[38;5;147m-\u001b[0m\u001b[38;5;183m\u001b[38;5;147m-\u001b[0m\u001b[38;5;183m\u001b[38;5;147m-\u001b[0m\u001b[38;5;183m\u001b[38;5;147m-\u001b[0m\u001b[38;5;183m\u001b[38;5;147m-\u001b[0m\u001b[38;5;183m\u001b[38;5;147m-\u001b[0m\u001b[38;5;183m\u001b[38;5;219m+\u001b[0m\u001b[38;5;183m\n",
      "\u001b[35m|\u001b[0m\u001b[38;5;183m  balanced_up_PassiveAggressiveClassifier_1  \u001b[35m|\u001b[0m\u001b[38;5;183m            PassiveAggressiveClassifier(C=0.5)            \u001b[35m|\u001b[0m\u001b[38;5;183m 0.35094318728675933 \u001b[35m|\u001b[0m\u001b[38;5;183m 0.39003673094582186 \u001b[35m|\u001b[0m\u001b[38;5;183m 0.35323691000267876 \u001b[35m|\u001b[0m\u001b[38;5;183m  0.3510058272860245 \u001b[35m|\u001b[0m\u001b[38;5;183m  1.0115983486175537 \u001b[35m|\u001b[0m\u001b[38;5;183m\n",
      "\u001b[35m|\u001b[0m\u001b[38;5;183m  balanced_up_PassiveAggressiveClassifier_4  \u001b[35m|\u001b[0m\u001b[38;5;183m    PassiveAggressiveClassifier(loss='squared_hinge')     \u001b[35m|\u001b[0m\u001b[38;5;183m  0.350571513299591  \u001b[35m|\u001b[0m\u001b[38;5;183m 0.39026629935720847 \u001b[35m|\u001b[0m\u001b[38;5;183m   0.35245491189453  \u001b[35m|\u001b[0m\u001b[38;5;183m 0.35095780851724717 \u001b[35m|\u001b[0m\u001b[38;5;183m  0.9673442840576172 \u001b[35m|\u001b[0m\u001b[38;5;183m\n",
      "\u001b[35m|\u001b[0m\u001b[38;5;183m  balanced_up_PassiveAggressiveClassifier_3  \u001b[35m|\u001b[0m\u001b[38;5;183m              PassiveAggressiveClassifier()               \u001b[35m|\u001b[0m\u001b[38;5;183m 0.35047370697858343 \u001b[35m|\u001b[0m\u001b[38;5;183m  0.390495867768595  \u001b[35m|\u001b[0m\u001b[38;5;183m  0.3529020748715463 \u001b[35m|\u001b[0m\u001b[38;5;183m  0.3504660482685419 \u001b[35m|\u001b[0m\u001b[38;5;183m  0.8413610458374023 \u001b[35m|\u001b[0m\u001b[38;5;183m\n",
      "\u001b[35m|\u001b[0m\u001b[38;5;183m  balanced_up_PassiveAggressiveClassifier_2  \u001b[35m|\u001b[0m\u001b[38;5;183m PassiveAggressiveClassifier(C=0.5, loss='squared_hinge') \u001b[35m|\u001b[0m\u001b[38;5;183m 0.35028134686926243 \u001b[35m|\u001b[0m\u001b[38;5;183m 0.38957759412304865 \u001b[35m|\u001b[0m\u001b[38;5;183m  0.3523488746360397 \u001b[35m|\u001b[0m\u001b[38;5;183m 0.35051698695719724 \u001b[35m|\u001b[0m\u001b[38;5;183m  1.1087706089019775 \u001b[35m|\u001b[0m\u001b[38;5;183m\n",
      "\u001b[35m|\u001b[0m\u001b[38;5;183m           balanced_up_LinearSVC_1           \u001b[35m|\u001b[0m\u001b[38;5;183m               LinearSVC(C=0.5, dual=True)                \u001b[35m|\u001b[0m\u001b[38;5;183m 0.34978977868852545 \u001b[35m|\u001b[0m\u001b[38;5;183m 0.37993572084481175 \u001b[35m|\u001b[0m\u001b[38;5;183m  0.3449777200274905 \u001b[35m|\u001b[0m\u001b[38;5;183m  0.3577038331219887 \u001b[35m|\u001b[0m\u001b[38;5;183m  1.9687814712524414 \u001b[35m|\u001b[0m\u001b[38;5;183m\n",
      "\u001b[35m|\u001b[0m\u001b[38;5;183m           balanced_up_LinearSVC_1           \u001b[35m|\u001b[0m\u001b[38;5;183m               LinearSVC(C=0.5, dual=True)                \u001b[35m|\u001b[0m\u001b[38;5;183m 0.34978977868852545 \u001b[35m|\u001b[0m\u001b[38;5;183m 0.37993572084481175 \u001b[35m|\u001b[0m\u001b[38;5;183m  0.3449777200274905 \u001b[35m|\u001b[0m\u001b[38;5;183m  0.3577038331219887 \u001b[35m|\u001b[0m\u001b[38;5;183m  2.456591844558716  \u001b[35m|\u001b[0m\u001b[38;5;183m\n",
      "\u001b[35m|\u001b[0m\u001b[38;5;183m           balanced_up_LinearSVC_1           \u001b[35m|\u001b[0m\u001b[38;5;183m               LinearSVC(C=0.5, dual=True)                \u001b[35m|\u001b[0m\u001b[38;5;183m 0.34978977868852545 \u001b[35m|\u001b[0m\u001b[38;5;183m 0.37993572084481175 \u001b[35m|\u001b[0m\u001b[38;5;183m  0.3449777200274905 \u001b[35m|\u001b[0m\u001b[38;5;183m  0.3577038331219887 \u001b[35m|\u001b[0m\u001b[38;5;183m  2.8428475856781006 \u001b[35m|\u001b[0m\u001b[38;5;183m\n",
      "\u001b[35m|\u001b[0m\u001b[38;5;183m           balanced_up_LinearSVC_2           \u001b[35m|\u001b[0m\u001b[38;5;183m               LinearSVC(C=0.5, dual=False)               \u001b[35m|\u001b[0m\u001b[38;5;183m  0.3497896449310348 \u001b[35m|\u001b[0m\u001b[38;5;183m 0.37993572084481175 \u001b[35m|\u001b[0m\u001b[38;5;183m 0.34498005922316777 \u001b[35m|\u001b[0m\u001b[38;5;183m  0.3577038331219887 \u001b[35m|\u001b[0m\u001b[38;5;183m  19.81067442893982  \u001b[35m|\u001b[0m\u001b[38;5;183m\n",
      "\u001b[35m|\u001b[0m\u001b[38;5;183m           balanced_up_LinearSVC_2           \u001b[35m|\u001b[0m\u001b[38;5;183m               LinearSVC(C=0.5, dual=False)               \u001b[35m|\u001b[0m\u001b[38;5;183m  0.3497896449310348 \u001b[35m|\u001b[0m\u001b[38;5;183m 0.37993572084481175 \u001b[35m|\u001b[0m\u001b[38;5;183m 0.34498005922316777 \u001b[35m|\u001b[0m\u001b[38;5;183m  0.3577038331219887 \u001b[35m|\u001b[0m\u001b[38;5;183m  22.590319633483887 \u001b[35m|\u001b[0m\u001b[38;5;183m\n",
      "\u001b[35m|\u001b[0m\u001b[38;5;183m           balanced_up_LinearSVC_2           \u001b[35m|\u001b[0m\u001b[38;5;183m               LinearSVC(C=0.5, dual=False)               \u001b[35m|\u001b[0m\u001b[38;5;183m  0.3497896449310348 \u001b[35m|\u001b[0m\u001b[38;5;183m 0.37993572084481175 \u001b[35m|\u001b[0m\u001b[38;5;183m 0.34498005922316777 \u001b[35m|\u001b[0m\u001b[38;5;183m  0.3577038331219887 \u001b[35m|\u001b[0m\u001b[38;5;183m  22.59908628463745  \u001b[35m|\u001b[0m\u001b[38;5;183m\n",
      "\u001b[35m|\u001b[0m\u001b[38;5;183m         balanced_up_SGDClassifier_2         \u001b[35m|\u001b[0m\u001b[38;5;183m           SGDClassifier(loss='squared_hinge')            \u001b[35m|\u001b[0m\u001b[38;5;183m 0.34864282905331584 \u001b[35m|\u001b[0m\u001b[38;5;183m  0.380050505050505  \u001b[35m|\u001b[0m\u001b[38;5;183m 0.34462065732117375 \u001b[35m|\u001b[0m\u001b[38;5;183m  0.3546511934367228 \u001b[35m|\u001b[0m\u001b[38;5;183m  0.9521689414978027 \u001b[35m|\u001b[0m\u001b[38;5;183m\n",
      "\u001b[35m|\u001b[0m\u001b[38;5;183m         balanced_up_SGDClassifier_2         \u001b[35m|\u001b[0m\u001b[38;5;183m           SGDClassifier(loss='squared_hinge')            \u001b[35m|\u001b[0m\u001b[38;5;183m 0.34863808089378895 \u001b[35m|\u001b[0m\u001b[38;5;183m  0.3798209366391185 \u001b[35m|\u001b[0m\u001b[38;5;183m 0.34402019950904916 \u001b[35m|\u001b[0m\u001b[38;5;183m 0.35617900968639693 \u001b[35m|\u001b[0m\u001b[38;5;183m  0.7787206172943115 \u001b[35m|\u001b[0m\u001b[38;5;183m\n",
      "\u001b[35m|\u001b[0m\u001b[38;5;183m           balanced_up_LinearSVC_4           \u001b[35m|\u001b[0m\u001b[38;5;183m                  LinearSVC(dual=False)                   \u001b[35m|\u001b[0m\u001b[38;5;183m  0.348352890254289  \u001b[35m|\u001b[0m\u001b[38;5;183m 0.38096877869605145 \u001b[35m|\u001b[0m\u001b[38;5;183m 0.34496438666076246 \u001b[35m|\u001b[0m\u001b[38;5;183m  0.3536243144849022 \u001b[35m|\u001b[0m\u001b[38;5;183m  38.824116230010986 \u001b[35m|\u001b[0m\u001b[38;5;183m\n",
      "\u001b[35m|\u001b[0m\u001b[38;5;183m           balanced_up_LinearSVC_4           \u001b[35m|\u001b[0m\u001b[38;5;183m                  LinearSVC(dual=False)                   \u001b[35m|\u001b[0m\u001b[38;5;183m  0.348352890254289  \u001b[35m|\u001b[0m\u001b[38;5;183m 0.38096877869605145 \u001b[35m|\u001b[0m\u001b[38;5;183m 0.34496438666076246 \u001b[35m|\u001b[0m\u001b[38;5;183m  0.3536243144849022 \u001b[35m|\u001b[0m\u001b[38;5;183m  37.584123373031616 \u001b[35m|\u001b[0m\u001b[38;5;183m\n",
      "\u001b[35m|\u001b[0m\u001b[38;5;183m           balanced_up_LinearSVC_4           \u001b[35m|\u001b[0m\u001b[38;5;183m                  LinearSVC(dual=False)                   \u001b[35m|\u001b[0m\u001b[38;5;183m  0.348352890254289  \u001b[35m|\u001b[0m\u001b[38;5;183m 0.38096877869605145 \u001b[35m|\u001b[0m\u001b[38;5;183m 0.34496438666076246 \u001b[35m|\u001b[0m\u001b[38;5;183m  0.3536243144849022 \u001b[35m|\u001b[0m\u001b[38;5;183m  35.79726433753967  \u001b[35m|\u001b[0m\u001b[38;5;183m\n",
      "\u001b[35m|\u001b[0m\u001b[38;5;183m           balanced_up_LinearSVC_3           \u001b[35m|\u001b[0m\u001b[38;5;183m                   LinearSVC(dual=True)                   \u001b[35m|\u001b[0m\u001b[38;5;183m 0.34834803712033974 \u001b[35m|\u001b[0m\u001b[38;5;183m 0.38096877869605145 \u001b[35m|\u001b[0m\u001b[38;5;183m 0.34495252951005384 \u001b[35m|\u001b[0m\u001b[38;5;183m  0.3536243144849022 \u001b[35m|\u001b[0m\u001b[38;5;183m  2.8024649620056152 \u001b[35m|\u001b[0m\u001b[38;5;183m\n",
      "\u001b[35m|\u001b[0m\u001b[38;5;183m           balanced_up_LinearSVC_3           \u001b[35m|\u001b[0m\u001b[38;5;183m                   LinearSVC(dual=True)                   \u001b[35m|\u001b[0m\u001b[38;5;183m 0.34834803712033974 \u001b[35m|\u001b[0m\u001b[38;5;183m 0.38096877869605145 \u001b[35m|\u001b[0m\u001b[38;5;183m 0.34495252951005384 \u001b[35m|\u001b[0m\u001b[38;5;183m  0.3536243144849022 \u001b[35m|\u001b[0m\u001b[38;5;183m  3.133448362350464  \u001b[35m|\u001b[0m\u001b[38;5;183m\n",
      "\u001b[35m|\u001b[0m\u001b[38;5;183m           balanced_up_LinearSVC_3           \u001b[35m|\u001b[0m\u001b[38;5;183m                   LinearSVC(dual=True)                   \u001b[35m|\u001b[0m\u001b[38;5;183m 0.34834803712033974 \u001b[35m|\u001b[0m\u001b[38;5;183m 0.38096877869605145 \u001b[35m|\u001b[0m\u001b[38;5;183m 0.34495252951005384 \u001b[35m|\u001b[0m\u001b[38;5;183m  0.3536243144849022 \u001b[35m|\u001b[0m\u001b[38;5;183m  3.551748275756836  \u001b[35m|\u001b[0m\u001b[38;5;183m\n",
      "\u001b[35m|\u001b[0m\u001b[38;5;183m         balanced_up_SGDClassifier_2         \u001b[35m|\u001b[0m\u001b[38;5;183m           SGDClassifier(loss='squared_hinge')            \u001b[35m|\u001b[0m\u001b[38;5;183m 0.34761634312933654 \u001b[35m|\u001b[0m\u001b[38;5;183m  0.3774104683195592 \u001b[35m|\u001b[0m\u001b[38;5;183m  0.3424433416528426 \u001b[35m|\u001b[0m\u001b[38;5;183m  0.3577302678678675 \u001b[35m|\u001b[0m\u001b[38;5;183m  0.7572197914123535 \u001b[35m|\u001b[0m\u001b[38;5;183m\n",
      "\u001b[35m|\u001b[0m\u001b[38;5;183m        PassiveAggressiveClassifier_2        \u001b[35m|\u001b[0m\u001b[38;5;183m PassiveAggressiveClassifier(C=0.5, loss='squared_hinge') \u001b[35m|\u001b[0m\u001b[38;5;183m  0.3441560154374682 \u001b[35m|\u001b[0m\u001b[38;5;183m 0.41253443526170797 \u001b[35m|\u001b[0m\u001b[38;5;183m  0.3751512361650609 \u001b[35m|\u001b[0m\u001b[38;5;183m 0.33927196371666785 \u001b[35m|\u001b[0m\u001b[38;5;183m  1.0995783805847168 \u001b[35m|\u001b[0m\u001b[38;5;183m\n",
      "\u001b[35m|\u001b[0m\u001b[38;5;183m        PassiveAggressiveClassifier_3        \u001b[35m|\u001b[0m\u001b[38;5;183m              PassiveAggressiveClassifier()               \u001b[35m|\u001b[0m\u001b[38;5;183m 0.34244181913188015 \u001b[35m|\u001b[0m\u001b[38;5;183m  0.4110422405876951 \u001b[35m|\u001b[0m\u001b[38;5;183m  0.3741515430908268 \u001b[35m|\u001b[0m\u001b[38;5;183m 0.33718812824633715 \u001b[35m|\u001b[0m\u001b[38;5;183m  0.8025248050689697 \u001b[35m|\u001b[0m\u001b[38;5;183m\n",
      "\u001b[35m|\u001b[0m\u001b[38;5;183m        PassiveAggressiveClassifier_4        \u001b[35m|\u001b[0m\u001b[38;5;183m    PassiveAggressiveClassifier(loss='squared_hinge')     \u001b[35m|\u001b[0m\u001b[38;5;183m 0.34219127963437673 \u001b[35m|\u001b[0m\u001b[38;5;183m  0.4110422405876951 \u001b[35m|\u001b[0m\u001b[38;5;183m 0.37271933576339034 \u001b[35m|\u001b[0m\u001b[38;5;183m 0.33734563410614377 \u001b[35m|\u001b[0m\u001b[38;5;183m  0.9427523612976074 \u001b[35m|\u001b[0m\u001b[38;5;183m\n",
      "\u001b[35m|\u001b[0m\u001b[38;5;183m        PassiveAggressiveClassifier_1        \u001b[35m|\u001b[0m\u001b[38;5;183m            PassiveAggressiveClassifier(C=0.5)            \u001b[35m|\u001b[0m\u001b[38;5;183m 0.34194258117668874 \u001b[35m|\u001b[0m\u001b[38;5;183m  0.4116161616161616 \u001b[35m|\u001b[0m\u001b[38;5;183m 0.37458933371260306 \u001b[35m|\u001b[0m\u001b[38;5;183m  0.336858635516392  \u001b[35m|\u001b[0m\u001b[38;5;183m  0.8625164031982422 \u001b[35m|\u001b[0m\u001b[38;5;183m\n",
      "\u001b[35m|\u001b[0m\u001b[38;5;183m         balanced_up_SGDClassifier_1         \u001b[35m|\u001b[0m\u001b[38;5;183m                     SGDClassifier()                      \u001b[35m|\u001b[0m\u001b[38;5;183m 0.33786543646845973 \u001b[35m|\u001b[0m\u001b[38;5;183m  0.3549127640036731 \u001b[35m|\u001b[0m\u001b[38;5;183m  0.3354496654106639 \u001b[35m|\u001b[0m\u001b[38;5;183m 0.36395107077667654 \u001b[35m|\u001b[0m\u001b[38;5;183m  1.1780388355255127 \u001b[35m|\u001b[0m\u001b[38;5;183m\n",
      "\u001b[35m|\u001b[0m\u001b[38;5;183m         balanced_up_SGDClassifier_1         \u001b[35m|\u001b[0m\u001b[38;5;183m                     SGDClassifier()                      \u001b[35m|\u001b[0m\u001b[38;5;183m  0.337742961961514  \u001b[35m|\u001b[0m\u001b[38;5;183m  0.3542240587695133 \u001b[35m|\u001b[0m\u001b[38;5;183m 0.33562657207197927 \u001b[35m|\u001b[0m\u001b[38;5;183m  0.3639655937552404 \u001b[35m|\u001b[0m\u001b[38;5;183m  1.2400407791137695 \u001b[35m|\u001b[0m\u001b[38;5;183m\n",
      "\u001b[35m|\u001b[0m\u001b[38;5;183m         balanced_up_SGDClassifier_1         \u001b[35m|\u001b[0m\u001b[38;5;183m                     SGDClassifier()                      \u001b[35m|\u001b[0m\u001b[38;5;183m 0.33620351720422076 \u001b[35m|\u001b[0m\u001b[38;5;183m  0.3536501377410468 \u001b[35m|\u001b[0m\u001b[38;5;183m 0.33419937634437025 \u001b[35m|\u001b[0m\u001b[38;5;183m 0.36230724699889016 \u001b[35m|\u001b[0m\u001b[38;5;183m  1.2502858638763428 \u001b[35m|\u001b[0m\u001b[38;5;183m\n",
      "\u001b[35m|\u001b[0m\u001b[38;5;183m                 LinearSVC_3                 \u001b[35m|\u001b[0m\u001b[38;5;183m                   LinearSVC(dual=True)                   \u001b[35m|\u001b[0m\u001b[38;5;183m  0.3319172995235483 \u001b[35m|\u001b[0m\u001b[38;5;183m  0.4180440771349862 \u001b[35m|\u001b[0m\u001b[38;5;183m  0.3930365127324806 \u001b[35m|\u001b[0m\u001b[38;5;183m 0.32991101032659575 \u001b[35m|\u001b[0m\u001b[38;5;183m  1.6971030235290527 \u001b[35m|\u001b[0m\u001b[38;5;183m\n",
      "\u001b[35m|\u001b[0m\u001b[38;5;183m                 LinearSVC_4                 \u001b[35m|\u001b[0m\u001b[38;5;183m                  LinearSVC(dual=False)                   \u001b[35m|\u001b[0m\u001b[38;5;183m  0.3319172995235483 \u001b[35m|\u001b[0m\u001b[38;5;183m  0.4180440771349862 \u001b[35m|\u001b[0m\u001b[38;5;183m  0.3930365127324806 \u001b[35m|\u001b[0m\u001b[38;5;183m 0.32991101032659575 \u001b[35m|\u001b[0m\u001b[38;5;183m  18.996681690216064 \u001b[35m|\u001b[0m\u001b[38;5;183m\n",
      "\u001b[35m|\u001b[0m\u001b[38;5;183m         balanced_up_SGDClassifier_4         \u001b[35m|\u001b[0m\u001b[38;5;183m     SGDClassifier(alpha=0.001, loss='squared_hinge')     \u001b[35m|\u001b[0m\u001b[38;5;183m  0.331095266509151  \u001b[35m|\u001b[0m\u001b[38;5;183m  0.3488292011019284 \u001b[35m|\u001b[0m\u001b[38;5;183m  0.3307101552020112 \u001b[35m|\u001b[0m\u001b[38;5;183m 0.36042395284152373 \u001b[35m|\u001b[0m\u001b[38;5;183m  1.2157979011535645 \u001b[35m|\u001b[0m\u001b[38;5;183m\n",
      "\u001b[35m|\u001b[0m\u001b[38;5;183m         balanced_up_SGDClassifier_4         \u001b[35m|\u001b[0m\u001b[38;5;183m     SGDClassifier(alpha=0.001, loss='squared_hinge')     \u001b[35m|\u001b[0m\u001b[38;5;183m  0.3290854046768299 \u001b[35m|\u001b[0m\u001b[38;5;183m  0.3449265381083563 \u001b[35m|\u001b[0m\u001b[38;5;183m  0.3300444478216313 \u001b[35m|\u001b[0m\u001b[38;5;183m 0.36053657501207403 \u001b[35m|\u001b[0m\u001b[38;5;183m  1.2289032936096191 \u001b[35m|\u001b[0m\u001b[38;5;183m\n",
      "\u001b[35m|\u001b[0m\u001b[38;5;183m         balanced_up_SGDClassifier_4         \u001b[35m|\u001b[0m\u001b[38;5;183m     SGDClassifier(alpha=0.001, loss='squared_hinge')     \u001b[35m|\u001b[0m\u001b[38;5;183m 0.32888280238153966 \u001b[35m|\u001b[0m\u001b[38;5;183m  0.3453856749311295 \u001b[35m|\u001b[0m\u001b[38;5;183m  0.3291441438546647 \u001b[35m|\u001b[0m\u001b[38;5;183m  0.3589778068227608 \u001b[35m|\u001b[0m\u001b[38;5;183m  1.1108388900756836 \u001b[35m|\u001b[0m\u001b[38;5;183m\n",
      "\u001b[35m|\u001b[0m\u001b[38;5;183m        balanced_down_SGDClassifier_1        \u001b[35m|\u001b[0m\u001b[38;5;183m                     SGDClassifier()                      \u001b[35m|\u001b[0m\u001b[38;5;183m  0.3285309428405946 \u001b[35m|\u001b[0m\u001b[38;5;183m 0.33689164370982555 \u001b[35m|\u001b[0m\u001b[38;5;183m 0.33046072303901297 \u001b[35m|\u001b[0m\u001b[38;5;183m  0.3629157280379733 \u001b[35m|\u001b[0m\u001b[38;5;183m  0.5743842124938965 \u001b[35m|\u001b[0m\u001b[38;5;183m\n",
      "\u001b[35m|\u001b[0m\u001b[38;5;183m               SGDClassifier_2               \u001b[35m|\u001b[0m\u001b[38;5;183m           SGDClassifier(loss='squared_hinge')            \u001b[35m|\u001b[0m\u001b[38;5;183m  0.3282577431170348 \u001b[35m|\u001b[0m\u001b[38;5;183m  0.4190771349862259 \u001b[35m|\u001b[0m\u001b[38;5;183m  0.4029228861400809 \u001b[35m|\u001b[0m\u001b[38;5;183m  0.3270556385391136 \u001b[35m|\u001b[0m\u001b[38;5;183m  0.584404706954956  \u001b[35m|\u001b[0m\u001b[38;5;183m\n",
      "\u001b[35m|\u001b[0m\u001b[38;5;183m          balanced_down_LinearSVC_2          \u001b[35m|\u001b[0m\u001b[38;5;183m               LinearSVC(C=0.5, dual=False)               \u001b[35m|\u001b[0m\u001b[38;5;183m 0.32773887343561914 \u001b[35m|\u001b[0m\u001b[38;5;183m  0.3375803489439853 \u001b[35m|\u001b[0m\u001b[38;5;183m  0.3288541131178189 \u001b[35m|\u001b[0m\u001b[38;5;183m 0.36157426719362584 \u001b[35m|\u001b[0m\u001b[38;5;183m  7.206534385681152  \u001b[35m|\u001b[0m\u001b[38;5;183m\n",
      "\u001b[35m|\u001b[0m\u001b[38;5;183m          balanced_down_LinearSVC_2          \u001b[35m|\u001b[0m\u001b[38;5;183m               LinearSVC(C=0.5, dual=False)               \u001b[35m|\u001b[0m\u001b[38;5;183m 0.32773887343561914 \u001b[35m|\u001b[0m\u001b[38;5;183m  0.3375803489439853 \u001b[35m|\u001b[0m\u001b[38;5;183m  0.3288541131178189 \u001b[35m|\u001b[0m\u001b[38;5;183m 0.36157426719362584 \u001b[35m|\u001b[0m\u001b[38;5;183m  7.550393581390381  \u001b[35m|\u001b[0m\u001b[38;5;183m\n",
      "\u001b[35m|\u001b[0m\u001b[38;5;183m          balanced_down_LinearSVC_1          \u001b[35m|\u001b[0m\u001b[38;5;183m               LinearSVC(C=0.5, dual=True)                \u001b[35m|\u001b[0m\u001b[38;5;183m 0.32763221338679943 \u001b[35m|\u001b[0m\u001b[38;5;183m 0.33746556473829203 \u001b[35m|\u001b[0m\u001b[38;5;183m  0.3287491954123542 \u001b[35m|\u001b[0m\u001b[38;5;183m 0.36140704311335836 \u001b[35m|\u001b[0m\u001b[38;5;183m 0.46233081817626953 \u001b[35m|\u001b[0m\u001b[38;5;183m\n",
      "\u001b[35m|\u001b[0m\u001b[38;5;183m          balanced_down_LinearSVC_1          \u001b[35m|\u001b[0m\u001b[38;5;183m               LinearSVC(C=0.5, dual=True)                \u001b[35m|\u001b[0m\u001b[38;5;183m 0.32763221338679943 \u001b[35m|\u001b[0m\u001b[38;5;183m 0.33746556473829203 \u001b[35m|\u001b[0m\u001b[38;5;183m  0.3287491954123542 \u001b[35m|\u001b[0m\u001b[38;5;183m 0.36140704311335836 \u001b[35m|\u001b[0m\u001b[38;5;183m  0.5593054294586182 \u001b[35m|\u001b[0m\u001b[38;5;183m\n",
      "\u001b[35m|\u001b[0m\u001b[38;5;183m balanced_down_PassiveAggressiveClassifier_1 \u001b[35m|\u001b[0m\u001b[38;5;183m            PassiveAggressiveClassifier(C=0.5)            \u001b[35m|\u001b[0m\u001b[38;5;183m  0.3274160992341028 \u001b[35m|\u001b[0m\u001b[38;5;183m 0.33666207529843895 \u001b[35m|\u001b[0m\u001b[38;5;183m 0.32838515716398425 \u001b[35m|\u001b[0m\u001b[38;5;183m  0.356320743533595  \u001b[35m|\u001b[0m\u001b[38;5;183m  0.4504401683807373 \u001b[35m|\u001b[0m\u001b[38;5;183m\n",
      "\u001b[35m|\u001b[0m\u001b[38;5;183m        balanced_down_SGDClassifier_1        \u001b[35m|\u001b[0m\u001b[38;5;183m                     SGDClassifier()                      \u001b[35m|\u001b[0m\u001b[38;5;183m  0.3272576717887597 \u001b[35m|\u001b[0m\u001b[38;5;183m 0.33539944903581265 \u001b[35m|\u001b[0m\u001b[38;5;183m  0.3297505405483131 \u001b[35m|\u001b[0m\u001b[38;5;183m  0.3624314971682706 \u001b[35m|\u001b[0m\u001b[38;5;183m  0.5857381820678711 \u001b[35m|\u001b[0m\u001b[38;5;183m\n",
      "\u001b[35m|\u001b[0m\u001b[38;5;183m balanced_down_PassiveAggressiveClassifier_4 \u001b[35m|\u001b[0m\u001b[38;5;183m    PassiveAggressiveClassifier(loss='squared_hinge')     \u001b[35m|\u001b[0m\u001b[38;5;183m  0.3272138261665102 \u001b[35m|\u001b[0m\u001b[38;5;183m 0.33597337006427913 \u001b[35m|\u001b[0m\u001b[38;5;183m  0.3283593721621124 \u001b[35m|\u001b[0m\u001b[38;5;183m  0.3563423791141997 \u001b[35m|\u001b[0m\u001b[38;5;183m  0.579625129699707  \u001b[35m|\u001b[0m\u001b[38;5;183m\n",
      "\u001b[35m|\u001b[0m\u001b[38;5;183m          balanced_down_LinearSVC_4          \u001b[35m|\u001b[0m\u001b[38;5;183m                  LinearSVC(dual=False)                   \u001b[35m|\u001b[0m\u001b[38;5;183m  0.3270612244670434 \u001b[35m|\u001b[0m\u001b[38;5;183m 0.33631772268135907 \u001b[35m|\u001b[0m\u001b[38;5;183m 0.32807269691937446 \u001b[35m|\u001b[0m\u001b[38;5;183m 0.35917402310506813 \u001b[35m|\u001b[0m\u001b[38;5;183m  9.706674337387085  \u001b[35m|\u001b[0m\u001b[38;5;183m\n",
      "\u001b[35m|\u001b[0m\u001b[38;5;183m          balanced_down_LinearSVC_4          \u001b[35m|\u001b[0m\u001b[38;5;183m                  LinearSVC(dual=False)                   \u001b[35m|\u001b[0m\u001b[38;5;183m  0.3270612244670434 \u001b[35m|\u001b[0m\u001b[38;5;183m 0.33631772268135907 \u001b[35m|\u001b[0m\u001b[38;5;183m 0.32807269691937446 \u001b[35m|\u001b[0m\u001b[38;5;183m 0.35917402310506813 \u001b[35m|\u001b[0m\u001b[38;5;183m  8.192806720733643  \u001b[35m|\u001b[0m\u001b[38;5;183m\n",
      "\u001b[35m|\u001b[0m\u001b[38;5;183m          balanced_down_LinearSVC_3          \u001b[35m|\u001b[0m\u001b[38;5;183m                   LinearSVC(dual=True)                   \u001b[35m|\u001b[0m\u001b[38;5;183m 0.32696507085597865 \u001b[35m|\u001b[0m\u001b[38;5;183m 0.33620293847566574 \u001b[35m|\u001b[0m\u001b[38;5;183m 0.32802603646384126 \u001b[35m|\u001b[0m\u001b[38;5;183m  0.3591420819252833 \u001b[35m|\u001b[0m\u001b[38;5;183m  0.6813077926635742 \u001b[35m|\u001b[0m\u001b[38;5;183m\n",
      "\u001b[35m|\u001b[0m\u001b[38;5;183m          balanced_down_LinearSVC_3          \u001b[35m|\u001b[0m\u001b[38;5;183m                   LinearSVC(dual=True)                   \u001b[35m|\u001b[0m\u001b[38;5;183m 0.32696507085597865 \u001b[35m|\u001b[0m\u001b[38;5;183m 0.33620293847566574 \u001b[35m|\u001b[0m\u001b[38;5;183m 0.32802603646384126 \u001b[35m|\u001b[0m\u001b[38;5;183m  0.3591420819252833 \u001b[35m|\u001b[0m\u001b[38;5;183m  0.642371654510498  \u001b[35m|\u001b[0m\u001b[38;5;183m\n",
      "\u001b[35m|\u001b[0m\u001b[38;5;183m       balanced_down_RidgeClassifier_1       \u001b[35m|\u001b[0m\u001b[38;5;183m                    RidgeClassifier()                     \u001b[35m|\u001b[0m\u001b[38;5;183m 0.32671688455016373 \u001b[35m|\u001b[0m\u001b[38;5;183m 0.33631772268135907 \u001b[35m|\u001b[0m\u001b[38;5;183m  0.327895063041472  \u001b[35m|\u001b[0m\u001b[38;5;183m 0.36054699400205575 \u001b[35m|\u001b[0m\u001b[38;5;183m  0.8346271514892578 \u001b[35m|\u001b[0m\u001b[38;5;183m\n",
      "\u001b[35m|\u001b[0m\u001b[38;5;183m balanced_down_PassiveAggressiveClassifier_2 \u001b[35m|\u001b[0m\u001b[38;5;183m PassiveAggressiveClassifier(C=0.5, loss='squared_hinge') \u001b[35m|\u001b[0m\u001b[38;5;183m  0.3260249480404589 \u001b[35m|\u001b[0m\u001b[38;5;183m 0.33482552800734616 \u001b[35m|\u001b[0m\u001b[38;5;183m 0.32734551359902986 \u001b[35m|\u001b[0m\u001b[38;5;183m  0.3553896770741094 \u001b[35m|\u001b[0m\u001b[38;5;183m  0.5406110286712646 \u001b[35m|\u001b[0m\u001b[38;5;183m\n",
      "\u001b[35m|\u001b[0m\u001b[38;5;183m balanced_down_PassiveAggressiveClassifier_3 \u001b[35m|\u001b[0m\u001b[38;5;183m              PassiveAggressiveClassifier()               \u001b[35m|\u001b[0m\u001b[38;5;183m  0.3255396863625716 \u001b[35m|\u001b[0m\u001b[38;5;183m  0.3344811753902663 \u001b[35m|\u001b[0m\u001b[38;5;183m  0.3269306227516566 \u001b[35m|\u001b[0m\u001b[38;5;183m 0.35453153328212605 \u001b[35m|\u001b[0m\u001b[38;5;183m 0.42621374130249023 \u001b[35m|\u001b[0m\u001b[38;5;183m\n",
      "\u001b[35m|\u001b[0m\u001b[38;5;183m       balanced_down_RidgeClassifier_2       \u001b[35m|\u001b[0m\u001b[38;5;183m                RidgeClassifier(alpha=1.5)                \u001b[35m|\u001b[0m\u001b[38;5;183m 0.32300129055036275 \u001b[35m|\u001b[0m\u001b[38;5;183m  0.3341368227731864 \u001b[35m|\u001b[0m\u001b[38;5;183m  0.3248590808964316 \u001b[35m|\u001b[0m\u001b[38;5;183m  0.357113858160489  \u001b[35m|\u001b[0m\u001b[38;5;183m  0.8562605381011963 \u001b[35m|\u001b[0m\u001b[38;5;183m\n",
      "\u001b[35m|\u001b[0m\u001b[38;5;183m        balanced_down_SGDClassifier_5        \u001b[35m|\u001b[0m\u001b[38;5;183m                SGDClassifier(alpha=0.01)                 \u001b[35m|\u001b[0m\u001b[38;5;183m  0.3229125264940741 \u001b[35m|\u001b[0m\u001b[38;5;183m 0.33528466483011937 \u001b[35m|\u001b[0m\u001b[38;5;183m  0.3256791651693214 \u001b[35m|\u001b[0m\u001b[38;5;183m 0.35947840194905856 \u001b[35m|\u001b[0m\u001b[38;5;183m 0.45320677757263184 \u001b[35m|\u001b[0m\u001b[38;5;183m\n",
      "\u001b[35m|\u001b[0m\u001b[38;5;183m               SGDClassifier_1               \u001b[35m|\u001b[0m\u001b[38;5;183m                     SGDClassifier()                      \u001b[35m|\u001b[0m\u001b[38;5;183m 0.32286535380702963 \u001b[35m|\u001b[0m\u001b[38;5;183m 0.42022497704315886 \u001b[35m|\u001b[0m\u001b[38;5;183m 0.38315662945666784 \u001b[35m|\u001b[0m\u001b[38;5;183m  0.3291951859726804 \u001b[35m|\u001b[0m\u001b[38;5;183m  0.9748547077178955 \u001b[35m|\u001b[0m\u001b[38;5;183m\n",
      "\u001b[35m|\u001b[0m\u001b[38;5;183m         balanced_up_SGDClassifier_3         \u001b[35m|\u001b[0m\u001b[38;5;183m                SGDClassifier(alpha=0.001)                \u001b[35m|\u001b[0m\u001b[38;5;183m  0.3224229908541815 \u001b[35m|\u001b[0m\u001b[38;5;183m 0.33585858585858586 \u001b[35m|\u001b[0m\u001b[38;5;183m  0.3284039017223703 \u001b[35m|\u001b[0m\u001b[38;5;183m  0.3610312534685813 \u001b[35m|\u001b[0m\u001b[38;5;183m  0.8626484870910645 \u001b[35m|\u001b[0m\u001b[38;5;183m\n",
      "\u001b[35m|\u001b[0m\u001b[38;5;183m        balanced_down_SGDClassifier_5        \u001b[35m|\u001b[0m\u001b[38;5;183m                SGDClassifier(alpha=0.01)                 \u001b[35m|\u001b[0m\u001b[38;5;183m 0.32238301972265143 \u001b[35m|\u001b[0m\u001b[38;5;183m  0.3325298438934803 \u001b[35m|\u001b[0m\u001b[38;5;183m  0.3275147908712409 \u001b[35m|\u001b[0m\u001b[38;5;183m 0.36146912143088056 \u001b[35m|\u001b[0m\u001b[38;5;183m 0.27890992164611816 \u001b[35m|\u001b[0m\u001b[38;5;183m\n",
      "\u001b[35m|\u001b[0m\u001b[38;5;183m         balanced_up_SGDClassifier_5         \u001b[35m|\u001b[0m\u001b[38;5;183m                SGDClassifier(alpha=0.01)                 \u001b[35m|\u001b[0m\u001b[38;5;183m 0.32213972243843003 \u001b[35m|\u001b[0m\u001b[38;5;183m  0.3357438016528926 \u001b[35m|\u001b[0m\u001b[38;5;183m  0.3282910315316582 \u001b[35m|\u001b[0m\u001b[38;5;183m  0.3602820923010403 \u001b[35m|\u001b[0m\u001b[38;5;183m  0.6245207786560059 \u001b[35m|\u001b[0m\u001b[38;5;183m\n",
      "\u001b[35m|\u001b[0m\u001b[38;5;183m       balanced_down_RidgeClassifier_3       \u001b[35m|\u001b[0m\u001b[38;5;183m                 RidgeClassifier(alpha=2)                 \u001b[35m|\u001b[0m\u001b[38;5;183m  0.3220723263666549 \u001b[35m|\u001b[0m\u001b[38;5;183m 0.33367768595041325 \u001b[35m|\u001b[0m\u001b[38;5;183m 0.32424456644250615 \u001b[35m|\u001b[0m\u001b[38;5;183m 0.35688467907893257 \u001b[35m|\u001b[0m\u001b[38;5;183m  1.0064194202423096 \u001b[35m|\u001b[0m\u001b[38;5;183m\n",
      "\u001b[35m|\u001b[0m\u001b[38;5;183m        balanced_down_SGDClassifier_3        \u001b[35m|\u001b[0m\u001b[38;5;183m                SGDClassifier(alpha=0.001)                \u001b[35m|\u001b[0m\u001b[38;5;183m  0.3218406415294299 \u001b[35m|\u001b[0m\u001b[38;5;183m 0.33482552800734616 \u001b[35m|\u001b[0m\u001b[38;5;183m  0.3252052116062925 \u001b[35m|\u001b[0m\u001b[38;5;183m  0.3580974933193784 \u001b[35m|\u001b[0m\u001b[38;5;183m 0.40392518043518066 \u001b[35m|\u001b[0m\u001b[38;5;183m\n",
      "\u001b[35m|\u001b[0m\u001b[38;5;183m               SGDClassifier_5               \u001b[35m|\u001b[0m\u001b[38;5;183m                SGDClassifier(alpha=0.01)                 \u001b[35m|\u001b[0m\u001b[38;5;183m  0.3213554387105666 \u001b[35m|\u001b[0m\u001b[38;5;183m 0.41678145087235996 \u001b[35m|\u001b[0m\u001b[38;5;183m 0.38438874839359294 \u001b[35m|\u001b[0m\u001b[38;5;183m  0.3276780769561163 \u001b[35m|\u001b[0m\u001b[38;5;183m  0.4398519992828369 \u001b[35m|\u001b[0m\u001b[38;5;183m\n",
      "\u001b[35m|\u001b[0m\u001b[38;5;183m        balanced_down_SGDClassifier_2        \u001b[35m|\u001b[0m\u001b[38;5;183m           SGDClassifier(loss='squared_hinge')            \u001b[35m|\u001b[0m\u001b[38;5;183m 0.32080684407946947 \u001b[35m|\u001b[0m\u001b[38;5;183m 0.32897153351698805 \u001b[35m|\u001b[0m\u001b[38;5;183m  0.325719407444754  \u001b[35m|\u001b[0m\u001b[38;5;183m 0.35446276847774677 \u001b[35m|\u001b[0m\u001b[38;5;183m  0.380232572555542  \u001b[35m|\u001b[0m\u001b[38;5;183m\n",
      "\u001b[35m|\u001b[0m\u001b[38;5;183m        balanced_down_SGDClassifier_3        \u001b[35m|\u001b[0m\u001b[38;5;183m                SGDClassifier(alpha=0.001)                \u001b[35m|\u001b[0m\u001b[38;5;183m  0.3201431630443739 \u001b[35m|\u001b[0m\u001b[38;5;183m  0.3309228650137741 \u001b[35m|\u001b[0m\u001b[38;5;183m 0.32585017558747353 \u001b[35m|\u001b[0m\u001b[38;5;183m 0.36016659137169305 \u001b[35m|\u001b[0m\u001b[38;5;183m  0.3992500305175781 \u001b[35m|\u001b[0m\u001b[38;5;183m\n",
      "\u001b[35m|\u001b[0m\u001b[38;5;183m               SGDClassifier_3               \u001b[35m|\u001b[0m\u001b[38;5;183m                SGDClassifier(alpha=0.001)                \u001b[35m|\u001b[0m\u001b[38;5;183m  0.3197160113368152 \u001b[35m|\u001b[0m\u001b[38;5;183m 0.41838842975206614 \u001b[35m|\u001b[0m\u001b[38;5;183m  0.3862378770396579 \u001b[35m|\u001b[0m\u001b[38;5;183m  0.3257236867065211 \u001b[35m|\u001b[0m\u001b[38;5;183m  0.6105074882507324 \u001b[35m|\u001b[0m\u001b[38;5;183m\n",
      "\u001b[35m|\u001b[0m\u001b[38;5;183m         balanced_up_SGDClassifier_3         \u001b[35m|\u001b[0m\u001b[38;5;183m                SGDClassifier(alpha=0.001)                \u001b[35m|\u001b[0m\u001b[38;5;183m 0.31938109697722006 \u001b[35m|\u001b[0m\u001b[38;5;183m 0.33241505968778695 \u001b[35m|\u001b[0m\u001b[38;5;183m  0.325823228762059  \u001b[35m|\u001b[0m\u001b[38;5;183m  0.3580077550299656 \u001b[35m|\u001b[0m\u001b[38;5;183m  0.8738312721252441 \u001b[35m|\u001b[0m\u001b[38;5;183m\n",
      "\u001b[35m|\u001b[0m\u001b[38;5;183m         balanced_up_SGDClassifier_3         \u001b[35m|\u001b[0m\u001b[38;5;183m                SGDClassifier(alpha=0.001)                \u001b[35m|\u001b[0m\u001b[38;5;183m  0.3189787273602043 \u001b[35m|\u001b[0m\u001b[38;5;183m 0.33321854912764004 \u001b[35m|\u001b[0m\u001b[38;5;183m  0.3258049897139379 \u001b[35m|\u001b[0m\u001b[38;5;183m  0.3589881369023982 \u001b[35m|\u001b[0m\u001b[38;5;183m  0.8993523120880127 \u001b[35m|\u001b[0m\u001b[38;5;183m\n",
      "\u001b[35m|\u001b[0m\u001b[38;5;183m         balanced_up_SGDClassifier_5         \u001b[35m|\u001b[0m\u001b[38;5;183m                SGDClassifier(alpha=0.01)                 \u001b[35m|\u001b[0m\u001b[38;5;183m 0.31852476425493415 \u001b[35m|\u001b[0m\u001b[38;5;183m 0.33344811753902664 \u001b[35m|\u001b[0m\u001b[38;5;183m  0.3251005287587637 \u001b[35m|\u001b[0m\u001b[38;5;183m  0.3577400484406491 \u001b[35m|\u001b[0m\u001b[38;5;183m  0.7466540336608887 \u001b[35m|\u001b[0m\u001b[38;5;183m\n",
      "\u001b[35m|\u001b[0m\u001b[38;5;183m         balanced_up_SGDClassifier_5         \u001b[35m|\u001b[0m\u001b[38;5;183m                SGDClassifier(alpha=0.01)                 \u001b[35m|\u001b[0m\u001b[38;5;183m 0.31770457273563896 \u001b[35m|\u001b[0m\u001b[38;5;183m  0.331267217630854  \u001b[35m|\u001b[0m\u001b[38;5;183m  0.3248236931844234 \u001b[35m|\u001b[0m\u001b[38;5;183m 0.35754267813866225 \u001b[35m|\u001b[0m\u001b[38;5;183m  0.8271934986114502 \u001b[35m|\u001b[0m\u001b[38;5;183m\n",
      "\u001b[35m|\u001b[0m\u001b[38;5;183m        balanced_down_SGDClassifier_2        \u001b[35m|\u001b[0m\u001b[38;5;183m           SGDClassifier(loss='squared_hinge')            \u001b[35m|\u001b[0m\u001b[38;5;183m 0.31619490945598233 \u001b[35m|\u001b[0m\u001b[38;5;183m 0.32495408631772266 \u001b[35m|\u001b[0m\u001b[38;5;183m  0.318554275721556  \u001b[35m|\u001b[0m\u001b[38;5;183m  0.3471545917835077 \u001b[35m|\u001b[0m\u001b[38;5;183m  0.3012807369232178 \u001b[35m|\u001b[0m\u001b[38;5;183m\n",
      "\u001b[35m|\u001b[0m\u001b[38;5;183m                 LinearSVC_1                 \u001b[35m|\u001b[0m\u001b[38;5;183m               LinearSVC(C=0.5, dual=True)                \u001b[35m|\u001b[0m\u001b[38;5;183m 0.31614160266668756 \u001b[35m|\u001b[0m\u001b[38;5;183m 0.41689623507805323 \u001b[35m|\u001b[0m\u001b[38;5;183m  0.4041104052756137 \u001b[35m|\u001b[0m\u001b[38;5;183m  0.3196282154238117 \u001b[35m|\u001b[0m\u001b[38;5;183m  1.0044348239898682 \u001b[35m|\u001b[0m\u001b[38;5;183m\n",
      "\u001b[35m|\u001b[0m\u001b[38;5;183m        balanced_down_SGDClassifier_4        \u001b[35m|\u001b[0m\u001b[38;5;183m     SGDClassifier(alpha=0.001, loss='squared_hinge')     \u001b[35m|\u001b[0m\u001b[38;5;183m  0.3161005027544547 \u001b[35m|\u001b[0m\u001b[38;5;183m 0.32862718089990817 \u001b[35m|\u001b[0m\u001b[38;5;183m  0.3199711597388749 \u001b[35m|\u001b[0m\u001b[38;5;183m 0.35389805286429254 \u001b[35m|\u001b[0m\u001b[38;5;183m  0.530803918838501  \u001b[35m|\u001b[0m\u001b[38;5;183m\n",
      "\u001b[35m|\u001b[0m\u001b[38;5;183m                 LinearSVC_2                 \u001b[35m|\u001b[0m\u001b[38;5;183m               LinearSVC(C=0.5, dual=False)               \u001b[35m|\u001b[0m\u001b[38;5;183m 0.31606284832742937 \u001b[35m|\u001b[0m\u001b[38;5;183m 0.41678145087235996 \u001b[35m|\u001b[0m\u001b[38;5;183m  0.4039812096526302 \u001b[35m|\u001b[0m\u001b[38;5;183m  0.3195625770910254 \u001b[35m|\u001b[0m\u001b[38;5;183m  12.69498896598816  \u001b[35m|\u001b[0m\u001b[38;5;183m\n",
      "\u001b[35m|\u001b[0m\u001b[38;5;183m              RidgeClassifier_1              \u001b[35m|\u001b[0m\u001b[38;5;183m                    RidgeClassifier()                     \u001b[35m|\u001b[0m\u001b[38;5;183m 0.31515988564747044 \u001b[35m|\u001b[0m\u001b[38;5;183m  0.4166666666666667 \u001b[35m|\u001b[0m\u001b[38;5;183m 0.40408839863906837 \u001b[35m|\u001b[0m\u001b[38;5;183m 0.31817738369974297 \u001b[35m|\u001b[0m\u001b[38;5;183m  5.899764776229858  \u001b[35m|\u001b[0m\u001b[38;5;183m\n",
      "\u001b[35m|\u001b[0m\u001b[38;5;183m        balanced_down_SGDClassifier_4        \u001b[35m|\u001b[0m\u001b[38;5;183m     SGDClassifier(alpha=0.001, loss='squared_hinge')     \u001b[35m|\u001b[0m\u001b[38;5;183m  0.3146319574696887 \u001b[35m|\u001b[0m\u001b[38;5;183m  0.3290863177226814 \u001b[35m|\u001b[0m\u001b[38;5;183m  0.3198958202968206 \u001b[35m|\u001b[0m\u001b[38;5;183m 0.35418480434412686 \u001b[35m|\u001b[0m\u001b[38;5;183m  0.4873807430267334 \u001b[35m|\u001b[0m\u001b[38;5;183m\n",
      "\u001b[35m|\u001b[0m\u001b[38;5;183m              RidgeClassifier_2              \u001b[35m|\u001b[0m\u001b[38;5;183m                RidgeClassifier(alpha=1.5)                \u001b[35m|\u001b[0m\u001b[38;5;183m  0.304017897347683  \u001b[35m|\u001b[0m\u001b[38;5;183m  0.4182736455463728 \u001b[35m|\u001b[0m\u001b[38;5;183m  0.4160574614311262 \u001b[35m|\u001b[0m\u001b[38;5;183m 0.31183687501620616 \u001b[35m|\u001b[0m\u001b[38;5;183m  4.011657953262329  \u001b[35m|\u001b[0m\u001b[38;5;183m\n",
      "\u001b[35m|\u001b[0m\u001b[38;5;183m        balanced_down_SGDClassifier_6        \u001b[35m|\u001b[0m\u001b[38;5;183m     SGDClassifier(alpha=0.01, loss='squared_hinge')      \u001b[35m|\u001b[0m\u001b[38;5;183m  0.3021741848634989 \u001b[35m|\u001b[0m\u001b[38;5;183m  0.3194444444444444 \u001b[35m|\u001b[0m\u001b[38;5;183m  0.3127112274705968 \u001b[35m|\u001b[0m\u001b[38;5;183m 0.34307684977748554 \u001b[35m|\u001b[0m\u001b[38;5;183m  0.3799910545349121 \u001b[35m|\u001b[0m\u001b[38;5;183m\n",
      "\u001b[35m|\u001b[0m\u001b[38;5;183m         balanced_up_SGDClassifier_6         \u001b[35m|\u001b[0m\u001b[38;5;183m     SGDClassifier(alpha=0.01, loss='squared_hinge')      \u001b[35m|\u001b[0m\u001b[38;5;183m  0.3002947950945424 \u001b[35m|\u001b[0m\u001b[38;5;183m  0.3135904499540863 \u001b[35m|\u001b[0m\u001b[38;5;183m  0.3148009218603029 \u001b[35m|\u001b[0m\u001b[38;5;183m 0.34491051889454366 \u001b[35m|\u001b[0m\u001b[38;5;183m  0.9503681659698486 \u001b[35m|\u001b[0m\u001b[38;5;183m\n",
      "\u001b[35m|\u001b[0m\u001b[38;5;183m               LGBMClassifier_1              \u001b[35m|\u001b[0m\u001b[38;5;183m     LGBMClassifier(max_depth=500, n_estimators=500)      \u001b[35m|\u001b[0m\u001b[38;5;183m 0.30019029364950034 \u001b[35m|\u001b[0m\u001b[38;5;183m  0.3736225895316804 \u001b[35m|\u001b[0m\u001b[38;5;183m 0.33946812529970216 \u001b[35m|\u001b[0m\u001b[38;5;183m  0.2942243923212533 \u001b[35m|\u001b[0m\u001b[38;5;183m  128.71153211593628 \u001b[35m|\u001b[0m\u001b[38;5;183m\n",
      "\u001b[35m|\u001b[0m\u001b[38;5;183m         balanced_up_SGDClassifier_6         \u001b[35m|\u001b[0m\u001b[38;5;183m     SGDClassifier(alpha=0.01, loss='squared_hinge')      \u001b[35m|\u001b[0m\u001b[38;5;183m  0.2996337843546276 \u001b[35m|\u001b[0m\u001b[38;5;183m  0.3132460973370064 \u001b[35m|\u001b[0m\u001b[38;5;183m   0.31477084737317  \u001b[35m|\u001b[0m\u001b[38;5;183m  0.3442551854437542 \u001b[35m|\u001b[0m\u001b[38;5;183m  0.8721966743469238 \u001b[35m|\u001b[0m\u001b[38;5;183m\n",
      "\u001b[35m|\u001b[0m\u001b[38;5;183m         balanced_up_SGDClassifier_6         \u001b[35m|\u001b[0m\u001b[38;5;183m     SGDClassifier(alpha=0.01, loss='squared_hinge')      \u001b[35m|\u001b[0m\u001b[38;5;183m  0.2996058496103777 \u001b[35m|\u001b[0m\u001b[38;5;183m 0.31290174471992654 \u001b[35m|\u001b[0m\u001b[38;5;183m  0.3149779346353299 \u001b[35m|\u001b[0m\u001b[38;5;183m 0.34385261420944496 \u001b[35m|\u001b[0m\u001b[38;5;183m  0.8114964962005615 \u001b[35m|\u001b[0m\u001b[38;5;183m\n",
      "\u001b[35m|\u001b[0m\u001b[38;5;183m        balanced_down_SGDClassifier_6        \u001b[35m|\u001b[0m\u001b[38;5;183m     SGDClassifier(alpha=0.01, loss='squared_hinge')      \u001b[35m|\u001b[0m\u001b[38;5;183m  0.2995068821211183 \u001b[35m|\u001b[0m\u001b[38;5;183m 0.31657483930211205 \u001b[35m|\u001b[0m\u001b[38;5;183m 0.31035593270549866 \u001b[35m|\u001b[0m\u001b[38;5;183m 0.34103524025741466 \u001b[35m|\u001b[0m\u001b[38;5;183m   0.52909255027771  \u001b[35m|\u001b[0m\u001b[38;5;183m\n",
      "\u001b[35m|\u001b[0m\u001b[38;5;183m              RidgeClassifier_3              \u001b[35m|\u001b[0m\u001b[38;5;183m                 RidgeClassifier(alpha=2)                 \u001b[35m|\u001b[0m\u001b[38;5;183m  0.2978812215459704 \u001b[35m|\u001b[0m\u001b[38;5;183m  0.4195362718089991 \u001b[35m|\u001b[0m\u001b[38;5;183m  0.4418656397347389 \u001b[35m|\u001b[0m\u001b[38;5;183m 0.30825142380857046 \u001b[35m|\u001b[0m\u001b[38;5;183m  5.008138418197632  \u001b[35m|\u001b[0m\u001b[38;5;183m\n",
      "\u001b[35m|\u001b[0m\u001b[38;5;183m                    SVC_2                    \u001b[35m|\u001b[0m\u001b[38;5;183m                  SVC(kernel='sigmoid')                   \u001b[35m|\u001b[0m\u001b[38;5;183m 0.27347154948321195 \u001b[35m|\u001b[0m\u001b[38;5;183m 0.41058310376492196 \u001b[35m|\u001b[0m\u001b[38;5;183m  0.5025363930891102 \u001b[35m|\u001b[0m\u001b[38;5;183m 0.29046111184250384 \u001b[35m|\u001b[0m\u001b[38;5;183m  303.24972581863403 \u001b[35m|\u001b[0m\u001b[38;5;183m\n",
      "\u001b[35m|\u001b[0m\u001b[38;5;183m                    KNN_2                    \u001b[35m|\u001b[0m\u001b[38;5;183m                  KNeighborsClassifier()                  \u001b[35m|\u001b[0m\u001b[38;5;183m  0.2720166812189435 \u001b[35m|\u001b[0m\u001b[38;5;183m  0.3496326905417815 \u001b[35m|\u001b[0m\u001b[38;5;183m  0.2888261686967606 \u001b[35m|\u001b[0m\u001b[38;5;183m  0.2759121644368684 \u001b[35m|\u001b[0m\u001b[38;5;183m  4.749310731887817  \u001b[35m|\u001b[0m\u001b[38;5;183m\n",
      "\u001b[35m|\u001b[0m\u001b[38;5;183m                    KNN_3                    \u001b[35m|\u001b[0m\u001b[38;5;183m           KNeighborsClassifier(n_neighbors=7)            \u001b[35m|\u001b[0m\u001b[38;5;183m  0.2679530490288469 \u001b[35m|\u001b[0m\u001b[38;5;183m 0.35215794306703396 \u001b[35m|\u001b[0m\u001b[38;5;183m  0.2894886904892481 \u001b[35m|\u001b[0m\u001b[38;5;183m  0.2727239516555519 \u001b[35m|\u001b[0m\u001b[38;5;183m  4.569716453552246  \u001b[35m|\u001b[0m\u001b[38;5;183m\n",
      "\u001b[35m|\u001b[0m\u001b[38;5;183m             LogisticRegression_2            \u001b[35m|\u001b[0m\u001b[38;5;183m                   LogisticRegression()                   \u001b[35m|\u001b[0m\u001b[38;5;183m 0.26341030850243363 \u001b[35m|\u001b[0m\u001b[38;5;183m  0.4116161616161616 \u001b[35m|\u001b[0m\u001b[38;5;183m  0.4542215508363583 \u001b[35m|\u001b[0m\u001b[38;5;183m 0.28449292071434745 \u001b[35m|\u001b[0m\u001b[38;5;183m  41.61243724822998  \u001b[35m|\u001b[0m\u001b[38;5;183m\n",
      "\u001b[35m|\u001b[0m\u001b[38;5;183m                    KNN_1                    \u001b[35m|\u001b[0m\u001b[38;5;183m           KNeighborsClassifier(n_neighbors=3)            \u001b[35m|\u001b[0m\u001b[38;5;183m 0.25190393249732723 \u001b[35m|\u001b[0m\u001b[38;5;183m 0.29981634527089074 \u001b[35m|\u001b[0m\u001b[38;5;183m 0.26724986927721195 \u001b[35m|\u001b[0m\u001b[38;5;183m  0.2653164874705564 \u001b[35m|\u001b[0m\u001b[38;5;183m  4.324490785598755  \u001b[35m|\u001b[0m\u001b[38;5;183m\n",
      "\u001b[35m|\u001b[0m\u001b[38;5;183m               SGDClassifier_4               \u001b[35m|\u001b[0m\u001b[38;5;183m     SGDClassifier(alpha=0.001, loss='squared_hinge')     \u001b[35m|\u001b[0m\u001b[38;5;183m  0.2315360867801429 \u001b[35m|\u001b[0m\u001b[38;5;183m 0.39749770431588616 \u001b[35m|\u001b[0m\u001b[38;5;183m  0.5331041001868551 \u001b[35m|\u001b[0m\u001b[38;5;183m  0.2619059626155022 \u001b[35m|\u001b[0m\u001b[38;5;183m  0.9010200500488281 \u001b[35m|\u001b[0m\u001b[38;5;183m\n",
      "\u001b[35m|\u001b[0m\u001b[38;5;183m             LogisticRegression_1            \u001b[35m|\u001b[0m\u001b[38;5;183m                LogisticRegression(C=0.5)                 \u001b[35m|\u001b[0m\u001b[38;5;183m 0.22323922238640118 \u001b[35m|\u001b[0m\u001b[38;5;183m  0.3957759412304867 \u001b[35m|\u001b[0m\u001b[38;5;183m  0.5231371374660111 \u001b[35m|\u001b[0m\u001b[38;5;183m  0.2563329340856686 \u001b[35m|\u001b[0m\u001b[38;5;183m  21.93995475769043  \u001b[35m|\u001b[0m\u001b[38;5;183m\n",
      "\u001b[35m|\u001b[0m\u001b[38;5;183m                ComplementNB_1               \u001b[35m|\u001b[0m\u001b[38;5;183m                 ComplementNB(alpha=0.5)                  \u001b[35m|\u001b[0m\u001b[38;5;183m 0.18164626481284205 \u001b[35m|\u001b[0m\u001b[38;5;183m 0.38073921028466484 \u001b[35m|\u001b[0m\u001b[38;5;183m  0.5927774403033594 \u001b[35m|\u001b[0m\u001b[38;5;183m  0.2341804634273863 \u001b[35m|\u001b[0m\u001b[38;5;183m 0.18701481819152832 \u001b[35m|\u001b[0m\u001b[38;5;183m\n",
      "\u001b[35m|\u001b[0m\u001b[38;5;183m                ComplementNB_2               \u001b[35m|\u001b[0m\u001b[38;5;183m         ComplementNB(alpha=0.5, fit_prior=False)         \u001b[35m|\u001b[0m\u001b[38;5;183m 0.18164626481284205 \u001b[35m|\u001b[0m\u001b[38;5;183m 0.38073921028466484 \u001b[35m|\u001b[0m\u001b[38;5;183m  0.5927774403033594 \u001b[35m|\u001b[0m\u001b[38;5;183m  0.2341804634273863 \u001b[35m|\u001b[0m\u001b[38;5;183m  0.2008519172668457 \u001b[35m|\u001b[0m\u001b[38;5;183m\n",
      "\u001b[35m|\u001b[0m\u001b[38;5;183m           RandomForestClassifier_1          \u001b[35m|\u001b[0m\u001b[38;5;183m          RandomForestClassifier(max_depth=100)           \u001b[35m|\u001b[0m\u001b[38;5;183m 0.16829448109146405 \u001b[35m|\u001b[0m\u001b[38;5;183m  0.3712121212121212 \u001b[35m|\u001b[0m\u001b[38;5;183m  0.5008581710312353 \u001b[35m|\u001b[0m\u001b[38;5;183m 0.22564953368613683 \u001b[35m|\u001b[0m\u001b[38;5;183m  60.38122916221619  \u001b[35m|\u001b[0m\u001b[38;5;183m\n",
      "\u001b[35m|\u001b[0m\u001b[38;5;183m                ComplementNB_3               \u001b[35m|\u001b[0m\u001b[38;5;183m                      ComplementNB()                      \u001b[35m|\u001b[0m\u001b[38;5;183m 0.13896574693903657 \u001b[35m|\u001b[0m\u001b[38;5;183m  0.3635215794306703 \u001b[35m|\u001b[0m\u001b[38;5;183m  0.5424762270272911 \u001b[35m|\u001b[0m\u001b[38;5;183m  0.2142195634485001 \u001b[35m|\u001b[0m\u001b[38;5;183m 0.18838095664978027 \u001b[35m|\u001b[0m\u001b[38;5;183m\n",
      "\u001b[35m|\u001b[0m\u001b[38;5;183m                ComplementNB_4               \u001b[35m|\u001b[0m\u001b[38;5;183m              ComplementNB(fit_prior=False)               \u001b[35m|\u001b[0m\u001b[38;5;183m 0.13896574693903657 \u001b[35m|\u001b[0m\u001b[38;5;183m  0.3635215794306703 \u001b[35m|\u001b[0m\u001b[38;5;183m  0.5424762270272911 \u001b[35m|\u001b[0m\u001b[38;5;183m  0.2142195634485001 \u001b[35m|\u001b[0m\u001b[38;5;183m 0.17053484916687012 \u001b[35m|\u001b[0m\u001b[38;5;183m\n",
      "\u001b[35m|\u001b[0m\u001b[38;5;183m               MultinomialNB_2               \u001b[35m|\u001b[0m\u001b[38;5;183m        MultinomialNB(alpha=0.5, fit_prior=False)         \u001b[35m|\u001b[0m\u001b[38;5;183m  0.1273609830242561 \u001b[35m|\u001b[0m\u001b[38;5;183m 0.35858585858585856 \u001b[35m|\u001b[0m\u001b[38;5;183m  0.5219899767251919 \u001b[35m|\u001b[0m\u001b[38;5;183m  0.208298060694274  \u001b[35m|\u001b[0m\u001b[38;5;183m 0.16252899169921875 \u001b[35m|\u001b[0m\u001b[38;5;183m\n",
      "\u001b[35m|\u001b[0m\u001b[38;5;183m               MultinomialNB_4               \u001b[35m|\u001b[0m\u001b[38;5;183m              MultinomialNB(fit_prior=False)              \u001b[35m|\u001b[0m\u001b[38;5;183m 0.11391014599586449 \u001b[35m|\u001b[0m\u001b[38;5;183m  0.3538797061524334 \u001b[35m|\u001b[0m\u001b[38;5;183m 0.37393178117532616 \u001b[35m|\u001b[0m\u001b[38;5;183m  0.2036080906731673 \u001b[35m|\u001b[0m\u001b[38;5;183m 0.18023467063903809 \u001b[35m|\u001b[0m\u001b[38;5;183m\n",
      "\u001b[35m|\u001b[0m\u001b[38;5;183m               MultinomialNB_1               \u001b[35m|\u001b[0m\u001b[38;5;183m                 MultinomialNB(alpha=0.5)                 \u001b[35m|\u001b[0m\u001b[38;5;183m 0.11096695516354471 \u001b[35m|\u001b[0m\u001b[38;5;183m  0.3530762167125803 \u001b[35m|\u001b[0m\u001b[38;5;183m 0.38910532623627453 \u001b[35m|\u001b[0m\u001b[38;5;183m 0.20265256720405883 \u001b[35m|\u001b[0m\u001b[38;5;183m  0.1635754108428955 \u001b[35m|\u001b[0m\u001b[38;5;183m\n",
      "\u001b[35m|\u001b[0m\u001b[38;5;183m               MultinomialNB_3               \u001b[35m|\u001b[0m\u001b[38;5;183m                     MultinomialNB()                      \u001b[35m|\u001b[0m\u001b[38;5;183m 0.10543566261284398 \u001b[35m|\u001b[0m\u001b[38;5;183m  0.3506657483930211 \u001b[35m|\u001b[0m\u001b[38;5;183m 0.21666781648844427 \u001b[35m|\u001b[0m\u001b[38;5;183m 0.20068697411373418 \u001b[35m|\u001b[0m\u001b[38;5;183m 0.18601012229919434 \u001b[35m|\u001b[0m\u001b[38;5;183m\n",
      "\u001b[35m|\u001b[0m\u001b[38;5;183m                    SVC_1                    \u001b[35m|\u001b[0m\u001b[38;5;183m                    SVC(kernel='poly')                    \u001b[35m|\u001b[0m\u001b[38;5;183m  0.104333899742912  \u001b[35m|\u001b[0m\u001b[38;5;183m 0.35020661157024796 \u001b[35m|\u001b[0m\u001b[38;5;183m 0.22998966348914668 \u001b[35m|\u001b[0m\u001b[38;5;183m 0.20032141422257937 \u001b[35m|\u001b[0m\u001b[38;5;183m  343.45747423171997 \u001b[35m|\u001b[0m\u001b[38;5;183m\n",
      "\u001b[35m|\u001b[0m\u001b[38;5;183m               SGDClassifier_6               \u001b[35m|\u001b[0m\u001b[38;5;183m     SGDClassifier(alpha=0.01, loss='squared_hinge')      \u001b[35m|\u001b[0m\u001b[38;5;183m 0.10364826941066416 \u001b[35m|\u001b[0m\u001b[38;5;183m 0.34974747474747475 \u001b[35m|\u001b[0m\u001b[38;5;183m 0.06994949494949496 \u001b[35m|\u001b[0m\u001b[38;5;183m         0.2         \u001b[35m|\u001b[0m\u001b[38;5;183m  0.7806122303009033 \u001b[35m|\u001b[0m\u001b[38;5;183m\n",
      "\u001b[38;5;219m+\u001b[0m\u001b[38;5;183m\u001b[38;5;147m-\u001b[0m\u001b[38;5;183m\u001b[38;5;147m-\u001b[0m\u001b[38;5;183m\u001b[38;5;147m-\u001b[0m\u001b[38;5;183m\u001b[38;5;147m-\u001b[0m\u001b[38;5;183m\u001b[38;5;147m-\u001b[0m\u001b[38;5;183m\u001b[38;5;147m-\u001b[0m\u001b[38;5;183m\u001b[38;5;147m-\u001b[0m\u001b[38;5;183m\u001b[38;5;147m-\u001b[0m\u001b[38;5;183m\u001b[38;5;147m-\u001b[0m\u001b[38;5;183m\u001b[38;5;147m-\u001b[0m\u001b[38;5;183m\u001b[38;5;147m-\u001b[0m\u001b[38;5;183m\u001b[38;5;147m-\u001b[0m\u001b[38;5;183m\u001b[38;5;147m-\u001b[0m\u001b[38;5;183m\u001b[38;5;147m-\u001b[0m\u001b[38;5;183m\u001b[38;5;147m-\u001b[0m\u001b[38;5;183m\u001b[38;5;147m-\u001b[0m\u001b[38;5;183m\u001b[38;5;147m-\u001b[0m\u001b[38;5;183m\u001b[38;5;147m-\u001b[0m\u001b[38;5;183m\u001b[38;5;147m-\u001b[0m\u001b[38;5;183m\u001b[38;5;147m-\u001b[0m\u001b[38;5;183m\u001b[38;5;147m-\u001b[0m\u001b[38;5;183m\u001b[38;5;147m-\u001b[0m\u001b[38;5;183m\u001b[38;5;147m-\u001b[0m\u001b[38;5;183m\u001b[38;5;147m-\u001b[0m\u001b[38;5;183m\u001b[38;5;147m-\u001b[0m\u001b[38;5;183m\u001b[38;5;147m-\u001b[0m\u001b[38;5;183m\u001b[38;5;147m-\u001b[0m\u001b[38;5;183m\u001b[38;5;147m-\u001b[0m\u001b[38;5;183m\u001b[38;5;147m-\u001b[0m\u001b[38;5;183m\u001b[38;5;147m-\u001b[0m\u001b[38;5;183m\u001b[38;5;147m-\u001b[0m\u001b[38;5;183m\u001b[38;5;147m-\u001b[0m\u001b[38;5;183m\u001b[38;5;147m-\u001b[0m\u001b[38;5;183m\u001b[38;5;147m-\u001b[0m\u001b[38;5;183m\u001b[38;5;147m-\u001b[0m\u001b[38;5;183m\u001b[38;5;147m-\u001b[0m\u001b[38;5;183m\u001b[38;5;147m-\u001b[0m\u001b[38;5;183m\u001b[38;5;147m-\u001b[0m\u001b[38;5;183m\u001b[38;5;147m-\u001b[0m\u001b[38;5;183m\u001b[38;5;147m-\u001b[0m\u001b[38;5;183m\u001b[38;5;147m-\u001b[0m\u001b[38;5;183m\u001b[38;5;147m-\u001b[0m\u001b[38;5;183m\u001b[38;5;147m-\u001b[0m\u001b[38;5;183m\u001b[38;5;147m-\u001b[0m\u001b[38;5;183m\u001b[38;5;147m-\u001b[0m\u001b[38;5;183m\u001b[38;5;219m+\u001b[0m\u001b[38;5;183m\u001b[38;5;147m-\u001b[0m\u001b[38;5;183m\u001b[38;5;147m-\u001b[0m\u001b[38;5;183m\u001b[38;5;147m-\u001b[0m\u001b[38;5;183m\u001b[38;5;147m-\u001b[0m\u001b[38;5;183m\u001b[38;5;147m-\u001b[0m\u001b[38;5;183m\u001b[38;5;147m-\u001b[0m\u001b[38;5;183m\u001b[38;5;147m-\u001b[0m\u001b[38;5;183m\u001b[38;5;147m-\u001b[0m\u001b[38;5;183m\u001b[38;5;147m-\u001b[0m\u001b[38;5;183m\u001b[38;5;147m-\u001b[0m\u001b[38;5;183m\u001b[38;5;147m-\u001b[0m\u001b[38;5;183m\u001b[38;5;147m-\u001b[0m\u001b[38;5;183m\u001b[38;5;147m-\u001b[0m\u001b[38;5;183m\u001b[38;5;147m-\u001b[0m\u001b[38;5;183m\u001b[38;5;147m-\u001b[0m\u001b[38;5;183m\u001b[38;5;147m-\u001b[0m\u001b[38;5;183m\u001b[38;5;147m-\u001b[0m\u001b[38;5;183m\u001b[38;5;147m-\u001b[0m\u001b[38;5;183m\u001b[38;5;147m-\u001b[0m\u001b[38;5;183m\u001b[38;5;147m-\u001b[0m\u001b[38;5;183m\u001b[38;5;147m-\u001b[0m\u001b[38;5;183m\u001b[38;5;147m-\u001b[0m\u001b[38;5;183m\u001b[38;5;147m-\u001b[0m\u001b[38;5;183m\u001b[38;5;147m-\u001b[0m\u001b[38;5;183m\u001b[38;5;147m-\u001b[0m\u001b[38;5;183m\u001b[38;5;147m-\u001b[0m\u001b[38;5;183m\u001b[38;5;147m-\u001b[0m\u001b[38;5;183m\u001b[38;5;147m-\u001b[0m\u001b[38;5;183m\u001b[38;5;147m-\u001b[0m\u001b[38;5;183m\u001b[38;5;147m-\u001b[0m\u001b[38;5;183m\u001b[38;5;147m-\u001b[0m\u001b[38;5;183m\u001b[38;5;147m-\u001b[0m\u001b[38;5;183m\u001b[38;5;147m-\u001b[0m\u001b[38;5;183m\u001b[38;5;147m-\u001b[0m\u001b[38;5;183m\u001b[38;5;147m-\u001b[0m\u001b[38;5;183m\u001b[38;5;147m-\u001b[0m\u001b[38;5;183m\u001b[38;5;147m-\u001b[0m\u001b[38;5;183m\u001b[38;5;147m-\u001b[0m\u001b[38;5;183m\u001b[38;5;147m-\u001b[0m\u001b[38;5;183m\u001b[38;5;147m-\u001b[0m\u001b[38;5;183m\u001b[38;5;147m-\u001b[0m\u001b[38;5;183m\u001b[38;5;147m-\u001b[0m\u001b[38;5;183m\u001b[38;5;147m-\u001b[0m\u001b[38;5;183m\u001b[38;5;147m-\u001b[0m\u001b[38;5;183m\u001b[38;5;147m-\u001b[0m\u001b[38;5;183m\u001b[38;5;147m-\u001b[0m\u001b[38;5;183m\u001b[38;5;147m-\u001b[0m\u001b[38;5;183m\u001b[38;5;147m-\u001b[0m\u001b[38;5;183m\u001b[38;5;147m-\u001b[0m\u001b[38;5;183m\u001b[38;5;147m-\u001b[0m\u001b[38;5;183m\u001b[38;5;147m-\u001b[0m\u001b[38;5;183m\u001b[38;5;147m-\u001b[0m\u001b[38;5;183m\u001b[38;5;147m-\u001b[0m\u001b[38;5;183m\u001b[38;5;147m-\u001b[0m\u001b[38;5;183m\u001b[38;5;147m-\u001b[0m\u001b[38;5;183m\u001b[38;5;147m-\u001b[0m\u001b[38;5;183m\u001b[38;5;147m-\u001b[0m\u001b[38;5;183m\u001b[38;5;147m-\u001b[0m\u001b[38;5;183m\u001b[38;5;219m+\u001b[0m\u001b[38;5;183m\u001b[38;5;147m-\u001b[0m\u001b[38;5;183m\u001b[38;5;147m-\u001b[0m\u001b[38;5;183m\u001b[38;5;147m-\u001b[0m\u001b[38;5;183m\u001b[38;5;147m-\u001b[0m\u001b[38;5;183m\u001b[38;5;147m-\u001b[0m\u001b[38;5;183m\u001b[38;5;147m-\u001b[0m\u001b[38;5;183m\u001b[38;5;147m-\u001b[0m\u001b[38;5;183m\u001b[38;5;147m-\u001b[0m\u001b[38;5;183m\u001b[38;5;147m-\u001b[0m\u001b[38;5;183m\u001b[38;5;147m-\u001b[0m\u001b[38;5;183m\u001b[38;5;147m-\u001b[0m\u001b[38;5;183m\u001b[38;5;147m-\u001b[0m\u001b[38;5;183m\u001b[38;5;147m-\u001b[0m\u001b[38;5;183m\u001b[38;5;147m-\u001b[0m\u001b[38;5;183m\u001b[38;5;147m-\u001b[0m\u001b[38;5;183m\u001b[38;5;147m-\u001b[0m\u001b[38;5;183m\u001b[38;5;147m-\u001b[0m\u001b[38;5;183m\u001b[38;5;147m-\u001b[0m\u001b[38;5;183m\u001b[38;5;147m-\u001b[0m\u001b[38;5;183m\u001b[38;5;147m-\u001b[0m\u001b[38;5;183m\u001b[38;5;147m-\u001b[0m\u001b[38;5;183m\u001b[38;5;219m+\u001b[0m\u001b[38;5;183m\u001b[38;5;147m-\u001b[0m\u001b[38;5;183m\u001b[38;5;147m-\u001b[0m\u001b[38;5;183m\u001b[38;5;147m-\u001b[0m\u001b[38;5;183m\u001b[38;5;147m-\u001b[0m\u001b[38;5;183m\u001b[38;5;147m-\u001b[0m\u001b[38;5;183m\u001b[38;5;147m-\u001b[0m\u001b[38;5;183m\u001b[38;5;147m-\u001b[0m\u001b[38;5;183m\u001b[38;5;147m-\u001b[0m\u001b[38;5;183m\u001b[38;5;147m-\u001b[0m\u001b[38;5;183m\u001b[38;5;147m-\u001b[0m\u001b[38;5;183m\u001b[38;5;147m-\u001b[0m\u001b[38;5;183m\u001b[38;5;147m-\u001b[0m\u001b[38;5;183m\u001b[38;5;147m-\u001b[0m\u001b[38;5;183m\u001b[38;5;147m-\u001b[0m\u001b[38;5;183m\u001b[38;5;147m-\u001b[0m\u001b[38;5;183m\u001b[38;5;147m-\u001b[0m\u001b[38;5;183m\u001b[38;5;147m-\u001b[0m\u001b[38;5;183m\u001b[38;5;147m-\u001b[0m\u001b[38;5;183m\u001b[38;5;147m-\u001b[0m\u001b[38;5;183m\u001b[38;5;147m-\u001b[0m\u001b[38;5;183m\u001b[38;5;147m-\u001b[0m\u001b[38;5;183m\u001b[38;5;219m+\u001b[0m\u001b[38;5;183m\u001b[38;5;147m-\u001b[0m\u001b[38;5;183m\u001b[38;5;147m-\u001b[0m\u001b[38;5;183m\u001b[38;5;147m-\u001b[0m\u001b[38;5;183m\u001b[38;5;147m-\u001b[0m\u001b[38;5;183m\u001b[38;5;147m-\u001b[0m\u001b[38;5;183m\u001b[38;5;147m-\u001b[0m\u001b[38;5;183m\u001b[38;5;147m-\u001b[0m\u001b[38;5;183m\u001b[38;5;147m-\u001b[0m\u001b[38;5;183m\u001b[38;5;147m-\u001b[0m\u001b[38;5;183m\u001b[38;5;147m-\u001b[0m\u001b[38;5;183m\u001b[38;5;147m-\u001b[0m\u001b[38;5;183m\u001b[38;5;147m-\u001b[0m\u001b[38;5;183m\u001b[38;5;147m-\u001b[0m\u001b[38;5;183m\u001b[38;5;147m-\u001b[0m\u001b[38;5;183m\u001b[38;5;147m-\u001b[0m\u001b[38;5;183m\u001b[38;5;147m-\u001b[0m\u001b[38;5;183m\u001b[38;5;147m-\u001b[0m\u001b[38;5;183m\u001b[38;5;147m-\u001b[0m\u001b[38;5;183m\u001b[38;5;147m-\u001b[0m\u001b[38;5;183m\u001b[38;5;147m-\u001b[0m\u001b[38;5;183m\u001b[38;5;147m-\u001b[0m\u001b[38;5;183m\u001b[38;5;219m+\u001b[0m\u001b[38;5;183m\u001b[38;5;147m-\u001b[0m\u001b[38;5;183m\u001b[38;5;147m-\u001b[0m\u001b[38;5;183m\u001b[38;5;147m-\u001b[0m\u001b[38;5;183m\u001b[38;5;147m-\u001b[0m\u001b[38;5;183m\u001b[38;5;147m-\u001b[0m\u001b[38;5;183m\u001b[38;5;147m-\u001b[0m\u001b[38;5;183m\u001b[38;5;147m-\u001b[0m\u001b[38;5;183m\u001b[38;5;147m-\u001b[0m\u001b[38;5;183m\u001b[38;5;147m-\u001b[0m\u001b[38;5;183m\u001b[38;5;147m-\u001b[0m\u001b[38;5;183m\u001b[38;5;147m-\u001b[0m\u001b[38;5;183m\u001b[38;5;147m-\u001b[0m\u001b[38;5;183m\u001b[38;5;147m-\u001b[0m\u001b[38;5;183m\u001b[38;5;147m-\u001b[0m\u001b[38;5;183m\u001b[38;5;147m-\u001b[0m\u001b[38;5;183m\u001b[38;5;147m-\u001b[0m\u001b[38;5;183m\u001b[38;5;147m-\u001b[0m\u001b[38;5;183m\u001b[38;5;147m-\u001b[0m\u001b[38;5;183m\u001b[38;5;147m-\u001b[0m\u001b[38;5;183m\u001b[38;5;147m-\u001b[0m\u001b[38;5;183m\u001b[38;5;147m-\u001b[0m\u001b[38;5;183m\u001b[38;5;219m+\u001b[0m\u001b[38;5;183m\u001b[38;5;147m-\u001b[0m\u001b[38;5;183m\u001b[38;5;147m-\u001b[0m\u001b[38;5;183m\u001b[38;5;147m-\u001b[0m\u001b[38;5;183m\u001b[38;5;147m-\u001b[0m\u001b[38;5;183m\u001b[38;5;147m-\u001b[0m\u001b[38;5;183m\u001b[38;5;147m-\u001b[0m\u001b[38;5;183m\u001b[38;5;147m-\u001b[0m\u001b[38;5;183m\u001b[38;5;147m-\u001b[0m\u001b[38;5;183m\u001b[38;5;147m-\u001b[0m\u001b[38;5;183m\u001b[38;5;147m-\u001b[0m\u001b[38;5;183m\u001b[38;5;147m-\u001b[0m\u001b[38;5;183m\u001b[38;5;147m-\u001b[0m\u001b[38;5;183m\u001b[38;5;147m-\u001b[0m\u001b[38;5;183m\u001b[38;5;147m-\u001b[0m\u001b[38;5;183m\u001b[38;5;147m-\u001b[0m\u001b[38;5;183m\u001b[38;5;147m-\u001b[0m\u001b[38;5;183m\u001b[38;5;147m-\u001b[0m\u001b[38;5;183m\u001b[38;5;147m-\u001b[0m\u001b[38;5;183m\u001b[38;5;147m-\u001b[0m\u001b[38;5;183m\u001b[38;5;147m-\u001b[0m\u001b[38;5;183m\u001b[38;5;147m-\u001b[0m\u001b[38;5;183m\u001b[38;5;219m+\u001b[0m\u001b[38;5;183m\u001b[0m\n"
     ]
    }
   ],
   "source": [
    "test_three_best_models_down(models_dict, x_train_balanced_down, y_train_balanced_down, x_test_balanced_down, y_test)\n",
    "print(table_results(Model.all_models))"
   ]
  },
  {
   "cell_type": "markdown",
   "metadata": {},
   "source": [
    "### DONC LE BALANCED UP MARCHE BIEN !"
   ]
  },
  {
   "cell_type": "markdown",
   "metadata": {},
   "source": [
    "### Test avec les trois langues"
   ]
  },
  {
   "cell_type": "code",
   "execution_count": 227,
   "metadata": {},
   "outputs": [],
   "source": [
    "df_train_it, df_test_it = get_train_and_test_df(\"data/train/deft09_parlement_appr_it.xml\", \"data/test/deft09_parlement_test_it.xml\", \"data/ref/deft09_parlement_ref_it.txt\")"
   ]
  },
  {
   "cell_type": "code",
   "execution_count": 228,
   "metadata": {},
   "outputs": [
    {
     "name": "stdout",
     "output_type": "stream",
     "text": [
      "Il y a 7814 textes en commun entre les données d'entraînement et de test.\n"
     ]
    }
   ],
   "source": [
    "train_texts_it = df_train_it[\"texte\"].to_list()\n",
    "test_texts_it = df_test_it[\"texte\"].to_list()\n",
    "num_copy = check_copy(train_texts_it, test_texts_it)\n",
    "print(f\"Il y a {num_copy} textes en commun entre les données d'entraînement et de test.\")"
   ]
  },
  {
   "cell_type": "markdown",
   "metadata": {},
   "source": [
    "### même soucis de doublons ! on procède aux memes traitements..."
   ]
  },
  {
   "cell_type": "code",
   "execution_count": 229,
   "metadata": {},
   "outputs": [
    {
     "name": "stdout",
     "output_type": "stream",
     "text": [
      "Pourcentage de textes d'entraînement : 53.40%\n",
      "Pourcentage de textes de test : 46.60%\n"
     ]
    }
   ],
   "source": [
    "df_train_it, df_test_it = balance_distribution(df_train_it, df_test_it)\n",
    "percentage_train, percentage_test = get_distribution(df_train_it, df_test_it)\n",
    "print(f\"Pourcentage de textes d'entraînement : {percentage_train:.2f}%\")\n",
    "print(f\"Pourcentage de textes de test : {percentage_test:.2f}%\")"
   ]
  },
  {
   "cell_type": "code",
   "execution_count": 231,
   "metadata": {},
   "outputs": [
    {
     "name": "stdout",
     "output_type": "stream",
     "text": [
      "Pourcentage de textes d'entraînement : 60.00%\n",
      "Pourcentage de textes de test : 40.00%\n",
      "Il y a 0 textes en commun entre les données d'entraînement et de test.\n"
     ]
    }
   ],
   "source": [
    "df_train_it, df_test_it = reach_desired_distribution(df_train_it, df_test_it)\n",
    "percentage_train, percentage_test = get_distribution(df_train_it, df_test_it)\n",
    "print(f\"Pourcentage de textes d'entraînement : {percentage_train:.2f}%\")\n",
    "print(f\"Pourcentage de textes de test : {percentage_test:.2f}%\")\n",
    "train_texts_it = df_train_it[\"texte\"].to_list()\n",
    "test_texts_it = df_test_it[\"texte\"].to_list()\n",
    "num_copy = check_copy(train_texts_it, test_texts_it)\n",
    "print(f\"Il y a {num_copy} textes en commun entre les données d'entraînement et de test.\")"
   ]
  },
  {
   "cell_type": "markdown",
   "metadata": {},
   "source": [
    "### þareil pour l'anglais"
   ]
  },
  {
   "cell_type": "code",
   "execution_count": 232,
   "metadata": {},
   "outputs": [],
   "source": [
    "df_train_en, df_test_en = get_train_and_test_df(\"data/train/deft09_parlement_appr_en.xml\", \"data/test/deft09_parlement_test_en.xml\", \"data/ref/deft09_parlement_ref_en.txt\")"
   ]
  },
  {
   "cell_type": "code",
   "execution_count": 233,
   "metadata": {},
   "outputs": [
    {
     "name": "stdout",
     "output_type": "stream",
     "text": [
      "Il y a 7813 textes en commun entre les données d'entraînement et de test.\n"
     ]
    }
   ],
   "source": [
    "train_texts_en = df_train_en[\"texte\"].to_list()\n",
    "test_texts_en = df_test_en[\"texte\"].to_list()\n",
    "num_copy = check_copy(train_texts_en, test_texts_en)\n",
    "print(f\"Il y a {num_copy} textes en commun entre les données d'entraînement et de test.\")"
   ]
  },
  {
   "cell_type": "code",
   "execution_count": 234,
   "metadata": {},
   "outputs": [
    {
     "name": "stdout",
     "output_type": "stream",
     "text": [
      "Pourcentage de textes d'entraînement : 53.40%\n",
      "Pourcentage de textes de test : 46.60%\n"
     ]
    }
   ],
   "source": [
    "df_train_en, df_test_en = balance_distribution(df_train_en, df_test_en)\n",
    "percentage_train, percentage_test = get_distribution(df_train_en, df_test_en)\n",
    "print(f\"Pourcentage de textes d'entraînement : {percentage_train:.2f}%\")\n",
    "print(f\"Pourcentage de textes de test : {percentage_test:.2f}%\")"
   ]
  },
  {
   "cell_type": "code",
   "execution_count": 235,
   "metadata": {},
   "outputs": [
    {
     "name": "stdout",
     "output_type": "stream",
     "text": [
      "Pourcentage de textes d'entraînement : 60.00%\n",
      "Pourcentage de textes de test : 40.00%\n",
      "Il y a 0 textes en commun entre les données d'entraînement et de test.\n"
     ]
    }
   ],
   "source": [
    "df_train_en, df_test_en = reach_desired_distribution(df_train_en, df_test_en)\n",
    "percentage_train, percentage_test = get_distribution(df_train_en, df_test_en)\n",
    "print(f\"Pourcentage de textes d'entraînement : {percentage_train:.2f}%\")\n",
    "print(f\"Pourcentage de textes de test : {percentage_test:.2f}%\")\n",
    "train_texts_en = df_train_en[\"texte\"].to_list()\n",
    "test_texts_en = df_test_en[\"texte\"].to_list()\n",
    "num_copy = check_copy(train_texts_en, test_texts_en)\n",
    "print(f\"Il y a {num_copy} textes en commun entre les données d'entraînement et de test.\")"
   ]
  },
  {
   "cell_type": "code",
   "execution_count": 241,
   "metadata": {},
   "outputs": [],
   "source": [
    "combined_train_data = pd.concat([df_train[\"texte_nettoyé\"], df_train_en[\"texte\"], df_train_it[\"texte\"]])\n",
    "vectorizer = TfidfVectorizer(max_df=0.5, ngram_range=(1, 2))  \n",
    "vectorizer.fit(combined_train_data)\n",
    "\n",
    "\n",
    "x_train_fr = vectorizer.transform(df_train[\"texte_nettoyé\"])\n",
    "x_train_en = vectorizer.transform(df_train_en[\"texte\"])\n",
    "x_train_it = vectorizer.transform(df_train_it[\"texte\"])\n",
    "x_test_fr = vectorizer.transform(df_test[\"texte_nettoyé\"])\n",
    "x_test_en = vectorizer.transform(df_test_en[\"texte\"])\n",
    "x_test_it = vectorizer.transform(df_test_it[\"texte\"])\n",
    "\n",
    "y_train_fr = df_train[\"label\"]\n",
    "y_train_en = df_train_en[\"label\"]\n",
    "y_train_it = df_train_it[\"label\"]\n",
    "y_test_fr = df_test[\"label\"]\n",
    "y_test_en = df_test_en[\"label\"]\n",
    "y_test_it = df_test_it[\"label\"]\n"
   ]
  },
  {
   "cell_type": "code",
   "execution_count": 245,
   "metadata": {},
   "outputs": [],
   "source": [
    "@time_function\n",
    "def multilingual_classifier(model, x_train_fr, y_train_fr, x_train_en, y_train_en, x_train_it, y_train_it, x_test_fr, y_test_fr):\n",
    "\n",
    "    model = model.fit(x_train_fr, y_train_fr)\n",
    "    model = model.fit(x_train_en, y_train_en)\n",
    "    model = model.fit(x_train_it, y_train_it)\n",
    "\n",
    "    y_pred = model.predict(x_test_fr)\n",
    "\n",
    "    accuracy = accuracy_score(y_test_fr, y_pred)\n",
    "    report = classification_report(y_test_fr, y_pred, output_dict=True)\n",
    "    \n",
    "    return model, {\"accuracy\": accuracy, **report}\n",
    "\n",
    "multi_clf_result, running_time = multilingual_classifier(PassiveAggressiveClassifier(C=0.5, loss='squared_hinge'), x_train_fr, y_train_fr, x_train_en, y_train_en, x_train_it, y_train_it, x_test_fr, y_test_fr)\n",
    "multi_clf_model, scores = multi_clf_result\n",
    "\n",
    "model = Model(name=\"multiclass\", model=multi_clf_model, scores=scores, running_time=running_time)"
   ]
  },
  {
   "cell_type": "code",
   "execution_count": 247,
   "metadata": {},
   "outputs": [],
   "source": [
    "combined_train_data = pd.concat([df_train[\"texte_nettoyé\"], df_train_it[\"texte\"]])\n",
    "vectorizer = TfidfVectorizer(max_df=0.5, ngram_range=(1, 2))  \n",
    "vectorizer.fit(combined_train_data)\n",
    "\n",
    "\n",
    "x_train_fr = vectorizer.transform(df_train[\"texte_nettoyé\"])\n",
    "x_train_it = vectorizer.transform(df_train_it[\"texte\"])\n",
    "x_test_fr = vectorizer.transform(df_test[\"texte_nettoyé\"])\n",
    "x_test_it = vectorizer.transform(df_test_it[\"texte\"])\n",
    "\n",
    "y_train_fr = df_train[\"label\"]\n",
    "y_train_it = df_train_it[\"label\"]\n",
    "y_test_fr = df_test[\"label\"]\n",
    "y_test_it = df_test_it[\"label\"]"
   ]
  },
  {
   "cell_type": "code",
   "execution_count": 277,
   "metadata": {},
   "outputs": [
    {
     "name": "stdout",
     "output_type": "stream",
     "text": [
      "On teste le modèle KNN\n",
      "On teste le modèle MultinomialNB\n"
     ]
    },
    {
     "name": "stderr",
     "output_type": "stream",
     "text": [
      "/home/karmin/Downloads/yes/envs/app_auto_dm_test/lib/python3.12/site-packages/sklearn/metrics/_classification.py:1565: UndefinedMetricWarning: Precision is ill-defined and being set to 0.0 in labels with no predicted samples. Use `zero_division` parameter to control this behavior.\n",
      "  _warn_prf(average, modifier, f\"{metric.capitalize()} is\", len(result))\n",
      "/home/karmin/Downloads/yes/envs/app_auto_dm_test/lib/python3.12/site-packages/sklearn/metrics/_classification.py:1565: UndefinedMetricWarning: Precision is ill-defined and being set to 0.0 in labels with no predicted samples. Use `zero_division` parameter to control this behavior.\n",
      "  _warn_prf(average, modifier, f\"{metric.capitalize()} is\", len(result))\n",
      "/home/karmin/Downloads/yes/envs/app_auto_dm_test/lib/python3.12/site-packages/sklearn/metrics/_classification.py:1565: UndefinedMetricWarning: Precision is ill-defined and being set to 0.0 in labels with no predicted samples. Use `zero_division` parameter to control this behavior.\n",
      "  _warn_prf(average, modifier, f\"{metric.capitalize()} is\", len(result))\n"
     ]
    },
    {
     "name": "stdout",
     "output_type": "stream",
     "text": [
      "On teste le modèle ComplementNB\n",
      "On teste le modèle LogisticRegression\n"
     ]
    },
    {
     "name": "stderr",
     "output_type": "stream",
     "text": [
      "/home/karmin/Downloads/yes/envs/app_auto_dm_test/lib/python3.12/site-packages/sklearn/metrics/_classification.py:1565: UndefinedMetricWarning: Precision is ill-defined and being set to 0.0 in labels with no predicted samples. Use `zero_division` parameter to control this behavior.\n",
      "  _warn_prf(average, modifier, f\"{metric.capitalize()} is\", len(result))\n",
      "/home/karmin/Downloads/yes/envs/app_auto_dm_test/lib/python3.12/site-packages/sklearn/metrics/_classification.py:1565: UndefinedMetricWarning: Precision is ill-defined and being set to 0.0 in labels with no predicted samples. Use `zero_division` parameter to control this behavior.\n",
      "  _warn_prf(average, modifier, f\"{metric.capitalize()} is\", len(result))\n",
      "/home/karmin/Downloads/yes/envs/app_auto_dm_test/lib/python3.12/site-packages/sklearn/metrics/_classification.py:1565: UndefinedMetricWarning: Precision is ill-defined and being set to 0.0 in labels with no predicted samples. Use `zero_division` parameter to control this behavior.\n",
      "  _warn_prf(average, modifier, f\"{metric.capitalize()} is\", len(result))\n"
     ]
    },
    {
     "name": "stdout",
     "output_type": "stream",
     "text": [
      "On teste le modèle SGDClassifier\n"
     ]
    },
    {
     "name": "stderr",
     "output_type": "stream",
     "text": [
      "/home/karmin/Downloads/yes/envs/app_auto_dm_test/lib/python3.12/site-packages/sklearn/metrics/_classification.py:1565: UndefinedMetricWarning: Precision is ill-defined and being set to 0.0 in labels with no predicted samples. Use `zero_division` parameter to control this behavior.\n",
      "  _warn_prf(average, modifier, f\"{metric.capitalize()} is\", len(result))\n",
      "/home/karmin/Downloads/yes/envs/app_auto_dm_test/lib/python3.12/site-packages/sklearn/metrics/_classification.py:1565: UndefinedMetricWarning: Precision is ill-defined and being set to 0.0 in labels with no predicted samples. Use `zero_division` parameter to control this behavior.\n",
      "  _warn_prf(average, modifier, f\"{metric.capitalize()} is\", len(result))\n",
      "/home/karmin/Downloads/yes/envs/app_auto_dm_test/lib/python3.12/site-packages/sklearn/metrics/_classification.py:1565: UndefinedMetricWarning: Precision is ill-defined and being set to 0.0 in labels with no predicted samples. Use `zero_division` parameter to control this behavior.\n",
      "  _warn_prf(average, modifier, f\"{metric.capitalize()} is\", len(result))\n"
     ]
    },
    {
     "name": "stdout",
     "output_type": "stream",
     "text": [
      "On teste le modèle LinearSVC\n"
     ]
    },
    {
     "name": "stderr",
     "output_type": "stream",
     "text": [
      "/home/karmin/Downloads/yes/envs/app_auto_dm_test/lib/python3.12/site-packages/sklearn/metrics/_classification.py:1565: UndefinedMetricWarning: Precision is ill-defined and being set to 0.0 in labels with no predicted samples. Use `zero_division` parameter to control this behavior.\n",
      "  _warn_prf(average, modifier, f\"{metric.capitalize()} is\", len(result))\n",
      "/home/karmin/Downloads/yes/envs/app_auto_dm_test/lib/python3.12/site-packages/sklearn/metrics/_classification.py:1565: UndefinedMetricWarning: Precision is ill-defined and being set to 0.0 in labels with no predicted samples. Use `zero_division` parameter to control this behavior.\n",
      "  _warn_prf(average, modifier, f\"{metric.capitalize()} is\", len(result))\n",
      "/home/karmin/Downloads/yes/envs/app_auto_dm_test/lib/python3.12/site-packages/sklearn/metrics/_classification.py:1565: UndefinedMetricWarning: Precision is ill-defined and being set to 0.0 in labels with no predicted samples. Use `zero_division` parameter to control this behavior.\n",
      "  _warn_prf(average, modifier, f\"{metric.capitalize()} is\", len(result))\n"
     ]
    },
    {
     "name": "stdout",
     "output_type": "stream",
     "text": [
      "On teste le modèle SVC\n"
     ]
    },
    {
     "name": "stderr",
     "output_type": "stream",
     "text": [
      "/home/karmin/Downloads/yes/envs/app_auto_dm_test/lib/python3.12/site-packages/sklearn/metrics/_classification.py:1565: UndefinedMetricWarning: Precision is ill-defined and being set to 0.0 in labels with no predicted samples. Use `zero_division` parameter to control this behavior.\n",
      "  _warn_prf(average, modifier, f\"{metric.capitalize()} is\", len(result))\n",
      "/home/karmin/Downloads/yes/envs/app_auto_dm_test/lib/python3.12/site-packages/sklearn/metrics/_classification.py:1565: UndefinedMetricWarning: Precision is ill-defined and being set to 0.0 in labels with no predicted samples. Use `zero_division` parameter to control this behavior.\n",
      "  _warn_prf(average, modifier, f\"{metric.capitalize()} is\", len(result))\n",
      "/home/karmin/Downloads/yes/envs/app_auto_dm_test/lib/python3.12/site-packages/sklearn/metrics/_classification.py:1565: UndefinedMetricWarning: Precision is ill-defined and being set to 0.0 in labels with no predicted samples. Use `zero_division` parameter to control this behavior.\n",
      "  _warn_prf(average, modifier, f\"{metric.capitalize()} is\", len(result))\n"
     ]
    },
    {
     "name": "stdout",
     "output_type": "stream",
     "text": [
      "On teste le modèle RidgeClassifier\n"
     ]
    },
    {
     "name": "stderr",
     "output_type": "stream",
     "text": [
      "/home/karmin/Downloads/yes/envs/app_auto_dm_test/lib/python3.12/site-packages/sklearn/metrics/_classification.py:1565: UndefinedMetricWarning: Precision is ill-defined and being set to 0.0 in labels with no predicted samples. Use `zero_division` parameter to control this behavior.\n",
      "  _warn_prf(average, modifier, f\"{metric.capitalize()} is\", len(result))\n",
      "/home/karmin/Downloads/yes/envs/app_auto_dm_test/lib/python3.12/site-packages/sklearn/metrics/_classification.py:1565: UndefinedMetricWarning: Precision is ill-defined and being set to 0.0 in labels with no predicted samples. Use `zero_division` parameter to control this behavior.\n",
      "  _warn_prf(average, modifier, f\"{metric.capitalize()} is\", len(result))\n",
      "/home/karmin/Downloads/yes/envs/app_auto_dm_test/lib/python3.12/site-packages/sklearn/metrics/_classification.py:1565: UndefinedMetricWarning: Precision is ill-defined and being set to 0.0 in labels with no predicted samples. Use `zero_division` parameter to control this behavior.\n",
      "  _warn_prf(average, modifier, f\"{metric.capitalize()} is\", len(result))\n",
      "/home/karmin/Downloads/yes/envs/app_auto_dm_test/lib/python3.12/site-packages/sklearn/utils/deprecation.py:151: FutureWarning: 'force_all_finite' was renamed to 'ensure_all_finite' in 1.6 and will be removed in 1.8.\n",
      "  warnings.warn(\n"
     ]
    },
    {
     "name": "stdout",
     "output_type": "stream",
     "text": [
      "On teste le modèle LGBMClassifier\n",
      "[LightGBM] [Info] Auto-choosing col-wise multi-threading, the overhead of testing was 0.255833 seconds.\n",
      "You can set `force_col_wise=true` to remove the overhead.\n",
      "[LightGBM] [Info] Total Bins 185921\n",
      "[LightGBM] [Info] Number of data points in the train set: 13068, number of used features: 5936\n",
      "[LightGBM] [Info] Start training from score -2.269321\n",
      "[LightGBM] [Info] Start training from score -1.969683\n",
      "[LightGBM] [Info] Start training from score -1.036530\n",
      "[LightGBM] [Info] Start training from score -1.275439\n",
      "[LightGBM] [Info] Start training from score -2.094554\n"
     ]
    },
    {
     "name": "stderr",
     "output_type": "stream",
     "text": [
      "/home/karmin/Downloads/yes/envs/app_auto_dm_test/lib/python3.12/site-packages/sklearn/utils/deprecation.py:151: FutureWarning: 'force_all_finite' was renamed to 'ensure_all_finite' in 1.6 and will be removed in 1.8.\n",
      "  warnings.warn(\n"
     ]
    },
    {
     "name": "stdout",
     "output_type": "stream",
     "text": [
      "[LightGBM] [Info] Auto-choosing row-wise multi-threading, the overhead of testing was 0.416925 seconds.\n",
      "You can set `force_row_wise=true` to remove the overhead.\n",
      "And if memory is not enough, you can set `force_col_wise=true`.\n",
      "[LightGBM] [Info] Total Bins 292061\n",
      "[LightGBM] [Info] Number of data points in the train set: 13066, number of used features: 9829\n",
      "[LightGBM] [Info] Start training from score -2.280333\n",
      "[LightGBM] [Info] Start training from score -1.975582\n",
      "[LightGBM] [Info] Start training from score -1.035946\n",
      "[LightGBM] [Info] Start training from score -1.267372\n",
      "[LightGBM] [Info] Start training from score -2.098761\n"
     ]
    },
    {
     "name": "stderr",
     "output_type": "stream",
     "text": [
      "/home/karmin/Downloads/yes/envs/app_auto_dm_test/lib/python3.12/site-packages/sklearn/utils/deprecation.py:151: FutureWarning: 'force_all_finite' was renamed to 'ensure_all_finite' in 1.6 and will be removed in 1.8.\n",
      "  warnings.warn(\n"
     ]
    },
    {
     "name": "stdout",
     "output_type": "stream",
     "text": [
      "On teste le modèle RandomForestClassifier\n"
     ]
    },
    {
     "name": "stderr",
     "output_type": "stream",
     "text": [
      "/home/karmin/Downloads/yes/envs/app_auto_dm_test/lib/python3.12/site-packages/sklearn/metrics/_classification.py:1565: UndefinedMetricWarning: Precision is ill-defined and being set to 0.0 in labels with no predicted samples. Use `zero_division` parameter to control this behavior.\n",
      "  _warn_prf(average, modifier, f\"{metric.capitalize()} is\", len(result))\n",
      "/home/karmin/Downloads/yes/envs/app_auto_dm_test/lib/python3.12/site-packages/sklearn/metrics/_classification.py:1565: UndefinedMetricWarning: Precision is ill-defined and being set to 0.0 in labels with no predicted samples. Use `zero_division` parameter to control this behavior.\n",
      "  _warn_prf(average, modifier, f\"{metric.capitalize()} is\", len(result))\n",
      "/home/karmin/Downloads/yes/envs/app_auto_dm_test/lib/python3.12/site-packages/sklearn/metrics/_classification.py:1565: UndefinedMetricWarning: Precision is ill-defined and being set to 0.0 in labels with no predicted samples. Use `zero_division` parameter to control this behavior.\n",
      "  _warn_prf(average, modifier, f\"{metric.capitalize()} is\", len(result))\n"
     ]
    },
    {
     "name": "stdout",
     "output_type": "stream",
     "text": [
      "On teste le modèle PassiveAggressiveClassifier\n"
     ]
    }
   ],
   "source": [
    "@time_function\n",
    "def multilingual_classifier(model, x_train_fr, y_train_fr, x_train_it, y_train_it, x_test_fr, y_test_fr):\n",
    "\n",
    "    model = model.fit(x_train_fr, y_train_fr)\n",
    "    model = model.fit(x_train_it, y_train_it)\n",
    "\n",
    "    y_pred = model.predict(x_test_fr)\n",
    "\n",
    "    accuracy = accuracy_score(y_test_fr, y_pred)\n",
    "    report = classification_report(y_test_fr, y_pred, output_dict=True)\n",
    "    \n",
    "    return model, {\"accuracy\": accuracy, **report}\n",
    "\n",
    "# multi_clf_result, running_time = multilingual_classifier(PassiveAggressiveClassifier(C=0.5, loss='squared_hinge'), x_train_fr, y_train_fr, x_train_it, y_train_it, x_test_fr, y_test_fr)\n",
    "# multi_clf_model, scores = multi_clf_result\n",
    "\n",
    "\n",
    "for model in models_dict:\n",
    "    print(\"On teste le modèle\", model)\n",
    "    if model in [\"PassiveAggressiveClassifier\", \"SGDClassifier\", \"LinearSVC\", \"multinomialNB\", \"ComplementNB\"]:\n",
    "        multi_clf_result, running_time = multilingual_classifier(models_dict[model][\"model\"], x_train_fr, y_train_fr, x_train_it, y_train_it, x_test_fr, y_test_fr)\n",
    "        multi_clf_model, scores = multi_clf_result\n",
    "        model = Model(name=f\"multiclass_{model}\", model=multi_clf_model, scores=scores, running_time=running_time)\n"
   ]
  },
  {
   "cell_type": "code",
   "execution_count": null,
   "metadata": {},
   "outputs": [],
   "source": [
    "print(table_results(Model.all_models))"
   ]
  },
  {
   "cell_type": "markdown",
   "metadata": {},
   "source": [
    "## ressayer avec un autre split ! "
   ]
  },
  {
   "cell_type": "code",
   "execution_count": 269,
   "metadata": {},
   "outputs": [],
   "source": [
    "new_df  = pd.DataFrame()\n",
    "new_df['texte_nettoyé'] = pd.concat([df_train['texte_nettoyé'], df_test['texte_nettoyé']], ignore_index=True)\n",
    "new_df['label'] = pd.concat([df_train['label'], df_test['label']], ignore_index=True)\n",
    "new_df = new_df.drop_duplicates(subset='texte_nettoyé', keep=False)"
   ]
  },
  {
   "cell_type": "code",
   "execution_count": 273,
   "metadata": {},
   "outputs": [
    {
     "name": "stdout",
     "output_type": "stream",
     "text": [
      "x_train_new_vectorized shape: (15237, 490097)\n",
      "y_train_new shape: (15237,)\n",
      "x_test_new_vectorized shape: (6531, 490097)\n",
      "y_test_new shape: (6531,)\n"
     ]
    }
   ],
   "source": [
    "x_train_new, x_test_new, y_train_new, y_test_new = train_test_split(new_df['texte_nettoyé'], new_df['label'], test_size=0.3, random_state=42, stratify=new_df['label'])\n",
    "vectorizer = TfidfVectorizer(max_df=0.5, ngram_range=(1, 2))\n",
    "x_train_new_vectorized = vectorizer.fit_transform(x_train_new)\n",
    "x_test_new_vectorized = vectorizer.transform(x_test_new)\n",
    "\n",
    "print(f\"x_train_new_vectorized shape: {x_train_new_vectorized.shape}\")\n",
    "print(f\"y_train_new shape: {y_train_new.shape}\")\n",
    "print(f\"x_test_new_vectorized shape: {x_test_new_vectorized.shape}\")\n",
    "print(f\"y_test_new shape: {y_test_new.shape}\")"
   ]
  },
  {
   "cell_type": "code",
   "execution_count": 274,
   "metadata": {},
   "outputs": [
    {
     "name": "stdout",
     "output_type": "stream",
     "text": [
      "On teste le modèle KNN !\n",
      "On teste le modèle MultinomialNB !\n"
     ]
    },
    {
     "name": "stderr",
     "output_type": "stream",
     "text": [
      "/home/karmin/Downloads/yes/envs/app_auto_dm_test/lib/python3.12/site-packages/sklearn/metrics/_classification.py:1565: UndefinedMetricWarning: Precision is ill-defined and being set to 0.0 in labels with no predicted samples. Use `zero_division` parameter to control this behavior.\n",
      "  _warn_prf(average, modifier, f\"{metric.capitalize()} is\", len(result))\n",
      "/home/karmin/Downloads/yes/envs/app_auto_dm_test/lib/python3.12/site-packages/sklearn/metrics/_classification.py:1565: UndefinedMetricWarning: Precision is ill-defined and being set to 0.0 in labels with no predicted samples. Use `zero_division` parameter to control this behavior.\n",
      "  _warn_prf(average, modifier, f\"{metric.capitalize()} is\", len(result))\n",
      "/home/karmin/Downloads/yes/envs/app_auto_dm_test/lib/python3.12/site-packages/sklearn/metrics/_classification.py:1565: UndefinedMetricWarning: Precision is ill-defined and being set to 0.0 in labels with no predicted samples. Use `zero_division` parameter to control this behavior.\n",
      "  _warn_prf(average, modifier, f\"{metric.capitalize()} is\", len(result))\n",
      "/home/karmin/Downloads/yes/envs/app_auto_dm_test/lib/python3.12/site-packages/sklearn/metrics/_classification.py:1565: UndefinedMetricWarning: Precision is ill-defined and being set to 0.0 in labels with no predicted samples. Use `zero_division` parameter to control this behavior.\n",
      "  _warn_prf(average, modifier, f\"{metric.capitalize()} is\", len(result))\n",
      "/home/karmin/Downloads/yes/envs/app_auto_dm_test/lib/python3.12/site-packages/sklearn/metrics/_classification.py:1565: UndefinedMetricWarning: Precision is ill-defined and being set to 0.0 in labels with no predicted samples. Use `zero_division` parameter to control this behavior.\n",
      "  _warn_prf(average, modifier, f\"{metric.capitalize()} is\", len(result))\n",
      "/home/karmin/Downloads/yes/envs/app_auto_dm_test/lib/python3.12/site-packages/sklearn/metrics/_classification.py:1565: UndefinedMetricWarning: Precision is ill-defined and being set to 0.0 in labels with no predicted samples. Use `zero_division` parameter to control this behavior.\n",
      "  _warn_prf(average, modifier, f\"{metric.capitalize()} is\", len(result))\n",
      "/home/karmin/Downloads/yes/envs/app_auto_dm_test/lib/python3.12/site-packages/sklearn/metrics/_classification.py:1565: UndefinedMetricWarning: Precision is ill-defined and being set to 0.0 in labels with no predicted samples. Use `zero_division` parameter to control this behavior.\n",
      "  _warn_prf(average, modifier, f\"{metric.capitalize()} is\", len(result))\n",
      "/home/karmin/Downloads/yes/envs/app_auto_dm_test/lib/python3.12/site-packages/sklearn/metrics/_classification.py:1565: UndefinedMetricWarning: Precision is ill-defined and being set to 0.0 in labels with no predicted samples. Use `zero_division` parameter to control this behavior.\n",
      "  _warn_prf(average, modifier, f\"{metric.capitalize()} is\", len(result))\n",
      "/home/karmin/Downloads/yes/envs/app_auto_dm_test/lib/python3.12/site-packages/sklearn/metrics/_classification.py:1565: UndefinedMetricWarning: Precision is ill-defined and being set to 0.0 in labels with no predicted samples. Use `zero_division` parameter to control this behavior.\n",
      "  _warn_prf(average, modifier, f\"{metric.capitalize()} is\", len(result))\n",
      "/home/karmin/Downloads/yes/envs/app_auto_dm_test/lib/python3.12/site-packages/sklearn/metrics/_classification.py:1565: UndefinedMetricWarning: Precision is ill-defined and being set to 0.0 in labels with no predicted samples. Use `zero_division` parameter to control this behavior.\n",
      "  _warn_prf(average, modifier, f\"{metric.capitalize()} is\", len(result))\n",
      "/home/karmin/Downloads/yes/envs/app_auto_dm_test/lib/python3.12/site-packages/sklearn/metrics/_classification.py:1565: UndefinedMetricWarning: Precision is ill-defined and being set to 0.0 in labels with no predicted samples. Use `zero_division` parameter to control this behavior.\n",
      "  _warn_prf(average, modifier, f\"{metric.capitalize()} is\", len(result))\n",
      "/home/karmin/Downloads/yes/envs/app_auto_dm_test/lib/python3.12/site-packages/sklearn/metrics/_classification.py:1565: UndefinedMetricWarning: Precision is ill-defined and being set to 0.0 in labels with no predicted samples. Use `zero_division` parameter to control this behavior.\n",
      "  _warn_prf(average, modifier, f\"{metric.capitalize()} is\", len(result))\n"
     ]
    },
    {
     "name": "stdout",
     "output_type": "stream",
     "text": [
      "On teste le modèle ComplementNB !\n"
     ]
    },
    {
     "name": "stderr",
     "output_type": "stream",
     "text": [
      "/home/karmin/Downloads/yes/envs/app_auto_dm_test/lib/python3.12/site-packages/sklearn/metrics/_classification.py:1565: UndefinedMetricWarning: Precision is ill-defined and being set to 0.0 in labels with no predicted samples. Use `zero_division` parameter to control this behavior.\n",
      "  _warn_prf(average, modifier, f\"{metric.capitalize()} is\", len(result))\n",
      "/home/karmin/Downloads/yes/envs/app_auto_dm_test/lib/python3.12/site-packages/sklearn/metrics/_classification.py:1565: UndefinedMetricWarning: Precision is ill-defined and being set to 0.0 in labels with no predicted samples. Use `zero_division` parameter to control this behavior.\n",
      "  _warn_prf(average, modifier, f\"{metric.capitalize()} is\", len(result))\n",
      "/home/karmin/Downloads/yes/envs/app_auto_dm_test/lib/python3.12/site-packages/sklearn/metrics/_classification.py:1565: UndefinedMetricWarning: Precision is ill-defined and being set to 0.0 in labels with no predicted samples. Use `zero_division` parameter to control this behavior.\n",
      "  _warn_prf(average, modifier, f\"{metric.capitalize()} is\", len(result))\n",
      "/home/karmin/Downloads/yes/envs/app_auto_dm_test/lib/python3.12/site-packages/sklearn/metrics/_classification.py:1565: UndefinedMetricWarning: Precision is ill-defined and being set to 0.0 in labels with no predicted samples. Use `zero_division` parameter to control this behavior.\n",
      "  _warn_prf(average, modifier, f\"{metric.capitalize()} is\", len(result))\n",
      "/home/karmin/Downloads/yes/envs/app_auto_dm_test/lib/python3.12/site-packages/sklearn/metrics/_classification.py:1565: UndefinedMetricWarning: Precision is ill-defined and being set to 0.0 in labels with no predicted samples. Use `zero_division` parameter to control this behavior.\n",
      "  _warn_prf(average, modifier, f\"{metric.capitalize()} is\", len(result))\n",
      "/home/karmin/Downloads/yes/envs/app_auto_dm_test/lib/python3.12/site-packages/sklearn/metrics/_classification.py:1565: UndefinedMetricWarning: Precision is ill-defined and being set to 0.0 in labels with no predicted samples. Use `zero_division` parameter to control this behavior.\n",
      "  _warn_prf(average, modifier, f\"{metric.capitalize()} is\", len(result))\n"
     ]
    },
    {
     "name": "stdout",
     "output_type": "stream",
     "text": [
      "On teste le modèle LogisticRegression !\n"
     ]
    },
    {
     "name": "stderr",
     "output_type": "stream",
     "text": [
      "/home/karmin/Downloads/yes/envs/app_auto_dm_test/lib/python3.12/site-packages/sklearn/metrics/_classification.py:1565: UndefinedMetricWarning: Precision is ill-defined and being set to 0.0 in labels with no predicted samples. Use `zero_division` parameter to control this behavior.\n",
      "  _warn_prf(average, modifier, f\"{metric.capitalize()} is\", len(result))\n",
      "/home/karmin/Downloads/yes/envs/app_auto_dm_test/lib/python3.12/site-packages/sklearn/metrics/_classification.py:1565: UndefinedMetricWarning: Precision is ill-defined and being set to 0.0 in labels with no predicted samples. Use `zero_division` parameter to control this behavior.\n",
      "  _warn_prf(average, modifier, f\"{metric.capitalize()} is\", len(result))\n",
      "/home/karmin/Downloads/yes/envs/app_auto_dm_test/lib/python3.12/site-packages/sklearn/metrics/_classification.py:1565: UndefinedMetricWarning: Precision is ill-defined and being set to 0.0 in labels with no predicted samples. Use `zero_division` parameter to control this behavior.\n",
      "  _warn_prf(average, modifier, f\"{metric.capitalize()} is\", len(result))\n"
     ]
    },
    {
     "name": "stdout",
     "output_type": "stream",
     "text": [
      "On teste le modèle SGDClassifier !\n"
     ]
    },
    {
     "name": "stderr",
     "output_type": "stream",
     "text": [
      "/home/karmin/Downloads/yes/envs/app_auto_dm_test/lib/python3.12/site-packages/sklearn/metrics/_classification.py:1565: UndefinedMetricWarning: Precision is ill-defined and being set to 0.0 in labels with no predicted samples. Use `zero_division` parameter to control this behavior.\n",
      "  _warn_prf(average, modifier, f\"{metric.capitalize()} is\", len(result))\n",
      "/home/karmin/Downloads/yes/envs/app_auto_dm_test/lib/python3.12/site-packages/sklearn/metrics/_classification.py:1565: UndefinedMetricWarning: Precision is ill-defined and being set to 0.0 in labels with no predicted samples. Use `zero_division` parameter to control this behavior.\n",
      "  _warn_prf(average, modifier, f\"{metric.capitalize()} is\", len(result))\n",
      "/home/karmin/Downloads/yes/envs/app_auto_dm_test/lib/python3.12/site-packages/sklearn/metrics/_classification.py:1565: UndefinedMetricWarning: Precision is ill-defined and being set to 0.0 in labels with no predicted samples. Use `zero_division` parameter to control this behavior.\n",
      "  _warn_prf(average, modifier, f\"{metric.capitalize()} is\", len(result))\n"
     ]
    },
    {
     "name": "stdout",
     "output_type": "stream",
     "text": [
      "On teste le modèle LinearSVC !\n",
      "On teste le modèle SVC !\n"
     ]
    },
    {
     "name": "stderr",
     "output_type": "stream",
     "text": [
      "/home/karmin/Downloads/yes/envs/app_auto_dm_test/lib/python3.12/site-packages/sklearn/metrics/_classification.py:1565: UndefinedMetricWarning: Precision is ill-defined and being set to 0.0 in labels with no predicted samples. Use `zero_division` parameter to control this behavior.\n",
      "  _warn_prf(average, modifier, f\"{metric.capitalize()} is\", len(result))\n",
      "/home/karmin/Downloads/yes/envs/app_auto_dm_test/lib/python3.12/site-packages/sklearn/metrics/_classification.py:1565: UndefinedMetricWarning: Precision is ill-defined and being set to 0.0 in labels with no predicted samples. Use `zero_division` parameter to control this behavior.\n",
      "  _warn_prf(average, modifier, f\"{metric.capitalize()} is\", len(result))\n",
      "/home/karmin/Downloads/yes/envs/app_auto_dm_test/lib/python3.12/site-packages/sklearn/metrics/_classification.py:1565: UndefinedMetricWarning: Precision is ill-defined and being set to 0.0 in labels with no predicted samples. Use `zero_division` parameter to control this behavior.\n",
      "  _warn_prf(average, modifier, f\"{metric.capitalize()} is\", len(result))\n"
     ]
    },
    {
     "name": "stdout",
     "output_type": "stream",
     "text": [
      "On teste le modèle RidgeClassifier !\n",
      "On teste le modèle LGBMClassifier !\n"
     ]
    },
    {
     "name": "stderr",
     "output_type": "stream",
     "text": [
      "/home/karmin/Downloads/yes/envs/app_auto_dm_test/lib/python3.12/site-packages/sklearn/utils/deprecation.py:151: FutureWarning: 'force_all_finite' was renamed to 'ensure_all_finite' in 1.6 and will be removed in 1.8.\n",
      "  warnings.warn(\n"
     ]
    },
    {
     "name": "stdout",
     "output_type": "stream",
     "text": [
      "[LightGBM] [Info] Auto-choosing col-wise multi-threading, the overhead of testing was 0.349893 seconds.\n",
      "You can set `force_col_wise=true` to remove the overhead.\n",
      "[LightGBM] [Info] Total Bins 216612\n",
      "[LightGBM] [Info] Number of data points in the train set: 15237, number of used features: 6821\n",
      "[LightGBM] [Info] Start training from score -2.266302\n",
      "[LightGBM] [Info] Start training from score -1.975618\n",
      "[LightGBM] [Info] Start training from score -1.042340\n",
      "[LightGBM] [Info] Start training from score -1.266508\n",
      "[LightGBM] [Info] Start training from score -2.094052\n"
     ]
    },
    {
     "name": "stderr",
     "output_type": "stream",
     "text": [
      "/home/karmin/Downloads/yes/envs/app_auto_dm_test/lib/python3.12/site-packages/sklearn/utils/deprecation.py:151: FutureWarning: 'force_all_finite' was renamed to 'ensure_all_finite' in 1.6 and will be removed in 1.8.\n",
      "  warnings.warn(\n"
     ]
    },
    {
     "name": "stdout",
     "output_type": "stream",
     "text": [
      "On teste le modèle RandomForestClassifier !\n"
     ]
    },
    {
     "name": "stderr",
     "output_type": "stream",
     "text": [
      "/home/karmin/Downloads/yes/envs/app_auto_dm_test/lib/python3.12/site-packages/sklearn/metrics/_classification.py:1565: UndefinedMetricWarning: Precision is ill-defined and being set to 0.0 in labels with no predicted samples. Use `zero_division` parameter to control this behavior.\n",
      "  _warn_prf(average, modifier, f\"{metric.capitalize()} is\", len(result))\n",
      "/home/karmin/Downloads/yes/envs/app_auto_dm_test/lib/python3.12/site-packages/sklearn/metrics/_classification.py:1565: UndefinedMetricWarning: Precision is ill-defined and being set to 0.0 in labels with no predicted samples. Use `zero_division` parameter to control this behavior.\n",
      "  _warn_prf(average, modifier, f\"{metric.capitalize()} is\", len(result))\n",
      "/home/karmin/Downloads/yes/envs/app_auto_dm_test/lib/python3.12/site-packages/sklearn/metrics/_classification.py:1565: UndefinedMetricWarning: Precision is ill-defined and being set to 0.0 in labels with no predicted samples. Use `zero_division` parameter to control this behavior.\n",
      "  _warn_prf(average, modifier, f\"{metric.capitalize()} is\", len(result))\n"
     ]
    },
    {
     "name": "stdout",
     "output_type": "stream",
     "text": [
      "On teste le modèle PassiveAggressiveClassifier !\n"
     ]
    },
    {
     "data": {
      "text/plain": [
       "(None, 1184.7530586719513)"
      ]
     },
     "execution_count": 274,
     "metadata": {},
     "output_type": "execute_result"
    }
   ],
   "source": [
    "@time_function\n",
    "def test_models(models, x_train, y_train, x_test, y_test):\n",
    "                                 \n",
    "    for model_name, model_dict in models.items():\n",
    "        print(f\"On teste le modèle {model_name} !\")\n",
    "        hyperparameters_training(f\"{model_name}_on_new_split\", model_dict, x_train, y_train, x_test, y_test)\n",
    "\n",
    "test_models(models_dict, x_train_new_vectorized, y_train_new, x_test_new_vectorized, y_test_new)"
   ]
  },
  {
   "cell_type": "code",
   "execution_count": 276,
   "metadata": {},
   "outputs": [
    {
     "name": "stdout",
     "output_type": "stream",
     "text": [
      "\u001b[38;5;219m+\u001b[0m\u001b[38;5;183m\u001b[38;5;147m-\u001b[0m\u001b[38;5;183m\u001b[38;5;147m-\u001b[0m\u001b[38;5;183m\u001b[38;5;147m-\u001b[0m\u001b[38;5;183m\u001b[38;5;147m-\u001b[0m\u001b[38;5;183m\u001b[38;5;147m-\u001b[0m\u001b[38;5;183m\u001b[38;5;147m-\u001b[0m\u001b[38;5;183m\u001b[38;5;147m-\u001b[0m\u001b[38;5;183m\u001b[38;5;147m-\u001b[0m\u001b[38;5;183m\u001b[38;5;147m-\u001b[0m\u001b[38;5;183m\u001b[38;5;147m-\u001b[0m\u001b[38;5;183m\u001b[38;5;147m-\u001b[0m\u001b[38;5;183m\u001b[38;5;147m-\u001b[0m\u001b[38;5;183m\u001b[38;5;147m-\u001b[0m\u001b[38;5;183m\u001b[38;5;147m-\u001b[0m\u001b[38;5;183m\u001b[38;5;147m-\u001b[0m\u001b[38;5;183m\u001b[38;5;147m-\u001b[0m\u001b[38;5;183m\u001b[38;5;147m-\u001b[0m\u001b[38;5;183m\u001b[38;5;147m-\u001b[0m\u001b[38;5;183m\u001b[38;5;147m-\u001b[0m\u001b[38;5;183m\u001b[38;5;147m-\u001b[0m\u001b[38;5;183m\u001b[38;5;147m-\u001b[0m\u001b[38;5;183m\u001b[38;5;147m-\u001b[0m\u001b[38;5;183m\u001b[38;5;147m-\u001b[0m\u001b[38;5;183m\u001b[38;5;147m-\u001b[0m\u001b[38;5;183m\u001b[38;5;147m-\u001b[0m\u001b[38;5;183m\u001b[38;5;147m-\u001b[0m\u001b[38;5;183m\u001b[38;5;147m-\u001b[0m\u001b[38;5;183m\u001b[38;5;147m-\u001b[0m\u001b[38;5;183m\u001b[38;5;147m-\u001b[0m\u001b[38;5;183m\u001b[38;5;147m-\u001b[0m\u001b[38;5;183m\u001b[38;5;147m-\u001b[0m\u001b[38;5;183m\u001b[38;5;147m-\u001b[0m\u001b[38;5;183m\u001b[38;5;147m-\u001b[0m\u001b[38;5;183m\u001b[38;5;147m-\u001b[0m\u001b[38;5;183m\u001b[38;5;147m-\u001b[0m\u001b[38;5;183m\u001b[38;5;147m-\u001b[0m\u001b[38;5;183m\u001b[38;5;147m-\u001b[0m\u001b[38;5;183m\u001b[38;5;147m-\u001b[0m\u001b[38;5;183m\u001b[38;5;147m-\u001b[0m\u001b[38;5;183m\u001b[38;5;147m-\u001b[0m\u001b[38;5;183m\u001b[38;5;147m-\u001b[0m\u001b[38;5;183m\u001b[38;5;147m-\u001b[0m\u001b[38;5;183m\u001b[38;5;147m-\u001b[0m\u001b[38;5;183m\u001b[38;5;147m-\u001b[0m\u001b[38;5;183m\u001b[38;5;147m-\u001b[0m\u001b[38;5;183m\u001b[38;5;219m+\u001b[0m\u001b[38;5;183m\u001b[38;5;147m-\u001b[0m\u001b[38;5;183m\u001b[38;5;147m-\u001b[0m\u001b[38;5;183m\u001b[38;5;147m-\u001b[0m\u001b[38;5;183m\u001b[38;5;147m-\u001b[0m\u001b[38;5;183m\u001b[38;5;147m-\u001b[0m\u001b[38;5;183m\u001b[38;5;147m-\u001b[0m\u001b[38;5;183m\u001b[38;5;147m-\u001b[0m\u001b[38;5;183m\u001b[38;5;147m-\u001b[0m\u001b[38;5;183m\u001b[38;5;147m-\u001b[0m\u001b[38;5;183m\u001b[38;5;147m-\u001b[0m\u001b[38;5;183m\u001b[38;5;147m-\u001b[0m\u001b[38;5;183m\u001b[38;5;147m-\u001b[0m\u001b[38;5;183m\u001b[38;5;147m-\u001b[0m\u001b[38;5;183m\u001b[38;5;147m-\u001b[0m\u001b[38;5;183m\u001b[38;5;147m-\u001b[0m\u001b[38;5;183m\u001b[38;5;147m-\u001b[0m\u001b[38;5;183m\u001b[38;5;147m-\u001b[0m\u001b[38;5;183m\u001b[38;5;147m-\u001b[0m\u001b[38;5;183m\u001b[38;5;147m-\u001b[0m\u001b[38;5;183m\u001b[38;5;147m-\u001b[0m\u001b[38;5;183m\u001b[38;5;147m-\u001b[0m\u001b[38;5;183m\u001b[38;5;147m-\u001b[0m\u001b[38;5;183m\u001b[38;5;147m-\u001b[0m\u001b[38;5;183m\u001b[38;5;147m-\u001b[0m\u001b[38;5;183m\u001b[38;5;147m-\u001b[0m\u001b[38;5;183m\u001b[38;5;147m-\u001b[0m\u001b[38;5;183m\u001b[38;5;147m-\u001b[0m\u001b[38;5;183m\u001b[38;5;147m-\u001b[0m\u001b[38;5;183m\u001b[38;5;147m-\u001b[0m\u001b[38;5;183m\u001b[38;5;147m-\u001b[0m\u001b[38;5;183m\u001b[38;5;147m-\u001b[0m\u001b[38;5;183m\u001b[38;5;147m-\u001b[0m\u001b[38;5;183m\u001b[38;5;147m-\u001b[0m\u001b[38;5;183m\u001b[38;5;147m-\u001b[0m\u001b[38;5;183m\u001b[38;5;147m-\u001b[0m\u001b[38;5;183m\u001b[38;5;147m-\u001b[0m\u001b[38;5;183m\u001b[38;5;147m-\u001b[0m\u001b[38;5;183m\u001b[38;5;147m-\u001b[0m\u001b[38;5;183m\u001b[38;5;147m-\u001b[0m\u001b[38;5;183m\u001b[38;5;147m-\u001b[0m\u001b[38;5;183m\u001b[38;5;147m-\u001b[0m\u001b[38;5;183m\u001b[38;5;147m-\u001b[0m\u001b[38;5;183m\u001b[38;5;147m-\u001b[0m\u001b[38;5;183m\u001b[38;5;147m-\u001b[0m\u001b[38;5;183m\u001b[38;5;147m-\u001b[0m\u001b[38;5;183m\u001b[38;5;147m-\u001b[0m\u001b[38;5;183m\u001b[38;5;147m-\u001b[0m\u001b[38;5;183m\u001b[38;5;147m-\u001b[0m\u001b[38;5;183m\u001b[38;5;147m-\u001b[0m\u001b[38;5;183m\u001b[38;5;147m-\u001b[0m\u001b[38;5;183m\u001b[38;5;147m-\u001b[0m\u001b[38;5;183m\u001b[38;5;147m-\u001b[0m\u001b[38;5;183m\u001b[38;5;147m-\u001b[0m\u001b[38;5;183m\u001b[38;5;147m-\u001b[0m\u001b[38;5;183m\u001b[38;5;147m-\u001b[0m\u001b[38;5;183m\u001b[38;5;147m-\u001b[0m\u001b[38;5;183m\u001b[38;5;147m-\u001b[0m\u001b[38;5;183m\u001b[38;5;147m-\u001b[0m\u001b[38;5;183m\u001b[38;5;219m+\u001b[0m\u001b[38;5;183m\u001b[38;5;147m-\u001b[0m\u001b[38;5;183m\u001b[38;5;147m-\u001b[0m\u001b[38;5;183m\u001b[38;5;147m-\u001b[0m\u001b[38;5;183m\u001b[38;5;147m-\u001b[0m\u001b[38;5;183m\u001b[38;5;147m-\u001b[0m\u001b[38;5;183m\u001b[38;5;147m-\u001b[0m\u001b[38;5;183m\u001b[38;5;147m-\u001b[0m\u001b[38;5;183m\u001b[38;5;147m-\u001b[0m\u001b[38;5;183m\u001b[38;5;147m-\u001b[0m\u001b[38;5;183m\u001b[38;5;147m-\u001b[0m\u001b[38;5;183m\u001b[38;5;147m-\u001b[0m\u001b[38;5;183m\u001b[38;5;147m-\u001b[0m\u001b[38;5;183m\u001b[38;5;147m-\u001b[0m\u001b[38;5;183m\u001b[38;5;147m-\u001b[0m\u001b[38;5;183m\u001b[38;5;147m-\u001b[0m\u001b[38;5;183m\u001b[38;5;147m-\u001b[0m\u001b[38;5;183m\u001b[38;5;147m-\u001b[0m\u001b[38;5;183m\u001b[38;5;147m-\u001b[0m\u001b[38;5;183m\u001b[38;5;147m-\u001b[0m\u001b[38;5;183m\u001b[38;5;147m-\u001b[0m\u001b[38;5;183m\u001b[38;5;147m-\u001b[0m\u001b[38;5;183m\u001b[38;5;219m+\u001b[0m\u001b[38;5;183m\u001b[38;5;147m-\u001b[0m\u001b[38;5;183m\u001b[38;5;147m-\u001b[0m\u001b[38;5;183m\u001b[38;5;147m-\u001b[0m\u001b[38;5;183m\u001b[38;5;147m-\u001b[0m\u001b[38;5;183m\u001b[38;5;147m-\u001b[0m\u001b[38;5;183m\u001b[38;5;147m-\u001b[0m\u001b[38;5;183m\u001b[38;5;147m-\u001b[0m\u001b[38;5;183m\u001b[38;5;147m-\u001b[0m\u001b[38;5;183m\u001b[38;5;147m-\u001b[0m\u001b[38;5;183m\u001b[38;5;147m-\u001b[0m\u001b[38;5;183m\u001b[38;5;147m-\u001b[0m\u001b[38;5;183m\u001b[38;5;147m-\u001b[0m\u001b[38;5;183m\u001b[38;5;147m-\u001b[0m\u001b[38;5;183m\u001b[38;5;147m-\u001b[0m\u001b[38;5;183m\u001b[38;5;147m-\u001b[0m\u001b[38;5;183m\u001b[38;5;147m-\u001b[0m\u001b[38;5;183m\u001b[38;5;147m-\u001b[0m\u001b[38;5;183m\u001b[38;5;147m-\u001b[0m\u001b[38;5;183m\u001b[38;5;147m-\u001b[0m\u001b[38;5;183m\u001b[38;5;147m-\u001b[0m\u001b[38;5;183m\u001b[38;5;147m-\u001b[0m\u001b[38;5;183m\u001b[38;5;219m+\u001b[0m\u001b[38;5;183m\u001b[38;5;147m-\u001b[0m\u001b[38;5;183m\u001b[38;5;147m-\u001b[0m\u001b[38;5;183m\u001b[38;5;147m-\u001b[0m\u001b[38;5;183m\u001b[38;5;147m-\u001b[0m\u001b[38;5;183m\u001b[38;5;147m-\u001b[0m\u001b[38;5;183m\u001b[38;5;147m-\u001b[0m\u001b[38;5;183m\u001b[38;5;147m-\u001b[0m\u001b[38;5;183m\u001b[38;5;147m-\u001b[0m\u001b[38;5;183m\u001b[38;5;147m-\u001b[0m\u001b[38;5;183m\u001b[38;5;147m-\u001b[0m\u001b[38;5;183m\u001b[38;5;147m-\u001b[0m\u001b[38;5;183m\u001b[38;5;147m-\u001b[0m\u001b[38;5;183m\u001b[38;5;147m-\u001b[0m\u001b[38;5;183m\u001b[38;5;147m-\u001b[0m\u001b[38;5;183m\u001b[38;5;147m-\u001b[0m\u001b[38;5;183m\u001b[38;5;147m-\u001b[0m\u001b[38;5;183m\u001b[38;5;147m-\u001b[0m\u001b[38;5;183m\u001b[38;5;147m-\u001b[0m\u001b[38;5;183m\u001b[38;5;147m-\u001b[0m\u001b[38;5;183m\u001b[38;5;147m-\u001b[0m\u001b[38;5;183m\u001b[38;5;147m-\u001b[0m\u001b[38;5;183m\u001b[38;5;219m+\u001b[0m\u001b[38;5;183m\u001b[38;5;147m-\u001b[0m\u001b[38;5;183m\u001b[38;5;147m-\u001b[0m\u001b[38;5;183m\u001b[38;5;147m-\u001b[0m\u001b[38;5;183m\u001b[38;5;147m-\u001b[0m\u001b[38;5;183m\u001b[38;5;147m-\u001b[0m\u001b[38;5;183m\u001b[38;5;147m-\u001b[0m\u001b[38;5;183m\u001b[38;5;147m-\u001b[0m\u001b[38;5;183m\u001b[38;5;147m-\u001b[0m\u001b[38;5;183m\u001b[38;5;147m-\u001b[0m\u001b[38;5;183m\u001b[38;5;147m-\u001b[0m\u001b[38;5;183m\u001b[38;5;147m-\u001b[0m\u001b[38;5;183m\u001b[38;5;147m-\u001b[0m\u001b[38;5;183m\u001b[38;5;147m-\u001b[0m\u001b[38;5;183m\u001b[38;5;147m-\u001b[0m\u001b[38;5;183m\u001b[38;5;147m-\u001b[0m\u001b[38;5;183m\u001b[38;5;147m-\u001b[0m\u001b[38;5;183m\u001b[38;5;147m-\u001b[0m\u001b[38;5;183m\u001b[38;5;147m-\u001b[0m\u001b[38;5;183m\u001b[38;5;147m-\u001b[0m\u001b[38;5;183m\u001b[38;5;147m-\u001b[0m\u001b[38;5;183m\u001b[38;5;147m-\u001b[0m\u001b[38;5;183m\u001b[38;5;219m+\u001b[0m\u001b[38;5;183m\u001b[38;5;147m-\u001b[0m\u001b[38;5;183m\u001b[38;5;147m-\u001b[0m\u001b[38;5;183m\u001b[38;5;147m-\u001b[0m\u001b[38;5;183m\u001b[38;5;147m-\u001b[0m\u001b[38;5;183m\u001b[38;5;147m-\u001b[0m\u001b[38;5;183m\u001b[38;5;147m-\u001b[0m\u001b[38;5;183m\u001b[38;5;147m-\u001b[0m\u001b[38;5;183m\u001b[38;5;147m-\u001b[0m\u001b[38;5;183m\u001b[38;5;147m-\u001b[0m\u001b[38;5;183m\u001b[38;5;147m-\u001b[0m\u001b[38;5;183m\u001b[38;5;147m-\u001b[0m\u001b[38;5;183m\u001b[38;5;147m-\u001b[0m\u001b[38;5;183m\u001b[38;5;147m-\u001b[0m\u001b[38;5;183m\u001b[38;5;147m-\u001b[0m\u001b[38;5;183m\u001b[38;5;147m-\u001b[0m\u001b[38;5;183m\u001b[38;5;147m-\u001b[0m\u001b[38;5;183m\u001b[38;5;147m-\u001b[0m\u001b[38;5;183m\u001b[38;5;147m-\u001b[0m\u001b[38;5;183m\u001b[38;5;147m-\u001b[0m\u001b[38;5;183m\u001b[38;5;147m-\u001b[0m\u001b[38;5;183m\u001b[38;5;147m-\u001b[0m\u001b[38;5;183m\u001b[38;5;219m+\u001b[0m\u001b[38;5;183m\n",
      "\u001b[35m|\u001b[0m\u001b[38;5;183m                  Algorithme                 \u001b[35m|\u001b[0m\u001b[38;5;183m                     Hyperparamètres                      \u001b[35m|\u001b[0m\u001b[38;5;183m       Macro f1      \u001b[35m|\u001b[0m\u001b[38;5;183m       Accuracy      \u001b[35m|\u001b[0m\u001b[38;5;183m      Precision      \u001b[35m|\u001b[0m\u001b[38;5;183m        Rappel       \u001b[35m|\u001b[0m\u001b[38;5;183m  Temps d'exécution  \u001b[35m|\u001b[0m\u001b[38;5;183m\n",
      "\u001b[38;5;219m+\u001b[0m\u001b[38;5;183m\u001b[38;5;147m-\u001b[0m\u001b[38;5;183m\u001b[38;5;147m-\u001b[0m\u001b[38;5;183m\u001b[38;5;147m-\u001b[0m\u001b[38;5;183m\u001b[38;5;147m-\u001b[0m\u001b[38;5;183m\u001b[38;5;147m-\u001b[0m\u001b[38;5;183m\u001b[38;5;147m-\u001b[0m\u001b[38;5;183m\u001b[38;5;147m-\u001b[0m\u001b[38;5;183m\u001b[38;5;147m-\u001b[0m\u001b[38;5;183m\u001b[38;5;147m-\u001b[0m\u001b[38;5;183m\u001b[38;5;147m-\u001b[0m\u001b[38;5;183m\u001b[38;5;147m-\u001b[0m\u001b[38;5;183m\u001b[38;5;147m-\u001b[0m\u001b[38;5;183m\u001b[38;5;147m-\u001b[0m\u001b[38;5;183m\u001b[38;5;147m-\u001b[0m\u001b[38;5;183m\u001b[38;5;147m-\u001b[0m\u001b[38;5;183m\u001b[38;5;147m-\u001b[0m\u001b[38;5;183m\u001b[38;5;147m-\u001b[0m\u001b[38;5;183m\u001b[38;5;147m-\u001b[0m\u001b[38;5;183m\u001b[38;5;147m-\u001b[0m\u001b[38;5;183m\u001b[38;5;147m-\u001b[0m\u001b[38;5;183m\u001b[38;5;147m-\u001b[0m\u001b[38;5;183m\u001b[38;5;147m-\u001b[0m\u001b[38;5;183m\u001b[38;5;147m-\u001b[0m\u001b[38;5;183m\u001b[38;5;147m-\u001b[0m\u001b[38;5;183m\u001b[38;5;147m-\u001b[0m\u001b[38;5;183m\u001b[38;5;147m-\u001b[0m\u001b[38;5;183m\u001b[38;5;147m-\u001b[0m\u001b[38;5;183m\u001b[38;5;147m-\u001b[0m\u001b[38;5;183m\u001b[38;5;147m-\u001b[0m\u001b[38;5;183m\u001b[38;5;147m-\u001b[0m\u001b[38;5;183m\u001b[38;5;147m-\u001b[0m\u001b[38;5;183m\u001b[38;5;147m-\u001b[0m\u001b[38;5;183m\u001b[38;5;147m-\u001b[0m\u001b[38;5;183m\u001b[38;5;147m-\u001b[0m\u001b[38;5;183m\u001b[38;5;147m-\u001b[0m\u001b[38;5;183m\u001b[38;5;147m-\u001b[0m\u001b[38;5;183m\u001b[38;5;147m-\u001b[0m\u001b[38;5;183m\u001b[38;5;147m-\u001b[0m\u001b[38;5;183m\u001b[38;5;147m-\u001b[0m\u001b[38;5;183m\u001b[38;5;147m-\u001b[0m\u001b[38;5;183m\u001b[38;5;147m-\u001b[0m\u001b[38;5;183m\u001b[38;5;147m-\u001b[0m\u001b[38;5;183m\u001b[38;5;147m-\u001b[0m\u001b[38;5;183m\u001b[38;5;147m-\u001b[0m\u001b[38;5;183m\u001b[38;5;147m-\u001b[0m\u001b[38;5;183m\u001b[38;5;219m+\u001b[0m\u001b[38;5;183m\u001b[38;5;147m-\u001b[0m\u001b[38;5;183m\u001b[38;5;147m-\u001b[0m\u001b[38;5;183m\u001b[38;5;147m-\u001b[0m\u001b[38;5;183m\u001b[38;5;147m-\u001b[0m\u001b[38;5;183m\u001b[38;5;147m-\u001b[0m\u001b[38;5;183m\u001b[38;5;147m-\u001b[0m\u001b[38;5;183m\u001b[38;5;147m-\u001b[0m\u001b[38;5;183m\u001b[38;5;147m-\u001b[0m\u001b[38;5;183m\u001b[38;5;147m-\u001b[0m\u001b[38;5;183m\u001b[38;5;147m-\u001b[0m\u001b[38;5;183m\u001b[38;5;147m-\u001b[0m\u001b[38;5;183m\u001b[38;5;147m-\u001b[0m\u001b[38;5;183m\u001b[38;5;147m-\u001b[0m\u001b[38;5;183m\u001b[38;5;147m-\u001b[0m\u001b[38;5;183m\u001b[38;5;147m-\u001b[0m\u001b[38;5;183m\u001b[38;5;147m-\u001b[0m\u001b[38;5;183m\u001b[38;5;147m-\u001b[0m\u001b[38;5;183m\u001b[38;5;147m-\u001b[0m\u001b[38;5;183m\u001b[38;5;147m-\u001b[0m\u001b[38;5;183m\u001b[38;5;147m-\u001b[0m\u001b[38;5;183m\u001b[38;5;147m-\u001b[0m\u001b[38;5;183m\u001b[38;5;147m-\u001b[0m\u001b[38;5;183m\u001b[38;5;147m-\u001b[0m\u001b[38;5;183m\u001b[38;5;147m-\u001b[0m\u001b[38;5;183m\u001b[38;5;147m-\u001b[0m\u001b[38;5;183m\u001b[38;5;147m-\u001b[0m\u001b[38;5;183m\u001b[38;5;147m-\u001b[0m\u001b[38;5;183m\u001b[38;5;147m-\u001b[0m\u001b[38;5;183m\u001b[38;5;147m-\u001b[0m\u001b[38;5;183m\u001b[38;5;147m-\u001b[0m\u001b[38;5;183m\u001b[38;5;147m-\u001b[0m\u001b[38;5;183m\u001b[38;5;147m-\u001b[0m\u001b[38;5;183m\u001b[38;5;147m-\u001b[0m\u001b[38;5;183m\u001b[38;5;147m-\u001b[0m\u001b[38;5;183m\u001b[38;5;147m-\u001b[0m\u001b[38;5;183m\u001b[38;5;147m-\u001b[0m\u001b[38;5;183m\u001b[38;5;147m-\u001b[0m\u001b[38;5;183m\u001b[38;5;147m-\u001b[0m\u001b[38;5;183m\u001b[38;5;147m-\u001b[0m\u001b[38;5;183m\u001b[38;5;147m-\u001b[0m\u001b[38;5;183m\u001b[38;5;147m-\u001b[0m\u001b[38;5;183m\u001b[38;5;147m-\u001b[0m\u001b[38;5;183m\u001b[38;5;147m-\u001b[0m\u001b[38;5;183m\u001b[38;5;147m-\u001b[0m\u001b[38;5;183m\u001b[38;5;147m-\u001b[0m\u001b[38;5;183m\u001b[38;5;147m-\u001b[0m\u001b[38;5;183m\u001b[38;5;147m-\u001b[0m\u001b[38;5;183m\u001b[38;5;147m-\u001b[0m\u001b[38;5;183m\u001b[38;5;147m-\u001b[0m\u001b[38;5;183m\u001b[38;5;147m-\u001b[0m\u001b[38;5;183m\u001b[38;5;147m-\u001b[0m\u001b[38;5;183m\u001b[38;5;147m-\u001b[0m\u001b[38;5;183m\u001b[38;5;147m-\u001b[0m\u001b[38;5;183m\u001b[38;5;147m-\u001b[0m\u001b[38;5;183m\u001b[38;5;147m-\u001b[0m\u001b[38;5;183m\u001b[38;5;147m-\u001b[0m\u001b[38;5;183m\u001b[38;5;147m-\u001b[0m\u001b[38;5;183m\u001b[38;5;147m-\u001b[0m\u001b[38;5;183m\u001b[38;5;219m+\u001b[0m\u001b[38;5;183m\u001b[38;5;147m-\u001b[0m\u001b[38;5;183m\u001b[38;5;147m-\u001b[0m\u001b[38;5;183m\u001b[38;5;147m-\u001b[0m\u001b[38;5;183m\u001b[38;5;147m-\u001b[0m\u001b[38;5;183m\u001b[38;5;147m-\u001b[0m\u001b[38;5;183m\u001b[38;5;147m-\u001b[0m\u001b[38;5;183m\u001b[38;5;147m-\u001b[0m\u001b[38;5;183m\u001b[38;5;147m-\u001b[0m\u001b[38;5;183m\u001b[38;5;147m-\u001b[0m\u001b[38;5;183m\u001b[38;5;147m-\u001b[0m\u001b[38;5;183m\u001b[38;5;147m-\u001b[0m\u001b[38;5;183m\u001b[38;5;147m-\u001b[0m\u001b[38;5;183m\u001b[38;5;147m-\u001b[0m\u001b[38;5;183m\u001b[38;5;147m-\u001b[0m\u001b[38;5;183m\u001b[38;5;147m-\u001b[0m\u001b[38;5;183m\u001b[38;5;147m-\u001b[0m\u001b[38;5;183m\u001b[38;5;147m-\u001b[0m\u001b[38;5;183m\u001b[38;5;147m-\u001b[0m\u001b[38;5;183m\u001b[38;5;147m-\u001b[0m\u001b[38;5;183m\u001b[38;5;147m-\u001b[0m\u001b[38;5;183m\u001b[38;5;147m-\u001b[0m\u001b[38;5;183m\u001b[38;5;219m+\u001b[0m\u001b[38;5;183m\u001b[38;5;147m-\u001b[0m\u001b[38;5;183m\u001b[38;5;147m-\u001b[0m\u001b[38;5;183m\u001b[38;5;147m-\u001b[0m\u001b[38;5;183m\u001b[38;5;147m-\u001b[0m\u001b[38;5;183m\u001b[38;5;147m-\u001b[0m\u001b[38;5;183m\u001b[38;5;147m-\u001b[0m\u001b[38;5;183m\u001b[38;5;147m-\u001b[0m\u001b[38;5;183m\u001b[38;5;147m-\u001b[0m\u001b[38;5;183m\u001b[38;5;147m-\u001b[0m\u001b[38;5;183m\u001b[38;5;147m-\u001b[0m\u001b[38;5;183m\u001b[38;5;147m-\u001b[0m\u001b[38;5;183m\u001b[38;5;147m-\u001b[0m\u001b[38;5;183m\u001b[38;5;147m-\u001b[0m\u001b[38;5;183m\u001b[38;5;147m-\u001b[0m\u001b[38;5;183m\u001b[38;5;147m-\u001b[0m\u001b[38;5;183m\u001b[38;5;147m-\u001b[0m\u001b[38;5;183m\u001b[38;5;147m-\u001b[0m\u001b[38;5;183m\u001b[38;5;147m-\u001b[0m\u001b[38;5;183m\u001b[38;5;147m-\u001b[0m\u001b[38;5;183m\u001b[38;5;147m-\u001b[0m\u001b[38;5;183m\u001b[38;5;147m-\u001b[0m\u001b[38;5;183m\u001b[38;5;219m+\u001b[0m\u001b[38;5;183m\u001b[38;5;147m-\u001b[0m\u001b[38;5;183m\u001b[38;5;147m-\u001b[0m\u001b[38;5;183m\u001b[38;5;147m-\u001b[0m\u001b[38;5;183m\u001b[38;5;147m-\u001b[0m\u001b[38;5;183m\u001b[38;5;147m-\u001b[0m\u001b[38;5;183m\u001b[38;5;147m-\u001b[0m\u001b[38;5;183m\u001b[38;5;147m-\u001b[0m\u001b[38;5;183m\u001b[38;5;147m-\u001b[0m\u001b[38;5;183m\u001b[38;5;147m-\u001b[0m\u001b[38;5;183m\u001b[38;5;147m-\u001b[0m\u001b[38;5;183m\u001b[38;5;147m-\u001b[0m\u001b[38;5;183m\u001b[38;5;147m-\u001b[0m\u001b[38;5;183m\u001b[38;5;147m-\u001b[0m\u001b[38;5;183m\u001b[38;5;147m-\u001b[0m\u001b[38;5;183m\u001b[38;5;147m-\u001b[0m\u001b[38;5;183m\u001b[38;5;147m-\u001b[0m\u001b[38;5;183m\u001b[38;5;147m-\u001b[0m\u001b[38;5;183m\u001b[38;5;147m-\u001b[0m\u001b[38;5;183m\u001b[38;5;147m-\u001b[0m\u001b[38;5;183m\u001b[38;5;147m-\u001b[0m\u001b[38;5;183m\u001b[38;5;147m-\u001b[0m\u001b[38;5;183m\u001b[38;5;219m+\u001b[0m\u001b[38;5;183m\u001b[38;5;147m-\u001b[0m\u001b[38;5;183m\u001b[38;5;147m-\u001b[0m\u001b[38;5;183m\u001b[38;5;147m-\u001b[0m\u001b[38;5;183m\u001b[38;5;147m-\u001b[0m\u001b[38;5;183m\u001b[38;5;147m-\u001b[0m\u001b[38;5;183m\u001b[38;5;147m-\u001b[0m\u001b[38;5;183m\u001b[38;5;147m-\u001b[0m\u001b[38;5;183m\u001b[38;5;147m-\u001b[0m\u001b[38;5;183m\u001b[38;5;147m-\u001b[0m\u001b[38;5;183m\u001b[38;5;147m-\u001b[0m\u001b[38;5;183m\u001b[38;5;147m-\u001b[0m\u001b[38;5;183m\u001b[38;5;147m-\u001b[0m\u001b[38;5;183m\u001b[38;5;147m-\u001b[0m\u001b[38;5;183m\u001b[38;5;147m-\u001b[0m\u001b[38;5;183m\u001b[38;5;147m-\u001b[0m\u001b[38;5;183m\u001b[38;5;147m-\u001b[0m\u001b[38;5;183m\u001b[38;5;147m-\u001b[0m\u001b[38;5;183m\u001b[38;5;147m-\u001b[0m\u001b[38;5;183m\u001b[38;5;147m-\u001b[0m\u001b[38;5;183m\u001b[38;5;147m-\u001b[0m\u001b[38;5;183m\u001b[38;5;147m-\u001b[0m\u001b[38;5;183m\u001b[38;5;219m+\u001b[0m\u001b[38;5;183m\u001b[38;5;147m-\u001b[0m\u001b[38;5;183m\u001b[38;5;147m-\u001b[0m\u001b[38;5;183m\u001b[38;5;147m-\u001b[0m\u001b[38;5;183m\u001b[38;5;147m-\u001b[0m\u001b[38;5;183m\u001b[38;5;147m-\u001b[0m\u001b[38;5;183m\u001b[38;5;147m-\u001b[0m\u001b[38;5;183m\u001b[38;5;147m-\u001b[0m\u001b[38;5;183m\u001b[38;5;147m-\u001b[0m\u001b[38;5;183m\u001b[38;5;147m-\u001b[0m\u001b[38;5;183m\u001b[38;5;147m-\u001b[0m\u001b[38;5;183m\u001b[38;5;147m-\u001b[0m\u001b[38;5;183m\u001b[38;5;147m-\u001b[0m\u001b[38;5;183m\u001b[38;5;147m-\u001b[0m\u001b[38;5;183m\u001b[38;5;147m-\u001b[0m\u001b[38;5;183m\u001b[38;5;147m-\u001b[0m\u001b[38;5;183m\u001b[38;5;147m-\u001b[0m\u001b[38;5;183m\u001b[38;5;147m-\u001b[0m\u001b[38;5;183m\u001b[38;5;147m-\u001b[0m\u001b[38;5;183m\u001b[38;5;147m-\u001b[0m\u001b[38;5;183m\u001b[38;5;147m-\u001b[0m\u001b[38;5;183m\u001b[38;5;147m-\u001b[0m\u001b[38;5;183m\u001b[38;5;219m+\u001b[0m\u001b[38;5;183m\n",
      "\u001b[35m|\u001b[0m\u001b[38;5;183m  PassiveAggressiveClassifier_on_new_split_1 \u001b[35m|\u001b[0m\u001b[38;5;183m            PassiveAggressiveClassifier(C=0.5)            \u001b[35m|\u001b[0m\u001b[38;5;183m  0.3547688383231275 \u001b[35m|\u001b[0m\u001b[38;5;183m 0.42076251722553976 \u001b[35m|\u001b[0m\u001b[38;5;183m  0.3819103268239181 \u001b[35m|\u001b[0m\u001b[38;5;183m  0.3481147876690841 \u001b[35m|\u001b[0m\u001b[38;5;183m  0.8894126415252686 \u001b[35m|\u001b[0m\u001b[38;5;183m\n",
      "\u001b[35m|\u001b[0m\u001b[38;5;183m  PassiveAggressiveClassifier_on_new_split_2 \u001b[35m|\u001b[0m\u001b[38;5;183m PassiveAggressiveClassifier(C=0.5, loss='squared_hinge') \u001b[35m|\u001b[0m\u001b[38;5;183m  0.3541263604436482 \u001b[35m|\u001b[0m\u001b[38;5;183m 0.41770019905068134 \u001b[35m|\u001b[0m\u001b[38;5;183m 0.37972030199008294 \u001b[35m|\u001b[0m\u001b[38;5;183m  0.3472901202670457 \u001b[35m|\u001b[0m\u001b[38;5;183m  1.2080118656158447 \u001b[35m|\u001b[0m\u001b[38;5;183m\n",
      "\u001b[35m|\u001b[0m\u001b[38;5;183m  PassiveAggressiveClassifier_on_new_split_4 \u001b[35m|\u001b[0m\u001b[38;5;183m    PassiveAggressiveClassifier(loss='squared_hinge')     \u001b[35m|\u001b[0m\u001b[38;5;183m  0.3538411920377239 \u001b[35m|\u001b[0m\u001b[38;5;183m 0.41831266268565304 \u001b[35m|\u001b[0m\u001b[38;5;183m  0.3791963829207453 \u001b[35m|\u001b[0m\u001b[38;5;183m 0.34739161952960285 \u001b[35m|\u001b[0m\u001b[38;5;183m  0.9645285606384277 \u001b[35m|\u001b[0m\u001b[38;5;183m\n",
      "\u001b[35m|\u001b[0m\u001b[38;5;183m  PassiveAggressiveClassifier_on_new_split_3 \u001b[35m|\u001b[0m\u001b[38;5;183m              PassiveAggressiveClassifier()               \u001b[35m|\u001b[0m\u001b[38;5;183m 0.35227362636654747 \u001b[35m|\u001b[0m\u001b[38;5;183m  0.4172408513244526 \u001b[35m|\u001b[0m\u001b[38;5;183m  0.378080804815243  \u001b[35m|\u001b[0m\u001b[38;5;183m 0.34582770657751344 \u001b[35m|\u001b[0m\u001b[38;5;183m  0.7766287326812744 \u001b[35m|\u001b[0m\u001b[38;5;183m\n",
      "\u001b[35m|\u001b[0m\u001b[38;5;183m  balanced_up_PassiveAggressiveClassifier_1  \u001b[35m|\u001b[0m\u001b[38;5;183m            PassiveAggressiveClassifier(C=0.5)            \u001b[35m|\u001b[0m\u001b[38;5;183m 0.35094318728675933 \u001b[35m|\u001b[0m\u001b[38;5;183m 0.39003673094582186 \u001b[35m|\u001b[0m\u001b[38;5;183m 0.35323691000267876 \u001b[35m|\u001b[0m\u001b[38;5;183m  0.3510058272860245 \u001b[35m|\u001b[0m\u001b[38;5;183m  1.0115983486175537 \u001b[35m|\u001b[0m\u001b[38;5;183m\n",
      "\u001b[35m|\u001b[0m\u001b[38;5;183m  balanced_up_PassiveAggressiveClassifier_4  \u001b[35m|\u001b[0m\u001b[38;5;183m    PassiveAggressiveClassifier(loss='squared_hinge')     \u001b[35m|\u001b[0m\u001b[38;5;183m  0.350571513299591  \u001b[35m|\u001b[0m\u001b[38;5;183m 0.39026629935720847 \u001b[35m|\u001b[0m\u001b[38;5;183m   0.35245491189453  \u001b[35m|\u001b[0m\u001b[38;5;183m 0.35095780851724717 \u001b[35m|\u001b[0m\u001b[38;5;183m  0.9673442840576172 \u001b[35m|\u001b[0m\u001b[38;5;183m\n",
      "\u001b[35m|\u001b[0m\u001b[38;5;183m  balanced_up_PassiveAggressiveClassifier_3  \u001b[35m|\u001b[0m\u001b[38;5;183m              PassiveAggressiveClassifier()               \u001b[35m|\u001b[0m\u001b[38;5;183m 0.35047370697858343 \u001b[35m|\u001b[0m\u001b[38;5;183m  0.390495867768595  \u001b[35m|\u001b[0m\u001b[38;5;183m  0.3529020748715463 \u001b[35m|\u001b[0m\u001b[38;5;183m  0.3504660482685419 \u001b[35m|\u001b[0m\u001b[38;5;183m  0.8413610458374023 \u001b[35m|\u001b[0m\u001b[38;5;183m\n",
      "\u001b[35m|\u001b[0m\u001b[38;5;183m  balanced_up_PassiveAggressiveClassifier_2  \u001b[35m|\u001b[0m\u001b[38;5;183m PassiveAggressiveClassifier(C=0.5, loss='squared_hinge') \u001b[35m|\u001b[0m\u001b[38;5;183m 0.35028134686926243 \u001b[35m|\u001b[0m\u001b[38;5;183m 0.38957759412304865 \u001b[35m|\u001b[0m\u001b[38;5;183m  0.3523488746360397 \u001b[35m|\u001b[0m\u001b[38;5;183m 0.35051698695719724 \u001b[35m|\u001b[0m\u001b[38;5;183m  1.1087706089019775 \u001b[35m|\u001b[0m\u001b[38;5;183m\n",
      "\u001b[35m|\u001b[0m\u001b[38;5;183m           balanced_up_LinearSVC_1           \u001b[35m|\u001b[0m\u001b[38;5;183m               LinearSVC(C=0.5, dual=True)                \u001b[35m|\u001b[0m\u001b[38;5;183m 0.34978977868852545 \u001b[35m|\u001b[0m\u001b[38;5;183m 0.37993572084481175 \u001b[35m|\u001b[0m\u001b[38;5;183m  0.3449777200274905 \u001b[35m|\u001b[0m\u001b[38;5;183m  0.3577038331219887 \u001b[35m|\u001b[0m\u001b[38;5;183m  1.9687814712524414 \u001b[35m|\u001b[0m\u001b[38;5;183m\n",
      "\u001b[35m|\u001b[0m\u001b[38;5;183m           balanced_up_LinearSVC_1           \u001b[35m|\u001b[0m\u001b[38;5;183m               LinearSVC(C=0.5, dual=True)                \u001b[35m|\u001b[0m\u001b[38;5;183m 0.34978977868852545 \u001b[35m|\u001b[0m\u001b[38;5;183m 0.37993572084481175 \u001b[35m|\u001b[0m\u001b[38;5;183m  0.3449777200274905 \u001b[35m|\u001b[0m\u001b[38;5;183m  0.3577038331219887 \u001b[35m|\u001b[0m\u001b[38;5;183m  2.456591844558716  \u001b[35m|\u001b[0m\u001b[38;5;183m\n",
      "\u001b[35m|\u001b[0m\u001b[38;5;183m           balanced_up_LinearSVC_1           \u001b[35m|\u001b[0m\u001b[38;5;183m               LinearSVC(C=0.5, dual=True)                \u001b[35m|\u001b[0m\u001b[38;5;183m 0.34978977868852545 \u001b[35m|\u001b[0m\u001b[38;5;183m 0.37993572084481175 \u001b[35m|\u001b[0m\u001b[38;5;183m  0.3449777200274905 \u001b[35m|\u001b[0m\u001b[38;5;183m  0.3577038331219887 \u001b[35m|\u001b[0m\u001b[38;5;183m  2.8428475856781006 \u001b[35m|\u001b[0m\u001b[38;5;183m\n",
      "\u001b[35m|\u001b[0m\u001b[38;5;183m           balanced_up_LinearSVC_2           \u001b[35m|\u001b[0m\u001b[38;5;183m               LinearSVC(C=0.5, dual=False)               \u001b[35m|\u001b[0m\u001b[38;5;183m  0.3497896449310348 \u001b[35m|\u001b[0m\u001b[38;5;183m 0.37993572084481175 \u001b[35m|\u001b[0m\u001b[38;5;183m 0.34498005922316777 \u001b[35m|\u001b[0m\u001b[38;5;183m  0.3577038331219887 \u001b[35m|\u001b[0m\u001b[38;5;183m  19.81067442893982  \u001b[35m|\u001b[0m\u001b[38;5;183m\n",
      "\u001b[35m|\u001b[0m\u001b[38;5;183m           balanced_up_LinearSVC_2           \u001b[35m|\u001b[0m\u001b[38;5;183m               LinearSVC(C=0.5, dual=False)               \u001b[35m|\u001b[0m\u001b[38;5;183m  0.3497896449310348 \u001b[35m|\u001b[0m\u001b[38;5;183m 0.37993572084481175 \u001b[35m|\u001b[0m\u001b[38;5;183m 0.34498005922316777 \u001b[35m|\u001b[0m\u001b[38;5;183m  0.3577038331219887 \u001b[35m|\u001b[0m\u001b[38;5;183m  22.590319633483887 \u001b[35m|\u001b[0m\u001b[38;5;183m\n",
      "\u001b[35m|\u001b[0m\u001b[38;5;183m           balanced_up_LinearSVC_2           \u001b[35m|\u001b[0m\u001b[38;5;183m               LinearSVC(C=0.5, dual=False)               \u001b[35m|\u001b[0m\u001b[38;5;183m  0.3497896449310348 \u001b[35m|\u001b[0m\u001b[38;5;183m 0.37993572084481175 \u001b[35m|\u001b[0m\u001b[38;5;183m 0.34498005922316777 \u001b[35m|\u001b[0m\u001b[38;5;183m  0.3577038331219887 \u001b[35m|\u001b[0m\u001b[38;5;183m  22.59908628463745  \u001b[35m|\u001b[0m\u001b[38;5;183m\n",
      "\u001b[35m|\u001b[0m\u001b[38;5;183m         balanced_up_SGDClassifier_2         \u001b[35m|\u001b[0m\u001b[38;5;183m           SGDClassifier(loss='squared_hinge')            \u001b[35m|\u001b[0m\u001b[38;5;183m 0.34864282905331584 \u001b[35m|\u001b[0m\u001b[38;5;183m  0.380050505050505  \u001b[35m|\u001b[0m\u001b[38;5;183m 0.34462065732117375 \u001b[35m|\u001b[0m\u001b[38;5;183m  0.3546511934367228 \u001b[35m|\u001b[0m\u001b[38;5;183m  0.9521689414978027 \u001b[35m|\u001b[0m\u001b[38;5;183m\n",
      "\u001b[35m|\u001b[0m\u001b[38;5;183m         balanced_up_SGDClassifier_2         \u001b[35m|\u001b[0m\u001b[38;5;183m           SGDClassifier(loss='squared_hinge')            \u001b[35m|\u001b[0m\u001b[38;5;183m 0.34863808089378895 \u001b[35m|\u001b[0m\u001b[38;5;183m  0.3798209366391185 \u001b[35m|\u001b[0m\u001b[38;5;183m 0.34402019950904916 \u001b[35m|\u001b[0m\u001b[38;5;183m 0.35617900968639693 \u001b[35m|\u001b[0m\u001b[38;5;183m  0.7787206172943115 \u001b[35m|\u001b[0m\u001b[38;5;183m\n",
      "\u001b[35m|\u001b[0m\u001b[38;5;183m           balanced_up_LinearSVC_4           \u001b[35m|\u001b[0m\u001b[38;5;183m                  LinearSVC(dual=False)                   \u001b[35m|\u001b[0m\u001b[38;5;183m  0.348352890254289  \u001b[35m|\u001b[0m\u001b[38;5;183m 0.38096877869605145 \u001b[35m|\u001b[0m\u001b[38;5;183m 0.34496438666076246 \u001b[35m|\u001b[0m\u001b[38;5;183m  0.3536243144849022 \u001b[35m|\u001b[0m\u001b[38;5;183m  38.824116230010986 \u001b[35m|\u001b[0m\u001b[38;5;183m\n",
      "\u001b[35m|\u001b[0m\u001b[38;5;183m           balanced_up_LinearSVC_4           \u001b[35m|\u001b[0m\u001b[38;5;183m                  LinearSVC(dual=False)                   \u001b[35m|\u001b[0m\u001b[38;5;183m  0.348352890254289  \u001b[35m|\u001b[0m\u001b[38;5;183m 0.38096877869605145 \u001b[35m|\u001b[0m\u001b[38;5;183m 0.34496438666076246 \u001b[35m|\u001b[0m\u001b[38;5;183m  0.3536243144849022 \u001b[35m|\u001b[0m\u001b[38;5;183m  37.584123373031616 \u001b[35m|\u001b[0m\u001b[38;5;183m\n",
      "\u001b[35m|\u001b[0m\u001b[38;5;183m           balanced_up_LinearSVC_4           \u001b[35m|\u001b[0m\u001b[38;5;183m                  LinearSVC(dual=False)                   \u001b[35m|\u001b[0m\u001b[38;5;183m  0.348352890254289  \u001b[35m|\u001b[0m\u001b[38;5;183m 0.38096877869605145 \u001b[35m|\u001b[0m\u001b[38;5;183m 0.34496438666076246 \u001b[35m|\u001b[0m\u001b[38;5;183m  0.3536243144849022 \u001b[35m|\u001b[0m\u001b[38;5;183m  35.79726433753967  \u001b[35m|\u001b[0m\u001b[38;5;183m\n",
      "\u001b[35m|\u001b[0m\u001b[38;5;183m           balanced_up_LinearSVC_3           \u001b[35m|\u001b[0m\u001b[38;5;183m                   LinearSVC(dual=True)                   \u001b[35m|\u001b[0m\u001b[38;5;183m 0.34834803712033974 \u001b[35m|\u001b[0m\u001b[38;5;183m 0.38096877869605145 \u001b[35m|\u001b[0m\u001b[38;5;183m 0.34495252951005384 \u001b[35m|\u001b[0m\u001b[38;5;183m  0.3536243144849022 \u001b[35m|\u001b[0m\u001b[38;5;183m  2.8024649620056152 \u001b[35m|\u001b[0m\u001b[38;5;183m\n",
      "\u001b[35m|\u001b[0m\u001b[38;5;183m           balanced_up_LinearSVC_3           \u001b[35m|\u001b[0m\u001b[38;5;183m                   LinearSVC(dual=True)                   \u001b[35m|\u001b[0m\u001b[38;5;183m 0.34834803712033974 \u001b[35m|\u001b[0m\u001b[38;5;183m 0.38096877869605145 \u001b[35m|\u001b[0m\u001b[38;5;183m 0.34495252951005384 \u001b[35m|\u001b[0m\u001b[38;5;183m  0.3536243144849022 \u001b[35m|\u001b[0m\u001b[38;5;183m  3.133448362350464  \u001b[35m|\u001b[0m\u001b[38;5;183m\n",
      "\u001b[35m|\u001b[0m\u001b[38;5;183m           balanced_up_LinearSVC_3           \u001b[35m|\u001b[0m\u001b[38;5;183m                   LinearSVC(dual=True)                   \u001b[35m|\u001b[0m\u001b[38;5;183m 0.34834803712033974 \u001b[35m|\u001b[0m\u001b[38;5;183m 0.38096877869605145 \u001b[35m|\u001b[0m\u001b[38;5;183m 0.34495252951005384 \u001b[35m|\u001b[0m\u001b[38;5;183m  0.3536243144849022 \u001b[35m|\u001b[0m\u001b[38;5;183m  3.551748275756836  \u001b[35m|\u001b[0m\u001b[38;5;183m\n",
      "\u001b[35m|\u001b[0m\u001b[38;5;183m         balanced_up_SGDClassifier_2         \u001b[35m|\u001b[0m\u001b[38;5;183m           SGDClassifier(loss='squared_hinge')            \u001b[35m|\u001b[0m\u001b[38;5;183m 0.34761634312933654 \u001b[35m|\u001b[0m\u001b[38;5;183m  0.3774104683195592 \u001b[35m|\u001b[0m\u001b[38;5;183m  0.3424433416528426 \u001b[35m|\u001b[0m\u001b[38;5;183m  0.3577302678678675 \u001b[35m|\u001b[0m\u001b[38;5;183m  0.7572197914123535 \u001b[35m|\u001b[0m\u001b[38;5;183m\n",
      "\u001b[35m|\u001b[0m\u001b[38;5;183m           LinearSVC_on_new_split_3          \u001b[35m|\u001b[0m\u001b[38;5;183m                   LinearSVC(dual=True)                   \u001b[35m|\u001b[0m\u001b[38;5;183m 0.34622195726383315 \u001b[35m|\u001b[0m\u001b[38;5;183m 0.42596845812279893 \u001b[35m|\u001b[0m\u001b[38;5;183m  0.4015854890306948 \u001b[35m|\u001b[0m\u001b[38;5;183m  0.3400798983393996 \u001b[35m|\u001b[0m\u001b[38;5;183m  1.6818675994873047 \u001b[35m|\u001b[0m\u001b[38;5;183m\n",
      "\u001b[35m|\u001b[0m\u001b[38;5;183m           LinearSVC_on_new_split_4          \u001b[35m|\u001b[0m\u001b[38;5;183m                  LinearSVC(dual=False)                   \u001b[35m|\u001b[0m\u001b[38;5;183m 0.34620913527202546 \u001b[35m|\u001b[0m\u001b[38;5;183m 0.42596845812279893 \u001b[35m|\u001b[0m\u001b[38;5;183m  0.4014218543040893 \u001b[35m|\u001b[0m\u001b[38;5;183m  0.3400798983393996 \u001b[35m|\u001b[0m\u001b[38;5;183m  24.787702560424805 \u001b[35m|\u001b[0m\u001b[38;5;183m\n",
      "\u001b[35m|\u001b[0m\u001b[38;5;183m        PassiveAggressiveClassifier_2        \u001b[35m|\u001b[0m\u001b[38;5;183m PassiveAggressiveClassifier(C=0.5, loss='squared_hinge') \u001b[35m|\u001b[0m\u001b[38;5;183m  0.3441560154374682 \u001b[35m|\u001b[0m\u001b[38;5;183m 0.41253443526170797 \u001b[35m|\u001b[0m\u001b[38;5;183m  0.3751512361650609 \u001b[35m|\u001b[0m\u001b[38;5;183m 0.33927196371666785 \u001b[35m|\u001b[0m\u001b[38;5;183m  1.0995783805847168 \u001b[35m|\u001b[0m\u001b[38;5;183m\n",
      "\u001b[35m|\u001b[0m\u001b[38;5;183m        PassiveAggressiveClassifier_3        \u001b[35m|\u001b[0m\u001b[38;5;183m              PassiveAggressiveClassifier()               \u001b[35m|\u001b[0m\u001b[38;5;183m 0.34244181913188015 \u001b[35m|\u001b[0m\u001b[38;5;183m  0.4110422405876951 \u001b[35m|\u001b[0m\u001b[38;5;183m  0.3741515430908268 \u001b[35m|\u001b[0m\u001b[38;5;183m 0.33718812824633715 \u001b[35m|\u001b[0m\u001b[38;5;183m  0.8025248050689697 \u001b[35m|\u001b[0m\u001b[38;5;183m\n",
      "\u001b[35m|\u001b[0m\u001b[38;5;183m        PassiveAggressiveClassifier_4        \u001b[35m|\u001b[0m\u001b[38;5;183m    PassiveAggressiveClassifier(loss='squared_hinge')     \u001b[35m|\u001b[0m\u001b[38;5;183m 0.34219127963437673 \u001b[35m|\u001b[0m\u001b[38;5;183m  0.4110422405876951 \u001b[35m|\u001b[0m\u001b[38;5;183m 0.37271933576339034 \u001b[35m|\u001b[0m\u001b[38;5;183m 0.33734563410614377 \u001b[35m|\u001b[0m\u001b[38;5;183m  0.9427523612976074 \u001b[35m|\u001b[0m\u001b[38;5;183m\n",
      "\u001b[35m|\u001b[0m\u001b[38;5;183m        PassiveAggressiveClassifier_1        \u001b[35m|\u001b[0m\u001b[38;5;183m            PassiveAggressiveClassifier(C=0.5)            \u001b[35m|\u001b[0m\u001b[38;5;183m 0.34194258117668874 \u001b[35m|\u001b[0m\u001b[38;5;183m  0.4116161616161616 \u001b[35m|\u001b[0m\u001b[38;5;183m 0.37458933371260306 \u001b[35m|\u001b[0m\u001b[38;5;183m  0.336858635516392  \u001b[35m|\u001b[0m\u001b[38;5;183m  0.8625164031982422 \u001b[35m|\u001b[0m\u001b[38;5;183m\n",
      "\u001b[35m|\u001b[0m\u001b[38;5;183m         SGDClassifier_on_new_split_5        \u001b[35m|\u001b[0m\u001b[38;5;183m                SGDClassifier(alpha=0.01)                 \u001b[35m|\u001b[0m\u001b[38;5;183m 0.34109286791995835 \u001b[35m|\u001b[0m\u001b[38;5;183m  0.4255091103965702 \u001b[35m|\u001b[0m\u001b[38;5;183m 0.39385933150321106 \u001b[35m|\u001b[0m\u001b[38;5;183m  0.3397735105073684 \u001b[35m|\u001b[0m\u001b[38;5;183m  0.5858800411224365 \u001b[35m|\u001b[0m\u001b[38;5;183m\n",
      "\u001b[35m|\u001b[0m\u001b[38;5;183m         SGDClassifier_on_new_split_2        \u001b[35m|\u001b[0m\u001b[38;5;183m           SGDClassifier(loss='squared_hinge')            \u001b[35m|\u001b[0m\u001b[38;5;183m  0.3410484749647864 \u001b[35m|\u001b[0m\u001b[38;5;183m 0.42443729903536975 \u001b[35m|\u001b[0m\u001b[38;5;183m  0.399193901641825  \u001b[35m|\u001b[0m\u001b[38;5;183m 0.33872056493407254 \u001b[35m|\u001b[0m\u001b[38;5;183m  0.7147243022918701 \u001b[35m|\u001b[0m\u001b[38;5;183m\n",
      "\u001b[35m|\u001b[0m\u001b[38;5;183m         SGDClassifier_on_new_split_1        \u001b[35m|\u001b[0m\u001b[38;5;183m                     SGDClassifier()                      \u001b[35m|\u001b[0m\u001b[38;5;183m 0.34063979280624995 \u001b[35m|\u001b[0m\u001b[38;5;183m 0.42841831266268565 \u001b[35m|\u001b[0m\u001b[38;5;183m  0.3976937112487321 \u001b[35m|\u001b[0m\u001b[38;5;183m  0.3409068850864786 \u001b[35m|\u001b[0m\u001b[38;5;183m  1.0686137676239014 \u001b[35m|\u001b[0m\u001b[38;5;183m\n",
      "\u001b[35m|\u001b[0m\u001b[38;5;183m         SGDClassifier_on_new_split_3        \u001b[35m|\u001b[0m\u001b[38;5;183m                SGDClassifier(alpha=0.001)                \u001b[35m|\u001b[0m\u001b[38;5;183m  0.3405060683626296 \u001b[35m|\u001b[0m\u001b[38;5;183m 0.42749961721022817 \u001b[35m|\u001b[0m\u001b[38;5;183m 0.39801695762270023 \u001b[35m|\u001b[0m\u001b[38;5;183m 0.34066613391314327 \u001b[35m|\u001b[0m\u001b[38;5;183m  0.7006800174713135 \u001b[35m|\u001b[0m\u001b[38;5;183m\n",
      "\u001b[35m|\u001b[0m\u001b[38;5;183m         balanced_up_SGDClassifier_1         \u001b[35m|\u001b[0m\u001b[38;5;183m                     SGDClassifier()                      \u001b[35m|\u001b[0m\u001b[38;5;183m 0.33786543646845973 \u001b[35m|\u001b[0m\u001b[38;5;183m  0.3549127640036731 \u001b[35m|\u001b[0m\u001b[38;5;183m  0.3354496654106639 \u001b[35m|\u001b[0m\u001b[38;5;183m 0.36395107077667654 \u001b[35m|\u001b[0m\u001b[38;5;183m  1.1780388355255127 \u001b[35m|\u001b[0m\u001b[38;5;183m\n",
      "\u001b[35m|\u001b[0m\u001b[38;5;183m         balanced_up_SGDClassifier_1         \u001b[35m|\u001b[0m\u001b[38;5;183m                     SGDClassifier()                      \u001b[35m|\u001b[0m\u001b[38;5;183m  0.337742961961514  \u001b[35m|\u001b[0m\u001b[38;5;183m  0.3542240587695133 \u001b[35m|\u001b[0m\u001b[38;5;183m 0.33562657207197927 \u001b[35m|\u001b[0m\u001b[38;5;183m  0.3639655937552404 \u001b[35m|\u001b[0m\u001b[38;5;183m  1.2400407791137695 \u001b[35m|\u001b[0m\u001b[38;5;183m\n",
      "\u001b[35m|\u001b[0m\u001b[38;5;183m         balanced_up_SGDClassifier_1         \u001b[35m|\u001b[0m\u001b[38;5;183m                     SGDClassifier()                      \u001b[35m|\u001b[0m\u001b[38;5;183m 0.33620351720422076 \u001b[35m|\u001b[0m\u001b[38;5;183m  0.3536501377410468 \u001b[35m|\u001b[0m\u001b[38;5;183m 0.33419937634437025 \u001b[35m|\u001b[0m\u001b[38;5;183m 0.36230724699889016 \u001b[35m|\u001b[0m\u001b[38;5;183m  1.2502858638763428 \u001b[35m|\u001b[0m\u001b[38;5;183m\n",
      "\u001b[35m|\u001b[0m\u001b[38;5;183m                 LinearSVC_3                 \u001b[35m|\u001b[0m\u001b[38;5;183m                   LinearSVC(dual=True)                   \u001b[35m|\u001b[0m\u001b[38;5;183m  0.3319172995235483 \u001b[35m|\u001b[0m\u001b[38;5;183m  0.4180440771349862 \u001b[35m|\u001b[0m\u001b[38;5;183m  0.3930365127324806 \u001b[35m|\u001b[0m\u001b[38;5;183m 0.32991101032659575 \u001b[35m|\u001b[0m\u001b[38;5;183m  1.6971030235290527 \u001b[35m|\u001b[0m\u001b[38;5;183m\n",
      "\u001b[35m|\u001b[0m\u001b[38;5;183m                 LinearSVC_4                 \u001b[35m|\u001b[0m\u001b[38;5;183m                  LinearSVC(dual=False)                   \u001b[35m|\u001b[0m\u001b[38;5;183m  0.3319172995235483 \u001b[35m|\u001b[0m\u001b[38;5;183m  0.4180440771349862 \u001b[35m|\u001b[0m\u001b[38;5;183m  0.3930365127324806 \u001b[35m|\u001b[0m\u001b[38;5;183m 0.32991101032659575 \u001b[35m|\u001b[0m\u001b[38;5;183m  18.996681690216064 \u001b[35m|\u001b[0m\u001b[38;5;183m\n",
      "\u001b[35m|\u001b[0m\u001b[38;5;183m         balanced_up_SGDClassifier_4         \u001b[35m|\u001b[0m\u001b[38;5;183m     SGDClassifier(alpha=0.001, loss='squared_hinge')     \u001b[35m|\u001b[0m\u001b[38;5;183m  0.331095266509151  \u001b[35m|\u001b[0m\u001b[38;5;183m  0.3488292011019284 \u001b[35m|\u001b[0m\u001b[38;5;183m  0.3307101552020112 \u001b[35m|\u001b[0m\u001b[38;5;183m 0.36042395284152373 \u001b[35m|\u001b[0m\u001b[38;5;183m  1.2157979011535645 \u001b[35m|\u001b[0m\u001b[38;5;183m\n",
      "\u001b[35m|\u001b[0m\u001b[38;5;183m           LinearSVC_on_new_split_1          \u001b[35m|\u001b[0m\u001b[38;5;183m               LinearSVC(C=0.5, dual=True)                \u001b[35m|\u001b[0m\u001b[38;5;183m  0.3298687699828009 \u001b[35m|\u001b[0m\u001b[38;5;183m 0.42520287857908434 \u001b[35m|\u001b[0m\u001b[38;5;183m  0.4087253401918667 \u001b[35m|\u001b[0m\u001b[38;5;183m 0.32872344618509214 \u001b[35m|\u001b[0m\u001b[38;5;183m  1.1358580589294434 \u001b[35m|\u001b[0m\u001b[38;5;183m\n",
      "\u001b[35m|\u001b[0m\u001b[38;5;183m           LinearSVC_on_new_split_2          \u001b[35m|\u001b[0m\u001b[38;5;183m               LinearSVC(C=0.5, dual=False)               \u001b[35m|\u001b[0m\u001b[38;5;183m 0.32985956065190003 \u001b[35m|\u001b[0m\u001b[38;5;183m 0.42520287857908434 \u001b[35m|\u001b[0m\u001b[38;5;183m  0.4084827111977346 \u001b[35m|\u001b[0m\u001b[38;5;183m 0.32872344618509214 \u001b[35m|\u001b[0m\u001b[38;5;183m  14.538410425186157 \u001b[35m|\u001b[0m\u001b[38;5;183m\n",
      "\u001b[35m|\u001b[0m\u001b[38;5;183m        RidgeClassifier_on_new_split_1       \u001b[35m|\u001b[0m\u001b[38;5;183m                    RidgeClassifier()                     \u001b[35m|\u001b[0m\u001b[38;5;183m 0.32929800569350115 \u001b[35m|\u001b[0m\u001b[38;5;183m 0.42489664676159855 \u001b[35m|\u001b[0m\u001b[38;5;183m  0.4138368678032734 \u001b[35m|\u001b[0m\u001b[38;5;183m  0.327534512591764  \u001b[35m|\u001b[0m\u001b[38;5;183m  3.2520833015441895 \u001b[35m|\u001b[0m\u001b[38;5;183m\n",
      "\u001b[35m|\u001b[0m\u001b[38;5;183m         balanced_up_SGDClassifier_4         \u001b[35m|\u001b[0m\u001b[38;5;183m     SGDClassifier(alpha=0.001, loss='squared_hinge')     \u001b[35m|\u001b[0m\u001b[38;5;183m  0.3290854046768299 \u001b[35m|\u001b[0m\u001b[38;5;183m  0.3449265381083563 \u001b[35m|\u001b[0m\u001b[38;5;183m  0.3300444478216313 \u001b[35m|\u001b[0m\u001b[38;5;183m 0.36053657501207403 \u001b[35m|\u001b[0m\u001b[38;5;183m  1.2289032936096191 \u001b[35m|\u001b[0m\u001b[38;5;183m\n",
      "\u001b[35m|\u001b[0m\u001b[38;5;183m         balanced_up_SGDClassifier_4         \u001b[35m|\u001b[0m\u001b[38;5;183m     SGDClassifier(alpha=0.001, loss='squared_hinge')     \u001b[35m|\u001b[0m\u001b[38;5;183m 0.32888280238153966 \u001b[35m|\u001b[0m\u001b[38;5;183m  0.3453856749311295 \u001b[35m|\u001b[0m\u001b[38;5;183m  0.3291441438546647 \u001b[35m|\u001b[0m\u001b[38;5;183m  0.3589778068227608 \u001b[35m|\u001b[0m\u001b[38;5;183m  1.1108388900756836 \u001b[35m|\u001b[0m\u001b[38;5;183m\n",
      "\u001b[35m|\u001b[0m\u001b[38;5;183m        balanced_down_SGDClassifier_1        \u001b[35m|\u001b[0m\u001b[38;5;183m                     SGDClassifier()                      \u001b[35m|\u001b[0m\u001b[38;5;183m  0.3285309428405946 \u001b[35m|\u001b[0m\u001b[38;5;183m 0.33689164370982555 \u001b[35m|\u001b[0m\u001b[38;5;183m 0.33046072303901297 \u001b[35m|\u001b[0m\u001b[38;5;183m  0.3629157280379733 \u001b[35m|\u001b[0m\u001b[38;5;183m  0.5743842124938965 \u001b[35m|\u001b[0m\u001b[38;5;183m\n",
      "\u001b[35m|\u001b[0m\u001b[38;5;183m               SGDClassifier_2               \u001b[35m|\u001b[0m\u001b[38;5;183m           SGDClassifier(loss='squared_hinge')            \u001b[35m|\u001b[0m\u001b[38;5;183m  0.3282577431170348 \u001b[35m|\u001b[0m\u001b[38;5;183m  0.4190771349862259 \u001b[35m|\u001b[0m\u001b[38;5;183m  0.4029228861400809 \u001b[35m|\u001b[0m\u001b[38;5;183m  0.3270556385391136 \u001b[35m|\u001b[0m\u001b[38;5;183m  0.584404706954956  \u001b[35m|\u001b[0m\u001b[38;5;183m\n",
      "\u001b[35m|\u001b[0m\u001b[38;5;183m          balanced_down_LinearSVC_2          \u001b[35m|\u001b[0m\u001b[38;5;183m               LinearSVC(C=0.5, dual=False)               \u001b[35m|\u001b[0m\u001b[38;5;183m 0.32773887343561914 \u001b[35m|\u001b[0m\u001b[38;5;183m  0.3375803489439853 \u001b[35m|\u001b[0m\u001b[38;5;183m  0.3288541131178189 \u001b[35m|\u001b[0m\u001b[38;5;183m 0.36157426719362584 \u001b[35m|\u001b[0m\u001b[38;5;183m  7.206534385681152  \u001b[35m|\u001b[0m\u001b[38;5;183m\n",
      "\u001b[35m|\u001b[0m\u001b[38;5;183m          balanced_down_LinearSVC_2          \u001b[35m|\u001b[0m\u001b[38;5;183m               LinearSVC(C=0.5, dual=False)               \u001b[35m|\u001b[0m\u001b[38;5;183m 0.32773887343561914 \u001b[35m|\u001b[0m\u001b[38;5;183m  0.3375803489439853 \u001b[35m|\u001b[0m\u001b[38;5;183m  0.3288541131178189 \u001b[35m|\u001b[0m\u001b[38;5;183m 0.36157426719362584 \u001b[35m|\u001b[0m\u001b[38;5;183m  7.550393581390381  \u001b[35m|\u001b[0m\u001b[38;5;183m\n",
      "\u001b[35m|\u001b[0m\u001b[38;5;183m          balanced_down_LinearSVC_1          \u001b[35m|\u001b[0m\u001b[38;5;183m               LinearSVC(C=0.5, dual=True)                \u001b[35m|\u001b[0m\u001b[38;5;183m 0.32763221338679943 \u001b[35m|\u001b[0m\u001b[38;5;183m 0.33746556473829203 \u001b[35m|\u001b[0m\u001b[38;5;183m  0.3287491954123542 \u001b[35m|\u001b[0m\u001b[38;5;183m 0.36140704311335836 \u001b[35m|\u001b[0m\u001b[38;5;183m 0.46233081817626953 \u001b[35m|\u001b[0m\u001b[38;5;183m\n",
      "\u001b[35m|\u001b[0m\u001b[38;5;183m          balanced_down_LinearSVC_1          \u001b[35m|\u001b[0m\u001b[38;5;183m               LinearSVC(C=0.5, dual=True)                \u001b[35m|\u001b[0m\u001b[38;5;183m 0.32763221338679943 \u001b[35m|\u001b[0m\u001b[38;5;183m 0.33746556473829203 \u001b[35m|\u001b[0m\u001b[38;5;183m  0.3287491954123542 \u001b[35m|\u001b[0m\u001b[38;5;183m 0.36140704311335836 \u001b[35m|\u001b[0m\u001b[38;5;183m  0.5593054294586182 \u001b[35m|\u001b[0m\u001b[38;5;183m\n",
      "\u001b[35m|\u001b[0m\u001b[38;5;183m balanced_down_PassiveAggressiveClassifier_1 \u001b[35m|\u001b[0m\u001b[38;5;183m            PassiveAggressiveClassifier(C=0.5)            \u001b[35m|\u001b[0m\u001b[38;5;183m  0.3274160992341028 \u001b[35m|\u001b[0m\u001b[38;5;183m 0.33666207529843895 \u001b[35m|\u001b[0m\u001b[38;5;183m 0.32838515716398425 \u001b[35m|\u001b[0m\u001b[38;5;183m  0.356320743533595  \u001b[35m|\u001b[0m\u001b[38;5;183m  0.4504401683807373 \u001b[35m|\u001b[0m\u001b[38;5;183m\n",
      "\u001b[35m|\u001b[0m\u001b[38;5;183m        balanced_down_SGDClassifier_1        \u001b[35m|\u001b[0m\u001b[38;5;183m                     SGDClassifier()                      \u001b[35m|\u001b[0m\u001b[38;5;183m  0.3272576717887597 \u001b[35m|\u001b[0m\u001b[38;5;183m 0.33539944903581265 \u001b[35m|\u001b[0m\u001b[38;5;183m  0.3297505405483131 \u001b[35m|\u001b[0m\u001b[38;5;183m  0.3624314971682706 \u001b[35m|\u001b[0m\u001b[38;5;183m  0.5857381820678711 \u001b[35m|\u001b[0m\u001b[38;5;183m\n",
      "\u001b[35m|\u001b[0m\u001b[38;5;183m balanced_down_PassiveAggressiveClassifier_4 \u001b[35m|\u001b[0m\u001b[38;5;183m    PassiveAggressiveClassifier(loss='squared_hinge')     \u001b[35m|\u001b[0m\u001b[38;5;183m  0.3272138261665102 \u001b[35m|\u001b[0m\u001b[38;5;183m 0.33597337006427913 \u001b[35m|\u001b[0m\u001b[38;5;183m  0.3283593721621124 \u001b[35m|\u001b[0m\u001b[38;5;183m  0.3563423791141997 \u001b[35m|\u001b[0m\u001b[38;5;183m  0.579625129699707  \u001b[35m|\u001b[0m\u001b[38;5;183m\n",
      "\u001b[35m|\u001b[0m\u001b[38;5;183m          balanced_down_LinearSVC_4          \u001b[35m|\u001b[0m\u001b[38;5;183m                  LinearSVC(dual=False)                   \u001b[35m|\u001b[0m\u001b[38;5;183m  0.3270612244670434 \u001b[35m|\u001b[0m\u001b[38;5;183m 0.33631772268135907 \u001b[35m|\u001b[0m\u001b[38;5;183m 0.32807269691937446 \u001b[35m|\u001b[0m\u001b[38;5;183m 0.35917402310506813 \u001b[35m|\u001b[0m\u001b[38;5;183m  9.706674337387085  \u001b[35m|\u001b[0m\u001b[38;5;183m\n",
      "\u001b[35m|\u001b[0m\u001b[38;5;183m          balanced_down_LinearSVC_4          \u001b[35m|\u001b[0m\u001b[38;5;183m                  LinearSVC(dual=False)                   \u001b[35m|\u001b[0m\u001b[38;5;183m  0.3270612244670434 \u001b[35m|\u001b[0m\u001b[38;5;183m 0.33631772268135907 \u001b[35m|\u001b[0m\u001b[38;5;183m 0.32807269691937446 \u001b[35m|\u001b[0m\u001b[38;5;183m 0.35917402310506813 \u001b[35m|\u001b[0m\u001b[38;5;183m  8.192806720733643  \u001b[35m|\u001b[0m\u001b[38;5;183m\n",
      "\u001b[35m|\u001b[0m\u001b[38;5;183m          balanced_down_LinearSVC_3          \u001b[35m|\u001b[0m\u001b[38;5;183m                   LinearSVC(dual=True)                   \u001b[35m|\u001b[0m\u001b[38;5;183m 0.32696507085597865 \u001b[35m|\u001b[0m\u001b[38;5;183m 0.33620293847566574 \u001b[35m|\u001b[0m\u001b[38;5;183m 0.32802603646384126 \u001b[35m|\u001b[0m\u001b[38;5;183m  0.3591420819252833 \u001b[35m|\u001b[0m\u001b[38;5;183m  0.6813077926635742 \u001b[35m|\u001b[0m\u001b[38;5;183m\n",
      "\u001b[35m|\u001b[0m\u001b[38;5;183m          balanced_down_LinearSVC_3          \u001b[35m|\u001b[0m\u001b[38;5;183m                   LinearSVC(dual=True)                   \u001b[35m|\u001b[0m\u001b[38;5;183m 0.32696507085597865 \u001b[35m|\u001b[0m\u001b[38;5;183m 0.33620293847566574 \u001b[35m|\u001b[0m\u001b[38;5;183m 0.32802603646384126 \u001b[35m|\u001b[0m\u001b[38;5;183m  0.3591420819252833 \u001b[35m|\u001b[0m\u001b[38;5;183m  0.642371654510498  \u001b[35m|\u001b[0m\u001b[38;5;183m\n",
      "\u001b[35m|\u001b[0m\u001b[38;5;183m       balanced_down_RidgeClassifier_1       \u001b[35m|\u001b[0m\u001b[38;5;183m                    RidgeClassifier()                     \u001b[35m|\u001b[0m\u001b[38;5;183m 0.32671688455016373 \u001b[35m|\u001b[0m\u001b[38;5;183m 0.33631772268135907 \u001b[35m|\u001b[0m\u001b[38;5;183m  0.327895063041472  \u001b[35m|\u001b[0m\u001b[38;5;183m 0.36054699400205575 \u001b[35m|\u001b[0m\u001b[38;5;183m  0.8346271514892578 \u001b[35m|\u001b[0m\u001b[38;5;183m\n",
      "\u001b[35m|\u001b[0m\u001b[38;5;183m balanced_down_PassiveAggressiveClassifier_2 \u001b[35m|\u001b[0m\u001b[38;5;183m PassiveAggressiveClassifier(C=0.5, loss='squared_hinge') \u001b[35m|\u001b[0m\u001b[38;5;183m  0.3260249480404589 \u001b[35m|\u001b[0m\u001b[38;5;183m 0.33482552800734616 \u001b[35m|\u001b[0m\u001b[38;5;183m 0.32734551359902986 \u001b[35m|\u001b[0m\u001b[38;5;183m  0.3553896770741094 \u001b[35m|\u001b[0m\u001b[38;5;183m  0.5406110286712646 \u001b[35m|\u001b[0m\u001b[38;5;183m\n",
      "\u001b[35m|\u001b[0m\u001b[38;5;183m balanced_down_PassiveAggressiveClassifier_3 \u001b[35m|\u001b[0m\u001b[38;5;183m              PassiveAggressiveClassifier()               \u001b[35m|\u001b[0m\u001b[38;5;183m  0.3255396863625716 \u001b[35m|\u001b[0m\u001b[38;5;183m  0.3344811753902663 \u001b[35m|\u001b[0m\u001b[38;5;183m  0.3269306227516566 \u001b[35m|\u001b[0m\u001b[38;5;183m 0.35453153328212605 \u001b[35m|\u001b[0m\u001b[38;5;183m 0.42621374130249023 \u001b[35m|\u001b[0m\u001b[38;5;183m\n",
      "\u001b[35m|\u001b[0m\u001b[38;5;183m       balanced_down_RidgeClassifier_2       \u001b[35m|\u001b[0m\u001b[38;5;183m                RidgeClassifier(alpha=1.5)                \u001b[35m|\u001b[0m\u001b[38;5;183m 0.32300129055036275 \u001b[35m|\u001b[0m\u001b[38;5;183m  0.3341368227731864 \u001b[35m|\u001b[0m\u001b[38;5;183m  0.3248590808964316 \u001b[35m|\u001b[0m\u001b[38;5;183m  0.357113858160489  \u001b[35m|\u001b[0m\u001b[38;5;183m  0.8562605381011963 \u001b[35m|\u001b[0m\u001b[38;5;183m\n",
      "\u001b[35m|\u001b[0m\u001b[38;5;183m        balanced_down_SGDClassifier_5        \u001b[35m|\u001b[0m\u001b[38;5;183m                SGDClassifier(alpha=0.01)                 \u001b[35m|\u001b[0m\u001b[38;5;183m  0.3229125264940741 \u001b[35m|\u001b[0m\u001b[38;5;183m 0.33528466483011937 \u001b[35m|\u001b[0m\u001b[38;5;183m  0.3256791651693214 \u001b[35m|\u001b[0m\u001b[38;5;183m 0.35947840194905856 \u001b[35m|\u001b[0m\u001b[38;5;183m 0.45320677757263184 \u001b[35m|\u001b[0m\u001b[38;5;183m\n",
      "\u001b[35m|\u001b[0m\u001b[38;5;183m               SGDClassifier_1               \u001b[35m|\u001b[0m\u001b[38;5;183m                     SGDClassifier()                      \u001b[35m|\u001b[0m\u001b[38;5;183m 0.32286535380702963 \u001b[35m|\u001b[0m\u001b[38;5;183m 0.42022497704315886 \u001b[35m|\u001b[0m\u001b[38;5;183m 0.38315662945666784 \u001b[35m|\u001b[0m\u001b[38;5;183m  0.3291951859726804 \u001b[35m|\u001b[0m\u001b[38;5;183m  0.9748547077178955 \u001b[35m|\u001b[0m\u001b[38;5;183m\n",
      "\u001b[35m|\u001b[0m\u001b[38;5;183m         balanced_up_SGDClassifier_3         \u001b[35m|\u001b[0m\u001b[38;5;183m                SGDClassifier(alpha=0.001)                \u001b[35m|\u001b[0m\u001b[38;5;183m  0.3224229908541815 \u001b[35m|\u001b[0m\u001b[38;5;183m 0.33585858585858586 \u001b[35m|\u001b[0m\u001b[38;5;183m  0.3284039017223703 \u001b[35m|\u001b[0m\u001b[38;5;183m  0.3610312534685813 \u001b[35m|\u001b[0m\u001b[38;5;183m  0.8626484870910645 \u001b[35m|\u001b[0m\u001b[38;5;183m\n",
      "\u001b[35m|\u001b[0m\u001b[38;5;183m        balanced_down_SGDClassifier_5        \u001b[35m|\u001b[0m\u001b[38;5;183m                SGDClassifier(alpha=0.01)                 \u001b[35m|\u001b[0m\u001b[38;5;183m 0.32238301972265143 \u001b[35m|\u001b[0m\u001b[38;5;183m  0.3325298438934803 \u001b[35m|\u001b[0m\u001b[38;5;183m  0.3275147908712409 \u001b[35m|\u001b[0m\u001b[38;5;183m 0.36146912143088056 \u001b[35m|\u001b[0m\u001b[38;5;183m 0.27890992164611816 \u001b[35m|\u001b[0m\u001b[38;5;183m\n",
      "\u001b[35m|\u001b[0m\u001b[38;5;183m         balanced_up_SGDClassifier_5         \u001b[35m|\u001b[0m\u001b[38;5;183m                SGDClassifier(alpha=0.01)                 \u001b[35m|\u001b[0m\u001b[38;5;183m 0.32213972243843003 \u001b[35m|\u001b[0m\u001b[38;5;183m  0.3357438016528926 \u001b[35m|\u001b[0m\u001b[38;5;183m  0.3282910315316582 \u001b[35m|\u001b[0m\u001b[38;5;183m  0.3602820923010403 \u001b[35m|\u001b[0m\u001b[38;5;183m  0.6245207786560059 \u001b[35m|\u001b[0m\u001b[38;5;183m\n",
      "\u001b[35m|\u001b[0m\u001b[38;5;183m       balanced_down_RidgeClassifier_3       \u001b[35m|\u001b[0m\u001b[38;5;183m                 RidgeClassifier(alpha=2)                 \u001b[35m|\u001b[0m\u001b[38;5;183m  0.3220723263666549 \u001b[35m|\u001b[0m\u001b[38;5;183m 0.33367768595041325 \u001b[35m|\u001b[0m\u001b[38;5;183m 0.32424456644250615 \u001b[35m|\u001b[0m\u001b[38;5;183m 0.35688467907893257 \u001b[35m|\u001b[0m\u001b[38;5;183m  1.0064194202423096 \u001b[35m|\u001b[0m\u001b[38;5;183m\n",
      "\u001b[35m|\u001b[0m\u001b[38;5;183m        balanced_down_SGDClassifier_3        \u001b[35m|\u001b[0m\u001b[38;5;183m                SGDClassifier(alpha=0.001)                \u001b[35m|\u001b[0m\u001b[38;5;183m  0.3218406415294299 \u001b[35m|\u001b[0m\u001b[38;5;183m 0.33482552800734616 \u001b[35m|\u001b[0m\u001b[38;5;183m  0.3252052116062925 \u001b[35m|\u001b[0m\u001b[38;5;183m  0.3580974933193784 \u001b[35m|\u001b[0m\u001b[38;5;183m 0.40392518043518066 \u001b[35m|\u001b[0m\u001b[38;5;183m\n",
      "\u001b[35m|\u001b[0m\u001b[38;5;183m               SGDClassifier_5               \u001b[35m|\u001b[0m\u001b[38;5;183m                SGDClassifier(alpha=0.01)                 \u001b[35m|\u001b[0m\u001b[38;5;183m  0.3213554387105666 \u001b[35m|\u001b[0m\u001b[38;5;183m 0.41678145087235996 \u001b[35m|\u001b[0m\u001b[38;5;183m 0.38438874839359294 \u001b[35m|\u001b[0m\u001b[38;5;183m  0.3276780769561163 \u001b[35m|\u001b[0m\u001b[38;5;183m  0.4398519992828369 \u001b[35m|\u001b[0m\u001b[38;5;183m\n",
      "\u001b[35m|\u001b[0m\u001b[38;5;183m        balanced_down_SGDClassifier_2        \u001b[35m|\u001b[0m\u001b[38;5;183m           SGDClassifier(loss='squared_hinge')            \u001b[35m|\u001b[0m\u001b[38;5;183m 0.32080684407946947 \u001b[35m|\u001b[0m\u001b[38;5;183m 0.32897153351698805 \u001b[35m|\u001b[0m\u001b[38;5;183m  0.325719407444754  \u001b[35m|\u001b[0m\u001b[38;5;183m 0.35446276847774677 \u001b[35m|\u001b[0m\u001b[38;5;183m  0.380232572555542  \u001b[35m|\u001b[0m\u001b[38;5;183m\n",
      "\u001b[35m|\u001b[0m\u001b[38;5;183m        balanced_down_SGDClassifier_3        \u001b[35m|\u001b[0m\u001b[38;5;183m                SGDClassifier(alpha=0.001)                \u001b[35m|\u001b[0m\u001b[38;5;183m  0.3201431630443739 \u001b[35m|\u001b[0m\u001b[38;5;183m  0.3309228650137741 \u001b[35m|\u001b[0m\u001b[38;5;183m 0.32585017558747353 \u001b[35m|\u001b[0m\u001b[38;5;183m 0.36016659137169305 \u001b[35m|\u001b[0m\u001b[38;5;183m  0.3992500305175781 \u001b[35m|\u001b[0m\u001b[38;5;183m\n",
      "\u001b[35m|\u001b[0m\u001b[38;5;183m               SGDClassifier_3               \u001b[35m|\u001b[0m\u001b[38;5;183m                SGDClassifier(alpha=0.001)                \u001b[35m|\u001b[0m\u001b[38;5;183m  0.3197160113368152 \u001b[35m|\u001b[0m\u001b[38;5;183m 0.41838842975206614 \u001b[35m|\u001b[0m\u001b[38;5;183m  0.3862378770396579 \u001b[35m|\u001b[0m\u001b[38;5;183m  0.3257236867065211 \u001b[35m|\u001b[0m\u001b[38;5;183m  0.6105074882507324 \u001b[35m|\u001b[0m\u001b[38;5;183m\n",
      "\u001b[35m|\u001b[0m\u001b[38;5;183m         balanced_up_SGDClassifier_3         \u001b[35m|\u001b[0m\u001b[38;5;183m                SGDClassifier(alpha=0.001)                \u001b[35m|\u001b[0m\u001b[38;5;183m 0.31938109697722006 \u001b[35m|\u001b[0m\u001b[38;5;183m 0.33241505968778695 \u001b[35m|\u001b[0m\u001b[38;5;183m  0.325823228762059  \u001b[35m|\u001b[0m\u001b[38;5;183m  0.3580077550299656 \u001b[35m|\u001b[0m\u001b[38;5;183m  0.8738312721252441 \u001b[35m|\u001b[0m\u001b[38;5;183m\n",
      "\u001b[35m|\u001b[0m\u001b[38;5;183m         balanced_up_SGDClassifier_3         \u001b[35m|\u001b[0m\u001b[38;5;183m                SGDClassifier(alpha=0.001)                \u001b[35m|\u001b[0m\u001b[38;5;183m  0.3189787273602043 \u001b[35m|\u001b[0m\u001b[38;5;183m 0.33321854912764004 \u001b[35m|\u001b[0m\u001b[38;5;183m  0.3258049897139379 \u001b[35m|\u001b[0m\u001b[38;5;183m  0.3589881369023982 \u001b[35m|\u001b[0m\u001b[38;5;183m  0.8993523120880127 \u001b[35m|\u001b[0m\u001b[38;5;183m\n",
      "\u001b[35m|\u001b[0m\u001b[38;5;183m         balanced_up_SGDClassifier_5         \u001b[35m|\u001b[0m\u001b[38;5;183m                SGDClassifier(alpha=0.01)                 \u001b[35m|\u001b[0m\u001b[38;5;183m 0.31852476425493415 \u001b[35m|\u001b[0m\u001b[38;5;183m 0.33344811753902664 \u001b[35m|\u001b[0m\u001b[38;5;183m  0.3251005287587637 \u001b[35m|\u001b[0m\u001b[38;5;183m  0.3577400484406491 \u001b[35m|\u001b[0m\u001b[38;5;183m  0.7466540336608887 \u001b[35m|\u001b[0m\u001b[38;5;183m\n",
      "\u001b[35m|\u001b[0m\u001b[38;5;183m        RidgeClassifier_on_new_split_2       \u001b[35m|\u001b[0m\u001b[38;5;183m                RidgeClassifier(alpha=1.5)                \u001b[35m|\u001b[0m\u001b[38;5;183m 0.31791072857355307 \u001b[35m|\u001b[0m\u001b[38;5;183m 0.42244679222171183 \u001b[35m|\u001b[0m\u001b[38;5;183m  0.4313551443530728 \u001b[35m|\u001b[0m\u001b[38;5;183m 0.31913004779088805 \u001b[35m|\u001b[0m\u001b[38;5;183m  6.628389835357666  \u001b[35m|\u001b[0m\u001b[38;5;183m\n",
      "\u001b[35m|\u001b[0m\u001b[38;5;183m         balanced_up_SGDClassifier_5         \u001b[35m|\u001b[0m\u001b[38;5;183m                SGDClassifier(alpha=0.01)                 \u001b[35m|\u001b[0m\u001b[38;5;183m 0.31770457273563896 \u001b[35m|\u001b[0m\u001b[38;5;183m  0.331267217630854  \u001b[35m|\u001b[0m\u001b[38;5;183m  0.3248236931844234 \u001b[35m|\u001b[0m\u001b[38;5;183m 0.35754267813866225 \u001b[35m|\u001b[0m\u001b[38;5;183m  0.8271934986114502 \u001b[35m|\u001b[0m\u001b[38;5;183m\n",
      "\u001b[35m|\u001b[0m\u001b[38;5;183m        balanced_down_SGDClassifier_2        \u001b[35m|\u001b[0m\u001b[38;5;183m           SGDClassifier(loss='squared_hinge')            \u001b[35m|\u001b[0m\u001b[38;5;183m 0.31619490945598233 \u001b[35m|\u001b[0m\u001b[38;5;183m 0.32495408631772266 \u001b[35m|\u001b[0m\u001b[38;5;183m  0.318554275721556  \u001b[35m|\u001b[0m\u001b[38;5;183m  0.3471545917835077 \u001b[35m|\u001b[0m\u001b[38;5;183m  0.3012807369232178 \u001b[35m|\u001b[0m\u001b[38;5;183m\n",
      "\u001b[35m|\u001b[0m\u001b[38;5;183m                 LinearSVC_1                 \u001b[35m|\u001b[0m\u001b[38;5;183m               LinearSVC(C=0.5, dual=True)                \u001b[35m|\u001b[0m\u001b[38;5;183m 0.31614160266668756 \u001b[35m|\u001b[0m\u001b[38;5;183m 0.41689623507805323 \u001b[35m|\u001b[0m\u001b[38;5;183m  0.4041104052756137 \u001b[35m|\u001b[0m\u001b[38;5;183m  0.3196282154238117 \u001b[35m|\u001b[0m\u001b[38;5;183m  1.0044348239898682 \u001b[35m|\u001b[0m\u001b[38;5;183m\n",
      "\u001b[35m|\u001b[0m\u001b[38;5;183m        balanced_down_SGDClassifier_4        \u001b[35m|\u001b[0m\u001b[38;5;183m     SGDClassifier(alpha=0.001, loss='squared_hinge')     \u001b[35m|\u001b[0m\u001b[38;5;183m  0.3161005027544547 \u001b[35m|\u001b[0m\u001b[38;5;183m 0.32862718089990817 \u001b[35m|\u001b[0m\u001b[38;5;183m  0.3199711597388749 \u001b[35m|\u001b[0m\u001b[38;5;183m 0.35389805286429254 \u001b[35m|\u001b[0m\u001b[38;5;183m  0.530803918838501  \u001b[35m|\u001b[0m\u001b[38;5;183m\n",
      "\u001b[35m|\u001b[0m\u001b[38;5;183m                 LinearSVC_2                 \u001b[35m|\u001b[0m\u001b[38;5;183m               LinearSVC(C=0.5, dual=False)               \u001b[35m|\u001b[0m\u001b[38;5;183m 0.31606284832742937 \u001b[35m|\u001b[0m\u001b[38;5;183m 0.41678145087235996 \u001b[35m|\u001b[0m\u001b[38;5;183m  0.4039812096526302 \u001b[35m|\u001b[0m\u001b[38;5;183m  0.3195625770910254 \u001b[35m|\u001b[0m\u001b[38;5;183m  12.69498896598816  \u001b[35m|\u001b[0m\u001b[38;5;183m\n",
      "\u001b[35m|\u001b[0m\u001b[38;5;183m              RidgeClassifier_1              \u001b[35m|\u001b[0m\u001b[38;5;183m                    RidgeClassifier()                     \u001b[35m|\u001b[0m\u001b[38;5;183m 0.31515988564747044 \u001b[35m|\u001b[0m\u001b[38;5;183m  0.4166666666666667 \u001b[35m|\u001b[0m\u001b[38;5;183m 0.40408839863906837 \u001b[35m|\u001b[0m\u001b[38;5;183m 0.31817738369974297 \u001b[35m|\u001b[0m\u001b[38;5;183m  5.899764776229858  \u001b[35m|\u001b[0m\u001b[38;5;183m\n",
      "\u001b[35m|\u001b[0m\u001b[38;5;183m        balanced_down_SGDClassifier_4        \u001b[35m|\u001b[0m\u001b[38;5;183m     SGDClassifier(alpha=0.001, loss='squared_hinge')     \u001b[35m|\u001b[0m\u001b[38;5;183m  0.3146319574696887 \u001b[35m|\u001b[0m\u001b[38;5;183m  0.3290863177226814 \u001b[35m|\u001b[0m\u001b[38;5;183m  0.3198958202968206 \u001b[35m|\u001b[0m\u001b[38;5;183m 0.35418480434412686 \u001b[35m|\u001b[0m\u001b[38;5;183m  0.4873807430267334 \u001b[35m|\u001b[0m\u001b[38;5;183m\n",
      "\u001b[35m|\u001b[0m\u001b[38;5;183m        LGBMClassifier_on_new_split_1        \u001b[35m|\u001b[0m\u001b[38;5;183m     LGBMClassifier(max_depth=500, n_estimators=500)      \u001b[35m|\u001b[0m\u001b[38;5;183m 0.30888351850679796 \u001b[35m|\u001b[0m\u001b[38;5;183m 0.38493339457969683 \u001b[35m|\u001b[0m\u001b[38;5;183m 0.33529993040177375 \u001b[35m|\u001b[0m\u001b[38;5;183m 0.30522552392039193 \u001b[35m|\u001b[0m\u001b[38;5;183m  157.84089398384094 \u001b[35m|\u001b[0m\u001b[38;5;183m\n",
      "\u001b[35m|\u001b[0m\u001b[38;5;183m              RidgeClassifier_2              \u001b[35m|\u001b[0m\u001b[38;5;183m                RidgeClassifier(alpha=1.5)                \u001b[35m|\u001b[0m\u001b[38;5;183m  0.304017897347683  \u001b[35m|\u001b[0m\u001b[38;5;183m  0.4182736455463728 \u001b[35m|\u001b[0m\u001b[38;5;183m  0.4160574614311262 \u001b[35m|\u001b[0m\u001b[38;5;183m 0.31183687501620616 \u001b[35m|\u001b[0m\u001b[38;5;183m  4.011657953262329  \u001b[35m|\u001b[0m\u001b[38;5;183m\n",
      "\u001b[35m|\u001b[0m\u001b[38;5;183m        RidgeClassifier_on_new_split_3       \u001b[35m|\u001b[0m\u001b[38;5;183m                 RidgeClassifier(alpha=2)                 \u001b[35m|\u001b[0m\u001b[38;5;183m 0.30321885704601065 \u001b[35m|\u001b[0m\u001b[38;5;183m  0.4187720104118818 \u001b[35m|\u001b[0m\u001b[38;5;183m  0.4349867717684767 \u001b[35m|\u001b[0m\u001b[38;5;183m 0.30976011759331923 \u001b[35m|\u001b[0m\u001b[38;5;183m  3.5276403427124023 \u001b[35m|\u001b[0m\u001b[38;5;183m\n",
      "\u001b[35m|\u001b[0m\u001b[38;5;183m        balanced_down_SGDClassifier_6        \u001b[35m|\u001b[0m\u001b[38;5;183m     SGDClassifier(alpha=0.01, loss='squared_hinge')      \u001b[35m|\u001b[0m\u001b[38;5;183m  0.3021741848634989 \u001b[35m|\u001b[0m\u001b[38;5;183m  0.3194444444444444 \u001b[35m|\u001b[0m\u001b[38;5;183m  0.3127112274705968 \u001b[35m|\u001b[0m\u001b[38;5;183m 0.34307684977748554 \u001b[35m|\u001b[0m\u001b[38;5;183m  0.3799910545349121 \u001b[35m|\u001b[0m\u001b[38;5;183m\n",
      "\u001b[35m|\u001b[0m\u001b[38;5;183m         balanced_up_SGDClassifier_6         \u001b[35m|\u001b[0m\u001b[38;5;183m     SGDClassifier(alpha=0.01, loss='squared_hinge')      \u001b[35m|\u001b[0m\u001b[38;5;183m  0.3002947950945424 \u001b[35m|\u001b[0m\u001b[38;5;183m  0.3135904499540863 \u001b[35m|\u001b[0m\u001b[38;5;183m  0.3148009218603029 \u001b[35m|\u001b[0m\u001b[38;5;183m 0.34491051889454366 \u001b[35m|\u001b[0m\u001b[38;5;183m  0.9503681659698486 \u001b[35m|\u001b[0m\u001b[38;5;183m\n",
      "\u001b[35m|\u001b[0m\u001b[38;5;183m               LGBMClassifier_1              \u001b[35m|\u001b[0m\u001b[38;5;183m     LGBMClassifier(max_depth=500, n_estimators=500)      \u001b[35m|\u001b[0m\u001b[38;5;183m 0.30019029364950034 \u001b[35m|\u001b[0m\u001b[38;5;183m  0.3736225895316804 \u001b[35m|\u001b[0m\u001b[38;5;183m 0.33946812529970216 \u001b[35m|\u001b[0m\u001b[38;5;183m  0.2942243923212533 \u001b[35m|\u001b[0m\u001b[38;5;183m  128.71153211593628 \u001b[35m|\u001b[0m\u001b[38;5;183m\n",
      "\u001b[35m|\u001b[0m\u001b[38;5;183m         balanced_up_SGDClassifier_6         \u001b[35m|\u001b[0m\u001b[38;5;183m     SGDClassifier(alpha=0.01, loss='squared_hinge')      \u001b[35m|\u001b[0m\u001b[38;5;183m  0.2996337843546276 \u001b[35m|\u001b[0m\u001b[38;5;183m  0.3132460973370064 \u001b[35m|\u001b[0m\u001b[38;5;183m   0.31477084737317  \u001b[35m|\u001b[0m\u001b[38;5;183m  0.3442551854437542 \u001b[35m|\u001b[0m\u001b[38;5;183m  0.8721966743469238 \u001b[35m|\u001b[0m\u001b[38;5;183m\n",
      "\u001b[35m|\u001b[0m\u001b[38;5;183m         balanced_up_SGDClassifier_6         \u001b[35m|\u001b[0m\u001b[38;5;183m     SGDClassifier(alpha=0.01, loss='squared_hinge')      \u001b[35m|\u001b[0m\u001b[38;5;183m  0.2996058496103777 \u001b[35m|\u001b[0m\u001b[38;5;183m 0.31290174471992654 \u001b[35m|\u001b[0m\u001b[38;5;183m  0.3149779346353299 \u001b[35m|\u001b[0m\u001b[38;5;183m 0.34385261420944496 \u001b[35m|\u001b[0m\u001b[38;5;183m  0.8114964962005615 \u001b[35m|\u001b[0m\u001b[38;5;183m\n",
      "\u001b[35m|\u001b[0m\u001b[38;5;183m        balanced_down_SGDClassifier_6        \u001b[35m|\u001b[0m\u001b[38;5;183m     SGDClassifier(alpha=0.01, loss='squared_hinge')      \u001b[35m|\u001b[0m\u001b[38;5;183m  0.2995068821211183 \u001b[35m|\u001b[0m\u001b[38;5;183m 0.31657483930211205 \u001b[35m|\u001b[0m\u001b[38;5;183m 0.31035593270549866 \u001b[35m|\u001b[0m\u001b[38;5;183m 0.34103524025741466 \u001b[35m|\u001b[0m\u001b[38;5;183m   0.52909255027771  \u001b[35m|\u001b[0m\u001b[38;5;183m\n",
      "\u001b[35m|\u001b[0m\u001b[38;5;183m              RidgeClassifier_3              \u001b[35m|\u001b[0m\u001b[38;5;183m                 RidgeClassifier(alpha=2)                 \u001b[35m|\u001b[0m\u001b[38;5;183m  0.2978812215459704 \u001b[35m|\u001b[0m\u001b[38;5;183m  0.4195362718089991 \u001b[35m|\u001b[0m\u001b[38;5;183m  0.4418656397347389 \u001b[35m|\u001b[0m\u001b[38;5;183m 0.30825142380857046 \u001b[35m|\u001b[0m\u001b[38;5;183m  5.008138418197632  \u001b[35m|\u001b[0m\u001b[38;5;183m\n",
      "\u001b[35m|\u001b[0m\u001b[38;5;183m              SVC_on_new_split_2             \u001b[35m|\u001b[0m\u001b[38;5;183m                  SVC(kernel='sigmoid')                   \u001b[35m|\u001b[0m\u001b[38;5;183m  0.2794331528993991 \u001b[35m|\u001b[0m\u001b[38;5;183m 0.41494411269330883 \u001b[35m|\u001b[0m\u001b[38;5;183m  0.5456940160100261 \u001b[35m|\u001b[0m\u001b[38;5;183m 0.29515925795787457 \u001b[35m|\u001b[0m\u001b[38;5;183m  355.04663276672363 \u001b[35m|\u001b[0m\u001b[38;5;183m\n",
      "\u001b[35m|\u001b[0m\u001b[38;5;183m              KNN_on_new_split_2             \u001b[35m|\u001b[0m\u001b[38;5;183m                  KNeighborsClassifier()                  \u001b[35m|\u001b[0m\u001b[38;5;183m  0.2759041893037315 \u001b[35m|\u001b[0m\u001b[38;5;183m  0.3572194150972286 \u001b[35m|\u001b[0m\u001b[38;5;183m 0.29303138997568723 \u001b[35m|\u001b[0m\u001b[38;5;183m  0.2783604603142554 \u001b[35m|\u001b[0m\u001b[38;5;183m  3.5922939777374268 \u001b[35m|\u001b[0m\u001b[38;5;183m\n",
      "\u001b[35m|\u001b[0m\u001b[38;5;183m              KNN_on_new_split_3             \u001b[35m|\u001b[0m\u001b[38;5;183m           KNeighborsClassifier(n_neighbors=7)            \u001b[35m|\u001b[0m\u001b[38;5;183m  0.2754391678355843 \u001b[35m|\u001b[0m\u001b[38;5;183m  0.3638033991731741 \u001b[35m|\u001b[0m\u001b[38;5;183m 0.30305397513725185 \u001b[35m|\u001b[0m\u001b[38;5;183m  0.2777547544499422 \u001b[35m|\u001b[0m\u001b[38;5;183m  3.328240156173706  \u001b[35m|\u001b[0m\u001b[38;5;183m\n",
      "\u001b[35m|\u001b[0m\u001b[38;5;183m                    SVC_2                    \u001b[35m|\u001b[0m\u001b[38;5;183m                  SVC(kernel='sigmoid')                   \u001b[35m|\u001b[0m\u001b[38;5;183m 0.27347154948321195 \u001b[35m|\u001b[0m\u001b[38;5;183m 0.41058310376492196 \u001b[35m|\u001b[0m\u001b[38;5;183m  0.5025363930891102 \u001b[35m|\u001b[0m\u001b[38;5;183m 0.29046111184250384 \u001b[35m|\u001b[0m\u001b[38;5;183m  303.24972581863403 \u001b[35m|\u001b[0m\u001b[38;5;183m\n",
      "\u001b[35m|\u001b[0m\u001b[38;5;183m                    KNN_2                    \u001b[35m|\u001b[0m\u001b[38;5;183m                  KNeighborsClassifier()                  \u001b[35m|\u001b[0m\u001b[38;5;183m  0.2720166812189435 \u001b[35m|\u001b[0m\u001b[38;5;183m  0.3496326905417815 \u001b[35m|\u001b[0m\u001b[38;5;183m  0.2888261686967606 \u001b[35m|\u001b[0m\u001b[38;5;183m  0.2759121644368684 \u001b[35m|\u001b[0m\u001b[38;5;183m  4.749310731887817  \u001b[35m|\u001b[0m\u001b[38;5;183m\n",
      "\u001b[35m|\u001b[0m\u001b[38;5;183m              KNN_on_new_split_1             \u001b[35m|\u001b[0m\u001b[38;5;183m           KNeighborsClassifier(n_neighbors=3)            \u001b[35m|\u001b[0m\u001b[38;5;183m 0.26911656512418475 \u001b[35m|\u001b[0m\u001b[38;5;183m  0.3210840606338999 \u001b[35m|\u001b[0m\u001b[38;5;183m  0.2850651385621484 \u001b[35m|\u001b[0m\u001b[38;5;183m  0.2798422375657584 \u001b[35m|\u001b[0m\u001b[38;5;183m  3.6839330196380615 \u001b[35m|\u001b[0m\u001b[38;5;183m\n",
      "\u001b[35m|\u001b[0m\u001b[38;5;183m                    KNN_3                    \u001b[35m|\u001b[0m\u001b[38;5;183m           KNeighborsClassifier(n_neighbors=7)            \u001b[35m|\u001b[0m\u001b[38;5;183m  0.2679530490288469 \u001b[35m|\u001b[0m\u001b[38;5;183m 0.35215794306703396 \u001b[35m|\u001b[0m\u001b[38;5;183m  0.2894886904892481 \u001b[35m|\u001b[0m\u001b[38;5;183m  0.2727239516555519 \u001b[35m|\u001b[0m\u001b[38;5;183m  4.569716453552246  \u001b[35m|\u001b[0m\u001b[38;5;183m\n",
      "\u001b[35m|\u001b[0m\u001b[38;5;183m      LogisticRegression_on_new_split_2      \u001b[35m|\u001b[0m\u001b[38;5;183m                   LogisticRegression()                   \u001b[35m|\u001b[0m\u001b[38;5;183m  0.2663740722499507 \u001b[35m|\u001b[0m\u001b[38;5;183m 0.40989128770479255 \u001b[35m|\u001b[0m\u001b[38;5;183m 0.45491226166059473 \u001b[35m|\u001b[0m\u001b[38;5;183m 0.28515342542484473 \u001b[35m|\u001b[0m\u001b[38;5;183m  40.39305257797241  \u001b[35m|\u001b[0m\u001b[38;5;183m\n",
      "\u001b[35m|\u001b[0m\u001b[38;5;183m             LogisticRegression_2            \u001b[35m|\u001b[0m\u001b[38;5;183m                   LogisticRegression()                   \u001b[35m|\u001b[0m\u001b[38;5;183m 0.26341030850243363 \u001b[35m|\u001b[0m\u001b[38;5;183m  0.4116161616161616 \u001b[35m|\u001b[0m\u001b[38;5;183m  0.4542215508363583 \u001b[35m|\u001b[0m\u001b[38;5;183m 0.28449292071434745 \u001b[35m|\u001b[0m\u001b[38;5;183m  41.61243724822998  \u001b[35m|\u001b[0m\u001b[38;5;183m\n",
      "\u001b[35m|\u001b[0m\u001b[38;5;183m                    KNN_1                    \u001b[35m|\u001b[0m\u001b[38;5;183m           KNeighborsClassifier(n_neighbors=3)            \u001b[35m|\u001b[0m\u001b[38;5;183m 0.25190393249732723 \u001b[35m|\u001b[0m\u001b[38;5;183m 0.29981634527089074 \u001b[35m|\u001b[0m\u001b[38;5;183m 0.26724986927721195 \u001b[35m|\u001b[0m\u001b[38;5;183m  0.2653164874705564 \u001b[35m|\u001b[0m\u001b[38;5;183m  4.324490785598755  \u001b[35m|\u001b[0m\u001b[38;5;183m\n",
      "\u001b[35m|\u001b[0m\u001b[38;5;183m         SGDClassifier_on_new_split_4        \u001b[35m|\u001b[0m\u001b[38;5;183m     SGDClassifier(alpha=0.001, loss='squared_hinge')     \u001b[35m|\u001b[0m\u001b[38;5;183m 0.23930211181927885 \u001b[35m|\u001b[0m\u001b[38;5;183m  0.4008574490889603 \u001b[35m|\u001b[0m\u001b[38;5;183m  0.548843348087576  \u001b[35m|\u001b[0m\u001b[38;5;183m  0.2657652361014982 \u001b[35m|\u001b[0m\u001b[38;5;183m  0.9098372459411621 \u001b[35m|\u001b[0m\u001b[38;5;183m\n",
      "\u001b[35m|\u001b[0m\u001b[38;5;183m               SGDClassifier_4               \u001b[35m|\u001b[0m\u001b[38;5;183m     SGDClassifier(alpha=0.001, loss='squared_hinge')     \u001b[35m|\u001b[0m\u001b[38;5;183m  0.2315360867801429 \u001b[35m|\u001b[0m\u001b[38;5;183m 0.39749770431588616 \u001b[35m|\u001b[0m\u001b[38;5;183m  0.5331041001868551 \u001b[35m|\u001b[0m\u001b[38;5;183m  0.2619059626155022 \u001b[35m|\u001b[0m\u001b[38;5;183m  0.9010200500488281 \u001b[35m|\u001b[0m\u001b[38;5;183m\n",
      "\u001b[35m|\u001b[0m\u001b[38;5;183m      LogisticRegression_on_new_split_1      \u001b[35m|\u001b[0m\u001b[38;5;183m                LogisticRegression(C=0.5)                 \u001b[35m|\u001b[0m\u001b[38;5;183m 0.23104910549819663 \u001b[35m|\u001b[0m\u001b[38;5;183m  0.3965702036441586 \u001b[35m|\u001b[0m\u001b[38;5;183m  0.296596811270174  \u001b[35m|\u001b[0m\u001b[38;5;183m 0.25983030392436113 \u001b[35m|\u001b[0m\u001b[38;5;183m  20.39271879196167  \u001b[35m|\u001b[0m\u001b[38;5;183m\n",
      "\u001b[35m|\u001b[0m\u001b[38;5;183m             LogisticRegression_1            \u001b[35m|\u001b[0m\u001b[38;5;183m                LogisticRegression(C=0.5)                 \u001b[35m|\u001b[0m\u001b[38;5;183m 0.22323922238640118 \u001b[35m|\u001b[0m\u001b[38;5;183m  0.3957759412304867 \u001b[35m|\u001b[0m\u001b[38;5;183m  0.5231371374660111 \u001b[35m|\u001b[0m\u001b[38;5;183m  0.2563329340856686 \u001b[35m|\u001b[0m\u001b[38;5;183m  21.93995475769043  \u001b[35m|\u001b[0m\u001b[38;5;183m\n",
      "\u001b[35m|\u001b[0m\u001b[38;5;183m                    KNN_1                    \u001b[35m|\u001b[0m\u001b[38;5;183m           KNeighborsClassifier(n_neighbors=3)            \u001b[35m|\u001b[0m\u001b[38;5;183m 0.19808865611797546 \u001b[35m|\u001b[0m\u001b[38;5;183m  0.246900826446281  \u001b[35m|\u001b[0m\u001b[38;5;183m 0.20650678270616005 \u001b[35m|\u001b[0m\u001b[38;5;183m 0.20811218942722381 \u001b[35m|\u001b[0m\u001b[38;5;183m  4.277189254760742  \u001b[35m|\u001b[0m\u001b[38;5;183m\n",
      "\u001b[35m|\u001b[0m\u001b[38;5;183m                    KNN_2                    \u001b[35m|\u001b[0m\u001b[38;5;183m                  KNeighborsClassifier()                  \u001b[35m|\u001b[0m\u001b[38;5;183m 0.18725745130289348 \u001b[35m|\u001b[0m\u001b[38;5;183m 0.27043158861340677 \u001b[35m|\u001b[0m\u001b[38;5;183m  0.1933602898903545 \u001b[35m|\u001b[0m\u001b[38;5;183m 0.19408472183687647 \u001b[35m|\u001b[0m\u001b[38;5;183m  4.688404560089111  \u001b[35m|\u001b[0m\u001b[38;5;183m\n",
      "\u001b[35m|\u001b[0m\u001b[38;5;183m         ComplementNB_on_new_split_1         \u001b[35m|\u001b[0m\u001b[38;5;183m                 ComplementNB(alpha=0.5)                  \u001b[35m|\u001b[0m\u001b[38;5;183m 0.18689321313405818 \u001b[35m|\u001b[0m\u001b[38;5;183m  0.3815648445873526 \u001b[35m|\u001b[0m\u001b[38;5;183m  0.5949698131631946 \u001b[35m|\u001b[0m\u001b[38;5;183m  0.2349623744632888 \u001b[35m|\u001b[0m\u001b[38;5;183m  0.1483011245727539 \u001b[35m|\u001b[0m\u001b[38;5;183m\n",
      "\u001b[35m|\u001b[0m\u001b[38;5;183m         ComplementNB_on_new_split_2         \u001b[35m|\u001b[0m\u001b[38;5;183m         ComplementNB(alpha=0.5, fit_prior=False)         \u001b[35m|\u001b[0m\u001b[38;5;183m 0.18689321313405818 \u001b[35m|\u001b[0m\u001b[38;5;183m  0.3815648445873526 \u001b[35m|\u001b[0m\u001b[38;5;183m  0.5949698131631946 \u001b[35m|\u001b[0m\u001b[38;5;183m  0.2349623744632888 \u001b[35m|\u001b[0m\u001b[38;5;183m 0.14232873916625977 \u001b[35m|\u001b[0m\u001b[38;5;183m\n",
      "\u001b[35m|\u001b[0m\u001b[38;5;183m        PassiveAggressiveClassifier_4        \u001b[35m|\u001b[0m\u001b[38;5;183m    PassiveAggressiveClassifier(loss='squared_hinge')     \u001b[35m|\u001b[0m\u001b[38;5;183m  0.1862291194115615 \u001b[35m|\u001b[0m\u001b[38;5;183m  0.2846648301193756 \u001b[35m|\u001b[0m\u001b[38;5;183m 0.19496941474753415 \u001b[35m|\u001b[0m\u001b[38;5;183m  0.1960212767291749 \u001b[35m|\u001b[0m\u001b[38;5;183m  0.9291973114013672 \u001b[35m|\u001b[0m\u001b[38;5;183m\n",
      "\u001b[35m|\u001b[0m\u001b[38;5;183m                    KNN_3                    \u001b[35m|\u001b[0m\u001b[38;5;183m           KNeighborsClassifier(n_neighbors=7)            \u001b[35m|\u001b[0m\u001b[38;5;183m 0.18581569099027934 \u001b[35m|\u001b[0m\u001b[38;5;183m  0.2805325987144169 \u001b[35m|\u001b[0m\u001b[38;5;183m 0.19127140627502764 \u001b[35m|\u001b[0m\u001b[38;5;183m 0.19665680230232946 \u001b[35m|\u001b[0m\u001b[38;5;183m  4.089455604553223  \u001b[35m|\u001b[0m\u001b[38;5;183m\n",
      "\u001b[35m|\u001b[0m\u001b[38;5;183m        PassiveAggressiveClassifier_2        \u001b[35m|\u001b[0m\u001b[38;5;183m PassiveAggressiveClassifier(C=0.5, loss='squared_hinge') \u001b[35m|\u001b[0m\u001b[38;5;183m 0.18495964898355463 \u001b[35m|\u001b[0m\u001b[38;5;183m 0.28455004591368227 \u001b[35m|\u001b[0m\u001b[38;5;183m  0.1926126218836911 \u001b[35m|\u001b[0m\u001b[38;5;183m 0.19523184737432875 \u001b[35m|\u001b[0m\u001b[38;5;183m  1.3459806442260742 \u001b[35m|\u001b[0m\u001b[38;5;183m\n",
      "\u001b[35m|\u001b[0m\u001b[38;5;183m        PassiveAggressiveClassifier_3        \u001b[35m|\u001b[0m\u001b[38;5;183m              PassiveAggressiveClassifier()               \u001b[35m|\u001b[0m\u001b[38;5;183m 0.18488346093228353 \u001b[35m|\u001b[0m\u001b[38;5;183m  0.2836317722681359 \u001b[35m|\u001b[0m\u001b[38;5;183m 0.19192935402031017 \u001b[35m|\u001b[0m\u001b[38;5;183m 0.19489899320549564 \u001b[35m|\u001b[0m\u001b[38;5;183m  0.7418069839477539 \u001b[35m|\u001b[0m\u001b[38;5;183m\n",
      "\u001b[35m|\u001b[0m\u001b[38;5;183m        PassiveAggressiveClassifier_1        \u001b[35m|\u001b[0m\u001b[38;5;183m            PassiveAggressiveClassifier(C=0.5)            \u001b[35m|\u001b[0m\u001b[38;5;183m 0.18479947420973297 \u001b[35m|\u001b[0m\u001b[38;5;183m  0.2831726354453627 \u001b[35m|\u001b[0m\u001b[38;5;183m 0.19225635285900758 \u001b[35m|\u001b[0m\u001b[38;5;183m  0.1947085951761145 \u001b[35m|\u001b[0m\u001b[38;5;183m  1.1355969905853271 \u001b[35m|\u001b[0m\u001b[38;5;183m\n",
      "\u001b[35m|\u001b[0m\u001b[38;5;183m               LGBMClassifier_1              \u001b[35m|\u001b[0m\u001b[38;5;183m     LGBMClassifier(max_depth=500, n_estimators=500)      \u001b[35m|\u001b[0m\u001b[38;5;183m  0.1828060425053962 \u001b[35m|\u001b[0m\u001b[38;5;183m 0.28489439853076215 \u001b[35m|\u001b[0m\u001b[38;5;183m  0.194985092000803  \u001b[35m|\u001b[0m\u001b[38;5;183m 0.19418300160330396 \u001b[35m|\u001b[0m\u001b[38;5;183m  157.41285109519958 \u001b[35m|\u001b[0m\u001b[38;5;183m\n",
      "\u001b[35m|\u001b[0m\u001b[38;5;183m                ComplementNB_1               \u001b[35m|\u001b[0m\u001b[38;5;183m                 ComplementNB(alpha=0.5)                  \u001b[35m|\u001b[0m\u001b[38;5;183m 0.18164626481284205 \u001b[35m|\u001b[0m\u001b[38;5;183m 0.38073921028466484 \u001b[35m|\u001b[0m\u001b[38;5;183m  0.5927774403033594 \u001b[35m|\u001b[0m\u001b[38;5;183m  0.2341804634273863 \u001b[35m|\u001b[0m\u001b[38;5;183m 0.18701481819152832 \u001b[35m|\u001b[0m\u001b[38;5;183m\n",
      "\u001b[35m|\u001b[0m\u001b[38;5;183m                ComplementNB_2               \u001b[35m|\u001b[0m\u001b[38;5;183m         ComplementNB(alpha=0.5, fit_prior=False)         \u001b[35m|\u001b[0m\u001b[38;5;183m 0.18164626481284205 \u001b[35m|\u001b[0m\u001b[38;5;183m 0.38073921028466484 \u001b[35m|\u001b[0m\u001b[38;5;183m  0.5927774403033594 \u001b[35m|\u001b[0m\u001b[38;5;183m  0.2341804634273863 \u001b[35m|\u001b[0m\u001b[38;5;183m  0.2008519172668457 \u001b[35m|\u001b[0m\u001b[38;5;183m\n",
      "\u001b[35m|\u001b[0m\u001b[38;5;183m               SGDClassifier_3               \u001b[35m|\u001b[0m\u001b[38;5;183m                SGDClassifier(alpha=0.001)                \u001b[35m|\u001b[0m\u001b[38;5;183m  0.1814890858661859 \u001b[35m|\u001b[0m\u001b[38;5;183m 0.30486685032139577 \u001b[35m|\u001b[0m\u001b[38;5;183m 0.20106542013457301 \u001b[35m|\u001b[0m\u001b[38;5;183m 0.20056139169681222 \u001b[35m|\u001b[0m\u001b[38;5;183m  0.6252579689025879 \u001b[35m|\u001b[0m\u001b[38;5;183m\n",
      "\u001b[35m|\u001b[0m\u001b[38;5;183m                 LinearSVC_3                 \u001b[35m|\u001b[0m\u001b[38;5;183m                   LinearSVC(dual=True)                   \u001b[35m|\u001b[0m\u001b[38;5;183m 0.17914986521246687 \u001b[35m|\u001b[0m\u001b[38;5;183m  0.3068181818181818 \u001b[35m|\u001b[0m\u001b[38;5;183m 0.20107743440096107 \u001b[35m|\u001b[0m\u001b[38;5;183m 0.20021150084150668 \u001b[35m|\u001b[0m\u001b[38;5;183m  1.7794899940490723 \u001b[35m|\u001b[0m\u001b[38;5;183m\n",
      "\u001b[35m|\u001b[0m\u001b[38;5;183m                 LinearSVC_4                 \u001b[35m|\u001b[0m\u001b[38;5;183m                  LinearSVC(dual=False)                   \u001b[35m|\u001b[0m\u001b[38;5;183m 0.17914986521246687 \u001b[35m|\u001b[0m\u001b[38;5;183m  0.3068181818181818 \u001b[35m|\u001b[0m\u001b[38;5;183m 0.20107743440096107 \u001b[35m|\u001b[0m\u001b[38;5;183m 0.20021150084150668 \u001b[35m|\u001b[0m\u001b[38;5;183m  13.692145109176636 \u001b[35m|\u001b[0m\u001b[38;5;183m\n",
      "\u001b[35m|\u001b[0m\u001b[38;5;183m               SGDClassifier_1               \u001b[35m|\u001b[0m\u001b[38;5;183m                     SGDClassifier()                      \u001b[35m|\u001b[0m\u001b[38;5;183m 0.17790100166848094 \u001b[35m|\u001b[0m\u001b[38;5;183m  0.307277318640955  \u001b[35m|\u001b[0m\u001b[38;5;183m 0.19898992034109386 \u001b[35m|\u001b[0m\u001b[38;5;183m 0.19974209515949154 \u001b[35m|\u001b[0m\u001b[38;5;183m  0.9762251377105713 \u001b[35m|\u001b[0m\u001b[38;5;183m\n",
      "\u001b[35m|\u001b[0m\u001b[38;5;183m               SGDClassifier_5               \u001b[35m|\u001b[0m\u001b[38;5;183m                SGDClassifier(alpha=0.01)                 \u001b[35m|\u001b[0m\u001b[38;5;183m 0.17759134860047796 \u001b[35m|\u001b[0m\u001b[38;5;183m 0.30589990817263546 \u001b[35m|\u001b[0m\u001b[38;5;183m 0.19960809659003384 \u001b[35m|\u001b[0m\u001b[38;5;183m 0.19894957337753166 \u001b[35m|\u001b[0m\u001b[38;5;183m  0.5054051876068115 \u001b[35m|\u001b[0m\u001b[38;5;183m\n",
      "\u001b[35m|\u001b[0m\u001b[38;5;183m               SGDClassifier_2               \u001b[35m|\u001b[0m\u001b[38;5;183m           SGDClassifier(loss='squared_hinge')            \u001b[35m|\u001b[0m\u001b[38;5;183m 0.17669239581737534 \u001b[35m|\u001b[0m\u001b[38;5;183m  0.3033746556473829 \u001b[35m|\u001b[0m\u001b[38;5;183m  0.1961680963264597 \u001b[35m|\u001b[0m\u001b[38;5;183m 0.19820044483246865 \u001b[35m|\u001b[0m\u001b[38;5;183m  0.5595884323120117 \u001b[35m|\u001b[0m\u001b[38;5;183m\n",
      "\u001b[35m|\u001b[0m\u001b[38;5;183m    RandomForestClassifier_on_new_split_1    \u001b[35m|\u001b[0m\u001b[38;5;183m          RandomForestClassifier(max_depth=100)           \u001b[35m|\u001b[0m\u001b[38;5;183m 0.17521822072365548 \u001b[35m|\u001b[0m\u001b[38;5;183m 0.37513397642015006 \u001b[35m|\u001b[0m\u001b[38;5;183m  0.5159456239553327 \u001b[35m|\u001b[0m\u001b[38;5;183m 0.22828206976959492 \u001b[35m|\u001b[0m\u001b[38;5;183m  73.27743244171143  \u001b[35m|\u001b[0m\u001b[38;5;183m\n",
      "\u001b[35m|\u001b[0m\u001b[38;5;183m           RandomForestClassifier_1          \u001b[35m|\u001b[0m\u001b[38;5;183m          RandomForestClassifier(max_depth=100)           \u001b[35m|\u001b[0m\u001b[38;5;183m 0.16829448109146405 \u001b[35m|\u001b[0m\u001b[38;5;183m  0.3712121212121212 \u001b[35m|\u001b[0m\u001b[38;5;183m  0.5008581710312353 \u001b[35m|\u001b[0m\u001b[38;5;183m 0.22564953368613683 \u001b[35m|\u001b[0m\u001b[38;5;183m  60.38122916221619  \u001b[35m|\u001b[0m\u001b[38;5;183m\n",
      "\u001b[35m|\u001b[0m\u001b[38;5;183m                 LinearSVC_2                 \u001b[35m|\u001b[0m\u001b[38;5;183m               LinearSVC(C=0.5, dual=False)               \u001b[35m|\u001b[0m\u001b[38;5;183m 0.16604203153125852 \u001b[35m|\u001b[0m\u001b[38;5;183m  0.3138200183654729 \u001b[35m|\u001b[0m\u001b[38;5;183m  0.1912125118338811 \u001b[35m|\u001b[0m\u001b[38;5;183m 0.19742985405145394 \u001b[35m|\u001b[0m\u001b[38;5;183m  11.712498426437378 \u001b[35m|\u001b[0m\u001b[38;5;183m\n",
      "\u001b[35m|\u001b[0m\u001b[38;5;183m                 LinearSVC_1                 \u001b[35m|\u001b[0m\u001b[38;5;183m               LinearSVC(C=0.5, dual=True)                \u001b[35m|\u001b[0m\u001b[38;5;183m  0.1660352353114379 \u001b[35m|\u001b[0m\u001b[38;5;183m  0.3138200183654729 \u001b[35m|\u001b[0m\u001b[38;5;183m  0.1913428089107357 \u001b[35m|\u001b[0m\u001b[38;5;183m 0.19742985405145394 \u001b[35m|\u001b[0m\u001b[38;5;183m  1.0838227272033691 \u001b[35m|\u001b[0m\u001b[38;5;183m\n",
      "\u001b[35m|\u001b[0m\u001b[38;5;183m              RidgeClassifier_1              \u001b[35m|\u001b[0m\u001b[38;5;183m                    RidgeClassifier()                     \u001b[35m|\u001b[0m\u001b[38;5;183m 0.16562450623586072 \u001b[35m|\u001b[0m\u001b[38;5;183m  0.3135904499540863 \u001b[35m|\u001b[0m\u001b[38;5;183m  0.1907181957574263 \u001b[35m|\u001b[0m\u001b[38;5;183m  0.1971776485544885 \u001b[35m|\u001b[0m\u001b[38;5;183m  5.165220737457275  \u001b[35m|\u001b[0m\u001b[38;5;183m\n",
      "\u001b[35m|\u001b[0m\u001b[38;5;183m              RidgeClassifier_2              \u001b[35m|\u001b[0m\u001b[38;5;183m                RidgeClassifier(alpha=1.5)                \u001b[35m|\u001b[0m\u001b[38;5;183m 0.16030814508688268 \u001b[35m|\u001b[0m\u001b[38;5;183m 0.31955922865013775 \u001b[35m|\u001b[0m\u001b[38;5;183m 0.19611409222078274 \u001b[35m|\u001b[0m\u001b[38;5;183m 0.19772440807315475 \u001b[35m|\u001b[0m\u001b[38;5;183m  4.481950521469116  \u001b[35m|\u001b[0m\u001b[38;5;183m\n",
      "\u001b[35m|\u001b[0m\u001b[38;5;183m               multiclass_fr_it              \u001b[35m|\u001b[0m\u001b[38;5;183m PassiveAggressiveClassifier(C=0.5, loss='squared_hinge') \u001b[35m|\u001b[0m\u001b[38;5;183m 0.15623100871985177 \u001b[35m|\u001b[0m\u001b[38;5;183m  0.2295684113865932 \u001b[35m|\u001b[0m\u001b[38;5;183m 0.45829317155528687 \u001b[35m|\u001b[0m\u001b[38;5;183m 0.22659601628078646 \u001b[35m|\u001b[0m\u001b[38;5;183m  2.6323440074920654 \u001b[35m|\u001b[0m\u001b[38;5;183m\n",
      "\u001b[35m|\u001b[0m\u001b[38;5;183m              RidgeClassifier_3              \u001b[35m|\u001b[0m\u001b[38;5;183m                 RidgeClassifier(alpha=2)                 \u001b[35m|\u001b[0m\u001b[38;5;183m 0.15484678592277296 \u001b[35m|\u001b[0m\u001b[38;5;183m  0.3240358126721763 \u001b[35m|\u001b[0m\u001b[38;5;183m 0.19836850081188495 \u001b[35m|\u001b[0m\u001b[38;5;183m  0.1977467305877148 \u001b[35m|\u001b[0m\u001b[38;5;183m  3.450937271118164  \u001b[35m|\u001b[0m\u001b[38;5;183m\n",
      "\u001b[35m|\u001b[0m\u001b[38;5;183m             LogisticRegression_2            \u001b[35m|\u001b[0m\u001b[38;5;183m                   LogisticRegression()                   \u001b[35m|\u001b[0m\u001b[38;5;183m 0.14602088548719697 \u001b[35m|\u001b[0m\u001b[38;5;183m  0.3323002754820937 \u001b[35m|\u001b[0m\u001b[38;5;183m 0.12551665548533303 \u001b[35m|\u001b[0m\u001b[38;5;183m 0.19839593522295607 \u001b[35m|\u001b[0m\u001b[38;5;183m  44.13646745681763  \u001b[35m|\u001b[0m\u001b[38;5;183m\n",
      "\u001b[35m|\u001b[0m\u001b[38;5;183m         ComplementNB_on_new_split_3         \u001b[35m|\u001b[0m\u001b[38;5;183m                      ComplementNB()                      \u001b[35m|\u001b[0m\u001b[38;5;183m 0.14536791952644607 \u001b[35m|\u001b[0m\u001b[38;5;183m 0.36900934007043334 \u001b[35m|\u001b[0m\u001b[38;5;183m  0.557373598431552  \u001b[35m|\u001b[0m\u001b[38;5;183m 0.21647876170503758 \u001b[35m|\u001b[0m\u001b[38;5;183m 0.14377522468566895 \u001b[35m|\u001b[0m\u001b[38;5;183m\n",
      "\u001b[35m|\u001b[0m\u001b[38;5;183m         ComplementNB_on_new_split_4         \u001b[35m|\u001b[0m\u001b[38;5;183m              ComplementNB(fit_prior=False)               \u001b[35m|\u001b[0m\u001b[38;5;183m 0.14536791952644607 \u001b[35m|\u001b[0m\u001b[38;5;183m 0.36900934007043334 \u001b[35m|\u001b[0m\u001b[38;5;183m  0.557373598431552  \u001b[35m|\u001b[0m\u001b[38;5;183m 0.21647876170503758 \u001b[35m|\u001b[0m\u001b[38;5;183m 0.14293575286865234 \u001b[35m|\u001b[0m\u001b[38;5;183m\n",
      "\u001b[35m|\u001b[0m\u001b[38;5;183m                  multiclass                 \u001b[35m|\u001b[0m\u001b[38;5;183m PassiveAggressiveClassifier(C=0.5, loss='squared_hinge') \u001b[35m|\u001b[0m\u001b[38;5;183m 0.14231204073042017 \u001b[35m|\u001b[0m\u001b[38;5;183m 0.21430211202938476 \u001b[35m|\u001b[0m\u001b[38;5;183m 0.48167199861853005 \u001b[35m|\u001b[0m\u001b[38;5;183m 0.22595530157632884 \u001b[35m|\u001b[0m\u001b[38;5;183m  4.340738296508789  \u001b[35m|\u001b[0m\u001b[38;5;183m\n",
      "\u001b[35m|\u001b[0m\u001b[38;5;183m               VotingClassifier              \u001b[35m|\u001b[0m\u001b[38;5;183m PassiveAggressiveClassifier(C=0.5, loss='squared_hinge') \u001b[35m|\u001b[0m\u001b[38;5;183m  0.1422318960533681 \u001b[35m|\u001b[0m\u001b[38;5;183m 0.21372819100091828 \u001b[35m|\u001b[0m\u001b[38;5;183m  0.4812139012500161 \u001b[35m|\u001b[0m\u001b[38;5;183m 0.22498674416926462 \u001b[35m|\u001b[0m\u001b[38;5;183m  4.741823434829712  \u001b[35m|\u001b[0m\u001b[38;5;183m\n",
      "\u001b[35m|\u001b[0m\u001b[38;5;183m                    SVC_2                    \u001b[35m|\u001b[0m\u001b[38;5;183m                  SVC(kernel='sigmoid')                   \u001b[35m|\u001b[0m\u001b[38;5;183m  0.1401104389980817 \u001b[35m|\u001b[0m\u001b[38;5;183m 0.33746556473829203 \u001b[35m|\u001b[0m\u001b[38;5;183m 0.12591039722110017 \u001b[35m|\u001b[0m\u001b[38;5;183m 0.19908351587813422 \u001b[35m|\u001b[0m\u001b[38;5;183m  282.41534185409546 \u001b[35m|\u001b[0m\u001b[38;5;183m\n",
      "\u001b[35m|\u001b[0m\u001b[38;5;183m                ComplementNB_3               \u001b[35m|\u001b[0m\u001b[38;5;183m                      ComplementNB()                      \u001b[35m|\u001b[0m\u001b[38;5;183m 0.13896574693903657 \u001b[35m|\u001b[0m\u001b[38;5;183m  0.3635215794306703 \u001b[35m|\u001b[0m\u001b[38;5;183m  0.5424762270272911 \u001b[35m|\u001b[0m\u001b[38;5;183m  0.2142195634485001 \u001b[35m|\u001b[0m\u001b[38;5;183m 0.18838095664978027 \u001b[35m|\u001b[0m\u001b[38;5;183m\n",
      "\u001b[35m|\u001b[0m\u001b[38;5;183m                ComplementNB_4               \u001b[35m|\u001b[0m\u001b[38;5;183m              ComplementNB(fit_prior=False)               \u001b[35m|\u001b[0m\u001b[38;5;183m 0.13896574693903657 \u001b[35m|\u001b[0m\u001b[38;5;183m  0.3635215794306703 \u001b[35m|\u001b[0m\u001b[38;5;183m  0.5424762270272911 \u001b[35m|\u001b[0m\u001b[38;5;183m  0.2142195634485001 \u001b[35m|\u001b[0m\u001b[38;5;183m 0.17053484916687012 \u001b[35m|\u001b[0m\u001b[38;5;183m\n",
      "\u001b[35m|\u001b[0m\u001b[38;5;183m             LogisticRegression_1            \u001b[35m|\u001b[0m\u001b[38;5;183m                LogisticRegression(C=0.5)                 \u001b[35m|\u001b[0m\u001b[38;5;183m 0.13613644326358706 \u001b[35m|\u001b[0m\u001b[38;5;183m 0.33964646464646464 \u001b[35m|\u001b[0m\u001b[38;5;183m 0.12553596189934885 \u001b[35m|\u001b[0m\u001b[38;5;183m 0.19924171770954655 \u001b[35m|\u001b[0m\u001b[38;5;183m  19.72800588607788  \u001b[35m|\u001b[0m\u001b[38;5;183m\n",
      "\u001b[35m|\u001b[0m\u001b[38;5;183m               SGDClassifier_4               \u001b[35m|\u001b[0m\u001b[38;5;183m     SGDClassifier(alpha=0.001, loss='squared_hinge')     \u001b[35m|\u001b[0m\u001b[38;5;183m 0.13501938941263852 \u001b[35m|\u001b[0m\u001b[38;5;183m  0.3381542699724518 \u001b[35m|\u001b[0m\u001b[38;5;183m 0.12449214521452143 \u001b[35m|\u001b[0m\u001b[38;5;183m 0.19825598237759762 \u001b[35m|\u001b[0m\u001b[38;5;183m  0.8949465751647949 \u001b[35m|\u001b[0m\u001b[38;5;183m\n",
      "\u001b[35m|\u001b[0m\u001b[38;5;183m         MultinomialNB_on_new_split_2        \u001b[35m|\u001b[0m\u001b[38;5;183m        MultinomialNB(alpha=0.5, fit_prior=False)         \u001b[35m|\u001b[0m\u001b[38;5;183m  0.1332114805129734 \u001b[35m|\u001b[0m\u001b[38;5;183m  0.3638033991731741 \u001b[35m|\u001b[0m\u001b[38;5;183m   0.33914729625573  \u001b[35m|\u001b[0m\u001b[38;5;183m 0.21030933275678382 \u001b[35m|\u001b[0m\u001b[38;5;183m  0.1381378173828125 \u001b[35m|\u001b[0m\u001b[38;5;183m\n",
      "\u001b[35m|\u001b[0m\u001b[38;5;183m               MultinomialNB_2               \u001b[35m|\u001b[0m\u001b[38;5;183m        MultinomialNB(alpha=0.5, fit_prior=False)         \u001b[35m|\u001b[0m\u001b[38;5;183m  0.1273609830242561 \u001b[35m|\u001b[0m\u001b[38;5;183m 0.35858585858585856 \u001b[35m|\u001b[0m\u001b[38;5;183m  0.5219899767251919 \u001b[35m|\u001b[0m\u001b[38;5;183m  0.208298060694274  \u001b[35m|\u001b[0m\u001b[38;5;183m 0.16252899169921875 \u001b[35m|\u001b[0m\u001b[38;5;183m\n",
      "\u001b[35m|\u001b[0m\u001b[38;5;183m                ComplementNB_1               \u001b[35m|\u001b[0m\u001b[38;5;183m                 ComplementNB(alpha=0.5)                  \u001b[35m|\u001b[0m\u001b[38;5;183m  0.1271435643753398 \u001b[35m|\u001b[0m\u001b[38;5;183m 0.34297520661157027 \u001b[35m|\u001b[0m\u001b[38;5;183m 0.16315307713239102 \u001b[35m|\u001b[0m\u001b[38;5;183m 0.19933241532369989 \u001b[35m|\u001b[0m\u001b[38;5;183m 0.16799378395080566 \u001b[35m|\u001b[0m\u001b[38;5;183m\n",
      "\u001b[35m|\u001b[0m\u001b[38;5;183m                ComplementNB_2               \u001b[35m|\u001b[0m\u001b[38;5;183m         ComplementNB(alpha=0.5, fit_prior=False)         \u001b[35m|\u001b[0m\u001b[38;5;183m  0.1271435643753398 \u001b[35m|\u001b[0m\u001b[38;5;183m 0.34297520661157027 \u001b[35m|\u001b[0m\u001b[38;5;183m 0.16315307713239102 \u001b[35m|\u001b[0m\u001b[38;5;183m 0.19933241532369989 \u001b[35m|\u001b[0m\u001b[38;5;183m 0.15550637245178223 \u001b[35m|\u001b[0m\u001b[38;5;183m\n",
      "\u001b[35m|\u001b[0m\u001b[38;5;183m           RandomForestClassifier_1          \u001b[35m|\u001b[0m\u001b[38;5;183m          RandomForestClassifier(max_depth=100)           \u001b[35m|\u001b[0m\u001b[38;5;183m 0.11857740897988575 \u001b[35m|\u001b[0m\u001b[38;5;183m 0.34573002754820936 \u001b[35m|\u001b[0m\u001b[38;5;183m 0.12481718943358659 \u001b[35m|\u001b[0m\u001b[38;5;183m 0.19946848509549664 \u001b[35m|\u001b[0m\u001b[38;5;183m  36.93953323364258  \u001b[35m|\u001b[0m\u001b[38;5;183m\n",
      "\u001b[35m|\u001b[0m\u001b[38;5;183m         MultinomialNB_on_new_split_4        \u001b[35m|\u001b[0m\u001b[38;5;183m              MultinomialNB(fit_prior=False)              \u001b[35m|\u001b[0m\u001b[38;5;183m 0.11572643077449216 \u001b[35m|\u001b[0m\u001b[38;5;183m 0.35676006737099986 \u001b[35m|\u001b[0m\u001b[38;5;183m  0.3608223986804403 \u001b[35m|\u001b[0m\u001b[38;5;183m 0.20363372321606543 \u001b[35m|\u001b[0m\u001b[38;5;183m 0.14256501197814941 \u001b[35m|\u001b[0m\u001b[38;5;183m\n",
      "\u001b[35m|\u001b[0m\u001b[38;5;183m               MultinomialNB_4               \u001b[35m|\u001b[0m\u001b[38;5;183m              MultinomialNB(fit_prior=False)              \u001b[35m|\u001b[0m\u001b[38;5;183m 0.11391014599586449 \u001b[35m|\u001b[0m\u001b[38;5;183m  0.3538797061524334 \u001b[35m|\u001b[0m\u001b[38;5;183m 0.37393178117532616 \u001b[35m|\u001b[0m\u001b[38;5;183m  0.2036080906731673 \u001b[35m|\u001b[0m\u001b[38;5;183m 0.18023467063903809 \u001b[35m|\u001b[0m\u001b[38;5;183m\n",
      "\u001b[35m|\u001b[0m\u001b[38;5;183m         MultinomialNB_on_new_split_1        \u001b[35m|\u001b[0m\u001b[38;5;183m                 MultinomialNB(alpha=0.5)                 \u001b[35m|\u001b[0m\u001b[38;5;183m 0.11264699863642975 \u001b[35m|\u001b[0m\u001b[38;5;183m  0.3553820241923136 \u001b[35m|\u001b[0m\u001b[38;5;183m  0.1578060325327319 \u001b[35m|\u001b[0m\u001b[38;5;183m 0.20243491296688565 \u001b[35m|\u001b[0m\u001b[38;5;183m  0.1410822868347168 \u001b[35m|\u001b[0m\u001b[38;5;183m\n",
      "\u001b[35m|\u001b[0m\u001b[38;5;183m                ComplementNB_3               \u001b[35m|\u001b[0m\u001b[38;5;183m                      ComplementNB()                      \u001b[35m|\u001b[0m\u001b[38;5;183m 0.11178225151297236 \u001b[35m|\u001b[0m\u001b[38;5;183m  0.3453856749311295 \u001b[35m|\u001b[0m\u001b[38;5;183m 0.11521697944135793 \u001b[35m|\u001b[0m\u001b[38;5;183m  0.1984328023942037 \u001b[35m|\u001b[0m\u001b[38;5;183m 0.16272354125976562 \u001b[35m|\u001b[0m\u001b[38;5;183m\n",
      "\u001b[35m|\u001b[0m\u001b[38;5;183m                ComplementNB_4               \u001b[35m|\u001b[0m\u001b[38;5;183m              ComplementNB(fit_prior=False)               \u001b[35m|\u001b[0m\u001b[38;5;183m 0.11178225151297236 \u001b[35m|\u001b[0m\u001b[38;5;183m  0.3453856749311295 \u001b[35m|\u001b[0m\u001b[38;5;183m 0.11521697944135793 \u001b[35m|\u001b[0m\u001b[38;5;183m  0.1984328023942037 \u001b[35m|\u001b[0m\u001b[38;5;183m 0.15672039985656738 \u001b[35m|\u001b[0m\u001b[38;5;183m\n",
      "\u001b[35m|\u001b[0m\u001b[38;5;183m               MultinomialNB_1               \u001b[35m|\u001b[0m\u001b[38;5;183m                 MultinomialNB(alpha=0.5)                 \u001b[35m|\u001b[0m\u001b[38;5;183m 0.11096695516354471 \u001b[35m|\u001b[0m\u001b[38;5;183m  0.3530762167125803 \u001b[35m|\u001b[0m\u001b[38;5;183m 0.38910532623627453 \u001b[35m|\u001b[0m\u001b[38;5;183m 0.20265256720405883 \u001b[35m|\u001b[0m\u001b[38;5;183m  0.1635754108428955 \u001b[35m|\u001b[0m\u001b[38;5;183m\n",
      "\u001b[35m|\u001b[0m\u001b[38;5;183m               MultinomialNB_2               \u001b[35m|\u001b[0m\u001b[38;5;183m        MultinomialNB(alpha=0.5, fit_prior=False)         \u001b[35m|\u001b[0m\u001b[38;5;183m 0.11022880009775171 \u001b[35m|\u001b[0m\u001b[38;5;183m  0.3451561065197429 \u001b[35m|\u001b[0m\u001b[38;5;183m 0.11326561803256911 \u001b[35m|\u001b[0m\u001b[38;5;183m 0.19813965827718757 \u001b[35m|\u001b[0m\u001b[38;5;183m 0.14621567726135254 \u001b[35m|\u001b[0m\u001b[38;5;183m\n",
      "\u001b[35m|\u001b[0m\u001b[38;5;183m         MultinomialNB_on_new_split_3        \u001b[35m|\u001b[0m\u001b[38;5;183m                     MultinomialNB()                      \u001b[35m|\u001b[0m\u001b[38;5;183m 0.10671947612549033 \u001b[35m|\u001b[0m\u001b[38;5;183m  0.3536977491961415 \u001b[35m|\u001b[0m\u001b[38;5;183m 0.17064065140574589 \u001b[35m|\u001b[0m\u001b[38;5;183m  0.2008476297241654 \u001b[35m|\u001b[0m\u001b[38;5;183m 0.14767694473266602 \u001b[35m|\u001b[0m\u001b[38;5;183m\n",
      "\u001b[35m|\u001b[0m\u001b[38;5;183m               MultinomialNB_3               \u001b[35m|\u001b[0m\u001b[38;5;183m                     MultinomialNB()                      \u001b[35m|\u001b[0m\u001b[38;5;183m 0.10543566261284398 \u001b[35m|\u001b[0m\u001b[38;5;183m  0.3506657483930211 \u001b[35m|\u001b[0m\u001b[38;5;183m 0.21666781648844427 \u001b[35m|\u001b[0m\u001b[38;5;183m 0.20068697411373418 \u001b[35m|\u001b[0m\u001b[38;5;183m 0.18601012229919434 \u001b[35m|\u001b[0m\u001b[38;5;183m\n",
      "\u001b[35m|\u001b[0m\u001b[38;5;183m               MultinomialNB_4               \u001b[35m|\u001b[0m\u001b[38;5;183m              MultinomialNB(fit_prior=False)              \u001b[35m|\u001b[0m\u001b[38;5;183m 0.10530847331882791 \u001b[35m|\u001b[0m\u001b[38;5;183m  0.3469926538108356 \u001b[35m|\u001b[0m\u001b[38;5;183m 0.10125077041150723 \u001b[35m|\u001b[0m\u001b[38;5;183m 0.19863069313314655 \u001b[35m|\u001b[0m\u001b[38;5;183m 0.16386795043945312 \u001b[35m|\u001b[0m\u001b[38;5;183m\n",
      "\u001b[35m|\u001b[0m\u001b[38;5;183m              SVC_on_new_split_1             \u001b[35m|\u001b[0m\u001b[38;5;183m                    SVC(kernel='poly')                    \u001b[35m|\u001b[0m\u001b[38;5;183m 0.10473661110980051 \u001b[35m|\u001b[0m\u001b[38;5;183m  0.3529321696524269 \u001b[35m|\u001b[0m\u001b[38;5;183m 0.27054679123908715 \u001b[35m|\u001b[0m\u001b[38;5;183m  0.2002172732210755 \u001b[35m|\u001b[0m\u001b[38;5;183m   461.925812959671  \u001b[35m|\u001b[0m\u001b[38;5;183m\n",
      "\u001b[35m|\u001b[0m\u001b[38;5;183m               MultinomialNB_1               \u001b[35m|\u001b[0m\u001b[38;5;183m                 MultinomialNB(alpha=0.5)                 \u001b[35m|\u001b[0m\u001b[38;5;183m 0.10459950293621315 \u001b[35m|\u001b[0m\u001b[38;5;183m 0.34733700642791554 \u001b[35m|\u001b[0m\u001b[38;5;183m 0.09789835800185014 \u001b[35m|\u001b[0m\u001b[38;5;183m 0.19875403201721314 \u001b[35m|\u001b[0m\u001b[38;5;183m 0.14223384857177734 \u001b[35m|\u001b[0m\u001b[38;5;183m\n",
      "\u001b[35m|\u001b[0m\u001b[38;5;183m                    SVC_1                    \u001b[35m|\u001b[0m\u001b[38;5;183m                    SVC(kernel='poly')                    \u001b[35m|\u001b[0m\u001b[38;5;183m  0.104333899742912  \u001b[35m|\u001b[0m\u001b[38;5;183m 0.35020661157024796 \u001b[35m|\u001b[0m\u001b[38;5;183m 0.22998966348914668 \u001b[35m|\u001b[0m\u001b[38;5;183m 0.20032141422257937 \u001b[35m|\u001b[0m\u001b[38;5;183m  343.45747423171997 \u001b[35m|\u001b[0m\u001b[38;5;183m\n",
      "\u001b[35m|\u001b[0m\u001b[38;5;183m         SGDClassifier_on_new_split_6        \u001b[35m|\u001b[0m\u001b[38;5;183m     SGDClassifier(alpha=0.01, loss='squared_hinge')      \u001b[35m|\u001b[0m\u001b[38;5;183m 0.10427892234548335 \u001b[35m|\u001b[0m\u001b[38;5;183m 0.35262593783494106 \u001b[35m|\u001b[0m\u001b[38;5;183m 0.07052518756698821 \u001b[35m|\u001b[0m\u001b[38;5;183m         0.2         \u001b[35m|\u001b[0m\u001b[38;5;183m  0.7528932094573975 \u001b[35m|\u001b[0m\u001b[38;5;183m\n",
      "\u001b[35m|\u001b[0m\u001b[38;5;183m               MultinomialNB_3               \u001b[35m|\u001b[0m\u001b[38;5;183m                     MultinomialNB()                      \u001b[35m|\u001b[0m\u001b[38;5;183m 0.10392912495743958 \u001b[35m|\u001b[0m\u001b[38;5;183m 0.34951790633608815 \u001b[35m|\u001b[0m\u001b[38;5;183m 0.10630961958395586 \u001b[35m|\u001b[0m\u001b[38;5;183m 0.19989815378014428 \u001b[35m|\u001b[0m\u001b[38;5;183m 0.16192388534545898 \u001b[35m|\u001b[0m\u001b[38;5;183m\n",
      "\u001b[35m|\u001b[0m\u001b[38;5;183m                    SVC_1                    \u001b[35m|\u001b[0m\u001b[38;5;183m                    SVC(kernel='poly')                    \u001b[35m|\u001b[0m\u001b[38;5;183m 0.10381107376867597 \u001b[35m|\u001b[0m\u001b[38;5;183m  0.3496326905417815 \u001b[35m|\u001b[0m\u001b[38;5;183m 0.10330116421568628 \u001b[35m|\u001b[0m\u001b[38;5;183m 0.19994907689007216 \u001b[35m|\u001b[0m\u001b[38;5;183m  322.3327965736389  \u001b[35m|\u001b[0m\u001b[38;5;183m\n",
      "\u001b[35m|\u001b[0m\u001b[38;5;183m               SGDClassifier_6               \u001b[35m|\u001b[0m\u001b[38;5;183m     SGDClassifier(alpha=0.01, loss='squared_hinge')      \u001b[35m|\u001b[0m\u001b[38;5;183m 0.10364826941066416 \u001b[35m|\u001b[0m\u001b[38;5;183m 0.34974747474747475 \u001b[35m|\u001b[0m\u001b[38;5;183m 0.06994949494949496 \u001b[35m|\u001b[0m\u001b[38;5;183m         0.2         \u001b[35m|\u001b[0m\u001b[38;5;183m  0.7806122303009033 \u001b[35m|\u001b[0m\u001b[38;5;183m\n",
      "\u001b[35m|\u001b[0m\u001b[38;5;183m               SGDClassifier_6               \u001b[35m|\u001b[0m\u001b[38;5;183m     SGDClassifier(alpha=0.01, loss='squared_hinge')      \u001b[35m|\u001b[0m\u001b[38;5;183m 0.10364826941066416 \u001b[35m|\u001b[0m\u001b[38;5;183m 0.34974747474747475 \u001b[35m|\u001b[0m\u001b[38;5;183m 0.06994949494949496 \u001b[35m|\u001b[0m\u001b[38;5;183m         0.2         \u001b[35m|\u001b[0m\u001b[38;5;183m  0.6351890563964844 \u001b[35m|\u001b[0m\u001b[38;5;183m\n",
      "\u001b[38;5;219m+\u001b[0m\u001b[38;5;183m\u001b[38;5;147m-\u001b[0m\u001b[38;5;183m\u001b[38;5;147m-\u001b[0m\u001b[38;5;183m\u001b[38;5;147m-\u001b[0m\u001b[38;5;183m\u001b[38;5;147m-\u001b[0m\u001b[38;5;183m\u001b[38;5;147m-\u001b[0m\u001b[38;5;183m\u001b[38;5;147m-\u001b[0m\u001b[38;5;183m\u001b[38;5;147m-\u001b[0m\u001b[38;5;183m\u001b[38;5;147m-\u001b[0m\u001b[38;5;183m\u001b[38;5;147m-\u001b[0m\u001b[38;5;183m\u001b[38;5;147m-\u001b[0m\u001b[38;5;183m\u001b[38;5;147m-\u001b[0m\u001b[38;5;183m\u001b[38;5;147m-\u001b[0m\u001b[38;5;183m\u001b[38;5;147m-\u001b[0m\u001b[38;5;183m\u001b[38;5;147m-\u001b[0m\u001b[38;5;183m\u001b[38;5;147m-\u001b[0m\u001b[38;5;183m\u001b[38;5;147m-\u001b[0m\u001b[38;5;183m\u001b[38;5;147m-\u001b[0m\u001b[38;5;183m\u001b[38;5;147m-\u001b[0m\u001b[38;5;183m\u001b[38;5;147m-\u001b[0m\u001b[38;5;183m\u001b[38;5;147m-\u001b[0m\u001b[38;5;183m\u001b[38;5;147m-\u001b[0m\u001b[38;5;183m\u001b[38;5;147m-\u001b[0m\u001b[38;5;183m\u001b[38;5;147m-\u001b[0m\u001b[38;5;183m\u001b[38;5;147m-\u001b[0m\u001b[38;5;183m\u001b[38;5;147m-\u001b[0m\u001b[38;5;183m\u001b[38;5;147m-\u001b[0m\u001b[38;5;183m\u001b[38;5;147m-\u001b[0m\u001b[38;5;183m\u001b[38;5;147m-\u001b[0m\u001b[38;5;183m\u001b[38;5;147m-\u001b[0m\u001b[38;5;183m\u001b[38;5;147m-\u001b[0m\u001b[38;5;183m\u001b[38;5;147m-\u001b[0m\u001b[38;5;183m\u001b[38;5;147m-\u001b[0m\u001b[38;5;183m\u001b[38;5;147m-\u001b[0m\u001b[38;5;183m\u001b[38;5;147m-\u001b[0m\u001b[38;5;183m\u001b[38;5;147m-\u001b[0m\u001b[38;5;183m\u001b[38;5;147m-\u001b[0m\u001b[38;5;183m\u001b[38;5;147m-\u001b[0m\u001b[38;5;183m\u001b[38;5;147m-\u001b[0m\u001b[38;5;183m\u001b[38;5;147m-\u001b[0m\u001b[38;5;183m\u001b[38;5;147m-\u001b[0m\u001b[38;5;183m\u001b[38;5;147m-\u001b[0m\u001b[38;5;183m\u001b[38;5;147m-\u001b[0m\u001b[38;5;183m\u001b[38;5;147m-\u001b[0m\u001b[38;5;183m\u001b[38;5;147m-\u001b[0m\u001b[38;5;183m\u001b[38;5;147m-\u001b[0m\u001b[38;5;183m\u001b[38;5;219m+\u001b[0m\u001b[38;5;183m\u001b[38;5;147m-\u001b[0m\u001b[38;5;183m\u001b[38;5;147m-\u001b[0m\u001b[38;5;183m\u001b[38;5;147m-\u001b[0m\u001b[38;5;183m\u001b[38;5;147m-\u001b[0m\u001b[38;5;183m\u001b[38;5;147m-\u001b[0m\u001b[38;5;183m\u001b[38;5;147m-\u001b[0m\u001b[38;5;183m\u001b[38;5;147m-\u001b[0m\u001b[38;5;183m\u001b[38;5;147m-\u001b[0m\u001b[38;5;183m\u001b[38;5;147m-\u001b[0m\u001b[38;5;183m\u001b[38;5;147m-\u001b[0m\u001b[38;5;183m\u001b[38;5;147m-\u001b[0m\u001b[38;5;183m\u001b[38;5;147m-\u001b[0m\u001b[38;5;183m\u001b[38;5;147m-\u001b[0m\u001b[38;5;183m\u001b[38;5;147m-\u001b[0m\u001b[38;5;183m\u001b[38;5;147m-\u001b[0m\u001b[38;5;183m\u001b[38;5;147m-\u001b[0m\u001b[38;5;183m\u001b[38;5;147m-\u001b[0m\u001b[38;5;183m\u001b[38;5;147m-\u001b[0m\u001b[38;5;183m\u001b[38;5;147m-\u001b[0m\u001b[38;5;183m\u001b[38;5;147m-\u001b[0m\u001b[38;5;183m\u001b[38;5;147m-\u001b[0m\u001b[38;5;183m\u001b[38;5;147m-\u001b[0m\u001b[38;5;183m\u001b[38;5;147m-\u001b[0m\u001b[38;5;183m\u001b[38;5;147m-\u001b[0m\u001b[38;5;183m\u001b[38;5;147m-\u001b[0m\u001b[38;5;183m\u001b[38;5;147m-\u001b[0m\u001b[38;5;183m\u001b[38;5;147m-\u001b[0m\u001b[38;5;183m\u001b[38;5;147m-\u001b[0m\u001b[38;5;183m\u001b[38;5;147m-\u001b[0m\u001b[38;5;183m\u001b[38;5;147m-\u001b[0m\u001b[38;5;183m\u001b[38;5;147m-\u001b[0m\u001b[38;5;183m\u001b[38;5;147m-\u001b[0m\u001b[38;5;183m\u001b[38;5;147m-\u001b[0m\u001b[38;5;183m\u001b[38;5;147m-\u001b[0m\u001b[38;5;183m\u001b[38;5;147m-\u001b[0m\u001b[38;5;183m\u001b[38;5;147m-\u001b[0m\u001b[38;5;183m\u001b[38;5;147m-\u001b[0m\u001b[38;5;183m\u001b[38;5;147m-\u001b[0m\u001b[38;5;183m\u001b[38;5;147m-\u001b[0m\u001b[38;5;183m\u001b[38;5;147m-\u001b[0m\u001b[38;5;183m\u001b[38;5;147m-\u001b[0m\u001b[38;5;183m\u001b[38;5;147m-\u001b[0m\u001b[38;5;183m\u001b[38;5;147m-\u001b[0m\u001b[38;5;183m\u001b[38;5;147m-\u001b[0m\u001b[38;5;183m\u001b[38;5;147m-\u001b[0m\u001b[38;5;183m\u001b[38;5;147m-\u001b[0m\u001b[38;5;183m\u001b[38;5;147m-\u001b[0m\u001b[38;5;183m\u001b[38;5;147m-\u001b[0m\u001b[38;5;183m\u001b[38;5;147m-\u001b[0m\u001b[38;5;183m\u001b[38;5;147m-\u001b[0m\u001b[38;5;183m\u001b[38;5;147m-\u001b[0m\u001b[38;5;183m\u001b[38;5;147m-\u001b[0m\u001b[38;5;183m\u001b[38;5;147m-\u001b[0m\u001b[38;5;183m\u001b[38;5;147m-\u001b[0m\u001b[38;5;183m\u001b[38;5;147m-\u001b[0m\u001b[38;5;183m\u001b[38;5;147m-\u001b[0m\u001b[38;5;183m\u001b[38;5;147m-\u001b[0m\u001b[38;5;183m\u001b[38;5;147m-\u001b[0m\u001b[38;5;183m\u001b[38;5;219m+\u001b[0m\u001b[38;5;183m\u001b[38;5;147m-\u001b[0m\u001b[38;5;183m\u001b[38;5;147m-\u001b[0m\u001b[38;5;183m\u001b[38;5;147m-\u001b[0m\u001b[38;5;183m\u001b[38;5;147m-\u001b[0m\u001b[38;5;183m\u001b[38;5;147m-\u001b[0m\u001b[38;5;183m\u001b[38;5;147m-\u001b[0m\u001b[38;5;183m\u001b[38;5;147m-\u001b[0m\u001b[38;5;183m\u001b[38;5;147m-\u001b[0m\u001b[38;5;183m\u001b[38;5;147m-\u001b[0m\u001b[38;5;183m\u001b[38;5;147m-\u001b[0m\u001b[38;5;183m\u001b[38;5;147m-\u001b[0m\u001b[38;5;183m\u001b[38;5;147m-\u001b[0m\u001b[38;5;183m\u001b[38;5;147m-\u001b[0m\u001b[38;5;183m\u001b[38;5;147m-\u001b[0m\u001b[38;5;183m\u001b[38;5;147m-\u001b[0m\u001b[38;5;183m\u001b[38;5;147m-\u001b[0m\u001b[38;5;183m\u001b[38;5;147m-\u001b[0m\u001b[38;5;183m\u001b[38;5;147m-\u001b[0m\u001b[38;5;183m\u001b[38;5;147m-\u001b[0m\u001b[38;5;183m\u001b[38;5;147m-\u001b[0m\u001b[38;5;183m\u001b[38;5;147m-\u001b[0m\u001b[38;5;183m\u001b[38;5;219m+\u001b[0m\u001b[38;5;183m\u001b[38;5;147m-\u001b[0m\u001b[38;5;183m\u001b[38;5;147m-\u001b[0m\u001b[38;5;183m\u001b[38;5;147m-\u001b[0m\u001b[38;5;183m\u001b[38;5;147m-\u001b[0m\u001b[38;5;183m\u001b[38;5;147m-\u001b[0m\u001b[38;5;183m\u001b[38;5;147m-\u001b[0m\u001b[38;5;183m\u001b[38;5;147m-\u001b[0m\u001b[38;5;183m\u001b[38;5;147m-\u001b[0m\u001b[38;5;183m\u001b[38;5;147m-\u001b[0m\u001b[38;5;183m\u001b[38;5;147m-\u001b[0m\u001b[38;5;183m\u001b[38;5;147m-\u001b[0m\u001b[38;5;183m\u001b[38;5;147m-\u001b[0m\u001b[38;5;183m\u001b[38;5;147m-\u001b[0m\u001b[38;5;183m\u001b[38;5;147m-\u001b[0m\u001b[38;5;183m\u001b[38;5;147m-\u001b[0m\u001b[38;5;183m\u001b[38;5;147m-\u001b[0m\u001b[38;5;183m\u001b[38;5;147m-\u001b[0m\u001b[38;5;183m\u001b[38;5;147m-\u001b[0m\u001b[38;5;183m\u001b[38;5;147m-\u001b[0m\u001b[38;5;183m\u001b[38;5;147m-\u001b[0m\u001b[38;5;183m\u001b[38;5;147m-\u001b[0m\u001b[38;5;183m\u001b[38;5;219m+\u001b[0m\u001b[38;5;183m\u001b[38;5;147m-\u001b[0m\u001b[38;5;183m\u001b[38;5;147m-\u001b[0m\u001b[38;5;183m\u001b[38;5;147m-\u001b[0m\u001b[38;5;183m\u001b[38;5;147m-\u001b[0m\u001b[38;5;183m\u001b[38;5;147m-\u001b[0m\u001b[38;5;183m\u001b[38;5;147m-\u001b[0m\u001b[38;5;183m\u001b[38;5;147m-\u001b[0m\u001b[38;5;183m\u001b[38;5;147m-\u001b[0m\u001b[38;5;183m\u001b[38;5;147m-\u001b[0m\u001b[38;5;183m\u001b[38;5;147m-\u001b[0m\u001b[38;5;183m\u001b[38;5;147m-\u001b[0m\u001b[38;5;183m\u001b[38;5;147m-\u001b[0m\u001b[38;5;183m\u001b[38;5;147m-\u001b[0m\u001b[38;5;183m\u001b[38;5;147m-\u001b[0m\u001b[38;5;183m\u001b[38;5;147m-\u001b[0m\u001b[38;5;183m\u001b[38;5;147m-\u001b[0m\u001b[38;5;183m\u001b[38;5;147m-\u001b[0m\u001b[38;5;183m\u001b[38;5;147m-\u001b[0m\u001b[38;5;183m\u001b[38;5;147m-\u001b[0m\u001b[38;5;183m\u001b[38;5;147m-\u001b[0m\u001b[38;5;183m\u001b[38;5;147m-\u001b[0m\u001b[38;5;183m\u001b[38;5;219m+\u001b[0m\u001b[38;5;183m\u001b[38;5;147m-\u001b[0m\u001b[38;5;183m\u001b[38;5;147m-\u001b[0m\u001b[38;5;183m\u001b[38;5;147m-\u001b[0m\u001b[38;5;183m\u001b[38;5;147m-\u001b[0m\u001b[38;5;183m\u001b[38;5;147m-\u001b[0m\u001b[38;5;183m\u001b[38;5;147m-\u001b[0m\u001b[38;5;183m\u001b[38;5;147m-\u001b[0m\u001b[38;5;183m\u001b[38;5;147m-\u001b[0m\u001b[38;5;183m\u001b[38;5;147m-\u001b[0m\u001b[38;5;183m\u001b[38;5;147m-\u001b[0m\u001b[38;5;183m\u001b[38;5;147m-\u001b[0m\u001b[38;5;183m\u001b[38;5;147m-\u001b[0m\u001b[38;5;183m\u001b[38;5;147m-\u001b[0m\u001b[38;5;183m\u001b[38;5;147m-\u001b[0m\u001b[38;5;183m\u001b[38;5;147m-\u001b[0m\u001b[38;5;183m\u001b[38;5;147m-\u001b[0m\u001b[38;5;183m\u001b[38;5;147m-\u001b[0m\u001b[38;5;183m\u001b[38;5;147m-\u001b[0m\u001b[38;5;183m\u001b[38;5;147m-\u001b[0m\u001b[38;5;183m\u001b[38;5;147m-\u001b[0m\u001b[38;5;183m\u001b[38;5;147m-\u001b[0m\u001b[38;5;183m\u001b[38;5;219m+\u001b[0m\u001b[38;5;183m\u001b[38;5;147m-\u001b[0m\u001b[38;5;183m\u001b[38;5;147m-\u001b[0m\u001b[38;5;183m\u001b[38;5;147m-\u001b[0m\u001b[38;5;183m\u001b[38;5;147m-\u001b[0m\u001b[38;5;183m\u001b[38;5;147m-\u001b[0m\u001b[38;5;183m\u001b[38;5;147m-\u001b[0m\u001b[38;5;183m\u001b[38;5;147m-\u001b[0m\u001b[38;5;183m\u001b[38;5;147m-\u001b[0m\u001b[38;5;183m\u001b[38;5;147m-\u001b[0m\u001b[38;5;183m\u001b[38;5;147m-\u001b[0m\u001b[38;5;183m\u001b[38;5;147m-\u001b[0m\u001b[38;5;183m\u001b[38;5;147m-\u001b[0m\u001b[38;5;183m\u001b[38;5;147m-\u001b[0m\u001b[38;5;183m\u001b[38;5;147m-\u001b[0m\u001b[38;5;183m\u001b[38;5;147m-\u001b[0m\u001b[38;5;183m\u001b[38;5;147m-\u001b[0m\u001b[38;5;183m\u001b[38;5;147m-\u001b[0m\u001b[38;5;183m\u001b[38;5;147m-\u001b[0m\u001b[38;5;183m\u001b[38;5;147m-\u001b[0m\u001b[38;5;183m\u001b[38;5;147m-\u001b[0m\u001b[38;5;183m\u001b[38;5;147m-\u001b[0m\u001b[38;5;183m\u001b[38;5;219m+\u001b[0m\u001b[38;5;183m\u001b[0m\n"
     ]
    }
   ],
   "source": [
    "def table_results(models):\n",
    "\n",
    "    bests_of_the_bests = ColorTable(theme=Themes.LAVENDER)\n",
    "    bests_of_the_bests.field_names = [\"Algorithme\", \"Hyperparamètres\", \"Macro f1\", \"Accuracy\", \"Precision\", \"Rappel\", \"Temps d'exécution\"]\n",
    "\n",
    "    models = [model for model in models if \"macro avg\" in model.scores and \"f1-score\" in model.scores[\"macro avg\"]]\n",
    "    best_models = sorted(models, key=lambda x: x.scores[\"macro avg\"][\"f1-score\"], reverse=True)\n",
    "    \n",
    "    for model in best_models:\n",
    "        bests_of_the_bests.add_row([model.name, model.model, model.scores[\"macro avg\"][\"f1-score\"], model.scores[\"accuracy\"], model.scores[\"macro avg\"][\"precision\"], model.scores[\"macro avg\"][\"recall\"], model.running_time])\n",
    "\n",
    "    return bests_of_the_bests\n",
    "\n",
    "print(table_results(Model.all_models))"
   ]
  },
  {
   "cell_type": "code",
   "execution_count": null,
   "metadata": {},
   "outputs": [],
   "source": [
    "                                                                                                                                                                                                                                                                                                                                                                                                                                                                                        # si on enlève les doublons                                                                                                                                                                                                                                                                                                                                                                                                                                                                                                                                                                                                                                                                                                                                                                                                                                                                                                                                                                                                                                                                                                                                                                                                                                                                                                                                                                                                                                                                                                                                                                                                                                                                                                                                                                                                                                                         "
   ]
  }
 ],
 "metadata": {
  "kernelspec": {
   "display_name": "app_auto_dm_test",
   "language": "python",
   "name": "python3"
  },
  "language_info": {
   "codemirror_mode": {
    "name": "ipython",
    "version": 3
   },
   "file_extension": ".py",
   "mimetype": "text/x-python",
   "name": "python",
   "nbconvert_exporter": "python",
   "pygments_lexer": "ipython3",
   "version": "3.12.8"
  }
 },
 "nbformat": 4,
 "nbformat_minor": 2
}
